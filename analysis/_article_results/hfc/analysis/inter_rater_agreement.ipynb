{
 "cells": [
  {
   "metadata": {},
   "cell_type": "markdown",
   "source": [
    "# Inter-Rater Agreement\n",
    "#### Measure the agreement among pairs of raters of the HFC dataset (focusing only on 5/12 raters to simplify the analysis)."
   ],
   "id": "7e468377f5bfc2c1"
  },
  {
   "metadata": {
    "ExecuteTime": {
     "end_time": "2024-12-05T13:22:15.528700Z",
     "start_time": "2024-12-05T13:22:14.352392Z"
    }
   },
   "cell_type": "code",
   "source": [
    "from typing import Optional, List\n",
    "\n",
    "import numpy as np\n",
    "import pandas as pd\n",
    "import tqdm\n",
    "\n",
    "import peyes\n",
    "import analysis.utils as u\n",
    "from analysis._article_results.hfc._helpers import *\n",
    "\n",
    "GT_LABELERS = [GT1, GT2, GT3, GT4, GT5]"
   ],
   "id": "5efc7a33b5081952",
   "outputs": [],
   "execution_count": 1
  },
  {
   "metadata": {
    "ExecuteTime": {
     "end_time": "2024-12-05T13:22:17.513356Z",
     "start_time": "2024-12-05T13:22:15.535708Z"
    }
   },
   "cell_type": "code",
   "source": "dataset = peyes.datasets.hfc(directory=u.DATASETS_DIR, save=False, verbose=True)",
   "id": "7b6ac753a9f62a7c",
   "outputs": [],
   "execution_count": 2
  },
  {
   "metadata": {
    "ExecuteTime": {
     "end_time": "2024-12-05T13:22:17.785277Z",
     "start_time": "2024-12-05T13:22:17.781287Z"
    }
   },
   "cell_type": "code",
   "source": [
    "def calc_sample_level_agreement(\n",
    "        dataframe: pd.DataFrame,\n",
    "        metrics: List[str] = None,\n",
    "        gt_labelers: List[str] = GT_LABELERS,\n",
    "        pos_labels: Optional[np.ndarray] = None\n",
    ") -> pd.DataFrame:\n",
    "    metrics = metrics or [\"balanced_accuracy\", \"cohen's_kappa\", \"mcc\", \"complement_nld\"]\n",
    "    trial_ids = dataframe[peyes.constants.TRIAL_ID_STR].unique()\n",
    "    results = {}\n",
    "    for i, trial_id in tqdm.tqdm(enumerate(trial_ids), total=len(trial_ids)):\n",
    "        trial_data = dataframe[dataframe[\"trial_id\"] == trial_id]\n",
    "        labels_per_labeler = {lblr: trial_data[lblr].values for lblr in gt_labelers}\n",
    "        for i, lblr1 in enumerate(labels_per_labeler.keys()):\n",
    "            for j, lblr2 in enumerate(labels_per_labeler.keys()):\n",
    "                if i >= j:\n",
    "                    continue\n",
    "                res = peyes.sample_metrics.calculate(labels_per_labeler[lblr1], labels_per_labeler[lblr2], *metrics, pos_labels=pos_labels)\n",
    "                results[(trial_id, lblr1, lblr2)] = res\n",
    "    results = pd.DataFrame(results).T\n",
    "    results.index.names = [peyes.constants.TRIAL_ID_STR, u.GT_STR, u.PRED_STR]\n",
    "    return results"
   ],
   "id": "6df749b838a023bf",
   "outputs": [],
   "execution_count": 3
  },
  {
   "metadata": {},
   "cell_type": "markdown",
   "source": [
    "### Entire Dataset\n",
    "#### (A) All Annotators"
   ],
   "id": "78de985ec972d144"
  },
  {
   "metadata": {
    "ExecuteTime": {
     "end_time": "2024-12-05T13:23:05.444270Z",
     "start_time": "2024-12-05T13:22:17.804701Z"
    }
   },
   "cell_type": "code",
   "source": [
    "overall_agreement = calc_sample_level_agreement(dataset)\n",
    "overall_agreement_summary = overall_agreement.groupby(level=[u.GT_STR, u.PRED_STR]).describe().stack(0, future_stack=True)\n",
    "overall_agreement_summary.index.names = [u.GT_STR, u.PRED_STR, \"metric\"]\n",
    "\n",
    "overall_agreement_mean = overall_agreement_summary[[\"mean\", \"std\", \"min\", \"50%\", \"max\"]].groupby(level=\"metric\").mean()\n",
    "overall_agreement_mean"
   ],
   "id": "d6a2cc0f5607c7e4",
   "outputs": [
    {
     "name": "stderr",
     "output_type": "stream",
     "text": [
      " 17%|█▋        | 12/70 [00:24<01:16,  1.32s/it]C:\\Users\\jonathanni\\PycharmProjects\\pEYES\\venv\\Lib\\site-packages\\sklearn\\metrics\\_classification.py:730: RuntimeWarning: invalid value encountered in scalar divide\n",
      "  k = np.sum(w_mat * confusion) / np.sum(w_mat * expected)\n",
      "C:\\Users\\jonathanni\\PycharmProjects\\pEYES\\venv\\Lib\\site-packages\\sklearn\\metrics\\_classification.py:730: RuntimeWarning: invalid value encountered in scalar divide\n",
      "  k = np.sum(w_mat * confusion) / np.sum(w_mat * expected)\n",
      "C:\\Users\\jonathanni\\PycharmProjects\\pEYES\\venv\\Lib\\site-packages\\sklearn\\metrics\\_classification.py:730: RuntimeWarning: invalid value encountered in scalar divide\n",
      "  k = np.sum(w_mat * confusion) / np.sum(w_mat * expected)\n",
      "100%|██████████| 70/70 [00:47<00:00,  1.47it/s]\n"
     ]
    },
    {
     "data": {
      "text/plain": [
       "                       mean       std       min       50%       max\n",
       "metric                                                             \n",
       "balanced_accuracy  0.942564  0.056191  0.613455  0.957421  0.997823\n",
       "cohen's_kappa      0.830965  0.134615  0.136049  0.854887  0.990621\n",
       "complement_nld     0.954975  0.035766  0.791490  0.961927  0.999586\n",
       "mcc                0.837240  0.138835  0.050768  0.860924  0.990658"
      ],
      "text/html": [
       "<div>\n",
       "<style scoped>\n",
       "    .dataframe tbody tr th:only-of-type {\n",
       "        vertical-align: middle;\n",
       "    }\n",
       "\n",
       "    .dataframe tbody tr th {\n",
       "        vertical-align: top;\n",
       "    }\n",
       "\n",
       "    .dataframe thead th {\n",
       "        text-align: right;\n",
       "    }\n",
       "</style>\n",
       "<table border=\"1\" class=\"dataframe\">\n",
       "  <thead>\n",
       "    <tr style=\"text-align: right;\">\n",
       "      <th></th>\n",
       "      <th>mean</th>\n",
       "      <th>std</th>\n",
       "      <th>min</th>\n",
       "      <th>50%</th>\n",
       "      <th>max</th>\n",
       "    </tr>\n",
       "    <tr>\n",
       "      <th>metric</th>\n",
       "      <th></th>\n",
       "      <th></th>\n",
       "      <th></th>\n",
       "      <th></th>\n",
       "      <th></th>\n",
       "    </tr>\n",
       "  </thead>\n",
       "  <tbody>\n",
       "    <tr>\n",
       "      <th>balanced_accuracy</th>\n",
       "      <td>0.942564</td>\n",
       "      <td>0.056191</td>\n",
       "      <td>0.613455</td>\n",
       "      <td>0.957421</td>\n",
       "      <td>0.997823</td>\n",
       "    </tr>\n",
       "    <tr>\n",
       "      <th>cohen's_kappa</th>\n",
       "      <td>0.830965</td>\n",
       "      <td>0.134615</td>\n",
       "      <td>0.136049</td>\n",
       "      <td>0.854887</td>\n",
       "      <td>0.990621</td>\n",
       "    </tr>\n",
       "    <tr>\n",
       "      <th>complement_nld</th>\n",
       "      <td>0.954975</td>\n",
       "      <td>0.035766</td>\n",
       "      <td>0.791490</td>\n",
       "      <td>0.961927</td>\n",
       "      <td>0.999586</td>\n",
       "    </tr>\n",
       "    <tr>\n",
       "      <th>mcc</th>\n",
       "      <td>0.837240</td>\n",
       "      <td>0.138835</td>\n",
       "      <td>0.050768</td>\n",
       "      <td>0.860924</td>\n",
       "      <td>0.990658</td>\n",
       "    </tr>\n",
       "  </tbody>\n",
       "</table>\n",
       "</div>"
      ]
     },
     "execution_count": 4,
     "metadata": {},
     "output_type": "execute_result"
    }
   ],
   "execution_count": 4
  },
  {
   "metadata": {},
   "cell_type": "markdown",
   "source": "#### (B) GT1-GT2 Agreement",
   "id": "b34f6a62b3ef4b4d"
  },
  {
   "metadata": {
    "ExecuteTime": {
     "end_time": "2024-12-05T13:23:10.341764Z",
     "start_time": "2024-12-05T13:23:05.454599Z"
    }
   },
   "cell_type": "code",
   "source": [
    "gt1_gt2_overall_agreement = calc_sample_level_agreement(dataset, gt_labelers=[GT1, GT2])\n",
    "gt1_gt2_overall_agreement_summary = gt1_gt2_overall_agreement.groupby(level=[u.GT_STR, u.PRED_STR]).describe().stack(0, future_stack=True)\n",
    "gt1_gt2_overall_agreement_summary.index.names = [u.GT_STR, u.PRED_STR, \"metric\"]\n",
    "\n",
    "gt1_gt2_overall_agreement_summary"
   ],
   "id": "59d404314d07859b",
   "outputs": [
    {
     "name": "stderr",
     "output_type": "stream",
     "text": [
      "100%|██████████| 70/70 [00:04<00:00, 14.42it/s]\n"
     ]
    },
    {
     "data": {
      "text/plain": [
       "                           count      mean       std       min       25%  \\\n",
       "gt pred metric                                                             \n",
       "IH DN   balanced_accuracy   70.0  0.952527  0.065126  0.500000  0.946946   \n",
       "        cohen's_kappa       70.0  0.856607  0.133165  0.000000  0.800699   \n",
       "        mcc                 70.0  0.861905  0.129886  0.000000  0.817095   \n",
       "        complement_nld      70.0  0.968320  0.025204  0.808415  0.961966   \n",
       "\n",
       "                                50%       75%  max  \n",
       "gt pred metric                                      \n",
       "IH DN   balanced_accuracy  0.965825  0.983680  1.0  \n",
       "        cohen's_kappa      0.885860  0.934016  1.0  \n",
       "        mcc                0.887913  0.934514  1.0  \n",
       "        complement_nld     0.971785  0.980753  1.0  "
      ],
      "text/html": [
       "<div>\n",
       "<style scoped>\n",
       "    .dataframe tbody tr th:only-of-type {\n",
       "        vertical-align: middle;\n",
       "    }\n",
       "\n",
       "    .dataframe tbody tr th {\n",
       "        vertical-align: top;\n",
       "    }\n",
       "\n",
       "    .dataframe thead th {\n",
       "        text-align: right;\n",
       "    }\n",
       "</style>\n",
       "<table border=\"1\" class=\"dataframe\">\n",
       "  <thead>\n",
       "    <tr style=\"text-align: right;\">\n",
       "      <th></th>\n",
       "      <th></th>\n",
       "      <th></th>\n",
       "      <th>count</th>\n",
       "      <th>mean</th>\n",
       "      <th>std</th>\n",
       "      <th>min</th>\n",
       "      <th>25%</th>\n",
       "      <th>50%</th>\n",
       "      <th>75%</th>\n",
       "      <th>max</th>\n",
       "    </tr>\n",
       "    <tr>\n",
       "      <th>gt</th>\n",
       "      <th>pred</th>\n",
       "      <th>metric</th>\n",
       "      <th></th>\n",
       "      <th></th>\n",
       "      <th></th>\n",
       "      <th></th>\n",
       "      <th></th>\n",
       "      <th></th>\n",
       "      <th></th>\n",
       "      <th></th>\n",
       "    </tr>\n",
       "  </thead>\n",
       "  <tbody>\n",
       "    <tr>\n",
       "      <th rowspan=\"4\" valign=\"top\">IH</th>\n",
       "      <th rowspan=\"4\" valign=\"top\">DN</th>\n",
       "      <th>balanced_accuracy</th>\n",
       "      <td>70.0</td>\n",
       "      <td>0.952527</td>\n",
       "      <td>0.065126</td>\n",
       "      <td>0.500000</td>\n",
       "      <td>0.946946</td>\n",
       "      <td>0.965825</td>\n",
       "      <td>0.983680</td>\n",
       "      <td>1.0</td>\n",
       "    </tr>\n",
       "    <tr>\n",
       "      <th>cohen's_kappa</th>\n",
       "      <td>70.0</td>\n",
       "      <td>0.856607</td>\n",
       "      <td>0.133165</td>\n",
       "      <td>0.000000</td>\n",
       "      <td>0.800699</td>\n",
       "      <td>0.885860</td>\n",
       "      <td>0.934016</td>\n",
       "      <td>1.0</td>\n",
       "    </tr>\n",
       "    <tr>\n",
       "      <th>mcc</th>\n",
       "      <td>70.0</td>\n",
       "      <td>0.861905</td>\n",
       "      <td>0.129886</td>\n",
       "      <td>0.000000</td>\n",
       "      <td>0.817095</td>\n",
       "      <td>0.887913</td>\n",
       "      <td>0.934514</td>\n",
       "      <td>1.0</td>\n",
       "    </tr>\n",
       "    <tr>\n",
       "      <th>complement_nld</th>\n",
       "      <td>70.0</td>\n",
       "      <td>0.968320</td>\n",
       "      <td>0.025204</td>\n",
       "      <td>0.808415</td>\n",
       "      <td>0.961966</td>\n",
       "      <td>0.971785</td>\n",
       "      <td>0.980753</td>\n",
       "      <td>1.0</td>\n",
       "    </tr>\n",
       "  </tbody>\n",
       "</table>\n",
       "</div>"
      ]
     },
     "execution_count": 5,
     "metadata": {},
     "output_type": "execute_result"
    }
   ],
   "execution_count": 5
  },
  {
   "metadata": {},
   "cell_type": "markdown",
   "source": [
    "### Free-Viewing Subset\n",
    "#### (A) All Annotators"
   ],
   "id": "7c1db5d6e5ad811d"
  },
  {
   "metadata": {
    "ExecuteTime": {
     "end_time": "2024-12-05T13:23:34.505077Z",
     "start_time": "2024-12-05T13:23:10.357987Z"
    }
   },
   "cell_type": "code",
   "source": [
    "fv_dataset = dataset[dataset[peyes.constants.STIMULUS_TYPE_STR] == \"free_viewing\"]\n",
    "\n",
    "fv_agreement = calc_sample_level_agreement(fv_dataset)\n",
    "fv_agreement_summary = fv_agreement.groupby(level=[u.GT_STR, u.PRED_STR]).describe().stack(0, future_stack=True)\n",
    "fv_agreement_summary.index.names = [u.GT_STR, u.PRED_STR, \"metric\"]\n",
    "\n",
    "fv_agreement_mean = fv_agreement_summary[[\"mean\", \"std\", \"min\", \"50%\", \"max\"]].groupby(level=\"metric\").mean()\n",
    "fv_agreement_mean"
   ],
   "id": "cfaace71bf824919",
   "outputs": [
    {
     "name": "stderr",
     "output_type": "stream",
     "text": [
      "100%|██████████| 10/10 [00:24<00:00,  2.40s/it]\n"
     ]
    },
    {
     "data": {
      "text/plain": [
       "                       mean       std       min       50%       max\n",
       "metric                                                             \n",
       "balanced_accuracy  0.922851  0.048410  0.803203  0.937937  0.964052\n",
       "cohen's_kappa      0.749121  0.112153  0.471965  0.781806  0.846246\n",
       "complement_nld     0.940056  0.034906  0.850641  0.951405  0.966081\n",
       "mcc                0.763777  0.104619  0.504275  0.795819  0.852501"
      ],
      "text/html": [
       "<div>\n",
       "<style scoped>\n",
       "    .dataframe tbody tr th:only-of-type {\n",
       "        vertical-align: middle;\n",
       "    }\n",
       "\n",
       "    .dataframe tbody tr th {\n",
       "        vertical-align: top;\n",
       "    }\n",
       "\n",
       "    .dataframe thead th {\n",
       "        text-align: right;\n",
       "    }\n",
       "</style>\n",
       "<table border=\"1\" class=\"dataframe\">\n",
       "  <thead>\n",
       "    <tr style=\"text-align: right;\">\n",
       "      <th></th>\n",
       "      <th>mean</th>\n",
       "      <th>std</th>\n",
       "      <th>min</th>\n",
       "      <th>50%</th>\n",
       "      <th>max</th>\n",
       "    </tr>\n",
       "    <tr>\n",
       "      <th>metric</th>\n",
       "      <th></th>\n",
       "      <th></th>\n",
       "      <th></th>\n",
       "      <th></th>\n",
       "      <th></th>\n",
       "    </tr>\n",
       "  </thead>\n",
       "  <tbody>\n",
       "    <tr>\n",
       "      <th>balanced_accuracy</th>\n",
       "      <td>0.922851</td>\n",
       "      <td>0.048410</td>\n",
       "      <td>0.803203</td>\n",
       "      <td>0.937937</td>\n",
       "      <td>0.964052</td>\n",
       "    </tr>\n",
       "    <tr>\n",
       "      <th>cohen's_kappa</th>\n",
       "      <td>0.749121</td>\n",
       "      <td>0.112153</td>\n",
       "      <td>0.471965</td>\n",
       "      <td>0.781806</td>\n",
       "      <td>0.846246</td>\n",
       "    </tr>\n",
       "    <tr>\n",
       "      <th>complement_nld</th>\n",
       "      <td>0.940056</td>\n",
       "      <td>0.034906</td>\n",
       "      <td>0.850641</td>\n",
       "      <td>0.951405</td>\n",
       "      <td>0.966081</td>\n",
       "    </tr>\n",
       "    <tr>\n",
       "      <th>mcc</th>\n",
       "      <td>0.763777</td>\n",
       "      <td>0.104619</td>\n",
       "      <td>0.504275</td>\n",
       "      <td>0.795819</td>\n",
       "      <td>0.852501</td>\n",
       "    </tr>\n",
       "  </tbody>\n",
       "</table>\n",
       "</div>"
      ]
     },
     "execution_count": 6,
     "metadata": {},
     "output_type": "execute_result"
    }
   ],
   "execution_count": 6
  },
  {
   "metadata": {},
   "cell_type": "markdown",
   "source": "#### (B) GT1-GT2 Agreement",
   "id": "9680bccb021e8d7e"
  },
  {
   "metadata": {
    "ExecuteTime": {
     "end_time": "2024-12-05T13:23:37.103876Z",
     "start_time": "2024-12-05T13:23:34.617202Z"
    }
   },
   "cell_type": "code",
   "source": [
    "gt1_gt2_fv_agreement = calc_sample_level_agreement(fv_dataset, gt_labelers=[GT1, GT2])\n",
    "gt1_gt2_fv_agreement_summary = gt1_gt2_fv_agreement.groupby(level=[u.GT_STR, u.PRED_STR]).describe().stack(0, future_stack=True)\n",
    "gt1_gt2_fv_agreement_summary.index.names = [u.GT_STR, u.PRED_STR, \"metric\"]\n",
    "\n",
    "gt1_gt2_fv_agreement_summary"
   ],
   "id": "c74d8228912d8f9e",
   "outputs": [
    {
     "name": "stderr",
     "output_type": "stream",
     "text": [
      "100%|██████████| 10/10 [00:02<00:00,  4.05it/s]\n"
     ]
    },
    {
     "data": {
      "text/plain": [
       "                           count      mean       std       min       25%  \\\n",
       "gt pred metric                                                             \n",
       "IH DN   balanced_accuracy   10.0  0.944648  0.020104  0.900926  0.939128   \n",
       "        cohen's_kappa       10.0  0.806712  0.042060  0.764313  0.777827   \n",
       "        mcc                 10.0  0.813266  0.038667  0.773348  0.786875   \n",
       "        complement_nld      10.0  0.964497  0.011655  0.935806  0.961901   \n",
       "\n",
       "                                50%       75%       max  \n",
       "gt pred metric                                           \n",
       "IH DN   balanced_accuracy  0.945310  0.959501  0.970974  \n",
       "        cohen's_kappa      0.781803  0.837265  0.891147  \n",
       "        mcc                0.793781  0.839614  0.891203  \n",
       "        complement_nld     0.966570  0.970491  0.978681  "
      ],
      "text/html": [
       "<div>\n",
       "<style scoped>\n",
       "    .dataframe tbody tr th:only-of-type {\n",
       "        vertical-align: middle;\n",
       "    }\n",
       "\n",
       "    .dataframe tbody tr th {\n",
       "        vertical-align: top;\n",
       "    }\n",
       "\n",
       "    .dataframe thead th {\n",
       "        text-align: right;\n",
       "    }\n",
       "</style>\n",
       "<table border=\"1\" class=\"dataframe\">\n",
       "  <thead>\n",
       "    <tr style=\"text-align: right;\">\n",
       "      <th></th>\n",
       "      <th></th>\n",
       "      <th></th>\n",
       "      <th>count</th>\n",
       "      <th>mean</th>\n",
       "      <th>std</th>\n",
       "      <th>min</th>\n",
       "      <th>25%</th>\n",
       "      <th>50%</th>\n",
       "      <th>75%</th>\n",
       "      <th>max</th>\n",
       "    </tr>\n",
       "    <tr>\n",
       "      <th>gt</th>\n",
       "      <th>pred</th>\n",
       "      <th>metric</th>\n",
       "      <th></th>\n",
       "      <th></th>\n",
       "      <th></th>\n",
       "      <th></th>\n",
       "      <th></th>\n",
       "      <th></th>\n",
       "      <th></th>\n",
       "      <th></th>\n",
       "    </tr>\n",
       "  </thead>\n",
       "  <tbody>\n",
       "    <tr>\n",
       "      <th rowspan=\"4\" valign=\"top\">IH</th>\n",
       "      <th rowspan=\"4\" valign=\"top\">DN</th>\n",
       "      <th>balanced_accuracy</th>\n",
       "      <td>10.0</td>\n",
       "      <td>0.944648</td>\n",
       "      <td>0.020104</td>\n",
       "      <td>0.900926</td>\n",
       "      <td>0.939128</td>\n",
       "      <td>0.945310</td>\n",
       "      <td>0.959501</td>\n",
       "      <td>0.970974</td>\n",
       "    </tr>\n",
       "    <tr>\n",
       "      <th>cohen's_kappa</th>\n",
       "      <td>10.0</td>\n",
       "      <td>0.806712</td>\n",
       "      <td>0.042060</td>\n",
       "      <td>0.764313</td>\n",
       "      <td>0.777827</td>\n",
       "      <td>0.781803</td>\n",
       "      <td>0.837265</td>\n",
       "      <td>0.891147</td>\n",
       "    </tr>\n",
       "    <tr>\n",
       "      <th>mcc</th>\n",
       "      <td>10.0</td>\n",
       "      <td>0.813266</td>\n",
       "      <td>0.038667</td>\n",
       "      <td>0.773348</td>\n",
       "      <td>0.786875</td>\n",
       "      <td>0.793781</td>\n",
       "      <td>0.839614</td>\n",
       "      <td>0.891203</td>\n",
       "    </tr>\n",
       "    <tr>\n",
       "      <th>complement_nld</th>\n",
       "      <td>10.0</td>\n",
       "      <td>0.964497</td>\n",
       "      <td>0.011655</td>\n",
       "      <td>0.935806</td>\n",
       "      <td>0.961901</td>\n",
       "      <td>0.966570</td>\n",
       "      <td>0.970491</td>\n",
       "      <td>0.978681</td>\n",
       "    </tr>\n",
       "  </tbody>\n",
       "</table>\n",
       "</div>"
      ]
     },
     "execution_count": 7,
     "metadata": {},
     "output_type": "execute_result"
    }
   ],
   "execution_count": 7
  },
  {
   "metadata": {},
   "cell_type": "code",
   "outputs": [],
   "execution_count": null,
   "source": "",
   "id": "e79c2394f89ca115"
  }
 ],
 "metadata": {
  "kernelspec": {
   "display_name": "Python 3",
   "language": "python",
   "name": "python3"
  },
  "language_info": {
   "codemirror_mode": {
    "name": "ipython",
    "version": 2
   },
   "file_extension": ".py",
   "mimetype": "text/x-python",
   "name": "python",
   "nbconvert_exporter": "python",
   "pygments_lexer": "ipython2",
   "version": "2.7.6"
  }
 },
 "nbformat": 4,
 "nbformat_minor": 5
}
