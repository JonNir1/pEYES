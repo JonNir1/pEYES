{
 "cells": [
  {
   "metadata": {},
   "cell_type": "markdown",
   "source": [
    "# Results p. 1\n",
    "## Sample-by-Sample Evaluation "
   ],
   "id": "8c084c6c2d5df24e"
  },
  {
   "metadata": {
    "ExecuteTime": {
     "end_time": "2025-01-22T08:05:07.073744Z",
     "start_time": "2025-01-22T08:05:07.070294Z"
    }
   },
   "cell_type": "code",
   "source": [
    "import pandas as pd\n",
    "\n",
    "from analysis._article_results.hfc._helpers import *\n",
    "import analysis.statistics.sample_metrics as sm\n",
    "\n",
    "# pio.renderers.default = \"browser\"\n",
    "FIG_ID, IS_SUPP = 3, False"
   ],
   "id": "e1229dea71974bf3",
   "outputs": [],
   "execution_count": 9
  },
  {
   "metadata": {},
   "cell_type": "markdown",
   "source": "### Load Data",
   "id": "ab95707485440674"
  },
  {
   "metadata": {
    "ExecuteTime": {
     "end_time": "2025-01-22T08:05:07.318752Z",
     "start_time": "2025-01-22T08:05:07.078360Z"
    }
   },
   "cell_type": "code",
   "source": [
    "global_measures = sm.load_global_metrics(DATASET_NAME, PROCESSED_DATA_DIR, stimulus_type=STIMULUS_TYPE, metric=None, iteration=1)\n",
    "global_measures.drop(index=[peyes.constants.ACCURACY_STR, peyes.constants.BALANCED_ACCURACY_STR], inplace=True)    # Drop Acc+Balanced-Acc metrics\n",
    "\n",
    "# drop human annotators that aren't GT1 or GT2 (and aren't detectors)\n",
    "annotators_to_drop = [ann for ann in global_measures.columns.get_level_values(u.PRED_STR).unique() if ann not in [GT1, GT2] and ann not in DETECTORS.keys()]\n",
    "global_measures.drop(columns=annotators_to_drop, level=u.GT_STR, inplace=True)\n",
    "global_measures.drop(columns=annotators_to_drop, level=u.PRED_STR, inplace=True)\n",
    "\n",
    "global_measures"
   ],
   "id": "4b609a1984f38374",
   "outputs": [
    {
     "data": {
      "text/plain": [
       "trial_id              1                                                     \\\n",
       "gt                    MN                                                     \n",
       "pred                idvt        nh        RA      ivvt  remodnav   engbert   \n",
       "cohen's_kappa   0.236827  0.345449  0.789915  0.006621  0.018960  0.357025   \n",
       "complement_nld  0.799422  0.820524  0.941582  0.059529  0.110395  0.802310   \n",
       "mcc             0.255316  0.374803  0.791450  0.018534  0.060351  0.382572   \n",
       "\n",
       "trial_id                                                ...        10  \\\n",
       "gt                                        RA            ...        MN   \n",
       "pred                 ivt       idt      idvt        nh  ...       ivt   \n",
       "cohen's_kappa   0.034027  0.141882  0.273426  0.329668  ...  0.035190   \n",
       "complement_nld  0.199689  0.800311  0.796535  0.807641  ...  0.227575   \n",
       "mcc             0.087158  0.160184  0.299500  0.362199  ...  0.091059   \n",
       "\n",
       "trial_id                                                                    \\\n",
       "gt                              RA                                           \n",
       "pred                 idt      idvt        nh      ivvt  remodnav   engbert   \n",
       "cohen's_kappa   0.200674  0.204895  0.363214  0.004242  0.019474  0.365619   \n",
       "complement_nld  0.837034  0.843917  0.827487  0.074378  0.150311  0.829485   \n",
       "mcc             0.250508  0.251479  0.392835  0.012381  0.057021  0.396546   \n",
       "\n",
       "trial_id                                      \n",
       "gt                                            \n",
       "pred                  MN       ivt       idt  \n",
       "cohen's_kappa   0.927445  0.036265  0.204895  \n",
       "complement_nld  0.981572  0.229352  0.843917  \n",
       "mcc             0.927873  0.095600  0.251479  \n",
       "\n",
       "[3 rows x 160 columns]"
      ],
      "text/html": [
       "<div>\n",
       "<style scoped>\n",
       "    .dataframe tbody tr th:only-of-type {\n",
       "        vertical-align: middle;\n",
       "    }\n",
       "\n",
       "    .dataframe tbody tr th {\n",
       "        vertical-align: top;\n",
       "    }\n",
       "\n",
       "    .dataframe thead tr th {\n",
       "        text-align: left;\n",
       "    }\n",
       "</style>\n",
       "<table border=\"1\" class=\"dataframe\">\n",
       "  <thead>\n",
       "    <tr>\n",
       "      <th>trial_id</th>\n",
       "      <th colspan=\"10\" halign=\"left\">1</th>\n",
       "      <th>...</th>\n",
       "      <th colspan=\"10\" halign=\"left\">10</th>\n",
       "    </tr>\n",
       "    <tr>\n",
       "      <th>gt</th>\n",
       "      <th colspan=\"8\" halign=\"left\">MN</th>\n",
       "      <th colspan=\"2\" halign=\"left\">RA</th>\n",
       "      <th>...</th>\n",
       "      <th colspan=\"2\" halign=\"left\">MN</th>\n",
       "      <th colspan=\"8\" halign=\"left\">RA</th>\n",
       "    </tr>\n",
       "    <tr>\n",
       "      <th>pred</th>\n",
       "      <th>idvt</th>\n",
       "      <th>nh</th>\n",
       "      <th>RA</th>\n",
       "      <th>ivvt</th>\n",
       "      <th>remodnav</th>\n",
       "      <th>engbert</th>\n",
       "      <th>ivt</th>\n",
       "      <th>idt</th>\n",
       "      <th>idvt</th>\n",
       "      <th>nh</th>\n",
       "      <th>...</th>\n",
       "      <th>ivt</th>\n",
       "      <th>idt</th>\n",
       "      <th>idvt</th>\n",
       "      <th>nh</th>\n",
       "      <th>ivvt</th>\n",
       "      <th>remodnav</th>\n",
       "      <th>engbert</th>\n",
       "      <th>MN</th>\n",
       "      <th>ivt</th>\n",
       "      <th>idt</th>\n",
       "    </tr>\n",
       "  </thead>\n",
       "  <tbody>\n",
       "    <tr>\n",
       "      <th>cohen's_kappa</th>\n",
       "      <td>0.236827</td>\n",
       "      <td>0.345449</td>\n",
       "      <td>0.789915</td>\n",
       "      <td>0.006621</td>\n",
       "      <td>0.018960</td>\n",
       "      <td>0.357025</td>\n",
       "      <td>0.034027</td>\n",
       "      <td>0.141882</td>\n",
       "      <td>0.273426</td>\n",
       "      <td>0.329668</td>\n",
       "      <td>...</td>\n",
       "      <td>0.035190</td>\n",
       "      <td>0.200674</td>\n",
       "      <td>0.204895</td>\n",
       "      <td>0.363214</td>\n",
       "      <td>0.004242</td>\n",
       "      <td>0.019474</td>\n",
       "      <td>0.365619</td>\n",
       "      <td>0.927445</td>\n",
       "      <td>0.036265</td>\n",
       "      <td>0.204895</td>\n",
       "    </tr>\n",
       "    <tr>\n",
       "      <th>complement_nld</th>\n",
       "      <td>0.799422</td>\n",
       "      <td>0.820524</td>\n",
       "      <td>0.941582</td>\n",
       "      <td>0.059529</td>\n",
       "      <td>0.110395</td>\n",
       "      <td>0.802310</td>\n",
       "      <td>0.199689</td>\n",
       "      <td>0.800311</td>\n",
       "      <td>0.796535</td>\n",
       "      <td>0.807641</td>\n",
       "      <td>...</td>\n",
       "      <td>0.227575</td>\n",
       "      <td>0.837034</td>\n",
       "      <td>0.843917</td>\n",
       "      <td>0.827487</td>\n",
       "      <td>0.074378</td>\n",
       "      <td>0.150311</td>\n",
       "      <td>0.829485</td>\n",
       "      <td>0.981572</td>\n",
       "      <td>0.229352</td>\n",
       "      <td>0.843917</td>\n",
       "    </tr>\n",
       "    <tr>\n",
       "      <th>mcc</th>\n",
       "      <td>0.255316</td>\n",
       "      <td>0.374803</td>\n",
       "      <td>0.791450</td>\n",
       "      <td>0.018534</td>\n",
       "      <td>0.060351</td>\n",
       "      <td>0.382572</td>\n",
       "      <td>0.087158</td>\n",
       "      <td>0.160184</td>\n",
       "      <td>0.299500</td>\n",
       "      <td>0.362199</td>\n",
       "      <td>...</td>\n",
       "      <td>0.091059</td>\n",
       "      <td>0.250508</td>\n",
       "      <td>0.251479</td>\n",
       "      <td>0.392835</td>\n",
       "      <td>0.012381</td>\n",
       "      <td>0.057021</td>\n",
       "      <td>0.396546</td>\n",
       "      <td>0.927873</td>\n",
       "      <td>0.095600</td>\n",
       "      <td>0.251479</td>\n",
       "    </tr>\n",
       "  </tbody>\n",
       "</table>\n",
       "<p>3 rows × 160 columns</p>\n",
       "</div>"
      ]
     },
     "execution_count": 10,
     "metadata": {},
     "output_type": "execute_result"
    }
   ],
   "execution_count": 10
  },
  {
   "metadata": {},
   "cell_type": "markdown",
   "source": [
    "### Sample-by-Sample Comparison\n",
    "Evaluate performance on the sample-by-sample level using metrics for all labels together:\n",
    "- Cohen's $\\kappa$\n",
    "- MCC\n",
    "- $1-NLD$ "
   ],
   "id": "bc7e04e116c7dec1"
  },
  {
   "metadata": {
    "ExecuteTime": {
     "end_time": "2025-01-22T08:05:07.412700Z",
     "start_time": "2025-01-22T08:05:07.382436Z"
    }
   },
   "cell_type": "code",
   "source": [
    "global_stats, global_pvalues, global_nemenyi, sm_global_Ns = sm.friedman_nemenyi(global_measures, [GT1, GT2])\n",
    "\n",
    "global_pvalues <= ALPHA"
   ],
   "id": "3e9623017e533e7c",
   "outputs": [
    {
     "data": {
      "text/plain": [
       "gt                MN    RA\n",
       "metric                    \n",
       "cohen's_kappa   True  True\n",
       "complement_nld  True  True\n",
       "mcc             True  True"
      ],
      "text/html": [
       "<div>\n",
       "<style scoped>\n",
       "    .dataframe tbody tr th:only-of-type {\n",
       "        vertical-align: middle;\n",
       "    }\n",
       "\n",
       "    .dataframe tbody tr th {\n",
       "        vertical-align: top;\n",
       "    }\n",
       "\n",
       "    .dataframe thead th {\n",
       "        text-align: right;\n",
       "    }\n",
       "</style>\n",
       "<table border=\"1\" class=\"dataframe\">\n",
       "  <thead>\n",
       "    <tr style=\"text-align: right;\">\n",
       "      <th>gt</th>\n",
       "      <th>MN</th>\n",
       "      <th>RA</th>\n",
       "    </tr>\n",
       "    <tr>\n",
       "      <th>metric</th>\n",
       "      <th></th>\n",
       "      <th></th>\n",
       "    </tr>\n",
       "  </thead>\n",
       "  <tbody>\n",
       "    <tr>\n",
       "      <th>cohen's_kappa</th>\n",
       "      <td>True</td>\n",
       "      <td>True</td>\n",
       "    </tr>\n",
       "    <tr>\n",
       "      <th>complement_nld</th>\n",
       "      <td>True</td>\n",
       "      <td>True</td>\n",
       "    </tr>\n",
       "    <tr>\n",
       "      <th>mcc</th>\n",
       "      <td>True</td>\n",
       "      <td>True</td>\n",
       "    </tr>\n",
       "  </tbody>\n",
       "</table>\n",
       "</div>"
      ]
     },
     "execution_count": 11,
     "metadata": {},
     "output_type": "execute_result"
    }
   ],
   "execution_count": 11
  },
  {
   "metadata": {
    "ExecuteTime": {
     "end_time": "2025-01-22T08:05:07.478892Z",
     "start_time": "2025-01-22T08:05:07.471887Z"
    }
   },
   "cell_type": "code",
   "source": "pd.concat([global_stats, global_pvalues], axis=1, keys=['Q', 'p']).stack(1, future_stack=True)",
   "id": "aeac7258e5a6467",
   "outputs": [
    {
     "data": {
      "text/plain": [
       "                           Q             p\n",
       "metric         gt                         \n",
       "cohen's_kappa  MN  57.145422  1.707174e-10\n",
       "               RA  57.576302  1.396404e-10\n",
       "complement_nld MN  49.842011  5.056668e-09\n",
       "               RA  49.174147  6.880875e-09\n",
       "mcc            MN  56.989247  1.836102e-10\n",
       "               RA  57.763441  1.279663e-10"
      ],
      "text/html": [
       "<div>\n",
       "<style scoped>\n",
       "    .dataframe tbody tr th:only-of-type {\n",
       "        vertical-align: middle;\n",
       "    }\n",
       "\n",
       "    .dataframe tbody tr th {\n",
       "        vertical-align: top;\n",
       "    }\n",
       "\n",
       "    .dataframe thead th {\n",
       "        text-align: right;\n",
       "    }\n",
       "</style>\n",
       "<table border=\"1\" class=\"dataframe\">\n",
       "  <thead>\n",
       "    <tr style=\"text-align: right;\">\n",
       "      <th></th>\n",
       "      <th></th>\n",
       "      <th>Q</th>\n",
       "      <th>p</th>\n",
       "    </tr>\n",
       "    <tr>\n",
       "      <th>metric</th>\n",
       "      <th>gt</th>\n",
       "      <th></th>\n",
       "      <th></th>\n",
       "    </tr>\n",
       "  </thead>\n",
       "  <tbody>\n",
       "    <tr>\n",
       "      <th rowspan=\"2\" valign=\"top\">cohen's_kappa</th>\n",
       "      <th>MN</th>\n",
       "      <td>57.145422</td>\n",
       "      <td>1.707174e-10</td>\n",
       "    </tr>\n",
       "    <tr>\n",
       "      <th>RA</th>\n",
       "      <td>57.576302</td>\n",
       "      <td>1.396404e-10</td>\n",
       "    </tr>\n",
       "    <tr>\n",
       "      <th rowspan=\"2\" valign=\"top\">complement_nld</th>\n",
       "      <th>MN</th>\n",
       "      <td>49.842011</td>\n",
       "      <td>5.056668e-09</td>\n",
       "    </tr>\n",
       "    <tr>\n",
       "      <th>RA</th>\n",
       "      <td>49.174147</td>\n",
       "      <td>6.880875e-09</td>\n",
       "    </tr>\n",
       "    <tr>\n",
       "      <th rowspan=\"2\" valign=\"top\">mcc</th>\n",
       "      <th>MN</th>\n",
       "      <td>56.989247</td>\n",
       "      <td>1.836102e-10</td>\n",
       "    </tr>\n",
       "    <tr>\n",
       "      <th>RA</th>\n",
       "      <td>57.763441</td>\n",
       "      <td>1.279663e-10</td>\n",
       "    </tr>\n",
       "  </tbody>\n",
       "</table>\n",
       "</div>"
      ]
     },
     "execution_count": 12,
     "metadata": {},
     "output_type": "execute_result"
    }
   ],
   "execution_count": 12
  },
  {
   "metadata": {},
   "cell_type": "markdown",
   "source": [
    "#### Post-Hoc Analysis\n",
    "**Cohen's Kappa**"
   ],
   "id": "c981938bf09eb51f"
  },
  {
   "metadata": {
    "ExecuteTime": {
     "end_time": "2025-01-22T08:05:07.984002Z",
     "start_time": "2025-01-22T08:05:07.971118Z"
    }
   },
   "cell_type": "code",
   "source": [
    "post_hoc_kappa = sm.post_hoc_table(global_nemenyi, peyes.constants.COHENS_KAPPA_STR, [GT1, GT2], alpha=ALPHA, marginal_alpha=MARGINAL_ALPHA)\n",
    "post_hoc_kappa"
   ],
   "id": "ab6b31f0a5d34e56",
   "outputs": [
    {
     "data": {
      "text/plain": [
       "pred            ivt    ivvt     idt    idvt engbert      nh remodnav\n",
       "pred     gt                                                         \n",
       "ivt      MN      --    n.s.    n.s.    n.s.      **       *     n.s.\n",
       "         RA      --    n.s.    n.s.    n.s.       *       *     n.s.\n",
       "ivvt     MN  0.8023      --       †       *     ***     ***     n.s.\n",
       "         RA  0.8166      --       †       *     ***     ***     n.s.\n",
       "idt      MN  0.8413  0.0724      --    n.s.    n.s.    n.s.     n.s.\n",
       "         RA  0.8095  0.0650      --    n.s.    n.s.    n.s.     n.s.\n",
       "idvt     MN  0.5187  0.0126  0.9989      --    n.s.    n.s.     n.s.\n",
       "         RA  0.5124  0.0135  0.9994      --    n.s.    n.s.     n.s.\n",
       "engbert  MN  0.0054  0.0000  0.3278  0.6738      --    n.s.      ***\n",
       "         RA  0.0120  0.0000  0.4998  0.7998      --    n.s.      ***\n",
       "nh       MN  0.0120  0.0000  0.4563  0.7949  1.0000      --       **\n",
       "         RA  0.0283  0.0000  0.6618  0.9052  1.0000      --       **\n",
       "remodnav MN  0.9992  0.9699  0.5375  0.2200  0.0006  0.0015       --\n",
       "         RA  0.9928  0.9945  0.3388  0.1226  0.0005  0.0015       --"
      ],
      "text/html": [
       "<div>\n",
       "<style scoped>\n",
       "    .dataframe tbody tr th:only-of-type {\n",
       "        vertical-align: middle;\n",
       "    }\n",
       "\n",
       "    .dataframe tbody tr th {\n",
       "        vertical-align: top;\n",
       "    }\n",
       "\n",
       "    .dataframe thead th {\n",
       "        text-align: right;\n",
       "    }\n",
       "</style>\n",
       "<table border=\"1\" class=\"dataframe\">\n",
       "  <thead>\n",
       "    <tr style=\"text-align: right;\">\n",
       "      <th></th>\n",
       "      <th>pred</th>\n",
       "      <th>ivt</th>\n",
       "      <th>ivvt</th>\n",
       "      <th>idt</th>\n",
       "      <th>idvt</th>\n",
       "      <th>engbert</th>\n",
       "      <th>nh</th>\n",
       "      <th>remodnav</th>\n",
       "    </tr>\n",
       "    <tr>\n",
       "      <th>pred</th>\n",
       "      <th>gt</th>\n",
       "      <th></th>\n",
       "      <th></th>\n",
       "      <th></th>\n",
       "      <th></th>\n",
       "      <th></th>\n",
       "      <th></th>\n",
       "      <th></th>\n",
       "    </tr>\n",
       "  </thead>\n",
       "  <tbody>\n",
       "    <tr>\n",
       "      <th rowspan=\"2\" valign=\"top\">ivt</th>\n",
       "      <th>MN</th>\n",
       "      <td>--</td>\n",
       "      <td>n.s.</td>\n",
       "      <td>n.s.</td>\n",
       "      <td>n.s.</td>\n",
       "      <td>**</td>\n",
       "      <td>*</td>\n",
       "      <td>n.s.</td>\n",
       "    </tr>\n",
       "    <tr>\n",
       "      <th>RA</th>\n",
       "      <td>--</td>\n",
       "      <td>n.s.</td>\n",
       "      <td>n.s.</td>\n",
       "      <td>n.s.</td>\n",
       "      <td>*</td>\n",
       "      <td>*</td>\n",
       "      <td>n.s.</td>\n",
       "    </tr>\n",
       "    <tr>\n",
       "      <th rowspan=\"2\" valign=\"top\">ivvt</th>\n",
       "      <th>MN</th>\n",
       "      <td>0.8023</td>\n",
       "      <td>--</td>\n",
       "      <td>†</td>\n",
       "      <td>*</td>\n",
       "      <td>***</td>\n",
       "      <td>***</td>\n",
       "      <td>n.s.</td>\n",
       "    </tr>\n",
       "    <tr>\n",
       "      <th>RA</th>\n",
       "      <td>0.8166</td>\n",
       "      <td>--</td>\n",
       "      <td>†</td>\n",
       "      <td>*</td>\n",
       "      <td>***</td>\n",
       "      <td>***</td>\n",
       "      <td>n.s.</td>\n",
       "    </tr>\n",
       "    <tr>\n",
       "      <th rowspan=\"2\" valign=\"top\">idt</th>\n",
       "      <th>MN</th>\n",
       "      <td>0.8413</td>\n",
       "      <td>0.0724</td>\n",
       "      <td>--</td>\n",
       "      <td>n.s.</td>\n",
       "      <td>n.s.</td>\n",
       "      <td>n.s.</td>\n",
       "      <td>n.s.</td>\n",
       "    </tr>\n",
       "    <tr>\n",
       "      <th>RA</th>\n",
       "      <td>0.8095</td>\n",
       "      <td>0.0650</td>\n",
       "      <td>--</td>\n",
       "      <td>n.s.</td>\n",
       "      <td>n.s.</td>\n",
       "      <td>n.s.</td>\n",
       "      <td>n.s.</td>\n",
       "    </tr>\n",
       "    <tr>\n",
       "      <th rowspan=\"2\" valign=\"top\">idvt</th>\n",
       "      <th>MN</th>\n",
       "      <td>0.5187</td>\n",
       "      <td>0.0126</td>\n",
       "      <td>0.9989</td>\n",
       "      <td>--</td>\n",
       "      <td>n.s.</td>\n",
       "      <td>n.s.</td>\n",
       "      <td>n.s.</td>\n",
       "    </tr>\n",
       "    <tr>\n",
       "      <th>RA</th>\n",
       "      <td>0.5124</td>\n",
       "      <td>0.0135</td>\n",
       "      <td>0.9994</td>\n",
       "      <td>--</td>\n",
       "      <td>n.s.</td>\n",
       "      <td>n.s.</td>\n",
       "      <td>n.s.</td>\n",
       "    </tr>\n",
       "    <tr>\n",
       "      <th rowspan=\"2\" valign=\"top\">engbert</th>\n",
       "      <th>MN</th>\n",
       "      <td>0.0054</td>\n",
       "      <td>0.0000</td>\n",
       "      <td>0.3278</td>\n",
       "      <td>0.6738</td>\n",
       "      <td>--</td>\n",
       "      <td>n.s.</td>\n",
       "      <td>***</td>\n",
       "    </tr>\n",
       "    <tr>\n",
       "      <th>RA</th>\n",
       "      <td>0.0120</td>\n",
       "      <td>0.0000</td>\n",
       "      <td>0.4998</td>\n",
       "      <td>0.7998</td>\n",
       "      <td>--</td>\n",
       "      <td>n.s.</td>\n",
       "      <td>***</td>\n",
       "    </tr>\n",
       "    <tr>\n",
       "      <th rowspan=\"2\" valign=\"top\">nh</th>\n",
       "      <th>MN</th>\n",
       "      <td>0.0120</td>\n",
       "      <td>0.0000</td>\n",
       "      <td>0.4563</td>\n",
       "      <td>0.7949</td>\n",
       "      <td>1.0000</td>\n",
       "      <td>--</td>\n",
       "      <td>**</td>\n",
       "    </tr>\n",
       "    <tr>\n",
       "      <th>RA</th>\n",
       "      <td>0.0283</td>\n",
       "      <td>0.0000</td>\n",
       "      <td>0.6618</td>\n",
       "      <td>0.9052</td>\n",
       "      <td>1.0000</td>\n",
       "      <td>--</td>\n",
       "      <td>**</td>\n",
       "    </tr>\n",
       "    <tr>\n",
       "      <th rowspan=\"2\" valign=\"top\">remodnav</th>\n",
       "      <th>MN</th>\n",
       "      <td>0.9992</td>\n",
       "      <td>0.9699</td>\n",
       "      <td>0.5375</td>\n",
       "      <td>0.2200</td>\n",
       "      <td>0.0006</td>\n",
       "      <td>0.0015</td>\n",
       "      <td>--</td>\n",
       "    </tr>\n",
       "    <tr>\n",
       "      <th>RA</th>\n",
       "      <td>0.9928</td>\n",
       "      <td>0.9945</td>\n",
       "      <td>0.3388</td>\n",
       "      <td>0.1226</td>\n",
       "      <td>0.0005</td>\n",
       "      <td>0.0015</td>\n",
       "      <td>--</td>\n",
       "    </tr>\n",
       "  </tbody>\n",
       "</table>\n",
       "</div>"
      ]
     },
     "execution_count": 13,
     "metadata": {},
     "output_type": "execute_result"
    }
   ],
   "execution_count": 13
  },
  {
   "metadata": {
    "ExecuteTime": {
     "end_time": "2025-01-22T08:05:09.413173Z",
     "start_time": "2025-01-22T08:05:09.400386Z"
    }
   },
   "cell_type": "code",
   "source": [
    "post_hoc_mcc = sm.post_hoc_table(global_nemenyi, peyes.constants.MCC_STR, [GT1, GT2], alpha=ALPHA, marginal_alpha=MARGINAL_ALPHA)\n",
    "post_hoc_mcc"
   ],
   "id": "42220211eb9225d",
   "outputs": [
    {
     "data": {
      "text/plain": [
       "pred            ivt    ivvt     idt    idvt engbert      nh remodnav\n",
       "pred     gt                                                         \n",
       "ivt      MN      --    n.s.    n.s.    n.s.      **       *     n.s.\n",
       "         RA      --    n.s.    n.s.    n.s.       *       *     n.s.\n",
       "ivvt     MN  0.7061      --       †       *     ***     ***     n.s.\n",
       "         RA  0.7399      --       †       *     ***     ***     n.s.\n",
       "idt      MN  0.8681  0.0528      --    n.s.    n.s.    n.s.     n.s.\n",
       "         RA  0.8478  0.0544      --    n.s.    n.s.    n.s.     n.s.\n",
       "idvt     MN  0.5910  0.0101  0.9994      --    n.s.    n.s.     n.s.\n",
       "         RA  0.5596  0.0104  0.9994      --    n.s.    n.s.     n.s.\n",
       "engbert  MN  0.0075  0.0000  0.3416  0.6588      --    n.s.      ***\n",
       "         RA  0.0124  0.0000  0.4532  0.7669      --    n.s.      ***\n",
       "nh       MN  0.0153  0.0000  0.4594  0.7721  1.0000      --       **\n",
       "         RA  0.0362  0.0000  0.6588  0.9068  1.0000      --       **\n",
       "remodnav MN  0.9988  0.9444  0.5533  0.2540  0.0007  0.0017       --\n",
       "         RA  0.9949  0.9810  0.4168  0.1628  0.0006  0.0026       --"
      ],
      "text/html": [
       "<div>\n",
       "<style scoped>\n",
       "    .dataframe tbody tr th:only-of-type {\n",
       "        vertical-align: middle;\n",
       "    }\n",
       "\n",
       "    .dataframe tbody tr th {\n",
       "        vertical-align: top;\n",
       "    }\n",
       "\n",
       "    .dataframe thead th {\n",
       "        text-align: right;\n",
       "    }\n",
       "</style>\n",
       "<table border=\"1\" class=\"dataframe\">\n",
       "  <thead>\n",
       "    <tr style=\"text-align: right;\">\n",
       "      <th></th>\n",
       "      <th>pred</th>\n",
       "      <th>ivt</th>\n",
       "      <th>ivvt</th>\n",
       "      <th>idt</th>\n",
       "      <th>idvt</th>\n",
       "      <th>engbert</th>\n",
       "      <th>nh</th>\n",
       "      <th>remodnav</th>\n",
       "    </tr>\n",
       "    <tr>\n",
       "      <th>pred</th>\n",
       "      <th>gt</th>\n",
       "      <th></th>\n",
       "      <th></th>\n",
       "      <th></th>\n",
       "      <th></th>\n",
       "      <th></th>\n",
       "      <th></th>\n",
       "      <th></th>\n",
       "    </tr>\n",
       "  </thead>\n",
       "  <tbody>\n",
       "    <tr>\n",
       "      <th rowspan=\"2\" valign=\"top\">ivt</th>\n",
       "      <th>MN</th>\n",
       "      <td>--</td>\n",
       "      <td>n.s.</td>\n",
       "      <td>n.s.</td>\n",
       "      <td>n.s.</td>\n",
       "      <td>**</td>\n",
       "      <td>*</td>\n",
       "      <td>n.s.</td>\n",
       "    </tr>\n",
       "    <tr>\n",
       "      <th>RA</th>\n",
       "      <td>--</td>\n",
       "      <td>n.s.</td>\n",
       "      <td>n.s.</td>\n",
       "      <td>n.s.</td>\n",
       "      <td>*</td>\n",
       "      <td>*</td>\n",
       "      <td>n.s.</td>\n",
       "    </tr>\n",
       "    <tr>\n",
       "      <th rowspan=\"2\" valign=\"top\">ivvt</th>\n",
       "      <th>MN</th>\n",
       "      <td>0.7061</td>\n",
       "      <td>--</td>\n",
       "      <td>†</td>\n",
       "      <td>*</td>\n",
       "      <td>***</td>\n",
       "      <td>***</td>\n",
       "      <td>n.s.</td>\n",
       "    </tr>\n",
       "    <tr>\n",
       "      <th>RA</th>\n",
       "      <td>0.7399</td>\n",
       "      <td>--</td>\n",
       "      <td>†</td>\n",
       "      <td>*</td>\n",
       "      <td>***</td>\n",
       "      <td>***</td>\n",
       "      <td>n.s.</td>\n",
       "    </tr>\n",
       "    <tr>\n",
       "      <th rowspan=\"2\" valign=\"top\">idt</th>\n",
       "      <th>MN</th>\n",
       "      <td>0.8681</td>\n",
       "      <td>0.0528</td>\n",
       "      <td>--</td>\n",
       "      <td>n.s.</td>\n",
       "      <td>n.s.</td>\n",
       "      <td>n.s.</td>\n",
       "      <td>n.s.</td>\n",
       "    </tr>\n",
       "    <tr>\n",
       "      <th>RA</th>\n",
       "      <td>0.8478</td>\n",
       "      <td>0.0544</td>\n",
       "      <td>--</td>\n",
       "      <td>n.s.</td>\n",
       "      <td>n.s.</td>\n",
       "      <td>n.s.</td>\n",
       "      <td>n.s.</td>\n",
       "    </tr>\n",
       "    <tr>\n",
       "      <th rowspan=\"2\" valign=\"top\">idvt</th>\n",
       "      <th>MN</th>\n",
       "      <td>0.5910</td>\n",
       "      <td>0.0101</td>\n",
       "      <td>0.9994</td>\n",
       "      <td>--</td>\n",
       "      <td>n.s.</td>\n",
       "      <td>n.s.</td>\n",
       "      <td>n.s.</td>\n",
       "    </tr>\n",
       "    <tr>\n",
       "      <th>RA</th>\n",
       "      <td>0.5596</td>\n",
       "      <td>0.0104</td>\n",
       "      <td>0.9994</td>\n",
       "      <td>--</td>\n",
       "      <td>n.s.</td>\n",
       "      <td>n.s.</td>\n",
       "      <td>n.s.</td>\n",
       "    </tr>\n",
       "    <tr>\n",
       "      <th rowspan=\"2\" valign=\"top\">engbert</th>\n",
       "      <th>MN</th>\n",
       "      <td>0.0075</td>\n",
       "      <td>0.0000</td>\n",
       "      <td>0.3416</td>\n",
       "      <td>0.6588</td>\n",
       "      <td>--</td>\n",
       "      <td>n.s.</td>\n",
       "      <td>***</td>\n",
       "    </tr>\n",
       "    <tr>\n",
       "      <th>RA</th>\n",
       "      <td>0.0124</td>\n",
       "      <td>0.0000</td>\n",
       "      <td>0.4532</td>\n",
       "      <td>0.7669</td>\n",
       "      <td>--</td>\n",
       "      <td>n.s.</td>\n",
       "      <td>***</td>\n",
       "    </tr>\n",
       "    <tr>\n",
       "      <th rowspan=\"2\" valign=\"top\">nh</th>\n",
       "      <th>MN</th>\n",
       "      <td>0.0153</td>\n",
       "      <td>0.0000</td>\n",
       "      <td>0.4594</td>\n",
       "      <td>0.7721</td>\n",
       "      <td>1.0000</td>\n",
       "      <td>--</td>\n",
       "      <td>**</td>\n",
       "    </tr>\n",
       "    <tr>\n",
       "      <th>RA</th>\n",
       "      <td>0.0362</td>\n",
       "      <td>0.0000</td>\n",
       "      <td>0.6588</td>\n",
       "      <td>0.9068</td>\n",
       "      <td>1.0000</td>\n",
       "      <td>--</td>\n",
       "      <td>**</td>\n",
       "    </tr>\n",
       "    <tr>\n",
       "      <th rowspan=\"2\" valign=\"top\">remodnav</th>\n",
       "      <th>MN</th>\n",
       "      <td>0.9988</td>\n",
       "      <td>0.9444</td>\n",
       "      <td>0.5533</td>\n",
       "      <td>0.2540</td>\n",
       "      <td>0.0007</td>\n",
       "      <td>0.0017</td>\n",
       "      <td>--</td>\n",
       "    </tr>\n",
       "    <tr>\n",
       "      <th>RA</th>\n",
       "      <td>0.9949</td>\n",
       "      <td>0.9810</td>\n",
       "      <td>0.4168</td>\n",
       "      <td>0.1628</td>\n",
       "      <td>0.0006</td>\n",
       "      <td>0.0026</td>\n",
       "      <td>--</td>\n",
       "    </tr>\n",
       "  </tbody>\n",
       "</table>\n",
       "</div>"
      ]
     },
     "execution_count": 14,
     "metadata": {},
     "output_type": "execute_result"
    }
   ],
   "execution_count": 14
  },
  {
   "metadata": {
    "ExecuteTime": {
     "end_time": "2025-01-22T08:05:09.494375Z",
     "start_time": "2025-01-22T08:05:09.481336Z"
    }
   },
   "cell_type": "code",
   "source": [
    "post_hoc_nld = sm.post_hoc_table(global_nemenyi, peyes.constants.COMPLEMENT_NLD_STR, [GT1, GT2], alpha=ALPHA, marginal_alpha=MARGINAL_ALPHA)\n",
    "post_hoc_nld"
   ],
   "id": "99f7350ffdc29f5c",
   "outputs": [
    {
     "data": {
      "text/plain": [
       "pred            ivt    ivvt     idt    idvt engbert      nh remodnav\n",
       "pred     gt                                                         \n",
       "ivt      MN      --    n.s.    n.s.    n.s.    n.s.    n.s.     n.s.\n",
       "         RA      --    n.s.    n.s.    n.s.    n.s.    n.s.     n.s.\n",
       "ivvt     MN  0.8258      --     ***      **      **     ***     n.s.\n",
       "         RA  0.8212      --      **      **      **      **     n.s.\n",
       "idt      MN  0.1541  0.0009      --    n.s.    n.s.    n.s.        *\n",
       "         RA  0.1793  0.0012      --    n.s.    n.s.    n.s.        *\n",
       "idvt     MN  0.1718  0.0012  1.0000      --    n.s.    n.s.        *\n",
       "         RA  0.1646  0.0010  1.0000      --    n.s.    n.s.        *\n",
       "engbert  MN  0.2783  0.0033  1.0000  1.0000      --    n.s.        *\n",
       "         RA  0.2540  0.0026  1.0000  1.0000      --    n.s.        *\n",
       "nh       MN  0.1393  0.0008  1.0000  1.0000  0.9999      --        *\n",
       "         RA  0.1812  0.0013  1.0000  1.0000  1.0000      --        *\n",
       "remodnav MN  0.9912  0.9963  0.0150  0.0177  0.0384  0.0129       --\n",
       "         RA  0.9856  0.9979  0.0145  0.0126  0.0258  0.0147       --"
      ],
      "text/html": [
       "<div>\n",
       "<style scoped>\n",
       "    .dataframe tbody tr th:only-of-type {\n",
       "        vertical-align: middle;\n",
       "    }\n",
       "\n",
       "    .dataframe tbody tr th {\n",
       "        vertical-align: top;\n",
       "    }\n",
       "\n",
       "    .dataframe thead th {\n",
       "        text-align: right;\n",
       "    }\n",
       "</style>\n",
       "<table border=\"1\" class=\"dataframe\">\n",
       "  <thead>\n",
       "    <tr style=\"text-align: right;\">\n",
       "      <th></th>\n",
       "      <th>pred</th>\n",
       "      <th>ivt</th>\n",
       "      <th>ivvt</th>\n",
       "      <th>idt</th>\n",
       "      <th>idvt</th>\n",
       "      <th>engbert</th>\n",
       "      <th>nh</th>\n",
       "      <th>remodnav</th>\n",
       "    </tr>\n",
       "    <tr>\n",
       "      <th>pred</th>\n",
       "      <th>gt</th>\n",
       "      <th></th>\n",
       "      <th></th>\n",
       "      <th></th>\n",
       "      <th></th>\n",
       "      <th></th>\n",
       "      <th></th>\n",
       "      <th></th>\n",
       "    </tr>\n",
       "  </thead>\n",
       "  <tbody>\n",
       "    <tr>\n",
       "      <th rowspan=\"2\" valign=\"top\">ivt</th>\n",
       "      <th>MN</th>\n",
       "      <td>--</td>\n",
       "      <td>n.s.</td>\n",
       "      <td>n.s.</td>\n",
       "      <td>n.s.</td>\n",
       "      <td>n.s.</td>\n",
       "      <td>n.s.</td>\n",
       "      <td>n.s.</td>\n",
       "    </tr>\n",
       "    <tr>\n",
       "      <th>RA</th>\n",
       "      <td>--</td>\n",
       "      <td>n.s.</td>\n",
       "      <td>n.s.</td>\n",
       "      <td>n.s.</td>\n",
       "      <td>n.s.</td>\n",
       "      <td>n.s.</td>\n",
       "      <td>n.s.</td>\n",
       "    </tr>\n",
       "    <tr>\n",
       "      <th rowspan=\"2\" valign=\"top\">ivvt</th>\n",
       "      <th>MN</th>\n",
       "      <td>0.8258</td>\n",
       "      <td>--</td>\n",
       "      <td>***</td>\n",
       "      <td>**</td>\n",
       "      <td>**</td>\n",
       "      <td>***</td>\n",
       "      <td>n.s.</td>\n",
       "    </tr>\n",
       "    <tr>\n",
       "      <th>RA</th>\n",
       "      <td>0.8212</td>\n",
       "      <td>--</td>\n",
       "      <td>**</td>\n",
       "      <td>**</td>\n",
       "      <td>**</td>\n",
       "      <td>**</td>\n",
       "      <td>n.s.</td>\n",
       "    </tr>\n",
       "    <tr>\n",
       "      <th rowspan=\"2\" valign=\"top\">idt</th>\n",
       "      <th>MN</th>\n",
       "      <td>0.1541</td>\n",
       "      <td>0.0009</td>\n",
       "      <td>--</td>\n",
       "      <td>n.s.</td>\n",
       "      <td>n.s.</td>\n",
       "      <td>n.s.</td>\n",
       "      <td>*</td>\n",
       "    </tr>\n",
       "    <tr>\n",
       "      <th>RA</th>\n",
       "      <td>0.1793</td>\n",
       "      <td>0.0012</td>\n",
       "      <td>--</td>\n",
       "      <td>n.s.</td>\n",
       "      <td>n.s.</td>\n",
       "      <td>n.s.</td>\n",
       "      <td>*</td>\n",
       "    </tr>\n",
       "    <tr>\n",
       "      <th rowspan=\"2\" valign=\"top\">idvt</th>\n",
       "      <th>MN</th>\n",
       "      <td>0.1718</td>\n",
       "      <td>0.0012</td>\n",
       "      <td>1.0000</td>\n",
       "      <td>--</td>\n",
       "      <td>n.s.</td>\n",
       "      <td>n.s.</td>\n",
       "      <td>*</td>\n",
       "    </tr>\n",
       "    <tr>\n",
       "      <th>RA</th>\n",
       "      <td>0.1646</td>\n",
       "      <td>0.0010</td>\n",
       "      <td>1.0000</td>\n",
       "      <td>--</td>\n",
       "      <td>n.s.</td>\n",
       "      <td>n.s.</td>\n",
       "      <td>*</td>\n",
       "    </tr>\n",
       "    <tr>\n",
       "      <th rowspan=\"2\" valign=\"top\">engbert</th>\n",
       "      <th>MN</th>\n",
       "      <td>0.2783</td>\n",
       "      <td>0.0033</td>\n",
       "      <td>1.0000</td>\n",
       "      <td>1.0000</td>\n",
       "      <td>--</td>\n",
       "      <td>n.s.</td>\n",
       "      <td>*</td>\n",
       "    </tr>\n",
       "    <tr>\n",
       "      <th>RA</th>\n",
       "      <td>0.2540</td>\n",
       "      <td>0.0026</td>\n",
       "      <td>1.0000</td>\n",
       "      <td>1.0000</td>\n",
       "      <td>--</td>\n",
       "      <td>n.s.</td>\n",
       "      <td>*</td>\n",
       "    </tr>\n",
       "    <tr>\n",
       "      <th rowspan=\"2\" valign=\"top\">nh</th>\n",
       "      <th>MN</th>\n",
       "      <td>0.1393</td>\n",
       "      <td>0.0008</td>\n",
       "      <td>1.0000</td>\n",
       "      <td>1.0000</td>\n",
       "      <td>0.9999</td>\n",
       "      <td>--</td>\n",
       "      <td>*</td>\n",
       "    </tr>\n",
       "    <tr>\n",
       "      <th>RA</th>\n",
       "      <td>0.1812</td>\n",
       "      <td>0.0013</td>\n",
       "      <td>1.0000</td>\n",
       "      <td>1.0000</td>\n",
       "      <td>1.0000</td>\n",
       "      <td>--</td>\n",
       "      <td>*</td>\n",
       "    </tr>\n",
       "    <tr>\n",
       "      <th rowspan=\"2\" valign=\"top\">remodnav</th>\n",
       "      <th>MN</th>\n",
       "      <td>0.9912</td>\n",
       "      <td>0.9963</td>\n",
       "      <td>0.0150</td>\n",
       "      <td>0.0177</td>\n",
       "      <td>0.0384</td>\n",
       "      <td>0.0129</td>\n",
       "      <td>--</td>\n",
       "    </tr>\n",
       "    <tr>\n",
       "      <th>RA</th>\n",
       "      <td>0.9856</td>\n",
       "      <td>0.9979</td>\n",
       "      <td>0.0145</td>\n",
       "      <td>0.0126</td>\n",
       "      <td>0.0258</td>\n",
       "      <td>0.0147</td>\n",
       "      <td>--</td>\n",
       "    </tr>\n",
       "  </tbody>\n",
       "</table>\n",
       "</div>"
      ]
     },
     "execution_count": 15,
     "metadata": {},
     "output_type": "execute_result"
    }
   ],
   "execution_count": 15
  },
  {
   "metadata": {},
   "cell_type": "markdown",
   "source": "#### Global Metrics Figure",
   "id": "e9c968dc34be949b"
  },
  {
   "metadata": {
    "ExecuteTime": {
     "end_time": "2025-01-22T08:05:09.802417Z",
     "start_time": "2025-01-22T08:05:09.542768Z"
    }
   },
   "cell_type": "code",
   "source": [
    "W, H = 600, 450\n",
    "\n",
    "global_metrics_fig = sm.global_metrics_distributions_figure(\n",
    "    global_measures,\n",
    "    gt1=GT1, gt2=GT2,\n",
    "    colors={k: v[1] for k, v in LABELER_PLOTTING_CONFIG.items()},\n",
    "    only_box=False,\n",
    "    show_other_gt=True,\n",
    "    share_x=True,\n",
    ")\n",
    "\n",
    "global_metrics_fig.update_traces(width=0.9)     # make violins wider so there's less space between them\n",
    "# Make \"Other GT\" violins double-sided\n",
    "for t in global_metrics_fig.data:\n",
    "    if t[\"legendgroup\"] != \"Other GT\":\n",
    "        continue\n",
    "    t[\"visible\"] = t[\"name\"].split(',')[0] == GT1\n",
    "    t[\"side\"] = None\n",
    "\n",
    "global_metrics_fig.update_layout(\n",
    "    title=None,\n",
    "    width=W, height=H,\n",
    "    paper_bgcolor='rgba(0, 0, 0, 0)', plot_bgcolor='rgba(0, 0, 0, 0)',\n",
    "    yaxis=dict(showgrid=False, zeroline=False, showline=False, range=[0, 1], tickfont=dict(size=14)),\n",
    "    yaxis2=dict(showgrid=False, zeroline=False, showline=False, range=[0, 1], tickfont=dict(size=14)),\n",
    "    yaxis3=dict(showgrid=False, zeroline=False, showline=False, range=[0, 1], tickfont=dict(size=14)),\n",
    "    xaxis3=dict(showgrid=False, tickfont=dict(size=14), tickangle=0),\n",
    "    margin=dict(l=10, r=10, b=10, t=10, pad=0),\n",
    "    showlegend=False,\n",
    ")\n",
    "# global_metrics_fig.layout.annotations = []    # remove subtitles\n",
    "\n",
    "\n",
    "save_fig(global_metrics_fig, FIG_ID, '', 'sample-global-metrics', IS_SUPP)\n",
    "global_metrics_fig.show()"
   ],
   "id": "3b12a7505fbebf62",
   "outputs": [
    {
     "data": {
      "application/vnd.plotly.v1+json": {
       "data": [
        {
         "box": {
          "visible": true
         },
         "fillcolor": "#bab0ac",
         "legendgroup": "Other GT",
         "line": {
          "color": "black"
         },
         "meanline": {
          "visible": true
         },
         "name": "RA, Other GT",
         "opacity": 0.75,
         "scalegroup": "cohen's_kappa",
         "showlegend": true,
         "spanmode": "hard",
         "x0": "Other GT",
         "y": [
          0.7899152982949046,
          0.8167270813164687,
          0.8525234034052656,
          0.18478994655459113,
          0.8455497220079832,
          0.8938078788411058,
          0.6809201414611208,
          0.9025626762784915,
          0.8502708287313709,
          0.9274454094813376
         ],
         "type": "violin",
         "xaxis": "x",
         "yaxis": "y",
         "width": 0.9,
         "visible": true
        },
        {
         "box": {
          "visible": true
         },
         "fillcolor": "#2E91E5",
         "legendgroup": "ivt",
         "line": {
          "color": "black"
         },
         "meanline": {
          "visible": true
         },
         "name": "RA, ivt",
         "opacity": 0.75,
         "scalegroup": "cohen's_kappa",
         "showlegend": true,
         "side": "positive",
         "spanmode": "hard",
         "x0": "ivt",
         "y": [
          0.0373718977830888,
          0.08363255045913609,
          0.012629485823843378,
          0.02662285057739877,
          0.012994631037802629,
          0.04375702006177651,
          0.020090585921995863,
          0.054010546992803055,
          0.008723867680310082,
          0.03626509097824404
         ],
         "type": "violin",
         "xaxis": "x",
         "yaxis": "y",
         "width": 0.9
        },
        {
         "box": {
          "visible": true
         },
         "fillcolor": "#E15F99",
         "legendgroup": "ivvt",
         "line": {
          "color": "black"
         },
         "meanline": {
          "visible": true
         },
         "name": "RA, ivvt",
         "opacity": 0.75,
         "scalegroup": "cohen's_kappa",
         "showlegend": true,
         "side": "positive",
         "spanmode": "hard",
         "x0": "ivvt",
         "y": [
          0.005815064793831981,
          0.020907790392868608,
          7.380883304615171E-4,
          0.001337750052182285,
          -2.9664765371029134E-5,
          0.006459471582144438,
          0.004007199161541353,
          0.008395786474451938,
          5.389552011825227E-5,
          0.004241961572669428
         ],
         "type": "violin",
         "xaxis": "x",
         "yaxis": "y",
         "width": 0.9
        },
        {
         "box": {
          "visible": true
         },
         "fillcolor": "#1CA71C",
         "legendgroup": "idt",
         "line": {
          "color": "black"
         },
         "meanline": {
          "visible": true
         },
         "name": "RA, idt",
         "opacity": 0.75,
         "scalegroup": "cohen's_kappa",
         "showlegend": true,
         "side": "positive",
         "spanmode": "hard",
         "x0": "idt",
         "y": [
          0.18371763342157632,
          0.1506322719752652,
          0.1259055360798651,
          0.057572280753538485,
          0.1731127329972877,
          0.15673648682998542,
          0.08057652936052584,
          0.07923223942632995,
          0.2092867430994494,
          0.20489491383778435
         ],
         "type": "violin",
         "xaxis": "x",
         "yaxis": "y",
         "width": 0.9
        },
        {
         "box": {
          "visible": true
         },
         "fillcolor": "#FB0D0D",
         "legendgroup": "idvt",
         "line": {
          "color": "black"
         },
         "meanline": {
          "visible": true
         },
         "name": "RA, idvt",
         "opacity": 0.75,
         "scalegroup": "cohen's_kappa",
         "showlegend": true,
         "side": "positive",
         "spanmode": "hard",
         "x0": "idvt",
         "y": [
          0.273425622513887,
          0.22144462078508942,
          0.14510963134264776,
          0.08023129125750394,
          0.1731127329972877,
          0.15673648682998542,
          0.1808129064355869,
          0.22066484150446164,
          0.19865095454128967,
          0.20489491383778435
         ],
         "type": "violin",
         "xaxis": "x",
         "yaxis": "y",
         "width": 0.9
        },
        {
         "box": {
          "visible": true
         },
         "fillcolor": "#DA16FF",
         "legendgroup": "engbert",
         "line": {
          "color": "black"
         },
         "meanline": {
          "visible": true
         },
         "name": "RA, engbert",
         "opacity": 0.75,
         "scalegroup": "cohen's_kappa",
         "showlegend": true,
         "side": "positive",
         "spanmode": "hard",
         "x0": "engbert",
         "y": [
          0.37181459073866674,
          0.36188127550592997,
          0.31440571036378295,
          0.14730246281100445,
          0.3754988332062843,
          0.38478100511415014,
          0.27985645106606194,
          0.3620284848685267,
          0.36901645786058435,
          0.3656189112420478
         ],
         "type": "violin",
         "xaxis": "x",
         "yaxis": "y",
         "width": 0.9
        },
        {
         "box": {
          "visible": true
         },
         "fillcolor": "#222A2A",
         "legendgroup": "nh",
         "line": {
          "color": "black"
         },
         "meanline": {
          "visible": true
         },
         "name": "RA, nh",
         "opacity": 0.75,
         "scalegroup": "cohen's_kappa",
         "showlegend": true,
         "side": "positive",
         "spanmode": "hard",
         "x0": "nh",
         "y": [
          0.3296681554076577,
          0.28069870965323007,
          0.30145276136568,
          0.13421478819070531,
          0.36712300077878,
          0.37364920416603375,
          0.24760510593979335,
          0.35162161567435857,
          0.37393902310933125,
          0.3632141120210346
         ],
         "type": "violin",
         "xaxis": "x",
         "yaxis": "y",
         "width": 0.9
        },
        {
         "box": {
          "visible": true
         },
         "fillcolor": "#B68100",
         "legendgroup": "remodnav",
         "line": {
          "color": "black"
         },
         "meanline": {
          "visible": true
         },
         "name": "RA, remodnav",
         "opacity": 0.75,
         "scalegroup": "cohen's_kappa",
         "showlegend": true,
         "side": "positive",
         "spanmode": "hard",
         "x0": "remodnav",
         "y": [
          0.02111843983747519,
          0.008140301796216276,
          0.007373100456707138,
          -0.027475265277772554,
          0.016189839856501687,
          0.023972443205002802,
          0.028164885416982477,
          0.010855040188487153,
          0.006042635355315129,
          0.019473519909945503
         ],
         "type": "violin",
         "xaxis": "x",
         "yaxis": "y",
         "width": 0.9
        },
        {
         "box": {
          "visible": true
         },
         "fillcolor": "#bab0ac",
         "legendgroup": "Other GT",
         "line": {
          "color": "black"
         },
         "meanline": {
          "visible": true
         },
         "name": "MN, Other GT",
         "opacity": 0.25,
         "scalegroup": "cohen's_kappa",
         "showlegend": true,
         "spanmode": "hard",
         "x0": "Other GT",
         "y": [
          0.7899152982949046,
          0.8167270813164687,
          0.8525234034052656,
          0.18478994655459113,
          0.8455497220079832,
          0.8938078788411058,
          0.6809201414611208,
          0.9025626762784915,
          0.8502708287313709,
          0.9274454094813376
         ],
         "type": "violin",
         "xaxis": "x",
         "yaxis": "y",
         "width": 0.9,
         "visible": false
        },
        {
         "box": {
          "visible": true
         },
         "fillcolor": "#2E91E5",
         "legendgroup": "ivt",
         "line": {
          "color": "black"
         },
         "meanline": {
          "visible": true
         },
         "name": "MN, ivt",
         "opacity": 0.25,
         "scalegroup": "cohen's_kappa",
         "showlegend": true,
         "side": "negative",
         "spanmode": "hard",
         "x0": "ivt",
         "y": [
          0.034026709697223545,
          0.0787162391153664,
          0.01150858712058267,
          0.06867146172987948,
          0.010925312880080584,
          0.043397781341595,
          0.03259935754861709,
          0.055696359633938375,
          0.005816914927639472,
          0.03519036679233423
         ],
         "type": "violin",
         "xaxis": "x",
         "yaxis": "y",
         "width": 0.9
        },
        {
         "box": {
          "visible": true
         },
         "fillcolor": "#E15F99",
         "legendgroup": "ivvt",
         "line": {
          "color": "black"
         },
         "meanline": {
          "visible": true
         },
         "name": "MN, ivvt",
         "opacity": 0.25,
         "scalegroup": "cohen's_kappa",
         "showlegend": true,
         "side": "negative",
         "spanmode": "hard",
         "x0": "ivvt",
         "y": [
          0.006620525410247269,
          0.015851655897215045,
          -1.7035478358651268E-4,
          0.002387400370775228,
          3.5737123992518605E-5,
          0.005944889582506718,
          0.0034783574914166726,
          0.008923583175250882,
          3.2416903851684165E-4,
          0.0025102823074135694
         ],
         "type": "violin",
         "xaxis": "x",
         "yaxis": "y",
         "width": 0.9
        },
        {
         "box": {
          "visible": true
         },
         "fillcolor": "#1CA71C",
         "legendgroup": "idt",
         "line": {
          "color": "black"
         },
         "meanline": {
          "visible": true
         },
         "name": "MN, idt",
         "opacity": 0.25,
         "scalegroup": "cohen's_kappa",
         "showlegend": true,
         "side": "negative",
         "spanmode": "hard",
         "x0": "idt",
         "y": [
          0.1418823125721841,
          0.13631691938799817,
          0.13150680445611584,
          0.10754606777144493,
          0.18653866280545794,
          0.15440540330122043,
          0.1416169273041178,
          0.08406743904764835,
          0.21691050399029477,
          0.20067390345617298
         ],
         "type": "violin",
         "xaxis": "x",
         "yaxis": "y",
         "width": 0.9
        },
        {
         "box": {
          "visible": true
         },
         "fillcolor": "#FB0D0D",
         "legendgroup": "idvt",
         "line": {
          "color": "black"
         },
         "meanline": {
          "visible": true
         },
         "name": "MN, idvt",
         "opacity": 0.25,
         "scalegroup": "cohen's_kappa",
         "showlegend": true,
         "side": "negative",
         "spanmode": "hard",
         "x0": "idvt",
         "y": [
          0.23682744345981066,
          0.20764699205977788,
          0.1262946969990334,
          0.15197906311497034,
          0.18653866280545794,
          0.15440540330122043,
          0.2577043934367602,
          0.22792018438224582,
          0.2058940654399546,
          0.20067390345617298
         ],
         "type": "violin",
         "xaxis": "x",
         "yaxis": "y",
         "width": 0.9
        },
        {
         "box": {
          "visible": true
         },
         "fillcolor": "#DA16FF",
         "legendgroup": "engbert",
         "line": {
          "color": "black"
         },
         "meanline": {
          "visible": true
         },
         "name": "MN, engbert",
         "opacity": 0.25,
         "scalegroup": "cohen's_kappa",
         "showlegend": true,
         "side": "negative",
         "spanmode": "hard",
         "x0": "engbert",
         "y": [
          0.35702508024659896,
          0.3593438184399447,
          0.30003595988404086,
          0.276428146663518,
          0.39734816896851055,
          0.3842803716294353,
          0.3907960620498875,
          0.3569749052959639,
          0.36698317700472805,
          0.35245327069379395
         ],
         "type": "violin",
         "xaxis": "x",
         "yaxis": "y",
         "width": 0.9
        },
        {
         "box": {
          "visible": true
         },
         "fillcolor": "#222A2A",
         "legendgroup": "nh",
         "line": {
          "color": "black"
         },
         "meanline": {
          "visible": true
         },
         "name": "MN, nh",
         "opacity": 0.25,
         "scalegroup": "cohen's_kappa",
         "showlegend": true,
         "side": "negative",
         "spanmode": "hard",
         "x0": "nh",
         "y": [
          0.34544925850537944,
          0.27085152627054243,
          0.2867080951112939,
          0.289247145717775,
          0.3838635956812201,
          0.3767314159711769,
          0.34397900369956314,
          0.36185901458771474,
          0.37413789876170533,
          0.36119661605716735
         ],
         "type": "violin",
         "xaxis": "x",
         "yaxis": "y",
         "width": 0.9
        },
        {
         "box": {
          "visible": true
         },
         "fillcolor": "#B68100",
         "legendgroup": "remodnav",
         "line": {
          "color": "black"
         },
         "meanline": {
          "visible": true
         },
         "name": "MN, remodnav",
         "opacity": 0.25,
         "scalegroup": "cohen's_kappa",
         "showlegend": true,
         "side": "negative",
         "spanmode": "hard",
         "x0": "remodnav",
         "y": [
          0.018960353734499558,
          0.009420543233647827,
          0.008710393349011358,
          0.02454800475700858,
          0.01651249594519233,
          0.023151874996276467,
          0.023753109963322805,
          0.011485783167213381,
          0.007367735995876035,
          0.021141658648486716
         ],
         "type": "violin",
         "xaxis": "x",
         "yaxis": "y",
         "width": 0.9
        },
        {
         "box": {
          "visible": true
         },
         "fillcolor": "#bab0ac",
         "legendgroup": "Other GT",
         "line": {
          "color": "black"
         },
         "meanline": {
          "visible": true
         },
         "name": "RA, Other GT",
         "opacity": 0.75,
         "scalegroup": "mcc",
         "showlegend": false,
         "spanmode": "hard",
         "x0": "Other GT",
         "y": [
          0.7914501137315476,
          0.8167393445602615,
          0.8525330507214318,
          0.1942318167476711,
          0.8462529080638328,
          0.8938618155692255,
          0.6892436609108646,
          0.9026658577145721,
          0.8504884572607601,
          0.9278734617814239
         ],
         "type": "violin",
         "xaxis": "x2",
         "yaxis": "y2",
         "width": 0.9,
         "visible": true
        },
        {
         "box": {
          "visible": true
         },
         "fillcolor": "#2E91E5",
         "legendgroup": "ivt",
         "line": {
          "color": "black"
         },
         "meanline": {
          "visible": true
         },
         "name": "RA, ivt",
         "opacity": 0.75,
         "scalegroup": "mcc",
         "showlegend": false,
         "side": "positive",
         "spanmode": "hard",
         "x0": "ivt",
         "y": [
          0.09229064858809581,
          0.14102508038154943,
          0.05142081445068589,
          0.04339650827749206,
          0.05562896282986012,
          0.10554054165914276,
          0.04852834975545024,
          0.10874417849034573,
          0.04196199195512001,
          0.0956001438298756
         ],
         "type": "violin",
         "xaxis": "x2",
         "yaxis": "y2",
         "width": 0.9
        },
        {
         "box": {
          "visible": true
         },
         "fillcolor": "#E15F99",
         "legendgroup": "ivvt",
         "line": {
          "color": "black"
         },
         "meanline": {
          "visible": true
         },
         "name": "RA, ivvt",
         "opacity": 0.75,
         "scalegroup": "mcc",
         "showlegend": false,
         "side": "positive",
         "spanmode": "hard",
         "x0": "ivvt",
         "y": [
          0.015629630416651896,
          0.04110656889637051,
          0.0031336364278141135,
          0.0025395498172998787,
          -1.304476626867236E-4,
          0.018506352561122204,
          0.010639960181950084,
          0.020697202147106127,
          2.50670597641678E-4,
          0.012381329680559968
         ],
         "type": "violin",
         "xaxis": "x2",
         "yaxis": "y2",
         "width": 0.9
        },
        {
         "box": {
          "visible": true
         },
         "fillcolor": "#1CA71C",
         "legendgroup": "idt",
         "line": {
          "color": "black"
         },
         "meanline": {
          "visible": true
         },
         "name": "RA, idt",
         "opacity": 0.75,
         "scalegroup": "mcc",
         "showlegend": false,
         "side": "positive",
         "spanmode": "hard",
         "x0": "idt",
         "y": [
          0.21276399256071454,
          0.2036120815574195,
          0.14097969634235732,
          0.10096618614477536,
          0.2221448521641679,
          0.21243133917590853,
          0.1025951583844031,
          0.11579150743329795,
          0.2596644594936049,
          0.25147940165746896
         ],
         "type": "violin",
         "xaxis": "x2",
         "yaxis": "y2",
         "width": 0.9
        },
        {
         "box": {
          "visible": true
         },
         "fillcolor": "#FB0D0D",
         "legendgroup": "idvt",
         "line": {
          "color": "black"
         },
         "meanline": {
          "visible": true
         },
         "name": "RA, idvt",
         "opacity": 0.75,
         "scalegroup": "mcc",
         "showlegend": false,
         "side": "positive",
         "spanmode": "hard",
         "x0": "idvt",
         "y": [
          0.2995004228908835,
          0.2680557703300506,
          0.16048485012786953,
          0.12076800817927136,
          0.22195174433988984,
          0.21243133917590853,
          0.20777586900657982,
          0.255330922791468,
          0.24703016742599515,
          0.25147940165746896
         ],
         "type": "violin",
         "xaxis": "x2",
         "yaxis": "y2",
         "width": 0.9
        },
        {
         "box": {
          "visible": true
         },
         "fillcolor": "#DA16FF",
         "legendgroup": "engbert",
         "line": {
          "color": "black"
         },
         "meanline": {
          "visible": true
         },
         "name": "RA, engbert",
         "opacity": 0.75,
         "scalegroup": "mcc",
         "showlegend": false,
         "side": "positive",
         "spanmode": "hard",
         "x0": "engbert",
         "y": [
          0.4002025054248202,
          0.40243790253680534,
          0.3367007834294615,
          0.1817308729651995,
          0.40070372484844274,
          0.41550713541695844,
          0.30779095907570864,
          0.3861707601684443,
          0.3926720275397718,
          0.39654566727342
         ],
         "type": "violin",
         "xaxis": "x2",
         "yaxis": "y2",
         "width": 0.9
        },
        {
         "box": {
          "visible": true
         },
         "fillcolor": "#222A2A",
         "legendgroup": "nh",
         "line": {
          "color": "black"
         },
         "meanline": {
          "visible": true
         },
         "name": "RA, nh",
         "opacity": 0.75,
         "scalegroup": "mcc",
         "showlegend": false,
         "side": "positive",
         "spanmode": "hard",
         "x0": "nh",
         "y": [
          0.3621989688999487,
          0.32199218408026786,
          0.32537508828922107,
          0.16773401439638655,
          0.3890148024827585,
          0.4008269113080145,
          0.283723056104242,
          0.3806324078782028,
          0.39684191375881755,
          0.39283509561567137
         ],
         "type": "violin",
         "xaxis": "x2",
         "yaxis": "y2",
         "width": 0.9
        },
        {
         "box": {
          "visible": true
         },
         "fillcolor": "#B68100",
         "legendgroup": "remodnav",
         "line": {
          "color": "black"
         },
         "meanline": {
          "visible": true
         },
         "name": "RA, remodnav",
         "opacity": 0.75,
         "scalegroup": "mcc",
         "showlegend": false,
         "side": "positive",
         "spanmode": "hard",
         "x0": "remodnav",
         "y": [
          0.0646551283660662,
          0.026208891551373986,
          0.0374708329088178,
          -0.06663734760244816,
          0.05435267785169429,
          0.06884042135596662,
          0.07231281035182326,
          0.03947870522630741,
          0.028906748455154375,
          0.057021481625562094
         ],
         "type": "violin",
         "xaxis": "x2",
         "yaxis": "y2",
         "width": 0.9
        },
        {
         "box": {
          "visible": true
         },
         "fillcolor": "#bab0ac",
         "legendgroup": "Other GT",
         "line": {
          "color": "black"
         },
         "meanline": {
          "visible": true
         },
         "name": "MN, Other GT",
         "opacity": 0.25,
         "scalegroup": "mcc",
         "showlegend": false,
         "spanmode": "hard",
         "x0": "Other GT",
         "y": [
          0.7914501137315476,
          0.8167393445602615,
          0.8525330507214318,
          0.1942318167476711,
          0.8462529080638328,
          0.8938618155692255,
          0.6892436609108646,
          0.9026658577145721,
          0.8504884572607601,
          0.9278734617814239
         ],
         "type": "violin",
         "xaxis": "x2",
         "yaxis": "y2",
         "width": 0.9,
         "visible": false
        },
        {
         "box": {
          "visible": true
         },
         "fillcolor": "#2E91E5",
         "legendgroup": "ivt",
         "line": {
          "color": "black"
         },
         "meanline": {
          "visible": true
         },
         "name": "MN, ivt",
         "opacity": 0.25,
         "scalegroup": "mcc",
         "showlegend": false,
         "side": "negative",
         "spanmode": "hard",
         "x0": "ivt",
         "y": [
          0.08715819733670058,
          0.13248894395028293,
          0.04701363194093007,
          0.12249831920907178,
          0.04820092458684497,
          0.10539825651099334,
          0.08575871956247944,
          0.11310687638898029,
          0.028455162726562302,
          0.09105899813056549
         ],
         "type": "violin",
         "xaxis": "x2",
         "yaxis": "y2",
         "width": 0.9
        },
        {
         "box": {
          "visible": true
         },
         "fillcolor": "#E15F99",
         "legendgroup": "ivvt",
         "line": {
          "color": "black"
         },
         "meanline": {
          "visible": true
         },
         "name": "MN, ivvt",
         "opacity": 0.25,
         "scalegroup": "mcc",
         "showlegend": false,
         "side": "negative",
         "spanmode": "hard",
         "x0": "ivvt",
         "y": [
          0.018534137374328907,
          0.031081997047059332,
          -7.257790072406781E-4,
          0.0052407614564482854,
          1.6214451805944744E-4,
          0.017166161832053533,
          0.010159361937677592,
          0.022223344946744147,
          0.0015341663470660647,
          0.00717655855833196
         ],
         "type": "violin",
         "xaxis": "x2",
         "yaxis": "y2",
         "width": 0.9
        },
        {
         "box": {
          "visible": true
         },
         "fillcolor": "#1CA71C",
         "legendgroup": "idt",
         "line": {
          "color": "black"
         },
         "meanline": {
          "visible": true
         },
         "name": "MN, idt",
         "opacity": 0.25,
         "scalegroup": "mcc",
         "showlegend": false,
         "side": "negative",
         "spanmode": "hard",
         "x0": "idt",
         "y": [
          0.1601843852436173,
          0.18491308333089693,
          0.146989853523677,
          0.14864677039334212,
          0.23361985210847372,
          0.20776564971629927,
          0.1661938651425991,
          0.12153620458833751,
          0.26570455107198976,
          0.25050784650818236
         ],
         "type": "violin",
         "xaxis": "x2",
         "yaxis": "y2",
         "width": 0.9
        },
        {
         "box": {
          "visible": true
         },
         "fillcolor": "#FB0D0D",
         "legendgroup": "idvt",
         "line": {
          "color": "black"
         },
         "meanline": {
          "visible": true
         },
         "name": "MN, idvt",
         "opacity": 0.25,
         "scalegroup": "mcc",
         "showlegend": false,
         "side": "negative",
         "spanmode": "hard",
         "x0": "idvt",
         "y": [
          0.25531588499781666,
          0.2520636524302541,
          0.13944742954765116,
          0.1864465765051345,
          0.23341676920599216,
          0.20776564971629927,
          0.2804560428414013,
          0.2619118163331133,
          0.25278123856270696,
          0.25050784650818236
         ],
         "type": "violin",
         "xaxis": "x2",
         "yaxis": "y2",
         "width": 0.9
        },
        {
         "box": {
          "visible": true
         },
         "fillcolor": "#DA16FF",
         "legendgroup": "engbert",
         "line": {
          "color": "black"
         },
         "meanline": {
          "visible": true
         },
         "name": "MN, engbert",
         "opacity": 0.25,
         "scalegroup": "mcc",
         "showlegend": false,
         "side": "negative",
         "spanmode": "hard",
         "x0": "engbert",
         "y": [
          0.3825715754818897,
          0.4000423960039333,
          0.32117742085917844,
          0.30354823075242093,
          0.42139166499723946,
          0.41413411397283795,
          0.416842444338718,
          0.3803582430697206,
          0.38939582970544695,
          0.3839352308249139
         ],
         "type": "violin",
         "xaxis": "x2",
         "yaxis": "y2",
         "width": 0.9
        },
        {
         "box": {
          "visible": true
         },
         "fillcolor": "#222A2A",
         "legendgroup": "nh",
         "line": {
          "color": "black"
         },
         "meanline": {
          "visible": true
         },
         "name": "MN, nh",
         "opacity": 0.25,
         "scalegroup": "mcc",
         "showlegend": false,
         "side": "negative",
         "spanmode": "hard",
         "x0": "nh",
         "y": [
          0.3748034157097121,
          0.3113333328973617,
          0.30908114981410706,
          0.32218398315251207,
          0.4048231261686137,
          0.4035477920512846,
          0.3744439251245404,
          0.39040043636665134,
          0.3958232864591679,
          0.39175665037999047
         ],
         "type": "violin",
         "xaxis": "x2",
         "yaxis": "y2",
         "width": 0.9
        },
        {
         "box": {
          "visible": true
         },
         "fillcolor": "#B68100",
         "legendgroup": "remodnav",
         "line": {
          "color": "black"
         },
         "meanline": {
          "visible": true
         },
         "name": "MN, remodnav",
         "opacity": 0.25,
         "scalegroup": "mcc",
         "showlegend": false,
         "side": "negative",
         "spanmode": "hard",
         "x0": "remodnav",
         "y": [
          0.06035083778177444,
          0.030247928654065816,
          0.044417905154814724,
          0.0680458374830008,
          0.05710819006521059,
          0.06697192227014769,
          0.06662784650613457,
          0.04219454507758105,
          0.03585053547676064,
          0.06071235629451611
         ],
         "type": "violin",
         "xaxis": "x2",
         "yaxis": "y2",
         "width": 0.9
        },
        {
         "box": {
          "visible": true
         },
         "fillcolor": "#bab0ac",
         "legendgroup": "Other GT",
         "line": {
          "color": "black"
         },
         "meanline": {
          "visible": true
         },
         "name": "RA, Other GT",
         "opacity": 0.75,
         "scalegroup": "complement_nld",
         "showlegend": false,
         "spanmode": "hard",
         "x0": "Other GT",
         "y": [
          0.9415815193247445,
          0.9346956908040871,
          0.96756276383026,
          0.75083351855968,
          0.9700199866755497,
          0.9751276926493448,
          0.9291583388851876,
          0.9786666666666667,
          0.973561430793157,
          0.9815719360568383
         ],
         "type": "violin",
         "xaxis": "x3",
         "yaxis": "y3",
         "width": 0.9,
         "visible": true
        },
        {
         "box": {
          "visible": true
         },
         "fillcolor": "#2E91E5",
         "legendgroup": "ivt",
         "line": {
          "color": "black"
         },
         "meanline": {
          "visible": true
         },
         "name": "RA, ivt",
         "opacity": 0.75,
         "scalegroup": "complement_nld",
         "showlegend": false,
         "side": "positive",
         "spanmode": "hard",
         "x0": "ivt",
         "y": [
          0.19902265659706797,
          0.3442914260328743,
          0.11064207953788052,
          0.28317403867526114,
          0.11570064401510105,
          0.277592715967133,
          0.16877637130801693,
          0.3137777777777778,
          0.09464563430348816,
          0.2293516873889876
         ],
         "type": "violin",
         "xaxis": "x3",
         "yaxis": "y3",
         "width": 0.9
        },
        {
         "box": {
          "visible": true
         },
         "fillcolor": "#E15F99",
         "legendgroup": "ivvt",
         "line": {
          "color": "black"
         },
         "meanline": {
          "visible": true
         },
         "name": "RA, ivvt",
         "opacity": 0.75,
         "scalegroup": "complement_nld",
         "showlegend": false,
         "side": "positive",
         "spanmode": "hard",
         "x0": "ivvt",
         "y": [
          0.05864060417592176,
          0.1261661483784985,
          0.026660742057320608,
          0.07535007779506553,
          0.027093049078392162,
          0.06950921607817007,
          0.04841216966466799,
          0.0902222222222222,
          0.025994223505887537,
          0.07437833037300179
         ],
         "type": "violin",
         "xaxis": "x3",
         "yaxis": "y3",
         "width": 0.9
        },
        {
         "box": {
          "visible": true
         },
         "fillcolor": "#1CA71C",
         "legendgroup": "idt",
         "line": {
          "color": "black"
         },
         "meanline": {
          "visible": true
         },
         "name": "RA, idt",
         "opacity": 0.75,
         "scalegroup": "complement_nld",
         "showlegend": false,
         "side": "positive",
         "spanmode": "hard",
         "x0": "idt",
         "y": [
          0.7956463793869392,
          0.754775655264327,
          0.8280382137302822,
          0.6630362302733941,
          0.8763046857650455,
          0.856318010215412,
          0.7577170775038863,
          0.8302222222222222,
          0.880915352143968,
          0.8439165186500888
         ],
         "type": "violin",
         "xaxis": "x3",
         "yaxis": "y3",
         "width": 0.9
        },
        {
         "box": {
          "visible": true
         },
         "fillcolor": "#FB0D0D",
         "legendgroup": "idvt",
         "line": {
          "color": "black"
         },
         "meanline": {
          "visible": true
         },
         "name": "RA, idvt",
         "opacity": 0.75,
         "scalegroup": "complement_nld",
         "showlegend": false,
         "side": "positive",
         "spanmode": "hard",
         "x0": "idvt",
         "y": [
          0.7965348733896046,
          0.7554420257663261,
          0.8282603865807598,
          0.6565903534118693,
          0.8763046857650455,
          0.856318010215412,
          0.75793915167666,
          0.8313333333333334,
          0.8791379693401467,
          0.8439165186500888
         ],
         "type": "violin",
         "xaxis": "x3",
         "yaxis": "y3",
         "width": 0.9
        },
        {
         "box": {
          "visible": true
         },
         "fillcolor": "#DA16FF",
         "legendgroup": "engbert",
         "line": {
          "color": "black"
         },
         "meanline": {
          "visible": true
         },
         "name": "RA, engbert",
         "opacity": 0.75,
         "scalegroup": "complement_nld",
         "showlegend": false,
         "side": "positive",
         "spanmode": "hard",
         "x0": "engbert",
         "y": [
          0.7978676143936029,
          0.7490004442470013,
          0.8304821150855366,
          0.6525894643254057,
          0.8711969797912502,
          0.8527648234510327,
          0.7674883411059293,
          0.8148888888888889,
          0.8680293268162631,
          0.8294849023090586
         ],
         "type": "violin",
         "xaxis": "x3",
         "yaxis": "y3",
         "width": 0.9
        },
        {
         "box": {
          "visible": true
         },
         "fillcolor": "#222A2A",
         "legendgroup": "nh",
         "line": {
          "color": "black"
         },
         "meanline": {
          "visible": true
         },
         "name": "RA, nh",
         "opacity": 0.75,
         "scalegroup": "complement_nld",
         "showlegend": false,
         "side": "positive",
         "spanmode": "hard",
         "x0": "nh",
         "y": [
          0.8076410484229232,
          0.7538871612616614,
          0.8575872028438125,
          0.6452545010002222,
          0.8705307572729292,
          0.8505440817232955,
          0.7734843437708194,
          0.8377777777777777,
          0.8760275494334593,
          0.8274866785079928
         ],
         "type": "violin",
         "xaxis": "x3",
         "yaxis": "y3",
         "width": 0.9
        },
        {
         "box": {
          "visible": true
         },
         "fillcolor": "#B68100",
         "legendgroup": "remodnav",
         "line": {
          "color": "black"
         },
         "meanline": {
          "visible": true
         },
         "name": "RA, remodnav",
         "opacity": 0.75,
         "scalegroup": "complement_nld",
         "showlegend": false,
         "side": "positive",
         "spanmode": "hard",
         "x0": "remodnav",
         "y": [
          0.11239449133718349,
          0.057529986672589906,
          0.06087536103088198,
          0.06912647254945548,
          0.1496779924494781,
          0.17543859649122806,
          0.13590939373750832,
          0.07977777777777773,
          0.06554099089091314,
          0.15031083481349916
         ],
         "type": "violin",
         "xaxis": "x3",
         "yaxis": "y3",
         "width": 0.9
        },
        {
         "box": {
          "visible": true
         },
         "fillcolor": "#bab0ac",
         "legendgroup": "Other GT",
         "line": {
          "color": "black"
         },
         "meanline": {
          "visible": true
         },
         "name": "MN, Other GT",
         "opacity": 0.25,
         "scalegroup": "complement_nld",
         "showlegend": false,
         "spanmode": "hard",
         "x0": "Other GT",
         "y": [
          0.9415815193247445,
          0.9346956908040871,
          0.96756276383026,
          0.75083351855968,
          0.9700199866755497,
          0.9751276926493448,
          0.9291583388851876,
          0.9786666666666667,
          0.973561430793157,
          0.9815719360568383
         ],
         "type": "violin",
         "xaxis": "x3",
         "yaxis": "y3",
         "width": 0.9,
         "visible": false
        },
        {
         "box": {
          "visible": true
         },
         "fillcolor": "#2E91E5",
         "legendgroup": "ivt",
         "line": {
          "color": "black"
         },
         "meanline": {
          "visible": true
         },
         "name": "MN, ivt",
         "opacity": 0.25,
         "scalegroup": "complement_nld",
         "showlegend": false,
         "side": "negative",
         "spanmode": "hard",
         "x0": "ivt",
         "y": [
          0.1996890270990671,
          0.33873833851621504,
          0.10953121528549215,
          0.3374083129584352,
          0.11570064401510105,
          0.2780368643126805,
          0.18409948922940267,
          0.3171111111111111,
          0.09109086869584537,
          0.22757548845470688
         ],
         "type": "violin",
         "xaxis": "x3",
         "yaxis": "y3",
         "width": 0.9
        },
        {
         "box": {
          "visible": true
         },
         "fillcolor": "#E15F99",
         "legendgroup": "ivvt",
         "line": {
          "color": "black"
         },
         "meanline": {
          "visible": true
         },
         "name": "MN, ivvt",
         "opacity": 0.25,
         "scalegroup": "complement_nld",
         "showlegend": false,
         "side": "negative",
         "spanmode": "hard",
         "x0": "ivvt",
         "y": [
          0.059529098178587314,
          0.12194580186583737,
          0.025327704954454577,
          0.08201822627250499,
          0.026426826560071115,
          0.06928714190539642,
          0.04863424383744175,
          0.09133333333333338,
          0.026660742057320608,
          0.07415630550621666
         ],
         "type": "violin",
         "xaxis": "x3",
         "yaxis": "y3",
         "width": 0.9
        },
        {
         "box": {
          "visible": true
         },
         "fillcolor": "#1CA71C",
         "legendgroup": "idt",
         "line": {
          "color": "black"
         },
         "meanline": {
          "visible": true
         },
         "name": "MN, idt",
         "opacity": 0.25,
         "scalegroup": "complement_nld",
         "showlegend": false,
         "side": "negative",
         "spanmode": "hard",
         "x0": "idt",
         "y": [
          0.8003109729009329,
          0.7481119502443359,
          0.8307042879360143,
          0.7826183596354745,
          0.8849655785032201,
          0.8587608261159227,
          0.8065733955141017,
          0.8346666666666667,
          0.8855809820039992,
          0.8370337477797514
         ],
         "type": "violin",
         "xaxis": "x3",
         "yaxis": "y3",
         "width": 0.9
        },
        {
         "box": {
          "visible": true
         },
         "fillcolor": "#FB0D0D",
         "legendgroup": "idvt",
         "line": {
          "color": "black"
         },
         "meanline": {
          "visible": true
         },
         "name": "MN, idvt",
         "opacity": 0.25,
         "scalegroup": "complement_nld",
         "showlegend": false,
         "side": "negative",
         "spanmode": "hard",
         "x0": "idvt",
         "y": [
          0.7994224788982675,
          0.7496668147490004,
          0.8264830037769384,
          0.7755056679262058,
          0.8849655785032201,
          0.8587608261159227,
          0.8087941372418388,
          0.8357777777777777,
          0.8838035992001777,
          0.8370337477797514
         ],
         "type": "violin",
         "xaxis": "x3",
         "yaxis": "y3",
         "width": 0.9
        },
        {
         "box": {
          "visible": true
         },
         "fillcolor": "#DA16FF",
         "legendgroup": "engbert",
         "line": {
          "color": "black"
         },
         "meanline": {
          "visible": true
         },
         "name": "MN, engbert",
         "opacity": 0.25,
         "scalegroup": "complement_nld",
         "showlegend": false,
         "side": "negative",
         "spanmode": "hard",
         "x0": "engbert",
         "y": [
          0.8023100844069302,
          0.747001332741004,
          0.8273716951788491,
          0.7615025561235831,
          0.8800799467021986,
          0.8543193426604486,
          0.819231623362203,
          0.8157777777777777,
          0.8715840924239058,
          0.8219360568383659
         ],
         "type": "violin",
         "xaxis": "x3",
         "yaxis": "y3",
         "width": 0.9
        },
        {
         "box": {
          "visible": true
         },
         "fillcolor": "#222A2A",
         "legendgroup": "nh",
         "line": {
          "color": "black"
         },
         "meanline": {
          "visible": true
         },
         "name": "MN, nh",
         "opacity": 0.25,
         "scalegroup": "complement_nld",
         "showlegend": false,
         "side": "negative",
         "spanmode": "hard",
         "x0": "nh",
         "y": [
          0.8205242114615726,
          0.751221679253665,
          0.853143745834259,
          0.7661702600577907,
          0.8778592049744615,
          0.8532089717965801,
          0.8281145902731513,
          0.8424444444444444,
          0.8766940679848922,
          0.8217140319715808
         ],
         "type": "violin",
         "xaxis": "x3",
         "yaxis": "y3",
         "width": 0.9
        },
        {
         "box": {
          "visible": true
         },
         "fillcolor": "#B68100",
         "legendgroup": "remodnav",
         "line": {
          "color": "black"
         },
         "meanline": {
          "visible": true
         },
         "name": "MN, remodnav",
         "opacity": 0.25,
         "scalegroup": "complement_nld",
         "showlegend": false,
         "side": "negative",
         "spanmode": "hard",
         "x0": "remodnav",
         "y": [
          0.11039537983118619,
          0.05819635717458904,
          0.06198622528327036,
          0.12024894420982446,
          0.15123251165889406,
          0.17521652231845442,
          0.13946258050188765,
          0.08044444444444443,
          0.0657631637413908,
          0.15008880994671403
         ],
         "type": "violin",
         "xaxis": "x3",
         "yaxis": "y3",
         "width": 0.9
        }
       ],
       "layout": {
        "template": {
         "data": {
          "histogram2dcontour": [
           {
            "type": "histogram2dcontour",
            "colorbar": {
             "outlinewidth": 0,
             "ticks": ""
            },
            "colorscale": [
             [
              0.0,
              "#0d0887"
             ],
             [
              0.1111111111111111,
              "#46039f"
             ],
             [
              0.2222222222222222,
              "#7201a8"
             ],
             [
              0.3333333333333333,
              "#9c179e"
             ],
             [
              0.4444444444444444,
              "#bd3786"
             ],
             [
              0.5555555555555556,
              "#d8576b"
             ],
             [
              0.6666666666666666,
              "#ed7953"
             ],
             [
              0.7777777777777778,
              "#fb9f3a"
             ],
             [
              0.8888888888888888,
              "#fdca26"
             ],
             [
              1.0,
              "#f0f921"
             ]
            ]
           }
          ],
          "choropleth": [
           {
            "type": "choropleth",
            "colorbar": {
             "outlinewidth": 0,
             "ticks": ""
            }
           }
          ],
          "histogram2d": [
           {
            "type": "histogram2d",
            "colorbar": {
             "outlinewidth": 0,
             "ticks": ""
            },
            "colorscale": [
             [
              0.0,
              "#0d0887"
             ],
             [
              0.1111111111111111,
              "#46039f"
             ],
             [
              0.2222222222222222,
              "#7201a8"
             ],
             [
              0.3333333333333333,
              "#9c179e"
             ],
             [
              0.4444444444444444,
              "#bd3786"
             ],
             [
              0.5555555555555556,
              "#d8576b"
             ],
             [
              0.6666666666666666,
              "#ed7953"
             ],
             [
              0.7777777777777778,
              "#fb9f3a"
             ],
             [
              0.8888888888888888,
              "#fdca26"
             ],
             [
              1.0,
              "#f0f921"
             ]
            ]
           }
          ],
          "heatmap": [
           {
            "type": "heatmap",
            "colorbar": {
             "outlinewidth": 0,
             "ticks": ""
            },
            "colorscale": [
             [
              0.0,
              "#0d0887"
             ],
             [
              0.1111111111111111,
              "#46039f"
             ],
             [
              0.2222222222222222,
              "#7201a8"
             ],
             [
              0.3333333333333333,
              "#9c179e"
             ],
             [
              0.4444444444444444,
              "#bd3786"
             ],
             [
              0.5555555555555556,
              "#d8576b"
             ],
             [
              0.6666666666666666,
              "#ed7953"
             ],
             [
              0.7777777777777778,
              "#fb9f3a"
             ],
             [
              0.8888888888888888,
              "#fdca26"
             ],
             [
              1.0,
              "#f0f921"
             ]
            ]
           }
          ],
          "heatmapgl": [
           {
            "type": "heatmapgl",
            "colorbar": {
             "outlinewidth": 0,
             "ticks": ""
            },
            "colorscale": [
             [
              0.0,
              "#0d0887"
             ],
             [
              0.1111111111111111,
              "#46039f"
             ],
             [
              0.2222222222222222,
              "#7201a8"
             ],
             [
              0.3333333333333333,
              "#9c179e"
             ],
             [
              0.4444444444444444,
              "#bd3786"
             ],
             [
              0.5555555555555556,
              "#d8576b"
             ],
             [
              0.6666666666666666,
              "#ed7953"
             ],
             [
              0.7777777777777778,
              "#fb9f3a"
             ],
             [
              0.8888888888888888,
              "#fdca26"
             ],
             [
              1.0,
              "#f0f921"
             ]
            ]
           }
          ],
          "contourcarpet": [
           {
            "type": "contourcarpet",
            "colorbar": {
             "outlinewidth": 0,
             "ticks": ""
            }
           }
          ],
          "contour": [
           {
            "type": "contour",
            "colorbar": {
             "outlinewidth": 0,
             "ticks": ""
            },
            "colorscale": [
             [
              0.0,
              "#0d0887"
             ],
             [
              0.1111111111111111,
              "#46039f"
             ],
             [
              0.2222222222222222,
              "#7201a8"
             ],
             [
              0.3333333333333333,
              "#9c179e"
             ],
             [
              0.4444444444444444,
              "#bd3786"
             ],
             [
              0.5555555555555556,
              "#d8576b"
             ],
             [
              0.6666666666666666,
              "#ed7953"
             ],
             [
              0.7777777777777778,
              "#fb9f3a"
             ],
             [
              0.8888888888888888,
              "#fdca26"
             ],
             [
              1.0,
              "#f0f921"
             ]
            ]
           }
          ],
          "surface": [
           {
            "type": "surface",
            "colorbar": {
             "outlinewidth": 0,
             "ticks": ""
            },
            "colorscale": [
             [
              0.0,
              "#0d0887"
             ],
             [
              0.1111111111111111,
              "#46039f"
             ],
             [
              0.2222222222222222,
              "#7201a8"
             ],
             [
              0.3333333333333333,
              "#9c179e"
             ],
             [
              0.4444444444444444,
              "#bd3786"
             ],
             [
              0.5555555555555556,
              "#d8576b"
             ],
             [
              0.6666666666666666,
              "#ed7953"
             ],
             [
              0.7777777777777778,
              "#fb9f3a"
             ],
             [
              0.8888888888888888,
              "#fdca26"
             ],
             [
              1.0,
              "#f0f921"
             ]
            ]
           }
          ],
          "mesh3d": [
           {
            "type": "mesh3d",
            "colorbar": {
             "outlinewidth": 0,
             "ticks": ""
            }
           }
          ],
          "scatter": [
           {
            "fillpattern": {
             "fillmode": "overlay",
             "size": 10,
             "solidity": 0.2
            },
            "type": "scatter"
           }
          ],
          "parcoords": [
           {
            "type": "parcoords",
            "line": {
             "colorbar": {
              "outlinewidth": 0,
              "ticks": ""
             }
            }
           }
          ],
          "scatterpolargl": [
           {
            "type": "scatterpolargl",
            "marker": {
             "colorbar": {
              "outlinewidth": 0,
              "ticks": ""
             }
            }
           }
          ],
          "bar": [
           {
            "error_x": {
             "color": "#2a3f5f"
            },
            "error_y": {
             "color": "#2a3f5f"
            },
            "marker": {
             "line": {
              "color": "#E5ECF6",
              "width": 0.5
             },
             "pattern": {
              "fillmode": "overlay",
              "size": 10,
              "solidity": 0.2
             }
            },
            "type": "bar"
           }
          ],
          "scattergeo": [
           {
            "type": "scattergeo",
            "marker": {
             "colorbar": {
              "outlinewidth": 0,
              "ticks": ""
             }
            }
           }
          ],
          "scatterpolar": [
           {
            "type": "scatterpolar",
            "marker": {
             "colorbar": {
              "outlinewidth": 0,
              "ticks": ""
             }
            }
           }
          ],
          "histogram": [
           {
            "marker": {
             "pattern": {
              "fillmode": "overlay",
              "size": 10,
              "solidity": 0.2
             }
            },
            "type": "histogram"
           }
          ],
          "scattergl": [
           {
            "type": "scattergl",
            "marker": {
             "colorbar": {
              "outlinewidth": 0,
              "ticks": ""
             }
            }
           }
          ],
          "scatter3d": [
           {
            "type": "scatter3d",
            "line": {
             "colorbar": {
              "outlinewidth": 0,
              "ticks": ""
             }
            },
            "marker": {
             "colorbar": {
              "outlinewidth": 0,
              "ticks": ""
             }
            }
           }
          ],
          "scattermapbox": [
           {
            "type": "scattermapbox",
            "marker": {
             "colorbar": {
              "outlinewidth": 0,
              "ticks": ""
             }
            }
           }
          ],
          "scatterternary": [
           {
            "type": "scatterternary",
            "marker": {
             "colorbar": {
              "outlinewidth": 0,
              "ticks": ""
             }
            }
           }
          ],
          "scattercarpet": [
           {
            "type": "scattercarpet",
            "marker": {
             "colorbar": {
              "outlinewidth": 0,
              "ticks": ""
             }
            }
           }
          ],
          "carpet": [
           {
            "aaxis": {
             "endlinecolor": "#2a3f5f",
             "gridcolor": "white",
             "linecolor": "white",
             "minorgridcolor": "white",
             "startlinecolor": "#2a3f5f"
            },
            "baxis": {
             "endlinecolor": "#2a3f5f",
             "gridcolor": "white",
             "linecolor": "white",
             "minorgridcolor": "white",
             "startlinecolor": "#2a3f5f"
            },
            "type": "carpet"
           }
          ],
          "table": [
           {
            "cells": {
             "fill": {
              "color": "#EBF0F8"
             },
             "line": {
              "color": "white"
             }
            },
            "header": {
             "fill": {
              "color": "#C8D4E3"
             },
             "line": {
              "color": "white"
             }
            },
            "type": "table"
           }
          ],
          "barpolar": [
           {
            "marker": {
             "line": {
              "color": "#E5ECF6",
              "width": 0.5
             },
             "pattern": {
              "fillmode": "overlay",
              "size": 10,
              "solidity": 0.2
             }
            },
            "type": "barpolar"
           }
          ],
          "pie": [
           {
            "automargin": true,
            "type": "pie"
           }
          ]
         },
         "layout": {
          "autotypenumbers": "strict",
          "colorway": [
           "#636efa",
           "#EF553B",
           "#00cc96",
           "#ab63fa",
           "#FFA15A",
           "#19d3f3",
           "#FF6692",
           "#B6E880",
           "#FF97FF",
           "#FECB52"
          ],
          "font": {
           "color": "#2a3f5f"
          },
          "hovermode": "closest",
          "hoverlabel": {
           "align": "left"
          },
          "paper_bgcolor": "white",
          "plot_bgcolor": "#E5ECF6",
          "polar": {
           "bgcolor": "#E5ECF6",
           "angularaxis": {
            "gridcolor": "white",
            "linecolor": "white",
            "ticks": ""
           },
           "radialaxis": {
            "gridcolor": "white",
            "linecolor": "white",
            "ticks": ""
           }
          },
          "ternary": {
           "bgcolor": "#E5ECF6",
           "aaxis": {
            "gridcolor": "white",
            "linecolor": "white",
            "ticks": ""
           },
           "baxis": {
            "gridcolor": "white",
            "linecolor": "white",
            "ticks": ""
           },
           "caxis": {
            "gridcolor": "white",
            "linecolor": "white",
            "ticks": ""
           }
          },
          "coloraxis": {
           "colorbar": {
            "outlinewidth": 0,
            "ticks": ""
           }
          },
          "colorscale": {
           "sequential": [
            [
             0.0,
             "#0d0887"
            ],
            [
             0.1111111111111111,
             "#46039f"
            ],
            [
             0.2222222222222222,
             "#7201a8"
            ],
            [
             0.3333333333333333,
             "#9c179e"
            ],
            [
             0.4444444444444444,
             "#bd3786"
            ],
            [
             0.5555555555555556,
             "#d8576b"
            ],
            [
             0.6666666666666666,
             "#ed7953"
            ],
            [
             0.7777777777777778,
             "#fb9f3a"
            ],
            [
             0.8888888888888888,
             "#fdca26"
            ],
            [
             1.0,
             "#f0f921"
            ]
           ],
           "sequentialminus": [
            [
             0.0,
             "#0d0887"
            ],
            [
             0.1111111111111111,
             "#46039f"
            ],
            [
             0.2222222222222222,
             "#7201a8"
            ],
            [
             0.3333333333333333,
             "#9c179e"
            ],
            [
             0.4444444444444444,
             "#bd3786"
            ],
            [
             0.5555555555555556,
             "#d8576b"
            ],
            [
             0.6666666666666666,
             "#ed7953"
            ],
            [
             0.7777777777777778,
             "#fb9f3a"
            ],
            [
             0.8888888888888888,
             "#fdca26"
            ],
            [
             1.0,
             "#f0f921"
            ]
           ],
           "diverging": [
            [
             0,
             "#8e0152"
            ],
            [
             0.1,
             "#c51b7d"
            ],
            [
             0.2,
             "#de77ae"
            ],
            [
             0.3,
             "#f1b6da"
            ],
            [
             0.4,
             "#fde0ef"
            ],
            [
             0.5,
             "#f7f7f7"
            ],
            [
             0.6,
             "#e6f5d0"
            ],
            [
             0.7,
             "#b8e186"
            ],
            [
             0.8,
             "#7fbc41"
            ],
            [
             0.9,
             "#4d9221"
            ],
            [
             1,
             "#276419"
            ]
           ]
          },
          "xaxis": {
           "gridcolor": "white",
           "linecolor": "white",
           "ticks": "",
           "title": {
            "standoff": 15
           },
           "zerolinecolor": "white",
           "automargin": true,
           "zerolinewidth": 2
          },
          "yaxis": {
           "gridcolor": "white",
           "linecolor": "white",
           "ticks": "",
           "title": {
            "standoff": 15
           },
           "zerolinecolor": "white",
           "automargin": true,
           "zerolinewidth": 2
          },
          "scene": {
           "xaxis": {
            "backgroundcolor": "#E5ECF6",
            "gridcolor": "white",
            "linecolor": "white",
            "showbackground": true,
            "ticks": "",
            "zerolinecolor": "white",
            "gridwidth": 2
           },
           "yaxis": {
            "backgroundcolor": "#E5ECF6",
            "gridcolor": "white",
            "linecolor": "white",
            "showbackground": true,
            "ticks": "",
            "zerolinecolor": "white",
            "gridwidth": 2
           },
           "zaxis": {
            "backgroundcolor": "#E5ECF6",
            "gridcolor": "white",
            "linecolor": "white",
            "showbackground": true,
            "ticks": "",
            "zerolinecolor": "white",
            "gridwidth": 2
           }
          },
          "shapedefaults": {
           "line": {
            "color": "#2a3f5f"
           }
          },
          "annotationdefaults": {
           "arrowcolor": "#2a3f5f",
           "arrowhead": 0,
           "arrowwidth": 1
          },
          "geo": {
           "bgcolor": "white",
           "landcolor": "#E5ECF6",
           "subunitcolor": "white",
           "showland": true,
           "showlakes": true,
           "lakecolor": "white"
          },
          "title": {
           "x": 0.05
          },
          "mapbox": {
           "style": "light"
          }
         }
        },
        "xaxis": {
         "anchor": "y",
         "domain": [
          0.0,
          1.0
         ],
         "matches": "x3",
         "showticklabels": false
        },
        "yaxis": {
         "anchor": "x",
         "domain": [
          0.7333333333333334,
          1.0
         ],
         "range": [
          0,
          1
         ],
         "tickfont": {
          "size": 14
         },
         "showgrid": false,
         "zeroline": false,
         "showline": false
        },
        "xaxis2": {
         "anchor": "y2",
         "domain": [
          0.0,
          1.0
         ],
         "matches": "x3",
         "showticklabels": false
        },
        "yaxis2": {
         "anchor": "x2",
         "domain": [
          0.3666666666666667,
          0.6333333333333333
         ],
         "range": [
          0,
          1
         ],
         "tickfont": {
          "size": 14
         },
         "showgrid": false,
         "zeroline": false,
         "showline": false
        },
        "xaxis3": {
         "anchor": "y3",
         "domain": [
          0.0,
          1.0
         ],
         "tickfont": {
          "size": 14
         },
         "showgrid": false,
         "tickangle": 0
        },
        "yaxis3": {
         "anchor": "x3",
         "domain": [
          0.0,
          0.26666666666666666
         ],
         "range": [
          0,
          1
         ],
         "tickfont": {
          "size": 14
         },
         "showgrid": false,
         "zeroline": false,
         "showline": false
        },
        "annotations": [
         {
          "font": {
           "size": 16
          },
          "showarrow": false,
          "text": "Cohen's Kappa",
          "x": 0.5,
          "xanchor": "center",
          "xref": "paper",
          "y": 1.0,
          "yanchor": "bottom",
          "yref": "paper"
         },
         {
          "font": {
           "size": 16
          },
          "showarrow": false,
          "text": "MCC",
          "x": 0.5,
          "xanchor": "center",
          "xref": "paper",
          "y": 0.6333333333333333,
          "yanchor": "bottom",
          "yref": "paper"
         },
         {
          "font": {
           "size": 16
          },
          "showarrow": false,
          "text": "1 - NLD",
          "x": 0.5,
          "xanchor": "center",
          "xref": "paper",
          "y": 0.26666666666666666,
          "yanchor": "bottom",
          "yref": "paper"
         }
        ],
        "title": {},
        "violinmode": "overlay",
        "boxmode": "group",
        "boxgroupgap": 0,
        "boxgap": 0,
        "margin": {
         "l": 10,
         "r": 10,
         "b": 10,
         "t": 10,
         "pad": 0
        },
        "width": 600,
        "height": 450,
        "paper_bgcolor": "rgba(0, 0, 0, 0)",
        "plot_bgcolor": "rgba(0, 0, 0, 0)",
        "showlegend": false
       },
       "config": {
        "plotlyServerURL": "https://plot.ly"
       }
      },
      "text/html": [
       "<div>                            <div id=\"22398683-3672-430b-896a-825344a66cf6\" class=\"plotly-graph-div\" style=\"height:450px; width:600px;\"></div>            <script type=\"text/javascript\">                require([\"plotly\"], function(Plotly) {                    window.PLOTLYENV=window.PLOTLYENV || {};                                    if (document.getElementById(\"22398683-3672-430b-896a-825344a66cf6\")) {                    Plotly.newPlot(                        \"22398683-3672-430b-896a-825344a66cf6\",                        [{\"box\":{\"visible\":true},\"fillcolor\":\"#bab0ac\",\"legendgroup\":\"Other GT\",\"line\":{\"color\":\"black\"},\"meanline\":{\"visible\":true},\"name\":\"RA, Other GT\",\"opacity\":0.75,\"scalegroup\":\"cohen's_kappa\",\"showlegend\":true,\"spanmode\":\"hard\",\"x0\":\"Other GT\",\"y\":[0.7899152982949046,0.8167270813164687,0.8525234034052656,0.18478994655459113,0.8455497220079832,0.8938078788411058,0.6809201414611208,0.9025626762784915,0.8502708287313709,0.9274454094813376],\"type\":\"violin\",\"xaxis\":\"x\",\"yaxis\":\"y\",\"width\":0.9,\"visible\":true},{\"box\":{\"visible\":true},\"fillcolor\":\"#2E91E5\",\"legendgroup\":\"ivt\",\"line\":{\"color\":\"black\"},\"meanline\":{\"visible\":true},\"name\":\"RA, ivt\",\"opacity\":0.75,\"scalegroup\":\"cohen's_kappa\",\"showlegend\":true,\"side\":\"positive\",\"spanmode\":\"hard\",\"x0\":\"ivt\",\"y\":[0.0373718977830888,0.08363255045913609,0.012629485823843378,0.02662285057739877,0.012994631037802629,0.04375702006177651,0.020090585921995863,0.054010546992803055,0.008723867680310082,0.03626509097824404],\"type\":\"violin\",\"xaxis\":\"x\",\"yaxis\":\"y\",\"width\":0.9},{\"box\":{\"visible\":true},\"fillcolor\":\"#E15F99\",\"legendgroup\":\"ivvt\",\"line\":{\"color\":\"black\"},\"meanline\":{\"visible\":true},\"name\":\"RA, ivvt\",\"opacity\":0.75,\"scalegroup\":\"cohen's_kappa\",\"showlegend\":true,\"side\":\"positive\",\"spanmode\":\"hard\",\"x0\":\"ivvt\",\"y\":[0.005815064793831981,0.020907790392868608,0.0007380883304615171,0.001337750052182285,-2.9664765371029134e-05,0.006459471582144438,0.004007199161541353,0.008395786474451938,5.389552011825227e-05,0.004241961572669428],\"type\":\"violin\",\"xaxis\":\"x\",\"yaxis\":\"y\",\"width\":0.9},{\"box\":{\"visible\":true},\"fillcolor\":\"#1CA71C\",\"legendgroup\":\"idt\",\"line\":{\"color\":\"black\"},\"meanline\":{\"visible\":true},\"name\":\"RA, idt\",\"opacity\":0.75,\"scalegroup\":\"cohen's_kappa\",\"showlegend\":true,\"side\":\"positive\",\"spanmode\":\"hard\",\"x0\":\"idt\",\"y\":[0.18371763342157632,0.1506322719752652,0.1259055360798651,0.057572280753538485,0.1731127329972877,0.15673648682998542,0.08057652936052584,0.07923223942632995,0.2092867430994494,0.20489491383778435],\"type\":\"violin\",\"xaxis\":\"x\",\"yaxis\":\"y\",\"width\":0.9},{\"box\":{\"visible\":true},\"fillcolor\":\"#FB0D0D\",\"legendgroup\":\"idvt\",\"line\":{\"color\":\"black\"},\"meanline\":{\"visible\":true},\"name\":\"RA, idvt\",\"opacity\":0.75,\"scalegroup\":\"cohen's_kappa\",\"showlegend\":true,\"side\":\"positive\",\"spanmode\":\"hard\",\"x0\":\"idvt\",\"y\":[0.273425622513887,0.22144462078508942,0.14510963134264776,0.08023129125750394,0.1731127329972877,0.15673648682998542,0.1808129064355869,0.22066484150446164,0.19865095454128967,0.20489491383778435],\"type\":\"violin\",\"xaxis\":\"x\",\"yaxis\":\"y\",\"width\":0.9},{\"box\":{\"visible\":true},\"fillcolor\":\"#DA16FF\",\"legendgroup\":\"engbert\",\"line\":{\"color\":\"black\"},\"meanline\":{\"visible\":true},\"name\":\"RA, engbert\",\"opacity\":0.75,\"scalegroup\":\"cohen's_kappa\",\"showlegend\":true,\"side\":\"positive\",\"spanmode\":\"hard\",\"x0\":\"engbert\",\"y\":[0.37181459073866674,0.36188127550592997,0.31440571036378295,0.14730246281100445,0.3754988332062843,0.38478100511415014,0.27985645106606194,0.3620284848685267,0.36901645786058435,0.3656189112420478],\"type\":\"violin\",\"xaxis\":\"x\",\"yaxis\":\"y\",\"width\":0.9},{\"box\":{\"visible\":true},\"fillcolor\":\"#222A2A\",\"legendgroup\":\"nh\",\"line\":{\"color\":\"black\"},\"meanline\":{\"visible\":true},\"name\":\"RA, nh\",\"opacity\":0.75,\"scalegroup\":\"cohen's_kappa\",\"showlegend\":true,\"side\":\"positive\",\"spanmode\":\"hard\",\"x0\":\"nh\",\"y\":[0.3296681554076577,0.28069870965323007,0.30145276136568,0.13421478819070531,0.36712300077878,0.37364920416603375,0.24760510593979335,0.35162161567435857,0.37393902310933125,0.3632141120210346],\"type\":\"violin\",\"xaxis\":\"x\",\"yaxis\":\"y\",\"width\":0.9},{\"box\":{\"visible\":true},\"fillcolor\":\"#B68100\",\"legendgroup\":\"remodnav\",\"line\":{\"color\":\"black\"},\"meanline\":{\"visible\":true},\"name\":\"RA, remodnav\",\"opacity\":0.75,\"scalegroup\":\"cohen's_kappa\",\"showlegend\":true,\"side\":\"positive\",\"spanmode\":\"hard\",\"x0\":\"remodnav\",\"y\":[0.02111843983747519,0.008140301796216276,0.007373100456707138,-0.027475265277772554,0.016189839856501687,0.023972443205002802,0.028164885416982477,0.010855040188487153,0.006042635355315129,0.019473519909945503],\"type\":\"violin\",\"xaxis\":\"x\",\"yaxis\":\"y\",\"width\":0.9},{\"box\":{\"visible\":true},\"fillcolor\":\"#bab0ac\",\"legendgroup\":\"Other GT\",\"line\":{\"color\":\"black\"},\"meanline\":{\"visible\":true},\"name\":\"MN, Other GT\",\"opacity\":0.25,\"scalegroup\":\"cohen's_kappa\",\"showlegend\":true,\"spanmode\":\"hard\",\"x0\":\"Other GT\",\"y\":[0.7899152982949046,0.8167270813164687,0.8525234034052656,0.18478994655459113,0.8455497220079832,0.8938078788411058,0.6809201414611208,0.9025626762784915,0.8502708287313709,0.9274454094813376],\"type\":\"violin\",\"xaxis\":\"x\",\"yaxis\":\"y\",\"width\":0.9,\"visible\":false},{\"box\":{\"visible\":true},\"fillcolor\":\"#2E91E5\",\"legendgroup\":\"ivt\",\"line\":{\"color\":\"black\"},\"meanline\":{\"visible\":true},\"name\":\"MN, ivt\",\"opacity\":0.25,\"scalegroup\":\"cohen's_kappa\",\"showlegend\":true,\"side\":\"negative\",\"spanmode\":\"hard\",\"x0\":\"ivt\",\"y\":[0.034026709697223545,0.0787162391153664,0.01150858712058267,0.06867146172987948,0.010925312880080584,0.043397781341595,0.03259935754861709,0.055696359633938375,0.005816914927639472,0.03519036679233423],\"type\":\"violin\",\"xaxis\":\"x\",\"yaxis\":\"y\",\"width\":0.9},{\"box\":{\"visible\":true},\"fillcolor\":\"#E15F99\",\"legendgroup\":\"ivvt\",\"line\":{\"color\":\"black\"},\"meanline\":{\"visible\":true},\"name\":\"MN, ivvt\",\"opacity\":0.25,\"scalegroup\":\"cohen's_kappa\",\"showlegend\":true,\"side\":\"negative\",\"spanmode\":\"hard\",\"x0\":\"ivvt\",\"y\":[0.006620525410247269,0.015851655897215045,-0.00017035478358651268,0.002387400370775228,3.5737123992518605e-05,0.005944889582506718,0.0034783574914166726,0.008923583175250882,0.00032416903851684165,0.0025102823074135694],\"type\":\"violin\",\"xaxis\":\"x\",\"yaxis\":\"y\",\"width\":0.9},{\"box\":{\"visible\":true},\"fillcolor\":\"#1CA71C\",\"legendgroup\":\"idt\",\"line\":{\"color\":\"black\"},\"meanline\":{\"visible\":true},\"name\":\"MN, idt\",\"opacity\":0.25,\"scalegroup\":\"cohen's_kappa\",\"showlegend\":true,\"side\":\"negative\",\"spanmode\":\"hard\",\"x0\":\"idt\",\"y\":[0.1418823125721841,0.13631691938799817,0.13150680445611584,0.10754606777144493,0.18653866280545794,0.15440540330122043,0.1416169273041178,0.08406743904764835,0.21691050399029477,0.20067390345617298],\"type\":\"violin\",\"xaxis\":\"x\",\"yaxis\":\"y\",\"width\":0.9},{\"box\":{\"visible\":true},\"fillcolor\":\"#FB0D0D\",\"legendgroup\":\"idvt\",\"line\":{\"color\":\"black\"},\"meanline\":{\"visible\":true},\"name\":\"MN, idvt\",\"opacity\":0.25,\"scalegroup\":\"cohen's_kappa\",\"showlegend\":true,\"side\":\"negative\",\"spanmode\":\"hard\",\"x0\":\"idvt\",\"y\":[0.23682744345981066,0.20764699205977788,0.1262946969990334,0.15197906311497034,0.18653866280545794,0.15440540330122043,0.2577043934367602,0.22792018438224582,0.2058940654399546,0.20067390345617298],\"type\":\"violin\",\"xaxis\":\"x\",\"yaxis\":\"y\",\"width\":0.9},{\"box\":{\"visible\":true},\"fillcolor\":\"#DA16FF\",\"legendgroup\":\"engbert\",\"line\":{\"color\":\"black\"},\"meanline\":{\"visible\":true},\"name\":\"MN, engbert\",\"opacity\":0.25,\"scalegroup\":\"cohen's_kappa\",\"showlegend\":true,\"side\":\"negative\",\"spanmode\":\"hard\",\"x0\":\"engbert\",\"y\":[0.35702508024659896,0.3593438184399447,0.30003595988404086,0.276428146663518,0.39734816896851055,0.3842803716294353,0.3907960620498875,0.3569749052959639,0.36698317700472805,0.35245327069379395],\"type\":\"violin\",\"xaxis\":\"x\",\"yaxis\":\"y\",\"width\":0.9},{\"box\":{\"visible\":true},\"fillcolor\":\"#222A2A\",\"legendgroup\":\"nh\",\"line\":{\"color\":\"black\"},\"meanline\":{\"visible\":true},\"name\":\"MN, nh\",\"opacity\":0.25,\"scalegroup\":\"cohen's_kappa\",\"showlegend\":true,\"side\":\"negative\",\"spanmode\":\"hard\",\"x0\":\"nh\",\"y\":[0.34544925850537944,0.27085152627054243,0.2867080951112939,0.289247145717775,0.3838635956812201,0.3767314159711769,0.34397900369956314,0.36185901458771474,0.37413789876170533,0.36119661605716735],\"type\":\"violin\",\"xaxis\":\"x\",\"yaxis\":\"y\",\"width\":0.9},{\"box\":{\"visible\":true},\"fillcolor\":\"#B68100\",\"legendgroup\":\"remodnav\",\"line\":{\"color\":\"black\"},\"meanline\":{\"visible\":true},\"name\":\"MN, remodnav\",\"opacity\":0.25,\"scalegroup\":\"cohen's_kappa\",\"showlegend\":true,\"side\":\"negative\",\"spanmode\":\"hard\",\"x0\":\"remodnav\",\"y\":[0.018960353734499558,0.009420543233647827,0.008710393349011358,0.02454800475700858,0.01651249594519233,0.023151874996276467,0.023753109963322805,0.011485783167213381,0.007367735995876035,0.021141658648486716],\"type\":\"violin\",\"xaxis\":\"x\",\"yaxis\":\"y\",\"width\":0.9},{\"box\":{\"visible\":true},\"fillcolor\":\"#bab0ac\",\"legendgroup\":\"Other GT\",\"line\":{\"color\":\"black\"},\"meanline\":{\"visible\":true},\"name\":\"RA, Other GT\",\"opacity\":0.75,\"scalegroup\":\"mcc\",\"showlegend\":false,\"spanmode\":\"hard\",\"x0\":\"Other GT\",\"y\":[0.7914501137315476,0.8167393445602615,0.8525330507214318,0.1942318167476711,0.8462529080638328,0.8938618155692255,0.6892436609108646,0.9026658577145721,0.8504884572607601,0.9278734617814239],\"type\":\"violin\",\"xaxis\":\"x2\",\"yaxis\":\"y2\",\"width\":0.9,\"visible\":true},{\"box\":{\"visible\":true},\"fillcolor\":\"#2E91E5\",\"legendgroup\":\"ivt\",\"line\":{\"color\":\"black\"},\"meanline\":{\"visible\":true},\"name\":\"RA, ivt\",\"opacity\":0.75,\"scalegroup\":\"mcc\",\"showlegend\":false,\"side\":\"positive\",\"spanmode\":\"hard\",\"x0\":\"ivt\",\"y\":[0.09229064858809581,0.14102508038154943,0.05142081445068589,0.04339650827749206,0.05562896282986012,0.10554054165914276,0.04852834975545024,0.10874417849034573,0.04196199195512001,0.0956001438298756],\"type\":\"violin\",\"xaxis\":\"x2\",\"yaxis\":\"y2\",\"width\":0.9},{\"box\":{\"visible\":true},\"fillcolor\":\"#E15F99\",\"legendgroup\":\"ivvt\",\"line\":{\"color\":\"black\"},\"meanline\":{\"visible\":true},\"name\":\"RA, ivvt\",\"opacity\":0.75,\"scalegroup\":\"mcc\",\"showlegend\":false,\"side\":\"positive\",\"spanmode\":\"hard\",\"x0\":\"ivvt\",\"y\":[0.015629630416651896,0.04110656889637051,0.0031336364278141135,0.0025395498172998787,-0.0001304476626867236,0.018506352561122204,0.010639960181950084,0.020697202147106127,0.000250670597641678,0.012381329680559968],\"type\":\"violin\",\"xaxis\":\"x2\",\"yaxis\":\"y2\",\"width\":0.9},{\"box\":{\"visible\":true},\"fillcolor\":\"#1CA71C\",\"legendgroup\":\"idt\",\"line\":{\"color\":\"black\"},\"meanline\":{\"visible\":true},\"name\":\"RA, idt\",\"opacity\":0.75,\"scalegroup\":\"mcc\",\"showlegend\":false,\"side\":\"positive\",\"spanmode\":\"hard\",\"x0\":\"idt\",\"y\":[0.21276399256071454,0.2036120815574195,0.14097969634235732,0.10096618614477536,0.2221448521641679,0.21243133917590853,0.1025951583844031,0.11579150743329795,0.2596644594936049,0.25147940165746896],\"type\":\"violin\",\"xaxis\":\"x2\",\"yaxis\":\"y2\",\"width\":0.9},{\"box\":{\"visible\":true},\"fillcolor\":\"#FB0D0D\",\"legendgroup\":\"idvt\",\"line\":{\"color\":\"black\"},\"meanline\":{\"visible\":true},\"name\":\"RA, idvt\",\"opacity\":0.75,\"scalegroup\":\"mcc\",\"showlegend\":false,\"side\":\"positive\",\"spanmode\":\"hard\",\"x0\":\"idvt\",\"y\":[0.2995004228908835,0.2680557703300506,0.16048485012786953,0.12076800817927136,0.22195174433988984,0.21243133917590853,0.20777586900657982,0.255330922791468,0.24703016742599515,0.25147940165746896],\"type\":\"violin\",\"xaxis\":\"x2\",\"yaxis\":\"y2\",\"width\":0.9},{\"box\":{\"visible\":true},\"fillcolor\":\"#DA16FF\",\"legendgroup\":\"engbert\",\"line\":{\"color\":\"black\"},\"meanline\":{\"visible\":true},\"name\":\"RA, engbert\",\"opacity\":0.75,\"scalegroup\":\"mcc\",\"showlegend\":false,\"side\":\"positive\",\"spanmode\":\"hard\",\"x0\":\"engbert\",\"y\":[0.4002025054248202,0.40243790253680534,0.3367007834294615,0.1817308729651995,0.40070372484844274,0.41550713541695844,0.30779095907570864,0.3861707601684443,0.3926720275397718,0.39654566727342],\"type\":\"violin\",\"xaxis\":\"x2\",\"yaxis\":\"y2\",\"width\":0.9},{\"box\":{\"visible\":true},\"fillcolor\":\"#222A2A\",\"legendgroup\":\"nh\",\"line\":{\"color\":\"black\"},\"meanline\":{\"visible\":true},\"name\":\"RA, nh\",\"opacity\":0.75,\"scalegroup\":\"mcc\",\"showlegend\":false,\"side\":\"positive\",\"spanmode\":\"hard\",\"x0\":\"nh\",\"y\":[0.3621989688999487,0.32199218408026786,0.32537508828922107,0.16773401439638655,0.3890148024827585,0.4008269113080145,0.283723056104242,0.3806324078782028,0.39684191375881755,0.39283509561567137],\"type\":\"violin\",\"xaxis\":\"x2\",\"yaxis\":\"y2\",\"width\":0.9},{\"box\":{\"visible\":true},\"fillcolor\":\"#B68100\",\"legendgroup\":\"remodnav\",\"line\":{\"color\":\"black\"},\"meanline\":{\"visible\":true},\"name\":\"RA, remodnav\",\"opacity\":0.75,\"scalegroup\":\"mcc\",\"showlegend\":false,\"side\":\"positive\",\"spanmode\":\"hard\",\"x0\":\"remodnav\",\"y\":[0.0646551283660662,0.026208891551373986,0.0374708329088178,-0.06663734760244816,0.05435267785169429,0.06884042135596662,0.07231281035182326,0.03947870522630741,0.028906748455154375,0.057021481625562094],\"type\":\"violin\",\"xaxis\":\"x2\",\"yaxis\":\"y2\",\"width\":0.9},{\"box\":{\"visible\":true},\"fillcolor\":\"#bab0ac\",\"legendgroup\":\"Other GT\",\"line\":{\"color\":\"black\"},\"meanline\":{\"visible\":true},\"name\":\"MN, Other GT\",\"opacity\":0.25,\"scalegroup\":\"mcc\",\"showlegend\":false,\"spanmode\":\"hard\",\"x0\":\"Other GT\",\"y\":[0.7914501137315476,0.8167393445602615,0.8525330507214318,0.1942318167476711,0.8462529080638328,0.8938618155692255,0.6892436609108646,0.9026658577145721,0.8504884572607601,0.9278734617814239],\"type\":\"violin\",\"xaxis\":\"x2\",\"yaxis\":\"y2\",\"width\":0.9,\"visible\":false},{\"box\":{\"visible\":true},\"fillcolor\":\"#2E91E5\",\"legendgroup\":\"ivt\",\"line\":{\"color\":\"black\"},\"meanline\":{\"visible\":true},\"name\":\"MN, ivt\",\"opacity\":0.25,\"scalegroup\":\"mcc\",\"showlegend\":false,\"side\":\"negative\",\"spanmode\":\"hard\",\"x0\":\"ivt\",\"y\":[0.08715819733670058,0.13248894395028293,0.04701363194093007,0.12249831920907178,0.04820092458684497,0.10539825651099334,0.08575871956247944,0.11310687638898029,0.028455162726562302,0.09105899813056549],\"type\":\"violin\",\"xaxis\":\"x2\",\"yaxis\":\"y2\",\"width\":0.9},{\"box\":{\"visible\":true},\"fillcolor\":\"#E15F99\",\"legendgroup\":\"ivvt\",\"line\":{\"color\":\"black\"},\"meanline\":{\"visible\":true},\"name\":\"MN, ivvt\",\"opacity\":0.25,\"scalegroup\":\"mcc\",\"showlegend\":false,\"side\":\"negative\",\"spanmode\":\"hard\",\"x0\":\"ivvt\",\"y\":[0.018534137374328907,0.031081997047059332,-0.0007257790072406781,0.0052407614564482854,0.00016214451805944744,0.017166161832053533,0.010159361937677592,0.022223344946744147,0.0015341663470660647,0.00717655855833196],\"type\":\"violin\",\"xaxis\":\"x2\",\"yaxis\":\"y2\",\"width\":0.9},{\"box\":{\"visible\":true},\"fillcolor\":\"#1CA71C\",\"legendgroup\":\"idt\",\"line\":{\"color\":\"black\"},\"meanline\":{\"visible\":true},\"name\":\"MN, idt\",\"opacity\":0.25,\"scalegroup\":\"mcc\",\"showlegend\":false,\"side\":\"negative\",\"spanmode\":\"hard\",\"x0\":\"idt\",\"y\":[0.1601843852436173,0.18491308333089693,0.146989853523677,0.14864677039334212,0.23361985210847372,0.20776564971629927,0.1661938651425991,0.12153620458833751,0.26570455107198976,0.25050784650818236],\"type\":\"violin\",\"xaxis\":\"x2\",\"yaxis\":\"y2\",\"width\":0.9},{\"box\":{\"visible\":true},\"fillcolor\":\"#FB0D0D\",\"legendgroup\":\"idvt\",\"line\":{\"color\":\"black\"},\"meanline\":{\"visible\":true},\"name\":\"MN, idvt\",\"opacity\":0.25,\"scalegroup\":\"mcc\",\"showlegend\":false,\"side\":\"negative\",\"spanmode\":\"hard\",\"x0\":\"idvt\",\"y\":[0.25531588499781666,0.2520636524302541,0.13944742954765116,0.1864465765051345,0.23341676920599216,0.20776564971629927,0.2804560428414013,0.2619118163331133,0.25278123856270696,0.25050784650818236],\"type\":\"violin\",\"xaxis\":\"x2\",\"yaxis\":\"y2\",\"width\":0.9},{\"box\":{\"visible\":true},\"fillcolor\":\"#DA16FF\",\"legendgroup\":\"engbert\",\"line\":{\"color\":\"black\"},\"meanline\":{\"visible\":true},\"name\":\"MN, engbert\",\"opacity\":0.25,\"scalegroup\":\"mcc\",\"showlegend\":false,\"side\":\"negative\",\"spanmode\":\"hard\",\"x0\":\"engbert\",\"y\":[0.3825715754818897,0.4000423960039333,0.32117742085917844,0.30354823075242093,0.42139166499723946,0.41413411397283795,0.416842444338718,0.3803582430697206,0.38939582970544695,0.3839352308249139],\"type\":\"violin\",\"xaxis\":\"x2\",\"yaxis\":\"y2\",\"width\":0.9},{\"box\":{\"visible\":true},\"fillcolor\":\"#222A2A\",\"legendgroup\":\"nh\",\"line\":{\"color\":\"black\"},\"meanline\":{\"visible\":true},\"name\":\"MN, nh\",\"opacity\":0.25,\"scalegroup\":\"mcc\",\"showlegend\":false,\"side\":\"negative\",\"spanmode\":\"hard\",\"x0\":\"nh\",\"y\":[0.3748034157097121,0.3113333328973617,0.30908114981410706,0.32218398315251207,0.4048231261686137,0.4035477920512846,0.3744439251245404,0.39040043636665134,0.3958232864591679,0.39175665037999047],\"type\":\"violin\",\"xaxis\":\"x2\",\"yaxis\":\"y2\",\"width\":0.9},{\"box\":{\"visible\":true},\"fillcolor\":\"#B68100\",\"legendgroup\":\"remodnav\",\"line\":{\"color\":\"black\"},\"meanline\":{\"visible\":true},\"name\":\"MN, remodnav\",\"opacity\":0.25,\"scalegroup\":\"mcc\",\"showlegend\":false,\"side\":\"negative\",\"spanmode\":\"hard\",\"x0\":\"remodnav\",\"y\":[0.06035083778177444,0.030247928654065816,0.044417905154814724,0.0680458374830008,0.05710819006521059,0.06697192227014769,0.06662784650613457,0.04219454507758105,0.03585053547676064,0.06071235629451611],\"type\":\"violin\",\"xaxis\":\"x2\",\"yaxis\":\"y2\",\"width\":0.9},{\"box\":{\"visible\":true},\"fillcolor\":\"#bab0ac\",\"legendgroup\":\"Other GT\",\"line\":{\"color\":\"black\"},\"meanline\":{\"visible\":true},\"name\":\"RA, Other GT\",\"opacity\":0.75,\"scalegroup\":\"complement_nld\",\"showlegend\":false,\"spanmode\":\"hard\",\"x0\":\"Other GT\",\"y\":[0.9415815193247445,0.9346956908040871,0.96756276383026,0.75083351855968,0.9700199866755497,0.9751276926493448,0.9291583388851876,0.9786666666666667,0.973561430793157,0.9815719360568383],\"type\":\"violin\",\"xaxis\":\"x3\",\"yaxis\":\"y3\",\"width\":0.9,\"visible\":true},{\"box\":{\"visible\":true},\"fillcolor\":\"#2E91E5\",\"legendgroup\":\"ivt\",\"line\":{\"color\":\"black\"},\"meanline\":{\"visible\":true},\"name\":\"RA, ivt\",\"opacity\":0.75,\"scalegroup\":\"complement_nld\",\"showlegend\":false,\"side\":\"positive\",\"spanmode\":\"hard\",\"x0\":\"ivt\",\"y\":[0.19902265659706797,0.3442914260328743,0.11064207953788052,0.28317403867526114,0.11570064401510105,0.277592715967133,0.16877637130801693,0.3137777777777778,0.09464563430348816,0.2293516873889876],\"type\":\"violin\",\"xaxis\":\"x3\",\"yaxis\":\"y3\",\"width\":0.9},{\"box\":{\"visible\":true},\"fillcolor\":\"#E15F99\",\"legendgroup\":\"ivvt\",\"line\":{\"color\":\"black\"},\"meanline\":{\"visible\":true},\"name\":\"RA, ivvt\",\"opacity\":0.75,\"scalegroup\":\"complement_nld\",\"showlegend\":false,\"side\":\"positive\",\"spanmode\":\"hard\",\"x0\":\"ivvt\",\"y\":[0.05864060417592176,0.1261661483784985,0.026660742057320608,0.07535007779506553,0.027093049078392162,0.06950921607817007,0.04841216966466799,0.0902222222222222,0.025994223505887537,0.07437833037300179],\"type\":\"violin\",\"xaxis\":\"x3\",\"yaxis\":\"y3\",\"width\":0.9},{\"box\":{\"visible\":true},\"fillcolor\":\"#1CA71C\",\"legendgroup\":\"idt\",\"line\":{\"color\":\"black\"},\"meanline\":{\"visible\":true},\"name\":\"RA, idt\",\"opacity\":0.75,\"scalegroup\":\"complement_nld\",\"showlegend\":false,\"side\":\"positive\",\"spanmode\":\"hard\",\"x0\":\"idt\",\"y\":[0.7956463793869392,0.754775655264327,0.8280382137302822,0.6630362302733941,0.8763046857650455,0.856318010215412,0.7577170775038863,0.8302222222222222,0.880915352143968,0.8439165186500888],\"type\":\"violin\",\"xaxis\":\"x3\",\"yaxis\":\"y3\",\"width\":0.9},{\"box\":{\"visible\":true},\"fillcolor\":\"#FB0D0D\",\"legendgroup\":\"idvt\",\"line\":{\"color\":\"black\"},\"meanline\":{\"visible\":true},\"name\":\"RA, idvt\",\"opacity\":0.75,\"scalegroup\":\"complement_nld\",\"showlegend\":false,\"side\":\"positive\",\"spanmode\":\"hard\",\"x0\":\"idvt\",\"y\":[0.7965348733896046,0.7554420257663261,0.8282603865807598,0.6565903534118693,0.8763046857650455,0.856318010215412,0.75793915167666,0.8313333333333334,0.8791379693401467,0.8439165186500888],\"type\":\"violin\",\"xaxis\":\"x3\",\"yaxis\":\"y3\",\"width\":0.9},{\"box\":{\"visible\":true},\"fillcolor\":\"#DA16FF\",\"legendgroup\":\"engbert\",\"line\":{\"color\":\"black\"},\"meanline\":{\"visible\":true},\"name\":\"RA, engbert\",\"opacity\":0.75,\"scalegroup\":\"complement_nld\",\"showlegend\":false,\"side\":\"positive\",\"spanmode\":\"hard\",\"x0\":\"engbert\",\"y\":[0.7978676143936029,0.7490004442470013,0.8304821150855366,0.6525894643254057,0.8711969797912502,0.8527648234510327,0.7674883411059293,0.8148888888888889,0.8680293268162631,0.8294849023090586],\"type\":\"violin\",\"xaxis\":\"x3\",\"yaxis\":\"y3\",\"width\":0.9},{\"box\":{\"visible\":true},\"fillcolor\":\"#222A2A\",\"legendgroup\":\"nh\",\"line\":{\"color\":\"black\"},\"meanline\":{\"visible\":true},\"name\":\"RA, nh\",\"opacity\":0.75,\"scalegroup\":\"complement_nld\",\"showlegend\":false,\"side\":\"positive\",\"spanmode\":\"hard\",\"x0\":\"nh\",\"y\":[0.8076410484229232,0.7538871612616614,0.8575872028438125,0.6452545010002222,0.8705307572729292,0.8505440817232955,0.7734843437708194,0.8377777777777777,0.8760275494334593,0.8274866785079928],\"type\":\"violin\",\"xaxis\":\"x3\",\"yaxis\":\"y3\",\"width\":0.9},{\"box\":{\"visible\":true},\"fillcolor\":\"#B68100\",\"legendgroup\":\"remodnav\",\"line\":{\"color\":\"black\"},\"meanline\":{\"visible\":true},\"name\":\"RA, remodnav\",\"opacity\":0.75,\"scalegroup\":\"complement_nld\",\"showlegend\":false,\"side\":\"positive\",\"spanmode\":\"hard\",\"x0\":\"remodnav\",\"y\":[0.11239449133718349,0.057529986672589906,0.06087536103088198,0.06912647254945548,0.1496779924494781,0.17543859649122806,0.13590939373750832,0.07977777777777773,0.06554099089091314,0.15031083481349916],\"type\":\"violin\",\"xaxis\":\"x3\",\"yaxis\":\"y3\",\"width\":0.9},{\"box\":{\"visible\":true},\"fillcolor\":\"#bab0ac\",\"legendgroup\":\"Other GT\",\"line\":{\"color\":\"black\"},\"meanline\":{\"visible\":true},\"name\":\"MN, Other GT\",\"opacity\":0.25,\"scalegroup\":\"complement_nld\",\"showlegend\":false,\"spanmode\":\"hard\",\"x0\":\"Other GT\",\"y\":[0.9415815193247445,0.9346956908040871,0.96756276383026,0.75083351855968,0.9700199866755497,0.9751276926493448,0.9291583388851876,0.9786666666666667,0.973561430793157,0.9815719360568383],\"type\":\"violin\",\"xaxis\":\"x3\",\"yaxis\":\"y3\",\"width\":0.9,\"visible\":false},{\"box\":{\"visible\":true},\"fillcolor\":\"#2E91E5\",\"legendgroup\":\"ivt\",\"line\":{\"color\":\"black\"},\"meanline\":{\"visible\":true},\"name\":\"MN, ivt\",\"opacity\":0.25,\"scalegroup\":\"complement_nld\",\"showlegend\":false,\"side\":\"negative\",\"spanmode\":\"hard\",\"x0\":\"ivt\",\"y\":[0.1996890270990671,0.33873833851621504,0.10953121528549215,0.3374083129584352,0.11570064401510105,0.2780368643126805,0.18409948922940267,0.3171111111111111,0.09109086869584537,0.22757548845470688],\"type\":\"violin\",\"xaxis\":\"x3\",\"yaxis\":\"y3\",\"width\":0.9},{\"box\":{\"visible\":true},\"fillcolor\":\"#E15F99\",\"legendgroup\":\"ivvt\",\"line\":{\"color\":\"black\"},\"meanline\":{\"visible\":true},\"name\":\"MN, ivvt\",\"opacity\":0.25,\"scalegroup\":\"complement_nld\",\"showlegend\":false,\"side\":\"negative\",\"spanmode\":\"hard\",\"x0\":\"ivvt\",\"y\":[0.059529098178587314,0.12194580186583737,0.025327704954454577,0.08201822627250499,0.026426826560071115,0.06928714190539642,0.04863424383744175,0.09133333333333338,0.026660742057320608,0.07415630550621666],\"type\":\"violin\",\"xaxis\":\"x3\",\"yaxis\":\"y3\",\"width\":0.9},{\"box\":{\"visible\":true},\"fillcolor\":\"#1CA71C\",\"legendgroup\":\"idt\",\"line\":{\"color\":\"black\"},\"meanline\":{\"visible\":true},\"name\":\"MN, idt\",\"opacity\":0.25,\"scalegroup\":\"complement_nld\",\"showlegend\":false,\"side\":\"negative\",\"spanmode\":\"hard\",\"x0\":\"idt\",\"y\":[0.8003109729009329,0.7481119502443359,0.8307042879360143,0.7826183596354745,0.8849655785032201,0.8587608261159227,0.8065733955141017,0.8346666666666667,0.8855809820039992,0.8370337477797514],\"type\":\"violin\",\"xaxis\":\"x3\",\"yaxis\":\"y3\",\"width\":0.9},{\"box\":{\"visible\":true},\"fillcolor\":\"#FB0D0D\",\"legendgroup\":\"idvt\",\"line\":{\"color\":\"black\"},\"meanline\":{\"visible\":true},\"name\":\"MN, idvt\",\"opacity\":0.25,\"scalegroup\":\"complement_nld\",\"showlegend\":false,\"side\":\"negative\",\"spanmode\":\"hard\",\"x0\":\"idvt\",\"y\":[0.7994224788982675,0.7496668147490004,0.8264830037769384,0.7755056679262058,0.8849655785032201,0.8587608261159227,0.8087941372418388,0.8357777777777777,0.8838035992001777,0.8370337477797514],\"type\":\"violin\",\"xaxis\":\"x3\",\"yaxis\":\"y3\",\"width\":0.9},{\"box\":{\"visible\":true},\"fillcolor\":\"#DA16FF\",\"legendgroup\":\"engbert\",\"line\":{\"color\":\"black\"},\"meanline\":{\"visible\":true},\"name\":\"MN, engbert\",\"opacity\":0.25,\"scalegroup\":\"complement_nld\",\"showlegend\":false,\"side\":\"negative\",\"spanmode\":\"hard\",\"x0\":\"engbert\",\"y\":[0.8023100844069302,0.747001332741004,0.8273716951788491,0.7615025561235831,0.8800799467021986,0.8543193426604486,0.819231623362203,0.8157777777777777,0.8715840924239058,0.8219360568383659],\"type\":\"violin\",\"xaxis\":\"x3\",\"yaxis\":\"y3\",\"width\":0.9},{\"box\":{\"visible\":true},\"fillcolor\":\"#222A2A\",\"legendgroup\":\"nh\",\"line\":{\"color\":\"black\"},\"meanline\":{\"visible\":true},\"name\":\"MN, nh\",\"opacity\":0.25,\"scalegroup\":\"complement_nld\",\"showlegend\":false,\"side\":\"negative\",\"spanmode\":\"hard\",\"x0\":\"nh\",\"y\":[0.8205242114615726,0.751221679253665,0.853143745834259,0.7661702600577907,0.8778592049744615,0.8532089717965801,0.8281145902731513,0.8424444444444444,0.8766940679848922,0.8217140319715808],\"type\":\"violin\",\"xaxis\":\"x3\",\"yaxis\":\"y3\",\"width\":0.9},{\"box\":{\"visible\":true},\"fillcolor\":\"#B68100\",\"legendgroup\":\"remodnav\",\"line\":{\"color\":\"black\"},\"meanline\":{\"visible\":true},\"name\":\"MN, remodnav\",\"opacity\":0.25,\"scalegroup\":\"complement_nld\",\"showlegend\":false,\"side\":\"negative\",\"spanmode\":\"hard\",\"x0\":\"remodnav\",\"y\":[0.11039537983118619,0.05819635717458904,0.06198622528327036,0.12024894420982446,0.15123251165889406,0.17521652231845442,0.13946258050188765,0.08044444444444443,0.0657631637413908,0.15008880994671403],\"type\":\"violin\",\"xaxis\":\"x3\",\"yaxis\":\"y3\",\"width\":0.9}],                        {\"template\":{\"data\":{\"histogram2dcontour\":[{\"type\":\"histogram2dcontour\",\"colorbar\":{\"outlinewidth\":0,\"ticks\":\"\"},\"colorscale\":[[0.0,\"#0d0887\"],[0.1111111111111111,\"#46039f\"],[0.2222222222222222,\"#7201a8\"],[0.3333333333333333,\"#9c179e\"],[0.4444444444444444,\"#bd3786\"],[0.5555555555555556,\"#d8576b\"],[0.6666666666666666,\"#ed7953\"],[0.7777777777777778,\"#fb9f3a\"],[0.8888888888888888,\"#fdca26\"],[1.0,\"#f0f921\"]]}],\"choropleth\":[{\"type\":\"choropleth\",\"colorbar\":{\"outlinewidth\":0,\"ticks\":\"\"}}],\"histogram2d\":[{\"type\":\"histogram2d\",\"colorbar\":{\"outlinewidth\":0,\"ticks\":\"\"},\"colorscale\":[[0.0,\"#0d0887\"],[0.1111111111111111,\"#46039f\"],[0.2222222222222222,\"#7201a8\"],[0.3333333333333333,\"#9c179e\"],[0.4444444444444444,\"#bd3786\"],[0.5555555555555556,\"#d8576b\"],[0.6666666666666666,\"#ed7953\"],[0.7777777777777778,\"#fb9f3a\"],[0.8888888888888888,\"#fdca26\"],[1.0,\"#f0f921\"]]}],\"heatmap\":[{\"type\":\"heatmap\",\"colorbar\":{\"outlinewidth\":0,\"ticks\":\"\"},\"colorscale\":[[0.0,\"#0d0887\"],[0.1111111111111111,\"#46039f\"],[0.2222222222222222,\"#7201a8\"],[0.3333333333333333,\"#9c179e\"],[0.4444444444444444,\"#bd3786\"],[0.5555555555555556,\"#d8576b\"],[0.6666666666666666,\"#ed7953\"],[0.7777777777777778,\"#fb9f3a\"],[0.8888888888888888,\"#fdca26\"],[1.0,\"#f0f921\"]]}],\"heatmapgl\":[{\"type\":\"heatmapgl\",\"colorbar\":{\"outlinewidth\":0,\"ticks\":\"\"},\"colorscale\":[[0.0,\"#0d0887\"],[0.1111111111111111,\"#46039f\"],[0.2222222222222222,\"#7201a8\"],[0.3333333333333333,\"#9c179e\"],[0.4444444444444444,\"#bd3786\"],[0.5555555555555556,\"#d8576b\"],[0.6666666666666666,\"#ed7953\"],[0.7777777777777778,\"#fb9f3a\"],[0.8888888888888888,\"#fdca26\"],[1.0,\"#f0f921\"]]}],\"contourcarpet\":[{\"type\":\"contourcarpet\",\"colorbar\":{\"outlinewidth\":0,\"ticks\":\"\"}}],\"contour\":[{\"type\":\"contour\",\"colorbar\":{\"outlinewidth\":0,\"ticks\":\"\"},\"colorscale\":[[0.0,\"#0d0887\"],[0.1111111111111111,\"#46039f\"],[0.2222222222222222,\"#7201a8\"],[0.3333333333333333,\"#9c179e\"],[0.4444444444444444,\"#bd3786\"],[0.5555555555555556,\"#d8576b\"],[0.6666666666666666,\"#ed7953\"],[0.7777777777777778,\"#fb9f3a\"],[0.8888888888888888,\"#fdca26\"],[1.0,\"#f0f921\"]]}],\"surface\":[{\"type\":\"surface\",\"colorbar\":{\"outlinewidth\":0,\"ticks\":\"\"},\"colorscale\":[[0.0,\"#0d0887\"],[0.1111111111111111,\"#46039f\"],[0.2222222222222222,\"#7201a8\"],[0.3333333333333333,\"#9c179e\"],[0.4444444444444444,\"#bd3786\"],[0.5555555555555556,\"#d8576b\"],[0.6666666666666666,\"#ed7953\"],[0.7777777777777778,\"#fb9f3a\"],[0.8888888888888888,\"#fdca26\"],[1.0,\"#f0f921\"]]}],\"mesh3d\":[{\"type\":\"mesh3d\",\"colorbar\":{\"outlinewidth\":0,\"ticks\":\"\"}}],\"scatter\":[{\"fillpattern\":{\"fillmode\":\"overlay\",\"size\":10,\"solidity\":0.2},\"type\":\"scatter\"}],\"parcoords\":[{\"type\":\"parcoords\",\"line\":{\"colorbar\":{\"outlinewidth\":0,\"ticks\":\"\"}}}],\"scatterpolargl\":[{\"type\":\"scatterpolargl\",\"marker\":{\"colorbar\":{\"outlinewidth\":0,\"ticks\":\"\"}}}],\"bar\":[{\"error_x\":{\"color\":\"#2a3f5f\"},\"error_y\":{\"color\":\"#2a3f5f\"},\"marker\":{\"line\":{\"color\":\"#E5ECF6\",\"width\":0.5},\"pattern\":{\"fillmode\":\"overlay\",\"size\":10,\"solidity\":0.2}},\"type\":\"bar\"}],\"scattergeo\":[{\"type\":\"scattergeo\",\"marker\":{\"colorbar\":{\"outlinewidth\":0,\"ticks\":\"\"}}}],\"scatterpolar\":[{\"type\":\"scatterpolar\",\"marker\":{\"colorbar\":{\"outlinewidth\":0,\"ticks\":\"\"}}}],\"histogram\":[{\"marker\":{\"pattern\":{\"fillmode\":\"overlay\",\"size\":10,\"solidity\":0.2}},\"type\":\"histogram\"}],\"scattergl\":[{\"type\":\"scattergl\",\"marker\":{\"colorbar\":{\"outlinewidth\":0,\"ticks\":\"\"}}}],\"scatter3d\":[{\"type\":\"scatter3d\",\"line\":{\"colorbar\":{\"outlinewidth\":0,\"ticks\":\"\"}},\"marker\":{\"colorbar\":{\"outlinewidth\":0,\"ticks\":\"\"}}}],\"scattermapbox\":[{\"type\":\"scattermapbox\",\"marker\":{\"colorbar\":{\"outlinewidth\":0,\"ticks\":\"\"}}}],\"scatterternary\":[{\"type\":\"scatterternary\",\"marker\":{\"colorbar\":{\"outlinewidth\":0,\"ticks\":\"\"}}}],\"scattercarpet\":[{\"type\":\"scattercarpet\",\"marker\":{\"colorbar\":{\"outlinewidth\":0,\"ticks\":\"\"}}}],\"carpet\":[{\"aaxis\":{\"endlinecolor\":\"#2a3f5f\",\"gridcolor\":\"white\",\"linecolor\":\"white\",\"minorgridcolor\":\"white\",\"startlinecolor\":\"#2a3f5f\"},\"baxis\":{\"endlinecolor\":\"#2a3f5f\",\"gridcolor\":\"white\",\"linecolor\":\"white\",\"minorgridcolor\":\"white\",\"startlinecolor\":\"#2a3f5f\"},\"type\":\"carpet\"}],\"table\":[{\"cells\":{\"fill\":{\"color\":\"#EBF0F8\"},\"line\":{\"color\":\"white\"}},\"header\":{\"fill\":{\"color\":\"#C8D4E3\"},\"line\":{\"color\":\"white\"}},\"type\":\"table\"}],\"barpolar\":[{\"marker\":{\"line\":{\"color\":\"#E5ECF6\",\"width\":0.5},\"pattern\":{\"fillmode\":\"overlay\",\"size\":10,\"solidity\":0.2}},\"type\":\"barpolar\"}],\"pie\":[{\"automargin\":true,\"type\":\"pie\"}]},\"layout\":{\"autotypenumbers\":\"strict\",\"colorway\":[\"#636efa\",\"#EF553B\",\"#00cc96\",\"#ab63fa\",\"#FFA15A\",\"#19d3f3\",\"#FF6692\",\"#B6E880\",\"#FF97FF\",\"#FECB52\"],\"font\":{\"color\":\"#2a3f5f\"},\"hovermode\":\"closest\",\"hoverlabel\":{\"align\":\"left\"},\"paper_bgcolor\":\"white\",\"plot_bgcolor\":\"#E5ECF6\",\"polar\":{\"bgcolor\":\"#E5ECF6\",\"angularaxis\":{\"gridcolor\":\"white\",\"linecolor\":\"white\",\"ticks\":\"\"},\"radialaxis\":{\"gridcolor\":\"white\",\"linecolor\":\"white\",\"ticks\":\"\"}},\"ternary\":{\"bgcolor\":\"#E5ECF6\",\"aaxis\":{\"gridcolor\":\"white\",\"linecolor\":\"white\",\"ticks\":\"\"},\"baxis\":{\"gridcolor\":\"white\",\"linecolor\":\"white\",\"ticks\":\"\"},\"caxis\":{\"gridcolor\":\"white\",\"linecolor\":\"white\",\"ticks\":\"\"}},\"coloraxis\":{\"colorbar\":{\"outlinewidth\":0,\"ticks\":\"\"}},\"colorscale\":{\"sequential\":[[0.0,\"#0d0887\"],[0.1111111111111111,\"#46039f\"],[0.2222222222222222,\"#7201a8\"],[0.3333333333333333,\"#9c179e\"],[0.4444444444444444,\"#bd3786\"],[0.5555555555555556,\"#d8576b\"],[0.6666666666666666,\"#ed7953\"],[0.7777777777777778,\"#fb9f3a\"],[0.8888888888888888,\"#fdca26\"],[1.0,\"#f0f921\"]],\"sequentialminus\":[[0.0,\"#0d0887\"],[0.1111111111111111,\"#46039f\"],[0.2222222222222222,\"#7201a8\"],[0.3333333333333333,\"#9c179e\"],[0.4444444444444444,\"#bd3786\"],[0.5555555555555556,\"#d8576b\"],[0.6666666666666666,\"#ed7953\"],[0.7777777777777778,\"#fb9f3a\"],[0.8888888888888888,\"#fdca26\"],[1.0,\"#f0f921\"]],\"diverging\":[[0,\"#8e0152\"],[0.1,\"#c51b7d\"],[0.2,\"#de77ae\"],[0.3,\"#f1b6da\"],[0.4,\"#fde0ef\"],[0.5,\"#f7f7f7\"],[0.6,\"#e6f5d0\"],[0.7,\"#b8e186\"],[0.8,\"#7fbc41\"],[0.9,\"#4d9221\"],[1,\"#276419\"]]},\"xaxis\":{\"gridcolor\":\"white\",\"linecolor\":\"white\",\"ticks\":\"\",\"title\":{\"standoff\":15},\"zerolinecolor\":\"white\",\"automargin\":true,\"zerolinewidth\":2},\"yaxis\":{\"gridcolor\":\"white\",\"linecolor\":\"white\",\"ticks\":\"\",\"title\":{\"standoff\":15},\"zerolinecolor\":\"white\",\"automargin\":true,\"zerolinewidth\":2},\"scene\":{\"xaxis\":{\"backgroundcolor\":\"#E5ECF6\",\"gridcolor\":\"white\",\"linecolor\":\"white\",\"showbackground\":true,\"ticks\":\"\",\"zerolinecolor\":\"white\",\"gridwidth\":2},\"yaxis\":{\"backgroundcolor\":\"#E5ECF6\",\"gridcolor\":\"white\",\"linecolor\":\"white\",\"showbackground\":true,\"ticks\":\"\",\"zerolinecolor\":\"white\",\"gridwidth\":2},\"zaxis\":{\"backgroundcolor\":\"#E5ECF6\",\"gridcolor\":\"white\",\"linecolor\":\"white\",\"showbackground\":true,\"ticks\":\"\",\"zerolinecolor\":\"white\",\"gridwidth\":2}},\"shapedefaults\":{\"line\":{\"color\":\"#2a3f5f\"}},\"annotationdefaults\":{\"arrowcolor\":\"#2a3f5f\",\"arrowhead\":0,\"arrowwidth\":1},\"geo\":{\"bgcolor\":\"white\",\"landcolor\":\"#E5ECF6\",\"subunitcolor\":\"white\",\"showland\":true,\"showlakes\":true,\"lakecolor\":\"white\"},\"title\":{\"x\":0.05},\"mapbox\":{\"style\":\"light\"}}},\"xaxis\":{\"anchor\":\"y\",\"domain\":[0.0,1.0],\"matches\":\"x3\",\"showticklabels\":false},\"yaxis\":{\"anchor\":\"x\",\"domain\":[0.7333333333333334,1.0],\"range\":[0,1],\"tickfont\":{\"size\":14},\"showgrid\":false,\"zeroline\":false,\"showline\":false},\"xaxis2\":{\"anchor\":\"y2\",\"domain\":[0.0,1.0],\"matches\":\"x3\",\"showticklabels\":false},\"yaxis2\":{\"anchor\":\"x2\",\"domain\":[0.3666666666666667,0.6333333333333333],\"range\":[0,1],\"tickfont\":{\"size\":14},\"showgrid\":false,\"zeroline\":false,\"showline\":false},\"xaxis3\":{\"anchor\":\"y3\",\"domain\":[0.0,1.0],\"tickfont\":{\"size\":14},\"showgrid\":false,\"tickangle\":0},\"yaxis3\":{\"anchor\":\"x3\",\"domain\":[0.0,0.26666666666666666],\"range\":[0,1],\"tickfont\":{\"size\":14},\"showgrid\":false,\"zeroline\":false,\"showline\":false},\"annotations\":[{\"font\":{\"size\":16},\"showarrow\":false,\"text\":\"Cohen's Kappa\",\"x\":0.5,\"xanchor\":\"center\",\"xref\":\"paper\",\"y\":1.0,\"yanchor\":\"bottom\",\"yref\":\"paper\"},{\"font\":{\"size\":16},\"showarrow\":false,\"text\":\"MCC\",\"x\":0.5,\"xanchor\":\"center\",\"xref\":\"paper\",\"y\":0.6333333333333333,\"yanchor\":\"bottom\",\"yref\":\"paper\"},{\"font\":{\"size\":16},\"showarrow\":false,\"text\":\"1 - NLD\",\"x\":0.5,\"xanchor\":\"center\",\"xref\":\"paper\",\"y\":0.26666666666666666,\"yanchor\":\"bottom\",\"yref\":\"paper\"}],\"title\":{},\"violinmode\":\"overlay\",\"boxmode\":\"group\",\"boxgroupgap\":0,\"boxgap\":0,\"margin\":{\"l\":10,\"r\":10,\"b\":10,\"t\":10,\"pad\":0},\"width\":600,\"height\":450,\"paper_bgcolor\":\"rgba(0, 0, 0, 0)\",\"plot_bgcolor\":\"rgba(0, 0, 0, 0)\",\"showlegend\":false},                        {\"responsive\": true}                    ).then(function(){\n",
       "                            \n",
       "var gd = document.getElementById('22398683-3672-430b-896a-825344a66cf6');\n",
       "var x = new MutationObserver(function (mutations, observer) {{\n",
       "        var display = window.getComputedStyle(gd).display;\n",
       "        if (!display || display === 'none') {{\n",
       "            console.log([gd, 'removed!']);\n",
       "            Plotly.purge(gd);\n",
       "            observer.disconnect();\n",
       "        }}\n",
       "}});\n",
       "\n",
       "// Listen for the removal of the full notebook cells\n",
       "var notebookContainer = gd.closest('#notebook-container');\n",
       "if (notebookContainer) {{\n",
       "    x.observe(notebookContainer, {childList: true});\n",
       "}}\n",
       "\n",
       "// Listen for the clearing of the current output cell\n",
       "var outputEl = gd.closest('.output');\n",
       "if (outputEl) {{\n",
       "    x.observe(outputEl, {childList: true});\n",
       "}}\n",
       "\n",
       "                        })                };                });            </script>        </div>"
      ]
     },
     "metadata": {},
     "output_type": "display_data"
    }
   ],
   "execution_count": 16
  }
 ],
 "metadata": {
  "kernelspec": {
   "display_name": "Python 3",
   "language": "python",
   "name": "python3"
  },
  "language_info": {
   "codemirror_mode": {
    "name": "ipython",
    "version": 2
   },
   "file_extension": ".py",
   "mimetype": "text/x-python",
   "name": "python",
   "nbconvert_exporter": "python",
   "pygments_lexer": "ipython2",
   "version": "2.7.6"
  }
 },
 "nbformat": 4,
 "nbformat_minor": 5
}
