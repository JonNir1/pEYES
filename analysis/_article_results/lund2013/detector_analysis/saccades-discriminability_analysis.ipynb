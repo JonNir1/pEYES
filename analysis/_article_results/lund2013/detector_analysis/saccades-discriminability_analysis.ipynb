{
 "cells": [
  {
   "metadata": {},
   "cell_type": "markdown",
   "source": [
    "# 4b\n",
    "## Saccade Channel (Discriminability) Analysis"
   ],
   "id": "886c08f1987f82be"
  },
  {
   "metadata": {
    "ExecuteTime": {
     "end_time": "2024-11-25T22:57:22.808676Z",
     "start_time": "2024-11-25T22:57:21.450172Z"
    }
   },
   "cell_type": "code",
   "source": [
    "import os\n",
    "\n",
    "import cv2\n",
    "import numpy as np\n",
    "import pandas as pd\n",
    "import plotly.graph_objects as go\n",
    "from docutils.nodes import legend\n",
    "from plotly.subplots import make_subplots\n",
    "# import plotly.io as pio\n",
    "\n",
    "import peyes\n",
    "\n",
    "import analysis.utils as u\n",
    "from analysis._article_results.lund2013._helpers import *\n",
    "import analysis.statistics.channel_sdt as ch_sdt\n",
    "\n",
    "# pio.renderers.default = \"browser\""
   ],
   "id": "f7718d63f9f78aed",
   "outputs": [],
   "execution_count": 1
  },
  {
   "metadata": {},
   "cell_type": "markdown",
   "source": "## Load Data",
   "id": "d3369a33646432c0"
  },
  {
   "metadata": {
    "ExecuteTime": {
     "end_time": "2024-11-25T22:57:22.813993Z",
     "start_time": "2024-11-25T22:57:22.811878Z"
    }
   },
   "cell_type": "code",
   "source": [
    "LABEL = 2       # EventLabelEnum.SACCADE.value\n",
    "THRESHOLD = 5   # samples"
   ],
   "id": "7e3936ad2a5ac44d",
   "outputs": [],
   "execution_count": 2
  },
  {
   "metadata": {
    "ExecuteTime": {
     "end_time": "2024-11-25T22:57:23.544275Z",
     "start_time": "2024-11-25T22:57:23.050315Z"
    }
   },
   "cell_type": "code",
   "source": [
    "csdt_metrics = ch_sdt.load(\n",
    "    dataset_name=DATASET_NAME,\n",
    "    output_dir=PROCESSED_DATA_DIR,\n",
    "    label=LABEL,\n",
    "    stimulus_type=STIMULUS_TYPE,\n",
    "    channel_type=None,\n",
    ")\n",
    "\n",
    "csdt_metrics"
   ],
   "id": "d1b93564d7d55871",
   "outputs": [
    {
     "data": {
      "text/plain": [
       "trial_id                                          25               \\\n",
       "gt                                                RA                \n",
       "pred                                              MN      engbert   \n",
       "channel_type metric           threshold                             \n",
       "onset        P                0            25.000000    25.000000   \n",
       "             PP               0            26.000000    31.000000   \n",
       "             TP               0            19.000000     7.000000   \n",
       "             N                0          4963.000000  4963.000000   \n",
       "             recall           0             0.760000     0.280000   \n",
       "...                                              ...          ...   \n",
       "offset       precision        20            0.961538     0.806452   \n",
       "             f1               20            0.980392     0.892857   \n",
       "             false_alarm_rate 20            0.010346     0.062074   \n",
       "             d_prime          20            4.495950     3.887074   \n",
       "             criterion        20           -0.157000    -0.461438   \n",
       "\n",
       "trial_id                                                           \\\n",
       "gt                                                                  \n",
       "pred                                        remodnav         idvt   \n",
       "channel_type metric           threshold                             \n",
       "onset        P                0            25.000000    25.000000   \n",
       "             PP               0            13.000000    17.000000   \n",
       "             TP               0             3.000000     0.000000   \n",
       "             N                0          4963.000000  4963.000000   \n",
       "             recall           0             0.120000     0.000000   \n",
       "...                                              ...          ...   \n",
       "offset       precision        20            1.000000     1.000000   \n",
       "             f1               20            0.684211     0.809524   \n",
       "             false_alarm_rate 20            0.000000     0.000000   \n",
       "             d_prime          20            2.454317     2.864548   \n",
       "             criterion        20            1.177817     0.972701   \n",
       "\n",
       "trial_id                                                           \\\n",
       "gt                                                                  \n",
       "pred                                              nh          idt   \n",
       "channel_type metric           threshold                             \n",
       "onset        P                0            25.000000    25.000000   \n",
       "             PP               0            26.000000    17.000000   \n",
       "             TP               0             0.000000     0.000000   \n",
       "             N                0          4963.000000  4963.000000   \n",
       "             recall           0             0.000000     0.000000   \n",
       "...                                              ...          ...   \n",
       "offset       precision        20            0.846154     1.000000   \n",
       "             f1               20            0.862745     0.809524   \n",
       "             false_alarm_rate 20            0.041383     0.000000   \n",
       "             d_prime          20            2.909847     2.864548   \n",
       "             criterion        20            0.279937     0.972701   \n",
       "\n",
       "trial_id                                                           \\\n",
       "gt                                                                  \n",
       "pred                                            ivvt          ivt   \n",
       "channel_type metric           threshold                             \n",
       "onset        P                0            25.000000    25.000000   \n",
       "             PP               0            32.000000    32.000000   \n",
       "             TP               0             1.000000     1.000000   \n",
       "             N                0          4963.000000  4963.000000   \n",
       "             recall           0             0.040000     0.040000   \n",
       "...                                              ...          ...   \n",
       "offset       precision        20            0.781250     0.781250   \n",
       "             f1               20            0.877193     0.877193   \n",
       "             false_alarm_rate 20            0.072420     0.072420   \n",
       "             d_prime          20            3.814531     3.814531   \n",
       "             criterion        20           -0.497709    -0.497709   \n",
       "\n",
       "trial_id                                                           ...  \\\n",
       "gt                                                MN               ...   \n",
       "pred                                              RA      engbert  ...   \n",
       "channel_type metric           threshold                            ...   \n",
       "onset        P                0            26.000000    26.000000  ...   \n",
       "             PP               0            25.000000    31.000000  ...   \n",
       "             TP               0            19.000000     4.000000  ...   \n",
       "             N                0          4962.000000  4962.000000  ...   \n",
       "             recall           0             0.730769     0.153846  ...   \n",
       "...                                              ...          ...  ...   \n",
       "offset       precision        20            1.000000     0.838710  ...   \n",
       "             f1               20            0.980392     0.912281  ...   \n",
       "             false_alarm_rate 20            0.000000     0.052269  ...   \n",
       "             d_prime          20            4.090681     3.963870  ...   \n",
       "             criterion        20            0.359635    -0.423040  ...   \n",
       "\n",
       "trial_id                                          44               \\\n",
       "gt                                                RA                \n",
       "pred                                            ivvt          ivt   \n",
       "channel_type metric           threshold                             \n",
       "onset        P                0            27.000000    27.000000   \n",
       "             PP               0            31.000000    28.000000   \n",
       "             TP               0             0.000000     0.000000   \n",
       "             N                0          1969.000000  1969.000000   \n",
       "             recall           0             0.000000     0.000000   \n",
       "...                                              ...          ...   \n",
       "offset       precision        20            0.838710     0.821429   \n",
       "             f1               20            0.896552     0.836364   \n",
       "             false_alarm_rate 20            0.230596     0.230596   \n",
       "             d_prime          20            2.523040     1.781294   \n",
       "             criterion        20           -0.524635    -0.153762   \n",
       "\n",
       "trial_id                                                            \\\n",
       "gt                                                 MN                \n",
       "pred                                               RA      engbert   \n",
       "channel_type metric           threshold                              \n",
       "onset        P                0          2.700000e+01    27.000000   \n",
       "             PP               0          2.700000e+01    32.000000   \n",
       "             TP               0          1.800000e+01     2.000000   \n",
       "             N                0          1.969000e+03  1969.000000   \n",
       "             recall           0          6.666667e-01     0.074074   \n",
       "...                                               ...          ...   \n",
       "offset       precision        20         1.000000e+00     0.843750   \n",
       "             f1               20         1.000000e+00     0.915254   \n",
       "             false_alarm_rate 20         0.000000e+00     0.230596   \n",
       "             d_prime          20         4.118694e+00     2.761708   \n",
       "             criterion        20        -2.220446e-16    -0.678493   \n",
       "\n",
       "trial_id                                                           \\\n",
       "gt                                                                  \n",
       "pred                                        remodnav         idvt   \n",
       "channel_type metric           threshold                             \n",
       "onset        P                0            27.000000    27.000000   \n",
       "             PP               0            15.000000    17.000000   \n",
       "             TP               0             3.000000     0.000000   \n",
       "             N                0          1969.000000  1969.000000   \n",
       "             recall           0             0.111111     0.000000   \n",
       "...                                              ...          ...   \n",
       "offset       precision        20            1.000000     0.764706   \n",
       "             f1               20            0.714286     0.590909   \n",
       "             false_alarm_rate 20            0.000000     0.184477   \n",
       "             d_prime          20            2.193510     0.851999   \n",
       "             criterion        20            0.962592     0.472435   \n",
       "\n",
       "trial_id                                                           \\\n",
       "gt                                                                  \n",
       "pred                                              nh          idt   \n",
       "channel_type metric           threshold                             \n",
       "onset        P                0            27.000000    27.000000   \n",
       "             PP               0            28.000000    17.000000   \n",
       "             TP               0             0.000000     0.000000   \n",
       "             N                0          1969.000000  1969.000000   \n",
       "             recall           0             0.000000     0.000000   \n",
       "...                                              ...          ...   \n",
       "offset       precision        20            0.928571     0.764706   \n",
       "             f1               20            0.945455     0.590909   \n",
       "             false_alarm_rate 20            0.092238     0.184477   \n",
       "             d_prime          20            3.113252     0.851999   \n",
       "             criterion        20           -0.229530     0.472435   \n",
       "\n",
       "trial_id                                                           \n",
       "gt                                                                 \n",
       "pred                                            ivvt          ivt  \n",
       "channel_type metric           threshold                            \n",
       "onset        P                0            27.000000    27.000000  \n",
       "             PP               0            31.000000    28.000000  \n",
       "             TP               0             1.000000     1.000000  \n",
       "             N                0          1969.000000  1969.000000  \n",
       "             recall           0             0.037037     0.037037  \n",
       "...                                              ...          ...  \n",
       "offset       precision        20            0.838710     0.821429  \n",
       "             f1               20            0.896552     0.836364  \n",
       "             false_alarm_rate 20            0.230596     0.230596  \n",
       "             d_prime          20            2.523040     1.781294  \n",
       "             criterion        20           -0.524635    -0.153762  \n",
       "\n",
       "[420 rows x 266 columns]"
      ],
      "text/html": [
       "<div>\n",
       "<style scoped>\n",
       "    .dataframe tbody tr th:only-of-type {\n",
       "        vertical-align: middle;\n",
       "    }\n",
       "\n",
       "    .dataframe tbody tr th {\n",
       "        vertical-align: top;\n",
       "    }\n",
       "\n",
       "    .dataframe thead tr th {\n",
       "        text-align: left;\n",
       "    }\n",
       "\n",
       "    .dataframe thead tr:last-of-type th {\n",
       "        text-align: right;\n",
       "    }\n",
       "</style>\n",
       "<table border=\"1\" class=\"dataframe\">\n",
       "  <thead>\n",
       "    <tr>\n",
       "      <th></th>\n",
       "      <th></th>\n",
       "      <th>trial_id</th>\n",
       "      <th colspan=\"10\" halign=\"left\">25</th>\n",
       "      <th>...</th>\n",
       "      <th colspan=\"10\" halign=\"left\">44</th>\n",
       "    </tr>\n",
       "    <tr>\n",
       "      <th></th>\n",
       "      <th></th>\n",
       "      <th>gt</th>\n",
       "      <th colspan=\"8\" halign=\"left\">RA</th>\n",
       "      <th colspan=\"2\" halign=\"left\">MN</th>\n",
       "      <th>...</th>\n",
       "      <th colspan=\"2\" halign=\"left\">RA</th>\n",
       "      <th colspan=\"8\" halign=\"left\">MN</th>\n",
       "    </tr>\n",
       "    <tr>\n",
       "      <th></th>\n",
       "      <th></th>\n",
       "      <th>pred</th>\n",
       "      <th>MN</th>\n",
       "      <th>engbert</th>\n",
       "      <th>remodnav</th>\n",
       "      <th>idvt</th>\n",
       "      <th>nh</th>\n",
       "      <th>idt</th>\n",
       "      <th>ivvt</th>\n",
       "      <th>ivt</th>\n",
       "      <th>RA</th>\n",
       "      <th>engbert</th>\n",
       "      <th>...</th>\n",
       "      <th>ivvt</th>\n",
       "      <th>ivt</th>\n",
       "      <th>RA</th>\n",
       "      <th>engbert</th>\n",
       "      <th>remodnav</th>\n",
       "      <th>idvt</th>\n",
       "      <th>nh</th>\n",
       "      <th>idt</th>\n",
       "      <th>ivvt</th>\n",
       "      <th>ivt</th>\n",
       "    </tr>\n",
       "    <tr>\n",
       "      <th>channel_type</th>\n",
       "      <th>metric</th>\n",
       "      <th>threshold</th>\n",
       "      <th></th>\n",
       "      <th></th>\n",
       "      <th></th>\n",
       "      <th></th>\n",
       "      <th></th>\n",
       "      <th></th>\n",
       "      <th></th>\n",
       "      <th></th>\n",
       "      <th></th>\n",
       "      <th></th>\n",
       "      <th></th>\n",
       "      <th></th>\n",
       "      <th></th>\n",
       "      <th></th>\n",
       "      <th></th>\n",
       "      <th></th>\n",
       "      <th></th>\n",
       "      <th></th>\n",
       "      <th></th>\n",
       "      <th></th>\n",
       "      <th></th>\n",
       "    </tr>\n",
       "  </thead>\n",
       "  <tbody>\n",
       "    <tr>\n",
       "      <th rowspan=\"5\" valign=\"top\">onset</th>\n",
       "      <th>P</th>\n",
       "      <th>0</th>\n",
       "      <td>25.000000</td>\n",
       "      <td>25.000000</td>\n",
       "      <td>25.000000</td>\n",
       "      <td>25.000000</td>\n",
       "      <td>25.000000</td>\n",
       "      <td>25.000000</td>\n",
       "      <td>25.000000</td>\n",
       "      <td>25.000000</td>\n",
       "      <td>26.000000</td>\n",
       "      <td>26.000000</td>\n",
       "      <td>...</td>\n",
       "      <td>27.000000</td>\n",
       "      <td>27.000000</td>\n",
       "      <td>2.700000e+01</td>\n",
       "      <td>27.000000</td>\n",
       "      <td>27.000000</td>\n",
       "      <td>27.000000</td>\n",
       "      <td>27.000000</td>\n",
       "      <td>27.000000</td>\n",
       "      <td>27.000000</td>\n",
       "      <td>27.000000</td>\n",
       "    </tr>\n",
       "    <tr>\n",
       "      <th>PP</th>\n",
       "      <th>0</th>\n",
       "      <td>26.000000</td>\n",
       "      <td>31.000000</td>\n",
       "      <td>13.000000</td>\n",
       "      <td>17.000000</td>\n",
       "      <td>26.000000</td>\n",
       "      <td>17.000000</td>\n",
       "      <td>32.000000</td>\n",
       "      <td>32.000000</td>\n",
       "      <td>25.000000</td>\n",
       "      <td>31.000000</td>\n",
       "      <td>...</td>\n",
       "      <td>31.000000</td>\n",
       "      <td>28.000000</td>\n",
       "      <td>2.700000e+01</td>\n",
       "      <td>32.000000</td>\n",
       "      <td>15.000000</td>\n",
       "      <td>17.000000</td>\n",
       "      <td>28.000000</td>\n",
       "      <td>17.000000</td>\n",
       "      <td>31.000000</td>\n",
       "      <td>28.000000</td>\n",
       "    </tr>\n",
       "    <tr>\n",
       "      <th>TP</th>\n",
       "      <th>0</th>\n",
       "      <td>19.000000</td>\n",
       "      <td>7.000000</td>\n",
       "      <td>3.000000</td>\n",
       "      <td>0.000000</td>\n",
       "      <td>0.000000</td>\n",
       "      <td>0.000000</td>\n",
       "      <td>1.000000</td>\n",
       "      <td>1.000000</td>\n",
       "      <td>19.000000</td>\n",
       "      <td>4.000000</td>\n",
       "      <td>...</td>\n",
       "      <td>0.000000</td>\n",
       "      <td>0.000000</td>\n",
       "      <td>1.800000e+01</td>\n",
       "      <td>2.000000</td>\n",
       "      <td>3.000000</td>\n",
       "      <td>0.000000</td>\n",
       "      <td>0.000000</td>\n",
       "      <td>0.000000</td>\n",
       "      <td>1.000000</td>\n",
       "      <td>1.000000</td>\n",
       "    </tr>\n",
       "    <tr>\n",
       "      <th>N</th>\n",
       "      <th>0</th>\n",
       "      <td>4963.000000</td>\n",
       "      <td>4963.000000</td>\n",
       "      <td>4963.000000</td>\n",
       "      <td>4963.000000</td>\n",
       "      <td>4963.000000</td>\n",
       "      <td>4963.000000</td>\n",
       "      <td>4963.000000</td>\n",
       "      <td>4963.000000</td>\n",
       "      <td>4962.000000</td>\n",
       "      <td>4962.000000</td>\n",
       "      <td>...</td>\n",
       "      <td>1969.000000</td>\n",
       "      <td>1969.000000</td>\n",
       "      <td>1.969000e+03</td>\n",
       "      <td>1969.000000</td>\n",
       "      <td>1969.000000</td>\n",
       "      <td>1969.000000</td>\n",
       "      <td>1969.000000</td>\n",
       "      <td>1969.000000</td>\n",
       "      <td>1969.000000</td>\n",
       "      <td>1969.000000</td>\n",
       "    </tr>\n",
       "    <tr>\n",
       "      <th>recall</th>\n",
       "      <th>0</th>\n",
       "      <td>0.760000</td>\n",
       "      <td>0.280000</td>\n",
       "      <td>0.120000</td>\n",
       "      <td>0.000000</td>\n",
       "      <td>0.000000</td>\n",
       "      <td>0.000000</td>\n",
       "      <td>0.040000</td>\n",
       "      <td>0.040000</td>\n",
       "      <td>0.730769</td>\n",
       "      <td>0.153846</td>\n",
       "      <td>...</td>\n",
       "      <td>0.000000</td>\n",
       "      <td>0.000000</td>\n",
       "      <td>6.666667e-01</td>\n",
       "      <td>0.074074</td>\n",
       "      <td>0.111111</td>\n",
       "      <td>0.000000</td>\n",
       "      <td>0.000000</td>\n",
       "      <td>0.000000</td>\n",
       "      <td>0.037037</td>\n",
       "      <td>0.037037</td>\n",
       "    </tr>\n",
       "    <tr>\n",
       "      <th>...</th>\n",
       "      <th>...</th>\n",
       "      <th>...</th>\n",
       "      <td>...</td>\n",
       "      <td>...</td>\n",
       "      <td>...</td>\n",
       "      <td>...</td>\n",
       "      <td>...</td>\n",
       "      <td>...</td>\n",
       "      <td>...</td>\n",
       "      <td>...</td>\n",
       "      <td>...</td>\n",
       "      <td>...</td>\n",
       "      <td>...</td>\n",
       "      <td>...</td>\n",
       "      <td>...</td>\n",
       "      <td>...</td>\n",
       "      <td>...</td>\n",
       "      <td>...</td>\n",
       "      <td>...</td>\n",
       "      <td>...</td>\n",
       "      <td>...</td>\n",
       "      <td>...</td>\n",
       "      <td>...</td>\n",
       "    </tr>\n",
       "    <tr>\n",
       "      <th rowspan=\"5\" valign=\"top\">offset</th>\n",
       "      <th>precision</th>\n",
       "      <th>20</th>\n",
       "      <td>0.961538</td>\n",
       "      <td>0.806452</td>\n",
       "      <td>1.000000</td>\n",
       "      <td>1.000000</td>\n",
       "      <td>0.846154</td>\n",
       "      <td>1.000000</td>\n",
       "      <td>0.781250</td>\n",
       "      <td>0.781250</td>\n",
       "      <td>1.000000</td>\n",
       "      <td>0.838710</td>\n",
       "      <td>...</td>\n",
       "      <td>0.838710</td>\n",
       "      <td>0.821429</td>\n",
       "      <td>1.000000e+00</td>\n",
       "      <td>0.843750</td>\n",
       "      <td>1.000000</td>\n",
       "      <td>0.764706</td>\n",
       "      <td>0.928571</td>\n",
       "      <td>0.764706</td>\n",
       "      <td>0.838710</td>\n",
       "      <td>0.821429</td>\n",
       "    </tr>\n",
       "    <tr>\n",
       "      <th>f1</th>\n",
       "      <th>20</th>\n",
       "      <td>0.980392</td>\n",
       "      <td>0.892857</td>\n",
       "      <td>0.684211</td>\n",
       "      <td>0.809524</td>\n",
       "      <td>0.862745</td>\n",
       "      <td>0.809524</td>\n",
       "      <td>0.877193</td>\n",
       "      <td>0.877193</td>\n",
       "      <td>0.980392</td>\n",
       "      <td>0.912281</td>\n",
       "      <td>...</td>\n",
       "      <td>0.896552</td>\n",
       "      <td>0.836364</td>\n",
       "      <td>1.000000e+00</td>\n",
       "      <td>0.915254</td>\n",
       "      <td>0.714286</td>\n",
       "      <td>0.590909</td>\n",
       "      <td>0.945455</td>\n",
       "      <td>0.590909</td>\n",
       "      <td>0.896552</td>\n",
       "      <td>0.836364</td>\n",
       "    </tr>\n",
       "    <tr>\n",
       "      <th>false_alarm_rate</th>\n",
       "      <th>20</th>\n",
       "      <td>0.010346</td>\n",
       "      <td>0.062074</td>\n",
       "      <td>0.000000</td>\n",
       "      <td>0.000000</td>\n",
       "      <td>0.041383</td>\n",
       "      <td>0.000000</td>\n",
       "      <td>0.072420</td>\n",
       "      <td>0.072420</td>\n",
       "      <td>0.000000</td>\n",
       "      <td>0.052269</td>\n",
       "      <td>...</td>\n",
       "      <td>0.230596</td>\n",
       "      <td>0.230596</td>\n",
       "      <td>0.000000e+00</td>\n",
       "      <td>0.230596</td>\n",
       "      <td>0.000000</td>\n",
       "      <td>0.184477</td>\n",
       "      <td>0.092238</td>\n",
       "      <td>0.184477</td>\n",
       "      <td>0.230596</td>\n",
       "      <td>0.230596</td>\n",
       "    </tr>\n",
       "    <tr>\n",
       "      <th>d_prime</th>\n",
       "      <th>20</th>\n",
       "      <td>4.495950</td>\n",
       "      <td>3.887074</td>\n",
       "      <td>2.454317</td>\n",
       "      <td>2.864548</td>\n",
       "      <td>2.909847</td>\n",
       "      <td>2.864548</td>\n",
       "      <td>3.814531</td>\n",
       "      <td>3.814531</td>\n",
       "      <td>4.090681</td>\n",
       "      <td>3.963870</td>\n",
       "      <td>...</td>\n",
       "      <td>2.523040</td>\n",
       "      <td>1.781294</td>\n",
       "      <td>4.118694e+00</td>\n",
       "      <td>2.761708</td>\n",
       "      <td>2.193510</td>\n",
       "      <td>0.851999</td>\n",
       "      <td>3.113252</td>\n",
       "      <td>0.851999</td>\n",
       "      <td>2.523040</td>\n",
       "      <td>1.781294</td>\n",
       "    </tr>\n",
       "    <tr>\n",
       "      <th>criterion</th>\n",
       "      <th>20</th>\n",
       "      <td>-0.157000</td>\n",
       "      <td>-0.461438</td>\n",
       "      <td>1.177817</td>\n",
       "      <td>0.972701</td>\n",
       "      <td>0.279937</td>\n",
       "      <td>0.972701</td>\n",
       "      <td>-0.497709</td>\n",
       "      <td>-0.497709</td>\n",
       "      <td>0.359635</td>\n",
       "      <td>-0.423040</td>\n",
       "      <td>...</td>\n",
       "      <td>-0.524635</td>\n",
       "      <td>-0.153762</td>\n",
       "      <td>-2.220446e-16</td>\n",
       "      <td>-0.678493</td>\n",
       "      <td>0.962592</td>\n",
       "      <td>0.472435</td>\n",
       "      <td>-0.229530</td>\n",
       "      <td>0.472435</td>\n",
       "      <td>-0.524635</td>\n",
       "      <td>-0.153762</td>\n",
       "    </tr>\n",
       "  </tbody>\n",
       "</table>\n",
       "<p>420 rows × 266 columns</p>\n",
       "</div>"
      ]
     },
     "execution_count": 3,
     "metadata": {},
     "output_type": "execute_result"
    }
   ],
   "execution_count": 3
  },
  {
   "metadata": {
    "ExecuteTime": {
     "end_time": "2024-11-25T22:57:23.605887Z",
     "start_time": "2024-11-25T22:57:23.602445Z"
    }
   },
   "cell_type": "code",
   "source": "csdt_metrics.drop(index=['P', 'PP', 'N', 'TP'], level=peyes.constants.METRIC_STR, inplace=True)    # Remove unused metrics",
   "id": "295d0496b33e388b",
   "outputs": [],
   "execution_count": 4
  },
  {
   "metadata": {},
   "cell_type": "markdown",
   "source": "### Onset Detection",
   "id": "14eff01935851d50"
  },
  {
   "metadata": {
    "ExecuteTime": {
     "end_time": "2024-11-25T22:57:23.661736Z",
     "start_time": "2024-11-25T22:57:23.605887Z"
    }
   },
   "cell_type": "code",
   "source": [
    "onset_statistics, onset_pvalues, onset_nemenyi, onset_Ns = ch_sdt.friedman_nemenyi(\n",
    "    csdt_metrics, \"onset\", THRESHOLD, [GT1, GT2]\n",
    ")\n",
    "\n",
    "onset_pvalues <= ALPHA"
   ],
   "id": "f92603a48af54290",
   "outputs": [
    {
     "data": {
      "text/plain": [
       "gt                  MN    RA\n",
       "metric                      \n",
       "criterion         True  True\n",
       "d_prime           True  True\n",
       "f1                True  True\n",
       "false_alarm_rate  True  True\n",
       "precision         True  True\n",
       "recall            True  True"
      ],
      "text/html": [
       "<div>\n",
       "<style scoped>\n",
       "    .dataframe tbody tr th:only-of-type {\n",
       "        vertical-align: middle;\n",
       "    }\n",
       "\n",
       "    .dataframe tbody tr th {\n",
       "        vertical-align: top;\n",
       "    }\n",
       "\n",
       "    .dataframe thead th {\n",
       "        text-align: right;\n",
       "    }\n",
       "</style>\n",
       "<table border=\"1\" class=\"dataframe\">\n",
       "  <thead>\n",
       "    <tr style=\"text-align: right;\">\n",
       "      <th>gt</th>\n",
       "      <th>MN</th>\n",
       "      <th>RA</th>\n",
       "    </tr>\n",
       "    <tr>\n",
       "      <th>metric</th>\n",
       "      <th></th>\n",
       "      <th></th>\n",
       "    </tr>\n",
       "  </thead>\n",
       "  <tbody>\n",
       "    <tr>\n",
       "      <th>criterion</th>\n",
       "      <td>True</td>\n",
       "      <td>True</td>\n",
       "    </tr>\n",
       "    <tr>\n",
       "      <th>d_prime</th>\n",
       "      <td>True</td>\n",
       "      <td>True</td>\n",
       "    </tr>\n",
       "    <tr>\n",
       "      <th>f1</th>\n",
       "      <td>True</td>\n",
       "      <td>True</td>\n",
       "    </tr>\n",
       "    <tr>\n",
       "      <th>false_alarm_rate</th>\n",
       "      <td>True</td>\n",
       "      <td>True</td>\n",
       "    </tr>\n",
       "    <tr>\n",
       "      <th>precision</th>\n",
       "      <td>True</td>\n",
       "      <td>True</td>\n",
       "    </tr>\n",
       "    <tr>\n",
       "      <th>recall</th>\n",
       "      <td>True</td>\n",
       "      <td>True</td>\n",
       "    </tr>\n",
       "  </tbody>\n",
       "</table>\n",
       "</div>"
      ]
     },
     "execution_count": 5,
     "metadata": {},
     "output_type": "execute_result"
    }
   ],
   "execution_count": 5
  },
  {
   "metadata": {
    "ExecuteTime": {
     "end_time": "2024-11-25T22:57:23.802290Z",
     "start_time": "2024-11-25T22:57:23.795075Z"
    }
   },
   "cell_type": "code",
   "source": "pd.concat([onset_statistics, onset_pvalues], axis=1, keys=['Fr', 'p']).stack(1, future_stack=True)",
   "id": "720c0076a7c8af22",
   "outputs": [
    {
     "data": {
      "text/plain": [
       "                            Fr             p\n",
       "metric           gt                         \n",
       "criterion        MN  68.922280  6.800451e-13\n",
       "                 RA  94.618314  3.319779e-18\n",
       "d_prime          MN  66.093264  2.579425e-12\n",
       "                 RA  85.240254  2.943650e-16\n",
       "f1               MN  52.259067  1.653987e-09\n",
       "                 RA  70.335449  3.489760e-13\n",
       "false_alarm_rate MN  52.779944  1.299309e-09\n",
       "                 RA  73.444874  8.019047e-14\n",
       "precision        MN  43.630522  8.749977e-08\n",
       "                 RA  48.486940  9.443735e-09\n",
       "recall           MN  65.404826  3.566126e-12\n",
       "                 RA  92.139229  1.088599e-17"
      ],
      "text/html": [
       "<div>\n",
       "<style scoped>\n",
       "    .dataframe tbody tr th:only-of-type {\n",
       "        vertical-align: middle;\n",
       "    }\n",
       "\n",
       "    .dataframe tbody tr th {\n",
       "        vertical-align: top;\n",
       "    }\n",
       "\n",
       "    .dataframe thead th {\n",
       "        text-align: right;\n",
       "    }\n",
       "</style>\n",
       "<table border=\"1\" class=\"dataframe\">\n",
       "  <thead>\n",
       "    <tr style=\"text-align: right;\">\n",
       "      <th></th>\n",
       "      <th></th>\n",
       "      <th>Fr</th>\n",
       "      <th>p</th>\n",
       "    </tr>\n",
       "    <tr>\n",
       "      <th>metric</th>\n",
       "      <th>gt</th>\n",
       "      <th></th>\n",
       "      <th></th>\n",
       "    </tr>\n",
       "  </thead>\n",
       "  <tbody>\n",
       "    <tr>\n",
       "      <th rowspan=\"2\" valign=\"top\">criterion</th>\n",
       "      <th>MN</th>\n",
       "      <td>68.922280</td>\n",
       "      <td>6.800451e-13</td>\n",
       "    </tr>\n",
       "    <tr>\n",
       "      <th>RA</th>\n",
       "      <td>94.618314</td>\n",
       "      <td>3.319779e-18</td>\n",
       "    </tr>\n",
       "    <tr>\n",
       "      <th rowspan=\"2\" valign=\"top\">d_prime</th>\n",
       "      <th>MN</th>\n",
       "      <td>66.093264</td>\n",
       "      <td>2.579425e-12</td>\n",
       "    </tr>\n",
       "    <tr>\n",
       "      <th>RA</th>\n",
       "      <td>85.240254</td>\n",
       "      <td>2.943650e-16</td>\n",
       "    </tr>\n",
       "    <tr>\n",
       "      <th rowspan=\"2\" valign=\"top\">f1</th>\n",
       "      <th>MN</th>\n",
       "      <td>52.259067</td>\n",
       "      <td>1.653987e-09</td>\n",
       "    </tr>\n",
       "    <tr>\n",
       "      <th>RA</th>\n",
       "      <td>70.335449</td>\n",
       "      <td>3.489760e-13</td>\n",
       "    </tr>\n",
       "    <tr>\n",
       "      <th rowspan=\"2\" valign=\"top\">false_alarm_rate</th>\n",
       "      <th>MN</th>\n",
       "      <td>52.779944</td>\n",
       "      <td>1.299309e-09</td>\n",
       "    </tr>\n",
       "    <tr>\n",
       "      <th>RA</th>\n",
       "      <td>73.444874</td>\n",
       "      <td>8.019047e-14</td>\n",
       "    </tr>\n",
       "    <tr>\n",
       "      <th rowspan=\"2\" valign=\"top\">precision</th>\n",
       "      <th>MN</th>\n",
       "      <td>43.630522</td>\n",
       "      <td>8.749977e-08</td>\n",
       "    </tr>\n",
       "    <tr>\n",
       "      <th>RA</th>\n",
       "      <td>48.486940</td>\n",
       "      <td>9.443735e-09</td>\n",
       "    </tr>\n",
       "    <tr>\n",
       "      <th rowspan=\"2\" valign=\"top\">recall</th>\n",
       "      <th>MN</th>\n",
       "      <td>65.404826</td>\n",
       "      <td>3.566126e-12</td>\n",
       "    </tr>\n",
       "    <tr>\n",
       "      <th>RA</th>\n",
       "      <td>92.139229</td>\n",
       "      <td>1.088599e-17</td>\n",
       "    </tr>\n",
       "  </tbody>\n",
       "</table>\n",
       "</div>"
      ]
     },
     "execution_count": 6,
     "metadata": {},
     "output_type": "execute_result"
    }
   ],
   "execution_count": 6
  },
  {
   "metadata": {},
   "cell_type": "markdown",
   "source": "#### Post Hoc Analysis",
   "id": "df4fc2dacb0c1ada"
  },
  {
   "metadata": {
    "ExecuteTime": {
     "end_time": "2024-11-25T22:57:23.940565Z",
     "start_time": "2024-11-25T22:57:23.926814Z"
    }
   },
   "cell_type": "code",
   "source": [
    "post_hoc_onset_dprime = ch_sdt.post_hoc_table(\n",
    "    onset_nemenyi, peyes.constants.D_PRIME_STR, [GT1, GT2], ALPHA, marginal_alpha=MARGINAL_ALPHA\n",
    ")\n",
    "post_hoc_onset_dprime"
   ],
   "id": "432f8fe9c479c2d5",
   "outputs": [
    {
     "data": {
      "text/plain": [
       "pred            ivt    ivvt     idt    idvt engbert      nh remodnav\n",
       "pred     gt                                                         \n",
       "ivt      MN      --    n.s.      **      **    n.s.     ***     n.s.\n",
       "         RA      --    n.s.     ***     ***    n.s.     ***       **\n",
       "ivvt     MN  1.0000      --      **      **    n.s.     ***     n.s.\n",
       "         RA  0.9999      --     ***      **    n.s.     ***        *\n",
       "idt      MN  0.0030  0.0028      --    n.s.     ***    n.s.     n.s.\n",
       "         RA  0.0002  0.0010      --    n.s.     ***    n.s.     n.s.\n",
       "idvt     MN  0.0061  0.0057  1.0000      --      **    n.s.     n.s.\n",
       "         RA  0.0008  0.0037  1.0000      --     ***    n.s.     n.s.\n",
       "engbert  MN  0.9998  0.9998  0.0004  0.0010      --     ***        *\n",
       "         RA  0.9982  0.9779  0.0000  0.0000      --     ***      ***\n",
       "nh       MN  0.0002  0.0002  0.9981  0.9924  0.0000      --     n.s.\n",
       "         RA  0.0000  0.0000  0.9982  0.9826  0.0000      --     n.s.\n",
       "remodnav MN  0.0870  0.0830  0.9733  0.9904  0.0245  0.7713       --\n",
       "         RA  0.0054  0.0197  0.9935  0.9997  0.0004  0.8806       --"
      ],
      "text/html": [
       "<div>\n",
       "<style scoped>\n",
       "    .dataframe tbody tr th:only-of-type {\n",
       "        vertical-align: middle;\n",
       "    }\n",
       "\n",
       "    .dataframe tbody tr th {\n",
       "        vertical-align: top;\n",
       "    }\n",
       "\n",
       "    .dataframe thead th {\n",
       "        text-align: right;\n",
       "    }\n",
       "</style>\n",
       "<table border=\"1\" class=\"dataframe\">\n",
       "  <thead>\n",
       "    <tr style=\"text-align: right;\">\n",
       "      <th></th>\n",
       "      <th>pred</th>\n",
       "      <th>ivt</th>\n",
       "      <th>ivvt</th>\n",
       "      <th>idt</th>\n",
       "      <th>idvt</th>\n",
       "      <th>engbert</th>\n",
       "      <th>nh</th>\n",
       "      <th>remodnav</th>\n",
       "    </tr>\n",
       "    <tr>\n",
       "      <th>pred</th>\n",
       "      <th>gt</th>\n",
       "      <th></th>\n",
       "      <th></th>\n",
       "      <th></th>\n",
       "      <th></th>\n",
       "      <th></th>\n",
       "      <th></th>\n",
       "      <th></th>\n",
       "    </tr>\n",
       "  </thead>\n",
       "  <tbody>\n",
       "    <tr>\n",
       "      <th rowspan=\"2\" valign=\"top\">ivt</th>\n",
       "      <th>MN</th>\n",
       "      <td>--</td>\n",
       "      <td>n.s.</td>\n",
       "      <td>**</td>\n",
       "      <td>**</td>\n",
       "      <td>n.s.</td>\n",
       "      <td>***</td>\n",
       "      <td>n.s.</td>\n",
       "    </tr>\n",
       "    <tr>\n",
       "      <th>RA</th>\n",
       "      <td>--</td>\n",
       "      <td>n.s.</td>\n",
       "      <td>***</td>\n",
       "      <td>***</td>\n",
       "      <td>n.s.</td>\n",
       "      <td>***</td>\n",
       "      <td>**</td>\n",
       "    </tr>\n",
       "    <tr>\n",
       "      <th rowspan=\"2\" valign=\"top\">ivvt</th>\n",
       "      <th>MN</th>\n",
       "      <td>1.0000</td>\n",
       "      <td>--</td>\n",
       "      <td>**</td>\n",
       "      <td>**</td>\n",
       "      <td>n.s.</td>\n",
       "      <td>***</td>\n",
       "      <td>n.s.</td>\n",
       "    </tr>\n",
       "    <tr>\n",
       "      <th>RA</th>\n",
       "      <td>0.9999</td>\n",
       "      <td>--</td>\n",
       "      <td>***</td>\n",
       "      <td>**</td>\n",
       "      <td>n.s.</td>\n",
       "      <td>***</td>\n",
       "      <td>*</td>\n",
       "    </tr>\n",
       "    <tr>\n",
       "      <th rowspan=\"2\" valign=\"top\">idt</th>\n",
       "      <th>MN</th>\n",
       "      <td>0.0030</td>\n",
       "      <td>0.0028</td>\n",
       "      <td>--</td>\n",
       "      <td>n.s.</td>\n",
       "      <td>***</td>\n",
       "      <td>n.s.</td>\n",
       "      <td>n.s.</td>\n",
       "    </tr>\n",
       "    <tr>\n",
       "      <th>RA</th>\n",
       "      <td>0.0002</td>\n",
       "      <td>0.0010</td>\n",
       "      <td>--</td>\n",
       "      <td>n.s.</td>\n",
       "      <td>***</td>\n",
       "      <td>n.s.</td>\n",
       "      <td>n.s.</td>\n",
       "    </tr>\n",
       "    <tr>\n",
       "      <th rowspan=\"2\" valign=\"top\">idvt</th>\n",
       "      <th>MN</th>\n",
       "      <td>0.0061</td>\n",
       "      <td>0.0057</td>\n",
       "      <td>1.0000</td>\n",
       "      <td>--</td>\n",
       "      <td>**</td>\n",
       "      <td>n.s.</td>\n",
       "      <td>n.s.</td>\n",
       "    </tr>\n",
       "    <tr>\n",
       "      <th>RA</th>\n",
       "      <td>0.0008</td>\n",
       "      <td>0.0037</td>\n",
       "      <td>1.0000</td>\n",
       "      <td>--</td>\n",
       "      <td>***</td>\n",
       "      <td>n.s.</td>\n",
       "      <td>n.s.</td>\n",
       "    </tr>\n",
       "    <tr>\n",
       "      <th rowspan=\"2\" valign=\"top\">engbert</th>\n",
       "      <th>MN</th>\n",
       "      <td>0.9998</td>\n",
       "      <td>0.9998</td>\n",
       "      <td>0.0004</td>\n",
       "      <td>0.0010</td>\n",
       "      <td>--</td>\n",
       "      <td>***</td>\n",
       "      <td>*</td>\n",
       "    </tr>\n",
       "    <tr>\n",
       "      <th>RA</th>\n",
       "      <td>0.9982</td>\n",
       "      <td>0.9779</td>\n",
       "      <td>0.0000</td>\n",
       "      <td>0.0000</td>\n",
       "      <td>--</td>\n",
       "      <td>***</td>\n",
       "      <td>***</td>\n",
       "    </tr>\n",
       "    <tr>\n",
       "      <th rowspan=\"2\" valign=\"top\">nh</th>\n",
       "      <th>MN</th>\n",
       "      <td>0.0002</td>\n",
       "      <td>0.0002</td>\n",
       "      <td>0.9981</td>\n",
       "      <td>0.9924</td>\n",
       "      <td>0.0000</td>\n",
       "      <td>--</td>\n",
       "      <td>n.s.</td>\n",
       "    </tr>\n",
       "    <tr>\n",
       "      <th>RA</th>\n",
       "      <td>0.0000</td>\n",
       "      <td>0.0000</td>\n",
       "      <td>0.9982</td>\n",
       "      <td>0.9826</td>\n",
       "      <td>0.0000</td>\n",
       "      <td>--</td>\n",
       "      <td>n.s.</td>\n",
       "    </tr>\n",
       "    <tr>\n",
       "      <th rowspan=\"2\" valign=\"top\">remodnav</th>\n",
       "      <th>MN</th>\n",
       "      <td>0.0870</td>\n",
       "      <td>0.0830</td>\n",
       "      <td>0.9733</td>\n",
       "      <td>0.9904</td>\n",
       "      <td>0.0245</td>\n",
       "      <td>0.7713</td>\n",
       "      <td>--</td>\n",
       "    </tr>\n",
       "    <tr>\n",
       "      <th>RA</th>\n",
       "      <td>0.0054</td>\n",
       "      <td>0.0197</td>\n",
       "      <td>0.9935</td>\n",
       "      <td>0.9997</td>\n",
       "      <td>0.0004</td>\n",
       "      <td>0.8806</td>\n",
       "      <td>--</td>\n",
       "    </tr>\n",
       "  </tbody>\n",
       "</table>\n",
       "</div>"
      ]
     },
     "execution_count": 7,
     "metadata": {},
     "output_type": "execute_result"
    }
   ],
   "execution_count": 7
  },
  {
   "metadata": {
    "ExecuteTime": {
     "end_time": "2024-11-25T22:57:25.597389Z",
     "start_time": "2024-11-25T22:57:25.574260Z"
    }
   },
   "cell_type": "code",
   "source": [
    "post_hoc_onset_f1 = ch_sdt.post_hoc_table(\n",
    "    onset_nemenyi, peyes.constants.F1_STR, [GT1, GT2], ALPHA, marginal_alpha=MARGINAL_ALPHA\n",
    ")\n",
    "post_hoc_onset_f1"
   ],
   "id": "6c9df22757fc57c9",
   "outputs": [
    {
     "data": {
      "text/plain": [
       "pred            ivt    ivvt     idt    idvt engbert      nh remodnav\n",
       "pred     gt                                                         \n",
       "ivt      MN      --    n.s.       *       †    n.s.      **        *\n",
       "         RA      --    n.s.      **       *    n.s.      **       **\n",
       "ivvt     MN  0.9837      --    n.s.    n.s.    n.s.    n.s.     n.s.\n",
       "         RA  0.9675      --    n.s.    n.s.    n.s.       *     n.s.\n",
       "idt      MN  0.0245  0.2565      --    n.s.       *    n.s.     n.s.\n",
       "         RA  0.0036  0.1080      --    n.s.      **    n.s.     n.s.\n",
       "idvt     MN  0.0543  0.3997  1.0000      --       †    n.s.     n.s.\n",
       "         RA  0.0123  0.2238  1.0000      --      **    n.s.     n.s.\n",
       "engbert  MN  1.0000  0.9898  0.0313  0.0674      --      **        *\n",
       "         RA  1.0000  0.9297  0.0017  0.0063      --     ***       **\n",
       "nh       MN  0.0048  0.0932  0.9997  0.9957  0.0065      --     n.s.\n",
       "         RA  0.0010  0.0476  1.0000  0.9979  0.0004      --     n.s.\n",
       "remodnav MN  0.0359  0.3193  1.0000  1.0000  0.0453  0.9987       --\n",
       "         RA  0.0025  0.0866  1.0000  0.9998  0.0012  1.0000       --"
      ],
      "text/html": [
       "<div>\n",
       "<style scoped>\n",
       "    .dataframe tbody tr th:only-of-type {\n",
       "        vertical-align: middle;\n",
       "    }\n",
       "\n",
       "    .dataframe tbody tr th {\n",
       "        vertical-align: top;\n",
       "    }\n",
       "\n",
       "    .dataframe thead th {\n",
       "        text-align: right;\n",
       "    }\n",
       "</style>\n",
       "<table border=\"1\" class=\"dataframe\">\n",
       "  <thead>\n",
       "    <tr style=\"text-align: right;\">\n",
       "      <th></th>\n",
       "      <th>pred</th>\n",
       "      <th>ivt</th>\n",
       "      <th>ivvt</th>\n",
       "      <th>idt</th>\n",
       "      <th>idvt</th>\n",
       "      <th>engbert</th>\n",
       "      <th>nh</th>\n",
       "      <th>remodnav</th>\n",
       "    </tr>\n",
       "    <tr>\n",
       "      <th>pred</th>\n",
       "      <th>gt</th>\n",
       "      <th></th>\n",
       "      <th></th>\n",
       "      <th></th>\n",
       "      <th></th>\n",
       "      <th></th>\n",
       "      <th></th>\n",
       "      <th></th>\n",
       "    </tr>\n",
       "  </thead>\n",
       "  <tbody>\n",
       "    <tr>\n",
       "      <th rowspan=\"2\" valign=\"top\">ivt</th>\n",
       "      <th>MN</th>\n",
       "      <td>--</td>\n",
       "      <td>n.s.</td>\n",
       "      <td>*</td>\n",
       "      <td>†</td>\n",
       "      <td>n.s.</td>\n",
       "      <td>**</td>\n",
       "      <td>*</td>\n",
       "    </tr>\n",
       "    <tr>\n",
       "      <th>RA</th>\n",
       "      <td>--</td>\n",
       "      <td>n.s.</td>\n",
       "      <td>**</td>\n",
       "      <td>*</td>\n",
       "      <td>n.s.</td>\n",
       "      <td>**</td>\n",
       "      <td>**</td>\n",
       "    </tr>\n",
       "    <tr>\n",
       "      <th rowspan=\"2\" valign=\"top\">ivvt</th>\n",
       "      <th>MN</th>\n",
       "      <td>0.9837</td>\n",
       "      <td>--</td>\n",
       "      <td>n.s.</td>\n",
       "      <td>n.s.</td>\n",
       "      <td>n.s.</td>\n",
       "      <td>n.s.</td>\n",
       "      <td>n.s.</td>\n",
       "    </tr>\n",
       "    <tr>\n",
       "      <th>RA</th>\n",
       "      <td>0.9675</td>\n",
       "      <td>--</td>\n",
       "      <td>n.s.</td>\n",
       "      <td>n.s.</td>\n",
       "      <td>n.s.</td>\n",
       "      <td>*</td>\n",
       "      <td>n.s.</td>\n",
       "    </tr>\n",
       "    <tr>\n",
       "      <th rowspan=\"2\" valign=\"top\">idt</th>\n",
       "      <th>MN</th>\n",
       "      <td>0.0245</td>\n",
       "      <td>0.2565</td>\n",
       "      <td>--</td>\n",
       "      <td>n.s.</td>\n",
       "      <td>*</td>\n",
       "      <td>n.s.</td>\n",
       "      <td>n.s.</td>\n",
       "    </tr>\n",
       "    <tr>\n",
       "      <th>RA</th>\n",
       "      <td>0.0036</td>\n",
       "      <td>0.1080</td>\n",
       "      <td>--</td>\n",
       "      <td>n.s.</td>\n",
       "      <td>**</td>\n",
       "      <td>n.s.</td>\n",
       "      <td>n.s.</td>\n",
       "    </tr>\n",
       "    <tr>\n",
       "      <th rowspan=\"2\" valign=\"top\">idvt</th>\n",
       "      <th>MN</th>\n",
       "      <td>0.0543</td>\n",
       "      <td>0.3997</td>\n",
       "      <td>1.0000</td>\n",
       "      <td>--</td>\n",
       "      <td>†</td>\n",
       "      <td>n.s.</td>\n",
       "      <td>n.s.</td>\n",
       "    </tr>\n",
       "    <tr>\n",
       "      <th>RA</th>\n",
       "      <td>0.0123</td>\n",
       "      <td>0.2238</td>\n",
       "      <td>1.0000</td>\n",
       "      <td>--</td>\n",
       "      <td>**</td>\n",
       "      <td>n.s.</td>\n",
       "      <td>n.s.</td>\n",
       "    </tr>\n",
       "    <tr>\n",
       "      <th rowspan=\"2\" valign=\"top\">engbert</th>\n",
       "      <th>MN</th>\n",
       "      <td>1.0000</td>\n",
       "      <td>0.9898</td>\n",
       "      <td>0.0313</td>\n",
       "      <td>0.0674</td>\n",
       "      <td>--</td>\n",
       "      <td>**</td>\n",
       "      <td>*</td>\n",
       "    </tr>\n",
       "    <tr>\n",
       "      <th>RA</th>\n",
       "      <td>1.0000</td>\n",
       "      <td>0.9297</td>\n",
       "      <td>0.0017</td>\n",
       "      <td>0.0063</td>\n",
       "      <td>--</td>\n",
       "      <td>***</td>\n",
       "      <td>**</td>\n",
       "    </tr>\n",
       "    <tr>\n",
       "      <th rowspan=\"2\" valign=\"top\">nh</th>\n",
       "      <th>MN</th>\n",
       "      <td>0.0048</td>\n",
       "      <td>0.0932</td>\n",
       "      <td>0.9997</td>\n",
       "      <td>0.9957</td>\n",
       "      <td>0.0065</td>\n",
       "      <td>--</td>\n",
       "      <td>n.s.</td>\n",
       "    </tr>\n",
       "    <tr>\n",
       "      <th>RA</th>\n",
       "      <td>0.0010</td>\n",
       "      <td>0.0476</td>\n",
       "      <td>1.0000</td>\n",
       "      <td>0.9979</td>\n",
       "      <td>0.0004</td>\n",
       "      <td>--</td>\n",
       "      <td>n.s.</td>\n",
       "    </tr>\n",
       "    <tr>\n",
       "      <th rowspan=\"2\" valign=\"top\">remodnav</th>\n",
       "      <th>MN</th>\n",
       "      <td>0.0359</td>\n",
       "      <td>0.3193</td>\n",
       "      <td>1.0000</td>\n",
       "      <td>1.0000</td>\n",
       "      <td>0.0453</td>\n",
       "      <td>0.9987</td>\n",
       "      <td>--</td>\n",
       "    </tr>\n",
       "    <tr>\n",
       "      <th>RA</th>\n",
       "      <td>0.0025</td>\n",
       "      <td>0.0866</td>\n",
       "      <td>1.0000</td>\n",
       "      <td>0.9998</td>\n",
       "      <td>0.0012</td>\n",
       "      <td>1.0000</td>\n",
       "      <td>--</td>\n",
       "    </tr>\n",
       "  </tbody>\n",
       "</table>\n",
       "</div>"
      ]
     },
     "execution_count": 8,
     "metadata": {},
     "output_type": "execute_result"
    }
   ],
   "execution_count": 8
  },
  {
   "metadata": {
    "ExecuteTime": {
     "end_time": "2024-11-25T22:57:25.800516Z",
     "start_time": "2024-11-25T22:57:25.787463Z"
    }
   },
   "cell_type": "code",
   "source": [
    "post_hoc_onset_crit = ch_sdt.post_hoc_table(\n",
    "    onset_nemenyi, peyes.constants.CRITERION_STR, [GT1, GT2], ALPHA, marginal_alpha=MARGINAL_ALPHA\n",
    ")\n",
    "post_hoc_onset_crit"
   ],
   "id": "f658c170b2195f54",
   "outputs": [
    {
     "data": {
      "text/plain": [
       "pred            ivt    ivvt     idt    idvt engbert      nh remodnav\n",
       "pred     gt                                                         \n",
       "ivt      MN      --    n.s.       *       †    n.s.    n.s.      ***\n",
       "         RA      --    n.s.      **      **    n.s.    n.s.      ***\n",
       "ivvt     MN  0.9985      --      **      **    n.s.       *      ***\n",
       "         RA  0.9983      --     ***     ***    n.s.       *      ***\n",
       "idt      MN  0.0328  0.0040      --    n.s.      **    n.s.     n.s.\n",
       "         RA  0.0017  0.0001      --    n.s.     ***    n.s.     n.s.\n",
       "idvt     MN  0.0530  0.0074  1.0000      --      **    n.s.     n.s.\n",
       "         RA  0.0027  0.0002  1.0000      --     ***    n.s.     n.s.\n",
       "engbert  MN  0.9967  1.0000  0.0028  0.0053      --       *      ***\n",
       "         RA  0.9936  1.0000  0.0000  0.0001      --       *      ***\n",
       "nh       MN  0.2104  0.0482  0.9955  0.9989  0.0369      --     n.s.\n",
       "         RA  0.1057  0.0178  0.9315  0.9570  0.0101      --     n.s.\n",
       "remodnav MN  0.0001  0.0000  0.8936  0.8288  0.0000  0.4997       --\n",
       "         RA  0.0000  0.0000  0.8800  0.8331  0.0000  0.2042       --"
      ],
      "text/html": [
       "<div>\n",
       "<style scoped>\n",
       "    .dataframe tbody tr th:only-of-type {\n",
       "        vertical-align: middle;\n",
       "    }\n",
       "\n",
       "    .dataframe tbody tr th {\n",
       "        vertical-align: top;\n",
       "    }\n",
       "\n",
       "    .dataframe thead th {\n",
       "        text-align: right;\n",
       "    }\n",
       "</style>\n",
       "<table border=\"1\" class=\"dataframe\">\n",
       "  <thead>\n",
       "    <tr style=\"text-align: right;\">\n",
       "      <th></th>\n",
       "      <th>pred</th>\n",
       "      <th>ivt</th>\n",
       "      <th>ivvt</th>\n",
       "      <th>idt</th>\n",
       "      <th>idvt</th>\n",
       "      <th>engbert</th>\n",
       "      <th>nh</th>\n",
       "      <th>remodnav</th>\n",
       "    </tr>\n",
       "    <tr>\n",
       "      <th>pred</th>\n",
       "      <th>gt</th>\n",
       "      <th></th>\n",
       "      <th></th>\n",
       "      <th></th>\n",
       "      <th></th>\n",
       "      <th></th>\n",
       "      <th></th>\n",
       "      <th></th>\n",
       "    </tr>\n",
       "  </thead>\n",
       "  <tbody>\n",
       "    <tr>\n",
       "      <th rowspan=\"2\" valign=\"top\">ivt</th>\n",
       "      <th>MN</th>\n",
       "      <td>--</td>\n",
       "      <td>n.s.</td>\n",
       "      <td>*</td>\n",
       "      <td>†</td>\n",
       "      <td>n.s.</td>\n",
       "      <td>n.s.</td>\n",
       "      <td>***</td>\n",
       "    </tr>\n",
       "    <tr>\n",
       "      <th>RA</th>\n",
       "      <td>--</td>\n",
       "      <td>n.s.</td>\n",
       "      <td>**</td>\n",
       "      <td>**</td>\n",
       "      <td>n.s.</td>\n",
       "      <td>n.s.</td>\n",
       "      <td>***</td>\n",
       "    </tr>\n",
       "    <tr>\n",
       "      <th rowspan=\"2\" valign=\"top\">ivvt</th>\n",
       "      <th>MN</th>\n",
       "      <td>0.9985</td>\n",
       "      <td>--</td>\n",
       "      <td>**</td>\n",
       "      <td>**</td>\n",
       "      <td>n.s.</td>\n",
       "      <td>*</td>\n",
       "      <td>***</td>\n",
       "    </tr>\n",
       "    <tr>\n",
       "      <th>RA</th>\n",
       "      <td>0.9983</td>\n",
       "      <td>--</td>\n",
       "      <td>***</td>\n",
       "      <td>***</td>\n",
       "      <td>n.s.</td>\n",
       "      <td>*</td>\n",
       "      <td>***</td>\n",
       "    </tr>\n",
       "    <tr>\n",
       "      <th rowspan=\"2\" valign=\"top\">idt</th>\n",
       "      <th>MN</th>\n",
       "      <td>0.0328</td>\n",
       "      <td>0.0040</td>\n",
       "      <td>--</td>\n",
       "      <td>n.s.</td>\n",
       "      <td>**</td>\n",
       "      <td>n.s.</td>\n",
       "      <td>n.s.</td>\n",
       "    </tr>\n",
       "    <tr>\n",
       "      <th>RA</th>\n",
       "      <td>0.0017</td>\n",
       "      <td>0.0001</td>\n",
       "      <td>--</td>\n",
       "      <td>n.s.</td>\n",
       "      <td>***</td>\n",
       "      <td>n.s.</td>\n",
       "      <td>n.s.</td>\n",
       "    </tr>\n",
       "    <tr>\n",
       "      <th rowspan=\"2\" valign=\"top\">idvt</th>\n",
       "      <th>MN</th>\n",
       "      <td>0.0530</td>\n",
       "      <td>0.0074</td>\n",
       "      <td>1.0000</td>\n",
       "      <td>--</td>\n",
       "      <td>**</td>\n",
       "      <td>n.s.</td>\n",
       "      <td>n.s.</td>\n",
       "    </tr>\n",
       "    <tr>\n",
       "      <th>RA</th>\n",
       "      <td>0.0027</td>\n",
       "      <td>0.0002</td>\n",
       "      <td>1.0000</td>\n",
       "      <td>--</td>\n",
       "      <td>***</td>\n",
       "      <td>n.s.</td>\n",
       "      <td>n.s.</td>\n",
       "    </tr>\n",
       "    <tr>\n",
       "      <th rowspan=\"2\" valign=\"top\">engbert</th>\n",
       "      <th>MN</th>\n",
       "      <td>0.9967</td>\n",
       "      <td>1.0000</td>\n",
       "      <td>0.0028</td>\n",
       "      <td>0.0053</td>\n",
       "      <td>--</td>\n",
       "      <td>*</td>\n",
       "      <td>***</td>\n",
       "    </tr>\n",
       "    <tr>\n",
       "      <th>RA</th>\n",
       "      <td>0.9936</td>\n",
       "      <td>1.0000</td>\n",
       "      <td>0.0000</td>\n",
       "      <td>0.0001</td>\n",
       "      <td>--</td>\n",
       "      <td>*</td>\n",
       "      <td>***</td>\n",
       "    </tr>\n",
       "    <tr>\n",
       "      <th rowspan=\"2\" valign=\"top\">nh</th>\n",
       "      <th>MN</th>\n",
       "      <td>0.2104</td>\n",
       "      <td>0.0482</td>\n",
       "      <td>0.9955</td>\n",
       "      <td>0.9989</td>\n",
       "      <td>0.0369</td>\n",
       "      <td>--</td>\n",
       "      <td>n.s.</td>\n",
       "    </tr>\n",
       "    <tr>\n",
       "      <th>RA</th>\n",
       "      <td>0.1057</td>\n",
       "      <td>0.0178</td>\n",
       "      <td>0.9315</td>\n",
       "      <td>0.9570</td>\n",
       "      <td>0.0101</td>\n",
       "      <td>--</td>\n",
       "      <td>n.s.</td>\n",
       "    </tr>\n",
       "    <tr>\n",
       "      <th rowspan=\"2\" valign=\"top\">remodnav</th>\n",
       "      <th>MN</th>\n",
       "      <td>0.0001</td>\n",
       "      <td>0.0000</td>\n",
       "      <td>0.8936</td>\n",
       "      <td>0.8288</td>\n",
       "      <td>0.0000</td>\n",
       "      <td>0.4997</td>\n",
       "      <td>--</td>\n",
       "    </tr>\n",
       "    <tr>\n",
       "      <th>RA</th>\n",
       "      <td>0.0000</td>\n",
       "      <td>0.0000</td>\n",
       "      <td>0.8800</td>\n",
       "      <td>0.8331</td>\n",
       "      <td>0.0000</td>\n",
       "      <td>0.2042</td>\n",
       "      <td>--</td>\n",
       "    </tr>\n",
       "  </tbody>\n",
       "</table>\n",
       "</div>"
      ]
     },
     "execution_count": 9,
     "metadata": {},
     "output_type": "execute_result"
    }
   ],
   "execution_count": 9
  },
  {
   "metadata": {},
   "cell_type": "markdown",
   "source": "### Offset Detection",
   "id": "31d46ee5d9d54bf0"
  },
  {
   "metadata": {
    "ExecuteTime": {
     "end_time": "2024-11-25T22:57:26.061887Z",
     "start_time": "2024-11-25T22:57:26.012642Z"
    }
   },
   "cell_type": "code",
   "source": [
    "offset_statistics, offset_pvalues, offset_nemenyi, offset_Ns = ch_sdt.friedman_nemenyi(\n",
    "    csdt_metrics, \"offset\", THRESHOLD, [GT1, GT2]\n",
    ")\n",
    "\n",
    "offset_pvalues <= ALPHA"
   ],
   "id": "3ab4e2fa99c1aaaa",
   "outputs": [
    {
     "data": {
      "text/plain": [
       "gt                   MN    RA\n",
       "metric                       \n",
       "criterion          True  True\n",
       "d_prime            True  True\n",
       "f1                 True  True\n",
       "false_alarm_rate   True  True\n",
       "precision         False  True\n",
       "recall             True  True"
      ],
      "text/html": [
       "<div>\n",
       "<style scoped>\n",
       "    .dataframe tbody tr th:only-of-type {\n",
       "        vertical-align: middle;\n",
       "    }\n",
       "\n",
       "    .dataframe tbody tr th {\n",
       "        vertical-align: top;\n",
       "    }\n",
       "\n",
       "    .dataframe thead th {\n",
       "        text-align: right;\n",
       "    }\n",
       "</style>\n",
       "<table border=\"1\" class=\"dataframe\">\n",
       "  <thead>\n",
       "    <tr style=\"text-align: right;\">\n",
       "      <th>gt</th>\n",
       "      <th>MN</th>\n",
       "      <th>RA</th>\n",
       "    </tr>\n",
       "    <tr>\n",
       "      <th>metric</th>\n",
       "      <th></th>\n",
       "      <th></th>\n",
       "    </tr>\n",
       "  </thead>\n",
       "  <tbody>\n",
       "    <tr>\n",
       "      <th>criterion</th>\n",
       "      <td>True</td>\n",
       "      <td>True</td>\n",
       "    </tr>\n",
       "    <tr>\n",
       "      <th>d_prime</th>\n",
       "      <td>True</td>\n",
       "      <td>True</td>\n",
       "    </tr>\n",
       "    <tr>\n",
       "      <th>f1</th>\n",
       "      <td>True</td>\n",
       "      <td>True</td>\n",
       "    </tr>\n",
       "    <tr>\n",
       "      <th>false_alarm_rate</th>\n",
       "      <td>True</td>\n",
       "      <td>True</td>\n",
       "    </tr>\n",
       "    <tr>\n",
       "      <th>precision</th>\n",
       "      <td>False</td>\n",
       "      <td>True</td>\n",
       "    </tr>\n",
       "    <tr>\n",
       "      <th>recall</th>\n",
       "      <td>True</td>\n",
       "      <td>True</td>\n",
       "    </tr>\n",
       "  </tbody>\n",
       "</table>\n",
       "</div>"
      ]
     },
     "execution_count": 10,
     "metadata": {},
     "output_type": "execute_result"
    }
   ],
   "execution_count": 10
  },
  {
   "metadata": {
    "ExecuteTime": {
     "end_time": "2024-11-25T22:57:26.244875Z",
     "start_time": "2024-11-25T22:57:26.237645Z"
    }
   },
   "cell_type": "code",
   "source": "pd.concat([offset_statistics, offset_pvalues], axis=1, keys=['Fr', 'p']).stack(1, future_stack=True)",
   "id": "52cd948b8b8f86e5",
   "outputs": [
    {
     "data": {
      "text/plain": [
       "                            Fr             p\n",
       "metric           gt                         \n",
       "criterion        MN  66.650323  1.984403e-12\n",
       "                 RA  90.913043  1.957708e-17\n",
       "d_prime          MN  27.630968  1.102522e-04\n",
       "                 RA  72.652174  1.167045e-13\n",
       "f1               MN  32.738916  1.177103e-05\n",
       "                 RA  64.237425  6.173524e-12\n",
       "false_alarm_rate MN  34.614776  5.116978e-06\n",
       "                 RA  49.101695  7.114555e-09\n",
       "precision        MN  12.534884  5.104623e-02\n",
       "                 RA  46.399274  2.465212e-08\n",
       "recall           MN  52.336000  1.596082e-09\n",
       "                 RA  92.267155  1.023925e-17"
      ],
      "text/html": [
       "<div>\n",
       "<style scoped>\n",
       "    .dataframe tbody tr th:only-of-type {\n",
       "        vertical-align: middle;\n",
       "    }\n",
       "\n",
       "    .dataframe tbody tr th {\n",
       "        vertical-align: top;\n",
       "    }\n",
       "\n",
       "    .dataframe thead th {\n",
       "        text-align: right;\n",
       "    }\n",
       "</style>\n",
       "<table border=\"1\" class=\"dataframe\">\n",
       "  <thead>\n",
       "    <tr style=\"text-align: right;\">\n",
       "      <th></th>\n",
       "      <th></th>\n",
       "      <th>Fr</th>\n",
       "      <th>p</th>\n",
       "    </tr>\n",
       "    <tr>\n",
       "      <th>metric</th>\n",
       "      <th>gt</th>\n",
       "      <th></th>\n",
       "      <th></th>\n",
       "    </tr>\n",
       "  </thead>\n",
       "  <tbody>\n",
       "    <tr>\n",
       "      <th rowspan=\"2\" valign=\"top\">criterion</th>\n",
       "      <th>MN</th>\n",
       "      <td>66.650323</td>\n",
       "      <td>1.984403e-12</td>\n",
       "    </tr>\n",
       "    <tr>\n",
       "      <th>RA</th>\n",
       "      <td>90.913043</td>\n",
       "      <td>1.957708e-17</td>\n",
       "    </tr>\n",
       "    <tr>\n",
       "      <th rowspan=\"2\" valign=\"top\">d_prime</th>\n",
       "      <th>MN</th>\n",
       "      <td>27.630968</td>\n",
       "      <td>1.102522e-04</td>\n",
       "    </tr>\n",
       "    <tr>\n",
       "      <th>RA</th>\n",
       "      <td>72.652174</td>\n",
       "      <td>1.167045e-13</td>\n",
       "    </tr>\n",
       "    <tr>\n",
       "      <th rowspan=\"2\" valign=\"top\">f1</th>\n",
       "      <th>MN</th>\n",
       "      <td>32.738916</td>\n",
       "      <td>1.177103e-05</td>\n",
       "    </tr>\n",
       "    <tr>\n",
       "      <th>RA</th>\n",
       "      <td>64.237425</td>\n",
       "      <td>6.173524e-12</td>\n",
       "    </tr>\n",
       "    <tr>\n",
       "      <th rowspan=\"2\" valign=\"top\">false_alarm_rate</th>\n",
       "      <th>MN</th>\n",
       "      <td>34.614776</td>\n",
       "      <td>5.116978e-06</td>\n",
       "    </tr>\n",
       "    <tr>\n",
       "      <th>RA</th>\n",
       "      <td>49.101695</td>\n",
       "      <td>7.114555e-09</td>\n",
       "    </tr>\n",
       "    <tr>\n",
       "      <th rowspan=\"2\" valign=\"top\">precision</th>\n",
       "      <th>MN</th>\n",
       "      <td>12.534884</td>\n",
       "      <td>5.104623e-02</td>\n",
       "    </tr>\n",
       "    <tr>\n",
       "      <th>RA</th>\n",
       "      <td>46.399274</td>\n",
       "      <td>2.465212e-08</td>\n",
       "    </tr>\n",
       "    <tr>\n",
       "      <th rowspan=\"2\" valign=\"top\">recall</th>\n",
       "      <th>MN</th>\n",
       "      <td>52.336000</td>\n",
       "      <td>1.596082e-09</td>\n",
       "    </tr>\n",
       "    <tr>\n",
       "      <th>RA</th>\n",
       "      <td>92.267155</td>\n",
       "      <td>1.023925e-17</td>\n",
       "    </tr>\n",
       "  </tbody>\n",
       "</table>\n",
       "</div>"
      ]
     },
     "execution_count": 11,
     "metadata": {},
     "output_type": "execute_result"
    }
   ],
   "execution_count": 11
  },
  {
   "metadata": {},
   "cell_type": "markdown",
   "source": "#### Post Hoc Analysis",
   "id": "e6235f1e4579c469"
  },
  {
   "metadata": {
    "ExecuteTime": {
     "end_time": "2024-11-25T22:57:26.503506Z",
     "start_time": "2024-11-25T22:57:26.490704Z"
    }
   },
   "cell_type": "code",
   "source": [
    "post_hoc_offset_dprime = ch_sdt.post_hoc_table(offset_nemenyi, peyes.constants.D_PRIME_STR, [GT1, GT2], ALPHA, marginal_alpha=MARGINAL_ALPHA)\n",
    "post_hoc_offset_dprime"
   ],
   "id": "213151f09b069376",
   "outputs": [
    {
     "data": {
      "text/plain": [
       "pred            ivt    ivvt     idt    idvt engbert      nh remodnav\n",
       "pred     gt                                                         \n",
       "ivt      MN      --    n.s.    n.s.    n.s.    n.s.    n.s.     n.s.\n",
       "         RA      --    n.s.     ***     ***    n.s.    n.s.       **\n",
       "ivvt     MN  1.0000      --       †       †    n.s.    n.s.        †\n",
       "         RA  1.0000      --     ***     ***    n.s.    n.s.       **\n",
       "idt      MN  0.1251  0.0617      --    n.s.    n.s.       †     n.s.\n",
       "         RA  0.0004  0.0001      --    n.s.    n.s.      **     n.s.\n",
       "idvt     MN  0.1400  0.0703  1.0000      --    n.s.    n.s.     n.s.\n",
       "         RA  0.0003  0.0001  1.0000      --    n.s.      **     n.s.\n",
       "engbert  MN  0.8884  0.7650  0.8473  0.8670      --    n.s.     n.s.\n",
       "         RA  0.7399  0.6074  0.1446  0.1259      --    n.s.     n.s.\n",
       "nh       MN  1.0000  1.0000  0.0726  0.0824  0.7959      --        †\n",
       "         RA  0.9995  0.9959  0.0033  0.0026  0.9390      --        *\n",
       "remodnav MN  0.1208  0.0591  1.0000  1.0000  0.8408  0.0697       --\n",
       "         RA  0.0098  0.0043  0.9934  0.9901  0.5496  0.0486       --"
      ],
      "text/html": [
       "<div>\n",
       "<style scoped>\n",
       "    .dataframe tbody tr th:only-of-type {\n",
       "        vertical-align: middle;\n",
       "    }\n",
       "\n",
       "    .dataframe tbody tr th {\n",
       "        vertical-align: top;\n",
       "    }\n",
       "\n",
       "    .dataframe thead th {\n",
       "        text-align: right;\n",
       "    }\n",
       "</style>\n",
       "<table border=\"1\" class=\"dataframe\">\n",
       "  <thead>\n",
       "    <tr style=\"text-align: right;\">\n",
       "      <th></th>\n",
       "      <th>pred</th>\n",
       "      <th>ivt</th>\n",
       "      <th>ivvt</th>\n",
       "      <th>idt</th>\n",
       "      <th>idvt</th>\n",
       "      <th>engbert</th>\n",
       "      <th>nh</th>\n",
       "      <th>remodnav</th>\n",
       "    </tr>\n",
       "    <tr>\n",
       "      <th>pred</th>\n",
       "      <th>gt</th>\n",
       "      <th></th>\n",
       "      <th></th>\n",
       "      <th></th>\n",
       "      <th></th>\n",
       "      <th></th>\n",
       "      <th></th>\n",
       "      <th></th>\n",
       "    </tr>\n",
       "  </thead>\n",
       "  <tbody>\n",
       "    <tr>\n",
       "      <th rowspan=\"2\" valign=\"top\">ivt</th>\n",
       "      <th>MN</th>\n",
       "      <td>--</td>\n",
       "      <td>n.s.</td>\n",
       "      <td>n.s.</td>\n",
       "      <td>n.s.</td>\n",
       "      <td>n.s.</td>\n",
       "      <td>n.s.</td>\n",
       "      <td>n.s.</td>\n",
       "    </tr>\n",
       "    <tr>\n",
       "      <th>RA</th>\n",
       "      <td>--</td>\n",
       "      <td>n.s.</td>\n",
       "      <td>***</td>\n",
       "      <td>***</td>\n",
       "      <td>n.s.</td>\n",
       "      <td>n.s.</td>\n",
       "      <td>**</td>\n",
       "    </tr>\n",
       "    <tr>\n",
       "      <th rowspan=\"2\" valign=\"top\">ivvt</th>\n",
       "      <th>MN</th>\n",
       "      <td>1.0000</td>\n",
       "      <td>--</td>\n",
       "      <td>†</td>\n",
       "      <td>†</td>\n",
       "      <td>n.s.</td>\n",
       "      <td>n.s.</td>\n",
       "      <td>†</td>\n",
       "    </tr>\n",
       "    <tr>\n",
       "      <th>RA</th>\n",
       "      <td>1.0000</td>\n",
       "      <td>--</td>\n",
       "      <td>***</td>\n",
       "      <td>***</td>\n",
       "      <td>n.s.</td>\n",
       "      <td>n.s.</td>\n",
       "      <td>**</td>\n",
       "    </tr>\n",
       "    <tr>\n",
       "      <th rowspan=\"2\" valign=\"top\">idt</th>\n",
       "      <th>MN</th>\n",
       "      <td>0.1251</td>\n",
       "      <td>0.0617</td>\n",
       "      <td>--</td>\n",
       "      <td>n.s.</td>\n",
       "      <td>n.s.</td>\n",
       "      <td>†</td>\n",
       "      <td>n.s.</td>\n",
       "    </tr>\n",
       "    <tr>\n",
       "      <th>RA</th>\n",
       "      <td>0.0004</td>\n",
       "      <td>0.0001</td>\n",
       "      <td>--</td>\n",
       "      <td>n.s.</td>\n",
       "      <td>n.s.</td>\n",
       "      <td>**</td>\n",
       "      <td>n.s.</td>\n",
       "    </tr>\n",
       "    <tr>\n",
       "      <th rowspan=\"2\" valign=\"top\">idvt</th>\n",
       "      <th>MN</th>\n",
       "      <td>0.1400</td>\n",
       "      <td>0.0703</td>\n",
       "      <td>1.0000</td>\n",
       "      <td>--</td>\n",
       "      <td>n.s.</td>\n",
       "      <td>n.s.</td>\n",
       "      <td>n.s.</td>\n",
       "    </tr>\n",
       "    <tr>\n",
       "      <th>RA</th>\n",
       "      <td>0.0003</td>\n",
       "      <td>0.0001</td>\n",
       "      <td>1.0000</td>\n",
       "      <td>--</td>\n",
       "      <td>n.s.</td>\n",
       "      <td>**</td>\n",
       "      <td>n.s.</td>\n",
       "    </tr>\n",
       "    <tr>\n",
       "      <th rowspan=\"2\" valign=\"top\">engbert</th>\n",
       "      <th>MN</th>\n",
       "      <td>0.8884</td>\n",
       "      <td>0.7650</td>\n",
       "      <td>0.8473</td>\n",
       "      <td>0.8670</td>\n",
       "      <td>--</td>\n",
       "      <td>n.s.</td>\n",
       "      <td>n.s.</td>\n",
       "    </tr>\n",
       "    <tr>\n",
       "      <th>RA</th>\n",
       "      <td>0.7399</td>\n",
       "      <td>0.6074</td>\n",
       "      <td>0.1446</td>\n",
       "      <td>0.1259</td>\n",
       "      <td>--</td>\n",
       "      <td>n.s.</td>\n",
       "      <td>n.s.</td>\n",
       "    </tr>\n",
       "    <tr>\n",
       "      <th rowspan=\"2\" valign=\"top\">nh</th>\n",
       "      <th>MN</th>\n",
       "      <td>1.0000</td>\n",
       "      <td>1.0000</td>\n",
       "      <td>0.0726</td>\n",
       "      <td>0.0824</td>\n",
       "      <td>0.7959</td>\n",
       "      <td>--</td>\n",
       "      <td>†</td>\n",
       "    </tr>\n",
       "    <tr>\n",
       "      <th>RA</th>\n",
       "      <td>0.9995</td>\n",
       "      <td>0.9959</td>\n",
       "      <td>0.0033</td>\n",
       "      <td>0.0026</td>\n",
       "      <td>0.9390</td>\n",
       "      <td>--</td>\n",
       "      <td>*</td>\n",
       "    </tr>\n",
       "    <tr>\n",
       "      <th rowspan=\"2\" valign=\"top\">remodnav</th>\n",
       "      <th>MN</th>\n",
       "      <td>0.1208</td>\n",
       "      <td>0.0591</td>\n",
       "      <td>1.0000</td>\n",
       "      <td>1.0000</td>\n",
       "      <td>0.8408</td>\n",
       "      <td>0.0697</td>\n",
       "      <td>--</td>\n",
       "    </tr>\n",
       "    <tr>\n",
       "      <th>RA</th>\n",
       "      <td>0.0098</td>\n",
       "      <td>0.0043</td>\n",
       "      <td>0.9934</td>\n",
       "      <td>0.9901</td>\n",
       "      <td>0.5496</td>\n",
       "      <td>0.0486</td>\n",
       "      <td>--</td>\n",
       "    </tr>\n",
       "  </tbody>\n",
       "</table>\n",
       "</div>"
      ]
     },
     "execution_count": 12,
     "metadata": {},
     "output_type": "execute_result"
    }
   ],
   "execution_count": 12
  },
  {
   "metadata": {
    "ExecuteTime": {
     "end_time": "2024-11-25T22:57:26.669336Z",
     "start_time": "2024-11-25T22:57:26.646355Z"
    }
   },
   "cell_type": "code",
   "source": [
    "post_hoc_offset_f1 = ch_sdt.post_hoc_table(offset_nemenyi, peyes.constants.F1_STR, [GT1, GT2], ALPHA, marginal_alpha=MARGINAL_ALPHA)\n",
    "post_hoc_offset_f1"
   ],
   "id": "523be8a01faee21e",
   "outputs": [
    {
     "data": {
      "text/plain": [
       "pred            ivt    ivvt     idt    idvt engbert      nh remodnav\n",
       "pred     gt                                                         \n",
       "ivt      MN      --    n.s.    n.s.    n.s.    n.s.    n.s.        †\n",
       "         RA      --    n.s.      **      **    n.s.    n.s.       **\n",
       "ivvt     MN  1.0000      --    n.s.    n.s.    n.s.    n.s.        *\n",
       "         RA  1.0000      --      **      **    n.s.    n.s.       **\n",
       "idt      MN  0.1132  0.0875      --    n.s.    n.s.    n.s.     n.s.\n",
       "         RA  0.0014  0.0013      --    n.s.    n.s.       *     n.s.\n",
       "idvt     MN  0.1222  0.0949  1.0000      --    n.s.    n.s.     n.s.\n",
       "         RA  0.0014  0.0013  1.0000      --    n.s.       *     n.s.\n",
       "engbert  MN  0.8873  0.8460  0.8184  0.8330      --    n.s.     n.s.\n",
       "         RA  0.8008  0.7920  0.1940  0.1879      --    n.s.     n.s.\n",
       "nh       MN  0.9999  0.9996  0.2505  0.2658  0.9753      --     n.s.\n",
       "         RA  0.9900  0.9888  0.0300  0.0286  0.9952      --        *\n",
       "remodnav MN  0.0648  0.0488  1.0000  1.0000  0.6873  0.1583       --\n",
       "         RA  0.0021  0.0020  1.0000  1.0000  0.2538  0.0427       --"
      ],
      "text/html": [
       "<div>\n",
       "<style scoped>\n",
       "    .dataframe tbody tr th:only-of-type {\n",
       "        vertical-align: middle;\n",
       "    }\n",
       "\n",
       "    .dataframe tbody tr th {\n",
       "        vertical-align: top;\n",
       "    }\n",
       "\n",
       "    .dataframe thead th {\n",
       "        text-align: right;\n",
       "    }\n",
       "</style>\n",
       "<table border=\"1\" class=\"dataframe\">\n",
       "  <thead>\n",
       "    <tr style=\"text-align: right;\">\n",
       "      <th></th>\n",
       "      <th>pred</th>\n",
       "      <th>ivt</th>\n",
       "      <th>ivvt</th>\n",
       "      <th>idt</th>\n",
       "      <th>idvt</th>\n",
       "      <th>engbert</th>\n",
       "      <th>nh</th>\n",
       "      <th>remodnav</th>\n",
       "    </tr>\n",
       "    <tr>\n",
       "      <th>pred</th>\n",
       "      <th>gt</th>\n",
       "      <th></th>\n",
       "      <th></th>\n",
       "      <th></th>\n",
       "      <th></th>\n",
       "      <th></th>\n",
       "      <th></th>\n",
       "      <th></th>\n",
       "    </tr>\n",
       "  </thead>\n",
       "  <tbody>\n",
       "    <tr>\n",
       "      <th rowspan=\"2\" valign=\"top\">ivt</th>\n",
       "      <th>MN</th>\n",
       "      <td>--</td>\n",
       "      <td>n.s.</td>\n",
       "      <td>n.s.</td>\n",
       "      <td>n.s.</td>\n",
       "      <td>n.s.</td>\n",
       "      <td>n.s.</td>\n",
       "      <td>†</td>\n",
       "    </tr>\n",
       "    <tr>\n",
       "      <th>RA</th>\n",
       "      <td>--</td>\n",
       "      <td>n.s.</td>\n",
       "      <td>**</td>\n",
       "      <td>**</td>\n",
       "      <td>n.s.</td>\n",
       "      <td>n.s.</td>\n",
       "      <td>**</td>\n",
       "    </tr>\n",
       "    <tr>\n",
       "      <th rowspan=\"2\" valign=\"top\">ivvt</th>\n",
       "      <th>MN</th>\n",
       "      <td>1.0000</td>\n",
       "      <td>--</td>\n",
       "      <td>n.s.</td>\n",
       "      <td>n.s.</td>\n",
       "      <td>n.s.</td>\n",
       "      <td>n.s.</td>\n",
       "      <td>*</td>\n",
       "    </tr>\n",
       "    <tr>\n",
       "      <th>RA</th>\n",
       "      <td>1.0000</td>\n",
       "      <td>--</td>\n",
       "      <td>**</td>\n",
       "      <td>**</td>\n",
       "      <td>n.s.</td>\n",
       "      <td>n.s.</td>\n",
       "      <td>**</td>\n",
       "    </tr>\n",
       "    <tr>\n",
       "      <th rowspan=\"2\" valign=\"top\">idt</th>\n",
       "      <th>MN</th>\n",
       "      <td>0.1132</td>\n",
       "      <td>0.0875</td>\n",
       "      <td>--</td>\n",
       "      <td>n.s.</td>\n",
       "      <td>n.s.</td>\n",
       "      <td>n.s.</td>\n",
       "      <td>n.s.</td>\n",
       "    </tr>\n",
       "    <tr>\n",
       "      <th>RA</th>\n",
       "      <td>0.0014</td>\n",
       "      <td>0.0013</td>\n",
       "      <td>--</td>\n",
       "      <td>n.s.</td>\n",
       "      <td>n.s.</td>\n",
       "      <td>*</td>\n",
       "      <td>n.s.</td>\n",
       "    </tr>\n",
       "    <tr>\n",
       "      <th rowspan=\"2\" valign=\"top\">idvt</th>\n",
       "      <th>MN</th>\n",
       "      <td>0.1222</td>\n",
       "      <td>0.0949</td>\n",
       "      <td>1.0000</td>\n",
       "      <td>--</td>\n",
       "      <td>n.s.</td>\n",
       "      <td>n.s.</td>\n",
       "      <td>n.s.</td>\n",
       "    </tr>\n",
       "    <tr>\n",
       "      <th>RA</th>\n",
       "      <td>0.0014</td>\n",
       "      <td>0.0013</td>\n",
       "      <td>1.0000</td>\n",
       "      <td>--</td>\n",
       "      <td>n.s.</td>\n",
       "      <td>*</td>\n",
       "      <td>n.s.</td>\n",
       "    </tr>\n",
       "    <tr>\n",
       "      <th rowspan=\"2\" valign=\"top\">engbert</th>\n",
       "      <th>MN</th>\n",
       "      <td>0.8873</td>\n",
       "      <td>0.8460</td>\n",
       "      <td>0.8184</td>\n",
       "      <td>0.8330</td>\n",
       "      <td>--</td>\n",
       "      <td>n.s.</td>\n",
       "      <td>n.s.</td>\n",
       "    </tr>\n",
       "    <tr>\n",
       "      <th>RA</th>\n",
       "      <td>0.8008</td>\n",
       "      <td>0.7920</td>\n",
       "      <td>0.1940</td>\n",
       "      <td>0.1879</td>\n",
       "      <td>--</td>\n",
       "      <td>n.s.</td>\n",
       "      <td>n.s.</td>\n",
       "    </tr>\n",
       "    <tr>\n",
       "      <th rowspan=\"2\" valign=\"top\">nh</th>\n",
       "      <th>MN</th>\n",
       "      <td>0.9999</td>\n",
       "      <td>0.9996</td>\n",
       "      <td>0.2505</td>\n",
       "      <td>0.2658</td>\n",
       "      <td>0.9753</td>\n",
       "      <td>--</td>\n",
       "      <td>n.s.</td>\n",
       "    </tr>\n",
       "    <tr>\n",
       "      <th>RA</th>\n",
       "      <td>0.9900</td>\n",
       "      <td>0.9888</td>\n",
       "      <td>0.0300</td>\n",
       "      <td>0.0286</td>\n",
       "      <td>0.9952</td>\n",
       "      <td>--</td>\n",
       "      <td>*</td>\n",
       "    </tr>\n",
       "    <tr>\n",
       "      <th rowspan=\"2\" valign=\"top\">remodnav</th>\n",
       "      <th>MN</th>\n",
       "      <td>0.0648</td>\n",
       "      <td>0.0488</td>\n",
       "      <td>1.0000</td>\n",
       "      <td>1.0000</td>\n",
       "      <td>0.6873</td>\n",
       "      <td>0.1583</td>\n",
       "      <td>--</td>\n",
       "    </tr>\n",
       "    <tr>\n",
       "      <th>RA</th>\n",
       "      <td>0.0021</td>\n",
       "      <td>0.0020</td>\n",
       "      <td>1.0000</td>\n",
       "      <td>1.0000</td>\n",
       "      <td>0.2538</td>\n",
       "      <td>0.0427</td>\n",
       "      <td>--</td>\n",
       "    </tr>\n",
       "  </tbody>\n",
       "</table>\n",
       "</div>"
      ]
     },
     "execution_count": 13,
     "metadata": {},
     "output_type": "execute_result"
    }
   ],
   "execution_count": 13
  },
  {
   "metadata": {
    "ExecuteTime": {
     "end_time": "2024-11-25T22:57:26.915972Z",
     "start_time": "2024-11-25T22:57:26.903108Z"
    }
   },
   "cell_type": "code",
   "source": [
    "post_hoc_offset_crit = ch_sdt.post_hoc_table(offset_nemenyi, peyes.constants.CRITERION_STR, [GT1, GT2], ALPHA, marginal_alpha=MARGINAL_ALPHA)\n",
    "post_hoc_offset_crit"
   ],
   "id": "f4bc472e330f8457",
   "outputs": [
    {
     "data": {
      "text/plain": [
       "pred            ivt    ivvt     idt    idvt engbert      nh remodnav\n",
       "pred     gt                                                         \n",
       "ivt      MN      --    n.s.       *       *    n.s.    n.s.      ***\n",
       "         RA      --    n.s.     ***     ***    n.s.    n.s.      ***\n",
       "ivvt     MN  0.9795      --     ***     ***    n.s.    n.s.      ***\n",
       "         RA  0.9195      --     ***     ***    n.s.       †      ***\n",
       "idt      MN  0.0127  0.0002      --    n.s.       †    n.s.     n.s.\n",
       "         RA  0.0004  0.0000      --    n.s.      **    n.s.     n.s.\n",
       "idvt     MN  0.0180  0.0004  1.0000      --    n.s.    n.s.     n.s.\n",
       "         RA  0.0006  0.0000  1.0000      --      **    n.s.     n.s.\n",
       "engbert  MN  0.9995  0.8561  0.0596  0.0786      --    n.s.       **\n",
       "         RA  1.0000  0.8259  0.0013  0.0019      --    n.s.      ***\n",
       "nh       MN  0.7220  0.1789  0.6156  0.6781  0.9309      --     n.s.\n",
       "         RA  0.6704  0.0680  0.1963  0.2325  0.8076      --     n.s.\n",
       "remodnav MN  0.0005  0.0000  0.9924  0.9856  0.0040  0.1744       --\n",
       "         RA  0.0001  0.0000  0.9999  0.9998  0.0003  0.0906       --"
      ],
      "text/html": [
       "<div>\n",
       "<style scoped>\n",
       "    .dataframe tbody tr th:only-of-type {\n",
       "        vertical-align: middle;\n",
       "    }\n",
       "\n",
       "    .dataframe tbody tr th {\n",
       "        vertical-align: top;\n",
       "    }\n",
       "\n",
       "    .dataframe thead th {\n",
       "        text-align: right;\n",
       "    }\n",
       "</style>\n",
       "<table border=\"1\" class=\"dataframe\">\n",
       "  <thead>\n",
       "    <tr style=\"text-align: right;\">\n",
       "      <th></th>\n",
       "      <th>pred</th>\n",
       "      <th>ivt</th>\n",
       "      <th>ivvt</th>\n",
       "      <th>idt</th>\n",
       "      <th>idvt</th>\n",
       "      <th>engbert</th>\n",
       "      <th>nh</th>\n",
       "      <th>remodnav</th>\n",
       "    </tr>\n",
       "    <tr>\n",
       "      <th>pred</th>\n",
       "      <th>gt</th>\n",
       "      <th></th>\n",
       "      <th></th>\n",
       "      <th></th>\n",
       "      <th></th>\n",
       "      <th></th>\n",
       "      <th></th>\n",
       "      <th></th>\n",
       "    </tr>\n",
       "  </thead>\n",
       "  <tbody>\n",
       "    <tr>\n",
       "      <th rowspan=\"2\" valign=\"top\">ivt</th>\n",
       "      <th>MN</th>\n",
       "      <td>--</td>\n",
       "      <td>n.s.</td>\n",
       "      <td>*</td>\n",
       "      <td>*</td>\n",
       "      <td>n.s.</td>\n",
       "      <td>n.s.</td>\n",
       "      <td>***</td>\n",
       "    </tr>\n",
       "    <tr>\n",
       "      <th>RA</th>\n",
       "      <td>--</td>\n",
       "      <td>n.s.</td>\n",
       "      <td>***</td>\n",
       "      <td>***</td>\n",
       "      <td>n.s.</td>\n",
       "      <td>n.s.</td>\n",
       "      <td>***</td>\n",
       "    </tr>\n",
       "    <tr>\n",
       "      <th rowspan=\"2\" valign=\"top\">ivvt</th>\n",
       "      <th>MN</th>\n",
       "      <td>0.9795</td>\n",
       "      <td>--</td>\n",
       "      <td>***</td>\n",
       "      <td>***</td>\n",
       "      <td>n.s.</td>\n",
       "      <td>n.s.</td>\n",
       "      <td>***</td>\n",
       "    </tr>\n",
       "    <tr>\n",
       "      <th>RA</th>\n",
       "      <td>0.9195</td>\n",
       "      <td>--</td>\n",
       "      <td>***</td>\n",
       "      <td>***</td>\n",
       "      <td>n.s.</td>\n",
       "      <td>†</td>\n",
       "      <td>***</td>\n",
       "    </tr>\n",
       "    <tr>\n",
       "      <th rowspan=\"2\" valign=\"top\">idt</th>\n",
       "      <th>MN</th>\n",
       "      <td>0.0127</td>\n",
       "      <td>0.0002</td>\n",
       "      <td>--</td>\n",
       "      <td>n.s.</td>\n",
       "      <td>†</td>\n",
       "      <td>n.s.</td>\n",
       "      <td>n.s.</td>\n",
       "    </tr>\n",
       "    <tr>\n",
       "      <th>RA</th>\n",
       "      <td>0.0004</td>\n",
       "      <td>0.0000</td>\n",
       "      <td>--</td>\n",
       "      <td>n.s.</td>\n",
       "      <td>**</td>\n",
       "      <td>n.s.</td>\n",
       "      <td>n.s.</td>\n",
       "    </tr>\n",
       "    <tr>\n",
       "      <th rowspan=\"2\" valign=\"top\">idvt</th>\n",
       "      <th>MN</th>\n",
       "      <td>0.0180</td>\n",
       "      <td>0.0004</td>\n",
       "      <td>1.0000</td>\n",
       "      <td>--</td>\n",
       "      <td>n.s.</td>\n",
       "      <td>n.s.</td>\n",
       "      <td>n.s.</td>\n",
       "    </tr>\n",
       "    <tr>\n",
       "      <th>RA</th>\n",
       "      <td>0.0006</td>\n",
       "      <td>0.0000</td>\n",
       "      <td>1.0000</td>\n",
       "      <td>--</td>\n",
       "      <td>**</td>\n",
       "      <td>n.s.</td>\n",
       "      <td>n.s.</td>\n",
       "    </tr>\n",
       "    <tr>\n",
       "      <th rowspan=\"2\" valign=\"top\">engbert</th>\n",
       "      <th>MN</th>\n",
       "      <td>0.9995</td>\n",
       "      <td>0.8561</td>\n",
       "      <td>0.0596</td>\n",
       "      <td>0.0786</td>\n",
       "      <td>--</td>\n",
       "      <td>n.s.</td>\n",
       "      <td>**</td>\n",
       "    </tr>\n",
       "    <tr>\n",
       "      <th>RA</th>\n",
       "      <td>1.0000</td>\n",
       "      <td>0.8259</td>\n",
       "      <td>0.0013</td>\n",
       "      <td>0.0019</td>\n",
       "      <td>--</td>\n",
       "      <td>n.s.</td>\n",
       "      <td>***</td>\n",
       "    </tr>\n",
       "    <tr>\n",
       "      <th rowspan=\"2\" valign=\"top\">nh</th>\n",
       "      <th>MN</th>\n",
       "      <td>0.7220</td>\n",
       "      <td>0.1789</td>\n",
       "      <td>0.6156</td>\n",
       "      <td>0.6781</td>\n",
       "      <td>0.9309</td>\n",
       "      <td>--</td>\n",
       "      <td>n.s.</td>\n",
       "    </tr>\n",
       "    <tr>\n",
       "      <th>RA</th>\n",
       "      <td>0.6704</td>\n",
       "      <td>0.0680</td>\n",
       "      <td>0.1963</td>\n",
       "      <td>0.2325</td>\n",
       "      <td>0.8076</td>\n",
       "      <td>--</td>\n",
       "      <td>n.s.</td>\n",
       "    </tr>\n",
       "    <tr>\n",
       "      <th rowspan=\"2\" valign=\"top\">remodnav</th>\n",
       "      <th>MN</th>\n",
       "      <td>0.0005</td>\n",
       "      <td>0.0000</td>\n",
       "      <td>0.9924</td>\n",
       "      <td>0.9856</td>\n",
       "      <td>0.0040</td>\n",
       "      <td>0.1744</td>\n",
       "      <td>--</td>\n",
       "    </tr>\n",
       "    <tr>\n",
       "      <th>RA</th>\n",
       "      <td>0.0001</td>\n",
       "      <td>0.0000</td>\n",
       "      <td>0.9999</td>\n",
       "      <td>0.9998</td>\n",
       "      <td>0.0003</td>\n",
       "      <td>0.0906</td>\n",
       "      <td>--</td>\n",
       "    </tr>\n",
       "  </tbody>\n",
       "</table>\n",
       "</div>"
      ]
     },
     "execution_count": 14,
     "metadata": {},
     "output_type": "execute_result"
    }
   ],
   "execution_count": 14
  },
  {
   "metadata": {},
   "cell_type": "markdown",
   "source": [
    "## Figures\n",
    "### 1) Distributions @ Threshold"
   ],
   "id": "a7f6e28936c2ca36"
  },
  {
   "metadata": {
    "ExecuteTime": {
     "end_time": "2024-11-25T22:58:01.133091Z",
     "start_time": "2024-11-25T22:58:01.094099Z"
    }
   },
   "cell_type": "code",
   "source": [
    "onset_distribution_figure = ch_sdt.single_threshold_figure(\n",
    "    csdt_metrics.loc[(slice(None), [peyes.constants.D_PRIME_STR, peyes.constants.F1_STR], slice(None)), :],\n",
    "    peyes.constants.ONSET_STR,\n",
    "    THRESHOLD,\n",
    "    GT1,\n",
    "    gt2=GT2,\n",
    "    show_other_gt=True,\n",
    "    share_x=True,\n",
    "    colors={k: v[1] for k, v in LABELER_PLOTTING_CONFIG.items()},\n",
    ")\n",
    "\n",
    "onset_distribution_figure.update_layout(\n",
    "    title=dict(text=\"saccade onsets\"),\n",
    "    width=1000, height=500,\n",
    "    paper_bgcolor='rgba(0, 0, 0, 0)',\n",
    "    plot_bgcolor='rgba(0, 0, 0, 0)',\n",
    "    margin=dict(l=10, r=10, b=10, t=10, pad=0),\n",
    ")\n",
    "onset_distribution_figure.layout.annotations = []   # remove subtitles\n",
    "\n",
    "onset_distribution_figure.show()"
   ],
   "id": "f6d84064a4600ac2",
   "outputs": [
    {
     "data": {
      "application/vnd.plotly.v1+json": {
       "data": [
        {
         "box": {
          "visible": true
         },
         "fillcolor": "#bab0ac",
         "legendgroup": "Other GT",
         "line": {
          "color": "black"
         },
         "meanline": {
          "visible": true
         },
         "name": "RA, Other GT",
         "opacity": 0.75,
         "scalegroup": "f1",
         "showlegend": true,
         "side": "positive",
         "spanmode": "hard",
         "x0": "Other GT",
         "y": [
          0.9803921568627451,
          0.923076923076923,
          0.9642857142857143,
          0.9850746268656716,
          0.9523809523809523,
          1.0,
          1.0,
          0.9836065573770492,
          0.962962962962963,
          1.0,
          0.9767441860465117,
          0.9047619047619048,
          0.9841269841269841,
          1.0
         ],
         "type": "violin",
         "xaxis": "x",
         "yaxis": "y"
        },
        {
         "box": {
          "visible": true
         },
         "fillcolor": "#E15F99",
         "legendgroup": "ivt",
         "line": {
          "color": "black"
         },
         "meanline": {
          "visible": true
         },
         "name": "RA, ivt",
         "opacity": 0.75,
         "scalegroup": "f1",
         "showlegend": true,
         "side": "positive",
         "spanmode": "hard",
         "x0": "ivt",
         "y": [
          0.8771929824561403,
          0.7272727272727273,
          0.9166666666666666,
          0.923076923076923,
          0.7619047619047619,
          0.6666666666666666,
          0.7586206896551725,
          0.8750000000000001,
          0.9666666666666667,
          0.8253968253968255,
          0.8656716417910448,
          0.9090909090909091,
          0.955223880597015,
          0.8888888888888888,
          0.8333333333333333,
          0.7499999999999999,
          0.6363636363636364,
          0.4615384615384615,
          0.898550724637681,
          0.8363636363636364
         ],
         "type": "violin",
         "xaxis": "x",
         "yaxis": "y"
        },
        {
         "box": {
          "visible": true
         },
         "fillcolor": "#1CA71C",
         "legendgroup": "ivvt",
         "line": {
          "color": "black"
         },
         "meanline": {
          "visible": true
         },
         "name": "RA, ivvt",
         "opacity": 0.75,
         "scalegroup": "f1",
         "showlegend": true,
         "side": "positive",
         "spanmode": "hard",
         "x0": "ivvt",
         "y": [
          0.8771929824561403,
          0.7272727272727273,
          0.868421052631579,
          0.8571428571428571,
          0.716417910447761,
          0.49090909090909096,
          0.6055045871559633,
          0.6086956521739131,
          0.9836065573770492,
          0.8656716417910447,
          0.7692307692307693,
          0.8108108108108109,
          0.9142857142857143,
          0.8405797101449276,
          0.8235294117647057,
          0.625,
          0.5384615384615384,
          0.3789473684210526,
          0.8378378378378378,
          0.896551724137931
         ],
         "type": "violin",
         "xaxis": "x",
         "yaxis": "y"
        },
        {
         "box": {
          "visible": true
         },
         "fillcolor": "#FB0D0D",
         "legendgroup": "idt",
         "line": {
          "color": "black"
         },
         "meanline": {
          "visible": true
         },
         "name": "RA, idt",
         "opacity": 0.75,
         "scalegroup": "f1",
         "showlegend": true,
         "side": "positive",
         "spanmode": "hard",
         "x0": "idt",
         "y": [
          0.7619047619047621,
          0.25,
          0.7118644067796609,
          0.6046511627906976,
          0.6521739130434783,
          0.5581395348837209,
          0.6785714285714286,
          0.4444444444444444,
          0.5909090909090909,
          0.4782608695652174,
          0.6521739130434783,
          0.6382978723404256,
          0.6415094339622642,
          0.5531914893617021,
          0.30303030303030304,
          0.576923076923077,
          0.30434782608695654,
          0.4,
          0.5660377358490567,
          0.5454545454545455
         ],
         "type": "violin",
         "xaxis": "x",
         "yaxis": "y"
        },
        {
         "box": {
          "visible": true
         },
         "fillcolor": "#DA16FF",
         "legendgroup": "idvt",
         "line": {
          "color": "black"
         },
         "meanline": {
          "visible": true
         },
         "name": "RA, idvt",
         "opacity": 0.75,
         "scalegroup": "f1",
         "showlegend": true,
         "side": "positive",
         "spanmode": "hard",
         "x0": "idvt",
         "y": [
          0.7619047619047621,
          0.25,
          0.7457627118644068,
          0.6046511627906976,
          0.7083333333333333,
          0.5909090909090908,
          0.7368421052631579,
          0.5405405405405405,
          0.6363636363636364,
          0.4782608695652174,
          0.6521739130434783,
          0.7083333333333334,
          0.6296296296296297,
          0.5531914893617021,
          0.30303030303030304,
          0.6415094339622641,
          0.375,
          0.38461538461538464,
          0.5660377358490567,
          0.5454545454545455
         ],
         "type": "violin",
         "xaxis": "x",
         "yaxis": "y"
        },
        {
         "box": {
          "visible": true
         },
         "fillcolor": "#222A2A",
         "legendgroup": "engbert",
         "line": {
          "color": "black"
         },
         "meanline": {
          "visible": true
         },
         "name": "RA, engbert",
         "opacity": 0.75,
         "scalegroup": "f1",
         "showlegend": true,
         "side": "positive",
         "spanmode": "hard",
         "x0": "engbert",
         "y": [
          0.8928571428571428,
          0.6363636363636364,
          0.9166666666666666,
          0.8823529411764706,
          0.9508196721311475,
          0.7887323943661972,
          0.6736842105263158,
          0.8400000000000001,
          0.9836065573770492,
          0.9066666666666667,
          0.8285714285714285,
          0.9523809523809523,
          0.8533333333333333,
          0.9253731343283582,
          0.9090909090909091,
          0.6904761904761905,
          0.6060606060606061,
          0.5135135135135135,
          0.8857142857142858,
          0.9152542372881356
         ],
         "type": "violin",
         "xaxis": "x",
         "yaxis": "y"
        },
        {
         "box": {
          "visible": true
         },
         "fillcolor": "#B68100",
         "legendgroup": "nh",
         "line": {
          "color": "black"
         },
         "meanline": {
          "visible": true
         },
         "name": "RA, nh",
         "opacity": 0.75,
         "scalegroup": "f1",
         "showlegend": true,
         "side": "positive",
         "spanmode": "hard",
         "x0": "nh",
         "y": [
          0.47058823529411764,
          0.375,
          0.05882352941176471,
          0.4918032786885246,
          0.3934426229508197,
          0.4615384615384615,
          0.14634146341463414,
          0.5581395348837208,
          0.9,
          0.9565217391304348,
          0.4838709677419355,
          0.4666666666666667,
          0.5538461538461538,
          0.4918032786885246,
          0.8679245283018867,
          0.6037735849056605,
          0.06896551724137931,
          0.5777777777777778,
          0.0588235294117647,
          0.7999999999999999
         ],
         "type": "violin",
         "xaxis": "x",
         "yaxis": "y"
        },
        {
         "box": {
          "visible": true
         },
         "fillcolor": "#750D86",
         "legendgroup": "remodnav",
         "line": {
          "color": "black"
         },
         "meanline": {
          "visible": true
         },
         "name": "RA, remodnav",
         "opacity": 0.75,
         "scalegroup": "f1",
         "showlegend": true,
         "side": "positive",
         "spanmode": "hard",
         "x0": "remodnav",
         "y": [
          0.6842105263157895,
          0.25,
          0.5833333333333333,
          0.7234042553191489,
          0.6511627906976745,
          0.4864864864864865,
          0.41860465116279066,
          0.4444444444444445,
          0.6363636363636364,
          0.5490196078431373,
          0.5957446808510638,
          0.4878048780487804,
          0.30769230769230765,
          0.6521739130434783,
          0.6,
          0.6956521739130436,
          0.3076923076923077,
          0.3846153846153846,
          0.5777777777777778,
          0.7142857142857143
         ],
         "type": "violin",
         "xaxis": "x",
         "yaxis": "y"
        },
        {
         "box": {
          "visible": true
         },
         "fillcolor": "#bab0ac",
         "legendgroup": "Other GT",
         "line": {
          "color": "black"
         },
         "meanline": {
          "visible": true
         },
         "name": "MN, Other GT",
         "opacity": 0.25,
         "scalegroup": "f1",
         "showlegend": true,
         "side": "negative",
         "spanmode": "hard",
         "x0": "Other GT",
         "y": [
          0.9803921568627451,
          0.923076923076923,
          0.9642857142857143,
          0.9850746268656716,
          0.9523809523809523,
          1.0,
          1.0,
          0.9836065573770492,
          0.962962962962963,
          1.0,
          0.9767441860465117,
          0.9047619047619048,
          0.9841269841269841,
          1.0
         ],
         "type": "violin",
         "xaxis": "x",
         "yaxis": "y"
        },
        {
         "box": {
          "visible": true
         },
         "fillcolor": "#E15F99",
         "legendgroup": "ivt",
         "line": {
          "color": "black"
         },
         "meanline": {
          "visible": true
         },
         "name": "MN, ivt",
         "opacity": 0.25,
         "scalegroup": "f1",
         "showlegend": true,
         "side": "negative",
         "spanmode": "hard",
         "x0": "ivt",
         "y": [
          0.896551724137931,
          0.8,
          0.6666666666666666,
          0.7499999999999999,
          0.8823529411764706,
          0.9090909090909091,
          0.955223880597015,
          0.9032258064516129,
          0.8695652173913044,
          0.7499999999999999,
          0.6567164179104478,
          0.5000000000000001,
          0.9142857142857143,
          0.8363636363636364
         ],
         "type": "violin",
         "xaxis": "x",
         "yaxis": "y"
        },
        {
         "box": {
          "visible": true
         },
         "fillcolor": "#1CA71C",
         "legendgroup": "ivvt",
         "line": {
          "color": "black"
         },
         "meanline": {
          "visible": true
         },
         "name": "MN, ivvt",
         "opacity": 0.25,
         "scalegroup": "f1",
         "showlegend": true,
         "side": "negative",
         "spanmode": "hard",
         "x0": "ivvt",
         "y": [
          0.896551724137931,
          0.8,
          0.49090909090909096,
          0.6181818181818182,
          0.7848101265822784,
          0.8108108108108109,
          0.9142857142857143,
          0.8529411764705883,
          0.8571428571428572,
          0.625,
          0.5569620253164557,
          0.43298969072164956,
          0.8533333333333333,
          0.896551724137931
         ],
         "type": "violin",
         "xaxis": "x",
         "yaxis": "y"
        },
        {
         "box": {
          "visible": true
         },
         "fillcolor": "#FB0D0D",
         "legendgroup": "idt",
         "line": {
          "color": "black"
         },
         "meanline": {
          "visible": true
         },
         "name": "MN, idt",
         "opacity": 0.25,
         "scalegroup": "f1",
         "showlegend": true,
         "side": "negative",
         "spanmode": "hard",
         "x0": "idt",
         "y": [
          0.6976744186046512,
          0.2857142857142857,
          0.5581395348837209,
          0.6666666666666667,
          0.5106382978723405,
          0.5106382978723405,
          0.6037735849056604,
          0.6521739130434783,
          0.32258064516129037,
          0.576923076923077,
          0.29787234042553196,
          0.4615384615384615,
          0.5925925925925926,
          0.5454545454545455
         ],
         "type": "violin",
         "xaxis": "x",
         "yaxis": "y"
        },
        {
         "box": {
          "visible": true
         },
         "fillcolor": "#DA16FF",
         "legendgroup": "idvt",
         "line": {
          "color": "black"
         },
         "meanline": {
          "visible": true
         },
         "name": "MN, idvt",
         "opacity": 0.25,
         "scalegroup": "f1",
         "showlegend": true,
         "side": "negative",
         "spanmode": "hard",
         "x0": "idvt",
         "y": [
          0.6976744186046512,
          0.2857142857142857,
          0.5909090909090908,
          0.7241379310344829,
          0.5106382978723405,
          0.5833333333333334,
          0.5925925925925926,
          0.6521739130434783,
          0.32258064516129037,
          0.6415094339622641,
          0.36734693877551017,
          0.4444444444444444,
          0.5925925925925926,
          0.5454545454545455
         ],
         "type": "violin",
         "xaxis": "x",
         "yaxis": "y"
        },
        {
         "box": {
          "visible": true
         },
         "fillcolor": "#222A2A",
         "legendgroup": "engbert",
         "line": {
          "color": "black"
         },
         "meanline": {
          "visible": true
         },
         "name": "MN, engbert",
         "opacity": 0.25,
         "scalegroup": "f1",
         "showlegend": true,
         "side": "negative",
         "spanmode": "hard",
         "x0": "engbert",
         "y": [
          0.9122807017543859,
          0.5714285714285715,
          0.7605633802816901,
          0.6666666666666666,
          0.8450704225352113,
          0.9523809523809523,
          0.8533333333333333,
          0.9090909090909091,
          0.9433962264150944,
          0.6904761904761905,
          0.6268656716417911,
          0.5789473684210525,
          0.9014084507042254,
          0.9152542372881356
         ],
         "type": "violin",
         "xaxis": "x",
         "yaxis": "y"
        },
        {
         "box": {
          "visible": true
         },
         "fillcolor": "#B68100",
         "legendgroup": "nh",
         "line": {
          "color": "black"
         },
         "meanline": {
          "visible": true
         },
         "name": "MN, nh",
         "opacity": 0.25,
         "scalegroup": "f1",
         "showlegend": true,
         "side": "negative",
         "spanmode": "hard",
         "x0": "nh",
         "y": [
          0.5384615384615384,
          0.26666666666666666,
          0.5,
          0.19047619047619047,
          0.5714285714285715,
          0.5666666666666667,
          0.5538461538461538,
          0.43333333333333335,
          0.9019607843137256,
          0.5660377358490566,
          0.06666666666666667,
          0.4255319148936171,
          0.05714285714285714,
          0.7999999999999999
         ],
         "type": "violin",
         "xaxis": "x",
         "yaxis": "y"
        },
        {
         "box": {
          "visible": true
         },
         "fillcolor": "#750D86",
         "legendgroup": "remodnav",
         "line": {
          "color": "black"
         },
         "meanline": {
          "visible": true
         },
         "name": "MN, remodnav",
         "opacity": 0.25,
         "scalegroup": "f1",
         "showlegend": true,
         "side": "negative",
         "spanmode": "hard",
         "x0": "remodnav",
         "y": [
          0.6666666666666666,
          0.2857142857142857,
          0.43243243243243246,
          0.40909090909090906,
          0.625,
          0.5365853658536585,
          0.30769230769230765,
          0.6666666666666666,
          0.631578947368421,
          0.6956521739130436,
          0.2962962962962963,
          0.42857142857142855,
          0.6086956521739131,
          0.7142857142857143
         ],
         "type": "violin",
         "xaxis": "x",
         "yaxis": "y"
        },
        {
         "box": {
          "visible": true
         },
         "fillcolor": "#bab0ac",
         "legendgroup": "Other GT",
         "line": {
          "color": "black"
         },
         "meanline": {
          "visible": true
         },
         "name": "RA, Other GT",
         "opacity": 0.75,
         "scalegroup": "d_prime",
         "showlegend": false,
         "side": "positive",
         "spanmode": "hard",
         "x0": "Other GT",
         "y": [
          5.459187550419509,
          3.909244963156813,
          4.629591693091486,
          5.455990592890831,
          4.443255522619719,
          5.697198192494998,
          5.697198192495014,
          4.669486053339465,
          3.9778153925912196,
          5.697325201555923,
          5.46055068919749,
          4.106184045600919,
          5.456697951706454,
          5.091656382773711
         ],
         "type": "violin",
         "xaxis": "x2",
         "yaxis": "y2"
        },
        {
         "box": {
          "visible": true
         },
         "fillcolor": "#E15F99",
         "legendgroup": "ivt",
         "line": {
          "color": "black"
         },
         "meanline": {
          "visible": true
         },
         "name": "RA, ivt",
         "opacity": 0.75,
         "scalegroup": "d_prime",
         "showlegend": false,
         "side": "positive",
         "spanmode": "hard",
         "x0": "ivt",
         "y": [
          4.935210117945616,
          3.027812456059501,
          4.983192405588715,
          5.0472493145762085,
          2.9298959092282577,
          3.0508759258365847,
          4.4752621512270805,
          4.992198654506082,
          4.312099189420545,
          2.8592051942026666,
          3.648316355744651,
          4.985511457908569,
          5.202749190303056,
          3.646923271358781,
          3.105093781687821,
          4.501241571988883,
          4.424817633810667,
          2.6083850889986855,
          4.930129828954507,
          2.891430690177534
         ],
         "type": "violin",
         "xaxis": "x2",
         "yaxis": "y2"
        },
        {
         "box": {
          "visible": true
         },
         "fillcolor": "#1CA71C",
         "legendgroup": "ivvt",
         "line": {
          "color": "black"
         },
         "meanline": {
          "visible": true
         },
         "name": "RA, ivvt",
         "opacity": 0.75,
         "scalegroup": "d_prime",
         "showlegend": false,
         "side": "positive",
         "spanmode": "hard",
         "x0": "ivvt",
         "y": [
          4.935210117945616,
          3.027812456059501,
          4.793963005522437,
          4.796603895400534,
          2.7833173188314073,
          2.93257512158007,
          4.107777433285677,
          4.367119696372443,
          4.803546889825931,
          2.992385296538358,
          3.596492324322004,
          4.659064417763066,
          4.983868524643366,
          3.5454601905514496,
          2.8999416356744963,
          4.20927069479959,
          4.219960354617328,
          2.4008722473674293,
          4.7224382754870255,
          3.633177456566014
         ],
         "type": "violin",
         "xaxis": "x2",
         "yaxis": "y2"
        },
        {
         "box": {
          "visible": true
         },
         "fillcolor": "#FB0D0D",
         "legendgroup": "idt",
         "line": {
          "color": "black"
         },
         "meanline": {
          "visible": true
         },
         "name": "RA, idt",
         "opacity": 0.75,
         "scalegroup": "d_prime",
         "showlegend": false,
         "side": "positive",
         "spanmode": "hard",
         "x0": "idt",
         "y": [
          3.1875568290930625,
          1.787953229338177,
          2.6094427534986746,
          2.6814492707351136,
          2.6395135206515428,
          2.2746278798292336,
          2.5361336419702476,
          1.83645289326642,
          2.310290548816525,
          2.067786735744974,
          2.808336266956156,
          2.595471843602999,
          2.424299027839395,
          2.248550883443325,
          1.6385111426454706,
          2.1314230756601105,
          1.301232293540237,
          1.6834816993378174,
          2.0899466875847263,
          1.7073115964230758
         ],
         "type": "violin",
         "xaxis": "x2",
         "yaxis": "y2"
        },
        {
         "box": {
          "visible": true
         },
         "fillcolor": "#DA16FF",
         "legendgroup": "idvt",
         "line": {
          "color": "black"
         },
         "meanline": {
          "visible": true
         },
         "name": "RA, idvt",
         "opacity": 0.75,
         "scalegroup": "d_prime",
         "showlegend": false,
         "side": "positive",
         "spanmode": "hard",
         "x0": "idvt",
         "y": [
          3.1875568290930625,
          1.787953229338177,
          2.7758089351195308,
          2.6814492707351136,
          2.814080709426124,
          2.364997898546176,
          2.799220639071396,
          2.140775935854541,
          2.4630905142450756,
          2.067786735744974,
          2.808336266956156,
          2.99323331680582,
          2.339927958217751,
          2.248550883443325,
          1.6385111426454706,
          2.360548797936101,
          1.5519472230429894,
          1.63757650709297,
          2.0899466875847263,
          1.7073115964230758
         ],
         "type": "violin",
         "xaxis": "x2",
         "yaxis": "y2"
        },
        {
         "box": {
          "visible": true
         },
         "fillcolor": "#222A2A",
         "legendgroup": "engbert",
         "line": {
          "color": "black"
         },
         "meanline": {
          "visible": true
         },
         "name": "RA, engbert",
         "opacity": 0.75,
         "scalegroup": "d_prime",
         "showlegend": false,
         "side": "positive",
         "spanmode": "hard",
         "x0": "engbert",
         "y": [
          4.989576400060516,
          4.901607521707367,
          4.983192405588715,
          4.882022601074331,
          5.20475967978861,
          4.631549353670097,
          3.3422720579072887,
          4.889240213988629,
          4.803546889825931,
          3.6417743492215378,
          3.501153542978641,
          5.2040916260010235,
          4.756823894517892,
          5.046467880803274,
          3.4673186773217353,
          3.396921059460248,
          3.2416119182383576,
          3.0449205178680936,
          4.881141236650121,
          4.326659463989936
         ],
         "type": "violin",
         "xaxis": "x2",
         "yaxis": "y2"
        },
        {
         "box": {
          "visible": true
         },
         "fillcolor": "#B68100",
         "legendgroup": "nh",
         "line": {
          "color": "black"
         },
         "meanline": {
          "visible": true
         },
         "name": "RA, nh",
         "opacity": 0.75,
         "scalegroup": "d_prime",
         "showlegend": false,
         "side": "positive",
         "spanmode": "hard",
         "x0": "nh",
         "y": [
          1.7926947585150583,
          2.033266344834221,
          1.001546535225833,
          1.77699590433968,
          1.4556523663667582,
          1.7278403360192967,
          0.9255093218626931,
          2.1727831216833784,
          3.339283778489517,
          4.0454035765309975,
          1.7354692377567866,
          1.693344170432551,
          1.9616249577248832,
          1.7649502445000027,
          3.1462748618467935,
          2.2150748095672395,
          0.47121060532399905,
          2.3012887920140135,
          0.7460629456169006,
          2.660012809855202
         ],
         "type": "violin",
         "xaxis": "x2",
         "yaxis": "y2"
        },
        {
         "box": {
          "visible": true
         },
         "fillcolor": "#750D86",
         "legendgroup": "remodnav",
         "line": {
          "color": "black"
         },
         "meanline": {
          "visible": true
         },
         "name": "RA, remodnav",
         "opacity": 0.75,
         "scalegroup": "d_prime",
         "showlegend": false,
         "side": "positive",
         "spanmode": "hard",
         "x0": "remodnav",
         "y": [
          2.8985322608805797,
          1.787953229338177,
          2.6320779854648126,
          3.0157489217598763,
          2.8055578601907687,
          2.387078899775238,
          2.21854464502775,
          2.2851645065463746,
          2.4630905142450756,
          1.9536791047240807,
          2.4730718513678265,
          2.394612012722257,
          1.9366756381069257,
          2.808336266956156,
          2.3679712395452093,
          2.9319462228395294,
          1.9557932954870083,
          2.158319299406476,
          2.6210375059919047,
          2.6840055998741437
         ],
         "type": "violin",
         "xaxis": "x2",
         "yaxis": "y2"
        },
        {
         "box": {
          "visible": true
         },
         "fillcolor": "#bab0ac",
         "legendgroup": "Other GT",
         "line": {
          "color": "black"
         },
         "meanline": {
          "visible": true
         },
         "name": "MN, Other GT",
         "opacity": 0.25,
         "scalegroup": "d_prime",
         "showlegend": false,
         "side": "negative",
         "spanmode": "hard",
         "x0": "Other GT",
         "y": [
          4.593647127748606,
          5.466728855348689,
          4.629591693091486,
          4.708167430624197,
          4.3579427414783485,
          5.697198192494998,
          5.697198192495014,
          5.457116652251863,
          4.63919081626589,
          5.697325201555923,
          4.5185562688186645,
          3.9281338566234476,
          4.682849945470158,
          5.091656382773711
         ],
         "type": "violin",
         "xaxis": "x2",
         "yaxis": "y2"
        },
        {
         "box": {
          "visible": true
         },
         "fillcolor": "#E15F99",
         "legendgroup": "ivt",
         "line": {
          "color": "black"
         },
         "meanline": {
          "visible": true
         },
         "name": "MN, ivt",
         "opacity": 0.25,
         "scalegroup": "d_prime",
         "showlegend": false,
         "side": "negative",
         "spanmode": "hard",
         "x0": "ivt",
         "y": [
          4.988768206332356,
          3.2773144223208646,
          3.0508759258365847,
          3.533838571914921,
          3.7248300414689854,
          4.985511457908569,
          5.202749190303056,
          3.8487366569051202,
          3.272707589200251,
          4.501241571988883,
          4.444039234857245,
          2.687887607987858,
          4.983868524643366,
          2.891430690177534
         ],
         "type": "violin",
         "xaxis": "x2",
         "yaxis": "y2"
        },
        {
         "box": {
          "visible": true
         },
         "fillcolor": "#1CA71C",
         "legendgroup": "ivvt",
         "line": {
          "color": "black"
         },
         "meanline": {
          "visible": true
         },
         "name": "MN, ivvt",
         "opacity": 0.25,
         "scalegroup": "d_prime",
         "showlegend": false,
         "side": "negative",
         "spanmode": "hard",
         "x0": "ivvt",
         "y": [
          4.988768206332356,
          3.2773144223208646,
          2.93257512158007,
          4.119664406019537,
          3.637552407367872,
          4.659064417763066,
          4.983868524643366,
          3.8624315975768466,
          3.0998983174169052,
          4.20927069479959,
          4.233675602189977,
          2.8402036775137964,
          4.756823894517892,
          3.633177456566014
         ],
         "type": "violin",
         "xaxis": "x2",
         "yaxis": "y2"
        },
        {
         "box": {
          "visible": true
         },
         "fillcolor": "#FB0D0D",
         "legendgroup": "idt",
         "line": {
          "color": "black"
         },
         "meanline": {
          "visible": true
         },
         "name": "MN, idt",
         "opacity": 0.25,
         "scalegroup": "d_prime",
         "showlegend": false,
         "side": "negative",
         "spanmode": "hard",
         "x0": "idt",
         "y": [
          2.7927292939909236,
          1.8870194739233654,
          2.2746278798292336,
          2.4921810028188527,
          2.1326028810407274,
          2.009984013122713,
          2.2615155454846385,
          2.8253393120177144,
          1.68877679427036,
          2.1314230756601105,
          1.2580869984359002,
          1.84525863115012,
          2.190709497116439,
          1.7073115964230758
         ],
         "type": "violin",
         "xaxis": "x2",
         "yaxis": "y2"
        },
        {
         "box": {
          "visible": true
         },
         "fillcolor": "#DA16FF",
         "legendgroup": "idvt",
         "line": {
          "color": "black"
         },
         "meanline": {
          "visible": true
         },
         "name": "MN, idvt",
         "opacity": 0.25,
         "scalegroup": "d_prime",
         "showlegend": false,
         "side": "negative",
         "spanmode": "hard",
         "x0": "idvt",
         "y": [
          2.7927292939909236,
          1.8870194739233654,
          2.364997898546176,
          2.7489146501141564,
          2.1326028810407274,
          2.2639989769539666,
          2.190709497116439,
          2.8253393120177144,
          1.68877679427036,
          2.360548797936101,
          1.5009920018489356,
          1.7954595797596142,
          2.190709497116439,
          1.7073115964230758
         ],
         "type": "violin",
         "xaxis": "x2",
         "yaxis": "y2"
        },
        {
         "box": {
          "visible": true
         },
         "fillcolor": "#222A2A",
         "legendgroup": "engbert",
         "line": {
          "color": "black"
         },
         "meanline": {
          "visible": true
         },
         "name": "MN, engbert",
         "opacity": 0.25,
         "scalegroup": "d_prime",
         "showlegend": false,
         "side": "negative",
         "spanmode": "hard",
         "x0": "engbert",
         "y": [
          5.050351704176499,
          4.858495831087648,
          3.5819022301875165,
          3.0293930129785402,
          3.560662946760054,
          5.2040916260010235,
          4.756823894517892,
          4.985511457908569,
          3.9992995826467257,
          3.396921059460248,
          3.283005481665862,
          4.280838617551851,
          4.929274351876277,
          4.326659463989936
         ],
         "type": "violin",
         "xaxis": "x2",
         "yaxis": "y2"
        },
        {
         "box": {
          "visible": true
         },
         "fillcolor": "#B68100",
         "legendgroup": "nh",
         "line": {
          "color": "black"
         },
         "meanline": {
          "visible": true
         },
         "name": "MN, nh",
         "opacity": 0.25,
         "scalegroup": "d_prime",
         "showlegend": false,
         "side": "negative",
         "spanmode": "hard",
         "x0": "nh",
         "y": [
          2.0064568243884704,
          1.7226620203325396,
          1.8559027945369224,
          1.1573624603371955,
          2.0258199991612647,
          2.0384997883341103,
          1.9616249577248832,
          1.581100491300537,
          3.428854246434944,
          2.077273246460014,
          0.44805264675819245,
          1.7007605154547154,
          0.7311126229132512,
          2.660012809855202
         ],
         "type": "violin",
         "xaxis": "x2",
         "yaxis": "y2"
        },
        {
         "box": {
          "visible": true
         },
         "fillcolor": "#750D86",
         "legendgroup": "remodnav",
         "line": {
          "color": "black"
         },
         "meanline": {
          "visible": true
         },
         "name": "MN, remodnav",
         "opacity": 0.25,
         "scalegroup": "d_prime",
         "showlegend": false,
         "side": "negative",
         "spanmode": "hard",
         "x0": "remodnav",
         "y": [
          2.848599096247495,
          1.8870194739233654,
          2.2608997804194324,
          2.193462453056782,
          2.7454097843926895,
          2.5094591735383354,
          1.9366756381069257,
          2.848599096247495,
          2.4504978914561244,
          2.9319462228395294,
          1.9227376218479018,
          2.247014302559641,
          2.691984885490992,
          2.6840055998741437
         ],
         "type": "violin",
         "xaxis": "x2",
         "yaxis": "y2"
        }
       ],
       "layout": {
        "template": {
         "data": {
          "histogram2dcontour": [
           {
            "type": "histogram2dcontour",
            "colorbar": {
             "outlinewidth": 0,
             "ticks": ""
            },
            "colorscale": [
             [
              0.0,
              "#0d0887"
             ],
             [
              0.1111111111111111,
              "#46039f"
             ],
             [
              0.2222222222222222,
              "#7201a8"
             ],
             [
              0.3333333333333333,
              "#9c179e"
             ],
             [
              0.4444444444444444,
              "#bd3786"
             ],
             [
              0.5555555555555556,
              "#d8576b"
             ],
             [
              0.6666666666666666,
              "#ed7953"
             ],
             [
              0.7777777777777778,
              "#fb9f3a"
             ],
             [
              0.8888888888888888,
              "#fdca26"
             ],
             [
              1.0,
              "#f0f921"
             ]
            ]
           }
          ],
          "choropleth": [
           {
            "type": "choropleth",
            "colorbar": {
             "outlinewidth": 0,
             "ticks": ""
            }
           }
          ],
          "histogram2d": [
           {
            "type": "histogram2d",
            "colorbar": {
             "outlinewidth": 0,
             "ticks": ""
            },
            "colorscale": [
             [
              0.0,
              "#0d0887"
             ],
             [
              0.1111111111111111,
              "#46039f"
             ],
             [
              0.2222222222222222,
              "#7201a8"
             ],
             [
              0.3333333333333333,
              "#9c179e"
             ],
             [
              0.4444444444444444,
              "#bd3786"
             ],
             [
              0.5555555555555556,
              "#d8576b"
             ],
             [
              0.6666666666666666,
              "#ed7953"
             ],
             [
              0.7777777777777778,
              "#fb9f3a"
             ],
             [
              0.8888888888888888,
              "#fdca26"
             ],
             [
              1.0,
              "#f0f921"
             ]
            ]
           }
          ],
          "heatmap": [
           {
            "type": "heatmap",
            "colorbar": {
             "outlinewidth": 0,
             "ticks": ""
            },
            "colorscale": [
             [
              0.0,
              "#0d0887"
             ],
             [
              0.1111111111111111,
              "#46039f"
             ],
             [
              0.2222222222222222,
              "#7201a8"
             ],
             [
              0.3333333333333333,
              "#9c179e"
             ],
             [
              0.4444444444444444,
              "#bd3786"
             ],
             [
              0.5555555555555556,
              "#d8576b"
             ],
             [
              0.6666666666666666,
              "#ed7953"
             ],
             [
              0.7777777777777778,
              "#fb9f3a"
             ],
             [
              0.8888888888888888,
              "#fdca26"
             ],
             [
              1.0,
              "#f0f921"
             ]
            ]
           }
          ],
          "heatmapgl": [
           {
            "type": "heatmapgl",
            "colorbar": {
             "outlinewidth": 0,
             "ticks": ""
            },
            "colorscale": [
             [
              0.0,
              "#0d0887"
             ],
             [
              0.1111111111111111,
              "#46039f"
             ],
             [
              0.2222222222222222,
              "#7201a8"
             ],
             [
              0.3333333333333333,
              "#9c179e"
             ],
             [
              0.4444444444444444,
              "#bd3786"
             ],
             [
              0.5555555555555556,
              "#d8576b"
             ],
             [
              0.6666666666666666,
              "#ed7953"
             ],
             [
              0.7777777777777778,
              "#fb9f3a"
             ],
             [
              0.8888888888888888,
              "#fdca26"
             ],
             [
              1.0,
              "#f0f921"
             ]
            ]
           }
          ],
          "contourcarpet": [
           {
            "type": "contourcarpet",
            "colorbar": {
             "outlinewidth": 0,
             "ticks": ""
            }
           }
          ],
          "contour": [
           {
            "type": "contour",
            "colorbar": {
             "outlinewidth": 0,
             "ticks": ""
            },
            "colorscale": [
             [
              0.0,
              "#0d0887"
             ],
             [
              0.1111111111111111,
              "#46039f"
             ],
             [
              0.2222222222222222,
              "#7201a8"
             ],
             [
              0.3333333333333333,
              "#9c179e"
             ],
             [
              0.4444444444444444,
              "#bd3786"
             ],
             [
              0.5555555555555556,
              "#d8576b"
             ],
             [
              0.6666666666666666,
              "#ed7953"
             ],
             [
              0.7777777777777778,
              "#fb9f3a"
             ],
             [
              0.8888888888888888,
              "#fdca26"
             ],
             [
              1.0,
              "#f0f921"
             ]
            ]
           }
          ],
          "surface": [
           {
            "type": "surface",
            "colorbar": {
             "outlinewidth": 0,
             "ticks": ""
            },
            "colorscale": [
             [
              0.0,
              "#0d0887"
             ],
             [
              0.1111111111111111,
              "#46039f"
             ],
             [
              0.2222222222222222,
              "#7201a8"
             ],
             [
              0.3333333333333333,
              "#9c179e"
             ],
             [
              0.4444444444444444,
              "#bd3786"
             ],
             [
              0.5555555555555556,
              "#d8576b"
             ],
             [
              0.6666666666666666,
              "#ed7953"
             ],
             [
              0.7777777777777778,
              "#fb9f3a"
             ],
             [
              0.8888888888888888,
              "#fdca26"
             ],
             [
              1.0,
              "#f0f921"
             ]
            ]
           }
          ],
          "mesh3d": [
           {
            "type": "mesh3d",
            "colorbar": {
             "outlinewidth": 0,
             "ticks": ""
            }
           }
          ],
          "scatter": [
           {
            "marker": {
             "line": {
              "color": "#283442"
             }
            },
            "type": "scatter"
           }
          ],
          "parcoords": [
           {
            "type": "parcoords",
            "line": {
             "colorbar": {
              "outlinewidth": 0,
              "ticks": ""
             }
            }
           }
          ],
          "scatterpolargl": [
           {
            "type": "scatterpolargl",
            "marker": {
             "colorbar": {
              "outlinewidth": 0,
              "ticks": ""
             }
            }
           }
          ],
          "bar": [
           {
            "error_x": {
             "color": "#f2f5fa"
            },
            "error_y": {
             "color": "#f2f5fa"
            },
            "marker": {
             "line": {
              "color": "rgb(17,17,17)",
              "width": 0.5
             },
             "pattern": {
              "fillmode": "overlay",
              "size": 10,
              "solidity": 0.2
             }
            },
            "type": "bar"
           }
          ],
          "scattergeo": [
           {
            "type": "scattergeo",
            "marker": {
             "colorbar": {
              "outlinewidth": 0,
              "ticks": ""
             }
            }
           }
          ],
          "scatterpolar": [
           {
            "type": "scatterpolar",
            "marker": {
             "colorbar": {
              "outlinewidth": 0,
              "ticks": ""
             }
            }
           }
          ],
          "histogram": [
           {
            "marker": {
             "pattern": {
              "fillmode": "overlay",
              "size": 10,
              "solidity": 0.2
             }
            },
            "type": "histogram"
           }
          ],
          "scattergl": [
           {
            "marker": {
             "line": {
              "color": "#283442"
             }
            },
            "type": "scattergl"
           }
          ],
          "scatter3d": [
           {
            "type": "scatter3d",
            "line": {
             "colorbar": {
              "outlinewidth": 0,
              "ticks": ""
             }
            },
            "marker": {
             "colorbar": {
              "outlinewidth": 0,
              "ticks": ""
             }
            }
           }
          ],
          "scattermapbox": [
           {
            "type": "scattermapbox",
            "marker": {
             "colorbar": {
              "outlinewidth": 0,
              "ticks": ""
             }
            }
           }
          ],
          "scatterternary": [
           {
            "type": "scatterternary",
            "marker": {
             "colorbar": {
              "outlinewidth": 0,
              "ticks": ""
             }
            }
           }
          ],
          "scattercarpet": [
           {
            "type": "scattercarpet",
            "marker": {
             "colorbar": {
              "outlinewidth": 0,
              "ticks": ""
             }
            }
           }
          ],
          "carpet": [
           {
            "aaxis": {
             "endlinecolor": "#A2B1C6",
             "gridcolor": "#506784",
             "linecolor": "#506784",
             "minorgridcolor": "#506784",
             "startlinecolor": "#A2B1C6"
            },
            "baxis": {
             "endlinecolor": "#A2B1C6",
             "gridcolor": "#506784",
             "linecolor": "#506784",
             "minorgridcolor": "#506784",
             "startlinecolor": "#A2B1C6"
            },
            "type": "carpet"
           }
          ],
          "table": [
           {
            "cells": {
             "fill": {
              "color": "#506784"
             },
             "line": {
              "color": "rgb(17,17,17)"
             }
            },
            "header": {
             "fill": {
              "color": "#2a3f5f"
             },
             "line": {
              "color": "rgb(17,17,17)"
             }
            },
            "type": "table"
           }
          ],
          "barpolar": [
           {
            "marker": {
             "line": {
              "color": "rgb(17,17,17)",
              "width": 0.5
             },
             "pattern": {
              "fillmode": "overlay",
              "size": 10,
              "solidity": 0.2
             }
            },
            "type": "barpolar"
           }
          ],
          "pie": [
           {
            "automargin": true,
            "type": "pie"
           }
          ]
         },
         "layout": {
          "autotypenumbers": "strict",
          "colorway": [
           "#636efa",
           "#EF553B",
           "#00cc96",
           "#ab63fa",
           "#FFA15A",
           "#19d3f3",
           "#FF6692",
           "#B6E880",
           "#FF97FF",
           "#FECB52"
          ],
          "font": {
           "color": "#f2f5fa"
          },
          "hovermode": "closest",
          "hoverlabel": {
           "align": "left"
          },
          "paper_bgcolor": "rgb(17,17,17)",
          "plot_bgcolor": "rgb(17,17,17)",
          "polar": {
           "bgcolor": "rgb(17,17,17)",
           "angularaxis": {
            "gridcolor": "#506784",
            "linecolor": "#506784",
            "ticks": ""
           },
           "radialaxis": {
            "gridcolor": "#506784",
            "linecolor": "#506784",
            "ticks": ""
           }
          },
          "ternary": {
           "bgcolor": "rgb(17,17,17)",
           "aaxis": {
            "gridcolor": "#506784",
            "linecolor": "#506784",
            "ticks": ""
           },
           "baxis": {
            "gridcolor": "#506784",
            "linecolor": "#506784",
            "ticks": ""
           },
           "caxis": {
            "gridcolor": "#506784",
            "linecolor": "#506784",
            "ticks": ""
           }
          },
          "coloraxis": {
           "colorbar": {
            "outlinewidth": 0,
            "ticks": ""
           }
          },
          "colorscale": {
           "sequential": [
            [
             0.0,
             "#0d0887"
            ],
            [
             0.1111111111111111,
             "#46039f"
            ],
            [
             0.2222222222222222,
             "#7201a8"
            ],
            [
             0.3333333333333333,
             "#9c179e"
            ],
            [
             0.4444444444444444,
             "#bd3786"
            ],
            [
             0.5555555555555556,
             "#d8576b"
            ],
            [
             0.6666666666666666,
             "#ed7953"
            ],
            [
             0.7777777777777778,
             "#fb9f3a"
            ],
            [
             0.8888888888888888,
             "#fdca26"
            ],
            [
             1.0,
             "#f0f921"
            ]
           ],
           "sequentialminus": [
            [
             0.0,
             "#0d0887"
            ],
            [
             0.1111111111111111,
             "#46039f"
            ],
            [
             0.2222222222222222,
             "#7201a8"
            ],
            [
             0.3333333333333333,
             "#9c179e"
            ],
            [
             0.4444444444444444,
             "#bd3786"
            ],
            [
             0.5555555555555556,
             "#d8576b"
            ],
            [
             0.6666666666666666,
             "#ed7953"
            ],
            [
             0.7777777777777778,
             "#fb9f3a"
            ],
            [
             0.8888888888888888,
             "#fdca26"
            ],
            [
             1.0,
             "#f0f921"
            ]
           ],
           "diverging": [
            [
             0,
             "#8e0152"
            ],
            [
             0.1,
             "#c51b7d"
            ],
            [
             0.2,
             "#de77ae"
            ],
            [
             0.3,
             "#f1b6da"
            ],
            [
             0.4,
             "#fde0ef"
            ],
            [
             0.5,
             "#f7f7f7"
            ],
            [
             0.6,
             "#e6f5d0"
            ],
            [
             0.7,
             "#b8e186"
            ],
            [
             0.8,
             "#7fbc41"
            ],
            [
             0.9,
             "#4d9221"
            ],
            [
             1,
             "#276419"
            ]
           ]
          },
          "xaxis": {
           "gridcolor": "#283442",
           "linecolor": "#506784",
           "ticks": "",
           "title": {
            "standoff": 15
           },
           "zerolinecolor": "#283442",
           "automargin": true,
           "zerolinewidth": 2
          },
          "yaxis": {
           "gridcolor": "#283442",
           "linecolor": "#506784",
           "ticks": "",
           "title": {
            "standoff": 15
           },
           "zerolinecolor": "#283442",
           "automargin": true,
           "zerolinewidth": 2
          },
          "scene": {
           "xaxis": {
            "backgroundcolor": "rgb(17,17,17)",
            "gridcolor": "#506784",
            "linecolor": "#506784",
            "showbackground": true,
            "ticks": "",
            "zerolinecolor": "#C8D4E3",
            "gridwidth": 2
           },
           "yaxis": {
            "backgroundcolor": "rgb(17,17,17)",
            "gridcolor": "#506784",
            "linecolor": "#506784",
            "showbackground": true,
            "ticks": "",
            "zerolinecolor": "#C8D4E3",
            "gridwidth": 2
           },
           "zaxis": {
            "backgroundcolor": "rgb(17,17,17)",
            "gridcolor": "#506784",
            "linecolor": "#506784",
            "showbackground": true,
            "ticks": "",
            "zerolinecolor": "#C8D4E3",
            "gridwidth": 2
           }
          },
          "shapedefaults": {
           "line": {
            "color": "#f2f5fa"
           }
          },
          "annotationdefaults": {
           "arrowcolor": "#f2f5fa",
           "arrowhead": 0,
           "arrowwidth": 1
          },
          "geo": {
           "bgcolor": "rgb(17,17,17)",
           "landcolor": "rgb(17,17,17)",
           "subunitcolor": "#506784",
           "showland": true,
           "showlakes": true,
           "lakecolor": "rgb(17,17,17)"
          },
          "title": {
           "x": 0.05
          },
          "updatemenudefaults": {
           "bgcolor": "#506784",
           "borderwidth": 0
          },
          "sliderdefaults": {
           "bgcolor": "#C8D4E3",
           "borderwidth": 1,
           "bordercolor": "rgb(17,17,17)",
           "tickwidth": 0
          },
          "mapbox": {
           "style": "dark"
          }
         }
        },
        "xaxis": {
         "anchor": "y",
         "domain": [
          0.0,
          1.0
         ]
        },
        "yaxis": {
         "anchor": "x",
         "domain": [
          0.625,
          1.0
         ],
         "range": [
          0,
          1
         ]
        },
        "xaxis2": {
         "anchor": "y2",
         "domain": [
          0.0,
          1.0
         ]
        },
        "yaxis2": {
         "anchor": "x2",
         "domain": [
          0.0,
          0.375
         ]
        },
        "annotations": [
         {
          "font": {
           "size": 16
          },
          "showarrow": false,
          "text": "f1",
          "x": 0.5,
          "xanchor": "center",
          "xref": "paper",
          "y": 1.0,
          "yanchor": "bottom",
          "yref": "paper"
         },
         {
          "font": {
           "size": 16
          },
          "showarrow": false,
          "text": "d'",
          "x": 0.5,
          "xanchor": "center",
          "xref": "paper",
          "y": 0.375,
          "yanchor": "bottom",
          "yref": "paper"
         }
        ],
        "title": {
         "text": "saccade onsets"
        },
        "violinmode": "overlay",
        "boxmode": "group",
        "boxgroupgap": 0,
        "boxgap": 0,
        "width": 1000,
        "height": 500,
        "paper_bgcolor": "rgba(0, 0, 0, 0)",
        "plot_bgcolor": "rgba(0, 0, 0, 0)"
       },
       "config": {
        "plotlyServerURL": "https://plot.ly"
       }
      },
      "text/html": [
       "<div>                            <div id=\"02bd5999-7647-42d6-969b-4ad840f342d1\" class=\"plotly-graph-div\" style=\"height:500px; width:1000px;\"></div>            <script type=\"text/javascript\">                require([\"plotly\"], function(Plotly) {                    window.PLOTLYENV=window.PLOTLYENV || {};                                    if (document.getElementById(\"02bd5999-7647-42d6-969b-4ad840f342d1\")) {                    Plotly.newPlot(                        \"02bd5999-7647-42d6-969b-4ad840f342d1\",                        [{\"box\":{\"visible\":true},\"fillcolor\":\"#bab0ac\",\"legendgroup\":\"Other GT\",\"line\":{\"color\":\"black\"},\"meanline\":{\"visible\":true},\"name\":\"RA, Other GT\",\"opacity\":0.75,\"scalegroup\":\"f1\",\"showlegend\":true,\"side\":\"positive\",\"spanmode\":\"hard\",\"x0\":\"Other GT\",\"y\":[0.9803921568627451,0.923076923076923,0.9642857142857143,0.9850746268656716,0.9523809523809523,1.0,1.0,0.9836065573770492,0.962962962962963,1.0,0.9767441860465117,0.9047619047619048,0.9841269841269841,1.0],\"type\":\"violin\",\"xaxis\":\"x\",\"yaxis\":\"y\"},{\"box\":{\"visible\":true},\"fillcolor\":\"#E15F99\",\"legendgroup\":\"ivt\",\"line\":{\"color\":\"black\"},\"meanline\":{\"visible\":true},\"name\":\"RA, ivt\",\"opacity\":0.75,\"scalegroup\":\"f1\",\"showlegend\":true,\"side\":\"positive\",\"spanmode\":\"hard\",\"x0\":\"ivt\",\"y\":[0.8771929824561403,0.7272727272727273,0.9166666666666666,0.923076923076923,0.7619047619047619,0.6666666666666666,0.7586206896551725,0.8750000000000001,0.9666666666666667,0.8253968253968255,0.8656716417910448,0.9090909090909091,0.955223880597015,0.8888888888888888,0.8333333333333333,0.7499999999999999,0.6363636363636364,0.4615384615384615,0.898550724637681,0.8363636363636364],\"type\":\"violin\",\"xaxis\":\"x\",\"yaxis\":\"y\"},{\"box\":{\"visible\":true},\"fillcolor\":\"#1CA71C\",\"legendgroup\":\"ivvt\",\"line\":{\"color\":\"black\"},\"meanline\":{\"visible\":true},\"name\":\"RA, ivvt\",\"opacity\":0.75,\"scalegroup\":\"f1\",\"showlegend\":true,\"side\":\"positive\",\"spanmode\":\"hard\",\"x0\":\"ivvt\",\"y\":[0.8771929824561403,0.7272727272727273,0.868421052631579,0.8571428571428571,0.716417910447761,0.49090909090909096,0.6055045871559633,0.6086956521739131,0.9836065573770492,0.8656716417910447,0.7692307692307693,0.8108108108108109,0.9142857142857143,0.8405797101449276,0.8235294117647057,0.625,0.5384615384615384,0.3789473684210526,0.8378378378378378,0.896551724137931],\"type\":\"violin\",\"xaxis\":\"x\",\"yaxis\":\"y\"},{\"box\":{\"visible\":true},\"fillcolor\":\"#FB0D0D\",\"legendgroup\":\"idt\",\"line\":{\"color\":\"black\"},\"meanline\":{\"visible\":true},\"name\":\"RA, idt\",\"opacity\":0.75,\"scalegroup\":\"f1\",\"showlegend\":true,\"side\":\"positive\",\"spanmode\":\"hard\",\"x0\":\"idt\",\"y\":[0.7619047619047621,0.25,0.7118644067796609,0.6046511627906976,0.6521739130434783,0.5581395348837209,0.6785714285714286,0.4444444444444444,0.5909090909090909,0.4782608695652174,0.6521739130434783,0.6382978723404256,0.6415094339622642,0.5531914893617021,0.30303030303030304,0.576923076923077,0.30434782608695654,0.4,0.5660377358490567,0.5454545454545455],\"type\":\"violin\",\"xaxis\":\"x\",\"yaxis\":\"y\"},{\"box\":{\"visible\":true},\"fillcolor\":\"#DA16FF\",\"legendgroup\":\"idvt\",\"line\":{\"color\":\"black\"},\"meanline\":{\"visible\":true},\"name\":\"RA, idvt\",\"opacity\":0.75,\"scalegroup\":\"f1\",\"showlegend\":true,\"side\":\"positive\",\"spanmode\":\"hard\",\"x0\":\"idvt\",\"y\":[0.7619047619047621,0.25,0.7457627118644068,0.6046511627906976,0.7083333333333333,0.5909090909090908,0.7368421052631579,0.5405405405405405,0.6363636363636364,0.4782608695652174,0.6521739130434783,0.7083333333333334,0.6296296296296297,0.5531914893617021,0.30303030303030304,0.6415094339622641,0.375,0.38461538461538464,0.5660377358490567,0.5454545454545455],\"type\":\"violin\",\"xaxis\":\"x\",\"yaxis\":\"y\"},{\"box\":{\"visible\":true},\"fillcolor\":\"#222A2A\",\"legendgroup\":\"engbert\",\"line\":{\"color\":\"black\"},\"meanline\":{\"visible\":true},\"name\":\"RA, engbert\",\"opacity\":0.75,\"scalegroup\":\"f1\",\"showlegend\":true,\"side\":\"positive\",\"spanmode\":\"hard\",\"x0\":\"engbert\",\"y\":[0.8928571428571428,0.6363636363636364,0.9166666666666666,0.8823529411764706,0.9508196721311475,0.7887323943661972,0.6736842105263158,0.8400000000000001,0.9836065573770492,0.9066666666666667,0.8285714285714285,0.9523809523809523,0.8533333333333333,0.9253731343283582,0.9090909090909091,0.6904761904761905,0.6060606060606061,0.5135135135135135,0.8857142857142858,0.9152542372881356],\"type\":\"violin\",\"xaxis\":\"x\",\"yaxis\":\"y\"},{\"box\":{\"visible\":true},\"fillcolor\":\"#B68100\",\"legendgroup\":\"nh\",\"line\":{\"color\":\"black\"},\"meanline\":{\"visible\":true},\"name\":\"RA, nh\",\"opacity\":0.75,\"scalegroup\":\"f1\",\"showlegend\":true,\"side\":\"positive\",\"spanmode\":\"hard\",\"x0\":\"nh\",\"y\":[0.47058823529411764,0.375,0.05882352941176471,0.4918032786885246,0.3934426229508197,0.4615384615384615,0.14634146341463414,0.5581395348837208,0.9,0.9565217391304348,0.4838709677419355,0.4666666666666667,0.5538461538461538,0.4918032786885246,0.8679245283018867,0.6037735849056605,0.06896551724137931,0.5777777777777778,0.0588235294117647,0.7999999999999999],\"type\":\"violin\",\"xaxis\":\"x\",\"yaxis\":\"y\"},{\"box\":{\"visible\":true},\"fillcolor\":\"#750D86\",\"legendgroup\":\"remodnav\",\"line\":{\"color\":\"black\"},\"meanline\":{\"visible\":true},\"name\":\"RA, remodnav\",\"opacity\":0.75,\"scalegroup\":\"f1\",\"showlegend\":true,\"side\":\"positive\",\"spanmode\":\"hard\",\"x0\":\"remodnav\",\"y\":[0.6842105263157895,0.25,0.5833333333333333,0.7234042553191489,0.6511627906976745,0.4864864864864865,0.41860465116279066,0.4444444444444445,0.6363636363636364,0.5490196078431373,0.5957446808510638,0.4878048780487804,0.30769230769230765,0.6521739130434783,0.6,0.6956521739130436,0.3076923076923077,0.3846153846153846,0.5777777777777778,0.7142857142857143],\"type\":\"violin\",\"xaxis\":\"x\",\"yaxis\":\"y\"},{\"box\":{\"visible\":true},\"fillcolor\":\"#bab0ac\",\"legendgroup\":\"Other GT\",\"line\":{\"color\":\"black\"},\"meanline\":{\"visible\":true},\"name\":\"MN, Other GT\",\"opacity\":0.25,\"scalegroup\":\"f1\",\"showlegend\":true,\"side\":\"negative\",\"spanmode\":\"hard\",\"x0\":\"Other GT\",\"y\":[0.9803921568627451,0.923076923076923,0.9642857142857143,0.9850746268656716,0.9523809523809523,1.0,1.0,0.9836065573770492,0.962962962962963,1.0,0.9767441860465117,0.9047619047619048,0.9841269841269841,1.0],\"type\":\"violin\",\"xaxis\":\"x\",\"yaxis\":\"y\"},{\"box\":{\"visible\":true},\"fillcolor\":\"#E15F99\",\"legendgroup\":\"ivt\",\"line\":{\"color\":\"black\"},\"meanline\":{\"visible\":true},\"name\":\"MN, ivt\",\"opacity\":0.25,\"scalegroup\":\"f1\",\"showlegend\":true,\"side\":\"negative\",\"spanmode\":\"hard\",\"x0\":\"ivt\",\"y\":[0.896551724137931,0.8,0.6666666666666666,0.7499999999999999,0.8823529411764706,0.9090909090909091,0.955223880597015,0.9032258064516129,0.8695652173913044,0.7499999999999999,0.6567164179104478,0.5000000000000001,0.9142857142857143,0.8363636363636364],\"type\":\"violin\",\"xaxis\":\"x\",\"yaxis\":\"y\"},{\"box\":{\"visible\":true},\"fillcolor\":\"#1CA71C\",\"legendgroup\":\"ivvt\",\"line\":{\"color\":\"black\"},\"meanline\":{\"visible\":true},\"name\":\"MN, ivvt\",\"opacity\":0.25,\"scalegroup\":\"f1\",\"showlegend\":true,\"side\":\"negative\",\"spanmode\":\"hard\",\"x0\":\"ivvt\",\"y\":[0.896551724137931,0.8,0.49090909090909096,0.6181818181818182,0.7848101265822784,0.8108108108108109,0.9142857142857143,0.8529411764705883,0.8571428571428572,0.625,0.5569620253164557,0.43298969072164956,0.8533333333333333,0.896551724137931],\"type\":\"violin\",\"xaxis\":\"x\",\"yaxis\":\"y\"},{\"box\":{\"visible\":true},\"fillcolor\":\"#FB0D0D\",\"legendgroup\":\"idt\",\"line\":{\"color\":\"black\"},\"meanline\":{\"visible\":true},\"name\":\"MN, idt\",\"opacity\":0.25,\"scalegroup\":\"f1\",\"showlegend\":true,\"side\":\"negative\",\"spanmode\":\"hard\",\"x0\":\"idt\",\"y\":[0.6976744186046512,0.2857142857142857,0.5581395348837209,0.6666666666666667,0.5106382978723405,0.5106382978723405,0.6037735849056604,0.6521739130434783,0.32258064516129037,0.576923076923077,0.29787234042553196,0.4615384615384615,0.5925925925925926,0.5454545454545455],\"type\":\"violin\",\"xaxis\":\"x\",\"yaxis\":\"y\"},{\"box\":{\"visible\":true},\"fillcolor\":\"#DA16FF\",\"legendgroup\":\"idvt\",\"line\":{\"color\":\"black\"},\"meanline\":{\"visible\":true},\"name\":\"MN, idvt\",\"opacity\":0.25,\"scalegroup\":\"f1\",\"showlegend\":true,\"side\":\"negative\",\"spanmode\":\"hard\",\"x0\":\"idvt\",\"y\":[0.6976744186046512,0.2857142857142857,0.5909090909090908,0.7241379310344829,0.5106382978723405,0.5833333333333334,0.5925925925925926,0.6521739130434783,0.32258064516129037,0.6415094339622641,0.36734693877551017,0.4444444444444444,0.5925925925925926,0.5454545454545455],\"type\":\"violin\",\"xaxis\":\"x\",\"yaxis\":\"y\"},{\"box\":{\"visible\":true},\"fillcolor\":\"#222A2A\",\"legendgroup\":\"engbert\",\"line\":{\"color\":\"black\"},\"meanline\":{\"visible\":true},\"name\":\"MN, engbert\",\"opacity\":0.25,\"scalegroup\":\"f1\",\"showlegend\":true,\"side\":\"negative\",\"spanmode\":\"hard\",\"x0\":\"engbert\",\"y\":[0.9122807017543859,0.5714285714285715,0.7605633802816901,0.6666666666666666,0.8450704225352113,0.9523809523809523,0.8533333333333333,0.9090909090909091,0.9433962264150944,0.6904761904761905,0.6268656716417911,0.5789473684210525,0.9014084507042254,0.9152542372881356],\"type\":\"violin\",\"xaxis\":\"x\",\"yaxis\":\"y\"},{\"box\":{\"visible\":true},\"fillcolor\":\"#B68100\",\"legendgroup\":\"nh\",\"line\":{\"color\":\"black\"},\"meanline\":{\"visible\":true},\"name\":\"MN, nh\",\"opacity\":0.25,\"scalegroup\":\"f1\",\"showlegend\":true,\"side\":\"negative\",\"spanmode\":\"hard\",\"x0\":\"nh\",\"y\":[0.5384615384615384,0.26666666666666666,0.5,0.19047619047619047,0.5714285714285715,0.5666666666666667,0.5538461538461538,0.43333333333333335,0.9019607843137256,0.5660377358490566,0.06666666666666667,0.4255319148936171,0.05714285714285714,0.7999999999999999],\"type\":\"violin\",\"xaxis\":\"x\",\"yaxis\":\"y\"},{\"box\":{\"visible\":true},\"fillcolor\":\"#750D86\",\"legendgroup\":\"remodnav\",\"line\":{\"color\":\"black\"},\"meanline\":{\"visible\":true},\"name\":\"MN, remodnav\",\"opacity\":0.25,\"scalegroup\":\"f1\",\"showlegend\":true,\"side\":\"negative\",\"spanmode\":\"hard\",\"x0\":\"remodnav\",\"y\":[0.6666666666666666,0.2857142857142857,0.43243243243243246,0.40909090909090906,0.625,0.5365853658536585,0.30769230769230765,0.6666666666666666,0.631578947368421,0.6956521739130436,0.2962962962962963,0.42857142857142855,0.6086956521739131,0.7142857142857143],\"type\":\"violin\",\"xaxis\":\"x\",\"yaxis\":\"y\"},{\"box\":{\"visible\":true},\"fillcolor\":\"#bab0ac\",\"legendgroup\":\"Other GT\",\"line\":{\"color\":\"black\"},\"meanline\":{\"visible\":true},\"name\":\"RA, Other GT\",\"opacity\":0.75,\"scalegroup\":\"d_prime\",\"showlegend\":false,\"side\":\"positive\",\"spanmode\":\"hard\",\"x0\":\"Other GT\",\"y\":[5.459187550419509,3.909244963156813,4.629591693091486,5.455990592890831,4.443255522619719,5.697198192494998,5.697198192495014,4.669486053339465,3.9778153925912196,5.697325201555923,5.46055068919749,4.106184045600919,5.456697951706454,5.091656382773711],\"type\":\"violin\",\"xaxis\":\"x2\",\"yaxis\":\"y2\"},{\"box\":{\"visible\":true},\"fillcolor\":\"#E15F99\",\"legendgroup\":\"ivt\",\"line\":{\"color\":\"black\"},\"meanline\":{\"visible\":true},\"name\":\"RA, ivt\",\"opacity\":0.75,\"scalegroup\":\"d_prime\",\"showlegend\":false,\"side\":\"positive\",\"spanmode\":\"hard\",\"x0\":\"ivt\",\"y\":[4.935210117945616,3.027812456059501,4.983192405588715,5.0472493145762085,2.9298959092282577,3.0508759258365847,4.4752621512270805,4.992198654506082,4.312099189420545,2.8592051942026666,3.648316355744651,4.985511457908569,5.202749190303056,3.646923271358781,3.105093781687821,4.501241571988883,4.424817633810667,2.6083850889986855,4.930129828954507,2.891430690177534],\"type\":\"violin\",\"xaxis\":\"x2\",\"yaxis\":\"y2\"},{\"box\":{\"visible\":true},\"fillcolor\":\"#1CA71C\",\"legendgroup\":\"ivvt\",\"line\":{\"color\":\"black\"},\"meanline\":{\"visible\":true},\"name\":\"RA, ivvt\",\"opacity\":0.75,\"scalegroup\":\"d_prime\",\"showlegend\":false,\"side\":\"positive\",\"spanmode\":\"hard\",\"x0\":\"ivvt\",\"y\":[4.935210117945616,3.027812456059501,4.793963005522437,4.796603895400534,2.7833173188314073,2.93257512158007,4.107777433285677,4.367119696372443,4.803546889825931,2.992385296538358,3.596492324322004,4.659064417763066,4.983868524643366,3.5454601905514496,2.8999416356744963,4.20927069479959,4.219960354617328,2.4008722473674293,4.7224382754870255,3.633177456566014],\"type\":\"violin\",\"xaxis\":\"x2\",\"yaxis\":\"y2\"},{\"box\":{\"visible\":true},\"fillcolor\":\"#FB0D0D\",\"legendgroup\":\"idt\",\"line\":{\"color\":\"black\"},\"meanline\":{\"visible\":true},\"name\":\"RA, idt\",\"opacity\":0.75,\"scalegroup\":\"d_prime\",\"showlegend\":false,\"side\":\"positive\",\"spanmode\":\"hard\",\"x0\":\"idt\",\"y\":[3.1875568290930625,1.787953229338177,2.6094427534986746,2.6814492707351136,2.6395135206515428,2.2746278798292336,2.5361336419702476,1.83645289326642,2.310290548816525,2.067786735744974,2.808336266956156,2.595471843602999,2.424299027839395,2.248550883443325,1.6385111426454706,2.1314230756601105,1.301232293540237,1.6834816993378174,2.0899466875847263,1.7073115964230758],\"type\":\"violin\",\"xaxis\":\"x2\",\"yaxis\":\"y2\"},{\"box\":{\"visible\":true},\"fillcolor\":\"#DA16FF\",\"legendgroup\":\"idvt\",\"line\":{\"color\":\"black\"},\"meanline\":{\"visible\":true},\"name\":\"RA, idvt\",\"opacity\":0.75,\"scalegroup\":\"d_prime\",\"showlegend\":false,\"side\":\"positive\",\"spanmode\":\"hard\",\"x0\":\"idvt\",\"y\":[3.1875568290930625,1.787953229338177,2.7758089351195308,2.6814492707351136,2.814080709426124,2.364997898546176,2.799220639071396,2.140775935854541,2.4630905142450756,2.067786735744974,2.808336266956156,2.99323331680582,2.339927958217751,2.248550883443325,1.6385111426454706,2.360548797936101,1.5519472230429894,1.63757650709297,2.0899466875847263,1.7073115964230758],\"type\":\"violin\",\"xaxis\":\"x2\",\"yaxis\":\"y2\"},{\"box\":{\"visible\":true},\"fillcolor\":\"#222A2A\",\"legendgroup\":\"engbert\",\"line\":{\"color\":\"black\"},\"meanline\":{\"visible\":true},\"name\":\"RA, engbert\",\"opacity\":0.75,\"scalegroup\":\"d_prime\",\"showlegend\":false,\"side\":\"positive\",\"spanmode\":\"hard\",\"x0\":\"engbert\",\"y\":[4.989576400060516,4.901607521707367,4.983192405588715,4.882022601074331,5.20475967978861,4.631549353670097,3.3422720579072887,4.889240213988629,4.803546889825931,3.6417743492215378,3.501153542978641,5.2040916260010235,4.756823894517892,5.046467880803274,3.4673186773217353,3.396921059460248,3.2416119182383576,3.0449205178680936,4.881141236650121,4.326659463989936],\"type\":\"violin\",\"xaxis\":\"x2\",\"yaxis\":\"y2\"},{\"box\":{\"visible\":true},\"fillcolor\":\"#B68100\",\"legendgroup\":\"nh\",\"line\":{\"color\":\"black\"},\"meanline\":{\"visible\":true},\"name\":\"RA, nh\",\"opacity\":0.75,\"scalegroup\":\"d_prime\",\"showlegend\":false,\"side\":\"positive\",\"spanmode\":\"hard\",\"x0\":\"nh\",\"y\":[1.7926947585150583,2.033266344834221,1.001546535225833,1.77699590433968,1.4556523663667582,1.7278403360192967,0.9255093218626931,2.1727831216833784,3.339283778489517,4.0454035765309975,1.7354692377567866,1.693344170432551,1.9616249577248832,1.7649502445000027,3.1462748618467935,2.2150748095672395,0.47121060532399905,2.3012887920140135,0.7460629456169006,2.660012809855202],\"type\":\"violin\",\"xaxis\":\"x2\",\"yaxis\":\"y2\"},{\"box\":{\"visible\":true},\"fillcolor\":\"#750D86\",\"legendgroup\":\"remodnav\",\"line\":{\"color\":\"black\"},\"meanline\":{\"visible\":true},\"name\":\"RA, remodnav\",\"opacity\":0.75,\"scalegroup\":\"d_prime\",\"showlegend\":false,\"side\":\"positive\",\"spanmode\":\"hard\",\"x0\":\"remodnav\",\"y\":[2.8985322608805797,1.787953229338177,2.6320779854648126,3.0157489217598763,2.8055578601907687,2.387078899775238,2.21854464502775,2.2851645065463746,2.4630905142450756,1.9536791047240807,2.4730718513678265,2.394612012722257,1.9366756381069257,2.808336266956156,2.3679712395452093,2.9319462228395294,1.9557932954870083,2.158319299406476,2.6210375059919047,2.6840055998741437],\"type\":\"violin\",\"xaxis\":\"x2\",\"yaxis\":\"y2\"},{\"box\":{\"visible\":true},\"fillcolor\":\"#bab0ac\",\"legendgroup\":\"Other GT\",\"line\":{\"color\":\"black\"},\"meanline\":{\"visible\":true},\"name\":\"MN, Other GT\",\"opacity\":0.25,\"scalegroup\":\"d_prime\",\"showlegend\":false,\"side\":\"negative\",\"spanmode\":\"hard\",\"x0\":\"Other GT\",\"y\":[4.593647127748606,5.466728855348689,4.629591693091486,4.708167430624197,4.3579427414783485,5.697198192494998,5.697198192495014,5.457116652251863,4.63919081626589,5.697325201555923,4.5185562688186645,3.9281338566234476,4.682849945470158,5.091656382773711],\"type\":\"violin\",\"xaxis\":\"x2\",\"yaxis\":\"y2\"},{\"box\":{\"visible\":true},\"fillcolor\":\"#E15F99\",\"legendgroup\":\"ivt\",\"line\":{\"color\":\"black\"},\"meanline\":{\"visible\":true},\"name\":\"MN, ivt\",\"opacity\":0.25,\"scalegroup\":\"d_prime\",\"showlegend\":false,\"side\":\"negative\",\"spanmode\":\"hard\",\"x0\":\"ivt\",\"y\":[4.988768206332356,3.2773144223208646,3.0508759258365847,3.533838571914921,3.7248300414689854,4.985511457908569,5.202749190303056,3.8487366569051202,3.272707589200251,4.501241571988883,4.444039234857245,2.687887607987858,4.983868524643366,2.891430690177534],\"type\":\"violin\",\"xaxis\":\"x2\",\"yaxis\":\"y2\"},{\"box\":{\"visible\":true},\"fillcolor\":\"#1CA71C\",\"legendgroup\":\"ivvt\",\"line\":{\"color\":\"black\"},\"meanline\":{\"visible\":true},\"name\":\"MN, ivvt\",\"opacity\":0.25,\"scalegroup\":\"d_prime\",\"showlegend\":false,\"side\":\"negative\",\"spanmode\":\"hard\",\"x0\":\"ivvt\",\"y\":[4.988768206332356,3.2773144223208646,2.93257512158007,4.119664406019537,3.637552407367872,4.659064417763066,4.983868524643366,3.8624315975768466,3.0998983174169052,4.20927069479959,4.233675602189977,2.8402036775137964,4.756823894517892,3.633177456566014],\"type\":\"violin\",\"xaxis\":\"x2\",\"yaxis\":\"y2\"},{\"box\":{\"visible\":true},\"fillcolor\":\"#FB0D0D\",\"legendgroup\":\"idt\",\"line\":{\"color\":\"black\"},\"meanline\":{\"visible\":true},\"name\":\"MN, idt\",\"opacity\":0.25,\"scalegroup\":\"d_prime\",\"showlegend\":false,\"side\":\"negative\",\"spanmode\":\"hard\",\"x0\":\"idt\",\"y\":[2.7927292939909236,1.8870194739233654,2.2746278798292336,2.4921810028188527,2.1326028810407274,2.009984013122713,2.2615155454846385,2.8253393120177144,1.68877679427036,2.1314230756601105,1.2580869984359002,1.84525863115012,2.190709497116439,1.7073115964230758],\"type\":\"violin\",\"xaxis\":\"x2\",\"yaxis\":\"y2\"},{\"box\":{\"visible\":true},\"fillcolor\":\"#DA16FF\",\"legendgroup\":\"idvt\",\"line\":{\"color\":\"black\"},\"meanline\":{\"visible\":true},\"name\":\"MN, idvt\",\"opacity\":0.25,\"scalegroup\":\"d_prime\",\"showlegend\":false,\"side\":\"negative\",\"spanmode\":\"hard\",\"x0\":\"idvt\",\"y\":[2.7927292939909236,1.8870194739233654,2.364997898546176,2.7489146501141564,2.1326028810407274,2.2639989769539666,2.190709497116439,2.8253393120177144,1.68877679427036,2.360548797936101,1.5009920018489356,1.7954595797596142,2.190709497116439,1.7073115964230758],\"type\":\"violin\",\"xaxis\":\"x2\",\"yaxis\":\"y2\"},{\"box\":{\"visible\":true},\"fillcolor\":\"#222A2A\",\"legendgroup\":\"engbert\",\"line\":{\"color\":\"black\"},\"meanline\":{\"visible\":true},\"name\":\"MN, engbert\",\"opacity\":0.25,\"scalegroup\":\"d_prime\",\"showlegend\":false,\"side\":\"negative\",\"spanmode\":\"hard\",\"x0\":\"engbert\",\"y\":[5.050351704176499,4.858495831087648,3.5819022301875165,3.0293930129785402,3.560662946760054,5.2040916260010235,4.756823894517892,4.985511457908569,3.9992995826467257,3.396921059460248,3.283005481665862,4.280838617551851,4.929274351876277,4.326659463989936],\"type\":\"violin\",\"xaxis\":\"x2\",\"yaxis\":\"y2\"},{\"box\":{\"visible\":true},\"fillcolor\":\"#B68100\",\"legendgroup\":\"nh\",\"line\":{\"color\":\"black\"},\"meanline\":{\"visible\":true},\"name\":\"MN, nh\",\"opacity\":0.25,\"scalegroup\":\"d_prime\",\"showlegend\":false,\"side\":\"negative\",\"spanmode\":\"hard\",\"x0\":\"nh\",\"y\":[2.0064568243884704,1.7226620203325396,1.8559027945369224,1.1573624603371955,2.0258199991612647,2.0384997883341103,1.9616249577248832,1.581100491300537,3.428854246434944,2.077273246460014,0.44805264675819245,1.7007605154547154,0.7311126229132512,2.660012809855202],\"type\":\"violin\",\"xaxis\":\"x2\",\"yaxis\":\"y2\"},{\"box\":{\"visible\":true},\"fillcolor\":\"#750D86\",\"legendgroup\":\"remodnav\",\"line\":{\"color\":\"black\"},\"meanline\":{\"visible\":true},\"name\":\"MN, remodnav\",\"opacity\":0.25,\"scalegroup\":\"d_prime\",\"showlegend\":false,\"side\":\"negative\",\"spanmode\":\"hard\",\"x0\":\"remodnav\",\"y\":[2.848599096247495,1.8870194739233654,2.2608997804194324,2.193462453056782,2.7454097843926895,2.5094591735383354,1.9366756381069257,2.848599096247495,2.4504978914561244,2.9319462228395294,1.9227376218479018,2.247014302559641,2.691984885490992,2.6840055998741437],\"type\":\"violin\",\"xaxis\":\"x2\",\"yaxis\":\"y2\"}],                        {\"template\":{\"data\":{\"histogram2dcontour\":[{\"type\":\"histogram2dcontour\",\"colorbar\":{\"outlinewidth\":0,\"ticks\":\"\"},\"colorscale\":[[0.0,\"#0d0887\"],[0.1111111111111111,\"#46039f\"],[0.2222222222222222,\"#7201a8\"],[0.3333333333333333,\"#9c179e\"],[0.4444444444444444,\"#bd3786\"],[0.5555555555555556,\"#d8576b\"],[0.6666666666666666,\"#ed7953\"],[0.7777777777777778,\"#fb9f3a\"],[0.8888888888888888,\"#fdca26\"],[1.0,\"#f0f921\"]]}],\"choropleth\":[{\"type\":\"choropleth\",\"colorbar\":{\"outlinewidth\":0,\"ticks\":\"\"}}],\"histogram2d\":[{\"type\":\"histogram2d\",\"colorbar\":{\"outlinewidth\":0,\"ticks\":\"\"},\"colorscale\":[[0.0,\"#0d0887\"],[0.1111111111111111,\"#46039f\"],[0.2222222222222222,\"#7201a8\"],[0.3333333333333333,\"#9c179e\"],[0.4444444444444444,\"#bd3786\"],[0.5555555555555556,\"#d8576b\"],[0.6666666666666666,\"#ed7953\"],[0.7777777777777778,\"#fb9f3a\"],[0.8888888888888888,\"#fdca26\"],[1.0,\"#f0f921\"]]}],\"heatmap\":[{\"type\":\"heatmap\",\"colorbar\":{\"outlinewidth\":0,\"ticks\":\"\"},\"colorscale\":[[0.0,\"#0d0887\"],[0.1111111111111111,\"#46039f\"],[0.2222222222222222,\"#7201a8\"],[0.3333333333333333,\"#9c179e\"],[0.4444444444444444,\"#bd3786\"],[0.5555555555555556,\"#d8576b\"],[0.6666666666666666,\"#ed7953\"],[0.7777777777777778,\"#fb9f3a\"],[0.8888888888888888,\"#fdca26\"],[1.0,\"#f0f921\"]]}],\"heatmapgl\":[{\"type\":\"heatmapgl\",\"colorbar\":{\"outlinewidth\":0,\"ticks\":\"\"},\"colorscale\":[[0.0,\"#0d0887\"],[0.1111111111111111,\"#46039f\"],[0.2222222222222222,\"#7201a8\"],[0.3333333333333333,\"#9c179e\"],[0.4444444444444444,\"#bd3786\"],[0.5555555555555556,\"#d8576b\"],[0.6666666666666666,\"#ed7953\"],[0.7777777777777778,\"#fb9f3a\"],[0.8888888888888888,\"#fdca26\"],[1.0,\"#f0f921\"]]}],\"contourcarpet\":[{\"type\":\"contourcarpet\",\"colorbar\":{\"outlinewidth\":0,\"ticks\":\"\"}}],\"contour\":[{\"type\":\"contour\",\"colorbar\":{\"outlinewidth\":0,\"ticks\":\"\"},\"colorscale\":[[0.0,\"#0d0887\"],[0.1111111111111111,\"#46039f\"],[0.2222222222222222,\"#7201a8\"],[0.3333333333333333,\"#9c179e\"],[0.4444444444444444,\"#bd3786\"],[0.5555555555555556,\"#d8576b\"],[0.6666666666666666,\"#ed7953\"],[0.7777777777777778,\"#fb9f3a\"],[0.8888888888888888,\"#fdca26\"],[1.0,\"#f0f921\"]]}],\"surface\":[{\"type\":\"surface\",\"colorbar\":{\"outlinewidth\":0,\"ticks\":\"\"},\"colorscale\":[[0.0,\"#0d0887\"],[0.1111111111111111,\"#46039f\"],[0.2222222222222222,\"#7201a8\"],[0.3333333333333333,\"#9c179e\"],[0.4444444444444444,\"#bd3786\"],[0.5555555555555556,\"#d8576b\"],[0.6666666666666666,\"#ed7953\"],[0.7777777777777778,\"#fb9f3a\"],[0.8888888888888888,\"#fdca26\"],[1.0,\"#f0f921\"]]}],\"mesh3d\":[{\"type\":\"mesh3d\",\"colorbar\":{\"outlinewidth\":0,\"ticks\":\"\"}}],\"scatter\":[{\"marker\":{\"line\":{\"color\":\"#283442\"}},\"type\":\"scatter\"}],\"parcoords\":[{\"type\":\"parcoords\",\"line\":{\"colorbar\":{\"outlinewidth\":0,\"ticks\":\"\"}}}],\"scatterpolargl\":[{\"type\":\"scatterpolargl\",\"marker\":{\"colorbar\":{\"outlinewidth\":0,\"ticks\":\"\"}}}],\"bar\":[{\"error_x\":{\"color\":\"#f2f5fa\"},\"error_y\":{\"color\":\"#f2f5fa\"},\"marker\":{\"line\":{\"color\":\"rgb(17,17,17)\",\"width\":0.5},\"pattern\":{\"fillmode\":\"overlay\",\"size\":10,\"solidity\":0.2}},\"type\":\"bar\"}],\"scattergeo\":[{\"type\":\"scattergeo\",\"marker\":{\"colorbar\":{\"outlinewidth\":0,\"ticks\":\"\"}}}],\"scatterpolar\":[{\"type\":\"scatterpolar\",\"marker\":{\"colorbar\":{\"outlinewidth\":0,\"ticks\":\"\"}}}],\"histogram\":[{\"marker\":{\"pattern\":{\"fillmode\":\"overlay\",\"size\":10,\"solidity\":0.2}},\"type\":\"histogram\"}],\"scattergl\":[{\"marker\":{\"line\":{\"color\":\"#283442\"}},\"type\":\"scattergl\"}],\"scatter3d\":[{\"type\":\"scatter3d\",\"line\":{\"colorbar\":{\"outlinewidth\":0,\"ticks\":\"\"}},\"marker\":{\"colorbar\":{\"outlinewidth\":0,\"ticks\":\"\"}}}],\"scattermapbox\":[{\"type\":\"scattermapbox\",\"marker\":{\"colorbar\":{\"outlinewidth\":0,\"ticks\":\"\"}}}],\"scatterternary\":[{\"type\":\"scatterternary\",\"marker\":{\"colorbar\":{\"outlinewidth\":0,\"ticks\":\"\"}}}],\"scattercarpet\":[{\"type\":\"scattercarpet\",\"marker\":{\"colorbar\":{\"outlinewidth\":0,\"ticks\":\"\"}}}],\"carpet\":[{\"aaxis\":{\"endlinecolor\":\"#A2B1C6\",\"gridcolor\":\"#506784\",\"linecolor\":\"#506784\",\"minorgridcolor\":\"#506784\",\"startlinecolor\":\"#A2B1C6\"},\"baxis\":{\"endlinecolor\":\"#A2B1C6\",\"gridcolor\":\"#506784\",\"linecolor\":\"#506784\",\"minorgridcolor\":\"#506784\",\"startlinecolor\":\"#A2B1C6\"},\"type\":\"carpet\"}],\"table\":[{\"cells\":{\"fill\":{\"color\":\"#506784\"},\"line\":{\"color\":\"rgb(17,17,17)\"}},\"header\":{\"fill\":{\"color\":\"#2a3f5f\"},\"line\":{\"color\":\"rgb(17,17,17)\"}},\"type\":\"table\"}],\"barpolar\":[{\"marker\":{\"line\":{\"color\":\"rgb(17,17,17)\",\"width\":0.5},\"pattern\":{\"fillmode\":\"overlay\",\"size\":10,\"solidity\":0.2}},\"type\":\"barpolar\"}],\"pie\":[{\"automargin\":true,\"type\":\"pie\"}]},\"layout\":{\"autotypenumbers\":\"strict\",\"colorway\":[\"#636efa\",\"#EF553B\",\"#00cc96\",\"#ab63fa\",\"#FFA15A\",\"#19d3f3\",\"#FF6692\",\"#B6E880\",\"#FF97FF\",\"#FECB52\"],\"font\":{\"color\":\"#f2f5fa\"},\"hovermode\":\"closest\",\"hoverlabel\":{\"align\":\"left\"},\"paper_bgcolor\":\"rgb(17,17,17)\",\"plot_bgcolor\":\"rgb(17,17,17)\",\"polar\":{\"bgcolor\":\"rgb(17,17,17)\",\"angularaxis\":{\"gridcolor\":\"#506784\",\"linecolor\":\"#506784\",\"ticks\":\"\"},\"radialaxis\":{\"gridcolor\":\"#506784\",\"linecolor\":\"#506784\",\"ticks\":\"\"}},\"ternary\":{\"bgcolor\":\"rgb(17,17,17)\",\"aaxis\":{\"gridcolor\":\"#506784\",\"linecolor\":\"#506784\",\"ticks\":\"\"},\"baxis\":{\"gridcolor\":\"#506784\",\"linecolor\":\"#506784\",\"ticks\":\"\"},\"caxis\":{\"gridcolor\":\"#506784\",\"linecolor\":\"#506784\",\"ticks\":\"\"}},\"coloraxis\":{\"colorbar\":{\"outlinewidth\":0,\"ticks\":\"\"}},\"colorscale\":{\"sequential\":[[0.0,\"#0d0887\"],[0.1111111111111111,\"#46039f\"],[0.2222222222222222,\"#7201a8\"],[0.3333333333333333,\"#9c179e\"],[0.4444444444444444,\"#bd3786\"],[0.5555555555555556,\"#d8576b\"],[0.6666666666666666,\"#ed7953\"],[0.7777777777777778,\"#fb9f3a\"],[0.8888888888888888,\"#fdca26\"],[1.0,\"#f0f921\"]],\"sequentialminus\":[[0.0,\"#0d0887\"],[0.1111111111111111,\"#46039f\"],[0.2222222222222222,\"#7201a8\"],[0.3333333333333333,\"#9c179e\"],[0.4444444444444444,\"#bd3786\"],[0.5555555555555556,\"#d8576b\"],[0.6666666666666666,\"#ed7953\"],[0.7777777777777778,\"#fb9f3a\"],[0.8888888888888888,\"#fdca26\"],[1.0,\"#f0f921\"]],\"diverging\":[[0,\"#8e0152\"],[0.1,\"#c51b7d\"],[0.2,\"#de77ae\"],[0.3,\"#f1b6da\"],[0.4,\"#fde0ef\"],[0.5,\"#f7f7f7\"],[0.6,\"#e6f5d0\"],[0.7,\"#b8e186\"],[0.8,\"#7fbc41\"],[0.9,\"#4d9221\"],[1,\"#276419\"]]},\"xaxis\":{\"gridcolor\":\"#283442\",\"linecolor\":\"#506784\",\"ticks\":\"\",\"title\":{\"standoff\":15},\"zerolinecolor\":\"#283442\",\"automargin\":true,\"zerolinewidth\":2},\"yaxis\":{\"gridcolor\":\"#283442\",\"linecolor\":\"#506784\",\"ticks\":\"\",\"title\":{\"standoff\":15},\"zerolinecolor\":\"#283442\",\"automargin\":true,\"zerolinewidth\":2},\"scene\":{\"xaxis\":{\"backgroundcolor\":\"rgb(17,17,17)\",\"gridcolor\":\"#506784\",\"linecolor\":\"#506784\",\"showbackground\":true,\"ticks\":\"\",\"zerolinecolor\":\"#C8D4E3\",\"gridwidth\":2},\"yaxis\":{\"backgroundcolor\":\"rgb(17,17,17)\",\"gridcolor\":\"#506784\",\"linecolor\":\"#506784\",\"showbackground\":true,\"ticks\":\"\",\"zerolinecolor\":\"#C8D4E3\",\"gridwidth\":2},\"zaxis\":{\"backgroundcolor\":\"rgb(17,17,17)\",\"gridcolor\":\"#506784\",\"linecolor\":\"#506784\",\"showbackground\":true,\"ticks\":\"\",\"zerolinecolor\":\"#C8D4E3\",\"gridwidth\":2}},\"shapedefaults\":{\"line\":{\"color\":\"#f2f5fa\"}},\"annotationdefaults\":{\"arrowcolor\":\"#f2f5fa\",\"arrowhead\":0,\"arrowwidth\":1},\"geo\":{\"bgcolor\":\"rgb(17,17,17)\",\"landcolor\":\"rgb(17,17,17)\",\"subunitcolor\":\"#506784\",\"showland\":true,\"showlakes\":true,\"lakecolor\":\"rgb(17,17,17)\"},\"title\":{\"x\":0.05},\"updatemenudefaults\":{\"bgcolor\":\"#506784\",\"borderwidth\":0},\"sliderdefaults\":{\"bgcolor\":\"#C8D4E3\",\"borderwidth\":1,\"bordercolor\":\"rgb(17,17,17)\",\"tickwidth\":0},\"mapbox\":{\"style\":\"dark\"}}},\"xaxis\":{\"anchor\":\"y\",\"domain\":[0.0,1.0]},\"yaxis\":{\"anchor\":\"x\",\"domain\":[0.625,1.0],\"range\":[0,1]},\"xaxis2\":{\"anchor\":\"y2\",\"domain\":[0.0,1.0]},\"yaxis2\":{\"anchor\":\"x2\",\"domain\":[0.0,0.375]},\"annotations\":[{\"font\":{\"size\":16},\"showarrow\":false,\"text\":\"f1\",\"x\":0.5,\"xanchor\":\"center\",\"xref\":\"paper\",\"y\":1.0,\"yanchor\":\"bottom\",\"yref\":\"paper\"},{\"font\":{\"size\":16},\"showarrow\":false,\"text\":\"d'\",\"x\":0.5,\"xanchor\":\"center\",\"xref\":\"paper\",\"y\":0.375,\"yanchor\":\"bottom\",\"yref\":\"paper\"}],\"title\":{\"text\":\"saccade onsets\"},\"violinmode\":\"overlay\",\"boxmode\":\"group\",\"boxgroupgap\":0,\"boxgap\":0,\"width\":1000,\"height\":500,\"paper_bgcolor\":\"rgba(0, 0, 0, 0)\",\"plot_bgcolor\":\"rgba(0, 0, 0, 0)\"},                        {\"responsive\": true}                    ).then(function(){\n",
       "                            \n",
       "var gd = document.getElementById('02bd5999-7647-42d6-969b-4ad840f342d1');\n",
       "var x = new MutationObserver(function (mutations, observer) {{\n",
       "        var display = window.getComputedStyle(gd).display;\n",
       "        if (!display || display === 'none') {{\n",
       "            console.log([gd, 'removed!']);\n",
       "            Plotly.purge(gd);\n",
       "            observer.disconnect();\n",
       "        }}\n",
       "}});\n",
       "\n",
       "// Listen for the removal of the full notebook cells\n",
       "var notebookContainer = gd.closest('#notebook-container');\n",
       "if (notebookContainer) {{\n",
       "    x.observe(notebookContainer, {childList: true});\n",
       "}}\n",
       "\n",
       "// Listen for the clearing of the current output cell\n",
       "var outputEl = gd.closest('.output');\n",
       "if (outputEl) {{\n",
       "    x.observe(outputEl, {childList: true});\n",
       "}}\n",
       "\n",
       "                        })                };                });            </script>        </div>"
      ]
     },
     "metadata": {},
     "output_type": "display_data"
    }
   ],
   "execution_count": 20
  },
  {
   "metadata": {
    "ExecuteTime": {
     "end_time": "2024-11-25T22:58:05.708898Z",
     "start_time": "2024-11-25T22:58:05.619837Z"
    }
   },
   "cell_type": "code",
   "source": [
    "offset_distribution_figure = ch_sdt.single_threshold_figure(\n",
    "    csdt_metrics.loc[(slice(None), [peyes.constants.D_PRIME_STR, peyes.constants.F1_STR], slice(None)), :],\n",
    "    peyes.constants.OFFSET_STR,\n",
    "    THRESHOLD,\n",
    "    GT1,\n",
    "    gt2=GT2,\n",
    "    show_other_gt=True,\n",
    "    share_x=True,\n",
    "    colors={k: v[1] for k, v in LABELER_PLOTTING_CONFIG.items()},\n",
    ")\n",
    "\n",
    "offset_distribution_figure.update_layout(\n",
    "    title=dict(text=\"saccade offsets\"),\n",
    "    width=1000, height=500,\n",
    "    paper_bgcolor='rgba(0, 0, 0, 0)',\n",
    "    plot_bgcolor='rgba(0, 0, 0, 0)',\n",
    "    margin=dict(l=10, r=10, b=10, t=10, pad=0),\n",
    ")\n",
    "offset_distribution_figure.layout.annotations = []   # remove subtitles\n",
    "\n",
    "offset_distribution_figure.show()"
   ],
   "id": "d7e67fb405632a8e",
   "outputs": [
    {
     "data": {
      "application/vnd.plotly.v1+json": {
       "data": [
        {
         "box": {
          "visible": true
         },
         "fillcolor": "#bab0ac",
         "legendgroup": "Other GT",
         "line": {
          "color": "black"
         },
         "meanline": {
          "visible": true
         },
         "name": "RA, Other GT",
         "opacity": 0.75,
         "scalegroup": "f1",
         "showlegend": true,
         "side": "positive",
         "spanmode": "hard",
         "x0": "Other GT",
         "y": [
          0.9019607843137256,
          0.7692307692307692,
          0.8571428571428571,
          0.7761194029850745,
          0.9841269841269841,
          0.9333333333333333,
          0.90625,
          0.9508196721311476,
          0.9259259259259259,
          0.9666666666666667,
          0.9302325581395349,
          0.761904761904762,
          0.9841269841269841,
          1.0
         ],
         "type": "violin",
         "xaxis": "x",
         "yaxis": "y"
        },
        {
         "box": {
          "visible": true
         },
         "fillcolor": "#E15F99",
         "legendgroup": "ivt",
         "line": {
          "color": "black"
         },
         "meanline": {
          "visible": true
         },
         "name": "RA, ivt",
         "opacity": 0.75,
         "scalegroup": "f1",
         "showlegend": true,
         "side": "positive",
         "spanmode": "hard",
         "x0": "ivt",
         "y": [
          0.7719298245614036,
          0.5454545454545454,
          0.7500000000000001,
          0.5538461538461538,
          0.6984126984126984,
          0.358974358974359,
          0.45977011494252873,
          0.5833333333333334,
          0.9666666666666667,
          0.8253968253968255,
          0.626865671641791,
          0.5757575757575758,
          0.955223880597015,
          0.8253968253968254,
          0.7083333333333333,
          0.27499999999999997,
          0.27272727272727276,
          0.25641025641025644,
          0.6376811594202899,
          0.5454545454545454
         ],
         "type": "violin",
         "xaxis": "x",
         "yaxis": "y"
        },
        {
         "box": {
          "visible": true
         },
         "fillcolor": "#1CA71C",
         "legendgroup": "ivvt",
         "line": {
          "color": "black"
         },
         "meanline": {
          "visible": true
         },
         "name": "RA, ivvt",
         "opacity": 0.75,
         "scalegroup": "f1",
         "showlegend": true,
         "side": "positive",
         "spanmode": "hard",
         "x0": "ivvt",
         "y": [
          0.7719298245614036,
          0.5454545454545454,
          0.7631578947368421,
          0.6,
          0.6865671641791046,
          0.32727272727272727,
          0.45871559633027525,
          0.463768115942029,
          0.9836065573770492,
          0.8656716417910447,
          0.6666666666666666,
          0.5675675675675677,
          0.9142857142857143,
          0.782608695652174,
          0.7450980392156864,
          0.3333333333333333,
          0.282051282051282,
          0.2105263157894737,
          0.6216216216216216,
          0.6551724137931035
         ],
         "type": "violin",
         "xaxis": "x",
         "yaxis": "y"
        },
        {
         "box": {
          "visible": true
         },
         "fillcolor": "#FB0D0D",
         "legendgroup": "idt",
         "line": {
          "color": "black"
         },
         "meanline": {
          "visible": true
         },
         "name": "RA, idt",
         "opacity": 0.75,
         "scalegroup": "f1",
         "showlegend": true,
         "side": "positive",
         "spanmode": "hard",
         "x0": "idt",
         "y": [
          0.19047619047619052,
          0.23728813559322037,
          0.18604651162790697,
          0.043478260869565216,
          0.18604651162790697,
          0.10714285714285714,
          0.2222222222222222,
          0.5909090909090909,
          0.43478260869565216,
          0.08695652173913043,
          0.0425531914893617,
          0.0425531914893617,
          0.24242424242424243,
          0.1923076923076923,
          0.13043478260869565,
          0.32,
          0.03773584905660377,
          0.5454545454545455
         ],
         "type": "violin",
         "xaxis": "x",
         "yaxis": "y"
        },
        {
         "box": {
          "visible": true
         },
         "fillcolor": "#DA16FF",
         "legendgroup": "idvt",
         "line": {
          "color": "black"
         },
         "meanline": {
          "visible": true
         },
         "name": "RA, idvt",
         "opacity": 0.75,
         "scalegroup": "f1",
         "showlegend": true,
         "side": "positive",
         "spanmode": "hard",
         "x0": "idvt",
         "y": [
          0.19047619047619052,
          0.23728813559322037,
          0.18604651162790697,
          0.08333333333333333,
          0.18181818181818182,
          0.10526315789473685,
          0.2162162162162162,
          0.5909090909090909,
          0.43478260869565216,
          0.08695652173913043,
          0.08333333333333334,
          0.0425531914893617,
          0.24242424242424243,
          0.22641509433962265,
          0.125,
          0.19230769230769232,
          0.03773584905660377,
          0.5454545454545455
         ],
         "type": "violin",
         "xaxis": "x",
         "yaxis": "y"
        },
        {
         "box": {
          "visible": true
         },
         "fillcolor": "#222A2A",
         "legendgroup": "engbert",
         "line": {
          "color": "black"
         },
         "meanline": {
          "visible": true
         },
         "name": "RA, engbert",
         "opacity": 0.75,
         "scalegroup": "f1",
         "showlegend": true,
         "side": "positive",
         "spanmode": "hard",
         "x0": "engbert",
         "y": [
          0.46428571428571425,
          0.5454545454545455,
          0.611111111111111,
          0.17647058823529413,
          0.3278688524590164,
          0.45070422535211263,
          0.505263157894737,
          0.44,
          0.9508196721311476,
          0.88,
          0.2,
          0.31746031746031744,
          0.6933333333333334,
          0.5970149253731343,
          0.5454545454545454,
          0.19047619047619047,
          0.12121212121212122,
          0.2972972972972973,
          0.5142857142857143,
          0.47457627118644063
         ],
         "type": "violin",
         "xaxis": "x",
         "yaxis": "y"
        },
        {
         "box": {
          "visible": true
         },
         "fillcolor": "#B68100",
         "legendgroup": "nh",
         "line": {
          "color": "black"
         },
         "meanline": {
          "visible": true
         },
         "name": "RA, nh",
         "opacity": 0.75,
         "scalegroup": "f1",
         "showlegend": true,
         "side": "positive",
         "spanmode": "hard",
         "x0": "nh",
         "y": [
          0.5882352941176471,
          0.5,
          0.05882352941176471,
          0.4918032786885246,
          0.3934426229508197,
          0.6153846153846153,
          0.24390243902439024,
          0.46511627906976744,
          0.9333333333333333,
          0.8985507246376812,
          0.5161290322580645,
          0.6333333333333333,
          0.8615384615384615,
          0.6885245901639343,
          0.6415094339622641,
          0.7924528301886793,
          0.13793103448275862,
          0.5777777777777778,
          0.1176470588235294,
          0.5818181818181818
         ],
         "type": "violin",
         "xaxis": "x",
         "yaxis": "y"
        },
        {
         "box": {
          "visible": true
         },
         "fillcolor": "#750D86",
         "legendgroup": "remodnav",
         "line": {
          "color": "black"
         },
         "meanline": {
          "visible": true
         },
         "name": "RA, remodnav",
         "opacity": 0.75,
         "scalegroup": "f1",
         "showlegend": true,
         "side": "positive",
         "spanmode": "hard",
         "x0": "remodnav",
         "y": [
          0.15789473684210525,
          0.25,
          0.3333333333333333,
          0.21276595744680848,
          0.1395348837209302,
          0.05405405405405406,
          0.186046511627907,
          0.07407407407407407,
          0.5909090909090909,
          0.47058823529411753,
          0.12765957446808507,
          0.1951219512195122,
          0.30769230769230765,
          0.21739130434782605,
          0.3,
          0.04347826086956522,
          0.07692307692307693,
          0.07692307692307691,
          0.17777777777777778,
          0.5238095238095238
         ],
         "type": "violin",
         "xaxis": "x",
         "yaxis": "y"
        },
        {
         "box": {
          "visible": true
         },
         "fillcolor": "#bab0ac",
         "legendgroup": "Other GT",
         "line": {
          "color": "black"
         },
         "meanline": {
          "visible": true
         },
         "name": "MN, Other GT",
         "opacity": 0.25,
         "scalegroup": "f1",
         "showlegend": true,
         "side": "negative",
         "spanmode": "hard",
         "x0": "Other GT",
         "y": [
          0.9019607843137256,
          0.7692307692307692,
          0.8571428571428571,
          0.7761194029850745,
          0.9841269841269841,
          0.9333333333333333,
          0.90625,
          0.9508196721311476,
          0.9259259259259259,
          0.9666666666666667,
          0.9302325581395349,
          0.761904761904762,
          0.9841269841269841,
          1.0
         ],
         "type": "violin",
         "xaxis": "x",
         "yaxis": "y"
        },
        {
         "box": {
          "visible": true
         },
         "fillcolor": "#E15F99",
         "legendgroup": "ivt",
         "line": {
          "color": "black"
         },
         "meanline": {
          "visible": true
         },
         "name": "MN, ivt",
         "opacity": 0.25,
         "scalegroup": "f1",
         "showlegend": true,
         "side": "negative",
         "spanmode": "hard",
         "x0": "ivt",
         "y": [
          0.8620689655172413,
          0.6,
          0.30769230769230765,
          0.409090909090909,
          0.6470588235294118,
          0.5151515151515152,
          0.8955223880597014,
          0.870967741935484,
          0.6521739130434783,
          0.225,
          0.208955223880597,
          0.175,
          0.6,
          0.5454545454545454
         ],
         "type": "violin",
         "xaxis": "x",
         "yaxis": "y"
        },
        {
         "box": {
          "visible": true
         },
         "fillcolor": "#1CA71C",
         "legendgroup": "ivvt",
         "line": {
          "color": "black"
         },
         "meanline": {
          "visible": true
         },
         "name": "MN, ivvt",
         "opacity": 0.25,
         "scalegroup": "f1",
         "showlegend": true,
         "side": "negative",
         "spanmode": "hard",
         "x0": "ivvt",
         "y": [
          0.8620689655172413,
          0.6,
          0.29090909090909095,
          0.4181818181818182,
          0.6835443037974684,
          0.5135135135135135,
          0.8571428571428572,
          0.8235294117647058,
          0.693877551020408,
          0.29166666666666663,
          0.2278481012658228,
          0.1443298969072165,
          0.5866666666666667,
          0.6551724137931035
         ],
         "type": "violin",
         "xaxis": "x",
         "yaxis": "y"
        },
        {
         "box": {
          "visible": true
         },
         "fillcolor": "#FB0D0D",
         "legendgroup": "idt",
         "line": {
          "color": "black"
         },
         "meanline": {
          "visible": true
         },
         "name": "MN, idt",
         "opacity": 0.25,
         "scalegroup": "f1",
         "showlegend": true,
         "side": "negative",
         "spanmode": "hard",
         "x0": "idt",
         "y": [
          0.04651162790697675,
          0.32558139534883723,
          0.3859649122807018,
          0.12765957446808512,
          0.21276595744680848,
          0.03773584905660377,
          0.04347826086956522,
          0.32258064516129037,
          0.2692307692307693,
          0.21276595744680854,
          0.2692307692307693,
          0.1111111111111111,
          0.5454545454545455
         ],
         "type": "violin",
         "xaxis": "x",
         "yaxis": "y"
        },
        {
         "box": {
          "visible": true
         },
         "fillcolor": "#DA16FF",
         "legendgroup": "idvt",
         "line": {
          "color": "black"
         },
         "meanline": {
          "visible": true
         },
         "name": "MN, idvt",
         "opacity": 0.25,
         "scalegroup": "f1",
         "showlegend": true,
         "side": "negative",
         "spanmode": "hard",
         "x0": "idvt",
         "y": [
          0.04651162790697675,
          0.3181818181818182,
          0.3793103448275862,
          0.12765957446808512,
          0.25,
          0.037037037037037035,
          0.04347826086956522,
          0.32258064516129037,
          0.30188679245283023,
          0.20408163265306123,
          0.2962962962962963,
          0.1111111111111111,
          0.5454545454545455
         ],
         "type": "violin",
         "xaxis": "x",
         "yaxis": "y"
        },
        {
         "box": {
          "visible": true
         },
         "fillcolor": "#222A2A",
         "legendgroup": "engbert",
         "line": {
          "color": "black"
         },
         "meanline": {
          "visible": true
         },
         "name": "MN, engbert",
         "opacity": 0.25,
         "scalegroup": "f1",
         "showlegend": true,
         "side": "negative",
         "spanmode": "hard",
         "x0": "engbert",
         "y": [
          0.42105263157894735,
          0.3809523809523809,
          0.3943661971830986,
          0.4375,
          0.19718309859154928,
          0.31746031746031744,
          0.6666666666666666,
          0.5454545454545454,
          0.4528301886792453,
          0.14285714285714285,
          0.11940298507462685,
          0.21052631578947367,
          0.47887323943661975,
          0.4067796610169491
         ],
         "type": "violin",
         "xaxis": "x",
         "yaxis": "y"
        },
        {
         "box": {
          "visible": true
         },
         "fillcolor": "#B68100",
         "legendgroup": "nh",
         "line": {
          "color": "black"
         },
         "meanline": {
          "visible": true
         },
         "name": "MN, nh",
         "opacity": 0.25,
         "scalegroup": "f1",
         "showlegend": true,
         "side": "negative",
         "spanmode": "hard",
         "x0": "nh",
         "y": [
          0.6153846153846154,
          0.4,
          0.4615384615384615,
          0.2857142857142857,
          0.5079365079365079,
          0.6,
          0.8307692307692308,
          0.6,
          0.5098039215686274,
          0.7547169811320754,
          0.06666666666666667,
          0.5531914893617023,
          0.11428571428571428,
          0.4727272727272727
         ],
         "type": "violin",
         "xaxis": "x",
         "yaxis": "y"
        },
        {
         "box": {
          "visible": true
         },
         "fillcolor": "#750D86",
         "legendgroup": "remodnav",
         "line": {
          "color": "black"
         },
         "meanline": {
          "visible": true
         },
         "name": "MN, remodnav",
         "opacity": 0.25,
         "scalegroup": "f1",
         "showlegend": true,
         "side": "negative",
         "spanmode": "hard",
         "x0": "remodnav",
         "y": [
          0.20512820512820515,
          0.2857142857142857,
          0.0909090909090909,
          0.125,
          0.1951219512195122,
          0.358974358974359,
          0.17777777777777776,
          0.2631578947368421,
          0.04347826086956522,
          0.07407407407407407,
          0.17391304347826086,
          0.5238095238095238
         ],
         "type": "violin",
         "xaxis": "x",
         "yaxis": "y"
        },
        {
         "box": {
          "visible": true
         },
         "fillcolor": "#bab0ac",
         "legendgroup": "Other GT",
         "line": {
          "color": "black"
         },
         "meanline": {
          "visible": true
         },
         "name": "RA, Other GT",
         "opacity": 0.75,
         "scalegroup": "d_prime",
         "showlegend": false,
         "side": "positive",
         "spanmode": "hard",
         "x0": "Other GT",
         "y": [
          3.862236967929786,
          3.4081913872337393,
          3.416975978003244,
          2.873443423380129,
          5.456697951706454,
          4.096557789647024,
          3.7692531423086395,
          4.342510897118669,
          3.7249392530910415,
          4.65932272109791,
          4.270938031527921,
          3.0433487225365092,
          5.456697951706454,
          5.091656382773711
         ],
         "type": "violin",
         "xaxis": "x2",
         "yaxis": "y2"
        },
        {
         "box": {
          "visible": true
         },
         "fillcolor": "#E15F99",
         "legendgroup": "ivt",
         "line": {
          "color": "black"
         },
         "meanline": {
          "visible": true
         },
         "name": "RA, ivt",
         "opacity": 0.75,
         "scalegroup": "d_prime",
         "showlegend": false,
         "side": "positive",
         "spanmode": "hard",
         "x0": "ivt",
         "y": [
          3.164184385808966,
          2.662230195508171,
          2.8112418219990745,
          2.0023415992244424,
          2.608698335296606,
          1.374679694187976,
          1.6684604596576076,
          2.3102546496159557,
          4.312099189420545,
          2.8592051942026666,
          2.265885292168765,
          2.089689323176438,
          5.202749190303056,
          3.1808098510020364,
          2.3352617125852144,
          0.987360920820693,
          1.2033247730486702,
          1.2226113873241302,
          2.3283523309692074,
          1.5172860424548253
         ],
         "type": "violin",
         "xaxis": "x2",
         "yaxis": "y2"
        },
        {
         "box": {
          "visible": true
         },
         "fillcolor": "#1CA71C",
         "legendgroup": "ivvt",
         "line": {
          "color": "black"
         },
         "meanline": {
          "visible": true
         },
         "name": "RA, ivvt",
         "opacity": 0.75,
         "scalegroup": "d_prime",
         "showlegend": false,
         "side": "positive",
         "spanmode": "hard",
         "x0": "ivvt",
         "y": [
          3.164184385808966,
          2.662230195508171,
          3.0034462075324275,
          2.221181444734744,
          2.6247715419659725,
          1.4007086109643512,
          1.8671819661487414,
          2.158657779271398,
          4.803546889825931,
          2.992385296538358,
          2.6368455796904815,
          2.128780527772439,
          4.983868524643366,
          3.073477536928277,
          2.4059991360811277,
          1.2684374847319932,
          1.3055422300067254,
          1.0366133107514188,
          2.3205109352889663,
          1.9558463295376964
         ],
         "type": "violin",
         "xaxis": "x2",
         "yaxis": "y2"
        },
        {
         "box": {
          "visible": true
         },
         "fillcolor": "#FB0D0D",
         "legendgroup": "idt",
         "line": {
          "color": "black"
         },
         "meanline": {
          "visible": true
         },
         "name": "RA, idt",
         "opacity": 0.75,
         "scalegroup": "d_prime",
         "showlegend": false,
         "side": "positive",
         "spanmode": "hard",
         "x0": "idt",
         "y": [
          0.8813387052538866,
          -0.23085383339098842,
          0.8944250910185778,
          0.9177453451241466,
          -0.040566562783377114,
          0.8779746217345434,
          0.3338364429138163,
          1.0760508544189162,
          2.310290548816525,
          1.9002352353145597,
          0.3516298436219121,
          -0.05691873147623472,
          -1.220993238317687,
          -0.04320553543576011,
          1.4155019373695794,
          0.7816726372190986,
          0.5686779648875737,
          1.3842294039571703,
          -0.20091933615156288,
          1.7073115964230758
         ],
         "type": "violin",
         "xaxis": "x2",
         "yaxis": "y2"
        },
        {
         "box": {
          "visible": true
         },
         "fillcolor": "#DA16FF",
         "legendgroup": "idvt",
         "line": {
          "color": "black"
         },
         "meanline": {
          "visible": true
         },
         "name": "RA, idvt",
         "opacity": 0.75,
         "scalegroup": "d_prime",
         "showlegend": false,
         "side": "positive",
         "spanmode": "hard",
         "x0": "idvt",
         "y": [
          0.8813387052538866,
          -0.23085383339098842,
          0.8944250910185778,
          0.9177453451241466,
          0.2665500205783795,
          0.8402821819338604,
          0.31030500805043437,
          1.0384545503054754,
          2.310290548816525,
          1.9002352353145597,
          0.3516298436219121,
          0.275909958295655,
          -1.2428685108461386,
          -0.04320553543576011,
          1.4155019373695794,
          0.9074729697478855,
          0.5259609677442094,
          0.8613383867728505,
          -0.20091933615156288,
          1.7073115964230758
         ],
         "type": "violin",
         "xaxis": "x2",
         "yaxis": "y2"
        },
        {
         "box": {
          "visible": true
         },
         "fillcolor": "#222A2A",
         "legendgroup": "engbert",
         "line": {
          "color": "black"
         },
         "meanline": {
          "visible": true
         },
         "name": "RA, engbert",
         "opacity": 0.75,
         "scalegroup": "d_prime",
         "showlegend": false,
         "side": "positive",
         "spanmode": "hard",
         "x0": "engbert",
         "y": [
          1.7779601186966736,
          3.1180501060598114,
          2.1765176726956783,
          0.5939027906843476,
          1.2280284864168642,
          1.7063609466539742,
          1.9431339038224649,
          1.791479919446603,
          4.054035500650535,
          3.245825396379677,
          0.6815399415046546,
          1.1736527157689405,
          2.633941041850681,
          2.148199106787624,
          1.507249450696738,
          0.611044515436296,
          0.4353388939454643,
          1.4117674332680472,
          1.8512211838823325,
          1.2389024732738665
         ],
         "type": "violin",
         "xaxis": "x2",
         "yaxis": "y2"
        },
        {
         "box": {
          "visible": true
         },
         "fillcolor": "#B68100",
         "legendgroup": "nh",
         "line": {
          "color": "black"
         },
         "meanline": {
          "visible": true
         },
         "name": "RA, nh",
         "opacity": 0.75,
         "scalegroup": "d_prime",
         "showlegend": false,
         "side": "positive",
         "spanmode": "hard",
         "x0": "nh",
         "y": [
          2.2019125897655134,
          2.4635503754145516,
          1.001546535225833,
          1.77699590433968,
          1.4556523663667582,
          2.259126761637854,
          1.420508181328983,
          1.8548802997669933,
          3.7212068108786447,
          3.2478972157384214,
          1.8458312616312953,
          2.2842126160354086,
          3.4118649258606464,
          2.4880255700602874,
          1.89668709097522,
          3.1199461244383206,
          0.8914861685189321,
          2.3012887920140135,
          1.3066525779301121,
          1.6549827083659936
         ],
         "type": "violin",
         "xaxis": "x2",
         "yaxis": "y2"
        },
        {
         "box": {
          "visible": true
         },
         "fillcolor": "#750D86",
         "legendgroup": "remodnav",
         "line": {
          "color": "black"
         },
         "meanline": {
          "visible": true
         },
         "name": "RA, remodnav",
         "opacity": 0.75,
         "scalegroup": "d_prime",
         "showlegend": false,
         "side": "positive",
         "spanmode": "hard",
         "x0": "remodnav",
         "y": [
          0.8142108016767855,
          1.787953229338177,
          1.4300413109147279,
          0.9383743787664228,
          0.682387679805244,
          0.27637130110595853,
          1.0209114415553109,
          0.6026699309392405,
          2.310290548816525,
          1.5171735091103717,
          0.5694055698527669,
          1.0205652523800457,
          1.9366756381069257,
          0.9940557560437275,
          0.9698676599585254,
          -0.027352965279486607,
          0.6869273176728163,
          0.6274120294917354,
          0.8522467751392044,
          1.710613036472672
         ],
         "type": "violin",
         "xaxis": "x2",
         "yaxis": "y2"
        },
        {
         "box": {
          "visible": true
         },
         "fillcolor": "#bab0ac",
         "legendgroup": "Other GT",
         "line": {
          "color": "black"
         },
         "meanline": {
          "visible": true
         },
         "name": "MN, Other GT",
         "opacity": 0.25,
         "scalegroup": "d_prime",
         "showlegend": false,
         "side": "negative",
         "spanmode": "hard",
         "x0": "Other GT",
         "y": [
          3.797080853873922,
          3.5817824584180404,
          3.416975978003244,
          2.8491321028805436,
          4.682849945470158,
          4.096557789647024,
          3.7692531423086395,
          4.4293864794189135,
          3.837528380969118,
          4.65932272109791,
          4.1663732265042235,
          2.9591998518190055,
          4.682849945470158,
          5.091656382773711
         ],
         "type": "violin",
         "xaxis": "x2",
         "yaxis": "y2"
        },
        {
         "box": {
          "visible": true
         },
         "fillcolor": "#E15F99",
         "legendgroup": "ivt",
         "line": {
          "color": "black"
         },
         "meanline": {
          "visible": true
         },
         "name": "MN, ivt",
         "opacity": 0.25,
         "scalegroup": "d_prime",
         "showlegend": false,
         "side": "negative",
         "spanmode": "hard",
         "x0": "ivt",
         "y": [
          3.903935106848807,
          2.8429557363954228,
          1.1649651985975085,
          1.4408263824612089,
          2.3242430129770995,
          1.864674936814809,
          3.795636089837185,
          3.544882681803113,
          2.044192329424298,
          0.7755912931168392,
          0.8796884254254138,
          0.7112196064122493,
          2.14904454815353,
          1.5172860424548253
         ],
         "type": "violin",
         "xaxis": "x2",
         "yaxis": "y2"
        },
        {
         "box": {
          "visible": true
         },
         "fillcolor": "#1CA71C",
         "legendgroup": "ivvt",
         "line": {
          "color": "black"
         },
         "meanline": {
          "visible": true
         },
         "name": "MN, ivvt",
         "opacity": 0.25,
         "scalegroup": "d_prime",
         "showlegend": false,
         "side": "negative",
         "spanmode": "hard",
         "x0": "ivvt",
         "y": [
          3.903935106848807,
          2.8429557363954228,
          1.1946965232883389,
          1.6017777850876114,
          2.6800405069696662,
          1.9035935094338454,
          3.60936632277839,
          3.4853126664359264,
          2.1632053485206386,
          1.0775834882969986,
          0.9897675141982012,
          0.5315549235760968,
          2.1353055066619526,
          1.9558463295376964
         ],
         "type": "violin",
         "xaxis": "x2",
         "yaxis": "y2"
        },
        {
         "box": {
          "visible": true
         },
         "fillcolor": "#FB0D0D",
         "legendgroup": "idt",
         "line": {
          "color": "black"
         },
         "meanline": {
          "visible": true
         },
         "name": "MN, idt",
         "opacity": 0.25,
         "scalegroup": "d_prime",
         "showlegend": false,
         "side": "negative",
         "spanmode": "hard",
         "x0": "idt",
         "y": [
          0.012485333824656664,
          -0.2304693371463089,
          1.4046246416490673,
          1.443891025326622,
          0.5857169110482956,
          0.9383743787664228,
          -0.19268152970156738,
          -0.027450405739186223,
          1.68877679427036,
          1.0786483796547839,
          0.9332144094921843,
          1.1408022131414386,
          0.3765226925956342,
          1.7073115964230758
         ],
         "type": "violin",
         "xaxis": "x2",
         "yaxis": "y2"
        },
        {
         "box": {
          "visible": true
         },
         "fillcolor": "#DA16FF",
         "legendgroup": "idvt",
         "line": {
          "color": "black"
         },
         "meanline": {
          "visible": true
         },
         "name": "MN, idvt",
         "opacity": 0.25,
         "scalegroup": "d_prime",
         "showlegend": false,
         "side": "negative",
         "spanmode": "hard",
         "x0": "idvt",
         "y": [
          0.012485333824656664,
          -0.2304693371463089,
          1.3559910356072824,
          1.408645300854484,
          0.5857169110482956,
          1.0641747112952098,
          -0.21620277187436843,
          -0.027450405739186223,
          1.68877679427036,
          1.1836359473263403,
          0.8872627675914652,
          1.2438370577803366,
          0.3765226925956342,
          1.7073115964230758
         ],
         "type": "violin",
         "xaxis": "x2",
         "yaxis": "y2"
        },
        {
         "box": {
          "visible": true
         },
         "fillcolor": "#222A2A",
         "legendgroup": "engbert",
         "line": {
          "color": "black"
         },
         "meanline": {
          "visible": true
         },
         "name": "MN, engbert",
         "opacity": 0.25,
         "scalegroup": "d_prime",
         "showlegend": false,
         "side": "negative",
         "spanmode": "hard",
         "x0": "engbert",
         "y": [
          1.6046791918628458,
          2.397867886005459,
          1.4896176962096217,
          1.5939319193424784,
          0.656588001241802,
          1.1736527157689405,
          2.496498660578116,
          1.975647985796717,
          1.205578062704926,
          0.36739116744213296,
          0.40172225766777714,
          0.8959710927521438,
          1.702297456567238,
          0.9891047376702009
         ],
         "type": "violin",
         "xaxis": "x2",
         "yaxis": "y2"
        },
        {
         "box": {
          "visible": true
         },
         "fillcolor": "#B68100",
         "legendgroup": "nh",
         "line": {
          "color": "black"
         },
         "meanline": {
          "visible": true
         },
         "name": "MN, nh",
         "opacity": 0.25,
         "scalegroup": "d_prime",
         "showlegend": false,
         "side": "negative",
         "spanmode": "hard",
         "x0": "nh",
         "y": [
          2.2815900460520613,
          2.2141513894908393,
          1.7278403360192967,
          1.6633836129827584,
          1.8043142731147126,
          2.1591430480039238,
          3.200699666366021,
          2.1591430480039238,
          1.4245209204529439,
          2.8837502482218706,
          0.44805264675819245,
          2.143840023052158,
          1.2897016527732554,
          1.2517256111298118
         ],
         "type": "violin",
         "xaxis": "x2",
         "yaxis": "y2"
        },
        {
         "box": {
          "visible": true
         },
         "fillcolor": "#750D86",
         "legendgroup": "remodnav",
         "line": {
          "color": "black"
         },
         "meanline": {
          "visible": true
         },
         "name": "MN, remodnav",
         "opacity": 0.25,
         "scalegroup": "d_prime",
         "showlegend": false,
         "side": "negative",
         "spanmode": "hard",
         "x0": "remodnav",
         "y": [
          1.0123577520437061,
          1.8870194739233654,
          -0.8578922679770136,
          0.5086580169211947,
          0.5504984172475571,
          1.0205652523800457,
          2.076355322529873,
          0.8327461723108276,
          0.8259431078843027,
          -0.027352965279486607,
          0.6638362258360044,
          -0.7052113991366542,
          0.8318699121565682,
          1.710613036472672
         ],
         "type": "violin",
         "xaxis": "x2",
         "yaxis": "y2"
        }
       ],
       "layout": {
        "template": {
         "data": {
          "histogram2dcontour": [
           {
            "type": "histogram2dcontour",
            "colorbar": {
             "outlinewidth": 0,
             "ticks": ""
            },
            "colorscale": [
             [
              0.0,
              "#0d0887"
             ],
             [
              0.1111111111111111,
              "#46039f"
             ],
             [
              0.2222222222222222,
              "#7201a8"
             ],
             [
              0.3333333333333333,
              "#9c179e"
             ],
             [
              0.4444444444444444,
              "#bd3786"
             ],
             [
              0.5555555555555556,
              "#d8576b"
             ],
             [
              0.6666666666666666,
              "#ed7953"
             ],
             [
              0.7777777777777778,
              "#fb9f3a"
             ],
             [
              0.8888888888888888,
              "#fdca26"
             ],
             [
              1.0,
              "#f0f921"
             ]
            ]
           }
          ],
          "choropleth": [
           {
            "type": "choropleth",
            "colorbar": {
             "outlinewidth": 0,
             "ticks": ""
            }
           }
          ],
          "histogram2d": [
           {
            "type": "histogram2d",
            "colorbar": {
             "outlinewidth": 0,
             "ticks": ""
            },
            "colorscale": [
             [
              0.0,
              "#0d0887"
             ],
             [
              0.1111111111111111,
              "#46039f"
             ],
             [
              0.2222222222222222,
              "#7201a8"
             ],
             [
              0.3333333333333333,
              "#9c179e"
             ],
             [
              0.4444444444444444,
              "#bd3786"
             ],
             [
              0.5555555555555556,
              "#d8576b"
             ],
             [
              0.6666666666666666,
              "#ed7953"
             ],
             [
              0.7777777777777778,
              "#fb9f3a"
             ],
             [
              0.8888888888888888,
              "#fdca26"
             ],
             [
              1.0,
              "#f0f921"
             ]
            ]
           }
          ],
          "heatmap": [
           {
            "type": "heatmap",
            "colorbar": {
             "outlinewidth": 0,
             "ticks": ""
            },
            "colorscale": [
             [
              0.0,
              "#0d0887"
             ],
             [
              0.1111111111111111,
              "#46039f"
             ],
             [
              0.2222222222222222,
              "#7201a8"
             ],
             [
              0.3333333333333333,
              "#9c179e"
             ],
             [
              0.4444444444444444,
              "#bd3786"
             ],
             [
              0.5555555555555556,
              "#d8576b"
             ],
             [
              0.6666666666666666,
              "#ed7953"
             ],
             [
              0.7777777777777778,
              "#fb9f3a"
             ],
             [
              0.8888888888888888,
              "#fdca26"
             ],
             [
              1.0,
              "#f0f921"
             ]
            ]
           }
          ],
          "heatmapgl": [
           {
            "type": "heatmapgl",
            "colorbar": {
             "outlinewidth": 0,
             "ticks": ""
            },
            "colorscale": [
             [
              0.0,
              "#0d0887"
             ],
             [
              0.1111111111111111,
              "#46039f"
             ],
             [
              0.2222222222222222,
              "#7201a8"
             ],
             [
              0.3333333333333333,
              "#9c179e"
             ],
             [
              0.4444444444444444,
              "#bd3786"
             ],
             [
              0.5555555555555556,
              "#d8576b"
             ],
             [
              0.6666666666666666,
              "#ed7953"
             ],
             [
              0.7777777777777778,
              "#fb9f3a"
             ],
             [
              0.8888888888888888,
              "#fdca26"
             ],
             [
              1.0,
              "#f0f921"
             ]
            ]
           }
          ],
          "contourcarpet": [
           {
            "type": "contourcarpet",
            "colorbar": {
             "outlinewidth": 0,
             "ticks": ""
            }
           }
          ],
          "contour": [
           {
            "type": "contour",
            "colorbar": {
             "outlinewidth": 0,
             "ticks": ""
            },
            "colorscale": [
             [
              0.0,
              "#0d0887"
             ],
             [
              0.1111111111111111,
              "#46039f"
             ],
             [
              0.2222222222222222,
              "#7201a8"
             ],
             [
              0.3333333333333333,
              "#9c179e"
             ],
             [
              0.4444444444444444,
              "#bd3786"
             ],
             [
              0.5555555555555556,
              "#d8576b"
             ],
             [
              0.6666666666666666,
              "#ed7953"
             ],
             [
              0.7777777777777778,
              "#fb9f3a"
             ],
             [
              0.8888888888888888,
              "#fdca26"
             ],
             [
              1.0,
              "#f0f921"
             ]
            ]
           }
          ],
          "surface": [
           {
            "type": "surface",
            "colorbar": {
             "outlinewidth": 0,
             "ticks": ""
            },
            "colorscale": [
             [
              0.0,
              "#0d0887"
             ],
             [
              0.1111111111111111,
              "#46039f"
             ],
             [
              0.2222222222222222,
              "#7201a8"
             ],
             [
              0.3333333333333333,
              "#9c179e"
             ],
             [
              0.4444444444444444,
              "#bd3786"
             ],
             [
              0.5555555555555556,
              "#d8576b"
             ],
             [
              0.6666666666666666,
              "#ed7953"
             ],
             [
              0.7777777777777778,
              "#fb9f3a"
             ],
             [
              0.8888888888888888,
              "#fdca26"
             ],
             [
              1.0,
              "#f0f921"
             ]
            ]
           }
          ],
          "mesh3d": [
           {
            "type": "mesh3d",
            "colorbar": {
             "outlinewidth": 0,
             "ticks": ""
            }
           }
          ],
          "scatter": [
           {
            "marker": {
             "line": {
              "color": "#283442"
             }
            },
            "type": "scatter"
           }
          ],
          "parcoords": [
           {
            "type": "parcoords",
            "line": {
             "colorbar": {
              "outlinewidth": 0,
              "ticks": ""
             }
            }
           }
          ],
          "scatterpolargl": [
           {
            "type": "scatterpolargl",
            "marker": {
             "colorbar": {
              "outlinewidth": 0,
              "ticks": ""
             }
            }
           }
          ],
          "bar": [
           {
            "error_x": {
             "color": "#f2f5fa"
            },
            "error_y": {
             "color": "#f2f5fa"
            },
            "marker": {
             "line": {
              "color": "rgb(17,17,17)",
              "width": 0.5
             },
             "pattern": {
              "fillmode": "overlay",
              "size": 10,
              "solidity": 0.2
             }
            },
            "type": "bar"
           }
          ],
          "scattergeo": [
           {
            "type": "scattergeo",
            "marker": {
             "colorbar": {
              "outlinewidth": 0,
              "ticks": ""
             }
            }
           }
          ],
          "scatterpolar": [
           {
            "type": "scatterpolar",
            "marker": {
             "colorbar": {
              "outlinewidth": 0,
              "ticks": ""
             }
            }
           }
          ],
          "histogram": [
           {
            "marker": {
             "pattern": {
              "fillmode": "overlay",
              "size": 10,
              "solidity": 0.2
             }
            },
            "type": "histogram"
           }
          ],
          "scattergl": [
           {
            "marker": {
             "line": {
              "color": "#283442"
             }
            },
            "type": "scattergl"
           }
          ],
          "scatter3d": [
           {
            "type": "scatter3d",
            "line": {
             "colorbar": {
              "outlinewidth": 0,
              "ticks": ""
             }
            },
            "marker": {
             "colorbar": {
              "outlinewidth": 0,
              "ticks": ""
             }
            }
           }
          ],
          "scattermapbox": [
           {
            "type": "scattermapbox",
            "marker": {
             "colorbar": {
              "outlinewidth": 0,
              "ticks": ""
             }
            }
           }
          ],
          "scatterternary": [
           {
            "type": "scatterternary",
            "marker": {
             "colorbar": {
              "outlinewidth": 0,
              "ticks": ""
             }
            }
           }
          ],
          "scattercarpet": [
           {
            "type": "scattercarpet",
            "marker": {
             "colorbar": {
              "outlinewidth": 0,
              "ticks": ""
             }
            }
           }
          ],
          "carpet": [
           {
            "aaxis": {
             "endlinecolor": "#A2B1C6",
             "gridcolor": "#506784",
             "linecolor": "#506784",
             "minorgridcolor": "#506784",
             "startlinecolor": "#A2B1C6"
            },
            "baxis": {
             "endlinecolor": "#A2B1C6",
             "gridcolor": "#506784",
             "linecolor": "#506784",
             "minorgridcolor": "#506784",
             "startlinecolor": "#A2B1C6"
            },
            "type": "carpet"
           }
          ],
          "table": [
           {
            "cells": {
             "fill": {
              "color": "#506784"
             },
             "line": {
              "color": "rgb(17,17,17)"
             }
            },
            "header": {
             "fill": {
              "color": "#2a3f5f"
             },
             "line": {
              "color": "rgb(17,17,17)"
             }
            },
            "type": "table"
           }
          ],
          "barpolar": [
           {
            "marker": {
             "line": {
              "color": "rgb(17,17,17)",
              "width": 0.5
             },
             "pattern": {
              "fillmode": "overlay",
              "size": 10,
              "solidity": 0.2
             }
            },
            "type": "barpolar"
           }
          ],
          "pie": [
           {
            "automargin": true,
            "type": "pie"
           }
          ]
         },
         "layout": {
          "autotypenumbers": "strict",
          "colorway": [
           "#636efa",
           "#EF553B",
           "#00cc96",
           "#ab63fa",
           "#FFA15A",
           "#19d3f3",
           "#FF6692",
           "#B6E880",
           "#FF97FF",
           "#FECB52"
          ],
          "font": {
           "color": "#f2f5fa"
          },
          "hovermode": "closest",
          "hoverlabel": {
           "align": "left"
          },
          "paper_bgcolor": "rgb(17,17,17)",
          "plot_bgcolor": "rgb(17,17,17)",
          "polar": {
           "bgcolor": "rgb(17,17,17)",
           "angularaxis": {
            "gridcolor": "#506784",
            "linecolor": "#506784",
            "ticks": ""
           },
           "radialaxis": {
            "gridcolor": "#506784",
            "linecolor": "#506784",
            "ticks": ""
           }
          },
          "ternary": {
           "bgcolor": "rgb(17,17,17)",
           "aaxis": {
            "gridcolor": "#506784",
            "linecolor": "#506784",
            "ticks": ""
           },
           "baxis": {
            "gridcolor": "#506784",
            "linecolor": "#506784",
            "ticks": ""
           },
           "caxis": {
            "gridcolor": "#506784",
            "linecolor": "#506784",
            "ticks": ""
           }
          },
          "coloraxis": {
           "colorbar": {
            "outlinewidth": 0,
            "ticks": ""
           }
          },
          "colorscale": {
           "sequential": [
            [
             0.0,
             "#0d0887"
            ],
            [
             0.1111111111111111,
             "#46039f"
            ],
            [
             0.2222222222222222,
             "#7201a8"
            ],
            [
             0.3333333333333333,
             "#9c179e"
            ],
            [
             0.4444444444444444,
             "#bd3786"
            ],
            [
             0.5555555555555556,
             "#d8576b"
            ],
            [
             0.6666666666666666,
             "#ed7953"
            ],
            [
             0.7777777777777778,
             "#fb9f3a"
            ],
            [
             0.8888888888888888,
             "#fdca26"
            ],
            [
             1.0,
             "#f0f921"
            ]
           ],
           "sequentialminus": [
            [
             0.0,
             "#0d0887"
            ],
            [
             0.1111111111111111,
             "#46039f"
            ],
            [
             0.2222222222222222,
             "#7201a8"
            ],
            [
             0.3333333333333333,
             "#9c179e"
            ],
            [
             0.4444444444444444,
             "#bd3786"
            ],
            [
             0.5555555555555556,
             "#d8576b"
            ],
            [
             0.6666666666666666,
             "#ed7953"
            ],
            [
             0.7777777777777778,
             "#fb9f3a"
            ],
            [
             0.8888888888888888,
             "#fdca26"
            ],
            [
             1.0,
             "#f0f921"
            ]
           ],
           "diverging": [
            [
             0,
             "#8e0152"
            ],
            [
             0.1,
             "#c51b7d"
            ],
            [
             0.2,
             "#de77ae"
            ],
            [
             0.3,
             "#f1b6da"
            ],
            [
             0.4,
             "#fde0ef"
            ],
            [
             0.5,
             "#f7f7f7"
            ],
            [
             0.6,
             "#e6f5d0"
            ],
            [
             0.7,
             "#b8e186"
            ],
            [
             0.8,
             "#7fbc41"
            ],
            [
             0.9,
             "#4d9221"
            ],
            [
             1,
             "#276419"
            ]
           ]
          },
          "xaxis": {
           "gridcolor": "#283442",
           "linecolor": "#506784",
           "ticks": "",
           "title": {
            "standoff": 15
           },
           "zerolinecolor": "#283442",
           "automargin": true,
           "zerolinewidth": 2
          },
          "yaxis": {
           "gridcolor": "#283442",
           "linecolor": "#506784",
           "ticks": "",
           "title": {
            "standoff": 15
           },
           "zerolinecolor": "#283442",
           "automargin": true,
           "zerolinewidth": 2
          },
          "scene": {
           "xaxis": {
            "backgroundcolor": "rgb(17,17,17)",
            "gridcolor": "#506784",
            "linecolor": "#506784",
            "showbackground": true,
            "ticks": "",
            "zerolinecolor": "#C8D4E3",
            "gridwidth": 2
           },
           "yaxis": {
            "backgroundcolor": "rgb(17,17,17)",
            "gridcolor": "#506784",
            "linecolor": "#506784",
            "showbackground": true,
            "ticks": "",
            "zerolinecolor": "#C8D4E3",
            "gridwidth": 2
           },
           "zaxis": {
            "backgroundcolor": "rgb(17,17,17)",
            "gridcolor": "#506784",
            "linecolor": "#506784",
            "showbackground": true,
            "ticks": "",
            "zerolinecolor": "#C8D4E3",
            "gridwidth": 2
           }
          },
          "shapedefaults": {
           "line": {
            "color": "#f2f5fa"
           }
          },
          "annotationdefaults": {
           "arrowcolor": "#f2f5fa",
           "arrowhead": 0,
           "arrowwidth": 1
          },
          "geo": {
           "bgcolor": "rgb(17,17,17)",
           "landcolor": "rgb(17,17,17)",
           "subunitcolor": "#506784",
           "showland": true,
           "showlakes": true,
           "lakecolor": "rgb(17,17,17)"
          },
          "title": {
           "x": 0.05
          },
          "updatemenudefaults": {
           "bgcolor": "#506784",
           "borderwidth": 0
          },
          "sliderdefaults": {
           "bgcolor": "#C8D4E3",
           "borderwidth": 1,
           "bordercolor": "rgb(17,17,17)",
           "tickwidth": 0
          },
          "mapbox": {
           "style": "dark"
          }
         }
        },
        "xaxis": {
         "anchor": "y",
         "domain": [
          0.0,
          1.0
         ]
        },
        "yaxis": {
         "anchor": "x",
         "domain": [
          0.625,
          1.0
         ],
         "range": [
          0,
          1
         ]
        },
        "xaxis2": {
         "anchor": "y2",
         "domain": [
          0.0,
          1.0
         ]
        },
        "yaxis2": {
         "anchor": "x2",
         "domain": [
          0.0,
          0.375
         ]
        },
        "annotations": [
         {
          "font": {
           "size": 16
          },
          "showarrow": false,
          "text": "f1",
          "x": 0.5,
          "xanchor": "center",
          "xref": "paper",
          "y": 1.0,
          "yanchor": "bottom",
          "yref": "paper"
         },
         {
          "font": {
           "size": 16
          },
          "showarrow": false,
          "text": "d'",
          "x": 0.5,
          "xanchor": "center",
          "xref": "paper",
          "y": 0.375,
          "yanchor": "bottom",
          "yref": "paper"
         }
        ],
        "title": {
         "text": "saccade offsets"
        },
        "violinmode": "overlay",
        "boxmode": "group",
        "boxgroupgap": 0,
        "boxgap": 0,
        "width": 1000,
        "height": 500,
        "paper_bgcolor": "rgba(0, 0, 0, 0)",
        "plot_bgcolor": "rgba(0, 0, 0, 0)"
       },
       "config": {
        "plotlyServerURL": "https://plot.ly"
       }
      },
      "text/html": [
       "<div>                            <div id=\"2ca3f055-b329-43eb-8b2d-c05dd29cf210\" class=\"plotly-graph-div\" style=\"height:500px; width:1000px;\"></div>            <script type=\"text/javascript\">                require([\"plotly\"], function(Plotly) {                    window.PLOTLYENV=window.PLOTLYENV || {};                                    if (document.getElementById(\"2ca3f055-b329-43eb-8b2d-c05dd29cf210\")) {                    Plotly.newPlot(                        \"2ca3f055-b329-43eb-8b2d-c05dd29cf210\",                        [{\"box\":{\"visible\":true},\"fillcolor\":\"#bab0ac\",\"legendgroup\":\"Other GT\",\"line\":{\"color\":\"black\"},\"meanline\":{\"visible\":true},\"name\":\"RA, Other GT\",\"opacity\":0.75,\"scalegroup\":\"f1\",\"showlegend\":true,\"side\":\"positive\",\"spanmode\":\"hard\",\"x0\":\"Other GT\",\"y\":[0.9019607843137256,0.7692307692307692,0.8571428571428571,0.7761194029850745,0.9841269841269841,0.9333333333333333,0.90625,0.9508196721311476,0.9259259259259259,0.9666666666666667,0.9302325581395349,0.761904761904762,0.9841269841269841,1.0],\"type\":\"violin\",\"xaxis\":\"x\",\"yaxis\":\"y\"},{\"box\":{\"visible\":true},\"fillcolor\":\"#E15F99\",\"legendgroup\":\"ivt\",\"line\":{\"color\":\"black\"},\"meanline\":{\"visible\":true},\"name\":\"RA, ivt\",\"opacity\":0.75,\"scalegroup\":\"f1\",\"showlegend\":true,\"side\":\"positive\",\"spanmode\":\"hard\",\"x0\":\"ivt\",\"y\":[0.7719298245614036,0.5454545454545454,0.7500000000000001,0.5538461538461538,0.6984126984126984,0.358974358974359,0.45977011494252873,0.5833333333333334,0.9666666666666667,0.8253968253968255,0.626865671641791,0.5757575757575758,0.955223880597015,0.8253968253968254,0.7083333333333333,0.27499999999999997,0.27272727272727276,0.25641025641025644,0.6376811594202899,0.5454545454545454],\"type\":\"violin\",\"xaxis\":\"x\",\"yaxis\":\"y\"},{\"box\":{\"visible\":true},\"fillcolor\":\"#1CA71C\",\"legendgroup\":\"ivvt\",\"line\":{\"color\":\"black\"},\"meanline\":{\"visible\":true},\"name\":\"RA, ivvt\",\"opacity\":0.75,\"scalegroup\":\"f1\",\"showlegend\":true,\"side\":\"positive\",\"spanmode\":\"hard\",\"x0\":\"ivvt\",\"y\":[0.7719298245614036,0.5454545454545454,0.7631578947368421,0.6,0.6865671641791046,0.32727272727272727,0.45871559633027525,0.463768115942029,0.9836065573770492,0.8656716417910447,0.6666666666666666,0.5675675675675677,0.9142857142857143,0.782608695652174,0.7450980392156864,0.3333333333333333,0.282051282051282,0.2105263157894737,0.6216216216216216,0.6551724137931035],\"type\":\"violin\",\"xaxis\":\"x\",\"yaxis\":\"y\"},{\"box\":{\"visible\":true},\"fillcolor\":\"#FB0D0D\",\"legendgroup\":\"idt\",\"line\":{\"color\":\"black\"},\"meanline\":{\"visible\":true},\"name\":\"RA, idt\",\"opacity\":0.75,\"scalegroup\":\"f1\",\"showlegend\":true,\"side\":\"positive\",\"spanmode\":\"hard\",\"x0\":\"idt\",\"y\":[0.19047619047619052,0.23728813559322037,0.18604651162790697,0.043478260869565216,0.18604651162790697,0.10714285714285714,0.2222222222222222,0.5909090909090909,0.43478260869565216,0.08695652173913043,0.0425531914893617,0.0425531914893617,0.24242424242424243,0.1923076923076923,0.13043478260869565,0.32,0.03773584905660377,0.5454545454545455],\"type\":\"violin\",\"xaxis\":\"x\",\"yaxis\":\"y\"},{\"box\":{\"visible\":true},\"fillcolor\":\"#DA16FF\",\"legendgroup\":\"idvt\",\"line\":{\"color\":\"black\"},\"meanline\":{\"visible\":true},\"name\":\"RA, idvt\",\"opacity\":0.75,\"scalegroup\":\"f1\",\"showlegend\":true,\"side\":\"positive\",\"spanmode\":\"hard\",\"x0\":\"idvt\",\"y\":[0.19047619047619052,0.23728813559322037,0.18604651162790697,0.08333333333333333,0.18181818181818182,0.10526315789473685,0.2162162162162162,0.5909090909090909,0.43478260869565216,0.08695652173913043,0.08333333333333334,0.0425531914893617,0.24242424242424243,0.22641509433962265,0.125,0.19230769230769232,0.03773584905660377,0.5454545454545455],\"type\":\"violin\",\"xaxis\":\"x\",\"yaxis\":\"y\"},{\"box\":{\"visible\":true},\"fillcolor\":\"#222A2A\",\"legendgroup\":\"engbert\",\"line\":{\"color\":\"black\"},\"meanline\":{\"visible\":true},\"name\":\"RA, engbert\",\"opacity\":0.75,\"scalegroup\":\"f1\",\"showlegend\":true,\"side\":\"positive\",\"spanmode\":\"hard\",\"x0\":\"engbert\",\"y\":[0.46428571428571425,0.5454545454545455,0.611111111111111,0.17647058823529413,0.3278688524590164,0.45070422535211263,0.505263157894737,0.44,0.9508196721311476,0.88,0.2,0.31746031746031744,0.6933333333333334,0.5970149253731343,0.5454545454545454,0.19047619047619047,0.12121212121212122,0.2972972972972973,0.5142857142857143,0.47457627118644063],\"type\":\"violin\",\"xaxis\":\"x\",\"yaxis\":\"y\"},{\"box\":{\"visible\":true},\"fillcolor\":\"#B68100\",\"legendgroup\":\"nh\",\"line\":{\"color\":\"black\"},\"meanline\":{\"visible\":true},\"name\":\"RA, nh\",\"opacity\":0.75,\"scalegroup\":\"f1\",\"showlegend\":true,\"side\":\"positive\",\"spanmode\":\"hard\",\"x0\":\"nh\",\"y\":[0.5882352941176471,0.5,0.05882352941176471,0.4918032786885246,0.3934426229508197,0.6153846153846153,0.24390243902439024,0.46511627906976744,0.9333333333333333,0.8985507246376812,0.5161290322580645,0.6333333333333333,0.8615384615384615,0.6885245901639343,0.6415094339622641,0.7924528301886793,0.13793103448275862,0.5777777777777778,0.1176470588235294,0.5818181818181818],\"type\":\"violin\",\"xaxis\":\"x\",\"yaxis\":\"y\"},{\"box\":{\"visible\":true},\"fillcolor\":\"#750D86\",\"legendgroup\":\"remodnav\",\"line\":{\"color\":\"black\"},\"meanline\":{\"visible\":true},\"name\":\"RA, remodnav\",\"opacity\":0.75,\"scalegroup\":\"f1\",\"showlegend\":true,\"side\":\"positive\",\"spanmode\":\"hard\",\"x0\":\"remodnav\",\"y\":[0.15789473684210525,0.25,0.3333333333333333,0.21276595744680848,0.1395348837209302,0.05405405405405406,0.186046511627907,0.07407407407407407,0.5909090909090909,0.47058823529411753,0.12765957446808507,0.1951219512195122,0.30769230769230765,0.21739130434782605,0.3,0.04347826086956522,0.07692307692307693,0.07692307692307691,0.17777777777777778,0.5238095238095238],\"type\":\"violin\",\"xaxis\":\"x\",\"yaxis\":\"y\"},{\"box\":{\"visible\":true},\"fillcolor\":\"#bab0ac\",\"legendgroup\":\"Other GT\",\"line\":{\"color\":\"black\"},\"meanline\":{\"visible\":true},\"name\":\"MN, Other GT\",\"opacity\":0.25,\"scalegroup\":\"f1\",\"showlegend\":true,\"side\":\"negative\",\"spanmode\":\"hard\",\"x0\":\"Other GT\",\"y\":[0.9019607843137256,0.7692307692307692,0.8571428571428571,0.7761194029850745,0.9841269841269841,0.9333333333333333,0.90625,0.9508196721311476,0.9259259259259259,0.9666666666666667,0.9302325581395349,0.761904761904762,0.9841269841269841,1.0],\"type\":\"violin\",\"xaxis\":\"x\",\"yaxis\":\"y\"},{\"box\":{\"visible\":true},\"fillcolor\":\"#E15F99\",\"legendgroup\":\"ivt\",\"line\":{\"color\":\"black\"},\"meanline\":{\"visible\":true},\"name\":\"MN, ivt\",\"opacity\":0.25,\"scalegroup\":\"f1\",\"showlegend\":true,\"side\":\"negative\",\"spanmode\":\"hard\",\"x0\":\"ivt\",\"y\":[0.8620689655172413,0.6,0.30769230769230765,0.409090909090909,0.6470588235294118,0.5151515151515152,0.8955223880597014,0.870967741935484,0.6521739130434783,0.225,0.208955223880597,0.175,0.6,0.5454545454545454],\"type\":\"violin\",\"xaxis\":\"x\",\"yaxis\":\"y\"},{\"box\":{\"visible\":true},\"fillcolor\":\"#1CA71C\",\"legendgroup\":\"ivvt\",\"line\":{\"color\":\"black\"},\"meanline\":{\"visible\":true},\"name\":\"MN, ivvt\",\"opacity\":0.25,\"scalegroup\":\"f1\",\"showlegend\":true,\"side\":\"negative\",\"spanmode\":\"hard\",\"x0\":\"ivvt\",\"y\":[0.8620689655172413,0.6,0.29090909090909095,0.4181818181818182,0.6835443037974684,0.5135135135135135,0.8571428571428572,0.8235294117647058,0.693877551020408,0.29166666666666663,0.2278481012658228,0.1443298969072165,0.5866666666666667,0.6551724137931035],\"type\":\"violin\",\"xaxis\":\"x\",\"yaxis\":\"y\"},{\"box\":{\"visible\":true},\"fillcolor\":\"#FB0D0D\",\"legendgroup\":\"idt\",\"line\":{\"color\":\"black\"},\"meanline\":{\"visible\":true},\"name\":\"MN, idt\",\"opacity\":0.25,\"scalegroup\":\"f1\",\"showlegend\":true,\"side\":\"negative\",\"spanmode\":\"hard\",\"x0\":\"idt\",\"y\":[0.04651162790697675,0.32558139534883723,0.3859649122807018,0.12765957446808512,0.21276595744680848,0.03773584905660377,0.04347826086956522,0.32258064516129037,0.2692307692307693,0.21276595744680854,0.2692307692307693,0.1111111111111111,0.5454545454545455],\"type\":\"violin\",\"xaxis\":\"x\",\"yaxis\":\"y\"},{\"box\":{\"visible\":true},\"fillcolor\":\"#DA16FF\",\"legendgroup\":\"idvt\",\"line\":{\"color\":\"black\"},\"meanline\":{\"visible\":true},\"name\":\"MN, idvt\",\"opacity\":0.25,\"scalegroup\":\"f1\",\"showlegend\":true,\"side\":\"negative\",\"spanmode\":\"hard\",\"x0\":\"idvt\",\"y\":[0.04651162790697675,0.3181818181818182,0.3793103448275862,0.12765957446808512,0.25,0.037037037037037035,0.04347826086956522,0.32258064516129037,0.30188679245283023,0.20408163265306123,0.2962962962962963,0.1111111111111111,0.5454545454545455],\"type\":\"violin\",\"xaxis\":\"x\",\"yaxis\":\"y\"},{\"box\":{\"visible\":true},\"fillcolor\":\"#222A2A\",\"legendgroup\":\"engbert\",\"line\":{\"color\":\"black\"},\"meanline\":{\"visible\":true},\"name\":\"MN, engbert\",\"opacity\":0.25,\"scalegroup\":\"f1\",\"showlegend\":true,\"side\":\"negative\",\"spanmode\":\"hard\",\"x0\":\"engbert\",\"y\":[0.42105263157894735,0.3809523809523809,0.3943661971830986,0.4375,0.19718309859154928,0.31746031746031744,0.6666666666666666,0.5454545454545454,0.4528301886792453,0.14285714285714285,0.11940298507462685,0.21052631578947367,0.47887323943661975,0.4067796610169491],\"type\":\"violin\",\"xaxis\":\"x\",\"yaxis\":\"y\"},{\"box\":{\"visible\":true},\"fillcolor\":\"#B68100\",\"legendgroup\":\"nh\",\"line\":{\"color\":\"black\"},\"meanline\":{\"visible\":true},\"name\":\"MN, nh\",\"opacity\":0.25,\"scalegroup\":\"f1\",\"showlegend\":true,\"side\":\"negative\",\"spanmode\":\"hard\",\"x0\":\"nh\",\"y\":[0.6153846153846154,0.4,0.4615384615384615,0.2857142857142857,0.5079365079365079,0.6,0.8307692307692308,0.6,0.5098039215686274,0.7547169811320754,0.06666666666666667,0.5531914893617023,0.11428571428571428,0.4727272727272727],\"type\":\"violin\",\"xaxis\":\"x\",\"yaxis\":\"y\"},{\"box\":{\"visible\":true},\"fillcolor\":\"#750D86\",\"legendgroup\":\"remodnav\",\"line\":{\"color\":\"black\"},\"meanline\":{\"visible\":true},\"name\":\"MN, remodnav\",\"opacity\":0.25,\"scalegroup\":\"f1\",\"showlegend\":true,\"side\":\"negative\",\"spanmode\":\"hard\",\"x0\":\"remodnav\",\"y\":[0.20512820512820515,0.2857142857142857,0.0909090909090909,0.125,0.1951219512195122,0.358974358974359,0.17777777777777776,0.2631578947368421,0.04347826086956522,0.07407407407407407,0.17391304347826086,0.5238095238095238],\"type\":\"violin\",\"xaxis\":\"x\",\"yaxis\":\"y\"},{\"box\":{\"visible\":true},\"fillcolor\":\"#bab0ac\",\"legendgroup\":\"Other GT\",\"line\":{\"color\":\"black\"},\"meanline\":{\"visible\":true},\"name\":\"RA, Other GT\",\"opacity\":0.75,\"scalegroup\":\"d_prime\",\"showlegend\":false,\"side\":\"positive\",\"spanmode\":\"hard\",\"x0\":\"Other GT\",\"y\":[3.862236967929786,3.4081913872337393,3.416975978003244,2.873443423380129,5.456697951706454,4.096557789647024,3.7692531423086395,4.342510897118669,3.7249392530910415,4.65932272109791,4.270938031527921,3.0433487225365092,5.456697951706454,5.091656382773711],\"type\":\"violin\",\"xaxis\":\"x2\",\"yaxis\":\"y2\"},{\"box\":{\"visible\":true},\"fillcolor\":\"#E15F99\",\"legendgroup\":\"ivt\",\"line\":{\"color\":\"black\"},\"meanline\":{\"visible\":true},\"name\":\"RA, ivt\",\"opacity\":0.75,\"scalegroup\":\"d_prime\",\"showlegend\":false,\"side\":\"positive\",\"spanmode\":\"hard\",\"x0\":\"ivt\",\"y\":[3.164184385808966,2.662230195508171,2.8112418219990745,2.0023415992244424,2.608698335296606,1.374679694187976,1.6684604596576076,2.3102546496159557,4.312099189420545,2.8592051942026666,2.265885292168765,2.089689323176438,5.202749190303056,3.1808098510020364,2.3352617125852144,0.987360920820693,1.2033247730486702,1.2226113873241302,2.3283523309692074,1.5172860424548253],\"type\":\"violin\",\"xaxis\":\"x2\",\"yaxis\":\"y2\"},{\"box\":{\"visible\":true},\"fillcolor\":\"#1CA71C\",\"legendgroup\":\"ivvt\",\"line\":{\"color\":\"black\"},\"meanline\":{\"visible\":true},\"name\":\"RA, ivvt\",\"opacity\":0.75,\"scalegroup\":\"d_prime\",\"showlegend\":false,\"side\":\"positive\",\"spanmode\":\"hard\",\"x0\":\"ivvt\",\"y\":[3.164184385808966,2.662230195508171,3.0034462075324275,2.221181444734744,2.6247715419659725,1.4007086109643512,1.8671819661487414,2.158657779271398,4.803546889825931,2.992385296538358,2.6368455796904815,2.128780527772439,4.983868524643366,3.073477536928277,2.4059991360811277,1.2684374847319932,1.3055422300067254,1.0366133107514188,2.3205109352889663,1.9558463295376964],\"type\":\"violin\",\"xaxis\":\"x2\",\"yaxis\":\"y2\"},{\"box\":{\"visible\":true},\"fillcolor\":\"#FB0D0D\",\"legendgroup\":\"idt\",\"line\":{\"color\":\"black\"},\"meanline\":{\"visible\":true},\"name\":\"RA, idt\",\"opacity\":0.75,\"scalegroup\":\"d_prime\",\"showlegend\":false,\"side\":\"positive\",\"spanmode\":\"hard\",\"x0\":\"idt\",\"y\":[0.8813387052538866,-0.23085383339098842,0.8944250910185778,0.9177453451241466,-0.040566562783377114,0.8779746217345434,0.3338364429138163,1.0760508544189162,2.310290548816525,1.9002352353145597,0.3516298436219121,-0.05691873147623472,-1.220993238317687,-0.04320553543576011,1.4155019373695794,0.7816726372190986,0.5686779648875737,1.3842294039571703,-0.20091933615156288,1.7073115964230758],\"type\":\"violin\",\"xaxis\":\"x2\",\"yaxis\":\"y2\"},{\"box\":{\"visible\":true},\"fillcolor\":\"#DA16FF\",\"legendgroup\":\"idvt\",\"line\":{\"color\":\"black\"},\"meanline\":{\"visible\":true},\"name\":\"RA, idvt\",\"opacity\":0.75,\"scalegroup\":\"d_prime\",\"showlegend\":false,\"side\":\"positive\",\"spanmode\":\"hard\",\"x0\":\"idvt\",\"y\":[0.8813387052538866,-0.23085383339098842,0.8944250910185778,0.9177453451241466,0.2665500205783795,0.8402821819338604,0.31030500805043437,1.0384545503054754,2.310290548816525,1.9002352353145597,0.3516298436219121,0.275909958295655,-1.2428685108461386,-0.04320553543576011,1.4155019373695794,0.9074729697478855,0.5259609677442094,0.8613383867728505,-0.20091933615156288,1.7073115964230758],\"type\":\"violin\",\"xaxis\":\"x2\",\"yaxis\":\"y2\"},{\"box\":{\"visible\":true},\"fillcolor\":\"#222A2A\",\"legendgroup\":\"engbert\",\"line\":{\"color\":\"black\"},\"meanline\":{\"visible\":true},\"name\":\"RA, engbert\",\"opacity\":0.75,\"scalegroup\":\"d_prime\",\"showlegend\":false,\"side\":\"positive\",\"spanmode\":\"hard\",\"x0\":\"engbert\",\"y\":[1.7779601186966736,3.1180501060598114,2.1765176726956783,0.5939027906843476,1.2280284864168642,1.7063609466539742,1.9431339038224649,1.791479919446603,4.054035500650535,3.245825396379677,0.6815399415046546,1.1736527157689405,2.633941041850681,2.148199106787624,1.507249450696738,0.611044515436296,0.4353388939454643,1.4117674332680472,1.8512211838823325,1.2389024732738665],\"type\":\"violin\",\"xaxis\":\"x2\",\"yaxis\":\"y2\"},{\"box\":{\"visible\":true},\"fillcolor\":\"#B68100\",\"legendgroup\":\"nh\",\"line\":{\"color\":\"black\"},\"meanline\":{\"visible\":true},\"name\":\"RA, nh\",\"opacity\":0.75,\"scalegroup\":\"d_prime\",\"showlegend\":false,\"side\":\"positive\",\"spanmode\":\"hard\",\"x0\":\"nh\",\"y\":[2.2019125897655134,2.4635503754145516,1.001546535225833,1.77699590433968,1.4556523663667582,2.259126761637854,1.420508181328983,1.8548802997669933,3.7212068108786447,3.2478972157384214,1.8458312616312953,2.2842126160354086,3.4118649258606464,2.4880255700602874,1.89668709097522,3.1199461244383206,0.8914861685189321,2.3012887920140135,1.3066525779301121,1.6549827083659936],\"type\":\"violin\",\"xaxis\":\"x2\",\"yaxis\":\"y2\"},{\"box\":{\"visible\":true},\"fillcolor\":\"#750D86\",\"legendgroup\":\"remodnav\",\"line\":{\"color\":\"black\"},\"meanline\":{\"visible\":true},\"name\":\"RA, remodnav\",\"opacity\":0.75,\"scalegroup\":\"d_prime\",\"showlegend\":false,\"side\":\"positive\",\"spanmode\":\"hard\",\"x0\":\"remodnav\",\"y\":[0.8142108016767855,1.787953229338177,1.4300413109147279,0.9383743787664228,0.682387679805244,0.27637130110595853,1.0209114415553109,0.6026699309392405,2.310290548816525,1.5171735091103717,0.5694055698527669,1.0205652523800457,1.9366756381069257,0.9940557560437275,0.9698676599585254,-0.027352965279486607,0.6869273176728163,0.6274120294917354,0.8522467751392044,1.710613036472672],\"type\":\"violin\",\"xaxis\":\"x2\",\"yaxis\":\"y2\"},{\"box\":{\"visible\":true},\"fillcolor\":\"#bab0ac\",\"legendgroup\":\"Other GT\",\"line\":{\"color\":\"black\"},\"meanline\":{\"visible\":true},\"name\":\"MN, Other GT\",\"opacity\":0.25,\"scalegroup\":\"d_prime\",\"showlegend\":false,\"side\":\"negative\",\"spanmode\":\"hard\",\"x0\":\"Other GT\",\"y\":[3.797080853873922,3.5817824584180404,3.416975978003244,2.8491321028805436,4.682849945470158,4.096557789647024,3.7692531423086395,4.4293864794189135,3.837528380969118,4.65932272109791,4.1663732265042235,2.9591998518190055,4.682849945470158,5.091656382773711],\"type\":\"violin\",\"xaxis\":\"x2\",\"yaxis\":\"y2\"},{\"box\":{\"visible\":true},\"fillcolor\":\"#E15F99\",\"legendgroup\":\"ivt\",\"line\":{\"color\":\"black\"},\"meanline\":{\"visible\":true},\"name\":\"MN, ivt\",\"opacity\":0.25,\"scalegroup\":\"d_prime\",\"showlegend\":false,\"side\":\"negative\",\"spanmode\":\"hard\",\"x0\":\"ivt\",\"y\":[3.903935106848807,2.8429557363954228,1.1649651985975085,1.4408263824612089,2.3242430129770995,1.864674936814809,3.795636089837185,3.544882681803113,2.044192329424298,0.7755912931168392,0.8796884254254138,0.7112196064122493,2.14904454815353,1.5172860424548253],\"type\":\"violin\",\"xaxis\":\"x2\",\"yaxis\":\"y2\"},{\"box\":{\"visible\":true},\"fillcolor\":\"#1CA71C\",\"legendgroup\":\"ivvt\",\"line\":{\"color\":\"black\"},\"meanline\":{\"visible\":true},\"name\":\"MN, ivvt\",\"opacity\":0.25,\"scalegroup\":\"d_prime\",\"showlegend\":false,\"side\":\"negative\",\"spanmode\":\"hard\",\"x0\":\"ivvt\",\"y\":[3.903935106848807,2.8429557363954228,1.1946965232883389,1.6017777850876114,2.6800405069696662,1.9035935094338454,3.60936632277839,3.4853126664359264,2.1632053485206386,1.0775834882969986,0.9897675141982012,0.5315549235760968,2.1353055066619526,1.9558463295376964],\"type\":\"violin\",\"xaxis\":\"x2\",\"yaxis\":\"y2\"},{\"box\":{\"visible\":true},\"fillcolor\":\"#FB0D0D\",\"legendgroup\":\"idt\",\"line\":{\"color\":\"black\"},\"meanline\":{\"visible\":true},\"name\":\"MN, idt\",\"opacity\":0.25,\"scalegroup\":\"d_prime\",\"showlegend\":false,\"side\":\"negative\",\"spanmode\":\"hard\",\"x0\":\"idt\",\"y\":[0.012485333824656664,-0.2304693371463089,1.4046246416490673,1.443891025326622,0.5857169110482956,0.9383743787664228,-0.19268152970156738,-0.027450405739186223,1.68877679427036,1.0786483796547839,0.9332144094921843,1.1408022131414386,0.3765226925956342,1.7073115964230758],\"type\":\"violin\",\"xaxis\":\"x2\",\"yaxis\":\"y2\"},{\"box\":{\"visible\":true},\"fillcolor\":\"#DA16FF\",\"legendgroup\":\"idvt\",\"line\":{\"color\":\"black\"},\"meanline\":{\"visible\":true},\"name\":\"MN, idvt\",\"opacity\":0.25,\"scalegroup\":\"d_prime\",\"showlegend\":false,\"side\":\"negative\",\"spanmode\":\"hard\",\"x0\":\"idvt\",\"y\":[0.012485333824656664,-0.2304693371463089,1.3559910356072824,1.408645300854484,0.5857169110482956,1.0641747112952098,-0.21620277187436843,-0.027450405739186223,1.68877679427036,1.1836359473263403,0.8872627675914652,1.2438370577803366,0.3765226925956342,1.7073115964230758],\"type\":\"violin\",\"xaxis\":\"x2\",\"yaxis\":\"y2\"},{\"box\":{\"visible\":true},\"fillcolor\":\"#222A2A\",\"legendgroup\":\"engbert\",\"line\":{\"color\":\"black\"},\"meanline\":{\"visible\":true},\"name\":\"MN, engbert\",\"opacity\":0.25,\"scalegroup\":\"d_prime\",\"showlegend\":false,\"side\":\"negative\",\"spanmode\":\"hard\",\"x0\":\"engbert\",\"y\":[1.6046791918628458,2.397867886005459,1.4896176962096217,1.5939319193424784,0.656588001241802,1.1736527157689405,2.496498660578116,1.975647985796717,1.205578062704926,0.36739116744213296,0.40172225766777714,0.8959710927521438,1.702297456567238,0.9891047376702009],\"type\":\"violin\",\"xaxis\":\"x2\",\"yaxis\":\"y2\"},{\"box\":{\"visible\":true},\"fillcolor\":\"#B68100\",\"legendgroup\":\"nh\",\"line\":{\"color\":\"black\"},\"meanline\":{\"visible\":true},\"name\":\"MN, nh\",\"opacity\":0.25,\"scalegroup\":\"d_prime\",\"showlegend\":false,\"side\":\"negative\",\"spanmode\":\"hard\",\"x0\":\"nh\",\"y\":[2.2815900460520613,2.2141513894908393,1.7278403360192967,1.6633836129827584,1.8043142731147126,2.1591430480039238,3.200699666366021,2.1591430480039238,1.4245209204529439,2.8837502482218706,0.44805264675819245,2.143840023052158,1.2897016527732554,1.2517256111298118],\"type\":\"violin\",\"xaxis\":\"x2\",\"yaxis\":\"y2\"},{\"box\":{\"visible\":true},\"fillcolor\":\"#750D86\",\"legendgroup\":\"remodnav\",\"line\":{\"color\":\"black\"},\"meanline\":{\"visible\":true},\"name\":\"MN, remodnav\",\"opacity\":0.25,\"scalegroup\":\"d_prime\",\"showlegend\":false,\"side\":\"negative\",\"spanmode\":\"hard\",\"x0\":\"remodnav\",\"y\":[1.0123577520437061,1.8870194739233654,-0.8578922679770136,0.5086580169211947,0.5504984172475571,1.0205652523800457,2.076355322529873,0.8327461723108276,0.8259431078843027,-0.027352965279486607,0.6638362258360044,-0.7052113991366542,0.8318699121565682,1.710613036472672],\"type\":\"violin\",\"xaxis\":\"x2\",\"yaxis\":\"y2\"}],                        {\"template\":{\"data\":{\"histogram2dcontour\":[{\"type\":\"histogram2dcontour\",\"colorbar\":{\"outlinewidth\":0,\"ticks\":\"\"},\"colorscale\":[[0.0,\"#0d0887\"],[0.1111111111111111,\"#46039f\"],[0.2222222222222222,\"#7201a8\"],[0.3333333333333333,\"#9c179e\"],[0.4444444444444444,\"#bd3786\"],[0.5555555555555556,\"#d8576b\"],[0.6666666666666666,\"#ed7953\"],[0.7777777777777778,\"#fb9f3a\"],[0.8888888888888888,\"#fdca26\"],[1.0,\"#f0f921\"]]}],\"choropleth\":[{\"type\":\"choropleth\",\"colorbar\":{\"outlinewidth\":0,\"ticks\":\"\"}}],\"histogram2d\":[{\"type\":\"histogram2d\",\"colorbar\":{\"outlinewidth\":0,\"ticks\":\"\"},\"colorscale\":[[0.0,\"#0d0887\"],[0.1111111111111111,\"#46039f\"],[0.2222222222222222,\"#7201a8\"],[0.3333333333333333,\"#9c179e\"],[0.4444444444444444,\"#bd3786\"],[0.5555555555555556,\"#d8576b\"],[0.6666666666666666,\"#ed7953\"],[0.7777777777777778,\"#fb9f3a\"],[0.8888888888888888,\"#fdca26\"],[1.0,\"#f0f921\"]]}],\"heatmap\":[{\"type\":\"heatmap\",\"colorbar\":{\"outlinewidth\":0,\"ticks\":\"\"},\"colorscale\":[[0.0,\"#0d0887\"],[0.1111111111111111,\"#46039f\"],[0.2222222222222222,\"#7201a8\"],[0.3333333333333333,\"#9c179e\"],[0.4444444444444444,\"#bd3786\"],[0.5555555555555556,\"#d8576b\"],[0.6666666666666666,\"#ed7953\"],[0.7777777777777778,\"#fb9f3a\"],[0.8888888888888888,\"#fdca26\"],[1.0,\"#f0f921\"]]}],\"heatmapgl\":[{\"type\":\"heatmapgl\",\"colorbar\":{\"outlinewidth\":0,\"ticks\":\"\"},\"colorscale\":[[0.0,\"#0d0887\"],[0.1111111111111111,\"#46039f\"],[0.2222222222222222,\"#7201a8\"],[0.3333333333333333,\"#9c179e\"],[0.4444444444444444,\"#bd3786\"],[0.5555555555555556,\"#d8576b\"],[0.6666666666666666,\"#ed7953\"],[0.7777777777777778,\"#fb9f3a\"],[0.8888888888888888,\"#fdca26\"],[1.0,\"#f0f921\"]]}],\"contourcarpet\":[{\"type\":\"contourcarpet\",\"colorbar\":{\"outlinewidth\":0,\"ticks\":\"\"}}],\"contour\":[{\"type\":\"contour\",\"colorbar\":{\"outlinewidth\":0,\"ticks\":\"\"},\"colorscale\":[[0.0,\"#0d0887\"],[0.1111111111111111,\"#46039f\"],[0.2222222222222222,\"#7201a8\"],[0.3333333333333333,\"#9c179e\"],[0.4444444444444444,\"#bd3786\"],[0.5555555555555556,\"#d8576b\"],[0.6666666666666666,\"#ed7953\"],[0.7777777777777778,\"#fb9f3a\"],[0.8888888888888888,\"#fdca26\"],[1.0,\"#f0f921\"]]}],\"surface\":[{\"type\":\"surface\",\"colorbar\":{\"outlinewidth\":0,\"ticks\":\"\"},\"colorscale\":[[0.0,\"#0d0887\"],[0.1111111111111111,\"#46039f\"],[0.2222222222222222,\"#7201a8\"],[0.3333333333333333,\"#9c179e\"],[0.4444444444444444,\"#bd3786\"],[0.5555555555555556,\"#d8576b\"],[0.6666666666666666,\"#ed7953\"],[0.7777777777777778,\"#fb9f3a\"],[0.8888888888888888,\"#fdca26\"],[1.0,\"#f0f921\"]]}],\"mesh3d\":[{\"type\":\"mesh3d\",\"colorbar\":{\"outlinewidth\":0,\"ticks\":\"\"}}],\"scatter\":[{\"marker\":{\"line\":{\"color\":\"#283442\"}},\"type\":\"scatter\"}],\"parcoords\":[{\"type\":\"parcoords\",\"line\":{\"colorbar\":{\"outlinewidth\":0,\"ticks\":\"\"}}}],\"scatterpolargl\":[{\"type\":\"scatterpolargl\",\"marker\":{\"colorbar\":{\"outlinewidth\":0,\"ticks\":\"\"}}}],\"bar\":[{\"error_x\":{\"color\":\"#f2f5fa\"},\"error_y\":{\"color\":\"#f2f5fa\"},\"marker\":{\"line\":{\"color\":\"rgb(17,17,17)\",\"width\":0.5},\"pattern\":{\"fillmode\":\"overlay\",\"size\":10,\"solidity\":0.2}},\"type\":\"bar\"}],\"scattergeo\":[{\"type\":\"scattergeo\",\"marker\":{\"colorbar\":{\"outlinewidth\":0,\"ticks\":\"\"}}}],\"scatterpolar\":[{\"type\":\"scatterpolar\",\"marker\":{\"colorbar\":{\"outlinewidth\":0,\"ticks\":\"\"}}}],\"histogram\":[{\"marker\":{\"pattern\":{\"fillmode\":\"overlay\",\"size\":10,\"solidity\":0.2}},\"type\":\"histogram\"}],\"scattergl\":[{\"marker\":{\"line\":{\"color\":\"#283442\"}},\"type\":\"scattergl\"}],\"scatter3d\":[{\"type\":\"scatter3d\",\"line\":{\"colorbar\":{\"outlinewidth\":0,\"ticks\":\"\"}},\"marker\":{\"colorbar\":{\"outlinewidth\":0,\"ticks\":\"\"}}}],\"scattermapbox\":[{\"type\":\"scattermapbox\",\"marker\":{\"colorbar\":{\"outlinewidth\":0,\"ticks\":\"\"}}}],\"scatterternary\":[{\"type\":\"scatterternary\",\"marker\":{\"colorbar\":{\"outlinewidth\":0,\"ticks\":\"\"}}}],\"scattercarpet\":[{\"type\":\"scattercarpet\",\"marker\":{\"colorbar\":{\"outlinewidth\":0,\"ticks\":\"\"}}}],\"carpet\":[{\"aaxis\":{\"endlinecolor\":\"#A2B1C6\",\"gridcolor\":\"#506784\",\"linecolor\":\"#506784\",\"minorgridcolor\":\"#506784\",\"startlinecolor\":\"#A2B1C6\"},\"baxis\":{\"endlinecolor\":\"#A2B1C6\",\"gridcolor\":\"#506784\",\"linecolor\":\"#506784\",\"minorgridcolor\":\"#506784\",\"startlinecolor\":\"#A2B1C6\"},\"type\":\"carpet\"}],\"table\":[{\"cells\":{\"fill\":{\"color\":\"#506784\"},\"line\":{\"color\":\"rgb(17,17,17)\"}},\"header\":{\"fill\":{\"color\":\"#2a3f5f\"},\"line\":{\"color\":\"rgb(17,17,17)\"}},\"type\":\"table\"}],\"barpolar\":[{\"marker\":{\"line\":{\"color\":\"rgb(17,17,17)\",\"width\":0.5},\"pattern\":{\"fillmode\":\"overlay\",\"size\":10,\"solidity\":0.2}},\"type\":\"barpolar\"}],\"pie\":[{\"automargin\":true,\"type\":\"pie\"}]},\"layout\":{\"autotypenumbers\":\"strict\",\"colorway\":[\"#636efa\",\"#EF553B\",\"#00cc96\",\"#ab63fa\",\"#FFA15A\",\"#19d3f3\",\"#FF6692\",\"#B6E880\",\"#FF97FF\",\"#FECB52\"],\"font\":{\"color\":\"#f2f5fa\"},\"hovermode\":\"closest\",\"hoverlabel\":{\"align\":\"left\"},\"paper_bgcolor\":\"rgb(17,17,17)\",\"plot_bgcolor\":\"rgb(17,17,17)\",\"polar\":{\"bgcolor\":\"rgb(17,17,17)\",\"angularaxis\":{\"gridcolor\":\"#506784\",\"linecolor\":\"#506784\",\"ticks\":\"\"},\"radialaxis\":{\"gridcolor\":\"#506784\",\"linecolor\":\"#506784\",\"ticks\":\"\"}},\"ternary\":{\"bgcolor\":\"rgb(17,17,17)\",\"aaxis\":{\"gridcolor\":\"#506784\",\"linecolor\":\"#506784\",\"ticks\":\"\"},\"baxis\":{\"gridcolor\":\"#506784\",\"linecolor\":\"#506784\",\"ticks\":\"\"},\"caxis\":{\"gridcolor\":\"#506784\",\"linecolor\":\"#506784\",\"ticks\":\"\"}},\"coloraxis\":{\"colorbar\":{\"outlinewidth\":0,\"ticks\":\"\"}},\"colorscale\":{\"sequential\":[[0.0,\"#0d0887\"],[0.1111111111111111,\"#46039f\"],[0.2222222222222222,\"#7201a8\"],[0.3333333333333333,\"#9c179e\"],[0.4444444444444444,\"#bd3786\"],[0.5555555555555556,\"#d8576b\"],[0.6666666666666666,\"#ed7953\"],[0.7777777777777778,\"#fb9f3a\"],[0.8888888888888888,\"#fdca26\"],[1.0,\"#f0f921\"]],\"sequentialminus\":[[0.0,\"#0d0887\"],[0.1111111111111111,\"#46039f\"],[0.2222222222222222,\"#7201a8\"],[0.3333333333333333,\"#9c179e\"],[0.4444444444444444,\"#bd3786\"],[0.5555555555555556,\"#d8576b\"],[0.6666666666666666,\"#ed7953\"],[0.7777777777777778,\"#fb9f3a\"],[0.8888888888888888,\"#fdca26\"],[1.0,\"#f0f921\"]],\"diverging\":[[0,\"#8e0152\"],[0.1,\"#c51b7d\"],[0.2,\"#de77ae\"],[0.3,\"#f1b6da\"],[0.4,\"#fde0ef\"],[0.5,\"#f7f7f7\"],[0.6,\"#e6f5d0\"],[0.7,\"#b8e186\"],[0.8,\"#7fbc41\"],[0.9,\"#4d9221\"],[1,\"#276419\"]]},\"xaxis\":{\"gridcolor\":\"#283442\",\"linecolor\":\"#506784\",\"ticks\":\"\",\"title\":{\"standoff\":15},\"zerolinecolor\":\"#283442\",\"automargin\":true,\"zerolinewidth\":2},\"yaxis\":{\"gridcolor\":\"#283442\",\"linecolor\":\"#506784\",\"ticks\":\"\",\"title\":{\"standoff\":15},\"zerolinecolor\":\"#283442\",\"automargin\":true,\"zerolinewidth\":2},\"scene\":{\"xaxis\":{\"backgroundcolor\":\"rgb(17,17,17)\",\"gridcolor\":\"#506784\",\"linecolor\":\"#506784\",\"showbackground\":true,\"ticks\":\"\",\"zerolinecolor\":\"#C8D4E3\",\"gridwidth\":2},\"yaxis\":{\"backgroundcolor\":\"rgb(17,17,17)\",\"gridcolor\":\"#506784\",\"linecolor\":\"#506784\",\"showbackground\":true,\"ticks\":\"\",\"zerolinecolor\":\"#C8D4E3\",\"gridwidth\":2},\"zaxis\":{\"backgroundcolor\":\"rgb(17,17,17)\",\"gridcolor\":\"#506784\",\"linecolor\":\"#506784\",\"showbackground\":true,\"ticks\":\"\",\"zerolinecolor\":\"#C8D4E3\",\"gridwidth\":2}},\"shapedefaults\":{\"line\":{\"color\":\"#f2f5fa\"}},\"annotationdefaults\":{\"arrowcolor\":\"#f2f5fa\",\"arrowhead\":0,\"arrowwidth\":1},\"geo\":{\"bgcolor\":\"rgb(17,17,17)\",\"landcolor\":\"rgb(17,17,17)\",\"subunitcolor\":\"#506784\",\"showland\":true,\"showlakes\":true,\"lakecolor\":\"rgb(17,17,17)\"},\"title\":{\"x\":0.05},\"updatemenudefaults\":{\"bgcolor\":\"#506784\",\"borderwidth\":0},\"sliderdefaults\":{\"bgcolor\":\"#C8D4E3\",\"borderwidth\":1,\"bordercolor\":\"rgb(17,17,17)\",\"tickwidth\":0},\"mapbox\":{\"style\":\"dark\"}}},\"xaxis\":{\"anchor\":\"y\",\"domain\":[0.0,1.0]},\"yaxis\":{\"anchor\":\"x\",\"domain\":[0.625,1.0],\"range\":[0,1]},\"xaxis2\":{\"anchor\":\"y2\",\"domain\":[0.0,1.0]},\"yaxis2\":{\"anchor\":\"x2\",\"domain\":[0.0,0.375]},\"annotations\":[{\"font\":{\"size\":16},\"showarrow\":false,\"text\":\"f1\",\"x\":0.5,\"xanchor\":\"center\",\"xref\":\"paper\",\"y\":1.0,\"yanchor\":\"bottom\",\"yref\":\"paper\"},{\"font\":{\"size\":16},\"showarrow\":false,\"text\":\"d'\",\"x\":0.5,\"xanchor\":\"center\",\"xref\":\"paper\",\"y\":0.375,\"yanchor\":\"bottom\",\"yref\":\"paper\"}],\"title\":{\"text\":\"saccade offsets\"},\"violinmode\":\"overlay\",\"boxmode\":\"group\",\"boxgroupgap\":0,\"boxgap\":0,\"width\":1000,\"height\":500,\"paper_bgcolor\":\"rgba(0, 0, 0, 0)\",\"plot_bgcolor\":\"rgba(0, 0, 0, 0)\"},                        {\"responsive\": true}                    ).then(function(){\n",
       "                            \n",
       "var gd = document.getElementById('2ca3f055-b329-43eb-8b2d-c05dd29cf210');\n",
       "var x = new MutationObserver(function (mutations, observer) {{\n",
       "        var display = window.getComputedStyle(gd).display;\n",
       "        if (!display || display === 'none') {{\n",
       "            console.log([gd, 'removed!']);\n",
       "            Plotly.purge(gd);\n",
       "            observer.disconnect();\n",
       "        }}\n",
       "}});\n",
       "\n",
       "// Listen for the removal of the full notebook cells\n",
       "var notebookContainer = gd.closest('#notebook-container');\n",
       "if (notebookContainer) {{\n",
       "    x.observe(notebookContainer, {childList: true});\n",
       "}}\n",
       "\n",
       "// Listen for the clearing of the current output cell\n",
       "var outputEl = gd.closest('.output');\n",
       "if (outputEl) {{\n",
       "    x.observe(outputEl, {childList: true});\n",
       "}}\n",
       "\n",
       "                        })                };                });            </script>        </div>"
      ]
     },
     "metadata": {},
     "output_type": "display_data"
    }
   ],
   "execution_count": 21
  },
  {
   "metadata": {},
   "cell_type": "markdown",
   "source": "### 2) d' over thresholds",
   "id": "b6800de14761aaa2"
  },
  {
   "metadata": {
    "ExecuteTime": {
     "end_time": "2024-11-25T22:57:27.757266Z",
     "start_time": "2024-11-25T22:57:27.681261Z"
    }
   },
   "cell_type": "code",
   "source": [
    "dprime_thresholds_figure = ch_sdt.multi_channel_figure(\n",
    "    csdt_metrics,\n",
    "    metric=peyes.constants.D_PRIME_STR,\n",
    "    yaxis_title=r\"d'\", show_other_gt=True, error_bars='std', show_err_bands=False,\n",
    "    colors={k: v[1] for k, v in LABELER_PLOTTING_CONFIG.items()},\n",
    ")\n",
    "\n",
    "dprime_thresholds_figure.update_layout(\n",
    "    title=dict(text=\"d' (saccades)\"),\n",
    "    width=1400, height=500,\n",
    "    paper_bgcolor='rgba(0, 0, 0, 0)',\n",
    "    plot_bgcolor='rgba(0, 0, 0, 0)',\n",
    "    margin=dict(l=10, r=10, b=10, t=10, pad=0),\n",
    ")\n",
    "dprime_thresholds_figure.layout.annotations = []   # remove subtitles\n",
    "\n",
    "dprime_thresholds_figure.show()"
   ],
   "id": "517bef99166a6134",
   "outputs": [
    {
     "data": {
      "application/vnd.plotly.v1+json": {
       "data": [
        {
         "error_y": {
          "array": [
           0.5206229256788063,
           0.7082393259113906,
           0.826558823633675,
           0.7294390178365348,
           0.7013525355936558,
           0.6732127667114837,
           0.6498591158137099,
           0.6299516825141449,
           0.6126481558547409,
           0.5543104272508766,
           0.5410423286644802,
           0.5290967373619114,
           0.5182589932262862,
           0.5083633010275111,
           0.4853424015433431,
           0.47721312926335274,
           0.4696618120436715,
           0.4626219023660679,
           0.45603791169111585,
           0.44986313125237015,
           0.44405791899766694
          ],
          "type": "data"
         },
         "legendgroup": "Other GT",
         "line": {
          "color": "#bab0ac",
          "dash": "dot"
         },
         "marker": {
          "color": "#bab0ac",
          "size": 5
         },
         "mode": "lines+markers",
         "name": "Other GT",
         "showlegend": true,
         "x": [
          0,
          1,
          2,
          3,
          4,
          5,
          6,
          7,
          8,
          9,
          10,
          11,
          12,
          13,
          14,
          15,
          16,
          17,
          18,
          19,
          20
         ],
         "y": [
          3.222385611721528,
          4.404921268258734,
          4.853328632265901,
          5.011625715781178,
          5.087025525164136,
          4.982241601709539,
          4.893061759058596,
          4.815143527571105,
          4.745750543271325,
          4.757261520995981,
          4.6976620660538355,
          4.642699814092724,
          4.591624380664596,
          4.543854440729409,
          4.550363176564326,
          4.506502267579298,
          4.464912333387661,
          4.425331677689393,
          4.387540791542888,
          4.351353600012058,
          4.316610868561088
         ],
         "type": "scatter",
         "xaxis": "x",
         "yaxis": "y"
        },
        {
         "error_y": {
          "array": [
           1.1079301843127438,
           0.4840462789621196,
           0.9547553182932068,
           0.9870066566749596,
           0.952266351660334,
           0.9305386704820776,
           0.9089886655940822,
           0.8515701113052614,
           0.8360200194417222,
           0.7839503155421471,
           0.745288699914021,
           0.7347187443260899,
           0.7257196521389737,
           0.7181571525653526,
           0.7119445441825397,
           0.7070358603207322,
           0.7034234165322486,
           0.7011393994602722,
           0.7002621047047394,
           0.7009286997931949,
           0.7033586448182463
          ],
          "type": "data"
         },
         "legendgroup": "ivt",
         "line": {
          "color": "#E15F99"
         },
         "marker": {
          "color": "#E15F99",
          "size": 5
         },
         "mode": "lines+markers",
         "name": "ivt",
         "showlegend": true,
         "x": [
          0,
          1,
          2,
          3,
          4,
          5,
          6,
          7,
          8,
          9,
          10,
          11,
          12,
          13,
          14,
          15,
          16,
          17,
          18,
          19,
          20
         ],
         "y": [
          -0.04501401442161601,
          2.5324219588056684,
          3.6996132241707755,
          3.880328001265388,
          4.051997883624369,
          4.0278800094762195,
          3.9244409480677986,
          3.861087691168973,
          3.7779663566131916,
          3.7531755031698824,
          3.6997154492373356,
          3.6317583677358405,
          3.5674148520487625,
          3.5060406370813353,
          3.4471100862267363,
          3.390181324229995,
          3.3348708132946037,
          3.2808334376737696,
          3.227745280774677,
          3.1752865982813856,
          3.123122016053944
         ],
         "type": "scatter",
         "xaxis": "x",
         "yaxis": "y"
        },
        {
         "error_y": {
          "array": [
           1.0923302388366258,
           0.45881289278120363,
           0.9632829662083563,
           0.9325011270385111,
           0.8596333615523181,
           0.8483206942660063,
           0.7597924005555658,
           0.6712119396063825,
           0.6590441627619374,
           0.6473081056722145,
           0.6223343931592986,
           0.6152257471060144,
           0.6100509455278916,
           0.6067122163602772,
           0.6051664644976426,
           0.6054215189747945,
           0.6075382137359377,
           0.6116390462789452,
           0.6179260772527931,
           0.6267141552027019,
           0.6384929751543644
          ],
          "type": "data"
         },
         "legendgroup": "ivvt",
         "line": {
          "color": "#1CA71C"
         },
         "marker": {
          "color": "#1CA71C",
          "size": 5
         },
         "mode": "lines+markers",
         "name": "ivvt",
         "showlegend": true,
         "x": [
          0,
          1,
          2,
          3,
          4,
          5,
          6,
          7,
          8,
          9,
          10,
          11,
          12,
          13,
          14,
          15,
          16,
          17,
          18,
          19,
          20
         ],
         "y": [
          0.022503971346021313,
          2.482841068411001,
          3.7367020346830104,
          3.951198987208403,
          3.92531035165766,
          3.920542867657688,
          3.8739591662603465,
          3.83327227268092,
          3.7788915695617455,
          3.6868646819425535,
          3.611497323774471,
          3.530335863095808,
          3.4530246417403996,
          3.3788032728556003,
          3.3070397428311376,
          3.237189320160322,
          3.1687634090119277,
          3.1013034749775774,
          3.034356073054847,
          2.9674446077738983,
          2.9000311598540427
         ],
         "type": "scatter",
         "xaxis": "x",
         "yaxis": "y"
        },
        {
         "error_y": {
          "array": [
           0.43065829673917366,
           0.6844048077501459,
           0.4124386762146256,
           0.5728831148671889,
           0.4635045420077316,
           0.4718885692478996,
           0.5387242781569862,
           0.5738724825065304,
           0.5839565177936631,
           0.5960109392395694,
           0.6016867484532222,
           0.5960760174773665,
           0.6019695003846028,
           0.6101847379542971,
           0.5978942574057501,
           0.6036981873775096,
           0.6020505784609125,
           0.6082927535658353,
           0.6148990034836038,
           0.6382676366383985,
           0.673697980013486
          ],
          "type": "data"
         },
         "legendgroup": "idt",
         "line": {
          "color": "#FB0D0D"
         },
         "marker": {
          "color": "#FB0D0D",
          "size": 5
         },
         "mode": "lines+markers",
         "name": "idt",
         "showlegend": true,
         "x": [
          0,
          1,
          2,
          3,
          4,
          5,
          6,
          7,
          8,
          9,
          10,
          11,
          12,
          13,
          14,
          15,
          16,
          17,
          18,
          19,
          20
         ],
         "y": [
          -0.7466586675893515,
          0.10044711932975066,
          1.064388774647472,
          1.5569373186824873,
          1.9396462898761222,
          2.2279885909988644,
          2.3186474336827994,
          2.32029922826078,
          2.2841707903734467,
          2.2548862777558343,
          2.2125238880177287,
          2.187949816119225,
          2.151065099082756,
          2.1433761594156513,
          2.1216821151010974,
          2.0904643085680368,
          2.0860574844691646,
          2.057248653092338,
          2.029311092647297,
          2.0199324258416,
          2.026807621196432
         ],
         "type": "scatter",
         "xaxis": "x",
         "yaxis": "y"
        },
        {
         "error_y": {
          "array": [
           0.3898991160763683,
           0.5148914217115068,
           0.4860512170325534,
           0.575506020026682,
           0.4473883228962359,
           0.49274591296798004,
           0.5622251896085458,
           0.6024568187878809,
           0.6102023923731005,
           0.6220579334617458,
           0.6277617599073477,
           0.6335068598098361,
           0.6393440146377598,
           0.6453219503034383,
           0.6329641630324196,
           0.6385566825053481,
           0.6443793457966591,
           0.6504836635696246,
           0.6569289916652125,
           0.6637857403792513,
           0.6711397391031901
          ],
          "type": "data"
         },
         "legendgroup": "idvt",
         "line": {
          "color": "#DA16FF"
         },
         "marker": {
          "color": "#DA16FF",
          "size": 5
         },
         "mode": "lines+markers",
         "name": "idvt",
         "showlegend": true,
         "x": [
          0,
          1,
          2,
          3,
          4,
          5,
          6,
          7,
          8,
          9,
          10,
          11,
          12,
          13,
          14,
          15,
          16,
          17,
          18,
          19,
          20
         ],
         "y": [
          -0.7594488831981956,
          0.3826744207584743,
          1.1212644912359755,
          1.618760220531626,
          2.0106484689650315,
          2.3229305538661276,
          2.412434298400238,
          2.407662549097436,
          2.3720555269578707,
          2.3432822348344122,
          2.301424239963897,
          2.2623965835463946,
          2.225709209727293,
          2.1909785377370006,
          2.169038424028848,
          2.137564647257852,
          2.1072902347514755,
          2.0780359068837777,
          2.0496446645988717,
          2.0219754016232026,
          1.9948974305480562
         ],
         "type": "scatter",
         "xaxis": "x",
         "yaxis": "y"
        },
        {
         "error_y": {
          "array": [
           0.42945504515253047,
           0.7354438744208944,
           0.9792252889588002,
           0.9182590491989769,
           0.8473511179940287,
           0.7685368228486691,
           0.7001856221220072,
           0.6355213756627667,
           0.5442439360062757,
           0.5407079418741748,
           0.5388825359870097,
           0.5320394677894693,
           0.5345356318800534,
           0.5383630518388832,
           0.5435667418588817,
           0.5502520739810854,
           0.5586009588272539,
           0.5689031301676301,
           0.5816151525456946,
           0.5974769338193273,
           0.6177639628919814
          ],
          "type": "data"
         },
         "legendgroup": "engbert",
         "line": {
          "color": "#222A2A"
         },
         "marker": {
          "color": "#222A2A",
          "size": 5
         },
         "mode": "lines+markers",
         "name": "engbert",
         "showlegend": true,
         "x": [
          0,
          1,
          2,
          3,
          4,
          5,
          6,
          7,
          8,
          9,
          10,
          11,
          12,
          13,
          14,
          15,
          16,
          17,
          18,
          19,
          20
         ],
         "y": [
          1.9023481748599091,
          3.567271958502746,
          4.445415522873395,
          4.439795899151546,
          4.453703223246936,
          4.356832564533119,
          4.3088963154889415,
          4.258707210021807,
          4.2155306374470545,
          4.1249566810933675,
          4.040737766899871,
          4.000141360418521,
          3.9238103878410397,
          3.850944085291347,
          3.780886191540611,
          3.713070677123157,
          3.646986207785713,
          3.582143526363712,
          3.5180387960139363,
          3.4541015212651174,
          3.389601294574093
         ],
         "type": "scatter",
         "xaxis": "x",
         "yaxis": "y"
        },
        {
         "error_y": {
          "array": [
           0.556801494588219,
           0.6970901465409662,
           1.1839356221283008,
           1.1303885521605623,
           0.9774993137382283,
           0.8761850998098197,
           0.8998220895151352,
           1.0771769003661178,
           1.2518739710452869,
           1.2506954689596383,
           1.3962950917396295,
           1.4428504104509703,
           1.4686683557289855,
           1.495769476392873,
           1.5294927565048442,
           1.5217560130406866,
           1.530574275401874,
           1.4734701050195778,
           1.4664248685876864,
           1.4598246176693384,
           1.4536432691319034
          ],
          "type": "data"
         },
         "legendgroup": "nh",
         "line": {
          "color": "#B68100"
         },
         "marker": {
          "color": "#B68100",
          "size": 5
         },
         "mode": "lines+markers",
         "name": "nh",
         "showlegend": true,
         "x": [
          0,
          1,
          2,
          3,
          4,
          5,
          6,
          7,
          8,
          9,
          10,
          11,
          12,
          13,
          14,
          15,
          16,
          17,
          18,
          19,
          20
         ],
         "y": [
          -0.6752832017967684,
          -0.48041543622271055,
          -0.10670784045094364,
          0.6526094592760597,
          1.429577738467162,
          1.94831447392529,
          2.225555256394629,
          2.5485545757581956,
          2.856730212761512,
          3.1253612065376375,
          3.318689677388612,
          3.371077371702666,
          3.409457321430415,
          3.4282338401530135,
          3.441754226509081,
          3.4020517227078706,
          3.4157623842365723,
          3.4003665169822144,
          3.3646938730270124,
          3.330263058663865,
          3.2969173927652924
         ],
         "type": "scatter",
         "xaxis": "x",
         "yaxis": "y"
        },
        {
         "error_y": {
          "array": [
           0.9380921388376688,
           0.7971364448274925,
           0.32090627213883594,
           0.30253752776825493,
           0.3466370741922438,
           0.36242896703533045,
           0.3577561208821145,
           0.3600653344506263,
           0.35645021561021795,
           0.3593155650622909,
           0.36247116396228585,
           0.3659653925216633,
           0.3698556293273474,
           0.374211451346899,
           0.3352259111965809,
           0.33775841791240174,
           0.34080985311128026,
           0.3445033730447644,
           0.34900507379285356,
           0.354545385312612,
           0.3614551753377714
          ],
          "type": "data"
         },
         "legendgroup": "remodnav",
         "line": {
          "color": "#750D86"
         },
         "marker": {
          "color": "#750D86",
          "size": 5
         },
         "mode": "lines+markers",
         "name": "remodnav",
         "showlegend": true,
         "x": [
          0,
          1,
          2,
          3,
          4,
          5,
          6,
          7,
          8,
          9,
          10,
          11,
          12,
          13,
          14,
          15,
          16,
          17,
          18,
          19,
          20
         ],
         "y": [
          0.8666130266331995,
          1.405004983706848,
          1.8892174401285466,
          2.2852251486771653,
          2.445134833083002,
          2.4389598430125083,
          2.4190612495290655,
          2.36948057746886,
          2.3410145307673056,
          2.3013233530838013,
          2.2649306294743994,
          2.231224035975901,
          2.1997352247697846,
          2.1700944674952174,
          2.1706833722760783,
          2.1447061961905876,
          2.119855287897118,
          2.0959425112748225,
          2.072791897557088,
          2.050228781947361,
          2.028066311324874
         ],
         "type": "scatter",
         "xaxis": "x",
         "yaxis": "y"
        },
        {
         "error_y": {
          "array": [
           0.5519718167798452,
           0.9085891812359167,
           0.7601887632915353,
           0.643028852421206,
           0.597454505132548,
           0.5721108743180217,
           0.5518763111263117,
           0.5353687385925656,
           0.5217231412618406,
           0.4790683879768143,
           0.4694906250654027,
           0.46155302458908176,
           0.45504210691550717,
           0.4497992994735986,
           0.4286753460171017,
           0.4260900914231985,
           0.42450919184897296,
           0.4238947707417566,
           0.42422870967544946,
           0.42551185290044446,
           0.4277644218677064
          ],
          "type": "data"
         },
         "legendgroup": "Other GT",
         "line": {
          "color": "#bab0ac",
          "dash": "dot"
         },
         "marker": {
          "color": "#bab0ac",
          "size": 5
         },
         "mode": "lines+markers",
         "name": "Other GT",
         "showlegend": false,
         "x": [
          0,
          1,
          2,
          3,
          4,
          5,
          6,
          7,
          8,
          9,
          10,
          11,
          12,
          13,
          14,
          15,
          16,
          17,
          18,
          19,
          20
         ],
         "y": [
          3.2297264120911753,
          4.554262763068762,
          4.824981146366957,
          5.019015573720975,
          5.040945758962913,
          4.940378811217213,
          4.854649943331128,
          4.779619415128066,
          4.71267722829841,
          4.670052328172694,
          4.614677997020787,
          4.5634917407163025,
          4.515803560703816,
          4.471076891932594,
          4.4527630344317,
          4.41290936750508,
          4.374973497258416,
          4.338715125932079,
          4.303928835392613,
          4.27043592002403,
          4.23807794734661
         ],
         "type": "scatter",
         "xaxis": "x2",
         "yaxis": "y2"
        },
        {
         "error_y": {
          "array": [
           1.318716931865937,
           0.5900005689735094,
           0.8051431062751054,
           0.7625589895792382,
           0.7911558818625212,
           0.8772421552427885,
           0.8566776498325324,
           0.801632526961192,
           0.740349827197536,
           0.7268134998662396,
           0.7154255729480817,
           0.7059068485210336,
           0.6980585695808076,
           0.6917402170901099,
           0.6868557644687391,
           0.6833452322041572,
           0.6811798500011433,
           0.6803599581160195,
           0.6809153129489317,
           0.682907893531288,
           0.6864377731276439
          ],
          "type": "data"
         },
         "legendgroup": "ivt",
         "line": {
          "color": "#E15F99"
         },
         "marker": {
          "color": "#E15F99",
          "size": 5
         },
         "mode": "lines+markers",
         "name": "ivt",
         "showlegend": false,
         "x": [
          0,
          1,
          2,
          3,
          4,
          5,
          6,
          7,
          8,
          9,
          10,
          11,
          12,
          13,
          14,
          15,
          16,
          17,
          18,
          19,
          20
         ],
         "y": [
          0.27539551159365666,
          2.4652148227986905,
          3.3527006407467823,
          3.6341675007569454,
          3.868445780490753,
          3.956699977988971,
          3.8564990739239344,
          3.794049421790696,
          3.7866017321910337,
          3.710071830230674,
          3.6389924642998692,
          3.5723327211940323,
          3.5093054103914887,
          3.4492920872668287,
          3.3917942894698396,
          3.3364005015308646,
          3.282762889968446,
          3.2305802400904113,
          3.179584831741047,
          3.129531707741698,
          3.0801891484318027
         ],
         "type": "scatter",
         "xaxis": "x2",
         "yaxis": "y2"
        },
        {
         "error_y": {
          "array": [
           1.1580166601041366,
           0.5415710617398891,
           0.7580770879837828,
           0.6824058034329307,
           0.6874937149274946,
           0.7403470936441527,
           0.6706309402961701,
           0.5565590449579769,
           0.5455779294506042,
           0.5375049029310606,
           0.5319521098604126,
           0.5286468308205662,
           0.5273960567903766,
           0.5280653431914516,
           0.5305660878593358,
           0.5348481768659793,
           0.5408963871761182,
           0.5487297653209554,
           0.558403762505408,
           0.5700153929257975,
           0.5837122472282752
          ],
          "type": "data"
         },
         "legendgroup": "ivvt",
         "line": {
          "color": "#1CA71C"
         },
         "marker": {
          "color": "#1CA71C",
          "size": 5
         },
         "mode": "lines+markers",
         "name": "ivvt",
         "showlegend": false,
         "x": [
          0,
          1,
          2,
          3,
          4,
          5,
          6,
          7,
          8,
          9,
          10,
          11,
          12,
          13,
          14,
          15,
          16,
          17,
          18,
          19,
          20
         ],
         "y": [
          0.4271911697864591,
          2.4195482118670784,
          3.3193750599196052,
          3.638209939143999,
          3.8372051415656094,
          3.9453063390434404,
          3.969989936286764,
          3.937957216311839,
          3.836825219795014,
          3.74347544851659,
          3.6562595053843823,
          3.573950744370023,
          3.4956031317303564,
          3.4204632064026614,
          3.34791237295187,
          3.277427263209689,
          3.2085511430986293,
          3.1408720810914756,
          3.074005052804524,
          3.0075758906574372,
          2.941205240640868
         ],
         "type": "scatter",
         "xaxis": "x2",
         "yaxis": "y2"
        },
        {
         "error_y": {
          "array": [
           0.21815330848367634,
           0.8253943993251142,
           0.5446911494327924,
           0.5269931530139975,
           0.3204948333969908,
           0.42755662593636934,
           0.5310957206038619,
           0.6096711295317755,
           0.648027337407297,
           0.6554964153256594,
           0.6732718144405035,
           0.6808610177205554,
           0.697710986284853,
           0.6843267597636051,
           0.6640390999952207,
           0.6715841204015977,
           0.6585996142313131,
           0.6667023306908763,
           0.6752386956617619,
           0.6842963569728757,
           0.7160346516318067
          ],
          "type": "data"
         },
         "legendgroup": "idt",
         "line": {
          "color": "#FB0D0D"
         },
         "marker": {
          "color": "#FB0D0D",
          "size": 5
         },
         "mode": "lines+markers",
         "name": "idt",
         "showlegend": false,
         "x": [
          0,
          1,
          2,
          3,
          4,
          5,
          6,
          7,
          8,
          9,
          10,
          11,
          12,
          13,
          14,
          15,
          16,
          17,
          18,
          19,
          20
         ],
         "y": [
          -0.829344346435061,
          -0.06189114739072948,
          0.9607537221025559,
          1.3713874215332014,
          1.9116869852785854,
          2.106968999663155,
          2.2134297637363667,
          2.2569955355716633,
          2.2363992407189928,
          2.189017411585736,
          2.1692295261968044,
          2.1283462168220844,
          2.0999716490985696,
          2.0749453738398396,
          2.0674814707099824,
          2.034616240397198,
          2.01403345720662,
          1.9833269354512528,
          1.9534106729712843,
          1.9241319081538715,
          1.9207596927312167
         ],
         "type": "scatter",
         "xaxis": "x2",
         "yaxis": "y2"
        },
        {
         "error_y": {
          "array": [
           0.6072806460026708,
           0.750609983461961,
           0.5163409406395018,
           0.519735009106198,
           0.31612407509314666,
           0.42526590219594324,
           0.5465226914197209,
           0.6194998504449135,
           0.6431061478297877,
           0.6507997157943312,
           0.6584902086294361,
           0.6662444891962328,
           0.6741233185316289,
           0.6821851489581797,
           0.6673453959549966,
           0.674955944669622,
           0.6828557150079679,
           0.6911068504173887,
           0.6997811286478601,
           0.708963879951379,
           0.7187593252709911
          ],
          "type": "data"
         },
         "legendgroup": "idvt",
         "line": {
          "color": "#DA16FF"
         },
         "marker": {
          "color": "#DA16FF",
          "size": 5
         },
         "mode": "lines+markers",
         "name": "idvt",
         "showlegend": false,
         "x": [
          0,
          1,
          2,
          3,
          4,
          5,
          6,
          7,
          8,
          9,
          10,
          11,
          12,
          13,
          14,
          15,
          16,
          17,
          18,
          19,
          20
         ],
         "y": [
          -0.5851082341028622,
          0.17336537381325262,
          1.0405412406086902,
          1.4247936136299864,
          1.967557061609344,
          2.175007875075571,
          2.293850725906924,
          2.325501786532413,
          2.298821746469357,
          2.251787477539956,
          2.208230348390363,
          2.167494769462674,
          2.1290802816020222,
          2.0925936063366115,
          2.073634107339232,
          2.0404086788173097,
          2.008330928362647,
          1.9772116815884353,
          1.9468828363754525,
          1.9171904687908479,
          1.887988693833554
         ],
         "type": "scatter",
         "xaxis": "x2",
         "yaxis": "y2"
        },
        {
         "error_y": {
          "array": [
           0.48039821970192303,
           0.9124415613625826,
           0.9223718432140879,
           0.943248314269737,
           0.8016401432250178,
           0.7503637506938092,
           0.6727922858000581,
           0.553713863086382,
           0.5484266924500958,
           0.5449190577954139,
           0.5429014981815368,
           0.5421706279763745,
           0.5425823054849586,
           0.5440354836428661,
           0.5464622994450646,
           0.5498220823796294,
           0.5540980479347845,
           0.5592960544990155,
           0.5654452009871165,
           0.5726003692537092,
           0.580847173279056
          ],
          "type": "data"
         },
         "legendgroup": "engbert",
         "line": {
          "color": "#222A2A"
         },
         "marker": {
          "color": "#222A2A",
          "size": 5
         },
         "mode": "lines+markers",
         "name": "engbert",
         "showlegend": false,
         "x": [
          0,
          1,
          2,
          3,
          4,
          5,
          6,
          7,
          8,
          9,
          10,
          11,
          12,
          13,
          14,
          15,
          16,
          17,
          18,
          19,
          20
         ],
         "y": [
          1.8759174067935365,
          3.4823711206936423,
          3.9860357742550883,
          4.327938349256365,
          4.344469847991261,
          4.231659375772045,
          4.215825240253096,
          4.257139994556819,
          4.1585312073894345,
          4.068059794985915,
          3.98406370306902,
          3.905314140198119,
          3.8308719160992686,
          3.7599981895568946,
          3.692096390185887,
          3.626672839906431,
          3.563308986146205,
          3.5016410020439888,
          3.4413440656540137,
          3.38211948890583,
          3.323683308365696
         ],
         "type": "scatter",
         "xaxis": "x2",
         "yaxis": "y2"
        },
        {
         "error_y": {
          "array": [
           0.6182263277996751,
           0.6350494178175425,
           0.8914066327121156,
           0.9688381315124835,
           0.987323115357715,
           0.7386942354169322,
           0.8888927063265392,
           0.9582535164191546,
           1.2356676822862787,
           1.3305644222844863,
           1.4155954549142926,
           1.4623224841575613,
           1.4510059059386409,
           1.5052549492987661,
           1.5707339846099377,
           1.5658143794595165,
           1.6122597073968354,
           1.5411135988256845,
           1.5261939118491554,
           1.5218971986186052,
           1.5180123895786641
          ],
          "type": "data"
         },
         "legendgroup": "nh",
         "line": {
          "color": "#B68100"
         },
         "marker": {
          "color": "#B68100",
          "size": 5
         },
         "mode": "lines+markers",
         "name": "nh",
         "showlegend": false,
         "x": [
          0,
          1,
          2,
          3,
          4,
          5,
          6,
          7,
          8,
          9,
          10,
          11,
          12,
          13,
          14,
          15,
          16,
          17,
          18,
          19,
          20
         ],
         "y": [
          -0.6521189993562322,
          -0.6686006477148185,
          -0.10875863799010296,
          0.43641676802007373,
          1.2907873371009333,
          1.8139639588565886,
          2.0571113776000463,
          2.311776776231487,
          2.7648854607078914,
          3.014987567045544,
          3.1193536306203526,
          3.2060613897547543,
          3.1784053890008654,
          3.242377298418456,
          3.2820853872369127,
          3.243876107956003,
          3.263409371706099,
          3.2578787535266858,
          3.2418349104340503,
          3.2080675023702283,
          3.175236866061358
         ],
         "type": "scatter",
         "xaxis": "x2",
         "yaxis": "y2"
        },
        {
         "error_y": {
          "array": [
           1.0764113069432455,
           0.6612365795318046,
           0.358919843717257,
           0.23397943895049375,
           0.3583864709885728,
           0.36731318988084116,
           0.350624597154932,
           0.3506378829647368,
           0.3394546258795688,
           0.33943719256062205,
           0.3394555089085172,
           0.33950785153855484,
           0.3395931857912189,
           0.3299467097940017,
           0.3295455301843402,
           0.32915130812592996,
           0.3287632975057243,
           0.3283808791115773,
           0.3280035330750678,
           0.3276308184431042,
           0.327262357768072
          ],
          "type": "data"
         },
         "legendgroup": "remodnav",
         "line": {
          "color": "#750D86"
         },
         "marker": {
          "color": "#750D86",
          "size": 5
         },
         "mode": "lines+markers",
         "name": "remodnav",
         "showlegend": false,
         "x": [
          0,
          1,
          2,
          3,
          4,
          5,
          6,
          7,
          8,
          9,
          10,
          11,
          12,
          13,
          14,
          15,
          16,
          17,
          18,
          19,
          20
         ],
         "y": [
          0.7494636997973024,
          1.3929117145033492,
          1.9617770950581739,
          2.2548425381593966,
          2.4166159581287316,
          2.439879358571489,
          2.404052480081649,
          2.3562819228959246,
          2.3362870930575466,
          2.2987591487544576,
          2.264616193910061,
          2.233262884603164,
          2.2042496228607495,
          2.189328219581224,
          2.1645544859744215,
          2.141289357950518,
          2.1193520703239646,
          2.098592989760957,
          2.078886808246374,
          2.060127506867439,
          2.042224563485082
         ],
         "type": "scatter",
         "xaxis": "x2",
         "yaxis": "y2"
        },
        {
         "error_y": {
          "array": [
           0.5410544035989735,
           0.44745641786654083,
           0.5779478678108794,
           0.7540904976932445,
           0.8801327146572988,
           0.8291709079099895,
           0.7785897782319908,
           0.8104958299940825,
           0.6978548215402511,
           0.81426238126551,
           0.7821096944776718,
           0.726794768975727,
           0.7163739779203956,
           0.6598764875748313,
           0.5938930095607668,
           0.5864870040756112,
           0.5797178920396209,
           0.5735186925763849,
           0.5678339310777766,
           0.5118492200264623,
           0.4560057669675861
          ],
          "type": "data"
         },
         "legendgroup": "Other GT",
         "line": {
          "color": "#bab0ac",
          "dash": "dot"
         },
         "marker": {
          "color": "#bab0ac",
          "size": 5
         },
         "mode": "lines+markers",
         "name": "Other GT",
         "showlegend": false,
         "x": [
          0,
          1,
          2,
          3,
          4,
          5,
          6,
          7,
          8,
          9,
          10,
          11,
          12,
          13,
          14,
          15,
          16,
          17,
          18,
          19,
          20
         ],
         "y": [
          2.466802506421932,
          3.4149549919383975,
          3.606030830139962,
          3.8238542755970366,
          4.125602768349149,
          4.105197900004373,
          4.194321386746545,
          4.276013123569913,
          4.29922885425002,
          4.436192271003042,
          4.469403406748292,
          4.439998851669424,
          4.3902132426814715,
          4.378112111710187,
          4.441538464680916,
          4.398806232729162,
          4.358248739626311,
          4.31961386302975,
          4.282690034521833,
          4.2720024214999395,
          4.274038080598163
         ],
         "type": "scatter",
         "xaxis": "x3",
         "yaxis": "y3"
        },
        {
         "error_y": {
          "array": [
           0.9460933610496347,
           0.4808403536492652,
           0.6044284143843227,
           0.7753262962330759,
           0.9391991061941266,
           1.042924489692584,
           0.9331993940389081,
           0.8979434913820823,
           0.9782936970542848,
           0.9753566520358687,
           1.0128112119695107,
           1.0076830379095798,
           0.9532076354089045,
           0.9121003061682031,
           0.8526143728041468,
           0.7945742767942805,
           0.7487398737519565,
           0.7476553089099796,
           0.747785010019492,
           0.7766176437102389,
           0.7730237679157692
          ],
          "type": "data"
         },
         "legendgroup": "ivt",
         "line": {
          "color": "#E15F99"
         },
         "marker": {
          "color": "#E15F99",
          "size": 5
         },
         "mode": "lines+markers",
         "name": "ivt",
         "showlegend": false,
         "x": [
          0,
          1,
          2,
          3,
          4,
          5,
          6,
          7,
          8,
          9,
          10,
          11,
          12,
          13,
          14,
          15,
          16,
          17,
          18,
          19,
          20
         ],
         "y": [
          0.17322571581160312,
          1.2618364687950874,
          1.7505558892940516,
          1.9912275974858307,
          2.2022873310742725,
          2.4053363174387523,
          2.563981818948515,
          2.6696143032403965,
          2.7677810532403995,
          2.7617150306520255,
          2.837430023671545,
          2.8866872466518663,
          2.978831849078398,
          3.1176417346992484,
          3.210221208465673,
          3.187201080750409,
          3.176598907743283,
          3.1263649291249807,
          3.0768561571540496,
          3.058615242381485,
          3.0384466246090036
         ],
         "type": "scatter",
         "xaxis": "x3",
         "yaxis": "y3"
        },
        {
         "error_y": {
          "array": [
           0.7209179900884483,
           0.358457872167177,
           0.5427090992593309,
           0.7424185704148014,
           0.9545848460429731,
           1.0302156996332332,
           0.913252256946929,
           0.8479638613955865,
           0.9615389827969677,
           0.9469850774988308,
           0.9755783232596473,
           0.9636029738050526,
           0.8985475727604953,
           0.8296142174504499,
           0.7595345304626112,
           0.7197392967603263,
           0.7045106546242068,
           0.7084046263685431,
           0.7143182003661886,
           0.7439019090008755,
           0.7547475566493093
          ],
          "type": "data"
         },
         "legendgroup": "ivvt",
         "line": {
          "color": "#1CA71C"
         },
         "marker": {
          "color": "#1CA71C",
          "size": 5
         },
         "mode": "lines+markers",
         "name": "ivvt",
         "showlegend": false,
         "x": [
          0,
          1,
          2,
          3,
          4,
          5,
          6,
          7,
          8,
          9,
          10,
          11,
          12,
          13,
          14,
          15,
          16,
          17,
          18,
          19,
          20
         ],
         "y": [
          0.5507375888601862,
          1.487705714850018,
          1.9046345014815604,
          2.1316136978811384,
          2.3048940260731072,
          2.5007107956865777,
          2.692758388205403,
          2.8075427261551447,
          2.927053663635698,
          2.886969678611149,
          2.9290137936305554,
          2.941887935933777,
          2.9925059599644483,
          3.0305736650708495,
          3.1111768750306035,
          3.075368156941944,
          3.044153400589586,
          2.979467324483033,
          2.915105612313936,
          2.8811360927406406,
          2.8151369531025545
         ],
         "type": "scatter",
         "xaxis": "x3",
         "yaxis": "y3"
        },
        {
         "error_y": {
          "array": [
           0.7195995793033779,
           0.7730777472797155,
           0.8702434995742474,
           1.0648129656474994,
           0.9426544706638454,
           0.8470787218362468,
           0.7141891160792706,
           0.6026483865175489,
           0.6120741543786479,
           0.42886596896944024,
           0.44192487123753194,
           0.561439092126779,
           0.5988609834195228,
           0.6166196367754008,
           0.6263290467287264,
           0.6161018209698458,
           0.6122304320392961,
           0.6180960402018818,
           0.6291582911565892,
           0.6507877158587974,
           0.6578187562869369
          ],
          "type": "data"
         },
         "legendgroup": "idt",
         "line": {
          "color": "#FB0D0D"
         },
         "marker": {
          "color": "#FB0D0D",
          "size": 5
         },
         "mode": "lines+markers",
         "name": "idt",
         "showlegend": false,
         "x": [
          0,
          1,
          2,
          3,
          4,
          5,
          6,
          7,
          8,
          9,
          10,
          11,
          12,
          13,
          14,
          15,
          16,
          17,
          18,
          19,
          20
         ],
         "y": [
          -0.4621828653963654,
          -0.28316988842593255,
          -0.1953147376549491,
          0.02775455831895941,
          0.3813934372830736,
          0.6803731495258887,
          0.9193870224942117,
          1.1984426162843942,
          1.4367686351755808,
          1.7016989447894406,
          1.8434246406995811,
          2.0585973144126877,
          2.1341026765085997,
          2.1762289750453214,
          2.1510373645029173,
          2.127761340364485,
          2.106132586025138,
          2.077191860641913,
          2.061720659236353,
          2.052291550895557,
          2.0257597058555903
         ],
         "type": "scatter",
         "xaxis": "x3",
         "yaxis": "y3"
        },
        {
         "error_y": {
          "array": [
           0.7756732872997216,
           0.7510375914488905,
           0.8223959763085037,
           0.9884076983322367,
           0.8773281591745586,
           0.8128314351857796,
           0.6987145181141703,
           0.6100592653845442,
           0.6044923732581517,
           0.6068823196673885,
           0.4614009715476417,
           0.576024972659195,
           0.6056311721871385,
           0.6240578513879189,
           0.6343855726492846,
           0.6244366153435315,
           0.6187536371283108,
           0.6249567372595884,
           0.6386698427201333,
           0.6637857403792513,
           0.6711397391031901
          ],
          "type": "data"
         },
         "legendgroup": "idvt",
         "line": {
          "color": "#DA16FF"
         },
         "marker": {
          "color": "#DA16FF",
          "size": 5
         },
         "mode": "lines+markers",
         "name": "idvt",
         "showlegend": false,
         "x": [
          0,
          1,
          2,
          3,
          4,
          5,
          6,
          7,
          8,
          9,
          10,
          11,
          12,
          13,
          14,
          15,
          16,
          17,
          18,
          19,
          20
         ],
         "y": [
          -0.3903152694311053,
          -0.16637957317009305,
          -0.08500342722453039,
          0.12690366483718543,
          0.4415873312344523,
          0.6843452565273282,
          0.8927117938841006,
          1.1886783725720427,
          1.4040232699767463,
          1.5775417727142633,
          1.8093828753698484,
          2.031758103027819,
          2.0902663338328744,
          2.149504309396364,
          2.123745416346944,
          2.0997712740369754,
          2.0771953045259837,
          2.0477045414591486,
          2.0318001963830286,
          2.0219754016232026,
          1.9948974305480562
         ],
         "type": "scatter",
         "xaxis": "x3",
         "yaxis": "y3"
        },
        {
         "error_y": {
          "array": [
           1.1434859524045533,
           0.798277382062212,
           0.6474178576316733,
           0.8089034008700711,
           0.8818787330235565,
           0.9494856281083841,
           0.8508946122344154,
           0.9707731937482424,
           0.9557428224934792,
           0.9852600413902872,
           0.9173157385479659,
           0.8729465228937378,
           0.9799648529359608,
           0.9105784727781774,
           0.8134194055579715,
           0.7369134567867347,
           0.5887822817036333,
           0.5675199111321843,
           0.5762377385739487,
           0.6338841443255605,
           0.6236570335943766
          ],
          "type": "data"
         },
         "legendgroup": "engbert",
         "line": {
          "color": "#222A2A"
         },
         "marker": {
          "color": "#222A2A",
          "size": 5
         },
         "mode": "lines+markers",
         "name": "engbert",
         "showlegend": false,
         "x": [
          0,
          1,
          2,
          3,
          4,
          5,
          6,
          7,
          8,
          9,
          10,
          11,
          12,
          13,
          14,
          15,
          16,
          17,
          18,
          19,
          20
         ],
         "y": [
          0.15809628914521695,
          0.9383855432855773,
          1.2281232434595328,
          1.3807183825401776,
          1.5603819733401727,
          1.7664075798960635,
          1.9585681756080888,
          2.1865587664766637,
          2.283304622554278,
          2.4053387936305164,
          2.4944644223283494,
          2.6454742032991625,
          2.8594455653884365,
          3.0119683507674337,
          3.1634491338262856,
          3.2372256582845593,
          3.286252951022127,
          3.3982131635703716,
          3.337541373034032,
          3.3537101530471105,
          3.3381081909591934
         ],
         "type": "scatter",
         "xaxis": "x3",
         "yaxis": "y3"
        },
        {
         "error_y": {
          "array": [
           1.0190118429867616,
           0.8270312784770105,
           0.5509250827310176,
           0.619751364806384,
           0.6904686343366672,
           0.7855164955936876,
           0.8375564263609461,
           1.0000554273822517,
           1.0334105600991337,
           1.0130825562013928,
           1.0223379216302417,
           1.04842480822385,
           1.0491552742042607,
           1.053766955670617,
           1.1479903434003207,
           1.2127540934668044,
           1.229492164188342,
           1.290164815666191,
           1.286003884093745,
           1.2775120070909807,
           1.3004759994083
          ],
          "type": "data"
         },
         "legendgroup": "nh",
         "line": {
          "color": "#B68100"
         },
         "marker": {
          "color": "#B68100",
          "size": 5
         },
         "mode": "lines+markers",
         "name": "nh",
         "showlegend": false,
         "x": [
          0,
          1,
          2,
          3,
          4,
          5,
          6,
          7,
          8,
          9,
          10,
          11,
          12,
          13,
          14,
          15,
          16,
          17,
          18,
          19,
          20
         ],
         "y": [
          0.9273837644615488,
          1.574815575046815,
          1.8447259279382968,
          1.85381521358742,
          1.9950297361949076,
          2.130212743814673,
          2.2939295216351145,
          2.4905087164796744,
          2.536353771548305,
          2.5973751889904078,
          2.6339428618426814,
          2.6751196566218165,
          2.6981990684197044,
          2.7153759832400994,
          2.8514898911417874,
          2.9360738748179047,
          2.9872563968131365,
          3.0443162636077696,
          3.01303236051065,
          2.9984112552880444,
          3.013640740049235
         ],
         "type": "scatter",
         "xaxis": "x3",
         "yaxis": "y3"
        },
        {
         "error_y": {
          "array": [
           1.0564316481061335,
           0.9700073991920439,
           0.9192719975175784,
           0.9591824970043373,
           0.8854497927070196,
           0.5834799949107077,
           0.5099385466421463,
           0.4722541891490592,
           0.508037166306476,
           0.49064919898071696,
           0.5030124733434131,
           0.5279439097410681,
           0.5248615620041008,
           0.46557631093697455,
           0.4744798370737056,
           0.5190343444154106,
           0.39931693327304213,
           0.3714112464120449,
           0.29617374707432653,
           0.3104327069699866,
           0.338211883705885
          ],
          "type": "data"
         },
         "legendgroup": "remodnav",
         "line": {
          "color": "#750D86"
         },
         "marker": {
          "color": "#750D86",
          "size": 5
         },
         "mode": "lines+markers",
         "name": "remodnav",
         "showlegend": false,
         "x": [
          0,
          1,
          2,
          3,
          4,
          5,
          6,
          7,
          8,
          9,
          10,
          11,
          12,
          13,
          14,
          15,
          16,
          17,
          18,
          19,
          20
         ],
         "y": [
          0.36315944462212596,
          0.40273238348044726,
          0.44605414101898305,
          0.4533603231780276,
          0.5778578926031808,
          1.0360400100933849,
          1.2923520667148578,
          1.4177852457666824,
          1.5317336427026738,
          1.5576737026350718,
          1.5427479065774363,
          1.582060747368821,
          1.5887098461835798,
          1.6920519948315964,
          1.7732616566061346,
          1.8492650128239376,
          1.9100168162784172,
          1.9374112721758536,
          2.010204837738215,
          2.0042138913074163,
          2.0004363822340867
         ],
         "type": "scatter",
         "xaxis": "x3",
         "yaxis": "y3"
        },
        {
         "error_y": {
          "array": [
           0.5492976952316244,
           0.4476445842055845,
           0.5580655590219227,
           0.5970093339298486,
           0.6988946461076528,
           0.6693129709777954,
           0.7965202450953836,
           0.8128053650663224,
           0.6897282267571814,
           0.7711836576281982,
           0.7196376572136366,
           0.6648695928119398,
           0.6584181379825934,
           0.600790605622517,
           0.5434087697976184,
           0.5406589620057214,
           0.5388006882271815,
           0.5377943502975918,
           0.5376181959986288,
           0.48791087384434895,
           0.4407373197510891
          ],
          "type": "data"
         },
         "legendgroup": "Other GT",
         "line": {
          "color": "#bab0ac",
          "dash": "dot"
         },
         "marker": {
          "color": "#bab0ac",
          "size": 5
         },
         "mode": "lines+markers",
         "name": "Other GT",
         "showlegend": false,
         "x": [
          0,
          1,
          2,
          3,
          4,
          5,
          6,
          7,
          8,
          9,
          10,
          11,
          12,
          13,
          14,
          15,
          16,
          17,
          18,
          19,
          20
         ],
         "y": [
          2.4684740166598407,
          3.4131246840472804,
          3.5971466652977937,
          3.7605390409898116,
          4.011904290518464,
          4.001424947046758,
          4.274255090959502,
          4.351831998745243,
          4.367894207856861,
          4.458764000058473,
          4.445397683992662,
          4.415752707990474,
          4.367105404473913,
          4.353158691520382,
          4.371648891909643,
          4.3312733636714,
          4.292803515169346,
          4.25599751347957,
          4.220648509590185,
          4.210833329529799,
          4.213073742479262
         ],
         "type": "scatter",
         "xaxis": "x4",
         "yaxis": "y4"
        },
        {
         "error_y": {
          "array": [
           1.0469913618788391,
           0.9374360698139352,
           0.7457306389263262,
           0.868476757284341,
           0.9755583430710325,
           1.0984821041660195,
           1.1640048941301846,
           1.103921301624566,
           1.1118433822942497,
           1.1575831751894308,
           1.0851682880651046,
           1.1308046961586709,
           1.1540104260351542,
           1.084758687058037,
           1.0575467931101556,
           0.9615218774073796,
           0.9192238920117969,
           0.8631455354328171,
           0.8395303232755197,
           0.804311822247637,
           0.8086673111203405
          ],
          "type": "data"
         },
         "legendgroup": "ivt",
         "line": {
          "color": "#E15F99"
         },
         "marker": {
          "color": "#E15F99",
          "size": 5
         },
         "mode": "lines+markers",
         "name": "ivt",
         "showlegend": false,
         "x": [
          0,
          1,
          2,
          3,
          4,
          5,
          6,
          7,
          8,
          9,
          10,
          11,
          12,
          13,
          14,
          15,
          16,
          17,
          18,
          19,
          20
         ],
         "y": [
          0.8280496259989979,
          1.1937990403330154,
          1.6388734581540807,
          1.7800652324220787,
          1.8730305244814909,
          2.068510099337308,
          2.335324797328009,
          2.4168752207092123,
          2.5304829283933876,
          2.609108300167956,
          2.631023675963433,
          2.6689793216964235,
          2.7805255644033835,
          2.8144605101077254,
          2.933072290216621,
          2.9654119421207676,
          2.9518545581138538,
          2.9743535510078596,
          2.9997757364581576,
          2.9748570034041606,
          2.92759885919008
         ],
         "type": "scatter",
         "xaxis": "x4",
         "yaxis": "y4"
        },
        {
         "error_y": {
          "array": [
           0.6212099756023804,
           0.5588329546572887,
           0.6924286373934175,
           0.8420553791025821,
           0.9184418637777731,
           1.0443149976216608,
           1.1260986350451754,
           1.0368524412758295,
           1.0260823616933603,
           1.1337782557740774,
           1.0703169304185594,
           1.0868942264983124,
           1.0929355898080868,
           0.9778026774160588,
           0.9713560211403707,
           0.9155910187419222,
           0.8631792003751141,
           0.8552056883974875,
           0.7925921711818761,
           0.7739547931761175,
           0.7861971517196692
          ],
          "type": "data"
         },
         "legendgroup": "ivvt",
         "line": {
          "color": "#1CA71C"
         },
         "marker": {
          "color": "#1CA71C",
          "size": 5
         },
         "mode": "lines+markers",
         "name": "ivvt",
         "showlegend": false,
         "x": [
          0,
          1,
          2,
          3,
          4,
          5,
          6,
          7,
          8,
          9,
          10,
          11,
          12,
          13,
          14,
          15,
          16,
          17,
          18,
          19,
          20
         ],
         "y": [
          1.112902889918335,
          1.4588651750118633,
          1.757325124272562,
          1.9164802203087585,
          1.9678077239488023,
          2.148210090573542,
          2.4110041134408045,
          2.451886220826143,
          2.6065970015609135,
          2.711645050799233,
          2.7405711200441893,
          2.772448012708654,
          2.827190294138185,
          2.8885763491810517,
          2.914936081542584,
          2.921218634191003,
          2.897351839588181,
          2.882214527635532,
          2.9222344004465435,
          2.87145932160245,
          2.806977167645331
         ],
         "type": "scatter",
         "xaxis": "x4",
         "yaxis": "y4"
        },
        {
         "error_y": {
          "array": [
           0.8442585902045148,
           0.865619205423822,
           0.9155678970301467,
           1.084043619053558,
           0.9514807488345501,
           0.6902122727687627,
           0.7086312005458997,
           0.7328672711753292,
           0.6485113150724074,
           0.39519354118510547,
           0.49411088601994546,
           0.5852449603034577,
           0.5981801733519304,
           0.621822178159983,
           0.6472503056293931,
           0.6631836504052542,
           0.6599242212923241,
           0.6674364357827423,
           0.6753763812926775,
           0.6950727611421795,
           0.7045670538217128
          ],
          "type": "data"
         },
         "legendgroup": "idt",
         "line": {
          "color": "#FB0D0D"
         },
         "marker": {
          "color": "#FB0D0D",
          "size": 5
         },
         "mode": "lines+markers",
         "name": "idt",
         "showlegend": false,
         "x": [
          0,
          1,
          2,
          3,
          4,
          5,
          6,
          7,
          8,
          9,
          10,
          11,
          12,
          13,
          14,
          15,
          16,
          17,
          18,
          19,
          20
         ],
         "y": [
          -0.2828577261923327,
          -0.24250634659004275,
          0.04386565334622531,
          0.18231459160570185,
          0.4997631004034667,
          0.7756976502575341,
          1.0034683545093634,
          1.2462019205053494,
          1.47608880879986,
          1.718615389439724,
          1.855707864274849,
          1.9754601044788007,
          2.036823890754858,
          2.0385946901567706,
          2.045176817662875,
          2.0229485251447348,
          2.0378963939173884,
          2.00699268376125,
          1.9768667310403711,
          1.9606647466799487,
          1.9321320402581517
         ],
         "type": "scatter",
         "xaxis": "x4",
         "yaxis": "y4"
        },
        {
         "error_y": {
          "array": [
           0.7593255917005071,
           0.8474623531358733,
           0.8438924159524014,
           1.0089473392245927,
           0.9504350643399799,
           0.6981899884498071,
           0.6796587179633755,
           0.7324773598971557,
           0.6433808571019795,
           0.6672260793745215,
           0.5279296986320711,
           0.6198355950579443,
           0.6330682502909215,
           0.6480267022963898,
           0.6703452478718703,
           0.6868996359014569,
           0.6706040799635615,
           0.6784029590857712,
           0.6866183415291243,
           0.708963879951379,
           0.7187593252709911
          ],
          "type": "data"
         },
         "legendgroup": "idvt",
         "line": {
          "color": "#DA16FF"
         },
         "marker": {
          "color": "#DA16FF",
          "size": 5
         },
         "mode": "lines+markers",
         "name": "idvt",
         "showlegend": false,
         "x": [
          0,
          1,
          2,
          3,
          4,
          5,
          6,
          7,
          8,
          9,
          10,
          11,
          12,
          13,
          14,
          15,
          16,
          17,
          18,
          19,
          20
         ],
         "y": [
          -0.4438337564486146,
          -0.2783159482402298,
          0.11239118735612148,
          0.2539396495982877,
          0.5308078397278502,
          0.7885884024183768,
          0.9851219647263006,
          1.2442372123395862,
          1.4572418746856226,
          1.5630716356138576,
          1.8281553880925208,
          1.9446647127945476,
          2.01518296821806,
          2.009597606993385,
          2.0126307174451394,
          1.9897881787783154,
          1.9964201415852614,
          1.9648534815948326,
          1.9340660477116536,
          1.9171904687908479,
          1.887988693833554
         ],
         "type": "scatter",
         "xaxis": "x4",
         "yaxis": "y4"
        },
        {
         "error_y": {
          "array": [
           1.126603120691867,
           0.6348035316432646,
           0.671677149344735,
           0.702440622975,
           0.7934185102818593,
           0.6682712910242067,
           0.735949552264221,
           1.0283121521459155,
           1.0427739528934723,
           1.0012067384275938,
           0.980025041273834,
           1.0198487105146323,
           1.052145551547846,
           1.1108154894580562,
           0.9991055246967081,
           0.8877961888309448,
           0.7865665199290324,
           0.7127601330157409,
           0.6665785666371472,
           0.699697462799348,
           0.6678505171800185
          ],
          "type": "data"
         },
         "legendgroup": "engbert",
         "line": {
          "color": "#222A2A"
         },
         "marker": {
          "color": "#222A2A",
          "size": 5
         },
         "mode": "lines+markers",
         "name": "engbert",
         "showlegend": false,
         "x": [
          0,
          1,
          2,
          3,
          4,
          5,
          6,
          7,
          8,
          9,
          10,
          11,
          12,
          13,
          14,
          15,
          16,
          17,
          18,
          19,
          20
         ],
         "y": [
          0.4176085222787062,
          0.9769870875701453,
          1.1164117473706703,
          1.1473744451975556,
          1.2417748598023617,
          1.353610630829314,
          1.6357098969666362,
          1.8931221119839525,
          1.9945362313999957,
          2.0402643794542104,
          2.2149396026672803,
          2.4481404204318187,
          2.665515775618956,
          2.863211891777045,
          2.9496331439570143,
          3.0308672414432567,
          3.0917215205625674,
          3.167047520359879,
          3.173816336425775,
          3.2952857890449403,
          3.2552660183876876
         ],
         "type": "scatter",
         "xaxis": "x4",
         "yaxis": "y4"
        },
        {
         "error_y": {
          "array": [
           1.0544802483525109,
           0.8920013766735816,
           0.6673045387277335,
           0.6829750824778641,
           0.7106011758648183,
           0.6972031819035649,
           0.7952523289889102,
           0.8785637034174774,
           0.8137686495350998,
           0.9402398931043054,
           0.936023645126544,
           1.0017008696450933,
           1.0033688368555733,
           1.0105325442869604,
           1.0887348399402952,
           1.154733884819164,
           1.2640217877311168,
           1.2617107477960667,
           1.2997019626363426,
           1.3820737883139977,
           1.3797846661588182
          ],
          "type": "data"
         },
         "legendgroup": "nh",
         "line": {
          "color": "#B68100"
         },
         "marker": {
          "color": "#B68100",
          "size": 5
         },
         "mode": "lines+markers",
         "name": "nh",
         "showlegend": false,
         "x": [
          0,
          1,
          2,
          3,
          4,
          5,
          6,
          7,
          8,
          9,
          10,
          11,
          12,
          13,
          14,
          15,
          16,
          17,
          18,
          19,
          20
         ],
         "y": [
          0.9189533235359191,
          1.6039604512590266,
          1.8532433682037581,
          1.7928967766003918,
          1.813843295405885,
          1.9037040373158405,
          2.1556584890894266,
          2.3058745540674743,
          2.4571029535432483,
          2.6163495288537595,
          2.595192418365658,
          2.625722433879182,
          2.636838763915931,
          2.6568353866269403,
          2.7738444735808865,
          2.8090113313823863,
          2.898593415913777,
          2.8664676895217513,
          2.926406931730017,
          2.9845189234599507,
          2.954469473418661
         ],
         "type": "scatter",
         "xaxis": "x4",
         "yaxis": "y4"
        },
        {
         "error_y": {
          "array": [
           1.1569121404552907,
           0.9573295615675529,
           0.8657783149897573,
           0.7722712067765768,
           0.767376388707707,
           0.8569537071453972,
           0.7158741834427523,
           0.749428034350327,
           0.8051620151176399,
           0.6669382252278175,
           0.7167347501978848,
           0.7180490357802312,
           0.6581751268042334,
           0.6636456544705077,
           0.6227857407630036,
           0.6888310337782724,
           0.4979842817106924,
           0.38028928636900056,
           0.3287602993407336,
           0.31855017827386084,
           0.33655422000273594
          ],
          "type": "data"
         },
         "legendgroup": "remodnav",
         "line": {
          "color": "#750D86"
         },
         "marker": {
          "color": "#750D86",
          "size": 5
         },
         "mode": "lines+markers",
         "name": "remodnav",
         "showlegend": false,
         "x": [
          0,
          1,
          2,
          3,
          4,
          5,
          6,
          7,
          8,
          9,
          10,
          11,
          12,
          13,
          14,
          15,
          16,
          17,
          18,
          19,
          20
         ],
         "y": [
          0.5132432793605672,
          0.5843437298869681,
          0.6210173912820292,
          0.6251271129406096,
          0.5984622521749052,
          0.7378575755223543,
          0.9126130870664227,
          1.0590463139457522,
          1.1569278005236738,
          1.328077577287221,
          1.3824550080960711,
          1.4682138517484746,
          1.512844345403303,
          1.593847592767313,
          1.653307987226579,
          1.7018876830798586,
          1.8133512037114448,
          1.9342879051295214,
          1.9511623304858585,
          2.0030660419388613,
          1.9969157426461661
         ],
         "type": "scatter",
         "xaxis": "x4",
         "yaxis": "y4"
        }
       ],
       "layout": {
        "template": {
         "data": {
          "histogram2dcontour": [
           {
            "type": "histogram2dcontour",
            "colorbar": {
             "outlinewidth": 0,
             "ticks": ""
            },
            "colorscale": [
             [
              0.0,
              "#0d0887"
             ],
             [
              0.1111111111111111,
              "#46039f"
             ],
             [
              0.2222222222222222,
              "#7201a8"
             ],
             [
              0.3333333333333333,
              "#9c179e"
             ],
             [
              0.4444444444444444,
              "#bd3786"
             ],
             [
              0.5555555555555556,
              "#d8576b"
             ],
             [
              0.6666666666666666,
              "#ed7953"
             ],
             [
              0.7777777777777778,
              "#fb9f3a"
             ],
             [
              0.8888888888888888,
              "#fdca26"
             ],
             [
              1.0,
              "#f0f921"
             ]
            ]
           }
          ],
          "choropleth": [
           {
            "type": "choropleth",
            "colorbar": {
             "outlinewidth": 0,
             "ticks": ""
            }
           }
          ],
          "histogram2d": [
           {
            "type": "histogram2d",
            "colorbar": {
             "outlinewidth": 0,
             "ticks": ""
            },
            "colorscale": [
             [
              0.0,
              "#0d0887"
             ],
             [
              0.1111111111111111,
              "#46039f"
             ],
             [
              0.2222222222222222,
              "#7201a8"
             ],
             [
              0.3333333333333333,
              "#9c179e"
             ],
             [
              0.4444444444444444,
              "#bd3786"
             ],
             [
              0.5555555555555556,
              "#d8576b"
             ],
             [
              0.6666666666666666,
              "#ed7953"
             ],
             [
              0.7777777777777778,
              "#fb9f3a"
             ],
             [
              0.8888888888888888,
              "#fdca26"
             ],
             [
              1.0,
              "#f0f921"
             ]
            ]
           }
          ],
          "heatmap": [
           {
            "type": "heatmap",
            "colorbar": {
             "outlinewidth": 0,
             "ticks": ""
            },
            "colorscale": [
             [
              0.0,
              "#0d0887"
             ],
             [
              0.1111111111111111,
              "#46039f"
             ],
             [
              0.2222222222222222,
              "#7201a8"
             ],
             [
              0.3333333333333333,
              "#9c179e"
             ],
             [
              0.4444444444444444,
              "#bd3786"
             ],
             [
              0.5555555555555556,
              "#d8576b"
             ],
             [
              0.6666666666666666,
              "#ed7953"
             ],
             [
              0.7777777777777778,
              "#fb9f3a"
             ],
             [
              0.8888888888888888,
              "#fdca26"
             ],
             [
              1.0,
              "#f0f921"
             ]
            ]
           }
          ],
          "heatmapgl": [
           {
            "type": "heatmapgl",
            "colorbar": {
             "outlinewidth": 0,
             "ticks": ""
            },
            "colorscale": [
             [
              0.0,
              "#0d0887"
             ],
             [
              0.1111111111111111,
              "#46039f"
             ],
             [
              0.2222222222222222,
              "#7201a8"
             ],
             [
              0.3333333333333333,
              "#9c179e"
             ],
             [
              0.4444444444444444,
              "#bd3786"
             ],
             [
              0.5555555555555556,
              "#d8576b"
             ],
             [
              0.6666666666666666,
              "#ed7953"
             ],
             [
              0.7777777777777778,
              "#fb9f3a"
             ],
             [
              0.8888888888888888,
              "#fdca26"
             ],
             [
              1.0,
              "#f0f921"
             ]
            ]
           }
          ],
          "contourcarpet": [
           {
            "type": "contourcarpet",
            "colorbar": {
             "outlinewidth": 0,
             "ticks": ""
            }
           }
          ],
          "contour": [
           {
            "type": "contour",
            "colorbar": {
             "outlinewidth": 0,
             "ticks": ""
            },
            "colorscale": [
             [
              0.0,
              "#0d0887"
             ],
             [
              0.1111111111111111,
              "#46039f"
             ],
             [
              0.2222222222222222,
              "#7201a8"
             ],
             [
              0.3333333333333333,
              "#9c179e"
             ],
             [
              0.4444444444444444,
              "#bd3786"
             ],
             [
              0.5555555555555556,
              "#d8576b"
             ],
             [
              0.6666666666666666,
              "#ed7953"
             ],
             [
              0.7777777777777778,
              "#fb9f3a"
             ],
             [
              0.8888888888888888,
              "#fdca26"
             ],
             [
              1.0,
              "#f0f921"
             ]
            ]
           }
          ],
          "surface": [
           {
            "type": "surface",
            "colorbar": {
             "outlinewidth": 0,
             "ticks": ""
            },
            "colorscale": [
             [
              0.0,
              "#0d0887"
             ],
             [
              0.1111111111111111,
              "#46039f"
             ],
             [
              0.2222222222222222,
              "#7201a8"
             ],
             [
              0.3333333333333333,
              "#9c179e"
             ],
             [
              0.4444444444444444,
              "#bd3786"
             ],
             [
              0.5555555555555556,
              "#d8576b"
             ],
             [
              0.6666666666666666,
              "#ed7953"
             ],
             [
              0.7777777777777778,
              "#fb9f3a"
             ],
             [
              0.8888888888888888,
              "#fdca26"
             ],
             [
              1.0,
              "#f0f921"
             ]
            ]
           }
          ],
          "mesh3d": [
           {
            "type": "mesh3d",
            "colorbar": {
             "outlinewidth": 0,
             "ticks": ""
            }
           }
          ],
          "scatter": [
           {
            "marker": {
             "line": {
              "color": "#283442"
             }
            },
            "type": "scatter"
           }
          ],
          "parcoords": [
           {
            "type": "parcoords",
            "line": {
             "colorbar": {
              "outlinewidth": 0,
              "ticks": ""
             }
            }
           }
          ],
          "scatterpolargl": [
           {
            "type": "scatterpolargl",
            "marker": {
             "colorbar": {
              "outlinewidth": 0,
              "ticks": ""
             }
            }
           }
          ],
          "bar": [
           {
            "error_x": {
             "color": "#f2f5fa"
            },
            "error_y": {
             "color": "#f2f5fa"
            },
            "marker": {
             "line": {
              "color": "rgb(17,17,17)",
              "width": 0.5
             },
             "pattern": {
              "fillmode": "overlay",
              "size": 10,
              "solidity": 0.2
             }
            },
            "type": "bar"
           }
          ],
          "scattergeo": [
           {
            "type": "scattergeo",
            "marker": {
             "colorbar": {
              "outlinewidth": 0,
              "ticks": ""
             }
            }
           }
          ],
          "scatterpolar": [
           {
            "type": "scatterpolar",
            "marker": {
             "colorbar": {
              "outlinewidth": 0,
              "ticks": ""
             }
            }
           }
          ],
          "histogram": [
           {
            "marker": {
             "pattern": {
              "fillmode": "overlay",
              "size": 10,
              "solidity": 0.2
             }
            },
            "type": "histogram"
           }
          ],
          "scattergl": [
           {
            "marker": {
             "line": {
              "color": "#283442"
             }
            },
            "type": "scattergl"
           }
          ],
          "scatter3d": [
           {
            "type": "scatter3d",
            "line": {
             "colorbar": {
              "outlinewidth": 0,
              "ticks": ""
             }
            },
            "marker": {
             "colorbar": {
              "outlinewidth": 0,
              "ticks": ""
             }
            }
           }
          ],
          "scattermapbox": [
           {
            "type": "scattermapbox",
            "marker": {
             "colorbar": {
              "outlinewidth": 0,
              "ticks": ""
             }
            }
           }
          ],
          "scatterternary": [
           {
            "type": "scatterternary",
            "marker": {
             "colorbar": {
              "outlinewidth": 0,
              "ticks": ""
             }
            }
           }
          ],
          "scattercarpet": [
           {
            "type": "scattercarpet",
            "marker": {
             "colorbar": {
              "outlinewidth": 0,
              "ticks": ""
             }
            }
           }
          ],
          "carpet": [
           {
            "aaxis": {
             "endlinecolor": "#A2B1C6",
             "gridcolor": "#506784",
             "linecolor": "#506784",
             "minorgridcolor": "#506784",
             "startlinecolor": "#A2B1C6"
            },
            "baxis": {
             "endlinecolor": "#A2B1C6",
             "gridcolor": "#506784",
             "linecolor": "#506784",
             "minorgridcolor": "#506784",
             "startlinecolor": "#A2B1C6"
            },
            "type": "carpet"
           }
          ],
          "table": [
           {
            "cells": {
             "fill": {
              "color": "#506784"
             },
             "line": {
              "color": "rgb(17,17,17)"
             }
            },
            "header": {
             "fill": {
              "color": "#2a3f5f"
             },
             "line": {
              "color": "rgb(17,17,17)"
             }
            },
            "type": "table"
           }
          ],
          "barpolar": [
           {
            "marker": {
             "line": {
              "color": "rgb(17,17,17)",
              "width": 0.5
             },
             "pattern": {
              "fillmode": "overlay",
              "size": 10,
              "solidity": 0.2
             }
            },
            "type": "barpolar"
           }
          ],
          "pie": [
           {
            "automargin": true,
            "type": "pie"
           }
          ]
         },
         "layout": {
          "autotypenumbers": "strict",
          "colorway": [
           "#636efa",
           "#EF553B",
           "#00cc96",
           "#ab63fa",
           "#FFA15A",
           "#19d3f3",
           "#FF6692",
           "#B6E880",
           "#FF97FF",
           "#FECB52"
          ],
          "font": {
           "color": "#f2f5fa"
          },
          "hovermode": "closest",
          "hoverlabel": {
           "align": "left"
          },
          "paper_bgcolor": "rgb(17,17,17)",
          "plot_bgcolor": "rgb(17,17,17)",
          "polar": {
           "bgcolor": "rgb(17,17,17)",
           "angularaxis": {
            "gridcolor": "#506784",
            "linecolor": "#506784",
            "ticks": ""
           },
           "radialaxis": {
            "gridcolor": "#506784",
            "linecolor": "#506784",
            "ticks": ""
           }
          },
          "ternary": {
           "bgcolor": "rgb(17,17,17)",
           "aaxis": {
            "gridcolor": "#506784",
            "linecolor": "#506784",
            "ticks": ""
           },
           "baxis": {
            "gridcolor": "#506784",
            "linecolor": "#506784",
            "ticks": ""
           },
           "caxis": {
            "gridcolor": "#506784",
            "linecolor": "#506784",
            "ticks": ""
           }
          },
          "coloraxis": {
           "colorbar": {
            "outlinewidth": 0,
            "ticks": ""
           }
          },
          "colorscale": {
           "sequential": [
            [
             0.0,
             "#0d0887"
            ],
            [
             0.1111111111111111,
             "#46039f"
            ],
            [
             0.2222222222222222,
             "#7201a8"
            ],
            [
             0.3333333333333333,
             "#9c179e"
            ],
            [
             0.4444444444444444,
             "#bd3786"
            ],
            [
             0.5555555555555556,
             "#d8576b"
            ],
            [
             0.6666666666666666,
             "#ed7953"
            ],
            [
             0.7777777777777778,
             "#fb9f3a"
            ],
            [
             0.8888888888888888,
             "#fdca26"
            ],
            [
             1.0,
             "#f0f921"
            ]
           ],
           "sequentialminus": [
            [
             0.0,
             "#0d0887"
            ],
            [
             0.1111111111111111,
             "#46039f"
            ],
            [
             0.2222222222222222,
             "#7201a8"
            ],
            [
             0.3333333333333333,
             "#9c179e"
            ],
            [
             0.4444444444444444,
             "#bd3786"
            ],
            [
             0.5555555555555556,
             "#d8576b"
            ],
            [
             0.6666666666666666,
             "#ed7953"
            ],
            [
             0.7777777777777778,
             "#fb9f3a"
            ],
            [
             0.8888888888888888,
             "#fdca26"
            ],
            [
             1.0,
             "#f0f921"
            ]
           ],
           "diverging": [
            [
             0,
             "#8e0152"
            ],
            [
             0.1,
             "#c51b7d"
            ],
            [
             0.2,
             "#de77ae"
            ],
            [
             0.3,
             "#f1b6da"
            ],
            [
             0.4,
             "#fde0ef"
            ],
            [
             0.5,
             "#f7f7f7"
            ],
            [
             0.6,
             "#e6f5d0"
            ],
            [
             0.7,
             "#b8e186"
            ],
            [
             0.8,
             "#7fbc41"
            ],
            [
             0.9,
             "#4d9221"
            ],
            [
             1,
             "#276419"
            ]
           ]
          },
          "xaxis": {
           "gridcolor": "#283442",
           "linecolor": "#506784",
           "ticks": "",
           "title": {
            "standoff": 15
           },
           "zerolinecolor": "#283442",
           "automargin": true,
           "zerolinewidth": 2
          },
          "yaxis": {
           "gridcolor": "#283442",
           "linecolor": "#506784",
           "ticks": "",
           "title": {
            "standoff": 15
           },
           "zerolinecolor": "#283442",
           "automargin": true,
           "zerolinewidth": 2
          },
          "scene": {
           "xaxis": {
            "backgroundcolor": "rgb(17,17,17)",
            "gridcolor": "#506784",
            "linecolor": "#506784",
            "showbackground": true,
            "ticks": "",
            "zerolinecolor": "#C8D4E3",
            "gridwidth": 2
           },
           "yaxis": {
            "backgroundcolor": "rgb(17,17,17)",
            "gridcolor": "#506784",
            "linecolor": "#506784",
            "showbackground": true,
            "ticks": "",
            "zerolinecolor": "#C8D4E3",
            "gridwidth": 2
           },
           "zaxis": {
            "backgroundcolor": "rgb(17,17,17)",
            "gridcolor": "#506784",
            "linecolor": "#506784",
            "showbackground": true,
            "ticks": "",
            "zerolinecolor": "#C8D4E3",
            "gridwidth": 2
           }
          },
          "shapedefaults": {
           "line": {
            "color": "#f2f5fa"
           }
          },
          "annotationdefaults": {
           "arrowcolor": "#f2f5fa",
           "arrowhead": 0,
           "arrowwidth": 1
          },
          "geo": {
           "bgcolor": "rgb(17,17,17)",
           "landcolor": "rgb(17,17,17)",
           "subunitcolor": "#506784",
           "showland": true,
           "showlakes": true,
           "lakecolor": "rgb(17,17,17)"
          },
          "title": {
           "x": 0.05
          },
          "updatemenudefaults": {
           "bgcolor": "#506784",
           "borderwidth": 0
          },
          "sliderdefaults": {
           "bgcolor": "#C8D4E3",
           "borderwidth": 1,
           "bordercolor": "rgb(17,17,17)",
           "tickwidth": 0
          },
          "mapbox": {
           "style": "dark"
          }
         }
        },
        "xaxis": {
         "anchor": "y",
         "domain": [
          0.0,
          0.485
         ],
         "matches": "x3",
         "showticklabels": false
        },
        "yaxis": {
         "anchor": "x",
         "domain": [
          0.5125,
          1.0
         ],
         "matches": "y3",
         "title": {
          "text": "d'"
         }
        },
        "xaxis2": {
         "anchor": "y2",
         "domain": [
          0.495,
          0.98
         ],
         "matches": "x3",
         "showticklabels": false
        },
        "yaxis2": {
         "anchor": "x2",
         "domain": [
          0.5125,
          1.0
         ],
         "matches": "y3",
         "showticklabels": false
        },
        "xaxis3": {
         "anchor": "y3",
         "domain": [
          0.0,
          0.485
         ],
         "title": {
          "text": "Threshold (samples)"
         }
        },
        "yaxis3": {
         "anchor": "x3",
         "domain": [
          0.0,
          0.4875
         ],
         "title": {
          "text": "d'"
         }
        },
        "xaxis4": {
         "anchor": "y4",
         "domain": [
          0.495,
          0.98
         ],
         "matches": "x3",
         "title": {
          "text": "Threshold (samples)"
         }
        },
        "yaxis4": {
         "anchor": "x4",
         "domain": [
          0.0,
          0.4875
         ],
         "matches": "y3",
         "showticklabels": false
        },
        "annotations": [
         {
          "font": {
           "size": 16
          },
          "showarrow": false,
          "text": "RA",
          "x": 0.2425,
          "xanchor": "center",
          "xref": "paper",
          "y": 1.0,
          "yanchor": "bottom",
          "yref": "paper"
         },
         {
          "font": {
           "size": 16
          },
          "showarrow": false,
          "text": "MN",
          "x": 0.7375,
          "xanchor": "center",
          "xref": "paper",
          "y": 1.0,
          "yanchor": "bottom",
          "yref": "paper"
         },
         {
          "font": {
           "size": 16
          },
          "showarrow": false,
          "text": "Onset",
          "textangle": 90,
          "x": 0.98,
          "xanchor": "left",
          "xref": "paper",
          "y": 0.75625,
          "yanchor": "middle",
          "yref": "paper"
         },
         {
          "font": {
           "size": 16
          },
          "showarrow": false,
          "text": "Offset",
          "textangle": 90,
          "x": 0.98,
          "xanchor": "left",
          "xref": "paper",
          "y": 0.24375,
          "yanchor": "middle",
          "yref": "paper"
         }
        ],
        "legend": {
         "orientation": "h",
         "yanchor": "bottom",
         "y": -0.3,
         "xanchor": "left",
         "x": 0.25
        },
        "title": {
         "text": "d' (fixations)"
        },
        "width": 1400,
        "height": 500,
        "paper_bgcolor": "rgba(0, 0, 0, 0)",
        "plot_bgcolor": "rgba(0, 0, 0, 0)"
       },
       "config": {
        "plotlyServerURL": "https://plot.ly"
       }
      },
      "text/html": [
       "<div>                            <div id=\"f86db9a4-a286-4fcf-b96d-368eabcf8dba\" class=\"plotly-graph-div\" style=\"height:500px; width:1400px;\"></div>            <script type=\"text/javascript\">                require([\"plotly\"], function(Plotly) {                    window.PLOTLYENV=window.PLOTLYENV || {};                                    if (document.getElementById(\"f86db9a4-a286-4fcf-b96d-368eabcf8dba\")) {                    Plotly.newPlot(                        \"f86db9a4-a286-4fcf-b96d-368eabcf8dba\",                        [{\"error_y\":{\"array\":[0.5206229256788063,0.7082393259113906,0.826558823633675,0.7294390178365348,0.7013525355936558,0.6732127667114837,0.6498591158137099,0.6299516825141449,0.6126481558547409,0.5543104272508766,0.5410423286644802,0.5290967373619114,0.5182589932262862,0.5083633010275111,0.4853424015433431,0.47721312926335274,0.4696618120436715,0.4626219023660679,0.45603791169111585,0.44986313125237015,0.44405791899766694],\"type\":\"data\"},\"legendgroup\":\"Other GT\",\"line\":{\"color\":\"#bab0ac\",\"dash\":\"dot\"},\"marker\":{\"color\":\"#bab0ac\",\"size\":5},\"mode\":\"lines+markers\",\"name\":\"Other GT\",\"showlegend\":true,\"x\":[0,1,2,3,4,5,6,7,8,9,10,11,12,13,14,15,16,17,18,19,20],\"y\":[3.222385611721528,4.404921268258734,4.853328632265901,5.011625715781178,5.087025525164136,4.982241601709539,4.893061759058596,4.815143527571105,4.745750543271325,4.757261520995981,4.6976620660538355,4.642699814092724,4.591624380664596,4.543854440729409,4.550363176564326,4.506502267579298,4.464912333387661,4.425331677689393,4.387540791542888,4.351353600012058,4.316610868561088],\"type\":\"scatter\",\"xaxis\":\"x\",\"yaxis\":\"y\"},{\"error_y\":{\"array\":[1.1079301843127438,0.4840462789621196,0.9547553182932068,0.9870066566749596,0.952266351660334,0.9305386704820776,0.9089886655940822,0.8515701113052614,0.8360200194417222,0.7839503155421471,0.745288699914021,0.7347187443260899,0.7257196521389737,0.7181571525653526,0.7119445441825397,0.7070358603207322,0.7034234165322486,0.7011393994602722,0.7002621047047394,0.7009286997931949,0.7033586448182463],\"type\":\"data\"},\"legendgroup\":\"ivt\",\"line\":{\"color\":\"#E15F99\"},\"marker\":{\"color\":\"#E15F99\",\"size\":5},\"mode\":\"lines+markers\",\"name\":\"ivt\",\"showlegend\":true,\"x\":[0,1,2,3,4,5,6,7,8,9,10,11,12,13,14,15,16,17,18,19,20],\"y\":[-0.04501401442161601,2.5324219588056684,3.6996132241707755,3.880328001265388,4.051997883624369,4.0278800094762195,3.9244409480677986,3.861087691168973,3.7779663566131916,3.7531755031698824,3.6997154492373356,3.6317583677358405,3.5674148520487625,3.5060406370813353,3.4471100862267363,3.390181324229995,3.3348708132946037,3.2808334376737696,3.227745280774677,3.1752865982813856,3.123122016053944],\"type\":\"scatter\",\"xaxis\":\"x\",\"yaxis\":\"y\"},{\"error_y\":{\"array\":[1.0923302388366258,0.45881289278120363,0.9632829662083563,0.9325011270385111,0.8596333615523181,0.8483206942660063,0.7597924005555658,0.6712119396063825,0.6590441627619374,0.6473081056722145,0.6223343931592986,0.6152257471060144,0.6100509455278916,0.6067122163602772,0.6051664644976426,0.6054215189747945,0.6075382137359377,0.6116390462789452,0.6179260772527931,0.6267141552027019,0.6384929751543644],\"type\":\"data\"},\"legendgroup\":\"ivvt\",\"line\":{\"color\":\"#1CA71C\"},\"marker\":{\"color\":\"#1CA71C\",\"size\":5},\"mode\":\"lines+markers\",\"name\":\"ivvt\",\"showlegend\":true,\"x\":[0,1,2,3,4,5,6,7,8,9,10,11,12,13,14,15,16,17,18,19,20],\"y\":[0.022503971346021313,2.482841068411001,3.7367020346830104,3.951198987208403,3.92531035165766,3.920542867657688,3.8739591662603465,3.83327227268092,3.7788915695617455,3.6868646819425535,3.611497323774471,3.530335863095808,3.4530246417403996,3.3788032728556003,3.3070397428311376,3.237189320160322,3.1687634090119277,3.1013034749775774,3.034356073054847,2.9674446077738983,2.9000311598540427],\"type\":\"scatter\",\"xaxis\":\"x\",\"yaxis\":\"y\"},{\"error_y\":{\"array\":[0.43065829673917366,0.6844048077501459,0.4124386762146256,0.5728831148671889,0.4635045420077316,0.4718885692478996,0.5387242781569862,0.5738724825065304,0.5839565177936631,0.5960109392395694,0.6016867484532222,0.5960760174773665,0.6019695003846028,0.6101847379542971,0.5978942574057501,0.6036981873775096,0.6020505784609125,0.6082927535658353,0.6148990034836038,0.6382676366383985,0.673697980013486],\"type\":\"data\"},\"legendgroup\":\"idt\",\"line\":{\"color\":\"#FB0D0D\"},\"marker\":{\"color\":\"#FB0D0D\",\"size\":5},\"mode\":\"lines+markers\",\"name\":\"idt\",\"showlegend\":true,\"x\":[0,1,2,3,4,5,6,7,8,9,10,11,12,13,14,15,16,17,18,19,20],\"y\":[-0.7466586675893515,0.10044711932975066,1.064388774647472,1.5569373186824873,1.9396462898761222,2.2279885909988644,2.3186474336827994,2.32029922826078,2.2841707903734467,2.2548862777558343,2.2125238880177287,2.187949816119225,2.151065099082756,2.1433761594156513,2.1216821151010974,2.0904643085680368,2.0860574844691646,2.057248653092338,2.029311092647297,2.0199324258416,2.026807621196432],\"type\":\"scatter\",\"xaxis\":\"x\",\"yaxis\":\"y\"},{\"error_y\":{\"array\":[0.3898991160763683,0.5148914217115068,0.4860512170325534,0.575506020026682,0.4473883228962359,0.49274591296798004,0.5622251896085458,0.6024568187878809,0.6102023923731005,0.6220579334617458,0.6277617599073477,0.6335068598098361,0.6393440146377598,0.6453219503034383,0.6329641630324196,0.6385566825053481,0.6443793457966591,0.6504836635696246,0.6569289916652125,0.6637857403792513,0.6711397391031901],\"type\":\"data\"},\"legendgroup\":\"idvt\",\"line\":{\"color\":\"#DA16FF\"},\"marker\":{\"color\":\"#DA16FF\",\"size\":5},\"mode\":\"lines+markers\",\"name\":\"idvt\",\"showlegend\":true,\"x\":[0,1,2,3,4,5,6,7,8,9,10,11,12,13,14,15,16,17,18,19,20],\"y\":[-0.7594488831981956,0.3826744207584743,1.1212644912359755,1.618760220531626,2.0106484689650315,2.3229305538661276,2.412434298400238,2.407662549097436,2.3720555269578707,2.3432822348344122,2.301424239963897,2.2623965835463946,2.225709209727293,2.1909785377370006,2.169038424028848,2.137564647257852,2.1072902347514755,2.0780359068837777,2.0496446645988717,2.0219754016232026,1.9948974305480562],\"type\":\"scatter\",\"xaxis\":\"x\",\"yaxis\":\"y\"},{\"error_y\":{\"array\":[0.42945504515253047,0.7354438744208944,0.9792252889588002,0.9182590491989769,0.8473511179940287,0.7685368228486691,0.7001856221220072,0.6355213756627667,0.5442439360062757,0.5407079418741748,0.5388825359870097,0.5320394677894693,0.5345356318800534,0.5383630518388832,0.5435667418588817,0.5502520739810854,0.5586009588272539,0.5689031301676301,0.5816151525456946,0.5974769338193273,0.6177639628919814],\"type\":\"data\"},\"legendgroup\":\"engbert\",\"line\":{\"color\":\"#222A2A\"},\"marker\":{\"color\":\"#222A2A\",\"size\":5},\"mode\":\"lines+markers\",\"name\":\"engbert\",\"showlegend\":true,\"x\":[0,1,2,3,4,5,6,7,8,9,10,11,12,13,14,15,16,17,18,19,20],\"y\":[1.9023481748599091,3.567271958502746,4.445415522873395,4.439795899151546,4.453703223246936,4.356832564533119,4.3088963154889415,4.258707210021807,4.2155306374470545,4.1249566810933675,4.040737766899871,4.000141360418521,3.9238103878410397,3.850944085291347,3.780886191540611,3.713070677123157,3.646986207785713,3.582143526363712,3.5180387960139363,3.4541015212651174,3.389601294574093],\"type\":\"scatter\",\"xaxis\":\"x\",\"yaxis\":\"y\"},{\"error_y\":{\"array\":[0.556801494588219,0.6970901465409662,1.1839356221283008,1.1303885521605623,0.9774993137382283,0.8761850998098197,0.8998220895151352,1.0771769003661178,1.2518739710452869,1.2506954689596383,1.3962950917396295,1.4428504104509703,1.4686683557289855,1.495769476392873,1.5294927565048442,1.5217560130406866,1.530574275401874,1.4734701050195778,1.4664248685876864,1.4598246176693384,1.4536432691319034],\"type\":\"data\"},\"legendgroup\":\"nh\",\"line\":{\"color\":\"#B68100\"},\"marker\":{\"color\":\"#B68100\",\"size\":5},\"mode\":\"lines+markers\",\"name\":\"nh\",\"showlegend\":true,\"x\":[0,1,2,3,4,5,6,7,8,9,10,11,12,13,14,15,16,17,18,19,20],\"y\":[-0.6752832017967684,-0.48041543622271055,-0.10670784045094364,0.6526094592760597,1.429577738467162,1.94831447392529,2.225555256394629,2.5485545757581956,2.856730212761512,3.1253612065376375,3.318689677388612,3.371077371702666,3.409457321430415,3.4282338401530135,3.441754226509081,3.4020517227078706,3.4157623842365723,3.4003665169822144,3.3646938730270124,3.330263058663865,3.2969173927652924],\"type\":\"scatter\",\"xaxis\":\"x\",\"yaxis\":\"y\"},{\"error_y\":{\"array\":[0.9380921388376688,0.7971364448274925,0.32090627213883594,0.30253752776825493,0.3466370741922438,0.36242896703533045,0.3577561208821145,0.3600653344506263,0.35645021561021795,0.3593155650622909,0.36247116396228585,0.3659653925216633,0.3698556293273474,0.374211451346899,0.3352259111965809,0.33775841791240174,0.34080985311128026,0.3445033730447644,0.34900507379285356,0.354545385312612,0.3614551753377714],\"type\":\"data\"},\"legendgroup\":\"remodnav\",\"line\":{\"color\":\"#750D86\"},\"marker\":{\"color\":\"#750D86\",\"size\":5},\"mode\":\"lines+markers\",\"name\":\"remodnav\",\"showlegend\":true,\"x\":[0,1,2,3,4,5,6,7,8,9,10,11,12,13,14,15,16,17,18,19,20],\"y\":[0.8666130266331995,1.405004983706848,1.8892174401285466,2.2852251486771653,2.445134833083002,2.4389598430125083,2.4190612495290655,2.36948057746886,2.3410145307673056,2.3013233530838013,2.2649306294743994,2.231224035975901,2.1997352247697846,2.1700944674952174,2.1706833722760783,2.1447061961905876,2.119855287897118,2.0959425112748225,2.072791897557088,2.050228781947361,2.028066311324874],\"type\":\"scatter\",\"xaxis\":\"x\",\"yaxis\":\"y\"},{\"error_y\":{\"array\":[0.5519718167798452,0.9085891812359167,0.7601887632915353,0.643028852421206,0.597454505132548,0.5721108743180217,0.5518763111263117,0.5353687385925656,0.5217231412618406,0.4790683879768143,0.4694906250654027,0.46155302458908176,0.45504210691550717,0.4497992994735986,0.4286753460171017,0.4260900914231985,0.42450919184897296,0.4238947707417566,0.42422870967544946,0.42551185290044446,0.4277644218677064],\"type\":\"data\"},\"legendgroup\":\"Other GT\",\"line\":{\"color\":\"#bab0ac\",\"dash\":\"dot\"},\"marker\":{\"color\":\"#bab0ac\",\"size\":5},\"mode\":\"lines+markers\",\"name\":\"Other GT\",\"showlegend\":false,\"x\":[0,1,2,3,4,5,6,7,8,9,10,11,12,13,14,15,16,17,18,19,20],\"y\":[3.2297264120911753,4.554262763068762,4.824981146366957,5.019015573720975,5.040945758962913,4.940378811217213,4.854649943331128,4.779619415128066,4.71267722829841,4.670052328172694,4.614677997020787,4.5634917407163025,4.515803560703816,4.471076891932594,4.4527630344317,4.41290936750508,4.374973497258416,4.338715125932079,4.303928835392613,4.27043592002403,4.23807794734661],\"type\":\"scatter\",\"xaxis\":\"x2\",\"yaxis\":\"y2\"},{\"error_y\":{\"array\":[1.318716931865937,0.5900005689735094,0.8051431062751054,0.7625589895792382,0.7911558818625212,0.8772421552427885,0.8566776498325324,0.801632526961192,0.740349827197536,0.7268134998662396,0.7154255729480817,0.7059068485210336,0.6980585695808076,0.6917402170901099,0.6868557644687391,0.6833452322041572,0.6811798500011433,0.6803599581160195,0.6809153129489317,0.682907893531288,0.6864377731276439],\"type\":\"data\"},\"legendgroup\":\"ivt\",\"line\":{\"color\":\"#E15F99\"},\"marker\":{\"color\":\"#E15F99\",\"size\":5},\"mode\":\"lines+markers\",\"name\":\"ivt\",\"showlegend\":false,\"x\":[0,1,2,3,4,5,6,7,8,9,10,11,12,13,14,15,16,17,18,19,20],\"y\":[0.27539551159365666,2.4652148227986905,3.3527006407467823,3.6341675007569454,3.868445780490753,3.956699977988971,3.8564990739239344,3.794049421790696,3.7866017321910337,3.710071830230674,3.6389924642998692,3.5723327211940323,3.5093054103914887,3.4492920872668287,3.3917942894698396,3.3364005015308646,3.282762889968446,3.2305802400904113,3.179584831741047,3.129531707741698,3.0801891484318027],\"type\":\"scatter\",\"xaxis\":\"x2\",\"yaxis\":\"y2\"},{\"error_y\":{\"array\":[1.1580166601041366,0.5415710617398891,0.7580770879837828,0.6824058034329307,0.6874937149274946,0.7403470936441527,0.6706309402961701,0.5565590449579769,0.5455779294506042,0.5375049029310606,0.5319521098604126,0.5286468308205662,0.5273960567903766,0.5280653431914516,0.5305660878593358,0.5348481768659793,0.5408963871761182,0.5487297653209554,0.558403762505408,0.5700153929257975,0.5837122472282752],\"type\":\"data\"},\"legendgroup\":\"ivvt\",\"line\":{\"color\":\"#1CA71C\"},\"marker\":{\"color\":\"#1CA71C\",\"size\":5},\"mode\":\"lines+markers\",\"name\":\"ivvt\",\"showlegend\":false,\"x\":[0,1,2,3,4,5,6,7,8,9,10,11,12,13,14,15,16,17,18,19,20],\"y\":[0.4271911697864591,2.4195482118670784,3.3193750599196052,3.638209939143999,3.8372051415656094,3.9453063390434404,3.969989936286764,3.937957216311839,3.836825219795014,3.74347544851659,3.6562595053843823,3.573950744370023,3.4956031317303564,3.4204632064026614,3.34791237295187,3.277427263209689,3.2085511430986293,3.1408720810914756,3.074005052804524,3.0075758906574372,2.941205240640868],\"type\":\"scatter\",\"xaxis\":\"x2\",\"yaxis\":\"y2\"},{\"error_y\":{\"array\":[0.21815330848367634,0.8253943993251142,0.5446911494327924,0.5269931530139975,0.3204948333969908,0.42755662593636934,0.5310957206038619,0.6096711295317755,0.648027337407297,0.6554964153256594,0.6732718144405035,0.6808610177205554,0.697710986284853,0.6843267597636051,0.6640390999952207,0.6715841204015977,0.6585996142313131,0.6667023306908763,0.6752386956617619,0.6842963569728757,0.7160346516318067],\"type\":\"data\"},\"legendgroup\":\"idt\",\"line\":{\"color\":\"#FB0D0D\"},\"marker\":{\"color\":\"#FB0D0D\",\"size\":5},\"mode\":\"lines+markers\",\"name\":\"idt\",\"showlegend\":false,\"x\":[0,1,2,3,4,5,6,7,8,9,10,11,12,13,14,15,16,17,18,19,20],\"y\":[-0.829344346435061,-0.06189114739072948,0.9607537221025559,1.3713874215332014,1.9116869852785854,2.106968999663155,2.2134297637363667,2.2569955355716633,2.2363992407189928,2.189017411585736,2.1692295261968044,2.1283462168220844,2.0999716490985696,2.0749453738398396,2.0674814707099824,2.034616240397198,2.01403345720662,1.9833269354512528,1.9534106729712843,1.9241319081538715,1.9207596927312167],\"type\":\"scatter\",\"xaxis\":\"x2\",\"yaxis\":\"y2\"},{\"error_y\":{\"array\":[0.6072806460026708,0.750609983461961,0.5163409406395018,0.519735009106198,0.31612407509314666,0.42526590219594324,0.5465226914197209,0.6194998504449135,0.6431061478297877,0.6507997157943312,0.6584902086294361,0.6662444891962328,0.6741233185316289,0.6821851489581797,0.6673453959549966,0.674955944669622,0.6828557150079679,0.6911068504173887,0.6997811286478601,0.708963879951379,0.7187593252709911],\"type\":\"data\"},\"legendgroup\":\"idvt\",\"line\":{\"color\":\"#DA16FF\"},\"marker\":{\"color\":\"#DA16FF\",\"size\":5},\"mode\":\"lines+markers\",\"name\":\"idvt\",\"showlegend\":false,\"x\":[0,1,2,3,4,5,6,7,8,9,10,11,12,13,14,15,16,17,18,19,20],\"y\":[-0.5851082341028622,0.17336537381325262,1.0405412406086902,1.4247936136299864,1.967557061609344,2.175007875075571,2.293850725906924,2.325501786532413,2.298821746469357,2.251787477539956,2.208230348390363,2.167494769462674,2.1290802816020222,2.0925936063366115,2.073634107339232,2.0404086788173097,2.008330928362647,1.9772116815884353,1.9468828363754525,1.9171904687908479,1.887988693833554],\"type\":\"scatter\",\"xaxis\":\"x2\",\"yaxis\":\"y2\"},{\"error_y\":{\"array\":[0.48039821970192303,0.9124415613625826,0.9223718432140879,0.943248314269737,0.8016401432250178,0.7503637506938092,0.6727922858000581,0.553713863086382,0.5484266924500958,0.5449190577954139,0.5429014981815368,0.5421706279763745,0.5425823054849586,0.5440354836428661,0.5464622994450646,0.5498220823796294,0.5540980479347845,0.5592960544990155,0.5654452009871165,0.5726003692537092,0.580847173279056],\"type\":\"data\"},\"legendgroup\":\"engbert\",\"line\":{\"color\":\"#222A2A\"},\"marker\":{\"color\":\"#222A2A\",\"size\":5},\"mode\":\"lines+markers\",\"name\":\"engbert\",\"showlegend\":false,\"x\":[0,1,2,3,4,5,6,7,8,9,10,11,12,13,14,15,16,17,18,19,20],\"y\":[1.8759174067935365,3.4823711206936423,3.9860357742550883,4.327938349256365,4.344469847991261,4.231659375772045,4.215825240253096,4.257139994556819,4.1585312073894345,4.068059794985915,3.98406370306902,3.905314140198119,3.8308719160992686,3.7599981895568946,3.692096390185887,3.626672839906431,3.563308986146205,3.5016410020439888,3.4413440656540137,3.38211948890583,3.323683308365696],\"type\":\"scatter\",\"xaxis\":\"x2\",\"yaxis\":\"y2\"},{\"error_y\":{\"array\":[0.6182263277996751,0.6350494178175425,0.8914066327121156,0.9688381315124835,0.987323115357715,0.7386942354169322,0.8888927063265392,0.9582535164191546,1.2356676822862787,1.3305644222844863,1.4155954549142926,1.4623224841575613,1.4510059059386409,1.5052549492987661,1.5707339846099377,1.5658143794595165,1.6122597073968354,1.5411135988256845,1.5261939118491554,1.5218971986186052,1.5180123895786641],\"type\":\"data\"},\"legendgroup\":\"nh\",\"line\":{\"color\":\"#B68100\"},\"marker\":{\"color\":\"#B68100\",\"size\":5},\"mode\":\"lines+markers\",\"name\":\"nh\",\"showlegend\":false,\"x\":[0,1,2,3,4,5,6,7,8,9,10,11,12,13,14,15,16,17,18,19,20],\"y\":[-0.6521189993562322,-0.6686006477148185,-0.10875863799010296,0.43641676802007373,1.2907873371009333,1.8139639588565886,2.0571113776000463,2.311776776231487,2.7648854607078914,3.014987567045544,3.1193536306203526,3.2060613897547543,3.1784053890008654,3.242377298418456,3.2820853872369127,3.243876107956003,3.263409371706099,3.2578787535266858,3.2418349104340503,3.2080675023702283,3.175236866061358],\"type\":\"scatter\",\"xaxis\":\"x2\",\"yaxis\":\"y2\"},{\"error_y\":{\"array\":[1.0764113069432455,0.6612365795318046,0.358919843717257,0.23397943895049375,0.3583864709885728,0.36731318988084116,0.350624597154932,0.3506378829647368,0.3394546258795688,0.33943719256062205,0.3394555089085172,0.33950785153855484,0.3395931857912189,0.3299467097940017,0.3295455301843402,0.32915130812592996,0.3287632975057243,0.3283808791115773,0.3280035330750678,0.3276308184431042,0.327262357768072],\"type\":\"data\"},\"legendgroup\":\"remodnav\",\"line\":{\"color\":\"#750D86\"},\"marker\":{\"color\":\"#750D86\",\"size\":5},\"mode\":\"lines+markers\",\"name\":\"remodnav\",\"showlegend\":false,\"x\":[0,1,2,3,4,5,6,7,8,9,10,11,12,13,14,15,16,17,18,19,20],\"y\":[0.7494636997973024,1.3929117145033492,1.9617770950581739,2.2548425381593966,2.4166159581287316,2.439879358571489,2.404052480081649,2.3562819228959246,2.3362870930575466,2.2987591487544576,2.264616193910061,2.233262884603164,2.2042496228607495,2.189328219581224,2.1645544859744215,2.141289357950518,2.1193520703239646,2.098592989760957,2.078886808246374,2.060127506867439,2.042224563485082],\"type\":\"scatter\",\"xaxis\":\"x2\",\"yaxis\":\"y2\"},{\"error_y\":{\"array\":[0.5410544035989735,0.44745641786654083,0.5779478678108794,0.7540904976932445,0.8801327146572988,0.8291709079099895,0.7785897782319908,0.8104958299940825,0.6978548215402511,0.81426238126551,0.7821096944776718,0.726794768975727,0.7163739779203956,0.6598764875748313,0.5938930095607668,0.5864870040756112,0.5797178920396209,0.5735186925763849,0.5678339310777766,0.5118492200264623,0.4560057669675861],\"type\":\"data\"},\"legendgroup\":\"Other GT\",\"line\":{\"color\":\"#bab0ac\",\"dash\":\"dot\"},\"marker\":{\"color\":\"#bab0ac\",\"size\":5},\"mode\":\"lines+markers\",\"name\":\"Other GT\",\"showlegend\":false,\"x\":[0,1,2,3,4,5,6,7,8,9,10,11,12,13,14,15,16,17,18,19,20],\"y\":[2.466802506421932,3.4149549919383975,3.606030830139962,3.8238542755970366,4.125602768349149,4.105197900004373,4.194321386746545,4.276013123569913,4.29922885425002,4.436192271003042,4.469403406748292,4.439998851669424,4.3902132426814715,4.378112111710187,4.441538464680916,4.398806232729162,4.358248739626311,4.31961386302975,4.282690034521833,4.2720024214999395,4.274038080598163],\"type\":\"scatter\",\"xaxis\":\"x3\",\"yaxis\":\"y3\"},{\"error_y\":{\"array\":[0.9460933610496347,0.4808403536492652,0.6044284143843227,0.7753262962330759,0.9391991061941266,1.042924489692584,0.9331993940389081,0.8979434913820823,0.9782936970542848,0.9753566520358687,1.0128112119695107,1.0076830379095798,0.9532076354089045,0.9121003061682031,0.8526143728041468,0.7945742767942805,0.7487398737519565,0.7476553089099796,0.747785010019492,0.7766176437102389,0.7730237679157692],\"type\":\"data\"},\"legendgroup\":\"ivt\",\"line\":{\"color\":\"#E15F99\"},\"marker\":{\"color\":\"#E15F99\",\"size\":5},\"mode\":\"lines+markers\",\"name\":\"ivt\",\"showlegend\":false,\"x\":[0,1,2,3,4,5,6,7,8,9,10,11,12,13,14,15,16,17,18,19,20],\"y\":[0.17322571581160312,1.2618364687950874,1.7505558892940516,1.9912275974858307,2.2022873310742725,2.4053363174387523,2.563981818948515,2.6696143032403965,2.7677810532403995,2.7617150306520255,2.837430023671545,2.8866872466518663,2.978831849078398,3.1176417346992484,3.210221208465673,3.187201080750409,3.176598907743283,3.1263649291249807,3.0768561571540496,3.058615242381485,3.0384466246090036],\"type\":\"scatter\",\"xaxis\":\"x3\",\"yaxis\":\"y3\"},{\"error_y\":{\"array\":[0.7209179900884483,0.358457872167177,0.5427090992593309,0.7424185704148014,0.9545848460429731,1.0302156996332332,0.913252256946929,0.8479638613955865,0.9615389827969677,0.9469850774988308,0.9755783232596473,0.9636029738050526,0.8985475727604953,0.8296142174504499,0.7595345304626112,0.7197392967603263,0.7045106546242068,0.7084046263685431,0.7143182003661886,0.7439019090008755,0.7547475566493093],\"type\":\"data\"},\"legendgroup\":\"ivvt\",\"line\":{\"color\":\"#1CA71C\"},\"marker\":{\"color\":\"#1CA71C\",\"size\":5},\"mode\":\"lines+markers\",\"name\":\"ivvt\",\"showlegend\":false,\"x\":[0,1,2,3,4,5,6,7,8,9,10,11,12,13,14,15,16,17,18,19,20],\"y\":[0.5507375888601862,1.487705714850018,1.9046345014815604,2.1316136978811384,2.3048940260731072,2.5007107956865777,2.692758388205403,2.8075427261551447,2.927053663635698,2.886969678611149,2.9290137936305554,2.941887935933777,2.9925059599644483,3.0305736650708495,3.1111768750306035,3.075368156941944,3.044153400589586,2.979467324483033,2.915105612313936,2.8811360927406406,2.8151369531025545],\"type\":\"scatter\",\"xaxis\":\"x3\",\"yaxis\":\"y3\"},{\"error_y\":{\"array\":[0.7195995793033779,0.7730777472797155,0.8702434995742474,1.0648129656474994,0.9426544706638454,0.8470787218362468,0.7141891160792706,0.6026483865175489,0.6120741543786479,0.42886596896944024,0.44192487123753194,0.561439092126779,0.5988609834195228,0.6166196367754008,0.6263290467287264,0.6161018209698458,0.6122304320392961,0.6180960402018818,0.6291582911565892,0.6507877158587974,0.6578187562869369],\"type\":\"data\"},\"legendgroup\":\"idt\",\"line\":{\"color\":\"#FB0D0D\"},\"marker\":{\"color\":\"#FB0D0D\",\"size\":5},\"mode\":\"lines+markers\",\"name\":\"idt\",\"showlegend\":false,\"x\":[0,1,2,3,4,5,6,7,8,9,10,11,12,13,14,15,16,17,18,19,20],\"y\":[-0.4621828653963654,-0.28316988842593255,-0.1953147376549491,0.02775455831895941,0.3813934372830736,0.6803731495258887,0.9193870224942117,1.1984426162843942,1.4367686351755808,1.7016989447894406,1.8434246406995811,2.0585973144126877,2.1341026765085997,2.1762289750453214,2.1510373645029173,2.127761340364485,2.106132586025138,2.077191860641913,2.061720659236353,2.052291550895557,2.0257597058555903],\"type\":\"scatter\",\"xaxis\":\"x3\",\"yaxis\":\"y3\"},{\"error_y\":{\"array\":[0.7756732872997216,0.7510375914488905,0.8223959763085037,0.9884076983322367,0.8773281591745586,0.8128314351857796,0.6987145181141703,0.6100592653845442,0.6044923732581517,0.6068823196673885,0.4614009715476417,0.576024972659195,0.6056311721871385,0.6240578513879189,0.6343855726492846,0.6244366153435315,0.6187536371283108,0.6249567372595884,0.6386698427201333,0.6637857403792513,0.6711397391031901],\"type\":\"data\"},\"legendgroup\":\"idvt\",\"line\":{\"color\":\"#DA16FF\"},\"marker\":{\"color\":\"#DA16FF\",\"size\":5},\"mode\":\"lines+markers\",\"name\":\"idvt\",\"showlegend\":false,\"x\":[0,1,2,3,4,5,6,7,8,9,10,11,12,13,14,15,16,17,18,19,20],\"y\":[-0.3903152694311053,-0.16637957317009305,-0.08500342722453039,0.12690366483718543,0.4415873312344523,0.6843452565273282,0.8927117938841006,1.1886783725720427,1.4040232699767463,1.5775417727142633,1.8093828753698484,2.031758103027819,2.0902663338328744,2.149504309396364,2.123745416346944,2.0997712740369754,2.0771953045259837,2.0477045414591486,2.0318001963830286,2.0219754016232026,1.9948974305480562],\"type\":\"scatter\",\"xaxis\":\"x3\",\"yaxis\":\"y3\"},{\"error_y\":{\"array\":[1.1434859524045533,0.798277382062212,0.6474178576316733,0.8089034008700711,0.8818787330235565,0.9494856281083841,0.8508946122344154,0.9707731937482424,0.9557428224934792,0.9852600413902872,0.9173157385479659,0.8729465228937378,0.9799648529359608,0.9105784727781774,0.8134194055579715,0.7369134567867347,0.5887822817036333,0.5675199111321843,0.5762377385739487,0.6338841443255605,0.6236570335943766],\"type\":\"data\"},\"legendgroup\":\"engbert\",\"line\":{\"color\":\"#222A2A\"},\"marker\":{\"color\":\"#222A2A\",\"size\":5},\"mode\":\"lines+markers\",\"name\":\"engbert\",\"showlegend\":false,\"x\":[0,1,2,3,4,5,6,7,8,9,10,11,12,13,14,15,16,17,18,19,20],\"y\":[0.15809628914521695,0.9383855432855773,1.2281232434595328,1.3807183825401776,1.5603819733401727,1.7664075798960635,1.9585681756080888,2.1865587664766637,2.283304622554278,2.4053387936305164,2.4944644223283494,2.6454742032991625,2.8594455653884365,3.0119683507674337,3.1634491338262856,3.2372256582845593,3.286252951022127,3.3982131635703716,3.337541373034032,3.3537101530471105,3.3381081909591934],\"type\":\"scatter\",\"xaxis\":\"x3\",\"yaxis\":\"y3\"},{\"error_y\":{\"array\":[1.0190118429867616,0.8270312784770105,0.5509250827310176,0.619751364806384,0.6904686343366672,0.7855164955936876,0.8375564263609461,1.0000554273822517,1.0334105600991337,1.0130825562013928,1.0223379216302417,1.04842480822385,1.0491552742042607,1.053766955670617,1.1479903434003207,1.2127540934668044,1.229492164188342,1.290164815666191,1.286003884093745,1.2775120070909807,1.3004759994083],\"type\":\"data\"},\"legendgroup\":\"nh\",\"line\":{\"color\":\"#B68100\"},\"marker\":{\"color\":\"#B68100\",\"size\":5},\"mode\":\"lines+markers\",\"name\":\"nh\",\"showlegend\":false,\"x\":[0,1,2,3,4,5,6,7,8,9,10,11,12,13,14,15,16,17,18,19,20],\"y\":[0.9273837644615488,1.574815575046815,1.8447259279382968,1.85381521358742,1.9950297361949076,2.130212743814673,2.2939295216351145,2.4905087164796744,2.536353771548305,2.5973751889904078,2.6339428618426814,2.6751196566218165,2.6981990684197044,2.7153759832400994,2.8514898911417874,2.9360738748179047,2.9872563968131365,3.0443162636077696,3.01303236051065,2.9984112552880444,3.013640740049235],\"type\":\"scatter\",\"xaxis\":\"x3\",\"yaxis\":\"y3\"},{\"error_y\":{\"array\":[1.0564316481061335,0.9700073991920439,0.9192719975175784,0.9591824970043373,0.8854497927070196,0.5834799949107077,0.5099385466421463,0.4722541891490592,0.508037166306476,0.49064919898071696,0.5030124733434131,0.5279439097410681,0.5248615620041008,0.46557631093697455,0.4744798370737056,0.5190343444154106,0.39931693327304213,0.3714112464120449,0.29617374707432653,0.3104327069699866,0.338211883705885],\"type\":\"data\"},\"legendgroup\":\"remodnav\",\"line\":{\"color\":\"#750D86\"},\"marker\":{\"color\":\"#750D86\",\"size\":5},\"mode\":\"lines+markers\",\"name\":\"remodnav\",\"showlegend\":false,\"x\":[0,1,2,3,4,5,6,7,8,9,10,11,12,13,14,15,16,17,18,19,20],\"y\":[0.36315944462212596,0.40273238348044726,0.44605414101898305,0.4533603231780276,0.5778578926031808,1.0360400100933849,1.2923520667148578,1.4177852457666824,1.5317336427026738,1.5576737026350718,1.5427479065774363,1.582060747368821,1.5887098461835798,1.6920519948315964,1.7732616566061346,1.8492650128239376,1.9100168162784172,1.9374112721758536,2.010204837738215,2.0042138913074163,2.0004363822340867],\"type\":\"scatter\",\"xaxis\":\"x3\",\"yaxis\":\"y3\"},{\"error_y\":{\"array\":[0.5492976952316244,0.4476445842055845,0.5580655590219227,0.5970093339298486,0.6988946461076528,0.6693129709777954,0.7965202450953836,0.8128053650663224,0.6897282267571814,0.7711836576281982,0.7196376572136366,0.6648695928119398,0.6584181379825934,0.600790605622517,0.5434087697976184,0.5406589620057214,0.5388006882271815,0.5377943502975918,0.5376181959986288,0.48791087384434895,0.4407373197510891],\"type\":\"data\"},\"legendgroup\":\"Other GT\",\"line\":{\"color\":\"#bab0ac\",\"dash\":\"dot\"},\"marker\":{\"color\":\"#bab0ac\",\"size\":5},\"mode\":\"lines+markers\",\"name\":\"Other GT\",\"showlegend\":false,\"x\":[0,1,2,3,4,5,6,7,8,9,10,11,12,13,14,15,16,17,18,19,20],\"y\":[2.4684740166598407,3.4131246840472804,3.5971466652977937,3.7605390409898116,4.011904290518464,4.001424947046758,4.274255090959502,4.351831998745243,4.367894207856861,4.458764000058473,4.445397683992662,4.415752707990474,4.367105404473913,4.353158691520382,4.371648891909643,4.3312733636714,4.292803515169346,4.25599751347957,4.220648509590185,4.210833329529799,4.213073742479262],\"type\":\"scatter\",\"xaxis\":\"x4\",\"yaxis\":\"y4\"},{\"error_y\":{\"array\":[1.0469913618788391,0.9374360698139352,0.7457306389263262,0.868476757284341,0.9755583430710325,1.0984821041660195,1.1640048941301846,1.103921301624566,1.1118433822942497,1.1575831751894308,1.0851682880651046,1.1308046961586709,1.1540104260351542,1.084758687058037,1.0575467931101556,0.9615218774073796,0.9192238920117969,0.8631455354328171,0.8395303232755197,0.804311822247637,0.8086673111203405],\"type\":\"data\"},\"legendgroup\":\"ivt\",\"line\":{\"color\":\"#E15F99\"},\"marker\":{\"color\":\"#E15F99\",\"size\":5},\"mode\":\"lines+markers\",\"name\":\"ivt\",\"showlegend\":false,\"x\":[0,1,2,3,4,5,6,7,8,9,10,11,12,13,14,15,16,17,18,19,20],\"y\":[0.8280496259989979,1.1937990403330154,1.6388734581540807,1.7800652324220787,1.8730305244814909,2.068510099337308,2.335324797328009,2.4168752207092123,2.5304829283933876,2.609108300167956,2.631023675963433,2.6689793216964235,2.7805255644033835,2.8144605101077254,2.933072290216621,2.9654119421207676,2.9518545581138538,2.9743535510078596,2.9997757364581576,2.9748570034041606,2.92759885919008],\"type\":\"scatter\",\"xaxis\":\"x4\",\"yaxis\":\"y4\"},{\"error_y\":{\"array\":[0.6212099756023804,0.5588329546572887,0.6924286373934175,0.8420553791025821,0.9184418637777731,1.0443149976216608,1.1260986350451754,1.0368524412758295,1.0260823616933603,1.1337782557740774,1.0703169304185594,1.0868942264983124,1.0929355898080868,0.9778026774160588,0.9713560211403707,0.9155910187419222,0.8631792003751141,0.8552056883974875,0.7925921711818761,0.7739547931761175,0.7861971517196692],\"type\":\"data\"},\"legendgroup\":\"ivvt\",\"line\":{\"color\":\"#1CA71C\"},\"marker\":{\"color\":\"#1CA71C\",\"size\":5},\"mode\":\"lines+markers\",\"name\":\"ivvt\",\"showlegend\":false,\"x\":[0,1,2,3,4,5,6,7,8,9,10,11,12,13,14,15,16,17,18,19,20],\"y\":[1.112902889918335,1.4588651750118633,1.757325124272562,1.9164802203087585,1.9678077239488023,2.148210090573542,2.4110041134408045,2.451886220826143,2.6065970015609135,2.711645050799233,2.7405711200441893,2.772448012708654,2.827190294138185,2.8885763491810517,2.914936081542584,2.921218634191003,2.897351839588181,2.882214527635532,2.9222344004465435,2.87145932160245,2.806977167645331],\"type\":\"scatter\",\"xaxis\":\"x4\",\"yaxis\":\"y4\"},{\"error_y\":{\"array\":[0.8442585902045148,0.865619205423822,0.9155678970301467,1.084043619053558,0.9514807488345501,0.6902122727687627,0.7086312005458997,0.7328672711753292,0.6485113150724074,0.39519354118510547,0.49411088601994546,0.5852449603034577,0.5981801733519304,0.621822178159983,0.6472503056293931,0.6631836504052542,0.6599242212923241,0.6674364357827423,0.6753763812926775,0.6950727611421795,0.7045670538217128],\"type\":\"data\"},\"legendgroup\":\"idt\",\"line\":{\"color\":\"#FB0D0D\"},\"marker\":{\"color\":\"#FB0D0D\",\"size\":5},\"mode\":\"lines+markers\",\"name\":\"idt\",\"showlegend\":false,\"x\":[0,1,2,3,4,5,6,7,8,9,10,11,12,13,14,15,16,17,18,19,20],\"y\":[-0.2828577261923327,-0.24250634659004275,0.04386565334622531,0.18231459160570185,0.4997631004034667,0.7756976502575341,1.0034683545093634,1.2462019205053494,1.47608880879986,1.718615389439724,1.855707864274849,1.9754601044788007,2.036823890754858,2.0385946901567706,2.045176817662875,2.0229485251447348,2.0378963939173884,2.00699268376125,1.9768667310403711,1.9606647466799487,1.9321320402581517],\"type\":\"scatter\",\"xaxis\":\"x4\",\"yaxis\":\"y4\"},{\"error_y\":{\"array\":[0.7593255917005071,0.8474623531358733,0.8438924159524014,1.0089473392245927,0.9504350643399799,0.6981899884498071,0.6796587179633755,0.7324773598971557,0.6433808571019795,0.6672260793745215,0.5279296986320711,0.6198355950579443,0.6330682502909215,0.6480267022963898,0.6703452478718703,0.6868996359014569,0.6706040799635615,0.6784029590857712,0.6866183415291243,0.708963879951379,0.7187593252709911],\"type\":\"data\"},\"legendgroup\":\"idvt\",\"line\":{\"color\":\"#DA16FF\"},\"marker\":{\"color\":\"#DA16FF\",\"size\":5},\"mode\":\"lines+markers\",\"name\":\"idvt\",\"showlegend\":false,\"x\":[0,1,2,3,4,5,6,7,8,9,10,11,12,13,14,15,16,17,18,19,20],\"y\":[-0.4438337564486146,-0.2783159482402298,0.11239118735612148,0.2539396495982877,0.5308078397278502,0.7885884024183768,0.9851219647263006,1.2442372123395862,1.4572418746856226,1.5630716356138576,1.8281553880925208,1.9446647127945476,2.01518296821806,2.009597606993385,2.0126307174451394,1.9897881787783154,1.9964201415852614,1.9648534815948326,1.9340660477116536,1.9171904687908479,1.887988693833554],\"type\":\"scatter\",\"xaxis\":\"x4\",\"yaxis\":\"y4\"},{\"error_y\":{\"array\":[1.126603120691867,0.6348035316432646,0.671677149344735,0.702440622975,0.7934185102818593,0.6682712910242067,0.735949552264221,1.0283121521459155,1.0427739528934723,1.0012067384275938,0.980025041273834,1.0198487105146323,1.052145551547846,1.1108154894580562,0.9991055246967081,0.8877961888309448,0.7865665199290324,0.7127601330157409,0.6665785666371472,0.699697462799348,0.6678505171800185],\"type\":\"data\"},\"legendgroup\":\"engbert\",\"line\":{\"color\":\"#222A2A\"},\"marker\":{\"color\":\"#222A2A\",\"size\":5},\"mode\":\"lines+markers\",\"name\":\"engbert\",\"showlegend\":false,\"x\":[0,1,2,3,4,5,6,7,8,9,10,11,12,13,14,15,16,17,18,19,20],\"y\":[0.4176085222787062,0.9769870875701453,1.1164117473706703,1.1473744451975556,1.2417748598023617,1.353610630829314,1.6357098969666362,1.8931221119839525,1.9945362313999957,2.0402643794542104,2.2149396026672803,2.4481404204318187,2.665515775618956,2.863211891777045,2.9496331439570143,3.0308672414432567,3.0917215205625674,3.167047520359879,3.173816336425775,3.2952857890449403,3.2552660183876876],\"type\":\"scatter\",\"xaxis\":\"x4\",\"yaxis\":\"y4\"},{\"error_y\":{\"array\":[1.0544802483525109,0.8920013766735816,0.6673045387277335,0.6829750824778641,0.7106011758648183,0.6972031819035649,0.7952523289889102,0.8785637034174774,0.8137686495350998,0.9402398931043054,0.936023645126544,1.0017008696450933,1.0033688368555733,1.0105325442869604,1.0887348399402952,1.154733884819164,1.2640217877311168,1.2617107477960667,1.2997019626363426,1.3820737883139977,1.3797846661588182],\"type\":\"data\"},\"legendgroup\":\"nh\",\"line\":{\"color\":\"#B68100\"},\"marker\":{\"color\":\"#B68100\",\"size\":5},\"mode\":\"lines+markers\",\"name\":\"nh\",\"showlegend\":false,\"x\":[0,1,2,3,4,5,6,7,8,9,10,11,12,13,14,15,16,17,18,19,20],\"y\":[0.9189533235359191,1.6039604512590266,1.8532433682037581,1.7928967766003918,1.813843295405885,1.9037040373158405,2.1556584890894266,2.3058745540674743,2.4571029535432483,2.6163495288537595,2.595192418365658,2.625722433879182,2.636838763915931,2.6568353866269403,2.7738444735808865,2.8090113313823863,2.898593415913777,2.8664676895217513,2.926406931730017,2.9845189234599507,2.954469473418661],\"type\":\"scatter\",\"xaxis\":\"x4\",\"yaxis\":\"y4\"},{\"error_y\":{\"array\":[1.1569121404552907,0.9573295615675529,0.8657783149897573,0.7722712067765768,0.767376388707707,0.8569537071453972,0.7158741834427523,0.749428034350327,0.8051620151176399,0.6669382252278175,0.7167347501978848,0.7180490357802312,0.6581751268042334,0.6636456544705077,0.6227857407630036,0.6888310337782724,0.4979842817106924,0.38028928636900056,0.3287602993407336,0.31855017827386084,0.33655422000273594],\"type\":\"data\"},\"legendgroup\":\"remodnav\",\"line\":{\"color\":\"#750D86\"},\"marker\":{\"color\":\"#750D86\",\"size\":5},\"mode\":\"lines+markers\",\"name\":\"remodnav\",\"showlegend\":false,\"x\":[0,1,2,3,4,5,6,7,8,9,10,11,12,13,14,15,16,17,18,19,20],\"y\":[0.5132432793605672,0.5843437298869681,0.6210173912820292,0.6251271129406096,0.5984622521749052,0.7378575755223543,0.9126130870664227,1.0590463139457522,1.1569278005236738,1.328077577287221,1.3824550080960711,1.4682138517484746,1.512844345403303,1.593847592767313,1.653307987226579,1.7018876830798586,1.8133512037114448,1.9342879051295214,1.9511623304858585,2.0030660419388613,1.9969157426461661],\"type\":\"scatter\",\"xaxis\":\"x4\",\"yaxis\":\"y4\"}],                        {\"template\":{\"data\":{\"histogram2dcontour\":[{\"type\":\"histogram2dcontour\",\"colorbar\":{\"outlinewidth\":0,\"ticks\":\"\"},\"colorscale\":[[0.0,\"#0d0887\"],[0.1111111111111111,\"#46039f\"],[0.2222222222222222,\"#7201a8\"],[0.3333333333333333,\"#9c179e\"],[0.4444444444444444,\"#bd3786\"],[0.5555555555555556,\"#d8576b\"],[0.6666666666666666,\"#ed7953\"],[0.7777777777777778,\"#fb9f3a\"],[0.8888888888888888,\"#fdca26\"],[1.0,\"#f0f921\"]]}],\"choropleth\":[{\"type\":\"choropleth\",\"colorbar\":{\"outlinewidth\":0,\"ticks\":\"\"}}],\"histogram2d\":[{\"type\":\"histogram2d\",\"colorbar\":{\"outlinewidth\":0,\"ticks\":\"\"},\"colorscale\":[[0.0,\"#0d0887\"],[0.1111111111111111,\"#46039f\"],[0.2222222222222222,\"#7201a8\"],[0.3333333333333333,\"#9c179e\"],[0.4444444444444444,\"#bd3786\"],[0.5555555555555556,\"#d8576b\"],[0.6666666666666666,\"#ed7953\"],[0.7777777777777778,\"#fb9f3a\"],[0.8888888888888888,\"#fdca26\"],[1.0,\"#f0f921\"]]}],\"heatmap\":[{\"type\":\"heatmap\",\"colorbar\":{\"outlinewidth\":0,\"ticks\":\"\"},\"colorscale\":[[0.0,\"#0d0887\"],[0.1111111111111111,\"#46039f\"],[0.2222222222222222,\"#7201a8\"],[0.3333333333333333,\"#9c179e\"],[0.4444444444444444,\"#bd3786\"],[0.5555555555555556,\"#d8576b\"],[0.6666666666666666,\"#ed7953\"],[0.7777777777777778,\"#fb9f3a\"],[0.8888888888888888,\"#fdca26\"],[1.0,\"#f0f921\"]]}],\"heatmapgl\":[{\"type\":\"heatmapgl\",\"colorbar\":{\"outlinewidth\":0,\"ticks\":\"\"},\"colorscale\":[[0.0,\"#0d0887\"],[0.1111111111111111,\"#46039f\"],[0.2222222222222222,\"#7201a8\"],[0.3333333333333333,\"#9c179e\"],[0.4444444444444444,\"#bd3786\"],[0.5555555555555556,\"#d8576b\"],[0.6666666666666666,\"#ed7953\"],[0.7777777777777778,\"#fb9f3a\"],[0.8888888888888888,\"#fdca26\"],[1.0,\"#f0f921\"]]}],\"contourcarpet\":[{\"type\":\"contourcarpet\",\"colorbar\":{\"outlinewidth\":0,\"ticks\":\"\"}}],\"contour\":[{\"type\":\"contour\",\"colorbar\":{\"outlinewidth\":0,\"ticks\":\"\"},\"colorscale\":[[0.0,\"#0d0887\"],[0.1111111111111111,\"#46039f\"],[0.2222222222222222,\"#7201a8\"],[0.3333333333333333,\"#9c179e\"],[0.4444444444444444,\"#bd3786\"],[0.5555555555555556,\"#d8576b\"],[0.6666666666666666,\"#ed7953\"],[0.7777777777777778,\"#fb9f3a\"],[0.8888888888888888,\"#fdca26\"],[1.0,\"#f0f921\"]]}],\"surface\":[{\"type\":\"surface\",\"colorbar\":{\"outlinewidth\":0,\"ticks\":\"\"},\"colorscale\":[[0.0,\"#0d0887\"],[0.1111111111111111,\"#46039f\"],[0.2222222222222222,\"#7201a8\"],[0.3333333333333333,\"#9c179e\"],[0.4444444444444444,\"#bd3786\"],[0.5555555555555556,\"#d8576b\"],[0.6666666666666666,\"#ed7953\"],[0.7777777777777778,\"#fb9f3a\"],[0.8888888888888888,\"#fdca26\"],[1.0,\"#f0f921\"]]}],\"mesh3d\":[{\"type\":\"mesh3d\",\"colorbar\":{\"outlinewidth\":0,\"ticks\":\"\"}}],\"scatter\":[{\"marker\":{\"line\":{\"color\":\"#283442\"}},\"type\":\"scatter\"}],\"parcoords\":[{\"type\":\"parcoords\",\"line\":{\"colorbar\":{\"outlinewidth\":0,\"ticks\":\"\"}}}],\"scatterpolargl\":[{\"type\":\"scatterpolargl\",\"marker\":{\"colorbar\":{\"outlinewidth\":0,\"ticks\":\"\"}}}],\"bar\":[{\"error_x\":{\"color\":\"#f2f5fa\"},\"error_y\":{\"color\":\"#f2f5fa\"},\"marker\":{\"line\":{\"color\":\"rgb(17,17,17)\",\"width\":0.5},\"pattern\":{\"fillmode\":\"overlay\",\"size\":10,\"solidity\":0.2}},\"type\":\"bar\"}],\"scattergeo\":[{\"type\":\"scattergeo\",\"marker\":{\"colorbar\":{\"outlinewidth\":0,\"ticks\":\"\"}}}],\"scatterpolar\":[{\"type\":\"scatterpolar\",\"marker\":{\"colorbar\":{\"outlinewidth\":0,\"ticks\":\"\"}}}],\"histogram\":[{\"marker\":{\"pattern\":{\"fillmode\":\"overlay\",\"size\":10,\"solidity\":0.2}},\"type\":\"histogram\"}],\"scattergl\":[{\"marker\":{\"line\":{\"color\":\"#283442\"}},\"type\":\"scattergl\"}],\"scatter3d\":[{\"type\":\"scatter3d\",\"line\":{\"colorbar\":{\"outlinewidth\":0,\"ticks\":\"\"}},\"marker\":{\"colorbar\":{\"outlinewidth\":0,\"ticks\":\"\"}}}],\"scattermapbox\":[{\"type\":\"scattermapbox\",\"marker\":{\"colorbar\":{\"outlinewidth\":0,\"ticks\":\"\"}}}],\"scatterternary\":[{\"type\":\"scatterternary\",\"marker\":{\"colorbar\":{\"outlinewidth\":0,\"ticks\":\"\"}}}],\"scattercarpet\":[{\"type\":\"scattercarpet\",\"marker\":{\"colorbar\":{\"outlinewidth\":0,\"ticks\":\"\"}}}],\"carpet\":[{\"aaxis\":{\"endlinecolor\":\"#A2B1C6\",\"gridcolor\":\"#506784\",\"linecolor\":\"#506784\",\"minorgridcolor\":\"#506784\",\"startlinecolor\":\"#A2B1C6\"},\"baxis\":{\"endlinecolor\":\"#A2B1C6\",\"gridcolor\":\"#506784\",\"linecolor\":\"#506784\",\"minorgridcolor\":\"#506784\",\"startlinecolor\":\"#A2B1C6\"},\"type\":\"carpet\"}],\"table\":[{\"cells\":{\"fill\":{\"color\":\"#506784\"},\"line\":{\"color\":\"rgb(17,17,17)\"}},\"header\":{\"fill\":{\"color\":\"#2a3f5f\"},\"line\":{\"color\":\"rgb(17,17,17)\"}},\"type\":\"table\"}],\"barpolar\":[{\"marker\":{\"line\":{\"color\":\"rgb(17,17,17)\",\"width\":0.5},\"pattern\":{\"fillmode\":\"overlay\",\"size\":10,\"solidity\":0.2}},\"type\":\"barpolar\"}],\"pie\":[{\"automargin\":true,\"type\":\"pie\"}]},\"layout\":{\"autotypenumbers\":\"strict\",\"colorway\":[\"#636efa\",\"#EF553B\",\"#00cc96\",\"#ab63fa\",\"#FFA15A\",\"#19d3f3\",\"#FF6692\",\"#B6E880\",\"#FF97FF\",\"#FECB52\"],\"font\":{\"color\":\"#f2f5fa\"},\"hovermode\":\"closest\",\"hoverlabel\":{\"align\":\"left\"},\"paper_bgcolor\":\"rgb(17,17,17)\",\"plot_bgcolor\":\"rgb(17,17,17)\",\"polar\":{\"bgcolor\":\"rgb(17,17,17)\",\"angularaxis\":{\"gridcolor\":\"#506784\",\"linecolor\":\"#506784\",\"ticks\":\"\"},\"radialaxis\":{\"gridcolor\":\"#506784\",\"linecolor\":\"#506784\",\"ticks\":\"\"}},\"ternary\":{\"bgcolor\":\"rgb(17,17,17)\",\"aaxis\":{\"gridcolor\":\"#506784\",\"linecolor\":\"#506784\",\"ticks\":\"\"},\"baxis\":{\"gridcolor\":\"#506784\",\"linecolor\":\"#506784\",\"ticks\":\"\"},\"caxis\":{\"gridcolor\":\"#506784\",\"linecolor\":\"#506784\",\"ticks\":\"\"}},\"coloraxis\":{\"colorbar\":{\"outlinewidth\":0,\"ticks\":\"\"}},\"colorscale\":{\"sequential\":[[0.0,\"#0d0887\"],[0.1111111111111111,\"#46039f\"],[0.2222222222222222,\"#7201a8\"],[0.3333333333333333,\"#9c179e\"],[0.4444444444444444,\"#bd3786\"],[0.5555555555555556,\"#d8576b\"],[0.6666666666666666,\"#ed7953\"],[0.7777777777777778,\"#fb9f3a\"],[0.8888888888888888,\"#fdca26\"],[1.0,\"#f0f921\"]],\"sequentialminus\":[[0.0,\"#0d0887\"],[0.1111111111111111,\"#46039f\"],[0.2222222222222222,\"#7201a8\"],[0.3333333333333333,\"#9c179e\"],[0.4444444444444444,\"#bd3786\"],[0.5555555555555556,\"#d8576b\"],[0.6666666666666666,\"#ed7953\"],[0.7777777777777778,\"#fb9f3a\"],[0.8888888888888888,\"#fdca26\"],[1.0,\"#f0f921\"]],\"diverging\":[[0,\"#8e0152\"],[0.1,\"#c51b7d\"],[0.2,\"#de77ae\"],[0.3,\"#f1b6da\"],[0.4,\"#fde0ef\"],[0.5,\"#f7f7f7\"],[0.6,\"#e6f5d0\"],[0.7,\"#b8e186\"],[0.8,\"#7fbc41\"],[0.9,\"#4d9221\"],[1,\"#276419\"]]},\"xaxis\":{\"gridcolor\":\"#283442\",\"linecolor\":\"#506784\",\"ticks\":\"\",\"title\":{\"standoff\":15},\"zerolinecolor\":\"#283442\",\"automargin\":true,\"zerolinewidth\":2},\"yaxis\":{\"gridcolor\":\"#283442\",\"linecolor\":\"#506784\",\"ticks\":\"\",\"title\":{\"standoff\":15},\"zerolinecolor\":\"#283442\",\"automargin\":true,\"zerolinewidth\":2},\"scene\":{\"xaxis\":{\"backgroundcolor\":\"rgb(17,17,17)\",\"gridcolor\":\"#506784\",\"linecolor\":\"#506784\",\"showbackground\":true,\"ticks\":\"\",\"zerolinecolor\":\"#C8D4E3\",\"gridwidth\":2},\"yaxis\":{\"backgroundcolor\":\"rgb(17,17,17)\",\"gridcolor\":\"#506784\",\"linecolor\":\"#506784\",\"showbackground\":true,\"ticks\":\"\",\"zerolinecolor\":\"#C8D4E3\",\"gridwidth\":2},\"zaxis\":{\"backgroundcolor\":\"rgb(17,17,17)\",\"gridcolor\":\"#506784\",\"linecolor\":\"#506784\",\"showbackground\":true,\"ticks\":\"\",\"zerolinecolor\":\"#C8D4E3\",\"gridwidth\":2}},\"shapedefaults\":{\"line\":{\"color\":\"#f2f5fa\"}},\"annotationdefaults\":{\"arrowcolor\":\"#f2f5fa\",\"arrowhead\":0,\"arrowwidth\":1},\"geo\":{\"bgcolor\":\"rgb(17,17,17)\",\"landcolor\":\"rgb(17,17,17)\",\"subunitcolor\":\"#506784\",\"showland\":true,\"showlakes\":true,\"lakecolor\":\"rgb(17,17,17)\"},\"title\":{\"x\":0.05},\"updatemenudefaults\":{\"bgcolor\":\"#506784\",\"borderwidth\":0},\"sliderdefaults\":{\"bgcolor\":\"#C8D4E3\",\"borderwidth\":1,\"bordercolor\":\"rgb(17,17,17)\",\"tickwidth\":0},\"mapbox\":{\"style\":\"dark\"}}},\"xaxis\":{\"anchor\":\"y\",\"domain\":[0.0,0.485],\"matches\":\"x3\",\"showticklabels\":false},\"yaxis\":{\"anchor\":\"x\",\"domain\":[0.5125,1.0],\"matches\":\"y3\",\"title\":{\"text\":\"d'\"}},\"xaxis2\":{\"anchor\":\"y2\",\"domain\":[0.495,0.98],\"matches\":\"x3\",\"showticklabels\":false},\"yaxis2\":{\"anchor\":\"x2\",\"domain\":[0.5125,1.0],\"matches\":\"y3\",\"showticklabels\":false},\"xaxis3\":{\"anchor\":\"y3\",\"domain\":[0.0,0.485],\"title\":{\"text\":\"Threshold (samples)\"}},\"yaxis3\":{\"anchor\":\"x3\",\"domain\":[0.0,0.4875],\"title\":{\"text\":\"d'\"}},\"xaxis4\":{\"anchor\":\"y4\",\"domain\":[0.495,0.98],\"matches\":\"x3\",\"title\":{\"text\":\"Threshold (samples)\"}},\"yaxis4\":{\"anchor\":\"x4\",\"domain\":[0.0,0.4875],\"matches\":\"y3\",\"showticklabels\":false},\"annotations\":[{\"font\":{\"size\":16},\"showarrow\":false,\"text\":\"RA\",\"x\":0.2425,\"xanchor\":\"center\",\"xref\":\"paper\",\"y\":1.0,\"yanchor\":\"bottom\",\"yref\":\"paper\"},{\"font\":{\"size\":16},\"showarrow\":false,\"text\":\"MN\",\"x\":0.7375,\"xanchor\":\"center\",\"xref\":\"paper\",\"y\":1.0,\"yanchor\":\"bottom\",\"yref\":\"paper\"},{\"font\":{\"size\":16},\"showarrow\":false,\"text\":\"Onset\",\"textangle\":90,\"x\":0.98,\"xanchor\":\"left\",\"xref\":\"paper\",\"y\":0.75625,\"yanchor\":\"middle\",\"yref\":\"paper\"},{\"font\":{\"size\":16},\"showarrow\":false,\"text\":\"Offset\",\"textangle\":90,\"x\":0.98,\"xanchor\":\"left\",\"xref\":\"paper\",\"y\":0.24375,\"yanchor\":\"middle\",\"yref\":\"paper\"}],\"legend\":{\"orientation\":\"h\",\"yanchor\":\"bottom\",\"y\":-0.3,\"xanchor\":\"left\",\"x\":0.25},\"title\":{\"text\":\"d' (fixations)\"},\"width\":1400,\"height\":500,\"paper_bgcolor\":\"rgba(0, 0, 0, 0)\",\"plot_bgcolor\":\"rgba(0, 0, 0, 0)\"},                        {\"responsive\": true}                    ).then(function(){\n",
       "                            \n",
       "var gd = document.getElementById('f86db9a4-a286-4fcf-b96d-368eabcf8dba');\n",
       "var x = new MutationObserver(function (mutations, observer) {{\n",
       "        var display = window.getComputedStyle(gd).display;\n",
       "        if (!display || display === 'none') {{\n",
       "            console.log([gd, 'removed!']);\n",
       "            Plotly.purge(gd);\n",
       "            observer.disconnect();\n",
       "        }}\n",
       "}});\n",
       "\n",
       "// Listen for the removal of the full notebook cells\n",
       "var notebookContainer = gd.closest('#notebook-container');\n",
       "if (notebookContainer) {{\n",
       "    x.observe(notebookContainer, {childList: true});\n",
       "}}\n",
       "\n",
       "// Listen for the clearing of the current output cell\n",
       "var outputEl = gd.closest('.output');\n",
       "if (outputEl) {{\n",
       "    x.observe(outputEl, {childList: true});\n",
       "}}\n",
       "\n",
       "                        })                };                });            </script>        </div>"
      ]
     },
     "metadata": {},
     "output_type": "display_data"
    }
   ],
   "execution_count": 17
  },
  {
   "metadata": {},
   "cell_type": "markdown",
   "source": "### 3) F1 over thresholds",
   "id": "6dd949a18dcb5708"
  },
  {
   "metadata": {
    "ExecuteTime": {
     "end_time": "2024-11-25T22:57:27.897282Z",
     "start_time": "2024-11-25T22:57:27.844099Z"
    }
   },
   "cell_type": "code",
   "source": [
    "f1_threshold_figure = ch_sdt.multi_channel_figure(\n",
    "    csdt_metrics,\n",
    "    metric=peyes.constants.F1_STR,\n",
    "    yaxis_title=\"F1\", show_other_gt=True, error_bars='std', show_err_bands=False,\n",
    "    colors={k: v[1] for k, v in LABELER_PLOTTING_CONFIG.items()},\n",
    ")\n",
    "\n",
    "f1_threshold_figure.update_layout(\n",
    "    title=dict(text=\"f1 (saccades)\"),\n",
    "    width=1400, height=500,\n",
    "    paper_bgcolor='rgba(0, 0, 0, 0)',\n",
    "    plot_bgcolor='rgba(0, 0, 0, 0)',\n",
    "    margin=dict(l=10, r=10, b=10, t=10, pad=0),\n",
    ")\n",
    "f1_threshold_figure.layout.annotations = []   # remove subtitles\n",
    "\n",
    "f1_threshold_figure.show()"
   ],
   "id": "438cc5f694a3bdfb",
   "outputs": [
    {
     "data": {
      "application/vnd.plotly.v1+json": {
       "data": [
        {
         "error_y": {
          "array": [
           0.1402711861540341,
           0.0815469782323143,
           0.06872061231514642,
           0.03018345873310744,
           0.029241491473812428,
           0.029241491473812428,
           0.029241491473812428,
           0.029241491473812428,
           0.029241491473812428,
           0.022793023450968803,
           0.022793023450968803,
           0.022793023450968803,
           0.022793023450968803,
           0.022793023450968803,
           0.021812675535401813,
           0.021812675535401813,
           0.021812675535401813,
           0.021812675535401813,
           0.021812675535401813,
           0.021812675535401813,
           0.021812675535401813
          ],
          "type": "data"
         },
         "legendgroup": "Other GT",
         "line": {
          "color": "#bab0ac",
          "dash": "dot"
         },
         "marker": {
          "color": "#bab0ac",
          "size": 5
         },
         "mode": "lines+markers",
         "name": "Other GT",
         "showlegend": true,
         "x": [
          0,
          1,
          2,
          3,
          4,
          5,
          6,
          7,
          8,
          9,
          10,
          11,
          12,
          13,
          14,
          15,
          16,
          17,
          18,
          19,
          20
         ],
         "y": [
          0.6308796613190317,
          0.8964535746159025,
          0.9403802393463556,
          0.9656216179490787,
          0.97267235491053,
          0.97267235491053,
          0.97267235491053,
          0.97267235491053,
          0.97267235491053,
          0.9760737154547476,
          0.9760737154547476,
          0.9760737154547476,
          0.9760737154547476,
          0.9760737154547476,
          0.9783412891508928,
          0.9783412891508928,
          0.9783412891508928,
          0.9783412891508928,
          0.9783412891508928,
          0.9783412891508928,
          0.9783412891508928
         ],
         "type": "scatter",
         "xaxis": "x",
         "yaxis": "y"
        },
        {
         "error_y": {
          "array": [
           0.07074919162465623,
           0.15019074073417174,
           0.14580302042979612,
           0.12522318698281748,
           0.12551188006886269,
           0.12431355592455358,
           0.12431355592455358,
           0.11996367963545147,
           0.11996367963545147,
           0.11630600898288442,
           0.11658796180995087,
           0.11658796180995087,
           0.11658796180995087,
           0.11658796180995087,
           0.11658796180995087,
           0.11658796180995087,
           0.11658796180995087,
           0.11658796180995087,
           0.11658796180995087,
           0.11658796180995087,
           0.11658796180995087
          ],
          "type": "data"
         },
         "legendgroup": "ivt",
         "line": {
          "color": "#E15F99"
         },
         "marker": {
          "color": "#E15F99",
          "size": 5
         },
         "mode": "lines+markers",
         "name": "ivt",
         "showlegend": true,
         "x": [
          0,
          1,
          2,
          3,
          4,
          5,
          6,
          7,
          8,
          9,
          10,
          11,
          12,
          13,
          14,
          15,
          16,
          17,
          18,
          19,
          20
         ],
         "y": [
          0.07768339994650544,
          0.530020518140914,
          0.760486173380124,
          0.7936552567122508,
          0.8122765078073211,
          0.8166745011183579,
          0.8166745011183579,
          0.8195438539877108,
          0.8195438539877108,
          0.8208259052697621,
          0.8224132068570637,
          0.8224132068570637,
          0.8224132068570637,
          0.8224132068570637,
          0.8224132068570637,
          0.8224132068570637,
          0.8224132068570637,
          0.8224132068570637,
          0.8224132068570637,
          0.8224132068570637,
          0.8224132068570637
         ],
         "type": "scatter",
         "xaxis": "x",
         "yaxis": "y"
        },
        {
         "error_y": {
          "array": [
           0.06019702913383688,
           0.15191763512768192,
           0.16808899331743513,
           0.15851431606573263,
           0.15890081747046964,
           0.160771433317635,
           0.15671163118285,
           0.15401500721305356,
           0.15423478329754314,
           0.15423478329754314,
           0.15426386590271673,
           0.15426386590271673,
           0.15426386590271673,
           0.15426386590271673,
           0.15426386590271673,
           0.15426386590271673,
           0.15426386590271673,
           0.15426386590271673,
           0.15426386590271673,
           0.15426386590271673,
           0.15426386590271673
          ],
          "type": "data"
         },
         "legendgroup": "ivvt",
         "line": {
          "color": "#1CA71C"
         },
         "marker": {
          "color": "#1CA71C",
          "size": 5
         },
         "mode": "lines+markers",
         "name": "ivvt",
         "showlegend": true,
         "x": [
          0,
          1,
          2,
          3,
          4,
          5,
          6,
          7,
          8,
          9,
          10,
          11,
          12,
          13,
          14,
          15,
          16,
          17,
          18,
          19,
          20
         ],
         "y": [
          0.07023343376692753,
          0.4956491321914694,
          0.7084849664400746,
          0.7381920342458762,
          0.7460360320990425,
          0.7518034972226706,
          0.753765219710709,
          0.7563103886030892,
          0.7575924398851405,
          0.7575924398851405,
          0.7590849771985733,
          0.7590849771985733,
          0.7590849771985733,
          0.7590849771985733,
          0.7590849771985733,
          0.7590849771985733,
          0.7590849771985733,
          0.7590849771985733,
          0.7590849771985733,
          0.7590849771985733,
          0.7590849771985733
         ],
         "type": "scatter",
         "xaxis": "x",
         "yaxis": "y"
        },
        {
         "error_y": {
          "array": [
           null,
           0.019952446417260582,
           0.09276494373541934,
           0.11845164128260117,
           0.13800961798221753,
           0.14145160821165037,
           0.15438895158580143,
           0.15913892794427947,
           0.16094927957567226,
           0.161455720204375,
           0.161455720204375,
           0.15873854304727975,
           0.15873854304727975,
           0.16067045173443298,
           0.16007371464170664,
           0.16007371464170664,
           0.15748661213239146,
           0.15748661213239146,
           0.15748661213239146,
           0.15930578328376716,
           0.16305388913585223
          ],
          "type": "data"
         },
         "legendgroup": "idt",
         "line": {
          "color": "#FB0D0D"
         },
         "marker": {
          "color": "#FB0D0D",
          "size": 5
         },
         "mode": "lines+markers",
         "name": "idt",
         "showlegend": true,
         "x": [
          0,
          1,
          2,
          3,
          4,
          5,
          6,
          7,
          8,
          9,
          10,
          11,
          12,
          13,
          14,
          15,
          16,
          17,
          18,
          19,
          20
         ],
         "y": [
          0.043478260869565216,
          0.052945230096181205,
          0.19689478784548176,
          0.35633243195897796,
          0.45225091885434143,
          0.5455942904472155,
          0.5784222059983516,
          0.589380000151273,
          0.5933944521785712,
          0.5957200335739201,
          0.5957200335739201,
          0.6002195280127471,
          0.6002195280127471,
          0.60704804228807,
          0.6093207695607973,
          0.6093207695607973,
          0.6136685956477539,
          0.6136685956477539,
          0.6136685956477539,
          0.6154543099334682,
          0.6199270029654832
         ],
         "type": "scatter",
         "xaxis": "x",
         "yaxis": "y"
        },
        {
         "error_y": {
          "array": [
           null,
           0.022995131929191236,
           0.10377984809305496,
           0.11557565621871477,
           0.1358931506340076,
           0.1471723636726176,
           0.16008042949790485,
           0.16519919473129568,
           0.1663830804180724,
           0.1669922425649859,
           0.1669922425649859,
           0.1669922425649859,
           0.1669922425649859,
           0.1669922425649859,
           0.16626377441989806,
           0.16626377441989806,
           0.16626377441989806,
           0.16626377441989806,
           0.16626377441989806,
           0.16626377441989806,
           0.16626377441989806
          ],
          "type": "data"
         },
         "legendgroup": "idvt",
         "line": {
          "color": "#DA16FF"
         },
         "marker": {
          "color": "#DA16FF",
          "size": 5
         },
         "mode": "lines+markers",
         "name": "idvt",
         "showlegend": true,
         "x": [
          0,
          1,
          2,
          3,
          4,
          5,
          6,
          7,
          8,
          9,
          10,
          11,
          12,
          13,
          14,
          15,
          16,
          17,
          18,
          19,
          20
         ],
         "y": [
          0.03389830508474576,
          0.06001745276590154,
          0.21708115296922623,
          0.3773917404426727,
          0.4751594010207391,
          0.570627199040727,
          0.6029742542031713,
          0.6114964512846904,
          0.6155109033119887,
          0.617783630584716,
          0.617783630584716,
          0.617783630584716,
          0.617783630584716,
          0.617783630584716,
          0.6200563578574434,
          0.6200563578574434,
          0.6200563578574434,
          0.6200563578574434,
          0.6200563578574434,
          0.6200563578574434,
          0.6200563578574434
         ],
         "type": "scatter",
         "xaxis": "x",
         "yaxis": "y"
        },
        {
         "error_y": {
          "array": [
           0.09389201158953454,
           0.13202555945711722,
           0.1384596371696383,
           0.13455341586698616,
           0.13650708550777835,
           0.13237010810383987,
           0.1313271174661027,
           0.12875474092055286,
           0.1253357602870718,
           0.1253357602870718,
           0.1253357602870718,
           0.12578670177898546,
           0.12578670177898546,
           0.12578670177898546,
           0.12578670177898546,
           0.12578670177898546,
           0.12578670177898546,
           0.12578670177898546,
           0.12578670177898546,
           0.12578670177898546,
           0.12578670177898546
          ],
          "type": "data"
         },
         "legendgroup": "engbert",
         "line": {
          "color": "#222A2A"
         },
         "marker": {
          "color": "#222A2A",
          "size": 5
         },
         "mode": "lines+markers",
         "name": "engbert",
         "showlegend": true,
         "x": [
          0,
          1,
          2,
          3,
          4,
          5,
          6,
          7,
          8,
          9,
          10,
          11,
          12,
          13,
          14,
          15,
          16,
          17,
          18,
          19,
          20
         ],
         "y": [
          0.24823736999806806,
          0.7219315473383954,
          0.8083491914505861,
          0.8167065535487641,
          0.8250081408503516,
          0.8275759239444502,
          0.830194971563498,
          0.8317101230786494,
          0.8330614744300007,
          0.8330614744300007,
          0.8330614744300007,
          0.8344900458585721,
          0.8344900458585721,
          0.8344900458585721,
          0.8344900458585721,
          0.8344900458585721,
          0.8344900458585721,
          0.8344900458585721,
          0.8344900458585721,
          0.8344900458585721,
          0.8344900458585721
         ],
         "type": "scatter",
         "xaxis": "x",
         "yaxis": "y"
        },
        {
         "error_y": {
          "array": [
           0.004743368126660053,
           0.05042672957789621,
           0.2230796090289248,
           0.28069309538325576,
           0.24655705206567555,
           0.266117219990657,
           0.27207489398642265,
           0.2918459460224665,
           0.3122974957371557,
           0.3161913598786911,
           0.32587778845611814,
           0.3257982034023939,
           0.32793864534831096,
           0.32969503930621535,
           0.33173199420674404,
           0.33173199420674404,
           0.33278927137714753,
           0.32526059337911206,
           0.32526059337911206,
           0.32526059337911206,
           0.32526059337911206
          ],
          "type": "data"
         },
         "legendgroup": "nh",
         "line": {
          "color": "#B68100"
         },
         "marker": {
          "color": "#B68100",
          "size": 5
         },
         "mode": "lines+markers",
         "name": "nh",
         "showlegend": true,
         "x": [
          0,
          1,
          2,
          3,
          4,
          5,
          6,
          7,
          8,
          9,
          10,
          11,
          12,
          13,
          14,
          15,
          16,
          17,
          18,
          19,
          20
         ],
         "y": [
          0.033593459680416195,
          0.06407133172877112,
          0.2890613968638375,
          0.25487197377205295,
          0.41009345220027016,
          0.4892825434947114,
          0.576302892517481,
          0.649774457309716,
          0.7046256350787127,
          0.7434367976998135,
          0.7611135694700382,
          0.7688193891029693,
          0.7739947135141478,
          0.7770716365910709,
          0.7803238840791724,
          0.7803238840791724,
          0.7841714608457282,
          0.7876197367077971,
          0.7876197367077971,
          0.7876197367077971,
          0.7876197367077971
         ],
         "type": "scatter",
         "xaxis": "x",
         "yaxis": "y"
        },
        {
         "error_y": {
          "array": [
           0.05960237704380277,
           0.1423336854435357,
           0.11746661587973205,
           0.12892186318188573,
           0.1382863373604747,
           0.14488978245576284,
           0.13806997703734464,
           0.13806997703734464,
           0.13373426137911937,
           0.13373426137911937,
           0.13373426137911937,
           0.13373426137911937,
           0.13373426137911937,
           0.13373426137911937,
           0.13180510036109003,
           0.13180510036109003,
           0.13180510036109003,
           0.13180510036109003,
           0.13180510036109003,
           0.13180510036109003,
           0.13180510036109003
          ],
          "type": "data"
         },
         "legendgroup": "remodnav",
         "line": {
          "color": "#750D86"
         },
         "marker": {
          "color": "#750D86",
          "size": 5
         },
         "mode": "lines+markers",
         "name": "remodnav",
         "showlegend": true,
         "x": [
          0,
          1,
          2,
          3,
          4,
          5,
          6,
          7,
          8,
          9,
          10,
          11,
          12,
          13,
          14,
          15,
          16,
          17,
          18,
          19,
          20
         ],
         "y": [
          0.1123652291676641,
          0.25677839217851517,
          0.3520831998548429,
          0.4732603627426948,
          0.524660996171877,
          0.537523443494315,
          0.5485003838692833,
          0.5485003838692833,
          0.5544741972899053,
          0.5544741972899053,
          0.5544741972899053,
          0.5544741972899053,
          0.5544741972899053,
          0.5544741972899053,
          0.5587605629989796,
          0.5587605629989796,
          0.5587605629989796,
          0.5587605629989796,
          0.5587605629989796,
          0.5587605629989796,
          0.5587605629989796
         ],
         "type": "scatter",
         "xaxis": "x",
         "yaxis": "y"
        },
        {
         "error_y": {
          "array": [
           0.1402711861540341,
           0.0815469782323143,
           0.06872061231514642,
           0.03018345873310744,
           0.029241491473812428,
           0.029241491473812428,
           0.029241491473812428,
           0.029241491473812428,
           0.029241491473812428,
           0.022793023450968803,
           0.022793023450968803,
           0.022793023450968803,
           0.022793023450968803,
           0.022793023450968803,
           0.021812675535401813,
           0.021812675535401813,
           0.021812675535401813,
           0.021812675535401813,
           0.021812675535401813,
           0.021812675535401813,
           0.021812675535401813
          ],
          "type": "data"
         },
         "legendgroup": "Other GT",
         "line": {
          "color": "#bab0ac",
          "dash": "dot"
         },
         "marker": {
          "color": "#bab0ac",
          "size": 5
         },
         "mode": "lines+markers",
         "name": "Other GT",
         "showlegend": false,
         "x": [
          0,
          1,
          2,
          3,
          4,
          5,
          6,
          7,
          8,
          9,
          10,
          11,
          12,
          13,
          14,
          15,
          16,
          17,
          18,
          19,
          20
         ],
         "y": [
          0.6308796613190317,
          0.8964535746159025,
          0.9403802393463556,
          0.9656216179490787,
          0.97267235491053,
          0.97267235491053,
          0.97267235491053,
          0.97267235491053,
          0.97267235491053,
          0.9760737154547476,
          0.9760737154547476,
          0.9760737154547476,
          0.9760737154547476,
          0.9760737154547476,
          0.9783412891508928,
          0.9783412891508928,
          0.9783412891508928,
          0.9783412891508928,
          0.9783412891508928,
          0.9783412891508928,
          0.9783412891508928
         ],
         "type": "scatter",
         "xaxis": "x2",
         "yaxis": "y2"
        },
        {
         "error_y": {
          "array": [
           0.0763501504026448,
           0.16235434810293153,
           0.14164600057007903,
           0.12895063624207334,
           0.12277949442973678,
           0.12851422740683763,
           0.12851422740683763,
           0.12402405526738619,
           0.11973851359627224,
           0.11973851359627224,
           0.11973851359627224,
           0.11973851359627224,
           0.11973851359627224,
           0.11973851359627224,
           0.11973851359627224,
           0.11973851359627224,
           0.11973851359627224,
           0.11973851359627224,
           0.11973851359627224,
           0.11973851359627224,
           0.11973851359627224
          ],
          "type": "data"
         },
         "legendgroup": "ivt",
         "line": {
          "color": "#E15F99"
         },
         "marker": {
          "color": "#E15F99",
          "size": 5
         },
         "mode": "lines+markers",
         "name": "ivt",
         "showlegend": false,
         "x": [
          0,
          1,
          2,
          3,
          4,
          5,
          6,
          7,
          8,
          9,
          10,
          11,
          12,
          13,
          14,
          15,
          16,
          17,
          18,
          19,
          20
         ],
         "y": [
          0.11640842356568164,
          0.4922274168620876,
          0.7210450354246974,
          0.7750398952602489,
          0.7977861095430198,
          0.8064316367194077,
          0.8064316367194077,
          0.8082173510051219,
          0.8100030652908362,
          0.8100030652908362,
          0.8100030652908362,
          0.8100030652908362,
          0.8100030652908362,
          0.8100030652908362,
          0.8100030652908362,
          0.8100030652908362,
          0.8100030652908362,
          0.8100030652908362,
          0.8100030652908362,
          0.8100030652908362,
          0.8100030652908362
         ],
         "type": "scatter",
         "xaxis": "x2",
         "yaxis": "y2"
        },
        {
         "error_y": {
          "array": [
           0.06942922387592315,
           0.15340347621534087,
           0.1660145443763091,
           0.16015558187203688,
           0.15594340037414958,
           0.16341075673503033,
           0.16195868548582437,
           0.15896653516074097,
           0.15896653516074097,
           0.15896653516074097,
           0.15896653516074097,
           0.15896653516074097,
           0.15896653516074097,
           0.15896653516074097,
           0.15896653516074097,
           0.15896653516074097,
           0.15896653516074097,
           0.15896653516074097,
           0.15896653516074097,
           0.15896653516074097,
           0.15896653516074097
          ],
          "type": "data"
         },
         "legendgroup": "ivvt",
         "line": {
          "color": "#1CA71C"
         },
         "marker": {
          "color": "#1CA71C",
          "size": 5
         },
         "mode": "lines+markers",
         "name": "ivvt",
         "showlegend": false,
         "x": [
          0,
          1,
          2,
          3,
          4,
          5,
          6,
          7,
          8,
          9,
          10,
          11,
          12,
          13,
          14,
          15,
          16,
          17,
          18,
          19,
          20
         ],
         "y": [
          0.08482486681377834,
          0.46006840651282116,
          0.67506332261312,
          0.7191201275492228,
          0.7316324846971103,
          0.7421764351450327,
          0.7452834547077485,
          0.7467562087578221,
          0.7467562087578221,
          0.7467562087578221,
          0.7467562087578221,
          0.7467562087578221,
          0.7467562087578221,
          0.7467562087578221,
          0.7467562087578221,
          0.7467562087578221,
          0.7467562087578221,
          0.7467562087578221,
          0.7467562087578221,
          0.7467562087578221,
          0.7467562087578221
         ],
         "type": "scatter",
         "xaxis": "x2",
         "yaxis": "y2"
        },
        {
         "error_y": {
          "array": [
           null,
           0.032957886142932644,
           0.11508735156212026,
           0.08822795765670241,
           0.1161811145781446,
           0.13444394613055166,
           0.1522191163705378,
           0.16691552470201745,
           0.1715154248765716,
           0.1715154248765716,
           0.17245673485414537,
           0.17245673485414537,
           0.17465001007204836,
           0.1695193273290608,
           0.16904676133437943,
           0.16904676133437943,
           0.16440932219393017,
           0.16440932219393017,
           0.16440932219393017,
           0.16440932219393017,
           0.16691351207486846
          ],
          "type": "data"
         },
         "legendgroup": "idt",
         "line": {
          "color": "#FB0D0D"
         },
         "marker": {
          "color": "#FB0D0D",
          "size": 5
         },
         "mode": "lines+markers",
         "name": "idt",
         "showlegend": false,
         "x": [
          0,
          1,
          2,
          3,
          4,
          5,
          6,
          7,
          8,
          9,
          10,
          11,
          12,
          13,
          14,
          15,
          16,
          17,
          18,
          19,
          20
         ],
         "y": [
          null,
          0.07679945152054046,
          0.18282594347202658,
          0.3188142352743941,
          0.4526770177334583,
          0.5201700472613316,
          0.5545753189242805,
          0.575195965796004,
          0.5809969736478732,
          0.5809969736478732,
          0.5843192327840858,
          0.5843192327840858,
          0.5873587464618975,
          0.590398260139709,
          0.596392266133715,
          0.596392266133715,
          0.5994317798115266,
          0.5994317798115266,
          0.5994317798115266,
          0.5994317798115266,
          0.601938045475687
         ],
         "type": "scatter",
         "xaxis": "x2",
         "yaxis": "y2"
        },
        {
         "error_y": {
          "array": [
           0.0018061475892376681,
           0.03897537291135374,
           0.1105200899507707,
           0.07894669515727404,
           0.11747075558013297,
           0.1368365610650767,
           0.15462951458074825,
           0.16898622159963186,
           0.17259575060072807,
           0.17259575060072807,
           0.17259575060072807,
           0.17259575060072807,
           0.17259575060072807,
           0.17259575060072807,
           0.17192762753612445,
           0.17192762753612445,
           0.17192762753612445,
           0.17192762753612445,
           0.17192762753612445,
           0.17192762753612445,
           0.17192762753612445
          ],
          "type": "data"
         },
         "legendgroup": "idvt",
         "line": {
          "color": "#DA16FF"
         },
         "marker": {
          "color": "#DA16FF",
          "size": 5
         },
         "mode": "lines+markers",
         "name": "idvt",
         "showlegend": false,
         "x": [
          0,
          1,
          2,
          3,
          4,
          5,
          6,
          7,
          8,
          9,
          10,
          11,
          12,
          13,
          14,
          15,
          16,
          17,
          18,
          19,
          20
         ],
         "y": [
          0.035759897828863345,
          0.07585210424558744,
          0.19920895081566245,
          0.33599908581047205,
          0.46973251118246123,
          0.5393644616782074,
          0.5733848870133198,
          0.5937236630284851,
          0.5994747557360995,
          0.5994747557360995,
          0.5994747557360995,
          0.5994747557360995,
          0.5994747557360995,
          0.5994747557360995,
          0.6027215089828529,
          0.6027215089828529,
          0.6027215089828529,
          0.6027215089828529,
          0.6027215089828529,
          0.6027215089828529,
          0.6027215089828529
         ],
         "type": "scatter",
         "xaxis": "x2",
         "yaxis": "y2"
        },
        {
         "error_y": {
          "array": [
           0.11821554141575748,
           0.16669256686854342,
           0.1558184175532287,
           0.14870399164376844,
           0.1426424322637084,
           0.14108574055914805,
           0.14082160944829888,
           0.13780093533405202,
           0.13780093533405202,
           0.13780093533405202,
           0.13780093533405202,
           0.13780093533405202,
           0.13780093533405202,
           0.13780093533405202,
           0.13780093533405202,
           0.13780093533405202,
           0.13780093533405202,
           0.13780093533405202,
           0.13780093533405202,
           0.13780093533405202,
           0.13780093533405202
          ],
          "type": "data"
         },
         "legendgroup": "engbert",
         "line": {
          "color": "#222A2A"
         },
         "marker": {
          "color": "#222A2A",
          "size": 5
         },
         "mode": "lines+markers",
         "name": "engbert",
         "showlegend": false,
         "x": [
          0,
          1,
          2,
          3,
          4,
          5,
          6,
          7,
          8,
          9,
          10,
          11,
          12,
          13,
          14,
          15,
          16,
          17,
          18,
          19,
          20
         ],
         "y": [
          0.23863924813005657,
          0.6824024328513039,
          0.7566481736111825,
          0.7816278734556106,
          0.793309267791777,
          0.7947973630298721,
          0.7985101157365887,
          0.8026543843332431,
          0.8026543843332431,
          0.8026543843332431,
          0.8026543843332431,
          0.8026543843332431,
          0.8026543843332431,
          0.8026543843332431,
          0.8026543843332431,
          0.8026543843332431,
          0.8026543843332431,
          0.8026543843332431,
          0.8026543843332431,
          0.8026543843332431,
          0.8026543843332431
         ],
         "type": "scatter",
         "xaxis": "x2",
         "yaxis": "y2"
        },
        {
         "error_y": {
          "array": [
           0.005439282932204207,
           0.04809240279584136,
           0.17799407901877642,
           0.25000193387331615,
           0.20224939610762524,
           0.24674115025932764,
           0.27918883989639376,
           0.29403830526998836,
           0.31689279176349433,
           0.318043254977343,
           0.32540485108613965,
           0.31974034824828423,
           0.31980336728495373,
           0.323203329742098,
           0.32662299846956394,
           0.32662299846956394,
           0.3286371213561694,
           0.31814765035781734,
           0.31822404781463937,
           0.31822404781463937,
           0.31822404781463937
          ],
          "type": "data"
         },
         "legendgroup": "nh",
         "line": {
          "color": "#B68100"
         },
         "marker": {
          "color": "#B68100",
          "size": 5
         },
         "mode": "lines+markers",
         "name": "nh",
         "showlegend": false,
         "x": [
          0,
          1,
          2,
          3,
          4,
          5,
          6,
          7,
          8,
          9,
          10,
          11,
          12,
          13,
          14,
          15,
          16,
          17,
          18,
          19,
          20
         ],
         "y": [
          0.03461538461538462,
          0.06229260935143288,
          0.12814942323703274,
          0.19164944168303855,
          0.3895965306950737,
          0.45987279141036025,
          0.5376165015915175,
          0.6090189895536201,
          0.6862181666008215,
          0.7175476021002268,
          0.7303638469833409,
          0.7418150941488738,
          0.7445623468961264,
          0.7517052040389837,
          0.7563537301160813,
          0.7563537301160813,
          0.7591009828633339,
          0.7638628876252387,
          0.7665583054149963,
          0.7665583054149963,
          0.7665583054149963
         ],
         "type": "scatter",
         "xaxis": "x2",
         "yaxis": "y2"
        },
        {
         "error_y": {
          "array": [
           0.09638332175348553,
           0.1250792968687905,
           0.11501214853160681,
           0.11805219035757918,
           0.1524319487063568,
           0.15726780218680086,
           0.15055619934709047,
           0.15055619934709047,
           0.14528335341797646,
           0.14528335341797646,
           0.14528335341797646,
           0.14528335341797646,
           0.14528335341797646,
           0.14267573184903137,
           0.14267573184903137,
           0.14267573184903137,
           0.14267573184903137,
           0.14267573184903137,
           0.14267573184903137,
           0.14267573184903137,
           0.14267573184903137
          ],
          "type": "data"
         },
         "legendgroup": "remodnav",
         "line": {
          "color": "#750D86"
         },
         "marker": {
          "color": "#750D86",
          "size": 5
         },
         "mode": "lines+markers",
         "name": "remodnav",
         "showlegend": false,
         "x": [
          0,
          1,
          2,
          3,
          4,
          5,
          6,
          7,
          8,
          9,
          10,
          11,
          12,
          13,
          14,
          15,
          16,
          17,
          18,
          19,
          20
         ],
         "y": [
          0.13785177519247582,
          0.21695699606353863,
          0.350265871565575,
          0.4533342978646323,
          0.5027565974422112,
          0.5217806319089817,
          0.5293046394329892,
          0.5293046394329892,
          0.537571835200185,
          0.537571835200185,
          0.537571835200185,
          0.537571835200185,
          0.537571835200185,
          0.5408185884469383,
          0.5408185884469383,
          0.5408185884469383,
          0.5408185884469383,
          0.5408185884469383,
          0.5408185884469383,
          0.5408185884469383,
          0.5408185884469383
         ],
         "type": "scatter",
         "xaxis": "x2",
         "yaxis": "y2"
        },
        {
         "error_y": {
          "array": [
           0.12710270747195176,
           0.0985080804123959,
           0.10245733652144814,
           0.08902433978478015,
           0.08802669255778445,
           0.08185940317316905,
           0.07413498678730591,
           0.07150123334877288,
           0.05375446865918053,
           0.057361690411544757,
           0.0540432873526914,
           0.044566734120979,
           0.044566734120979,
           0.03708975292427544,
           0.030916898918629986,
           0.030916898918629986,
           0.030916898918629986,
           0.030916898918629986,
           0.030916898918629986,
           0.02585611605102801,
           0.022550346538361816
          ],
          "type": "data"
         },
         "legendgroup": "Other GT",
         "line": {
          "color": "#bab0ac",
          "dash": "dot"
         },
         "marker": {
          "color": "#bab0ac",
          "size": 5
         },
         "mode": "lines+markers",
         "name": "Other GT",
         "showlegend": false,
         "x": [
          0,
          1,
          2,
          3,
          4,
          5,
          6,
          7,
          8,
          9,
          10,
          11,
          12,
          13,
          14,
          15,
          16,
          17,
          18,
          19,
          20
         ],
         "y": [
          0.4175655661911009,
          0.7626790393773856,
          0.821208638463688,
          0.8624309165489017,
          0.8954417690830582,
          0.9034171928591261,
          0.9265577425146055,
          0.9358540543229109,
          0.9463209276394017,
          0.9537351433256761,
          0.9591895986239357,
          0.9625909591681534,
          0.9625909591681534,
          0.9659923197123711,
          0.971944700664752,
          0.971944700664752,
          0.971944700664752,
          0.971944700664752,
          0.971944700664752,
          0.974076896826799,
          0.9762090929888458
         ],
         "type": "scatter",
         "xaxis": "x3",
         "yaxis": "y3"
        },
        {
         "error_y": {
          "array": [
           0.05964842902826839,
           0.11344480182822589,
           0.1750082903341002,
           0.21008836855303603,
           0.2237815167295515,
           0.21194504717948662,
           0.18627787335039403,
           0.17594114735288469,
           0.17619600005643943,
           0.17568438872307812,
           0.1744358796368142,
           0.16702732936815268,
           0.15979600079115497,
           0.14742857040122917,
           0.13414870260760137,
           0.12564839101371716,
           0.12160386909597458,
           0.12160386909597458,
           0.12160386909597458,
           0.12280817022711452,
           0.12194039129752826
          ],
          "type": "data"
         },
         "legendgroup": "ivt",
         "line": {
          "color": "#E15F99"
         },
         "marker": {
          "color": "#E15F99",
          "size": 5
         },
         "mode": "lines+markers",
         "name": "ivt",
         "showlegend": false,
         "x": [
          0,
          1,
          2,
          3,
          4,
          5,
          6,
          7,
          8,
          9,
          10,
          11,
          12,
          13,
          14,
          15,
          16,
          17,
          18,
          19,
          20
         ],
         "y": [
          0.06851767108590627,
          0.20864961363184023,
          0.3909266840005433,
          0.48895767460871936,
          0.5577327960843759,
          0.609631752116371,
          0.6675326225636558,
          0.7000853258244855,
          0.7205318450674191,
          0.729186664543134,
          0.7455249499781771,
          0.7589016226558243,
          0.7791287949088586,
          0.796767961298025,
          0.8072938434618381,
          0.8122938434618382,
          0.8160438434618381,
          0.8160438434618381,
          0.8160438434618381,
          0.8175823050002997,
          0.8188323050002998
         ],
         "type": "scatter",
         "xaxis": "x3",
         "yaxis": "y3"
        },
        {
         "error_y": {
          "array": [
           0.05398085744674889,
           0.1118699753145508,
           0.17350155905618042,
           0.2078994299495868,
           0.22205897315457512,
           0.21525471540189256,
           0.1986669382116847,
           0.18517907025613506,
           0.18717399164587256,
           0.1852317068583122,
           0.1862867709178701,
           0.18244837472474226,
           0.17631164432253735,
           0.16786874930060536,
           0.16128052802811388,
           0.1589611138487376,
           0.1579947890919192,
           0.1579947890919192,
           0.1579947890919192,
           0.1588242178106627,
           0.1588242178106627
          ],
          "type": "data"
         },
         "legendgroup": "ivvt",
         "line": {
          "color": "#1CA71C"
         },
         "marker": {
          "color": "#1CA71C",
          "size": 5
         },
         "mode": "lines+markers",
         "name": "ivvt",
         "showlegend": false,
         "x": [
          0,
          1,
          2,
          3,
          4,
          5,
          6,
          7,
          8,
          9,
          10,
          11,
          12,
          13,
          14,
          15,
          16,
          17,
          18,
          19,
          20
         ],
         "y": [
          0.06662421297839845,
          0.2548559233505049,
          0.42273449365448,
          0.511713584878667,
          0.5648244067848587,
          0.6122537858810823,
          0.6674757252159764,
          0.6942272911360445,
          0.7104100628992828,
          0.7142372830737143,
          0.7233959864762286,
          0.7289857628675501,
          0.7402724042185508,
          0.7460071200176257,
          0.7516439118057334,
          0.7537272451390667,
          0.7547689118057334,
          0.7547689118057334,
          0.7547689118057334,
          0.7561974832343048,
          0.7561974832343048
         ],
         "type": "scatter",
         "xaxis": "x3",
         "yaxis": "y3"
        },
        {
         "error_y": {
          "array": [
           0.017121852189185816,
           0.048631053438353576,
           0.08874538132669073,
           0.1579544107035738,
           0.1737918193684123,
           0.1661634291602556,
           0.16227071182507352,
           0.14139286636225765,
           0.13330874313759922,
           0.129635282287258,
           0.1317784939463804,
           0.14575538501409882,
           0.15604156703010091,
           0.16186578545628913,
           0.1625393548533712,
           0.15907603396037873,
           0.15754633530468884,
           0.15754633530468884,
           0.15891508955726938,
           0.16066958215686192,
           0.16066958215686192
          ],
          "type": "data"
         },
         "legendgroup": "idt",
         "line": {
          "color": "#FB0D0D"
         },
         "marker": {
          "color": "#FB0D0D",
          "size": 5
         },
         "mode": "lines+markers",
         "name": "idt",
         "showlegend": false,
         "x": [
          0,
          1,
          2,
          3,
          4,
          5,
          6,
          7,
          8,
          9,
          10,
          11,
          12,
          13,
          14,
          15,
          16,
          17,
          18,
          19,
          20
         ],
         "y": [
          0.05146397081179689,
          0.06883667425671848,
          0.1246042235283208,
          0.1861172933793018,
          0.17528879036060507,
          0.2132673558741248,
          0.2616030477887016,
          0.3483155218259532,
          0.4302324385878858,
          0.47916182805631413,
          0.5226532252928782,
          0.5717321030360367,
          0.594914868929762,
          0.6097284203807594,
          0.6118560799552275,
          0.6140299929987058,
          0.6160299929987058,
          0.6160299929987058,
          0.61781570728442,
          0.6196014215701343,
          0.6196014215701343
         ],
         "type": "scatter",
         "xaxis": "x3",
         "yaxis": "y3"
        },
        {
         "error_y": {
          "array": [
           0.016017354976174358,
           0.044721992620956316,
           0.07834038263798528,
           0.14843158260923334,
           0.16928508218019178,
           0.16003808130690525,
           0.15961134191925797,
           0.14543668044952626,
           0.13560313971500615,
           0.12542893764831894,
           0.13824473759148398,
           0.1524702738672367,
           0.16052294624792376,
           0.1677280307834382,
           0.1683690379715022,
           0.16495557796957694,
           0.16281526617923917,
           0.16281526617923917,
           0.1643613987236845,
           0.16626377441989806,
           0.16626377441989806
          ],
          "type": "data"
         },
         "legendgroup": "idvt",
         "line": {
          "color": "#DA16FF"
         },
         "marker": {
          "color": "#DA16FF",
          "size": 5
         },
         "mode": "lines+markers",
         "name": "idvt",
         "showlegend": false,
         "x": [
          0,
          1,
          2,
          3,
          4,
          5,
          6,
          7,
          8,
          9,
          10,
          11,
          12,
          13,
          14,
          15,
          16,
          17,
          18,
          19,
          20
         ],
         "y": [
          0.0486893609535119,
          0.05899509822407863,
          0.10461025023641707,
          0.15927193574074822,
          0.1686161664628767,
          0.21157299426161452,
          0.25623215282127854,
          0.34824123055593487,
          0.424714772596148,
          0.48737477031557286,
          0.5184466297952561,
          0.570636203514659,
          0.5915631802447638,
          0.6104135160967404,
          0.6125411756712086,
          0.6146245090045419,
          0.6165475859276188,
          0.6165475859276188,
          0.618301971892531,
          0.6200563578574434,
          0.6200563578574434
         ],
         "type": "scatter",
         "xaxis": "x3",
         "yaxis": "y3"
        },
        {
         "error_y": {
          "array": [
           0.10850776427438057,
           0.1528224119884033,
           0.17891344470971685,
           0.21716863960441923,
           0.2311833178721263,
           0.22157334487351463,
           0.20107022333719907,
           0.1943829961721254,
           0.19223616471810748,
           0.18847840643068206,
           0.17875327457338974,
           0.1677745659407177,
           0.1680039970847108,
           0.15833069321000556,
           0.14719064847700922,
           0.13656518234597365,
           0.12445351866099233,
           0.12355441479405699,
           0.12355441479405699,
           0.12629972397030806,
           0.12528422725419763
          ],
          "type": "data"
         },
         "legendgroup": "engbert",
         "line": {
          "color": "#222A2A"
         },
         "marker": {
          "color": "#222A2A",
          "size": 5
         },
         "mode": "lines+markers",
         "name": "engbert",
         "showlegend": false,
         "x": [
          0,
          1,
          2,
          3,
          4,
          5,
          6,
          7,
          8,
          9,
          10,
          11,
          12,
          13,
          14,
          15,
          16,
          17,
          18,
          19,
          20
         ],
         "y": [
          0.09633394020635101,
          0.17506820136089285,
          0.25780925918297654,
          0.33012946479469124,
          0.39996084714461666,
          0.4651544291501386,
          0.5328936481297311,
          0.5875796955848679,
          0.62151351162123,
          0.6546989082080953,
          0.6842231296538208,
          0.717539849710146,
          0.7444268384847914,
          0.7644890937787665,
          0.7877116650661452,
          0.8027222568783662,
          0.8158742061826783,
          0.8240947430725167,
          0.8240947430725167,
          0.8287919771574075,
          0.8314110247764551
         ],
         "type": "scatter",
         "xaxis": "x3",
         "yaxis": "y3"
        },
        {
         "error_y": {
          "array": [
           0.07448354901944733,
           0.138728197286713,
           0.18720232975504258,
           0.2113042496920327,
           0.2325463771809651,
           0.25060746541728973,
           0.2673382239171254,
           0.2807690539346126,
           0.2858025207936194,
           0.28794961648424666,
           0.29382649337260813,
           0.2983847831668404,
           0.299797936218115,
           0.3025838300255794,
           0.31114523898886187,
           0.3165908576552093,
           0.3122807972251529,
           0.315266007751912,
           0.315266007751912,
           0.31538500481593057,
           0.3169458794767985
          ],
          "type": "data"
         },
         "legendgroup": "nh",
         "line": {
          "color": "#B68100"
         },
         "marker": {
          "color": "#B68100",
          "size": 5
         },
         "mode": "lines+markers",
         "name": "nh",
         "showlegend": false,
         "x": [
          0,
          1,
          2,
          3,
          4,
          5,
          6,
          7,
          8,
          9,
          10,
          11,
          12,
          13,
          14,
          15,
          16,
          17,
          18,
          19,
          20
         ],
         "y": [
          0.15039186915461894,
          0.33451097734079394,
          0.385935701881384,
          0.42413237199120524,
          0.4862703603143276,
          0.5368626925482765,
          0.5911241152078104,
          0.6352936085413663,
          0.6533585718364983,
          0.6756389865582756,
          0.6899034293742417,
          0.7019240447896562,
          0.7132709151324281,
          0.7205900076974224,
          0.7374647376634712,
          0.7473025659730077,
          0.7557340738729923,
          0.760625665623389,
          0.760625665623389,
          0.7628478878456112,
          0.7663471336977983
         ],
         "type": "scatter",
         "xaxis": "x3",
         "yaxis": "y3"
        },
        {
         "error_y": {
          "array": [
           0.059366766791233545,
           0.08253983000050127,
           0.09225086713878734,
           0.13214082162906043,
           0.15556538425948901,
           0.15614374601914102,
           0.15632731055516547,
           0.1495746708904523,
           0.15942132971259834,
           0.15611398082752173,
           0.15825536431487988,
           0.1590718409120031,
           0.1608459591640584,
           0.14575196899518594,
           0.1408454594337102,
           0.1471692808689782,
           0.12456081352809623,
           0.12056557854501375,
           0.12236625410985962,
           0.12387847634560534,
           0.12751379460525986
          ],
          "type": "data"
         },
         "legendgroup": "remodnav",
         "line": {
          "color": "#750D86"
         },
         "marker": {
          "color": "#750D86",
          "size": 5
         },
         "mode": "lines+markers",
         "name": "remodnav",
         "showlegend": false,
         "x": [
          0,
          1,
          2,
          3,
          4,
          5,
          6,
          7,
          8,
          9,
          10,
          11,
          12,
          13,
          14,
          15,
          16,
          17,
          18,
          19,
          20
         ],
         "y": [
          0.09112303713365716,
          0.12776910983655132,
          0.15380594524885802,
          0.19339405321931888,
          0.19764561575777484,
          0.2257988865666586,
          0.29679329521298414,
          0.33573821126710773,
          0.37533756097212245,
          0.3936593522046666,
          0.4002904891555709,
          0.41552496276473183,
          0.4263523859325805,
          0.45499525183929795,
          0.4777023951538758,
          0.493330593754559,
          0.514938578178165,
          0.52876792933299,
          0.5479835047196087,
          0.550157417763087,
          0.5545052438500434
         ],
         "type": "scatter",
         "xaxis": "x3",
         "yaxis": "y3"
        },
        {
         "error_y": {
          "array": [
           0.12710270747195176,
           0.0985080804123959,
           0.10245733652144814,
           0.08902433978478015,
           0.08802669255778445,
           0.08185940317316905,
           0.07413498678730591,
           0.07150123334877288,
           0.05375446865918053,
           0.057361690411544757,
           0.0540432873526914,
           0.044566734120979,
           0.044566734120979,
           0.03708975292427544,
           0.030916898918629986,
           0.030916898918629986,
           0.030916898918629986,
           0.030916898918629986,
           0.030916898918629986,
           0.02585611605102801,
           0.022550346538361816
          ],
          "type": "data"
         },
         "legendgroup": "Other GT",
         "line": {
          "color": "#bab0ac",
          "dash": "dot"
         },
         "marker": {
          "color": "#bab0ac",
          "size": 5
         },
         "mode": "lines+markers",
         "name": "Other GT",
         "showlegend": false,
         "x": [
          0,
          1,
          2,
          3,
          4,
          5,
          6,
          7,
          8,
          9,
          10,
          11,
          12,
          13,
          14,
          15,
          16,
          17,
          18,
          19,
          20
         ],
         "y": [
          0.4175655661911009,
          0.7626790393773856,
          0.821208638463688,
          0.8624309165489017,
          0.8954417690830582,
          0.9034171928591261,
          0.9265577425146055,
          0.9358540543229109,
          0.9463209276394017,
          0.9537351433256761,
          0.9591895986239357,
          0.9625909591681534,
          0.9625909591681534,
          0.9659923197123711,
          0.971944700664752,
          0.971944700664752,
          0.971944700664752,
          0.971944700664752,
          0.971944700664752,
          0.974076896826799,
          0.9762090929888458
         ],
         "type": "scatter",
         "xaxis": "x4",
         "yaxis": "y4"
        },
        {
         "error_y": {
          "array": [
           0.1033473867328059,
           0.11276857446323511,
           0.1812847824754887,
           0.21726769432621118,
           0.23446531864832656,
           0.24566244201143975,
           0.2330595252847497,
           0.22008856303785287,
           0.2167591597016063,
           0.22414401513992865,
           0.20723340683955582,
           0.19813615163170328,
           0.19350214980133368,
           0.17923081100878907,
           0.16554536809367917,
           0.14907616268170268,
           0.1435624424895251,
           0.13722704403488964,
           0.13251212090812625,
           0.1287420544547401,
           0.1287420544547401
          ],
          "type": "data"
         },
         "legendgroup": "ivt",
         "line": {
          "color": "#E15F99"
         },
         "marker": {
          "color": "#E15F99",
          "size": 5
         },
         "mode": "lines+markers",
         "name": "ivt",
         "showlegend": false,
         "x": [
          0,
          1,
          2,
          3,
          4,
          5,
          6,
          7,
          8,
          9,
          10,
          11,
          12,
          13,
          14,
          15,
          16,
          17,
          18,
          19,
          20
         ],
         "y": [
          0.10629210036269708,
          0.2315859415855997,
          0.35695430003815465,
          0.4301512044408614,
          0.4782511799611246,
          0.5367240238110851,
          0.6088882498317133,
          0.6404964239981277,
          0.6734850308302498,
          0.6936240191519758,
          0.7110617431195505,
          0.7206832783007872,
          0.7408557325241006,
          0.7539644521626708,
          0.7712773010053705,
          0.783799107557028,
          0.7889939127518331,
          0.7943510556089759,
          0.7983147536025246,
          0.8015615068492778,
          0.8015615068492778
         ],
         "type": "scatter",
         "xaxis": "x4",
         "yaxis": "y4"
        },
        {
         "error_y": {
          "array": [
           0.09658354438530185,
           0.11737584712894564,
           0.1761145422107508,
           0.2103797936573588,
           0.224030577487597,
           0.23870071462280565,
           0.23558573661275353,
           0.21690518654440763,
           0.2130389557577874,
           0.21880022677283434,
           0.20711619136185272,
           0.20026872856201947,
           0.19830993473586644,
           0.1846356904418708,
           0.18207311626062478,
           0.1771586561376343,
           0.17275469466460802,
           0.17162245501077433,
           0.16742322428904946,
           0.16586053696381073,
           0.16586053696381073
          ],
          "type": "data"
         },
         "legendgroup": "ivvt",
         "line": {
          "color": "#1CA71C"
         },
         "marker": {
          "color": "#1CA71C",
          "size": 5
         },
         "mode": "lines+markers",
         "name": "ivvt",
         "showlegend": false,
         "x": [
          0,
          1,
          2,
          3,
          4,
          5,
          6,
          7,
          8,
          9,
          10,
          11,
          12,
          13,
          14,
          15,
          16,
          17,
          18,
          19,
          20
         ],
         "y": [
          0.0998775718515781,
          0.24590651826518423,
          0.3823468724551358,
          0.4559136342716316,
          0.4949900432814375,
          0.5463179469390415,
          0.6104101382812385,
          0.6326091432591249,
          0.6644973556882389,
          0.6789762047620503,
          0.692186149788027,
          0.6999592707515013,
          0.7109623507875973,
          0.723220272155854,
          0.7279375706231527,
          0.7327220793633575,
          0.7354935347121324,
          0.7369816299502275,
          0.7400886495129433,
          0.7413873508116445,
          0.7413873508116445
         ],
         "type": "scatter",
         "xaxis": "x4",
         "yaxis": "y4"
        },
        {
         "error_y": {
          "array": [
           0.036726298906555405,
           0.07236788515904492,
           0.09292360328544125,
           0.1329922116984515,
           0.15608012307707755,
           0.15131542128852182,
           0.1598300876020325,
           0.16450471906347858,
           0.12142649538149074,
           0.12314926945520245,
           0.14098474098819497,
           0.1515424678836822,
           0.15970810905914246,
           0.16258064607935155,
           0.1654270280293912,
           0.16708266889768922,
           0.16344641488413203,
           0.16344641488413203,
           0.16344641488413203,
           0.16541644531100808,
           0.16541644531100808
          ],
          "type": "data"
         },
         "legendgroup": "idt",
         "line": {
          "color": "#FB0D0D"
         },
         "marker": {
          "color": "#FB0D0D",
          "size": 5
         },
         "mode": "lines+markers",
         "name": "idt",
         "showlegend": false,
         "x": [
          0,
          1,
          2,
          3,
          4,
          5,
          6,
          7,
          8,
          9,
          10,
          11,
          12,
          13,
          14,
          15,
          16,
          17,
          18,
          19,
          20
         ],
         "y": [
          0.060463472697515244,
          0.10646180993325449,
          0.1261088463615054,
          0.2095098309959521,
          0.20612657819894323,
          0.2238516442317594,
          0.2969104720200225,
          0.3784284961013059,
          0.45711433471953283,
          0.4855619271419331,
          0.5250556968716513,
          0.5554783730024059,
          0.5782892406346101,
          0.5842570024163253,
          0.5900580102681946,
          0.5931636003303064,
          0.6016457845451282,
          0.6016457845451282,
          0.6016457845451282,
          0.6046852982229397,
          0.6046852982229397
         ],
         "type": "scatter",
         "xaxis": "x4",
         "yaxis": "y4"
        },
        {
         "error_y": {
          "array": [
           0.017718471994810782,
           0.07773311999185419,
           0.07855056048493216,
           0.1229521526825691,
           0.15238598074673804,
           0.15250274490384677,
           0.15438365203848556,
           0.16910181271158622,
           0.1283350421174519,
           0.1230983539120372,
           0.14943197138731024,
           0.15874960636849653,
           0.16753606876985644,
           0.17001837910838413,
           0.17255175472589357,
           0.17417087162262704,
           0.16952588048900594,
           0.16952588048900594,
           0.16952588048900594,
           0.17192762753612445,
           0.17192762753612445
          ],
          "type": "data"
         },
         "legendgroup": "idvt",
         "line": {
          "color": "#DA16FF"
         },
         "marker": {
          "color": "#DA16FF",
          "size": 5
         },
         "mode": "lines+markers",
         "name": "idvt",
         "showlegend": false,
         "x": [
          0,
          1,
          2,
          3,
          4,
          5,
          6,
          7,
          8,
          9,
          10,
          11,
          12,
          13,
          14,
          15,
          16,
          17,
          18,
          19,
          20
         ],
         "y": [
          0.0537317620650954,
          0.09796646976449933,
          0.10994582713255749,
          0.18713593557049013,
          0.21382139380970155,
          0.22950689895540025,
          0.2949071374312771,
          0.3814381492160367,
          0.455872565726976,
          0.5000523008740985,
          0.5212413030000366,
          0.5513834675251791,
          0.5767899226586312,
          0.5826821785508871,
          0.5884332712585015,
          0.5915388613206135,
          0.5997453185066624,
          0.5997453185066624,
          0.5997453185066624,
          0.6027215089828529,
          0.6027215089828529
         ],
         "type": "scatter",
         "xaxis": "x4",
         "yaxis": "y4"
        },
        {
         "error_y": {
          "array": [
           0.05111585371166736,
           0.08882251932518917,
           0.1170733189716199,
           0.14812789969900592,
           0.17502052753849998,
           0.1566929085718705,
           0.17437390715822715,
           0.18232585362418155,
           0.18924827556567003,
           0.18118186311780057,
           0.1840451651774993,
           0.1869844207130559,
           0.180476878130824,
           0.18503666684970205,
           0.16945611366242772,
           0.15870354827924024,
           0.1441087289283762,
           0.13879583701185638,
           0.13919919236676742,
           0.1423180069765489,
           0.14070698935313045
          ],
          "type": "data"
         },
         "legendgroup": "engbert",
         "line": {
          "color": "#222A2A"
         },
         "marker": {
          "color": "#222A2A",
          "size": 5
         },
         "mode": "lines+markers",
         "name": "engbert",
         "showlegend": false,
         "x": [
          0,
          1,
          2,
          3,
          4,
          5,
          6,
          7,
          8,
          9,
          10,
          11,
          12,
          13,
          14,
          15,
          16,
          17,
          18,
          19,
          20
         ],
         "y": [
          0.08117273561814788,
          0.14464317146098857,
          0.21599766393869277,
          0.2645375868695251,
          0.32200831921529716,
          0.36942181219582587,
          0.4573712329878855,
          0.5143273030561558,
          0.5503337690323966,
          0.5756043012859331,
          0.6214612335829636,
          0.6642919908944592,
          0.6990534850973524,
          0.7182945256051602,
          0.7392417221591693,
          0.7590035053673022,
          0.7724951696386446,
          0.7817843952791496,
          0.7878206125829725,
          0.7977649285509302,
          0.7992530237890254
         ],
         "type": "scatter",
         "xaxis": "x4",
         "yaxis": "y4"
        },
        {
         "error_y": {
          "array": [
           0.06151483679855146,
           0.16516061619157194,
           0.19292093525319015,
           0.2005446998486247,
           0.21093545668622213,
           0.21512010666641967,
           0.24825820882939892,
           0.2696036790589273,
           0.25746919583079486,
           0.27403107265464305,
           0.2751113994758356,
           0.2799376696232179,
           0.2835108333684094,
           0.2874308105008864,
           0.2966008856873868,
           0.30015607503717845,
           0.306337609098009,
           0.306337609098009,
           0.31032545304259374,
           0.3140116899726213,
           0.3140116899726213
          ],
          "type": "data"
         },
         "legendgroup": "nh",
         "line": {
          "color": "#B68100"
         },
         "marker": {
          "color": "#B68100",
          "size": 5
         },
         "mode": "lines+markers",
         "name": "nh",
         "showlegend": false,
         "x": [
          0,
          1,
          2,
          3,
          4,
          5,
          6,
          7,
          8,
          9,
          10,
          11,
          12,
          13,
          14,
          15,
          16,
          17,
          18,
          19,
          20
         ],
         "y": [
          0.16589275411317117,
          0.3202260116556107,
          0.3809064227896393,
          0.4035167951139398,
          0.4369066069232045,
          0.4837667962203685,
          0.5649828009479055,
          0.6064115209163434,
          0.6482582591156651,
          0.6778920706822499,
          0.6833865761767554,
          0.691112183902363,
          0.6988377916279707,
          0.7064500206687712,
          0.7240979418121329,
          0.7288598465740377,
          0.736639322000572,
          0.736639322000572,
          0.745173341172889,
          0.7501881676162869,
          0.7501881676162869
         ],
         "type": "scatter",
         "xaxis": "x4",
         "yaxis": "y4"
        },
        {
         "error_y": {
          "array": [
           0.07818065531756037,
           0.08231641995616312,
           0.10865427400587681,
           0.11896170282336618,
           0.12359967569755294,
           0.13464636948642156,
           0.12914301391519994,
           0.14704699576523347,
           0.16747213394628907,
           0.18413620444085993,
           0.19698113310181034,
           0.19727545849939498,
           0.18616471214171187,
           0.1880050882042216,
           0.18008635291984076,
           0.19209586413981783,
           0.15880072723708008,
           0.14034983707530346,
           0.13691863326946555,
           0.14143318843348632,
           0.14481980397100194
          ],
          "type": "data"
         },
         "legendgroup": "remodnav",
         "line": {
          "color": "#750D86"
         },
         "marker": {
          "color": "#750D86",
          "size": 5
         },
         "mode": "lines+markers",
         "name": "remodnav",
         "showlegend": false,
         "x": [
          0,
          1,
          2,
          3,
          4,
          5,
          6,
          7,
          8,
          9,
          10,
          11,
          12,
          13,
          14,
          15,
          16,
          17,
          18,
          19,
          20
         ],
         "y": [
          0.11687721298094826,
          0.13079982286838904,
          0.14892974638442374,
          0.1491466573397607,
          0.16117629436939773,
          0.20975487222429137,
          0.23567161958172209,
          0.28513312116872974,
          0.31915241778264003,
          0.33187386874816616,
          0.35509545392627306,
          0.37857507989037104,
          0.3949205069500839,
          0.4172994623884242,
          0.4353437571332188,
          0.4481337449232066,
          0.4751402827993097,
          0.5082772040497744,
          0.5146295473586394,
          0.5274306381024662,
          0.5305362281645779
         ],
         "type": "scatter",
         "xaxis": "x4",
         "yaxis": "y4"
        }
       ],
       "layout": {
        "template": {
         "data": {
          "histogram2dcontour": [
           {
            "type": "histogram2dcontour",
            "colorbar": {
             "outlinewidth": 0,
             "ticks": ""
            },
            "colorscale": [
             [
              0.0,
              "#0d0887"
             ],
             [
              0.1111111111111111,
              "#46039f"
             ],
             [
              0.2222222222222222,
              "#7201a8"
             ],
             [
              0.3333333333333333,
              "#9c179e"
             ],
             [
              0.4444444444444444,
              "#bd3786"
             ],
             [
              0.5555555555555556,
              "#d8576b"
             ],
             [
              0.6666666666666666,
              "#ed7953"
             ],
             [
              0.7777777777777778,
              "#fb9f3a"
             ],
             [
              0.8888888888888888,
              "#fdca26"
             ],
             [
              1.0,
              "#f0f921"
             ]
            ]
           }
          ],
          "choropleth": [
           {
            "type": "choropleth",
            "colorbar": {
             "outlinewidth": 0,
             "ticks": ""
            }
           }
          ],
          "histogram2d": [
           {
            "type": "histogram2d",
            "colorbar": {
             "outlinewidth": 0,
             "ticks": ""
            },
            "colorscale": [
             [
              0.0,
              "#0d0887"
             ],
             [
              0.1111111111111111,
              "#46039f"
             ],
             [
              0.2222222222222222,
              "#7201a8"
             ],
             [
              0.3333333333333333,
              "#9c179e"
             ],
             [
              0.4444444444444444,
              "#bd3786"
             ],
             [
              0.5555555555555556,
              "#d8576b"
             ],
             [
              0.6666666666666666,
              "#ed7953"
             ],
             [
              0.7777777777777778,
              "#fb9f3a"
             ],
             [
              0.8888888888888888,
              "#fdca26"
             ],
             [
              1.0,
              "#f0f921"
             ]
            ]
           }
          ],
          "heatmap": [
           {
            "type": "heatmap",
            "colorbar": {
             "outlinewidth": 0,
             "ticks": ""
            },
            "colorscale": [
             [
              0.0,
              "#0d0887"
             ],
             [
              0.1111111111111111,
              "#46039f"
             ],
             [
              0.2222222222222222,
              "#7201a8"
             ],
             [
              0.3333333333333333,
              "#9c179e"
             ],
             [
              0.4444444444444444,
              "#bd3786"
             ],
             [
              0.5555555555555556,
              "#d8576b"
             ],
             [
              0.6666666666666666,
              "#ed7953"
             ],
             [
              0.7777777777777778,
              "#fb9f3a"
             ],
             [
              0.8888888888888888,
              "#fdca26"
             ],
             [
              1.0,
              "#f0f921"
             ]
            ]
           }
          ],
          "heatmapgl": [
           {
            "type": "heatmapgl",
            "colorbar": {
             "outlinewidth": 0,
             "ticks": ""
            },
            "colorscale": [
             [
              0.0,
              "#0d0887"
             ],
             [
              0.1111111111111111,
              "#46039f"
             ],
             [
              0.2222222222222222,
              "#7201a8"
             ],
             [
              0.3333333333333333,
              "#9c179e"
             ],
             [
              0.4444444444444444,
              "#bd3786"
             ],
             [
              0.5555555555555556,
              "#d8576b"
             ],
             [
              0.6666666666666666,
              "#ed7953"
             ],
             [
              0.7777777777777778,
              "#fb9f3a"
             ],
             [
              0.8888888888888888,
              "#fdca26"
             ],
             [
              1.0,
              "#f0f921"
             ]
            ]
           }
          ],
          "contourcarpet": [
           {
            "type": "contourcarpet",
            "colorbar": {
             "outlinewidth": 0,
             "ticks": ""
            }
           }
          ],
          "contour": [
           {
            "type": "contour",
            "colorbar": {
             "outlinewidth": 0,
             "ticks": ""
            },
            "colorscale": [
             [
              0.0,
              "#0d0887"
             ],
             [
              0.1111111111111111,
              "#46039f"
             ],
             [
              0.2222222222222222,
              "#7201a8"
             ],
             [
              0.3333333333333333,
              "#9c179e"
             ],
             [
              0.4444444444444444,
              "#bd3786"
             ],
             [
              0.5555555555555556,
              "#d8576b"
             ],
             [
              0.6666666666666666,
              "#ed7953"
             ],
             [
              0.7777777777777778,
              "#fb9f3a"
             ],
             [
              0.8888888888888888,
              "#fdca26"
             ],
             [
              1.0,
              "#f0f921"
             ]
            ]
           }
          ],
          "surface": [
           {
            "type": "surface",
            "colorbar": {
             "outlinewidth": 0,
             "ticks": ""
            },
            "colorscale": [
             [
              0.0,
              "#0d0887"
             ],
             [
              0.1111111111111111,
              "#46039f"
             ],
             [
              0.2222222222222222,
              "#7201a8"
             ],
             [
              0.3333333333333333,
              "#9c179e"
             ],
             [
              0.4444444444444444,
              "#bd3786"
             ],
             [
              0.5555555555555556,
              "#d8576b"
             ],
             [
              0.6666666666666666,
              "#ed7953"
             ],
             [
              0.7777777777777778,
              "#fb9f3a"
             ],
             [
              0.8888888888888888,
              "#fdca26"
             ],
             [
              1.0,
              "#f0f921"
             ]
            ]
           }
          ],
          "mesh3d": [
           {
            "type": "mesh3d",
            "colorbar": {
             "outlinewidth": 0,
             "ticks": ""
            }
           }
          ],
          "scatter": [
           {
            "marker": {
             "line": {
              "color": "#283442"
             }
            },
            "type": "scatter"
           }
          ],
          "parcoords": [
           {
            "type": "parcoords",
            "line": {
             "colorbar": {
              "outlinewidth": 0,
              "ticks": ""
             }
            }
           }
          ],
          "scatterpolargl": [
           {
            "type": "scatterpolargl",
            "marker": {
             "colorbar": {
              "outlinewidth": 0,
              "ticks": ""
             }
            }
           }
          ],
          "bar": [
           {
            "error_x": {
             "color": "#f2f5fa"
            },
            "error_y": {
             "color": "#f2f5fa"
            },
            "marker": {
             "line": {
              "color": "rgb(17,17,17)",
              "width": 0.5
             },
             "pattern": {
              "fillmode": "overlay",
              "size": 10,
              "solidity": 0.2
             }
            },
            "type": "bar"
           }
          ],
          "scattergeo": [
           {
            "type": "scattergeo",
            "marker": {
             "colorbar": {
              "outlinewidth": 0,
              "ticks": ""
             }
            }
           }
          ],
          "scatterpolar": [
           {
            "type": "scatterpolar",
            "marker": {
             "colorbar": {
              "outlinewidth": 0,
              "ticks": ""
             }
            }
           }
          ],
          "histogram": [
           {
            "marker": {
             "pattern": {
              "fillmode": "overlay",
              "size": 10,
              "solidity": 0.2
             }
            },
            "type": "histogram"
           }
          ],
          "scattergl": [
           {
            "marker": {
             "line": {
              "color": "#283442"
             }
            },
            "type": "scattergl"
           }
          ],
          "scatter3d": [
           {
            "type": "scatter3d",
            "line": {
             "colorbar": {
              "outlinewidth": 0,
              "ticks": ""
             }
            },
            "marker": {
             "colorbar": {
              "outlinewidth": 0,
              "ticks": ""
             }
            }
           }
          ],
          "scattermapbox": [
           {
            "type": "scattermapbox",
            "marker": {
             "colorbar": {
              "outlinewidth": 0,
              "ticks": ""
             }
            }
           }
          ],
          "scatterternary": [
           {
            "type": "scatterternary",
            "marker": {
             "colorbar": {
              "outlinewidth": 0,
              "ticks": ""
             }
            }
           }
          ],
          "scattercarpet": [
           {
            "type": "scattercarpet",
            "marker": {
             "colorbar": {
              "outlinewidth": 0,
              "ticks": ""
             }
            }
           }
          ],
          "carpet": [
           {
            "aaxis": {
             "endlinecolor": "#A2B1C6",
             "gridcolor": "#506784",
             "linecolor": "#506784",
             "minorgridcolor": "#506784",
             "startlinecolor": "#A2B1C6"
            },
            "baxis": {
             "endlinecolor": "#A2B1C6",
             "gridcolor": "#506784",
             "linecolor": "#506784",
             "minorgridcolor": "#506784",
             "startlinecolor": "#A2B1C6"
            },
            "type": "carpet"
           }
          ],
          "table": [
           {
            "cells": {
             "fill": {
              "color": "#506784"
             },
             "line": {
              "color": "rgb(17,17,17)"
             }
            },
            "header": {
             "fill": {
              "color": "#2a3f5f"
             },
             "line": {
              "color": "rgb(17,17,17)"
             }
            },
            "type": "table"
           }
          ],
          "barpolar": [
           {
            "marker": {
             "line": {
              "color": "rgb(17,17,17)",
              "width": 0.5
             },
             "pattern": {
              "fillmode": "overlay",
              "size": 10,
              "solidity": 0.2
             }
            },
            "type": "barpolar"
           }
          ],
          "pie": [
           {
            "automargin": true,
            "type": "pie"
           }
          ]
         },
         "layout": {
          "autotypenumbers": "strict",
          "colorway": [
           "#636efa",
           "#EF553B",
           "#00cc96",
           "#ab63fa",
           "#FFA15A",
           "#19d3f3",
           "#FF6692",
           "#B6E880",
           "#FF97FF",
           "#FECB52"
          ],
          "font": {
           "color": "#f2f5fa"
          },
          "hovermode": "closest",
          "hoverlabel": {
           "align": "left"
          },
          "paper_bgcolor": "rgb(17,17,17)",
          "plot_bgcolor": "rgb(17,17,17)",
          "polar": {
           "bgcolor": "rgb(17,17,17)",
           "angularaxis": {
            "gridcolor": "#506784",
            "linecolor": "#506784",
            "ticks": ""
           },
           "radialaxis": {
            "gridcolor": "#506784",
            "linecolor": "#506784",
            "ticks": ""
           }
          },
          "ternary": {
           "bgcolor": "rgb(17,17,17)",
           "aaxis": {
            "gridcolor": "#506784",
            "linecolor": "#506784",
            "ticks": ""
           },
           "baxis": {
            "gridcolor": "#506784",
            "linecolor": "#506784",
            "ticks": ""
           },
           "caxis": {
            "gridcolor": "#506784",
            "linecolor": "#506784",
            "ticks": ""
           }
          },
          "coloraxis": {
           "colorbar": {
            "outlinewidth": 0,
            "ticks": ""
           }
          },
          "colorscale": {
           "sequential": [
            [
             0.0,
             "#0d0887"
            ],
            [
             0.1111111111111111,
             "#46039f"
            ],
            [
             0.2222222222222222,
             "#7201a8"
            ],
            [
             0.3333333333333333,
             "#9c179e"
            ],
            [
             0.4444444444444444,
             "#bd3786"
            ],
            [
             0.5555555555555556,
             "#d8576b"
            ],
            [
             0.6666666666666666,
             "#ed7953"
            ],
            [
             0.7777777777777778,
             "#fb9f3a"
            ],
            [
             0.8888888888888888,
             "#fdca26"
            ],
            [
             1.0,
             "#f0f921"
            ]
           ],
           "sequentialminus": [
            [
             0.0,
             "#0d0887"
            ],
            [
             0.1111111111111111,
             "#46039f"
            ],
            [
             0.2222222222222222,
             "#7201a8"
            ],
            [
             0.3333333333333333,
             "#9c179e"
            ],
            [
             0.4444444444444444,
             "#bd3786"
            ],
            [
             0.5555555555555556,
             "#d8576b"
            ],
            [
             0.6666666666666666,
             "#ed7953"
            ],
            [
             0.7777777777777778,
             "#fb9f3a"
            ],
            [
             0.8888888888888888,
             "#fdca26"
            ],
            [
             1.0,
             "#f0f921"
            ]
           ],
           "diverging": [
            [
             0,
             "#8e0152"
            ],
            [
             0.1,
             "#c51b7d"
            ],
            [
             0.2,
             "#de77ae"
            ],
            [
             0.3,
             "#f1b6da"
            ],
            [
             0.4,
             "#fde0ef"
            ],
            [
             0.5,
             "#f7f7f7"
            ],
            [
             0.6,
             "#e6f5d0"
            ],
            [
             0.7,
             "#b8e186"
            ],
            [
             0.8,
             "#7fbc41"
            ],
            [
             0.9,
             "#4d9221"
            ],
            [
             1,
             "#276419"
            ]
           ]
          },
          "xaxis": {
           "gridcolor": "#283442",
           "linecolor": "#506784",
           "ticks": "",
           "title": {
            "standoff": 15
           },
           "zerolinecolor": "#283442",
           "automargin": true,
           "zerolinewidth": 2
          },
          "yaxis": {
           "gridcolor": "#283442",
           "linecolor": "#506784",
           "ticks": "",
           "title": {
            "standoff": 15
           },
           "zerolinecolor": "#283442",
           "automargin": true,
           "zerolinewidth": 2
          },
          "scene": {
           "xaxis": {
            "backgroundcolor": "rgb(17,17,17)",
            "gridcolor": "#506784",
            "linecolor": "#506784",
            "showbackground": true,
            "ticks": "",
            "zerolinecolor": "#C8D4E3",
            "gridwidth": 2
           },
           "yaxis": {
            "backgroundcolor": "rgb(17,17,17)",
            "gridcolor": "#506784",
            "linecolor": "#506784",
            "showbackground": true,
            "ticks": "",
            "zerolinecolor": "#C8D4E3",
            "gridwidth": 2
           },
           "zaxis": {
            "backgroundcolor": "rgb(17,17,17)",
            "gridcolor": "#506784",
            "linecolor": "#506784",
            "showbackground": true,
            "ticks": "",
            "zerolinecolor": "#C8D4E3",
            "gridwidth": 2
           }
          },
          "shapedefaults": {
           "line": {
            "color": "#f2f5fa"
           }
          },
          "annotationdefaults": {
           "arrowcolor": "#f2f5fa",
           "arrowhead": 0,
           "arrowwidth": 1
          },
          "geo": {
           "bgcolor": "rgb(17,17,17)",
           "landcolor": "rgb(17,17,17)",
           "subunitcolor": "#506784",
           "showland": true,
           "showlakes": true,
           "lakecolor": "rgb(17,17,17)"
          },
          "title": {
           "x": 0.05
          },
          "updatemenudefaults": {
           "bgcolor": "#506784",
           "borderwidth": 0
          },
          "sliderdefaults": {
           "bgcolor": "#C8D4E3",
           "borderwidth": 1,
           "bordercolor": "rgb(17,17,17)",
           "tickwidth": 0
          },
          "mapbox": {
           "style": "dark"
          }
         }
        },
        "xaxis": {
         "anchor": "y",
         "domain": [
          0.0,
          0.485
         ],
         "matches": "x3",
         "showticklabels": false
        },
        "yaxis": {
         "anchor": "x",
         "domain": [
          0.5125,
          1.0
         ],
         "matches": "y3",
         "title": {
          "text": "F1"
         }
        },
        "xaxis2": {
         "anchor": "y2",
         "domain": [
          0.495,
          0.98
         ],
         "matches": "x3",
         "showticklabels": false
        },
        "yaxis2": {
         "anchor": "x2",
         "domain": [
          0.5125,
          1.0
         ],
         "matches": "y3",
         "showticklabels": false
        },
        "xaxis3": {
         "anchor": "y3",
         "domain": [
          0.0,
          0.485
         ],
         "title": {
          "text": "Threshold (samples)"
         }
        },
        "yaxis3": {
         "anchor": "x3",
         "domain": [
          0.0,
          0.4875
         ],
         "title": {
          "text": "F1"
         }
        },
        "xaxis4": {
         "anchor": "y4",
         "domain": [
          0.495,
          0.98
         ],
         "matches": "x3",
         "title": {
          "text": "Threshold (samples)"
         }
        },
        "yaxis4": {
         "anchor": "x4",
         "domain": [
          0.0,
          0.4875
         ],
         "matches": "y3",
         "showticklabels": false
        },
        "annotations": [
         {
          "font": {
           "size": 16
          },
          "showarrow": false,
          "text": "RA",
          "x": 0.2425,
          "xanchor": "center",
          "xref": "paper",
          "y": 1.0,
          "yanchor": "bottom",
          "yref": "paper"
         },
         {
          "font": {
           "size": 16
          },
          "showarrow": false,
          "text": "MN",
          "x": 0.7375,
          "xanchor": "center",
          "xref": "paper",
          "y": 1.0,
          "yanchor": "bottom",
          "yref": "paper"
         },
         {
          "font": {
           "size": 16
          },
          "showarrow": false,
          "text": "Onset",
          "textangle": 90,
          "x": 0.98,
          "xanchor": "left",
          "xref": "paper",
          "y": 0.75625,
          "yanchor": "middle",
          "yref": "paper"
         },
         {
          "font": {
           "size": 16
          },
          "showarrow": false,
          "text": "Offset",
          "textangle": 90,
          "x": 0.98,
          "xanchor": "left",
          "xref": "paper",
          "y": 0.24375,
          "yanchor": "middle",
          "yref": "paper"
         }
        ],
        "legend": {
         "orientation": "h",
         "yanchor": "bottom",
         "y": -0.3,
         "xanchor": "left",
         "x": 0.25
        },
        "title": {
         "text": "f1 (fixations)"
        },
        "width": 1400,
        "height": 500,
        "paper_bgcolor": "rgba(0, 0, 0, 0)",
        "plot_bgcolor": "rgba(0, 0, 0, 0)"
       },
       "config": {
        "plotlyServerURL": "https://plot.ly"
       }
      },
      "text/html": [
       "<div>                            <div id=\"f215e2b6-a0d9-43a7-b78d-5824b1c00644\" class=\"plotly-graph-div\" style=\"height:500px; width:1400px;\"></div>            <script type=\"text/javascript\">                require([\"plotly\"], function(Plotly) {                    window.PLOTLYENV=window.PLOTLYENV || {};                                    if (document.getElementById(\"f215e2b6-a0d9-43a7-b78d-5824b1c00644\")) {                    Plotly.newPlot(                        \"f215e2b6-a0d9-43a7-b78d-5824b1c00644\",                        [{\"error_y\":{\"array\":[0.1402711861540341,0.0815469782323143,0.06872061231514642,0.03018345873310744,0.029241491473812428,0.029241491473812428,0.029241491473812428,0.029241491473812428,0.029241491473812428,0.022793023450968803,0.022793023450968803,0.022793023450968803,0.022793023450968803,0.022793023450968803,0.021812675535401813,0.021812675535401813,0.021812675535401813,0.021812675535401813,0.021812675535401813,0.021812675535401813,0.021812675535401813],\"type\":\"data\"},\"legendgroup\":\"Other GT\",\"line\":{\"color\":\"#bab0ac\",\"dash\":\"dot\"},\"marker\":{\"color\":\"#bab0ac\",\"size\":5},\"mode\":\"lines+markers\",\"name\":\"Other GT\",\"showlegend\":true,\"x\":[0,1,2,3,4,5,6,7,8,9,10,11,12,13,14,15,16,17,18,19,20],\"y\":[0.6308796613190317,0.8964535746159025,0.9403802393463556,0.9656216179490787,0.97267235491053,0.97267235491053,0.97267235491053,0.97267235491053,0.97267235491053,0.9760737154547476,0.9760737154547476,0.9760737154547476,0.9760737154547476,0.9760737154547476,0.9783412891508928,0.9783412891508928,0.9783412891508928,0.9783412891508928,0.9783412891508928,0.9783412891508928,0.9783412891508928],\"type\":\"scatter\",\"xaxis\":\"x\",\"yaxis\":\"y\"},{\"error_y\":{\"array\":[0.07074919162465623,0.15019074073417174,0.14580302042979612,0.12522318698281748,0.12551188006886269,0.12431355592455358,0.12431355592455358,0.11996367963545147,0.11996367963545147,0.11630600898288442,0.11658796180995087,0.11658796180995087,0.11658796180995087,0.11658796180995087,0.11658796180995087,0.11658796180995087,0.11658796180995087,0.11658796180995087,0.11658796180995087,0.11658796180995087,0.11658796180995087],\"type\":\"data\"},\"legendgroup\":\"ivt\",\"line\":{\"color\":\"#E15F99\"},\"marker\":{\"color\":\"#E15F99\",\"size\":5},\"mode\":\"lines+markers\",\"name\":\"ivt\",\"showlegend\":true,\"x\":[0,1,2,3,4,5,6,7,8,9,10,11,12,13,14,15,16,17,18,19,20],\"y\":[0.07768339994650544,0.530020518140914,0.760486173380124,0.7936552567122508,0.8122765078073211,0.8166745011183579,0.8166745011183579,0.8195438539877108,0.8195438539877108,0.8208259052697621,0.8224132068570637,0.8224132068570637,0.8224132068570637,0.8224132068570637,0.8224132068570637,0.8224132068570637,0.8224132068570637,0.8224132068570637,0.8224132068570637,0.8224132068570637,0.8224132068570637],\"type\":\"scatter\",\"xaxis\":\"x\",\"yaxis\":\"y\"},{\"error_y\":{\"array\":[0.06019702913383688,0.15191763512768192,0.16808899331743513,0.15851431606573263,0.15890081747046964,0.160771433317635,0.15671163118285,0.15401500721305356,0.15423478329754314,0.15423478329754314,0.15426386590271673,0.15426386590271673,0.15426386590271673,0.15426386590271673,0.15426386590271673,0.15426386590271673,0.15426386590271673,0.15426386590271673,0.15426386590271673,0.15426386590271673,0.15426386590271673],\"type\":\"data\"},\"legendgroup\":\"ivvt\",\"line\":{\"color\":\"#1CA71C\"},\"marker\":{\"color\":\"#1CA71C\",\"size\":5},\"mode\":\"lines+markers\",\"name\":\"ivvt\",\"showlegend\":true,\"x\":[0,1,2,3,4,5,6,7,8,9,10,11,12,13,14,15,16,17,18,19,20],\"y\":[0.07023343376692753,0.4956491321914694,0.7084849664400746,0.7381920342458762,0.7460360320990425,0.7518034972226706,0.753765219710709,0.7563103886030892,0.7575924398851405,0.7575924398851405,0.7590849771985733,0.7590849771985733,0.7590849771985733,0.7590849771985733,0.7590849771985733,0.7590849771985733,0.7590849771985733,0.7590849771985733,0.7590849771985733,0.7590849771985733,0.7590849771985733],\"type\":\"scatter\",\"xaxis\":\"x\",\"yaxis\":\"y\"},{\"error_y\":{\"array\":[null,0.019952446417260582,0.09276494373541934,0.11845164128260117,0.13800961798221753,0.14145160821165037,0.15438895158580143,0.15913892794427947,0.16094927957567226,0.161455720204375,0.161455720204375,0.15873854304727975,0.15873854304727975,0.16067045173443298,0.16007371464170664,0.16007371464170664,0.15748661213239146,0.15748661213239146,0.15748661213239146,0.15930578328376716,0.16305388913585223],\"type\":\"data\"},\"legendgroup\":\"idt\",\"line\":{\"color\":\"#FB0D0D\"},\"marker\":{\"color\":\"#FB0D0D\",\"size\":5},\"mode\":\"lines+markers\",\"name\":\"idt\",\"showlegend\":true,\"x\":[0,1,2,3,4,5,6,7,8,9,10,11,12,13,14,15,16,17,18,19,20],\"y\":[0.043478260869565216,0.052945230096181205,0.19689478784548176,0.35633243195897796,0.45225091885434143,0.5455942904472155,0.5784222059983516,0.589380000151273,0.5933944521785712,0.5957200335739201,0.5957200335739201,0.6002195280127471,0.6002195280127471,0.60704804228807,0.6093207695607973,0.6093207695607973,0.6136685956477539,0.6136685956477539,0.6136685956477539,0.6154543099334682,0.6199270029654832],\"type\":\"scatter\",\"xaxis\":\"x\",\"yaxis\":\"y\"},{\"error_y\":{\"array\":[null,0.022995131929191236,0.10377984809305496,0.11557565621871477,0.1358931506340076,0.1471723636726176,0.16008042949790485,0.16519919473129568,0.1663830804180724,0.1669922425649859,0.1669922425649859,0.1669922425649859,0.1669922425649859,0.1669922425649859,0.16626377441989806,0.16626377441989806,0.16626377441989806,0.16626377441989806,0.16626377441989806,0.16626377441989806,0.16626377441989806],\"type\":\"data\"},\"legendgroup\":\"idvt\",\"line\":{\"color\":\"#DA16FF\"},\"marker\":{\"color\":\"#DA16FF\",\"size\":5},\"mode\":\"lines+markers\",\"name\":\"idvt\",\"showlegend\":true,\"x\":[0,1,2,3,4,5,6,7,8,9,10,11,12,13,14,15,16,17,18,19,20],\"y\":[0.03389830508474576,0.06001745276590154,0.21708115296922623,0.3773917404426727,0.4751594010207391,0.570627199040727,0.6029742542031713,0.6114964512846904,0.6155109033119887,0.617783630584716,0.617783630584716,0.617783630584716,0.617783630584716,0.617783630584716,0.6200563578574434,0.6200563578574434,0.6200563578574434,0.6200563578574434,0.6200563578574434,0.6200563578574434,0.6200563578574434],\"type\":\"scatter\",\"xaxis\":\"x\",\"yaxis\":\"y\"},{\"error_y\":{\"array\":[0.09389201158953454,0.13202555945711722,0.1384596371696383,0.13455341586698616,0.13650708550777835,0.13237010810383987,0.1313271174661027,0.12875474092055286,0.1253357602870718,0.1253357602870718,0.1253357602870718,0.12578670177898546,0.12578670177898546,0.12578670177898546,0.12578670177898546,0.12578670177898546,0.12578670177898546,0.12578670177898546,0.12578670177898546,0.12578670177898546,0.12578670177898546],\"type\":\"data\"},\"legendgroup\":\"engbert\",\"line\":{\"color\":\"#222A2A\"},\"marker\":{\"color\":\"#222A2A\",\"size\":5},\"mode\":\"lines+markers\",\"name\":\"engbert\",\"showlegend\":true,\"x\":[0,1,2,3,4,5,6,7,8,9,10,11,12,13,14,15,16,17,18,19,20],\"y\":[0.24823736999806806,0.7219315473383954,0.8083491914505861,0.8167065535487641,0.8250081408503516,0.8275759239444502,0.830194971563498,0.8317101230786494,0.8330614744300007,0.8330614744300007,0.8330614744300007,0.8344900458585721,0.8344900458585721,0.8344900458585721,0.8344900458585721,0.8344900458585721,0.8344900458585721,0.8344900458585721,0.8344900458585721,0.8344900458585721,0.8344900458585721],\"type\":\"scatter\",\"xaxis\":\"x\",\"yaxis\":\"y\"},{\"error_y\":{\"array\":[0.004743368126660053,0.05042672957789621,0.2230796090289248,0.28069309538325576,0.24655705206567555,0.266117219990657,0.27207489398642265,0.2918459460224665,0.3122974957371557,0.3161913598786911,0.32587778845611814,0.3257982034023939,0.32793864534831096,0.32969503930621535,0.33173199420674404,0.33173199420674404,0.33278927137714753,0.32526059337911206,0.32526059337911206,0.32526059337911206,0.32526059337911206],\"type\":\"data\"},\"legendgroup\":\"nh\",\"line\":{\"color\":\"#B68100\"},\"marker\":{\"color\":\"#B68100\",\"size\":5},\"mode\":\"lines+markers\",\"name\":\"nh\",\"showlegend\":true,\"x\":[0,1,2,3,4,5,6,7,8,9,10,11,12,13,14,15,16,17,18,19,20],\"y\":[0.033593459680416195,0.06407133172877112,0.2890613968638375,0.25487197377205295,0.41009345220027016,0.4892825434947114,0.576302892517481,0.649774457309716,0.7046256350787127,0.7434367976998135,0.7611135694700382,0.7688193891029693,0.7739947135141478,0.7770716365910709,0.7803238840791724,0.7803238840791724,0.7841714608457282,0.7876197367077971,0.7876197367077971,0.7876197367077971,0.7876197367077971],\"type\":\"scatter\",\"xaxis\":\"x\",\"yaxis\":\"y\"},{\"error_y\":{\"array\":[0.05960237704380277,0.1423336854435357,0.11746661587973205,0.12892186318188573,0.1382863373604747,0.14488978245576284,0.13806997703734464,0.13806997703734464,0.13373426137911937,0.13373426137911937,0.13373426137911937,0.13373426137911937,0.13373426137911937,0.13373426137911937,0.13180510036109003,0.13180510036109003,0.13180510036109003,0.13180510036109003,0.13180510036109003,0.13180510036109003,0.13180510036109003],\"type\":\"data\"},\"legendgroup\":\"remodnav\",\"line\":{\"color\":\"#750D86\"},\"marker\":{\"color\":\"#750D86\",\"size\":5},\"mode\":\"lines+markers\",\"name\":\"remodnav\",\"showlegend\":true,\"x\":[0,1,2,3,4,5,6,7,8,9,10,11,12,13,14,15,16,17,18,19,20],\"y\":[0.1123652291676641,0.25677839217851517,0.3520831998548429,0.4732603627426948,0.524660996171877,0.537523443494315,0.5485003838692833,0.5485003838692833,0.5544741972899053,0.5544741972899053,0.5544741972899053,0.5544741972899053,0.5544741972899053,0.5544741972899053,0.5587605629989796,0.5587605629989796,0.5587605629989796,0.5587605629989796,0.5587605629989796,0.5587605629989796,0.5587605629989796],\"type\":\"scatter\",\"xaxis\":\"x\",\"yaxis\":\"y\"},{\"error_y\":{\"array\":[0.1402711861540341,0.0815469782323143,0.06872061231514642,0.03018345873310744,0.029241491473812428,0.029241491473812428,0.029241491473812428,0.029241491473812428,0.029241491473812428,0.022793023450968803,0.022793023450968803,0.022793023450968803,0.022793023450968803,0.022793023450968803,0.021812675535401813,0.021812675535401813,0.021812675535401813,0.021812675535401813,0.021812675535401813,0.021812675535401813,0.021812675535401813],\"type\":\"data\"},\"legendgroup\":\"Other GT\",\"line\":{\"color\":\"#bab0ac\",\"dash\":\"dot\"},\"marker\":{\"color\":\"#bab0ac\",\"size\":5},\"mode\":\"lines+markers\",\"name\":\"Other GT\",\"showlegend\":false,\"x\":[0,1,2,3,4,5,6,7,8,9,10,11,12,13,14,15,16,17,18,19,20],\"y\":[0.6308796613190317,0.8964535746159025,0.9403802393463556,0.9656216179490787,0.97267235491053,0.97267235491053,0.97267235491053,0.97267235491053,0.97267235491053,0.9760737154547476,0.9760737154547476,0.9760737154547476,0.9760737154547476,0.9760737154547476,0.9783412891508928,0.9783412891508928,0.9783412891508928,0.9783412891508928,0.9783412891508928,0.9783412891508928,0.9783412891508928],\"type\":\"scatter\",\"xaxis\":\"x2\",\"yaxis\":\"y2\"},{\"error_y\":{\"array\":[0.0763501504026448,0.16235434810293153,0.14164600057007903,0.12895063624207334,0.12277949442973678,0.12851422740683763,0.12851422740683763,0.12402405526738619,0.11973851359627224,0.11973851359627224,0.11973851359627224,0.11973851359627224,0.11973851359627224,0.11973851359627224,0.11973851359627224,0.11973851359627224,0.11973851359627224,0.11973851359627224,0.11973851359627224,0.11973851359627224,0.11973851359627224],\"type\":\"data\"},\"legendgroup\":\"ivt\",\"line\":{\"color\":\"#E15F99\"},\"marker\":{\"color\":\"#E15F99\",\"size\":5},\"mode\":\"lines+markers\",\"name\":\"ivt\",\"showlegend\":false,\"x\":[0,1,2,3,4,5,6,7,8,9,10,11,12,13,14,15,16,17,18,19,20],\"y\":[0.11640842356568164,0.4922274168620876,0.7210450354246974,0.7750398952602489,0.7977861095430198,0.8064316367194077,0.8064316367194077,0.8082173510051219,0.8100030652908362,0.8100030652908362,0.8100030652908362,0.8100030652908362,0.8100030652908362,0.8100030652908362,0.8100030652908362,0.8100030652908362,0.8100030652908362,0.8100030652908362,0.8100030652908362,0.8100030652908362,0.8100030652908362],\"type\":\"scatter\",\"xaxis\":\"x2\",\"yaxis\":\"y2\"},{\"error_y\":{\"array\":[0.06942922387592315,0.15340347621534087,0.1660145443763091,0.16015558187203688,0.15594340037414958,0.16341075673503033,0.16195868548582437,0.15896653516074097,0.15896653516074097,0.15896653516074097,0.15896653516074097,0.15896653516074097,0.15896653516074097,0.15896653516074097,0.15896653516074097,0.15896653516074097,0.15896653516074097,0.15896653516074097,0.15896653516074097,0.15896653516074097,0.15896653516074097],\"type\":\"data\"},\"legendgroup\":\"ivvt\",\"line\":{\"color\":\"#1CA71C\"},\"marker\":{\"color\":\"#1CA71C\",\"size\":5},\"mode\":\"lines+markers\",\"name\":\"ivvt\",\"showlegend\":false,\"x\":[0,1,2,3,4,5,6,7,8,9,10,11,12,13,14,15,16,17,18,19,20],\"y\":[0.08482486681377834,0.46006840651282116,0.67506332261312,0.7191201275492228,0.7316324846971103,0.7421764351450327,0.7452834547077485,0.7467562087578221,0.7467562087578221,0.7467562087578221,0.7467562087578221,0.7467562087578221,0.7467562087578221,0.7467562087578221,0.7467562087578221,0.7467562087578221,0.7467562087578221,0.7467562087578221,0.7467562087578221,0.7467562087578221,0.7467562087578221],\"type\":\"scatter\",\"xaxis\":\"x2\",\"yaxis\":\"y2\"},{\"error_y\":{\"array\":[null,0.032957886142932644,0.11508735156212026,0.08822795765670241,0.1161811145781446,0.13444394613055166,0.1522191163705378,0.16691552470201745,0.1715154248765716,0.1715154248765716,0.17245673485414537,0.17245673485414537,0.17465001007204836,0.1695193273290608,0.16904676133437943,0.16904676133437943,0.16440932219393017,0.16440932219393017,0.16440932219393017,0.16440932219393017,0.16691351207486846],\"type\":\"data\"},\"legendgroup\":\"idt\",\"line\":{\"color\":\"#FB0D0D\"},\"marker\":{\"color\":\"#FB0D0D\",\"size\":5},\"mode\":\"lines+markers\",\"name\":\"idt\",\"showlegend\":false,\"x\":[0,1,2,3,4,5,6,7,8,9,10,11,12,13,14,15,16,17,18,19,20],\"y\":[null,0.07679945152054046,0.18282594347202658,0.3188142352743941,0.4526770177334583,0.5201700472613316,0.5545753189242805,0.575195965796004,0.5809969736478732,0.5809969736478732,0.5843192327840858,0.5843192327840858,0.5873587464618975,0.590398260139709,0.596392266133715,0.596392266133715,0.5994317798115266,0.5994317798115266,0.5994317798115266,0.5994317798115266,0.601938045475687],\"type\":\"scatter\",\"xaxis\":\"x2\",\"yaxis\":\"y2\"},{\"error_y\":{\"array\":[0.0018061475892376681,0.03897537291135374,0.1105200899507707,0.07894669515727404,0.11747075558013297,0.1368365610650767,0.15462951458074825,0.16898622159963186,0.17259575060072807,0.17259575060072807,0.17259575060072807,0.17259575060072807,0.17259575060072807,0.17259575060072807,0.17192762753612445,0.17192762753612445,0.17192762753612445,0.17192762753612445,0.17192762753612445,0.17192762753612445,0.17192762753612445],\"type\":\"data\"},\"legendgroup\":\"idvt\",\"line\":{\"color\":\"#DA16FF\"},\"marker\":{\"color\":\"#DA16FF\",\"size\":5},\"mode\":\"lines+markers\",\"name\":\"idvt\",\"showlegend\":false,\"x\":[0,1,2,3,4,5,6,7,8,9,10,11,12,13,14,15,16,17,18,19,20],\"y\":[0.035759897828863345,0.07585210424558744,0.19920895081566245,0.33599908581047205,0.46973251118246123,0.5393644616782074,0.5733848870133198,0.5937236630284851,0.5994747557360995,0.5994747557360995,0.5994747557360995,0.5994747557360995,0.5994747557360995,0.5994747557360995,0.6027215089828529,0.6027215089828529,0.6027215089828529,0.6027215089828529,0.6027215089828529,0.6027215089828529,0.6027215089828529],\"type\":\"scatter\",\"xaxis\":\"x2\",\"yaxis\":\"y2\"},{\"error_y\":{\"array\":[0.11821554141575748,0.16669256686854342,0.1558184175532287,0.14870399164376844,0.1426424322637084,0.14108574055914805,0.14082160944829888,0.13780093533405202,0.13780093533405202,0.13780093533405202,0.13780093533405202,0.13780093533405202,0.13780093533405202,0.13780093533405202,0.13780093533405202,0.13780093533405202,0.13780093533405202,0.13780093533405202,0.13780093533405202,0.13780093533405202,0.13780093533405202],\"type\":\"data\"},\"legendgroup\":\"engbert\",\"line\":{\"color\":\"#222A2A\"},\"marker\":{\"color\":\"#222A2A\",\"size\":5},\"mode\":\"lines+markers\",\"name\":\"engbert\",\"showlegend\":false,\"x\":[0,1,2,3,4,5,6,7,8,9,10,11,12,13,14,15,16,17,18,19,20],\"y\":[0.23863924813005657,0.6824024328513039,0.7566481736111825,0.7816278734556106,0.793309267791777,0.7947973630298721,0.7985101157365887,0.8026543843332431,0.8026543843332431,0.8026543843332431,0.8026543843332431,0.8026543843332431,0.8026543843332431,0.8026543843332431,0.8026543843332431,0.8026543843332431,0.8026543843332431,0.8026543843332431,0.8026543843332431,0.8026543843332431,0.8026543843332431],\"type\":\"scatter\",\"xaxis\":\"x2\",\"yaxis\":\"y2\"},{\"error_y\":{\"array\":[0.005439282932204207,0.04809240279584136,0.17799407901877642,0.25000193387331615,0.20224939610762524,0.24674115025932764,0.27918883989639376,0.29403830526998836,0.31689279176349433,0.318043254977343,0.32540485108613965,0.31974034824828423,0.31980336728495373,0.323203329742098,0.32662299846956394,0.32662299846956394,0.3286371213561694,0.31814765035781734,0.31822404781463937,0.31822404781463937,0.31822404781463937],\"type\":\"data\"},\"legendgroup\":\"nh\",\"line\":{\"color\":\"#B68100\"},\"marker\":{\"color\":\"#B68100\",\"size\":5},\"mode\":\"lines+markers\",\"name\":\"nh\",\"showlegend\":false,\"x\":[0,1,2,3,4,5,6,7,8,9,10,11,12,13,14,15,16,17,18,19,20],\"y\":[0.03461538461538462,0.06229260935143288,0.12814942323703274,0.19164944168303855,0.3895965306950737,0.45987279141036025,0.5376165015915175,0.6090189895536201,0.6862181666008215,0.7175476021002268,0.7303638469833409,0.7418150941488738,0.7445623468961264,0.7517052040389837,0.7563537301160813,0.7563537301160813,0.7591009828633339,0.7638628876252387,0.7665583054149963,0.7665583054149963,0.7665583054149963],\"type\":\"scatter\",\"xaxis\":\"x2\",\"yaxis\":\"y2\"},{\"error_y\":{\"array\":[0.09638332175348553,0.1250792968687905,0.11501214853160681,0.11805219035757918,0.1524319487063568,0.15726780218680086,0.15055619934709047,0.15055619934709047,0.14528335341797646,0.14528335341797646,0.14528335341797646,0.14528335341797646,0.14528335341797646,0.14267573184903137,0.14267573184903137,0.14267573184903137,0.14267573184903137,0.14267573184903137,0.14267573184903137,0.14267573184903137,0.14267573184903137],\"type\":\"data\"},\"legendgroup\":\"remodnav\",\"line\":{\"color\":\"#750D86\"},\"marker\":{\"color\":\"#750D86\",\"size\":5},\"mode\":\"lines+markers\",\"name\":\"remodnav\",\"showlegend\":false,\"x\":[0,1,2,3,4,5,6,7,8,9,10,11,12,13,14,15,16,17,18,19,20],\"y\":[0.13785177519247582,0.21695699606353863,0.350265871565575,0.4533342978646323,0.5027565974422112,0.5217806319089817,0.5293046394329892,0.5293046394329892,0.537571835200185,0.537571835200185,0.537571835200185,0.537571835200185,0.537571835200185,0.5408185884469383,0.5408185884469383,0.5408185884469383,0.5408185884469383,0.5408185884469383,0.5408185884469383,0.5408185884469383,0.5408185884469383],\"type\":\"scatter\",\"xaxis\":\"x2\",\"yaxis\":\"y2\"},{\"error_y\":{\"array\":[0.12710270747195176,0.0985080804123959,0.10245733652144814,0.08902433978478015,0.08802669255778445,0.08185940317316905,0.07413498678730591,0.07150123334877288,0.05375446865918053,0.057361690411544757,0.0540432873526914,0.044566734120979,0.044566734120979,0.03708975292427544,0.030916898918629986,0.030916898918629986,0.030916898918629986,0.030916898918629986,0.030916898918629986,0.02585611605102801,0.022550346538361816],\"type\":\"data\"},\"legendgroup\":\"Other GT\",\"line\":{\"color\":\"#bab0ac\",\"dash\":\"dot\"},\"marker\":{\"color\":\"#bab0ac\",\"size\":5},\"mode\":\"lines+markers\",\"name\":\"Other GT\",\"showlegend\":false,\"x\":[0,1,2,3,4,5,6,7,8,9,10,11,12,13,14,15,16,17,18,19,20],\"y\":[0.4175655661911009,0.7626790393773856,0.821208638463688,0.8624309165489017,0.8954417690830582,0.9034171928591261,0.9265577425146055,0.9358540543229109,0.9463209276394017,0.9537351433256761,0.9591895986239357,0.9625909591681534,0.9625909591681534,0.9659923197123711,0.971944700664752,0.971944700664752,0.971944700664752,0.971944700664752,0.971944700664752,0.974076896826799,0.9762090929888458],\"type\":\"scatter\",\"xaxis\":\"x3\",\"yaxis\":\"y3\"},{\"error_y\":{\"array\":[0.05964842902826839,0.11344480182822589,0.1750082903341002,0.21008836855303603,0.2237815167295515,0.21194504717948662,0.18627787335039403,0.17594114735288469,0.17619600005643943,0.17568438872307812,0.1744358796368142,0.16702732936815268,0.15979600079115497,0.14742857040122917,0.13414870260760137,0.12564839101371716,0.12160386909597458,0.12160386909597458,0.12160386909597458,0.12280817022711452,0.12194039129752826],\"type\":\"data\"},\"legendgroup\":\"ivt\",\"line\":{\"color\":\"#E15F99\"},\"marker\":{\"color\":\"#E15F99\",\"size\":5},\"mode\":\"lines+markers\",\"name\":\"ivt\",\"showlegend\":false,\"x\":[0,1,2,3,4,5,6,7,8,9,10,11,12,13,14,15,16,17,18,19,20],\"y\":[0.06851767108590627,0.20864961363184023,0.3909266840005433,0.48895767460871936,0.5577327960843759,0.609631752116371,0.6675326225636558,0.7000853258244855,0.7205318450674191,0.729186664543134,0.7455249499781771,0.7589016226558243,0.7791287949088586,0.796767961298025,0.8072938434618381,0.8122938434618382,0.8160438434618381,0.8160438434618381,0.8160438434618381,0.8175823050002997,0.8188323050002998],\"type\":\"scatter\",\"xaxis\":\"x3\",\"yaxis\":\"y3\"},{\"error_y\":{\"array\":[0.05398085744674889,0.1118699753145508,0.17350155905618042,0.2078994299495868,0.22205897315457512,0.21525471540189256,0.1986669382116847,0.18517907025613506,0.18717399164587256,0.1852317068583122,0.1862867709178701,0.18244837472474226,0.17631164432253735,0.16786874930060536,0.16128052802811388,0.1589611138487376,0.1579947890919192,0.1579947890919192,0.1579947890919192,0.1588242178106627,0.1588242178106627],\"type\":\"data\"},\"legendgroup\":\"ivvt\",\"line\":{\"color\":\"#1CA71C\"},\"marker\":{\"color\":\"#1CA71C\",\"size\":5},\"mode\":\"lines+markers\",\"name\":\"ivvt\",\"showlegend\":false,\"x\":[0,1,2,3,4,5,6,7,8,9,10,11,12,13,14,15,16,17,18,19,20],\"y\":[0.06662421297839845,0.2548559233505049,0.42273449365448,0.511713584878667,0.5648244067848587,0.6122537858810823,0.6674757252159764,0.6942272911360445,0.7104100628992828,0.7142372830737143,0.7233959864762286,0.7289857628675501,0.7402724042185508,0.7460071200176257,0.7516439118057334,0.7537272451390667,0.7547689118057334,0.7547689118057334,0.7547689118057334,0.7561974832343048,0.7561974832343048],\"type\":\"scatter\",\"xaxis\":\"x3\",\"yaxis\":\"y3\"},{\"error_y\":{\"array\":[0.017121852189185816,0.048631053438353576,0.08874538132669073,0.1579544107035738,0.1737918193684123,0.1661634291602556,0.16227071182507352,0.14139286636225765,0.13330874313759922,0.129635282287258,0.1317784939463804,0.14575538501409882,0.15604156703010091,0.16186578545628913,0.1625393548533712,0.15907603396037873,0.15754633530468884,0.15754633530468884,0.15891508955726938,0.16066958215686192,0.16066958215686192],\"type\":\"data\"},\"legendgroup\":\"idt\",\"line\":{\"color\":\"#FB0D0D\"},\"marker\":{\"color\":\"#FB0D0D\",\"size\":5},\"mode\":\"lines+markers\",\"name\":\"idt\",\"showlegend\":false,\"x\":[0,1,2,3,4,5,6,7,8,9,10,11,12,13,14,15,16,17,18,19,20],\"y\":[0.05146397081179689,0.06883667425671848,0.1246042235283208,0.1861172933793018,0.17528879036060507,0.2132673558741248,0.2616030477887016,0.3483155218259532,0.4302324385878858,0.47916182805631413,0.5226532252928782,0.5717321030360367,0.594914868929762,0.6097284203807594,0.6118560799552275,0.6140299929987058,0.6160299929987058,0.6160299929987058,0.61781570728442,0.6196014215701343,0.6196014215701343],\"type\":\"scatter\",\"xaxis\":\"x3\",\"yaxis\":\"y3\"},{\"error_y\":{\"array\":[0.016017354976174358,0.044721992620956316,0.07834038263798528,0.14843158260923334,0.16928508218019178,0.16003808130690525,0.15961134191925797,0.14543668044952626,0.13560313971500615,0.12542893764831894,0.13824473759148398,0.1524702738672367,0.16052294624792376,0.1677280307834382,0.1683690379715022,0.16495557796957694,0.16281526617923917,0.16281526617923917,0.1643613987236845,0.16626377441989806,0.16626377441989806],\"type\":\"data\"},\"legendgroup\":\"idvt\",\"line\":{\"color\":\"#DA16FF\"},\"marker\":{\"color\":\"#DA16FF\",\"size\":5},\"mode\":\"lines+markers\",\"name\":\"idvt\",\"showlegend\":false,\"x\":[0,1,2,3,4,5,6,7,8,9,10,11,12,13,14,15,16,17,18,19,20],\"y\":[0.0486893609535119,0.05899509822407863,0.10461025023641707,0.15927193574074822,0.1686161664628767,0.21157299426161452,0.25623215282127854,0.34824123055593487,0.424714772596148,0.48737477031557286,0.5184466297952561,0.570636203514659,0.5915631802447638,0.6104135160967404,0.6125411756712086,0.6146245090045419,0.6165475859276188,0.6165475859276188,0.618301971892531,0.6200563578574434,0.6200563578574434],\"type\":\"scatter\",\"xaxis\":\"x3\",\"yaxis\":\"y3\"},{\"error_y\":{\"array\":[0.10850776427438057,0.1528224119884033,0.17891344470971685,0.21716863960441923,0.2311833178721263,0.22157334487351463,0.20107022333719907,0.1943829961721254,0.19223616471810748,0.18847840643068206,0.17875327457338974,0.1677745659407177,0.1680039970847108,0.15833069321000556,0.14719064847700922,0.13656518234597365,0.12445351866099233,0.12355441479405699,0.12355441479405699,0.12629972397030806,0.12528422725419763],\"type\":\"data\"},\"legendgroup\":\"engbert\",\"line\":{\"color\":\"#222A2A\"},\"marker\":{\"color\":\"#222A2A\",\"size\":5},\"mode\":\"lines+markers\",\"name\":\"engbert\",\"showlegend\":false,\"x\":[0,1,2,3,4,5,6,7,8,9,10,11,12,13,14,15,16,17,18,19,20],\"y\":[0.09633394020635101,0.17506820136089285,0.25780925918297654,0.33012946479469124,0.39996084714461666,0.4651544291501386,0.5328936481297311,0.5875796955848679,0.62151351162123,0.6546989082080953,0.6842231296538208,0.717539849710146,0.7444268384847914,0.7644890937787665,0.7877116650661452,0.8027222568783662,0.8158742061826783,0.8240947430725167,0.8240947430725167,0.8287919771574075,0.8314110247764551],\"type\":\"scatter\",\"xaxis\":\"x3\",\"yaxis\":\"y3\"},{\"error_y\":{\"array\":[0.07448354901944733,0.138728197286713,0.18720232975504258,0.2113042496920327,0.2325463771809651,0.25060746541728973,0.2673382239171254,0.2807690539346126,0.2858025207936194,0.28794961648424666,0.29382649337260813,0.2983847831668404,0.299797936218115,0.3025838300255794,0.31114523898886187,0.3165908576552093,0.3122807972251529,0.315266007751912,0.315266007751912,0.31538500481593057,0.3169458794767985],\"type\":\"data\"},\"legendgroup\":\"nh\",\"line\":{\"color\":\"#B68100\"},\"marker\":{\"color\":\"#B68100\",\"size\":5},\"mode\":\"lines+markers\",\"name\":\"nh\",\"showlegend\":false,\"x\":[0,1,2,3,4,5,6,7,8,9,10,11,12,13,14,15,16,17,18,19,20],\"y\":[0.15039186915461894,0.33451097734079394,0.385935701881384,0.42413237199120524,0.4862703603143276,0.5368626925482765,0.5911241152078104,0.6352936085413663,0.6533585718364983,0.6756389865582756,0.6899034293742417,0.7019240447896562,0.7132709151324281,0.7205900076974224,0.7374647376634712,0.7473025659730077,0.7557340738729923,0.760625665623389,0.760625665623389,0.7628478878456112,0.7663471336977983],\"type\":\"scatter\",\"xaxis\":\"x3\",\"yaxis\":\"y3\"},{\"error_y\":{\"array\":[0.059366766791233545,0.08253983000050127,0.09225086713878734,0.13214082162906043,0.15556538425948901,0.15614374601914102,0.15632731055516547,0.1495746708904523,0.15942132971259834,0.15611398082752173,0.15825536431487988,0.1590718409120031,0.1608459591640584,0.14575196899518594,0.1408454594337102,0.1471692808689782,0.12456081352809623,0.12056557854501375,0.12236625410985962,0.12387847634560534,0.12751379460525986],\"type\":\"data\"},\"legendgroup\":\"remodnav\",\"line\":{\"color\":\"#750D86\"},\"marker\":{\"color\":\"#750D86\",\"size\":5},\"mode\":\"lines+markers\",\"name\":\"remodnav\",\"showlegend\":false,\"x\":[0,1,2,3,4,5,6,7,8,9,10,11,12,13,14,15,16,17,18,19,20],\"y\":[0.09112303713365716,0.12776910983655132,0.15380594524885802,0.19339405321931888,0.19764561575777484,0.2257988865666586,0.29679329521298414,0.33573821126710773,0.37533756097212245,0.3936593522046666,0.4002904891555709,0.41552496276473183,0.4263523859325805,0.45499525183929795,0.4777023951538758,0.493330593754559,0.514938578178165,0.52876792933299,0.5479835047196087,0.550157417763087,0.5545052438500434],\"type\":\"scatter\",\"xaxis\":\"x3\",\"yaxis\":\"y3\"},{\"error_y\":{\"array\":[0.12710270747195176,0.0985080804123959,0.10245733652144814,0.08902433978478015,0.08802669255778445,0.08185940317316905,0.07413498678730591,0.07150123334877288,0.05375446865918053,0.057361690411544757,0.0540432873526914,0.044566734120979,0.044566734120979,0.03708975292427544,0.030916898918629986,0.030916898918629986,0.030916898918629986,0.030916898918629986,0.030916898918629986,0.02585611605102801,0.022550346538361816],\"type\":\"data\"},\"legendgroup\":\"Other GT\",\"line\":{\"color\":\"#bab0ac\",\"dash\":\"dot\"},\"marker\":{\"color\":\"#bab0ac\",\"size\":5},\"mode\":\"lines+markers\",\"name\":\"Other GT\",\"showlegend\":false,\"x\":[0,1,2,3,4,5,6,7,8,9,10,11,12,13,14,15,16,17,18,19,20],\"y\":[0.4175655661911009,0.7626790393773856,0.821208638463688,0.8624309165489017,0.8954417690830582,0.9034171928591261,0.9265577425146055,0.9358540543229109,0.9463209276394017,0.9537351433256761,0.9591895986239357,0.9625909591681534,0.9625909591681534,0.9659923197123711,0.971944700664752,0.971944700664752,0.971944700664752,0.971944700664752,0.971944700664752,0.974076896826799,0.9762090929888458],\"type\":\"scatter\",\"xaxis\":\"x4\",\"yaxis\":\"y4\"},{\"error_y\":{\"array\":[0.1033473867328059,0.11276857446323511,0.1812847824754887,0.21726769432621118,0.23446531864832656,0.24566244201143975,0.2330595252847497,0.22008856303785287,0.2167591597016063,0.22414401513992865,0.20723340683955582,0.19813615163170328,0.19350214980133368,0.17923081100878907,0.16554536809367917,0.14907616268170268,0.1435624424895251,0.13722704403488964,0.13251212090812625,0.1287420544547401,0.1287420544547401],\"type\":\"data\"},\"legendgroup\":\"ivt\",\"line\":{\"color\":\"#E15F99\"},\"marker\":{\"color\":\"#E15F99\",\"size\":5},\"mode\":\"lines+markers\",\"name\":\"ivt\",\"showlegend\":false,\"x\":[0,1,2,3,4,5,6,7,8,9,10,11,12,13,14,15,16,17,18,19,20],\"y\":[0.10629210036269708,0.2315859415855997,0.35695430003815465,0.4301512044408614,0.4782511799611246,0.5367240238110851,0.6088882498317133,0.6404964239981277,0.6734850308302498,0.6936240191519758,0.7110617431195505,0.7206832783007872,0.7408557325241006,0.7539644521626708,0.7712773010053705,0.783799107557028,0.7889939127518331,0.7943510556089759,0.7983147536025246,0.8015615068492778,0.8015615068492778],\"type\":\"scatter\",\"xaxis\":\"x4\",\"yaxis\":\"y4\"},{\"error_y\":{\"array\":[0.09658354438530185,0.11737584712894564,0.1761145422107508,0.2103797936573588,0.224030577487597,0.23870071462280565,0.23558573661275353,0.21690518654440763,0.2130389557577874,0.21880022677283434,0.20711619136185272,0.20026872856201947,0.19830993473586644,0.1846356904418708,0.18207311626062478,0.1771586561376343,0.17275469466460802,0.17162245501077433,0.16742322428904946,0.16586053696381073,0.16586053696381073],\"type\":\"data\"},\"legendgroup\":\"ivvt\",\"line\":{\"color\":\"#1CA71C\"},\"marker\":{\"color\":\"#1CA71C\",\"size\":5},\"mode\":\"lines+markers\",\"name\":\"ivvt\",\"showlegend\":false,\"x\":[0,1,2,3,4,5,6,7,8,9,10,11,12,13,14,15,16,17,18,19,20],\"y\":[0.0998775718515781,0.24590651826518423,0.3823468724551358,0.4559136342716316,0.4949900432814375,0.5463179469390415,0.6104101382812385,0.6326091432591249,0.6644973556882389,0.6789762047620503,0.692186149788027,0.6999592707515013,0.7109623507875973,0.723220272155854,0.7279375706231527,0.7327220793633575,0.7354935347121324,0.7369816299502275,0.7400886495129433,0.7413873508116445,0.7413873508116445],\"type\":\"scatter\",\"xaxis\":\"x4\",\"yaxis\":\"y4\"},{\"error_y\":{\"array\":[0.036726298906555405,0.07236788515904492,0.09292360328544125,0.1329922116984515,0.15608012307707755,0.15131542128852182,0.1598300876020325,0.16450471906347858,0.12142649538149074,0.12314926945520245,0.14098474098819497,0.1515424678836822,0.15970810905914246,0.16258064607935155,0.1654270280293912,0.16708266889768922,0.16344641488413203,0.16344641488413203,0.16344641488413203,0.16541644531100808,0.16541644531100808],\"type\":\"data\"},\"legendgroup\":\"idt\",\"line\":{\"color\":\"#FB0D0D\"},\"marker\":{\"color\":\"#FB0D0D\",\"size\":5},\"mode\":\"lines+markers\",\"name\":\"idt\",\"showlegend\":false,\"x\":[0,1,2,3,4,5,6,7,8,9,10,11,12,13,14,15,16,17,18,19,20],\"y\":[0.060463472697515244,0.10646180993325449,0.1261088463615054,0.2095098309959521,0.20612657819894323,0.2238516442317594,0.2969104720200225,0.3784284961013059,0.45711433471953283,0.4855619271419331,0.5250556968716513,0.5554783730024059,0.5782892406346101,0.5842570024163253,0.5900580102681946,0.5931636003303064,0.6016457845451282,0.6016457845451282,0.6016457845451282,0.6046852982229397,0.6046852982229397],\"type\":\"scatter\",\"xaxis\":\"x4\",\"yaxis\":\"y4\"},{\"error_y\":{\"array\":[0.017718471994810782,0.07773311999185419,0.07855056048493216,0.1229521526825691,0.15238598074673804,0.15250274490384677,0.15438365203848556,0.16910181271158622,0.1283350421174519,0.1230983539120372,0.14943197138731024,0.15874960636849653,0.16753606876985644,0.17001837910838413,0.17255175472589357,0.17417087162262704,0.16952588048900594,0.16952588048900594,0.16952588048900594,0.17192762753612445,0.17192762753612445],\"type\":\"data\"},\"legendgroup\":\"idvt\",\"line\":{\"color\":\"#DA16FF\"},\"marker\":{\"color\":\"#DA16FF\",\"size\":5},\"mode\":\"lines+markers\",\"name\":\"idvt\",\"showlegend\":false,\"x\":[0,1,2,3,4,5,6,7,8,9,10,11,12,13,14,15,16,17,18,19,20],\"y\":[0.0537317620650954,0.09796646976449933,0.10994582713255749,0.18713593557049013,0.21382139380970155,0.22950689895540025,0.2949071374312771,0.3814381492160367,0.455872565726976,0.5000523008740985,0.5212413030000366,0.5513834675251791,0.5767899226586312,0.5826821785508871,0.5884332712585015,0.5915388613206135,0.5997453185066624,0.5997453185066624,0.5997453185066624,0.6027215089828529,0.6027215089828529],\"type\":\"scatter\",\"xaxis\":\"x4\",\"yaxis\":\"y4\"},{\"error_y\":{\"array\":[0.05111585371166736,0.08882251932518917,0.1170733189716199,0.14812789969900592,0.17502052753849998,0.1566929085718705,0.17437390715822715,0.18232585362418155,0.18924827556567003,0.18118186311780057,0.1840451651774993,0.1869844207130559,0.180476878130824,0.18503666684970205,0.16945611366242772,0.15870354827924024,0.1441087289283762,0.13879583701185638,0.13919919236676742,0.1423180069765489,0.14070698935313045],\"type\":\"data\"},\"legendgroup\":\"engbert\",\"line\":{\"color\":\"#222A2A\"},\"marker\":{\"color\":\"#222A2A\",\"size\":5},\"mode\":\"lines+markers\",\"name\":\"engbert\",\"showlegend\":false,\"x\":[0,1,2,3,4,5,6,7,8,9,10,11,12,13,14,15,16,17,18,19,20],\"y\":[0.08117273561814788,0.14464317146098857,0.21599766393869277,0.2645375868695251,0.32200831921529716,0.36942181219582587,0.4573712329878855,0.5143273030561558,0.5503337690323966,0.5756043012859331,0.6214612335829636,0.6642919908944592,0.6990534850973524,0.7182945256051602,0.7392417221591693,0.7590035053673022,0.7724951696386446,0.7817843952791496,0.7878206125829725,0.7977649285509302,0.7992530237890254],\"type\":\"scatter\",\"xaxis\":\"x4\",\"yaxis\":\"y4\"},{\"error_y\":{\"array\":[0.06151483679855146,0.16516061619157194,0.19292093525319015,0.2005446998486247,0.21093545668622213,0.21512010666641967,0.24825820882939892,0.2696036790589273,0.25746919583079486,0.27403107265464305,0.2751113994758356,0.2799376696232179,0.2835108333684094,0.2874308105008864,0.2966008856873868,0.30015607503717845,0.306337609098009,0.306337609098009,0.31032545304259374,0.3140116899726213,0.3140116899726213],\"type\":\"data\"},\"legendgroup\":\"nh\",\"line\":{\"color\":\"#B68100\"},\"marker\":{\"color\":\"#B68100\",\"size\":5},\"mode\":\"lines+markers\",\"name\":\"nh\",\"showlegend\":false,\"x\":[0,1,2,3,4,5,6,7,8,9,10,11,12,13,14,15,16,17,18,19,20],\"y\":[0.16589275411317117,0.3202260116556107,0.3809064227896393,0.4035167951139398,0.4369066069232045,0.4837667962203685,0.5649828009479055,0.6064115209163434,0.6482582591156651,0.6778920706822499,0.6833865761767554,0.691112183902363,0.6988377916279707,0.7064500206687712,0.7240979418121329,0.7288598465740377,0.736639322000572,0.736639322000572,0.745173341172889,0.7501881676162869,0.7501881676162869],\"type\":\"scatter\",\"xaxis\":\"x4\",\"yaxis\":\"y4\"},{\"error_y\":{\"array\":[0.07818065531756037,0.08231641995616312,0.10865427400587681,0.11896170282336618,0.12359967569755294,0.13464636948642156,0.12914301391519994,0.14704699576523347,0.16747213394628907,0.18413620444085993,0.19698113310181034,0.19727545849939498,0.18616471214171187,0.1880050882042216,0.18008635291984076,0.19209586413981783,0.15880072723708008,0.14034983707530346,0.13691863326946555,0.14143318843348632,0.14481980397100194],\"type\":\"data\"},\"legendgroup\":\"remodnav\",\"line\":{\"color\":\"#750D86\"},\"marker\":{\"color\":\"#750D86\",\"size\":5},\"mode\":\"lines+markers\",\"name\":\"remodnav\",\"showlegend\":false,\"x\":[0,1,2,3,4,5,6,7,8,9,10,11,12,13,14,15,16,17,18,19,20],\"y\":[0.11687721298094826,0.13079982286838904,0.14892974638442374,0.1491466573397607,0.16117629436939773,0.20975487222429137,0.23567161958172209,0.28513312116872974,0.31915241778264003,0.33187386874816616,0.35509545392627306,0.37857507989037104,0.3949205069500839,0.4172994623884242,0.4353437571332188,0.4481337449232066,0.4751402827993097,0.5082772040497744,0.5146295473586394,0.5274306381024662,0.5305362281645779],\"type\":\"scatter\",\"xaxis\":\"x4\",\"yaxis\":\"y4\"}],                        {\"template\":{\"data\":{\"histogram2dcontour\":[{\"type\":\"histogram2dcontour\",\"colorbar\":{\"outlinewidth\":0,\"ticks\":\"\"},\"colorscale\":[[0.0,\"#0d0887\"],[0.1111111111111111,\"#46039f\"],[0.2222222222222222,\"#7201a8\"],[0.3333333333333333,\"#9c179e\"],[0.4444444444444444,\"#bd3786\"],[0.5555555555555556,\"#d8576b\"],[0.6666666666666666,\"#ed7953\"],[0.7777777777777778,\"#fb9f3a\"],[0.8888888888888888,\"#fdca26\"],[1.0,\"#f0f921\"]]}],\"choropleth\":[{\"type\":\"choropleth\",\"colorbar\":{\"outlinewidth\":0,\"ticks\":\"\"}}],\"histogram2d\":[{\"type\":\"histogram2d\",\"colorbar\":{\"outlinewidth\":0,\"ticks\":\"\"},\"colorscale\":[[0.0,\"#0d0887\"],[0.1111111111111111,\"#46039f\"],[0.2222222222222222,\"#7201a8\"],[0.3333333333333333,\"#9c179e\"],[0.4444444444444444,\"#bd3786\"],[0.5555555555555556,\"#d8576b\"],[0.6666666666666666,\"#ed7953\"],[0.7777777777777778,\"#fb9f3a\"],[0.8888888888888888,\"#fdca26\"],[1.0,\"#f0f921\"]]}],\"heatmap\":[{\"type\":\"heatmap\",\"colorbar\":{\"outlinewidth\":0,\"ticks\":\"\"},\"colorscale\":[[0.0,\"#0d0887\"],[0.1111111111111111,\"#46039f\"],[0.2222222222222222,\"#7201a8\"],[0.3333333333333333,\"#9c179e\"],[0.4444444444444444,\"#bd3786\"],[0.5555555555555556,\"#d8576b\"],[0.6666666666666666,\"#ed7953\"],[0.7777777777777778,\"#fb9f3a\"],[0.8888888888888888,\"#fdca26\"],[1.0,\"#f0f921\"]]}],\"heatmapgl\":[{\"type\":\"heatmapgl\",\"colorbar\":{\"outlinewidth\":0,\"ticks\":\"\"},\"colorscale\":[[0.0,\"#0d0887\"],[0.1111111111111111,\"#46039f\"],[0.2222222222222222,\"#7201a8\"],[0.3333333333333333,\"#9c179e\"],[0.4444444444444444,\"#bd3786\"],[0.5555555555555556,\"#d8576b\"],[0.6666666666666666,\"#ed7953\"],[0.7777777777777778,\"#fb9f3a\"],[0.8888888888888888,\"#fdca26\"],[1.0,\"#f0f921\"]]}],\"contourcarpet\":[{\"type\":\"contourcarpet\",\"colorbar\":{\"outlinewidth\":0,\"ticks\":\"\"}}],\"contour\":[{\"type\":\"contour\",\"colorbar\":{\"outlinewidth\":0,\"ticks\":\"\"},\"colorscale\":[[0.0,\"#0d0887\"],[0.1111111111111111,\"#46039f\"],[0.2222222222222222,\"#7201a8\"],[0.3333333333333333,\"#9c179e\"],[0.4444444444444444,\"#bd3786\"],[0.5555555555555556,\"#d8576b\"],[0.6666666666666666,\"#ed7953\"],[0.7777777777777778,\"#fb9f3a\"],[0.8888888888888888,\"#fdca26\"],[1.0,\"#f0f921\"]]}],\"surface\":[{\"type\":\"surface\",\"colorbar\":{\"outlinewidth\":0,\"ticks\":\"\"},\"colorscale\":[[0.0,\"#0d0887\"],[0.1111111111111111,\"#46039f\"],[0.2222222222222222,\"#7201a8\"],[0.3333333333333333,\"#9c179e\"],[0.4444444444444444,\"#bd3786\"],[0.5555555555555556,\"#d8576b\"],[0.6666666666666666,\"#ed7953\"],[0.7777777777777778,\"#fb9f3a\"],[0.8888888888888888,\"#fdca26\"],[1.0,\"#f0f921\"]]}],\"mesh3d\":[{\"type\":\"mesh3d\",\"colorbar\":{\"outlinewidth\":0,\"ticks\":\"\"}}],\"scatter\":[{\"marker\":{\"line\":{\"color\":\"#283442\"}},\"type\":\"scatter\"}],\"parcoords\":[{\"type\":\"parcoords\",\"line\":{\"colorbar\":{\"outlinewidth\":0,\"ticks\":\"\"}}}],\"scatterpolargl\":[{\"type\":\"scatterpolargl\",\"marker\":{\"colorbar\":{\"outlinewidth\":0,\"ticks\":\"\"}}}],\"bar\":[{\"error_x\":{\"color\":\"#f2f5fa\"},\"error_y\":{\"color\":\"#f2f5fa\"},\"marker\":{\"line\":{\"color\":\"rgb(17,17,17)\",\"width\":0.5},\"pattern\":{\"fillmode\":\"overlay\",\"size\":10,\"solidity\":0.2}},\"type\":\"bar\"}],\"scattergeo\":[{\"type\":\"scattergeo\",\"marker\":{\"colorbar\":{\"outlinewidth\":0,\"ticks\":\"\"}}}],\"scatterpolar\":[{\"type\":\"scatterpolar\",\"marker\":{\"colorbar\":{\"outlinewidth\":0,\"ticks\":\"\"}}}],\"histogram\":[{\"marker\":{\"pattern\":{\"fillmode\":\"overlay\",\"size\":10,\"solidity\":0.2}},\"type\":\"histogram\"}],\"scattergl\":[{\"marker\":{\"line\":{\"color\":\"#283442\"}},\"type\":\"scattergl\"}],\"scatter3d\":[{\"type\":\"scatter3d\",\"line\":{\"colorbar\":{\"outlinewidth\":0,\"ticks\":\"\"}},\"marker\":{\"colorbar\":{\"outlinewidth\":0,\"ticks\":\"\"}}}],\"scattermapbox\":[{\"type\":\"scattermapbox\",\"marker\":{\"colorbar\":{\"outlinewidth\":0,\"ticks\":\"\"}}}],\"scatterternary\":[{\"type\":\"scatterternary\",\"marker\":{\"colorbar\":{\"outlinewidth\":0,\"ticks\":\"\"}}}],\"scattercarpet\":[{\"type\":\"scattercarpet\",\"marker\":{\"colorbar\":{\"outlinewidth\":0,\"ticks\":\"\"}}}],\"carpet\":[{\"aaxis\":{\"endlinecolor\":\"#A2B1C6\",\"gridcolor\":\"#506784\",\"linecolor\":\"#506784\",\"minorgridcolor\":\"#506784\",\"startlinecolor\":\"#A2B1C6\"},\"baxis\":{\"endlinecolor\":\"#A2B1C6\",\"gridcolor\":\"#506784\",\"linecolor\":\"#506784\",\"minorgridcolor\":\"#506784\",\"startlinecolor\":\"#A2B1C6\"},\"type\":\"carpet\"}],\"table\":[{\"cells\":{\"fill\":{\"color\":\"#506784\"},\"line\":{\"color\":\"rgb(17,17,17)\"}},\"header\":{\"fill\":{\"color\":\"#2a3f5f\"},\"line\":{\"color\":\"rgb(17,17,17)\"}},\"type\":\"table\"}],\"barpolar\":[{\"marker\":{\"line\":{\"color\":\"rgb(17,17,17)\",\"width\":0.5},\"pattern\":{\"fillmode\":\"overlay\",\"size\":10,\"solidity\":0.2}},\"type\":\"barpolar\"}],\"pie\":[{\"automargin\":true,\"type\":\"pie\"}]},\"layout\":{\"autotypenumbers\":\"strict\",\"colorway\":[\"#636efa\",\"#EF553B\",\"#00cc96\",\"#ab63fa\",\"#FFA15A\",\"#19d3f3\",\"#FF6692\",\"#B6E880\",\"#FF97FF\",\"#FECB52\"],\"font\":{\"color\":\"#f2f5fa\"},\"hovermode\":\"closest\",\"hoverlabel\":{\"align\":\"left\"},\"paper_bgcolor\":\"rgb(17,17,17)\",\"plot_bgcolor\":\"rgb(17,17,17)\",\"polar\":{\"bgcolor\":\"rgb(17,17,17)\",\"angularaxis\":{\"gridcolor\":\"#506784\",\"linecolor\":\"#506784\",\"ticks\":\"\"},\"radialaxis\":{\"gridcolor\":\"#506784\",\"linecolor\":\"#506784\",\"ticks\":\"\"}},\"ternary\":{\"bgcolor\":\"rgb(17,17,17)\",\"aaxis\":{\"gridcolor\":\"#506784\",\"linecolor\":\"#506784\",\"ticks\":\"\"},\"baxis\":{\"gridcolor\":\"#506784\",\"linecolor\":\"#506784\",\"ticks\":\"\"},\"caxis\":{\"gridcolor\":\"#506784\",\"linecolor\":\"#506784\",\"ticks\":\"\"}},\"coloraxis\":{\"colorbar\":{\"outlinewidth\":0,\"ticks\":\"\"}},\"colorscale\":{\"sequential\":[[0.0,\"#0d0887\"],[0.1111111111111111,\"#46039f\"],[0.2222222222222222,\"#7201a8\"],[0.3333333333333333,\"#9c179e\"],[0.4444444444444444,\"#bd3786\"],[0.5555555555555556,\"#d8576b\"],[0.6666666666666666,\"#ed7953\"],[0.7777777777777778,\"#fb9f3a\"],[0.8888888888888888,\"#fdca26\"],[1.0,\"#f0f921\"]],\"sequentialminus\":[[0.0,\"#0d0887\"],[0.1111111111111111,\"#46039f\"],[0.2222222222222222,\"#7201a8\"],[0.3333333333333333,\"#9c179e\"],[0.4444444444444444,\"#bd3786\"],[0.5555555555555556,\"#d8576b\"],[0.6666666666666666,\"#ed7953\"],[0.7777777777777778,\"#fb9f3a\"],[0.8888888888888888,\"#fdca26\"],[1.0,\"#f0f921\"]],\"diverging\":[[0,\"#8e0152\"],[0.1,\"#c51b7d\"],[0.2,\"#de77ae\"],[0.3,\"#f1b6da\"],[0.4,\"#fde0ef\"],[0.5,\"#f7f7f7\"],[0.6,\"#e6f5d0\"],[0.7,\"#b8e186\"],[0.8,\"#7fbc41\"],[0.9,\"#4d9221\"],[1,\"#276419\"]]},\"xaxis\":{\"gridcolor\":\"#283442\",\"linecolor\":\"#506784\",\"ticks\":\"\",\"title\":{\"standoff\":15},\"zerolinecolor\":\"#283442\",\"automargin\":true,\"zerolinewidth\":2},\"yaxis\":{\"gridcolor\":\"#283442\",\"linecolor\":\"#506784\",\"ticks\":\"\",\"title\":{\"standoff\":15},\"zerolinecolor\":\"#283442\",\"automargin\":true,\"zerolinewidth\":2},\"scene\":{\"xaxis\":{\"backgroundcolor\":\"rgb(17,17,17)\",\"gridcolor\":\"#506784\",\"linecolor\":\"#506784\",\"showbackground\":true,\"ticks\":\"\",\"zerolinecolor\":\"#C8D4E3\",\"gridwidth\":2},\"yaxis\":{\"backgroundcolor\":\"rgb(17,17,17)\",\"gridcolor\":\"#506784\",\"linecolor\":\"#506784\",\"showbackground\":true,\"ticks\":\"\",\"zerolinecolor\":\"#C8D4E3\",\"gridwidth\":2},\"zaxis\":{\"backgroundcolor\":\"rgb(17,17,17)\",\"gridcolor\":\"#506784\",\"linecolor\":\"#506784\",\"showbackground\":true,\"ticks\":\"\",\"zerolinecolor\":\"#C8D4E3\",\"gridwidth\":2}},\"shapedefaults\":{\"line\":{\"color\":\"#f2f5fa\"}},\"annotationdefaults\":{\"arrowcolor\":\"#f2f5fa\",\"arrowhead\":0,\"arrowwidth\":1},\"geo\":{\"bgcolor\":\"rgb(17,17,17)\",\"landcolor\":\"rgb(17,17,17)\",\"subunitcolor\":\"#506784\",\"showland\":true,\"showlakes\":true,\"lakecolor\":\"rgb(17,17,17)\"},\"title\":{\"x\":0.05},\"updatemenudefaults\":{\"bgcolor\":\"#506784\",\"borderwidth\":0},\"sliderdefaults\":{\"bgcolor\":\"#C8D4E3\",\"borderwidth\":1,\"bordercolor\":\"rgb(17,17,17)\",\"tickwidth\":0},\"mapbox\":{\"style\":\"dark\"}}},\"xaxis\":{\"anchor\":\"y\",\"domain\":[0.0,0.485],\"matches\":\"x3\",\"showticklabels\":false},\"yaxis\":{\"anchor\":\"x\",\"domain\":[0.5125,1.0],\"matches\":\"y3\",\"title\":{\"text\":\"F1\"}},\"xaxis2\":{\"anchor\":\"y2\",\"domain\":[0.495,0.98],\"matches\":\"x3\",\"showticklabels\":false},\"yaxis2\":{\"anchor\":\"x2\",\"domain\":[0.5125,1.0],\"matches\":\"y3\",\"showticklabels\":false},\"xaxis3\":{\"anchor\":\"y3\",\"domain\":[0.0,0.485],\"title\":{\"text\":\"Threshold (samples)\"}},\"yaxis3\":{\"anchor\":\"x3\",\"domain\":[0.0,0.4875],\"title\":{\"text\":\"F1\"}},\"xaxis4\":{\"anchor\":\"y4\",\"domain\":[0.495,0.98],\"matches\":\"x3\",\"title\":{\"text\":\"Threshold (samples)\"}},\"yaxis4\":{\"anchor\":\"x4\",\"domain\":[0.0,0.4875],\"matches\":\"y3\",\"showticklabels\":false},\"annotations\":[{\"font\":{\"size\":16},\"showarrow\":false,\"text\":\"RA\",\"x\":0.2425,\"xanchor\":\"center\",\"xref\":\"paper\",\"y\":1.0,\"yanchor\":\"bottom\",\"yref\":\"paper\"},{\"font\":{\"size\":16},\"showarrow\":false,\"text\":\"MN\",\"x\":0.7375,\"xanchor\":\"center\",\"xref\":\"paper\",\"y\":1.0,\"yanchor\":\"bottom\",\"yref\":\"paper\"},{\"font\":{\"size\":16},\"showarrow\":false,\"text\":\"Onset\",\"textangle\":90,\"x\":0.98,\"xanchor\":\"left\",\"xref\":\"paper\",\"y\":0.75625,\"yanchor\":\"middle\",\"yref\":\"paper\"},{\"font\":{\"size\":16},\"showarrow\":false,\"text\":\"Offset\",\"textangle\":90,\"x\":0.98,\"xanchor\":\"left\",\"xref\":\"paper\",\"y\":0.24375,\"yanchor\":\"middle\",\"yref\":\"paper\"}],\"legend\":{\"orientation\":\"h\",\"yanchor\":\"bottom\",\"y\":-0.3,\"xanchor\":\"left\",\"x\":0.25},\"title\":{\"text\":\"f1 (fixations)\"},\"width\":1400,\"height\":500,\"paper_bgcolor\":\"rgba(0, 0, 0, 0)\",\"plot_bgcolor\":\"rgba(0, 0, 0, 0)\"},                        {\"responsive\": true}                    ).then(function(){\n",
       "                            \n",
       "var gd = document.getElementById('f215e2b6-a0d9-43a7-b78d-5824b1c00644');\n",
       "var x = new MutationObserver(function (mutations, observer) {{\n",
       "        var display = window.getComputedStyle(gd).display;\n",
       "        if (!display || display === 'none') {{\n",
       "            console.log([gd, 'removed!']);\n",
       "            Plotly.purge(gd);\n",
       "            observer.disconnect();\n",
       "        }}\n",
       "}});\n",
       "\n",
       "// Listen for the removal of the full notebook cells\n",
       "var notebookContainer = gd.closest('#notebook-container');\n",
       "if (notebookContainer) {{\n",
       "    x.observe(notebookContainer, {childList: true});\n",
       "}}\n",
       "\n",
       "// Listen for the clearing of the current output cell\n",
       "var outputEl = gd.closest('.output');\n",
       "if (outputEl) {{\n",
       "    x.observe(outputEl, {childList: true});\n",
       "}}\n",
       "\n",
       "                        })                };                });            </script>        </div>"
      ]
     },
     "metadata": {},
     "output_type": "display_data"
    }
   ],
   "execution_count": 18
  },
  {
   "metadata": {},
   "cell_type": "markdown",
   "source": "### 4) Criterion over thresholds",
   "id": "9f2f5bd2249a92b7"
  },
  {
   "metadata": {
    "ExecuteTime": {
     "end_time": "2024-11-25T22:57:28.066600Z",
     "start_time": "2024-11-25T22:57:28.013640Z"
    }
   },
   "cell_type": "code",
   "source": [
    "criterion_thresholds_figure = ch_sdt.multi_channel_figure(\n",
    "    csdt_metrics,\n",
    "    metric=peyes.constants.CRITERION_STR,\n",
    "    yaxis_title=\"Criterion\", show_other_gt=True, error_bars='std', show_err_bands=False,\n",
    "    colors={k: v[1] for k, v in LABELER_PLOTTING_CONFIG.items()},\n",
    ")\n",
    "\n",
    "criterion_thresholds_figure.update_layout(\n",
    "    title=dict(text=\"criterion (saccades)\"),\n",
    "    width=1400, height=500,\n",
    "    paper_bgcolor='rgba(0, 0, 0, 0)',\n",
    "    plot_bgcolor='rgba(0, 0, 0, 0)',\n",
    "    margin=dict(l=10, r=10, b=10, t=10, pad=0),\n",
    ")\n",
    "criterion_thresholds_figure.layout.annotations = []   # remove subtitles\n",
    "\n",
    "criterion_thresholds_figure.show()"
   ],
   "id": "70271b1c71e7845f",
   "outputs": [
    {
     "data": {
      "application/vnd.plotly.v1+json": {
       "data": [
        {
         "error_y": {
          "array": [
           0.15787940879683698,
           0.27864268076345367,
           0.3937401890318506,
           0.3582978316123874,
           0.3480421690365528,
           0.3335909439369721,
           0.3215848506111091,
           0.31135069116310005,
           0.30246546526724577,
           0.30630964265865024,
           0.2997912156745653,
           0.2939482215062884,
           0.28867658403709506,
           0.2838961025635905,
           0.2850342301406396,
           0.2812952082242733,
           0.27786323279261615,
           0.2747066074348935,
           0.2717990164317405,
           0.26911841809104775,
           0.26664621313358666
          ],
          "type": "data"
         },
         "legendgroup": "Other GT",
         "line": {
          "color": "#bab0ac",
          "dash": "dot"
         },
         "marker": {
          "color": "#bab0ac",
          "size": 5
         },
         "mode": "lines+markers",
         "name": "Other GT",
         "showlegend": true,
         "x": [
          0,
          1,
          2,
          3,
          4,
          5,
          6,
          7,
          8,
          9,
          10,
          11,
          12,
          13,
          14,
          15,
          16,
          17,
          18,
          19,
          20
         ],
         "y": [
          1.2623254798930041,
          0.7597635364421309,
          0.48056716372747854,
          0.3164443220641024,
          0.21370302482377082,
          0.19858066432869353,
          0.18565817204513854,
          0.17431844505264651,
          0.1641722944279303,
          0.11876475000756379,
          0.11154967567044251,
          0.10484801769277811,
          0.09857298366482521,
          0.09265719558366671,
          0.06428476451920259,
          0.05989071606128466,
          0.05567962215936443,
          0.05162728311337712,
          0.04771327160799795,
          0.043920141857035126,
          0.04023283292473889
         ],
         "type": "scatter",
         "xaxis": "x",
         "yaxis": "y"
        },
        {
         "error_y": {
          "array": [
           0.5231636019987301,
           0.28599120203928063,
           0.4780130345374096,
           0.5273451313492843,
           0.5740997265400866,
           0.5713009691924056,
           0.5622599259252201,
           0.5553182647346302,
           0.5493008342875854,
           0.5692221153522623,
           0.5714193358270405,
           0.5674572251340533,
           0.5639554352295886,
           0.5608431513639385,
           0.5580634690103631,
           0.5555693194976775,
           0.5533205355443315,
           0.5512815995117167,
           0.5494197674987434,
           0.5477033349986368,
           0.5460998355341532
          ],
          "type": "data"
         },
         "legendgroup": "ivt",
         "line": {
          "color": "#E15F99"
         },
         "marker": {
          "color": "#E15F99",
          "size": 5
         },
         "mode": "lines+markers",
         "name": "ivt",
         "showlegend": true,
         "x": [
          0,
          1,
          2,
          3,
          4,
          5,
          6,
          7,
          8,
          9,
          10,
          11,
          12,
          13,
          14,
          15,
          16,
          17,
          18,
          19,
          20
         ],
         "y": [
          2.4381330147510885,
          0.992915333476873,
          0.4734552830827865,
          0.27655488082067087,
          0.11326405073199494,
          0.050732692999854466,
          0.025741545281128098,
          -0.008121181027184404,
          -0.029104332796658722,
          -0.0743147778203208,
          -0.08712145694272033,
          -0.10413075093470622,
          -0.1206119460638447,
          -0.13669796358207326,
          -0.15250208191346878,
          -0.16812494041562182,
          -0.18366004860444235,
          -0.1991986374385655,
          -0.2148345672730428,
          -0.23067010132029853,
          -0.24682374366218646
         ],
         "type": "scatter",
         "xaxis": "x",
         "yaxis": "y"
        },
        {
         "error_y": {
          "array": [
           0.5447090417694624,
           0.314114898465703,
           0.5263713737625543,
           0.5749015517353322,
           0.5752650728376322,
           0.5645335789523972,
           0.5794582220290697,
           0.5913357464459171,
           0.5909780483769085,
           0.5879060617885458,
           0.5822779074417062,
           0.5803826962450482,
           0.5789254444789294,
           0.5778545158455539,
           0.5771312075847183,
           0.5767266855823147,
           0.5766200333656816,
           0.5767971199964177,
           0.5772502022308691,
           0.5779784227297464,
           0.5789898454689224
          ],
          "type": "data"
         },
         "legendgroup": "ivvt",
         "line": {
          "color": "#1CA71C"
         },
         "marker": {
          "color": "#1CA71C",
          "size": 5
         },
         "mode": "lines+markers",
         "name": "ivvt",
         "showlegend": true,
         "x": [
          0,
          1,
          2,
          3,
          4,
          5,
          6,
          7,
          8,
          9,
          10,
          11,
          12,
          13,
          14,
          15,
          16,
          17,
          18,
          19,
          20
         ],
         "y": [
          2.333461320775629,
          0.8980956870832124,
          0.2733816552058171,
          0.04333223344098745,
          -0.05162948056477833,
          -0.1405041595637019,
          -0.20201269083616819,
          -0.2567970260617305,
          -0.3000922179290813,
          -0.3201227121171516,
          -0.34281214570375457,
          -0.361724606897216,
          -0.38034920854799537,
          -0.39882395607389426,
          -0.41727343338625156,
          -0.43581600446161006,
          -0.4545701707888387,
          -0.47366107455471707,
          -0.49322824558366973,
          -0.5134362149668584,
          -0.5344909615688765
         ],
         "type": "scatter",
         "xaxis": "x",
         "yaxis": "y"
        },
        {
         "error_y": {
          "array": [
           0.21923482666153143,
           0.40381455295533875,
           0.3580856233113221,
           0.36658205414587697,
           0.24123751541855099,
           0.2676795199684738,
           0.28261903215290446,
           0.2845030877811829,
           0.2873040106826487,
           0.2923536133966211,
           0.29593163860749133,
           0.3013566873831236,
           0.30508215677330774,
           0.30897131897153757,
           0.3116275163556678,
           0.31545285901599895,
           0.32256701471976956,
           0.32665127878992983,
           0.33090024481771435,
           0.33360930670820466,
           0.3341729397095997
          ],
          "type": "data"
         },
         "legendgroup": "idt",
         "line": {
          "color": "#FB0D0D"
         },
         "marker": {
          "color": "#FB0D0D",
          "size": 5
         },
         "mode": "lines+markers",
         "name": "idt",
         "showlegend": true,
         "x": [
          0,
          1,
          2,
          3,
          4,
          5,
          6,
          7,
          8,
          9,
          10,
          11,
          12,
          13,
          14,
          15,
          16,
          17,
          18,
          19,
          20
         ],
         "y": [
          3.0303176581653166,
          2.243257402621839,
          1.6675672835513555,
          1.4775046146028916,
          1.3362585457307126,
          1.2689437470876412,
          1.2392592449911173,
          1.2165853944607052,
          1.1901664817178292,
          1.1708183299813133,
          1.149414465199394,
          1.1260774628296732,
          1.1074181566610972,
          1.0890390923721445,
          1.0733201751539176,
          1.0575041499760267,
          1.0446068778995015,
          1.0299974021892946,
          1.0158245796246117,
          1.0068336326794307,
          0.9992237753118982
         ],
         "type": "scatter",
         "xaxis": "x",
         "yaxis": "y"
        },
        {
         "error_y": {
          "array": [
           0.22746952170682205,
           0.36781356367563034,
           0.3715247729877808,
           0.37516004797595204,
           0.25475830914282516,
           0.281326127060405,
           0.2933732853718135,
           0.29393168218309507,
           0.2967474850450115,
           0.3015382180902069,
           0.3051860048000485,
           0.30885830986917995,
           0.3125768325854734,
           0.3163622598956959,
           0.3190811054973992,
           0.3228879072074399,
           0.32680661137299183,
           0.3308598119327712,
           0.3350735128258119,
           0.33947855398765436,
           0.34411255435659877
          ],
          "type": "data"
         },
         "legendgroup": "idvt",
         "line": {
          "color": "#DA16FF"
         },
         "marker": {
          "color": "#DA16FF",
          "size": 5
         },
         "mode": "lines+markers",
         "name": "idvt",
         "showlegend": true,
         "x": [
          0,
          1,
          2,
          3,
          4,
          5,
          6,
          7,
          8,
          9,
          10,
          11,
          12,
          13,
          14,
          15,
          16,
          17,
          18,
          19,
          20
         ],
         "y": [
          3.0268055543873262,
          2.1009216675678557,
          1.6403156134366246,
          1.4471489433738653,
          1.305843465260927,
          1.245437972739424,
          1.2145137254926364,
          1.1925110798263359,
          1.166363117213779,
          1.147280801151361,
          1.1261393424427284,
          1.1064141344728093,
          1.0878601397825385,
          1.0702855585825186,
          1.0544435811140542,
          1.0384995449585135,
          1.0231562260370686,
          1.0083239756178566,
          0.9939242853700081,
          0.9798865934677025,
          0.9661455476293914
         ],
         "type": "scatter",
         "xaxis": "x",
         "yaxis": "y"
        },
        {
         "error_y": {
          "array": [
           0.18082995854163533,
           0.2675472252883221,
           0.36013993493559804,
           0.32168945911480556,
           0.2729172881689149,
           0.24645754340158924,
           0.2400513611241047,
           0.2426474709745204,
           0.2552508498149749,
           0.2515159335664494,
           0.2484414008418992,
           0.23414185779204189,
           0.23272887109082463,
           0.2317481877699405,
           0.23120221567993693,
           0.23111960426667386,
           0.23156294929132212,
           0.23264408737678755,
           0.23455349016004798,
           0.23761912457019865,
           0.2424350850767155
          ],
          "type": "data"
         },
         "legendgroup": "engbert",
         "line": {
          "color": "#222A2A"
         },
         "marker": {
          "color": "#222A2A",
          "size": 5
         },
         "mode": "lines+markers",
         "name": "engbert",
         "showlegend": true,
         "x": [
          0,
          1,
          2,
          3,
          4,
          5,
          6,
          7,
          8,
          9,
          10,
          11,
          12,
          13,
          14,
          15,
          16,
          17,
          18,
          19,
          20
         ],
         "y": [
          1.506542451234265,
          0.5769550658190258,
          0.050315761873262844,
          -0.08009969066335337,
          -0.1859525564197572,
          -0.22716303048546313,
          -0.28059373210759503,
          -0.32685689427539977,
          -0.37044956631636816,
          -0.38589945900646355,
          -0.4008863601165709,
          -0.434213793268538,
          -0.44795523721994757,
          -0.46166527973638904,
          -0.4754387433864927,
          -0.4893709355416108,
          -0.5035641878293158,
          -0.5181362037266217,
          -0.5332326122951294,
          -0.5490487350141193,
          -0.5658729952077244
         ],
         "type": "scatter",
         "xaxis": "x",
         "yaxis": "y"
        },
        {
         "error_y": {
          "array": [
           0.4031878293164053,
           0.5307522906103135,
           0.7266757115989901,
           0.6690400527717388,
           0.6370703831521979,
           0.5596362444542239,
           0.5782052015679741,
           0.6230898912944244,
           0.6791072701529433,
           0.6984896492302026,
           0.7405582550816088,
           0.7474809131672482,
           0.7618235425360022,
           0.7711473904517187,
           0.7747904436998043,
           0.7711067706951525,
           0.7784948790557418,
           0.7641881562094536,
           0.7611160219979264,
           0.7583053803970056,
           0.7557528368709447
          ],
          "type": "data"
         },
         "legendgroup": "nh",
         "line": {
          "color": "#B68100"
         },
         "marker": {
          "color": "#B68100",
          "size": 5
         },
         "mode": "lines+markers",
         "name": "nh",
         "showlegend": true,
         "x": [
          0,
          1,
          2,
          3,
          4,
          5,
          6,
          7,
          8,
          9,
          10,
          11,
          12,
          13,
          14,
          15,
          16,
          17,
          18,
          19,
          20
         ],
         "y": [
          2.9229922988050894,
          2.4223359389489842,
          2.0826842258785976,
          1.6472392084086434,
          1.2695713944253995,
          1.0745633171295352,
          0.9710352106642555,
          0.8697864885328025,
          0.75384073705941,
          0.6917195399846553,
          0.6106975147660912,
          0.5714564831638111,
          0.5379522749958803,
          0.5049389845274714,
          0.4739181075077209,
          0.4641116733076867,
          0.43921271957305824,
          0.4236127503114723,
          0.4153521672823447,
          0.40727726354333765,
          0.3993506843670402
         ],
         "type": "scatter",
         "xaxis": "x",
         "yaxis": "y"
        },
        {
         "error_y": {
          "array": [
           0.515017645196378,
           0.45245394722972543,
           0.22421940885167915,
           0.22314821960175038,
           0.2203046950431643,
           0.2202323670197192,
           0.21187163453220195,
           0.21316241154594054,
           0.20984872562727377,
           0.21130490397329688,
           0.2128570971262864,
           0.21453181805594337,
           0.21635868521779364,
           0.21837223507477807,
           0.20859848166078662,
           0.21031570101363997,
           0.21226403541101016,
           0.21450099482598198,
           0.21710360603374804,
           0.22017835486708817,
           0.2238779834575286
          ],
          "type": "data"
         },
         "legendgroup": "remodnav",
         "line": {
          "color": "#750D86"
         },
         "marker": {
          "color": "#750D86",
          "size": 5
         },
         "mode": "lines+markers",
         "name": "remodnav",
         "showlegend": true,
         "x": [
          0,
          1,
          2,
          3,
          4,
          5,
          6,
          7,
          8,
          9,
          10,
          11,
          12,
          13,
          14,
          15,
          16,
          17,
          18,
          19,
          20
         ],
         "y": [
          2.410285810731789,
          1.9176109048627061,
          1.6461791218212958,
          1.5826895304099406,
          1.5590358737350847,
          1.5311547535745613,
          1.4990077020753192,
          1.4740325834650916,
          1.4471139108692603,
          1.4270527116891822,
          1.4086412458970317,
          1.3915733494115343,
          1.3756148462372297,
          1.3605808701208593,
          1.3522279523020573,
          1.3390047627505803,
          1.3263452407730782,
          1.3141553161762352,
          1.302347002457058,
          1.2908329651106754,
          1.2795197754830865
         ],
         "type": "scatter",
         "xaxis": "x",
         "yaxis": "y"
        },
        {
         "error_y": {
          "array": [
           0.1626562308317219,
           0.4360494167719041,
           0.4094206407712618,
           0.39846810745070144,
           0.37385954921189146,
           0.3596956289829101,
           0.34793035133159145,
           0.33790937942624255,
           0.3292240249309664,
           0.3099288757308343,
           0.30348833424644667,
           0.2978066621100232,
           0.29278393220782045,
           0.288346207391404,
           0.27839462557277794,
           0.27542013866347403,
           0.2729065966920904,
           0.2708359049986289,
           0.2691991360623013,
           0.2679961215370907,
           0.26723561550224767
          ],
          "type": "data"
         },
         "legendgroup": "Other GT",
         "line": {
          "color": "#bab0ac",
          "dash": "dot"
         },
         "marker": {
          "color": "#bab0ac",
          "size": 5
         },
         "mode": "lines+markers",
         "name": "Other GT",
         "showlegend": false,
         "x": [
          0,
          1,
          2,
          3,
          4,
          5,
          6,
          7,
          8,
          9,
          10,
          11,
          12,
          13,
          14,
          15,
          16,
          17,
          18,
          19,
          20
         ],
         "y": [
          1.2531714849531537,
          0.6771416798244266,
          0.5190178816369899,
          0.3561176922319615,
          0.28133069393832055,
          0.26465773110281704,
          0.2504367271770667,
          0.2379733237301435,
          0.2268292537494794,
          0.21000847958190347,
          0.20091205441442858,
          0.19247892457949495,
          0.18459156007662583,
          0.17715784172751745,
          0.16368643516760745,
          0.1573512144715376,
          0.15128773701856715,
          0.14545181927386786,
          0.1398044109621151,
          0.13431005713982366,
          0.12893559562735102
         ],
         "type": "scatter",
         "xaxis": "x2",
         "yaxis": "y2"
        },
        {
         "error_y": {
          "array": [
           0.616744209745224,
           0.31813959420281573,
           0.379819372340033,
           0.4491175909744128,
           0.5323467053666567,
           0.5488162390439574,
           0.5422138408725178,
           0.5409802666274591,
           0.5720743921522694,
           0.5688318712525636,
           0.5662999497477471,
           0.5643687059631008,
           0.5629575032645844,
           0.5620062827897379,
           0.5614700509467738,
           0.5613153111324088,
           0.5615177508569856,
           0.5620607999813501,
           0.5629348572179105,
           0.5641371080677821,
           0.565671969895861
          ],
          "type": "data"
         },
         "legendgroup": "ivt",
         "line": {
          "color": "#E15F99"
         },
         "marker": {
          "color": "#E15F99",
          "size": 5
         },
         "mode": "lines+markers",
         "name": "ivt",
         "showlegend": false,
         "x": [
          0,
          1,
          2,
          3,
          4,
          5,
          6,
          7,
          8,
          9,
          10,
          11,
          12,
          13,
          14,
          15,
          16,
          17,
          18,
          19,
          20
         ],
         "y": [
          2.307441426456392,
          1.0169376720720658,
          0.5910745153129289,
          0.37090532942431925,
          0.17277484747762925,
          0.04860073284474325,
          0.021500124016708342,
          -0.015113922750553519,
          -0.07377658784556561,
          -0.0934662132176338,
          -0.11211001498976844,
          -0.12992907309195975,
          -0.1470947474889923,
          -0.16374424720926606,
          -0.1799908550393147,
          -0.19593096359597367,
          -0.21164915985540178,
          -0.22722211456087016,
          -0.24272177754218102,
          -0.25821825261090553,
          -0.27378268480347434
         ],
         "type": "scatter",
         "xaxis": "x2",
         "yaxis": "y2"
        },
        {
         "error_y": {
          "array": [
           0.5546587321166502,
           0.3462560042903131,
           0.39326738344771683,
           0.4760023002717804,
           0.5759543561673913,
           0.5614686130878327,
           0.5875927444992642,
           0.605710892787397,
           0.6037166129354904,
           0.6024684883031801,
           0.6018534807057009,
           0.6017945042778878,
           0.6022392662053284,
           0.6031536543585152,
           0.6045177871026557,
           0.6063237544742737,
           0.608574549513379,
           0.6112839589788909,
           0.6144773686635114,
           0.6181936056469891,
           0.6224881425072877
          ],
          "type": "data"
         },
         "legendgroup": "ivvt",
         "line": {
          "color": "#1CA71C"
         },
         "marker": {
          "color": "#1CA71C",
          "size": 5
         },
         "mode": "lines+markers",
         "name": "ivvt",
         "showlegend": false,
         "x": [
          0,
          1,
          2,
          3,
          4,
          5,
          6,
          7,
          8,
          9,
          10,
          11,
          12,
          13,
          14,
          15,
          16,
          17,
          18,
          19,
          20
         ],
         "y": [
          2.1575705968656727,
          0.9195744094204158,
          0.42615432076330223,
          0.16432584837136627,
          -0.043327035260491385,
          -0.1855253673583714,
          -0.2840040153721303,
          -0.3458126284455939,
          -0.36705362804166264,
          -0.38737604621998634,
          -0.40702984598946185,
          -0.4262078206410314,
          -0.4450655161271043,
          -0.463733937551276,
          -0.4823281782863109,
          -0.5009536940053569,
          -0.5197112451235589,
          -0.5387011808813268,
          -0.5580275773349991,
          -0.5778027041294729,
          -0.5981523668551804
         ],
         "type": "scatter",
         "xaxis": "x2",
         "yaxis": "y2"
        },
        {
         "error_y": {
          "array": [
           0.12880824963555812,
           0.49693108555490934,
           0.4123746338656509,
           0.4311229351923135,
           0.2683368485008649,
           0.28589321675011675,
           0.2995328527209237,
           0.30183027064655954,
           0.30419061255285496,
           0.30841733624610423,
           0.31485770270340024,
           0.3191680291767062,
           0.3232515181968,
           0.33052276867191316,
           0.3337889901069991,
           0.33829139886177456,
           0.3458498973445744,
           0.3506492826560262,
           0.35565041364477096,
           0.36089363637916544,
           0.3648657868458331
          ],
          "type": "data"
         },
         "legendgroup": "idt",
         "line": {
          "color": "#FB0D0D"
         },
         "marker": {
          "color": "#FB0D0D",
          "size": 5
         },
         "mode": "lines+markers",
         "name": "idt",
         "showlegend": false,
         "x": [
          0,
          1,
          2,
          3,
          4,
          5,
          6,
          7,
          8,
          9,
          10,
          11,
          12,
          13,
          14,
          15,
          16,
          17,
          18,
          19,
          20
         ],
         "y": [
          3.089277561451381,
          2.3363353138502028,
          1.735251640412208,
          1.4989291391729112,
          1.2955770703750173,
          1.2482774764953057,
          1.2283941313748503,
          1.2079238430190156,
          1.1856648107586942,
          1.1617703131035542,
          1.1452707889169709,
          1.1246275953169467,
          1.1043426034247796,
          1.0827799103112616,
          1.0662213156645914,
          1.049600617643754,
          1.030631274436522,
          1.0150918387635792,
          0.9999484742329331,
          0.9851247918300797,
          0.9776778069365077
         ],
         "type": "scatter",
         "xaxis": "x2",
         "yaxis": "y2"
        },
        {
         "error_y": {
          "array": [
           0.35989871732282347,
           0.50124583624663,
           0.4196512620235893,
           0.4423315150733058,
           0.2855488420027263,
           0.29909231615181747,
           0.31424436952889623,
           0.3144707532405315,
           0.316897891239113,
           0.3212781294673193,
           0.3256532686203187,
           0.33005379752251407,
           0.33450713611969035,
           0.33903940043736924,
           0.34217427674269024,
           0.34671836966148134,
           0.35139800018525286,
           0.3562416201768335,
           0.36128198835839226,
           0.3665579734816261,
           0.37211700984090124
          ],
          "type": "data"
         },
         "legendgroup": "idvt",
         "line": {
          "color": "#DA16FF"
         },
         "marker": {
          "color": "#DA16FF",
          "size": 5
         },
         "mode": "lines+markers",
         "name": "idvt",
         "showlegend": false,
         "x": [
          0,
          1,
          2,
          3,
          4,
          5,
          6,
          7,
          8,
          9,
          10,
          11,
          12,
          13,
          14,
          15,
          16,
          17,
          18,
          19,
          20
         ],
         "y": [
          2.9614647503398692,
          2.2143353555694167,
          1.6912177816837297,
          1.468695083533428,
          1.267410180874407,
          1.2235694715667582,
          1.2097869592748165,
          1.1830959258902638,
          1.1578096528196569,
          1.1341035430193316,
          1.1121370057999596,
          1.091582237271604,
          1.0721889988689306,
          1.0537606424889734,
          1.0374343716403112,
          1.0206385639534703,
          1.0044175451274078,
          0.9886767195634906,
          0.9733320279072103,
          0.9583065000056149,
          0.9435271852781001
         ],
         "type": "scatter",
         "xaxis": "x2",
         "yaxis": "y2"
        },
        {
         "error_y": {
          "array": [
           0.19362413160693762,
           0.2639886999911138,
           0.3183469506399788,
           0.3483471585616392,
           0.2912107868565921,
           0.2707471203754943,
           0.2645085437959647,
           0.26129291092376916,
           0.2556940357966026,
           0.2509536171132808,
           0.2469211459697564,
           0.24348905411282473,
           0.24057902538570117,
           0.23813371261562843,
           0.23611160377425358,
           0.23448385748979592,
           0.23323247836494107,
           0.23234951307263554,
           0.23183715110956454,
           0.23170878149374982,
           0.23199124240477048
          ],
          "type": "data"
         },
         "legendgroup": "engbert",
         "line": {
          "color": "#222A2A"
         },
         "marker": {
          "color": "#222A2A",
          "size": 5
         },
         "mode": "lines+markers",
         "name": "engbert",
         "showlegend": false,
         "x": [
          0,
          1,
          2,
          3,
          4,
          5,
          6,
          7,
          8,
          9,
          10,
          11,
          12,
          13,
          14,
          15,
          16,
          17,
          18,
          19,
          20
         ],
         "y": [
          1.5273670934595884,
          0.5975252481087994,
          0.2214751995434439,
          -0.07422586388348604,
          -0.18331164413943293,
          -0.21852554607772337,
          -0.2877741089821839,
          -0.3802061499509827,
          -0.3970059318667728,
          -0.41303149724138744,
          -0.4284778232183292,
          -0.4434934538643955,
          -0.45819626091670373,
          -0.47268340051938257,
          -0.4870379585138636,
          -0.501333640431876,
          -0.5156382957844902,
          -0.5300167732851181,
          -0.544533454077438,
          -0.5592547457746238,
          -0.5742518192002449
         ],
         "type": "scatter",
         "xaxis": "x2",
         "yaxis": "y2"
        },
        {
         "error_y": {
          "array": [
           0.3574387362423438,
           0.43335817373860325,
           0.5924021402118891,
           0.6294706552652455,
           0.618954283527615,
           0.5176172060683997,
           0.5479289278056649,
           0.5652420934749905,
           0.6092228214890892,
           0.6710640553103665,
           0.6749659670170481,
           0.6976777818893606,
           0.6954488019920426,
           0.7176915968719338,
           0.7297709581664744,
           0.7265638198464899,
           0.7354721174538003,
           0.7162856005742619,
           0.7146714765867506,
           0.7121673111203931,
           0.7099599996172542
          ],
          "type": "data"
         },
         "legendgroup": "nh",
         "line": {
          "color": "#B68100"
         },
         "marker": {
          "color": "#B68100",
          "size": 5
         },
         "mode": "lines+markers",
         "name": "nh",
         "showlegend": false,
         "x": [
          0,
          1,
          2,
          3,
          4,
          5,
          6,
          7,
          8,
          9,
          10,
          11,
          12,
          13,
          14,
          15,
          16,
          17,
          18,
          19,
          20
         ],
         "y": [
          2.9340591003387853,
          2.538362249465711,
          2.089760488938985,
          1.7338481265262937,
          1.3281009468202056,
          1.1119391486250458,
          1.0180531912788513,
          0.9334633329139652,
          0.8230382001112736,
          0.7213256236707138,
          0.6871767520654959,
          0.6473355899366328,
          0.6308321869906733,
          0.5866918059824721,
          0.5445065173045333,
          0.5329017408263549,
          0.4988283884648642,
          0.4789240526605128,
          0.47207761315584457,
          0.4627147039072542,
          0.45350682744985643
         ],
         "type": "scatter",
         "xaxis": "x2",
         "yaxis": "y2"
        },
        {
         "error_y": {
          "array": [
           0.5973914533284183,
           0.4051469949544222,
           0.22630057784202487,
           0.23847279472402302,
           0.2229778914016202,
           0.2219150631841406,
           0.2165236866845453,
           0.21663924797065756,
           0.21100490901185331,
           0.2110634155039482,
           0.21108942520337515,
           0.21108800807996858,
           0.21106309592500874,
           0.21055560908954762,
           0.21065895471768045,
           0.21074793949568724,
           0.2108241469000674,
           0.21088890331956522,
           0.21094333206560423,
           0.21098839374420197,
           0.211024916951901
          ],
          "type": "data"
         },
         "legendgroup": "remodnav",
         "line": {
          "color": "#750D86"
         },
         "marker": {
          "color": "#750D86",
          "size": 5
         },
         "mode": "lines+markers",
         "name": "remodnav",
         "showlegend": false,
         "x": [
          0,
          1,
          2,
          3,
          4,
          5,
          6,
          7,
          8,
          9,
          10,
          11,
          12,
          13,
          14,
          15,
          16,
          17,
          18,
          19,
          20
         ],
         "y": [
          2.5194332684024845,
          1.950574679346769,
          1.694734936402422,
          1.6180064429061687,
          1.6020048512224592,
          1.5772132965907235,
          1.5434190519534172,
          1.5193199508652138,
          1.491600462056162,
          1.4725727411684328,
          1.4552380713166861,
          1.4392987785678915,
          1.424530061973524,
          1.4101009410864442,
          1.3974197422987538,
          1.3854934539631163,
          1.374231691389569,
          1.363559635824773,
          1.3534146311854056,
          1.3437436659499162,
          1.3345014769941306
         ],
         "type": "scatter",
         "xaxis": "x2",
         "yaxis": "y2"
        },
        {
         "error_y": {
          "array": [
           0.19102585391663615,
           0.1665343266448591,
           0.19784092039269424,
           0.28399332143204586,
           0.3602464835926435,
           0.3441014169647368,
           0.29191773737295607,
           0.2968291966660253,
           0.27981746266595403,
           0.30629278752667316,
           0.3064745466628164,
           0.2941396590325386,
           0.2876833458538495,
           0.2769173897525444,
           0.283536246235548,
           0.2791761883730565,
           0.2751624747636851,
           0.2714610896066793,
           0.2680438954501295,
           0.263595441946209,
           0.25989601490715875
          ],
          "type": "data"
         },
         "legendgroup": "Other GT",
         "line": {
          "color": "#bab0ac",
          "dash": "dot"
         },
         "marker": {
          "color": "#bab0ac",
          "size": 5
         },
         "mode": "lines+markers",
         "name": "Other GT",
         "showlegend": false,
         "x": [
          0,
          1,
          2,
          3,
          4,
          5,
          6,
          7,
          8,
          9,
          10,
          11,
          12,
          13,
          14,
          15,
          16,
          17,
          18,
          19,
          20
         ],
         "y": [
          1.4750525198122832,
          0.9511765379982424,
          0.7935264061775095,
          0.6565217091519114,
          0.5166879845980742,
          0.4809189564122786,
          0.41590290284801057,
          0.3552206323914584,
          0.3224507380239988,
          0.2192610011966624,
          0.17257360488981918,
          0.15894733165438768,
          0.15128820948313373,
          0.13536912832177547,
          0.09502913117998865,
          0.08954030820389296,
          0.08427996872138424,
          0.0792181385438632,
          0.07432951716262656,
          0.06662135835054457,
          0.05670990745447346
         ],
         "type": "scatter",
         "xaxis": "x3",
         "yaxis": "y3"
        },
        {
         "error_y": {
          "array": [
           0.5528655486250569,
           0.22595779209233072,
           0.2111196373383688,
           0.22787006242924104,
           0.2508917518234123,
           0.31621055111937496,
           0.2947220318702718,
           0.3110580028734045,
           0.3629146758668366,
           0.3643599751322805,
           0.3915783425610446,
           0.4119694834971124,
           0.4123268475921673,
           0.44407369714275613,
           0.48935677529096605,
           0.4862668353948593,
           0.49126046776814086,
           0.4903719778553362,
           0.4896549547447362,
           0.492551773545785,
           0.5057942549582201
          ],
          "type": "data"
         },
         "legendgroup": "ivt",
         "line": {
          "color": "#E15F99"
         },
         "marker": {
          "color": "#E15F99",
          "size": 5
         },
         "mode": "lines+markers",
         "name": "ivt",
         "showlegend": false,
         "x": [
          0,
          1,
          2,
          3,
          4,
          5,
          6,
          7,
          8,
          9,
          10,
          11,
          12,
          13,
          14,
          15,
          16,
          17,
          18,
          19,
          20
         ],
         "y": [
          2.335644608786281,
          1.439456480251712,
          1.0933262771967625,
          0.9199331331396575,
          0.7837115057403025,
          0.6463270671942029,
          0.5355291600348335,
          0.45759164220292403,
          0.3696230520249552,
          0.32404449590888007,
          0.2523235412964956,
          0.18834462524236245,
          0.11860994797341466,
          0.03540790635817994,
          -0.048049103200943445,
          -0.07575550231400582,
          -0.10947694188578905,
          -0.12726454026533218,
          -0.14505360622083238,
          -0.17698589540781046,
          -0.20838830728296695
         ],
         "type": "scatter",
         "xaxis": "x3",
         "yaxis": "y3"
        },
        {
         "error_y": {
          "array": [
           0.46507354389537875,
           0.21316519855494118,
           0.213571786452937,
           0.2379186493967786,
           0.30530389730869284,
           0.3545933900131852,
           0.3342895372216305,
           0.3511837494234086,
           0.39946803584701923,
           0.39905930985827803,
           0.4146392541621594,
           0.43554368202104704,
           0.43670985134583856,
           0.4683749290387771,
           0.5223852978312421,
           0.5258925170086378,
           0.5397171434966661,
           0.5400523254406207,
           0.5406930619902226,
           0.541224679138697,
           0.5423117418554045
          ],
          "type": "data"
         },
         "legendgroup": "ivvt",
         "line": {
          "color": "#1CA71C"
         },
         "marker": {
          "color": "#1CA71C",
          "size": 5
         },
         "mode": "lines+markers",
         "name": "ivvt",
         "showlegend": false,
         "x": [
          0,
          1,
          2,
          3,
          4,
          5,
          6,
          7,
          8,
          9,
          10,
          11,
          12,
          13,
          14,
          15,
          16,
          17,
          18,
          19,
          20
         ],
         "y": [
          2.081229646211866,
          1.2606988233467897,
          0.9363801019462527,
          0.7560316792563478,
          0.5996785850401104,
          0.4472739932805544,
          0.31010421245376885,
          0.20256380871198693,
          0.08730227063463729,
          0.04352704925576035,
          -0.028893324526553986,
          -0.09130435569293935,
          -0.16245310680635452,
          -0.23378137869328247,
          -0.3252387418101872,
          -0.359024177188346,
          -0.3959717709307339,
          -0.4167887873017273,
          -0.43802024495236064,
          -0.47402391589178067,
          -0.49616493284293045
         ],
         "type": "scatter",
         "xaxis": "x3",
         "yaxis": "y3"
        },
        {
         "error_y": {
          "array": [
           0.42440001703388014,
           0.45900044601972156,
           0.5023781378880694,
           0.5085477158062026,
           0.4431097060443409,
           0.40325284642464726,
           0.3689325545764227,
           0.3762266154569289,
           0.38268142512002146,
           0.274840616455973,
           0.28596702844825794,
           0.29836288167431746,
           0.3036171690148104,
           0.3064287676493757,
           0.30992776474187467,
           0.31623306902254933,
           0.3252329148968493,
           0.3291897457178771,
           0.33195197615132344,
           0.33446393970695815,
           0.3389870664238062
          ],
          "type": "data"
         },
         "legendgroup": "idt",
         "line": {
          "color": "#FB0D0D"
         },
         "marker": {
          "color": "#FB0D0D",
          "size": 5
         },
         "mode": "lines+markers",
         "name": "idt",
         "showlegend": false,
         "x": [
          0,
          1,
          2,
          3,
          4,
          5,
          6,
          7,
          8,
          9,
          10,
          11,
          12,
          13,
          14,
          15,
          16,
          17,
          18,
          19,
          20
         ],
         "y": [
          2.893182438120202,
          2.418152230924401,
          2.193358348776374,
          2.009347131877059,
          1.7772766773448005,
          1.5890638933419599,
          1.4440303460269461,
          1.3114934137230545,
          1.2315504747474524,
          1.148480805635143,
          1.12472286386997,
          1.1220753962288361,
          1.1078718536381922,
          1.0980578281226363,
          1.0812279491540056,
          1.0632308927945757,
          1.0456082480806996,
          1.0309293180708106,
          1.0190016954108874,
          1.0099820315177004,
          0.9965105854117592
         ],
         "type": "scatter",
         "xaxis": "x3",
         "yaxis": "y3"
        },
        {
         "error_y": {
          "array": [
           0.43688119880332366,
           0.4471153983772364,
           0.4837059287026902,
           0.4806438655693168,
           0.41972852353863704,
           0.38789311876837546,
           0.36588390992209563,
           0.3795925241823152,
           0.3860765488078754,
           0.3911373550420586,
           0.2889150751160128,
           0.30204188522844316,
           0.30909373184293193,
           0.31130952367982184,
           0.31488885296667224,
           0.3213828569975664,
           0.33003788052980415,
           0.3341144364963437,
           0.3369706531984599,
           0.33947855398765436,
           0.34411255435659877
          ],
          "type": "data"
         },
         "legendgroup": "idvt",
         "line": {
          "color": "#DA16FF"
         },
         "marker": {
          "color": "#DA16FF",
          "size": 5
         },
         "mode": "lines+markers",
         "name": "idvt",
         "showlegend": false,
         "x": [
          0,
          1,
          2,
          3,
          4,
          5,
          6,
          7,
          8,
          9,
          10,
          11,
          12,
          13,
          14,
          15,
          16,
          17,
          18,
          19,
          20
         ],
         "y": [
          2.8498179576284106,
          2.3519630719902347,
          2.1286841743290417,
          1.9490560978525964,
          1.7370704089792994,
          1.5724203414082214,
          1.4362349292472365,
          1.2992665740382505,
          1.216765000834708,
          1.1645647627921982,
          1.1054479898189586,
          1.0982823053688051,
          1.079518616964191,
          1.0697872456143693,
          1.0526772239091131,
          1.0343346010709114,
          1.0164562158331223,
          1.0015057478143419,
          0.9892509259819656,
          0.9798865934677025,
          0.9661455476293914
         ],
         "type": "scatter",
         "xaxis": "x3",
         "yaxis": "y3"
        },
        {
         "error_y": {
          "array": [
           0.5925762276640085,
           0.3727374277537356,
           0.28958682209448433,
           0.3180761358320565,
           0.3214444456713375,
           0.30270280722063464,
           0.2662857754932847,
           0.3225383865576089,
           0.3135924774686156,
           0.3086424320329817,
           0.29628676196966,
           0.2882651226010953,
           0.3330273957478478,
           0.371809382990528,
           0.35455343794522254,
           0.32584368961460103,
           0.2951101992132063,
           0.3041204057991809,
           0.30425001084581405,
           0.2675338722792088,
           0.26526595814909665
          ],
          "type": "data"
         },
         "legendgroup": "engbert",
         "line": {
          "color": "#222A2A"
         },
         "marker": {
          "color": "#222A2A",
          "size": 5
         },
         "mode": "lines+markers",
         "name": "engbert",
         "showlegend": false,
         "x": [
          0,
          1,
          2,
          3,
          4,
          5,
          6,
          7,
          8,
          9,
          10,
          11,
          12,
          13,
          14,
          15,
          16,
          17,
          18,
          19,
          20
         ],
         "y": [
          2.3067916652424594,
          1.5311499673556814,
          1.2081017162270271,
          1.0243880849673221,
          0.8631795469208644,
          0.7028462407138327,
          0.5664741688061743,
          0.4214684162671477,
          0.34094417503244306,
          0.2522162510522257,
          0.1797009391038614,
          0.0879623584457809,
          -0.03845764646005615,
          -0.13580175317454518,
          -0.2273325407305809,
          -0.28982665537262486,
          -0.3424893758542121,
          -0.4381924585917643,
          -0.4555152660773382,
          -0.5056739522287019,
          -0.5443028955799162
         ],
         "type": "scatter",
         "xaxis": "x3",
         "yaxis": "y3"
        },
        {
         "error_y": {
          "array": [
           0.638360466727247,
           0.6016491106457369,
           0.46553619526272766,
           0.4975563238858733,
           0.5220228239057276,
           0.5479967385629535,
           0.5678068998609465,
           0.5967702692104014,
           0.6014937169367712,
           0.6089843335535713,
           0.6151464788684605,
           0.6200937352002551,
           0.6250205009902681,
           0.631781811666746,
           0.6453803656673041,
           0.6554218062587307,
           0.6699895637283311,
           0.6900208292382302,
           0.6893409456124879,
           0.6912907620233791,
           0.7015111552841181
          ],
          "type": "data"
         },
         "legendgroup": "nh",
         "line": {
          "color": "#B68100"
         },
         "marker": {
          "color": "#B68100",
          "size": 5
         },
         "mode": "lines+markers",
         "name": "nh",
         "showlegend": false,
         "x": [
          0,
          1,
          2,
          3,
          4,
          5,
          6,
          7,
          8,
          9,
          10,
          11,
          12,
          13,
          14,
          15,
          16,
          17,
          18,
          19,
          20
         ],
         "y": [
          2.1744332331069307,
          1.560898604924615,
          1.3183740485189275,
          1.214499874734808,
          1.1119012215857285,
          1.0278756219831506,
          0.9518458590573958,
          0.8803464743416007,
          0.8396810253179862,
          0.8012905994151867,
          0.767759434369861,
          0.7383042849412906,
          0.7041758426825863,
          0.6763162317528469,
          0.6377138168089667,
          0.6067526518553692,
          0.5849143363022566,
          0.5507083332118695,
          0.5385114563907044,
          0.522237210785458,
          0.49686682837257495
         ],
         "type": "scatter",
         "xaxis": "x3",
         "yaxis": "y3"
        },
        {
         "error_y": {
          "array": [
           0.5074383975737571,
           0.48700131645733974,
           0.47297557455882866,
           0.47978708541599824,
           0.42694835592408453,
           0.2811134748515898,
           0.2475641713976681,
           0.22936667221505774,
           0.2286638757925209,
           0.23017219610911677,
           0.23167697249472696,
           0.2267023913386332,
           0.22891095439253498,
           0.2378139506955048,
           0.2421317067231339,
           0.2358134645582149,
           0.24375749959283616,
           0.24711736193014375,
           0.22633990431129256,
           0.22601297571634568,
           0.22936079615263025
          ],
          "type": "data"
         },
         "legendgroup": "remodnav",
         "line": {
          "color": "#750D86"
         },
         "marker": {
          "color": "#750D86",
          "size": 5
         },
         "mode": "lines+markers",
         "name": "remodnav",
         "showlegend": false,
         "x": [
          0,
          1,
          2,
          3,
          4,
          5,
          6,
          7,
          8,
          9,
          10,
          11,
          12,
          13,
          14,
          15,
          16,
          17,
          18,
          19,
          20
         ],
         "y": [
          2.6305599761495966,
          2.257026176073911,
          2.0628478677268016,
          1.9578856012451198,
          1.8263331332451216,
          1.6164007677246037,
          1.5100142864996056,
          1.4614200923630705,
          1.4280492353920766,
          1.3968083845982884,
          1.3756283765058275,
          1.3599925208407977,
          1.340921526061217,
          1.3281517837027392,
          1.321657695524863,
          1.329213169113585,
          1.307953809356755,
          1.2933555452800805,
          1.2917151395818391,
          1.2842963230362945,
          1.27396248730579
         ],
         "type": "scatter",
         "xaxis": "x3",
         "yaxis": "y3"
        },
        {
         "error_y": {
          "array": [
           0.19172727421224103,
           0.15593669787212816,
           0.1671130839621939,
           0.16569945498443187,
           0.24866031884665982,
           0.24364698721978395,
           0.3514779505023782,
           0.34988273222278266,
           0.3371863001769094,
           0.3324496319434914,
           0.31201938811651914,
           0.3051145535606694,
           0.299260762928642,
           0.2984183382377,
           0.2820044226167511,
           0.2784598283742402,
           0.27539253265884334,
           0.2727846759635867,
           0.27062770432840444,
           0.26920346918323007,
           0.2699318145943879
          ],
          "type": "data"
         },
         "legendgroup": "Other GT",
         "line": {
          "color": "#bab0ac",
          "dash": "dot"
         },
         "marker": {
          "color": "#bab0ac",
          "size": 5
         },
         "mode": "lines+markers",
         "name": "Other GT",
         "showlegend": false,
         "x": [
          0,
          1,
          2,
          3,
          4,
          5,
          6,
          7,
          8,
          9,
          10,
          11,
          12,
          13,
          14,
          15,
          16,
          17,
          18,
          19,
          20
         ],
         "y": [
          1.4739205511783298,
          0.9556993162303894,
          0.816984019890002,
          0.704044449118814,
          0.5908691816644202,
          0.5460883162161244,
          0.38512373421249047,
          0.32658250331660554,
          0.30770484072436843,
          0.22835845207966163,
          0.2073827080375509,
          0.1980956919450305,
          0.18957652502839586,
          0.18392817344093146,
          0.16794485481669794,
          0.16100819531807828,
          0.15434066473520655,
          0.14789724049263317,
          0.14163808767653108,
          0.13587896390351095,
          0.1322636987850651
         ],
         "type": "scatter",
         "xaxis": "x4",
         "yaxis": "y4"
        },
        {
         "error_y": {
          "array": [
           0.41075721084201094,
           0.35176856587027056,
           0.19033059333360125,
           0.22141345309848984,
           0.24160195991482633,
           0.28836949863329714,
           0.3345697970536383,
           0.3340494583576993,
           0.3418020357587836,
           0.3503843016933582,
           0.347066269616224,
           0.3769906902235252,
           0.40528920526162565,
           0.41156516558771433,
           0.4425678168339453,
           0.44749976116330614,
           0.4498213404811611,
           0.4725343887860633,
           0.5047726143112472,
           0.5069581969286556,
           0.5092264967446211
          ],
          "type": "data"
         },
         "legendgroup": "ivt",
         "line": {
          "color": "#E15F99"
         },
         "marker": {
          "color": "#E15F99",
          "size": 5
         },
         "mode": "lines+markers",
         "name": "ivt",
         "showlegend": false,
         "x": [
          0,
          1,
          2,
          3,
          4,
          5,
          6,
          7,
          8,
          9,
          10,
          11,
          12,
          13,
          14,
          15,
          16,
          17,
          18,
          19,
          20
         ],
         "y": [
          2.047709824681627,
          1.491848739665272,
          1.1401167523531235,
          0.9734834145270633,
          0.852123380204584,
          0.7199010339351444,
          0.564066868971094,
          0.4936496730103661,
          0.41411328719609225,
          0.3510070566034425,
          0.29803956032484463,
          0.23159512321959877,
          0.1500410618152699,
          0.09789882623677286,
          0.010009140115693347,
          -0.037781207710267974,
          -0.06831562946720977,
          -0.11583837979670661,
          -0.1669460515000169,
          -0.19098182465831778,
          -0.2080660842887169
         ],
         "type": "scatter",
         "xaxis": "x4",
         "yaxis": "y4"
        },
        {
         "error_y": {
          "array": [
           0.17584042838112957,
           0.15246690208613112,
           0.18903818786359747,
           0.2452540428289699,
           0.272455538455292,
           0.31395699841751235,
           0.3410446078955694,
           0.3363711304913174,
           0.35830129432284125,
           0.402737325027267,
           0.4052285407650028,
           0.422327567657513,
           0.4375853390488528,
           0.45000896554734104,
           0.4744320122932816,
           0.48692359595657847,
           0.49807065604001566,
           0.5221122522935302,
           0.5690415867119505,
           0.57343152171089,
           0.5776788524311995
          ],
          "type": "data"
         },
         "legendgroup": "ivvt",
         "line": {
          "color": "#1CA71C"
         },
         "marker": {
          "color": "#1CA71C",
          "size": 5
         },
         "mode": "lines+markers",
         "name": "ivvt",
         "showlegend": false,
         "x": [
          0,
          1,
          2,
          3,
          4,
          5,
          6,
          7,
          8,
          9,
          10,
          11,
          12,
          13,
          14,
          15,
          16,
          17,
          18,
          19,
          20
         ],
         "y": [
          1.8355431772267612,
          1.2838056201165586,
          0.9930844238097299,
          0.8074709403099615,
          0.6868831855220712,
          0.5436878756014351,
          0.3720404245226006,
          0.2859832529451184,
          0.17865686550592413,
          0.07798728068371363,
          0.009383743291902351,
          -0.06363297180859663,
          -0.13984745735075443,
          -0.21662641580376696,
          -0.28219276962330514,
          -0.33557354026509884,
          -0.3748784835745497,
          -0.4198352967206075,
          -0.4906274345179566,
          -0.517034789370778,
          -0.5390022390524984
         ],
         "type": "scatter",
         "xaxis": "x4",
         "yaxis": "y4"
        },
        {
         "error_y": {
          "array": [
           0.5118158530751439,
           0.5341106777866237,
           0.5321657876409961,
           0.5709515970713402,
           0.5032787372480494,
           0.4414299886446891,
           0.4473415756398469,
           0.45200346102968125,
           0.45416720789560033,
           0.30221995125347983,
           0.31293523035200527,
           0.31776857012177023,
           0.32201095897886783,
           0.32782135102288984,
           0.33340191508827577,
           0.3376225404571072,
           0.3497388491848702,
           0.35438292078506634,
           0.359221784785725,
           0.3646201018929236,
           0.37008437470905486
          ],
          "type": "data"
         },
         "legendgroup": "idt",
         "line": {
          "color": "#FB0D0D"
         },
         "marker": {
          "color": "#FB0D0D",
          "size": 5
         },
         "mode": "lines+markers",
         "name": "idt",
         "showlegend": false,
         "x": [
          0,
          1,
          2,
          3,
          4,
          5,
          6,
          7,
          8,
          9,
          10,
          11,
          12,
          13,
          14,
          15,
          16,
          17,
          18,
          19,
          20
         ],
         "y": [
          2.8267092150673996,
          2.423426617471663,
          2.1069303675011475,
          1.9422880989804614,
          1.7237787166778464,
          1.5303739198510848,
          1.4063263531000068,
          1.3061948086427697,
          1.2172616392889901,
          1.123383679675784,
          1.1093467136339095,
          1.1039063995013019,
          1.087115118826535,
          1.07568672832588,
          1.0670929013082848,
          1.0498749102649643,
          1.034353659178764,
          1.0187061843697847,
          1.0034485449160948,
          0.9893228817144971,
          0.9748731537044171
         ],
         "type": "scatter",
         "xaxis": "x4",
         "yaxis": "y4"
        },
        {
         "error_y": {
          "array": [
           0.45056567725827057,
           0.5211905363300955,
           0.5137542805752531,
           0.5571753317389544,
           0.5139587396775835,
           0.4540919119155337,
           0.4561079406522453,
           0.4648057282807947,
           0.458135948778643,
           0.45912524723721587,
           0.3147571450140788,
           0.3200962426706316,
           0.3248401098177913,
           0.32874182413557534,
           0.3352258018147494,
           0.339548197720899,
           0.35136636268502963,
           0.356126519411593,
           0.3610780657462396,
           0.3665579734816261,
           0.37211700984090124
          ],
          "type": "data"
         },
         "legendgroup": "idvt",
         "line": {
          "color": "#DA16FF"
         },
         "marker": {
          "color": "#DA16FF",
          "size": 5
         },
         "mode": "lines+markers",
         "name": "idvt",
         "showlegend": false,
         "x": [
          0,
          1,
          2,
          3,
          4,
          5,
          6,
          7,
          8,
          9,
          10,
          11,
          12,
          13,
          14,
          15,
          16,
          17,
          18,
          19,
          20
         ],
         "y": [
          2.8953108459159056,
          2.4292993739870536,
          2.059970282850333,
          1.892258735234439,
          1.6971278543477772,
          1.5114749155261082,
          1.3899866733293273,
          1.2850639331949214,
          1.1995434582861773,
          1.1589321022564403,
          1.091971276244562,
          1.0845920398766764,
          1.0667771071518442,
          1.0516706363378947,
          1.0413023007931252,
          1.0237771866754624,
          1.004324607940695,
          0.9883456582145699,
          0.9727572781797303,
          0.9583065000056149,
          0.9435271852781001
         ],
         "type": "scatter",
         "xaxis": "x4",
         "yaxis": "y4"
        },
        {
         "error_y": {
          "array": [
           0.5364387783086639,
           0.25200237584359503,
           0.23742839928188972,
           0.2587246932313221,
           0.26235710669071655,
           0.2041507610774652,
           0.1955797352828795,
           0.3201251772701504,
           0.30630591564014203,
           0.2890833219241559,
           0.27200253952466796,
           0.2787906803640257,
           0.29539193305705375,
           0.3743957136995439,
           0.33965467436182323,
           0.300048116489436,
           0.2825121904608807,
           0.28811331504453713,
           0.26603222048866754,
           0.21577566363270548,
           0.21473618479002426
          ],
          "type": "data"
         },
         "legendgroup": "engbert",
         "line": {
          "color": "#222A2A"
         },
         "marker": {
          "color": "#222A2A",
          "size": 5
         },
         "mode": "lines+markers",
         "name": "engbert",
         "showlegend": false,
         "x": [
          0,
          1,
          2,
          3,
          4,
          5,
          6,
          7,
          8,
          9,
          10,
          11,
          12,
          13,
          14,
          15,
          16,
          17,
          18,
          19,
          20
         ],
         "y": [
          2.185063645098292,
          1.50270957480849,
          1.23458625827498,
          1.0846224922370997,
          0.9426219458450645,
          0.8054193083256502,
          0.6381620923586862,
          0.4719645916797692,
          0.3853687301240382,
          0.31743407337050217,
          0.22326504815296122,
          0.11078704721076561,
          -0.013706526768212633,
          -0.12782400620441767,
          -0.19749172041066723,
          -0.25618617549903105,
          -0.3202130535487333,
          -0.39004112640056926,
          -0.42817760497345986,
          -0.5216059195180925,
          -0.543891808831583
         ],
         "type": "scatter",
         "xaxis": "x4",
         "yaxis": "y4"
        },
        {
         "error_y": {
          "array": [
           0.6968531349977733,
           0.5422510375221462,
           0.43205794494621214,
           0.45103694323045307,
           0.4719786824065035,
           0.49503380365255556,
           0.533915892160843,
           0.5521147036646368,
           0.5549269399676713,
           0.5687844904744646,
           0.5720029343788623,
           0.579249268669243,
           0.584779281060564,
           0.5906671428291775,
           0.6027638061857798,
           0.6075162860657146,
           0.6310055541620231,
           0.6312419372250767,
           0.6357847344601429,
           0.6499147150899379,
           0.649832525328624
          ],
          "type": "data"
         },
         "legendgroup": "nh",
         "line": {
          "color": "#B68100"
         },
         "marker": {
          "color": "#B68100",
          "size": 5
         },
         "mode": "lines+markers",
         "name": "nh",
         "showlegend": false,
         "x": [
          0,
          1,
          2,
          3,
          4,
          5,
          6,
          7,
          8,
          9,
          10,
          11,
          12,
          13,
          14,
          15,
          16,
          17,
          18,
          19,
          20
         ],
         "y": [
          2.200633962594339,
          1.5774328173197225,
          1.3417647560793895,
          1.251114589842343,
          1.1658284364070877,
          1.088238642631555,
          0.9844815067640436,
          0.9302763595610543,
          0.8624211451849627,
          0.819015436424982,
          0.79276173097786,
          0.7640810231805631,
          0.7394609184510376,
          0.7167792659384089,
          0.6825954144728384,
          0.6606765565104226,
          0.6213803031301766,
          0.6073183679415759,
          0.5850061492527938,
          0.5537473175971278,
          0.5417765626505727
         ],
         "type": "scatter",
         "xaxis": "x4",
         "yaxis": "y4"
        },
        {
         "error_y": {
          "array": [
           0.5392560563890996,
           0.4706225046666893,
           0.4397410974661304,
           0.3911918077046337,
           0.37912149107497,
           0.3869185069451597,
           0.3535535001945128,
           0.34741348076148626,
           0.3354196117474555,
           0.2632899145978709,
           0.26423447002893863,
           0.24058954899581877,
           0.2260202514147017,
           0.2202879242177385,
           0.22628313465320435,
           0.21388332646070454,
           0.22374805493901678,
           0.2232762325357664,
           0.2259475049680369,
           0.2119076676891825,
           0.2111262028238848
          ],
          "type": "data"
         },
         "legendgroup": "remodnav",
         "line": {
          "color": "#750D86"
         },
         "marker": {
          "color": "#750D86",
          "size": 5
         },
         "mode": "lines+markers",
         "name": "remodnav",
         "showlegend": false,
         "x": [
          0,
          1,
          2,
          3,
          4,
          5,
          6,
          7,
          8,
          9,
          10,
          11,
          12,
          13,
          14,
          15,
          16,
          17,
          18,
          19,
          20
         ],
         "y": [
          2.612347674530187,
          2.2258287703968533,
          2.039804463600426,
          1.919479316933961,
          1.8412117185934318,
          1.749922147492761,
          1.630519904734609,
          1.566218867855595,
          1.5345810697016218,
          1.4730945895775722,
          1.4511082477929425,
          1.4253984873302605,
          1.396115916283953,
          1.3887091717282158,
          1.3740525074058354,
          1.3739565887838374,
          1.3562738553751423,
          1.3456408762095575,
          1.341007245571028,
          1.3418271444470042,
          1.3326388797753683
         ],
         "type": "scatter",
         "xaxis": "x4",
         "yaxis": "y4"
        }
       ],
       "layout": {
        "template": {
         "data": {
          "histogram2dcontour": [
           {
            "type": "histogram2dcontour",
            "colorbar": {
             "outlinewidth": 0,
             "ticks": ""
            },
            "colorscale": [
             [
              0.0,
              "#0d0887"
             ],
             [
              0.1111111111111111,
              "#46039f"
             ],
             [
              0.2222222222222222,
              "#7201a8"
             ],
             [
              0.3333333333333333,
              "#9c179e"
             ],
             [
              0.4444444444444444,
              "#bd3786"
             ],
             [
              0.5555555555555556,
              "#d8576b"
             ],
             [
              0.6666666666666666,
              "#ed7953"
             ],
             [
              0.7777777777777778,
              "#fb9f3a"
             ],
             [
              0.8888888888888888,
              "#fdca26"
             ],
             [
              1.0,
              "#f0f921"
             ]
            ]
           }
          ],
          "choropleth": [
           {
            "type": "choropleth",
            "colorbar": {
             "outlinewidth": 0,
             "ticks": ""
            }
           }
          ],
          "histogram2d": [
           {
            "type": "histogram2d",
            "colorbar": {
             "outlinewidth": 0,
             "ticks": ""
            },
            "colorscale": [
             [
              0.0,
              "#0d0887"
             ],
             [
              0.1111111111111111,
              "#46039f"
             ],
             [
              0.2222222222222222,
              "#7201a8"
             ],
             [
              0.3333333333333333,
              "#9c179e"
             ],
             [
              0.4444444444444444,
              "#bd3786"
             ],
             [
              0.5555555555555556,
              "#d8576b"
             ],
             [
              0.6666666666666666,
              "#ed7953"
             ],
             [
              0.7777777777777778,
              "#fb9f3a"
             ],
             [
              0.8888888888888888,
              "#fdca26"
             ],
             [
              1.0,
              "#f0f921"
             ]
            ]
           }
          ],
          "heatmap": [
           {
            "type": "heatmap",
            "colorbar": {
             "outlinewidth": 0,
             "ticks": ""
            },
            "colorscale": [
             [
              0.0,
              "#0d0887"
             ],
             [
              0.1111111111111111,
              "#46039f"
             ],
             [
              0.2222222222222222,
              "#7201a8"
             ],
             [
              0.3333333333333333,
              "#9c179e"
             ],
             [
              0.4444444444444444,
              "#bd3786"
             ],
             [
              0.5555555555555556,
              "#d8576b"
             ],
             [
              0.6666666666666666,
              "#ed7953"
             ],
             [
              0.7777777777777778,
              "#fb9f3a"
             ],
             [
              0.8888888888888888,
              "#fdca26"
             ],
             [
              1.0,
              "#f0f921"
             ]
            ]
           }
          ],
          "heatmapgl": [
           {
            "type": "heatmapgl",
            "colorbar": {
             "outlinewidth": 0,
             "ticks": ""
            },
            "colorscale": [
             [
              0.0,
              "#0d0887"
             ],
             [
              0.1111111111111111,
              "#46039f"
             ],
             [
              0.2222222222222222,
              "#7201a8"
             ],
             [
              0.3333333333333333,
              "#9c179e"
             ],
             [
              0.4444444444444444,
              "#bd3786"
             ],
             [
              0.5555555555555556,
              "#d8576b"
             ],
             [
              0.6666666666666666,
              "#ed7953"
             ],
             [
              0.7777777777777778,
              "#fb9f3a"
             ],
             [
              0.8888888888888888,
              "#fdca26"
             ],
             [
              1.0,
              "#f0f921"
             ]
            ]
           }
          ],
          "contourcarpet": [
           {
            "type": "contourcarpet",
            "colorbar": {
             "outlinewidth": 0,
             "ticks": ""
            }
           }
          ],
          "contour": [
           {
            "type": "contour",
            "colorbar": {
             "outlinewidth": 0,
             "ticks": ""
            },
            "colorscale": [
             [
              0.0,
              "#0d0887"
             ],
             [
              0.1111111111111111,
              "#46039f"
             ],
             [
              0.2222222222222222,
              "#7201a8"
             ],
             [
              0.3333333333333333,
              "#9c179e"
             ],
             [
              0.4444444444444444,
              "#bd3786"
             ],
             [
              0.5555555555555556,
              "#d8576b"
             ],
             [
              0.6666666666666666,
              "#ed7953"
             ],
             [
              0.7777777777777778,
              "#fb9f3a"
             ],
             [
              0.8888888888888888,
              "#fdca26"
             ],
             [
              1.0,
              "#f0f921"
             ]
            ]
           }
          ],
          "surface": [
           {
            "type": "surface",
            "colorbar": {
             "outlinewidth": 0,
             "ticks": ""
            },
            "colorscale": [
             [
              0.0,
              "#0d0887"
             ],
             [
              0.1111111111111111,
              "#46039f"
             ],
             [
              0.2222222222222222,
              "#7201a8"
             ],
             [
              0.3333333333333333,
              "#9c179e"
             ],
             [
              0.4444444444444444,
              "#bd3786"
             ],
             [
              0.5555555555555556,
              "#d8576b"
             ],
             [
              0.6666666666666666,
              "#ed7953"
             ],
             [
              0.7777777777777778,
              "#fb9f3a"
             ],
             [
              0.8888888888888888,
              "#fdca26"
             ],
             [
              1.0,
              "#f0f921"
             ]
            ]
           }
          ],
          "mesh3d": [
           {
            "type": "mesh3d",
            "colorbar": {
             "outlinewidth": 0,
             "ticks": ""
            }
           }
          ],
          "scatter": [
           {
            "marker": {
             "line": {
              "color": "#283442"
             }
            },
            "type": "scatter"
           }
          ],
          "parcoords": [
           {
            "type": "parcoords",
            "line": {
             "colorbar": {
              "outlinewidth": 0,
              "ticks": ""
             }
            }
           }
          ],
          "scatterpolargl": [
           {
            "type": "scatterpolargl",
            "marker": {
             "colorbar": {
              "outlinewidth": 0,
              "ticks": ""
             }
            }
           }
          ],
          "bar": [
           {
            "error_x": {
             "color": "#f2f5fa"
            },
            "error_y": {
             "color": "#f2f5fa"
            },
            "marker": {
             "line": {
              "color": "rgb(17,17,17)",
              "width": 0.5
             },
             "pattern": {
              "fillmode": "overlay",
              "size": 10,
              "solidity": 0.2
             }
            },
            "type": "bar"
           }
          ],
          "scattergeo": [
           {
            "type": "scattergeo",
            "marker": {
             "colorbar": {
              "outlinewidth": 0,
              "ticks": ""
             }
            }
           }
          ],
          "scatterpolar": [
           {
            "type": "scatterpolar",
            "marker": {
             "colorbar": {
              "outlinewidth": 0,
              "ticks": ""
             }
            }
           }
          ],
          "histogram": [
           {
            "marker": {
             "pattern": {
              "fillmode": "overlay",
              "size": 10,
              "solidity": 0.2
             }
            },
            "type": "histogram"
           }
          ],
          "scattergl": [
           {
            "marker": {
             "line": {
              "color": "#283442"
             }
            },
            "type": "scattergl"
           }
          ],
          "scatter3d": [
           {
            "type": "scatter3d",
            "line": {
             "colorbar": {
              "outlinewidth": 0,
              "ticks": ""
             }
            },
            "marker": {
             "colorbar": {
              "outlinewidth": 0,
              "ticks": ""
             }
            }
           }
          ],
          "scattermapbox": [
           {
            "type": "scattermapbox",
            "marker": {
             "colorbar": {
              "outlinewidth": 0,
              "ticks": ""
             }
            }
           }
          ],
          "scatterternary": [
           {
            "type": "scatterternary",
            "marker": {
             "colorbar": {
              "outlinewidth": 0,
              "ticks": ""
             }
            }
           }
          ],
          "scattercarpet": [
           {
            "type": "scattercarpet",
            "marker": {
             "colorbar": {
              "outlinewidth": 0,
              "ticks": ""
             }
            }
           }
          ],
          "carpet": [
           {
            "aaxis": {
             "endlinecolor": "#A2B1C6",
             "gridcolor": "#506784",
             "linecolor": "#506784",
             "minorgridcolor": "#506784",
             "startlinecolor": "#A2B1C6"
            },
            "baxis": {
             "endlinecolor": "#A2B1C6",
             "gridcolor": "#506784",
             "linecolor": "#506784",
             "minorgridcolor": "#506784",
             "startlinecolor": "#A2B1C6"
            },
            "type": "carpet"
           }
          ],
          "table": [
           {
            "cells": {
             "fill": {
              "color": "#506784"
             },
             "line": {
              "color": "rgb(17,17,17)"
             }
            },
            "header": {
             "fill": {
              "color": "#2a3f5f"
             },
             "line": {
              "color": "rgb(17,17,17)"
             }
            },
            "type": "table"
           }
          ],
          "barpolar": [
           {
            "marker": {
             "line": {
              "color": "rgb(17,17,17)",
              "width": 0.5
             },
             "pattern": {
              "fillmode": "overlay",
              "size": 10,
              "solidity": 0.2
             }
            },
            "type": "barpolar"
           }
          ],
          "pie": [
           {
            "automargin": true,
            "type": "pie"
           }
          ]
         },
         "layout": {
          "autotypenumbers": "strict",
          "colorway": [
           "#636efa",
           "#EF553B",
           "#00cc96",
           "#ab63fa",
           "#FFA15A",
           "#19d3f3",
           "#FF6692",
           "#B6E880",
           "#FF97FF",
           "#FECB52"
          ],
          "font": {
           "color": "#f2f5fa"
          },
          "hovermode": "closest",
          "hoverlabel": {
           "align": "left"
          },
          "paper_bgcolor": "rgb(17,17,17)",
          "plot_bgcolor": "rgb(17,17,17)",
          "polar": {
           "bgcolor": "rgb(17,17,17)",
           "angularaxis": {
            "gridcolor": "#506784",
            "linecolor": "#506784",
            "ticks": ""
           },
           "radialaxis": {
            "gridcolor": "#506784",
            "linecolor": "#506784",
            "ticks": ""
           }
          },
          "ternary": {
           "bgcolor": "rgb(17,17,17)",
           "aaxis": {
            "gridcolor": "#506784",
            "linecolor": "#506784",
            "ticks": ""
           },
           "baxis": {
            "gridcolor": "#506784",
            "linecolor": "#506784",
            "ticks": ""
           },
           "caxis": {
            "gridcolor": "#506784",
            "linecolor": "#506784",
            "ticks": ""
           }
          },
          "coloraxis": {
           "colorbar": {
            "outlinewidth": 0,
            "ticks": ""
           }
          },
          "colorscale": {
           "sequential": [
            [
             0.0,
             "#0d0887"
            ],
            [
             0.1111111111111111,
             "#46039f"
            ],
            [
             0.2222222222222222,
             "#7201a8"
            ],
            [
             0.3333333333333333,
             "#9c179e"
            ],
            [
             0.4444444444444444,
             "#bd3786"
            ],
            [
             0.5555555555555556,
             "#d8576b"
            ],
            [
             0.6666666666666666,
             "#ed7953"
            ],
            [
             0.7777777777777778,
             "#fb9f3a"
            ],
            [
             0.8888888888888888,
             "#fdca26"
            ],
            [
             1.0,
             "#f0f921"
            ]
           ],
           "sequentialminus": [
            [
             0.0,
             "#0d0887"
            ],
            [
             0.1111111111111111,
             "#46039f"
            ],
            [
             0.2222222222222222,
             "#7201a8"
            ],
            [
             0.3333333333333333,
             "#9c179e"
            ],
            [
             0.4444444444444444,
             "#bd3786"
            ],
            [
             0.5555555555555556,
             "#d8576b"
            ],
            [
             0.6666666666666666,
             "#ed7953"
            ],
            [
             0.7777777777777778,
             "#fb9f3a"
            ],
            [
             0.8888888888888888,
             "#fdca26"
            ],
            [
             1.0,
             "#f0f921"
            ]
           ],
           "diverging": [
            [
             0,
             "#8e0152"
            ],
            [
             0.1,
             "#c51b7d"
            ],
            [
             0.2,
             "#de77ae"
            ],
            [
             0.3,
             "#f1b6da"
            ],
            [
             0.4,
             "#fde0ef"
            ],
            [
             0.5,
             "#f7f7f7"
            ],
            [
             0.6,
             "#e6f5d0"
            ],
            [
             0.7,
             "#b8e186"
            ],
            [
             0.8,
             "#7fbc41"
            ],
            [
             0.9,
             "#4d9221"
            ],
            [
             1,
             "#276419"
            ]
           ]
          },
          "xaxis": {
           "gridcolor": "#283442",
           "linecolor": "#506784",
           "ticks": "",
           "title": {
            "standoff": 15
           },
           "zerolinecolor": "#283442",
           "automargin": true,
           "zerolinewidth": 2
          },
          "yaxis": {
           "gridcolor": "#283442",
           "linecolor": "#506784",
           "ticks": "",
           "title": {
            "standoff": 15
           },
           "zerolinecolor": "#283442",
           "automargin": true,
           "zerolinewidth": 2
          },
          "scene": {
           "xaxis": {
            "backgroundcolor": "rgb(17,17,17)",
            "gridcolor": "#506784",
            "linecolor": "#506784",
            "showbackground": true,
            "ticks": "",
            "zerolinecolor": "#C8D4E3",
            "gridwidth": 2
           },
           "yaxis": {
            "backgroundcolor": "rgb(17,17,17)",
            "gridcolor": "#506784",
            "linecolor": "#506784",
            "showbackground": true,
            "ticks": "",
            "zerolinecolor": "#C8D4E3",
            "gridwidth": 2
           },
           "zaxis": {
            "backgroundcolor": "rgb(17,17,17)",
            "gridcolor": "#506784",
            "linecolor": "#506784",
            "showbackground": true,
            "ticks": "",
            "zerolinecolor": "#C8D4E3",
            "gridwidth": 2
           }
          },
          "shapedefaults": {
           "line": {
            "color": "#f2f5fa"
           }
          },
          "annotationdefaults": {
           "arrowcolor": "#f2f5fa",
           "arrowhead": 0,
           "arrowwidth": 1
          },
          "geo": {
           "bgcolor": "rgb(17,17,17)",
           "landcolor": "rgb(17,17,17)",
           "subunitcolor": "#506784",
           "showland": true,
           "showlakes": true,
           "lakecolor": "rgb(17,17,17)"
          },
          "title": {
           "x": 0.05
          },
          "updatemenudefaults": {
           "bgcolor": "#506784",
           "borderwidth": 0
          },
          "sliderdefaults": {
           "bgcolor": "#C8D4E3",
           "borderwidth": 1,
           "bordercolor": "rgb(17,17,17)",
           "tickwidth": 0
          },
          "mapbox": {
           "style": "dark"
          }
         }
        },
        "xaxis": {
         "anchor": "y",
         "domain": [
          0.0,
          0.485
         ],
         "matches": "x3",
         "showticklabels": false
        },
        "yaxis": {
         "anchor": "x",
         "domain": [
          0.5125,
          1.0
         ],
         "matches": "y3",
         "title": {
          "text": "Criterion"
         }
        },
        "xaxis2": {
         "anchor": "y2",
         "domain": [
          0.495,
          0.98
         ],
         "matches": "x3",
         "showticklabels": false
        },
        "yaxis2": {
         "anchor": "x2",
         "domain": [
          0.5125,
          1.0
         ],
         "matches": "y3",
         "showticklabels": false
        },
        "xaxis3": {
         "anchor": "y3",
         "domain": [
          0.0,
          0.485
         ],
         "title": {
          "text": "Threshold (samples)"
         }
        },
        "yaxis3": {
         "anchor": "x3",
         "domain": [
          0.0,
          0.4875
         ],
         "title": {
          "text": "Criterion"
         }
        },
        "xaxis4": {
         "anchor": "y4",
         "domain": [
          0.495,
          0.98
         ],
         "matches": "x3",
         "title": {
          "text": "Threshold (samples)"
         }
        },
        "yaxis4": {
         "anchor": "x4",
         "domain": [
          0.0,
          0.4875
         ],
         "matches": "y3",
         "showticklabels": false
        },
        "annotations": [
         {
          "font": {
           "size": 16
          },
          "showarrow": false,
          "text": "RA",
          "x": 0.2425,
          "xanchor": "center",
          "xref": "paper",
          "y": 1.0,
          "yanchor": "bottom",
          "yref": "paper"
         },
         {
          "font": {
           "size": 16
          },
          "showarrow": false,
          "text": "MN",
          "x": 0.7375,
          "xanchor": "center",
          "xref": "paper",
          "y": 1.0,
          "yanchor": "bottom",
          "yref": "paper"
         },
         {
          "font": {
           "size": 16
          },
          "showarrow": false,
          "text": "Onset",
          "textangle": 90,
          "x": 0.98,
          "xanchor": "left",
          "xref": "paper",
          "y": 0.75625,
          "yanchor": "middle",
          "yref": "paper"
         },
         {
          "font": {
           "size": 16
          },
          "showarrow": false,
          "text": "Offset",
          "textangle": 90,
          "x": 0.98,
          "xanchor": "left",
          "xref": "paper",
          "y": 0.24375,
          "yanchor": "middle",
          "yref": "paper"
         }
        ],
        "legend": {
         "orientation": "h",
         "yanchor": "bottom",
         "y": -0.3,
         "xanchor": "left",
         "x": 0.25
        },
        "title": {
         "text": "criterion (fixations)"
        },
        "width": 1400,
        "height": 500,
        "paper_bgcolor": "rgba(0, 0, 0, 0)",
        "plot_bgcolor": "rgba(0, 0, 0, 0)"
       },
       "config": {
        "plotlyServerURL": "https://plot.ly"
       }
      },
      "text/html": [
       "<div>                            <div id=\"3851ed14-4bae-4f9c-b82e-294754fb776d\" class=\"plotly-graph-div\" style=\"height:500px; width:1400px;\"></div>            <script type=\"text/javascript\">                require([\"plotly\"], function(Plotly) {                    window.PLOTLYENV=window.PLOTLYENV || {};                                    if (document.getElementById(\"3851ed14-4bae-4f9c-b82e-294754fb776d\")) {                    Plotly.newPlot(                        \"3851ed14-4bae-4f9c-b82e-294754fb776d\",                        [{\"error_y\":{\"array\":[0.15787940879683698,0.27864268076345367,0.3937401890318506,0.3582978316123874,0.3480421690365528,0.3335909439369721,0.3215848506111091,0.31135069116310005,0.30246546526724577,0.30630964265865024,0.2997912156745653,0.2939482215062884,0.28867658403709506,0.2838961025635905,0.2850342301406396,0.2812952082242733,0.27786323279261615,0.2747066074348935,0.2717990164317405,0.26911841809104775,0.26664621313358666],\"type\":\"data\"},\"legendgroup\":\"Other GT\",\"line\":{\"color\":\"#bab0ac\",\"dash\":\"dot\"},\"marker\":{\"color\":\"#bab0ac\",\"size\":5},\"mode\":\"lines+markers\",\"name\":\"Other GT\",\"showlegend\":true,\"x\":[0,1,2,3,4,5,6,7,8,9,10,11,12,13,14,15,16,17,18,19,20],\"y\":[1.2623254798930041,0.7597635364421309,0.48056716372747854,0.3164443220641024,0.21370302482377082,0.19858066432869353,0.18565817204513854,0.17431844505264651,0.1641722944279303,0.11876475000756379,0.11154967567044251,0.10484801769277811,0.09857298366482521,0.09265719558366671,0.06428476451920259,0.05989071606128466,0.05567962215936443,0.05162728311337712,0.04771327160799795,0.043920141857035126,0.04023283292473889],\"type\":\"scatter\",\"xaxis\":\"x\",\"yaxis\":\"y\"},{\"error_y\":{\"array\":[0.5231636019987301,0.28599120203928063,0.4780130345374096,0.5273451313492843,0.5740997265400866,0.5713009691924056,0.5622599259252201,0.5553182647346302,0.5493008342875854,0.5692221153522623,0.5714193358270405,0.5674572251340533,0.5639554352295886,0.5608431513639385,0.5580634690103631,0.5555693194976775,0.5533205355443315,0.5512815995117167,0.5494197674987434,0.5477033349986368,0.5460998355341532],\"type\":\"data\"},\"legendgroup\":\"ivt\",\"line\":{\"color\":\"#E15F99\"},\"marker\":{\"color\":\"#E15F99\",\"size\":5},\"mode\":\"lines+markers\",\"name\":\"ivt\",\"showlegend\":true,\"x\":[0,1,2,3,4,5,6,7,8,9,10,11,12,13,14,15,16,17,18,19,20],\"y\":[2.4381330147510885,0.992915333476873,0.4734552830827865,0.27655488082067087,0.11326405073199494,0.050732692999854466,0.025741545281128098,-0.008121181027184404,-0.029104332796658722,-0.0743147778203208,-0.08712145694272033,-0.10413075093470622,-0.1206119460638447,-0.13669796358207326,-0.15250208191346878,-0.16812494041562182,-0.18366004860444235,-0.1991986374385655,-0.2148345672730428,-0.23067010132029853,-0.24682374366218646],\"type\":\"scatter\",\"xaxis\":\"x\",\"yaxis\":\"y\"},{\"error_y\":{\"array\":[0.5447090417694624,0.314114898465703,0.5263713737625543,0.5749015517353322,0.5752650728376322,0.5645335789523972,0.5794582220290697,0.5913357464459171,0.5909780483769085,0.5879060617885458,0.5822779074417062,0.5803826962450482,0.5789254444789294,0.5778545158455539,0.5771312075847183,0.5767266855823147,0.5766200333656816,0.5767971199964177,0.5772502022308691,0.5779784227297464,0.5789898454689224],\"type\":\"data\"},\"legendgroup\":\"ivvt\",\"line\":{\"color\":\"#1CA71C\"},\"marker\":{\"color\":\"#1CA71C\",\"size\":5},\"mode\":\"lines+markers\",\"name\":\"ivvt\",\"showlegend\":true,\"x\":[0,1,2,3,4,5,6,7,8,9,10,11,12,13,14,15,16,17,18,19,20],\"y\":[2.333461320775629,0.8980956870832124,0.2733816552058171,0.04333223344098745,-0.05162948056477833,-0.1405041595637019,-0.20201269083616819,-0.2567970260617305,-0.3000922179290813,-0.3201227121171516,-0.34281214570375457,-0.361724606897216,-0.38034920854799537,-0.39882395607389426,-0.41727343338625156,-0.43581600446161006,-0.4545701707888387,-0.47366107455471707,-0.49322824558366973,-0.5134362149668584,-0.5344909615688765],\"type\":\"scatter\",\"xaxis\":\"x\",\"yaxis\":\"y\"},{\"error_y\":{\"array\":[0.21923482666153143,0.40381455295533875,0.3580856233113221,0.36658205414587697,0.24123751541855099,0.2676795199684738,0.28261903215290446,0.2845030877811829,0.2873040106826487,0.2923536133966211,0.29593163860749133,0.3013566873831236,0.30508215677330774,0.30897131897153757,0.3116275163556678,0.31545285901599895,0.32256701471976956,0.32665127878992983,0.33090024481771435,0.33360930670820466,0.3341729397095997],\"type\":\"data\"},\"legendgroup\":\"idt\",\"line\":{\"color\":\"#FB0D0D\"},\"marker\":{\"color\":\"#FB0D0D\",\"size\":5},\"mode\":\"lines+markers\",\"name\":\"idt\",\"showlegend\":true,\"x\":[0,1,2,3,4,5,6,7,8,9,10,11,12,13,14,15,16,17,18,19,20],\"y\":[3.0303176581653166,2.243257402621839,1.6675672835513555,1.4775046146028916,1.3362585457307126,1.2689437470876412,1.2392592449911173,1.2165853944607052,1.1901664817178292,1.1708183299813133,1.149414465199394,1.1260774628296732,1.1074181566610972,1.0890390923721445,1.0733201751539176,1.0575041499760267,1.0446068778995015,1.0299974021892946,1.0158245796246117,1.0068336326794307,0.9992237753118982],\"type\":\"scatter\",\"xaxis\":\"x\",\"yaxis\":\"y\"},{\"error_y\":{\"array\":[0.22746952170682205,0.36781356367563034,0.3715247729877808,0.37516004797595204,0.25475830914282516,0.281326127060405,0.2933732853718135,0.29393168218309507,0.2967474850450115,0.3015382180902069,0.3051860048000485,0.30885830986917995,0.3125768325854734,0.3163622598956959,0.3190811054973992,0.3228879072074399,0.32680661137299183,0.3308598119327712,0.3350735128258119,0.33947855398765436,0.34411255435659877],\"type\":\"data\"},\"legendgroup\":\"idvt\",\"line\":{\"color\":\"#DA16FF\"},\"marker\":{\"color\":\"#DA16FF\",\"size\":5},\"mode\":\"lines+markers\",\"name\":\"idvt\",\"showlegend\":true,\"x\":[0,1,2,3,4,5,6,7,8,9,10,11,12,13,14,15,16,17,18,19,20],\"y\":[3.0268055543873262,2.1009216675678557,1.6403156134366246,1.4471489433738653,1.305843465260927,1.245437972739424,1.2145137254926364,1.1925110798263359,1.166363117213779,1.147280801151361,1.1261393424427284,1.1064141344728093,1.0878601397825385,1.0702855585825186,1.0544435811140542,1.0384995449585135,1.0231562260370686,1.0083239756178566,0.9939242853700081,0.9798865934677025,0.9661455476293914],\"type\":\"scatter\",\"xaxis\":\"x\",\"yaxis\":\"y\"},{\"error_y\":{\"array\":[0.18082995854163533,0.2675472252883221,0.36013993493559804,0.32168945911480556,0.2729172881689149,0.24645754340158924,0.2400513611241047,0.2426474709745204,0.2552508498149749,0.2515159335664494,0.2484414008418992,0.23414185779204189,0.23272887109082463,0.2317481877699405,0.23120221567993693,0.23111960426667386,0.23156294929132212,0.23264408737678755,0.23455349016004798,0.23761912457019865,0.2424350850767155],\"type\":\"data\"},\"legendgroup\":\"engbert\",\"line\":{\"color\":\"#222A2A\"},\"marker\":{\"color\":\"#222A2A\",\"size\":5},\"mode\":\"lines+markers\",\"name\":\"engbert\",\"showlegend\":true,\"x\":[0,1,2,3,4,5,6,7,8,9,10,11,12,13,14,15,16,17,18,19,20],\"y\":[1.506542451234265,0.5769550658190258,0.050315761873262844,-0.08009969066335337,-0.1859525564197572,-0.22716303048546313,-0.28059373210759503,-0.32685689427539977,-0.37044956631636816,-0.38589945900646355,-0.4008863601165709,-0.434213793268538,-0.44795523721994757,-0.46166527973638904,-0.4754387433864927,-0.4893709355416108,-0.5035641878293158,-0.5181362037266217,-0.5332326122951294,-0.5490487350141193,-0.5658729952077244],\"type\":\"scatter\",\"xaxis\":\"x\",\"yaxis\":\"y\"},{\"error_y\":{\"array\":[0.4031878293164053,0.5307522906103135,0.7266757115989901,0.6690400527717388,0.6370703831521979,0.5596362444542239,0.5782052015679741,0.6230898912944244,0.6791072701529433,0.6984896492302026,0.7405582550816088,0.7474809131672482,0.7618235425360022,0.7711473904517187,0.7747904436998043,0.7711067706951525,0.7784948790557418,0.7641881562094536,0.7611160219979264,0.7583053803970056,0.7557528368709447],\"type\":\"data\"},\"legendgroup\":\"nh\",\"line\":{\"color\":\"#B68100\"},\"marker\":{\"color\":\"#B68100\",\"size\":5},\"mode\":\"lines+markers\",\"name\":\"nh\",\"showlegend\":true,\"x\":[0,1,2,3,4,5,6,7,8,9,10,11,12,13,14,15,16,17,18,19,20],\"y\":[2.9229922988050894,2.4223359389489842,2.0826842258785976,1.6472392084086434,1.2695713944253995,1.0745633171295352,0.9710352106642555,0.8697864885328025,0.75384073705941,0.6917195399846553,0.6106975147660912,0.5714564831638111,0.5379522749958803,0.5049389845274714,0.4739181075077209,0.4641116733076867,0.43921271957305824,0.4236127503114723,0.4153521672823447,0.40727726354333765,0.3993506843670402],\"type\":\"scatter\",\"xaxis\":\"x\",\"yaxis\":\"y\"},{\"error_y\":{\"array\":[0.515017645196378,0.45245394722972543,0.22421940885167915,0.22314821960175038,0.2203046950431643,0.2202323670197192,0.21187163453220195,0.21316241154594054,0.20984872562727377,0.21130490397329688,0.2128570971262864,0.21453181805594337,0.21635868521779364,0.21837223507477807,0.20859848166078662,0.21031570101363997,0.21226403541101016,0.21450099482598198,0.21710360603374804,0.22017835486708817,0.2238779834575286],\"type\":\"data\"},\"legendgroup\":\"remodnav\",\"line\":{\"color\":\"#750D86\"},\"marker\":{\"color\":\"#750D86\",\"size\":5},\"mode\":\"lines+markers\",\"name\":\"remodnav\",\"showlegend\":true,\"x\":[0,1,2,3,4,5,6,7,8,9,10,11,12,13,14,15,16,17,18,19,20],\"y\":[2.410285810731789,1.9176109048627061,1.6461791218212958,1.5826895304099406,1.5590358737350847,1.5311547535745613,1.4990077020753192,1.4740325834650916,1.4471139108692603,1.4270527116891822,1.4086412458970317,1.3915733494115343,1.3756148462372297,1.3605808701208593,1.3522279523020573,1.3390047627505803,1.3263452407730782,1.3141553161762352,1.302347002457058,1.2908329651106754,1.2795197754830865],\"type\":\"scatter\",\"xaxis\":\"x\",\"yaxis\":\"y\"},{\"error_y\":{\"array\":[0.1626562308317219,0.4360494167719041,0.4094206407712618,0.39846810745070144,0.37385954921189146,0.3596956289829101,0.34793035133159145,0.33790937942624255,0.3292240249309664,0.3099288757308343,0.30348833424644667,0.2978066621100232,0.29278393220782045,0.288346207391404,0.27839462557277794,0.27542013866347403,0.2729065966920904,0.2708359049986289,0.2691991360623013,0.2679961215370907,0.26723561550224767],\"type\":\"data\"},\"legendgroup\":\"Other GT\",\"line\":{\"color\":\"#bab0ac\",\"dash\":\"dot\"},\"marker\":{\"color\":\"#bab0ac\",\"size\":5},\"mode\":\"lines+markers\",\"name\":\"Other GT\",\"showlegend\":false,\"x\":[0,1,2,3,4,5,6,7,8,9,10,11,12,13,14,15,16,17,18,19,20],\"y\":[1.2531714849531537,0.6771416798244266,0.5190178816369899,0.3561176922319615,0.28133069393832055,0.26465773110281704,0.2504367271770667,0.2379733237301435,0.2268292537494794,0.21000847958190347,0.20091205441442858,0.19247892457949495,0.18459156007662583,0.17715784172751745,0.16368643516760745,0.1573512144715376,0.15128773701856715,0.14545181927386786,0.1398044109621151,0.13431005713982366,0.12893559562735102],\"type\":\"scatter\",\"xaxis\":\"x2\",\"yaxis\":\"y2\"},{\"error_y\":{\"array\":[0.616744209745224,0.31813959420281573,0.379819372340033,0.4491175909744128,0.5323467053666567,0.5488162390439574,0.5422138408725178,0.5409802666274591,0.5720743921522694,0.5688318712525636,0.5662999497477471,0.5643687059631008,0.5629575032645844,0.5620062827897379,0.5614700509467738,0.5613153111324088,0.5615177508569856,0.5620607999813501,0.5629348572179105,0.5641371080677821,0.565671969895861],\"type\":\"data\"},\"legendgroup\":\"ivt\",\"line\":{\"color\":\"#E15F99\"},\"marker\":{\"color\":\"#E15F99\",\"size\":5},\"mode\":\"lines+markers\",\"name\":\"ivt\",\"showlegend\":false,\"x\":[0,1,2,3,4,5,6,7,8,9,10,11,12,13,14,15,16,17,18,19,20],\"y\":[2.307441426456392,1.0169376720720658,0.5910745153129289,0.37090532942431925,0.17277484747762925,0.04860073284474325,0.021500124016708342,-0.015113922750553519,-0.07377658784556561,-0.0934662132176338,-0.11211001498976844,-0.12992907309195975,-0.1470947474889923,-0.16374424720926606,-0.1799908550393147,-0.19593096359597367,-0.21164915985540178,-0.22722211456087016,-0.24272177754218102,-0.25821825261090553,-0.27378268480347434],\"type\":\"scatter\",\"xaxis\":\"x2\",\"yaxis\":\"y2\"},{\"error_y\":{\"array\":[0.5546587321166502,0.3462560042903131,0.39326738344771683,0.4760023002717804,0.5759543561673913,0.5614686130878327,0.5875927444992642,0.605710892787397,0.6037166129354904,0.6024684883031801,0.6018534807057009,0.6017945042778878,0.6022392662053284,0.6031536543585152,0.6045177871026557,0.6063237544742737,0.608574549513379,0.6112839589788909,0.6144773686635114,0.6181936056469891,0.6224881425072877],\"type\":\"data\"},\"legendgroup\":\"ivvt\",\"line\":{\"color\":\"#1CA71C\"},\"marker\":{\"color\":\"#1CA71C\",\"size\":5},\"mode\":\"lines+markers\",\"name\":\"ivvt\",\"showlegend\":false,\"x\":[0,1,2,3,4,5,6,7,8,9,10,11,12,13,14,15,16,17,18,19,20],\"y\":[2.1575705968656727,0.9195744094204158,0.42615432076330223,0.16432584837136627,-0.043327035260491385,-0.1855253673583714,-0.2840040153721303,-0.3458126284455939,-0.36705362804166264,-0.38737604621998634,-0.40702984598946185,-0.4262078206410314,-0.4450655161271043,-0.463733937551276,-0.4823281782863109,-0.5009536940053569,-0.5197112451235589,-0.5387011808813268,-0.5580275773349991,-0.5778027041294729,-0.5981523668551804],\"type\":\"scatter\",\"xaxis\":\"x2\",\"yaxis\":\"y2\"},{\"error_y\":{\"array\":[0.12880824963555812,0.49693108555490934,0.4123746338656509,0.4311229351923135,0.2683368485008649,0.28589321675011675,0.2995328527209237,0.30183027064655954,0.30419061255285496,0.30841733624610423,0.31485770270340024,0.3191680291767062,0.3232515181968,0.33052276867191316,0.3337889901069991,0.33829139886177456,0.3458498973445744,0.3506492826560262,0.35565041364477096,0.36089363637916544,0.3648657868458331],\"type\":\"data\"},\"legendgroup\":\"idt\",\"line\":{\"color\":\"#FB0D0D\"},\"marker\":{\"color\":\"#FB0D0D\",\"size\":5},\"mode\":\"lines+markers\",\"name\":\"idt\",\"showlegend\":false,\"x\":[0,1,2,3,4,5,6,7,8,9,10,11,12,13,14,15,16,17,18,19,20],\"y\":[3.089277561451381,2.3363353138502028,1.735251640412208,1.4989291391729112,1.2955770703750173,1.2482774764953057,1.2283941313748503,1.2079238430190156,1.1856648107586942,1.1617703131035542,1.1452707889169709,1.1246275953169467,1.1043426034247796,1.0827799103112616,1.0662213156645914,1.049600617643754,1.030631274436522,1.0150918387635792,0.9999484742329331,0.9851247918300797,0.9776778069365077],\"type\":\"scatter\",\"xaxis\":\"x2\",\"yaxis\":\"y2\"},{\"error_y\":{\"array\":[0.35989871732282347,0.50124583624663,0.4196512620235893,0.4423315150733058,0.2855488420027263,0.29909231615181747,0.31424436952889623,0.3144707532405315,0.316897891239113,0.3212781294673193,0.3256532686203187,0.33005379752251407,0.33450713611969035,0.33903940043736924,0.34217427674269024,0.34671836966148134,0.35139800018525286,0.3562416201768335,0.36128198835839226,0.3665579734816261,0.37211700984090124],\"type\":\"data\"},\"legendgroup\":\"idvt\",\"line\":{\"color\":\"#DA16FF\"},\"marker\":{\"color\":\"#DA16FF\",\"size\":5},\"mode\":\"lines+markers\",\"name\":\"idvt\",\"showlegend\":false,\"x\":[0,1,2,3,4,5,6,7,8,9,10,11,12,13,14,15,16,17,18,19,20],\"y\":[2.9614647503398692,2.2143353555694167,1.6912177816837297,1.468695083533428,1.267410180874407,1.2235694715667582,1.2097869592748165,1.1830959258902638,1.1578096528196569,1.1341035430193316,1.1121370057999596,1.091582237271604,1.0721889988689306,1.0537606424889734,1.0374343716403112,1.0206385639534703,1.0044175451274078,0.9886767195634906,0.9733320279072103,0.9583065000056149,0.9435271852781001],\"type\":\"scatter\",\"xaxis\":\"x2\",\"yaxis\":\"y2\"},{\"error_y\":{\"array\":[0.19362413160693762,0.2639886999911138,0.3183469506399788,0.3483471585616392,0.2912107868565921,0.2707471203754943,0.2645085437959647,0.26129291092376916,0.2556940357966026,0.2509536171132808,0.2469211459697564,0.24348905411282473,0.24057902538570117,0.23813371261562843,0.23611160377425358,0.23448385748979592,0.23323247836494107,0.23234951307263554,0.23183715110956454,0.23170878149374982,0.23199124240477048],\"type\":\"data\"},\"legendgroup\":\"engbert\",\"line\":{\"color\":\"#222A2A\"},\"marker\":{\"color\":\"#222A2A\",\"size\":5},\"mode\":\"lines+markers\",\"name\":\"engbert\",\"showlegend\":false,\"x\":[0,1,2,3,4,5,6,7,8,9,10,11,12,13,14,15,16,17,18,19,20],\"y\":[1.5273670934595884,0.5975252481087994,0.2214751995434439,-0.07422586388348604,-0.18331164413943293,-0.21852554607772337,-0.2877741089821839,-0.3802061499509827,-0.3970059318667728,-0.41303149724138744,-0.4284778232183292,-0.4434934538643955,-0.45819626091670373,-0.47268340051938257,-0.4870379585138636,-0.501333640431876,-0.5156382957844902,-0.5300167732851181,-0.544533454077438,-0.5592547457746238,-0.5742518192002449],\"type\":\"scatter\",\"xaxis\":\"x2\",\"yaxis\":\"y2\"},{\"error_y\":{\"array\":[0.3574387362423438,0.43335817373860325,0.5924021402118891,0.6294706552652455,0.618954283527615,0.5176172060683997,0.5479289278056649,0.5652420934749905,0.6092228214890892,0.6710640553103665,0.6749659670170481,0.6976777818893606,0.6954488019920426,0.7176915968719338,0.7297709581664744,0.7265638198464899,0.7354721174538003,0.7162856005742619,0.7146714765867506,0.7121673111203931,0.7099599996172542],\"type\":\"data\"},\"legendgroup\":\"nh\",\"line\":{\"color\":\"#B68100\"},\"marker\":{\"color\":\"#B68100\",\"size\":5},\"mode\":\"lines+markers\",\"name\":\"nh\",\"showlegend\":false,\"x\":[0,1,2,3,4,5,6,7,8,9,10,11,12,13,14,15,16,17,18,19,20],\"y\":[2.9340591003387853,2.538362249465711,2.089760488938985,1.7338481265262937,1.3281009468202056,1.1119391486250458,1.0180531912788513,0.9334633329139652,0.8230382001112736,0.7213256236707138,0.6871767520654959,0.6473355899366328,0.6308321869906733,0.5866918059824721,0.5445065173045333,0.5329017408263549,0.4988283884648642,0.4789240526605128,0.47207761315584457,0.4627147039072542,0.45350682744985643],\"type\":\"scatter\",\"xaxis\":\"x2\",\"yaxis\":\"y2\"},{\"error_y\":{\"array\":[0.5973914533284183,0.4051469949544222,0.22630057784202487,0.23847279472402302,0.2229778914016202,0.2219150631841406,0.2165236866845453,0.21663924797065756,0.21100490901185331,0.2110634155039482,0.21108942520337515,0.21108800807996858,0.21106309592500874,0.21055560908954762,0.21065895471768045,0.21074793949568724,0.2108241469000674,0.21088890331956522,0.21094333206560423,0.21098839374420197,0.211024916951901],\"type\":\"data\"},\"legendgroup\":\"remodnav\",\"line\":{\"color\":\"#750D86\"},\"marker\":{\"color\":\"#750D86\",\"size\":5},\"mode\":\"lines+markers\",\"name\":\"remodnav\",\"showlegend\":false,\"x\":[0,1,2,3,4,5,6,7,8,9,10,11,12,13,14,15,16,17,18,19,20],\"y\":[2.5194332684024845,1.950574679346769,1.694734936402422,1.6180064429061687,1.6020048512224592,1.5772132965907235,1.5434190519534172,1.5193199508652138,1.491600462056162,1.4725727411684328,1.4552380713166861,1.4392987785678915,1.424530061973524,1.4101009410864442,1.3974197422987538,1.3854934539631163,1.374231691389569,1.363559635824773,1.3534146311854056,1.3437436659499162,1.3345014769941306],\"type\":\"scatter\",\"xaxis\":\"x2\",\"yaxis\":\"y2\"},{\"error_y\":{\"array\":[0.19102585391663615,0.1665343266448591,0.19784092039269424,0.28399332143204586,0.3602464835926435,0.3441014169647368,0.29191773737295607,0.2968291966660253,0.27981746266595403,0.30629278752667316,0.3064745466628164,0.2941396590325386,0.2876833458538495,0.2769173897525444,0.283536246235548,0.2791761883730565,0.2751624747636851,0.2714610896066793,0.2680438954501295,0.263595441946209,0.25989601490715875],\"type\":\"data\"},\"legendgroup\":\"Other GT\",\"line\":{\"color\":\"#bab0ac\",\"dash\":\"dot\"},\"marker\":{\"color\":\"#bab0ac\",\"size\":5},\"mode\":\"lines+markers\",\"name\":\"Other GT\",\"showlegend\":false,\"x\":[0,1,2,3,4,5,6,7,8,9,10,11,12,13,14,15,16,17,18,19,20],\"y\":[1.4750525198122832,0.9511765379982424,0.7935264061775095,0.6565217091519114,0.5166879845980742,0.4809189564122786,0.41590290284801057,0.3552206323914584,0.3224507380239988,0.2192610011966624,0.17257360488981918,0.15894733165438768,0.15128820948313373,0.13536912832177547,0.09502913117998865,0.08954030820389296,0.08427996872138424,0.0792181385438632,0.07432951716262656,0.06662135835054457,0.05670990745447346],\"type\":\"scatter\",\"xaxis\":\"x3\",\"yaxis\":\"y3\"},{\"error_y\":{\"array\":[0.5528655486250569,0.22595779209233072,0.2111196373383688,0.22787006242924104,0.2508917518234123,0.31621055111937496,0.2947220318702718,0.3110580028734045,0.3629146758668366,0.3643599751322805,0.3915783425610446,0.4119694834971124,0.4123268475921673,0.44407369714275613,0.48935677529096605,0.4862668353948593,0.49126046776814086,0.4903719778553362,0.4896549547447362,0.492551773545785,0.5057942549582201],\"type\":\"data\"},\"legendgroup\":\"ivt\",\"line\":{\"color\":\"#E15F99\"},\"marker\":{\"color\":\"#E15F99\",\"size\":5},\"mode\":\"lines+markers\",\"name\":\"ivt\",\"showlegend\":false,\"x\":[0,1,2,3,4,5,6,7,8,9,10,11,12,13,14,15,16,17,18,19,20],\"y\":[2.335644608786281,1.439456480251712,1.0933262771967625,0.9199331331396575,0.7837115057403025,0.6463270671942029,0.5355291600348335,0.45759164220292403,0.3696230520249552,0.32404449590888007,0.2523235412964956,0.18834462524236245,0.11860994797341466,0.03540790635817994,-0.048049103200943445,-0.07575550231400582,-0.10947694188578905,-0.12726454026533218,-0.14505360622083238,-0.17698589540781046,-0.20838830728296695],\"type\":\"scatter\",\"xaxis\":\"x3\",\"yaxis\":\"y3\"},{\"error_y\":{\"array\":[0.46507354389537875,0.21316519855494118,0.213571786452937,0.2379186493967786,0.30530389730869284,0.3545933900131852,0.3342895372216305,0.3511837494234086,0.39946803584701923,0.39905930985827803,0.4146392541621594,0.43554368202104704,0.43670985134583856,0.4683749290387771,0.5223852978312421,0.5258925170086378,0.5397171434966661,0.5400523254406207,0.5406930619902226,0.541224679138697,0.5423117418554045],\"type\":\"data\"},\"legendgroup\":\"ivvt\",\"line\":{\"color\":\"#1CA71C\"},\"marker\":{\"color\":\"#1CA71C\",\"size\":5},\"mode\":\"lines+markers\",\"name\":\"ivvt\",\"showlegend\":false,\"x\":[0,1,2,3,4,5,6,7,8,9,10,11,12,13,14,15,16,17,18,19,20],\"y\":[2.081229646211866,1.2606988233467897,0.9363801019462527,0.7560316792563478,0.5996785850401104,0.4472739932805544,0.31010421245376885,0.20256380871198693,0.08730227063463729,0.04352704925576035,-0.028893324526553986,-0.09130435569293935,-0.16245310680635452,-0.23378137869328247,-0.3252387418101872,-0.359024177188346,-0.3959717709307339,-0.4167887873017273,-0.43802024495236064,-0.47402391589178067,-0.49616493284293045],\"type\":\"scatter\",\"xaxis\":\"x3\",\"yaxis\":\"y3\"},{\"error_y\":{\"array\":[0.42440001703388014,0.45900044601972156,0.5023781378880694,0.5085477158062026,0.4431097060443409,0.40325284642464726,0.3689325545764227,0.3762266154569289,0.38268142512002146,0.274840616455973,0.28596702844825794,0.29836288167431746,0.3036171690148104,0.3064287676493757,0.30992776474187467,0.31623306902254933,0.3252329148968493,0.3291897457178771,0.33195197615132344,0.33446393970695815,0.3389870664238062],\"type\":\"data\"},\"legendgroup\":\"idt\",\"line\":{\"color\":\"#FB0D0D\"},\"marker\":{\"color\":\"#FB0D0D\",\"size\":5},\"mode\":\"lines+markers\",\"name\":\"idt\",\"showlegend\":false,\"x\":[0,1,2,3,4,5,6,7,8,9,10,11,12,13,14,15,16,17,18,19,20],\"y\":[2.893182438120202,2.418152230924401,2.193358348776374,2.009347131877059,1.7772766773448005,1.5890638933419599,1.4440303460269461,1.3114934137230545,1.2315504747474524,1.148480805635143,1.12472286386997,1.1220753962288361,1.1078718536381922,1.0980578281226363,1.0812279491540056,1.0632308927945757,1.0456082480806996,1.0309293180708106,1.0190016954108874,1.0099820315177004,0.9965105854117592],\"type\":\"scatter\",\"xaxis\":\"x3\",\"yaxis\":\"y3\"},{\"error_y\":{\"array\":[0.43688119880332366,0.4471153983772364,0.4837059287026902,0.4806438655693168,0.41972852353863704,0.38789311876837546,0.36588390992209563,0.3795925241823152,0.3860765488078754,0.3911373550420586,0.2889150751160128,0.30204188522844316,0.30909373184293193,0.31130952367982184,0.31488885296667224,0.3213828569975664,0.33003788052980415,0.3341144364963437,0.3369706531984599,0.33947855398765436,0.34411255435659877],\"type\":\"data\"},\"legendgroup\":\"idvt\",\"line\":{\"color\":\"#DA16FF\"},\"marker\":{\"color\":\"#DA16FF\",\"size\":5},\"mode\":\"lines+markers\",\"name\":\"idvt\",\"showlegend\":false,\"x\":[0,1,2,3,4,5,6,7,8,9,10,11,12,13,14,15,16,17,18,19,20],\"y\":[2.8498179576284106,2.3519630719902347,2.1286841743290417,1.9490560978525964,1.7370704089792994,1.5724203414082214,1.4362349292472365,1.2992665740382505,1.216765000834708,1.1645647627921982,1.1054479898189586,1.0982823053688051,1.079518616964191,1.0697872456143693,1.0526772239091131,1.0343346010709114,1.0164562158331223,1.0015057478143419,0.9892509259819656,0.9798865934677025,0.9661455476293914],\"type\":\"scatter\",\"xaxis\":\"x3\",\"yaxis\":\"y3\"},{\"error_y\":{\"array\":[0.5925762276640085,0.3727374277537356,0.28958682209448433,0.3180761358320565,0.3214444456713375,0.30270280722063464,0.2662857754932847,0.3225383865576089,0.3135924774686156,0.3086424320329817,0.29628676196966,0.2882651226010953,0.3330273957478478,0.371809382990528,0.35455343794522254,0.32584368961460103,0.2951101992132063,0.3041204057991809,0.30425001084581405,0.2675338722792088,0.26526595814909665],\"type\":\"data\"},\"legendgroup\":\"engbert\",\"line\":{\"color\":\"#222A2A\"},\"marker\":{\"color\":\"#222A2A\",\"size\":5},\"mode\":\"lines+markers\",\"name\":\"engbert\",\"showlegend\":false,\"x\":[0,1,2,3,4,5,6,7,8,9,10,11,12,13,14,15,16,17,18,19,20],\"y\":[2.3067916652424594,1.5311499673556814,1.2081017162270271,1.0243880849673221,0.8631795469208644,0.7028462407138327,0.5664741688061743,0.4214684162671477,0.34094417503244306,0.2522162510522257,0.1797009391038614,0.0879623584457809,-0.03845764646005615,-0.13580175317454518,-0.2273325407305809,-0.28982665537262486,-0.3424893758542121,-0.4381924585917643,-0.4555152660773382,-0.5056739522287019,-0.5443028955799162],\"type\":\"scatter\",\"xaxis\":\"x3\",\"yaxis\":\"y3\"},{\"error_y\":{\"array\":[0.638360466727247,0.6016491106457369,0.46553619526272766,0.4975563238858733,0.5220228239057276,0.5479967385629535,0.5678068998609465,0.5967702692104014,0.6014937169367712,0.6089843335535713,0.6151464788684605,0.6200937352002551,0.6250205009902681,0.631781811666746,0.6453803656673041,0.6554218062587307,0.6699895637283311,0.6900208292382302,0.6893409456124879,0.6912907620233791,0.7015111552841181],\"type\":\"data\"},\"legendgroup\":\"nh\",\"line\":{\"color\":\"#B68100\"},\"marker\":{\"color\":\"#B68100\",\"size\":5},\"mode\":\"lines+markers\",\"name\":\"nh\",\"showlegend\":false,\"x\":[0,1,2,3,4,5,6,7,8,9,10,11,12,13,14,15,16,17,18,19,20],\"y\":[2.1744332331069307,1.560898604924615,1.3183740485189275,1.214499874734808,1.1119012215857285,1.0278756219831506,0.9518458590573958,0.8803464743416007,0.8396810253179862,0.8012905994151867,0.767759434369861,0.7383042849412906,0.7041758426825863,0.6763162317528469,0.6377138168089667,0.6067526518553692,0.5849143363022566,0.5507083332118695,0.5385114563907044,0.522237210785458,0.49686682837257495],\"type\":\"scatter\",\"xaxis\":\"x3\",\"yaxis\":\"y3\"},{\"error_y\":{\"array\":[0.5074383975737571,0.48700131645733974,0.47297557455882866,0.47978708541599824,0.42694835592408453,0.2811134748515898,0.2475641713976681,0.22936667221505774,0.2286638757925209,0.23017219610911677,0.23167697249472696,0.2267023913386332,0.22891095439253498,0.2378139506955048,0.2421317067231339,0.2358134645582149,0.24375749959283616,0.24711736193014375,0.22633990431129256,0.22601297571634568,0.22936079615263025],\"type\":\"data\"},\"legendgroup\":\"remodnav\",\"line\":{\"color\":\"#750D86\"},\"marker\":{\"color\":\"#750D86\",\"size\":5},\"mode\":\"lines+markers\",\"name\":\"remodnav\",\"showlegend\":false,\"x\":[0,1,2,3,4,5,6,7,8,9,10,11,12,13,14,15,16,17,18,19,20],\"y\":[2.6305599761495966,2.257026176073911,2.0628478677268016,1.9578856012451198,1.8263331332451216,1.6164007677246037,1.5100142864996056,1.4614200923630705,1.4280492353920766,1.3968083845982884,1.3756283765058275,1.3599925208407977,1.340921526061217,1.3281517837027392,1.321657695524863,1.329213169113585,1.307953809356755,1.2933555452800805,1.2917151395818391,1.2842963230362945,1.27396248730579],\"type\":\"scatter\",\"xaxis\":\"x3\",\"yaxis\":\"y3\"},{\"error_y\":{\"array\":[0.19172727421224103,0.15593669787212816,0.1671130839621939,0.16569945498443187,0.24866031884665982,0.24364698721978395,0.3514779505023782,0.34988273222278266,0.3371863001769094,0.3324496319434914,0.31201938811651914,0.3051145535606694,0.299260762928642,0.2984183382377,0.2820044226167511,0.2784598283742402,0.27539253265884334,0.2727846759635867,0.27062770432840444,0.26920346918323007,0.2699318145943879],\"type\":\"data\"},\"legendgroup\":\"Other GT\",\"line\":{\"color\":\"#bab0ac\",\"dash\":\"dot\"},\"marker\":{\"color\":\"#bab0ac\",\"size\":5},\"mode\":\"lines+markers\",\"name\":\"Other GT\",\"showlegend\":false,\"x\":[0,1,2,3,4,5,6,7,8,9,10,11,12,13,14,15,16,17,18,19,20],\"y\":[1.4739205511783298,0.9556993162303894,0.816984019890002,0.704044449118814,0.5908691816644202,0.5460883162161244,0.38512373421249047,0.32658250331660554,0.30770484072436843,0.22835845207966163,0.2073827080375509,0.1980956919450305,0.18957652502839586,0.18392817344093146,0.16794485481669794,0.16100819531807828,0.15434066473520655,0.14789724049263317,0.14163808767653108,0.13587896390351095,0.1322636987850651],\"type\":\"scatter\",\"xaxis\":\"x4\",\"yaxis\":\"y4\"},{\"error_y\":{\"array\":[0.41075721084201094,0.35176856587027056,0.19033059333360125,0.22141345309848984,0.24160195991482633,0.28836949863329714,0.3345697970536383,0.3340494583576993,0.3418020357587836,0.3503843016933582,0.347066269616224,0.3769906902235252,0.40528920526162565,0.41156516558771433,0.4425678168339453,0.44749976116330614,0.4498213404811611,0.4725343887860633,0.5047726143112472,0.5069581969286556,0.5092264967446211],\"type\":\"data\"},\"legendgroup\":\"ivt\",\"line\":{\"color\":\"#E15F99\"},\"marker\":{\"color\":\"#E15F99\",\"size\":5},\"mode\":\"lines+markers\",\"name\":\"ivt\",\"showlegend\":false,\"x\":[0,1,2,3,4,5,6,7,8,9,10,11,12,13,14,15,16,17,18,19,20],\"y\":[2.047709824681627,1.491848739665272,1.1401167523531235,0.9734834145270633,0.852123380204584,0.7199010339351444,0.564066868971094,0.4936496730103661,0.41411328719609225,0.3510070566034425,0.29803956032484463,0.23159512321959877,0.1500410618152699,0.09789882623677286,0.010009140115693347,-0.037781207710267974,-0.06831562946720977,-0.11583837979670661,-0.1669460515000169,-0.19098182465831778,-0.2080660842887169],\"type\":\"scatter\",\"xaxis\":\"x4\",\"yaxis\":\"y4\"},{\"error_y\":{\"array\":[0.17584042838112957,0.15246690208613112,0.18903818786359747,0.2452540428289699,0.272455538455292,0.31395699841751235,0.3410446078955694,0.3363711304913174,0.35830129432284125,0.402737325027267,0.4052285407650028,0.422327567657513,0.4375853390488528,0.45000896554734104,0.4744320122932816,0.48692359595657847,0.49807065604001566,0.5221122522935302,0.5690415867119505,0.57343152171089,0.5776788524311995],\"type\":\"data\"},\"legendgroup\":\"ivvt\",\"line\":{\"color\":\"#1CA71C\"},\"marker\":{\"color\":\"#1CA71C\",\"size\":5},\"mode\":\"lines+markers\",\"name\":\"ivvt\",\"showlegend\":false,\"x\":[0,1,2,3,4,5,6,7,8,9,10,11,12,13,14,15,16,17,18,19,20],\"y\":[1.8355431772267612,1.2838056201165586,0.9930844238097299,0.8074709403099615,0.6868831855220712,0.5436878756014351,0.3720404245226006,0.2859832529451184,0.17865686550592413,0.07798728068371363,0.009383743291902351,-0.06363297180859663,-0.13984745735075443,-0.21662641580376696,-0.28219276962330514,-0.33557354026509884,-0.3748784835745497,-0.4198352967206075,-0.4906274345179566,-0.517034789370778,-0.5390022390524984],\"type\":\"scatter\",\"xaxis\":\"x4\",\"yaxis\":\"y4\"},{\"error_y\":{\"array\":[0.5118158530751439,0.5341106777866237,0.5321657876409961,0.5709515970713402,0.5032787372480494,0.4414299886446891,0.4473415756398469,0.45200346102968125,0.45416720789560033,0.30221995125347983,0.31293523035200527,0.31776857012177023,0.32201095897886783,0.32782135102288984,0.33340191508827577,0.3376225404571072,0.3497388491848702,0.35438292078506634,0.359221784785725,0.3646201018929236,0.37008437470905486],\"type\":\"data\"},\"legendgroup\":\"idt\",\"line\":{\"color\":\"#FB0D0D\"},\"marker\":{\"color\":\"#FB0D0D\",\"size\":5},\"mode\":\"lines+markers\",\"name\":\"idt\",\"showlegend\":false,\"x\":[0,1,2,3,4,5,6,7,8,9,10,11,12,13,14,15,16,17,18,19,20],\"y\":[2.8267092150673996,2.423426617471663,2.1069303675011475,1.9422880989804614,1.7237787166778464,1.5303739198510848,1.4063263531000068,1.3061948086427697,1.2172616392889901,1.123383679675784,1.1093467136339095,1.1039063995013019,1.087115118826535,1.07568672832588,1.0670929013082848,1.0498749102649643,1.034353659178764,1.0187061843697847,1.0034485449160948,0.9893228817144971,0.9748731537044171],\"type\":\"scatter\",\"xaxis\":\"x4\",\"yaxis\":\"y4\"},{\"error_y\":{\"array\":[0.45056567725827057,0.5211905363300955,0.5137542805752531,0.5571753317389544,0.5139587396775835,0.4540919119155337,0.4561079406522453,0.4648057282807947,0.458135948778643,0.45912524723721587,0.3147571450140788,0.3200962426706316,0.3248401098177913,0.32874182413557534,0.3352258018147494,0.339548197720899,0.35136636268502963,0.356126519411593,0.3610780657462396,0.3665579734816261,0.37211700984090124],\"type\":\"data\"},\"legendgroup\":\"idvt\",\"line\":{\"color\":\"#DA16FF\"},\"marker\":{\"color\":\"#DA16FF\",\"size\":5},\"mode\":\"lines+markers\",\"name\":\"idvt\",\"showlegend\":false,\"x\":[0,1,2,3,4,5,6,7,8,9,10,11,12,13,14,15,16,17,18,19,20],\"y\":[2.8953108459159056,2.4292993739870536,2.059970282850333,1.892258735234439,1.6971278543477772,1.5114749155261082,1.3899866733293273,1.2850639331949214,1.1995434582861773,1.1589321022564403,1.091971276244562,1.0845920398766764,1.0667771071518442,1.0516706363378947,1.0413023007931252,1.0237771866754624,1.004324607940695,0.9883456582145699,0.9727572781797303,0.9583065000056149,0.9435271852781001],\"type\":\"scatter\",\"xaxis\":\"x4\",\"yaxis\":\"y4\"},{\"error_y\":{\"array\":[0.5364387783086639,0.25200237584359503,0.23742839928188972,0.2587246932313221,0.26235710669071655,0.2041507610774652,0.1955797352828795,0.3201251772701504,0.30630591564014203,0.2890833219241559,0.27200253952466796,0.2787906803640257,0.29539193305705375,0.3743957136995439,0.33965467436182323,0.300048116489436,0.2825121904608807,0.28811331504453713,0.26603222048866754,0.21577566363270548,0.21473618479002426],\"type\":\"data\"},\"legendgroup\":\"engbert\",\"line\":{\"color\":\"#222A2A\"},\"marker\":{\"color\":\"#222A2A\",\"size\":5},\"mode\":\"lines+markers\",\"name\":\"engbert\",\"showlegend\":false,\"x\":[0,1,2,3,4,5,6,7,8,9,10,11,12,13,14,15,16,17,18,19,20],\"y\":[2.185063645098292,1.50270957480849,1.23458625827498,1.0846224922370997,0.9426219458450645,0.8054193083256502,0.6381620923586862,0.4719645916797692,0.3853687301240382,0.31743407337050217,0.22326504815296122,0.11078704721076561,-0.013706526768212633,-0.12782400620441767,-0.19749172041066723,-0.25618617549903105,-0.3202130535487333,-0.39004112640056926,-0.42817760497345986,-0.5216059195180925,-0.543891808831583],\"type\":\"scatter\",\"xaxis\":\"x4\",\"yaxis\":\"y4\"},{\"error_y\":{\"array\":[0.6968531349977733,0.5422510375221462,0.43205794494621214,0.45103694323045307,0.4719786824065035,0.49503380365255556,0.533915892160843,0.5521147036646368,0.5549269399676713,0.5687844904744646,0.5720029343788623,0.579249268669243,0.584779281060564,0.5906671428291775,0.6027638061857798,0.6075162860657146,0.6310055541620231,0.6312419372250767,0.6357847344601429,0.6499147150899379,0.649832525328624],\"type\":\"data\"},\"legendgroup\":\"nh\",\"line\":{\"color\":\"#B68100\"},\"marker\":{\"color\":\"#B68100\",\"size\":5},\"mode\":\"lines+markers\",\"name\":\"nh\",\"showlegend\":false,\"x\":[0,1,2,3,4,5,6,7,8,9,10,11,12,13,14,15,16,17,18,19,20],\"y\":[2.200633962594339,1.5774328173197225,1.3417647560793895,1.251114589842343,1.1658284364070877,1.088238642631555,0.9844815067640436,0.9302763595610543,0.8624211451849627,0.819015436424982,0.79276173097786,0.7640810231805631,0.7394609184510376,0.7167792659384089,0.6825954144728384,0.6606765565104226,0.6213803031301766,0.6073183679415759,0.5850061492527938,0.5537473175971278,0.5417765626505727],\"type\":\"scatter\",\"xaxis\":\"x4\",\"yaxis\":\"y4\"},{\"error_y\":{\"array\":[0.5392560563890996,0.4706225046666893,0.4397410974661304,0.3911918077046337,0.37912149107497,0.3869185069451597,0.3535535001945128,0.34741348076148626,0.3354196117474555,0.2632899145978709,0.26423447002893863,0.24058954899581877,0.2260202514147017,0.2202879242177385,0.22628313465320435,0.21388332646070454,0.22374805493901678,0.2232762325357664,0.2259475049680369,0.2119076676891825,0.2111262028238848],\"type\":\"data\"},\"legendgroup\":\"remodnav\",\"line\":{\"color\":\"#750D86\"},\"marker\":{\"color\":\"#750D86\",\"size\":5},\"mode\":\"lines+markers\",\"name\":\"remodnav\",\"showlegend\":false,\"x\":[0,1,2,3,4,5,6,7,8,9,10,11,12,13,14,15,16,17,18,19,20],\"y\":[2.612347674530187,2.2258287703968533,2.039804463600426,1.919479316933961,1.8412117185934318,1.749922147492761,1.630519904734609,1.566218867855595,1.5345810697016218,1.4730945895775722,1.4511082477929425,1.4253984873302605,1.396115916283953,1.3887091717282158,1.3740525074058354,1.3739565887838374,1.3562738553751423,1.3456408762095575,1.341007245571028,1.3418271444470042,1.3326388797753683],\"type\":\"scatter\",\"xaxis\":\"x4\",\"yaxis\":\"y4\"}],                        {\"template\":{\"data\":{\"histogram2dcontour\":[{\"type\":\"histogram2dcontour\",\"colorbar\":{\"outlinewidth\":0,\"ticks\":\"\"},\"colorscale\":[[0.0,\"#0d0887\"],[0.1111111111111111,\"#46039f\"],[0.2222222222222222,\"#7201a8\"],[0.3333333333333333,\"#9c179e\"],[0.4444444444444444,\"#bd3786\"],[0.5555555555555556,\"#d8576b\"],[0.6666666666666666,\"#ed7953\"],[0.7777777777777778,\"#fb9f3a\"],[0.8888888888888888,\"#fdca26\"],[1.0,\"#f0f921\"]]}],\"choropleth\":[{\"type\":\"choropleth\",\"colorbar\":{\"outlinewidth\":0,\"ticks\":\"\"}}],\"histogram2d\":[{\"type\":\"histogram2d\",\"colorbar\":{\"outlinewidth\":0,\"ticks\":\"\"},\"colorscale\":[[0.0,\"#0d0887\"],[0.1111111111111111,\"#46039f\"],[0.2222222222222222,\"#7201a8\"],[0.3333333333333333,\"#9c179e\"],[0.4444444444444444,\"#bd3786\"],[0.5555555555555556,\"#d8576b\"],[0.6666666666666666,\"#ed7953\"],[0.7777777777777778,\"#fb9f3a\"],[0.8888888888888888,\"#fdca26\"],[1.0,\"#f0f921\"]]}],\"heatmap\":[{\"type\":\"heatmap\",\"colorbar\":{\"outlinewidth\":0,\"ticks\":\"\"},\"colorscale\":[[0.0,\"#0d0887\"],[0.1111111111111111,\"#46039f\"],[0.2222222222222222,\"#7201a8\"],[0.3333333333333333,\"#9c179e\"],[0.4444444444444444,\"#bd3786\"],[0.5555555555555556,\"#d8576b\"],[0.6666666666666666,\"#ed7953\"],[0.7777777777777778,\"#fb9f3a\"],[0.8888888888888888,\"#fdca26\"],[1.0,\"#f0f921\"]]}],\"heatmapgl\":[{\"type\":\"heatmapgl\",\"colorbar\":{\"outlinewidth\":0,\"ticks\":\"\"},\"colorscale\":[[0.0,\"#0d0887\"],[0.1111111111111111,\"#46039f\"],[0.2222222222222222,\"#7201a8\"],[0.3333333333333333,\"#9c179e\"],[0.4444444444444444,\"#bd3786\"],[0.5555555555555556,\"#d8576b\"],[0.6666666666666666,\"#ed7953\"],[0.7777777777777778,\"#fb9f3a\"],[0.8888888888888888,\"#fdca26\"],[1.0,\"#f0f921\"]]}],\"contourcarpet\":[{\"type\":\"contourcarpet\",\"colorbar\":{\"outlinewidth\":0,\"ticks\":\"\"}}],\"contour\":[{\"type\":\"contour\",\"colorbar\":{\"outlinewidth\":0,\"ticks\":\"\"},\"colorscale\":[[0.0,\"#0d0887\"],[0.1111111111111111,\"#46039f\"],[0.2222222222222222,\"#7201a8\"],[0.3333333333333333,\"#9c179e\"],[0.4444444444444444,\"#bd3786\"],[0.5555555555555556,\"#d8576b\"],[0.6666666666666666,\"#ed7953\"],[0.7777777777777778,\"#fb9f3a\"],[0.8888888888888888,\"#fdca26\"],[1.0,\"#f0f921\"]]}],\"surface\":[{\"type\":\"surface\",\"colorbar\":{\"outlinewidth\":0,\"ticks\":\"\"},\"colorscale\":[[0.0,\"#0d0887\"],[0.1111111111111111,\"#46039f\"],[0.2222222222222222,\"#7201a8\"],[0.3333333333333333,\"#9c179e\"],[0.4444444444444444,\"#bd3786\"],[0.5555555555555556,\"#d8576b\"],[0.6666666666666666,\"#ed7953\"],[0.7777777777777778,\"#fb9f3a\"],[0.8888888888888888,\"#fdca26\"],[1.0,\"#f0f921\"]]}],\"mesh3d\":[{\"type\":\"mesh3d\",\"colorbar\":{\"outlinewidth\":0,\"ticks\":\"\"}}],\"scatter\":[{\"marker\":{\"line\":{\"color\":\"#283442\"}},\"type\":\"scatter\"}],\"parcoords\":[{\"type\":\"parcoords\",\"line\":{\"colorbar\":{\"outlinewidth\":0,\"ticks\":\"\"}}}],\"scatterpolargl\":[{\"type\":\"scatterpolargl\",\"marker\":{\"colorbar\":{\"outlinewidth\":0,\"ticks\":\"\"}}}],\"bar\":[{\"error_x\":{\"color\":\"#f2f5fa\"},\"error_y\":{\"color\":\"#f2f5fa\"},\"marker\":{\"line\":{\"color\":\"rgb(17,17,17)\",\"width\":0.5},\"pattern\":{\"fillmode\":\"overlay\",\"size\":10,\"solidity\":0.2}},\"type\":\"bar\"}],\"scattergeo\":[{\"type\":\"scattergeo\",\"marker\":{\"colorbar\":{\"outlinewidth\":0,\"ticks\":\"\"}}}],\"scatterpolar\":[{\"type\":\"scatterpolar\",\"marker\":{\"colorbar\":{\"outlinewidth\":0,\"ticks\":\"\"}}}],\"histogram\":[{\"marker\":{\"pattern\":{\"fillmode\":\"overlay\",\"size\":10,\"solidity\":0.2}},\"type\":\"histogram\"}],\"scattergl\":[{\"marker\":{\"line\":{\"color\":\"#283442\"}},\"type\":\"scattergl\"}],\"scatter3d\":[{\"type\":\"scatter3d\",\"line\":{\"colorbar\":{\"outlinewidth\":0,\"ticks\":\"\"}},\"marker\":{\"colorbar\":{\"outlinewidth\":0,\"ticks\":\"\"}}}],\"scattermapbox\":[{\"type\":\"scattermapbox\",\"marker\":{\"colorbar\":{\"outlinewidth\":0,\"ticks\":\"\"}}}],\"scatterternary\":[{\"type\":\"scatterternary\",\"marker\":{\"colorbar\":{\"outlinewidth\":0,\"ticks\":\"\"}}}],\"scattercarpet\":[{\"type\":\"scattercarpet\",\"marker\":{\"colorbar\":{\"outlinewidth\":0,\"ticks\":\"\"}}}],\"carpet\":[{\"aaxis\":{\"endlinecolor\":\"#A2B1C6\",\"gridcolor\":\"#506784\",\"linecolor\":\"#506784\",\"minorgridcolor\":\"#506784\",\"startlinecolor\":\"#A2B1C6\"},\"baxis\":{\"endlinecolor\":\"#A2B1C6\",\"gridcolor\":\"#506784\",\"linecolor\":\"#506784\",\"minorgridcolor\":\"#506784\",\"startlinecolor\":\"#A2B1C6\"},\"type\":\"carpet\"}],\"table\":[{\"cells\":{\"fill\":{\"color\":\"#506784\"},\"line\":{\"color\":\"rgb(17,17,17)\"}},\"header\":{\"fill\":{\"color\":\"#2a3f5f\"},\"line\":{\"color\":\"rgb(17,17,17)\"}},\"type\":\"table\"}],\"barpolar\":[{\"marker\":{\"line\":{\"color\":\"rgb(17,17,17)\",\"width\":0.5},\"pattern\":{\"fillmode\":\"overlay\",\"size\":10,\"solidity\":0.2}},\"type\":\"barpolar\"}],\"pie\":[{\"automargin\":true,\"type\":\"pie\"}]},\"layout\":{\"autotypenumbers\":\"strict\",\"colorway\":[\"#636efa\",\"#EF553B\",\"#00cc96\",\"#ab63fa\",\"#FFA15A\",\"#19d3f3\",\"#FF6692\",\"#B6E880\",\"#FF97FF\",\"#FECB52\"],\"font\":{\"color\":\"#f2f5fa\"},\"hovermode\":\"closest\",\"hoverlabel\":{\"align\":\"left\"},\"paper_bgcolor\":\"rgb(17,17,17)\",\"plot_bgcolor\":\"rgb(17,17,17)\",\"polar\":{\"bgcolor\":\"rgb(17,17,17)\",\"angularaxis\":{\"gridcolor\":\"#506784\",\"linecolor\":\"#506784\",\"ticks\":\"\"},\"radialaxis\":{\"gridcolor\":\"#506784\",\"linecolor\":\"#506784\",\"ticks\":\"\"}},\"ternary\":{\"bgcolor\":\"rgb(17,17,17)\",\"aaxis\":{\"gridcolor\":\"#506784\",\"linecolor\":\"#506784\",\"ticks\":\"\"},\"baxis\":{\"gridcolor\":\"#506784\",\"linecolor\":\"#506784\",\"ticks\":\"\"},\"caxis\":{\"gridcolor\":\"#506784\",\"linecolor\":\"#506784\",\"ticks\":\"\"}},\"coloraxis\":{\"colorbar\":{\"outlinewidth\":0,\"ticks\":\"\"}},\"colorscale\":{\"sequential\":[[0.0,\"#0d0887\"],[0.1111111111111111,\"#46039f\"],[0.2222222222222222,\"#7201a8\"],[0.3333333333333333,\"#9c179e\"],[0.4444444444444444,\"#bd3786\"],[0.5555555555555556,\"#d8576b\"],[0.6666666666666666,\"#ed7953\"],[0.7777777777777778,\"#fb9f3a\"],[0.8888888888888888,\"#fdca26\"],[1.0,\"#f0f921\"]],\"sequentialminus\":[[0.0,\"#0d0887\"],[0.1111111111111111,\"#46039f\"],[0.2222222222222222,\"#7201a8\"],[0.3333333333333333,\"#9c179e\"],[0.4444444444444444,\"#bd3786\"],[0.5555555555555556,\"#d8576b\"],[0.6666666666666666,\"#ed7953\"],[0.7777777777777778,\"#fb9f3a\"],[0.8888888888888888,\"#fdca26\"],[1.0,\"#f0f921\"]],\"diverging\":[[0,\"#8e0152\"],[0.1,\"#c51b7d\"],[0.2,\"#de77ae\"],[0.3,\"#f1b6da\"],[0.4,\"#fde0ef\"],[0.5,\"#f7f7f7\"],[0.6,\"#e6f5d0\"],[0.7,\"#b8e186\"],[0.8,\"#7fbc41\"],[0.9,\"#4d9221\"],[1,\"#276419\"]]},\"xaxis\":{\"gridcolor\":\"#283442\",\"linecolor\":\"#506784\",\"ticks\":\"\",\"title\":{\"standoff\":15},\"zerolinecolor\":\"#283442\",\"automargin\":true,\"zerolinewidth\":2},\"yaxis\":{\"gridcolor\":\"#283442\",\"linecolor\":\"#506784\",\"ticks\":\"\",\"title\":{\"standoff\":15},\"zerolinecolor\":\"#283442\",\"automargin\":true,\"zerolinewidth\":2},\"scene\":{\"xaxis\":{\"backgroundcolor\":\"rgb(17,17,17)\",\"gridcolor\":\"#506784\",\"linecolor\":\"#506784\",\"showbackground\":true,\"ticks\":\"\",\"zerolinecolor\":\"#C8D4E3\",\"gridwidth\":2},\"yaxis\":{\"backgroundcolor\":\"rgb(17,17,17)\",\"gridcolor\":\"#506784\",\"linecolor\":\"#506784\",\"showbackground\":true,\"ticks\":\"\",\"zerolinecolor\":\"#C8D4E3\",\"gridwidth\":2},\"zaxis\":{\"backgroundcolor\":\"rgb(17,17,17)\",\"gridcolor\":\"#506784\",\"linecolor\":\"#506784\",\"showbackground\":true,\"ticks\":\"\",\"zerolinecolor\":\"#C8D4E3\",\"gridwidth\":2}},\"shapedefaults\":{\"line\":{\"color\":\"#f2f5fa\"}},\"annotationdefaults\":{\"arrowcolor\":\"#f2f5fa\",\"arrowhead\":0,\"arrowwidth\":1},\"geo\":{\"bgcolor\":\"rgb(17,17,17)\",\"landcolor\":\"rgb(17,17,17)\",\"subunitcolor\":\"#506784\",\"showland\":true,\"showlakes\":true,\"lakecolor\":\"rgb(17,17,17)\"},\"title\":{\"x\":0.05},\"updatemenudefaults\":{\"bgcolor\":\"#506784\",\"borderwidth\":0},\"sliderdefaults\":{\"bgcolor\":\"#C8D4E3\",\"borderwidth\":1,\"bordercolor\":\"rgb(17,17,17)\",\"tickwidth\":0},\"mapbox\":{\"style\":\"dark\"}}},\"xaxis\":{\"anchor\":\"y\",\"domain\":[0.0,0.485],\"matches\":\"x3\",\"showticklabels\":false},\"yaxis\":{\"anchor\":\"x\",\"domain\":[0.5125,1.0],\"matches\":\"y3\",\"title\":{\"text\":\"Criterion\"}},\"xaxis2\":{\"anchor\":\"y2\",\"domain\":[0.495,0.98],\"matches\":\"x3\",\"showticklabels\":false},\"yaxis2\":{\"anchor\":\"x2\",\"domain\":[0.5125,1.0],\"matches\":\"y3\",\"showticklabels\":false},\"xaxis3\":{\"anchor\":\"y3\",\"domain\":[0.0,0.485],\"title\":{\"text\":\"Threshold (samples)\"}},\"yaxis3\":{\"anchor\":\"x3\",\"domain\":[0.0,0.4875],\"title\":{\"text\":\"Criterion\"}},\"xaxis4\":{\"anchor\":\"y4\",\"domain\":[0.495,0.98],\"matches\":\"x3\",\"title\":{\"text\":\"Threshold (samples)\"}},\"yaxis4\":{\"anchor\":\"x4\",\"domain\":[0.0,0.4875],\"matches\":\"y3\",\"showticklabels\":false},\"annotations\":[{\"font\":{\"size\":16},\"showarrow\":false,\"text\":\"RA\",\"x\":0.2425,\"xanchor\":\"center\",\"xref\":\"paper\",\"y\":1.0,\"yanchor\":\"bottom\",\"yref\":\"paper\"},{\"font\":{\"size\":16},\"showarrow\":false,\"text\":\"MN\",\"x\":0.7375,\"xanchor\":\"center\",\"xref\":\"paper\",\"y\":1.0,\"yanchor\":\"bottom\",\"yref\":\"paper\"},{\"font\":{\"size\":16},\"showarrow\":false,\"text\":\"Onset\",\"textangle\":90,\"x\":0.98,\"xanchor\":\"left\",\"xref\":\"paper\",\"y\":0.75625,\"yanchor\":\"middle\",\"yref\":\"paper\"},{\"font\":{\"size\":16},\"showarrow\":false,\"text\":\"Offset\",\"textangle\":90,\"x\":0.98,\"xanchor\":\"left\",\"xref\":\"paper\",\"y\":0.24375,\"yanchor\":\"middle\",\"yref\":\"paper\"}],\"legend\":{\"orientation\":\"h\",\"yanchor\":\"bottom\",\"y\":-0.3,\"xanchor\":\"left\",\"x\":0.25},\"title\":{\"text\":\"criterion (fixations)\"},\"width\":1400,\"height\":500,\"paper_bgcolor\":\"rgba(0, 0, 0, 0)\",\"plot_bgcolor\":\"rgba(0, 0, 0, 0)\"},                        {\"responsive\": true}                    ).then(function(){\n",
       "                            \n",
       "var gd = document.getElementById('3851ed14-4bae-4f9c-b82e-294754fb776d');\n",
       "var x = new MutationObserver(function (mutations, observer) {{\n",
       "        var display = window.getComputedStyle(gd).display;\n",
       "        if (!display || display === 'none') {{\n",
       "            console.log([gd, 'removed!']);\n",
       "            Plotly.purge(gd);\n",
       "            observer.disconnect();\n",
       "        }}\n",
       "}});\n",
       "\n",
       "// Listen for the removal of the full notebook cells\n",
       "var notebookContainer = gd.closest('#notebook-container');\n",
       "if (notebookContainer) {{\n",
       "    x.observe(notebookContainer, {childList: true});\n",
       "}}\n",
       "\n",
       "// Listen for the clearing of the current output cell\n",
       "var outputEl = gd.closest('.output');\n",
       "if (outputEl) {{\n",
       "    x.observe(outputEl, {childList: true});\n",
       "}}\n",
       "\n",
       "                        })                };                });            </script>        </div>"
      ]
     },
     "metadata": {},
     "output_type": "display_data"
    }
   ],
   "execution_count": 19
  }
 ],
 "metadata": {
  "kernelspec": {
   "display_name": "Python 3",
   "language": "python",
   "name": "python3"
  },
  "language_info": {
   "codemirror_mode": {
    "name": "ipython",
    "version": 2
   },
   "file_extension": ".py",
   "mimetype": "text/x-python",
   "name": "python",
   "nbconvert_exporter": "python",
   "pygments_lexer": "ipython2",
   "version": "2.7.6"
  }
 },
 "nbformat": 4,
 "nbformat_minor": 5
}
