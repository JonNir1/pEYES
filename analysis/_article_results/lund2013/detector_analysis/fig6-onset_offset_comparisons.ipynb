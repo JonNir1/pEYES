{
 "cells": [
  {
   "metadata": {},
   "cell_type": "markdown",
   "source": [
    "# Fig 6: Onset-Offset Comparisons\n",
    "### Comparing Within-Detector Sensitivity to Onset vs. Offset (Fixations & Saccades Separately)"
   ],
   "id": "c34fcd2bb2b6504"
  },
  {
   "metadata": {
    "ExecuteTime": {
     "end_time": "2025-05-05T09:09:22.613297Z",
     "start_time": "2025-05-05T09:09:22.600229Z"
    }
   },
   "cell_type": "code",
   "source": [
    "import copy\n",
    "import warnings\n",
    "from typing import Optional\n",
    "\n",
    "import numpy as np\n",
    "import pandas as pd\n",
    "import statsmodels.formula.api as smf\n",
    "import scikit_posthocs as sp\n",
    "import scipy.stats as st\n",
    "import plotly.express as px\n",
    "from plotly.subplots import make_subplots\n",
    "import plotly.io as pio\n",
    "from statsmodels import formula\n",
    "\n",
    "import peyes\n",
    "\n",
    "from analysis._article_results.lund2013._helpers import *\n",
    "import analysis.statistics.channel_sdt as ch_sdt\n",
    "\n",
    "# pio.renderers.default = \"browser\""
   ],
   "id": "34b57105067cef91",
   "outputs": [],
   "execution_count": 20
  },
  {
   "metadata": {},
   "cell_type": "markdown",
   "source": "### Set Constants",
   "id": "559cd128c8418ade"
  },
  {
   "metadata": {
    "ExecuteTime": {
     "end_time": "2025-05-05T09:09:22.675005Z",
     "start_time": "2025-05-05T09:09:22.671559Z"
    }
   },
   "cell_type": "code",
   "source": [
    "THRESHOLD = 5       # temporal threshold for analyzing d'\n",
    "METRIC = peyes.constants.D_PRIME_STR\n",
    "ANNOTATOR = 'RA'\n",
    "\n",
    "GRID_LINE_COLOR, GRID_LINE_WIDTH = \"lightgray\", 1\n",
    "ZERO_LINE_WIDTH = 2 * GRID_LINE_WIDTH\n",
    "\n",
    "FONT_FAMILY, FONT_COLOR = \"Calibri\", \"black\"\n",
    "TITLE_FONT = dict(family=FONT_FAMILY, size=25, color=FONT_COLOR)\n",
    "SUBTITLE_FONT = dict(family=FONT_FAMILY, size=20, color=FONT_COLOR)\n",
    "AXIS_LABEL_FONT = dict(family=FONT_FAMILY, size=20, color=FONT_COLOR)\n",
    "AXIS_TICK_FONT = dict(family=FONT_FAMILY, size=18, color=FONT_COLOR)\n",
    "AXIS_LABEL_STANDOFF = 2"
   ],
   "id": "24c9b073df12c2f7",
   "outputs": [],
   "execution_count": 21
  },
  {
   "metadata": {},
   "cell_type": "markdown",
   "source": "## Load Data",
   "id": "22ee60e03b4ef27f"
  },
  {
   "metadata": {
    "ExecuteTime": {
     "end_time": "2025-05-05T09:09:23.355699Z",
     "start_time": "2025-05-05T09:09:22.730043Z"
    }
   },
   "cell_type": "code",
   "source": [
    "fix_metrics = ch_sdt.load(\n",
    "    dataset_name=DATASET_NAME,\n",
    "    output_dir=PROCESSED_DATA_DIR,\n",
    "    label=1,    # EventLabelEnum.FIXATION.value\n",
    "    stimulus_type=STIMULUS_TYPE,\n",
    "    threshold=THRESHOLD,\n",
    "    channel_type=None,\n",
    ")\n",
    "\n",
    "sac_metrics = ch_sdt.load(\n",
    "    dataset_name=DATASET_NAME,\n",
    "    output_dir=PROCESSED_DATA_DIR,\n",
    "    label=2,    # EventLabelEnum.SACCADE.value\n",
    "    stimulus_type=STIMULUS_TYPE,\n",
    "    threshold=THRESHOLD,\n",
    "    channel_type=None,\n",
    ")\n",
    "\n",
    "# Remove unused metrics\n",
    "fix_metrics.drop(index=['P', 'PP', 'N', 'TP'], level=peyes.constants.METRIC_STR, inplace=True)\n",
    "sac_metrics.drop(index=['P', 'PP', 'N', 'TP'], level=peyes.constants.METRIC_STR, inplace=True)\n",
    "\n",
    "# concatenate\n",
    "metrics = pd.concat([fix_metrics, sac_metrics], keys=['fixation', 'saccade'])\n",
    "metrics.index.names = [peyes.constants.EVENT_STR] + metrics.index.names[1:]\n",
    "metrics = metrics.droplevel('threshold')\n",
    "\n",
    "metrics"
   ],
   "id": "a6356aad3828ede7",
   "outputs": [
    {
     "data": {
      "text/plain": [
       "trial_id                                      25                      \\\n",
       "gt                                            RA                       \n",
       "pred                                          MN   engbert  remodnav   \n",
       "event    channel_type metric                                           \n",
       "fixation onset        recall            0.785714  0.964286  0.285714   \n",
       "                      precision         0.814815  0.818182  0.666667   \n",
       "                      f1                0.800000  0.885246  0.400000   \n",
       "                      false_alarm_rate  0.011752  0.014103  0.009402   \n",
       "                      d_prime           3.056776  3.997164  1.783457   \n",
       "                      criterion         0.736749  0.195839  1.457677   \n",
       "         offset       recall            0.928571  1.000000  0.142857   \n",
       "                      precision         0.962963  0.848485  0.333333   \n",
       "                      f1                0.945455  0.918033  0.200000   \n",
       "                      false_alarm_rate  0.002350  0.011752  0.018803   \n",
       "                      d_prime           4.292082  5.048805  1.011544   \n",
       "                      criterion         0.680807 -0.324197  1.573342   \n",
       "saccade  onset        recall            1.000000  1.000000  0.520000   \n",
       "                      precision         0.961538  0.806452  1.000000   \n",
       "                      f1                0.980392  0.892857  0.684211   \n",
       "                      false_alarm_rate  0.002334  0.014004  0.000000   \n",
       "                      d_prime           5.459188  4.989576  2.898532   \n",
       "                      criterion        -0.119005 -0.353811  1.399333   \n",
       "         offset       recall            0.920000  0.520000  0.120000   \n",
       "                      precision         0.884615  0.419355  0.230769   \n",
       "                      f1                0.901961  0.464286  0.157895   \n",
       "                      false_alarm_rate  0.007002  0.042011  0.023340   \n",
       "                      d_prime           3.862237  1.777960  0.814211   \n",
       "                      criterion         0.526047  0.838826  1.582092   \n",
       "\n",
       "trial_id                                                              \\\n",
       "gt                                                                     \n",
       "pred                                        idvt        nh       idt   \n",
       "event    channel_type metric                                           \n",
       "fixation onset        recall            0.035714  0.678571  0.035714   \n",
       "                      precision         0.055556  0.703704  0.055556   \n",
       "                      f1                0.043478  0.690909  0.043478   \n",
       "                      false_alarm_rate  0.039957  0.018803  0.039957   \n",
       "                      d_prime          -0.051561  2.542822 -0.051561   \n",
       "                      criterion         1.776963  0.807703  1.776963   \n",
       "         offset       recall            0.571429  0.500000  0.571429   \n",
       "                      precision         0.888889  0.518519  0.888889   \n",
       "                      f1                0.695652  0.509091  0.695652   \n",
       "                      false_alarm_rate  0.004701  0.030556  0.004701   \n",
       "                      d_prime           2.777103  1.872691  2.777103   \n",
       "                      criterion         1.208539  0.936345  1.208539   \n",
       "saccade  onset        recall            0.640000  0.480000  0.640000   \n",
       "                      precision         0.941176  0.461538  0.941176   \n",
       "                      f1                0.761905  0.470588  0.761905   \n",
       "                      false_alarm_rate  0.002334  0.032676  0.002334   \n",
       "                      d_prime           3.187557  1.792695  3.187557   \n",
       "                      criterion         1.235320  0.946501  1.235320   \n",
       "         offset       recall            0.160000  0.600000  0.160000   \n",
       "                      precision         0.235294  0.576923  0.235294   \n",
       "                      f1                0.190476  0.588235  0.190476   \n",
       "                      false_alarm_rate  0.030342  0.025674  0.030342   \n",
       "                      d_prime           0.881339  2.201913  0.881339   \n",
       "                      criterion         1.435127  0.847609  1.435127   \n",
       "\n",
       "trial_id                                                              \\\n",
       "gt                                                                MN   \n",
       "pred                                        ivvt       ivt        RA   \n",
       "event    channel_type metric                                           \n",
       "fixation onset        recall            0.857143  0.642857  0.814815   \n",
       "                      precision         0.705882  0.545455  0.785714   \n",
       "                      f1                0.774194  0.590164  0.800000   \n",
       "                      false_alarm_rate  0.023504  0.035256  0.014069   \n",
       "                      d_prime           3.053794  2.174709  3.091123   \n",
       "                      criterion         0.459326  0.721248  0.649782   \n",
       "         offset       recall            0.964286  0.928571  0.962963   \n",
       "                      precision         0.794118  0.787879  0.928571   \n",
       "                      f1                0.870968  0.852459  0.945455   \n",
       "                      false_alarm_rate  0.016453  0.016453  0.004690   \n",
       "                      d_prime           3.935972  3.598462  4.384053   \n",
       "                      criterion         0.165243  0.333997  0.405871   \n",
       "saccade  onset        recall            1.000000  1.000000  0.961538   \n",
       "                      precision         0.781250  0.781250  1.000000   \n",
       "                      f1                0.877193  0.877193  0.980392   \n",
       "                      false_alarm_rate  0.016338  0.016338  0.000000   \n",
       "                      d_prime           4.935210  4.935210  4.593647   \n",
       "                      criterion        -0.380994 -0.380994  0.551776   \n",
       "         offset       recall            0.880000  0.880000  0.884615   \n",
       "                      precision         0.687500  0.687500  0.920000   \n",
       "                      f1                0.771930  0.771930  0.901961   \n",
       "                      false_alarm_rate  0.023340  0.023340  0.004679   \n",
       "                      d_prime           3.164184  3.164184  3.797081   \n",
       "                      criterion         0.407105  0.407105  0.700161   \n",
       "\n",
       "trial_id                                          ...        44            \\\n",
       "gt                                                ...        RA             \n",
       "pred                                     engbert  ...      ivvt       ivt   \n",
       "event    channel_type metric                      ...                       \n",
       "fixation onset        recall            0.925926  ...  0.678571  0.392857   \n",
       "                      precision         0.757576  ...  0.633333  0.423077   \n",
       "                      f1                0.833333  ...  0.655172  0.407407   \n",
       "                      false_alarm_rate  0.018759  ...  0.071682  0.097749   \n",
       "                      d_prime           3.526179  ...  1.927082  1.022606   \n",
       "                      criterion         0.316986  ...  0.499833  0.783183   \n",
       "         offset       recall            1.000000  ...  0.964286  0.857143   \n",
       "                      precision         0.818182  ...  0.900000  0.923077   \n",
       "                      f1                0.900000  ...  0.931034  0.888889   \n",
       "                      false_alarm_rate  0.014069  ...  0.019550  0.013033   \n",
       "                      d_prime           4.987958  ...  3.865881  3.292792   \n",
       "                      criterion        -0.354620  ...  0.130197  0.578826   \n",
       "saccade  onset        recall            1.000000  ...  0.962963  0.851852   \n",
       "                      precision         0.838710  ...  0.838710  0.821429   \n",
       "                      f1                0.912281  ...  0.896552  0.836364   \n",
       "                      false_alarm_rate  0.011697  ...  0.032372  0.032372   \n",
       "                      d_prime           5.050352  ...  3.633177  2.891431   \n",
       "                      criterion        -0.323423  ...  0.030433  0.401307   \n",
       "         offset       recall            0.461538  ...  0.703704  0.555556   \n",
       "                      precision         0.387097  ...  0.612903  0.535714   \n",
       "                      f1                0.421053  ...  0.655172  0.545455   \n",
       "                      false_alarm_rate  0.044449  ...  0.077693  0.084167   \n",
       "                      d_prime           1.604679  ...  1.955846  1.517286   \n",
       "                      criterion         0.898898  ...  0.442840  0.618933   \n",
       "\n",
       "trial_id                                                                      \\\n",
       "gt                                                MN                           \n",
       "pred                                              RA       engbert  remodnav   \n",
       "event    channel_type metric                                                   \n",
       "fixation onset        recall            9.000000e-01  8.000000e-01  0.233333   \n",
       "                      precision         9.642857e-01  8.000000e-01  0.700000   \n",
       "                      f1                9.310345e-01  8.000000e-01  0.350000   \n",
       "                      false_alarm_rate  6.602641e-03  3.961585e-02  0.019808   \n",
       "                      d_prime           3.759736e+00  2.596783e+00  1.329819   \n",
       "                      criterion         5.983165e-01  4.567701e-01  1.392823   \n",
       "         offset       recall            9.333333e-01  1.000000e+00  0.200000   \n",
       "                      precision         1.000000e+00  1.000000e+00  0.600000   \n",
       "                      f1                9.655172e-01  1.000000e+00  0.300000   \n",
       "                      false_alarm_rate  0.000000e+00  0.000000e+00  0.026411   \n",
       "                      d_prime           4.011339e+00  5.091656e+00  1.094759   \n",
       "                      criterion         5.401587e-01  1.776357e-15  1.389001   \n",
       "saccade  onset        recall            1.000000e+00  1.000000e+00  0.555556   \n",
       "                      precision         1.000000e+00  8.437500e-01  1.000000   \n",
       "                      f1                1.000000e+00  9.152542e-01  0.714286   \n",
       "                      false_alarm_rate  0.000000e+00  3.237198e-02  0.000000   \n",
       "                      d_prime           5.091656e+00  4.326659e+00  2.684006   \n",
       "                      criterion        -1.776357e-15 -3.824985e-01  1.203825   \n",
       "         offset       recall            1.000000e+00  4.444444e-01  0.407407   \n",
       "                      precision         1.000000e+00  3.750000e-01  0.733333   \n",
       "                      f1                1.000000e+00  4.067797e-01  0.523810   \n",
       "                      false_alarm_rate  0.000000e+00  1.294879e-01  0.025898   \n",
       "                      d_prime           5.091656e+00  9.891047e-01  1.710613   \n",
       "                      criterion        -1.776357e-15  6.342627e-01  1.089526   \n",
       "\n",
       "trial_id                                                              \\\n",
       "gt                                                                     \n",
       "pred                                        idvt        nh       idt   \n",
       "event    channel_type metric                                           \n",
       "fixation onset        recall            0.033333  0.766667  0.033333   \n",
       "                      precision         0.066667  0.766667  0.058824   \n",
       "                      f1                0.044444  0.766667  0.042553   \n",
       "                      false_alarm_rate  0.092437  0.046218  0.105642   \n",
       "                      d_prime          -0.508018  2.410594 -0.583873   \n",
       "                      criterion         1.579906  0.477384  1.541978   \n",
       "         offset       recall            0.500000  0.866667  0.500000   \n",
       "                      precision         1.000000  0.866667  0.882353   \n",
       "                      f1                0.666667  0.866667  0.638298   \n",
       "                      false_alarm_rate  0.000000  0.026411  0.013205   \n",
       "                      d_prime           2.545828  3.047152  2.220121   \n",
       "                      criterion         1.272914  0.412804  1.110060   \n",
       "saccade  onset        recall            0.444444  0.814815  0.444444   \n",
       "                      precision         0.705882  0.785714  0.705882   \n",
       "                      f1                0.545455  0.800000  0.545455   \n",
       "                      false_alarm_rate  0.032372  0.038846  0.032372   \n",
       "                      d_prime           1.707312  2.660013  1.707312   \n",
       "                      criterion         0.993366  0.434227  0.993366   \n",
       "         offset       recall            0.444444  0.481481  0.444444   \n",
       "                      precision         0.705882  0.464286  0.705882   \n",
       "                      f1                0.545455  0.472727  0.545455   \n",
       "                      false_alarm_rate  0.032372  0.097116  0.032372   \n",
       "                      d_prime           1.707312  1.251726  1.707312   \n",
       "                      criterion         0.993366  0.672299  0.993366   \n",
       "\n",
       "trial_id                                                    \n",
       "gt                                                          \n",
       "pred                                        ivvt       ivt  \n",
       "event    channel_type metric                                \n",
       "fixation onset        recall            0.733333  0.600000  \n",
       "                      precision         0.733333  0.692308  \n",
       "                      f1                0.733333  0.642857  \n",
       "                      false_alarm_rate  0.052821  0.052821  \n",
       "                      d_prime           2.241020  1.871441  \n",
       "                      criterion         0.497584  0.682374  \n",
       "         offset       recall            0.966667  0.866667  \n",
       "                      precision         0.966667  1.000000  \n",
       "                      f1                0.966667  0.928571  \n",
       "                      false_alarm_rate  0.006603  0.000000  \n",
       "                      d_prime           4.312099  3.638219  \n",
       "                      criterion         0.322135  0.726719  \n",
       "saccade  onset        recall            0.962963  0.851852  \n",
       "                      precision         0.838710  0.821429  \n",
       "                      f1                0.896552  0.836364  \n",
       "                      false_alarm_rate  0.032372  0.032372  \n",
       "                      d_prime           3.633177  2.891431  \n",
       "                      criterion         0.030433  0.401307  \n",
       "         offset       recall            0.703704  0.555556  \n",
       "                      precision         0.612903  0.535714  \n",
       "                      f1                0.655172  0.545455  \n",
       "                      false_alarm_rate  0.077693  0.084167  \n",
       "                      d_prime           1.955846  1.517286  \n",
       "                      criterion         0.442840  0.618933  \n",
       "\n",
       "[24 rows x 266 columns]"
      ],
      "text/html": [
       "<div>\n",
       "<style scoped>\n",
       "    .dataframe tbody tr th:only-of-type {\n",
       "        vertical-align: middle;\n",
       "    }\n",
       "\n",
       "    .dataframe tbody tr th {\n",
       "        vertical-align: top;\n",
       "    }\n",
       "\n",
       "    .dataframe thead tr th {\n",
       "        text-align: left;\n",
       "    }\n",
       "\n",
       "    .dataframe thead tr:last-of-type th {\n",
       "        text-align: right;\n",
       "    }\n",
       "</style>\n",
       "<table border=\"1\" class=\"dataframe\">\n",
       "  <thead>\n",
       "    <tr>\n",
       "      <th></th>\n",
       "      <th></th>\n",
       "      <th>trial_id</th>\n",
       "      <th colspan=\"10\" halign=\"left\">25</th>\n",
       "      <th>...</th>\n",
       "      <th colspan=\"10\" halign=\"left\">44</th>\n",
       "    </tr>\n",
       "    <tr>\n",
       "      <th></th>\n",
       "      <th></th>\n",
       "      <th>gt</th>\n",
       "      <th colspan=\"8\" halign=\"left\">RA</th>\n",
       "      <th colspan=\"2\" halign=\"left\">MN</th>\n",
       "      <th>...</th>\n",
       "      <th colspan=\"2\" halign=\"left\">RA</th>\n",
       "      <th colspan=\"8\" halign=\"left\">MN</th>\n",
       "    </tr>\n",
       "    <tr>\n",
       "      <th></th>\n",
       "      <th></th>\n",
       "      <th>pred</th>\n",
       "      <th>MN</th>\n",
       "      <th>engbert</th>\n",
       "      <th>remodnav</th>\n",
       "      <th>idvt</th>\n",
       "      <th>nh</th>\n",
       "      <th>idt</th>\n",
       "      <th>ivvt</th>\n",
       "      <th>ivt</th>\n",
       "      <th>RA</th>\n",
       "      <th>engbert</th>\n",
       "      <th>...</th>\n",
       "      <th>ivvt</th>\n",
       "      <th>ivt</th>\n",
       "      <th>RA</th>\n",
       "      <th>engbert</th>\n",
       "      <th>remodnav</th>\n",
       "      <th>idvt</th>\n",
       "      <th>nh</th>\n",
       "      <th>idt</th>\n",
       "      <th>ivvt</th>\n",
       "      <th>ivt</th>\n",
       "    </tr>\n",
       "    <tr>\n",
       "      <th>event</th>\n",
       "      <th>channel_type</th>\n",
       "      <th>metric</th>\n",
       "      <th></th>\n",
       "      <th></th>\n",
       "      <th></th>\n",
       "      <th></th>\n",
       "      <th></th>\n",
       "      <th></th>\n",
       "      <th></th>\n",
       "      <th></th>\n",
       "      <th></th>\n",
       "      <th></th>\n",
       "      <th></th>\n",
       "      <th></th>\n",
       "      <th></th>\n",
       "      <th></th>\n",
       "      <th></th>\n",
       "      <th></th>\n",
       "      <th></th>\n",
       "      <th></th>\n",
       "      <th></th>\n",
       "      <th></th>\n",
       "      <th></th>\n",
       "    </tr>\n",
       "  </thead>\n",
       "  <tbody>\n",
       "    <tr>\n",
       "      <th rowspan=\"12\" valign=\"top\">fixation</th>\n",
       "      <th rowspan=\"6\" valign=\"top\">onset</th>\n",
       "      <th>recall</th>\n",
       "      <td>0.785714</td>\n",
       "      <td>0.964286</td>\n",
       "      <td>0.285714</td>\n",
       "      <td>0.035714</td>\n",
       "      <td>0.678571</td>\n",
       "      <td>0.035714</td>\n",
       "      <td>0.857143</td>\n",
       "      <td>0.642857</td>\n",
       "      <td>0.814815</td>\n",
       "      <td>0.925926</td>\n",
       "      <td>...</td>\n",
       "      <td>0.678571</td>\n",
       "      <td>0.392857</td>\n",
       "      <td>9.000000e-01</td>\n",
       "      <td>8.000000e-01</td>\n",
       "      <td>0.233333</td>\n",
       "      <td>0.033333</td>\n",
       "      <td>0.766667</td>\n",
       "      <td>0.033333</td>\n",
       "      <td>0.733333</td>\n",
       "      <td>0.600000</td>\n",
       "    </tr>\n",
       "    <tr>\n",
       "      <th>precision</th>\n",
       "      <td>0.814815</td>\n",
       "      <td>0.818182</td>\n",
       "      <td>0.666667</td>\n",
       "      <td>0.055556</td>\n",
       "      <td>0.703704</td>\n",
       "      <td>0.055556</td>\n",
       "      <td>0.705882</td>\n",
       "      <td>0.545455</td>\n",
       "      <td>0.785714</td>\n",
       "      <td>0.757576</td>\n",
       "      <td>...</td>\n",
       "      <td>0.633333</td>\n",
       "      <td>0.423077</td>\n",
       "      <td>9.642857e-01</td>\n",
       "      <td>8.000000e-01</td>\n",
       "      <td>0.700000</td>\n",
       "      <td>0.066667</td>\n",
       "      <td>0.766667</td>\n",
       "      <td>0.058824</td>\n",
       "      <td>0.733333</td>\n",
       "      <td>0.692308</td>\n",
       "    </tr>\n",
       "    <tr>\n",
       "      <th>f1</th>\n",
       "      <td>0.800000</td>\n",
       "      <td>0.885246</td>\n",
       "      <td>0.400000</td>\n",
       "      <td>0.043478</td>\n",
       "      <td>0.690909</td>\n",
       "      <td>0.043478</td>\n",
       "      <td>0.774194</td>\n",
       "      <td>0.590164</td>\n",
       "      <td>0.800000</td>\n",
       "      <td>0.833333</td>\n",
       "      <td>...</td>\n",
       "      <td>0.655172</td>\n",
       "      <td>0.407407</td>\n",
       "      <td>9.310345e-01</td>\n",
       "      <td>8.000000e-01</td>\n",
       "      <td>0.350000</td>\n",
       "      <td>0.044444</td>\n",
       "      <td>0.766667</td>\n",
       "      <td>0.042553</td>\n",
       "      <td>0.733333</td>\n",
       "      <td>0.642857</td>\n",
       "    </tr>\n",
       "    <tr>\n",
       "      <th>false_alarm_rate</th>\n",
       "      <td>0.011752</td>\n",
       "      <td>0.014103</td>\n",
       "      <td>0.009402</td>\n",
       "      <td>0.039957</td>\n",
       "      <td>0.018803</td>\n",
       "      <td>0.039957</td>\n",
       "      <td>0.023504</td>\n",
       "      <td>0.035256</td>\n",
       "      <td>0.014069</td>\n",
       "      <td>0.018759</td>\n",
       "      <td>...</td>\n",
       "      <td>0.071682</td>\n",
       "      <td>0.097749</td>\n",
       "      <td>6.602641e-03</td>\n",
       "      <td>3.961585e-02</td>\n",
       "      <td>0.019808</td>\n",
       "      <td>0.092437</td>\n",
       "      <td>0.046218</td>\n",
       "      <td>0.105642</td>\n",
       "      <td>0.052821</td>\n",
       "      <td>0.052821</td>\n",
       "    </tr>\n",
       "    <tr>\n",
       "      <th>d_prime</th>\n",
       "      <td>3.056776</td>\n",
       "      <td>3.997164</td>\n",
       "      <td>1.783457</td>\n",
       "      <td>-0.051561</td>\n",
       "      <td>2.542822</td>\n",
       "      <td>-0.051561</td>\n",
       "      <td>3.053794</td>\n",
       "      <td>2.174709</td>\n",
       "      <td>3.091123</td>\n",
       "      <td>3.526179</td>\n",
       "      <td>...</td>\n",
       "      <td>1.927082</td>\n",
       "      <td>1.022606</td>\n",
       "      <td>3.759736e+00</td>\n",
       "      <td>2.596783e+00</td>\n",
       "      <td>1.329819</td>\n",
       "      <td>-0.508018</td>\n",
       "      <td>2.410594</td>\n",
       "      <td>-0.583873</td>\n",
       "      <td>2.241020</td>\n",
       "      <td>1.871441</td>\n",
       "    </tr>\n",
       "    <tr>\n",
       "      <th>criterion</th>\n",
       "      <td>0.736749</td>\n",
       "      <td>0.195839</td>\n",
       "      <td>1.457677</td>\n",
       "      <td>1.776963</td>\n",
       "      <td>0.807703</td>\n",
       "      <td>1.776963</td>\n",
       "      <td>0.459326</td>\n",
       "      <td>0.721248</td>\n",
       "      <td>0.649782</td>\n",
       "      <td>0.316986</td>\n",
       "      <td>...</td>\n",
       "      <td>0.499833</td>\n",
       "      <td>0.783183</td>\n",
       "      <td>5.983165e-01</td>\n",
       "      <td>4.567701e-01</td>\n",
       "      <td>1.392823</td>\n",
       "      <td>1.579906</td>\n",
       "      <td>0.477384</td>\n",
       "      <td>1.541978</td>\n",
       "      <td>0.497584</td>\n",
       "      <td>0.682374</td>\n",
       "    </tr>\n",
       "    <tr>\n",
       "      <th rowspan=\"6\" valign=\"top\">offset</th>\n",
       "      <th>recall</th>\n",
       "      <td>0.928571</td>\n",
       "      <td>1.000000</td>\n",
       "      <td>0.142857</td>\n",
       "      <td>0.571429</td>\n",
       "      <td>0.500000</td>\n",
       "      <td>0.571429</td>\n",
       "      <td>0.964286</td>\n",
       "      <td>0.928571</td>\n",
       "      <td>0.962963</td>\n",
       "      <td>1.000000</td>\n",
       "      <td>...</td>\n",
       "      <td>0.964286</td>\n",
       "      <td>0.857143</td>\n",
       "      <td>9.333333e-01</td>\n",
       "      <td>1.000000e+00</td>\n",
       "      <td>0.200000</td>\n",
       "      <td>0.500000</td>\n",
       "      <td>0.866667</td>\n",
       "      <td>0.500000</td>\n",
       "      <td>0.966667</td>\n",
       "      <td>0.866667</td>\n",
       "    </tr>\n",
       "    <tr>\n",
       "      <th>precision</th>\n",
       "      <td>0.962963</td>\n",
       "      <td>0.848485</td>\n",
       "      <td>0.333333</td>\n",
       "      <td>0.888889</td>\n",
       "      <td>0.518519</td>\n",
       "      <td>0.888889</td>\n",
       "      <td>0.794118</td>\n",
       "      <td>0.787879</td>\n",
       "      <td>0.928571</td>\n",
       "      <td>0.818182</td>\n",
       "      <td>...</td>\n",
       "      <td>0.900000</td>\n",
       "      <td>0.923077</td>\n",
       "      <td>1.000000e+00</td>\n",
       "      <td>1.000000e+00</td>\n",
       "      <td>0.600000</td>\n",
       "      <td>1.000000</td>\n",
       "      <td>0.866667</td>\n",
       "      <td>0.882353</td>\n",
       "      <td>0.966667</td>\n",
       "      <td>1.000000</td>\n",
       "    </tr>\n",
       "    <tr>\n",
       "      <th>f1</th>\n",
       "      <td>0.945455</td>\n",
       "      <td>0.918033</td>\n",
       "      <td>0.200000</td>\n",
       "      <td>0.695652</td>\n",
       "      <td>0.509091</td>\n",
       "      <td>0.695652</td>\n",
       "      <td>0.870968</td>\n",
       "      <td>0.852459</td>\n",
       "      <td>0.945455</td>\n",
       "      <td>0.900000</td>\n",
       "      <td>...</td>\n",
       "      <td>0.931034</td>\n",
       "      <td>0.888889</td>\n",
       "      <td>9.655172e-01</td>\n",
       "      <td>1.000000e+00</td>\n",
       "      <td>0.300000</td>\n",
       "      <td>0.666667</td>\n",
       "      <td>0.866667</td>\n",
       "      <td>0.638298</td>\n",
       "      <td>0.966667</td>\n",
       "      <td>0.928571</td>\n",
       "    </tr>\n",
       "    <tr>\n",
       "      <th>false_alarm_rate</th>\n",
       "      <td>0.002350</td>\n",
       "      <td>0.011752</td>\n",
       "      <td>0.018803</td>\n",
       "      <td>0.004701</td>\n",
       "      <td>0.030556</td>\n",
       "      <td>0.004701</td>\n",
       "      <td>0.016453</td>\n",
       "      <td>0.016453</td>\n",
       "      <td>0.004690</td>\n",
       "      <td>0.014069</td>\n",
       "      <td>...</td>\n",
       "      <td>0.019550</td>\n",
       "      <td>0.013033</td>\n",
       "      <td>0.000000e+00</td>\n",
       "      <td>0.000000e+00</td>\n",
       "      <td>0.026411</td>\n",
       "      <td>0.000000</td>\n",
       "      <td>0.026411</td>\n",
       "      <td>0.013205</td>\n",
       "      <td>0.006603</td>\n",
       "      <td>0.000000</td>\n",
       "    </tr>\n",
       "    <tr>\n",
       "      <th>d_prime</th>\n",
       "      <td>4.292082</td>\n",
       "      <td>5.048805</td>\n",
       "      <td>1.011544</td>\n",
       "      <td>2.777103</td>\n",
       "      <td>1.872691</td>\n",
       "      <td>2.777103</td>\n",
       "      <td>3.935972</td>\n",
       "      <td>3.598462</td>\n",
       "      <td>4.384053</td>\n",
       "      <td>4.987958</td>\n",
       "      <td>...</td>\n",
       "      <td>3.865881</td>\n",
       "      <td>3.292792</td>\n",
       "      <td>4.011339e+00</td>\n",
       "      <td>5.091656e+00</td>\n",
       "      <td>1.094759</td>\n",
       "      <td>2.545828</td>\n",
       "      <td>3.047152</td>\n",
       "      <td>2.220121</td>\n",
       "      <td>4.312099</td>\n",
       "      <td>3.638219</td>\n",
       "    </tr>\n",
       "    <tr>\n",
       "      <th>criterion</th>\n",
       "      <td>0.680807</td>\n",
       "      <td>-0.324197</td>\n",
       "      <td>1.573342</td>\n",
       "      <td>1.208539</td>\n",
       "      <td>0.936345</td>\n",
       "      <td>1.208539</td>\n",
       "      <td>0.165243</td>\n",
       "      <td>0.333997</td>\n",
       "      <td>0.405871</td>\n",
       "      <td>-0.354620</td>\n",
       "      <td>...</td>\n",
       "      <td>0.130197</td>\n",
       "      <td>0.578826</td>\n",
       "      <td>5.401587e-01</td>\n",
       "      <td>1.776357e-15</td>\n",
       "      <td>1.389001</td>\n",
       "      <td>1.272914</td>\n",
       "      <td>0.412804</td>\n",
       "      <td>1.110060</td>\n",
       "      <td>0.322135</td>\n",
       "      <td>0.726719</td>\n",
       "    </tr>\n",
       "    <tr>\n",
       "      <th rowspan=\"12\" valign=\"top\">saccade</th>\n",
       "      <th rowspan=\"6\" valign=\"top\">onset</th>\n",
       "      <th>recall</th>\n",
       "      <td>1.000000</td>\n",
       "      <td>1.000000</td>\n",
       "      <td>0.520000</td>\n",
       "      <td>0.640000</td>\n",
       "      <td>0.480000</td>\n",
       "      <td>0.640000</td>\n",
       "      <td>1.000000</td>\n",
       "      <td>1.000000</td>\n",
       "      <td>0.961538</td>\n",
       "      <td>1.000000</td>\n",
       "      <td>...</td>\n",
       "      <td>0.962963</td>\n",
       "      <td>0.851852</td>\n",
       "      <td>1.000000e+00</td>\n",
       "      <td>1.000000e+00</td>\n",
       "      <td>0.555556</td>\n",
       "      <td>0.444444</td>\n",
       "      <td>0.814815</td>\n",
       "      <td>0.444444</td>\n",
       "      <td>0.962963</td>\n",
       "      <td>0.851852</td>\n",
       "    </tr>\n",
       "    <tr>\n",
       "      <th>precision</th>\n",
       "      <td>0.961538</td>\n",
       "      <td>0.806452</td>\n",
       "      <td>1.000000</td>\n",
       "      <td>0.941176</td>\n",
       "      <td>0.461538</td>\n",
       "      <td>0.941176</td>\n",
       "      <td>0.781250</td>\n",
       "      <td>0.781250</td>\n",
       "      <td>1.000000</td>\n",
       "      <td>0.838710</td>\n",
       "      <td>...</td>\n",
       "      <td>0.838710</td>\n",
       "      <td>0.821429</td>\n",
       "      <td>1.000000e+00</td>\n",
       "      <td>8.437500e-01</td>\n",
       "      <td>1.000000</td>\n",
       "      <td>0.705882</td>\n",
       "      <td>0.785714</td>\n",
       "      <td>0.705882</td>\n",
       "      <td>0.838710</td>\n",
       "      <td>0.821429</td>\n",
       "    </tr>\n",
       "    <tr>\n",
       "      <th>f1</th>\n",
       "      <td>0.980392</td>\n",
       "      <td>0.892857</td>\n",
       "      <td>0.684211</td>\n",
       "      <td>0.761905</td>\n",
       "      <td>0.470588</td>\n",
       "      <td>0.761905</td>\n",
       "      <td>0.877193</td>\n",
       "      <td>0.877193</td>\n",
       "      <td>0.980392</td>\n",
       "      <td>0.912281</td>\n",
       "      <td>...</td>\n",
       "      <td>0.896552</td>\n",
       "      <td>0.836364</td>\n",
       "      <td>1.000000e+00</td>\n",
       "      <td>9.152542e-01</td>\n",
       "      <td>0.714286</td>\n",
       "      <td>0.545455</td>\n",
       "      <td>0.800000</td>\n",
       "      <td>0.545455</td>\n",
       "      <td>0.896552</td>\n",
       "      <td>0.836364</td>\n",
       "    </tr>\n",
       "    <tr>\n",
       "      <th>false_alarm_rate</th>\n",
       "      <td>0.002334</td>\n",
       "      <td>0.014004</td>\n",
       "      <td>0.000000</td>\n",
       "      <td>0.002334</td>\n",
       "      <td>0.032676</td>\n",
       "      <td>0.002334</td>\n",
       "      <td>0.016338</td>\n",
       "      <td>0.016338</td>\n",
       "      <td>0.000000</td>\n",
       "      <td>0.011697</td>\n",
       "      <td>...</td>\n",
       "      <td>0.032372</td>\n",
       "      <td>0.032372</td>\n",
       "      <td>0.000000e+00</td>\n",
       "      <td>3.237198e-02</td>\n",
       "      <td>0.000000</td>\n",
       "      <td>0.032372</td>\n",
       "      <td>0.038846</td>\n",
       "      <td>0.032372</td>\n",
       "      <td>0.032372</td>\n",
       "      <td>0.032372</td>\n",
       "    </tr>\n",
       "    <tr>\n",
       "      <th>d_prime</th>\n",
       "      <td>5.459188</td>\n",
       "      <td>4.989576</td>\n",
       "      <td>2.898532</td>\n",
       "      <td>3.187557</td>\n",
       "      <td>1.792695</td>\n",
       "      <td>3.187557</td>\n",
       "      <td>4.935210</td>\n",
       "      <td>4.935210</td>\n",
       "      <td>4.593647</td>\n",
       "      <td>5.050352</td>\n",
       "      <td>...</td>\n",
       "      <td>3.633177</td>\n",
       "      <td>2.891431</td>\n",
       "      <td>5.091656e+00</td>\n",
       "      <td>4.326659e+00</td>\n",
       "      <td>2.684006</td>\n",
       "      <td>1.707312</td>\n",
       "      <td>2.660013</td>\n",
       "      <td>1.707312</td>\n",
       "      <td>3.633177</td>\n",
       "      <td>2.891431</td>\n",
       "    </tr>\n",
       "    <tr>\n",
       "      <th>criterion</th>\n",
       "      <td>-0.119005</td>\n",
       "      <td>-0.353811</td>\n",
       "      <td>1.399333</td>\n",
       "      <td>1.235320</td>\n",
       "      <td>0.946501</td>\n",
       "      <td>1.235320</td>\n",
       "      <td>-0.380994</td>\n",
       "      <td>-0.380994</td>\n",
       "      <td>0.551776</td>\n",
       "      <td>-0.323423</td>\n",
       "      <td>...</td>\n",
       "      <td>0.030433</td>\n",
       "      <td>0.401307</td>\n",
       "      <td>-1.776357e-15</td>\n",
       "      <td>-3.824985e-01</td>\n",
       "      <td>1.203825</td>\n",
       "      <td>0.993366</td>\n",
       "      <td>0.434227</td>\n",
       "      <td>0.993366</td>\n",
       "      <td>0.030433</td>\n",
       "      <td>0.401307</td>\n",
       "    </tr>\n",
       "    <tr>\n",
       "      <th rowspan=\"6\" valign=\"top\">offset</th>\n",
       "      <th>recall</th>\n",
       "      <td>0.920000</td>\n",
       "      <td>0.520000</td>\n",
       "      <td>0.120000</td>\n",
       "      <td>0.160000</td>\n",
       "      <td>0.600000</td>\n",
       "      <td>0.160000</td>\n",
       "      <td>0.880000</td>\n",
       "      <td>0.880000</td>\n",
       "      <td>0.884615</td>\n",
       "      <td>0.461538</td>\n",
       "      <td>...</td>\n",
       "      <td>0.703704</td>\n",
       "      <td>0.555556</td>\n",
       "      <td>1.000000e+00</td>\n",
       "      <td>4.444444e-01</td>\n",
       "      <td>0.407407</td>\n",
       "      <td>0.444444</td>\n",
       "      <td>0.481481</td>\n",
       "      <td>0.444444</td>\n",
       "      <td>0.703704</td>\n",
       "      <td>0.555556</td>\n",
       "    </tr>\n",
       "    <tr>\n",
       "      <th>precision</th>\n",
       "      <td>0.884615</td>\n",
       "      <td>0.419355</td>\n",
       "      <td>0.230769</td>\n",
       "      <td>0.235294</td>\n",
       "      <td>0.576923</td>\n",
       "      <td>0.235294</td>\n",
       "      <td>0.687500</td>\n",
       "      <td>0.687500</td>\n",
       "      <td>0.920000</td>\n",
       "      <td>0.387097</td>\n",
       "      <td>...</td>\n",
       "      <td>0.612903</td>\n",
       "      <td>0.535714</td>\n",
       "      <td>1.000000e+00</td>\n",
       "      <td>3.750000e-01</td>\n",
       "      <td>0.733333</td>\n",
       "      <td>0.705882</td>\n",
       "      <td>0.464286</td>\n",
       "      <td>0.705882</td>\n",
       "      <td>0.612903</td>\n",
       "      <td>0.535714</td>\n",
       "    </tr>\n",
       "    <tr>\n",
       "      <th>f1</th>\n",
       "      <td>0.901961</td>\n",
       "      <td>0.464286</td>\n",
       "      <td>0.157895</td>\n",
       "      <td>0.190476</td>\n",
       "      <td>0.588235</td>\n",
       "      <td>0.190476</td>\n",
       "      <td>0.771930</td>\n",
       "      <td>0.771930</td>\n",
       "      <td>0.901961</td>\n",
       "      <td>0.421053</td>\n",
       "      <td>...</td>\n",
       "      <td>0.655172</td>\n",
       "      <td>0.545455</td>\n",
       "      <td>1.000000e+00</td>\n",
       "      <td>4.067797e-01</td>\n",
       "      <td>0.523810</td>\n",
       "      <td>0.545455</td>\n",
       "      <td>0.472727</td>\n",
       "      <td>0.545455</td>\n",
       "      <td>0.655172</td>\n",
       "      <td>0.545455</td>\n",
       "    </tr>\n",
       "    <tr>\n",
       "      <th>false_alarm_rate</th>\n",
       "      <td>0.007002</td>\n",
       "      <td>0.042011</td>\n",
       "      <td>0.023340</td>\n",
       "      <td>0.030342</td>\n",
       "      <td>0.025674</td>\n",
       "      <td>0.030342</td>\n",
       "      <td>0.023340</td>\n",
       "      <td>0.023340</td>\n",
       "      <td>0.004679</td>\n",
       "      <td>0.044449</td>\n",
       "      <td>...</td>\n",
       "      <td>0.077693</td>\n",
       "      <td>0.084167</td>\n",
       "      <td>0.000000e+00</td>\n",
       "      <td>1.294879e-01</td>\n",
       "      <td>0.025898</td>\n",
       "      <td>0.032372</td>\n",
       "      <td>0.097116</td>\n",
       "      <td>0.032372</td>\n",
       "      <td>0.077693</td>\n",
       "      <td>0.084167</td>\n",
       "    </tr>\n",
       "    <tr>\n",
       "      <th>d_prime</th>\n",
       "      <td>3.862237</td>\n",
       "      <td>1.777960</td>\n",
       "      <td>0.814211</td>\n",
       "      <td>0.881339</td>\n",
       "      <td>2.201913</td>\n",
       "      <td>0.881339</td>\n",
       "      <td>3.164184</td>\n",
       "      <td>3.164184</td>\n",
       "      <td>3.797081</td>\n",
       "      <td>1.604679</td>\n",
       "      <td>...</td>\n",
       "      <td>1.955846</td>\n",
       "      <td>1.517286</td>\n",
       "      <td>5.091656e+00</td>\n",
       "      <td>9.891047e-01</td>\n",
       "      <td>1.710613</td>\n",
       "      <td>1.707312</td>\n",
       "      <td>1.251726</td>\n",
       "      <td>1.707312</td>\n",
       "      <td>1.955846</td>\n",
       "      <td>1.517286</td>\n",
       "    </tr>\n",
       "    <tr>\n",
       "      <th>criterion</th>\n",
       "      <td>0.526047</td>\n",
       "      <td>0.838826</td>\n",
       "      <td>1.582092</td>\n",
       "      <td>1.435127</td>\n",
       "      <td>0.847609</td>\n",
       "      <td>1.435127</td>\n",
       "      <td>0.407105</td>\n",
       "      <td>0.407105</td>\n",
       "      <td>0.700161</td>\n",
       "      <td>0.898898</td>\n",
       "      <td>...</td>\n",
       "      <td>0.442840</td>\n",
       "      <td>0.618933</td>\n",
       "      <td>-1.776357e-15</td>\n",
       "      <td>6.342627e-01</td>\n",
       "      <td>1.089526</td>\n",
       "      <td>0.993366</td>\n",
       "      <td>0.672299</td>\n",
       "      <td>0.993366</td>\n",
       "      <td>0.442840</td>\n",
       "      <td>0.618933</td>\n",
       "    </tr>\n",
       "  </tbody>\n",
       "</table>\n",
       "<p>24 rows × 266 columns</p>\n",
       "</div>"
      ]
     },
     "execution_count": 22,
     "metadata": {},
     "output_type": "execute_result"
    }
   ],
   "execution_count": 22
  },
  {
   "metadata": {},
   "cell_type": "markdown",
   "source": [
    "## Functions\n",
    "### Linear Mixed Effects Model\n",
    "We have a measurement (e.g., $d'$) for a hierarchy of conditions: Dataset (entire population) $\\rightarrow$ GT Annotator $\\rightarrow$ PRED Detector $\\rightarrow$ Event (fixation/saccade) $\\rightarrow$ Channel (onset/offset) $\\rightarrow$ single (trial) measurement.  \n",
    "  \n",
    "**(1) Between-Detector Comparison:**  \n",
    "For each **annotator** _(RA, MN)_ separately, we want to test the effect of **channel** _(onset/offset)_ and **event** _(fixation/saccade)_ and their interaction, across all **detectors**, on the measurement. We can do this using a nested linear mixed effects model (LME), using the `statsmodels` package. To put this in formula form:  \n",
    "$$d' \\sim 1 + \\text{event} + \\text{channel} + \\text{event} \\times \\text{channel} + (1|\\text{detector})$$\n",
    "where the `(1|detector)` term specifies that the detector is a random effect.  \n",
    "  \n",
    "  \n",
    "**(2) Within-Detector Comparison:**\n",
    "For each **annotator-detector** pair, we want to test the effect of **event** _(fixation/saccade)_ on the measurement. To put this in formula form:\n",
    "$$d' \\sim 1 + \\text{event} + (1|\\text{channel})$$\n",
    "where the `(1|channel)` term specifies that the channel (onset/offset) is a random effect."
   ],
   "id": "8b21962cb65dc5f"
  },
  {
   "metadata": {
    "ExecuteTime": {
     "end_time": "2025-05-05T09:09:23.509919Z",
     "start_time": "2025-05-05T09:09:23.503339Z"
    }
   },
   "cell_type": "code",
   "source": [
    "def linear_mixed_effect(\n",
    "        dataset: pd.DataFrame, metric: str, gt_annotator: str, pred_detector: Optional[str] = None, include_annotators: bool = True\n",
    "):\n",
    "    # extract the subset of data and reshape it from \"wide\" to \"long\" format\n",
    "    subset = _extract_data(dataset, metric, gt_annotator, pred_detector, include_annotators)\n",
    "    long_subset = _reshape_data(subset, metric)\n",
    "    \n",
    "    # create the LME model and fit to the long-format data\n",
    "    if pred_detector:\n",
    "        # within-detector comparison, use fixation/saccade as the fixed effect and onset/offset as the grouping variable\n",
    "        formula = f\"{metric} ~ {peyes.constants.EVENT_STR}\"     # fixed effect: fixation/saccade\n",
    "        groups = peyes.constants.CHANNEL_TYPE_STR               # grouping variable: onset/offset\n",
    "    else:\n",
    "        # between-detector comparison, use fixation/saccade and onset/offset and their interaction as the fixed effect and the detector as grouping variable\n",
    "        formula = f\"{metric} ~ {peyes.constants.EVENT_STR} + {peyes.constants.CHANNEL_TYPE_STR} + {peyes.constants.EVENT_STR} * {peyes.constants.CHANNEL_TYPE_STR}\"     # fixed effect: fixation/saccade, onset/offset, and their interaction\n",
    "        groups = u.PRED_STR                # grouping variable: detector\n",
    "    \n",
    "    # add random intercept per group (detectors/events) and random slopes w.r.t. each fixed effect (events, channels)\n",
    "    re_formula = \"1 + \" + formula.split(\" ~ \")[1]\n",
    "    \n",
    "    # create and fit the model\n",
    "    model = smf.mixedlm(formula, long_subset, groups=groups, re_formula=re_formula)\n",
    "    result = model.fit()\n",
    "    return result\n",
    "\n",
    "def _extract_data(\n",
    "        dataset: pd.DataFrame, metric: str, gt_annotator: str, pred_detector: Optional[str] = None, include_annotators: bool = True\n",
    ") -> pd.DataFrame:\n",
    "    \"\"\"\n",
    "    Extracts data for the given metric, GT annotator, and PRED detector, if provided.\n",
    "    If pred_detector is None, the function returns the data for all detectors, including the GT annotators, unless `include_annotators` is set to False.\n",
    "    \n",
    "    dataset structure:\n",
    "    - index contains the following levels: \"event\" (fixation/saccade), \"channel_type\" (onset/offset), \"metric\" (e.g. d_prime, f1, etc.)\n",
    "    - columns contain the following levels: \"trial_id\" (numeric: 25, 26...), \"gt\" (RA/MN), \"pred\" (algorithmic detector)\n",
    "    \n",
    "    Returns a DataFrame with the following structure:  \n",
    "    - Rows: MultiIndex with levels [pred, event, channel_type] if pred_detector is None, otherwise [event, channel_type]\n",
    "    - Columns: Single-level index with trial_id\n",
    "    - Values are the metric values for each trial for the (pred, event, channel_type) combination.\n",
    "    \n",
    "    Raise an AssertionError if the metric/annotator/detector is not found in the dataset.\n",
    "    \"\"\"\n",
    "    all_metrics = dataset.index.get_level_values(peyes.constants.METRIC_STR).unique()\n",
    "    assert metric in all_metrics, f\"Metric '{metric}' not in {all_metrics}\"\n",
    "    all_annotators = dataset.columns.get_level_values(u.GT_STR).unique()\n",
    "    assert gt_annotator in all_annotators, f\"Annotator '{gt_annotator}' not in {all_annotators}\"\n",
    "    result = dataset.xs(metric, level=peyes.constants.METRIC_STR, axis=0, drop_level=True).xs(gt_annotator, level=u.GT_STR, axis=1, drop_level=True)\n",
    "    result = result.stack(level=u.PRED_STR, future_stack=True).reorder_levels([u.PRED_STR, peyes.constants.EVENT_STR, peyes.constants.CHANNEL_TYPE_STR])\n",
    "    result.sort_index(inplace=True)\n",
    "    if not include_annotators:\n",
    "        is_annotator = result.index.get_level_values(u.PRED_STR).isin(all_annotators)\n",
    "        result = result.loc[~is_annotator]\n",
    "    \n",
    "    # return the full subset if pred_detector is None\n",
    "    if not pred_detector:\n",
    "        return result\n",
    "    # return the subset for the given pred_detector\n",
    "    all_detectors = result.index.get_level_values(u.PRED_STR).unique()\n",
    "    if pred_detector in all_detectors:\n",
    "        return result.xs(pred_detector, level=u.PRED_STR, axis=0, drop_level=True)\n",
    "    if pred_detector == \"mean\":\n",
    "        return result.groupby(level=[peyes.constants.EVENT_STR, peyes.constants.CHANNEL_TYPE_STR]).mean()\n",
    "    raise AssertionError(f\"Unidentified Detector '{pred_detector}'\")\n",
    "\n",
    "\n",
    "def _reshape_data(data: pd.DataFrame, metric: str) -> pd.DataFrame:\n",
    "    \"\"\" Reshape a DataFrame from \"wide\" to \"long\" format, using the metric as the value variable. \"\"\"\n",
    "    with warnings.catch_warnings():\n",
    "        warnings.simplefilter(\"ignore\", category=FutureWarning)\n",
    "        index_names, column_name = data.index.names, data.columns.name\n",
    "        long_format_data = data.reset_index().melt(\n",
    "            id_vars=index_names,\n",
    "            var_name=column_name,\n",
    "            value_name=metric\n",
    "        )\n",
    "    long_format_data.dropna(axis=0, inplace=True)   # remove rows with missing values\n",
    "    return long_format_data"
   ],
   "id": "50517d3d9df99bc9",
   "outputs": [],
   "execution_count": 23
  },
  {
   "metadata": {},
   "cell_type": "markdown",
   "source": [
    "### Post-Hoc Dunn's Test\n",
    "#### Examining detection differences **between** Detectors or **within** a Detector \n",
    "We compare detection performance between different event types (fixations/saccades) and channel types (onset/offset), across all detectors or for a specific detector (based on whether the `pred_detector` argument is provided or not). We use Dunn's post-hoc test to calculate pairwise differences, with the Bonferroni correction for multiple comparisons. The reason we use Dunn's test is that it is a non-parametric test that does not assume normality, and it is suitable for comparing multiple groups."
   ],
   "id": "523793b8ec67379a"
  },
  {
   "metadata": {
    "ExecuteTime": {
     "end_time": "2025-05-05T09:09:23.625545Z",
     "start_time": "2025-05-05T09:09:23.620192Z"
    }
   },
   "cell_type": "code",
   "source": [
    "def posthoc_dunn(\n",
    "        dataset, metric: str, gt_annotator: str, pred_detector: Optional[str], include_annotators: bool = True\n",
    ") -> pd.DataFrame:\n",
    "    pvalues = _calculate_pvalues(dataset, metric, gt_annotator, pred_detector, include_annotators)\n",
    "    table = _fill_post_hoc_table(pvalues)\n",
    "    if pred_detector:\n",
    "        index_names = [peyes.constants.EVENT_STR, peyes.constants.CHANNEL_TYPE_STR]\n",
    "    else:\n",
    "        index_names = [u.PRED_STR, peyes.constants.EVENT_STR, peyes.constants.CHANNEL_TYPE_STR]\n",
    "    new_index = pd.MultiIndex.from_tuples(table.index.map(lambda idx: tuple(idx.split('_'))), names=index_names)\n",
    "    table.index = table.columns = new_index\n",
    "    return table\n",
    "\n",
    "\n",
    "def _calculate_pvalues(\n",
    "        data: pd.DataFrame, metric: str, gt_annotator: str, pred_detector: Optional[str], include_annotators: bool = True\n",
    ") -> pd.DataFrame:\n",
    "    subset = _extract_data(data, metric, gt_annotator, pred_detector, include_annotators)\n",
    "    long_subset = _reshape_data(subset, metric)\n",
    "    if pred_detector:\n",
    "        # within-detector comparison\n",
    "        new_colname = f\"{peyes.constants.EVENT_STR}_{peyes.constants.CHANNEL_TYPE_STR}\"\n",
    "        long_subset[new_colname] = long_subset[peyes.constants.EVENT_STR] + '_' + long_subset[peyes.constants.CHANNEL_TYPE_STR]\n",
    "    else:\n",
    "        # between-detector comparison\n",
    "        new_colname = f\"{u.PRED_STR}_{peyes.constants.EVENT_STR}_{peyes.constants.CHANNEL_TYPE_STR}\"\n",
    "        long_subset[new_colname] = long_subset[u.PRED_STR] + '_' + long_subset[peyes.constants.EVENT_STR] + '_' + long_subset[peyes.constants.CHANNEL_TYPE_STR]\n",
    "    pvalues = sp.posthoc_dunn(long_subset, val_col=metric, group_col=new_colname, p_adjust='bonferroni')\n",
    "    return pvalues\n",
    "\n",
    "\n",
    "def _fill_post_hoc_table(\n",
    "        posthoc_pvals: pd.DataFrame, alpha: float = 0.05, marginal_alpha: Optional[float] = 0.075,\n",
    ") -> pd.DataFrame:\n",
    "    assert 0 < alpha < 1, f\"parameter `alpha` must be in range (0, 1), {alpha: .3f} given.\"\n",
    "    if marginal_alpha is not None:\n",
    "        assert alpha < marginal_alpha < 1, f\"parameter `marginal_alpha` must be in range ({alpha: .3f}, 1), {marginal_alpha: .3f} given.\"\n",
    "    table = np.full_like(posthoc_pvals, \"n.s.\", dtype=np.dtypes.StringDType())\n",
    "    if marginal_alpha is not None:\n",
    "        table[posthoc_pvals <= marginal_alpha] = '†'\n",
    "    table[posthoc_pvals <= alpha] = '*'\n",
    "    table[posthoc_pvals <= alpha / 5] = '**'\n",
    "    table[posthoc_pvals <= alpha / 50] = '***'\n",
    "    table = pd.DataFrame(table, index=posthoc_pvals.index, columns=posthoc_pvals.columns)\n",
    "    \n",
    "    for i, idx in enumerate(table.index):\n",
    "        for j, col in enumerate(table.columns):\n",
    "            if i == j:\n",
    "                table.loc[idx, col] = '--'\n",
    "            if i > j:\n",
    "                table.iloc[i, j] = posthoc_pvals.iloc[j, i]\n",
    "    return table"
   ],
   "id": "cd6ab4a5894cdd74",
   "outputs": [],
   "execution_count": 24
  },
  {
   "metadata": {},
   "cell_type": "markdown",
   "source": "### Plotting",
   "id": "4c0763cb8ffb24a8"
  },
  {
   "metadata": {
    "ExecuteTime": {
     "end_time": "2025-05-05T09:09:25.125994Z",
     "start_time": "2025-05-05T09:09:25.109026Z"
    }
   },
   "cell_type": "code",
   "source": [
    "def single_bar_plot(\n",
    "        data: pd.DataFrame, metric: str, gt_annotator: str, pred_detector: Optional[str] = None, include_annotators: bool = True\n",
    ") -> go.Figure:\n",
    "    subset = _extract_data(data, metric, gt_annotator, pred_detector, include_annotators)\n",
    "    if not pred_detector:\n",
    "        subset = subset.groupby(level=[peyes.constants.EVENT_STR, peyes.constants.CHANNEL_TYPE_STR]).mean()     # average across detectors\n",
    "    summary = pd.concat([subset.mean(axis=1).rename(\"mean\"), subset.std(axis=1).rename(\"std\")], axis=1).reset_index()\n",
    "    category_orders = {peyes.constants.CHANNEL_TYPE_STR: [\"onset\", \"offset\"]}   # order of the bars\n",
    "    fig = px.bar(\n",
    "        summary,\n",
    "        x=peyes.constants.EVENT_STR, y=\"mean\", error_y=\"std\",\n",
    "        color=peyes.constants.CHANNEL_TYPE_STR, category_orders=category_orders,\n",
    "        labels={peyes.constants.EVENT_STR: \"Event Type\", \"mean\": \"Mean\", \"std\": \"Standard Deviation\"},\n",
    "        barmode='group',\n",
    "    )\n",
    "\n",
    "    # update layout\n",
    "    fig.for_each_annotation(lambda ann: ann.update(font=SUBTITLE_FONT, textangle=0,))\n",
    "    fig.update_xaxes(\n",
    "        title=dict(font=AXIS_LABEL_FONT, standoff=AXIS_LABEL_STANDOFF),\n",
    "        showline=False,\n",
    "        showgrid=False, gridcolor=GRID_LINE_COLOR, gridwidth=GRID_LINE_WIDTH,\n",
    "        zeroline=False, zerolinecolor=GRID_LINE_COLOR, zerolinewidth=ZERO_LINE_WIDTH,\n",
    "        tickfont=AXIS_TICK_FONT,\n",
    "    )\n",
    "    fig.update_yaxes(\n",
    "        title=dict(text=metric.replace('_', ' ').title(), font=AXIS_LABEL_FONT, standoff=AXIS_LABEL_STANDOFF),\n",
    "        showline=False,\n",
    "        showgrid=True, gridcolor=GRID_LINE_COLOR, gridwidth=GRID_LINE_WIDTH,\n",
    "        zeroline=True, zerolinecolor=GRID_LINE_COLOR, zerolinewidth=ZERO_LINE_WIDTH,\n",
    "        tickfont=AXIS_TICK_FONT,\n",
    "    )\n",
    "    fig.update_layout(\n",
    "        font_family=FONT_FAMILY,\n",
    "        width=800, height=450,\n",
    "        paper_bgcolor='rgba(0, 0, 0, 0)', plot_bgcolor='rgba(0, 0, 0, 0)',\n",
    "        margin=dict(l=0, r=0, t=40, b=0, pad=0),\n",
    "        title=dict(text=f\"Fixation vs. Saccade (GT: {gt_annotator})\", font=TITLE_FONT),\n",
    "    )\n",
    "    return fig\n",
    "\n",
    "\n",
    "def multiple_bar_plots(data: pd.DataFrame, metric: str, gt_annotator: str, show_other_annotator: bool = True) -> go.Figure:\n",
    "    subset = _extract_data(data, metric, gt_annotator, include_annotators=show_other_annotator)\n",
    "    detectors = sorted(\n",
    "        subset.index.get_level_values(u.PRED_STR).unique(),\n",
    "        key=lambda dett: LABELER_PLOTTING_CONFIG[dett][0]\n",
    "    )\n",
    "    overall_rows = 2\n",
    "    detector_rows = 2 if len(detectors) > 4 else 1\n",
    "    detector_cols = int(np.ceil(len(detectors) / detector_rows))\n",
    "    subtitle = [\"Overall\"] + list(map(_rename_detector, detectors))\n",
    "    final_fig = make_subplots(\n",
    "        rows=2 + detector_rows, cols=detector_cols, shared_xaxes=True, shared_yaxes=True,\n",
    "        subplot_titles=subtitle,\n",
    "        vertical_spacing=0.075, horizontal_spacing=0.025,\n",
    "        specs=[\n",
    "            [{\"type\": \"bar\", \"rowspan\": overall_rows, \"colspan\": detector_cols}, *[None for _c in range(detector_cols - 1)]],\n",
    "            [None for _c in range(detector_cols)],\n",
    "            *[[{\"type\": \"bar\"}for _c in range(detector_cols)] for _r in range(detector_rows)],\n",
    "        ],\n",
    "        print_grid=False,\n",
    "    )\n",
    "    \n",
    "    # per-detector plots\n",
    "    for i, det in enumerate(detectors):\n",
    "        row, col = 1 + overall_rows + i // detector_cols, 1 + i % detector_cols\n",
    "        bar_fig = single_bar_plot(data, metric, gt_annotator, det, include_annotators=True)\n",
    "        bar_fig.for_each_trace(lambda trace: final_fig.add_trace(trace, row=row, col=col))\n",
    "    final_fig.for_each_trace(lambda trace: trace.update(showlegend=False))\n",
    "\n",
    "    # overall plot\n",
    "    global_bar_fig = single_bar_plot(data, metric, gt_annotator, include_annotators=False)\n",
    "    global_bar_fig.for_each_trace(lambda trace: final_fig.add_trace(trace, row=1, col=1))\n",
    "    \n",
    "    # update layout\n",
    "    final_fig.for_each_annotation(lambda ann: ann.update(font=SUBTITLE_FONT, textangle=0,))\n",
    "    final_fig.update_xaxes(\n",
    "        title=dict(font=AXIS_LABEL_FONT, standoff=AXIS_LABEL_STANDOFF),\n",
    "        showline=False,\n",
    "        showgrid=False, gridcolor=GRID_LINE_COLOR, gridwidth=GRID_LINE_WIDTH,\n",
    "        zeroline=False, zerolinecolor=GRID_LINE_COLOR, zerolinewidth=ZERO_LINE_WIDTH,\n",
    "        tickfont=AXIS_TICK_FONT,\n",
    "    )\n",
    "    final_fig.update_yaxes(\n",
    "        title=dict(font=AXIS_LABEL_FONT, standoff=AXIS_LABEL_STANDOFF),\n",
    "        showline=False,\n",
    "        showgrid=True, gridcolor=GRID_LINE_COLOR, gridwidth=GRID_LINE_WIDTH,\n",
    "        zeroline=True, zerolinecolor=GRID_LINE_COLOR, zerolinewidth=ZERO_LINE_WIDTH,\n",
    "        tickfont=AXIS_TICK_FONT,\n",
    "    )\n",
    "    for r in range(detector_rows):\n",
    "        final_fig.update_yaxes(row=1 + overall_rows + r, col=1, title_text=metric.replace('_', ' ').title(),)\n",
    "    final_fig.update_layout(\n",
    "        font_family=FONT_FAMILY,\n",
    "        width=900, height=750,\n",
    "        paper_bgcolor='rgba(0, 0, 0, 0)', plot_bgcolor='rgba(0, 0, 0, 0)',\n",
    "        margin=dict(l=0, r=0, t=35, b=0, pad=0),\n",
    "        legend=dict(\n",
    "            orientation=\"h\", yanchor=\"top\", xanchor=\"center\", xref='paper', yref='paper', x=0.12, y=0.98,\n",
    "            font=AXIS_LABEL_FONT, itemwidth=30,\n",
    "        ),\n",
    "        title=dict(text=f\"Fixation vs. Saccade (GT: <i>{gt_annotator}</i>)\", font=TITLE_FONT),\n",
    "    )\n",
    "    return final_fig\n",
    "\n",
    "def _rename_detector(det: str) -> str:\n",
    "    if det in [GT1, GT2]:\n",
    "        return f\"<i>Ann. {det.upper()}</i>\"\n",
    "    if det.lower() == \"remodnav\":\n",
    "        return \"REMoDNaV\"\n",
    "    if det.lower().startswith(\"i\"):\n",
    "        return det.replace(\"i\", \"i-\").upper()\n",
    "    return det.upper()"
   ],
   "id": "5c08e526f4b6ac91",
   "outputs": [],
   "execution_count": 25
  },
  {
   "metadata": {},
   "cell_type": "markdown",
   "source": "## Results",
   "id": "15a894afdf75abdf"
  },
  {
   "metadata": {},
   "cell_type": "markdown",
   "source": [
    "### (0) Difference in Means\n",
    "Check if there is a difference in mean performance across all detectors and trials."
   ],
   "id": "b78d59b9f1fb02aa"
  },
  {
   "metadata": {
    "ExecuteTime": {
     "end_time": "2025-05-05T09:09:25.195526Z",
     "start_time": "2025-05-05T09:09:25.186570Z"
    }
   },
   "cell_type": "code",
   "source": [
    "_extract_data(metrics, METRIC, ANNOTATOR, include_annotators=False).groupby(\n",
    "    level=[peyes.constants.EVENT_STR, peyes.constants.CHANNEL_TYPE_STR]).mean().mean(axis=1).unstack(1)"
   ],
   "id": "a0c469e13916415c",
   "outputs": [
    {
     "data": {
      "text/plain": [
       "channel_type    offset     onset\n",
       "event                           \n",
       "fixation      2.785907  1.597712\n",
       "saccade       1.600489  3.034778"
      ],
      "text/html": [
       "<div>\n",
       "<style scoped>\n",
       "    .dataframe tbody tr th:only-of-type {\n",
       "        vertical-align: middle;\n",
       "    }\n",
       "\n",
       "    .dataframe tbody tr th {\n",
       "        vertical-align: top;\n",
       "    }\n",
       "\n",
       "    .dataframe thead th {\n",
       "        text-align: right;\n",
       "    }\n",
       "</style>\n",
       "<table border=\"1\" class=\"dataframe\">\n",
       "  <thead>\n",
       "    <tr style=\"text-align: right;\">\n",
       "      <th>channel_type</th>\n",
       "      <th>offset</th>\n",
       "      <th>onset</th>\n",
       "    </tr>\n",
       "    <tr>\n",
       "      <th>event</th>\n",
       "      <th></th>\n",
       "      <th></th>\n",
       "    </tr>\n",
       "  </thead>\n",
       "  <tbody>\n",
       "    <tr>\n",
       "      <th>fixation</th>\n",
       "      <td>2.785907</td>\n",
       "      <td>1.597712</td>\n",
       "    </tr>\n",
       "    <tr>\n",
       "      <th>saccade</th>\n",
       "      <td>1.600489</td>\n",
       "      <td>3.034778</td>\n",
       "    </tr>\n",
       "  </tbody>\n",
       "</table>\n",
       "</div>"
      ]
     },
     "execution_count": 26,
     "metadata": {},
     "output_type": "execute_result"
    }
   ],
   "execution_count": 26
  },
  {
   "metadata": {},
   "cell_type": "markdown",
   "source": [
    "### (1) Between-Detector Comparison\n",
    "Exclude the 2nd annotator (_RA_ or _MN_) to make sure we check for differences among algorithms, excluding humans\n",
    "\n",
    "#### (1A) Linear Mixed Effects Model\n",
    "We use the full model, controlling for variability between detectors:\n",
    "$$d' \\sim 1 + \\text{event} + \\text{channel} + \\text{event} \\times \\text{channel} + (1|\\text{detector})$$"
   ],
   "id": "209b9a49f0f67a27"
  },
  {
   "metadata": {
    "ExecuteTime": {
     "end_time": "2025-05-05T09:09:25.461265Z",
     "start_time": "2025-05-05T09:09:25.281904Z"
    }
   },
   "cell_type": "code",
   "source": [
    "global_results = linear_mixed_effect(metrics, METRIC, ANNOTATOR, include_annotators=False)\n",
    "global_results.summary()"
   ],
   "id": "6bb246333d8c928a",
   "outputs": [
    {
     "data": {
      "text/plain": [
       "<class 'statsmodels.iolib.summary2.Summary'>\n",
       "\"\"\"\n",
       "                                    Mixed Linear Model Regression Results\n",
       "=============================================================================================================\n",
       "Model:                              MixedLM                   Dependent Variable:                   d_prime  \n",
       "No. Observations:                   560                       Method:                               REML     \n",
       "No. Groups:                         7                         Scale:                                0.5993   \n",
       "Min. group size:                    80                        Log-Likelihood:                       -688.2611\n",
       "Max. group size:                    80                        Converged:                            Yes      \n",
       "Mean group size:                    80.0                                                                     \n",
       "-------------------------------------------------------------------------------------------------------------\n",
       "                                                                   Coef.  Std.Err.   z    P>|z| [0.025 0.975]\n",
       "-------------------------------------------------------------------------------------------------------------\n",
       "Intercept                                                           2.786    0.462  6.031 0.000  1.881  3.691\n",
       "event[T.saccade]                                                   -1.185    0.377 -3.148 0.002 -1.924 -0.447\n",
       "channel_type[T.onset]                                              -1.188    0.431 -2.755 0.006 -2.034 -0.343\n",
       "event[T.saccade]:channel_type[T.onset]                              2.622    0.650  4.036 0.000  1.349  3.896\n",
       "pred Var                                                            1.463    1.121                           \n",
       "pred x event[T.saccade] Cov                                        -0.899    0.812                           \n",
       "event[T.saccade] Var                                                0.933    0.745                           \n",
       "pred x channel_type[T.onset] Cov                                   -0.660    0.823                           \n",
       "event[T.saccade] x channel_type[T.onset] Cov                        0.884    0.773                           \n",
       "channel_type[T.onset] Var                                           1.243    0.977                           \n",
       "pred x event[T.saccade]:channel_type[T.onset] Cov                   1.212    1.292                           \n",
       "event[T.saccade] x event[T.saccade]:channel_type[T.onset] Cov      -1.539    1.243                           \n",
       "channel_type[T.onset] x event[T.saccade]:channel_type[T.onset] Cov -1.732    1.409                           \n",
       "event[T.saccade]:channel_type[T.onset] Var                          2.835    2.217                           \n",
       "=============================================================================================================\n",
       "\n",
       "\"\"\""
      ],
      "text/html": [
       "<table class=\"simpletable\">\n",
       "<tr>\n",
       "       <td>Model:</td>       <td>MixedLM</td> <td>Dependent Variable:</td>  <td>d_prime</td> \n",
       "</tr>\n",
       "<tr>\n",
       "  <td>No. Observations:</td>   <td>560</td>         <td>Method:</td>         <td>REML</td>   \n",
       "</tr>\n",
       "<tr>\n",
       "     <td>No. Groups:</td>       <td>7</td>          <td>Scale:</td>         <td>0.5993</td>  \n",
       "</tr>\n",
       "<tr>\n",
       "  <td>Min. group size:</td>    <td>80</td>      <td>Log-Likelihood:</td>   <td>-688.2611</td>\n",
       "</tr>\n",
       "<tr>\n",
       "  <td>Max. group size:</td>    <td>80</td>        <td>Converged:</td>         <td>Yes</td>   \n",
       "</tr>\n",
       "<tr>\n",
       "  <td>Mean group size:</td>   <td>80.0</td>            <td></td>               <td></td>     \n",
       "</tr>\n",
       "</table>\n",
       "<table class=\"simpletable\">\n",
       "<tr>\n",
       "                                   <td></td>                                   <th>Coef.</th> <th>Std.Err.</th>    <th>z</th>   <th>P>|z|</th> <th>[0.025</th> <th>0.975]</th>\n",
       "</tr>\n",
       "<tr>\n",
       "  <th>Intercept</th>                                                           <td>2.786</td>   <td>0.462</td>   <td>6.031</td> <td>0.000</td>  <td>1.881</td>  <td>3.691</td>\n",
       "</tr>\n",
       "<tr>\n",
       "  <th>event[T.saccade]</th>                                                   <td>-1.185</td>   <td>0.377</td>  <td>-3.148</td> <td>0.002</td> <td>-1.924</td> <td>-0.447</td>\n",
       "</tr>\n",
       "<tr>\n",
       "  <th>channel_type[T.onset]</th>                                              <td>-1.188</td>   <td>0.431</td>  <td>-2.755</td> <td>0.006</td> <td>-2.034</td> <td>-0.343</td>\n",
       "</tr>\n",
       "<tr>\n",
       "  <th>event[T.saccade]:channel_type[T.onset]</th>                              <td>2.622</td>   <td>0.650</td>   <td>4.036</td> <td>0.000</td>  <td>1.349</td>  <td>3.896</td>\n",
       "</tr>\n",
       "<tr>\n",
       "  <th>pred Var</th>                                                            <td>1.463</td>   <td>1.121</td>     <td></td>      <td></td>       <td></td>       <td></td>   \n",
       "</tr>\n",
       "<tr>\n",
       "  <th>pred x event[T.saccade] Cov</th>                                        <td>-0.899</td>   <td>0.812</td>     <td></td>      <td></td>       <td></td>       <td></td>   \n",
       "</tr>\n",
       "<tr>\n",
       "  <th>event[T.saccade] Var</th>                                                <td>0.933</td>   <td>0.745</td>     <td></td>      <td></td>       <td></td>       <td></td>   \n",
       "</tr>\n",
       "<tr>\n",
       "  <th>pred x channel_type[T.onset] Cov</th>                                   <td>-0.660</td>   <td>0.823</td>     <td></td>      <td></td>       <td></td>       <td></td>   \n",
       "</tr>\n",
       "<tr>\n",
       "  <th>event[T.saccade] x channel_type[T.onset] Cov</th>                        <td>0.884</td>   <td>0.773</td>     <td></td>      <td></td>       <td></td>       <td></td>   \n",
       "</tr>\n",
       "<tr>\n",
       "  <th>channel_type[T.onset] Var</th>                                           <td>1.243</td>   <td>0.977</td>     <td></td>      <td></td>       <td></td>       <td></td>   \n",
       "</tr>\n",
       "<tr>\n",
       "  <th>pred x event[T.saccade]:channel_type[T.onset] Cov</th>                   <td>1.212</td>   <td>1.292</td>     <td></td>      <td></td>       <td></td>       <td></td>   \n",
       "</tr>\n",
       "<tr>\n",
       "  <th>event[T.saccade] x event[T.saccade]:channel_type[T.onset] Cov</th>      <td>-1.539</td>   <td>1.243</td>     <td></td>      <td></td>       <td></td>       <td></td>   \n",
       "</tr>\n",
       "<tr>\n",
       "  <th>channel_type[T.onset] x event[T.saccade]:channel_type[T.onset] Cov</th> <td>-1.732</td>   <td>1.409</td>     <td></td>      <td></td>       <td></td>       <td></td>   \n",
       "</tr>\n",
       "<tr>\n",
       "  <th>event[T.saccade]:channel_type[T.onset] Var</th>                          <td>2.835</td>   <td>2.217</td>     <td></td>      <td></td>       <td></td>       <td></td>   \n",
       "</tr>\n",
       "</table><br/>\n"
      ],
      "text/latex": "\\begin{table}\n\\caption{Mixed Linear Model Regression Results}\n\\label{}\n\\begin{center}\n\\begin{tabular}{llll}\n\\hline\nModel:            & MixedLM & Dependent Variable: & d\\_prime   \\\\\nNo. Observations: & 560     & Method:             & REML       \\\\\nNo. Groups:       & 7       & Scale:              & 0.5993     \\\\\nMin. group size:  & 80      & Log-Likelihood:     & -688.2611  \\\\\nMax. group size:  & 80      & Converged:          & Yes        \\\\\nMean group size:  & 80.0    &                     &            \\\\\n\\hline\n\\end{tabular}\n\\end{center}\n\n\\begin{center}\n\\begin{tabular}{lrrrrrr}\n\\hline\n                                                                     &  Coef. & Std.Err. &      z & P$> |$z$|$ & [0.025 & 0.975]  \\\\\n\\hline\nIntercept                                                            &  2.786 &    0.462 &  6.031 &       0.000 &  1.881 &  3.691  \\\\\nevent[T.saccade]                                                     & -1.185 &    0.377 & -3.148 &       0.002 & -1.924 & -0.447  \\\\\nchannel\\_type[T.onset]                                               & -1.188 &    0.431 & -2.755 &       0.006 & -2.034 & -0.343  \\\\\nevent[T.saccade]:channel\\_type[T.onset]                              &  2.622 &    0.650 &  4.036 &       0.000 &  1.349 &  3.896  \\\\\npred Var                                                             &  1.463 &    1.121 &        &             &        &         \\\\\npred x event[T.saccade] Cov                                          & -0.899 &    0.812 &        &             &        &         \\\\\nevent[T.saccade] Var                                                 &  0.933 &    0.745 &        &             &        &         \\\\\npred x channel\\_type[T.onset] Cov                                    & -0.660 &    0.823 &        &             &        &         \\\\\nevent[T.saccade] x channel\\_type[T.onset] Cov                        &  0.884 &    0.773 &        &             &        &         \\\\\nchannel\\_type[T.onset] Var                                           &  1.243 &    0.977 &        &             &        &         \\\\\npred x event[T.saccade]:channel\\_type[T.onset] Cov                   &  1.212 &    1.292 &        &             &        &         \\\\\nevent[T.saccade] x event[T.saccade]:channel\\_type[T.onset] Cov       & -1.539 &    1.243 &        &             &        &         \\\\\nchannel\\_type[T.onset] x event[T.saccade]:channel\\_type[T.onset] Cov & -1.732 &    1.409 &        &             &        &         \\\\\nevent[T.saccade]:channel\\_type[T.onset] Var                          &  2.835 &    2.217 &        &             &        &         \\\\\n\\hline\n\\end{tabular}\n\\end{center}\n\\end{table}\n\\bigskip\n"
     },
     "execution_count": 27,
     "metadata": {},
     "output_type": "execute_result"
    }
   ],
   "execution_count": 27
  },
  {
   "metadata": {
    "ExecuteTime": {
     "end_time": "2025-05-05T09:09:25.554317Z",
     "start_time": "2025-05-05T09:09:25.546227Z"
    }
   },
   "cell_type": "code",
   "source": [
    "results_table = pd.concat(\n",
    "    [\n",
    "        global_results.params.map(lambda b: f\"{b :.3f}\"),\n",
    "        global_results.tvalues.map(lambda t: f\"{t :.3f}\"),\n",
    "        global_results.pvalues.map(lambda p: f\"{p :.3f}\" if p>=ALPHA / 50 else f\"<{ALPHA / 50 :.3f}\")],\n",
    "    keys=['β', 't', 'p'], axis=1\n",
    ")\n",
    "is_sig = global_results.pvalues.map(\n",
    "    lambda p: \"***\" if p <= ALPHA / 50 else \"**\" if p <= ALPHA / 5 else \"*\" if p <= ALPHA else \"†\" if p <= MARGINAL_ALPHA else \"n.s.\"\n",
    ").rename(\"is sig\")\n",
    "conf_invl = global_results.conf_int(ALPHA).rename(columns={0: f\"[{ALPHA/2 :.3f}\", 1: f\"{1 - ALPHA/2 :.3f}]\"}).map(lambda val: f\"{val: .3f}\")\n",
    "\n",
    "results_table = pd.concat([results_table, is_sig, conf_invl], axis=1)\n",
    "results_table"
   ],
   "id": "268c1bb0ba0f746f",
   "outputs": [
    {
     "data": {
      "text/plain": [
       "                                                         β       t       p  \\\n",
       "Intercept                                            2.786   6.031  <0.001   \n",
       "event[T.saccade]                                    -1.185  -3.148   0.002   \n",
       "channel_type[T.onset]                               -1.188  -2.755   0.006   \n",
       "event[T.saccade]:channel_type[T.onset]               2.622   4.036  <0.001   \n",
       "pred Var                                             2.442   1.687   0.092   \n",
       "pred x event[T.saccade] Cov                         -1.500  -1.431   0.153   \n",
       "event[T.saccade] Var                                 1.557   1.617   0.106   \n",
       "pred x channel_type[T.onset] Cov                    -1.102  -1.037   0.300   \n",
       "event[T.saccade] x channel_type[T.onset] Cov         1.476   1.478   0.140   \n",
       "channel_type[T.onset] Var                            2.073   1.643   0.100   \n",
       "pred x event[T.saccade]:channel_type[T.onset] Cov    2.023   1.212   0.225   \n",
       "event[T.saccade] x event[T.saccade]:channel_typ...  -2.568  -1.600   0.110   \n",
       "channel_type[T.onset] x event[T.saccade]:channe...  -2.890  -1.588   0.112   \n",
       "event[T.saccade]:channel_type[T.onset] Var           4.731   1.652   0.099   \n",
       "\n",
       "                                                   is sig  [0.025   0.975]  \n",
       "Intercept                                             ***   1.881    3.691  \n",
       "event[T.saccade]                                       **  -1.924   -0.447  \n",
       "channel_type[T.onset]                                  **  -2.034   -0.343  \n",
       "event[T.saccade]:channel_type[T.onset]                ***   1.349    3.896  \n",
       "pred Var                                             n.s.  -0.396    5.280  \n",
       "pred x event[T.saccade] Cov                          n.s.  -3.555    0.555  \n",
       "event[T.saccade] Var                                 n.s.  -0.330    3.443  \n",
       "pred x channel_type[T.onset] Cov                     n.s.  -3.185    0.981  \n",
       "event[T.saccade] x channel_type[T.onset] Cov         n.s.  -0.482    3.433  \n",
       "channel_type[T.onset] Var                            n.s.  -0.400    4.546  \n",
       "pred x event[T.saccade]:channel_type[T.onset] Cov    n.s.  -1.248    5.293  \n",
       "event[T.saccade] x event[T.saccade]:channel_typ...   n.s.  -5.714    0.578  \n",
       "channel_type[T.onset] x event[T.saccade]:channe...   n.s.  -6.456    0.676  \n",
       "event[T.saccade]:channel_type[T.onset] Var           n.s.  -0.882   10.344  "
      ],
      "text/html": [
       "<div>\n",
       "<style scoped>\n",
       "    .dataframe tbody tr th:only-of-type {\n",
       "        vertical-align: middle;\n",
       "    }\n",
       "\n",
       "    .dataframe tbody tr th {\n",
       "        vertical-align: top;\n",
       "    }\n",
       "\n",
       "    .dataframe thead th {\n",
       "        text-align: right;\n",
       "    }\n",
       "</style>\n",
       "<table border=\"1\" class=\"dataframe\">\n",
       "  <thead>\n",
       "    <tr style=\"text-align: right;\">\n",
       "      <th></th>\n",
       "      <th>β</th>\n",
       "      <th>t</th>\n",
       "      <th>p</th>\n",
       "      <th>is sig</th>\n",
       "      <th>[0.025</th>\n",
       "      <th>0.975]</th>\n",
       "    </tr>\n",
       "  </thead>\n",
       "  <tbody>\n",
       "    <tr>\n",
       "      <th>Intercept</th>\n",
       "      <td>2.786</td>\n",
       "      <td>6.031</td>\n",
       "      <td>&lt;0.001</td>\n",
       "      <td>***</td>\n",
       "      <td>1.881</td>\n",
       "      <td>3.691</td>\n",
       "    </tr>\n",
       "    <tr>\n",
       "      <th>event[T.saccade]</th>\n",
       "      <td>-1.185</td>\n",
       "      <td>-3.148</td>\n",
       "      <td>0.002</td>\n",
       "      <td>**</td>\n",
       "      <td>-1.924</td>\n",
       "      <td>-0.447</td>\n",
       "    </tr>\n",
       "    <tr>\n",
       "      <th>channel_type[T.onset]</th>\n",
       "      <td>-1.188</td>\n",
       "      <td>-2.755</td>\n",
       "      <td>0.006</td>\n",
       "      <td>**</td>\n",
       "      <td>-2.034</td>\n",
       "      <td>-0.343</td>\n",
       "    </tr>\n",
       "    <tr>\n",
       "      <th>event[T.saccade]:channel_type[T.onset]</th>\n",
       "      <td>2.622</td>\n",
       "      <td>4.036</td>\n",
       "      <td>&lt;0.001</td>\n",
       "      <td>***</td>\n",
       "      <td>1.349</td>\n",
       "      <td>3.896</td>\n",
       "    </tr>\n",
       "    <tr>\n",
       "      <th>pred Var</th>\n",
       "      <td>2.442</td>\n",
       "      <td>1.687</td>\n",
       "      <td>0.092</td>\n",
       "      <td>n.s.</td>\n",
       "      <td>-0.396</td>\n",
       "      <td>5.280</td>\n",
       "    </tr>\n",
       "    <tr>\n",
       "      <th>pred x event[T.saccade] Cov</th>\n",
       "      <td>-1.500</td>\n",
       "      <td>-1.431</td>\n",
       "      <td>0.153</td>\n",
       "      <td>n.s.</td>\n",
       "      <td>-3.555</td>\n",
       "      <td>0.555</td>\n",
       "    </tr>\n",
       "    <tr>\n",
       "      <th>event[T.saccade] Var</th>\n",
       "      <td>1.557</td>\n",
       "      <td>1.617</td>\n",
       "      <td>0.106</td>\n",
       "      <td>n.s.</td>\n",
       "      <td>-0.330</td>\n",
       "      <td>3.443</td>\n",
       "    </tr>\n",
       "    <tr>\n",
       "      <th>pred x channel_type[T.onset] Cov</th>\n",
       "      <td>-1.102</td>\n",
       "      <td>-1.037</td>\n",
       "      <td>0.300</td>\n",
       "      <td>n.s.</td>\n",
       "      <td>-3.185</td>\n",
       "      <td>0.981</td>\n",
       "    </tr>\n",
       "    <tr>\n",
       "      <th>event[T.saccade] x channel_type[T.onset] Cov</th>\n",
       "      <td>1.476</td>\n",
       "      <td>1.478</td>\n",
       "      <td>0.140</td>\n",
       "      <td>n.s.</td>\n",
       "      <td>-0.482</td>\n",
       "      <td>3.433</td>\n",
       "    </tr>\n",
       "    <tr>\n",
       "      <th>channel_type[T.onset] Var</th>\n",
       "      <td>2.073</td>\n",
       "      <td>1.643</td>\n",
       "      <td>0.100</td>\n",
       "      <td>n.s.</td>\n",
       "      <td>-0.400</td>\n",
       "      <td>4.546</td>\n",
       "    </tr>\n",
       "    <tr>\n",
       "      <th>pred x event[T.saccade]:channel_type[T.onset] Cov</th>\n",
       "      <td>2.023</td>\n",
       "      <td>1.212</td>\n",
       "      <td>0.225</td>\n",
       "      <td>n.s.</td>\n",
       "      <td>-1.248</td>\n",
       "      <td>5.293</td>\n",
       "    </tr>\n",
       "    <tr>\n",
       "      <th>event[T.saccade] x event[T.saccade]:channel_type[T.onset] Cov</th>\n",
       "      <td>-2.568</td>\n",
       "      <td>-1.600</td>\n",
       "      <td>0.110</td>\n",
       "      <td>n.s.</td>\n",
       "      <td>-5.714</td>\n",
       "      <td>0.578</td>\n",
       "    </tr>\n",
       "    <tr>\n",
       "      <th>channel_type[T.onset] x event[T.saccade]:channel_type[T.onset] Cov</th>\n",
       "      <td>-2.890</td>\n",
       "      <td>-1.588</td>\n",
       "      <td>0.112</td>\n",
       "      <td>n.s.</td>\n",
       "      <td>-6.456</td>\n",
       "      <td>0.676</td>\n",
       "    </tr>\n",
       "    <tr>\n",
       "      <th>event[T.saccade]:channel_type[T.onset] Var</th>\n",
       "      <td>4.731</td>\n",
       "      <td>1.652</td>\n",
       "      <td>0.099</td>\n",
       "      <td>n.s.</td>\n",
       "      <td>-0.882</td>\n",
       "      <td>10.344</td>\n",
       "    </tr>\n",
       "  </tbody>\n",
       "</table>\n",
       "</div>"
      ]
     },
     "execution_count": 28,
     "metadata": {},
     "output_type": "execute_result"
    }
   ],
   "execution_count": 28
  },
  {
   "metadata": {},
   "cell_type": "markdown",
   "source": [
    "#### (1B) Check Residual Normality\n",
    "Verify that the model's residuals are normally distributed, to justify the use of a nested linear mixed effects (NLME) model.\n",
    "\n",
    "We use the `D’Agostino-Pearson` and `Shapiro-Wilk` tests to check for normality, and also plot the distribution of the residuals for visual inspection."
   ],
   "id": "d4b591a142a2ee37"
  },
  {
   "metadata": {
    "ExecuteTime": {
     "end_time": "2025-05-05T09:09:25.712472Z",
     "start_time": "2025-05-05T09:09:25.685855Z"
    }
   },
   "cell_type": "code",
   "source": [
    "residuals = global_results.resid\n",
    "print(\"Residuals Normality Tests:\\n\")\n",
    "\n",
    "skew, kurt = st.skew(residuals), st.kurtosis(residuals, fisher=True)\n",
    "print(f\"Residual Skewness: {skew:.3f} [Normal=0], Kurtosis: {kurt:.3f} [Normal=0]\\n\")\n",
    "\n",
    "k2, p = st.normaltest(residuals)    # D'Agostino-Pearson test\n",
    "output = \"Data is normally distributed\" if p > 0.05 else \"Data is not (!) normally distributed\"\n",
    "print(f\"D'Agostino-Pearson test: k2={k2:.3f}, p-value={p:.3f} --> {output}\\n\")\n",
    "\n",
    "w, p = st.shapiro(residuals)        # Shapiro-Wilk test\n",
    "output = \"Data is normally distributed\" if p > 0.05 else \"Data is not (!) normally distributed\"\n",
    "print(f\"Shapiro-Wilk test: W={w:.3f}, p-value={p:.3f} --> {output}\\n\")\n",
    "\n",
    "and_res = st.anderson(residuals, dist=\"norm\")\n",
    "\n",
    "residuals_fig = px.histogram(residuals, title=\"Residuals Distribution (Global Model)\")\n",
    "residuals_fig.update_layout(\n",
    "    font_family=FONT_FAMILY,\n",
    "    width=800, height=450,\n",
    "    paper_bgcolor='rgba(0, 0, 0, 0)', plot_bgcolor='rgba(0, 0, 0, 0)',\n",
    "    margin=dict(l=0, r=0, t=25, b=0, pad=0),\n",
    "    showlegend=False,\n",
    ")\n",
    "residuals_fig.show()"
   ],
   "id": "926c3e9400462fcb",
   "outputs": [
    {
     "name": "stdout",
     "output_type": "stream",
     "text": [
      "Residuals Normality Tests:\n",
      "\n",
      "Residual Skewness: 0.164 [Normal=0], Kurtosis: 0.553 [Normal=0]\n",
      "\n",
      "D'Agostino-Pearson test: k2=7.912, p-value=0.019 --> Data is not (!) normally distributed\n",
      "\n",
      "Shapiro-Wilk test: W=0.992, p-value=0.006 --> Data is not (!) normally distributed\n",
      "\n"
     ]
    },
    {
     "data": {
      "application/vnd.plotly.v1+json": {
       "data": [
        {
         "alignmentgroup": "True",
         "bingroup": "x",
         "hovertemplate": "variable=0<br>value=%{x}<br>count=%{y}<extra></extra>",
         "legendgroup": "0",
         "marker": {
          "color": "#636efa",
          "pattern": {
           "shape": ""
          }
         },
         "name": "0",
         "offsetgroup": "0",
         "orientation": "v",
         "showlegend": true,
         "x": [
          0.7710284417633915,
          1.0787223410788598,
          -0.12201778357598037,
          0.5869148907561677,
          0.4988744951644777,
          -0.06148908448278512,
          0.17985093855685896,
          0.9286269770201891,
          0.4541705192105039,
          -0.08098331322936159,
          0.17944372331236214,
          0.8501909015570868,
          -0.32502549546231085,
          0.017358436567837643,
          0.8555793788434181,
          0.9845771702048554,
          0.19668240117833724,
          0.5178174867395535,
          0.7359498706502823,
          1.0600075922572088,
          0.002148490595659469,
          0.4796117517193168,
          0.09469753503279721,
          -0.2971443630310353,
          -0.07754983388189296,
          0.31379983330619443,
          -0.24179982353767193,
          0.569715241299309,
          0.5403527449803311,
          1.8996872989684563,
          1.2180722037871574,
          0.49894601240301917,
          0.141655193109806,
          1.8656059728389434,
          -0.932341600088016,
          -0.4709766227346963,
          0.09695121715583221,
          1.846111744092367,
          -0.9327488153325129,
          -0.5494126981977987,
          -0.1133091105782853,
          0.4570107337712104,
          0.3536251885426229,
          -0.9228204916812595,
          1.2652054571082272,
          0.5848346587109843,
          0.23399568034948715,
          -0.8473900696289061,
          0.28284713030055775,
          1.1886008677103406,
          0.3563353206818354,
          -0.05657277671187266,
          -2.0731286365601993,
          0.0667564885284988,
          0.7319426041237196,
          -0.5408637902430937,
          0.7664798940165074,
          0.11098202296588955,
          0.27653977042302436,
          0.5805308962843672,
          0.44335725985724794,
          0.4249039250441433,
          0.1929373243215502,
          0.35051290142580127,
          0.39865328390327415,
          0.40540969629756685,
          0.19253010907705337,
          0.43844300758355503,
          1.120768777386766,
          1.9210835381033862,
          0.5026368150335263,
          1.032559457847955,
          1.1393450276646342,
          -0.16238913910693542,
          0.5752116923737436,
          0.9187604798340305,
          -0.5703009172579769,
          -1.130353681227469,
          -1.1056685195068832,
          -1.0882925863202606,
          0.27903794613380484,
          -0.10152515090333991,
          0.3740306857002704,
          0.3032609658835419,
          0.6033645241299528,
          0.5827113844465979,
          -1.3060751115883065,
          0.47936109176998265,
          0.44931967445445187,
          0.01103451726000304,
          0.216257578427119,
          0.4225194186622403,
          0.40461569850047807,
          -0.008459711486573429,
          0.21585036318262218,
          0.3440833431991379,
          1.122980051653364,
          -0.00915105175750508,
          -0.3062634077411057,
          1.0966163668354483,
          1.1418520060871917,
          0.706677135027828,
          -0.20705307042393972,
          0.9214013697121275,
          -0.05419193443936021,
          0.3397840762032236,
          -0.3302191503930363,
          -0.3128432172064137,
          0.7725432987849794,
          0.39198020174783466,
          -0.11763624644803461,
          0.6869319021786056,
          -0.1651883188075809,
          0.833806389807191,
          -0.6719494158557897,
          0.8020981704842622,
          0.6679405432105536,
          -0.11062845013559275,
          -0.7420543294804047,
          0.38058366857866943,
          0.6232365672565798,
          -0.13012267888216922,
          -0.43534496136314493,
          0.4767147818901485,
          -0.9823765944308769,
          -0.9045956754503595,
          0.30009332833105784,
          -1.0207370385125025,
          -0.029718847307250496,
          0.6712182572601946,
          0.19653702680728857,
          -1.0918852068569995,
          -0.4362456471325875,
          0.7165007177538274,
          -0.651562688365958,
          -0.6341867551793354,
          0.5661479686430797,
          0.7523272400558152,
          -0.3736229454092135,
          0.47674084060949795,
          0.3267602530235063,
          0.6199848861047244,
          -0.19361695561867975,
          0.22888784436574916,
          0.13081987188620792,
          0.013583042035389958,
          0.17648685503751582,
          0.01569802775636031,
          0.08611589593223412,
          -0.005911186711186511,
          0.13838719999233595,
          0.027631971010200207,
          -0.9109448561979394,
          1.215614189210159,
          -0.9339253127775722,
          -0.8997570219041755,
          -1.012802152015491,
          -0.8757231892629442,
          -1.0275259041943328,
          -0.9426274041083369,
          0.029576756781719782,
          0.40183274641519695,
          0.15191170690513767,
          -0.361998785526797,
          0.3415398059407284,
          -0.23126605149784596,
          -0.7796393241084989,
          0.058261880193967386,
          -0.9819204777832602,
          -0.8021546014286942,
          0.04315600154981092,
          -1.0603894513970595,
          0.3863777924198941,
          0.5098762283680551,
          -0.3676513237832113,
          0.27720378989737426,
          0.3416738164659203,
          0.49038199962147866,
          -0.39158997389109007,
          0.4618547115354201,
          0.5098790711841281,
          -0.3544247947322128,
          -0.6401445473079406,
          0.5246292034863203,
          -1.1031038145276741,
          -1.028591689278664,
          -0.5610525490099425,
          0.2325749075972703,
          -0.7592932867950095,
          -1.4678093133562475,
          -0.6867068734037332,
          -1.1643297996834006,
          0.09171043239047094,
          -0.49048455668274316,
          -0.03509918365914655,
          -0.11027237455352079,
          0.42636648593106674,
          0.014171625227543672,
          -0.10849798282605105,
          0.48657870468428044,
          -0.10351030763330238,
          -1.0906140709262988,
          0.3745630877218886,
          -0.4224769588064534,
          -0.09433072674760723,
          -1.0822588528501595,
          0.33655956836395096,
          -0.19658999168143465,
          0.8485593273739931,
          0.8390249052233383,
          0.0016496426504075679,
          1.0415657067653221,
          -1.9211733473200696,
          -1.419780457578511,
          -0.26957673588728603,
          0.4919171706840362,
          -0.3856844437011342,
          -0.18700423715209857,
          -0.2523347549657229,
          0.08294400013728476,
          -0.10879878296179735,
          -0.4893618799989421,
          -0.45334069427521695,
          -0.043652513034896145,
          0.1310232363146282,
          0.7284194019228858,
          2.1540575983778814,
          0.40088538052158285,
          -0.1426491076894454,
          0.9400995792040391,
          1.6088027821194972,
          0.05136069674365151,
          -0.18735308364341918,
          0.9206053504574626,
          1.6083955668750005,
          0.12572458670909992,
          -0.17870840066321492,
          1.5874292699415657,
          2.0034941824549968,
          0.3614662416797847,
          0.3328931262739814,
          0.7795618075548942,
          2.375312374667247,
          0.9283443641375242,
          1.1325571453894483,
          1.6815690369036838,
          1.6139917561459285,
          1.2494446569434232,
          -0.19179908587189076,
          -0.5723621829090355,
          1.2542799236020674,
          0.1342734946638049,
          -0.16661192749508835,
          1.1927226264930368,
          1.345847494107023,
          -0.7608871600828104,
          -0.0771987429965697,
          -1.1861348392974376,
          1.1987474686175321,
          -0.19114311632789915,
          -0.1219027189505435,
          -1.205629068044014,
          1.1983402533730354,
          -0.26957919179100154,
          -1.2972307539034285,
          0.27649506783213695,
          0.5506001872371185,
          -1.0914277535380936,
          -0.7436414670242253,
          0.19869300729052952,
          0.564150781379674,
          -0.8828172291500489,
          2.0552839868958186,
          1.4142268740549993,
          1.1406821610057052,
          1.9555644549849038,
          -0.4459369935117603,
          -0.24045114432968417,
          0.4611628838959143,
          -0.37513791485719006,
          -0.761436875635046,
          -0.039942674731367145,
          -1.2184379607679994,
          -0.9015079663257071,
          0.5703705191831752,
          0.29141786005510495,
          -0.34985792307511554,
          0.5494064148832827,
          0.5256665432292014,
          0.2719236313085285,
          -0.35026513831961237,
          0.4709703394201803,
          -0.2599323370286699,
          -1.1245997900584257,
          -0.04271971479678305,
          -0.3023165919961093,
          0.8600810792982112,
          -0.02494462416571208,
          0.20861106453179756,
          -0.2787102013664029,
          -0.09572164938121897,
          0.5424641730800528,
          -0.2613837931014209,
          -0.354369883789307,
          0.41238404118120675,
          0.5271765668066861,
          -0.4866050553616905,
          0.14425483178655574,
          -0.19489585553311883,
          0.24937099261433815,
          -0.7263251865037135,
          0.8014301166966753,
          0.027069477409224163,
          -0.07848391032516289,
          -0.7584064981732623,
          0.33654199153012554,
          -0.017634498544749633,
          -0.09797813907173936,
          -0.42598502364586943,
          0.6558673892698441,
          -0.02669106709957436,
          -0.5732297959315309,
          -0.2189156837891102,
          1.0348785101678084,
          -0.048993966962402435,
          1.1543190365818132,
          -0.29945398738624496,
          0.783861892074659,
          -0.13569435041357303,
          0.4168890898193949,
          0.1769975613026924,
          -0.3964949511135427,
          0.01474148296342781,
          0.06163562471091577,
          -0.03544537283441174,
          0.06579499314098625,
          0.5560814865386483,
          -0.18739042626047464,
          0.7339631395780268,
          0.3541623852135434,
          0.31928823145117136,
          -0.2552146313711021,
          -1.9224810050147145,
          0.16536917576652188,
          0.27458425549719756,
          -0.2747088601176786,
          -1.9447634927876631,
          0.0025620306817750738,
          0.55823068781597,
          -0.7361344630683897,
          2.8941441833375077,
          1.2521162425622956,
          0.9157382682828268,
          0.3686955102496601,
          2.5556340094846823,
          1.1086659989549594,
          0.07959716102269754,
          -0.2167862005595469,
          1.3046498711279302,
          -0.12821416382121043,
          0.008733757010090937,
          -0.0642796750094139,
          0.8806650128924682,
          -0.3921413814743451,
          0.7069145025420109,
          -0.6820378731064944,
          0.2482212045149701,
          0.6438063714989255,
          0.052279155161008006,
          -0.08261473963375465,
          -0.7446933021327877,
          -0.010378968629548346,
          0.0075751792070342105,
          -0.10210896838033112,
          -0.7451005173772846,
          -0.08881504409265073,
          -0.3609098482789803,
          -0.7965671231183222,
          0.8722048440364882,
          -0.3037096763819793,
          1.1908405983915773,
          -0.20762389604950648,
          0.645243021769593,
          -0.3297423351369573,
          -0.1350729515706528,
          0.3805085309044678,
          0.38081051532757115,
          -0.32488887704609093,
          0.2040823136477523,
          0.23427071668251376,
          -0.0619548691707299,
          0.47951924737488527,
          -0.7927189137788062,
          0.23191071938237773,
          -0.39272845157591596,
          -0.9353428319826129,
          -0.5383352374875858,
          0.012885840403067172,
          0.7140141706725518,
          -0.6204187094274027,
          -0.5830392134415596,
          -0.006608388343509297,
          0.713606955428055,
          -0.6988547848905051,
          -0.7896006261855111,
          -0.5144781494510482,
          0.026656705619666266,
          -0.8455391660529394,
          0.0036000389738446437,
          -0.1823130222345366,
          -0.02223537907755624,
          -0.9752608900139106,
          1.2970400241855904,
          1.5071956832770619,
          -0.21052796375749616,
          1.0564357403006999,
          -0.4121527790855798,
          -0.2233757015114166,
          -0.08614296525593201,
          0.03915421996393853,
          0.2223732262943212,
          -0.8799399056879968,
          -1.288933386836358,
          -1.0057404498441,
          0.03508460722311879,
          -0.23337546098353168,
          0.08018487052207102,
          -0.12750677641276287,
          0.1455048440075819,
          -0.20672851761279154,
          0.20557798780636105,
          0.023182870400125122,
          0.6770843832972262,
          -0.4677462588153709,
          -1.3212440861448551,
          0.550608624248123,
          -0.3678455973903798,
          -0.4846998156310236,
          -1.1597970304266907,
          0.33406816911118353,
          -0.006125397728811599,
          -1.1446489887512084,
          1.0127310697056044,
          0.12523568802114582,
          0.0736327117628639,
          0.33235572522078405,
          -1.083363590493944,
          0.6031292032582587,
          0.5203690535409402,
          -1.33301250117546,
          -1.4646390083271896,
          -1.1610495910659906,
          -0.7417002180842966,
          -0.24762310434282742,
          -0.1328098018094539,
          -0.9576975585326364,
          -0.722310939497727,
          -0.22567366071446138,
          -0.17593401419731503,
          -0.7854187044929863,
          0.8746579369111989,
          -0.571920501188546,
          -1.105280233916878,
          0.4741846860699068,
          -0.3082542973795044,
          0.2913202221811897,
          -1.1226922851519585,
          0.34475782892892104,
          -1.1670476821366078,
          -1.993451863402374,
          -1.215728886213784,
          -1.6186285162220946,
          -0.2050811785480251,
          0.4362319401706414,
          -0.3690833075416411,
          -0.37302372409426243,
          -1.3703251604389246,
          -1.5052744046650726,
          -0.48821046900460674,
          -1.3577409914362546,
          -0.8502497489711927,
          0.4267466278321308,
          0.6827416372601427,
          -0.5754481527350559,
          -0.821743333768834,
          0.46636676500251295,
          0.15944340483132602,
          -0.6997894204430057,
          -1.713478680160824,
          -0.5298948944192414,
          -1.085993619641418,
          -1.3422478587420748,
          -1.6942818544000855,
          -0.8579739007457912,
          -1.3916212044072651,
          -1.4743302783209775,
          0.08961177147432076,
          -0.2482645818068674,
          0.1940737372812973,
          0.21144967046791985,
          -1.897310205997707,
          -0.29596282384177264,
          -0.4285985957227221,
          -0.1704977201747946,
          -0.19942828278449465,
          0.2929462699813392,
          -0.048756718390321474,
          0.47847972734577304,
          -0.16318138147034889,
          -0.2552146313711021,
          -0.9024071028485905,
          -0.168983164488147,
          -0.13703363527019752,
          -0.2511651485486035,
          -0.9028143180930873,
          -0.24741923995124937,
          1.192281066925974,
          -0.007325297501383776,
          0.019747324003659195,
          0.9794968812137466,
          -0.41929859063898656,
          -0.11992837979018045,
          -0.10772357986971759,
          0.8472357497986187,
          -1.1755784691328692,
          -1.7638818825141973,
          -0.8005624768026041,
          -1.343776175929193,
          0.2789526792209629,
          0.0685111086879806,
          -0.203763850075253,
          0.2922204864106339,
          0.357314408061999,
          -0.5022860239337694,
          -0.6610754289987875,
          -0.07600204531441257,
          -0.4258345903925782,
          -1.3555273477237162,
          1.0058238297260482,
          -0.5516182556497975,
          -0.18735308364341918,
          -1.305765853197546,
          1.0054166144815513,
          -0.6300543311128999,
          -0.6306954848211315,
          -1.1347442459860906,
          -0.7913189645107228,
          -1.0592022575632263,
          0.12659178263159276,
          -0.6088939631018175,
          -0.4723881856209875,
          -0.24202506912239263,
          0.9582608774242685,
          0.1774931367150243,
          -0.4522323463667226,
          0.5701736883091084,
          0.06130402815522906,
          -0.3192590688819157,
          0.6546024112582145,
          0.3551885802928729
         ],
         "xaxis": "x",
         "yaxis": "y",
         "type": "histogram"
        }
       ],
       "layout": {
        "template": {
         "data": {
          "histogram2dcontour": [
           {
            "type": "histogram2dcontour",
            "colorbar": {
             "outlinewidth": 0,
             "ticks": ""
            },
            "colorscale": [
             [
              0.0,
              "#0d0887"
             ],
             [
              0.1111111111111111,
              "#46039f"
             ],
             [
              0.2222222222222222,
              "#7201a8"
             ],
             [
              0.3333333333333333,
              "#9c179e"
             ],
             [
              0.4444444444444444,
              "#bd3786"
             ],
             [
              0.5555555555555556,
              "#d8576b"
             ],
             [
              0.6666666666666666,
              "#ed7953"
             ],
             [
              0.7777777777777778,
              "#fb9f3a"
             ],
             [
              0.8888888888888888,
              "#fdca26"
             ],
             [
              1.0,
              "#f0f921"
             ]
            ]
           }
          ],
          "choropleth": [
           {
            "type": "choropleth",
            "colorbar": {
             "outlinewidth": 0,
             "ticks": ""
            }
           }
          ],
          "histogram2d": [
           {
            "type": "histogram2d",
            "colorbar": {
             "outlinewidth": 0,
             "ticks": ""
            },
            "colorscale": [
             [
              0.0,
              "#0d0887"
             ],
             [
              0.1111111111111111,
              "#46039f"
             ],
             [
              0.2222222222222222,
              "#7201a8"
             ],
             [
              0.3333333333333333,
              "#9c179e"
             ],
             [
              0.4444444444444444,
              "#bd3786"
             ],
             [
              0.5555555555555556,
              "#d8576b"
             ],
             [
              0.6666666666666666,
              "#ed7953"
             ],
             [
              0.7777777777777778,
              "#fb9f3a"
             ],
             [
              0.8888888888888888,
              "#fdca26"
             ],
             [
              1.0,
              "#f0f921"
             ]
            ]
           }
          ],
          "heatmap": [
           {
            "type": "heatmap",
            "colorbar": {
             "outlinewidth": 0,
             "ticks": ""
            },
            "colorscale": [
             [
              0.0,
              "#0d0887"
             ],
             [
              0.1111111111111111,
              "#46039f"
             ],
             [
              0.2222222222222222,
              "#7201a8"
             ],
             [
              0.3333333333333333,
              "#9c179e"
             ],
             [
              0.4444444444444444,
              "#bd3786"
             ],
             [
              0.5555555555555556,
              "#d8576b"
             ],
             [
              0.6666666666666666,
              "#ed7953"
             ],
             [
              0.7777777777777778,
              "#fb9f3a"
             ],
             [
              0.8888888888888888,
              "#fdca26"
             ],
             [
              1.0,
              "#f0f921"
             ]
            ]
           }
          ],
          "heatmapgl": [
           {
            "type": "heatmapgl",
            "colorbar": {
             "outlinewidth": 0,
             "ticks": ""
            },
            "colorscale": [
             [
              0.0,
              "#0d0887"
             ],
             [
              0.1111111111111111,
              "#46039f"
             ],
             [
              0.2222222222222222,
              "#7201a8"
             ],
             [
              0.3333333333333333,
              "#9c179e"
             ],
             [
              0.4444444444444444,
              "#bd3786"
             ],
             [
              0.5555555555555556,
              "#d8576b"
             ],
             [
              0.6666666666666666,
              "#ed7953"
             ],
             [
              0.7777777777777778,
              "#fb9f3a"
             ],
             [
              0.8888888888888888,
              "#fdca26"
             ],
             [
              1.0,
              "#f0f921"
             ]
            ]
           }
          ],
          "contourcarpet": [
           {
            "type": "contourcarpet",
            "colorbar": {
             "outlinewidth": 0,
             "ticks": ""
            }
           }
          ],
          "contour": [
           {
            "type": "contour",
            "colorbar": {
             "outlinewidth": 0,
             "ticks": ""
            },
            "colorscale": [
             [
              0.0,
              "#0d0887"
             ],
             [
              0.1111111111111111,
              "#46039f"
             ],
             [
              0.2222222222222222,
              "#7201a8"
             ],
             [
              0.3333333333333333,
              "#9c179e"
             ],
             [
              0.4444444444444444,
              "#bd3786"
             ],
             [
              0.5555555555555556,
              "#d8576b"
             ],
             [
              0.6666666666666666,
              "#ed7953"
             ],
             [
              0.7777777777777778,
              "#fb9f3a"
             ],
             [
              0.8888888888888888,
              "#fdca26"
             ],
             [
              1.0,
              "#f0f921"
             ]
            ]
           }
          ],
          "surface": [
           {
            "type": "surface",
            "colorbar": {
             "outlinewidth": 0,
             "ticks": ""
            },
            "colorscale": [
             [
              0.0,
              "#0d0887"
             ],
             [
              0.1111111111111111,
              "#46039f"
             ],
             [
              0.2222222222222222,
              "#7201a8"
             ],
             [
              0.3333333333333333,
              "#9c179e"
             ],
             [
              0.4444444444444444,
              "#bd3786"
             ],
             [
              0.5555555555555556,
              "#d8576b"
             ],
             [
              0.6666666666666666,
              "#ed7953"
             ],
             [
              0.7777777777777778,
              "#fb9f3a"
             ],
             [
              0.8888888888888888,
              "#fdca26"
             ],
             [
              1.0,
              "#f0f921"
             ]
            ]
           }
          ],
          "mesh3d": [
           {
            "type": "mesh3d",
            "colorbar": {
             "outlinewidth": 0,
             "ticks": ""
            }
           }
          ],
          "scatter": [
           {
            "fillpattern": {
             "fillmode": "overlay",
             "size": 10,
             "solidity": 0.2
            },
            "type": "scatter"
           }
          ],
          "parcoords": [
           {
            "type": "parcoords",
            "line": {
             "colorbar": {
              "outlinewidth": 0,
              "ticks": ""
             }
            }
           }
          ],
          "scatterpolargl": [
           {
            "type": "scatterpolargl",
            "marker": {
             "colorbar": {
              "outlinewidth": 0,
              "ticks": ""
             }
            }
           }
          ],
          "bar": [
           {
            "error_x": {
             "color": "#2a3f5f"
            },
            "error_y": {
             "color": "#2a3f5f"
            },
            "marker": {
             "line": {
              "color": "#E5ECF6",
              "width": 0.5
             },
             "pattern": {
              "fillmode": "overlay",
              "size": 10,
              "solidity": 0.2
             }
            },
            "type": "bar"
           }
          ],
          "scattergeo": [
           {
            "type": "scattergeo",
            "marker": {
             "colorbar": {
              "outlinewidth": 0,
              "ticks": ""
             }
            }
           }
          ],
          "scatterpolar": [
           {
            "type": "scatterpolar",
            "marker": {
             "colorbar": {
              "outlinewidth": 0,
              "ticks": ""
             }
            }
           }
          ],
          "histogram": [
           {
            "marker": {
             "pattern": {
              "fillmode": "overlay",
              "size": 10,
              "solidity": 0.2
             }
            },
            "type": "histogram"
           }
          ],
          "scattergl": [
           {
            "type": "scattergl",
            "marker": {
             "colorbar": {
              "outlinewidth": 0,
              "ticks": ""
             }
            }
           }
          ],
          "scatter3d": [
           {
            "type": "scatter3d",
            "line": {
             "colorbar": {
              "outlinewidth": 0,
              "ticks": ""
             }
            },
            "marker": {
             "colorbar": {
              "outlinewidth": 0,
              "ticks": ""
             }
            }
           }
          ],
          "scattermapbox": [
           {
            "type": "scattermapbox",
            "marker": {
             "colorbar": {
              "outlinewidth": 0,
              "ticks": ""
             }
            }
           }
          ],
          "scatterternary": [
           {
            "type": "scatterternary",
            "marker": {
             "colorbar": {
              "outlinewidth": 0,
              "ticks": ""
             }
            }
           }
          ],
          "scattercarpet": [
           {
            "type": "scattercarpet",
            "marker": {
             "colorbar": {
              "outlinewidth": 0,
              "ticks": ""
             }
            }
           }
          ],
          "carpet": [
           {
            "aaxis": {
             "endlinecolor": "#2a3f5f",
             "gridcolor": "white",
             "linecolor": "white",
             "minorgridcolor": "white",
             "startlinecolor": "#2a3f5f"
            },
            "baxis": {
             "endlinecolor": "#2a3f5f",
             "gridcolor": "white",
             "linecolor": "white",
             "minorgridcolor": "white",
             "startlinecolor": "#2a3f5f"
            },
            "type": "carpet"
           }
          ],
          "table": [
           {
            "cells": {
             "fill": {
              "color": "#EBF0F8"
             },
             "line": {
              "color": "white"
             }
            },
            "header": {
             "fill": {
              "color": "#C8D4E3"
             },
             "line": {
              "color": "white"
             }
            },
            "type": "table"
           }
          ],
          "barpolar": [
           {
            "marker": {
             "line": {
              "color": "#E5ECF6",
              "width": 0.5
             },
             "pattern": {
              "fillmode": "overlay",
              "size": 10,
              "solidity": 0.2
             }
            },
            "type": "barpolar"
           }
          ],
          "pie": [
           {
            "automargin": true,
            "type": "pie"
           }
          ]
         },
         "layout": {
          "autotypenumbers": "strict",
          "colorway": [
           "#636efa",
           "#EF553B",
           "#00cc96",
           "#ab63fa",
           "#FFA15A",
           "#19d3f3",
           "#FF6692",
           "#B6E880",
           "#FF97FF",
           "#FECB52"
          ],
          "font": {
           "color": "#2a3f5f"
          },
          "hovermode": "closest",
          "hoverlabel": {
           "align": "left"
          },
          "paper_bgcolor": "white",
          "plot_bgcolor": "#E5ECF6",
          "polar": {
           "bgcolor": "#E5ECF6",
           "angularaxis": {
            "gridcolor": "white",
            "linecolor": "white",
            "ticks": ""
           },
           "radialaxis": {
            "gridcolor": "white",
            "linecolor": "white",
            "ticks": ""
           }
          },
          "ternary": {
           "bgcolor": "#E5ECF6",
           "aaxis": {
            "gridcolor": "white",
            "linecolor": "white",
            "ticks": ""
           },
           "baxis": {
            "gridcolor": "white",
            "linecolor": "white",
            "ticks": ""
           },
           "caxis": {
            "gridcolor": "white",
            "linecolor": "white",
            "ticks": ""
           }
          },
          "coloraxis": {
           "colorbar": {
            "outlinewidth": 0,
            "ticks": ""
           }
          },
          "colorscale": {
           "sequential": [
            [
             0.0,
             "#0d0887"
            ],
            [
             0.1111111111111111,
             "#46039f"
            ],
            [
             0.2222222222222222,
             "#7201a8"
            ],
            [
             0.3333333333333333,
             "#9c179e"
            ],
            [
             0.4444444444444444,
             "#bd3786"
            ],
            [
             0.5555555555555556,
             "#d8576b"
            ],
            [
             0.6666666666666666,
             "#ed7953"
            ],
            [
             0.7777777777777778,
             "#fb9f3a"
            ],
            [
             0.8888888888888888,
             "#fdca26"
            ],
            [
             1.0,
             "#f0f921"
            ]
           ],
           "sequentialminus": [
            [
             0.0,
             "#0d0887"
            ],
            [
             0.1111111111111111,
             "#46039f"
            ],
            [
             0.2222222222222222,
             "#7201a8"
            ],
            [
             0.3333333333333333,
             "#9c179e"
            ],
            [
             0.4444444444444444,
             "#bd3786"
            ],
            [
             0.5555555555555556,
             "#d8576b"
            ],
            [
             0.6666666666666666,
             "#ed7953"
            ],
            [
             0.7777777777777778,
             "#fb9f3a"
            ],
            [
             0.8888888888888888,
             "#fdca26"
            ],
            [
             1.0,
             "#f0f921"
            ]
           ],
           "diverging": [
            [
             0,
             "#8e0152"
            ],
            [
             0.1,
             "#c51b7d"
            ],
            [
             0.2,
             "#de77ae"
            ],
            [
             0.3,
             "#f1b6da"
            ],
            [
             0.4,
             "#fde0ef"
            ],
            [
             0.5,
             "#f7f7f7"
            ],
            [
             0.6,
             "#e6f5d0"
            ],
            [
             0.7,
             "#b8e186"
            ],
            [
             0.8,
             "#7fbc41"
            ],
            [
             0.9,
             "#4d9221"
            ],
            [
             1,
             "#276419"
            ]
           ]
          },
          "xaxis": {
           "gridcolor": "white",
           "linecolor": "white",
           "ticks": "",
           "title": {
            "standoff": 15
           },
           "zerolinecolor": "white",
           "automargin": true,
           "zerolinewidth": 2
          },
          "yaxis": {
           "gridcolor": "white",
           "linecolor": "white",
           "ticks": "",
           "title": {
            "standoff": 15
           },
           "zerolinecolor": "white",
           "automargin": true,
           "zerolinewidth": 2
          },
          "scene": {
           "xaxis": {
            "backgroundcolor": "#E5ECF6",
            "gridcolor": "white",
            "linecolor": "white",
            "showbackground": true,
            "ticks": "",
            "zerolinecolor": "white",
            "gridwidth": 2
           },
           "yaxis": {
            "backgroundcolor": "#E5ECF6",
            "gridcolor": "white",
            "linecolor": "white",
            "showbackground": true,
            "ticks": "",
            "zerolinecolor": "white",
            "gridwidth": 2
           },
           "zaxis": {
            "backgroundcolor": "#E5ECF6",
            "gridcolor": "white",
            "linecolor": "white",
            "showbackground": true,
            "ticks": "",
            "zerolinecolor": "white",
            "gridwidth": 2
           }
          },
          "shapedefaults": {
           "line": {
            "color": "#2a3f5f"
           }
          },
          "annotationdefaults": {
           "arrowcolor": "#2a3f5f",
           "arrowhead": 0,
           "arrowwidth": 1
          },
          "geo": {
           "bgcolor": "white",
           "landcolor": "#E5ECF6",
           "subunitcolor": "white",
           "showland": true,
           "showlakes": true,
           "lakecolor": "white"
          },
          "title": {
           "x": 0.05
          },
          "mapbox": {
           "style": "light"
          }
         }
        },
        "xaxis": {
         "anchor": "y",
         "domain": [
          0.0,
          1.0
         ],
         "title": {
          "text": "value"
         }
        },
        "yaxis": {
         "anchor": "x",
         "domain": [
          0.0,
          1.0
         ],
         "title": {
          "text": "count"
         }
        },
        "legend": {
         "title": {
          "text": "variable"
         },
         "tracegroupgap": 0
        },
        "title": {
         "text": "Residuals Distribution (Global Model)"
        },
        "barmode": "relative",
        "font": {
         "family": "Calibri"
        },
        "margin": {
         "l": 0,
         "r": 0,
         "t": 25,
         "b": 0,
         "pad": 0
        },
        "width": 800,
        "height": 450,
        "paper_bgcolor": "rgba(0, 0, 0, 0)",
        "plot_bgcolor": "rgba(0, 0, 0, 0)",
        "showlegend": false
       },
       "config": {
        "plotlyServerURL": "https://plot.ly"
       }
      },
      "text/html": [
       "<div>                            <div id=\"78928fb3-bd5e-422f-a4bb-58927f3a74d6\" class=\"plotly-graph-div\" style=\"height:450px; width:800px;\"></div>            <script type=\"text/javascript\">                require([\"plotly\"], function(Plotly) {                    window.PLOTLYENV=window.PLOTLYENV || {};                                    if (document.getElementById(\"78928fb3-bd5e-422f-a4bb-58927f3a74d6\")) {                    Plotly.newPlot(                        \"78928fb3-bd5e-422f-a4bb-58927f3a74d6\",                        [{\"alignmentgroup\":\"True\",\"bingroup\":\"x\",\"hovertemplate\":\"variable=0\\u003cbr\\u003evalue=%{x}\\u003cbr\\u003ecount=%{y}\\u003cextra\\u003e\\u003c\\u002fextra\\u003e\",\"legendgroup\":\"0\",\"marker\":{\"color\":\"#636efa\",\"pattern\":{\"shape\":\"\"}},\"name\":\"0\",\"offsetgroup\":\"0\",\"orientation\":\"v\",\"showlegend\":true,\"x\":[0.7710284417633915,1.0787223410788598,-0.12201778357598037,0.5869148907561677,0.4988744951644777,-0.06148908448278512,0.17985093855685896,0.9286269770201891,0.4541705192105039,-0.08098331322936159,0.17944372331236214,0.8501909015570868,-0.32502549546231085,0.017358436567837643,0.8555793788434181,0.9845771702048554,0.19668240117833724,0.5178174867395535,0.7359498706502823,1.0600075922572088,0.002148490595659469,0.4796117517193168,0.09469753503279721,-0.2971443630310353,-0.07754983388189296,0.31379983330619443,-0.24179982353767193,0.569715241299309,0.5403527449803311,1.8996872989684563,1.2180722037871574,0.49894601240301917,0.141655193109806,1.8656059728389434,-0.932341600088016,-0.4709766227346963,0.09695121715583221,1.846111744092367,-0.9327488153325129,-0.5494126981977987,-0.1133091105782853,0.4570107337712104,0.3536251885426229,-0.9228204916812595,1.2652054571082272,0.5848346587109843,0.23399568034948715,-0.8473900696289061,0.28284713030055775,1.1886008677103406,0.3563353206818354,-0.05657277671187266,-2.0731286365601993,0.0667564885284988,0.7319426041237196,-0.5408637902430937,0.7664798940165074,0.11098202296588955,0.27653977042302436,0.5805308962843672,0.44335725985724794,0.4249039250441433,0.1929373243215502,0.35051290142580127,0.39865328390327415,0.40540969629756685,0.19253010907705337,0.43844300758355503,1.120768777386766,1.9210835381033862,0.5026368150335263,1.032559457847955,1.1393450276646342,-0.16238913910693542,0.5752116923737436,0.9187604798340305,-0.5703009172579769,-1.130353681227469,-1.1056685195068832,-1.0882925863202606,0.27903794613380484,-0.10152515090333991,0.3740306857002704,0.3032609658835419,0.6033645241299528,0.5827113844465979,-1.3060751115883065,0.47936109176998265,0.44931967445445187,0.01103451726000304,0.216257578427119,0.4225194186622403,0.40461569850047807,-0.008459711486573429,0.21585036318262218,0.3440833431991379,1.122980051653364,-0.00915105175750508,-0.3062634077411057,1.0966163668354483,1.1418520060871917,0.706677135027828,-0.20705307042393972,0.9214013697121275,-0.05419193443936021,0.3397840762032236,-0.3302191503930363,-0.3128432172064137,0.7725432987849794,0.39198020174783466,-0.11763624644803461,0.6869319021786056,-0.1651883188075809,0.833806389807191,-0.6719494158557897,0.8020981704842622,0.6679405432105536,-0.11062845013559275,-0.7420543294804047,0.38058366857866943,0.6232365672565798,-0.13012267888216922,-0.43534496136314493,0.4767147818901485,-0.9823765944308769,-0.9045956754503595,0.30009332833105784,-1.0207370385125025,-0.029718847307250496,0.6712182572601946,0.19653702680728857,-1.0918852068569995,-0.4362456471325875,0.7165007177538274,-0.651562688365958,-0.6341867551793354,0.5661479686430797,0.7523272400558152,-0.3736229454092135,0.47674084060949795,0.3267602530235063,0.6199848861047244,-0.19361695561867975,0.22888784436574916,0.13081987188620792,0.013583042035389958,0.17648685503751582,0.01569802775636031,0.08611589593223412,-0.005911186711186511,0.13838719999233595,0.027631971010200207,-0.9109448561979394,1.215614189210159,-0.9339253127775722,-0.8997570219041755,-1.012802152015491,-0.8757231892629442,-1.0275259041943328,-0.9426274041083369,0.029576756781719782,0.40183274641519695,0.15191170690513767,-0.361998785526797,0.3415398059407284,-0.23126605149784596,-0.7796393241084989,0.058261880193967386,-0.9819204777832602,-0.8021546014286942,0.04315600154981092,-1.0603894513970595,0.3863777924198941,0.5098762283680551,-0.3676513237832113,0.27720378989737426,0.3416738164659203,0.49038199962147866,-0.39158997389109007,0.4618547115354201,0.5098790711841281,-0.3544247947322128,-0.6401445473079406,0.5246292034863203,-1.1031038145276741,-1.028591689278664,-0.5610525490099425,0.2325749075972703,-0.7592932867950095,-1.4678093133562475,-0.6867068734037332,-1.1643297996834006,0.09171043239047094,-0.49048455668274316,-0.03509918365914655,-0.11027237455352079,0.42636648593106674,0.014171625227543672,-0.10849798282605105,0.48657870468428044,-0.10351030763330238,-1.0906140709262988,0.3745630877218886,-0.4224769588064534,-0.09433072674760723,-1.0822588528501595,0.33655956836395096,-0.19658999168143465,0.8485593273739931,0.8390249052233383,0.0016496426504075679,1.0415657067653221,-1.9211733473200696,-1.419780457578511,-0.26957673588728603,0.4919171706840362,-0.3856844437011342,-0.18700423715209857,-0.2523347549657229,0.08294400013728476,-0.10879878296179735,-0.4893618799989421,-0.45334069427521695,-0.043652513034896145,0.1310232363146282,0.7284194019228858,2.1540575983778814,0.40088538052158285,-0.1426491076894454,0.9400995792040391,1.6088027821194972,0.05136069674365151,-0.18735308364341918,0.9206053504574626,1.6083955668750005,0.12572458670909992,-0.17870840066321492,1.5874292699415657,2.0034941824549968,0.3614662416797847,0.3328931262739814,0.7795618075548942,2.375312374667247,0.9283443641375242,1.1325571453894483,1.6815690369036838,1.6139917561459285,1.2494446569434232,-0.19179908587189076,-0.5723621829090355,1.2542799236020674,0.1342734946638049,-0.16661192749508835,1.1927226264930368,1.345847494107023,-0.7608871600828104,-0.0771987429965697,-1.1861348392974376,1.1987474686175321,-0.19114311632789915,-0.1219027189505435,-1.205629068044014,1.1983402533730354,-0.26957919179100154,-1.2972307539034285,0.27649506783213695,0.5506001872371185,-1.0914277535380936,-0.7436414670242253,0.19869300729052952,0.564150781379674,-0.8828172291500489,2.0552839868958186,1.4142268740549993,1.1406821610057052,1.9555644549849038,-0.4459369935117603,-0.24045114432968417,0.4611628838959143,-0.37513791485719006,-0.761436875635046,-0.039942674731367145,-1.2184379607679994,-0.9015079663257071,0.5703705191831752,0.29141786005510495,-0.34985792307511554,0.5494064148832827,0.5256665432292014,0.2719236313085285,-0.35026513831961237,0.4709703394201803,-0.2599323370286699,-1.1245997900584257,-0.04271971479678305,-0.3023165919961093,0.8600810792982112,-0.02494462416571208,0.20861106453179756,-0.2787102013664029,-0.09572164938121897,0.5424641730800528,-0.2613837931014209,-0.354369883789307,0.41238404118120675,0.5271765668066861,-0.4866050553616905,0.14425483178655574,-0.19489585553311883,0.24937099261433815,-0.7263251865037135,0.8014301166966753,0.027069477409224163,-0.07848391032516289,-0.7584064981732623,0.33654199153012554,-0.017634498544749633,-0.09797813907173936,-0.42598502364586943,0.6558673892698441,-0.02669106709957436,-0.5732297959315309,-0.2189156837891102,1.0348785101678084,-0.048993966962402435,1.1543190365818132,-0.29945398738624496,0.783861892074659,-0.13569435041357303,0.4168890898193949,0.1769975613026924,-0.3964949511135427,0.01474148296342781,0.06163562471091577,-0.03544537283441174,0.06579499314098625,0.5560814865386483,-0.18739042626047464,0.7339631395780268,0.3541623852135434,0.31928823145117136,-0.2552146313711021,-1.9224810050147145,0.16536917576652188,0.27458425549719756,-0.2747088601176786,-1.9447634927876631,0.0025620306817750738,0.55823068781597,-0.7361344630683897,2.8941441833375077,1.2521162425622956,0.9157382682828268,0.3686955102496601,2.5556340094846823,1.1086659989549594,0.07959716102269754,-0.2167862005595469,1.3046498711279302,-0.12821416382121043,0.008733757010090937,-0.0642796750094139,0.8806650128924682,-0.3921413814743451,0.7069145025420109,-0.6820378731064944,0.2482212045149701,0.6438063714989255,0.052279155161008006,-0.08261473963375465,-0.7446933021327877,-0.010378968629548346,0.0075751792070342105,-0.10210896838033112,-0.7451005173772846,-0.08881504409265073,-0.3609098482789803,-0.7965671231183222,0.8722048440364882,-0.3037096763819793,1.1908405983915773,-0.20762389604950648,0.645243021769593,-0.3297423351369573,-0.1350729515706528,0.3805085309044678,0.38081051532757115,-0.32488887704609093,0.2040823136477523,0.23427071668251376,-0.0619548691707299,0.47951924737488527,-0.7927189137788062,0.23191071938237773,-0.39272845157591596,-0.9353428319826129,-0.5383352374875858,0.012885840403067172,0.7140141706725518,-0.6204187094274027,-0.5830392134415596,-0.006608388343509297,0.713606955428055,-0.6988547848905051,-0.7896006261855111,-0.5144781494510482,0.026656705619666266,-0.8455391660529394,0.0036000389738446437,-0.1823130222345366,-0.02223537907755624,-0.9752608900139106,1.2970400241855904,1.5071956832770619,-0.21052796375749616,1.0564357403006999,-0.4121527790855798,-0.2233757015114166,-0.08614296525593201,0.03915421996393853,0.2223732262943212,-0.8799399056879968,-1.288933386836358,-1.0057404498441,0.03508460722311879,-0.23337546098353168,0.08018487052207102,-0.12750677641276287,0.1455048440075819,-0.20672851761279154,0.20557798780636105,0.023182870400125122,0.6770843832972262,-0.4677462588153709,-1.3212440861448551,0.550608624248123,-0.3678455973903798,-0.4846998156310236,-1.1597970304266907,0.33406816911118353,-0.006125397728811599,-1.1446489887512084,1.0127310697056044,0.12523568802114582,0.0736327117628639,0.33235572522078405,-1.083363590493944,0.6031292032582587,0.5203690535409402,-1.33301250117546,-1.4646390083271896,-1.1610495910659906,-0.7417002180842966,-0.24762310434282742,-0.1328098018094539,-0.9576975585326364,-0.722310939497727,-0.22567366071446138,-0.17593401419731503,-0.7854187044929863,0.8746579369111989,-0.571920501188546,-1.105280233916878,0.4741846860699068,-0.3082542973795044,0.2913202221811897,-1.1226922851519585,0.34475782892892104,-1.1670476821366078,-1.993451863402374,-1.215728886213784,-1.6186285162220946,-0.2050811785480251,0.4362319401706414,-0.3690833075416411,-0.37302372409426243,-1.3703251604389246,-1.5052744046650726,-0.48821046900460674,-1.3577409914362546,-0.8502497489711927,0.4267466278321308,0.6827416372601427,-0.5754481527350559,-0.821743333768834,0.46636676500251295,0.15944340483132602,-0.6997894204430057,-1.713478680160824,-0.5298948944192414,-1.085993619641418,-1.3422478587420748,-1.6942818544000855,-0.8579739007457912,-1.3916212044072651,-1.4743302783209775,0.08961177147432076,-0.2482645818068674,0.1940737372812973,0.21144967046791985,-1.897310205997707,-0.29596282384177264,-0.4285985957227221,-0.1704977201747946,-0.19942828278449465,0.2929462699813392,-0.048756718390321474,0.47847972734577304,-0.16318138147034889,-0.2552146313711021,-0.9024071028485905,-0.168983164488147,-0.13703363527019752,-0.2511651485486035,-0.9028143180930873,-0.24741923995124937,1.192281066925974,-0.007325297501383776,0.019747324003659195,0.9794968812137466,-0.41929859063898656,-0.11992837979018045,-0.10772357986971759,0.8472357497986187,-1.1755784691328692,-1.7638818825141973,-0.8005624768026041,-1.343776175929193,0.2789526792209629,0.0685111086879806,-0.203763850075253,0.2922204864106339,0.357314408061999,-0.5022860239337694,-0.6610754289987875,-0.07600204531441257,-0.4258345903925782,-1.3555273477237162,1.0058238297260482,-0.5516182556497975,-0.18735308364341918,-1.305765853197546,1.0054166144815513,-0.6300543311128999,-0.6306954848211315,-1.1347442459860906,-0.7913189645107228,-1.0592022575632263,0.12659178263159276,-0.6088939631018175,-0.4723881856209875,-0.24202506912239263,0.9582608774242685,0.1774931367150243,-0.4522323463667226,0.5701736883091084,0.06130402815522906,-0.3192590688819157,0.6546024112582145,0.3551885802928729],\"xaxis\":\"x\",\"yaxis\":\"y\",\"type\":\"histogram\"}],                        {\"template\":{\"data\":{\"histogram2dcontour\":[{\"type\":\"histogram2dcontour\",\"colorbar\":{\"outlinewidth\":0,\"ticks\":\"\"},\"colorscale\":[[0.0,\"#0d0887\"],[0.1111111111111111,\"#46039f\"],[0.2222222222222222,\"#7201a8\"],[0.3333333333333333,\"#9c179e\"],[0.4444444444444444,\"#bd3786\"],[0.5555555555555556,\"#d8576b\"],[0.6666666666666666,\"#ed7953\"],[0.7777777777777778,\"#fb9f3a\"],[0.8888888888888888,\"#fdca26\"],[1.0,\"#f0f921\"]]}],\"choropleth\":[{\"type\":\"choropleth\",\"colorbar\":{\"outlinewidth\":0,\"ticks\":\"\"}}],\"histogram2d\":[{\"type\":\"histogram2d\",\"colorbar\":{\"outlinewidth\":0,\"ticks\":\"\"},\"colorscale\":[[0.0,\"#0d0887\"],[0.1111111111111111,\"#46039f\"],[0.2222222222222222,\"#7201a8\"],[0.3333333333333333,\"#9c179e\"],[0.4444444444444444,\"#bd3786\"],[0.5555555555555556,\"#d8576b\"],[0.6666666666666666,\"#ed7953\"],[0.7777777777777778,\"#fb9f3a\"],[0.8888888888888888,\"#fdca26\"],[1.0,\"#f0f921\"]]}],\"heatmap\":[{\"type\":\"heatmap\",\"colorbar\":{\"outlinewidth\":0,\"ticks\":\"\"},\"colorscale\":[[0.0,\"#0d0887\"],[0.1111111111111111,\"#46039f\"],[0.2222222222222222,\"#7201a8\"],[0.3333333333333333,\"#9c179e\"],[0.4444444444444444,\"#bd3786\"],[0.5555555555555556,\"#d8576b\"],[0.6666666666666666,\"#ed7953\"],[0.7777777777777778,\"#fb9f3a\"],[0.8888888888888888,\"#fdca26\"],[1.0,\"#f0f921\"]]}],\"heatmapgl\":[{\"type\":\"heatmapgl\",\"colorbar\":{\"outlinewidth\":0,\"ticks\":\"\"},\"colorscale\":[[0.0,\"#0d0887\"],[0.1111111111111111,\"#46039f\"],[0.2222222222222222,\"#7201a8\"],[0.3333333333333333,\"#9c179e\"],[0.4444444444444444,\"#bd3786\"],[0.5555555555555556,\"#d8576b\"],[0.6666666666666666,\"#ed7953\"],[0.7777777777777778,\"#fb9f3a\"],[0.8888888888888888,\"#fdca26\"],[1.0,\"#f0f921\"]]}],\"contourcarpet\":[{\"type\":\"contourcarpet\",\"colorbar\":{\"outlinewidth\":0,\"ticks\":\"\"}}],\"contour\":[{\"type\":\"contour\",\"colorbar\":{\"outlinewidth\":0,\"ticks\":\"\"},\"colorscale\":[[0.0,\"#0d0887\"],[0.1111111111111111,\"#46039f\"],[0.2222222222222222,\"#7201a8\"],[0.3333333333333333,\"#9c179e\"],[0.4444444444444444,\"#bd3786\"],[0.5555555555555556,\"#d8576b\"],[0.6666666666666666,\"#ed7953\"],[0.7777777777777778,\"#fb9f3a\"],[0.8888888888888888,\"#fdca26\"],[1.0,\"#f0f921\"]]}],\"surface\":[{\"type\":\"surface\",\"colorbar\":{\"outlinewidth\":0,\"ticks\":\"\"},\"colorscale\":[[0.0,\"#0d0887\"],[0.1111111111111111,\"#46039f\"],[0.2222222222222222,\"#7201a8\"],[0.3333333333333333,\"#9c179e\"],[0.4444444444444444,\"#bd3786\"],[0.5555555555555556,\"#d8576b\"],[0.6666666666666666,\"#ed7953\"],[0.7777777777777778,\"#fb9f3a\"],[0.8888888888888888,\"#fdca26\"],[1.0,\"#f0f921\"]]}],\"mesh3d\":[{\"type\":\"mesh3d\",\"colorbar\":{\"outlinewidth\":0,\"ticks\":\"\"}}],\"scatter\":[{\"fillpattern\":{\"fillmode\":\"overlay\",\"size\":10,\"solidity\":0.2},\"type\":\"scatter\"}],\"parcoords\":[{\"type\":\"parcoords\",\"line\":{\"colorbar\":{\"outlinewidth\":0,\"ticks\":\"\"}}}],\"scatterpolargl\":[{\"type\":\"scatterpolargl\",\"marker\":{\"colorbar\":{\"outlinewidth\":0,\"ticks\":\"\"}}}],\"bar\":[{\"error_x\":{\"color\":\"#2a3f5f\"},\"error_y\":{\"color\":\"#2a3f5f\"},\"marker\":{\"line\":{\"color\":\"#E5ECF6\",\"width\":0.5},\"pattern\":{\"fillmode\":\"overlay\",\"size\":10,\"solidity\":0.2}},\"type\":\"bar\"}],\"scattergeo\":[{\"type\":\"scattergeo\",\"marker\":{\"colorbar\":{\"outlinewidth\":0,\"ticks\":\"\"}}}],\"scatterpolar\":[{\"type\":\"scatterpolar\",\"marker\":{\"colorbar\":{\"outlinewidth\":0,\"ticks\":\"\"}}}],\"histogram\":[{\"marker\":{\"pattern\":{\"fillmode\":\"overlay\",\"size\":10,\"solidity\":0.2}},\"type\":\"histogram\"}],\"scattergl\":[{\"type\":\"scattergl\",\"marker\":{\"colorbar\":{\"outlinewidth\":0,\"ticks\":\"\"}}}],\"scatter3d\":[{\"type\":\"scatter3d\",\"line\":{\"colorbar\":{\"outlinewidth\":0,\"ticks\":\"\"}},\"marker\":{\"colorbar\":{\"outlinewidth\":0,\"ticks\":\"\"}}}],\"scattermapbox\":[{\"type\":\"scattermapbox\",\"marker\":{\"colorbar\":{\"outlinewidth\":0,\"ticks\":\"\"}}}],\"scatterternary\":[{\"type\":\"scatterternary\",\"marker\":{\"colorbar\":{\"outlinewidth\":0,\"ticks\":\"\"}}}],\"scattercarpet\":[{\"type\":\"scattercarpet\",\"marker\":{\"colorbar\":{\"outlinewidth\":0,\"ticks\":\"\"}}}],\"carpet\":[{\"aaxis\":{\"endlinecolor\":\"#2a3f5f\",\"gridcolor\":\"white\",\"linecolor\":\"white\",\"minorgridcolor\":\"white\",\"startlinecolor\":\"#2a3f5f\"},\"baxis\":{\"endlinecolor\":\"#2a3f5f\",\"gridcolor\":\"white\",\"linecolor\":\"white\",\"minorgridcolor\":\"white\",\"startlinecolor\":\"#2a3f5f\"},\"type\":\"carpet\"}],\"table\":[{\"cells\":{\"fill\":{\"color\":\"#EBF0F8\"},\"line\":{\"color\":\"white\"}},\"header\":{\"fill\":{\"color\":\"#C8D4E3\"},\"line\":{\"color\":\"white\"}},\"type\":\"table\"}],\"barpolar\":[{\"marker\":{\"line\":{\"color\":\"#E5ECF6\",\"width\":0.5},\"pattern\":{\"fillmode\":\"overlay\",\"size\":10,\"solidity\":0.2}},\"type\":\"barpolar\"}],\"pie\":[{\"automargin\":true,\"type\":\"pie\"}]},\"layout\":{\"autotypenumbers\":\"strict\",\"colorway\":[\"#636efa\",\"#EF553B\",\"#00cc96\",\"#ab63fa\",\"#FFA15A\",\"#19d3f3\",\"#FF6692\",\"#B6E880\",\"#FF97FF\",\"#FECB52\"],\"font\":{\"color\":\"#2a3f5f\"},\"hovermode\":\"closest\",\"hoverlabel\":{\"align\":\"left\"},\"paper_bgcolor\":\"white\",\"plot_bgcolor\":\"#E5ECF6\",\"polar\":{\"bgcolor\":\"#E5ECF6\",\"angularaxis\":{\"gridcolor\":\"white\",\"linecolor\":\"white\",\"ticks\":\"\"},\"radialaxis\":{\"gridcolor\":\"white\",\"linecolor\":\"white\",\"ticks\":\"\"}},\"ternary\":{\"bgcolor\":\"#E5ECF6\",\"aaxis\":{\"gridcolor\":\"white\",\"linecolor\":\"white\",\"ticks\":\"\"},\"baxis\":{\"gridcolor\":\"white\",\"linecolor\":\"white\",\"ticks\":\"\"},\"caxis\":{\"gridcolor\":\"white\",\"linecolor\":\"white\",\"ticks\":\"\"}},\"coloraxis\":{\"colorbar\":{\"outlinewidth\":0,\"ticks\":\"\"}},\"colorscale\":{\"sequential\":[[0.0,\"#0d0887\"],[0.1111111111111111,\"#46039f\"],[0.2222222222222222,\"#7201a8\"],[0.3333333333333333,\"#9c179e\"],[0.4444444444444444,\"#bd3786\"],[0.5555555555555556,\"#d8576b\"],[0.6666666666666666,\"#ed7953\"],[0.7777777777777778,\"#fb9f3a\"],[0.8888888888888888,\"#fdca26\"],[1.0,\"#f0f921\"]],\"sequentialminus\":[[0.0,\"#0d0887\"],[0.1111111111111111,\"#46039f\"],[0.2222222222222222,\"#7201a8\"],[0.3333333333333333,\"#9c179e\"],[0.4444444444444444,\"#bd3786\"],[0.5555555555555556,\"#d8576b\"],[0.6666666666666666,\"#ed7953\"],[0.7777777777777778,\"#fb9f3a\"],[0.8888888888888888,\"#fdca26\"],[1.0,\"#f0f921\"]],\"diverging\":[[0,\"#8e0152\"],[0.1,\"#c51b7d\"],[0.2,\"#de77ae\"],[0.3,\"#f1b6da\"],[0.4,\"#fde0ef\"],[0.5,\"#f7f7f7\"],[0.6,\"#e6f5d0\"],[0.7,\"#b8e186\"],[0.8,\"#7fbc41\"],[0.9,\"#4d9221\"],[1,\"#276419\"]]},\"xaxis\":{\"gridcolor\":\"white\",\"linecolor\":\"white\",\"ticks\":\"\",\"title\":{\"standoff\":15},\"zerolinecolor\":\"white\",\"automargin\":true,\"zerolinewidth\":2},\"yaxis\":{\"gridcolor\":\"white\",\"linecolor\":\"white\",\"ticks\":\"\",\"title\":{\"standoff\":15},\"zerolinecolor\":\"white\",\"automargin\":true,\"zerolinewidth\":2},\"scene\":{\"xaxis\":{\"backgroundcolor\":\"#E5ECF6\",\"gridcolor\":\"white\",\"linecolor\":\"white\",\"showbackground\":true,\"ticks\":\"\",\"zerolinecolor\":\"white\",\"gridwidth\":2},\"yaxis\":{\"backgroundcolor\":\"#E5ECF6\",\"gridcolor\":\"white\",\"linecolor\":\"white\",\"showbackground\":true,\"ticks\":\"\",\"zerolinecolor\":\"white\",\"gridwidth\":2},\"zaxis\":{\"backgroundcolor\":\"#E5ECF6\",\"gridcolor\":\"white\",\"linecolor\":\"white\",\"showbackground\":true,\"ticks\":\"\",\"zerolinecolor\":\"white\",\"gridwidth\":2}},\"shapedefaults\":{\"line\":{\"color\":\"#2a3f5f\"}},\"annotationdefaults\":{\"arrowcolor\":\"#2a3f5f\",\"arrowhead\":0,\"arrowwidth\":1},\"geo\":{\"bgcolor\":\"white\",\"landcolor\":\"#E5ECF6\",\"subunitcolor\":\"white\",\"showland\":true,\"showlakes\":true,\"lakecolor\":\"white\"},\"title\":{\"x\":0.05},\"mapbox\":{\"style\":\"light\"}}},\"xaxis\":{\"anchor\":\"y\",\"domain\":[0.0,1.0],\"title\":{\"text\":\"value\"}},\"yaxis\":{\"anchor\":\"x\",\"domain\":[0.0,1.0],\"title\":{\"text\":\"count\"}},\"legend\":{\"title\":{\"text\":\"variable\"},\"tracegroupgap\":0},\"title\":{\"text\":\"Residuals Distribution (Global Model)\"},\"barmode\":\"relative\",\"font\":{\"family\":\"Calibri\"},\"margin\":{\"l\":0,\"r\":0,\"t\":25,\"b\":0,\"pad\":0},\"width\":800,\"height\":450,\"paper_bgcolor\":\"rgba(0, 0, 0, 0)\",\"plot_bgcolor\":\"rgba(0, 0, 0, 0)\",\"showlegend\":false},                        {\"responsive\": true}                    ).then(function(){\n",
       "                            \n",
       "var gd = document.getElementById('78928fb3-bd5e-422f-a4bb-58927f3a74d6');\n",
       "var x = new MutationObserver(function (mutations, observer) {{\n",
       "        var display = window.getComputedStyle(gd).display;\n",
       "        if (!display || display === 'none') {{\n",
       "            console.log([gd, 'removed!']);\n",
       "            Plotly.purge(gd);\n",
       "            observer.disconnect();\n",
       "        }}\n",
       "}});\n",
       "\n",
       "// Listen for the removal of the full notebook cells\n",
       "var notebookContainer = gd.closest('#notebook-container');\n",
       "if (notebookContainer) {{\n",
       "    x.observe(notebookContainer, {childList: true});\n",
       "}}\n",
       "\n",
       "// Listen for the clearing of the current output cell\n",
       "var outputEl = gd.closest('.output');\n",
       "if (outputEl) {{\n",
       "    x.observe(outputEl, {childList: true});\n",
       "}}\n",
       "\n",
       "                        })                };                });            </script>        </div>"
      ]
     },
     "metadata": {},
     "output_type": "display_data"
    }
   ],
   "execution_count": 29
  },
  {
   "metadata": {},
   "cell_type": "markdown",
   "source": [
    "#### (1C) Post-Hoc (Dunn's Test)\n",
    "We check for pairwise differences in detectability, using the mean performance across all detectors"
   ],
   "id": "932256dbe34485f5"
  },
  {
   "metadata": {
    "ExecuteTime": {
     "end_time": "2025-05-05T09:09:25.808743Z",
     "start_time": "2025-05-05T09:09:25.794050Z"
    }
   },
   "cell_type": "code",
   "source": [
    "across_detector_post_hoc = posthoc_dunn(metrics, METRIC, ANNOTATOR, \"mean\", include_annotators=False)\n",
    "\n",
    "print(\"Dunn's Test Results (Across Detectors):\")\n",
    "display(across_detector_post_hoc)"
   ],
   "id": "7cbd517e406e0924",
   "outputs": [
    {
     "name": "stdout",
     "output_type": "stream",
     "text": [
      "Dunn's Test Results (Across Detectors):\n"
     ]
    },
    {
     "data": {
      "text/plain": [
       "event                  fixation       saccade      \n",
       "channel_type             offset onset  offset onset\n",
       "event    channel_type                              \n",
       "fixation offset              --   ***     ***  n.s.\n",
       "         onset         0.000062    --    n.s.   ***\n",
       "saccade  offset        0.000047   1.0      --   ***\n",
       "         onset              1.0   0.0     0.0    --"
      ],
      "text/html": [
       "<div>\n",
       "<style scoped>\n",
       "    .dataframe tbody tr th:only-of-type {\n",
       "        vertical-align: middle;\n",
       "    }\n",
       "\n",
       "    .dataframe tbody tr th {\n",
       "        vertical-align: top;\n",
       "    }\n",
       "\n",
       "    .dataframe thead tr th {\n",
       "        text-align: left;\n",
       "    }\n",
       "\n",
       "    .dataframe thead tr:last-of-type th {\n",
       "        text-align: right;\n",
       "    }\n",
       "</style>\n",
       "<table border=\"1\" class=\"dataframe\">\n",
       "  <thead>\n",
       "    <tr>\n",
       "      <th></th>\n",
       "      <th>event</th>\n",
       "      <th colspan=\"2\" halign=\"left\">fixation</th>\n",
       "      <th colspan=\"2\" halign=\"left\">saccade</th>\n",
       "    </tr>\n",
       "    <tr>\n",
       "      <th></th>\n",
       "      <th>channel_type</th>\n",
       "      <th>offset</th>\n",
       "      <th>onset</th>\n",
       "      <th>offset</th>\n",
       "      <th>onset</th>\n",
       "    </tr>\n",
       "    <tr>\n",
       "      <th>event</th>\n",
       "      <th>channel_type</th>\n",
       "      <th></th>\n",
       "      <th></th>\n",
       "      <th></th>\n",
       "      <th></th>\n",
       "    </tr>\n",
       "  </thead>\n",
       "  <tbody>\n",
       "    <tr>\n",
       "      <th rowspan=\"2\" valign=\"top\">fixation</th>\n",
       "      <th>offset</th>\n",
       "      <td>--</td>\n",
       "      <td>***</td>\n",
       "      <td>***</td>\n",
       "      <td>n.s.</td>\n",
       "    </tr>\n",
       "    <tr>\n",
       "      <th>onset</th>\n",
       "      <td>0.000062</td>\n",
       "      <td>--</td>\n",
       "      <td>n.s.</td>\n",
       "      <td>***</td>\n",
       "    </tr>\n",
       "    <tr>\n",
       "      <th rowspan=\"2\" valign=\"top\">saccade</th>\n",
       "      <th>offset</th>\n",
       "      <td>0.000047</td>\n",
       "      <td>1.0</td>\n",
       "      <td>--</td>\n",
       "      <td>***</td>\n",
       "    </tr>\n",
       "    <tr>\n",
       "      <th>onset</th>\n",
       "      <td>1.0</td>\n",
       "      <td>0.0</td>\n",
       "      <td>0.0</td>\n",
       "      <td>--</td>\n",
       "    </tr>\n",
       "  </tbody>\n",
       "</table>\n",
       "</div>"
      ]
     },
     "metadata": {},
     "output_type": "display_data"
    }
   ],
   "execution_count": 30
  },
  {
   "metadata": {},
   "cell_type": "markdown",
   "source": [
    "#### (1D) Effect Sizes: Cliff's Delta\n",
    "We use Cliff's delta to measure the effect size of significant simple-effect (pairwise comparisons) results from Dunn's test.\n",
    "This effect size calculation is used for non-parametric tests and is based on the `cliffs-delta` python package."
   ],
   "id": "c239c7a125bb0f55"
  },
  {
   "metadata": {
    "ExecuteTime": {
     "end_time": "2025-05-05T09:09:25.950380Z",
     "start_time": "2025-05-05T09:09:25.939133Z"
    }
   },
   "cell_type": "code",
   "source": [
    "from cliffs_delta import cliffs_delta\n",
    "\n",
    "data = _extract_data(metrics, METRIC, ANNOTATOR, \"mean\", include_annotators=False)\n",
    "cliffs_delta_results = across_detector_post_hoc.copy()\n",
    "for i, (evnt1, chan1) in enumerate(across_detector_post_hoc.index):\n",
    "    for j, (evnt2, chan2) in enumerate(across_detector_post_hoc.columns):\n",
    "        if i <= j:\n",
    "            continue\n",
    "        if evnt1 == evnt2 and chan1 == chan2:\n",
    "            continue\n",
    "        scores1 = data.loc[(evnt1, chan1)].values\n",
    "        scores2 = data.loc[(evnt2, chan2)].values\n",
    "        d, res = cliffs_delta(scores1, scores2)\n",
    "        cliffs_delta_results.loc[(evnt1, chan1), (evnt2, chan2)] = (d, res)\n",
    "\n",
    "print(\"Cliff's Delta Results (Across Detectors):\")\n",
    "display(cliffs_delta_results)"
   ],
   "id": "b84f2d244818f368",
   "outputs": [
    {
     "name": "stdout",
     "output_type": "stream",
     "text": [
      "Cliff's Delta Results (Across Detectors):\n"
     ]
    },
    {
     "data": {
      "text/plain": [
       "event                         fixation                              saccade  \\\n",
       "channel_type                    offset                 onset         offset   \n",
       "event    channel_type                                                         \n",
       "fixation offset                     --                   ***            ***   \n",
       "         onset          (-0.91, large)                    --           n.s.   \n",
       "saccade  offset        (-0.865, large)  (-0.075, negligible)             --   \n",
       "         onset          (0.34, medium)         (0.97, large)  (0.91, large)   \n",
       "\n",
       "event                        \n",
       "channel_type          onset  \n",
       "event    channel_type        \n",
       "fixation offset        n.s.  \n",
       "         onset          ***  \n",
       "saccade  offset         ***  \n",
       "         onset           --  "
      ],
      "text/html": [
       "<div>\n",
       "<style scoped>\n",
       "    .dataframe tbody tr th:only-of-type {\n",
       "        vertical-align: middle;\n",
       "    }\n",
       "\n",
       "    .dataframe tbody tr th {\n",
       "        vertical-align: top;\n",
       "    }\n",
       "\n",
       "    .dataframe thead tr th {\n",
       "        text-align: left;\n",
       "    }\n",
       "\n",
       "    .dataframe thead tr:last-of-type th {\n",
       "        text-align: right;\n",
       "    }\n",
       "</style>\n",
       "<table border=\"1\" class=\"dataframe\">\n",
       "  <thead>\n",
       "    <tr>\n",
       "      <th></th>\n",
       "      <th>event</th>\n",
       "      <th colspan=\"2\" halign=\"left\">fixation</th>\n",
       "      <th colspan=\"2\" halign=\"left\">saccade</th>\n",
       "    </tr>\n",
       "    <tr>\n",
       "      <th></th>\n",
       "      <th>channel_type</th>\n",
       "      <th>offset</th>\n",
       "      <th>onset</th>\n",
       "      <th>offset</th>\n",
       "      <th>onset</th>\n",
       "    </tr>\n",
       "    <tr>\n",
       "      <th>event</th>\n",
       "      <th>channel_type</th>\n",
       "      <th></th>\n",
       "      <th></th>\n",
       "      <th></th>\n",
       "      <th></th>\n",
       "    </tr>\n",
       "  </thead>\n",
       "  <tbody>\n",
       "    <tr>\n",
       "      <th rowspan=\"2\" valign=\"top\">fixation</th>\n",
       "      <th>offset</th>\n",
       "      <td>--</td>\n",
       "      <td>***</td>\n",
       "      <td>***</td>\n",
       "      <td>n.s.</td>\n",
       "    </tr>\n",
       "    <tr>\n",
       "      <th>onset</th>\n",
       "      <td>(-0.91, large)</td>\n",
       "      <td>--</td>\n",
       "      <td>n.s.</td>\n",
       "      <td>***</td>\n",
       "    </tr>\n",
       "    <tr>\n",
       "      <th rowspan=\"2\" valign=\"top\">saccade</th>\n",
       "      <th>offset</th>\n",
       "      <td>(-0.865, large)</td>\n",
       "      <td>(-0.075, negligible)</td>\n",
       "      <td>--</td>\n",
       "      <td>***</td>\n",
       "    </tr>\n",
       "    <tr>\n",
       "      <th>onset</th>\n",
       "      <td>(0.34, medium)</td>\n",
       "      <td>(0.97, large)</td>\n",
       "      <td>(0.91, large)</td>\n",
       "      <td>--</td>\n",
       "    </tr>\n",
       "  </tbody>\n",
       "</table>\n",
       "</div>"
      ]
     },
     "metadata": {},
     "output_type": "display_data"
    }
   ],
   "execution_count": 31
  },
  {
   "metadata": {
    "ExecuteTime": {
     "end_time": "2025-05-05T09:09:26.028904Z",
     "start_time": "2025-05-05T09:09:26.024181Z"
    }
   },
   "cell_type": "code",
   "source": [
    "for i, (e1, c1) in enumerate(across_detector_post_hoc.index):\n",
    "    for j, (e2, c2) in enumerate(across_detector_post_hoc.columns):\n",
    "        if i <= j:\n",
    "            continue\n",
    "        print(f\"{(e1, c1)} vs {(e2, c2)}:\\tp={across_detector_post_hoc.loc[(e1, c1), (e2, c2)] :.6f}\\td={cliffs_delta_results.loc[(e1, c1), (e2, c2)][0] :.3f} ({cliffs_delta_results.loc[(e1, c1), (e2, c2)][1]})\")"
   ],
   "id": "906a17c28c5c60b9",
   "outputs": [
    {
     "name": "stdout",
     "output_type": "stream",
     "text": [
      "('fixation', 'onset') vs ('fixation', 'offset'):\tp=0.000062\td=-0.910 (large)\n",
      "('saccade', 'offset') vs ('fixation', 'offset'):\tp=0.000047\td=-0.865 (large)\n",
      "('saccade', 'offset') vs ('fixation', 'onset'):\tp=1.000000\td=-0.075 (negligible)\n",
      "('saccade', 'onset') vs ('fixation', 'offset'):\tp=1.000000\td=0.340 (medium)\n",
      "('saccade', 'onset') vs ('fixation', 'onset'):\tp=0.000000\td=0.970 (large)\n",
      "('saccade', 'onset') vs ('saccade', 'offset'):\tp=0.000000\td=0.910 (large)\n"
     ]
    }
   ],
   "execution_count": 32
  },
  {
   "metadata": {},
   "cell_type": "markdown",
   "source": [
    "### (2) Within-Detector Comparison\n",
    "Here we include all annotators (human and algorithmic) to check for differences in detectability between events (fixations vs. saccades) **within** each detector, controlling for channel type (onset/offset).\n",
    "\n",
    "#### (2A) Linear Mixed Effects Model\n",
    "We use the reduced model, controlling for variability between channels (onset/offset):\n",
    "$$d' \\sim 1 + \\text{event} + (1|\\text{channel})$$"
   ],
   "id": "48a76baf9f89a057"
  },
  {
   "metadata": {
    "ExecuteTime": {
     "end_time": "2025-05-05T09:09:26.499867Z",
     "start_time": "2025-05-05T09:09:26.135546Z"
    }
   },
   "cell_type": "code",
   "source": [
    "%%capture --no-display\n",
    "\n",
    "per_detector_results = {\n",
    "    det: linear_mixed_effect(metrics, METRIC, ANNOTATOR, det, include_annotators=True)\n",
    "    for det in metrics.columns.get_level_values(u.PRED_STR).unique() if det != ANNOTATOR\n",
    "}"
   ],
   "id": "c419ef5f30338c11",
   "outputs": [],
   "execution_count": 33
  },
  {
   "metadata": {
    "ExecuteTime": {
     "end_time": "2025-05-05T09:09:26.636720Z",
     "start_time": "2025-05-05T09:09:26.557279Z"
    }
   },
   "cell_type": "code",
   "source": [
    "for det in sorted(per_detector_results.keys(), key=lambda dett: LABELER_PLOTTING_CONFIG[dett][0]):\n",
    "    res = per_detector_results[det]\n",
    "    is_significant = res.pvalues['event[T.saccade]'] <= 0.05\n",
    "    print(f\"################################\")\n",
    "    print(f\"Detector: {det}\")\n",
    "    print(f\"Significant difference between fixations vs. saccades?\\t{is_significant}\")\n",
    "    display(res.summary())\n",
    "    if det != \"remodnav\":   # avoid line space in the final iteration\n",
    "        print(\"\\n\\n\")"
   ],
   "id": "881bdfab082f64ed",
   "outputs": [
    {
     "name": "stdout",
     "output_type": "stream",
     "text": [
      "################################\n",
      "Detector: MN\n",
      "Significant difference between fixations vs. saccades?\tFalse\n"
     ]
    },
    {
     "data": {
      "text/plain": [
       "<class 'statsmodels.iolib.summary2.Summary'>\n",
       "\"\"\"\n",
       "                    Mixed Linear Model Regression Results\n",
       "=============================================================================\n",
       "Model:                     MixedLM        Dependent Variable:        d_prime \n",
       "No. Observations:          56             Method:                    REML    \n",
       "No. Groups:                2              Scale:                     0.4401  \n",
       "Min. group size:           28             Log-Likelihood:            -60.2315\n",
       "Max. group size:           28             Converged:                 Yes     \n",
       "Mean group size:           28.0                                              \n",
       "-----------------------------------------------------------------------------\n",
       "                                    Coef.  Std.Err.   z   P>|z| [0.025 0.975]\n",
       "-----------------------------------------------------------------------------\n",
       "Intercept                            3.848    1.069 3.599 0.000  1.752  5.943\n",
       "event[T.saccade]                     0.696    1.788 0.389 0.697 -2.809  4.201\n",
       "channel_type Var                     2.255                                   \n",
       "channel_type x event[T.saccade] Cov -3.776                                   \n",
       "event[T.saccade] Var                 6.334                                   \n",
       "=============================================================================\n",
       "\n",
       "\"\"\""
      ],
      "text/html": [
       "<table class=\"simpletable\">\n",
       "<tr>\n",
       "       <td>Model:</td>       <td>MixedLM</td> <td>Dependent Variable:</td>  <td>d_prime</td>\n",
       "</tr>\n",
       "<tr>\n",
       "  <td>No. Observations:</td>   <td>56</td>          <td>Method:</td>         <td>REML</td>  \n",
       "</tr>\n",
       "<tr>\n",
       "     <td>No. Groups:</td>       <td>2</td>          <td>Scale:</td>         <td>0.4401</td> \n",
       "</tr>\n",
       "<tr>\n",
       "  <td>Min. group size:</td>    <td>28</td>      <td>Log-Likelihood:</td>   <td>-60.2315</td>\n",
       "</tr>\n",
       "<tr>\n",
       "  <td>Max. group size:</td>    <td>28</td>        <td>Converged:</td>         <td>Yes</td>  \n",
       "</tr>\n",
       "<tr>\n",
       "  <td>Mean group size:</td>   <td>28.0</td>            <td></td>               <td></td>    \n",
       "</tr>\n",
       "</table>\n",
       "<table class=\"simpletable\">\n",
       "<tr>\n",
       "                   <td></td>                    <th>Coef.</th> <th>Std.Err.</th>   <th>z</th>   <th>P>|z|</th> <th>[0.025</th> <th>0.975]</th>\n",
       "</tr>\n",
       "<tr>\n",
       "  <th>Intercept</th>                            <td>3.848</td>   <td>1.069</td>  <td>3.599</td> <td>0.000</td>  <td>1.752</td>  <td>5.943</td>\n",
       "</tr>\n",
       "<tr>\n",
       "  <th>event[T.saccade]</th>                     <td>0.696</td>   <td>1.788</td>  <td>0.389</td> <td>0.697</td> <td>-2.809</td>  <td>4.201</td>\n",
       "</tr>\n",
       "<tr>\n",
       "  <th>channel_type Var</th>                     <td>2.255</td>     <td></td>       <td></td>      <td></td>       <td></td>       <td></td>   \n",
       "</tr>\n",
       "<tr>\n",
       "  <th>channel_type x event[T.saccade] Cov</th> <td>-3.776</td>     <td></td>       <td></td>      <td></td>       <td></td>       <td></td>   \n",
       "</tr>\n",
       "<tr>\n",
       "  <th>event[T.saccade] Var</th>                 <td>6.334</td>     <td></td>       <td></td>      <td></td>       <td></td>       <td></td>   \n",
       "</tr>\n",
       "</table><br/>\n"
      ],
      "text/latex": "\\begin{table}\n\\caption{Mixed Linear Model Regression Results}\n\\label{}\n\\begin{center}\n\\begin{tabular}{llll}\n\\hline\nModel:            & MixedLM & Dependent Variable: & d\\_prime  \\\\\nNo. Observations: & 56      & Method:             & REML      \\\\\nNo. Groups:       & 2       & Scale:              & 0.4401    \\\\\nMin. group size:  & 28      & Log-Likelihood:     & -60.2315  \\\\\nMax. group size:  & 28      & Converged:          & Yes       \\\\\nMean group size:  & 28.0    &                     &           \\\\\n\\hline\n\\end{tabular}\n\\end{center}\n\n\\begin{center}\n\\begin{tabular}{lrrrrrr}\n\\hline\n                                     &  Coef. & Std.Err. &     z & P$> |$z$|$ & [0.025 & 0.975]  \\\\\n\\hline\nIntercept                            &  3.848 &    1.069 & 3.599 &       0.000 &  1.752 &  5.943  \\\\\nevent[T.saccade]                     &  0.696 &    1.788 & 0.389 &       0.697 & -2.809 &  4.201  \\\\\nchannel\\_type Var                    &  2.255 &          &       &             &        &         \\\\\nchannel\\_type x event[T.saccade] Cov & -3.776 &          &       &             &        &         \\\\\nevent[T.saccade] Var                 &  6.334 &          &       &             &        &         \\\\\n\\hline\n\\end{tabular}\n\\end{center}\n\\end{table}\n\\bigskip\n"
     },
     "metadata": {},
     "output_type": "display_data"
    },
    {
     "name": "stdout",
     "output_type": "stream",
     "text": [
      "\n",
      "\n",
      "\n",
      "################################\n",
      "Detector: ivt\n",
      "Significant difference between fixations vs. saccades?\tFalse\n"
     ]
    },
    {
     "data": {
      "text/plain": [
       "<class 'statsmodels.iolib.summary2.Summary'>\n",
       "\"\"\"\n",
       "                    Mixed Linear Model Regression Results\n",
       "=============================================================================\n",
       "Model:                    MixedLM        Dependent Variable:        d_prime  \n",
       "No. Observations:         80             Method:                    REML     \n",
       "No. Groups:               2              Scale:                     0.8516   \n",
       "Min. group size:          40             Log-Likelihood:            -110.7079\n",
       "Max. group size:          40             Converged:                 No       \n",
       "Mean group size:          40.0                                               \n",
       "-----------------------------------------------------------------------------\n",
       "                                    Coef.  Std.Err.   z   P>|z| [0.025 0.975]\n",
       "-----------------------------------------------------------------------------\n",
       "Intercept                            2.988    1.319 2.265 0.024  0.403  5.574\n",
       "event[T.saccade]                     0.229    2.569 0.089 0.929 -4.806  5.263\n",
       "channel_type Var                     3.438                                   \n",
       "channel_type x event[T.saccade] Cov -6.709                                   \n",
       "event[T.saccade] Var                13.109                                   \n",
       "=============================================================================\n",
       "\n",
       "\"\"\""
      ],
      "text/html": [
       "<table class=\"simpletable\">\n",
       "<tr>\n",
       "       <td>Model:</td>       <td>MixedLM</td> <td>Dependent Variable:</td>  <td>d_prime</td> \n",
       "</tr>\n",
       "<tr>\n",
       "  <td>No. Observations:</td>   <td>80</td>          <td>Method:</td>         <td>REML</td>   \n",
       "</tr>\n",
       "<tr>\n",
       "     <td>No. Groups:</td>       <td>2</td>          <td>Scale:</td>         <td>0.8516</td>  \n",
       "</tr>\n",
       "<tr>\n",
       "  <td>Min. group size:</td>    <td>40</td>      <td>Log-Likelihood:</td>   <td>-110.7079</td>\n",
       "</tr>\n",
       "<tr>\n",
       "  <td>Max. group size:</td>    <td>40</td>        <td>Converged:</td>         <td>No</td>    \n",
       "</tr>\n",
       "<tr>\n",
       "  <td>Mean group size:</td>   <td>40.0</td>            <td></td>               <td></td>     \n",
       "</tr>\n",
       "</table>\n",
       "<table class=\"simpletable\">\n",
       "<tr>\n",
       "                   <td></td>                    <th>Coef.</th> <th>Std.Err.</th>   <th>z</th>   <th>P>|z|</th> <th>[0.025</th> <th>0.975]</th>\n",
       "</tr>\n",
       "<tr>\n",
       "  <th>Intercept</th>                            <td>2.988</td>   <td>1.319</td>  <td>2.265</td> <td>0.024</td>  <td>0.403</td>  <td>5.574</td>\n",
       "</tr>\n",
       "<tr>\n",
       "  <th>event[T.saccade]</th>                     <td>0.229</td>   <td>2.569</td>  <td>0.089</td> <td>0.929</td> <td>-4.806</td>  <td>5.263</td>\n",
       "</tr>\n",
       "<tr>\n",
       "  <th>channel_type Var</th>                     <td>3.438</td>     <td></td>       <td></td>      <td></td>       <td></td>       <td></td>   \n",
       "</tr>\n",
       "<tr>\n",
       "  <th>channel_type x event[T.saccade] Cov</th> <td>-6.709</td>     <td></td>       <td></td>      <td></td>       <td></td>       <td></td>   \n",
       "</tr>\n",
       "<tr>\n",
       "  <th>event[T.saccade] Var</th>                <td>13.109</td>     <td></td>       <td></td>      <td></td>       <td></td>       <td></td>   \n",
       "</tr>\n",
       "</table><br/>\n"
      ],
      "text/latex": "\\begin{table}\n\\caption{Mixed Linear Model Regression Results}\n\\label{}\n\\begin{center}\n\\begin{tabular}{llll}\n\\hline\nModel:            & MixedLM & Dependent Variable: & d\\_prime   \\\\\nNo. Observations: & 80      & Method:             & REML       \\\\\nNo. Groups:       & 2       & Scale:              & 0.8516     \\\\\nMin. group size:  & 40      & Log-Likelihood:     & -110.7079  \\\\\nMax. group size:  & 40      & Converged:          & No         \\\\\nMean group size:  & 40.0    &                     &            \\\\\n\\hline\n\\end{tabular}\n\\end{center}\n\n\\begin{center}\n\\begin{tabular}{lrrrrrr}\n\\hline\n                                     &  Coef. & Std.Err. &     z & P$> |$z$|$ & [0.025 & 0.975]  \\\\\n\\hline\nIntercept                            &  2.988 &    1.319 & 2.265 &       0.024 &  0.403 &  5.574  \\\\\nevent[T.saccade]                     &  0.229 &    2.569 & 0.089 &       0.929 & -4.806 &  5.263  \\\\\nchannel\\_type Var                    &  3.438 &          &       &             &        &         \\\\\nchannel\\_type x event[T.saccade] Cov & -6.709 &          &       &             &        &         \\\\\nevent[T.saccade] Var                 & 13.109 &          &       &             &        &         \\\\\n\\hline\n\\end{tabular}\n\\end{center}\n\\end{table}\n\\bigskip\n"
     },
     "metadata": {},
     "output_type": "display_data"
    },
    {
     "name": "stdout",
     "output_type": "stream",
     "text": [
      "\n",
      "\n",
      "\n",
      "################################\n",
      "Detector: ivvt\n",
      "Significant difference between fixations vs. saccades?\tFalse\n"
     ]
    },
    {
     "data": {
      "text/plain": [
       "<class 'statsmodels.iolib.summary2.Summary'>\n",
       "\"\"\"\n",
       "                    Mixed Linear Model Regression Results\n",
       "=============================================================================\n",
       "Model:                    MixedLM        Dependent Variable:        d_prime  \n",
       "No. Observations:         80             Method:                    REML     \n",
       "No. Groups:               2              Scale:                     0.7802   \n",
       "Min. group size:          40             Log-Likelihood:            -106.5585\n",
       "Max. group size:          40             Converged:                 Yes      \n",
       "Mean group size:          40.0                                               \n",
       "-----------------------------------------------------------------------------\n",
       "                                    Coef.  Std.Err.   z   P>|z| [0.025 0.975]\n",
       "-----------------------------------------------------------------------------\n",
       "Intercept                            3.108    0.604 5.150 0.000  1.925  4.291\n",
       "event[T.saccade]                     0.102    1.263 0.081 0.935 -2.372  2.577\n",
       "channel_type Var                     0.690    1.712                          \n",
       "channel_type x event[T.saccade] Cov -1.464    3.038                          \n",
       "event[T.saccade] Var                 3.110    5.391                          \n",
       "=============================================================================\n",
       "\n",
       "\"\"\""
      ],
      "text/html": [
       "<table class=\"simpletable\">\n",
       "<tr>\n",
       "       <td>Model:</td>       <td>MixedLM</td> <td>Dependent Variable:</td>  <td>d_prime</td> \n",
       "</tr>\n",
       "<tr>\n",
       "  <td>No. Observations:</td>   <td>80</td>          <td>Method:</td>         <td>REML</td>   \n",
       "</tr>\n",
       "<tr>\n",
       "     <td>No. Groups:</td>       <td>2</td>          <td>Scale:</td>         <td>0.7802</td>  \n",
       "</tr>\n",
       "<tr>\n",
       "  <td>Min. group size:</td>    <td>40</td>      <td>Log-Likelihood:</td>   <td>-106.5585</td>\n",
       "</tr>\n",
       "<tr>\n",
       "  <td>Max. group size:</td>    <td>40</td>        <td>Converged:</td>         <td>Yes</td>   \n",
       "</tr>\n",
       "<tr>\n",
       "  <td>Mean group size:</td>   <td>40.0</td>            <td></td>               <td></td>     \n",
       "</tr>\n",
       "</table>\n",
       "<table class=\"simpletable\">\n",
       "<tr>\n",
       "                   <td></td>                    <th>Coef.</th> <th>Std.Err.</th>   <th>z</th>   <th>P>|z|</th> <th>[0.025</th> <th>0.975]</th>\n",
       "</tr>\n",
       "<tr>\n",
       "  <th>Intercept</th>                            <td>3.108</td>   <td>0.604</td>  <td>5.150</td> <td>0.000</td>  <td>1.925</td>  <td>4.291</td>\n",
       "</tr>\n",
       "<tr>\n",
       "  <th>event[T.saccade]</th>                     <td>0.102</td>   <td>1.263</td>  <td>0.081</td> <td>0.935</td> <td>-2.372</td>  <td>2.577</td>\n",
       "</tr>\n",
       "<tr>\n",
       "  <th>channel_type Var</th>                     <td>0.690</td>   <td>1.712</td>    <td></td>      <td></td>       <td></td>       <td></td>   \n",
       "</tr>\n",
       "<tr>\n",
       "  <th>channel_type x event[T.saccade] Cov</th> <td>-1.464</td>   <td>3.038</td>    <td></td>      <td></td>       <td></td>       <td></td>   \n",
       "</tr>\n",
       "<tr>\n",
       "  <th>event[T.saccade] Var</th>                 <td>3.110</td>   <td>5.391</td>    <td></td>      <td></td>       <td></td>       <td></td>   \n",
       "</tr>\n",
       "</table><br/>\n"
      ],
      "text/latex": "\\begin{table}\n\\caption{Mixed Linear Model Regression Results}\n\\label{}\n\\begin{center}\n\\begin{tabular}{llll}\n\\hline\nModel:            & MixedLM & Dependent Variable: & d\\_prime   \\\\\nNo. Observations: & 80      & Method:             & REML       \\\\\nNo. Groups:       & 2       & Scale:              & 0.7802     \\\\\nMin. group size:  & 40      & Log-Likelihood:     & -106.5585  \\\\\nMax. group size:  & 40      & Converged:          & Yes        \\\\\nMean group size:  & 40.0    &                     &            \\\\\n\\hline\n\\end{tabular}\n\\end{center}\n\n\\begin{center}\n\\begin{tabular}{lrrrrrr}\n\\hline\n                                     &  Coef. & Std.Err. &     z & P$> |$z$|$ & [0.025 & 0.975]  \\\\\n\\hline\nIntercept                            &  3.108 &    0.604 & 5.150 &       0.000 &  1.925 &  4.291  \\\\\nevent[T.saccade]                     &  0.102 &    1.263 & 0.081 &       0.935 & -2.372 &  2.577  \\\\\nchannel\\_type Var                    &  0.690 &    1.712 &       &             &        &         \\\\\nchannel\\_type x event[T.saccade] Cov & -1.464 &    3.038 &       &             &        &         \\\\\nevent[T.saccade] Var                 &  3.110 &    5.391 &       &             &        &         \\\\\n\\hline\n\\end{tabular}\n\\end{center}\n\\end{table}\n\\bigskip\n"
     },
     "metadata": {},
     "output_type": "display_data"
    },
    {
     "name": "stdout",
     "output_type": "stream",
     "text": [
      "\n",
      "\n",
      "\n",
      "################################\n",
      "Detector: idt\n",
      "Significant difference between fixations vs. saccades?\tFalse\n"
     ]
    },
    {
     "data": {
      "text/plain": [
       "<class 'statsmodels.iolib.summary2.Summary'>\n",
       "\"\"\"\n",
       "                    Mixed Linear Model Regression Results\n",
       "=============================================================================\n",
       "Model:                     MixedLM        Dependent Variable:        d_prime \n",
       "No. Observations:          80             Method:                    REML    \n",
       "No. Groups:                2              Scale:                     0.4035  \n",
       "Min. group size:           40             Log-Likelihood:            -82.0372\n",
       "Max. group size:           40             Converged:                 No      \n",
       "Mean group size:           40.0                                              \n",
       "-----------------------------------------------------------------------------\n",
       "                                    Coef.  Std.Err.   z   P>|z| [0.025 0.975]\n",
       "-----------------------------------------------------------------------------\n",
       "Intercept                            1.150    1.324 0.868 0.385 -1.445  3.744\n",
       "event[T.saccade]                     0.305    2.159 0.141 0.888 -3.928  4.537\n",
       "channel_type Var                     3.485    2.451                          \n",
       "channel_type x event[T.saccade] Cov -5.681    7.863                          \n",
       "event[T.saccade] Var                 9.286   16.704                          \n",
       "=============================================================================\n",
       "\n",
       "\"\"\""
      ],
      "text/html": [
       "<table class=\"simpletable\">\n",
       "<tr>\n",
       "       <td>Model:</td>       <td>MixedLM</td> <td>Dependent Variable:</td>  <td>d_prime</td>\n",
       "</tr>\n",
       "<tr>\n",
       "  <td>No. Observations:</td>   <td>80</td>          <td>Method:</td>         <td>REML</td>  \n",
       "</tr>\n",
       "<tr>\n",
       "     <td>No. Groups:</td>       <td>2</td>          <td>Scale:</td>         <td>0.4035</td> \n",
       "</tr>\n",
       "<tr>\n",
       "  <td>Min. group size:</td>    <td>40</td>      <td>Log-Likelihood:</td>   <td>-82.0372</td>\n",
       "</tr>\n",
       "<tr>\n",
       "  <td>Max. group size:</td>    <td>40</td>        <td>Converged:</td>         <td>No</td>   \n",
       "</tr>\n",
       "<tr>\n",
       "  <td>Mean group size:</td>   <td>40.0</td>            <td></td>               <td></td>    \n",
       "</tr>\n",
       "</table>\n",
       "<table class=\"simpletable\">\n",
       "<tr>\n",
       "                   <td></td>                    <th>Coef.</th> <th>Std.Err.</th>   <th>z</th>   <th>P>|z|</th> <th>[0.025</th> <th>0.975]</th>\n",
       "</tr>\n",
       "<tr>\n",
       "  <th>Intercept</th>                            <td>1.150</td>   <td>1.324</td>  <td>0.868</td> <td>0.385</td> <td>-1.445</td>  <td>3.744</td>\n",
       "</tr>\n",
       "<tr>\n",
       "  <th>event[T.saccade]</th>                     <td>0.305</td>   <td>2.159</td>  <td>0.141</td> <td>0.888</td> <td>-3.928</td>  <td>4.537</td>\n",
       "</tr>\n",
       "<tr>\n",
       "  <th>channel_type Var</th>                     <td>3.485</td>   <td>2.451</td>    <td></td>      <td></td>       <td></td>       <td></td>   \n",
       "</tr>\n",
       "<tr>\n",
       "  <th>channel_type x event[T.saccade] Cov</th> <td>-5.681</td>   <td>7.863</td>    <td></td>      <td></td>       <td></td>       <td></td>   \n",
       "</tr>\n",
       "<tr>\n",
       "  <th>event[T.saccade] Var</th>                 <td>9.286</td>  <td>16.704</td>    <td></td>      <td></td>       <td></td>       <td></td>   \n",
       "</tr>\n",
       "</table><br/>\n"
      ],
      "text/latex": "\\begin{table}\n\\caption{Mixed Linear Model Regression Results}\n\\label{}\n\\begin{center}\n\\begin{tabular}{llll}\n\\hline\nModel:            & MixedLM & Dependent Variable: & d\\_prime  \\\\\nNo. Observations: & 80      & Method:             & REML      \\\\\nNo. Groups:       & 2       & Scale:              & 0.4035    \\\\\nMin. group size:  & 40      & Log-Likelihood:     & -82.0372  \\\\\nMax. group size:  & 40      & Converged:          & No        \\\\\nMean group size:  & 40.0    &                     &           \\\\\n\\hline\n\\end{tabular}\n\\end{center}\n\n\\begin{center}\n\\begin{tabular}{lrrrrrr}\n\\hline\n                                     &  Coef. & Std.Err. &     z & P$> |$z$|$ & [0.025 & 0.975]  \\\\\n\\hline\nIntercept                            &  1.150 &    1.324 & 0.868 &       0.385 & -1.445 &  3.744  \\\\\nevent[T.saccade]                     &  0.305 &    2.159 & 0.141 &       0.888 & -3.928 &  4.537  \\\\\nchannel\\_type Var                    &  3.485 &    2.451 &       &             &        &         \\\\\nchannel\\_type x event[T.saccade] Cov & -5.681 &    7.863 &       &             &        &         \\\\\nevent[T.saccade] Var                 &  9.286 &   16.704 &       &             &        &         \\\\\n\\hline\n\\end{tabular}\n\\end{center}\n\\end{table}\n\\bigskip\n"
     },
     "metadata": {},
     "output_type": "display_data"
    },
    {
     "name": "stdout",
     "output_type": "stream",
     "text": [
      "\n",
      "\n",
      "\n",
      "################################\n",
      "Detector: idvt\n",
      "Significant difference between fixations vs. saccades?\tFalse\n"
     ]
    },
    {
     "data": {
      "text/plain": [
       "<class 'statsmodels.iolib.summary2.Summary'>\n",
       "\"\"\"\n",
       "                    Mixed Linear Model Regression Results\n",
       "=============================================================================\n",
       "Model:                     MixedLM        Dependent Variable:        d_prime \n",
       "No. Observations:          80             Method:                    REML    \n",
       "No. Groups:                2              Scale:                     0.3853  \n",
       "Min. group size:           40             Log-Likelihood:            -80.1778\n",
       "Max. group size:           40             Converged:                 Yes     \n",
       "Mean group size:           40.0                                              \n",
       "-----------------------------------------------------------------------------\n",
       "                                    Coef.  Std.Err.   z   P>|z| [0.025 0.975]\n",
       "-----------------------------------------------------------------------------\n",
       "Intercept                            1.174    1.405 0.835 0.404 -1.580  3.928\n",
       "event[T.saccade]                     0.330    2.355 0.140 0.889 -4.286  4.946\n",
       "channel_type Var                     3.929   10.671                          \n",
       "channel_type x event[T.saccade] Cov -6.587   18.767                          \n",
       "event[T.saccade] Var                11.054   32.789                          \n",
       "=============================================================================\n",
       "\n",
       "\"\"\""
      ],
      "text/html": [
       "<table class=\"simpletable\">\n",
       "<tr>\n",
       "       <td>Model:</td>       <td>MixedLM</td> <td>Dependent Variable:</td>  <td>d_prime</td>\n",
       "</tr>\n",
       "<tr>\n",
       "  <td>No. Observations:</td>   <td>80</td>          <td>Method:</td>         <td>REML</td>  \n",
       "</tr>\n",
       "<tr>\n",
       "     <td>No. Groups:</td>       <td>2</td>          <td>Scale:</td>         <td>0.3853</td> \n",
       "</tr>\n",
       "<tr>\n",
       "  <td>Min. group size:</td>    <td>40</td>      <td>Log-Likelihood:</td>   <td>-80.1778</td>\n",
       "</tr>\n",
       "<tr>\n",
       "  <td>Max. group size:</td>    <td>40</td>        <td>Converged:</td>         <td>Yes</td>  \n",
       "</tr>\n",
       "<tr>\n",
       "  <td>Mean group size:</td>   <td>40.0</td>            <td></td>               <td></td>    \n",
       "</tr>\n",
       "</table>\n",
       "<table class=\"simpletable\">\n",
       "<tr>\n",
       "                   <td></td>                    <th>Coef.</th> <th>Std.Err.</th>   <th>z</th>   <th>P>|z|</th> <th>[0.025</th> <th>0.975]</th>\n",
       "</tr>\n",
       "<tr>\n",
       "  <th>Intercept</th>                            <td>1.174</td>   <td>1.405</td>  <td>0.835</td> <td>0.404</td> <td>-1.580</td>  <td>3.928</td>\n",
       "</tr>\n",
       "<tr>\n",
       "  <th>event[T.saccade]</th>                     <td>0.330</td>   <td>2.355</td>  <td>0.140</td> <td>0.889</td> <td>-4.286</td>  <td>4.946</td>\n",
       "</tr>\n",
       "<tr>\n",
       "  <th>channel_type Var</th>                     <td>3.929</td>  <td>10.671</td>    <td></td>      <td></td>       <td></td>       <td></td>   \n",
       "</tr>\n",
       "<tr>\n",
       "  <th>channel_type x event[T.saccade] Cov</th> <td>-6.587</td>  <td>18.767</td>    <td></td>      <td></td>       <td></td>       <td></td>   \n",
       "</tr>\n",
       "<tr>\n",
       "  <th>event[T.saccade] Var</th>                <td>11.054</td>  <td>32.789</td>    <td></td>      <td></td>       <td></td>       <td></td>   \n",
       "</tr>\n",
       "</table><br/>\n"
      ],
      "text/latex": "\\begin{table}\n\\caption{Mixed Linear Model Regression Results}\n\\label{}\n\\begin{center}\n\\begin{tabular}{llll}\n\\hline\nModel:            & MixedLM & Dependent Variable: & d\\_prime  \\\\\nNo. Observations: & 80      & Method:             & REML      \\\\\nNo. Groups:       & 2       & Scale:              & 0.3853    \\\\\nMin. group size:  & 40      & Log-Likelihood:     & -80.1778  \\\\\nMax. group size:  & 40      & Converged:          & Yes       \\\\\nMean group size:  & 40.0    &                     &           \\\\\n\\hline\n\\end{tabular}\n\\end{center}\n\n\\begin{center}\n\\begin{tabular}{lrrrrrr}\n\\hline\n                                     &  Coef. & Std.Err. &     z & P$> |$z$|$ & [0.025 & 0.975]  \\\\\n\\hline\nIntercept                            &  1.174 &    1.405 & 0.835 &       0.404 & -1.580 &  3.928  \\\\\nevent[T.saccade]                     &  0.330 &    2.355 & 0.140 &       0.889 & -4.286 &  4.946  \\\\\nchannel\\_type Var                    &  3.929 &   10.671 &       &             &        &         \\\\\nchannel\\_type x event[T.saccade] Cov & -6.587 &   18.767 &       &             &        &         \\\\\nevent[T.saccade] Var                 & 11.054 &   32.789 &       &             &        &         \\\\\n\\hline\n\\end{tabular}\n\\end{center}\n\\end{table}\n\\bigskip\n"
     },
     "metadata": {},
     "output_type": "display_data"
    },
    {
     "name": "stdout",
     "output_type": "stream",
     "text": [
      "\n",
      "\n",
      "\n",
      "################################\n",
      "Detector: engbert\n",
      "Significant difference between fixations vs. saccades?\tFalse\n"
     ]
    },
    {
     "data": {
      "text/plain": [
       "<class 'statsmodels.iolib.summary2.Summary'>\n",
       "\"\"\"\n",
       "                     Mixed Linear Model Regression Results\n",
       "===============================================================================\n",
       "Model:                    MixedLM         Dependent Variable:         d_prime  \n",
       "No. Observations:         80              Method:                     REML     \n",
       "No. Groups:               2               Scale:                      0.6462   \n",
       "Min. group size:          40              Log-Likelihood:             -100.5909\n",
       "Max. group size:          40              Converged:                  Yes      \n",
       "Mean group size:          40.0                                                 \n",
       "-------------------------------------------------------------------------------\n",
       "                                     Coef.  Std.Err.   z    P>|z| [0.025 0.975]\n",
       "-------------------------------------------------------------------------------\n",
       "Intercept                             3.678    1.379  2.667 0.008  0.975  6.381\n",
       "event[T.saccade]                     -0.616    4.150 -0.149 0.882 -8.750  7.517\n",
       "channel_type Var                      3.772                                    \n",
       "channel_type x event[T.saccade] Cov -11.384                                    \n",
       "event[T.saccade] Var                 34.376                                    \n",
       "===============================================================================\n",
       "\n",
       "\"\"\""
      ],
      "text/html": [
       "<table class=\"simpletable\">\n",
       "<tr>\n",
       "       <td>Model:</td>       <td>MixedLM</td> <td>Dependent Variable:</td>  <td>d_prime</td> \n",
       "</tr>\n",
       "<tr>\n",
       "  <td>No. Observations:</td>   <td>80</td>          <td>Method:</td>         <td>REML</td>   \n",
       "</tr>\n",
       "<tr>\n",
       "     <td>No. Groups:</td>       <td>2</td>          <td>Scale:</td>         <td>0.6462</td>  \n",
       "</tr>\n",
       "<tr>\n",
       "  <td>Min. group size:</td>    <td>40</td>      <td>Log-Likelihood:</td>   <td>-100.5909</td>\n",
       "</tr>\n",
       "<tr>\n",
       "  <td>Max. group size:</td>    <td>40</td>        <td>Converged:</td>         <td>Yes</td>   \n",
       "</tr>\n",
       "<tr>\n",
       "  <td>Mean group size:</td>   <td>40.0</td>            <td></td>               <td></td>     \n",
       "</tr>\n",
       "</table>\n",
       "<table class=\"simpletable\">\n",
       "<tr>\n",
       "                   <td></td>                    <th>Coef.</th>  <th>Std.Err.</th>    <th>z</th>   <th>P>|z|</th> <th>[0.025</th> <th>0.975]</th>\n",
       "</tr>\n",
       "<tr>\n",
       "  <th>Intercept</th>                            <td>3.678</td>    <td>1.379</td>   <td>2.667</td> <td>0.008</td>  <td>0.975</td>  <td>6.381</td>\n",
       "</tr>\n",
       "<tr>\n",
       "  <th>event[T.saccade]</th>                    <td>-0.616</td>    <td>4.150</td>  <td>-0.149</td> <td>0.882</td> <td>-8.750</td>  <td>7.517</td>\n",
       "</tr>\n",
       "<tr>\n",
       "  <th>channel_type Var</th>                     <td>3.772</td>      <td></td>        <td></td>      <td></td>       <td></td>       <td></td>   \n",
       "</tr>\n",
       "<tr>\n",
       "  <th>channel_type x event[T.saccade] Cov</th> <td>-11.384</td>     <td></td>        <td></td>      <td></td>       <td></td>       <td></td>   \n",
       "</tr>\n",
       "<tr>\n",
       "  <th>event[T.saccade] Var</th>                <td>34.376</td>      <td></td>        <td></td>      <td></td>       <td></td>       <td></td>   \n",
       "</tr>\n",
       "</table><br/>\n"
      ],
      "text/latex": "\\begin{table}\n\\caption{Mixed Linear Model Regression Results}\n\\label{}\n\\begin{center}\n\\begin{tabular}{llll}\n\\hline\nModel:            & MixedLM & Dependent Variable: & d\\_prime   \\\\\nNo. Observations: & 80      & Method:             & REML       \\\\\nNo. Groups:       & 2       & Scale:              & 0.6462     \\\\\nMin. group size:  & 40      & Log-Likelihood:     & -100.5909  \\\\\nMax. group size:  & 40      & Converged:          & Yes        \\\\\nMean group size:  & 40.0    &                     &            \\\\\n\\hline\n\\end{tabular}\n\\end{center}\n\n\\begin{center}\n\\begin{tabular}{lrrrrrr}\n\\hline\n                                     &   Coef. & Std.Err. &      z & P$> |$z$|$ & [0.025 & 0.975]  \\\\\n\\hline\nIntercept                            &   3.678 &    1.379 &  2.667 &       0.008 &  0.975 &  6.381  \\\\\nevent[T.saccade]                     &  -0.616 &    4.150 & -0.149 &       0.882 & -8.750 &  7.517  \\\\\nchannel\\_type Var                    &   3.772 &          &        &             &        &         \\\\\nchannel\\_type x event[T.saccade] Cov & -11.384 &          &        &             &        &         \\\\\nevent[T.saccade] Var                 &  34.376 &          &        &             &        &         \\\\\n\\hline\n\\end{tabular}\n\\end{center}\n\\end{table}\n\\bigskip\n"
     },
     "metadata": {},
     "output_type": "display_data"
    },
    {
     "name": "stdout",
     "output_type": "stream",
     "text": [
      "\n",
      "\n",
      "\n",
      "################################\n",
      "Detector: nh\n",
      "Significant difference between fixations vs. saccades?\tFalse\n"
     ]
    },
    {
     "data": {
      "text/plain": [
       "<class 'statsmodels.iolib.summary2.Summary'>\n",
       "\"\"\"\n",
       "                    Mixed Linear Model Regression Results\n",
       "==============================================================================\n",
       "Model:                     MixedLM        Dependent Variable:        d_prime  \n",
       "No. Observations:          80             Method:                    REML     \n",
       "No. Groups:                2              Scale:                     0.7857   \n",
       "Min. group size:           40             Log-Likelihood:            -104.9733\n",
       "Max. group size:           40             Converged:                 Yes      \n",
       "Mean group size:           40.0                                               \n",
       "------------------------------------------------------------------------------\n",
       "                                    Coef.  Std.Err.   z    P>|z| [0.025 0.975]\n",
       "------------------------------------------------------------------------------\n",
       "Intercept                            2.019    0.141 14.313 0.000  1.743  2.296\n",
       "event[T.saccade]                     0.020    0.200  0.099 0.921 -0.373  0.413\n",
       "channel_type Var                     0.001                                    \n",
       "channel_type x event[T.saccade] Cov -0.001                                    \n",
       "event[T.saccade] Var                 0.002    0.143                           \n",
       "==============================================================================\n",
       "\n",
       "\"\"\""
      ],
      "text/html": [
       "<table class=\"simpletable\">\n",
       "<tr>\n",
       "       <td>Model:</td>       <td>MixedLM</td> <td>Dependent Variable:</td>  <td>d_prime</td> \n",
       "</tr>\n",
       "<tr>\n",
       "  <td>No. Observations:</td>   <td>80</td>          <td>Method:</td>         <td>REML</td>   \n",
       "</tr>\n",
       "<tr>\n",
       "     <td>No. Groups:</td>       <td>2</td>          <td>Scale:</td>         <td>0.7857</td>  \n",
       "</tr>\n",
       "<tr>\n",
       "  <td>Min. group size:</td>    <td>40</td>      <td>Log-Likelihood:</td>   <td>-104.9733</td>\n",
       "</tr>\n",
       "<tr>\n",
       "  <td>Max. group size:</td>    <td>40</td>        <td>Converged:</td>         <td>Yes</td>   \n",
       "</tr>\n",
       "<tr>\n",
       "  <td>Mean group size:</td>   <td>40.0</td>            <td></td>               <td></td>     \n",
       "</tr>\n",
       "</table>\n",
       "<table class=\"simpletable\">\n",
       "<tr>\n",
       "                   <td></td>                    <th>Coef.</th> <th>Std.Err.</th>    <th>z</th>   <th>P>|z|</th> <th>[0.025</th> <th>0.975]</th>\n",
       "</tr>\n",
       "<tr>\n",
       "  <th>Intercept</th>                            <td>2.019</td>   <td>0.141</td>  <td>14.313</td> <td>0.000</td>  <td>1.743</td>  <td>2.296</td>\n",
       "</tr>\n",
       "<tr>\n",
       "  <th>event[T.saccade]</th>                     <td>0.020</td>   <td>0.200</td>   <td>0.099</td> <td>0.921</td> <td>-0.373</td>  <td>0.413</td>\n",
       "</tr>\n",
       "<tr>\n",
       "  <th>channel_type Var</th>                     <td>0.001</td>     <td></td>        <td></td>      <td></td>       <td></td>       <td></td>   \n",
       "</tr>\n",
       "<tr>\n",
       "  <th>channel_type x event[T.saccade] Cov</th> <td>-0.001</td>     <td></td>        <td></td>      <td></td>       <td></td>       <td></td>   \n",
       "</tr>\n",
       "<tr>\n",
       "  <th>event[T.saccade] Var</th>                 <td>0.002</td>   <td>0.143</td>     <td></td>      <td></td>       <td></td>       <td></td>   \n",
       "</tr>\n",
       "</table><br/>\n"
      ],
      "text/latex": "\\begin{table}\n\\caption{Mixed Linear Model Regression Results}\n\\label{}\n\\begin{center}\n\\begin{tabular}{llll}\n\\hline\nModel:            & MixedLM & Dependent Variable: & d\\_prime   \\\\\nNo. Observations: & 80      & Method:             & REML       \\\\\nNo. Groups:       & 2       & Scale:              & 0.7857     \\\\\nMin. group size:  & 40      & Log-Likelihood:     & -104.9733  \\\\\nMax. group size:  & 40      & Converged:          & Yes        \\\\\nMean group size:  & 40.0    &                     &            \\\\\n\\hline\n\\end{tabular}\n\\end{center}\n\n\\begin{center}\n\\begin{tabular}{lrrrrrr}\n\\hline\n                                     &  Coef. & Std.Err. &      z & P$> |$z$|$ & [0.025 & 0.975]  \\\\\n\\hline\nIntercept                            &  2.019 &    0.141 & 14.313 &       0.000 &  1.743 &  2.296  \\\\\nevent[T.saccade]                     &  0.020 &    0.200 &  0.099 &       0.921 & -0.373 &  0.413  \\\\\nchannel\\_type Var                    &  0.001 &          &        &             &        &         \\\\\nchannel\\_type x event[T.saccade] Cov & -0.001 &          &        &             &        &         \\\\\nevent[T.saccade] Var                 &  0.002 &    0.143 &        &             &        &         \\\\\n\\hline\n\\end{tabular}\n\\end{center}\n\\end{table}\n\\bigskip\n"
     },
     "metadata": {},
     "output_type": "display_data"
    },
    {
     "name": "stdout",
     "output_type": "stream",
     "text": [
      "\n",
      "\n",
      "\n",
      "################################\n",
      "Detector: remodnav\n",
      "Significant difference between fixations vs. saccades?\tFalse\n"
     ]
    },
    {
     "data": {
      "text/plain": [
       "<class 'statsmodels.iolib.summary2.Summary'>\n",
       "\"\"\"\n",
       "                   Mixed Linear Model Regression Results\n",
       "============================================================================\n",
       "Model:                    MixedLM        Dependent Variable:        d_prime \n",
       "No. Observations:         80             Method:                    REML    \n",
       "No. Groups:               2              Scale:                     0.2743  \n",
       "Min. group size:          40             Log-Likelihood:            -66.1078\n",
       "Max. group size:          40             Converged:                 Yes     \n",
       "Mean group size:          40.0                                              \n",
       "----------------------------------------------------------------------------\n",
       "                                    Coef. Std.Err.   z   P>|z| [0.025 0.975]\n",
       "----------------------------------------------------------------------------\n",
       "Intercept                           1.226    0.261 4.693 0.000  0.714  1.737\n",
       "event[T.saccade]                    0.512    0.457 1.120 0.263 -0.384  1.407\n",
       "channel_type Var                    0.123    1.048                          \n",
       "channel_type x event[T.saccade] Cov 0.219    0.628                          \n",
       "event[T.saccade] Var                0.390    2.599                          \n",
       "============================================================================\n",
       "\n",
       "\"\"\""
      ],
      "text/html": [
       "<table class=\"simpletable\">\n",
       "<tr>\n",
       "       <td>Model:</td>       <td>MixedLM</td> <td>Dependent Variable:</td>  <td>d_prime</td>\n",
       "</tr>\n",
       "<tr>\n",
       "  <td>No. Observations:</td>   <td>80</td>          <td>Method:</td>         <td>REML</td>  \n",
       "</tr>\n",
       "<tr>\n",
       "     <td>No. Groups:</td>       <td>2</td>          <td>Scale:</td>         <td>0.2743</td> \n",
       "</tr>\n",
       "<tr>\n",
       "  <td>Min. group size:</td>    <td>40</td>      <td>Log-Likelihood:</td>   <td>-66.1078</td>\n",
       "</tr>\n",
       "<tr>\n",
       "  <td>Max. group size:</td>    <td>40</td>        <td>Converged:</td>         <td>Yes</td>  \n",
       "</tr>\n",
       "<tr>\n",
       "  <td>Mean group size:</td>   <td>40.0</td>            <td></td>               <td></td>    \n",
       "</tr>\n",
       "</table>\n",
       "<table class=\"simpletable\">\n",
       "<tr>\n",
       "                   <td></td>                   <th>Coef.</th> <th>Std.Err.</th>   <th>z</th>   <th>P>|z|</th> <th>[0.025</th> <th>0.975]</th>\n",
       "</tr>\n",
       "<tr>\n",
       "  <th>Intercept</th>                           <td>1.226</td>   <td>0.261</td>  <td>4.693</td> <td>0.000</td>  <td>0.714</td>  <td>1.737</td>\n",
       "</tr>\n",
       "<tr>\n",
       "  <th>event[T.saccade]</th>                    <td>0.512</td>   <td>0.457</td>  <td>1.120</td> <td>0.263</td> <td>-0.384</td>  <td>1.407</td>\n",
       "</tr>\n",
       "<tr>\n",
       "  <th>channel_type Var</th>                    <td>0.123</td>   <td>1.048</td>    <td></td>      <td></td>       <td></td>       <td></td>   \n",
       "</tr>\n",
       "<tr>\n",
       "  <th>channel_type x event[T.saccade] Cov</th> <td>0.219</td>   <td>0.628</td>    <td></td>      <td></td>       <td></td>       <td></td>   \n",
       "</tr>\n",
       "<tr>\n",
       "  <th>event[T.saccade] Var</th>                <td>0.390</td>   <td>2.599</td>    <td></td>      <td></td>       <td></td>       <td></td>   \n",
       "</tr>\n",
       "</table><br/>\n"
      ],
      "text/latex": "\\begin{table}\n\\caption{Mixed Linear Model Regression Results}\n\\label{}\n\\begin{center}\n\\begin{tabular}{llll}\n\\hline\nModel:            & MixedLM & Dependent Variable: & d\\_prime  \\\\\nNo. Observations: & 80      & Method:             & REML      \\\\\nNo. Groups:       & 2       & Scale:              & 0.2743    \\\\\nMin. group size:  & 40      & Log-Likelihood:     & -66.1078  \\\\\nMax. group size:  & 40      & Converged:          & Yes       \\\\\nMean group size:  & 40.0    &                     &           \\\\\n\\hline\n\\end{tabular}\n\\end{center}\n\n\\begin{center}\n\\begin{tabular}{lrrrrrr}\n\\hline\n                                     & Coef. & Std.Err. &     z & P$> |$z$|$ & [0.025 & 0.975]  \\\\\n\\hline\nIntercept                            & 1.226 &    0.261 & 4.693 &       0.000 &  0.714 &  1.737  \\\\\nevent[T.saccade]                     & 0.512 &    0.457 & 1.120 &       0.263 & -0.384 &  1.407  \\\\\nchannel\\_type Var                    & 0.123 &    1.048 &       &             &        &         \\\\\nchannel\\_type x event[T.saccade] Cov & 0.219 &    0.628 &       &             &        &         \\\\\nevent[T.saccade] Var                 & 0.390 &    2.599 &       &             &        &         \\\\\n\\hline\n\\end{tabular}\n\\end{center}\n\\end{table}\n\\bigskip\n"
     },
     "metadata": {},
     "output_type": "display_data"
    }
   ],
   "execution_count": 34
  },
  {
   "metadata": {},
   "cell_type": "markdown",
   "source": "#### (2B) Within Detector Post-Hoc (Dunn's Test)",
   "id": "3a9b8dfe34a57d60"
  },
  {
   "metadata": {
    "ExecuteTime": {
     "end_time": "2025-05-05T09:09:26.768366Z",
     "start_time": "2025-05-05T09:09:26.708967Z"
    }
   },
   "cell_type": "code",
   "source": [
    "posthoc_results = {\n",
    "    det: posthoc_dunn(metrics, METRIC, ANNOTATOR, det, include_annotators=True)\n",
    "    for det in metrics.columns.get_level_values(u.PRED_STR).unique() if det != ANNOTATOR\n",
    "}\n",
    "\n",
    "for det in sorted(posthoc_results.keys(), key=lambda dett: LABELER_PLOTTING_CONFIG[dett][0]):\n",
    "    print(f\"################################\\nDetector: {det}\")\n",
    "    is_significant = per_detector_results[det].pvalues['event[T.saccade]'] <= 0.05\n",
    "    if is_significant:\n",
    "        display(posthoc_results[det])\n",
    "    else:\n",
    "        print(\"Main Analysis Not Significant!\")\n",
    "    if det != \"remodnav\":   # avoid line space in the final iteration\n",
    "        print(\"\\n\\n\")"
   ],
   "id": "2adabb9c8a6ea51f",
   "outputs": [
    {
     "name": "stdout",
     "output_type": "stream",
     "text": [
      "################################\n",
      "Detector: MN\n",
      "Main Analysis Not Significant!\n",
      "\n",
      "\n",
      "\n",
      "################################\n",
      "Detector: ivt\n",
      "Main Analysis Not Significant!\n",
      "\n",
      "\n",
      "\n",
      "################################\n",
      "Detector: ivvt\n",
      "Main Analysis Not Significant!\n",
      "\n",
      "\n",
      "\n",
      "################################\n",
      "Detector: idt\n",
      "Main Analysis Not Significant!\n",
      "\n",
      "\n",
      "\n",
      "################################\n",
      "Detector: idvt\n",
      "Main Analysis Not Significant!\n",
      "\n",
      "\n",
      "\n",
      "################################\n",
      "Detector: engbert\n",
      "Main Analysis Not Significant!\n",
      "\n",
      "\n",
      "\n",
      "################################\n",
      "Detector: nh\n",
      "Main Analysis Not Significant!\n",
      "\n",
      "\n",
      "\n",
      "################################\n",
      "Detector: remodnav\n",
      "Main Analysis Not Significant!\n"
     ]
    }
   ],
   "execution_count": 35
  },
  {
   "metadata": {},
   "cell_type": "markdown",
   "source": [
    "#### (2C) Within Detector Alternative Analysis :: Use ART-ANOVA\n",
    "**ART** = Aligned Rank Transformation - a non-parametric method for conducting a 2*2 ANOVA (fixation/saccade * onset/offset) on the ranks of the data.\n",
    "\n",
    "article:\n",
    "https://dl.acm.org/doi/pdf/10.1145/1978942.1978963\n",
    "https://depts.washington.edu/acelab/proj/art/index.html - more detailed explanation\n",
    "\n",
    "implementation:\n",
    "https://github.com/Palpatineli/artpy"
   ],
   "id": "d7ad385723770921"
  },
  {
   "metadata": {
    "ExecuteTime": {
     "end_time": "2025-05-05T09:44:33.116776Z",
     "start_time": "2025-05-05T09:44:33.114528Z"
    }
   },
   "cell_type": "code",
   "source": "# TODO",
   "id": "9acb79efa52eb9e2",
   "outputs": [],
   "execution_count": 49
  },
  {
   "metadata": {},
   "cell_type": "markdown",
   "source": "## Summary Figure",
   "id": "780eaf8ce486100b"
  },
  {
   "metadata": {
    "ExecuteTime": {
     "end_time": "2025-05-05T09:09:26.835180Z",
     "start_time": "2025-05-05T09:09:26.832734Z"
    }
   },
   "cell_type": "code",
   "source": [
    "W, H = 900, 750\n",
    "yaxis_title = dict(text=r'$d^{\\prime}$', font=AXIS_LABEL_FONT, standoff=AXIS_LABEL_STANDOFF)\n",
    "FILE_NAME_FORMAT = \"supp_fig_I%d-%s\""
   ],
   "id": "7ff68aa0363e401e",
   "outputs": [],
   "execution_count": 36
  },
  {
   "metadata": {
    "ExecuteTime": {
     "end_time": "2025-05-05T09:09:27.430465Z",
     "start_time": "2025-05-05T09:09:26.893613Z"
    }
   },
   "cell_type": "code",
   "source": [
    "fig_ra = multiple_bar_plots(metrics, METRIC, \"RA\", show_other_annotator=True)\n",
    "fig_ra.update_layout(\n",
    "    title=None,\n",
    "    width=W, height=H,\n",
    "\n",
    "    # update yaxis titles:\n",
    "    yaxis_title=yaxis_title, yaxis2_title=yaxis_title, yaxis6_title=yaxis_title,\n",
    ")\n",
    "\n",
    "fig_ra.write_image(os.path.join(FIGURES_DIR, f\"{FILE_NAME_FORMAT % (1, \"RA\")}.png\"), scale=3)\n",
    "# fig_ra.write_json(os.path.join(FIGURES_DIR, f\"{NAME}.json\"), indent=4)\n",
    "fig_ra.show()"
   ],
   "id": "1fc32bf3135bc898",
   "outputs": [
    {
     "data": {
      "application/vnd.plotly.v1+json": {
       "data": [
        {
         "alignmentgroup": "True",
         "error_y": {
          "array": [
           0.4166176084029065,
           0.6732127667114837
          ]
         },
         "hovertemplate": "channel_type=onset<br>Event Type=%{x}<br>Mean=%{y}<extra></extra>",
         "legendgroup": "onset",
         "marker": {
          "color": "#636efa",
          "pattern": {
           "shape": ""
          }
         },
         "name": "onset",
         "offsetgroup": "onset",
         "orientation": "v",
         "showlegend": false,
         "textposition": "auto",
         "x": [
          "fixation",
          "saccade"
         ],
         "xaxis": "x2",
         "y": [
          3.0636710876031508,
          4.982241601709539
         ],
         "yaxis": "y2",
         "type": "bar"
        },
        {
         "alignmentgroup": "True",
         "error_y": {
          "array": [
           0.6980559115941105,
           0.8291709079099895
          ]
         },
         "hovertemplate": "channel_type=offset<br>Event Type=%{x}<br>Mean=%{y}<extra></extra>",
         "legendgroup": "offset",
         "marker": {
          "color": "#EF553B",
          "pattern": {
           "shape": ""
          }
         },
         "name": "offset",
         "offsetgroup": "offset",
         "orientation": "v",
         "showlegend": false,
         "textposition": "auto",
         "x": [
          "fixation",
          "saccade"
         ],
         "xaxis": "x2",
         "y": [
          4.631485341007354,
          4.105197900004373
         ],
         "yaxis": "y2",
         "type": "bar"
        },
        {
         "alignmentgroup": "True",
         "error_y": {
          "array": [
           0.878726502911986,
           0.9305386704820776
          ]
         },
         "hovertemplate": "channel_type=onset<br>Event Type=%{x}<br>Mean=%{y}<extra></extra>",
         "legendgroup": "onset",
         "marker": {
          "color": "#636efa",
          "pattern": {
           "shape": ""
          }
         },
         "name": "onset",
         "offsetgroup": "onset",
         "orientation": "v",
         "showlegend": false,
         "textposition": "auto",
         "x": [
          "fixation",
          "saccade"
         ],
         "xaxis": "x3",
         "y": [
          2.0868103635036896,
          4.0278800094762195
         ],
         "yaxis": "y3",
         "type": "bar"
        },
        {
         "alignmentgroup": "True",
         "error_y": {
          "array": [
           0.8649409741694281,
           1.042924489692584
          ]
         },
         "hovertemplate": "channel_type=offset<br>Event Type=%{x}<br>Mean=%{y}<extra></extra>",
         "legendgroup": "offset",
         "marker": {
          "color": "#EF553B",
          "pattern": {
           "shape": ""
          }
         },
         "name": "offset",
         "offsetgroup": "offset",
         "orientation": "v",
         "showlegend": false,
         "textposition": "auto",
         "x": [
          "fixation",
          "saccade"
         ],
         "xaxis": "x3",
         "y": [
          3.8892647315368025,
          2.4053363174387523
         ],
         "yaxis": "y3",
         "type": "bar"
        },
        {
         "alignmentgroup": "True",
         "error_y": {
          "array": [
           0.6896321908223496,
           0.8483206942660063
          ]
         },
         "hovertemplate": "channel_type=onset<br>Event Type=%{x}<br>Mean=%{y}<extra></extra>",
         "legendgroup": "onset",
         "marker": {
          "color": "#636efa",
          "pattern": {
           "shape": ""
          }
         },
         "name": "onset",
         "offsetgroup": "onset",
         "orientation": "v",
         "showlegend": false,
         "textposition": "auto",
         "x": [
          "fixation",
          "saccade"
         ],
         "xaxis": "x4",
         "y": [
          2.500989979251265,
          3.920542867657688
         ],
         "yaxis": "y4",
         "type": "bar"
        },
        {
         "alignmentgroup": "True",
         "error_y": {
          "array": [
           0.9492331014239692,
           1.0302156996332332
          ]
         },
         "hovertemplate": "channel_type=offset<br>Event Type=%{x}<br>Mean=%{y}<extra></extra>",
         "legendgroup": "offset",
         "marker": {
          "color": "#EF553B",
          "pattern": {
           "shape": ""
          }
         },
         "name": "offset",
         "offsetgroup": "offset",
         "orientation": "v",
         "showlegend": false,
         "textposition": "auto",
         "x": [
          "fixation",
          "saccade"
         ],
         "xaxis": "x4",
         "y": [
          3.7154750231091476,
          2.5007107956865777
         ],
         "yaxis": "y4",
         "type": "bar"
        },
        {
         "alignmentgroup": "True",
         "error_y": {
          "array": [
           0.7171048570343289,
           0.4718885692478996
          ]
         },
         "hovertemplate": "channel_type=onset<br>Event Type=%{x}<br>Mean=%{y}<extra></extra>",
         "legendgroup": "onset",
         "marker": {
          "color": "#636efa",
          "pattern": {
           "shape": ""
          }
         },
         "name": "onset",
         "offsetgroup": "onset",
         "orientation": "v",
         "showlegend": false,
         "textposition": "auto",
         "x": [
          "fixation",
          "saccade"
         ],
         "xaxis": "x5",
         "y": [
          -0.013110136422843255,
          2.2279885909988644
         ],
         "yaxis": "y5",
         "type": "bar"
        },
        {
         "alignmentgroup": "True",
         "error_y": {
          "array": [
           0.4289912376138335,
           0.8470787218362468
          ]
         },
         "hovertemplate": "channel_type=offset<br>Event Type=%{x}<br>Mean=%{y}<extra></extra>",
         "legendgroup": "offset",
         "marker": {
          "color": "#EF553B",
          "pattern": {
           "shape": ""
          }
         },
         "name": "offset",
         "offsetgroup": "offset",
         "orientation": "v",
         "showlegend": false,
         "textposition": "auto",
         "x": [
          "fixation",
          "saccade"
         ],
         "xaxis": "x5",
         "y": [
          2.3122174513545706,
          0.6803731495258887
         ],
         "yaxis": "y5",
         "type": "bar"
        },
        {
         "alignmentgroup": "True",
         "error_y": {
          "array": [
           0.7086173808399296,
           0.49274591296798004
          ]
         },
         "hovertemplate": "channel_type=onset<br>Event Type=%{x}<br>Mean=%{y}<extra></extra>",
         "legendgroup": "onset",
         "marker": {
          "color": "#636efa",
          "pattern": {
           "shape": ""
          }
         },
         "name": "onset",
         "offsetgroup": "onset",
         "orientation": "v",
         "showlegend": false,
         "textposition": "auto",
         "x": [
          "fixation",
          "saccade"
         ],
         "xaxis": "x6",
         "y": [
          2.5726818084449433E-4,
          2.3229305538661276
         ],
         "yaxis": "y6",
         "type": "bar"
        },
        {
         "alignmentgroup": "True",
         "error_y": {
          "array": [
           0.401445303677893,
           0.8128314351857796
          ]
         },
         "hovertemplate": "channel_type=offset<br>Event Type=%{x}<br>Mean=%{y}<extra></extra>",
         "legendgroup": "offset",
         "marker": {
          "color": "#EF553B",
          "pattern": {
           "shape": ""
          }
         },
         "name": "offset",
         "offsetgroup": "offset",
         "orientation": "v",
         "showlegend": false,
         "textposition": "auto",
         "x": [
          "fixation",
          "saccade"
         ],
         "xaxis": "x6",
         "y": [
          2.3472348823611826,
          0.6843452565273282
         ],
         "yaxis": "y6",
         "type": "bar"
        },
        {
         "alignmentgroup": "True",
         "error_y": {
          "array": [
           0.8703495229886463,
           0.7685368228486691
          ]
         },
         "hovertemplate": "channel_type=onset<br>Event Type=%{x}<br>Mean=%{y}<extra></extra>",
         "legendgroup": "onset",
         "marker": {
          "color": "#636efa",
          "pattern": {
           "shape": ""
          }
         },
         "name": "onset",
         "offsetgroup": "onset",
         "orientation": "v",
         "showlegend": false,
         "textposition": "auto",
         "x": [
          "fixation",
          "saccade"
         ],
         "xaxis": "x7",
         "y": [
          3.013612035932239,
          4.356832564533119
         ],
         "yaxis": "y7",
         "type": "bar"
        },
        {
         "alignmentgroup": "True",
         "error_y": {
          "array": [
           0.628263221452297,
           0.9494856281083841
          ]
         },
         "hovertemplate": "channel_type=offset<br>Event Type=%{x}<br>Mean=%{y}<extra></extra>",
         "legendgroup": "offset",
         "marker": {
          "color": "#EF553B",
          "pattern": {
           "shape": ""
          }
         },
         "name": "offset",
         "offsetgroup": "offset",
         "orientation": "v",
         "showlegend": false,
         "textposition": "auto",
         "x": [
          "fixation",
          "saccade"
         ],
         "xaxis": "x7",
         "y": [
          4.342571834764217,
          1.7664075798960635
         ],
         "yaxis": "y7",
         "type": "bar"
        },
        {
         "alignmentgroup": "True",
         "error_y": {
          "array": [
           1.078205714333361,
           0.8761850998098197
          ]
         },
         "hovertemplate": "channel_type=onset<br>Event Type=%{x}<br>Mean=%{y}<extra></extra>",
         "legendgroup": "onset",
         "marker": {
          "color": "#636efa",
          "pattern": {
           "shape": ""
          }
         },
         "name": "onset",
         "offsetgroup": "onset",
         "orientation": "v",
         "showlegend": false,
         "textposition": "auto",
         "x": [
          "fixation",
          "saccade"
         ],
         "xaxis": "x8",
         "y": [
          2.11793418837234,
          1.94831447392529
         ],
         "yaxis": "y8",
         "type": "bar"
        },
        {
         "alignmentgroup": "True",
         "error_y": {
          "array": [
           0.8008454716229964,
           0.7855164955936876
          ]
         },
         "hovertemplate": "channel_type=offset<br>Event Type=%{x}<br>Mean=%{y}<extra></extra>",
         "legendgroup": "offset",
         "marker": {
          "color": "#EF553B",
          "pattern": {
           "shape": ""
          }
         },
         "name": "offset",
         "offsetgroup": "offset",
         "orientation": "v",
         "showlegend": false,
         "textposition": "auto",
         "x": [
          "fixation",
          "saccade"
         ],
         "xaxis": "x8",
         "y": [
          1.9208405200464536,
          2.130212743814673
         ],
         "yaxis": "y8",
         "type": "bar"
        },
        {
         "alignmentgroup": "True",
         "error_y": {
          "array": [
           0.3724879653795618,
           0.36242896703533045
          ]
         },
         "hovertemplate": "channel_type=onset<br>Event Type=%{x}<br>Mean=%{y}<extra></extra>",
         "legendgroup": "onset",
         "marker": {
          "color": "#636efa",
          "pattern": {
           "shape": ""
          }
         },
         "name": "onset",
         "offsetgroup": "onset",
         "orientation": "v",
         "showlegend": false,
         "textposition": "auto",
         "x": [
          "fixation",
          "saccade"
         ],
         "xaxis": "x9",
         "y": [
          1.4774926594036328,
          2.4389598430125083
         ],
         "yaxis": "y9",
         "type": "bar"
        },
        {
         "alignmentgroup": "True",
         "error_y": {
          "array": [
           0.7077109728974162,
           0.5834799949107077
          ]
         },
         "hovertemplate": "channel_type=offset<br>Event Type=%{x}<br>Mean=%{y}<extra></extra>",
         "legendgroup": "offset",
         "marker": {
          "color": "#EF553B",
          "pattern": {
           "shape": ""
          }
         },
         "name": "offset",
         "offsetgroup": "offset",
         "orientation": "v",
         "showlegend": false,
         "textposition": "auto",
         "x": [
          "fixation",
          "saccade"
         ],
         "xaxis": "x9",
         "y": [
          0.9737463503196875,
          1.0360400100933849
         ],
         "yaxis": "y9",
         "type": "bar"
        },
        {
         "alignmentgroup": "True",
         "error_y": {
          "array": [
           0.46531305713641613,
           0.39460705852091343
          ]
         },
         "hovertemplate": "channel_type=onset<br>Event Type=%{x}<br>Mean=%{y}<extra></extra>",
         "legendgroup": "onset",
         "marker": {
          "color": "#636efa",
          "pattern": {
           "shape": ""
          }
         },
         "name": "onset",
         "offsetgroup": "onset",
         "orientation": "v",
         "showlegend": true,
         "textposition": "auto",
         "x": [
          "fixation",
          "saccade"
         ],
         "xaxis": "x",
         "y": [
          1.5977123368887383,
          3.034778414781402
         ],
         "yaxis": "y",
         "type": "bar"
        },
        {
         "alignmentgroup": "True",
         "error_y": {
          "array": [
           0.37209464525806774,
           0.5852566501264774
          ]
         },
         "hovertemplate": "channel_type=offset<br>Event Type=%{x}<br>Mean=%{y}<extra></extra>",
         "legendgroup": "offset",
         "marker": {
          "color": "#EF553B",
          "pattern": {
           "shape": ""
          }
         },
         "name": "offset",
         "offsetgroup": "offset",
         "orientation": "v",
         "showlegend": true,
         "textposition": "auto",
         "x": [
          "fixation",
          "saccade"
         ],
         "xaxis": "x",
         "y": [
          2.785907256213152,
          1.6004894075689529
         ],
         "yaxis": "y",
         "type": "bar"
        }
       ],
       "layout": {
        "template": {
         "data": {
          "histogram2dcontour": [
           {
            "type": "histogram2dcontour",
            "colorbar": {
             "outlinewidth": 0,
             "ticks": ""
            },
            "colorscale": [
             [
              0.0,
              "#0d0887"
             ],
             [
              0.1111111111111111,
              "#46039f"
             ],
             [
              0.2222222222222222,
              "#7201a8"
             ],
             [
              0.3333333333333333,
              "#9c179e"
             ],
             [
              0.4444444444444444,
              "#bd3786"
             ],
             [
              0.5555555555555556,
              "#d8576b"
             ],
             [
              0.6666666666666666,
              "#ed7953"
             ],
             [
              0.7777777777777778,
              "#fb9f3a"
             ],
             [
              0.8888888888888888,
              "#fdca26"
             ],
             [
              1.0,
              "#f0f921"
             ]
            ]
           }
          ],
          "choropleth": [
           {
            "type": "choropleth",
            "colorbar": {
             "outlinewidth": 0,
             "ticks": ""
            }
           }
          ],
          "histogram2d": [
           {
            "type": "histogram2d",
            "colorbar": {
             "outlinewidth": 0,
             "ticks": ""
            },
            "colorscale": [
             [
              0.0,
              "#0d0887"
             ],
             [
              0.1111111111111111,
              "#46039f"
             ],
             [
              0.2222222222222222,
              "#7201a8"
             ],
             [
              0.3333333333333333,
              "#9c179e"
             ],
             [
              0.4444444444444444,
              "#bd3786"
             ],
             [
              0.5555555555555556,
              "#d8576b"
             ],
             [
              0.6666666666666666,
              "#ed7953"
             ],
             [
              0.7777777777777778,
              "#fb9f3a"
             ],
             [
              0.8888888888888888,
              "#fdca26"
             ],
             [
              1.0,
              "#f0f921"
             ]
            ]
           }
          ],
          "heatmap": [
           {
            "type": "heatmap",
            "colorbar": {
             "outlinewidth": 0,
             "ticks": ""
            },
            "colorscale": [
             [
              0.0,
              "#0d0887"
             ],
             [
              0.1111111111111111,
              "#46039f"
             ],
             [
              0.2222222222222222,
              "#7201a8"
             ],
             [
              0.3333333333333333,
              "#9c179e"
             ],
             [
              0.4444444444444444,
              "#bd3786"
             ],
             [
              0.5555555555555556,
              "#d8576b"
             ],
             [
              0.6666666666666666,
              "#ed7953"
             ],
             [
              0.7777777777777778,
              "#fb9f3a"
             ],
             [
              0.8888888888888888,
              "#fdca26"
             ],
             [
              1.0,
              "#f0f921"
             ]
            ]
           }
          ],
          "heatmapgl": [
           {
            "type": "heatmapgl",
            "colorbar": {
             "outlinewidth": 0,
             "ticks": ""
            },
            "colorscale": [
             [
              0.0,
              "#0d0887"
             ],
             [
              0.1111111111111111,
              "#46039f"
             ],
             [
              0.2222222222222222,
              "#7201a8"
             ],
             [
              0.3333333333333333,
              "#9c179e"
             ],
             [
              0.4444444444444444,
              "#bd3786"
             ],
             [
              0.5555555555555556,
              "#d8576b"
             ],
             [
              0.6666666666666666,
              "#ed7953"
             ],
             [
              0.7777777777777778,
              "#fb9f3a"
             ],
             [
              0.8888888888888888,
              "#fdca26"
             ],
             [
              1.0,
              "#f0f921"
             ]
            ]
           }
          ],
          "contourcarpet": [
           {
            "type": "contourcarpet",
            "colorbar": {
             "outlinewidth": 0,
             "ticks": ""
            }
           }
          ],
          "contour": [
           {
            "type": "contour",
            "colorbar": {
             "outlinewidth": 0,
             "ticks": ""
            },
            "colorscale": [
             [
              0.0,
              "#0d0887"
             ],
             [
              0.1111111111111111,
              "#46039f"
             ],
             [
              0.2222222222222222,
              "#7201a8"
             ],
             [
              0.3333333333333333,
              "#9c179e"
             ],
             [
              0.4444444444444444,
              "#bd3786"
             ],
             [
              0.5555555555555556,
              "#d8576b"
             ],
             [
              0.6666666666666666,
              "#ed7953"
             ],
             [
              0.7777777777777778,
              "#fb9f3a"
             ],
             [
              0.8888888888888888,
              "#fdca26"
             ],
             [
              1.0,
              "#f0f921"
             ]
            ]
           }
          ],
          "surface": [
           {
            "type": "surface",
            "colorbar": {
             "outlinewidth": 0,
             "ticks": ""
            },
            "colorscale": [
             [
              0.0,
              "#0d0887"
             ],
             [
              0.1111111111111111,
              "#46039f"
             ],
             [
              0.2222222222222222,
              "#7201a8"
             ],
             [
              0.3333333333333333,
              "#9c179e"
             ],
             [
              0.4444444444444444,
              "#bd3786"
             ],
             [
              0.5555555555555556,
              "#d8576b"
             ],
             [
              0.6666666666666666,
              "#ed7953"
             ],
             [
              0.7777777777777778,
              "#fb9f3a"
             ],
             [
              0.8888888888888888,
              "#fdca26"
             ],
             [
              1.0,
              "#f0f921"
             ]
            ]
           }
          ],
          "mesh3d": [
           {
            "type": "mesh3d",
            "colorbar": {
             "outlinewidth": 0,
             "ticks": ""
            }
           }
          ],
          "scatter": [
           {
            "fillpattern": {
             "fillmode": "overlay",
             "size": 10,
             "solidity": 0.2
            },
            "type": "scatter"
           }
          ],
          "parcoords": [
           {
            "type": "parcoords",
            "line": {
             "colorbar": {
              "outlinewidth": 0,
              "ticks": ""
             }
            }
           }
          ],
          "scatterpolargl": [
           {
            "type": "scatterpolargl",
            "marker": {
             "colorbar": {
              "outlinewidth": 0,
              "ticks": ""
             }
            }
           }
          ],
          "bar": [
           {
            "error_x": {
             "color": "#2a3f5f"
            },
            "error_y": {
             "color": "#2a3f5f"
            },
            "marker": {
             "line": {
              "color": "#E5ECF6",
              "width": 0.5
             },
             "pattern": {
              "fillmode": "overlay",
              "size": 10,
              "solidity": 0.2
             }
            },
            "type": "bar"
           }
          ],
          "scattergeo": [
           {
            "type": "scattergeo",
            "marker": {
             "colorbar": {
              "outlinewidth": 0,
              "ticks": ""
             }
            }
           }
          ],
          "scatterpolar": [
           {
            "type": "scatterpolar",
            "marker": {
             "colorbar": {
              "outlinewidth": 0,
              "ticks": ""
             }
            }
           }
          ],
          "histogram": [
           {
            "marker": {
             "pattern": {
              "fillmode": "overlay",
              "size": 10,
              "solidity": 0.2
             }
            },
            "type": "histogram"
           }
          ],
          "scattergl": [
           {
            "type": "scattergl",
            "marker": {
             "colorbar": {
              "outlinewidth": 0,
              "ticks": ""
             }
            }
           }
          ],
          "scatter3d": [
           {
            "type": "scatter3d",
            "line": {
             "colorbar": {
              "outlinewidth": 0,
              "ticks": ""
             }
            },
            "marker": {
             "colorbar": {
              "outlinewidth": 0,
              "ticks": ""
             }
            }
           }
          ],
          "scattermapbox": [
           {
            "type": "scattermapbox",
            "marker": {
             "colorbar": {
              "outlinewidth": 0,
              "ticks": ""
             }
            }
           }
          ],
          "scatterternary": [
           {
            "type": "scatterternary",
            "marker": {
             "colorbar": {
              "outlinewidth": 0,
              "ticks": ""
             }
            }
           }
          ],
          "scattercarpet": [
           {
            "type": "scattercarpet",
            "marker": {
             "colorbar": {
              "outlinewidth": 0,
              "ticks": ""
             }
            }
           }
          ],
          "carpet": [
           {
            "aaxis": {
             "endlinecolor": "#2a3f5f",
             "gridcolor": "white",
             "linecolor": "white",
             "minorgridcolor": "white",
             "startlinecolor": "#2a3f5f"
            },
            "baxis": {
             "endlinecolor": "#2a3f5f",
             "gridcolor": "white",
             "linecolor": "white",
             "minorgridcolor": "white",
             "startlinecolor": "#2a3f5f"
            },
            "type": "carpet"
           }
          ],
          "table": [
           {
            "cells": {
             "fill": {
              "color": "#EBF0F8"
             },
             "line": {
              "color": "white"
             }
            },
            "header": {
             "fill": {
              "color": "#C8D4E3"
             },
             "line": {
              "color": "white"
             }
            },
            "type": "table"
           }
          ],
          "barpolar": [
           {
            "marker": {
             "line": {
              "color": "#E5ECF6",
              "width": 0.5
             },
             "pattern": {
              "fillmode": "overlay",
              "size": 10,
              "solidity": 0.2
             }
            },
            "type": "barpolar"
           }
          ],
          "pie": [
           {
            "automargin": true,
            "type": "pie"
           }
          ]
         },
         "layout": {
          "autotypenumbers": "strict",
          "colorway": [
           "#636efa",
           "#EF553B",
           "#00cc96",
           "#ab63fa",
           "#FFA15A",
           "#19d3f3",
           "#FF6692",
           "#B6E880",
           "#FF97FF",
           "#FECB52"
          ],
          "font": {
           "color": "#2a3f5f"
          },
          "hovermode": "closest",
          "hoverlabel": {
           "align": "left"
          },
          "paper_bgcolor": "white",
          "plot_bgcolor": "#E5ECF6",
          "polar": {
           "bgcolor": "#E5ECF6",
           "angularaxis": {
            "gridcolor": "white",
            "linecolor": "white",
            "ticks": ""
           },
           "radialaxis": {
            "gridcolor": "white",
            "linecolor": "white",
            "ticks": ""
           }
          },
          "ternary": {
           "bgcolor": "#E5ECF6",
           "aaxis": {
            "gridcolor": "white",
            "linecolor": "white",
            "ticks": ""
           },
           "baxis": {
            "gridcolor": "white",
            "linecolor": "white",
            "ticks": ""
           },
           "caxis": {
            "gridcolor": "white",
            "linecolor": "white",
            "ticks": ""
           }
          },
          "coloraxis": {
           "colorbar": {
            "outlinewidth": 0,
            "ticks": ""
           }
          },
          "colorscale": {
           "sequential": [
            [
             0.0,
             "#0d0887"
            ],
            [
             0.1111111111111111,
             "#46039f"
            ],
            [
             0.2222222222222222,
             "#7201a8"
            ],
            [
             0.3333333333333333,
             "#9c179e"
            ],
            [
             0.4444444444444444,
             "#bd3786"
            ],
            [
             0.5555555555555556,
             "#d8576b"
            ],
            [
             0.6666666666666666,
             "#ed7953"
            ],
            [
             0.7777777777777778,
             "#fb9f3a"
            ],
            [
             0.8888888888888888,
             "#fdca26"
            ],
            [
             1.0,
             "#f0f921"
            ]
           ],
           "sequentialminus": [
            [
             0.0,
             "#0d0887"
            ],
            [
             0.1111111111111111,
             "#46039f"
            ],
            [
             0.2222222222222222,
             "#7201a8"
            ],
            [
             0.3333333333333333,
             "#9c179e"
            ],
            [
             0.4444444444444444,
             "#bd3786"
            ],
            [
             0.5555555555555556,
             "#d8576b"
            ],
            [
             0.6666666666666666,
             "#ed7953"
            ],
            [
             0.7777777777777778,
             "#fb9f3a"
            ],
            [
             0.8888888888888888,
             "#fdca26"
            ],
            [
             1.0,
             "#f0f921"
            ]
           ],
           "diverging": [
            [
             0,
             "#8e0152"
            ],
            [
             0.1,
             "#c51b7d"
            ],
            [
             0.2,
             "#de77ae"
            ],
            [
             0.3,
             "#f1b6da"
            ],
            [
             0.4,
             "#fde0ef"
            ],
            [
             0.5,
             "#f7f7f7"
            ],
            [
             0.6,
             "#e6f5d0"
            ],
            [
             0.7,
             "#b8e186"
            ],
            [
             0.8,
             "#7fbc41"
            ],
            [
             0.9,
             "#4d9221"
            ],
            [
             1,
             "#276419"
            ]
           ]
          },
          "xaxis": {
           "gridcolor": "white",
           "linecolor": "white",
           "ticks": "",
           "title": {
            "standoff": 15
           },
           "zerolinecolor": "white",
           "automargin": true,
           "zerolinewidth": 2
          },
          "yaxis": {
           "gridcolor": "white",
           "linecolor": "white",
           "ticks": "",
           "title": {
            "standoff": 15
           },
           "zerolinecolor": "white",
           "automargin": true,
           "zerolinewidth": 2
          },
          "scene": {
           "xaxis": {
            "backgroundcolor": "#E5ECF6",
            "gridcolor": "white",
            "linecolor": "white",
            "showbackground": true,
            "ticks": "",
            "zerolinecolor": "white",
            "gridwidth": 2
           },
           "yaxis": {
            "backgroundcolor": "#E5ECF6",
            "gridcolor": "white",
            "linecolor": "white",
            "showbackground": true,
            "ticks": "",
            "zerolinecolor": "white",
            "gridwidth": 2
           },
           "zaxis": {
            "backgroundcolor": "#E5ECF6",
            "gridcolor": "white",
            "linecolor": "white",
            "showbackground": true,
            "ticks": "",
            "zerolinecolor": "white",
            "gridwidth": 2
           }
          },
          "shapedefaults": {
           "line": {
            "color": "#2a3f5f"
           }
          },
          "annotationdefaults": {
           "arrowcolor": "#2a3f5f",
           "arrowhead": 0,
           "arrowwidth": 1
          },
          "geo": {
           "bgcolor": "white",
           "landcolor": "#E5ECF6",
           "subunitcolor": "white",
           "showland": true,
           "showlakes": true,
           "lakecolor": "white"
          },
          "title": {
           "x": 0.05
          },
          "mapbox": {
           "style": "light"
          }
         }
        },
        "xaxis": {
         "anchor": "y",
         "domain": [
          0.0,
          1.0
         ],
         "title": {
          "font": {
           "family": "Calibri",
           "size": 20,
           "color": "black"
          },
          "standoff": 2
         },
         "tickfont": {
          "family": "Calibri",
          "size": 18,
          "color": "black"
         },
         "showline": false,
         "showgrid": false,
         "gridcolor": "lightgray",
         "gridwidth": 1,
         "zeroline": false,
         "zerolinecolor": "lightgray",
         "zerolinewidth": 2
        },
        "yaxis": {
         "anchor": "x",
         "domain": [
          0.5375,
          1.0
         ],
         "title": {
          "font": {
           "family": "Calibri",
           "size": 20,
           "color": "black"
          },
          "standoff": 2,
          "text": "$d^{\\prime}$"
         },
         "tickfont": {
          "family": "Calibri",
          "size": 18,
          "color": "black"
         },
         "showline": false,
         "showgrid": true,
         "gridcolor": "lightgray",
         "gridwidth": 1,
         "zeroline": true,
         "zerolinecolor": "lightgray",
         "zerolinewidth": 2
        },
        "xaxis2": {
         "anchor": "y2",
         "domain": [
          0.0,
          0.23125
         ],
         "matches": "x6",
         "showticklabels": false,
         "title": {
          "font": {
           "family": "Calibri",
           "size": 20,
           "color": "black"
          },
          "standoff": 2
         },
         "tickfont": {
          "family": "Calibri",
          "size": 18,
          "color": "black"
         },
         "showline": false,
         "showgrid": false,
         "gridcolor": "lightgray",
         "gridwidth": 1,
         "zeroline": false,
         "zerolinecolor": "lightgray",
         "zerolinewidth": 2
        },
        "yaxis2": {
         "anchor": "x2",
         "domain": [
          0.26875,
          0.4625
         ],
         "title": {
          "font": {
           "family": "Calibri",
           "size": 20,
           "color": "black"
          },
          "standoff": 2,
          "text": "$d^{\\prime}$"
         },
         "tickfont": {
          "family": "Calibri",
          "size": 18,
          "color": "black"
         },
         "showline": false,
         "showgrid": true,
         "gridcolor": "lightgray",
         "gridwidth": 1,
         "zeroline": true,
         "zerolinecolor": "lightgray",
         "zerolinewidth": 2
        },
        "xaxis3": {
         "anchor": "y3",
         "domain": [
          0.25625000000000003,
          0.48750000000000004
         ],
         "matches": "x7",
         "showticklabels": false,
         "title": {
          "font": {
           "family": "Calibri",
           "size": 20,
           "color": "black"
          },
          "standoff": 2
         },
         "tickfont": {
          "family": "Calibri",
          "size": 18,
          "color": "black"
         },
         "showline": false,
         "showgrid": false,
         "gridcolor": "lightgray",
         "gridwidth": 1,
         "zeroline": false,
         "zerolinecolor": "lightgray",
         "zerolinewidth": 2
        },
        "yaxis3": {
         "anchor": "x3",
         "domain": [
          0.26875,
          0.4625
         ],
         "matches": "y2",
         "showticklabels": false,
         "title": {
          "font": {
           "family": "Calibri",
           "size": 20,
           "color": "black"
          },
          "standoff": 2
         },
         "tickfont": {
          "family": "Calibri",
          "size": 18,
          "color": "black"
         },
         "showline": false,
         "showgrid": true,
         "gridcolor": "lightgray",
         "gridwidth": 1,
         "zeroline": true,
         "zerolinecolor": "lightgray",
         "zerolinewidth": 2
        },
        "xaxis4": {
         "anchor": "y4",
         "domain": [
          0.5125000000000001,
          0.7437500000000001
         ],
         "matches": "x8",
         "showticklabels": false,
         "title": {
          "font": {
           "family": "Calibri",
           "size": 20,
           "color": "black"
          },
          "standoff": 2
         },
         "tickfont": {
          "family": "Calibri",
          "size": 18,
          "color": "black"
         },
         "showline": false,
         "showgrid": false,
         "gridcolor": "lightgray",
         "gridwidth": 1,
         "zeroline": false,
         "zerolinecolor": "lightgray",
         "zerolinewidth": 2
        },
        "yaxis4": {
         "anchor": "x4",
         "domain": [
          0.26875,
          0.4625
         ],
         "matches": "y2",
         "showticklabels": false,
         "title": {
          "font": {
           "family": "Calibri",
           "size": 20,
           "color": "black"
          },
          "standoff": 2
         },
         "tickfont": {
          "family": "Calibri",
          "size": 18,
          "color": "black"
         },
         "showline": false,
         "showgrid": true,
         "gridcolor": "lightgray",
         "gridwidth": 1,
         "zeroline": true,
         "zerolinecolor": "lightgray",
         "zerolinewidth": 2
        },
        "xaxis5": {
         "anchor": "y5",
         "domain": [
          0.76875,
          1.0
         ],
         "matches": "x9",
         "showticklabels": false,
         "title": {
          "font": {
           "family": "Calibri",
           "size": 20,
           "color": "black"
          },
          "standoff": 2
         },
         "tickfont": {
          "family": "Calibri",
          "size": 18,
          "color": "black"
         },
         "showline": false,
         "showgrid": false,
         "gridcolor": "lightgray",
         "gridwidth": 1,
         "zeroline": false,
         "zerolinecolor": "lightgray",
         "zerolinewidth": 2
        },
        "yaxis5": {
         "anchor": "x5",
         "domain": [
          0.26875,
          0.4625
         ],
         "matches": "y2",
         "showticklabels": false,
         "title": {
          "font": {
           "family": "Calibri",
           "size": 20,
           "color": "black"
          },
          "standoff": 2
         },
         "tickfont": {
          "family": "Calibri",
          "size": 18,
          "color": "black"
         },
         "showline": false,
         "showgrid": true,
         "gridcolor": "lightgray",
         "gridwidth": 1,
         "zeroline": true,
         "zerolinecolor": "lightgray",
         "zerolinewidth": 2
        },
        "xaxis6": {
         "anchor": "y6",
         "domain": [
          0.0,
          0.23125
         ],
         "title": {
          "font": {
           "family": "Calibri",
           "size": 20,
           "color": "black"
          },
          "standoff": 2
         },
         "tickfont": {
          "family": "Calibri",
          "size": 18,
          "color": "black"
         },
         "showline": false,
         "showgrid": false,
         "gridcolor": "lightgray",
         "gridwidth": 1,
         "zeroline": false,
         "zerolinecolor": "lightgray",
         "zerolinewidth": 2
        },
        "yaxis6": {
         "anchor": "x6",
         "domain": [
          0.0,
          0.19375
         ],
         "title": {
          "font": {
           "family": "Calibri",
           "size": 20,
           "color": "black"
          },
          "standoff": 2,
          "text": "$d^{\\prime}$"
         },
         "tickfont": {
          "family": "Calibri",
          "size": 18,
          "color": "black"
         },
         "showline": false,
         "showgrid": true,
         "gridcolor": "lightgray",
         "gridwidth": 1,
         "zeroline": true,
         "zerolinecolor": "lightgray",
         "zerolinewidth": 2
        },
        "xaxis7": {
         "anchor": "y7",
         "domain": [
          0.25625000000000003,
          0.48750000000000004
         ],
         "title": {
          "font": {
           "family": "Calibri",
           "size": 20,
           "color": "black"
          },
          "standoff": 2
         },
         "tickfont": {
          "family": "Calibri",
          "size": 18,
          "color": "black"
         },
         "showline": false,
         "showgrid": false,
         "gridcolor": "lightgray",
         "gridwidth": 1,
         "zeroline": false,
         "zerolinecolor": "lightgray",
         "zerolinewidth": 2
        },
        "yaxis7": {
         "anchor": "x7",
         "domain": [
          0.0,
          0.19375
         ],
         "matches": "y6",
         "showticklabels": false,
         "title": {
          "font": {
           "family": "Calibri",
           "size": 20,
           "color": "black"
          },
          "standoff": 2
         },
         "tickfont": {
          "family": "Calibri",
          "size": 18,
          "color": "black"
         },
         "showline": false,
         "showgrid": true,
         "gridcolor": "lightgray",
         "gridwidth": 1,
         "zeroline": true,
         "zerolinecolor": "lightgray",
         "zerolinewidth": 2
        },
        "xaxis8": {
         "anchor": "y8",
         "domain": [
          0.5125000000000001,
          0.7437500000000001
         ],
         "title": {
          "font": {
           "family": "Calibri",
           "size": 20,
           "color": "black"
          },
          "standoff": 2
         },
         "tickfont": {
          "family": "Calibri",
          "size": 18,
          "color": "black"
         },
         "showline": false,
         "showgrid": false,
         "gridcolor": "lightgray",
         "gridwidth": 1,
         "zeroline": false,
         "zerolinecolor": "lightgray",
         "zerolinewidth": 2
        },
        "yaxis8": {
         "anchor": "x8",
         "domain": [
          0.0,
          0.19375
         ],
         "matches": "y6",
         "showticklabels": false,
         "title": {
          "font": {
           "family": "Calibri",
           "size": 20,
           "color": "black"
          },
          "standoff": 2
         },
         "tickfont": {
          "family": "Calibri",
          "size": 18,
          "color": "black"
         },
         "showline": false,
         "showgrid": true,
         "gridcolor": "lightgray",
         "gridwidth": 1,
         "zeroline": true,
         "zerolinecolor": "lightgray",
         "zerolinewidth": 2
        },
        "xaxis9": {
         "anchor": "y9",
         "domain": [
          0.76875,
          1.0
         ],
         "title": {
          "font": {
           "family": "Calibri",
           "size": 20,
           "color": "black"
          },
          "standoff": 2
         },
         "tickfont": {
          "family": "Calibri",
          "size": 18,
          "color": "black"
         },
         "showline": false,
         "showgrid": false,
         "gridcolor": "lightgray",
         "gridwidth": 1,
         "zeroline": false,
         "zerolinecolor": "lightgray",
         "zerolinewidth": 2
        },
        "yaxis9": {
         "anchor": "x9",
         "domain": [
          0.0,
          0.19375
         ],
         "matches": "y6",
         "showticklabels": false,
         "title": {
          "font": {
           "family": "Calibri",
           "size": 20,
           "color": "black"
          },
          "standoff": 2
         },
         "tickfont": {
          "family": "Calibri",
          "size": 18,
          "color": "black"
         },
         "showline": false,
         "showgrid": true,
         "gridcolor": "lightgray",
         "gridwidth": 1,
         "zeroline": true,
         "zerolinecolor": "lightgray",
         "zerolinewidth": 2
        },
        "annotations": [
         {
          "font": {
           "size": 20,
           "family": "Calibri",
           "color": "black"
          },
          "showarrow": false,
          "text": "Overall",
          "x": 0.5,
          "xanchor": "center",
          "xref": "paper",
          "y": 1.0,
          "yanchor": "bottom",
          "yref": "paper",
          "textangle": 0
         },
         {
          "font": {
           "size": 20,
           "family": "Calibri",
           "color": "black"
          },
          "showarrow": false,
          "text": "<i>Ann. MN</i>",
          "x": 0.115625,
          "xanchor": "center",
          "xref": "paper",
          "y": 0.4625,
          "yanchor": "bottom",
          "yref": "paper",
          "textangle": 0
         },
         {
          "font": {
           "size": 20,
           "family": "Calibri",
           "color": "black"
          },
          "showarrow": false,
          "text": "I-VT",
          "x": 0.37187500000000007,
          "xanchor": "center",
          "xref": "paper",
          "y": 0.4625,
          "yanchor": "bottom",
          "yref": "paper",
          "textangle": 0
         },
         {
          "font": {
           "size": 20,
           "family": "Calibri",
           "color": "black"
          },
          "showarrow": false,
          "text": "I-VVT",
          "x": 0.628125,
          "xanchor": "center",
          "xref": "paper",
          "y": 0.4625,
          "yanchor": "bottom",
          "yref": "paper",
          "textangle": 0
         },
         {
          "font": {
           "size": 20,
           "family": "Calibri",
           "color": "black"
          },
          "showarrow": false,
          "text": "I-DT",
          "x": 0.884375,
          "xanchor": "center",
          "xref": "paper",
          "y": 0.4625,
          "yanchor": "bottom",
          "yref": "paper",
          "textangle": 0
         },
         {
          "font": {
           "size": 20,
           "family": "Calibri",
           "color": "black"
          },
          "showarrow": false,
          "text": "I-DVT",
          "x": 0.115625,
          "xanchor": "center",
          "xref": "paper",
          "y": 0.19375,
          "yanchor": "bottom",
          "yref": "paper",
          "textangle": 0
         },
         {
          "font": {
           "size": 20,
           "family": "Calibri",
           "color": "black"
          },
          "showarrow": false,
          "text": "ENGBERT",
          "x": 0.37187500000000007,
          "xanchor": "center",
          "xref": "paper",
          "y": 0.19375,
          "yanchor": "bottom",
          "yref": "paper",
          "textangle": 0
         },
         {
          "font": {
           "size": 20,
           "family": "Calibri",
           "color": "black"
          },
          "showarrow": false,
          "text": "NH",
          "x": 0.628125,
          "xanchor": "center",
          "xref": "paper",
          "y": 0.19375,
          "yanchor": "bottom",
          "yref": "paper",
          "textangle": 0
         },
         {
          "font": {
           "size": 20,
           "family": "Calibri",
           "color": "black"
          },
          "showarrow": false,
          "text": "REMoDNaV",
          "x": 0.884375,
          "xanchor": "center",
          "xref": "paper",
          "y": 0.19375,
          "yanchor": "bottom",
          "yref": "paper",
          "textangle": 0
         }
        ],
        "font": {
         "family": "Calibri"
        },
        "margin": {
         "l": 0,
         "r": 0,
         "t": 35,
         "b": 0,
         "pad": 0
        },
        "legend": {
         "font": {
          "family": "Calibri",
          "size": 20,
          "color": "black"
         },
         "orientation": "h",
         "yanchor": "top",
         "xanchor": "center",
         "xref": "paper",
         "yref": "paper",
         "x": 0.12,
         "y": 0.98,
         "itemwidth": 30
        },
        "title": {},
        "width": 900,
        "height": 750,
        "paper_bgcolor": "rgba(0, 0, 0, 0)",
        "plot_bgcolor": "rgba(0, 0, 0, 0)"
       },
       "config": {
        "plotlyServerURL": "https://plot.ly"
       }
      },
      "text/html": [
       "<div>                            <div id=\"01792183-ca4c-4d93-9218-7012e98a1a55\" class=\"plotly-graph-div\" style=\"height:750px; width:900px;\"></div>            <script type=\"text/javascript\">                require([\"plotly\"], function(Plotly) {                    window.PLOTLYENV=window.PLOTLYENV || {};                                    if (document.getElementById(\"01792183-ca4c-4d93-9218-7012e98a1a55\")) {                    Plotly.newPlot(                        \"01792183-ca4c-4d93-9218-7012e98a1a55\",                        [{\"alignmentgroup\":\"True\",\"error_y\":{\"array\":[0.4166176084029065,0.6732127667114837]},\"hovertemplate\":\"channel_type=onset\\u003cbr\\u003eEvent Type=%{x}\\u003cbr\\u003eMean=%{y}\\u003cextra\\u003e\\u003c\\u002fextra\\u003e\",\"legendgroup\":\"onset\",\"marker\":{\"color\":\"#636efa\",\"pattern\":{\"shape\":\"\"}},\"name\":\"onset\",\"offsetgroup\":\"onset\",\"orientation\":\"v\",\"showlegend\":false,\"textposition\":\"auto\",\"x\":[\"fixation\",\"saccade\"],\"xaxis\":\"x2\",\"y\":[3.0636710876031508,4.982241601709539],\"yaxis\":\"y2\",\"type\":\"bar\"},{\"alignmentgroup\":\"True\",\"error_y\":{\"array\":[0.6980559115941105,0.8291709079099895]},\"hovertemplate\":\"channel_type=offset\\u003cbr\\u003eEvent Type=%{x}\\u003cbr\\u003eMean=%{y}\\u003cextra\\u003e\\u003c\\u002fextra\\u003e\",\"legendgroup\":\"offset\",\"marker\":{\"color\":\"#EF553B\",\"pattern\":{\"shape\":\"\"}},\"name\":\"offset\",\"offsetgroup\":\"offset\",\"orientation\":\"v\",\"showlegend\":false,\"textposition\":\"auto\",\"x\":[\"fixation\",\"saccade\"],\"xaxis\":\"x2\",\"y\":[4.631485341007354,4.105197900004373],\"yaxis\":\"y2\",\"type\":\"bar\"},{\"alignmentgroup\":\"True\",\"error_y\":{\"array\":[0.878726502911986,0.9305386704820776]},\"hovertemplate\":\"channel_type=onset\\u003cbr\\u003eEvent Type=%{x}\\u003cbr\\u003eMean=%{y}\\u003cextra\\u003e\\u003c\\u002fextra\\u003e\",\"legendgroup\":\"onset\",\"marker\":{\"color\":\"#636efa\",\"pattern\":{\"shape\":\"\"}},\"name\":\"onset\",\"offsetgroup\":\"onset\",\"orientation\":\"v\",\"showlegend\":false,\"textposition\":\"auto\",\"x\":[\"fixation\",\"saccade\"],\"xaxis\":\"x3\",\"y\":[2.0868103635036896,4.0278800094762195],\"yaxis\":\"y3\",\"type\":\"bar\"},{\"alignmentgroup\":\"True\",\"error_y\":{\"array\":[0.8649409741694281,1.042924489692584]},\"hovertemplate\":\"channel_type=offset\\u003cbr\\u003eEvent Type=%{x}\\u003cbr\\u003eMean=%{y}\\u003cextra\\u003e\\u003c\\u002fextra\\u003e\",\"legendgroup\":\"offset\",\"marker\":{\"color\":\"#EF553B\",\"pattern\":{\"shape\":\"\"}},\"name\":\"offset\",\"offsetgroup\":\"offset\",\"orientation\":\"v\",\"showlegend\":false,\"textposition\":\"auto\",\"x\":[\"fixation\",\"saccade\"],\"xaxis\":\"x3\",\"y\":[3.8892647315368025,2.4053363174387523],\"yaxis\":\"y3\",\"type\":\"bar\"},{\"alignmentgroup\":\"True\",\"error_y\":{\"array\":[0.6896321908223496,0.8483206942660063]},\"hovertemplate\":\"channel_type=onset\\u003cbr\\u003eEvent Type=%{x}\\u003cbr\\u003eMean=%{y}\\u003cextra\\u003e\\u003c\\u002fextra\\u003e\",\"legendgroup\":\"onset\",\"marker\":{\"color\":\"#636efa\",\"pattern\":{\"shape\":\"\"}},\"name\":\"onset\",\"offsetgroup\":\"onset\",\"orientation\":\"v\",\"showlegend\":false,\"textposition\":\"auto\",\"x\":[\"fixation\",\"saccade\"],\"xaxis\":\"x4\",\"y\":[2.500989979251265,3.920542867657688],\"yaxis\":\"y4\",\"type\":\"bar\"},{\"alignmentgroup\":\"True\",\"error_y\":{\"array\":[0.9492331014239692,1.0302156996332332]},\"hovertemplate\":\"channel_type=offset\\u003cbr\\u003eEvent Type=%{x}\\u003cbr\\u003eMean=%{y}\\u003cextra\\u003e\\u003c\\u002fextra\\u003e\",\"legendgroup\":\"offset\",\"marker\":{\"color\":\"#EF553B\",\"pattern\":{\"shape\":\"\"}},\"name\":\"offset\",\"offsetgroup\":\"offset\",\"orientation\":\"v\",\"showlegend\":false,\"textposition\":\"auto\",\"x\":[\"fixation\",\"saccade\"],\"xaxis\":\"x4\",\"y\":[3.7154750231091476,2.5007107956865777],\"yaxis\":\"y4\",\"type\":\"bar\"},{\"alignmentgroup\":\"True\",\"error_y\":{\"array\":[0.7171048570343289,0.4718885692478996]},\"hovertemplate\":\"channel_type=onset\\u003cbr\\u003eEvent Type=%{x}\\u003cbr\\u003eMean=%{y}\\u003cextra\\u003e\\u003c\\u002fextra\\u003e\",\"legendgroup\":\"onset\",\"marker\":{\"color\":\"#636efa\",\"pattern\":{\"shape\":\"\"}},\"name\":\"onset\",\"offsetgroup\":\"onset\",\"orientation\":\"v\",\"showlegend\":false,\"textposition\":\"auto\",\"x\":[\"fixation\",\"saccade\"],\"xaxis\":\"x5\",\"y\":[-0.013110136422843255,2.2279885909988644],\"yaxis\":\"y5\",\"type\":\"bar\"},{\"alignmentgroup\":\"True\",\"error_y\":{\"array\":[0.4289912376138335,0.8470787218362468]},\"hovertemplate\":\"channel_type=offset\\u003cbr\\u003eEvent Type=%{x}\\u003cbr\\u003eMean=%{y}\\u003cextra\\u003e\\u003c\\u002fextra\\u003e\",\"legendgroup\":\"offset\",\"marker\":{\"color\":\"#EF553B\",\"pattern\":{\"shape\":\"\"}},\"name\":\"offset\",\"offsetgroup\":\"offset\",\"orientation\":\"v\",\"showlegend\":false,\"textposition\":\"auto\",\"x\":[\"fixation\",\"saccade\"],\"xaxis\":\"x5\",\"y\":[2.3122174513545706,0.6803731495258887],\"yaxis\":\"y5\",\"type\":\"bar\"},{\"alignmentgroup\":\"True\",\"error_y\":{\"array\":[0.7086173808399296,0.49274591296798004]},\"hovertemplate\":\"channel_type=onset\\u003cbr\\u003eEvent Type=%{x}\\u003cbr\\u003eMean=%{y}\\u003cextra\\u003e\\u003c\\u002fextra\\u003e\",\"legendgroup\":\"onset\",\"marker\":{\"color\":\"#636efa\",\"pattern\":{\"shape\":\"\"}},\"name\":\"onset\",\"offsetgroup\":\"onset\",\"orientation\":\"v\",\"showlegend\":false,\"textposition\":\"auto\",\"x\":[\"fixation\",\"saccade\"],\"xaxis\":\"x6\",\"y\":[0.00025726818084449433,2.3229305538661276],\"yaxis\":\"y6\",\"type\":\"bar\"},{\"alignmentgroup\":\"True\",\"error_y\":{\"array\":[0.401445303677893,0.8128314351857796]},\"hovertemplate\":\"channel_type=offset\\u003cbr\\u003eEvent Type=%{x}\\u003cbr\\u003eMean=%{y}\\u003cextra\\u003e\\u003c\\u002fextra\\u003e\",\"legendgroup\":\"offset\",\"marker\":{\"color\":\"#EF553B\",\"pattern\":{\"shape\":\"\"}},\"name\":\"offset\",\"offsetgroup\":\"offset\",\"orientation\":\"v\",\"showlegend\":false,\"textposition\":\"auto\",\"x\":[\"fixation\",\"saccade\"],\"xaxis\":\"x6\",\"y\":[2.3472348823611826,0.6843452565273282],\"yaxis\":\"y6\",\"type\":\"bar\"},{\"alignmentgroup\":\"True\",\"error_y\":{\"array\":[0.8703495229886463,0.7685368228486691]},\"hovertemplate\":\"channel_type=onset\\u003cbr\\u003eEvent Type=%{x}\\u003cbr\\u003eMean=%{y}\\u003cextra\\u003e\\u003c\\u002fextra\\u003e\",\"legendgroup\":\"onset\",\"marker\":{\"color\":\"#636efa\",\"pattern\":{\"shape\":\"\"}},\"name\":\"onset\",\"offsetgroup\":\"onset\",\"orientation\":\"v\",\"showlegend\":false,\"textposition\":\"auto\",\"x\":[\"fixation\",\"saccade\"],\"xaxis\":\"x7\",\"y\":[3.013612035932239,4.356832564533119],\"yaxis\":\"y7\",\"type\":\"bar\"},{\"alignmentgroup\":\"True\",\"error_y\":{\"array\":[0.628263221452297,0.9494856281083841]},\"hovertemplate\":\"channel_type=offset\\u003cbr\\u003eEvent Type=%{x}\\u003cbr\\u003eMean=%{y}\\u003cextra\\u003e\\u003c\\u002fextra\\u003e\",\"legendgroup\":\"offset\",\"marker\":{\"color\":\"#EF553B\",\"pattern\":{\"shape\":\"\"}},\"name\":\"offset\",\"offsetgroup\":\"offset\",\"orientation\":\"v\",\"showlegend\":false,\"textposition\":\"auto\",\"x\":[\"fixation\",\"saccade\"],\"xaxis\":\"x7\",\"y\":[4.342571834764217,1.7664075798960635],\"yaxis\":\"y7\",\"type\":\"bar\"},{\"alignmentgroup\":\"True\",\"error_y\":{\"array\":[1.078205714333361,0.8761850998098197]},\"hovertemplate\":\"channel_type=onset\\u003cbr\\u003eEvent Type=%{x}\\u003cbr\\u003eMean=%{y}\\u003cextra\\u003e\\u003c\\u002fextra\\u003e\",\"legendgroup\":\"onset\",\"marker\":{\"color\":\"#636efa\",\"pattern\":{\"shape\":\"\"}},\"name\":\"onset\",\"offsetgroup\":\"onset\",\"orientation\":\"v\",\"showlegend\":false,\"textposition\":\"auto\",\"x\":[\"fixation\",\"saccade\"],\"xaxis\":\"x8\",\"y\":[2.11793418837234,1.94831447392529],\"yaxis\":\"y8\",\"type\":\"bar\"},{\"alignmentgroup\":\"True\",\"error_y\":{\"array\":[0.8008454716229964,0.7855164955936876]},\"hovertemplate\":\"channel_type=offset\\u003cbr\\u003eEvent Type=%{x}\\u003cbr\\u003eMean=%{y}\\u003cextra\\u003e\\u003c\\u002fextra\\u003e\",\"legendgroup\":\"offset\",\"marker\":{\"color\":\"#EF553B\",\"pattern\":{\"shape\":\"\"}},\"name\":\"offset\",\"offsetgroup\":\"offset\",\"orientation\":\"v\",\"showlegend\":false,\"textposition\":\"auto\",\"x\":[\"fixation\",\"saccade\"],\"xaxis\":\"x8\",\"y\":[1.9208405200464536,2.130212743814673],\"yaxis\":\"y8\",\"type\":\"bar\"},{\"alignmentgroup\":\"True\",\"error_y\":{\"array\":[0.3724879653795618,0.36242896703533045]},\"hovertemplate\":\"channel_type=onset\\u003cbr\\u003eEvent Type=%{x}\\u003cbr\\u003eMean=%{y}\\u003cextra\\u003e\\u003c\\u002fextra\\u003e\",\"legendgroup\":\"onset\",\"marker\":{\"color\":\"#636efa\",\"pattern\":{\"shape\":\"\"}},\"name\":\"onset\",\"offsetgroup\":\"onset\",\"orientation\":\"v\",\"showlegend\":false,\"textposition\":\"auto\",\"x\":[\"fixation\",\"saccade\"],\"xaxis\":\"x9\",\"y\":[1.4774926594036328,2.4389598430125083],\"yaxis\":\"y9\",\"type\":\"bar\"},{\"alignmentgroup\":\"True\",\"error_y\":{\"array\":[0.7077109728974162,0.5834799949107077]},\"hovertemplate\":\"channel_type=offset\\u003cbr\\u003eEvent Type=%{x}\\u003cbr\\u003eMean=%{y}\\u003cextra\\u003e\\u003c\\u002fextra\\u003e\",\"legendgroup\":\"offset\",\"marker\":{\"color\":\"#EF553B\",\"pattern\":{\"shape\":\"\"}},\"name\":\"offset\",\"offsetgroup\":\"offset\",\"orientation\":\"v\",\"showlegend\":false,\"textposition\":\"auto\",\"x\":[\"fixation\",\"saccade\"],\"xaxis\":\"x9\",\"y\":[0.9737463503196875,1.0360400100933849],\"yaxis\":\"y9\",\"type\":\"bar\"},{\"alignmentgroup\":\"True\",\"error_y\":{\"array\":[0.46531305713641613,0.39460705852091343]},\"hovertemplate\":\"channel_type=onset\\u003cbr\\u003eEvent Type=%{x}\\u003cbr\\u003eMean=%{y}\\u003cextra\\u003e\\u003c\\u002fextra\\u003e\",\"legendgroup\":\"onset\",\"marker\":{\"color\":\"#636efa\",\"pattern\":{\"shape\":\"\"}},\"name\":\"onset\",\"offsetgroup\":\"onset\",\"orientation\":\"v\",\"showlegend\":true,\"textposition\":\"auto\",\"x\":[\"fixation\",\"saccade\"],\"xaxis\":\"x\",\"y\":[1.5977123368887383,3.034778414781402],\"yaxis\":\"y\",\"type\":\"bar\"},{\"alignmentgroup\":\"True\",\"error_y\":{\"array\":[0.37209464525806774,0.5852566501264774]},\"hovertemplate\":\"channel_type=offset\\u003cbr\\u003eEvent Type=%{x}\\u003cbr\\u003eMean=%{y}\\u003cextra\\u003e\\u003c\\u002fextra\\u003e\",\"legendgroup\":\"offset\",\"marker\":{\"color\":\"#EF553B\",\"pattern\":{\"shape\":\"\"}},\"name\":\"offset\",\"offsetgroup\":\"offset\",\"orientation\":\"v\",\"showlegend\":true,\"textposition\":\"auto\",\"x\":[\"fixation\",\"saccade\"],\"xaxis\":\"x\",\"y\":[2.785907256213152,1.6004894075689529],\"yaxis\":\"y\",\"type\":\"bar\"}],                        {\"template\":{\"data\":{\"histogram2dcontour\":[{\"type\":\"histogram2dcontour\",\"colorbar\":{\"outlinewidth\":0,\"ticks\":\"\"},\"colorscale\":[[0.0,\"#0d0887\"],[0.1111111111111111,\"#46039f\"],[0.2222222222222222,\"#7201a8\"],[0.3333333333333333,\"#9c179e\"],[0.4444444444444444,\"#bd3786\"],[0.5555555555555556,\"#d8576b\"],[0.6666666666666666,\"#ed7953\"],[0.7777777777777778,\"#fb9f3a\"],[0.8888888888888888,\"#fdca26\"],[1.0,\"#f0f921\"]]}],\"choropleth\":[{\"type\":\"choropleth\",\"colorbar\":{\"outlinewidth\":0,\"ticks\":\"\"}}],\"histogram2d\":[{\"type\":\"histogram2d\",\"colorbar\":{\"outlinewidth\":0,\"ticks\":\"\"},\"colorscale\":[[0.0,\"#0d0887\"],[0.1111111111111111,\"#46039f\"],[0.2222222222222222,\"#7201a8\"],[0.3333333333333333,\"#9c179e\"],[0.4444444444444444,\"#bd3786\"],[0.5555555555555556,\"#d8576b\"],[0.6666666666666666,\"#ed7953\"],[0.7777777777777778,\"#fb9f3a\"],[0.8888888888888888,\"#fdca26\"],[1.0,\"#f0f921\"]]}],\"heatmap\":[{\"type\":\"heatmap\",\"colorbar\":{\"outlinewidth\":0,\"ticks\":\"\"},\"colorscale\":[[0.0,\"#0d0887\"],[0.1111111111111111,\"#46039f\"],[0.2222222222222222,\"#7201a8\"],[0.3333333333333333,\"#9c179e\"],[0.4444444444444444,\"#bd3786\"],[0.5555555555555556,\"#d8576b\"],[0.6666666666666666,\"#ed7953\"],[0.7777777777777778,\"#fb9f3a\"],[0.8888888888888888,\"#fdca26\"],[1.0,\"#f0f921\"]]}],\"heatmapgl\":[{\"type\":\"heatmapgl\",\"colorbar\":{\"outlinewidth\":0,\"ticks\":\"\"},\"colorscale\":[[0.0,\"#0d0887\"],[0.1111111111111111,\"#46039f\"],[0.2222222222222222,\"#7201a8\"],[0.3333333333333333,\"#9c179e\"],[0.4444444444444444,\"#bd3786\"],[0.5555555555555556,\"#d8576b\"],[0.6666666666666666,\"#ed7953\"],[0.7777777777777778,\"#fb9f3a\"],[0.8888888888888888,\"#fdca26\"],[1.0,\"#f0f921\"]]}],\"contourcarpet\":[{\"type\":\"contourcarpet\",\"colorbar\":{\"outlinewidth\":0,\"ticks\":\"\"}}],\"contour\":[{\"type\":\"contour\",\"colorbar\":{\"outlinewidth\":0,\"ticks\":\"\"},\"colorscale\":[[0.0,\"#0d0887\"],[0.1111111111111111,\"#46039f\"],[0.2222222222222222,\"#7201a8\"],[0.3333333333333333,\"#9c179e\"],[0.4444444444444444,\"#bd3786\"],[0.5555555555555556,\"#d8576b\"],[0.6666666666666666,\"#ed7953\"],[0.7777777777777778,\"#fb9f3a\"],[0.8888888888888888,\"#fdca26\"],[1.0,\"#f0f921\"]]}],\"surface\":[{\"type\":\"surface\",\"colorbar\":{\"outlinewidth\":0,\"ticks\":\"\"},\"colorscale\":[[0.0,\"#0d0887\"],[0.1111111111111111,\"#46039f\"],[0.2222222222222222,\"#7201a8\"],[0.3333333333333333,\"#9c179e\"],[0.4444444444444444,\"#bd3786\"],[0.5555555555555556,\"#d8576b\"],[0.6666666666666666,\"#ed7953\"],[0.7777777777777778,\"#fb9f3a\"],[0.8888888888888888,\"#fdca26\"],[1.0,\"#f0f921\"]]}],\"mesh3d\":[{\"type\":\"mesh3d\",\"colorbar\":{\"outlinewidth\":0,\"ticks\":\"\"}}],\"scatter\":[{\"fillpattern\":{\"fillmode\":\"overlay\",\"size\":10,\"solidity\":0.2},\"type\":\"scatter\"}],\"parcoords\":[{\"type\":\"parcoords\",\"line\":{\"colorbar\":{\"outlinewidth\":0,\"ticks\":\"\"}}}],\"scatterpolargl\":[{\"type\":\"scatterpolargl\",\"marker\":{\"colorbar\":{\"outlinewidth\":0,\"ticks\":\"\"}}}],\"bar\":[{\"error_x\":{\"color\":\"#2a3f5f\"},\"error_y\":{\"color\":\"#2a3f5f\"},\"marker\":{\"line\":{\"color\":\"#E5ECF6\",\"width\":0.5},\"pattern\":{\"fillmode\":\"overlay\",\"size\":10,\"solidity\":0.2}},\"type\":\"bar\"}],\"scattergeo\":[{\"type\":\"scattergeo\",\"marker\":{\"colorbar\":{\"outlinewidth\":0,\"ticks\":\"\"}}}],\"scatterpolar\":[{\"type\":\"scatterpolar\",\"marker\":{\"colorbar\":{\"outlinewidth\":0,\"ticks\":\"\"}}}],\"histogram\":[{\"marker\":{\"pattern\":{\"fillmode\":\"overlay\",\"size\":10,\"solidity\":0.2}},\"type\":\"histogram\"}],\"scattergl\":[{\"type\":\"scattergl\",\"marker\":{\"colorbar\":{\"outlinewidth\":0,\"ticks\":\"\"}}}],\"scatter3d\":[{\"type\":\"scatter3d\",\"line\":{\"colorbar\":{\"outlinewidth\":0,\"ticks\":\"\"}},\"marker\":{\"colorbar\":{\"outlinewidth\":0,\"ticks\":\"\"}}}],\"scattermapbox\":[{\"type\":\"scattermapbox\",\"marker\":{\"colorbar\":{\"outlinewidth\":0,\"ticks\":\"\"}}}],\"scatterternary\":[{\"type\":\"scatterternary\",\"marker\":{\"colorbar\":{\"outlinewidth\":0,\"ticks\":\"\"}}}],\"scattercarpet\":[{\"type\":\"scattercarpet\",\"marker\":{\"colorbar\":{\"outlinewidth\":0,\"ticks\":\"\"}}}],\"carpet\":[{\"aaxis\":{\"endlinecolor\":\"#2a3f5f\",\"gridcolor\":\"white\",\"linecolor\":\"white\",\"minorgridcolor\":\"white\",\"startlinecolor\":\"#2a3f5f\"},\"baxis\":{\"endlinecolor\":\"#2a3f5f\",\"gridcolor\":\"white\",\"linecolor\":\"white\",\"minorgridcolor\":\"white\",\"startlinecolor\":\"#2a3f5f\"},\"type\":\"carpet\"}],\"table\":[{\"cells\":{\"fill\":{\"color\":\"#EBF0F8\"},\"line\":{\"color\":\"white\"}},\"header\":{\"fill\":{\"color\":\"#C8D4E3\"},\"line\":{\"color\":\"white\"}},\"type\":\"table\"}],\"barpolar\":[{\"marker\":{\"line\":{\"color\":\"#E5ECF6\",\"width\":0.5},\"pattern\":{\"fillmode\":\"overlay\",\"size\":10,\"solidity\":0.2}},\"type\":\"barpolar\"}],\"pie\":[{\"automargin\":true,\"type\":\"pie\"}]},\"layout\":{\"autotypenumbers\":\"strict\",\"colorway\":[\"#636efa\",\"#EF553B\",\"#00cc96\",\"#ab63fa\",\"#FFA15A\",\"#19d3f3\",\"#FF6692\",\"#B6E880\",\"#FF97FF\",\"#FECB52\"],\"font\":{\"color\":\"#2a3f5f\"},\"hovermode\":\"closest\",\"hoverlabel\":{\"align\":\"left\"},\"paper_bgcolor\":\"white\",\"plot_bgcolor\":\"#E5ECF6\",\"polar\":{\"bgcolor\":\"#E5ECF6\",\"angularaxis\":{\"gridcolor\":\"white\",\"linecolor\":\"white\",\"ticks\":\"\"},\"radialaxis\":{\"gridcolor\":\"white\",\"linecolor\":\"white\",\"ticks\":\"\"}},\"ternary\":{\"bgcolor\":\"#E5ECF6\",\"aaxis\":{\"gridcolor\":\"white\",\"linecolor\":\"white\",\"ticks\":\"\"},\"baxis\":{\"gridcolor\":\"white\",\"linecolor\":\"white\",\"ticks\":\"\"},\"caxis\":{\"gridcolor\":\"white\",\"linecolor\":\"white\",\"ticks\":\"\"}},\"coloraxis\":{\"colorbar\":{\"outlinewidth\":0,\"ticks\":\"\"}},\"colorscale\":{\"sequential\":[[0.0,\"#0d0887\"],[0.1111111111111111,\"#46039f\"],[0.2222222222222222,\"#7201a8\"],[0.3333333333333333,\"#9c179e\"],[0.4444444444444444,\"#bd3786\"],[0.5555555555555556,\"#d8576b\"],[0.6666666666666666,\"#ed7953\"],[0.7777777777777778,\"#fb9f3a\"],[0.8888888888888888,\"#fdca26\"],[1.0,\"#f0f921\"]],\"sequentialminus\":[[0.0,\"#0d0887\"],[0.1111111111111111,\"#46039f\"],[0.2222222222222222,\"#7201a8\"],[0.3333333333333333,\"#9c179e\"],[0.4444444444444444,\"#bd3786\"],[0.5555555555555556,\"#d8576b\"],[0.6666666666666666,\"#ed7953\"],[0.7777777777777778,\"#fb9f3a\"],[0.8888888888888888,\"#fdca26\"],[1.0,\"#f0f921\"]],\"diverging\":[[0,\"#8e0152\"],[0.1,\"#c51b7d\"],[0.2,\"#de77ae\"],[0.3,\"#f1b6da\"],[0.4,\"#fde0ef\"],[0.5,\"#f7f7f7\"],[0.6,\"#e6f5d0\"],[0.7,\"#b8e186\"],[0.8,\"#7fbc41\"],[0.9,\"#4d9221\"],[1,\"#276419\"]]},\"xaxis\":{\"gridcolor\":\"white\",\"linecolor\":\"white\",\"ticks\":\"\",\"title\":{\"standoff\":15},\"zerolinecolor\":\"white\",\"automargin\":true,\"zerolinewidth\":2},\"yaxis\":{\"gridcolor\":\"white\",\"linecolor\":\"white\",\"ticks\":\"\",\"title\":{\"standoff\":15},\"zerolinecolor\":\"white\",\"automargin\":true,\"zerolinewidth\":2},\"scene\":{\"xaxis\":{\"backgroundcolor\":\"#E5ECF6\",\"gridcolor\":\"white\",\"linecolor\":\"white\",\"showbackground\":true,\"ticks\":\"\",\"zerolinecolor\":\"white\",\"gridwidth\":2},\"yaxis\":{\"backgroundcolor\":\"#E5ECF6\",\"gridcolor\":\"white\",\"linecolor\":\"white\",\"showbackground\":true,\"ticks\":\"\",\"zerolinecolor\":\"white\",\"gridwidth\":2},\"zaxis\":{\"backgroundcolor\":\"#E5ECF6\",\"gridcolor\":\"white\",\"linecolor\":\"white\",\"showbackground\":true,\"ticks\":\"\",\"zerolinecolor\":\"white\",\"gridwidth\":2}},\"shapedefaults\":{\"line\":{\"color\":\"#2a3f5f\"}},\"annotationdefaults\":{\"arrowcolor\":\"#2a3f5f\",\"arrowhead\":0,\"arrowwidth\":1},\"geo\":{\"bgcolor\":\"white\",\"landcolor\":\"#E5ECF6\",\"subunitcolor\":\"white\",\"showland\":true,\"showlakes\":true,\"lakecolor\":\"white\"},\"title\":{\"x\":0.05},\"mapbox\":{\"style\":\"light\"}}},\"xaxis\":{\"anchor\":\"y\",\"domain\":[0.0,1.0],\"title\":{\"font\":{\"family\":\"Calibri\",\"size\":20,\"color\":\"black\"},\"standoff\":2},\"tickfont\":{\"family\":\"Calibri\",\"size\":18,\"color\":\"black\"},\"showline\":false,\"showgrid\":false,\"gridcolor\":\"lightgray\",\"gridwidth\":1,\"zeroline\":false,\"zerolinecolor\":\"lightgray\",\"zerolinewidth\":2},\"yaxis\":{\"anchor\":\"x\",\"domain\":[0.5375,1.0],\"title\":{\"font\":{\"family\":\"Calibri\",\"size\":20,\"color\":\"black\"},\"standoff\":2,\"text\":\"$d^{\\\\prime}$\"},\"tickfont\":{\"family\":\"Calibri\",\"size\":18,\"color\":\"black\"},\"showline\":false,\"showgrid\":true,\"gridcolor\":\"lightgray\",\"gridwidth\":1,\"zeroline\":true,\"zerolinecolor\":\"lightgray\",\"zerolinewidth\":2},\"xaxis2\":{\"anchor\":\"y2\",\"domain\":[0.0,0.23125],\"matches\":\"x6\",\"showticklabels\":false,\"title\":{\"font\":{\"family\":\"Calibri\",\"size\":20,\"color\":\"black\"},\"standoff\":2},\"tickfont\":{\"family\":\"Calibri\",\"size\":18,\"color\":\"black\"},\"showline\":false,\"showgrid\":false,\"gridcolor\":\"lightgray\",\"gridwidth\":1,\"zeroline\":false,\"zerolinecolor\":\"lightgray\",\"zerolinewidth\":2},\"yaxis2\":{\"anchor\":\"x2\",\"domain\":[0.26875,0.4625],\"title\":{\"font\":{\"family\":\"Calibri\",\"size\":20,\"color\":\"black\"},\"standoff\":2,\"text\":\"$d^{\\\\prime}$\"},\"tickfont\":{\"family\":\"Calibri\",\"size\":18,\"color\":\"black\"},\"showline\":false,\"showgrid\":true,\"gridcolor\":\"lightgray\",\"gridwidth\":1,\"zeroline\":true,\"zerolinecolor\":\"lightgray\",\"zerolinewidth\":2},\"xaxis3\":{\"anchor\":\"y3\",\"domain\":[0.25625000000000003,0.48750000000000004],\"matches\":\"x7\",\"showticklabels\":false,\"title\":{\"font\":{\"family\":\"Calibri\",\"size\":20,\"color\":\"black\"},\"standoff\":2},\"tickfont\":{\"family\":\"Calibri\",\"size\":18,\"color\":\"black\"},\"showline\":false,\"showgrid\":false,\"gridcolor\":\"lightgray\",\"gridwidth\":1,\"zeroline\":false,\"zerolinecolor\":\"lightgray\",\"zerolinewidth\":2},\"yaxis3\":{\"anchor\":\"x3\",\"domain\":[0.26875,0.4625],\"matches\":\"y2\",\"showticklabels\":false,\"title\":{\"font\":{\"family\":\"Calibri\",\"size\":20,\"color\":\"black\"},\"standoff\":2},\"tickfont\":{\"family\":\"Calibri\",\"size\":18,\"color\":\"black\"},\"showline\":false,\"showgrid\":true,\"gridcolor\":\"lightgray\",\"gridwidth\":1,\"zeroline\":true,\"zerolinecolor\":\"lightgray\",\"zerolinewidth\":2},\"xaxis4\":{\"anchor\":\"y4\",\"domain\":[0.5125000000000001,0.7437500000000001],\"matches\":\"x8\",\"showticklabels\":false,\"title\":{\"font\":{\"family\":\"Calibri\",\"size\":20,\"color\":\"black\"},\"standoff\":2},\"tickfont\":{\"family\":\"Calibri\",\"size\":18,\"color\":\"black\"},\"showline\":false,\"showgrid\":false,\"gridcolor\":\"lightgray\",\"gridwidth\":1,\"zeroline\":false,\"zerolinecolor\":\"lightgray\",\"zerolinewidth\":2},\"yaxis4\":{\"anchor\":\"x4\",\"domain\":[0.26875,0.4625],\"matches\":\"y2\",\"showticklabels\":false,\"title\":{\"font\":{\"family\":\"Calibri\",\"size\":20,\"color\":\"black\"},\"standoff\":2},\"tickfont\":{\"family\":\"Calibri\",\"size\":18,\"color\":\"black\"},\"showline\":false,\"showgrid\":true,\"gridcolor\":\"lightgray\",\"gridwidth\":1,\"zeroline\":true,\"zerolinecolor\":\"lightgray\",\"zerolinewidth\":2},\"xaxis5\":{\"anchor\":\"y5\",\"domain\":[0.76875,1.0],\"matches\":\"x9\",\"showticklabels\":false,\"title\":{\"font\":{\"family\":\"Calibri\",\"size\":20,\"color\":\"black\"},\"standoff\":2},\"tickfont\":{\"family\":\"Calibri\",\"size\":18,\"color\":\"black\"},\"showline\":false,\"showgrid\":false,\"gridcolor\":\"lightgray\",\"gridwidth\":1,\"zeroline\":false,\"zerolinecolor\":\"lightgray\",\"zerolinewidth\":2},\"yaxis5\":{\"anchor\":\"x5\",\"domain\":[0.26875,0.4625],\"matches\":\"y2\",\"showticklabels\":false,\"title\":{\"font\":{\"family\":\"Calibri\",\"size\":20,\"color\":\"black\"},\"standoff\":2},\"tickfont\":{\"family\":\"Calibri\",\"size\":18,\"color\":\"black\"},\"showline\":false,\"showgrid\":true,\"gridcolor\":\"lightgray\",\"gridwidth\":1,\"zeroline\":true,\"zerolinecolor\":\"lightgray\",\"zerolinewidth\":2},\"xaxis6\":{\"anchor\":\"y6\",\"domain\":[0.0,0.23125],\"title\":{\"font\":{\"family\":\"Calibri\",\"size\":20,\"color\":\"black\"},\"standoff\":2},\"tickfont\":{\"family\":\"Calibri\",\"size\":18,\"color\":\"black\"},\"showline\":false,\"showgrid\":false,\"gridcolor\":\"lightgray\",\"gridwidth\":1,\"zeroline\":false,\"zerolinecolor\":\"lightgray\",\"zerolinewidth\":2},\"yaxis6\":{\"anchor\":\"x6\",\"domain\":[0.0,0.19375],\"title\":{\"font\":{\"family\":\"Calibri\",\"size\":20,\"color\":\"black\"},\"standoff\":2,\"text\":\"$d^{\\\\prime}$\"},\"tickfont\":{\"family\":\"Calibri\",\"size\":18,\"color\":\"black\"},\"showline\":false,\"showgrid\":true,\"gridcolor\":\"lightgray\",\"gridwidth\":1,\"zeroline\":true,\"zerolinecolor\":\"lightgray\",\"zerolinewidth\":2},\"xaxis7\":{\"anchor\":\"y7\",\"domain\":[0.25625000000000003,0.48750000000000004],\"title\":{\"font\":{\"family\":\"Calibri\",\"size\":20,\"color\":\"black\"},\"standoff\":2},\"tickfont\":{\"family\":\"Calibri\",\"size\":18,\"color\":\"black\"},\"showline\":false,\"showgrid\":false,\"gridcolor\":\"lightgray\",\"gridwidth\":1,\"zeroline\":false,\"zerolinecolor\":\"lightgray\",\"zerolinewidth\":2},\"yaxis7\":{\"anchor\":\"x7\",\"domain\":[0.0,0.19375],\"matches\":\"y6\",\"showticklabels\":false,\"title\":{\"font\":{\"family\":\"Calibri\",\"size\":20,\"color\":\"black\"},\"standoff\":2},\"tickfont\":{\"family\":\"Calibri\",\"size\":18,\"color\":\"black\"},\"showline\":false,\"showgrid\":true,\"gridcolor\":\"lightgray\",\"gridwidth\":1,\"zeroline\":true,\"zerolinecolor\":\"lightgray\",\"zerolinewidth\":2},\"xaxis8\":{\"anchor\":\"y8\",\"domain\":[0.5125000000000001,0.7437500000000001],\"title\":{\"font\":{\"family\":\"Calibri\",\"size\":20,\"color\":\"black\"},\"standoff\":2},\"tickfont\":{\"family\":\"Calibri\",\"size\":18,\"color\":\"black\"},\"showline\":false,\"showgrid\":false,\"gridcolor\":\"lightgray\",\"gridwidth\":1,\"zeroline\":false,\"zerolinecolor\":\"lightgray\",\"zerolinewidth\":2},\"yaxis8\":{\"anchor\":\"x8\",\"domain\":[0.0,0.19375],\"matches\":\"y6\",\"showticklabels\":false,\"title\":{\"font\":{\"family\":\"Calibri\",\"size\":20,\"color\":\"black\"},\"standoff\":2},\"tickfont\":{\"family\":\"Calibri\",\"size\":18,\"color\":\"black\"},\"showline\":false,\"showgrid\":true,\"gridcolor\":\"lightgray\",\"gridwidth\":1,\"zeroline\":true,\"zerolinecolor\":\"lightgray\",\"zerolinewidth\":2},\"xaxis9\":{\"anchor\":\"y9\",\"domain\":[0.76875,1.0],\"title\":{\"font\":{\"family\":\"Calibri\",\"size\":20,\"color\":\"black\"},\"standoff\":2},\"tickfont\":{\"family\":\"Calibri\",\"size\":18,\"color\":\"black\"},\"showline\":false,\"showgrid\":false,\"gridcolor\":\"lightgray\",\"gridwidth\":1,\"zeroline\":false,\"zerolinecolor\":\"lightgray\",\"zerolinewidth\":2},\"yaxis9\":{\"anchor\":\"x9\",\"domain\":[0.0,0.19375],\"matches\":\"y6\",\"showticklabels\":false,\"title\":{\"font\":{\"family\":\"Calibri\",\"size\":20,\"color\":\"black\"},\"standoff\":2},\"tickfont\":{\"family\":\"Calibri\",\"size\":18,\"color\":\"black\"},\"showline\":false,\"showgrid\":true,\"gridcolor\":\"lightgray\",\"gridwidth\":1,\"zeroline\":true,\"zerolinecolor\":\"lightgray\",\"zerolinewidth\":2},\"annotations\":[{\"font\":{\"size\":20,\"family\":\"Calibri\",\"color\":\"black\"},\"showarrow\":false,\"text\":\"Overall\",\"x\":0.5,\"xanchor\":\"center\",\"xref\":\"paper\",\"y\":1.0,\"yanchor\":\"bottom\",\"yref\":\"paper\",\"textangle\":0},{\"font\":{\"size\":20,\"family\":\"Calibri\",\"color\":\"black\"},\"showarrow\":false,\"text\":\"\\u003ci\\u003eAnn. MN\\u003c\\u002fi\\u003e\",\"x\":0.115625,\"xanchor\":\"center\",\"xref\":\"paper\",\"y\":0.4625,\"yanchor\":\"bottom\",\"yref\":\"paper\",\"textangle\":0},{\"font\":{\"size\":20,\"family\":\"Calibri\",\"color\":\"black\"},\"showarrow\":false,\"text\":\"I-VT\",\"x\":0.37187500000000007,\"xanchor\":\"center\",\"xref\":\"paper\",\"y\":0.4625,\"yanchor\":\"bottom\",\"yref\":\"paper\",\"textangle\":0},{\"font\":{\"size\":20,\"family\":\"Calibri\",\"color\":\"black\"},\"showarrow\":false,\"text\":\"I-VVT\",\"x\":0.628125,\"xanchor\":\"center\",\"xref\":\"paper\",\"y\":0.4625,\"yanchor\":\"bottom\",\"yref\":\"paper\",\"textangle\":0},{\"font\":{\"size\":20,\"family\":\"Calibri\",\"color\":\"black\"},\"showarrow\":false,\"text\":\"I-DT\",\"x\":0.884375,\"xanchor\":\"center\",\"xref\":\"paper\",\"y\":0.4625,\"yanchor\":\"bottom\",\"yref\":\"paper\",\"textangle\":0},{\"font\":{\"size\":20,\"family\":\"Calibri\",\"color\":\"black\"},\"showarrow\":false,\"text\":\"I-DVT\",\"x\":0.115625,\"xanchor\":\"center\",\"xref\":\"paper\",\"y\":0.19375,\"yanchor\":\"bottom\",\"yref\":\"paper\",\"textangle\":0},{\"font\":{\"size\":20,\"family\":\"Calibri\",\"color\":\"black\"},\"showarrow\":false,\"text\":\"ENGBERT\",\"x\":0.37187500000000007,\"xanchor\":\"center\",\"xref\":\"paper\",\"y\":0.19375,\"yanchor\":\"bottom\",\"yref\":\"paper\",\"textangle\":0},{\"font\":{\"size\":20,\"family\":\"Calibri\",\"color\":\"black\"},\"showarrow\":false,\"text\":\"NH\",\"x\":0.628125,\"xanchor\":\"center\",\"xref\":\"paper\",\"y\":0.19375,\"yanchor\":\"bottom\",\"yref\":\"paper\",\"textangle\":0},{\"font\":{\"size\":20,\"family\":\"Calibri\",\"color\":\"black\"},\"showarrow\":false,\"text\":\"REMoDNaV\",\"x\":0.884375,\"xanchor\":\"center\",\"xref\":\"paper\",\"y\":0.19375,\"yanchor\":\"bottom\",\"yref\":\"paper\",\"textangle\":0}],\"font\":{\"family\":\"Calibri\"},\"margin\":{\"l\":0,\"r\":0,\"t\":35,\"b\":0,\"pad\":0},\"legend\":{\"font\":{\"family\":\"Calibri\",\"size\":20,\"color\":\"black\"},\"orientation\":\"h\",\"yanchor\":\"top\",\"xanchor\":\"center\",\"xref\":\"paper\",\"yref\":\"paper\",\"x\":0.12,\"y\":0.98,\"itemwidth\":30},\"title\":{},\"width\":900,\"height\":750,\"paper_bgcolor\":\"rgba(0, 0, 0, 0)\",\"plot_bgcolor\":\"rgba(0, 0, 0, 0)\"},                        {\"responsive\": true}                    ).then(function(){\n",
       "                            \n",
       "var gd = document.getElementById('01792183-ca4c-4d93-9218-7012e98a1a55');\n",
       "var x = new MutationObserver(function (mutations, observer) {{\n",
       "        var display = window.getComputedStyle(gd).display;\n",
       "        if (!display || display === 'none') {{\n",
       "            console.log([gd, 'removed!']);\n",
       "            Plotly.purge(gd);\n",
       "            observer.disconnect();\n",
       "        }}\n",
       "}});\n",
       "\n",
       "// Listen for the removal of the full notebook cells\n",
       "var notebookContainer = gd.closest('#notebook-container');\n",
       "if (notebookContainer) {{\n",
       "    x.observe(notebookContainer, {childList: true});\n",
       "}}\n",
       "\n",
       "// Listen for the clearing of the current output cell\n",
       "var outputEl = gd.closest('.output');\n",
       "if (outputEl) {{\n",
       "    x.observe(outputEl, {childList: true});\n",
       "}}\n",
       "\n",
       "                        })                };                });            </script>        </div>"
      ]
     },
     "metadata": {},
     "output_type": "display_data"
    }
   ],
   "execution_count": 37
  },
  {
   "metadata": {
    "ExecuteTime": {
     "end_time": "2025-05-05T09:09:28.011290Z",
     "start_time": "2025-05-05T09:09:27.490661Z"
    }
   },
   "cell_type": "code",
   "source": [
    "fig_mn = multiple_bar_plots(metrics, METRIC, \"MN\", show_other_annotator=True)\n",
    "fig_mn.update_layout(\n",
    "    title=None,\n",
    "    width=W, height=H,\n",
    "\n",
    "    # update yaxis titles:\n",
    "    yaxis_title=yaxis_title, yaxis2_title=yaxis_title, yaxis6_title=yaxis_title,\n",
    ")\n",
    "\n",
    "fig_mn.write_image(os.path.join(FIGURES_DIR, f\"{FILE_NAME_FORMAT % (2, \"MN\")}.png\"), scale=3)\n",
    "# fig_mn.write_json(os.path.join(FIGURES_DIR, f\"{NAME}.json\"), indent=4)\n",
    "fig_mn.show()"
   ],
   "id": "6d879b4d47b0d4cd",
   "outputs": [
    {
     "data": {
      "application/vnd.plotly.v1+json": {
       "data": [
        {
         "alignmentgroup": "True",
         "error_y": {
          "array": [
           0.39529524112489534,
           0.5721108743180217
          ]
         },
         "hovertemplate": "channel_type=onset<br>Event Type=%{x}<br>Mean=%{y}<extra></extra>",
         "legendgroup": "onset",
         "marker": {
          "color": "#636efa",
          "pattern": {
           "shape": ""
          }
         },
         "name": "onset",
         "offsetgroup": "onset",
         "orientation": "v",
         "showlegend": false,
         "textposition": "auto",
         "x": [
          "fixation",
          "saccade"
         ],
         "xaxis": "x2",
         "y": [
          3.0246963930400446,
          4.940378811217213
         ],
         "yaxis": "y2",
         "type": "bar"
        },
        {
         "alignmentgroup": "True",
         "error_y": {
          "array": [
           0.656635934770663,
           0.6693129709777954
          ]
         },
         "hovertemplate": "channel_type=offset<br>Event Type=%{x}<br>Mean=%{y}<extra></extra>",
         "legendgroup": "offset",
         "marker": {
          "color": "#EF553B",
          "pattern": {
           "shape": ""
          }
         },
         "name": "offset",
         "offsetgroup": "offset",
         "orientation": "v",
         "showlegend": false,
         "textposition": "auto",
         "x": [
          "fixation",
          "saccade"
         ],
         "xaxis": "x2",
         "y": [
          4.384282502655453,
          4.001424947046758
         ],
         "yaxis": "y2",
         "type": "bar"
        },
        {
         "alignmentgroup": "True",
         "error_y": {
          "array": [
           0.3007901781553661,
           0.8772421552427885
          ]
         },
         "hovertemplate": "channel_type=onset<br>Event Type=%{x}<br>Mean=%{y}<extra></extra>",
         "legendgroup": "onset",
         "marker": {
          "color": "#636efa",
          "pattern": {
           "shape": ""
          }
         },
         "name": "onset",
         "offsetgroup": "onset",
         "orientation": "v",
         "showlegend": false,
         "textposition": "auto",
         "x": [
          "fixation",
          "saccade"
         ],
         "xaxis": "x3",
         "y": [
          1.9638203466653656,
          3.956699977988971
         ],
         "yaxis": "y3",
         "type": "bar"
        },
        {
         "alignmentgroup": "True",
         "error_y": {
          "array": [
           0.8725906990648713,
           1.0984821041660195
          ]
         },
         "hovertemplate": "channel_type=offset<br>Event Type=%{x}<br>Mean=%{y}<extra></extra>",
         "legendgroup": "offset",
         "marker": {
          "color": "#EF553B",
          "pattern": {
           "shape": ""
          }
         },
         "name": "offset",
         "offsetgroup": "offset",
         "orientation": "v",
         "showlegend": false,
         "textposition": "auto",
         "x": [
          "fixation",
          "saccade"
         ],
         "xaxis": "x3",
         "y": [
          4.075000967265771,
          2.068510099337308
         ],
         "yaxis": "y3",
         "type": "bar"
        },
        {
         "alignmentgroup": "True",
         "error_y": {
          "array": [
           0.7418622150109666,
           0.7403470936441527
          ]
         },
         "hovertemplate": "channel_type=onset<br>Event Type=%{x}<br>Mean=%{y}<extra></extra>",
         "legendgroup": "onset",
         "marker": {
          "color": "#636efa",
          "pattern": {
           "shape": ""
          }
         },
         "name": "onset",
         "offsetgroup": "onset",
         "orientation": "v",
         "showlegend": false,
         "textposition": "auto",
         "x": [
          "fixation",
          "saccade"
         ],
         "xaxis": "x4",
         "y": [
          2.4427139894983196,
          3.9453063390434404
         ],
         "yaxis": "y4",
         "type": "bar"
        },
        {
         "alignmentgroup": "True",
         "error_y": {
          "array": [
           0.9710625567820745,
           1.0443149976216608
          ]
         },
         "hovertemplate": "channel_type=offset<br>Event Type=%{x}<br>Mean=%{y}<extra></extra>",
         "legendgroup": "offset",
         "marker": {
          "color": "#EF553B",
          "pattern": {
           "shape": ""
          }
         },
         "name": "offset",
         "offsetgroup": "offset",
         "orientation": "v",
         "showlegend": false,
         "textposition": "auto",
         "x": [
          "fixation",
          "saccade"
         ],
         "xaxis": "x4",
         "y": [
          4.0166090171937165,
          2.148210090573542
         ],
         "yaxis": "y4",
         "type": "bar"
        },
        {
         "alignmentgroup": "True",
         "error_y": {
          "array": [
           0.5413944273848608,
           0.42755662593636934
          ]
         },
         "hovertemplate": "channel_type=onset<br>Event Type=%{x}<br>Mean=%{y}<extra></extra>",
         "legendgroup": "onset",
         "marker": {
          "color": "#636efa",
          "pattern": {
           "shape": ""
          }
         },
         "name": "onset",
         "offsetgroup": "onset",
         "orientation": "v",
         "showlegend": false,
         "textposition": "auto",
         "x": [
          "fixation",
          "saccade"
         ],
         "xaxis": "x5",
         "y": [
          0.10233477407682931,
          2.106968999663155
         ],
         "yaxis": "y5",
         "type": "bar"
        },
        {
         "alignmentgroup": "True",
         "error_y": {
          "array": [
           0.34891627390997915,
           0.6902122727687627
          ]
         },
         "hovertemplate": "channel_type=offset<br>Event Type=%{x}<br>Mean=%{y}<extra></extra>",
         "legendgroup": "offset",
         "marker": {
          "color": "#EF553B",
          "pattern": {
           "shape": ""
          }
         },
         "name": "offset",
         "offsetgroup": "offset",
         "orientation": "v",
         "showlegend": false,
         "textposition": "auto",
         "x": [
          "fixation",
          "saccade"
         ],
         "xaxis": "x5",
         "y": [
          2.2890986550998433,
          0.7756976502575341
         ],
         "yaxis": "y5",
         "type": "bar"
        },
        {
         "alignmentgroup": "True",
         "error_y": {
          "array": [
           0.531428247963916,
           0.42526590219594324
          ]
         },
         "hovertemplate": "channel_type=onset<br>Event Type=%{x}<br>Mean=%{y}<extra></extra>",
         "legendgroup": "onset",
         "marker": {
          "color": "#636efa",
          "pattern": {
           "shape": ""
          }
         },
         "name": "onset",
         "offsetgroup": "onset",
         "orientation": "v",
         "showlegend": false,
         "textposition": "auto",
         "x": [
          "fixation",
          "saccade"
         ],
         "xaxis": "x6",
         "y": [
          0.119928607252189,
          2.175007875075571
         ],
         "yaxis": "y6",
         "type": "bar"
        },
        {
         "alignmentgroup": "True",
         "error_y": {
          "array": [
           0.3589482131536149,
           0.6981899884498071
          ]
         },
         "hovertemplate": "channel_type=offset<br>Event Type=%{x}<br>Mean=%{y}<extra></extra>",
         "legendgroup": "offset",
         "marker": {
          "color": "#EF553B",
          "pattern": {
           "shape": ""
          }
         },
         "name": "offset",
         "offsetgroup": "offset",
         "orientation": "v",
         "showlegend": false,
         "textposition": "auto",
         "x": [
          "fixation",
          "saccade"
         ],
         "xaxis": "x6",
         "y": [
          2.3480575781270177,
          0.7885884024183768
         ],
         "yaxis": "y6",
         "type": "bar"
        },
        {
         "alignmentgroup": "True",
         "error_y": {
          "array": [
           0.6433650163737914,
           0.7503637506938092
          ]
         },
         "hovertemplate": "channel_type=onset<br>Event Type=%{x}<br>Mean=%{y}<extra></extra>",
         "legendgroup": "onset",
         "marker": {
          "color": "#636efa",
          "pattern": {
           "shape": ""
          }
         },
         "name": "onset",
         "offsetgroup": "onset",
         "orientation": "v",
         "showlegend": false,
         "textposition": "auto",
         "x": [
          "fixation",
          "saccade"
         ],
         "xaxis": "x7",
         "y": [
          2.8431479033279485,
          4.231659375772045
         ],
         "yaxis": "y7",
         "type": "bar"
        },
        {
         "alignmentgroup": "True",
         "error_y": {
          "array": [
           0.7303182167386878,
           0.6682712910242067
          ]
         },
         "hovertemplate": "channel_type=offset<br>Event Type=%{x}<br>Mean=%{y}<extra></extra>",
         "legendgroup": "offset",
         "marker": {
          "color": "#EF553B",
          "pattern": {
           "shape": ""
          }
         },
         "name": "offset",
         "offsetgroup": "offset",
         "orientation": "v",
         "showlegend": false,
         "textposition": "auto",
         "x": [
          "fixation",
          "saccade"
         ],
         "xaxis": "x7",
         "y": [
          4.38596324436869,
          1.353610630829314
         ],
         "yaxis": "y7",
         "type": "bar"
        },
        {
         "alignmentgroup": "True",
         "error_y": {
          "array": [
           1.0925986555200478,
           0.7386942354169322
          ]
         },
         "hovertemplate": "channel_type=onset<br>Event Type=%{x}<br>Mean=%{y}<extra></extra>",
         "legendgroup": "onset",
         "marker": {
          "color": "#636efa",
          "pattern": {
           "shape": ""
          }
         },
         "name": "onset",
         "offsetgroup": "onset",
         "orientation": "v",
         "showlegend": false,
         "textposition": "auto",
         "x": [
          "fixation",
          "saccade"
         ],
         "xaxis": "x8",
         "y": [
          2.1180915908683935,
          1.8139639588565886
         ],
         "yaxis": "y8",
         "type": "bar"
        },
        {
         "alignmentgroup": "True",
         "error_y": {
          "array": [
           0.7554941282370425,
           0.6972031819035649
          ]
         },
         "hovertemplate": "channel_type=offset<br>Event Type=%{x}<br>Mean=%{y}<extra></extra>",
         "legendgroup": "offset",
         "marker": {
          "color": "#EF553B",
          "pattern": {
           "shape": ""
          }
         },
         "name": "offset",
         "offsetgroup": "offset",
         "orientation": "v",
         "showlegend": false,
         "textposition": "auto",
         "x": [
          "fixation",
          "saccade"
         ],
         "xaxis": "x8",
         "y": [
          1.8719047142118779,
          1.9037040373158405
         ],
         "yaxis": "y8",
         "type": "bar"
        },
        {
         "alignmentgroup": "True",
         "error_y": {
          "array": [
           0.2666736347669214,
           0.36731318988084116
          ]
         },
         "hovertemplate": "channel_type=onset<br>Event Type=%{x}<br>Mean=%{y}<extra></extra>",
         "legendgroup": "onset",
         "marker": {
          "color": "#636efa",
          "pattern": {
           "shape": ""
          }
         },
         "name": "onset",
         "offsetgroup": "onset",
         "orientation": "v",
         "showlegend": false,
         "textposition": "auto",
         "x": [
          "fixation",
          "saccade"
         ],
         "xaxis": "x9",
         "y": [
          1.507858624513762,
          2.439879358571489
         ],
         "yaxis": "y9",
         "type": "bar"
        },
        {
         "alignmentgroup": "True",
         "error_y": {
          "array": [
           0.7805346820461496,
           0.8569537071453972
          ]
         },
         "hovertemplate": "channel_type=offset<br>Event Type=%{x}<br>Mean=%{y}<extra></extra>",
         "legendgroup": "offset",
         "marker": {
          "color": "#EF553B",
          "pattern": {
           "shape": ""
          }
         },
         "name": "offset",
         "offsetgroup": "offset",
         "orientation": "v",
         "showlegend": false,
         "textposition": "auto",
         "x": [
          "fixation",
          "saccade"
         ],
         "xaxis": "x9",
         "y": [
          0.8694273108592994,
          0.7378575755223543
         ],
         "yaxis": "y9",
         "type": "bar"
        },
        {
         "alignmentgroup": "True",
         "error_y": {
          "array": [
           0.38921230026996617,
           0.36463442378473176
          ]
         },
         "hovertemplate": "channel_type=onset<br>Event Type=%{x}<br>Mean=%{y}<extra></extra>",
         "legendgroup": "onset",
         "marker": {
          "color": "#636efa",
          "pattern": {
           "shape": ""
          }
         },
         "name": "onset",
         "offsetgroup": "onset",
         "orientation": "v",
         "showlegend": true,
         "textposition": "auto",
         "x": [
          "fixation",
          "saccade"
         ],
         "xaxis": "x",
         "y": [
          1.5854136908861152,
          2.9527836978530373
         ],
         "yaxis": "y",
         "type": "bar"
        },
        {
         "alignmentgroup": "True",
         "error_y": {
          "array": [
           0.41003463585621613,
           0.38183632541464846
          ]
         },
         "hovertemplate": "channel_type=offset<br>Event Type=%{x}<br>Mean=%{y}<extra></extra>",
         "legendgroup": "offset",
         "marker": {
          "color": "#EF553B",
          "pattern": {
           "shape": ""
          }
         },
         "name": "offset",
         "offsetgroup": "offset",
         "orientation": "v",
         "showlegend": true,
         "textposition": "auto",
         "x": [
          "fixation",
          "saccade"
         ],
         "xaxis": "x",
         "y": [
          2.836580212446602,
          1.396596926607753
         ],
         "yaxis": "y",
         "type": "bar"
        }
       ],
       "layout": {
        "template": {
         "data": {
          "histogram2dcontour": [
           {
            "type": "histogram2dcontour",
            "colorbar": {
             "outlinewidth": 0,
             "ticks": ""
            },
            "colorscale": [
             [
              0.0,
              "#0d0887"
             ],
             [
              0.1111111111111111,
              "#46039f"
             ],
             [
              0.2222222222222222,
              "#7201a8"
             ],
             [
              0.3333333333333333,
              "#9c179e"
             ],
             [
              0.4444444444444444,
              "#bd3786"
             ],
             [
              0.5555555555555556,
              "#d8576b"
             ],
             [
              0.6666666666666666,
              "#ed7953"
             ],
             [
              0.7777777777777778,
              "#fb9f3a"
             ],
             [
              0.8888888888888888,
              "#fdca26"
             ],
             [
              1.0,
              "#f0f921"
             ]
            ]
           }
          ],
          "choropleth": [
           {
            "type": "choropleth",
            "colorbar": {
             "outlinewidth": 0,
             "ticks": ""
            }
           }
          ],
          "histogram2d": [
           {
            "type": "histogram2d",
            "colorbar": {
             "outlinewidth": 0,
             "ticks": ""
            },
            "colorscale": [
             [
              0.0,
              "#0d0887"
             ],
             [
              0.1111111111111111,
              "#46039f"
             ],
             [
              0.2222222222222222,
              "#7201a8"
             ],
             [
              0.3333333333333333,
              "#9c179e"
             ],
             [
              0.4444444444444444,
              "#bd3786"
             ],
             [
              0.5555555555555556,
              "#d8576b"
             ],
             [
              0.6666666666666666,
              "#ed7953"
             ],
             [
              0.7777777777777778,
              "#fb9f3a"
             ],
             [
              0.8888888888888888,
              "#fdca26"
             ],
             [
              1.0,
              "#f0f921"
             ]
            ]
           }
          ],
          "heatmap": [
           {
            "type": "heatmap",
            "colorbar": {
             "outlinewidth": 0,
             "ticks": ""
            },
            "colorscale": [
             [
              0.0,
              "#0d0887"
             ],
             [
              0.1111111111111111,
              "#46039f"
             ],
             [
              0.2222222222222222,
              "#7201a8"
             ],
             [
              0.3333333333333333,
              "#9c179e"
             ],
             [
              0.4444444444444444,
              "#bd3786"
             ],
             [
              0.5555555555555556,
              "#d8576b"
             ],
             [
              0.6666666666666666,
              "#ed7953"
             ],
             [
              0.7777777777777778,
              "#fb9f3a"
             ],
             [
              0.8888888888888888,
              "#fdca26"
             ],
             [
              1.0,
              "#f0f921"
             ]
            ]
           }
          ],
          "heatmapgl": [
           {
            "type": "heatmapgl",
            "colorbar": {
             "outlinewidth": 0,
             "ticks": ""
            },
            "colorscale": [
             [
              0.0,
              "#0d0887"
             ],
             [
              0.1111111111111111,
              "#46039f"
             ],
             [
              0.2222222222222222,
              "#7201a8"
             ],
             [
              0.3333333333333333,
              "#9c179e"
             ],
             [
              0.4444444444444444,
              "#bd3786"
             ],
             [
              0.5555555555555556,
              "#d8576b"
             ],
             [
              0.6666666666666666,
              "#ed7953"
             ],
             [
              0.7777777777777778,
              "#fb9f3a"
             ],
             [
              0.8888888888888888,
              "#fdca26"
             ],
             [
              1.0,
              "#f0f921"
             ]
            ]
           }
          ],
          "contourcarpet": [
           {
            "type": "contourcarpet",
            "colorbar": {
             "outlinewidth": 0,
             "ticks": ""
            }
           }
          ],
          "contour": [
           {
            "type": "contour",
            "colorbar": {
             "outlinewidth": 0,
             "ticks": ""
            },
            "colorscale": [
             [
              0.0,
              "#0d0887"
             ],
             [
              0.1111111111111111,
              "#46039f"
             ],
             [
              0.2222222222222222,
              "#7201a8"
             ],
             [
              0.3333333333333333,
              "#9c179e"
             ],
             [
              0.4444444444444444,
              "#bd3786"
             ],
             [
              0.5555555555555556,
              "#d8576b"
             ],
             [
              0.6666666666666666,
              "#ed7953"
             ],
             [
              0.7777777777777778,
              "#fb9f3a"
             ],
             [
              0.8888888888888888,
              "#fdca26"
             ],
             [
              1.0,
              "#f0f921"
             ]
            ]
           }
          ],
          "surface": [
           {
            "type": "surface",
            "colorbar": {
             "outlinewidth": 0,
             "ticks": ""
            },
            "colorscale": [
             [
              0.0,
              "#0d0887"
             ],
             [
              0.1111111111111111,
              "#46039f"
             ],
             [
              0.2222222222222222,
              "#7201a8"
             ],
             [
              0.3333333333333333,
              "#9c179e"
             ],
             [
              0.4444444444444444,
              "#bd3786"
             ],
             [
              0.5555555555555556,
              "#d8576b"
             ],
             [
              0.6666666666666666,
              "#ed7953"
             ],
             [
              0.7777777777777778,
              "#fb9f3a"
             ],
             [
              0.8888888888888888,
              "#fdca26"
             ],
             [
              1.0,
              "#f0f921"
             ]
            ]
           }
          ],
          "mesh3d": [
           {
            "type": "mesh3d",
            "colorbar": {
             "outlinewidth": 0,
             "ticks": ""
            }
           }
          ],
          "scatter": [
           {
            "fillpattern": {
             "fillmode": "overlay",
             "size": 10,
             "solidity": 0.2
            },
            "type": "scatter"
           }
          ],
          "parcoords": [
           {
            "type": "parcoords",
            "line": {
             "colorbar": {
              "outlinewidth": 0,
              "ticks": ""
             }
            }
           }
          ],
          "scatterpolargl": [
           {
            "type": "scatterpolargl",
            "marker": {
             "colorbar": {
              "outlinewidth": 0,
              "ticks": ""
             }
            }
           }
          ],
          "bar": [
           {
            "error_x": {
             "color": "#2a3f5f"
            },
            "error_y": {
             "color": "#2a3f5f"
            },
            "marker": {
             "line": {
              "color": "#E5ECF6",
              "width": 0.5
             },
             "pattern": {
              "fillmode": "overlay",
              "size": 10,
              "solidity": 0.2
             }
            },
            "type": "bar"
           }
          ],
          "scattergeo": [
           {
            "type": "scattergeo",
            "marker": {
             "colorbar": {
              "outlinewidth": 0,
              "ticks": ""
             }
            }
           }
          ],
          "scatterpolar": [
           {
            "type": "scatterpolar",
            "marker": {
             "colorbar": {
              "outlinewidth": 0,
              "ticks": ""
             }
            }
           }
          ],
          "histogram": [
           {
            "marker": {
             "pattern": {
              "fillmode": "overlay",
              "size": 10,
              "solidity": 0.2
             }
            },
            "type": "histogram"
           }
          ],
          "scattergl": [
           {
            "type": "scattergl",
            "marker": {
             "colorbar": {
              "outlinewidth": 0,
              "ticks": ""
             }
            }
           }
          ],
          "scatter3d": [
           {
            "type": "scatter3d",
            "line": {
             "colorbar": {
              "outlinewidth": 0,
              "ticks": ""
             }
            },
            "marker": {
             "colorbar": {
              "outlinewidth": 0,
              "ticks": ""
             }
            }
           }
          ],
          "scattermapbox": [
           {
            "type": "scattermapbox",
            "marker": {
             "colorbar": {
              "outlinewidth": 0,
              "ticks": ""
             }
            }
           }
          ],
          "scatterternary": [
           {
            "type": "scatterternary",
            "marker": {
             "colorbar": {
              "outlinewidth": 0,
              "ticks": ""
             }
            }
           }
          ],
          "scattercarpet": [
           {
            "type": "scattercarpet",
            "marker": {
             "colorbar": {
              "outlinewidth": 0,
              "ticks": ""
             }
            }
           }
          ],
          "carpet": [
           {
            "aaxis": {
             "endlinecolor": "#2a3f5f",
             "gridcolor": "white",
             "linecolor": "white",
             "minorgridcolor": "white",
             "startlinecolor": "#2a3f5f"
            },
            "baxis": {
             "endlinecolor": "#2a3f5f",
             "gridcolor": "white",
             "linecolor": "white",
             "minorgridcolor": "white",
             "startlinecolor": "#2a3f5f"
            },
            "type": "carpet"
           }
          ],
          "table": [
           {
            "cells": {
             "fill": {
              "color": "#EBF0F8"
             },
             "line": {
              "color": "white"
             }
            },
            "header": {
             "fill": {
              "color": "#C8D4E3"
             },
             "line": {
              "color": "white"
             }
            },
            "type": "table"
           }
          ],
          "barpolar": [
           {
            "marker": {
             "line": {
              "color": "#E5ECF6",
              "width": 0.5
             },
             "pattern": {
              "fillmode": "overlay",
              "size": 10,
              "solidity": 0.2
             }
            },
            "type": "barpolar"
           }
          ],
          "pie": [
           {
            "automargin": true,
            "type": "pie"
           }
          ]
         },
         "layout": {
          "autotypenumbers": "strict",
          "colorway": [
           "#636efa",
           "#EF553B",
           "#00cc96",
           "#ab63fa",
           "#FFA15A",
           "#19d3f3",
           "#FF6692",
           "#B6E880",
           "#FF97FF",
           "#FECB52"
          ],
          "font": {
           "color": "#2a3f5f"
          },
          "hovermode": "closest",
          "hoverlabel": {
           "align": "left"
          },
          "paper_bgcolor": "white",
          "plot_bgcolor": "#E5ECF6",
          "polar": {
           "bgcolor": "#E5ECF6",
           "angularaxis": {
            "gridcolor": "white",
            "linecolor": "white",
            "ticks": ""
           },
           "radialaxis": {
            "gridcolor": "white",
            "linecolor": "white",
            "ticks": ""
           }
          },
          "ternary": {
           "bgcolor": "#E5ECF6",
           "aaxis": {
            "gridcolor": "white",
            "linecolor": "white",
            "ticks": ""
           },
           "baxis": {
            "gridcolor": "white",
            "linecolor": "white",
            "ticks": ""
           },
           "caxis": {
            "gridcolor": "white",
            "linecolor": "white",
            "ticks": ""
           }
          },
          "coloraxis": {
           "colorbar": {
            "outlinewidth": 0,
            "ticks": ""
           }
          },
          "colorscale": {
           "sequential": [
            [
             0.0,
             "#0d0887"
            ],
            [
             0.1111111111111111,
             "#46039f"
            ],
            [
             0.2222222222222222,
             "#7201a8"
            ],
            [
             0.3333333333333333,
             "#9c179e"
            ],
            [
             0.4444444444444444,
             "#bd3786"
            ],
            [
             0.5555555555555556,
             "#d8576b"
            ],
            [
             0.6666666666666666,
             "#ed7953"
            ],
            [
             0.7777777777777778,
             "#fb9f3a"
            ],
            [
             0.8888888888888888,
             "#fdca26"
            ],
            [
             1.0,
             "#f0f921"
            ]
           ],
           "sequentialminus": [
            [
             0.0,
             "#0d0887"
            ],
            [
             0.1111111111111111,
             "#46039f"
            ],
            [
             0.2222222222222222,
             "#7201a8"
            ],
            [
             0.3333333333333333,
             "#9c179e"
            ],
            [
             0.4444444444444444,
             "#bd3786"
            ],
            [
             0.5555555555555556,
             "#d8576b"
            ],
            [
             0.6666666666666666,
             "#ed7953"
            ],
            [
             0.7777777777777778,
             "#fb9f3a"
            ],
            [
             0.8888888888888888,
             "#fdca26"
            ],
            [
             1.0,
             "#f0f921"
            ]
           ],
           "diverging": [
            [
             0,
             "#8e0152"
            ],
            [
             0.1,
             "#c51b7d"
            ],
            [
             0.2,
             "#de77ae"
            ],
            [
             0.3,
             "#f1b6da"
            ],
            [
             0.4,
             "#fde0ef"
            ],
            [
             0.5,
             "#f7f7f7"
            ],
            [
             0.6,
             "#e6f5d0"
            ],
            [
             0.7,
             "#b8e186"
            ],
            [
             0.8,
             "#7fbc41"
            ],
            [
             0.9,
             "#4d9221"
            ],
            [
             1,
             "#276419"
            ]
           ]
          },
          "xaxis": {
           "gridcolor": "white",
           "linecolor": "white",
           "ticks": "",
           "title": {
            "standoff": 15
           },
           "zerolinecolor": "white",
           "automargin": true,
           "zerolinewidth": 2
          },
          "yaxis": {
           "gridcolor": "white",
           "linecolor": "white",
           "ticks": "",
           "title": {
            "standoff": 15
           },
           "zerolinecolor": "white",
           "automargin": true,
           "zerolinewidth": 2
          },
          "scene": {
           "xaxis": {
            "backgroundcolor": "#E5ECF6",
            "gridcolor": "white",
            "linecolor": "white",
            "showbackground": true,
            "ticks": "",
            "zerolinecolor": "white",
            "gridwidth": 2
           },
           "yaxis": {
            "backgroundcolor": "#E5ECF6",
            "gridcolor": "white",
            "linecolor": "white",
            "showbackground": true,
            "ticks": "",
            "zerolinecolor": "white",
            "gridwidth": 2
           },
           "zaxis": {
            "backgroundcolor": "#E5ECF6",
            "gridcolor": "white",
            "linecolor": "white",
            "showbackground": true,
            "ticks": "",
            "zerolinecolor": "white",
            "gridwidth": 2
           }
          },
          "shapedefaults": {
           "line": {
            "color": "#2a3f5f"
           }
          },
          "annotationdefaults": {
           "arrowcolor": "#2a3f5f",
           "arrowhead": 0,
           "arrowwidth": 1
          },
          "geo": {
           "bgcolor": "white",
           "landcolor": "#E5ECF6",
           "subunitcolor": "white",
           "showland": true,
           "showlakes": true,
           "lakecolor": "white"
          },
          "title": {
           "x": 0.05
          },
          "mapbox": {
           "style": "light"
          }
         }
        },
        "xaxis": {
         "anchor": "y",
         "domain": [
          0.0,
          1.0
         ],
         "title": {
          "font": {
           "family": "Calibri",
           "size": 20,
           "color": "black"
          },
          "standoff": 2
         },
         "tickfont": {
          "family": "Calibri",
          "size": 18,
          "color": "black"
         },
         "showline": false,
         "showgrid": false,
         "gridcolor": "lightgray",
         "gridwidth": 1,
         "zeroline": false,
         "zerolinecolor": "lightgray",
         "zerolinewidth": 2
        },
        "yaxis": {
         "anchor": "x",
         "domain": [
          0.5375,
          1.0
         ],
         "title": {
          "font": {
           "family": "Calibri",
           "size": 20,
           "color": "black"
          },
          "standoff": 2,
          "text": "$d^{\\prime}$"
         },
         "tickfont": {
          "family": "Calibri",
          "size": 18,
          "color": "black"
         },
         "showline": false,
         "showgrid": true,
         "gridcolor": "lightgray",
         "gridwidth": 1,
         "zeroline": true,
         "zerolinecolor": "lightgray",
         "zerolinewidth": 2
        },
        "xaxis2": {
         "anchor": "y2",
         "domain": [
          0.0,
          0.23125
         ],
         "matches": "x6",
         "showticklabels": false,
         "title": {
          "font": {
           "family": "Calibri",
           "size": 20,
           "color": "black"
          },
          "standoff": 2
         },
         "tickfont": {
          "family": "Calibri",
          "size": 18,
          "color": "black"
         },
         "showline": false,
         "showgrid": false,
         "gridcolor": "lightgray",
         "gridwidth": 1,
         "zeroline": false,
         "zerolinecolor": "lightgray",
         "zerolinewidth": 2
        },
        "yaxis2": {
         "anchor": "x2",
         "domain": [
          0.26875,
          0.4625
         ],
         "title": {
          "font": {
           "family": "Calibri",
           "size": 20,
           "color": "black"
          },
          "standoff": 2,
          "text": "$d^{\\prime}$"
         },
         "tickfont": {
          "family": "Calibri",
          "size": 18,
          "color": "black"
         },
         "showline": false,
         "showgrid": true,
         "gridcolor": "lightgray",
         "gridwidth": 1,
         "zeroline": true,
         "zerolinecolor": "lightgray",
         "zerolinewidth": 2
        },
        "xaxis3": {
         "anchor": "y3",
         "domain": [
          0.25625000000000003,
          0.48750000000000004
         ],
         "matches": "x7",
         "showticklabels": false,
         "title": {
          "font": {
           "family": "Calibri",
           "size": 20,
           "color": "black"
          },
          "standoff": 2
         },
         "tickfont": {
          "family": "Calibri",
          "size": 18,
          "color": "black"
         },
         "showline": false,
         "showgrid": false,
         "gridcolor": "lightgray",
         "gridwidth": 1,
         "zeroline": false,
         "zerolinecolor": "lightgray",
         "zerolinewidth": 2
        },
        "yaxis3": {
         "anchor": "x3",
         "domain": [
          0.26875,
          0.4625
         ],
         "matches": "y2",
         "showticklabels": false,
         "title": {
          "font": {
           "family": "Calibri",
           "size": 20,
           "color": "black"
          },
          "standoff": 2
         },
         "tickfont": {
          "family": "Calibri",
          "size": 18,
          "color": "black"
         },
         "showline": false,
         "showgrid": true,
         "gridcolor": "lightgray",
         "gridwidth": 1,
         "zeroline": true,
         "zerolinecolor": "lightgray",
         "zerolinewidth": 2
        },
        "xaxis4": {
         "anchor": "y4",
         "domain": [
          0.5125000000000001,
          0.7437500000000001
         ],
         "matches": "x8",
         "showticklabels": false,
         "title": {
          "font": {
           "family": "Calibri",
           "size": 20,
           "color": "black"
          },
          "standoff": 2
         },
         "tickfont": {
          "family": "Calibri",
          "size": 18,
          "color": "black"
         },
         "showline": false,
         "showgrid": false,
         "gridcolor": "lightgray",
         "gridwidth": 1,
         "zeroline": false,
         "zerolinecolor": "lightgray",
         "zerolinewidth": 2
        },
        "yaxis4": {
         "anchor": "x4",
         "domain": [
          0.26875,
          0.4625
         ],
         "matches": "y2",
         "showticklabels": false,
         "title": {
          "font": {
           "family": "Calibri",
           "size": 20,
           "color": "black"
          },
          "standoff": 2
         },
         "tickfont": {
          "family": "Calibri",
          "size": 18,
          "color": "black"
         },
         "showline": false,
         "showgrid": true,
         "gridcolor": "lightgray",
         "gridwidth": 1,
         "zeroline": true,
         "zerolinecolor": "lightgray",
         "zerolinewidth": 2
        },
        "xaxis5": {
         "anchor": "y5",
         "domain": [
          0.76875,
          1.0
         ],
         "matches": "x9",
         "showticklabels": false,
         "title": {
          "font": {
           "family": "Calibri",
           "size": 20,
           "color": "black"
          },
          "standoff": 2
         },
         "tickfont": {
          "family": "Calibri",
          "size": 18,
          "color": "black"
         },
         "showline": false,
         "showgrid": false,
         "gridcolor": "lightgray",
         "gridwidth": 1,
         "zeroline": false,
         "zerolinecolor": "lightgray",
         "zerolinewidth": 2
        },
        "yaxis5": {
         "anchor": "x5",
         "domain": [
          0.26875,
          0.4625
         ],
         "matches": "y2",
         "showticklabels": false,
         "title": {
          "font": {
           "family": "Calibri",
           "size": 20,
           "color": "black"
          },
          "standoff": 2
         },
         "tickfont": {
          "family": "Calibri",
          "size": 18,
          "color": "black"
         },
         "showline": false,
         "showgrid": true,
         "gridcolor": "lightgray",
         "gridwidth": 1,
         "zeroline": true,
         "zerolinecolor": "lightgray",
         "zerolinewidth": 2
        },
        "xaxis6": {
         "anchor": "y6",
         "domain": [
          0.0,
          0.23125
         ],
         "title": {
          "font": {
           "family": "Calibri",
           "size": 20,
           "color": "black"
          },
          "standoff": 2
         },
         "tickfont": {
          "family": "Calibri",
          "size": 18,
          "color": "black"
         },
         "showline": false,
         "showgrid": false,
         "gridcolor": "lightgray",
         "gridwidth": 1,
         "zeroline": false,
         "zerolinecolor": "lightgray",
         "zerolinewidth": 2
        },
        "yaxis6": {
         "anchor": "x6",
         "domain": [
          0.0,
          0.19375
         ],
         "title": {
          "font": {
           "family": "Calibri",
           "size": 20,
           "color": "black"
          },
          "standoff": 2,
          "text": "$d^{\\prime}$"
         },
         "tickfont": {
          "family": "Calibri",
          "size": 18,
          "color": "black"
         },
         "showline": false,
         "showgrid": true,
         "gridcolor": "lightgray",
         "gridwidth": 1,
         "zeroline": true,
         "zerolinecolor": "lightgray",
         "zerolinewidth": 2
        },
        "xaxis7": {
         "anchor": "y7",
         "domain": [
          0.25625000000000003,
          0.48750000000000004
         ],
         "title": {
          "font": {
           "family": "Calibri",
           "size": 20,
           "color": "black"
          },
          "standoff": 2
         },
         "tickfont": {
          "family": "Calibri",
          "size": 18,
          "color": "black"
         },
         "showline": false,
         "showgrid": false,
         "gridcolor": "lightgray",
         "gridwidth": 1,
         "zeroline": false,
         "zerolinecolor": "lightgray",
         "zerolinewidth": 2
        },
        "yaxis7": {
         "anchor": "x7",
         "domain": [
          0.0,
          0.19375
         ],
         "matches": "y6",
         "showticklabels": false,
         "title": {
          "font": {
           "family": "Calibri",
           "size": 20,
           "color": "black"
          },
          "standoff": 2
         },
         "tickfont": {
          "family": "Calibri",
          "size": 18,
          "color": "black"
         },
         "showline": false,
         "showgrid": true,
         "gridcolor": "lightgray",
         "gridwidth": 1,
         "zeroline": true,
         "zerolinecolor": "lightgray",
         "zerolinewidth": 2
        },
        "xaxis8": {
         "anchor": "y8",
         "domain": [
          0.5125000000000001,
          0.7437500000000001
         ],
         "title": {
          "font": {
           "family": "Calibri",
           "size": 20,
           "color": "black"
          },
          "standoff": 2
         },
         "tickfont": {
          "family": "Calibri",
          "size": 18,
          "color": "black"
         },
         "showline": false,
         "showgrid": false,
         "gridcolor": "lightgray",
         "gridwidth": 1,
         "zeroline": false,
         "zerolinecolor": "lightgray",
         "zerolinewidth": 2
        },
        "yaxis8": {
         "anchor": "x8",
         "domain": [
          0.0,
          0.19375
         ],
         "matches": "y6",
         "showticklabels": false,
         "title": {
          "font": {
           "family": "Calibri",
           "size": 20,
           "color": "black"
          },
          "standoff": 2
         },
         "tickfont": {
          "family": "Calibri",
          "size": 18,
          "color": "black"
         },
         "showline": false,
         "showgrid": true,
         "gridcolor": "lightgray",
         "gridwidth": 1,
         "zeroline": true,
         "zerolinecolor": "lightgray",
         "zerolinewidth": 2
        },
        "xaxis9": {
         "anchor": "y9",
         "domain": [
          0.76875,
          1.0
         ],
         "title": {
          "font": {
           "family": "Calibri",
           "size": 20,
           "color": "black"
          },
          "standoff": 2
         },
         "tickfont": {
          "family": "Calibri",
          "size": 18,
          "color": "black"
         },
         "showline": false,
         "showgrid": false,
         "gridcolor": "lightgray",
         "gridwidth": 1,
         "zeroline": false,
         "zerolinecolor": "lightgray",
         "zerolinewidth": 2
        },
        "yaxis9": {
         "anchor": "x9",
         "domain": [
          0.0,
          0.19375
         ],
         "matches": "y6",
         "showticklabels": false,
         "title": {
          "font": {
           "family": "Calibri",
           "size": 20,
           "color": "black"
          },
          "standoff": 2
         },
         "tickfont": {
          "family": "Calibri",
          "size": 18,
          "color": "black"
         },
         "showline": false,
         "showgrid": true,
         "gridcolor": "lightgray",
         "gridwidth": 1,
         "zeroline": true,
         "zerolinecolor": "lightgray",
         "zerolinewidth": 2
        },
        "annotations": [
         {
          "font": {
           "size": 20,
           "family": "Calibri",
           "color": "black"
          },
          "showarrow": false,
          "text": "Overall",
          "x": 0.5,
          "xanchor": "center",
          "xref": "paper",
          "y": 1.0,
          "yanchor": "bottom",
          "yref": "paper",
          "textangle": 0
         },
         {
          "font": {
           "size": 20,
           "family": "Calibri",
           "color": "black"
          },
          "showarrow": false,
          "text": "<i>Ann. RA</i>",
          "x": 0.115625,
          "xanchor": "center",
          "xref": "paper",
          "y": 0.4625,
          "yanchor": "bottom",
          "yref": "paper",
          "textangle": 0
         },
         {
          "font": {
           "size": 20,
           "family": "Calibri",
           "color": "black"
          },
          "showarrow": false,
          "text": "I-VT",
          "x": 0.37187500000000007,
          "xanchor": "center",
          "xref": "paper",
          "y": 0.4625,
          "yanchor": "bottom",
          "yref": "paper",
          "textangle": 0
         },
         {
          "font": {
           "size": 20,
           "family": "Calibri",
           "color": "black"
          },
          "showarrow": false,
          "text": "I-VVT",
          "x": 0.628125,
          "xanchor": "center",
          "xref": "paper",
          "y": 0.4625,
          "yanchor": "bottom",
          "yref": "paper",
          "textangle": 0
         },
         {
          "font": {
           "size": 20,
           "family": "Calibri",
           "color": "black"
          },
          "showarrow": false,
          "text": "I-DT",
          "x": 0.884375,
          "xanchor": "center",
          "xref": "paper",
          "y": 0.4625,
          "yanchor": "bottom",
          "yref": "paper",
          "textangle": 0
         },
         {
          "font": {
           "size": 20,
           "family": "Calibri",
           "color": "black"
          },
          "showarrow": false,
          "text": "I-DVT",
          "x": 0.115625,
          "xanchor": "center",
          "xref": "paper",
          "y": 0.19375,
          "yanchor": "bottom",
          "yref": "paper",
          "textangle": 0
         },
         {
          "font": {
           "size": 20,
           "family": "Calibri",
           "color": "black"
          },
          "showarrow": false,
          "text": "ENGBERT",
          "x": 0.37187500000000007,
          "xanchor": "center",
          "xref": "paper",
          "y": 0.19375,
          "yanchor": "bottom",
          "yref": "paper",
          "textangle": 0
         },
         {
          "font": {
           "size": 20,
           "family": "Calibri",
           "color": "black"
          },
          "showarrow": false,
          "text": "NH",
          "x": 0.628125,
          "xanchor": "center",
          "xref": "paper",
          "y": 0.19375,
          "yanchor": "bottom",
          "yref": "paper",
          "textangle": 0
         },
         {
          "font": {
           "size": 20,
           "family": "Calibri",
           "color": "black"
          },
          "showarrow": false,
          "text": "REMoDNaV",
          "x": 0.884375,
          "xanchor": "center",
          "xref": "paper",
          "y": 0.19375,
          "yanchor": "bottom",
          "yref": "paper",
          "textangle": 0
         }
        ],
        "font": {
         "family": "Calibri"
        },
        "margin": {
         "l": 0,
         "r": 0,
         "t": 35,
         "b": 0,
         "pad": 0
        },
        "legend": {
         "font": {
          "family": "Calibri",
          "size": 20,
          "color": "black"
         },
         "orientation": "h",
         "yanchor": "top",
         "xanchor": "center",
         "xref": "paper",
         "yref": "paper",
         "x": 0.12,
         "y": 0.98,
         "itemwidth": 30
        },
        "title": {},
        "width": 900,
        "height": 750,
        "paper_bgcolor": "rgba(0, 0, 0, 0)",
        "plot_bgcolor": "rgba(0, 0, 0, 0)"
       },
       "config": {
        "plotlyServerURL": "https://plot.ly"
       }
      },
      "text/html": [
       "<div>                            <div id=\"baed8071-8328-400d-a1c7-feab660a1060\" class=\"plotly-graph-div\" style=\"height:750px; width:900px;\"></div>            <script type=\"text/javascript\">                require([\"plotly\"], function(Plotly) {                    window.PLOTLYENV=window.PLOTLYENV || {};                                    if (document.getElementById(\"baed8071-8328-400d-a1c7-feab660a1060\")) {                    Plotly.newPlot(                        \"baed8071-8328-400d-a1c7-feab660a1060\",                        [{\"alignmentgroup\":\"True\",\"error_y\":{\"array\":[0.39529524112489534,0.5721108743180217]},\"hovertemplate\":\"channel_type=onset\\u003cbr\\u003eEvent Type=%{x}\\u003cbr\\u003eMean=%{y}\\u003cextra\\u003e\\u003c\\u002fextra\\u003e\",\"legendgroup\":\"onset\",\"marker\":{\"color\":\"#636efa\",\"pattern\":{\"shape\":\"\"}},\"name\":\"onset\",\"offsetgroup\":\"onset\",\"orientation\":\"v\",\"showlegend\":false,\"textposition\":\"auto\",\"x\":[\"fixation\",\"saccade\"],\"xaxis\":\"x2\",\"y\":[3.0246963930400446,4.940378811217213],\"yaxis\":\"y2\",\"type\":\"bar\"},{\"alignmentgroup\":\"True\",\"error_y\":{\"array\":[0.656635934770663,0.6693129709777954]},\"hovertemplate\":\"channel_type=offset\\u003cbr\\u003eEvent Type=%{x}\\u003cbr\\u003eMean=%{y}\\u003cextra\\u003e\\u003c\\u002fextra\\u003e\",\"legendgroup\":\"offset\",\"marker\":{\"color\":\"#EF553B\",\"pattern\":{\"shape\":\"\"}},\"name\":\"offset\",\"offsetgroup\":\"offset\",\"orientation\":\"v\",\"showlegend\":false,\"textposition\":\"auto\",\"x\":[\"fixation\",\"saccade\"],\"xaxis\":\"x2\",\"y\":[4.384282502655453,4.001424947046758],\"yaxis\":\"y2\",\"type\":\"bar\"},{\"alignmentgroup\":\"True\",\"error_y\":{\"array\":[0.3007901781553661,0.8772421552427885]},\"hovertemplate\":\"channel_type=onset\\u003cbr\\u003eEvent Type=%{x}\\u003cbr\\u003eMean=%{y}\\u003cextra\\u003e\\u003c\\u002fextra\\u003e\",\"legendgroup\":\"onset\",\"marker\":{\"color\":\"#636efa\",\"pattern\":{\"shape\":\"\"}},\"name\":\"onset\",\"offsetgroup\":\"onset\",\"orientation\":\"v\",\"showlegend\":false,\"textposition\":\"auto\",\"x\":[\"fixation\",\"saccade\"],\"xaxis\":\"x3\",\"y\":[1.9638203466653656,3.956699977988971],\"yaxis\":\"y3\",\"type\":\"bar\"},{\"alignmentgroup\":\"True\",\"error_y\":{\"array\":[0.8725906990648713,1.0984821041660195]},\"hovertemplate\":\"channel_type=offset\\u003cbr\\u003eEvent Type=%{x}\\u003cbr\\u003eMean=%{y}\\u003cextra\\u003e\\u003c\\u002fextra\\u003e\",\"legendgroup\":\"offset\",\"marker\":{\"color\":\"#EF553B\",\"pattern\":{\"shape\":\"\"}},\"name\":\"offset\",\"offsetgroup\":\"offset\",\"orientation\":\"v\",\"showlegend\":false,\"textposition\":\"auto\",\"x\":[\"fixation\",\"saccade\"],\"xaxis\":\"x3\",\"y\":[4.075000967265771,2.068510099337308],\"yaxis\":\"y3\",\"type\":\"bar\"},{\"alignmentgroup\":\"True\",\"error_y\":{\"array\":[0.7418622150109666,0.7403470936441527]},\"hovertemplate\":\"channel_type=onset\\u003cbr\\u003eEvent Type=%{x}\\u003cbr\\u003eMean=%{y}\\u003cextra\\u003e\\u003c\\u002fextra\\u003e\",\"legendgroup\":\"onset\",\"marker\":{\"color\":\"#636efa\",\"pattern\":{\"shape\":\"\"}},\"name\":\"onset\",\"offsetgroup\":\"onset\",\"orientation\":\"v\",\"showlegend\":false,\"textposition\":\"auto\",\"x\":[\"fixation\",\"saccade\"],\"xaxis\":\"x4\",\"y\":[2.4427139894983196,3.9453063390434404],\"yaxis\":\"y4\",\"type\":\"bar\"},{\"alignmentgroup\":\"True\",\"error_y\":{\"array\":[0.9710625567820745,1.0443149976216608]},\"hovertemplate\":\"channel_type=offset\\u003cbr\\u003eEvent Type=%{x}\\u003cbr\\u003eMean=%{y}\\u003cextra\\u003e\\u003c\\u002fextra\\u003e\",\"legendgroup\":\"offset\",\"marker\":{\"color\":\"#EF553B\",\"pattern\":{\"shape\":\"\"}},\"name\":\"offset\",\"offsetgroup\":\"offset\",\"orientation\":\"v\",\"showlegend\":false,\"textposition\":\"auto\",\"x\":[\"fixation\",\"saccade\"],\"xaxis\":\"x4\",\"y\":[4.0166090171937165,2.148210090573542],\"yaxis\":\"y4\",\"type\":\"bar\"},{\"alignmentgroup\":\"True\",\"error_y\":{\"array\":[0.5413944273848608,0.42755662593636934]},\"hovertemplate\":\"channel_type=onset\\u003cbr\\u003eEvent Type=%{x}\\u003cbr\\u003eMean=%{y}\\u003cextra\\u003e\\u003c\\u002fextra\\u003e\",\"legendgroup\":\"onset\",\"marker\":{\"color\":\"#636efa\",\"pattern\":{\"shape\":\"\"}},\"name\":\"onset\",\"offsetgroup\":\"onset\",\"orientation\":\"v\",\"showlegend\":false,\"textposition\":\"auto\",\"x\":[\"fixation\",\"saccade\"],\"xaxis\":\"x5\",\"y\":[0.10233477407682931,2.106968999663155],\"yaxis\":\"y5\",\"type\":\"bar\"},{\"alignmentgroup\":\"True\",\"error_y\":{\"array\":[0.34891627390997915,0.6902122727687627]},\"hovertemplate\":\"channel_type=offset\\u003cbr\\u003eEvent Type=%{x}\\u003cbr\\u003eMean=%{y}\\u003cextra\\u003e\\u003c\\u002fextra\\u003e\",\"legendgroup\":\"offset\",\"marker\":{\"color\":\"#EF553B\",\"pattern\":{\"shape\":\"\"}},\"name\":\"offset\",\"offsetgroup\":\"offset\",\"orientation\":\"v\",\"showlegend\":false,\"textposition\":\"auto\",\"x\":[\"fixation\",\"saccade\"],\"xaxis\":\"x5\",\"y\":[2.2890986550998433,0.7756976502575341],\"yaxis\":\"y5\",\"type\":\"bar\"},{\"alignmentgroup\":\"True\",\"error_y\":{\"array\":[0.531428247963916,0.42526590219594324]},\"hovertemplate\":\"channel_type=onset\\u003cbr\\u003eEvent Type=%{x}\\u003cbr\\u003eMean=%{y}\\u003cextra\\u003e\\u003c\\u002fextra\\u003e\",\"legendgroup\":\"onset\",\"marker\":{\"color\":\"#636efa\",\"pattern\":{\"shape\":\"\"}},\"name\":\"onset\",\"offsetgroup\":\"onset\",\"orientation\":\"v\",\"showlegend\":false,\"textposition\":\"auto\",\"x\":[\"fixation\",\"saccade\"],\"xaxis\":\"x6\",\"y\":[0.119928607252189,2.175007875075571],\"yaxis\":\"y6\",\"type\":\"bar\"},{\"alignmentgroup\":\"True\",\"error_y\":{\"array\":[0.3589482131536149,0.6981899884498071]},\"hovertemplate\":\"channel_type=offset\\u003cbr\\u003eEvent Type=%{x}\\u003cbr\\u003eMean=%{y}\\u003cextra\\u003e\\u003c\\u002fextra\\u003e\",\"legendgroup\":\"offset\",\"marker\":{\"color\":\"#EF553B\",\"pattern\":{\"shape\":\"\"}},\"name\":\"offset\",\"offsetgroup\":\"offset\",\"orientation\":\"v\",\"showlegend\":false,\"textposition\":\"auto\",\"x\":[\"fixation\",\"saccade\"],\"xaxis\":\"x6\",\"y\":[2.3480575781270177,0.7885884024183768],\"yaxis\":\"y6\",\"type\":\"bar\"},{\"alignmentgroup\":\"True\",\"error_y\":{\"array\":[0.6433650163737914,0.7503637506938092]},\"hovertemplate\":\"channel_type=onset\\u003cbr\\u003eEvent Type=%{x}\\u003cbr\\u003eMean=%{y}\\u003cextra\\u003e\\u003c\\u002fextra\\u003e\",\"legendgroup\":\"onset\",\"marker\":{\"color\":\"#636efa\",\"pattern\":{\"shape\":\"\"}},\"name\":\"onset\",\"offsetgroup\":\"onset\",\"orientation\":\"v\",\"showlegend\":false,\"textposition\":\"auto\",\"x\":[\"fixation\",\"saccade\"],\"xaxis\":\"x7\",\"y\":[2.8431479033279485,4.231659375772045],\"yaxis\":\"y7\",\"type\":\"bar\"},{\"alignmentgroup\":\"True\",\"error_y\":{\"array\":[0.7303182167386878,0.6682712910242067]},\"hovertemplate\":\"channel_type=offset\\u003cbr\\u003eEvent Type=%{x}\\u003cbr\\u003eMean=%{y}\\u003cextra\\u003e\\u003c\\u002fextra\\u003e\",\"legendgroup\":\"offset\",\"marker\":{\"color\":\"#EF553B\",\"pattern\":{\"shape\":\"\"}},\"name\":\"offset\",\"offsetgroup\":\"offset\",\"orientation\":\"v\",\"showlegend\":false,\"textposition\":\"auto\",\"x\":[\"fixation\",\"saccade\"],\"xaxis\":\"x7\",\"y\":[4.38596324436869,1.353610630829314],\"yaxis\":\"y7\",\"type\":\"bar\"},{\"alignmentgroup\":\"True\",\"error_y\":{\"array\":[1.0925986555200478,0.7386942354169322]},\"hovertemplate\":\"channel_type=onset\\u003cbr\\u003eEvent Type=%{x}\\u003cbr\\u003eMean=%{y}\\u003cextra\\u003e\\u003c\\u002fextra\\u003e\",\"legendgroup\":\"onset\",\"marker\":{\"color\":\"#636efa\",\"pattern\":{\"shape\":\"\"}},\"name\":\"onset\",\"offsetgroup\":\"onset\",\"orientation\":\"v\",\"showlegend\":false,\"textposition\":\"auto\",\"x\":[\"fixation\",\"saccade\"],\"xaxis\":\"x8\",\"y\":[2.1180915908683935,1.8139639588565886],\"yaxis\":\"y8\",\"type\":\"bar\"},{\"alignmentgroup\":\"True\",\"error_y\":{\"array\":[0.7554941282370425,0.6972031819035649]},\"hovertemplate\":\"channel_type=offset\\u003cbr\\u003eEvent Type=%{x}\\u003cbr\\u003eMean=%{y}\\u003cextra\\u003e\\u003c\\u002fextra\\u003e\",\"legendgroup\":\"offset\",\"marker\":{\"color\":\"#EF553B\",\"pattern\":{\"shape\":\"\"}},\"name\":\"offset\",\"offsetgroup\":\"offset\",\"orientation\":\"v\",\"showlegend\":false,\"textposition\":\"auto\",\"x\":[\"fixation\",\"saccade\"],\"xaxis\":\"x8\",\"y\":[1.8719047142118779,1.9037040373158405],\"yaxis\":\"y8\",\"type\":\"bar\"},{\"alignmentgroup\":\"True\",\"error_y\":{\"array\":[0.2666736347669214,0.36731318988084116]},\"hovertemplate\":\"channel_type=onset\\u003cbr\\u003eEvent Type=%{x}\\u003cbr\\u003eMean=%{y}\\u003cextra\\u003e\\u003c\\u002fextra\\u003e\",\"legendgroup\":\"onset\",\"marker\":{\"color\":\"#636efa\",\"pattern\":{\"shape\":\"\"}},\"name\":\"onset\",\"offsetgroup\":\"onset\",\"orientation\":\"v\",\"showlegend\":false,\"textposition\":\"auto\",\"x\":[\"fixation\",\"saccade\"],\"xaxis\":\"x9\",\"y\":[1.507858624513762,2.439879358571489],\"yaxis\":\"y9\",\"type\":\"bar\"},{\"alignmentgroup\":\"True\",\"error_y\":{\"array\":[0.7805346820461496,0.8569537071453972]},\"hovertemplate\":\"channel_type=offset\\u003cbr\\u003eEvent Type=%{x}\\u003cbr\\u003eMean=%{y}\\u003cextra\\u003e\\u003c\\u002fextra\\u003e\",\"legendgroup\":\"offset\",\"marker\":{\"color\":\"#EF553B\",\"pattern\":{\"shape\":\"\"}},\"name\":\"offset\",\"offsetgroup\":\"offset\",\"orientation\":\"v\",\"showlegend\":false,\"textposition\":\"auto\",\"x\":[\"fixation\",\"saccade\"],\"xaxis\":\"x9\",\"y\":[0.8694273108592994,0.7378575755223543],\"yaxis\":\"y9\",\"type\":\"bar\"},{\"alignmentgroup\":\"True\",\"error_y\":{\"array\":[0.38921230026996617,0.36463442378473176]},\"hovertemplate\":\"channel_type=onset\\u003cbr\\u003eEvent Type=%{x}\\u003cbr\\u003eMean=%{y}\\u003cextra\\u003e\\u003c\\u002fextra\\u003e\",\"legendgroup\":\"onset\",\"marker\":{\"color\":\"#636efa\",\"pattern\":{\"shape\":\"\"}},\"name\":\"onset\",\"offsetgroup\":\"onset\",\"orientation\":\"v\",\"showlegend\":true,\"textposition\":\"auto\",\"x\":[\"fixation\",\"saccade\"],\"xaxis\":\"x\",\"y\":[1.5854136908861152,2.9527836978530373],\"yaxis\":\"y\",\"type\":\"bar\"},{\"alignmentgroup\":\"True\",\"error_y\":{\"array\":[0.41003463585621613,0.38183632541464846]},\"hovertemplate\":\"channel_type=offset\\u003cbr\\u003eEvent Type=%{x}\\u003cbr\\u003eMean=%{y}\\u003cextra\\u003e\\u003c\\u002fextra\\u003e\",\"legendgroup\":\"offset\",\"marker\":{\"color\":\"#EF553B\",\"pattern\":{\"shape\":\"\"}},\"name\":\"offset\",\"offsetgroup\":\"offset\",\"orientation\":\"v\",\"showlegend\":true,\"textposition\":\"auto\",\"x\":[\"fixation\",\"saccade\"],\"xaxis\":\"x\",\"y\":[2.836580212446602,1.396596926607753],\"yaxis\":\"y\",\"type\":\"bar\"}],                        {\"template\":{\"data\":{\"histogram2dcontour\":[{\"type\":\"histogram2dcontour\",\"colorbar\":{\"outlinewidth\":0,\"ticks\":\"\"},\"colorscale\":[[0.0,\"#0d0887\"],[0.1111111111111111,\"#46039f\"],[0.2222222222222222,\"#7201a8\"],[0.3333333333333333,\"#9c179e\"],[0.4444444444444444,\"#bd3786\"],[0.5555555555555556,\"#d8576b\"],[0.6666666666666666,\"#ed7953\"],[0.7777777777777778,\"#fb9f3a\"],[0.8888888888888888,\"#fdca26\"],[1.0,\"#f0f921\"]]}],\"choropleth\":[{\"type\":\"choropleth\",\"colorbar\":{\"outlinewidth\":0,\"ticks\":\"\"}}],\"histogram2d\":[{\"type\":\"histogram2d\",\"colorbar\":{\"outlinewidth\":0,\"ticks\":\"\"},\"colorscale\":[[0.0,\"#0d0887\"],[0.1111111111111111,\"#46039f\"],[0.2222222222222222,\"#7201a8\"],[0.3333333333333333,\"#9c179e\"],[0.4444444444444444,\"#bd3786\"],[0.5555555555555556,\"#d8576b\"],[0.6666666666666666,\"#ed7953\"],[0.7777777777777778,\"#fb9f3a\"],[0.8888888888888888,\"#fdca26\"],[1.0,\"#f0f921\"]]}],\"heatmap\":[{\"type\":\"heatmap\",\"colorbar\":{\"outlinewidth\":0,\"ticks\":\"\"},\"colorscale\":[[0.0,\"#0d0887\"],[0.1111111111111111,\"#46039f\"],[0.2222222222222222,\"#7201a8\"],[0.3333333333333333,\"#9c179e\"],[0.4444444444444444,\"#bd3786\"],[0.5555555555555556,\"#d8576b\"],[0.6666666666666666,\"#ed7953\"],[0.7777777777777778,\"#fb9f3a\"],[0.8888888888888888,\"#fdca26\"],[1.0,\"#f0f921\"]]}],\"heatmapgl\":[{\"type\":\"heatmapgl\",\"colorbar\":{\"outlinewidth\":0,\"ticks\":\"\"},\"colorscale\":[[0.0,\"#0d0887\"],[0.1111111111111111,\"#46039f\"],[0.2222222222222222,\"#7201a8\"],[0.3333333333333333,\"#9c179e\"],[0.4444444444444444,\"#bd3786\"],[0.5555555555555556,\"#d8576b\"],[0.6666666666666666,\"#ed7953\"],[0.7777777777777778,\"#fb9f3a\"],[0.8888888888888888,\"#fdca26\"],[1.0,\"#f0f921\"]]}],\"contourcarpet\":[{\"type\":\"contourcarpet\",\"colorbar\":{\"outlinewidth\":0,\"ticks\":\"\"}}],\"contour\":[{\"type\":\"contour\",\"colorbar\":{\"outlinewidth\":0,\"ticks\":\"\"},\"colorscale\":[[0.0,\"#0d0887\"],[0.1111111111111111,\"#46039f\"],[0.2222222222222222,\"#7201a8\"],[0.3333333333333333,\"#9c179e\"],[0.4444444444444444,\"#bd3786\"],[0.5555555555555556,\"#d8576b\"],[0.6666666666666666,\"#ed7953\"],[0.7777777777777778,\"#fb9f3a\"],[0.8888888888888888,\"#fdca26\"],[1.0,\"#f0f921\"]]}],\"surface\":[{\"type\":\"surface\",\"colorbar\":{\"outlinewidth\":0,\"ticks\":\"\"},\"colorscale\":[[0.0,\"#0d0887\"],[0.1111111111111111,\"#46039f\"],[0.2222222222222222,\"#7201a8\"],[0.3333333333333333,\"#9c179e\"],[0.4444444444444444,\"#bd3786\"],[0.5555555555555556,\"#d8576b\"],[0.6666666666666666,\"#ed7953\"],[0.7777777777777778,\"#fb9f3a\"],[0.8888888888888888,\"#fdca26\"],[1.0,\"#f0f921\"]]}],\"mesh3d\":[{\"type\":\"mesh3d\",\"colorbar\":{\"outlinewidth\":0,\"ticks\":\"\"}}],\"scatter\":[{\"fillpattern\":{\"fillmode\":\"overlay\",\"size\":10,\"solidity\":0.2},\"type\":\"scatter\"}],\"parcoords\":[{\"type\":\"parcoords\",\"line\":{\"colorbar\":{\"outlinewidth\":0,\"ticks\":\"\"}}}],\"scatterpolargl\":[{\"type\":\"scatterpolargl\",\"marker\":{\"colorbar\":{\"outlinewidth\":0,\"ticks\":\"\"}}}],\"bar\":[{\"error_x\":{\"color\":\"#2a3f5f\"},\"error_y\":{\"color\":\"#2a3f5f\"},\"marker\":{\"line\":{\"color\":\"#E5ECF6\",\"width\":0.5},\"pattern\":{\"fillmode\":\"overlay\",\"size\":10,\"solidity\":0.2}},\"type\":\"bar\"}],\"scattergeo\":[{\"type\":\"scattergeo\",\"marker\":{\"colorbar\":{\"outlinewidth\":0,\"ticks\":\"\"}}}],\"scatterpolar\":[{\"type\":\"scatterpolar\",\"marker\":{\"colorbar\":{\"outlinewidth\":0,\"ticks\":\"\"}}}],\"histogram\":[{\"marker\":{\"pattern\":{\"fillmode\":\"overlay\",\"size\":10,\"solidity\":0.2}},\"type\":\"histogram\"}],\"scattergl\":[{\"type\":\"scattergl\",\"marker\":{\"colorbar\":{\"outlinewidth\":0,\"ticks\":\"\"}}}],\"scatter3d\":[{\"type\":\"scatter3d\",\"line\":{\"colorbar\":{\"outlinewidth\":0,\"ticks\":\"\"}},\"marker\":{\"colorbar\":{\"outlinewidth\":0,\"ticks\":\"\"}}}],\"scattermapbox\":[{\"type\":\"scattermapbox\",\"marker\":{\"colorbar\":{\"outlinewidth\":0,\"ticks\":\"\"}}}],\"scatterternary\":[{\"type\":\"scatterternary\",\"marker\":{\"colorbar\":{\"outlinewidth\":0,\"ticks\":\"\"}}}],\"scattercarpet\":[{\"type\":\"scattercarpet\",\"marker\":{\"colorbar\":{\"outlinewidth\":0,\"ticks\":\"\"}}}],\"carpet\":[{\"aaxis\":{\"endlinecolor\":\"#2a3f5f\",\"gridcolor\":\"white\",\"linecolor\":\"white\",\"minorgridcolor\":\"white\",\"startlinecolor\":\"#2a3f5f\"},\"baxis\":{\"endlinecolor\":\"#2a3f5f\",\"gridcolor\":\"white\",\"linecolor\":\"white\",\"minorgridcolor\":\"white\",\"startlinecolor\":\"#2a3f5f\"},\"type\":\"carpet\"}],\"table\":[{\"cells\":{\"fill\":{\"color\":\"#EBF0F8\"},\"line\":{\"color\":\"white\"}},\"header\":{\"fill\":{\"color\":\"#C8D4E3\"},\"line\":{\"color\":\"white\"}},\"type\":\"table\"}],\"barpolar\":[{\"marker\":{\"line\":{\"color\":\"#E5ECF6\",\"width\":0.5},\"pattern\":{\"fillmode\":\"overlay\",\"size\":10,\"solidity\":0.2}},\"type\":\"barpolar\"}],\"pie\":[{\"automargin\":true,\"type\":\"pie\"}]},\"layout\":{\"autotypenumbers\":\"strict\",\"colorway\":[\"#636efa\",\"#EF553B\",\"#00cc96\",\"#ab63fa\",\"#FFA15A\",\"#19d3f3\",\"#FF6692\",\"#B6E880\",\"#FF97FF\",\"#FECB52\"],\"font\":{\"color\":\"#2a3f5f\"},\"hovermode\":\"closest\",\"hoverlabel\":{\"align\":\"left\"},\"paper_bgcolor\":\"white\",\"plot_bgcolor\":\"#E5ECF6\",\"polar\":{\"bgcolor\":\"#E5ECF6\",\"angularaxis\":{\"gridcolor\":\"white\",\"linecolor\":\"white\",\"ticks\":\"\"},\"radialaxis\":{\"gridcolor\":\"white\",\"linecolor\":\"white\",\"ticks\":\"\"}},\"ternary\":{\"bgcolor\":\"#E5ECF6\",\"aaxis\":{\"gridcolor\":\"white\",\"linecolor\":\"white\",\"ticks\":\"\"},\"baxis\":{\"gridcolor\":\"white\",\"linecolor\":\"white\",\"ticks\":\"\"},\"caxis\":{\"gridcolor\":\"white\",\"linecolor\":\"white\",\"ticks\":\"\"}},\"coloraxis\":{\"colorbar\":{\"outlinewidth\":0,\"ticks\":\"\"}},\"colorscale\":{\"sequential\":[[0.0,\"#0d0887\"],[0.1111111111111111,\"#46039f\"],[0.2222222222222222,\"#7201a8\"],[0.3333333333333333,\"#9c179e\"],[0.4444444444444444,\"#bd3786\"],[0.5555555555555556,\"#d8576b\"],[0.6666666666666666,\"#ed7953\"],[0.7777777777777778,\"#fb9f3a\"],[0.8888888888888888,\"#fdca26\"],[1.0,\"#f0f921\"]],\"sequentialminus\":[[0.0,\"#0d0887\"],[0.1111111111111111,\"#46039f\"],[0.2222222222222222,\"#7201a8\"],[0.3333333333333333,\"#9c179e\"],[0.4444444444444444,\"#bd3786\"],[0.5555555555555556,\"#d8576b\"],[0.6666666666666666,\"#ed7953\"],[0.7777777777777778,\"#fb9f3a\"],[0.8888888888888888,\"#fdca26\"],[1.0,\"#f0f921\"]],\"diverging\":[[0,\"#8e0152\"],[0.1,\"#c51b7d\"],[0.2,\"#de77ae\"],[0.3,\"#f1b6da\"],[0.4,\"#fde0ef\"],[0.5,\"#f7f7f7\"],[0.6,\"#e6f5d0\"],[0.7,\"#b8e186\"],[0.8,\"#7fbc41\"],[0.9,\"#4d9221\"],[1,\"#276419\"]]},\"xaxis\":{\"gridcolor\":\"white\",\"linecolor\":\"white\",\"ticks\":\"\",\"title\":{\"standoff\":15},\"zerolinecolor\":\"white\",\"automargin\":true,\"zerolinewidth\":2},\"yaxis\":{\"gridcolor\":\"white\",\"linecolor\":\"white\",\"ticks\":\"\",\"title\":{\"standoff\":15},\"zerolinecolor\":\"white\",\"automargin\":true,\"zerolinewidth\":2},\"scene\":{\"xaxis\":{\"backgroundcolor\":\"#E5ECF6\",\"gridcolor\":\"white\",\"linecolor\":\"white\",\"showbackground\":true,\"ticks\":\"\",\"zerolinecolor\":\"white\",\"gridwidth\":2},\"yaxis\":{\"backgroundcolor\":\"#E5ECF6\",\"gridcolor\":\"white\",\"linecolor\":\"white\",\"showbackground\":true,\"ticks\":\"\",\"zerolinecolor\":\"white\",\"gridwidth\":2},\"zaxis\":{\"backgroundcolor\":\"#E5ECF6\",\"gridcolor\":\"white\",\"linecolor\":\"white\",\"showbackground\":true,\"ticks\":\"\",\"zerolinecolor\":\"white\",\"gridwidth\":2}},\"shapedefaults\":{\"line\":{\"color\":\"#2a3f5f\"}},\"annotationdefaults\":{\"arrowcolor\":\"#2a3f5f\",\"arrowhead\":0,\"arrowwidth\":1},\"geo\":{\"bgcolor\":\"white\",\"landcolor\":\"#E5ECF6\",\"subunitcolor\":\"white\",\"showland\":true,\"showlakes\":true,\"lakecolor\":\"white\"},\"title\":{\"x\":0.05},\"mapbox\":{\"style\":\"light\"}}},\"xaxis\":{\"anchor\":\"y\",\"domain\":[0.0,1.0],\"title\":{\"font\":{\"family\":\"Calibri\",\"size\":20,\"color\":\"black\"},\"standoff\":2},\"tickfont\":{\"family\":\"Calibri\",\"size\":18,\"color\":\"black\"},\"showline\":false,\"showgrid\":false,\"gridcolor\":\"lightgray\",\"gridwidth\":1,\"zeroline\":false,\"zerolinecolor\":\"lightgray\",\"zerolinewidth\":2},\"yaxis\":{\"anchor\":\"x\",\"domain\":[0.5375,1.0],\"title\":{\"font\":{\"family\":\"Calibri\",\"size\":20,\"color\":\"black\"},\"standoff\":2,\"text\":\"$d^{\\\\prime}$\"},\"tickfont\":{\"family\":\"Calibri\",\"size\":18,\"color\":\"black\"},\"showline\":false,\"showgrid\":true,\"gridcolor\":\"lightgray\",\"gridwidth\":1,\"zeroline\":true,\"zerolinecolor\":\"lightgray\",\"zerolinewidth\":2},\"xaxis2\":{\"anchor\":\"y2\",\"domain\":[0.0,0.23125],\"matches\":\"x6\",\"showticklabels\":false,\"title\":{\"font\":{\"family\":\"Calibri\",\"size\":20,\"color\":\"black\"},\"standoff\":2},\"tickfont\":{\"family\":\"Calibri\",\"size\":18,\"color\":\"black\"},\"showline\":false,\"showgrid\":false,\"gridcolor\":\"lightgray\",\"gridwidth\":1,\"zeroline\":false,\"zerolinecolor\":\"lightgray\",\"zerolinewidth\":2},\"yaxis2\":{\"anchor\":\"x2\",\"domain\":[0.26875,0.4625],\"title\":{\"font\":{\"family\":\"Calibri\",\"size\":20,\"color\":\"black\"},\"standoff\":2,\"text\":\"$d^{\\\\prime}$\"},\"tickfont\":{\"family\":\"Calibri\",\"size\":18,\"color\":\"black\"},\"showline\":false,\"showgrid\":true,\"gridcolor\":\"lightgray\",\"gridwidth\":1,\"zeroline\":true,\"zerolinecolor\":\"lightgray\",\"zerolinewidth\":2},\"xaxis3\":{\"anchor\":\"y3\",\"domain\":[0.25625000000000003,0.48750000000000004],\"matches\":\"x7\",\"showticklabels\":false,\"title\":{\"font\":{\"family\":\"Calibri\",\"size\":20,\"color\":\"black\"},\"standoff\":2},\"tickfont\":{\"family\":\"Calibri\",\"size\":18,\"color\":\"black\"},\"showline\":false,\"showgrid\":false,\"gridcolor\":\"lightgray\",\"gridwidth\":1,\"zeroline\":false,\"zerolinecolor\":\"lightgray\",\"zerolinewidth\":2},\"yaxis3\":{\"anchor\":\"x3\",\"domain\":[0.26875,0.4625],\"matches\":\"y2\",\"showticklabels\":false,\"title\":{\"font\":{\"family\":\"Calibri\",\"size\":20,\"color\":\"black\"},\"standoff\":2},\"tickfont\":{\"family\":\"Calibri\",\"size\":18,\"color\":\"black\"},\"showline\":false,\"showgrid\":true,\"gridcolor\":\"lightgray\",\"gridwidth\":1,\"zeroline\":true,\"zerolinecolor\":\"lightgray\",\"zerolinewidth\":2},\"xaxis4\":{\"anchor\":\"y4\",\"domain\":[0.5125000000000001,0.7437500000000001],\"matches\":\"x8\",\"showticklabels\":false,\"title\":{\"font\":{\"family\":\"Calibri\",\"size\":20,\"color\":\"black\"},\"standoff\":2},\"tickfont\":{\"family\":\"Calibri\",\"size\":18,\"color\":\"black\"},\"showline\":false,\"showgrid\":false,\"gridcolor\":\"lightgray\",\"gridwidth\":1,\"zeroline\":false,\"zerolinecolor\":\"lightgray\",\"zerolinewidth\":2},\"yaxis4\":{\"anchor\":\"x4\",\"domain\":[0.26875,0.4625],\"matches\":\"y2\",\"showticklabels\":false,\"title\":{\"font\":{\"family\":\"Calibri\",\"size\":20,\"color\":\"black\"},\"standoff\":2},\"tickfont\":{\"family\":\"Calibri\",\"size\":18,\"color\":\"black\"},\"showline\":false,\"showgrid\":true,\"gridcolor\":\"lightgray\",\"gridwidth\":1,\"zeroline\":true,\"zerolinecolor\":\"lightgray\",\"zerolinewidth\":2},\"xaxis5\":{\"anchor\":\"y5\",\"domain\":[0.76875,1.0],\"matches\":\"x9\",\"showticklabels\":false,\"title\":{\"font\":{\"family\":\"Calibri\",\"size\":20,\"color\":\"black\"},\"standoff\":2},\"tickfont\":{\"family\":\"Calibri\",\"size\":18,\"color\":\"black\"},\"showline\":false,\"showgrid\":false,\"gridcolor\":\"lightgray\",\"gridwidth\":1,\"zeroline\":false,\"zerolinecolor\":\"lightgray\",\"zerolinewidth\":2},\"yaxis5\":{\"anchor\":\"x5\",\"domain\":[0.26875,0.4625],\"matches\":\"y2\",\"showticklabels\":false,\"title\":{\"font\":{\"family\":\"Calibri\",\"size\":20,\"color\":\"black\"},\"standoff\":2},\"tickfont\":{\"family\":\"Calibri\",\"size\":18,\"color\":\"black\"},\"showline\":false,\"showgrid\":true,\"gridcolor\":\"lightgray\",\"gridwidth\":1,\"zeroline\":true,\"zerolinecolor\":\"lightgray\",\"zerolinewidth\":2},\"xaxis6\":{\"anchor\":\"y6\",\"domain\":[0.0,0.23125],\"title\":{\"font\":{\"family\":\"Calibri\",\"size\":20,\"color\":\"black\"},\"standoff\":2},\"tickfont\":{\"family\":\"Calibri\",\"size\":18,\"color\":\"black\"},\"showline\":false,\"showgrid\":false,\"gridcolor\":\"lightgray\",\"gridwidth\":1,\"zeroline\":false,\"zerolinecolor\":\"lightgray\",\"zerolinewidth\":2},\"yaxis6\":{\"anchor\":\"x6\",\"domain\":[0.0,0.19375],\"title\":{\"font\":{\"family\":\"Calibri\",\"size\":20,\"color\":\"black\"},\"standoff\":2,\"text\":\"$d^{\\\\prime}$\"},\"tickfont\":{\"family\":\"Calibri\",\"size\":18,\"color\":\"black\"},\"showline\":false,\"showgrid\":true,\"gridcolor\":\"lightgray\",\"gridwidth\":1,\"zeroline\":true,\"zerolinecolor\":\"lightgray\",\"zerolinewidth\":2},\"xaxis7\":{\"anchor\":\"y7\",\"domain\":[0.25625000000000003,0.48750000000000004],\"title\":{\"font\":{\"family\":\"Calibri\",\"size\":20,\"color\":\"black\"},\"standoff\":2},\"tickfont\":{\"family\":\"Calibri\",\"size\":18,\"color\":\"black\"},\"showline\":false,\"showgrid\":false,\"gridcolor\":\"lightgray\",\"gridwidth\":1,\"zeroline\":false,\"zerolinecolor\":\"lightgray\",\"zerolinewidth\":2},\"yaxis7\":{\"anchor\":\"x7\",\"domain\":[0.0,0.19375],\"matches\":\"y6\",\"showticklabels\":false,\"title\":{\"font\":{\"family\":\"Calibri\",\"size\":20,\"color\":\"black\"},\"standoff\":2},\"tickfont\":{\"family\":\"Calibri\",\"size\":18,\"color\":\"black\"},\"showline\":false,\"showgrid\":true,\"gridcolor\":\"lightgray\",\"gridwidth\":1,\"zeroline\":true,\"zerolinecolor\":\"lightgray\",\"zerolinewidth\":2},\"xaxis8\":{\"anchor\":\"y8\",\"domain\":[0.5125000000000001,0.7437500000000001],\"title\":{\"font\":{\"family\":\"Calibri\",\"size\":20,\"color\":\"black\"},\"standoff\":2},\"tickfont\":{\"family\":\"Calibri\",\"size\":18,\"color\":\"black\"},\"showline\":false,\"showgrid\":false,\"gridcolor\":\"lightgray\",\"gridwidth\":1,\"zeroline\":false,\"zerolinecolor\":\"lightgray\",\"zerolinewidth\":2},\"yaxis8\":{\"anchor\":\"x8\",\"domain\":[0.0,0.19375],\"matches\":\"y6\",\"showticklabels\":false,\"title\":{\"font\":{\"family\":\"Calibri\",\"size\":20,\"color\":\"black\"},\"standoff\":2},\"tickfont\":{\"family\":\"Calibri\",\"size\":18,\"color\":\"black\"},\"showline\":false,\"showgrid\":true,\"gridcolor\":\"lightgray\",\"gridwidth\":1,\"zeroline\":true,\"zerolinecolor\":\"lightgray\",\"zerolinewidth\":2},\"xaxis9\":{\"anchor\":\"y9\",\"domain\":[0.76875,1.0],\"title\":{\"font\":{\"family\":\"Calibri\",\"size\":20,\"color\":\"black\"},\"standoff\":2},\"tickfont\":{\"family\":\"Calibri\",\"size\":18,\"color\":\"black\"},\"showline\":false,\"showgrid\":false,\"gridcolor\":\"lightgray\",\"gridwidth\":1,\"zeroline\":false,\"zerolinecolor\":\"lightgray\",\"zerolinewidth\":2},\"yaxis9\":{\"anchor\":\"x9\",\"domain\":[0.0,0.19375],\"matches\":\"y6\",\"showticklabels\":false,\"title\":{\"font\":{\"family\":\"Calibri\",\"size\":20,\"color\":\"black\"},\"standoff\":2},\"tickfont\":{\"family\":\"Calibri\",\"size\":18,\"color\":\"black\"},\"showline\":false,\"showgrid\":true,\"gridcolor\":\"lightgray\",\"gridwidth\":1,\"zeroline\":true,\"zerolinecolor\":\"lightgray\",\"zerolinewidth\":2},\"annotations\":[{\"font\":{\"size\":20,\"family\":\"Calibri\",\"color\":\"black\"},\"showarrow\":false,\"text\":\"Overall\",\"x\":0.5,\"xanchor\":\"center\",\"xref\":\"paper\",\"y\":1.0,\"yanchor\":\"bottom\",\"yref\":\"paper\",\"textangle\":0},{\"font\":{\"size\":20,\"family\":\"Calibri\",\"color\":\"black\"},\"showarrow\":false,\"text\":\"\\u003ci\\u003eAnn. RA\\u003c\\u002fi\\u003e\",\"x\":0.115625,\"xanchor\":\"center\",\"xref\":\"paper\",\"y\":0.4625,\"yanchor\":\"bottom\",\"yref\":\"paper\",\"textangle\":0},{\"font\":{\"size\":20,\"family\":\"Calibri\",\"color\":\"black\"},\"showarrow\":false,\"text\":\"I-VT\",\"x\":0.37187500000000007,\"xanchor\":\"center\",\"xref\":\"paper\",\"y\":0.4625,\"yanchor\":\"bottom\",\"yref\":\"paper\",\"textangle\":0},{\"font\":{\"size\":20,\"family\":\"Calibri\",\"color\":\"black\"},\"showarrow\":false,\"text\":\"I-VVT\",\"x\":0.628125,\"xanchor\":\"center\",\"xref\":\"paper\",\"y\":0.4625,\"yanchor\":\"bottom\",\"yref\":\"paper\",\"textangle\":0},{\"font\":{\"size\":20,\"family\":\"Calibri\",\"color\":\"black\"},\"showarrow\":false,\"text\":\"I-DT\",\"x\":0.884375,\"xanchor\":\"center\",\"xref\":\"paper\",\"y\":0.4625,\"yanchor\":\"bottom\",\"yref\":\"paper\",\"textangle\":0},{\"font\":{\"size\":20,\"family\":\"Calibri\",\"color\":\"black\"},\"showarrow\":false,\"text\":\"I-DVT\",\"x\":0.115625,\"xanchor\":\"center\",\"xref\":\"paper\",\"y\":0.19375,\"yanchor\":\"bottom\",\"yref\":\"paper\",\"textangle\":0},{\"font\":{\"size\":20,\"family\":\"Calibri\",\"color\":\"black\"},\"showarrow\":false,\"text\":\"ENGBERT\",\"x\":0.37187500000000007,\"xanchor\":\"center\",\"xref\":\"paper\",\"y\":0.19375,\"yanchor\":\"bottom\",\"yref\":\"paper\",\"textangle\":0},{\"font\":{\"size\":20,\"family\":\"Calibri\",\"color\":\"black\"},\"showarrow\":false,\"text\":\"NH\",\"x\":0.628125,\"xanchor\":\"center\",\"xref\":\"paper\",\"y\":0.19375,\"yanchor\":\"bottom\",\"yref\":\"paper\",\"textangle\":0},{\"font\":{\"size\":20,\"family\":\"Calibri\",\"color\":\"black\"},\"showarrow\":false,\"text\":\"REMoDNaV\",\"x\":0.884375,\"xanchor\":\"center\",\"xref\":\"paper\",\"y\":0.19375,\"yanchor\":\"bottom\",\"yref\":\"paper\",\"textangle\":0}],\"font\":{\"family\":\"Calibri\"},\"margin\":{\"l\":0,\"r\":0,\"t\":35,\"b\":0,\"pad\":0},\"legend\":{\"font\":{\"family\":\"Calibri\",\"size\":20,\"color\":\"black\"},\"orientation\":\"h\",\"yanchor\":\"top\",\"xanchor\":\"center\",\"xref\":\"paper\",\"yref\":\"paper\",\"x\":0.12,\"y\":0.98,\"itemwidth\":30},\"title\":{},\"width\":900,\"height\":750,\"paper_bgcolor\":\"rgba(0, 0, 0, 0)\",\"plot_bgcolor\":\"rgba(0, 0, 0, 0)\"},                        {\"responsive\": true}                    ).then(function(){\n",
       "                            \n",
       "var gd = document.getElementById('baed8071-8328-400d-a1c7-feab660a1060');\n",
       "var x = new MutationObserver(function (mutations, observer) {{\n",
       "        var display = window.getComputedStyle(gd).display;\n",
       "        if (!display || display === 'none') {{\n",
       "            console.log([gd, 'removed!']);\n",
       "            Plotly.purge(gd);\n",
       "            observer.disconnect();\n",
       "        }}\n",
       "}});\n",
       "\n",
       "// Listen for the removal of the full notebook cells\n",
       "var notebookContainer = gd.closest('#notebook-container');\n",
       "if (notebookContainer) {{\n",
       "    x.observe(notebookContainer, {childList: true});\n",
       "}}\n",
       "\n",
       "// Listen for the clearing of the current output cell\n",
       "var outputEl = gd.closest('.output');\n",
       "if (outputEl) {{\n",
       "    x.observe(outputEl, {childList: true});\n",
       "}}\n",
       "\n",
       "                        })                };                });            </script>        </div>"
      ]
     },
     "metadata": {},
     "output_type": "display_data"
    }
   ],
   "execution_count": 38
  },
  {
   "metadata": {
    "ExecuteTime": {
     "end_time": "2025-05-05T09:09:28.074770Z",
     "start_time": "2025-05-05T09:09:28.072625Z"
    }
   },
   "cell_type": "code",
   "source": "",
   "id": "94c7fdf6947209e0",
   "outputs": [],
   "execution_count": null
  }
 ],
 "metadata": {
  "kernelspec": {
   "display_name": "Python 3",
   "language": "python",
   "name": "python3"
  },
  "language_info": {
   "codemirror_mode": {
    "name": "ipython",
    "version": 2
   },
   "file_extension": ".py",
   "mimetype": "text/x-python",
   "name": "python",
   "nbconvert_exporter": "python",
   "pygments_lexer": "ipython2",
   "version": "2.7.6"
  }
 },
 "nbformat": 4,
 "nbformat_minor": 5
}
