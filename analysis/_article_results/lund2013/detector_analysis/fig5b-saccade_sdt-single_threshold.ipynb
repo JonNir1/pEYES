{
 "cells": [
  {
   "metadata": {},
   "cell_type": "markdown",
   "source": [
    "# Results p. 5\n",
    "## Saccade Discriminability\n",
    "### How sensitive are detectors to saccade onsets/offsets?"
   ],
   "id": "3c4d6ac30d9b49b5"
  },
  {
   "metadata": {
    "collapsed": true,
    "ExecuteTime": {
     "end_time": "2025-01-09T15:26:43.026593Z",
     "start_time": "2025-01-09T15:26:43.023578Z"
    }
   },
   "cell_type": "code",
   "source": [
    "import os\n",
    "import copy\n",
    "\n",
    "import numpy as np\n",
    "import pandas as pd\n",
    "import plotly.graph_objects as go\n",
    "from plotly.subplots import make_subplots\n",
    "import plotly.io as pio\n",
    "\n",
    "import peyes\n",
    "\n",
    "from analysis._article_results.lund2013._helpers import *\n",
    "import analysis.statistics.channel_sdt as ch_sdt\n",
    "\n",
    "# pio.renderers.default = \"browser\"\n",
    "FIG_ID, IS_SUPP = 5, False"
   ],
   "id": "initial_id",
   "outputs": [],
   "execution_count": 38
  },
  {
   "metadata": {},
   "cell_type": "markdown",
   "source": "## Load Data",
   "id": "9a08d486add6f3cd"
  },
  {
   "metadata": {
    "ExecuteTime": {
     "end_time": "2025-01-09T15:26:12.713615Z",
     "start_time": "2025-01-09T15:26:12.550705Z"
    }
   },
   "cell_type": "code",
   "source": [
    "LABEL = 2       # EventLabelEnum.SACCADE.value\n",
    "THRESHOLD = 5   # samples\n",
    "\n",
    "csdt_metrics = ch_sdt.load(\n",
    "    dataset_name=DATASET_NAME,\n",
    "    output_dir=PROCESSED_DATA_DIR,\n",
    "    label=LABEL,\n",
    "    stimulus_type=STIMULUS_TYPE,\n",
    "    channel_type=None,\n",
    ")\n",
    "csdt_metrics.drop(index=['P', 'PP', 'N', 'TP'], level=peyes.constants.METRIC_STR, inplace=True)    # Remove unused metrics\n",
    "\n",
    "csdt_metrics"
   ],
   "id": "df7eab491a81d621",
   "outputs": [
    {
     "data": {
      "text/plain": [
       "trial_id                                       25                      \\\n",
       "gt                                             RA                       \n",
       "pred                                           MN   engbert  remodnav   \n",
       "channel_type metric           threshold                                 \n",
       "onset        recall           0          0.760000  0.280000  0.120000   \n",
       "             precision        0          0.730769  0.225806  0.230769   \n",
       "             f1               0          0.745098  0.250000  0.157895   \n",
       "             false_alarm_rate 0          0.001410  0.004836  0.002015   \n",
       "             d_prime          0          3.692915  2.004514  1.700831   \n",
       "...                                           ...       ...       ...   \n",
       "offset       precision        20         0.961538  0.806452  1.000000   \n",
       "             f1               20         0.980392  0.892857  0.684211   \n",
       "             false_alarm_rate 20         0.010346  0.062074  0.000000   \n",
       "             d_prime          20         4.495950  3.887074  2.454317   \n",
       "             criterion        20        -0.157000 -0.461438  1.177817   \n",
       "\n",
       "trial_id                                                               \\\n",
       "gt                                                                      \n",
       "pred                                         idvt        nh       idt   \n",
       "channel_type metric           threshold                                 \n",
       "onset        recall           0          0.000000  0.000000  0.000000   \n",
       "             precision        0          0.000000  0.000000  0.000000   \n",
       "             f1               0               NaN       NaN       NaN   \n",
       "             false_alarm_rate 0          0.003425  0.005239  0.003425   \n",
       "             d_prime          0         -0.854360 -0.992838 -0.854360   \n",
       "...                                           ...       ...       ...   \n",
       "offset       precision        20         1.000000  0.846154  1.000000   \n",
       "             f1               20         0.809524  0.862745  0.809524   \n",
       "             false_alarm_rate 20         0.000000  0.041383  0.000000   \n",
       "             d_prime          20         2.864548  2.909847  2.864548   \n",
       "             criterion        20         0.972701  0.279937  0.972701   \n",
       "\n",
       "trial_id                                                               \\\n",
       "gt                                                                 MN   \n",
       "pred                                         ivvt       ivt        RA   \n",
       "channel_type metric           threshold                                 \n",
       "onset        recall           0          0.040000  0.040000  0.730769   \n",
       "             precision        0          0.031250  0.031250  0.760000   \n",
       "             f1               0          0.035088  0.035088  0.745098   \n",
       "             false_alarm_rate 0          0.006246  0.006246  0.001209   \n",
       "             d_prime          0          0.747234  0.747234  3.648512   \n",
       "...                                           ...       ...       ...   \n",
       "offset       precision        20         0.781250  0.781250  1.000000   \n",
       "             f1               20         0.877193  0.877193  0.980392   \n",
       "             false_alarm_rate 20         0.072420  0.072420  0.000000   \n",
       "             d_prime          20         3.814531  3.814531  4.090681   \n",
       "             criterion        20        -0.497709 -0.497709  0.359635   \n",
       "\n",
       "trial_id                                           ...        44            \\\n",
       "gt                                                 ...        RA             \n",
       "pred                                      engbert  ...      ivvt       ivt   \n",
       "channel_type metric           threshold            ...                       \n",
       "onset        recall           0          0.153846  ...  0.000000  0.000000   \n",
       "             precision        0          0.129032  ...  0.000000  0.000000   \n",
       "             f1               0          0.140351  ...       NaN       NaN   \n",
       "             false_alarm_rate 0          0.005441  ...  0.015744  0.014220   \n",
       "             d_prime          0          1.526366  ... -1.151515 -1.112344   \n",
       "...                                           ...  ...       ...       ...   \n",
       "offset       precision        20         0.838710  ...  0.838710  0.821429   \n",
       "             f1               20         0.912281  ...  0.896552  0.836364   \n",
       "             false_alarm_rate 20         0.052269  ...  0.230596  0.230596   \n",
       "             d_prime          20         3.963870  ...  2.523040  1.781294   \n",
       "             criterion        20        -0.423040  ... -0.524635 -0.153762   \n",
       "\n",
       "trial_id                                                                   \\\n",
       "gt                                                 MN                       \n",
       "pred                                               RA   engbert  remodnav   \n",
       "channel_type metric           threshold                                     \n",
       "onset        recall           0          6.666667e-01  0.074074  0.111111   \n",
       "             precision        0          6.666667e-01  0.062500  0.200000   \n",
       "             f1               0          6.666667e-01  0.067797  0.142857   \n",
       "             false_alarm_rate 0          4.570848e-03  0.015236  0.006094   \n",
       "             d_prime          0          3.037436e+00  0.717793  1.285987   \n",
       "...                                               ...       ...       ...   \n",
       "offset       precision        20         1.000000e+00  0.843750  1.000000   \n",
       "             f1               20         1.000000e+00  0.915254  0.714286   \n",
       "             false_alarm_rate 20         0.000000e+00  0.230596  0.000000   \n",
       "             d_prime          20         4.118694e+00  2.761708  2.193510   \n",
       "             criterion        20        -2.220446e-16 -0.678493  0.962592   \n",
       "\n",
       "trial_id                                                               \\\n",
       "gt                                                                      \n",
       "pred                                         idvt        nh       idt   \n",
       "channel_type metric           threshold                                 \n",
       "onset        recall           0          0.000000  0.000000  0.000000   \n",
       "             precision        0          0.000000  0.000000  0.000000   \n",
       "             f1               0               NaN       NaN       NaN   \n",
       "             false_alarm_rate 0          0.008634  0.014220  0.008634   \n",
       "             d_prime          0         -0.929767 -1.112344 -0.929767   \n",
       "...                                           ...       ...       ...   \n",
       "offset       precision        20         0.764706  0.928571  0.764706   \n",
       "             f1               20         0.590909  0.945455  0.590909   \n",
       "             false_alarm_rate 20         0.184477  0.092238  0.184477   \n",
       "             d_prime          20         0.851999  3.113252  0.851999   \n",
       "             criterion        20         0.472435 -0.229530  0.472435   \n",
       "\n",
       "trial_id                                                     \n",
       "gt                                                           \n",
       "pred                                         ivvt       ivt  \n",
       "channel_type metric           threshold                      \n",
       "onset        recall           0          0.037037  0.037037  \n",
       "             precision        0          0.032258  0.035714  \n",
       "             f1               0          0.034483  0.036364  \n",
       "             false_alarm_rate 0          0.015236  0.013713  \n",
       "             d_prime          0          0.377741  0.419258  \n",
       "...                                           ...       ...  \n",
       "offset       precision        20         0.838710  0.821429  \n",
       "             f1               20         0.896552  0.836364  \n",
       "             false_alarm_rate 20         0.230596  0.230596  \n",
       "             d_prime          20         2.523040  1.781294  \n",
       "             criterion        20        -0.524635 -0.153762  \n",
       "\n",
       "[252 rows x 266 columns]"
      ],
      "text/html": [
       "<div>\n",
       "<style scoped>\n",
       "    .dataframe tbody tr th:only-of-type {\n",
       "        vertical-align: middle;\n",
       "    }\n",
       "\n",
       "    .dataframe tbody tr th {\n",
       "        vertical-align: top;\n",
       "    }\n",
       "\n",
       "    .dataframe thead tr th {\n",
       "        text-align: left;\n",
       "    }\n",
       "\n",
       "    .dataframe thead tr:last-of-type th {\n",
       "        text-align: right;\n",
       "    }\n",
       "</style>\n",
       "<table border=\"1\" class=\"dataframe\">\n",
       "  <thead>\n",
       "    <tr>\n",
       "      <th></th>\n",
       "      <th></th>\n",
       "      <th>trial_id</th>\n",
       "      <th colspan=\"10\" halign=\"left\">25</th>\n",
       "      <th>...</th>\n",
       "      <th colspan=\"10\" halign=\"left\">44</th>\n",
       "    </tr>\n",
       "    <tr>\n",
       "      <th></th>\n",
       "      <th></th>\n",
       "      <th>gt</th>\n",
       "      <th colspan=\"8\" halign=\"left\">RA</th>\n",
       "      <th colspan=\"2\" halign=\"left\">MN</th>\n",
       "      <th>...</th>\n",
       "      <th colspan=\"2\" halign=\"left\">RA</th>\n",
       "      <th colspan=\"8\" halign=\"left\">MN</th>\n",
       "    </tr>\n",
       "    <tr>\n",
       "      <th></th>\n",
       "      <th></th>\n",
       "      <th>pred</th>\n",
       "      <th>MN</th>\n",
       "      <th>engbert</th>\n",
       "      <th>remodnav</th>\n",
       "      <th>idvt</th>\n",
       "      <th>nh</th>\n",
       "      <th>idt</th>\n",
       "      <th>ivvt</th>\n",
       "      <th>ivt</th>\n",
       "      <th>RA</th>\n",
       "      <th>engbert</th>\n",
       "      <th>...</th>\n",
       "      <th>ivvt</th>\n",
       "      <th>ivt</th>\n",
       "      <th>RA</th>\n",
       "      <th>engbert</th>\n",
       "      <th>remodnav</th>\n",
       "      <th>idvt</th>\n",
       "      <th>nh</th>\n",
       "      <th>idt</th>\n",
       "      <th>ivvt</th>\n",
       "      <th>ivt</th>\n",
       "    </tr>\n",
       "    <tr>\n",
       "      <th>channel_type</th>\n",
       "      <th>metric</th>\n",
       "      <th>threshold</th>\n",
       "      <th></th>\n",
       "      <th></th>\n",
       "      <th></th>\n",
       "      <th></th>\n",
       "      <th></th>\n",
       "      <th></th>\n",
       "      <th></th>\n",
       "      <th></th>\n",
       "      <th></th>\n",
       "      <th></th>\n",
       "      <th></th>\n",
       "      <th></th>\n",
       "      <th></th>\n",
       "      <th></th>\n",
       "      <th></th>\n",
       "      <th></th>\n",
       "      <th></th>\n",
       "      <th></th>\n",
       "      <th></th>\n",
       "      <th></th>\n",
       "      <th></th>\n",
       "    </tr>\n",
       "  </thead>\n",
       "  <tbody>\n",
       "    <tr>\n",
       "      <th rowspan=\"5\" valign=\"top\">onset</th>\n",
       "      <th>recall</th>\n",
       "      <th>0</th>\n",
       "      <td>0.760000</td>\n",
       "      <td>0.280000</td>\n",
       "      <td>0.120000</td>\n",
       "      <td>0.000000</td>\n",
       "      <td>0.000000</td>\n",
       "      <td>0.000000</td>\n",
       "      <td>0.040000</td>\n",
       "      <td>0.040000</td>\n",
       "      <td>0.730769</td>\n",
       "      <td>0.153846</td>\n",
       "      <td>...</td>\n",
       "      <td>0.000000</td>\n",
       "      <td>0.000000</td>\n",
       "      <td>6.666667e-01</td>\n",
       "      <td>0.074074</td>\n",
       "      <td>0.111111</td>\n",
       "      <td>0.000000</td>\n",
       "      <td>0.000000</td>\n",
       "      <td>0.000000</td>\n",
       "      <td>0.037037</td>\n",
       "      <td>0.037037</td>\n",
       "    </tr>\n",
       "    <tr>\n",
       "      <th>precision</th>\n",
       "      <th>0</th>\n",
       "      <td>0.730769</td>\n",
       "      <td>0.225806</td>\n",
       "      <td>0.230769</td>\n",
       "      <td>0.000000</td>\n",
       "      <td>0.000000</td>\n",
       "      <td>0.000000</td>\n",
       "      <td>0.031250</td>\n",
       "      <td>0.031250</td>\n",
       "      <td>0.760000</td>\n",
       "      <td>0.129032</td>\n",
       "      <td>...</td>\n",
       "      <td>0.000000</td>\n",
       "      <td>0.000000</td>\n",
       "      <td>6.666667e-01</td>\n",
       "      <td>0.062500</td>\n",
       "      <td>0.200000</td>\n",
       "      <td>0.000000</td>\n",
       "      <td>0.000000</td>\n",
       "      <td>0.000000</td>\n",
       "      <td>0.032258</td>\n",
       "      <td>0.035714</td>\n",
       "    </tr>\n",
       "    <tr>\n",
       "      <th>f1</th>\n",
       "      <th>0</th>\n",
       "      <td>0.745098</td>\n",
       "      <td>0.250000</td>\n",
       "      <td>0.157895</td>\n",
       "      <td>NaN</td>\n",
       "      <td>NaN</td>\n",
       "      <td>NaN</td>\n",
       "      <td>0.035088</td>\n",
       "      <td>0.035088</td>\n",
       "      <td>0.745098</td>\n",
       "      <td>0.140351</td>\n",
       "      <td>...</td>\n",
       "      <td>NaN</td>\n",
       "      <td>NaN</td>\n",
       "      <td>6.666667e-01</td>\n",
       "      <td>0.067797</td>\n",
       "      <td>0.142857</td>\n",
       "      <td>NaN</td>\n",
       "      <td>NaN</td>\n",
       "      <td>NaN</td>\n",
       "      <td>0.034483</td>\n",
       "      <td>0.036364</td>\n",
       "    </tr>\n",
       "    <tr>\n",
       "      <th>false_alarm_rate</th>\n",
       "      <th>0</th>\n",
       "      <td>0.001410</td>\n",
       "      <td>0.004836</td>\n",
       "      <td>0.002015</td>\n",
       "      <td>0.003425</td>\n",
       "      <td>0.005239</td>\n",
       "      <td>0.003425</td>\n",
       "      <td>0.006246</td>\n",
       "      <td>0.006246</td>\n",
       "      <td>0.001209</td>\n",
       "      <td>0.005441</td>\n",
       "      <td>...</td>\n",
       "      <td>0.015744</td>\n",
       "      <td>0.014220</td>\n",
       "      <td>4.570848e-03</td>\n",
       "      <td>0.015236</td>\n",
       "      <td>0.006094</td>\n",
       "      <td>0.008634</td>\n",
       "      <td>0.014220</td>\n",
       "      <td>0.008634</td>\n",
       "      <td>0.015236</td>\n",
       "      <td>0.013713</td>\n",
       "    </tr>\n",
       "    <tr>\n",
       "      <th>d_prime</th>\n",
       "      <th>0</th>\n",
       "      <td>3.692915</td>\n",
       "      <td>2.004514</td>\n",
       "      <td>1.700831</td>\n",
       "      <td>-0.854360</td>\n",
       "      <td>-0.992838</td>\n",
       "      <td>-0.854360</td>\n",
       "      <td>0.747234</td>\n",
       "      <td>0.747234</td>\n",
       "      <td>3.648512</td>\n",
       "      <td>1.526366</td>\n",
       "      <td>...</td>\n",
       "      <td>-1.151515</td>\n",
       "      <td>-1.112344</td>\n",
       "      <td>3.037436e+00</td>\n",
       "      <td>0.717793</td>\n",
       "      <td>1.285987</td>\n",
       "      <td>-0.929767</td>\n",
       "      <td>-1.112344</td>\n",
       "      <td>-0.929767</td>\n",
       "      <td>0.377741</td>\n",
       "      <td>0.419258</td>\n",
       "    </tr>\n",
       "    <tr>\n",
       "      <th>...</th>\n",
       "      <th>...</th>\n",
       "      <th>...</th>\n",
       "      <td>...</td>\n",
       "      <td>...</td>\n",
       "      <td>...</td>\n",
       "      <td>...</td>\n",
       "      <td>...</td>\n",
       "      <td>...</td>\n",
       "      <td>...</td>\n",
       "      <td>...</td>\n",
       "      <td>...</td>\n",
       "      <td>...</td>\n",
       "      <td>...</td>\n",
       "      <td>...</td>\n",
       "      <td>...</td>\n",
       "      <td>...</td>\n",
       "      <td>...</td>\n",
       "      <td>...</td>\n",
       "      <td>...</td>\n",
       "      <td>...</td>\n",
       "      <td>...</td>\n",
       "      <td>...</td>\n",
       "      <td>...</td>\n",
       "    </tr>\n",
       "    <tr>\n",
       "      <th rowspan=\"5\" valign=\"top\">offset</th>\n",
       "      <th>precision</th>\n",
       "      <th>20</th>\n",
       "      <td>0.961538</td>\n",
       "      <td>0.806452</td>\n",
       "      <td>1.000000</td>\n",
       "      <td>1.000000</td>\n",
       "      <td>0.846154</td>\n",
       "      <td>1.000000</td>\n",
       "      <td>0.781250</td>\n",
       "      <td>0.781250</td>\n",
       "      <td>1.000000</td>\n",
       "      <td>0.838710</td>\n",
       "      <td>...</td>\n",
       "      <td>0.838710</td>\n",
       "      <td>0.821429</td>\n",
       "      <td>1.000000e+00</td>\n",
       "      <td>0.843750</td>\n",
       "      <td>1.000000</td>\n",
       "      <td>0.764706</td>\n",
       "      <td>0.928571</td>\n",
       "      <td>0.764706</td>\n",
       "      <td>0.838710</td>\n",
       "      <td>0.821429</td>\n",
       "    </tr>\n",
       "    <tr>\n",
       "      <th>f1</th>\n",
       "      <th>20</th>\n",
       "      <td>0.980392</td>\n",
       "      <td>0.892857</td>\n",
       "      <td>0.684211</td>\n",
       "      <td>0.809524</td>\n",
       "      <td>0.862745</td>\n",
       "      <td>0.809524</td>\n",
       "      <td>0.877193</td>\n",
       "      <td>0.877193</td>\n",
       "      <td>0.980392</td>\n",
       "      <td>0.912281</td>\n",
       "      <td>...</td>\n",
       "      <td>0.896552</td>\n",
       "      <td>0.836364</td>\n",
       "      <td>1.000000e+00</td>\n",
       "      <td>0.915254</td>\n",
       "      <td>0.714286</td>\n",
       "      <td>0.590909</td>\n",
       "      <td>0.945455</td>\n",
       "      <td>0.590909</td>\n",
       "      <td>0.896552</td>\n",
       "      <td>0.836364</td>\n",
       "    </tr>\n",
       "    <tr>\n",
       "      <th>false_alarm_rate</th>\n",
       "      <th>20</th>\n",
       "      <td>0.010346</td>\n",
       "      <td>0.062074</td>\n",
       "      <td>0.000000</td>\n",
       "      <td>0.000000</td>\n",
       "      <td>0.041383</td>\n",
       "      <td>0.000000</td>\n",
       "      <td>0.072420</td>\n",
       "      <td>0.072420</td>\n",
       "      <td>0.000000</td>\n",
       "      <td>0.052269</td>\n",
       "      <td>...</td>\n",
       "      <td>0.230596</td>\n",
       "      <td>0.230596</td>\n",
       "      <td>0.000000e+00</td>\n",
       "      <td>0.230596</td>\n",
       "      <td>0.000000</td>\n",
       "      <td>0.184477</td>\n",
       "      <td>0.092238</td>\n",
       "      <td>0.184477</td>\n",
       "      <td>0.230596</td>\n",
       "      <td>0.230596</td>\n",
       "    </tr>\n",
       "    <tr>\n",
       "      <th>d_prime</th>\n",
       "      <th>20</th>\n",
       "      <td>4.495950</td>\n",
       "      <td>3.887074</td>\n",
       "      <td>2.454317</td>\n",
       "      <td>2.864548</td>\n",
       "      <td>2.909847</td>\n",
       "      <td>2.864548</td>\n",
       "      <td>3.814531</td>\n",
       "      <td>3.814531</td>\n",
       "      <td>4.090681</td>\n",
       "      <td>3.963870</td>\n",
       "      <td>...</td>\n",
       "      <td>2.523040</td>\n",
       "      <td>1.781294</td>\n",
       "      <td>4.118694e+00</td>\n",
       "      <td>2.761708</td>\n",
       "      <td>2.193510</td>\n",
       "      <td>0.851999</td>\n",
       "      <td>3.113252</td>\n",
       "      <td>0.851999</td>\n",
       "      <td>2.523040</td>\n",
       "      <td>1.781294</td>\n",
       "    </tr>\n",
       "    <tr>\n",
       "      <th>criterion</th>\n",
       "      <th>20</th>\n",
       "      <td>-0.157000</td>\n",
       "      <td>-0.461438</td>\n",
       "      <td>1.177817</td>\n",
       "      <td>0.972701</td>\n",
       "      <td>0.279937</td>\n",
       "      <td>0.972701</td>\n",
       "      <td>-0.497709</td>\n",
       "      <td>-0.497709</td>\n",
       "      <td>0.359635</td>\n",
       "      <td>-0.423040</td>\n",
       "      <td>...</td>\n",
       "      <td>-0.524635</td>\n",
       "      <td>-0.153762</td>\n",
       "      <td>-2.220446e-16</td>\n",
       "      <td>-0.678493</td>\n",
       "      <td>0.962592</td>\n",
       "      <td>0.472435</td>\n",
       "      <td>-0.229530</td>\n",
       "      <td>0.472435</td>\n",
       "      <td>-0.524635</td>\n",
       "      <td>-0.153762</td>\n",
       "    </tr>\n",
       "  </tbody>\n",
       "</table>\n",
       "<p>252 rows × 266 columns</p>\n",
       "</div>"
      ]
     },
     "execution_count": 24,
     "metadata": {},
     "output_type": "execute_result"
    }
   ],
   "execution_count": 24
  },
  {
   "metadata": {},
   "cell_type": "markdown",
   "source": "## Onset Detection",
   "id": "868ee0f0eb29ae3d"
  },
  {
   "metadata": {
    "ExecuteTime": {
     "end_time": "2025-01-09T15:26:12.844929Z",
     "start_time": "2025-01-09T15:26:12.795770Z"
    }
   },
   "cell_type": "code",
   "source": [
    "onset_statistics, onset_pvalues, onset_nemenyi, onset_Ns = ch_sdt.friedman_nemenyi(\n",
    "    csdt_metrics, \"onset\", THRESHOLD, [GT1, GT2]\n",
    ")\n",
    "\n",
    "onset_pvalues <= ALPHA"
   ],
   "id": "56f6f09328bd51b7",
   "outputs": [
    {
     "data": {
      "text/plain": [
       "gt                  MN    RA\n",
       "metric                      \n",
       "criterion         True  True\n",
       "d_prime           True  True\n",
       "f1                True  True\n",
       "false_alarm_rate  True  True\n",
       "precision         True  True\n",
       "recall            True  True"
      ],
      "text/html": [
       "<div>\n",
       "<style scoped>\n",
       "    .dataframe tbody tr th:only-of-type {\n",
       "        vertical-align: middle;\n",
       "    }\n",
       "\n",
       "    .dataframe tbody tr th {\n",
       "        vertical-align: top;\n",
       "    }\n",
       "\n",
       "    .dataframe thead th {\n",
       "        text-align: right;\n",
       "    }\n",
       "</style>\n",
       "<table border=\"1\" class=\"dataframe\">\n",
       "  <thead>\n",
       "    <tr style=\"text-align: right;\">\n",
       "      <th>gt</th>\n",
       "      <th>MN</th>\n",
       "      <th>RA</th>\n",
       "    </tr>\n",
       "    <tr>\n",
       "      <th>metric</th>\n",
       "      <th></th>\n",
       "      <th></th>\n",
       "    </tr>\n",
       "  </thead>\n",
       "  <tbody>\n",
       "    <tr>\n",
       "      <th>criterion</th>\n",
       "      <td>True</td>\n",
       "      <td>True</td>\n",
       "    </tr>\n",
       "    <tr>\n",
       "      <th>d_prime</th>\n",
       "      <td>True</td>\n",
       "      <td>True</td>\n",
       "    </tr>\n",
       "    <tr>\n",
       "      <th>f1</th>\n",
       "      <td>True</td>\n",
       "      <td>True</td>\n",
       "    </tr>\n",
       "    <tr>\n",
       "      <th>false_alarm_rate</th>\n",
       "      <td>True</td>\n",
       "      <td>True</td>\n",
       "    </tr>\n",
       "    <tr>\n",
       "      <th>precision</th>\n",
       "      <td>True</td>\n",
       "      <td>True</td>\n",
       "    </tr>\n",
       "    <tr>\n",
       "      <th>recall</th>\n",
       "      <td>True</td>\n",
       "      <td>True</td>\n",
       "    </tr>\n",
       "  </tbody>\n",
       "</table>\n",
       "</div>"
      ]
     },
     "execution_count": 25,
     "metadata": {},
     "output_type": "execute_result"
    }
   ],
   "execution_count": 25
  },
  {
   "metadata": {
    "ExecuteTime": {
     "end_time": "2025-01-09T15:26:12.963915Z",
     "start_time": "2025-01-09T15:26:12.947462Z"
    }
   },
   "cell_type": "code",
   "source": "pd.concat([onset_statistics, onset_pvalues], axis=1, keys=['Q', 'p']).stack(1, future_stack=True)",
   "id": "66a4ccb96adea9c7",
   "outputs": [
    {
     "data": {
      "text/plain": [
       "                             Q             p\n",
       "metric           gt                         \n",
       "criterion        MN  68.922280  6.800451e-13\n",
       "                 RA  94.618314  3.319779e-18\n",
       "d_prime          MN  66.093264  2.579425e-12\n",
       "                 RA  85.240254  2.943650e-16\n",
       "f1               MN  52.259067  1.653987e-09\n",
       "                 RA  70.335449  3.489760e-13\n",
       "false_alarm_rate MN  52.779944  1.299309e-09\n",
       "                 RA  73.444874  8.019047e-14\n",
       "precision        MN  43.630522  8.749977e-08\n",
       "                 RA  48.486940  9.443735e-09\n",
       "recall           MN  65.404826  3.566126e-12\n",
       "                 RA  92.139229  1.088599e-17"
      ],
      "text/html": [
       "<div>\n",
       "<style scoped>\n",
       "    .dataframe tbody tr th:only-of-type {\n",
       "        vertical-align: middle;\n",
       "    }\n",
       "\n",
       "    .dataframe tbody tr th {\n",
       "        vertical-align: top;\n",
       "    }\n",
       "\n",
       "    .dataframe thead th {\n",
       "        text-align: right;\n",
       "    }\n",
       "</style>\n",
       "<table border=\"1\" class=\"dataframe\">\n",
       "  <thead>\n",
       "    <tr style=\"text-align: right;\">\n",
       "      <th></th>\n",
       "      <th></th>\n",
       "      <th>Q</th>\n",
       "      <th>p</th>\n",
       "    </tr>\n",
       "    <tr>\n",
       "      <th>metric</th>\n",
       "      <th>gt</th>\n",
       "      <th></th>\n",
       "      <th></th>\n",
       "    </tr>\n",
       "  </thead>\n",
       "  <tbody>\n",
       "    <tr>\n",
       "      <th rowspan=\"2\" valign=\"top\">criterion</th>\n",
       "      <th>MN</th>\n",
       "      <td>68.922280</td>\n",
       "      <td>6.800451e-13</td>\n",
       "    </tr>\n",
       "    <tr>\n",
       "      <th>RA</th>\n",
       "      <td>94.618314</td>\n",
       "      <td>3.319779e-18</td>\n",
       "    </tr>\n",
       "    <tr>\n",
       "      <th rowspan=\"2\" valign=\"top\">d_prime</th>\n",
       "      <th>MN</th>\n",
       "      <td>66.093264</td>\n",
       "      <td>2.579425e-12</td>\n",
       "    </tr>\n",
       "    <tr>\n",
       "      <th>RA</th>\n",
       "      <td>85.240254</td>\n",
       "      <td>2.943650e-16</td>\n",
       "    </tr>\n",
       "    <tr>\n",
       "      <th rowspan=\"2\" valign=\"top\">f1</th>\n",
       "      <th>MN</th>\n",
       "      <td>52.259067</td>\n",
       "      <td>1.653987e-09</td>\n",
       "    </tr>\n",
       "    <tr>\n",
       "      <th>RA</th>\n",
       "      <td>70.335449</td>\n",
       "      <td>3.489760e-13</td>\n",
       "    </tr>\n",
       "    <tr>\n",
       "      <th rowspan=\"2\" valign=\"top\">false_alarm_rate</th>\n",
       "      <th>MN</th>\n",
       "      <td>52.779944</td>\n",
       "      <td>1.299309e-09</td>\n",
       "    </tr>\n",
       "    <tr>\n",
       "      <th>RA</th>\n",
       "      <td>73.444874</td>\n",
       "      <td>8.019047e-14</td>\n",
       "    </tr>\n",
       "    <tr>\n",
       "      <th rowspan=\"2\" valign=\"top\">precision</th>\n",
       "      <th>MN</th>\n",
       "      <td>43.630522</td>\n",
       "      <td>8.749977e-08</td>\n",
       "    </tr>\n",
       "    <tr>\n",
       "      <th>RA</th>\n",
       "      <td>48.486940</td>\n",
       "      <td>9.443735e-09</td>\n",
       "    </tr>\n",
       "    <tr>\n",
       "      <th rowspan=\"2\" valign=\"top\">recall</th>\n",
       "      <th>MN</th>\n",
       "      <td>65.404826</td>\n",
       "      <td>3.566126e-12</td>\n",
       "    </tr>\n",
       "    <tr>\n",
       "      <th>RA</th>\n",
       "      <td>92.139229</td>\n",
       "      <td>1.088599e-17</td>\n",
       "    </tr>\n",
       "  </tbody>\n",
       "</table>\n",
       "</div>"
      ]
     },
     "execution_count": 26,
     "metadata": {},
     "output_type": "execute_result"
    }
   ],
   "execution_count": 26
  },
  {
   "metadata": {},
   "cell_type": "markdown",
   "source": [
    "### Post Hoc Analysis\n",
    "#### $d'$"
   ],
   "id": "f6cf9657861db72d"
  },
  {
   "metadata": {
    "ExecuteTime": {
     "end_time": "2025-01-09T15:26:14.275644Z",
     "start_time": "2025-01-09T15:26:14.263282Z"
    }
   },
   "cell_type": "code",
   "source": [
    "post_hoc_onset_dprime = ch_sdt.post_hoc_table(\n",
    "    onset_nemenyi, peyes.constants.D_PRIME_STR, [GT1, GT2], ALPHA, marginal_alpha=MARGINAL_ALPHA\n",
    ")\n",
    "post_hoc_onset_dprime"
   ],
   "id": "d5c454d4668bdb86",
   "outputs": [
    {
     "data": {
      "text/plain": [
       "pred            ivt    ivvt     idt    idvt engbert      nh remodnav\n",
       "pred     gt                                                         \n",
       "ivt      MN      --    n.s.      **      **    n.s.     ***     n.s.\n",
       "         RA      --    n.s.     ***     ***    n.s.     ***       **\n",
       "ivvt     MN  1.0000      --      **      **    n.s.     ***     n.s.\n",
       "         RA  0.9999      --     ***      **    n.s.     ***        *\n",
       "idt      MN  0.0030  0.0028      --    n.s.     ***    n.s.     n.s.\n",
       "         RA  0.0002  0.0010      --    n.s.     ***    n.s.     n.s.\n",
       "idvt     MN  0.0061  0.0057  1.0000      --      **    n.s.     n.s.\n",
       "         RA  0.0008  0.0037  1.0000      --     ***    n.s.     n.s.\n",
       "engbert  MN  0.9998  0.9998  0.0004  0.0010      --     ***        *\n",
       "         RA  0.9982  0.9779  0.0000  0.0000      --     ***      ***\n",
       "nh       MN  0.0002  0.0002  0.9981  0.9924  0.0000      --     n.s.\n",
       "         RA  0.0000  0.0000  0.9982  0.9826  0.0000      --     n.s.\n",
       "remodnav MN  0.0870  0.0830  0.9733  0.9904  0.0245  0.7713       --\n",
       "         RA  0.0054  0.0197  0.9935  0.9997  0.0004  0.8806       --"
      ],
      "text/html": [
       "<div>\n",
       "<style scoped>\n",
       "    .dataframe tbody tr th:only-of-type {\n",
       "        vertical-align: middle;\n",
       "    }\n",
       "\n",
       "    .dataframe tbody tr th {\n",
       "        vertical-align: top;\n",
       "    }\n",
       "\n",
       "    .dataframe thead th {\n",
       "        text-align: right;\n",
       "    }\n",
       "</style>\n",
       "<table border=\"1\" class=\"dataframe\">\n",
       "  <thead>\n",
       "    <tr style=\"text-align: right;\">\n",
       "      <th></th>\n",
       "      <th>pred</th>\n",
       "      <th>ivt</th>\n",
       "      <th>ivvt</th>\n",
       "      <th>idt</th>\n",
       "      <th>idvt</th>\n",
       "      <th>engbert</th>\n",
       "      <th>nh</th>\n",
       "      <th>remodnav</th>\n",
       "    </tr>\n",
       "    <tr>\n",
       "      <th>pred</th>\n",
       "      <th>gt</th>\n",
       "      <th></th>\n",
       "      <th></th>\n",
       "      <th></th>\n",
       "      <th></th>\n",
       "      <th></th>\n",
       "      <th></th>\n",
       "      <th></th>\n",
       "    </tr>\n",
       "  </thead>\n",
       "  <tbody>\n",
       "    <tr>\n",
       "      <th rowspan=\"2\" valign=\"top\">ivt</th>\n",
       "      <th>MN</th>\n",
       "      <td>--</td>\n",
       "      <td>n.s.</td>\n",
       "      <td>**</td>\n",
       "      <td>**</td>\n",
       "      <td>n.s.</td>\n",
       "      <td>***</td>\n",
       "      <td>n.s.</td>\n",
       "    </tr>\n",
       "    <tr>\n",
       "      <th>RA</th>\n",
       "      <td>--</td>\n",
       "      <td>n.s.</td>\n",
       "      <td>***</td>\n",
       "      <td>***</td>\n",
       "      <td>n.s.</td>\n",
       "      <td>***</td>\n",
       "      <td>**</td>\n",
       "    </tr>\n",
       "    <tr>\n",
       "      <th rowspan=\"2\" valign=\"top\">ivvt</th>\n",
       "      <th>MN</th>\n",
       "      <td>1.0000</td>\n",
       "      <td>--</td>\n",
       "      <td>**</td>\n",
       "      <td>**</td>\n",
       "      <td>n.s.</td>\n",
       "      <td>***</td>\n",
       "      <td>n.s.</td>\n",
       "    </tr>\n",
       "    <tr>\n",
       "      <th>RA</th>\n",
       "      <td>0.9999</td>\n",
       "      <td>--</td>\n",
       "      <td>***</td>\n",
       "      <td>**</td>\n",
       "      <td>n.s.</td>\n",
       "      <td>***</td>\n",
       "      <td>*</td>\n",
       "    </tr>\n",
       "    <tr>\n",
       "      <th rowspan=\"2\" valign=\"top\">idt</th>\n",
       "      <th>MN</th>\n",
       "      <td>0.0030</td>\n",
       "      <td>0.0028</td>\n",
       "      <td>--</td>\n",
       "      <td>n.s.</td>\n",
       "      <td>***</td>\n",
       "      <td>n.s.</td>\n",
       "      <td>n.s.</td>\n",
       "    </tr>\n",
       "    <tr>\n",
       "      <th>RA</th>\n",
       "      <td>0.0002</td>\n",
       "      <td>0.0010</td>\n",
       "      <td>--</td>\n",
       "      <td>n.s.</td>\n",
       "      <td>***</td>\n",
       "      <td>n.s.</td>\n",
       "      <td>n.s.</td>\n",
       "    </tr>\n",
       "    <tr>\n",
       "      <th rowspan=\"2\" valign=\"top\">idvt</th>\n",
       "      <th>MN</th>\n",
       "      <td>0.0061</td>\n",
       "      <td>0.0057</td>\n",
       "      <td>1.0000</td>\n",
       "      <td>--</td>\n",
       "      <td>**</td>\n",
       "      <td>n.s.</td>\n",
       "      <td>n.s.</td>\n",
       "    </tr>\n",
       "    <tr>\n",
       "      <th>RA</th>\n",
       "      <td>0.0008</td>\n",
       "      <td>0.0037</td>\n",
       "      <td>1.0000</td>\n",
       "      <td>--</td>\n",
       "      <td>***</td>\n",
       "      <td>n.s.</td>\n",
       "      <td>n.s.</td>\n",
       "    </tr>\n",
       "    <tr>\n",
       "      <th rowspan=\"2\" valign=\"top\">engbert</th>\n",
       "      <th>MN</th>\n",
       "      <td>0.9998</td>\n",
       "      <td>0.9998</td>\n",
       "      <td>0.0004</td>\n",
       "      <td>0.0010</td>\n",
       "      <td>--</td>\n",
       "      <td>***</td>\n",
       "      <td>*</td>\n",
       "    </tr>\n",
       "    <tr>\n",
       "      <th>RA</th>\n",
       "      <td>0.9982</td>\n",
       "      <td>0.9779</td>\n",
       "      <td>0.0000</td>\n",
       "      <td>0.0000</td>\n",
       "      <td>--</td>\n",
       "      <td>***</td>\n",
       "      <td>***</td>\n",
       "    </tr>\n",
       "    <tr>\n",
       "      <th rowspan=\"2\" valign=\"top\">nh</th>\n",
       "      <th>MN</th>\n",
       "      <td>0.0002</td>\n",
       "      <td>0.0002</td>\n",
       "      <td>0.9981</td>\n",
       "      <td>0.9924</td>\n",
       "      <td>0.0000</td>\n",
       "      <td>--</td>\n",
       "      <td>n.s.</td>\n",
       "    </tr>\n",
       "    <tr>\n",
       "      <th>RA</th>\n",
       "      <td>0.0000</td>\n",
       "      <td>0.0000</td>\n",
       "      <td>0.9982</td>\n",
       "      <td>0.9826</td>\n",
       "      <td>0.0000</td>\n",
       "      <td>--</td>\n",
       "      <td>n.s.</td>\n",
       "    </tr>\n",
       "    <tr>\n",
       "      <th rowspan=\"2\" valign=\"top\">remodnav</th>\n",
       "      <th>MN</th>\n",
       "      <td>0.0870</td>\n",
       "      <td>0.0830</td>\n",
       "      <td>0.9733</td>\n",
       "      <td>0.9904</td>\n",
       "      <td>0.0245</td>\n",
       "      <td>0.7713</td>\n",
       "      <td>--</td>\n",
       "    </tr>\n",
       "    <tr>\n",
       "      <th>RA</th>\n",
       "      <td>0.0054</td>\n",
       "      <td>0.0197</td>\n",
       "      <td>0.9935</td>\n",
       "      <td>0.9997</td>\n",
       "      <td>0.0004</td>\n",
       "      <td>0.8806</td>\n",
       "      <td>--</td>\n",
       "    </tr>\n",
       "  </tbody>\n",
       "</table>\n",
       "</div>"
      ]
     },
     "execution_count": 27,
     "metadata": {},
     "output_type": "execute_result"
    }
   ],
   "execution_count": 27
  },
  {
   "metadata": {},
   "cell_type": "markdown",
   "source": "#### $f1$",
   "id": "74de59c0fab80c89"
  },
  {
   "metadata": {
    "ExecuteTime": {
     "end_time": "2025-01-09T15:26:14.819830Z",
     "start_time": "2025-01-09T15:26:14.806825Z"
    }
   },
   "cell_type": "code",
   "source": [
    "post_hoc_onset_f1 = ch_sdt.post_hoc_table(\n",
    "    onset_nemenyi, peyes.constants.F1_STR, [GT1, GT2], ALPHA, marginal_alpha=MARGINAL_ALPHA\n",
    ")\n",
    "post_hoc_onset_f1"
   ],
   "id": "3ef3b95a1ec4f610",
   "outputs": [
    {
     "data": {
      "text/plain": [
       "pred            ivt    ivvt     idt    idvt engbert      nh remodnav\n",
       "pred     gt                                                         \n",
       "ivt      MN      --    n.s.       *       †    n.s.      **        *\n",
       "         RA      --    n.s.      **       *    n.s.      **       **\n",
       "ivvt     MN  0.9837      --    n.s.    n.s.    n.s.    n.s.     n.s.\n",
       "         RA  0.9675      --    n.s.    n.s.    n.s.       *     n.s.\n",
       "idt      MN  0.0245  0.2565      --    n.s.       *    n.s.     n.s.\n",
       "         RA  0.0036  0.1080      --    n.s.      **    n.s.     n.s.\n",
       "idvt     MN  0.0543  0.3997  1.0000      --       †    n.s.     n.s.\n",
       "         RA  0.0123  0.2238  1.0000      --      **    n.s.     n.s.\n",
       "engbert  MN  1.0000  0.9898  0.0313  0.0674      --      **        *\n",
       "         RA  1.0000  0.9297  0.0017  0.0063      --     ***       **\n",
       "nh       MN  0.0048  0.0932  0.9997  0.9957  0.0065      --     n.s.\n",
       "         RA  0.0010  0.0476  1.0000  0.9979  0.0004      --     n.s.\n",
       "remodnav MN  0.0359  0.3193  1.0000  1.0000  0.0453  0.9987       --\n",
       "         RA  0.0025  0.0866  1.0000  0.9998  0.0012  1.0000       --"
      ],
      "text/html": [
       "<div>\n",
       "<style scoped>\n",
       "    .dataframe tbody tr th:only-of-type {\n",
       "        vertical-align: middle;\n",
       "    }\n",
       "\n",
       "    .dataframe tbody tr th {\n",
       "        vertical-align: top;\n",
       "    }\n",
       "\n",
       "    .dataframe thead th {\n",
       "        text-align: right;\n",
       "    }\n",
       "</style>\n",
       "<table border=\"1\" class=\"dataframe\">\n",
       "  <thead>\n",
       "    <tr style=\"text-align: right;\">\n",
       "      <th></th>\n",
       "      <th>pred</th>\n",
       "      <th>ivt</th>\n",
       "      <th>ivvt</th>\n",
       "      <th>idt</th>\n",
       "      <th>idvt</th>\n",
       "      <th>engbert</th>\n",
       "      <th>nh</th>\n",
       "      <th>remodnav</th>\n",
       "    </tr>\n",
       "    <tr>\n",
       "      <th>pred</th>\n",
       "      <th>gt</th>\n",
       "      <th></th>\n",
       "      <th></th>\n",
       "      <th></th>\n",
       "      <th></th>\n",
       "      <th></th>\n",
       "      <th></th>\n",
       "      <th></th>\n",
       "    </tr>\n",
       "  </thead>\n",
       "  <tbody>\n",
       "    <tr>\n",
       "      <th rowspan=\"2\" valign=\"top\">ivt</th>\n",
       "      <th>MN</th>\n",
       "      <td>--</td>\n",
       "      <td>n.s.</td>\n",
       "      <td>*</td>\n",
       "      <td>†</td>\n",
       "      <td>n.s.</td>\n",
       "      <td>**</td>\n",
       "      <td>*</td>\n",
       "    </tr>\n",
       "    <tr>\n",
       "      <th>RA</th>\n",
       "      <td>--</td>\n",
       "      <td>n.s.</td>\n",
       "      <td>**</td>\n",
       "      <td>*</td>\n",
       "      <td>n.s.</td>\n",
       "      <td>**</td>\n",
       "      <td>**</td>\n",
       "    </tr>\n",
       "    <tr>\n",
       "      <th rowspan=\"2\" valign=\"top\">ivvt</th>\n",
       "      <th>MN</th>\n",
       "      <td>0.9837</td>\n",
       "      <td>--</td>\n",
       "      <td>n.s.</td>\n",
       "      <td>n.s.</td>\n",
       "      <td>n.s.</td>\n",
       "      <td>n.s.</td>\n",
       "      <td>n.s.</td>\n",
       "    </tr>\n",
       "    <tr>\n",
       "      <th>RA</th>\n",
       "      <td>0.9675</td>\n",
       "      <td>--</td>\n",
       "      <td>n.s.</td>\n",
       "      <td>n.s.</td>\n",
       "      <td>n.s.</td>\n",
       "      <td>*</td>\n",
       "      <td>n.s.</td>\n",
       "    </tr>\n",
       "    <tr>\n",
       "      <th rowspan=\"2\" valign=\"top\">idt</th>\n",
       "      <th>MN</th>\n",
       "      <td>0.0245</td>\n",
       "      <td>0.2565</td>\n",
       "      <td>--</td>\n",
       "      <td>n.s.</td>\n",
       "      <td>*</td>\n",
       "      <td>n.s.</td>\n",
       "      <td>n.s.</td>\n",
       "    </tr>\n",
       "    <tr>\n",
       "      <th>RA</th>\n",
       "      <td>0.0036</td>\n",
       "      <td>0.1080</td>\n",
       "      <td>--</td>\n",
       "      <td>n.s.</td>\n",
       "      <td>**</td>\n",
       "      <td>n.s.</td>\n",
       "      <td>n.s.</td>\n",
       "    </tr>\n",
       "    <tr>\n",
       "      <th rowspan=\"2\" valign=\"top\">idvt</th>\n",
       "      <th>MN</th>\n",
       "      <td>0.0543</td>\n",
       "      <td>0.3997</td>\n",
       "      <td>1.0000</td>\n",
       "      <td>--</td>\n",
       "      <td>†</td>\n",
       "      <td>n.s.</td>\n",
       "      <td>n.s.</td>\n",
       "    </tr>\n",
       "    <tr>\n",
       "      <th>RA</th>\n",
       "      <td>0.0123</td>\n",
       "      <td>0.2238</td>\n",
       "      <td>1.0000</td>\n",
       "      <td>--</td>\n",
       "      <td>**</td>\n",
       "      <td>n.s.</td>\n",
       "      <td>n.s.</td>\n",
       "    </tr>\n",
       "    <tr>\n",
       "      <th rowspan=\"2\" valign=\"top\">engbert</th>\n",
       "      <th>MN</th>\n",
       "      <td>1.0000</td>\n",
       "      <td>0.9898</td>\n",
       "      <td>0.0313</td>\n",
       "      <td>0.0674</td>\n",
       "      <td>--</td>\n",
       "      <td>**</td>\n",
       "      <td>*</td>\n",
       "    </tr>\n",
       "    <tr>\n",
       "      <th>RA</th>\n",
       "      <td>1.0000</td>\n",
       "      <td>0.9297</td>\n",
       "      <td>0.0017</td>\n",
       "      <td>0.0063</td>\n",
       "      <td>--</td>\n",
       "      <td>***</td>\n",
       "      <td>**</td>\n",
       "    </tr>\n",
       "    <tr>\n",
       "      <th rowspan=\"2\" valign=\"top\">nh</th>\n",
       "      <th>MN</th>\n",
       "      <td>0.0048</td>\n",
       "      <td>0.0932</td>\n",
       "      <td>0.9997</td>\n",
       "      <td>0.9957</td>\n",
       "      <td>0.0065</td>\n",
       "      <td>--</td>\n",
       "      <td>n.s.</td>\n",
       "    </tr>\n",
       "    <tr>\n",
       "      <th>RA</th>\n",
       "      <td>0.0010</td>\n",
       "      <td>0.0476</td>\n",
       "      <td>1.0000</td>\n",
       "      <td>0.9979</td>\n",
       "      <td>0.0004</td>\n",
       "      <td>--</td>\n",
       "      <td>n.s.</td>\n",
       "    </tr>\n",
       "    <tr>\n",
       "      <th rowspan=\"2\" valign=\"top\">remodnav</th>\n",
       "      <th>MN</th>\n",
       "      <td>0.0359</td>\n",
       "      <td>0.3193</td>\n",
       "      <td>1.0000</td>\n",
       "      <td>1.0000</td>\n",
       "      <td>0.0453</td>\n",
       "      <td>0.9987</td>\n",
       "      <td>--</td>\n",
       "    </tr>\n",
       "    <tr>\n",
       "      <th>RA</th>\n",
       "      <td>0.0025</td>\n",
       "      <td>0.0866</td>\n",
       "      <td>1.0000</td>\n",
       "      <td>0.9998</td>\n",
       "      <td>0.0012</td>\n",
       "      <td>1.0000</td>\n",
       "      <td>--</td>\n",
       "    </tr>\n",
       "  </tbody>\n",
       "</table>\n",
       "</div>"
      ]
     },
     "execution_count": 28,
     "metadata": {},
     "output_type": "execute_result"
    }
   ],
   "execution_count": 28
  },
  {
   "metadata": {},
   "cell_type": "markdown",
   "source": "#### Criterion",
   "id": "ec803102f35ba403"
  },
  {
   "metadata": {
    "ExecuteTime": {
     "end_time": "2025-01-09T15:26:14.916766Z",
     "start_time": "2025-01-09T15:26:14.903854Z"
    }
   },
   "cell_type": "code",
   "source": [
    "post_hoc_onset_crit = ch_sdt.post_hoc_table(\n",
    "    onset_nemenyi, peyes.constants.CRITERION_STR, [GT1, GT2], ALPHA, marginal_alpha=MARGINAL_ALPHA\n",
    ")\n",
    "post_hoc_onset_crit"
   ],
   "id": "1483b47cd9ced1b7",
   "outputs": [
    {
     "data": {
      "text/plain": [
       "pred            ivt    ivvt     idt    idvt engbert      nh remodnav\n",
       "pred     gt                                                         \n",
       "ivt      MN      --    n.s.       *       †    n.s.    n.s.      ***\n",
       "         RA      --    n.s.      **      **    n.s.    n.s.      ***\n",
       "ivvt     MN  0.9985      --      **      **    n.s.       *      ***\n",
       "         RA  0.9983      --     ***     ***    n.s.       *      ***\n",
       "idt      MN  0.0328  0.0040      --    n.s.      **    n.s.     n.s.\n",
       "         RA  0.0017  0.0001      --    n.s.     ***    n.s.     n.s.\n",
       "idvt     MN  0.0530  0.0074  1.0000      --      **    n.s.     n.s.\n",
       "         RA  0.0027  0.0002  1.0000      --     ***    n.s.     n.s.\n",
       "engbert  MN  0.9967  1.0000  0.0028  0.0053      --       *      ***\n",
       "         RA  0.9936  1.0000  0.0000  0.0001      --       *      ***\n",
       "nh       MN  0.2104  0.0482  0.9955  0.9989  0.0369      --     n.s.\n",
       "         RA  0.1057  0.0178  0.9315  0.9570  0.0101      --     n.s.\n",
       "remodnav MN  0.0001  0.0000  0.8936  0.8288  0.0000  0.4997       --\n",
       "         RA  0.0000  0.0000  0.8800  0.8331  0.0000  0.2042       --"
      ],
      "text/html": [
       "<div>\n",
       "<style scoped>\n",
       "    .dataframe tbody tr th:only-of-type {\n",
       "        vertical-align: middle;\n",
       "    }\n",
       "\n",
       "    .dataframe tbody tr th {\n",
       "        vertical-align: top;\n",
       "    }\n",
       "\n",
       "    .dataframe thead th {\n",
       "        text-align: right;\n",
       "    }\n",
       "</style>\n",
       "<table border=\"1\" class=\"dataframe\">\n",
       "  <thead>\n",
       "    <tr style=\"text-align: right;\">\n",
       "      <th></th>\n",
       "      <th>pred</th>\n",
       "      <th>ivt</th>\n",
       "      <th>ivvt</th>\n",
       "      <th>idt</th>\n",
       "      <th>idvt</th>\n",
       "      <th>engbert</th>\n",
       "      <th>nh</th>\n",
       "      <th>remodnav</th>\n",
       "    </tr>\n",
       "    <tr>\n",
       "      <th>pred</th>\n",
       "      <th>gt</th>\n",
       "      <th></th>\n",
       "      <th></th>\n",
       "      <th></th>\n",
       "      <th></th>\n",
       "      <th></th>\n",
       "      <th></th>\n",
       "      <th></th>\n",
       "    </tr>\n",
       "  </thead>\n",
       "  <tbody>\n",
       "    <tr>\n",
       "      <th rowspan=\"2\" valign=\"top\">ivt</th>\n",
       "      <th>MN</th>\n",
       "      <td>--</td>\n",
       "      <td>n.s.</td>\n",
       "      <td>*</td>\n",
       "      <td>†</td>\n",
       "      <td>n.s.</td>\n",
       "      <td>n.s.</td>\n",
       "      <td>***</td>\n",
       "    </tr>\n",
       "    <tr>\n",
       "      <th>RA</th>\n",
       "      <td>--</td>\n",
       "      <td>n.s.</td>\n",
       "      <td>**</td>\n",
       "      <td>**</td>\n",
       "      <td>n.s.</td>\n",
       "      <td>n.s.</td>\n",
       "      <td>***</td>\n",
       "    </tr>\n",
       "    <tr>\n",
       "      <th rowspan=\"2\" valign=\"top\">ivvt</th>\n",
       "      <th>MN</th>\n",
       "      <td>0.9985</td>\n",
       "      <td>--</td>\n",
       "      <td>**</td>\n",
       "      <td>**</td>\n",
       "      <td>n.s.</td>\n",
       "      <td>*</td>\n",
       "      <td>***</td>\n",
       "    </tr>\n",
       "    <tr>\n",
       "      <th>RA</th>\n",
       "      <td>0.9983</td>\n",
       "      <td>--</td>\n",
       "      <td>***</td>\n",
       "      <td>***</td>\n",
       "      <td>n.s.</td>\n",
       "      <td>*</td>\n",
       "      <td>***</td>\n",
       "    </tr>\n",
       "    <tr>\n",
       "      <th rowspan=\"2\" valign=\"top\">idt</th>\n",
       "      <th>MN</th>\n",
       "      <td>0.0328</td>\n",
       "      <td>0.0040</td>\n",
       "      <td>--</td>\n",
       "      <td>n.s.</td>\n",
       "      <td>**</td>\n",
       "      <td>n.s.</td>\n",
       "      <td>n.s.</td>\n",
       "    </tr>\n",
       "    <tr>\n",
       "      <th>RA</th>\n",
       "      <td>0.0017</td>\n",
       "      <td>0.0001</td>\n",
       "      <td>--</td>\n",
       "      <td>n.s.</td>\n",
       "      <td>***</td>\n",
       "      <td>n.s.</td>\n",
       "      <td>n.s.</td>\n",
       "    </tr>\n",
       "    <tr>\n",
       "      <th rowspan=\"2\" valign=\"top\">idvt</th>\n",
       "      <th>MN</th>\n",
       "      <td>0.0530</td>\n",
       "      <td>0.0074</td>\n",
       "      <td>1.0000</td>\n",
       "      <td>--</td>\n",
       "      <td>**</td>\n",
       "      <td>n.s.</td>\n",
       "      <td>n.s.</td>\n",
       "    </tr>\n",
       "    <tr>\n",
       "      <th>RA</th>\n",
       "      <td>0.0027</td>\n",
       "      <td>0.0002</td>\n",
       "      <td>1.0000</td>\n",
       "      <td>--</td>\n",
       "      <td>***</td>\n",
       "      <td>n.s.</td>\n",
       "      <td>n.s.</td>\n",
       "    </tr>\n",
       "    <tr>\n",
       "      <th rowspan=\"2\" valign=\"top\">engbert</th>\n",
       "      <th>MN</th>\n",
       "      <td>0.9967</td>\n",
       "      <td>1.0000</td>\n",
       "      <td>0.0028</td>\n",
       "      <td>0.0053</td>\n",
       "      <td>--</td>\n",
       "      <td>*</td>\n",
       "      <td>***</td>\n",
       "    </tr>\n",
       "    <tr>\n",
       "      <th>RA</th>\n",
       "      <td>0.9936</td>\n",
       "      <td>1.0000</td>\n",
       "      <td>0.0000</td>\n",
       "      <td>0.0001</td>\n",
       "      <td>--</td>\n",
       "      <td>*</td>\n",
       "      <td>***</td>\n",
       "    </tr>\n",
       "    <tr>\n",
       "      <th rowspan=\"2\" valign=\"top\">nh</th>\n",
       "      <th>MN</th>\n",
       "      <td>0.2104</td>\n",
       "      <td>0.0482</td>\n",
       "      <td>0.9955</td>\n",
       "      <td>0.9989</td>\n",
       "      <td>0.0369</td>\n",
       "      <td>--</td>\n",
       "      <td>n.s.</td>\n",
       "    </tr>\n",
       "    <tr>\n",
       "      <th>RA</th>\n",
       "      <td>0.1057</td>\n",
       "      <td>0.0178</td>\n",
       "      <td>0.9315</td>\n",
       "      <td>0.9570</td>\n",
       "      <td>0.0101</td>\n",
       "      <td>--</td>\n",
       "      <td>n.s.</td>\n",
       "    </tr>\n",
       "    <tr>\n",
       "      <th rowspan=\"2\" valign=\"top\">remodnav</th>\n",
       "      <th>MN</th>\n",
       "      <td>0.0001</td>\n",
       "      <td>0.0000</td>\n",
       "      <td>0.8936</td>\n",
       "      <td>0.8288</td>\n",
       "      <td>0.0000</td>\n",
       "      <td>0.4997</td>\n",
       "      <td>--</td>\n",
       "    </tr>\n",
       "    <tr>\n",
       "      <th>RA</th>\n",
       "      <td>0.0000</td>\n",
       "      <td>0.0000</td>\n",
       "      <td>0.8800</td>\n",
       "      <td>0.8331</td>\n",
       "      <td>0.0000</td>\n",
       "      <td>0.2042</td>\n",
       "      <td>--</td>\n",
       "    </tr>\n",
       "  </tbody>\n",
       "</table>\n",
       "</div>"
      ]
     },
     "execution_count": 29,
     "metadata": {},
     "output_type": "execute_result"
    }
   ],
   "execution_count": 29
  },
  {
   "metadata": {},
   "cell_type": "markdown",
   "source": "## Offset Detection",
   "id": "33b7d591ad73ef29"
  },
  {
   "metadata": {
    "ExecuteTime": {
     "end_time": "2025-01-09T15:26:15.035290Z",
     "start_time": "2025-01-09T15:26:14.986149Z"
    }
   },
   "cell_type": "code",
   "source": [
    "offset_statistics, offset_pvalues, offset_nemenyi, offset_Ns = ch_sdt.friedman_nemenyi(\n",
    "    csdt_metrics, \"offset\", THRESHOLD, [GT1, GT2]\n",
    ")\n",
    "\n",
    "offset_pvalues <= ALPHA"
   ],
   "id": "f95fc40e661b29aa",
   "outputs": [
    {
     "data": {
      "text/plain": [
       "gt                   MN    RA\n",
       "metric                       \n",
       "criterion          True  True\n",
       "d_prime            True  True\n",
       "f1                 True  True\n",
       "false_alarm_rate   True  True\n",
       "precision         False  True\n",
       "recall             True  True"
      ],
      "text/html": [
       "<div>\n",
       "<style scoped>\n",
       "    .dataframe tbody tr th:only-of-type {\n",
       "        vertical-align: middle;\n",
       "    }\n",
       "\n",
       "    .dataframe tbody tr th {\n",
       "        vertical-align: top;\n",
       "    }\n",
       "\n",
       "    .dataframe thead th {\n",
       "        text-align: right;\n",
       "    }\n",
       "</style>\n",
       "<table border=\"1\" class=\"dataframe\">\n",
       "  <thead>\n",
       "    <tr style=\"text-align: right;\">\n",
       "      <th>gt</th>\n",
       "      <th>MN</th>\n",
       "      <th>RA</th>\n",
       "    </tr>\n",
       "    <tr>\n",
       "      <th>metric</th>\n",
       "      <th></th>\n",
       "      <th></th>\n",
       "    </tr>\n",
       "  </thead>\n",
       "  <tbody>\n",
       "    <tr>\n",
       "      <th>criterion</th>\n",
       "      <td>True</td>\n",
       "      <td>True</td>\n",
       "    </tr>\n",
       "    <tr>\n",
       "      <th>d_prime</th>\n",
       "      <td>True</td>\n",
       "      <td>True</td>\n",
       "    </tr>\n",
       "    <tr>\n",
       "      <th>f1</th>\n",
       "      <td>True</td>\n",
       "      <td>True</td>\n",
       "    </tr>\n",
       "    <tr>\n",
       "      <th>false_alarm_rate</th>\n",
       "      <td>True</td>\n",
       "      <td>True</td>\n",
       "    </tr>\n",
       "    <tr>\n",
       "      <th>precision</th>\n",
       "      <td>False</td>\n",
       "      <td>True</td>\n",
       "    </tr>\n",
       "    <tr>\n",
       "      <th>recall</th>\n",
       "      <td>True</td>\n",
       "      <td>True</td>\n",
       "    </tr>\n",
       "  </tbody>\n",
       "</table>\n",
       "</div>"
      ]
     },
     "execution_count": 30,
     "metadata": {},
     "output_type": "execute_result"
    }
   ],
   "execution_count": 30
  },
  {
   "metadata": {
    "ExecuteTime": {
     "end_time": "2025-01-09T15:26:15.094538Z",
     "start_time": "2025-01-09T15:26:15.087534Z"
    }
   },
   "cell_type": "code",
   "source": "pd.concat([offset_statistics, offset_pvalues], axis=1, keys=['Q', 'p']).stack(1, future_stack=True)",
   "id": "96f2c9e58c03a12f",
   "outputs": [
    {
     "data": {
      "text/plain": [
       "                             Q             p\n",
       "metric           gt                         \n",
       "criterion        MN  66.650323  1.984403e-12\n",
       "                 RA  90.913043  1.957708e-17\n",
       "d_prime          MN  27.630968  1.102522e-04\n",
       "                 RA  72.652174  1.167045e-13\n",
       "f1               MN  32.738916  1.177103e-05\n",
       "                 RA  64.237425  6.173524e-12\n",
       "false_alarm_rate MN  34.614776  5.116978e-06\n",
       "                 RA  49.101695  7.114555e-09\n",
       "precision        MN  12.534884  5.104623e-02\n",
       "                 RA  46.399274  2.465212e-08\n",
       "recall           MN  52.336000  1.596082e-09\n",
       "                 RA  92.267155  1.023925e-17"
      ],
      "text/html": [
       "<div>\n",
       "<style scoped>\n",
       "    .dataframe tbody tr th:only-of-type {\n",
       "        vertical-align: middle;\n",
       "    }\n",
       "\n",
       "    .dataframe tbody tr th {\n",
       "        vertical-align: top;\n",
       "    }\n",
       "\n",
       "    .dataframe thead th {\n",
       "        text-align: right;\n",
       "    }\n",
       "</style>\n",
       "<table border=\"1\" class=\"dataframe\">\n",
       "  <thead>\n",
       "    <tr style=\"text-align: right;\">\n",
       "      <th></th>\n",
       "      <th></th>\n",
       "      <th>Q</th>\n",
       "      <th>p</th>\n",
       "    </tr>\n",
       "    <tr>\n",
       "      <th>metric</th>\n",
       "      <th>gt</th>\n",
       "      <th></th>\n",
       "      <th></th>\n",
       "    </tr>\n",
       "  </thead>\n",
       "  <tbody>\n",
       "    <tr>\n",
       "      <th rowspan=\"2\" valign=\"top\">criterion</th>\n",
       "      <th>MN</th>\n",
       "      <td>66.650323</td>\n",
       "      <td>1.984403e-12</td>\n",
       "    </tr>\n",
       "    <tr>\n",
       "      <th>RA</th>\n",
       "      <td>90.913043</td>\n",
       "      <td>1.957708e-17</td>\n",
       "    </tr>\n",
       "    <tr>\n",
       "      <th rowspan=\"2\" valign=\"top\">d_prime</th>\n",
       "      <th>MN</th>\n",
       "      <td>27.630968</td>\n",
       "      <td>1.102522e-04</td>\n",
       "    </tr>\n",
       "    <tr>\n",
       "      <th>RA</th>\n",
       "      <td>72.652174</td>\n",
       "      <td>1.167045e-13</td>\n",
       "    </tr>\n",
       "    <tr>\n",
       "      <th rowspan=\"2\" valign=\"top\">f1</th>\n",
       "      <th>MN</th>\n",
       "      <td>32.738916</td>\n",
       "      <td>1.177103e-05</td>\n",
       "    </tr>\n",
       "    <tr>\n",
       "      <th>RA</th>\n",
       "      <td>64.237425</td>\n",
       "      <td>6.173524e-12</td>\n",
       "    </tr>\n",
       "    <tr>\n",
       "      <th rowspan=\"2\" valign=\"top\">false_alarm_rate</th>\n",
       "      <th>MN</th>\n",
       "      <td>34.614776</td>\n",
       "      <td>5.116978e-06</td>\n",
       "    </tr>\n",
       "    <tr>\n",
       "      <th>RA</th>\n",
       "      <td>49.101695</td>\n",
       "      <td>7.114555e-09</td>\n",
       "    </tr>\n",
       "    <tr>\n",
       "      <th rowspan=\"2\" valign=\"top\">precision</th>\n",
       "      <th>MN</th>\n",
       "      <td>12.534884</td>\n",
       "      <td>5.104623e-02</td>\n",
       "    </tr>\n",
       "    <tr>\n",
       "      <th>RA</th>\n",
       "      <td>46.399274</td>\n",
       "      <td>2.465212e-08</td>\n",
       "    </tr>\n",
       "    <tr>\n",
       "      <th rowspan=\"2\" valign=\"top\">recall</th>\n",
       "      <th>MN</th>\n",
       "      <td>52.336000</td>\n",
       "      <td>1.596082e-09</td>\n",
       "    </tr>\n",
       "    <tr>\n",
       "      <th>RA</th>\n",
       "      <td>92.267155</td>\n",
       "      <td>1.023925e-17</td>\n",
       "    </tr>\n",
       "  </tbody>\n",
       "</table>\n",
       "</div>"
      ]
     },
     "execution_count": 31,
     "metadata": {},
     "output_type": "execute_result"
    }
   ],
   "execution_count": 31
  },
  {
   "metadata": {},
   "cell_type": "markdown",
   "source": [
    "### Post Hoc Analysis\n",
    "#### $d'$"
   ],
   "id": "3307da51ab71c91e"
  },
  {
   "metadata": {
    "ExecuteTime": {
     "end_time": "2025-01-09T15:26:15.159049Z",
     "start_time": "2025-01-09T15:26:15.145220Z"
    }
   },
   "cell_type": "code",
   "source": [
    "post_hoc_offset_dprime = ch_sdt.post_hoc_table(\n",
    "    offset_nemenyi, peyes.constants.D_PRIME_STR, [GT1, GT2], ALPHA, marginal_alpha=MARGINAL_ALPHA\n",
    ")\n",
    "post_hoc_offset_dprime"
   ],
   "id": "3173819db7a14c90",
   "outputs": [
    {
     "data": {
      "text/plain": [
       "pred            ivt    ivvt     idt    idvt engbert      nh remodnav\n",
       "pred     gt                                                         \n",
       "ivt      MN      --    n.s.    n.s.    n.s.    n.s.    n.s.     n.s.\n",
       "         RA      --    n.s.     ***     ***    n.s.    n.s.       **\n",
       "ivvt     MN  1.0000      --       †       †    n.s.    n.s.        †\n",
       "         RA  1.0000      --     ***     ***    n.s.    n.s.       **\n",
       "idt      MN  0.1251  0.0617      --    n.s.    n.s.       †     n.s.\n",
       "         RA  0.0004  0.0001      --    n.s.    n.s.      **     n.s.\n",
       "idvt     MN  0.1400  0.0703  1.0000      --    n.s.    n.s.     n.s.\n",
       "         RA  0.0003  0.0001  1.0000      --    n.s.      **     n.s.\n",
       "engbert  MN  0.8884  0.7650  0.8473  0.8670      --    n.s.     n.s.\n",
       "         RA  0.7399  0.6074  0.1446  0.1259      --    n.s.     n.s.\n",
       "nh       MN  1.0000  1.0000  0.0726  0.0824  0.7959      --        †\n",
       "         RA  0.9995  0.9959  0.0033  0.0026  0.9390      --        *\n",
       "remodnav MN  0.1208  0.0591  1.0000  1.0000  0.8408  0.0697       --\n",
       "         RA  0.0098  0.0043  0.9934  0.9901  0.5496  0.0486       --"
      ],
      "text/html": [
       "<div>\n",
       "<style scoped>\n",
       "    .dataframe tbody tr th:only-of-type {\n",
       "        vertical-align: middle;\n",
       "    }\n",
       "\n",
       "    .dataframe tbody tr th {\n",
       "        vertical-align: top;\n",
       "    }\n",
       "\n",
       "    .dataframe thead th {\n",
       "        text-align: right;\n",
       "    }\n",
       "</style>\n",
       "<table border=\"1\" class=\"dataframe\">\n",
       "  <thead>\n",
       "    <tr style=\"text-align: right;\">\n",
       "      <th></th>\n",
       "      <th>pred</th>\n",
       "      <th>ivt</th>\n",
       "      <th>ivvt</th>\n",
       "      <th>idt</th>\n",
       "      <th>idvt</th>\n",
       "      <th>engbert</th>\n",
       "      <th>nh</th>\n",
       "      <th>remodnav</th>\n",
       "    </tr>\n",
       "    <tr>\n",
       "      <th>pred</th>\n",
       "      <th>gt</th>\n",
       "      <th></th>\n",
       "      <th></th>\n",
       "      <th></th>\n",
       "      <th></th>\n",
       "      <th></th>\n",
       "      <th></th>\n",
       "      <th></th>\n",
       "    </tr>\n",
       "  </thead>\n",
       "  <tbody>\n",
       "    <tr>\n",
       "      <th rowspan=\"2\" valign=\"top\">ivt</th>\n",
       "      <th>MN</th>\n",
       "      <td>--</td>\n",
       "      <td>n.s.</td>\n",
       "      <td>n.s.</td>\n",
       "      <td>n.s.</td>\n",
       "      <td>n.s.</td>\n",
       "      <td>n.s.</td>\n",
       "      <td>n.s.</td>\n",
       "    </tr>\n",
       "    <tr>\n",
       "      <th>RA</th>\n",
       "      <td>--</td>\n",
       "      <td>n.s.</td>\n",
       "      <td>***</td>\n",
       "      <td>***</td>\n",
       "      <td>n.s.</td>\n",
       "      <td>n.s.</td>\n",
       "      <td>**</td>\n",
       "    </tr>\n",
       "    <tr>\n",
       "      <th rowspan=\"2\" valign=\"top\">ivvt</th>\n",
       "      <th>MN</th>\n",
       "      <td>1.0000</td>\n",
       "      <td>--</td>\n",
       "      <td>†</td>\n",
       "      <td>†</td>\n",
       "      <td>n.s.</td>\n",
       "      <td>n.s.</td>\n",
       "      <td>†</td>\n",
       "    </tr>\n",
       "    <tr>\n",
       "      <th>RA</th>\n",
       "      <td>1.0000</td>\n",
       "      <td>--</td>\n",
       "      <td>***</td>\n",
       "      <td>***</td>\n",
       "      <td>n.s.</td>\n",
       "      <td>n.s.</td>\n",
       "      <td>**</td>\n",
       "    </tr>\n",
       "    <tr>\n",
       "      <th rowspan=\"2\" valign=\"top\">idt</th>\n",
       "      <th>MN</th>\n",
       "      <td>0.1251</td>\n",
       "      <td>0.0617</td>\n",
       "      <td>--</td>\n",
       "      <td>n.s.</td>\n",
       "      <td>n.s.</td>\n",
       "      <td>†</td>\n",
       "      <td>n.s.</td>\n",
       "    </tr>\n",
       "    <tr>\n",
       "      <th>RA</th>\n",
       "      <td>0.0004</td>\n",
       "      <td>0.0001</td>\n",
       "      <td>--</td>\n",
       "      <td>n.s.</td>\n",
       "      <td>n.s.</td>\n",
       "      <td>**</td>\n",
       "      <td>n.s.</td>\n",
       "    </tr>\n",
       "    <tr>\n",
       "      <th rowspan=\"2\" valign=\"top\">idvt</th>\n",
       "      <th>MN</th>\n",
       "      <td>0.1400</td>\n",
       "      <td>0.0703</td>\n",
       "      <td>1.0000</td>\n",
       "      <td>--</td>\n",
       "      <td>n.s.</td>\n",
       "      <td>n.s.</td>\n",
       "      <td>n.s.</td>\n",
       "    </tr>\n",
       "    <tr>\n",
       "      <th>RA</th>\n",
       "      <td>0.0003</td>\n",
       "      <td>0.0001</td>\n",
       "      <td>1.0000</td>\n",
       "      <td>--</td>\n",
       "      <td>n.s.</td>\n",
       "      <td>**</td>\n",
       "      <td>n.s.</td>\n",
       "    </tr>\n",
       "    <tr>\n",
       "      <th rowspan=\"2\" valign=\"top\">engbert</th>\n",
       "      <th>MN</th>\n",
       "      <td>0.8884</td>\n",
       "      <td>0.7650</td>\n",
       "      <td>0.8473</td>\n",
       "      <td>0.8670</td>\n",
       "      <td>--</td>\n",
       "      <td>n.s.</td>\n",
       "      <td>n.s.</td>\n",
       "    </tr>\n",
       "    <tr>\n",
       "      <th>RA</th>\n",
       "      <td>0.7399</td>\n",
       "      <td>0.6074</td>\n",
       "      <td>0.1446</td>\n",
       "      <td>0.1259</td>\n",
       "      <td>--</td>\n",
       "      <td>n.s.</td>\n",
       "      <td>n.s.</td>\n",
       "    </tr>\n",
       "    <tr>\n",
       "      <th rowspan=\"2\" valign=\"top\">nh</th>\n",
       "      <th>MN</th>\n",
       "      <td>1.0000</td>\n",
       "      <td>1.0000</td>\n",
       "      <td>0.0726</td>\n",
       "      <td>0.0824</td>\n",
       "      <td>0.7959</td>\n",
       "      <td>--</td>\n",
       "      <td>†</td>\n",
       "    </tr>\n",
       "    <tr>\n",
       "      <th>RA</th>\n",
       "      <td>0.9995</td>\n",
       "      <td>0.9959</td>\n",
       "      <td>0.0033</td>\n",
       "      <td>0.0026</td>\n",
       "      <td>0.9390</td>\n",
       "      <td>--</td>\n",
       "      <td>*</td>\n",
       "    </tr>\n",
       "    <tr>\n",
       "      <th rowspan=\"2\" valign=\"top\">remodnav</th>\n",
       "      <th>MN</th>\n",
       "      <td>0.1208</td>\n",
       "      <td>0.0591</td>\n",
       "      <td>1.0000</td>\n",
       "      <td>1.0000</td>\n",
       "      <td>0.8408</td>\n",
       "      <td>0.0697</td>\n",
       "      <td>--</td>\n",
       "    </tr>\n",
       "    <tr>\n",
       "      <th>RA</th>\n",
       "      <td>0.0098</td>\n",
       "      <td>0.0043</td>\n",
       "      <td>0.9934</td>\n",
       "      <td>0.9901</td>\n",
       "      <td>0.5496</td>\n",
       "      <td>0.0486</td>\n",
       "      <td>--</td>\n",
       "    </tr>\n",
       "  </tbody>\n",
       "</table>\n",
       "</div>"
      ]
     },
     "execution_count": 32,
     "metadata": {},
     "output_type": "execute_result"
    }
   ],
   "execution_count": 32
  },
  {
   "metadata": {},
   "cell_type": "markdown",
   "source": "#### $f1$",
   "id": "a84dd0e6c6265453"
  },
  {
   "metadata": {
    "ExecuteTime": {
     "end_time": "2025-01-09T15:26:15.224862Z",
     "start_time": "2025-01-09T15:26:15.211778Z"
    }
   },
   "cell_type": "code",
   "source": [
    "post_hoc_offset_f1 = ch_sdt.post_hoc_table(\n",
    "    offset_nemenyi, peyes.constants.F1_STR, [GT1, GT2], ALPHA, marginal_alpha=MARGINAL_ALPHA\n",
    ")\n",
    "post_hoc_offset_f1"
   ],
   "id": "d9082eb5f8acdd40",
   "outputs": [
    {
     "data": {
      "text/plain": [
       "pred            ivt    ivvt     idt    idvt engbert      nh remodnav\n",
       "pred     gt                                                         \n",
       "ivt      MN      --    n.s.    n.s.    n.s.    n.s.    n.s.        †\n",
       "         RA      --    n.s.      **      **    n.s.    n.s.       **\n",
       "ivvt     MN  1.0000      --    n.s.    n.s.    n.s.    n.s.        *\n",
       "         RA  1.0000      --      **      **    n.s.    n.s.       **\n",
       "idt      MN  0.1132  0.0875      --    n.s.    n.s.    n.s.     n.s.\n",
       "         RA  0.0014  0.0013      --    n.s.    n.s.       *     n.s.\n",
       "idvt     MN  0.1222  0.0949  1.0000      --    n.s.    n.s.     n.s.\n",
       "         RA  0.0014  0.0013  1.0000      --    n.s.       *     n.s.\n",
       "engbert  MN  0.8873  0.8460  0.8184  0.8330      --    n.s.     n.s.\n",
       "         RA  0.8008  0.7920  0.1940  0.1879      --    n.s.     n.s.\n",
       "nh       MN  0.9999  0.9996  0.2505  0.2658  0.9753      --     n.s.\n",
       "         RA  0.9900  0.9888  0.0300  0.0286  0.9952      --        *\n",
       "remodnav MN  0.0648  0.0488  1.0000  1.0000  0.6873  0.1583       --\n",
       "         RA  0.0021  0.0020  1.0000  1.0000  0.2538  0.0427       --"
      ],
      "text/html": [
       "<div>\n",
       "<style scoped>\n",
       "    .dataframe tbody tr th:only-of-type {\n",
       "        vertical-align: middle;\n",
       "    }\n",
       "\n",
       "    .dataframe tbody tr th {\n",
       "        vertical-align: top;\n",
       "    }\n",
       "\n",
       "    .dataframe thead th {\n",
       "        text-align: right;\n",
       "    }\n",
       "</style>\n",
       "<table border=\"1\" class=\"dataframe\">\n",
       "  <thead>\n",
       "    <tr style=\"text-align: right;\">\n",
       "      <th></th>\n",
       "      <th>pred</th>\n",
       "      <th>ivt</th>\n",
       "      <th>ivvt</th>\n",
       "      <th>idt</th>\n",
       "      <th>idvt</th>\n",
       "      <th>engbert</th>\n",
       "      <th>nh</th>\n",
       "      <th>remodnav</th>\n",
       "    </tr>\n",
       "    <tr>\n",
       "      <th>pred</th>\n",
       "      <th>gt</th>\n",
       "      <th></th>\n",
       "      <th></th>\n",
       "      <th></th>\n",
       "      <th></th>\n",
       "      <th></th>\n",
       "      <th></th>\n",
       "      <th></th>\n",
       "    </tr>\n",
       "  </thead>\n",
       "  <tbody>\n",
       "    <tr>\n",
       "      <th rowspan=\"2\" valign=\"top\">ivt</th>\n",
       "      <th>MN</th>\n",
       "      <td>--</td>\n",
       "      <td>n.s.</td>\n",
       "      <td>n.s.</td>\n",
       "      <td>n.s.</td>\n",
       "      <td>n.s.</td>\n",
       "      <td>n.s.</td>\n",
       "      <td>†</td>\n",
       "    </tr>\n",
       "    <tr>\n",
       "      <th>RA</th>\n",
       "      <td>--</td>\n",
       "      <td>n.s.</td>\n",
       "      <td>**</td>\n",
       "      <td>**</td>\n",
       "      <td>n.s.</td>\n",
       "      <td>n.s.</td>\n",
       "      <td>**</td>\n",
       "    </tr>\n",
       "    <tr>\n",
       "      <th rowspan=\"2\" valign=\"top\">ivvt</th>\n",
       "      <th>MN</th>\n",
       "      <td>1.0000</td>\n",
       "      <td>--</td>\n",
       "      <td>n.s.</td>\n",
       "      <td>n.s.</td>\n",
       "      <td>n.s.</td>\n",
       "      <td>n.s.</td>\n",
       "      <td>*</td>\n",
       "    </tr>\n",
       "    <tr>\n",
       "      <th>RA</th>\n",
       "      <td>1.0000</td>\n",
       "      <td>--</td>\n",
       "      <td>**</td>\n",
       "      <td>**</td>\n",
       "      <td>n.s.</td>\n",
       "      <td>n.s.</td>\n",
       "      <td>**</td>\n",
       "    </tr>\n",
       "    <tr>\n",
       "      <th rowspan=\"2\" valign=\"top\">idt</th>\n",
       "      <th>MN</th>\n",
       "      <td>0.1132</td>\n",
       "      <td>0.0875</td>\n",
       "      <td>--</td>\n",
       "      <td>n.s.</td>\n",
       "      <td>n.s.</td>\n",
       "      <td>n.s.</td>\n",
       "      <td>n.s.</td>\n",
       "    </tr>\n",
       "    <tr>\n",
       "      <th>RA</th>\n",
       "      <td>0.0014</td>\n",
       "      <td>0.0013</td>\n",
       "      <td>--</td>\n",
       "      <td>n.s.</td>\n",
       "      <td>n.s.</td>\n",
       "      <td>*</td>\n",
       "      <td>n.s.</td>\n",
       "    </tr>\n",
       "    <tr>\n",
       "      <th rowspan=\"2\" valign=\"top\">idvt</th>\n",
       "      <th>MN</th>\n",
       "      <td>0.1222</td>\n",
       "      <td>0.0949</td>\n",
       "      <td>1.0000</td>\n",
       "      <td>--</td>\n",
       "      <td>n.s.</td>\n",
       "      <td>n.s.</td>\n",
       "      <td>n.s.</td>\n",
       "    </tr>\n",
       "    <tr>\n",
       "      <th>RA</th>\n",
       "      <td>0.0014</td>\n",
       "      <td>0.0013</td>\n",
       "      <td>1.0000</td>\n",
       "      <td>--</td>\n",
       "      <td>n.s.</td>\n",
       "      <td>*</td>\n",
       "      <td>n.s.</td>\n",
       "    </tr>\n",
       "    <tr>\n",
       "      <th rowspan=\"2\" valign=\"top\">engbert</th>\n",
       "      <th>MN</th>\n",
       "      <td>0.8873</td>\n",
       "      <td>0.8460</td>\n",
       "      <td>0.8184</td>\n",
       "      <td>0.8330</td>\n",
       "      <td>--</td>\n",
       "      <td>n.s.</td>\n",
       "      <td>n.s.</td>\n",
       "    </tr>\n",
       "    <tr>\n",
       "      <th>RA</th>\n",
       "      <td>0.8008</td>\n",
       "      <td>0.7920</td>\n",
       "      <td>0.1940</td>\n",
       "      <td>0.1879</td>\n",
       "      <td>--</td>\n",
       "      <td>n.s.</td>\n",
       "      <td>n.s.</td>\n",
       "    </tr>\n",
       "    <tr>\n",
       "      <th rowspan=\"2\" valign=\"top\">nh</th>\n",
       "      <th>MN</th>\n",
       "      <td>0.9999</td>\n",
       "      <td>0.9996</td>\n",
       "      <td>0.2505</td>\n",
       "      <td>0.2658</td>\n",
       "      <td>0.9753</td>\n",
       "      <td>--</td>\n",
       "      <td>n.s.</td>\n",
       "    </tr>\n",
       "    <tr>\n",
       "      <th>RA</th>\n",
       "      <td>0.9900</td>\n",
       "      <td>0.9888</td>\n",
       "      <td>0.0300</td>\n",
       "      <td>0.0286</td>\n",
       "      <td>0.9952</td>\n",
       "      <td>--</td>\n",
       "      <td>*</td>\n",
       "    </tr>\n",
       "    <tr>\n",
       "      <th rowspan=\"2\" valign=\"top\">remodnav</th>\n",
       "      <th>MN</th>\n",
       "      <td>0.0648</td>\n",
       "      <td>0.0488</td>\n",
       "      <td>1.0000</td>\n",
       "      <td>1.0000</td>\n",
       "      <td>0.6873</td>\n",
       "      <td>0.1583</td>\n",
       "      <td>--</td>\n",
       "    </tr>\n",
       "    <tr>\n",
       "      <th>RA</th>\n",
       "      <td>0.0021</td>\n",
       "      <td>0.0020</td>\n",
       "      <td>1.0000</td>\n",
       "      <td>1.0000</td>\n",
       "      <td>0.2538</td>\n",
       "      <td>0.0427</td>\n",
       "      <td>--</td>\n",
       "    </tr>\n",
       "  </tbody>\n",
       "</table>\n",
       "</div>"
      ]
     },
     "execution_count": 33,
     "metadata": {},
     "output_type": "execute_result"
    }
   ],
   "execution_count": 33
  },
  {
   "metadata": {},
   "cell_type": "markdown",
   "source": "#### Criterion",
   "id": "357ce8a4eca5c0de"
  },
  {
   "metadata": {
    "ExecuteTime": {
     "end_time": "2025-01-09T15:26:15.321975Z",
     "start_time": "2025-01-09T15:26:15.308972Z"
    }
   },
   "cell_type": "code",
   "source": [
    "post_hoc_offset_crit = ch_sdt.post_hoc_table(\n",
    "    offset_nemenyi, peyes.constants.CRITERION_STR, [GT1, GT2], ALPHA, marginal_alpha=MARGINAL_ALPHA\n",
    ")\n",
    "post_hoc_offset_crit"
   ],
   "id": "54582390bbc80bcb",
   "outputs": [
    {
     "data": {
      "text/plain": [
       "pred            ivt    ivvt     idt    idvt engbert      nh remodnav\n",
       "pred     gt                                                         \n",
       "ivt      MN      --    n.s.       *       *    n.s.    n.s.      ***\n",
       "         RA      --    n.s.     ***     ***    n.s.    n.s.      ***\n",
       "ivvt     MN  0.9795      --     ***     ***    n.s.    n.s.      ***\n",
       "         RA  0.9195      --     ***     ***    n.s.       †      ***\n",
       "idt      MN  0.0127  0.0002      --    n.s.       †    n.s.     n.s.\n",
       "         RA  0.0004  0.0000      --    n.s.      **    n.s.     n.s.\n",
       "idvt     MN  0.0180  0.0004  1.0000      --    n.s.    n.s.     n.s.\n",
       "         RA  0.0006  0.0000  1.0000      --      **    n.s.     n.s.\n",
       "engbert  MN  0.9995  0.8561  0.0596  0.0786      --    n.s.       **\n",
       "         RA  1.0000  0.8259  0.0013  0.0019      --    n.s.      ***\n",
       "nh       MN  0.7220  0.1789  0.6156  0.6781  0.9309      --     n.s.\n",
       "         RA  0.6704  0.0680  0.1963  0.2325  0.8076      --     n.s.\n",
       "remodnav MN  0.0005  0.0000  0.9924  0.9856  0.0040  0.1744       --\n",
       "         RA  0.0001  0.0000  0.9999  0.9998  0.0003  0.0906       --"
      ],
      "text/html": [
       "<div>\n",
       "<style scoped>\n",
       "    .dataframe tbody tr th:only-of-type {\n",
       "        vertical-align: middle;\n",
       "    }\n",
       "\n",
       "    .dataframe tbody tr th {\n",
       "        vertical-align: top;\n",
       "    }\n",
       "\n",
       "    .dataframe thead th {\n",
       "        text-align: right;\n",
       "    }\n",
       "</style>\n",
       "<table border=\"1\" class=\"dataframe\">\n",
       "  <thead>\n",
       "    <tr style=\"text-align: right;\">\n",
       "      <th></th>\n",
       "      <th>pred</th>\n",
       "      <th>ivt</th>\n",
       "      <th>ivvt</th>\n",
       "      <th>idt</th>\n",
       "      <th>idvt</th>\n",
       "      <th>engbert</th>\n",
       "      <th>nh</th>\n",
       "      <th>remodnav</th>\n",
       "    </tr>\n",
       "    <tr>\n",
       "      <th>pred</th>\n",
       "      <th>gt</th>\n",
       "      <th></th>\n",
       "      <th></th>\n",
       "      <th></th>\n",
       "      <th></th>\n",
       "      <th></th>\n",
       "      <th></th>\n",
       "      <th></th>\n",
       "    </tr>\n",
       "  </thead>\n",
       "  <tbody>\n",
       "    <tr>\n",
       "      <th rowspan=\"2\" valign=\"top\">ivt</th>\n",
       "      <th>MN</th>\n",
       "      <td>--</td>\n",
       "      <td>n.s.</td>\n",
       "      <td>*</td>\n",
       "      <td>*</td>\n",
       "      <td>n.s.</td>\n",
       "      <td>n.s.</td>\n",
       "      <td>***</td>\n",
       "    </tr>\n",
       "    <tr>\n",
       "      <th>RA</th>\n",
       "      <td>--</td>\n",
       "      <td>n.s.</td>\n",
       "      <td>***</td>\n",
       "      <td>***</td>\n",
       "      <td>n.s.</td>\n",
       "      <td>n.s.</td>\n",
       "      <td>***</td>\n",
       "    </tr>\n",
       "    <tr>\n",
       "      <th rowspan=\"2\" valign=\"top\">ivvt</th>\n",
       "      <th>MN</th>\n",
       "      <td>0.9795</td>\n",
       "      <td>--</td>\n",
       "      <td>***</td>\n",
       "      <td>***</td>\n",
       "      <td>n.s.</td>\n",
       "      <td>n.s.</td>\n",
       "      <td>***</td>\n",
       "    </tr>\n",
       "    <tr>\n",
       "      <th>RA</th>\n",
       "      <td>0.9195</td>\n",
       "      <td>--</td>\n",
       "      <td>***</td>\n",
       "      <td>***</td>\n",
       "      <td>n.s.</td>\n",
       "      <td>†</td>\n",
       "      <td>***</td>\n",
       "    </tr>\n",
       "    <tr>\n",
       "      <th rowspan=\"2\" valign=\"top\">idt</th>\n",
       "      <th>MN</th>\n",
       "      <td>0.0127</td>\n",
       "      <td>0.0002</td>\n",
       "      <td>--</td>\n",
       "      <td>n.s.</td>\n",
       "      <td>†</td>\n",
       "      <td>n.s.</td>\n",
       "      <td>n.s.</td>\n",
       "    </tr>\n",
       "    <tr>\n",
       "      <th>RA</th>\n",
       "      <td>0.0004</td>\n",
       "      <td>0.0000</td>\n",
       "      <td>--</td>\n",
       "      <td>n.s.</td>\n",
       "      <td>**</td>\n",
       "      <td>n.s.</td>\n",
       "      <td>n.s.</td>\n",
       "    </tr>\n",
       "    <tr>\n",
       "      <th rowspan=\"2\" valign=\"top\">idvt</th>\n",
       "      <th>MN</th>\n",
       "      <td>0.0180</td>\n",
       "      <td>0.0004</td>\n",
       "      <td>1.0000</td>\n",
       "      <td>--</td>\n",
       "      <td>n.s.</td>\n",
       "      <td>n.s.</td>\n",
       "      <td>n.s.</td>\n",
       "    </tr>\n",
       "    <tr>\n",
       "      <th>RA</th>\n",
       "      <td>0.0006</td>\n",
       "      <td>0.0000</td>\n",
       "      <td>1.0000</td>\n",
       "      <td>--</td>\n",
       "      <td>**</td>\n",
       "      <td>n.s.</td>\n",
       "      <td>n.s.</td>\n",
       "    </tr>\n",
       "    <tr>\n",
       "      <th rowspan=\"2\" valign=\"top\">engbert</th>\n",
       "      <th>MN</th>\n",
       "      <td>0.9995</td>\n",
       "      <td>0.8561</td>\n",
       "      <td>0.0596</td>\n",
       "      <td>0.0786</td>\n",
       "      <td>--</td>\n",
       "      <td>n.s.</td>\n",
       "      <td>**</td>\n",
       "    </tr>\n",
       "    <tr>\n",
       "      <th>RA</th>\n",
       "      <td>1.0000</td>\n",
       "      <td>0.8259</td>\n",
       "      <td>0.0013</td>\n",
       "      <td>0.0019</td>\n",
       "      <td>--</td>\n",
       "      <td>n.s.</td>\n",
       "      <td>***</td>\n",
       "    </tr>\n",
       "    <tr>\n",
       "      <th rowspan=\"2\" valign=\"top\">nh</th>\n",
       "      <th>MN</th>\n",
       "      <td>0.7220</td>\n",
       "      <td>0.1789</td>\n",
       "      <td>0.6156</td>\n",
       "      <td>0.6781</td>\n",
       "      <td>0.9309</td>\n",
       "      <td>--</td>\n",
       "      <td>n.s.</td>\n",
       "    </tr>\n",
       "    <tr>\n",
       "      <th>RA</th>\n",
       "      <td>0.6704</td>\n",
       "      <td>0.0680</td>\n",
       "      <td>0.1963</td>\n",
       "      <td>0.2325</td>\n",
       "      <td>0.8076</td>\n",
       "      <td>--</td>\n",
       "      <td>n.s.</td>\n",
       "    </tr>\n",
       "    <tr>\n",
       "      <th rowspan=\"2\" valign=\"top\">remodnav</th>\n",
       "      <th>MN</th>\n",
       "      <td>0.0005</td>\n",
       "      <td>0.0000</td>\n",
       "      <td>0.9924</td>\n",
       "      <td>0.9856</td>\n",
       "      <td>0.0040</td>\n",
       "      <td>0.1744</td>\n",
       "      <td>--</td>\n",
       "    </tr>\n",
       "    <tr>\n",
       "      <th>RA</th>\n",
       "      <td>0.0001</td>\n",
       "      <td>0.0000</td>\n",
       "      <td>0.9999</td>\n",
       "      <td>0.9998</td>\n",
       "      <td>0.0003</td>\n",
       "      <td>0.0906</td>\n",
       "      <td>--</td>\n",
       "    </tr>\n",
       "  </tbody>\n",
       "</table>\n",
       "</div>"
      ]
     },
     "execution_count": 34,
     "metadata": {},
     "output_type": "execute_result"
    }
   ],
   "execution_count": 34
  },
  {
   "metadata": {},
   "cell_type": "markdown",
   "source": [
    "## Figures\n",
    "### (1) Onset Distributions"
   ],
   "id": "6e0cdbfa98d03a1f"
  },
  {
   "metadata": {
    "ExecuteTime": {
     "end_time": "2025-01-09T15:26:15.495722Z",
     "start_time": "2025-01-09T15:26:15.388879Z"
    }
   },
   "cell_type": "code",
   "source": [
    "onset_distribution_figure = ch_sdt.single_threshold_figure(\n",
    "    csdt_metrics.loc[(slice(None), [peyes.constants.D_PRIME_STR, peyes.constants.F1_STR], slice(None)), :],\n",
    "    peyes.constants.ONSET_STR,\n",
    "    THRESHOLD,\n",
    "    GT1,\n",
    "    gt2=GT2,\n",
    "    show_other_gt=True,\n",
    "    share_x=True,\n",
    "    colors={k: v[1] for k, v in LABELER_PLOTTING_CONFIG.items()},\n",
    ")\n",
    "\n",
    "onset_distribution_figure.update_layout(\n",
    "    title=dict(text=\"fixation onsets\"),\n",
    "    width=1000, height=500,\n",
    "    paper_bgcolor='rgba(0, 0, 0, 0)',\n",
    "    plot_bgcolor='rgba(0, 0, 0, 0)',\n",
    "    margin=dict(l=10, r=10, b=10, t=10, pad=0),\n",
    ")\n",
    "# onset_distribution_figure.layout.annotations = []   # remove subtitles\n",
    "\n",
    "onset_distribution_figure.show()"
   ],
   "id": "b81d287b47f9fdcb",
   "outputs": [
    {
     "data": {
      "application/vnd.plotly.v1+json": {
       "data": [
        {
         "box": {
          "visible": true
         },
         "fillcolor": "#bab0ac",
         "legendgroup": "Other GT",
         "line": {
          "color": "black"
         },
         "meanline": {
          "visible": true
         },
         "name": "RA, Other GT",
         "opacity": 0.75,
         "scalegroup": "f1",
         "showlegend": true,
         "side": "positive",
         "spanmode": "hard",
         "x0": "Other GT",
         "y": [
          0.9803921568627451,
          0.923076923076923,
          0.9642857142857143,
          0.9850746268656716,
          0.9523809523809523,
          1.0,
          1.0,
          0.9836065573770492,
          0.962962962962963,
          1.0,
          0.9767441860465117,
          0.9047619047619048,
          0.9841269841269841,
          1.0
         ],
         "type": "violin",
         "xaxis": "x",
         "yaxis": "y"
        },
        {
         "box": {
          "visible": true
         },
         "fillcolor": "#2E91E5",
         "legendgroup": "ivt",
         "line": {
          "color": "black"
         },
         "meanline": {
          "visible": true
         },
         "name": "RA, ivt",
         "opacity": 0.75,
         "scalegroup": "f1",
         "showlegend": true,
         "side": "positive",
         "spanmode": "hard",
         "x0": "ivt",
         "y": [
          0.8771929824561403,
          0.7272727272727273,
          0.9166666666666666,
          0.923076923076923,
          0.7619047619047619,
          0.6666666666666666,
          0.7586206896551725,
          0.8750000000000001,
          0.9666666666666667,
          0.8253968253968255,
          0.8656716417910448,
          0.9090909090909091,
          0.955223880597015,
          0.8888888888888888,
          0.8333333333333333,
          0.7499999999999999,
          0.6363636363636364,
          0.4615384615384615,
          0.898550724637681,
          0.8363636363636364
         ],
         "type": "violin",
         "xaxis": "x",
         "yaxis": "y"
        },
        {
         "box": {
          "visible": true
         },
         "fillcolor": "#E15F99",
         "legendgroup": "ivvt",
         "line": {
          "color": "black"
         },
         "meanline": {
          "visible": true
         },
         "name": "RA, ivvt",
         "opacity": 0.75,
         "scalegroup": "f1",
         "showlegend": true,
         "side": "positive",
         "spanmode": "hard",
         "x0": "ivvt",
         "y": [
          0.8771929824561403,
          0.7272727272727273,
          0.868421052631579,
          0.8571428571428571,
          0.716417910447761,
          0.49090909090909096,
          0.6055045871559633,
          0.6086956521739131,
          0.9836065573770492,
          0.8656716417910447,
          0.7692307692307693,
          0.8108108108108109,
          0.9142857142857143,
          0.8405797101449276,
          0.8235294117647057,
          0.625,
          0.5384615384615384,
          0.3789473684210526,
          0.8378378378378378,
          0.896551724137931
         ],
         "type": "violin",
         "xaxis": "x",
         "yaxis": "y"
        },
        {
         "box": {
          "visible": true
         },
         "fillcolor": "#1CA71C",
         "legendgroup": "idt",
         "line": {
          "color": "black"
         },
         "meanline": {
          "visible": true
         },
         "name": "RA, idt",
         "opacity": 0.75,
         "scalegroup": "f1",
         "showlegend": true,
         "side": "positive",
         "spanmode": "hard",
         "x0": "idt",
         "y": [
          0.7619047619047621,
          0.25,
          0.7118644067796609,
          0.6046511627906976,
          0.6521739130434783,
          0.5581395348837209,
          0.6785714285714286,
          0.4444444444444444,
          0.5909090909090909,
          0.4782608695652174,
          0.6521739130434783,
          0.6382978723404256,
          0.6415094339622642,
          0.5531914893617021,
          0.30303030303030304,
          0.576923076923077,
          0.30434782608695654,
          0.4,
          0.5660377358490567,
          0.5454545454545455
         ],
         "type": "violin",
         "xaxis": "x",
         "yaxis": "y"
        },
        {
         "box": {
          "visible": true
         },
         "fillcolor": "#FB0D0D",
         "legendgroup": "idvt",
         "line": {
          "color": "black"
         },
         "meanline": {
          "visible": true
         },
         "name": "RA, idvt",
         "opacity": 0.75,
         "scalegroup": "f1",
         "showlegend": true,
         "side": "positive",
         "spanmode": "hard",
         "x0": "idvt",
         "y": [
          0.7619047619047621,
          0.25,
          0.7457627118644068,
          0.6046511627906976,
          0.7083333333333333,
          0.5909090909090908,
          0.7368421052631579,
          0.5405405405405405,
          0.6363636363636364,
          0.4782608695652174,
          0.6521739130434783,
          0.7083333333333334,
          0.6296296296296297,
          0.5531914893617021,
          0.30303030303030304,
          0.6415094339622641,
          0.375,
          0.38461538461538464,
          0.5660377358490567,
          0.5454545454545455
         ],
         "type": "violin",
         "xaxis": "x",
         "yaxis": "y"
        },
        {
         "box": {
          "visible": true
         },
         "fillcolor": "#DA16FF",
         "legendgroup": "engbert",
         "line": {
          "color": "black"
         },
         "meanline": {
          "visible": true
         },
         "name": "RA, engbert",
         "opacity": 0.75,
         "scalegroup": "f1",
         "showlegend": true,
         "side": "positive",
         "spanmode": "hard",
         "x0": "engbert",
         "y": [
          0.8928571428571428,
          0.6363636363636364,
          0.9166666666666666,
          0.8823529411764706,
          0.9508196721311475,
          0.7887323943661972,
          0.6736842105263158,
          0.8400000000000001,
          0.9836065573770492,
          0.9066666666666667,
          0.8285714285714285,
          0.9523809523809523,
          0.8533333333333333,
          0.9253731343283582,
          0.9090909090909091,
          0.6904761904761905,
          0.6060606060606061,
          0.5135135135135135,
          0.8857142857142858,
          0.9152542372881356
         ],
         "type": "violin",
         "xaxis": "x",
         "yaxis": "y"
        },
        {
         "box": {
          "visible": true
         },
         "fillcolor": "#222A2A",
         "legendgroup": "nh",
         "line": {
          "color": "black"
         },
         "meanline": {
          "visible": true
         },
         "name": "RA, nh",
         "opacity": 0.75,
         "scalegroup": "f1",
         "showlegend": true,
         "side": "positive",
         "spanmode": "hard",
         "x0": "nh",
         "y": [
          0.47058823529411764,
          0.375,
          0.05882352941176471,
          0.4918032786885246,
          0.3934426229508197,
          0.4615384615384615,
          0.14634146341463414,
          0.5581395348837208,
          0.9,
          0.9565217391304348,
          0.4838709677419355,
          0.4666666666666667,
          0.5538461538461538,
          0.4918032786885246,
          0.8679245283018867,
          0.6037735849056605,
          0.06896551724137931,
          0.5777777777777778,
          0.0588235294117647,
          0.7999999999999999
         ],
         "type": "violin",
         "xaxis": "x",
         "yaxis": "y"
        },
        {
         "box": {
          "visible": true
         },
         "fillcolor": "#B68100",
         "legendgroup": "remodnav",
         "line": {
          "color": "black"
         },
         "meanline": {
          "visible": true
         },
         "name": "RA, remodnav",
         "opacity": 0.75,
         "scalegroup": "f1",
         "showlegend": true,
         "side": "positive",
         "spanmode": "hard",
         "x0": "remodnav",
         "y": [
          0.6842105263157895,
          0.25,
          0.5833333333333333,
          0.7234042553191489,
          0.6511627906976745,
          0.4864864864864865,
          0.41860465116279066,
          0.4444444444444445,
          0.6363636363636364,
          0.5490196078431373,
          0.5957446808510638,
          0.4878048780487804,
          0.30769230769230765,
          0.6521739130434783,
          0.6,
          0.6956521739130436,
          0.3076923076923077,
          0.3846153846153846,
          0.5777777777777778,
          0.7142857142857143
         ],
         "type": "violin",
         "xaxis": "x",
         "yaxis": "y"
        },
        {
         "box": {
          "visible": true
         },
         "fillcolor": "#bab0ac",
         "legendgroup": "Other GT",
         "line": {
          "color": "black"
         },
         "meanline": {
          "visible": true
         },
         "name": "MN, Other GT",
         "opacity": 0.25,
         "scalegroup": "f1",
         "showlegend": true,
         "side": "negative",
         "spanmode": "hard",
         "x0": "Other GT",
         "y": [
          0.9803921568627451,
          0.923076923076923,
          0.9642857142857143,
          0.9850746268656716,
          0.9523809523809523,
          1.0,
          1.0,
          0.9836065573770492,
          0.962962962962963,
          1.0,
          0.9767441860465117,
          0.9047619047619048,
          0.9841269841269841,
          1.0
         ],
         "type": "violin",
         "xaxis": "x",
         "yaxis": "y"
        },
        {
         "box": {
          "visible": true
         },
         "fillcolor": "#2E91E5",
         "legendgroup": "ivt",
         "line": {
          "color": "black"
         },
         "meanline": {
          "visible": true
         },
         "name": "MN, ivt",
         "opacity": 0.25,
         "scalegroup": "f1",
         "showlegend": true,
         "side": "negative",
         "spanmode": "hard",
         "x0": "ivt",
         "y": [
          0.896551724137931,
          0.8,
          0.6666666666666666,
          0.7499999999999999,
          0.8823529411764706,
          0.9090909090909091,
          0.955223880597015,
          0.9032258064516129,
          0.8695652173913044,
          0.7499999999999999,
          0.6567164179104478,
          0.5000000000000001,
          0.9142857142857143,
          0.8363636363636364
         ],
         "type": "violin",
         "xaxis": "x",
         "yaxis": "y"
        },
        {
         "box": {
          "visible": true
         },
         "fillcolor": "#E15F99",
         "legendgroup": "ivvt",
         "line": {
          "color": "black"
         },
         "meanline": {
          "visible": true
         },
         "name": "MN, ivvt",
         "opacity": 0.25,
         "scalegroup": "f1",
         "showlegend": true,
         "side": "negative",
         "spanmode": "hard",
         "x0": "ivvt",
         "y": [
          0.896551724137931,
          0.8,
          0.49090909090909096,
          0.6181818181818182,
          0.7848101265822784,
          0.8108108108108109,
          0.9142857142857143,
          0.8529411764705883,
          0.8571428571428572,
          0.625,
          0.5569620253164557,
          0.43298969072164956,
          0.8533333333333333,
          0.896551724137931
         ],
         "type": "violin",
         "xaxis": "x",
         "yaxis": "y"
        },
        {
         "box": {
          "visible": true
         },
         "fillcolor": "#1CA71C",
         "legendgroup": "idt",
         "line": {
          "color": "black"
         },
         "meanline": {
          "visible": true
         },
         "name": "MN, idt",
         "opacity": 0.25,
         "scalegroup": "f1",
         "showlegend": true,
         "side": "negative",
         "spanmode": "hard",
         "x0": "idt",
         "y": [
          0.6976744186046512,
          0.2857142857142857,
          0.5581395348837209,
          0.6666666666666667,
          0.5106382978723405,
          0.5106382978723405,
          0.6037735849056604,
          0.6521739130434783,
          0.32258064516129037,
          0.576923076923077,
          0.29787234042553196,
          0.4615384615384615,
          0.5925925925925926,
          0.5454545454545455
         ],
         "type": "violin",
         "xaxis": "x",
         "yaxis": "y"
        },
        {
         "box": {
          "visible": true
         },
         "fillcolor": "#FB0D0D",
         "legendgroup": "idvt",
         "line": {
          "color": "black"
         },
         "meanline": {
          "visible": true
         },
         "name": "MN, idvt",
         "opacity": 0.25,
         "scalegroup": "f1",
         "showlegend": true,
         "side": "negative",
         "spanmode": "hard",
         "x0": "idvt",
         "y": [
          0.6976744186046512,
          0.2857142857142857,
          0.5909090909090908,
          0.7241379310344829,
          0.5106382978723405,
          0.5833333333333334,
          0.5925925925925926,
          0.6521739130434783,
          0.32258064516129037,
          0.6415094339622641,
          0.36734693877551017,
          0.4444444444444444,
          0.5925925925925926,
          0.5454545454545455
         ],
         "type": "violin",
         "xaxis": "x",
         "yaxis": "y"
        },
        {
         "box": {
          "visible": true
         },
         "fillcolor": "#DA16FF",
         "legendgroup": "engbert",
         "line": {
          "color": "black"
         },
         "meanline": {
          "visible": true
         },
         "name": "MN, engbert",
         "opacity": 0.25,
         "scalegroup": "f1",
         "showlegend": true,
         "side": "negative",
         "spanmode": "hard",
         "x0": "engbert",
         "y": [
          0.9122807017543859,
          0.5714285714285715,
          0.7605633802816901,
          0.6666666666666666,
          0.8450704225352113,
          0.9523809523809523,
          0.8533333333333333,
          0.9090909090909091,
          0.9433962264150944,
          0.6904761904761905,
          0.6268656716417911,
          0.5789473684210525,
          0.9014084507042254,
          0.9152542372881356
         ],
         "type": "violin",
         "xaxis": "x",
         "yaxis": "y"
        },
        {
         "box": {
          "visible": true
         },
         "fillcolor": "#222A2A",
         "legendgroup": "nh",
         "line": {
          "color": "black"
         },
         "meanline": {
          "visible": true
         },
         "name": "MN, nh",
         "opacity": 0.25,
         "scalegroup": "f1",
         "showlegend": true,
         "side": "negative",
         "spanmode": "hard",
         "x0": "nh",
         "y": [
          0.5384615384615384,
          0.26666666666666666,
          0.5,
          0.19047619047619047,
          0.5714285714285715,
          0.5666666666666667,
          0.5538461538461538,
          0.43333333333333335,
          0.9019607843137256,
          0.5660377358490566,
          0.06666666666666667,
          0.4255319148936171,
          0.05714285714285714,
          0.7999999999999999
         ],
         "type": "violin",
         "xaxis": "x",
         "yaxis": "y"
        },
        {
         "box": {
          "visible": true
         },
         "fillcolor": "#B68100",
         "legendgroup": "remodnav",
         "line": {
          "color": "black"
         },
         "meanline": {
          "visible": true
         },
         "name": "MN, remodnav",
         "opacity": 0.25,
         "scalegroup": "f1",
         "showlegend": true,
         "side": "negative",
         "spanmode": "hard",
         "x0": "remodnav",
         "y": [
          0.6666666666666666,
          0.2857142857142857,
          0.43243243243243246,
          0.40909090909090906,
          0.625,
          0.5365853658536585,
          0.30769230769230765,
          0.6666666666666666,
          0.631578947368421,
          0.6956521739130436,
          0.2962962962962963,
          0.42857142857142855,
          0.6086956521739131,
          0.7142857142857143
         ],
         "type": "violin",
         "xaxis": "x",
         "yaxis": "y"
        },
        {
         "box": {
          "visible": true
         },
         "fillcolor": "#bab0ac",
         "legendgroup": "Other GT",
         "line": {
          "color": "black"
         },
         "meanline": {
          "visible": true
         },
         "name": "RA, Other GT",
         "opacity": 0.75,
         "scalegroup": "d_prime",
         "showlegend": false,
         "side": "positive",
         "spanmode": "hard",
         "x0": "Other GT",
         "y": [
          5.459187550419509,
          3.909244963156813,
          4.629591693091486,
          5.455990592890831,
          4.443255522619719,
          5.697198192494998,
          5.697198192495014,
          4.669486053339465,
          3.9778153925912196,
          5.697325201555923,
          5.46055068919749,
          4.106184045600919,
          5.456697951706454,
          5.091656382773711
         ],
         "type": "violin",
         "xaxis": "x2",
         "yaxis": "y2"
        },
        {
         "box": {
          "visible": true
         },
         "fillcolor": "#2E91E5",
         "legendgroup": "ivt",
         "line": {
          "color": "black"
         },
         "meanline": {
          "visible": true
         },
         "name": "RA, ivt",
         "opacity": 0.75,
         "scalegroup": "d_prime",
         "showlegend": false,
         "side": "positive",
         "spanmode": "hard",
         "x0": "ivt",
         "y": [
          4.935210117945616,
          3.027812456059501,
          4.983192405588715,
          5.0472493145762085,
          2.9298959092282577,
          3.0508759258365847,
          4.4752621512270805,
          4.992198654506082,
          4.312099189420545,
          2.8592051942026666,
          3.648316355744651,
          4.985511457908569,
          5.202749190303056,
          3.646923271358781,
          3.105093781687821,
          4.501241571988883,
          4.424817633810667,
          2.6083850889986855,
          4.930129828954507,
          2.891430690177534
         ],
         "type": "violin",
         "xaxis": "x2",
         "yaxis": "y2"
        },
        {
         "box": {
          "visible": true
         },
         "fillcolor": "#E15F99",
         "legendgroup": "ivvt",
         "line": {
          "color": "black"
         },
         "meanline": {
          "visible": true
         },
         "name": "RA, ivvt",
         "opacity": 0.75,
         "scalegroup": "d_prime",
         "showlegend": false,
         "side": "positive",
         "spanmode": "hard",
         "x0": "ivvt",
         "y": [
          4.935210117945616,
          3.027812456059501,
          4.793963005522437,
          4.796603895400534,
          2.7833173188314073,
          2.93257512158007,
          4.107777433285677,
          4.367119696372443,
          4.803546889825931,
          2.992385296538358,
          3.596492324322004,
          4.659064417763066,
          4.983868524643366,
          3.5454601905514496,
          2.8999416356744963,
          4.20927069479959,
          4.219960354617328,
          2.4008722473674293,
          4.7224382754870255,
          3.633177456566014
         ],
         "type": "violin",
         "xaxis": "x2",
         "yaxis": "y2"
        },
        {
         "box": {
          "visible": true
         },
         "fillcolor": "#1CA71C",
         "legendgroup": "idt",
         "line": {
          "color": "black"
         },
         "meanline": {
          "visible": true
         },
         "name": "RA, idt",
         "opacity": 0.75,
         "scalegroup": "d_prime",
         "showlegend": false,
         "side": "positive",
         "spanmode": "hard",
         "x0": "idt",
         "y": [
          3.1875568290930625,
          1.787953229338177,
          2.6094427534986746,
          2.6814492707351136,
          2.6395135206515428,
          2.2746278798292336,
          2.5361336419702476,
          1.83645289326642,
          2.310290548816525,
          2.067786735744974,
          2.808336266956156,
          2.595471843602999,
          2.424299027839395,
          2.248550883443325,
          1.6385111426454706,
          2.1314230756601105,
          1.301232293540237,
          1.6834816993378174,
          2.0899466875847263,
          1.7073115964230758
         ],
         "type": "violin",
         "xaxis": "x2",
         "yaxis": "y2"
        },
        {
         "box": {
          "visible": true
         },
         "fillcolor": "#FB0D0D",
         "legendgroup": "idvt",
         "line": {
          "color": "black"
         },
         "meanline": {
          "visible": true
         },
         "name": "RA, idvt",
         "opacity": 0.75,
         "scalegroup": "d_prime",
         "showlegend": false,
         "side": "positive",
         "spanmode": "hard",
         "x0": "idvt",
         "y": [
          3.1875568290930625,
          1.787953229338177,
          2.7758089351195308,
          2.6814492707351136,
          2.814080709426124,
          2.364997898546176,
          2.799220639071396,
          2.140775935854541,
          2.4630905142450756,
          2.067786735744974,
          2.808336266956156,
          2.99323331680582,
          2.339927958217751,
          2.248550883443325,
          1.6385111426454706,
          2.360548797936101,
          1.5519472230429894,
          1.63757650709297,
          2.0899466875847263,
          1.7073115964230758
         ],
         "type": "violin",
         "xaxis": "x2",
         "yaxis": "y2"
        },
        {
         "box": {
          "visible": true
         },
         "fillcolor": "#DA16FF",
         "legendgroup": "engbert",
         "line": {
          "color": "black"
         },
         "meanline": {
          "visible": true
         },
         "name": "RA, engbert",
         "opacity": 0.75,
         "scalegroup": "d_prime",
         "showlegend": false,
         "side": "positive",
         "spanmode": "hard",
         "x0": "engbert",
         "y": [
          4.989576400060516,
          4.901607521707367,
          4.983192405588715,
          4.882022601074331,
          5.20475967978861,
          4.631549353670097,
          3.3422720579072887,
          4.889240213988629,
          4.803546889825931,
          3.6417743492215378,
          3.501153542978641,
          5.2040916260010235,
          4.756823894517892,
          5.046467880803274,
          3.4673186773217353,
          3.396921059460248,
          3.2416119182383576,
          3.0449205178680936,
          4.881141236650121,
          4.326659463989936
         ],
         "type": "violin",
         "xaxis": "x2",
         "yaxis": "y2"
        },
        {
         "box": {
          "visible": true
         },
         "fillcolor": "#222A2A",
         "legendgroup": "nh",
         "line": {
          "color": "black"
         },
         "meanline": {
          "visible": true
         },
         "name": "RA, nh",
         "opacity": 0.75,
         "scalegroup": "d_prime",
         "showlegend": false,
         "side": "positive",
         "spanmode": "hard",
         "x0": "nh",
         "y": [
          1.7926947585150583,
          2.033266344834221,
          1.001546535225833,
          1.77699590433968,
          1.4556523663667582,
          1.7278403360192967,
          0.9255093218626931,
          2.1727831216833784,
          3.339283778489517,
          4.0454035765309975,
          1.7354692377567866,
          1.693344170432551,
          1.9616249577248832,
          1.7649502445000027,
          3.1462748618467935,
          2.2150748095672395,
          0.47121060532399905,
          2.3012887920140135,
          0.7460629456169006,
          2.660012809855202
         ],
         "type": "violin",
         "xaxis": "x2",
         "yaxis": "y2"
        },
        {
         "box": {
          "visible": true
         },
         "fillcolor": "#B68100",
         "legendgroup": "remodnav",
         "line": {
          "color": "black"
         },
         "meanline": {
          "visible": true
         },
         "name": "RA, remodnav",
         "opacity": 0.75,
         "scalegroup": "d_prime",
         "showlegend": false,
         "side": "positive",
         "spanmode": "hard",
         "x0": "remodnav",
         "y": [
          2.8985322608805797,
          1.787953229338177,
          2.6320779854648126,
          3.0157489217598763,
          2.8055578601907687,
          2.387078899775238,
          2.21854464502775,
          2.2851645065463746,
          2.4630905142450756,
          1.9536791047240807,
          2.4730718513678265,
          2.394612012722257,
          1.9366756381069257,
          2.808336266956156,
          2.3679712395452093,
          2.9319462228395294,
          1.9557932954870083,
          2.158319299406476,
          2.6210375059919047,
          2.6840055998741437
         ],
         "type": "violin",
         "xaxis": "x2",
         "yaxis": "y2"
        },
        {
         "box": {
          "visible": true
         },
         "fillcolor": "#bab0ac",
         "legendgroup": "Other GT",
         "line": {
          "color": "black"
         },
         "meanline": {
          "visible": true
         },
         "name": "MN, Other GT",
         "opacity": 0.25,
         "scalegroup": "d_prime",
         "showlegend": false,
         "side": "negative",
         "spanmode": "hard",
         "x0": "Other GT",
         "y": [
          4.593647127748606,
          5.466728855348689,
          4.629591693091486,
          4.708167430624197,
          4.3579427414783485,
          5.697198192494998,
          5.697198192495014,
          5.457116652251863,
          4.63919081626589,
          5.697325201555923,
          4.5185562688186645,
          3.9281338566234476,
          4.682849945470158,
          5.091656382773711
         ],
         "type": "violin",
         "xaxis": "x2",
         "yaxis": "y2"
        },
        {
         "box": {
          "visible": true
         },
         "fillcolor": "#2E91E5",
         "legendgroup": "ivt",
         "line": {
          "color": "black"
         },
         "meanline": {
          "visible": true
         },
         "name": "MN, ivt",
         "opacity": 0.25,
         "scalegroup": "d_prime",
         "showlegend": false,
         "side": "negative",
         "spanmode": "hard",
         "x0": "ivt",
         "y": [
          4.988768206332356,
          3.2773144223208646,
          3.0508759258365847,
          3.533838571914921,
          3.7248300414689854,
          4.985511457908569,
          5.202749190303056,
          3.8487366569051202,
          3.272707589200251,
          4.501241571988883,
          4.444039234857245,
          2.687887607987858,
          4.983868524643366,
          2.891430690177534
         ],
         "type": "violin",
         "xaxis": "x2",
         "yaxis": "y2"
        },
        {
         "box": {
          "visible": true
         },
         "fillcolor": "#E15F99",
         "legendgroup": "ivvt",
         "line": {
          "color": "black"
         },
         "meanline": {
          "visible": true
         },
         "name": "MN, ivvt",
         "opacity": 0.25,
         "scalegroup": "d_prime",
         "showlegend": false,
         "side": "negative",
         "spanmode": "hard",
         "x0": "ivvt",
         "y": [
          4.988768206332356,
          3.2773144223208646,
          2.93257512158007,
          4.119664406019537,
          3.637552407367872,
          4.659064417763066,
          4.983868524643366,
          3.8624315975768466,
          3.0998983174169052,
          4.20927069479959,
          4.233675602189977,
          2.8402036775137964,
          4.756823894517892,
          3.633177456566014
         ],
         "type": "violin",
         "xaxis": "x2",
         "yaxis": "y2"
        },
        {
         "box": {
          "visible": true
         },
         "fillcolor": "#1CA71C",
         "legendgroup": "idt",
         "line": {
          "color": "black"
         },
         "meanline": {
          "visible": true
         },
         "name": "MN, idt",
         "opacity": 0.25,
         "scalegroup": "d_prime",
         "showlegend": false,
         "side": "negative",
         "spanmode": "hard",
         "x0": "idt",
         "y": [
          2.7927292939909236,
          1.8870194739233654,
          2.2746278798292336,
          2.4921810028188527,
          2.1326028810407274,
          2.009984013122713,
          2.2615155454846385,
          2.8253393120177144,
          1.68877679427036,
          2.1314230756601105,
          1.2580869984359002,
          1.84525863115012,
          2.190709497116439,
          1.7073115964230758
         ],
         "type": "violin",
         "xaxis": "x2",
         "yaxis": "y2"
        },
        {
         "box": {
          "visible": true
         },
         "fillcolor": "#FB0D0D",
         "legendgroup": "idvt",
         "line": {
          "color": "black"
         },
         "meanline": {
          "visible": true
         },
         "name": "MN, idvt",
         "opacity": 0.25,
         "scalegroup": "d_prime",
         "showlegend": false,
         "side": "negative",
         "spanmode": "hard",
         "x0": "idvt",
         "y": [
          2.7927292939909236,
          1.8870194739233654,
          2.364997898546176,
          2.7489146501141564,
          2.1326028810407274,
          2.2639989769539666,
          2.190709497116439,
          2.8253393120177144,
          1.68877679427036,
          2.360548797936101,
          1.5009920018489356,
          1.7954595797596142,
          2.190709497116439,
          1.7073115964230758
         ],
         "type": "violin",
         "xaxis": "x2",
         "yaxis": "y2"
        },
        {
         "box": {
          "visible": true
         },
         "fillcolor": "#DA16FF",
         "legendgroup": "engbert",
         "line": {
          "color": "black"
         },
         "meanline": {
          "visible": true
         },
         "name": "MN, engbert",
         "opacity": 0.25,
         "scalegroup": "d_prime",
         "showlegend": false,
         "side": "negative",
         "spanmode": "hard",
         "x0": "engbert",
         "y": [
          5.050351704176499,
          4.858495831087648,
          3.5819022301875165,
          3.0293930129785402,
          3.560662946760054,
          5.2040916260010235,
          4.756823894517892,
          4.985511457908569,
          3.9992995826467257,
          3.396921059460248,
          3.283005481665862,
          4.280838617551851,
          4.929274351876277,
          4.326659463989936
         ],
         "type": "violin",
         "xaxis": "x2",
         "yaxis": "y2"
        },
        {
         "box": {
          "visible": true
         },
         "fillcolor": "#222A2A",
         "legendgroup": "nh",
         "line": {
          "color": "black"
         },
         "meanline": {
          "visible": true
         },
         "name": "MN, nh",
         "opacity": 0.25,
         "scalegroup": "d_prime",
         "showlegend": false,
         "side": "negative",
         "spanmode": "hard",
         "x0": "nh",
         "y": [
          2.0064568243884704,
          1.7226620203325396,
          1.8559027945369224,
          1.1573624603371955,
          2.0258199991612647,
          2.0384997883341103,
          1.9616249577248832,
          1.581100491300537,
          3.428854246434944,
          2.077273246460014,
          0.44805264675819245,
          1.7007605154547154,
          0.7311126229132512,
          2.660012809855202
         ],
         "type": "violin",
         "xaxis": "x2",
         "yaxis": "y2"
        },
        {
         "box": {
          "visible": true
         },
         "fillcolor": "#B68100",
         "legendgroup": "remodnav",
         "line": {
          "color": "black"
         },
         "meanline": {
          "visible": true
         },
         "name": "MN, remodnav",
         "opacity": 0.25,
         "scalegroup": "d_prime",
         "showlegend": false,
         "side": "negative",
         "spanmode": "hard",
         "x0": "remodnav",
         "y": [
          2.848599096247495,
          1.8870194739233654,
          2.2608997804194324,
          2.193462453056782,
          2.7454097843926895,
          2.5094591735383354,
          1.9366756381069257,
          2.848599096247495,
          2.4504978914561244,
          2.9319462228395294,
          1.9227376218479018,
          2.247014302559641,
          2.691984885490992,
          2.6840055998741437
         ],
         "type": "violin",
         "xaxis": "x2",
         "yaxis": "y2"
        }
       ],
       "layout": {
        "template": {
         "data": {
          "histogram2dcontour": [
           {
            "type": "histogram2dcontour",
            "colorbar": {
             "outlinewidth": 0,
             "ticks": ""
            },
            "colorscale": [
             [
              0.0,
              "#0d0887"
             ],
             [
              0.1111111111111111,
              "#46039f"
             ],
             [
              0.2222222222222222,
              "#7201a8"
             ],
             [
              0.3333333333333333,
              "#9c179e"
             ],
             [
              0.4444444444444444,
              "#bd3786"
             ],
             [
              0.5555555555555556,
              "#d8576b"
             ],
             [
              0.6666666666666666,
              "#ed7953"
             ],
             [
              0.7777777777777778,
              "#fb9f3a"
             ],
             [
              0.8888888888888888,
              "#fdca26"
             ],
             [
              1.0,
              "#f0f921"
             ]
            ]
           }
          ],
          "choropleth": [
           {
            "type": "choropleth",
            "colorbar": {
             "outlinewidth": 0,
             "ticks": ""
            }
           }
          ],
          "histogram2d": [
           {
            "type": "histogram2d",
            "colorbar": {
             "outlinewidth": 0,
             "ticks": ""
            },
            "colorscale": [
             [
              0.0,
              "#0d0887"
             ],
             [
              0.1111111111111111,
              "#46039f"
             ],
             [
              0.2222222222222222,
              "#7201a8"
             ],
             [
              0.3333333333333333,
              "#9c179e"
             ],
             [
              0.4444444444444444,
              "#bd3786"
             ],
             [
              0.5555555555555556,
              "#d8576b"
             ],
             [
              0.6666666666666666,
              "#ed7953"
             ],
             [
              0.7777777777777778,
              "#fb9f3a"
             ],
             [
              0.8888888888888888,
              "#fdca26"
             ],
             [
              1.0,
              "#f0f921"
             ]
            ]
           }
          ],
          "heatmap": [
           {
            "type": "heatmap",
            "colorbar": {
             "outlinewidth": 0,
             "ticks": ""
            },
            "colorscale": [
             [
              0.0,
              "#0d0887"
             ],
             [
              0.1111111111111111,
              "#46039f"
             ],
             [
              0.2222222222222222,
              "#7201a8"
             ],
             [
              0.3333333333333333,
              "#9c179e"
             ],
             [
              0.4444444444444444,
              "#bd3786"
             ],
             [
              0.5555555555555556,
              "#d8576b"
             ],
             [
              0.6666666666666666,
              "#ed7953"
             ],
             [
              0.7777777777777778,
              "#fb9f3a"
             ],
             [
              0.8888888888888888,
              "#fdca26"
             ],
             [
              1.0,
              "#f0f921"
             ]
            ]
           }
          ],
          "heatmapgl": [
           {
            "type": "heatmapgl",
            "colorbar": {
             "outlinewidth": 0,
             "ticks": ""
            },
            "colorscale": [
             [
              0.0,
              "#0d0887"
             ],
             [
              0.1111111111111111,
              "#46039f"
             ],
             [
              0.2222222222222222,
              "#7201a8"
             ],
             [
              0.3333333333333333,
              "#9c179e"
             ],
             [
              0.4444444444444444,
              "#bd3786"
             ],
             [
              0.5555555555555556,
              "#d8576b"
             ],
             [
              0.6666666666666666,
              "#ed7953"
             ],
             [
              0.7777777777777778,
              "#fb9f3a"
             ],
             [
              0.8888888888888888,
              "#fdca26"
             ],
             [
              1.0,
              "#f0f921"
             ]
            ]
           }
          ],
          "contourcarpet": [
           {
            "type": "contourcarpet",
            "colorbar": {
             "outlinewidth": 0,
             "ticks": ""
            }
           }
          ],
          "contour": [
           {
            "type": "contour",
            "colorbar": {
             "outlinewidth": 0,
             "ticks": ""
            },
            "colorscale": [
             [
              0.0,
              "#0d0887"
             ],
             [
              0.1111111111111111,
              "#46039f"
             ],
             [
              0.2222222222222222,
              "#7201a8"
             ],
             [
              0.3333333333333333,
              "#9c179e"
             ],
             [
              0.4444444444444444,
              "#bd3786"
             ],
             [
              0.5555555555555556,
              "#d8576b"
             ],
             [
              0.6666666666666666,
              "#ed7953"
             ],
             [
              0.7777777777777778,
              "#fb9f3a"
             ],
             [
              0.8888888888888888,
              "#fdca26"
             ],
             [
              1.0,
              "#f0f921"
             ]
            ]
           }
          ],
          "surface": [
           {
            "type": "surface",
            "colorbar": {
             "outlinewidth": 0,
             "ticks": ""
            },
            "colorscale": [
             [
              0.0,
              "#0d0887"
             ],
             [
              0.1111111111111111,
              "#46039f"
             ],
             [
              0.2222222222222222,
              "#7201a8"
             ],
             [
              0.3333333333333333,
              "#9c179e"
             ],
             [
              0.4444444444444444,
              "#bd3786"
             ],
             [
              0.5555555555555556,
              "#d8576b"
             ],
             [
              0.6666666666666666,
              "#ed7953"
             ],
             [
              0.7777777777777778,
              "#fb9f3a"
             ],
             [
              0.8888888888888888,
              "#fdca26"
             ],
             [
              1.0,
              "#f0f921"
             ]
            ]
           }
          ],
          "mesh3d": [
           {
            "type": "mesh3d",
            "colorbar": {
             "outlinewidth": 0,
             "ticks": ""
            }
           }
          ],
          "scatter": [
           {
            "fillpattern": {
             "fillmode": "overlay",
             "size": 10,
             "solidity": 0.2
            },
            "type": "scatter"
           }
          ],
          "parcoords": [
           {
            "type": "parcoords",
            "line": {
             "colorbar": {
              "outlinewidth": 0,
              "ticks": ""
             }
            }
           }
          ],
          "scatterpolargl": [
           {
            "type": "scatterpolargl",
            "marker": {
             "colorbar": {
              "outlinewidth": 0,
              "ticks": ""
             }
            }
           }
          ],
          "bar": [
           {
            "error_x": {
             "color": "#2a3f5f"
            },
            "error_y": {
             "color": "#2a3f5f"
            },
            "marker": {
             "line": {
              "color": "#E5ECF6",
              "width": 0.5
             },
             "pattern": {
              "fillmode": "overlay",
              "size": 10,
              "solidity": 0.2
             }
            },
            "type": "bar"
           }
          ],
          "scattergeo": [
           {
            "type": "scattergeo",
            "marker": {
             "colorbar": {
              "outlinewidth": 0,
              "ticks": ""
             }
            }
           }
          ],
          "scatterpolar": [
           {
            "type": "scatterpolar",
            "marker": {
             "colorbar": {
              "outlinewidth": 0,
              "ticks": ""
             }
            }
           }
          ],
          "histogram": [
           {
            "marker": {
             "pattern": {
              "fillmode": "overlay",
              "size": 10,
              "solidity": 0.2
             }
            },
            "type": "histogram"
           }
          ],
          "scattergl": [
           {
            "type": "scattergl",
            "marker": {
             "colorbar": {
              "outlinewidth": 0,
              "ticks": ""
             }
            }
           }
          ],
          "scatter3d": [
           {
            "type": "scatter3d",
            "line": {
             "colorbar": {
              "outlinewidth": 0,
              "ticks": ""
             }
            },
            "marker": {
             "colorbar": {
              "outlinewidth": 0,
              "ticks": ""
             }
            }
           }
          ],
          "scattermapbox": [
           {
            "type": "scattermapbox",
            "marker": {
             "colorbar": {
              "outlinewidth": 0,
              "ticks": ""
             }
            }
           }
          ],
          "scatterternary": [
           {
            "type": "scatterternary",
            "marker": {
             "colorbar": {
              "outlinewidth": 0,
              "ticks": ""
             }
            }
           }
          ],
          "scattercarpet": [
           {
            "type": "scattercarpet",
            "marker": {
             "colorbar": {
              "outlinewidth": 0,
              "ticks": ""
             }
            }
           }
          ],
          "carpet": [
           {
            "aaxis": {
             "endlinecolor": "#2a3f5f",
             "gridcolor": "white",
             "linecolor": "white",
             "minorgridcolor": "white",
             "startlinecolor": "#2a3f5f"
            },
            "baxis": {
             "endlinecolor": "#2a3f5f",
             "gridcolor": "white",
             "linecolor": "white",
             "minorgridcolor": "white",
             "startlinecolor": "#2a3f5f"
            },
            "type": "carpet"
           }
          ],
          "table": [
           {
            "cells": {
             "fill": {
              "color": "#EBF0F8"
             },
             "line": {
              "color": "white"
             }
            },
            "header": {
             "fill": {
              "color": "#C8D4E3"
             },
             "line": {
              "color": "white"
             }
            },
            "type": "table"
           }
          ],
          "barpolar": [
           {
            "marker": {
             "line": {
              "color": "#E5ECF6",
              "width": 0.5
             },
             "pattern": {
              "fillmode": "overlay",
              "size": 10,
              "solidity": 0.2
             }
            },
            "type": "barpolar"
           }
          ],
          "pie": [
           {
            "automargin": true,
            "type": "pie"
           }
          ]
         },
         "layout": {
          "autotypenumbers": "strict",
          "colorway": [
           "#636efa",
           "#EF553B",
           "#00cc96",
           "#ab63fa",
           "#FFA15A",
           "#19d3f3",
           "#FF6692",
           "#B6E880",
           "#FF97FF",
           "#FECB52"
          ],
          "font": {
           "color": "#2a3f5f"
          },
          "hovermode": "closest",
          "hoverlabel": {
           "align": "left"
          },
          "paper_bgcolor": "white",
          "plot_bgcolor": "#E5ECF6",
          "polar": {
           "bgcolor": "#E5ECF6",
           "angularaxis": {
            "gridcolor": "white",
            "linecolor": "white",
            "ticks": ""
           },
           "radialaxis": {
            "gridcolor": "white",
            "linecolor": "white",
            "ticks": ""
           }
          },
          "ternary": {
           "bgcolor": "#E5ECF6",
           "aaxis": {
            "gridcolor": "white",
            "linecolor": "white",
            "ticks": ""
           },
           "baxis": {
            "gridcolor": "white",
            "linecolor": "white",
            "ticks": ""
           },
           "caxis": {
            "gridcolor": "white",
            "linecolor": "white",
            "ticks": ""
           }
          },
          "coloraxis": {
           "colorbar": {
            "outlinewidth": 0,
            "ticks": ""
           }
          },
          "colorscale": {
           "sequential": [
            [
             0.0,
             "#0d0887"
            ],
            [
             0.1111111111111111,
             "#46039f"
            ],
            [
             0.2222222222222222,
             "#7201a8"
            ],
            [
             0.3333333333333333,
             "#9c179e"
            ],
            [
             0.4444444444444444,
             "#bd3786"
            ],
            [
             0.5555555555555556,
             "#d8576b"
            ],
            [
             0.6666666666666666,
             "#ed7953"
            ],
            [
             0.7777777777777778,
             "#fb9f3a"
            ],
            [
             0.8888888888888888,
             "#fdca26"
            ],
            [
             1.0,
             "#f0f921"
            ]
           ],
           "sequentialminus": [
            [
             0.0,
             "#0d0887"
            ],
            [
             0.1111111111111111,
             "#46039f"
            ],
            [
             0.2222222222222222,
             "#7201a8"
            ],
            [
             0.3333333333333333,
             "#9c179e"
            ],
            [
             0.4444444444444444,
             "#bd3786"
            ],
            [
             0.5555555555555556,
             "#d8576b"
            ],
            [
             0.6666666666666666,
             "#ed7953"
            ],
            [
             0.7777777777777778,
             "#fb9f3a"
            ],
            [
             0.8888888888888888,
             "#fdca26"
            ],
            [
             1.0,
             "#f0f921"
            ]
           ],
           "diverging": [
            [
             0,
             "#8e0152"
            ],
            [
             0.1,
             "#c51b7d"
            ],
            [
             0.2,
             "#de77ae"
            ],
            [
             0.3,
             "#f1b6da"
            ],
            [
             0.4,
             "#fde0ef"
            ],
            [
             0.5,
             "#f7f7f7"
            ],
            [
             0.6,
             "#e6f5d0"
            ],
            [
             0.7,
             "#b8e186"
            ],
            [
             0.8,
             "#7fbc41"
            ],
            [
             0.9,
             "#4d9221"
            ],
            [
             1,
             "#276419"
            ]
           ]
          },
          "xaxis": {
           "gridcolor": "white",
           "linecolor": "white",
           "ticks": "",
           "title": {
            "standoff": 15
           },
           "zerolinecolor": "white",
           "automargin": true,
           "zerolinewidth": 2
          },
          "yaxis": {
           "gridcolor": "white",
           "linecolor": "white",
           "ticks": "",
           "title": {
            "standoff": 15
           },
           "zerolinecolor": "white",
           "automargin": true,
           "zerolinewidth": 2
          },
          "scene": {
           "xaxis": {
            "backgroundcolor": "#E5ECF6",
            "gridcolor": "white",
            "linecolor": "white",
            "showbackground": true,
            "ticks": "",
            "zerolinecolor": "white",
            "gridwidth": 2
           },
           "yaxis": {
            "backgroundcolor": "#E5ECF6",
            "gridcolor": "white",
            "linecolor": "white",
            "showbackground": true,
            "ticks": "",
            "zerolinecolor": "white",
            "gridwidth": 2
           },
           "zaxis": {
            "backgroundcolor": "#E5ECF6",
            "gridcolor": "white",
            "linecolor": "white",
            "showbackground": true,
            "ticks": "",
            "zerolinecolor": "white",
            "gridwidth": 2
           }
          },
          "shapedefaults": {
           "line": {
            "color": "#2a3f5f"
           }
          },
          "annotationdefaults": {
           "arrowcolor": "#2a3f5f",
           "arrowhead": 0,
           "arrowwidth": 1
          },
          "geo": {
           "bgcolor": "white",
           "landcolor": "#E5ECF6",
           "subunitcolor": "white",
           "showland": true,
           "showlakes": true,
           "lakecolor": "white"
          },
          "title": {
           "x": 0.05
          },
          "mapbox": {
           "style": "light"
          }
         }
        },
        "xaxis": {
         "anchor": "y",
         "domain": [
          0.0,
          1.0
         ],
         "matches": "x2",
         "showticklabels": false
        },
        "yaxis": {
         "anchor": "x",
         "domain": [
          0.55,
          1.0
         ],
         "range": [
          0,
          1
         ]
        },
        "xaxis2": {
         "anchor": "y2",
         "domain": [
          0.0,
          1.0
         ]
        },
        "yaxis2": {
         "anchor": "x2",
         "domain": [
          0.0,
          0.45
         ]
        },
        "annotations": [
         {
          "font": {
           "size": 16
          },
          "showarrow": false,
          "text": "f1",
          "x": 0.5,
          "xanchor": "center",
          "xref": "paper",
          "y": 1.0,
          "yanchor": "bottom",
          "yref": "paper"
         },
         {
          "font": {
           "size": 16
          },
          "showarrow": false,
          "text": "d'",
          "x": 0.5,
          "xanchor": "center",
          "xref": "paper",
          "y": 0.45,
          "yanchor": "bottom",
          "yref": "paper"
         }
        ],
        "title": {
         "text": "fixation onsets"
        },
        "violinmode": "overlay",
        "boxmode": "group",
        "boxgroupgap": 0,
        "boxgap": 0,
        "margin": {
         "l": 10,
         "r": 10,
         "b": 10,
         "t": 10,
         "pad": 0
        },
        "width": 1000,
        "height": 500,
        "paper_bgcolor": "rgba(0, 0, 0, 0)",
        "plot_bgcolor": "rgba(0, 0, 0, 0)"
       },
       "config": {
        "plotlyServerURL": "https://plot.ly"
       }
      },
      "text/html": [
       "<div>                            <div id=\"88049a2e-9063-41b8-8cc2-07c781826498\" class=\"plotly-graph-div\" style=\"height:500px; width:1000px;\"></div>            <script type=\"text/javascript\">                require([\"plotly\"], function(Plotly) {                    window.PLOTLYENV=window.PLOTLYENV || {};                                    if (document.getElementById(\"88049a2e-9063-41b8-8cc2-07c781826498\")) {                    Plotly.newPlot(                        \"88049a2e-9063-41b8-8cc2-07c781826498\",                        [{\"box\":{\"visible\":true},\"fillcolor\":\"#bab0ac\",\"legendgroup\":\"Other GT\",\"line\":{\"color\":\"black\"},\"meanline\":{\"visible\":true},\"name\":\"RA, Other GT\",\"opacity\":0.75,\"scalegroup\":\"f1\",\"showlegend\":true,\"side\":\"positive\",\"spanmode\":\"hard\",\"x0\":\"Other GT\",\"y\":[0.9803921568627451,0.923076923076923,0.9642857142857143,0.9850746268656716,0.9523809523809523,1.0,1.0,0.9836065573770492,0.962962962962963,1.0,0.9767441860465117,0.9047619047619048,0.9841269841269841,1.0],\"type\":\"violin\",\"xaxis\":\"x\",\"yaxis\":\"y\"},{\"box\":{\"visible\":true},\"fillcolor\":\"#2E91E5\",\"legendgroup\":\"ivt\",\"line\":{\"color\":\"black\"},\"meanline\":{\"visible\":true},\"name\":\"RA, ivt\",\"opacity\":0.75,\"scalegroup\":\"f1\",\"showlegend\":true,\"side\":\"positive\",\"spanmode\":\"hard\",\"x0\":\"ivt\",\"y\":[0.8771929824561403,0.7272727272727273,0.9166666666666666,0.923076923076923,0.7619047619047619,0.6666666666666666,0.7586206896551725,0.8750000000000001,0.9666666666666667,0.8253968253968255,0.8656716417910448,0.9090909090909091,0.955223880597015,0.8888888888888888,0.8333333333333333,0.7499999999999999,0.6363636363636364,0.4615384615384615,0.898550724637681,0.8363636363636364],\"type\":\"violin\",\"xaxis\":\"x\",\"yaxis\":\"y\"},{\"box\":{\"visible\":true},\"fillcolor\":\"#E15F99\",\"legendgroup\":\"ivvt\",\"line\":{\"color\":\"black\"},\"meanline\":{\"visible\":true},\"name\":\"RA, ivvt\",\"opacity\":0.75,\"scalegroup\":\"f1\",\"showlegend\":true,\"side\":\"positive\",\"spanmode\":\"hard\",\"x0\":\"ivvt\",\"y\":[0.8771929824561403,0.7272727272727273,0.868421052631579,0.8571428571428571,0.716417910447761,0.49090909090909096,0.6055045871559633,0.6086956521739131,0.9836065573770492,0.8656716417910447,0.7692307692307693,0.8108108108108109,0.9142857142857143,0.8405797101449276,0.8235294117647057,0.625,0.5384615384615384,0.3789473684210526,0.8378378378378378,0.896551724137931],\"type\":\"violin\",\"xaxis\":\"x\",\"yaxis\":\"y\"},{\"box\":{\"visible\":true},\"fillcolor\":\"#1CA71C\",\"legendgroup\":\"idt\",\"line\":{\"color\":\"black\"},\"meanline\":{\"visible\":true},\"name\":\"RA, idt\",\"opacity\":0.75,\"scalegroup\":\"f1\",\"showlegend\":true,\"side\":\"positive\",\"spanmode\":\"hard\",\"x0\":\"idt\",\"y\":[0.7619047619047621,0.25,0.7118644067796609,0.6046511627906976,0.6521739130434783,0.5581395348837209,0.6785714285714286,0.4444444444444444,0.5909090909090909,0.4782608695652174,0.6521739130434783,0.6382978723404256,0.6415094339622642,0.5531914893617021,0.30303030303030304,0.576923076923077,0.30434782608695654,0.4,0.5660377358490567,0.5454545454545455],\"type\":\"violin\",\"xaxis\":\"x\",\"yaxis\":\"y\"},{\"box\":{\"visible\":true},\"fillcolor\":\"#FB0D0D\",\"legendgroup\":\"idvt\",\"line\":{\"color\":\"black\"},\"meanline\":{\"visible\":true},\"name\":\"RA, idvt\",\"opacity\":0.75,\"scalegroup\":\"f1\",\"showlegend\":true,\"side\":\"positive\",\"spanmode\":\"hard\",\"x0\":\"idvt\",\"y\":[0.7619047619047621,0.25,0.7457627118644068,0.6046511627906976,0.7083333333333333,0.5909090909090908,0.7368421052631579,0.5405405405405405,0.6363636363636364,0.4782608695652174,0.6521739130434783,0.7083333333333334,0.6296296296296297,0.5531914893617021,0.30303030303030304,0.6415094339622641,0.375,0.38461538461538464,0.5660377358490567,0.5454545454545455],\"type\":\"violin\",\"xaxis\":\"x\",\"yaxis\":\"y\"},{\"box\":{\"visible\":true},\"fillcolor\":\"#DA16FF\",\"legendgroup\":\"engbert\",\"line\":{\"color\":\"black\"},\"meanline\":{\"visible\":true},\"name\":\"RA, engbert\",\"opacity\":0.75,\"scalegroup\":\"f1\",\"showlegend\":true,\"side\":\"positive\",\"spanmode\":\"hard\",\"x0\":\"engbert\",\"y\":[0.8928571428571428,0.6363636363636364,0.9166666666666666,0.8823529411764706,0.9508196721311475,0.7887323943661972,0.6736842105263158,0.8400000000000001,0.9836065573770492,0.9066666666666667,0.8285714285714285,0.9523809523809523,0.8533333333333333,0.9253731343283582,0.9090909090909091,0.6904761904761905,0.6060606060606061,0.5135135135135135,0.8857142857142858,0.9152542372881356],\"type\":\"violin\",\"xaxis\":\"x\",\"yaxis\":\"y\"},{\"box\":{\"visible\":true},\"fillcolor\":\"#222A2A\",\"legendgroup\":\"nh\",\"line\":{\"color\":\"black\"},\"meanline\":{\"visible\":true},\"name\":\"RA, nh\",\"opacity\":0.75,\"scalegroup\":\"f1\",\"showlegend\":true,\"side\":\"positive\",\"spanmode\":\"hard\",\"x0\":\"nh\",\"y\":[0.47058823529411764,0.375,0.05882352941176471,0.4918032786885246,0.3934426229508197,0.4615384615384615,0.14634146341463414,0.5581395348837208,0.9,0.9565217391304348,0.4838709677419355,0.4666666666666667,0.5538461538461538,0.4918032786885246,0.8679245283018867,0.6037735849056605,0.06896551724137931,0.5777777777777778,0.0588235294117647,0.7999999999999999],\"type\":\"violin\",\"xaxis\":\"x\",\"yaxis\":\"y\"},{\"box\":{\"visible\":true},\"fillcolor\":\"#B68100\",\"legendgroup\":\"remodnav\",\"line\":{\"color\":\"black\"},\"meanline\":{\"visible\":true},\"name\":\"RA, remodnav\",\"opacity\":0.75,\"scalegroup\":\"f1\",\"showlegend\":true,\"side\":\"positive\",\"spanmode\":\"hard\",\"x0\":\"remodnav\",\"y\":[0.6842105263157895,0.25,0.5833333333333333,0.7234042553191489,0.6511627906976745,0.4864864864864865,0.41860465116279066,0.4444444444444445,0.6363636363636364,0.5490196078431373,0.5957446808510638,0.4878048780487804,0.30769230769230765,0.6521739130434783,0.6,0.6956521739130436,0.3076923076923077,0.3846153846153846,0.5777777777777778,0.7142857142857143],\"type\":\"violin\",\"xaxis\":\"x\",\"yaxis\":\"y\"},{\"box\":{\"visible\":true},\"fillcolor\":\"#bab0ac\",\"legendgroup\":\"Other GT\",\"line\":{\"color\":\"black\"},\"meanline\":{\"visible\":true},\"name\":\"MN, Other GT\",\"opacity\":0.25,\"scalegroup\":\"f1\",\"showlegend\":true,\"side\":\"negative\",\"spanmode\":\"hard\",\"x0\":\"Other GT\",\"y\":[0.9803921568627451,0.923076923076923,0.9642857142857143,0.9850746268656716,0.9523809523809523,1.0,1.0,0.9836065573770492,0.962962962962963,1.0,0.9767441860465117,0.9047619047619048,0.9841269841269841,1.0],\"type\":\"violin\",\"xaxis\":\"x\",\"yaxis\":\"y\"},{\"box\":{\"visible\":true},\"fillcolor\":\"#2E91E5\",\"legendgroup\":\"ivt\",\"line\":{\"color\":\"black\"},\"meanline\":{\"visible\":true},\"name\":\"MN, ivt\",\"opacity\":0.25,\"scalegroup\":\"f1\",\"showlegend\":true,\"side\":\"negative\",\"spanmode\":\"hard\",\"x0\":\"ivt\",\"y\":[0.896551724137931,0.8,0.6666666666666666,0.7499999999999999,0.8823529411764706,0.9090909090909091,0.955223880597015,0.9032258064516129,0.8695652173913044,0.7499999999999999,0.6567164179104478,0.5000000000000001,0.9142857142857143,0.8363636363636364],\"type\":\"violin\",\"xaxis\":\"x\",\"yaxis\":\"y\"},{\"box\":{\"visible\":true},\"fillcolor\":\"#E15F99\",\"legendgroup\":\"ivvt\",\"line\":{\"color\":\"black\"},\"meanline\":{\"visible\":true},\"name\":\"MN, ivvt\",\"opacity\":0.25,\"scalegroup\":\"f1\",\"showlegend\":true,\"side\":\"negative\",\"spanmode\":\"hard\",\"x0\":\"ivvt\",\"y\":[0.896551724137931,0.8,0.49090909090909096,0.6181818181818182,0.7848101265822784,0.8108108108108109,0.9142857142857143,0.8529411764705883,0.8571428571428572,0.625,0.5569620253164557,0.43298969072164956,0.8533333333333333,0.896551724137931],\"type\":\"violin\",\"xaxis\":\"x\",\"yaxis\":\"y\"},{\"box\":{\"visible\":true},\"fillcolor\":\"#1CA71C\",\"legendgroup\":\"idt\",\"line\":{\"color\":\"black\"},\"meanline\":{\"visible\":true},\"name\":\"MN, idt\",\"opacity\":0.25,\"scalegroup\":\"f1\",\"showlegend\":true,\"side\":\"negative\",\"spanmode\":\"hard\",\"x0\":\"idt\",\"y\":[0.6976744186046512,0.2857142857142857,0.5581395348837209,0.6666666666666667,0.5106382978723405,0.5106382978723405,0.6037735849056604,0.6521739130434783,0.32258064516129037,0.576923076923077,0.29787234042553196,0.4615384615384615,0.5925925925925926,0.5454545454545455],\"type\":\"violin\",\"xaxis\":\"x\",\"yaxis\":\"y\"},{\"box\":{\"visible\":true},\"fillcolor\":\"#FB0D0D\",\"legendgroup\":\"idvt\",\"line\":{\"color\":\"black\"},\"meanline\":{\"visible\":true},\"name\":\"MN, idvt\",\"opacity\":0.25,\"scalegroup\":\"f1\",\"showlegend\":true,\"side\":\"negative\",\"spanmode\":\"hard\",\"x0\":\"idvt\",\"y\":[0.6976744186046512,0.2857142857142857,0.5909090909090908,0.7241379310344829,0.5106382978723405,0.5833333333333334,0.5925925925925926,0.6521739130434783,0.32258064516129037,0.6415094339622641,0.36734693877551017,0.4444444444444444,0.5925925925925926,0.5454545454545455],\"type\":\"violin\",\"xaxis\":\"x\",\"yaxis\":\"y\"},{\"box\":{\"visible\":true},\"fillcolor\":\"#DA16FF\",\"legendgroup\":\"engbert\",\"line\":{\"color\":\"black\"},\"meanline\":{\"visible\":true},\"name\":\"MN, engbert\",\"opacity\":0.25,\"scalegroup\":\"f1\",\"showlegend\":true,\"side\":\"negative\",\"spanmode\":\"hard\",\"x0\":\"engbert\",\"y\":[0.9122807017543859,0.5714285714285715,0.7605633802816901,0.6666666666666666,0.8450704225352113,0.9523809523809523,0.8533333333333333,0.9090909090909091,0.9433962264150944,0.6904761904761905,0.6268656716417911,0.5789473684210525,0.9014084507042254,0.9152542372881356],\"type\":\"violin\",\"xaxis\":\"x\",\"yaxis\":\"y\"},{\"box\":{\"visible\":true},\"fillcolor\":\"#222A2A\",\"legendgroup\":\"nh\",\"line\":{\"color\":\"black\"},\"meanline\":{\"visible\":true},\"name\":\"MN, nh\",\"opacity\":0.25,\"scalegroup\":\"f1\",\"showlegend\":true,\"side\":\"negative\",\"spanmode\":\"hard\",\"x0\":\"nh\",\"y\":[0.5384615384615384,0.26666666666666666,0.5,0.19047619047619047,0.5714285714285715,0.5666666666666667,0.5538461538461538,0.43333333333333335,0.9019607843137256,0.5660377358490566,0.06666666666666667,0.4255319148936171,0.05714285714285714,0.7999999999999999],\"type\":\"violin\",\"xaxis\":\"x\",\"yaxis\":\"y\"},{\"box\":{\"visible\":true},\"fillcolor\":\"#B68100\",\"legendgroup\":\"remodnav\",\"line\":{\"color\":\"black\"},\"meanline\":{\"visible\":true},\"name\":\"MN, remodnav\",\"opacity\":0.25,\"scalegroup\":\"f1\",\"showlegend\":true,\"side\":\"negative\",\"spanmode\":\"hard\",\"x0\":\"remodnav\",\"y\":[0.6666666666666666,0.2857142857142857,0.43243243243243246,0.40909090909090906,0.625,0.5365853658536585,0.30769230769230765,0.6666666666666666,0.631578947368421,0.6956521739130436,0.2962962962962963,0.42857142857142855,0.6086956521739131,0.7142857142857143],\"type\":\"violin\",\"xaxis\":\"x\",\"yaxis\":\"y\"},{\"box\":{\"visible\":true},\"fillcolor\":\"#bab0ac\",\"legendgroup\":\"Other GT\",\"line\":{\"color\":\"black\"},\"meanline\":{\"visible\":true},\"name\":\"RA, Other GT\",\"opacity\":0.75,\"scalegroup\":\"d_prime\",\"showlegend\":false,\"side\":\"positive\",\"spanmode\":\"hard\",\"x0\":\"Other GT\",\"y\":[5.459187550419509,3.909244963156813,4.629591693091486,5.455990592890831,4.443255522619719,5.697198192494998,5.697198192495014,4.669486053339465,3.9778153925912196,5.697325201555923,5.46055068919749,4.106184045600919,5.456697951706454,5.091656382773711],\"type\":\"violin\",\"xaxis\":\"x2\",\"yaxis\":\"y2\"},{\"box\":{\"visible\":true},\"fillcolor\":\"#2E91E5\",\"legendgroup\":\"ivt\",\"line\":{\"color\":\"black\"},\"meanline\":{\"visible\":true},\"name\":\"RA, ivt\",\"opacity\":0.75,\"scalegroup\":\"d_prime\",\"showlegend\":false,\"side\":\"positive\",\"spanmode\":\"hard\",\"x0\":\"ivt\",\"y\":[4.935210117945616,3.027812456059501,4.983192405588715,5.0472493145762085,2.9298959092282577,3.0508759258365847,4.4752621512270805,4.992198654506082,4.312099189420545,2.8592051942026666,3.648316355744651,4.985511457908569,5.202749190303056,3.646923271358781,3.105093781687821,4.501241571988883,4.424817633810667,2.6083850889986855,4.930129828954507,2.891430690177534],\"type\":\"violin\",\"xaxis\":\"x2\",\"yaxis\":\"y2\"},{\"box\":{\"visible\":true},\"fillcolor\":\"#E15F99\",\"legendgroup\":\"ivvt\",\"line\":{\"color\":\"black\"},\"meanline\":{\"visible\":true},\"name\":\"RA, ivvt\",\"opacity\":0.75,\"scalegroup\":\"d_prime\",\"showlegend\":false,\"side\":\"positive\",\"spanmode\":\"hard\",\"x0\":\"ivvt\",\"y\":[4.935210117945616,3.027812456059501,4.793963005522437,4.796603895400534,2.7833173188314073,2.93257512158007,4.107777433285677,4.367119696372443,4.803546889825931,2.992385296538358,3.596492324322004,4.659064417763066,4.983868524643366,3.5454601905514496,2.8999416356744963,4.20927069479959,4.219960354617328,2.4008722473674293,4.7224382754870255,3.633177456566014],\"type\":\"violin\",\"xaxis\":\"x2\",\"yaxis\":\"y2\"},{\"box\":{\"visible\":true},\"fillcolor\":\"#1CA71C\",\"legendgroup\":\"idt\",\"line\":{\"color\":\"black\"},\"meanline\":{\"visible\":true},\"name\":\"RA, idt\",\"opacity\":0.75,\"scalegroup\":\"d_prime\",\"showlegend\":false,\"side\":\"positive\",\"spanmode\":\"hard\",\"x0\":\"idt\",\"y\":[3.1875568290930625,1.787953229338177,2.6094427534986746,2.6814492707351136,2.6395135206515428,2.2746278798292336,2.5361336419702476,1.83645289326642,2.310290548816525,2.067786735744974,2.808336266956156,2.595471843602999,2.424299027839395,2.248550883443325,1.6385111426454706,2.1314230756601105,1.301232293540237,1.6834816993378174,2.0899466875847263,1.7073115964230758],\"type\":\"violin\",\"xaxis\":\"x2\",\"yaxis\":\"y2\"},{\"box\":{\"visible\":true},\"fillcolor\":\"#FB0D0D\",\"legendgroup\":\"idvt\",\"line\":{\"color\":\"black\"},\"meanline\":{\"visible\":true},\"name\":\"RA, idvt\",\"opacity\":0.75,\"scalegroup\":\"d_prime\",\"showlegend\":false,\"side\":\"positive\",\"spanmode\":\"hard\",\"x0\":\"idvt\",\"y\":[3.1875568290930625,1.787953229338177,2.7758089351195308,2.6814492707351136,2.814080709426124,2.364997898546176,2.799220639071396,2.140775935854541,2.4630905142450756,2.067786735744974,2.808336266956156,2.99323331680582,2.339927958217751,2.248550883443325,1.6385111426454706,2.360548797936101,1.5519472230429894,1.63757650709297,2.0899466875847263,1.7073115964230758],\"type\":\"violin\",\"xaxis\":\"x2\",\"yaxis\":\"y2\"},{\"box\":{\"visible\":true},\"fillcolor\":\"#DA16FF\",\"legendgroup\":\"engbert\",\"line\":{\"color\":\"black\"},\"meanline\":{\"visible\":true},\"name\":\"RA, engbert\",\"opacity\":0.75,\"scalegroup\":\"d_prime\",\"showlegend\":false,\"side\":\"positive\",\"spanmode\":\"hard\",\"x0\":\"engbert\",\"y\":[4.989576400060516,4.901607521707367,4.983192405588715,4.882022601074331,5.20475967978861,4.631549353670097,3.3422720579072887,4.889240213988629,4.803546889825931,3.6417743492215378,3.501153542978641,5.2040916260010235,4.756823894517892,5.046467880803274,3.4673186773217353,3.396921059460248,3.2416119182383576,3.0449205178680936,4.881141236650121,4.326659463989936],\"type\":\"violin\",\"xaxis\":\"x2\",\"yaxis\":\"y2\"},{\"box\":{\"visible\":true},\"fillcolor\":\"#222A2A\",\"legendgroup\":\"nh\",\"line\":{\"color\":\"black\"},\"meanline\":{\"visible\":true},\"name\":\"RA, nh\",\"opacity\":0.75,\"scalegroup\":\"d_prime\",\"showlegend\":false,\"side\":\"positive\",\"spanmode\":\"hard\",\"x0\":\"nh\",\"y\":[1.7926947585150583,2.033266344834221,1.001546535225833,1.77699590433968,1.4556523663667582,1.7278403360192967,0.9255093218626931,2.1727831216833784,3.339283778489517,4.0454035765309975,1.7354692377567866,1.693344170432551,1.9616249577248832,1.7649502445000027,3.1462748618467935,2.2150748095672395,0.47121060532399905,2.3012887920140135,0.7460629456169006,2.660012809855202],\"type\":\"violin\",\"xaxis\":\"x2\",\"yaxis\":\"y2\"},{\"box\":{\"visible\":true},\"fillcolor\":\"#B68100\",\"legendgroup\":\"remodnav\",\"line\":{\"color\":\"black\"},\"meanline\":{\"visible\":true},\"name\":\"RA, remodnav\",\"opacity\":0.75,\"scalegroup\":\"d_prime\",\"showlegend\":false,\"side\":\"positive\",\"spanmode\":\"hard\",\"x0\":\"remodnav\",\"y\":[2.8985322608805797,1.787953229338177,2.6320779854648126,3.0157489217598763,2.8055578601907687,2.387078899775238,2.21854464502775,2.2851645065463746,2.4630905142450756,1.9536791047240807,2.4730718513678265,2.394612012722257,1.9366756381069257,2.808336266956156,2.3679712395452093,2.9319462228395294,1.9557932954870083,2.158319299406476,2.6210375059919047,2.6840055998741437],\"type\":\"violin\",\"xaxis\":\"x2\",\"yaxis\":\"y2\"},{\"box\":{\"visible\":true},\"fillcolor\":\"#bab0ac\",\"legendgroup\":\"Other GT\",\"line\":{\"color\":\"black\"},\"meanline\":{\"visible\":true},\"name\":\"MN, Other GT\",\"opacity\":0.25,\"scalegroup\":\"d_prime\",\"showlegend\":false,\"side\":\"negative\",\"spanmode\":\"hard\",\"x0\":\"Other GT\",\"y\":[4.593647127748606,5.466728855348689,4.629591693091486,4.708167430624197,4.3579427414783485,5.697198192494998,5.697198192495014,5.457116652251863,4.63919081626589,5.697325201555923,4.5185562688186645,3.9281338566234476,4.682849945470158,5.091656382773711],\"type\":\"violin\",\"xaxis\":\"x2\",\"yaxis\":\"y2\"},{\"box\":{\"visible\":true},\"fillcolor\":\"#2E91E5\",\"legendgroup\":\"ivt\",\"line\":{\"color\":\"black\"},\"meanline\":{\"visible\":true},\"name\":\"MN, ivt\",\"opacity\":0.25,\"scalegroup\":\"d_prime\",\"showlegend\":false,\"side\":\"negative\",\"spanmode\":\"hard\",\"x0\":\"ivt\",\"y\":[4.988768206332356,3.2773144223208646,3.0508759258365847,3.533838571914921,3.7248300414689854,4.985511457908569,5.202749190303056,3.8487366569051202,3.272707589200251,4.501241571988883,4.444039234857245,2.687887607987858,4.983868524643366,2.891430690177534],\"type\":\"violin\",\"xaxis\":\"x2\",\"yaxis\":\"y2\"},{\"box\":{\"visible\":true},\"fillcolor\":\"#E15F99\",\"legendgroup\":\"ivvt\",\"line\":{\"color\":\"black\"},\"meanline\":{\"visible\":true},\"name\":\"MN, ivvt\",\"opacity\":0.25,\"scalegroup\":\"d_prime\",\"showlegend\":false,\"side\":\"negative\",\"spanmode\":\"hard\",\"x0\":\"ivvt\",\"y\":[4.988768206332356,3.2773144223208646,2.93257512158007,4.119664406019537,3.637552407367872,4.659064417763066,4.983868524643366,3.8624315975768466,3.0998983174169052,4.20927069479959,4.233675602189977,2.8402036775137964,4.756823894517892,3.633177456566014],\"type\":\"violin\",\"xaxis\":\"x2\",\"yaxis\":\"y2\"},{\"box\":{\"visible\":true},\"fillcolor\":\"#1CA71C\",\"legendgroup\":\"idt\",\"line\":{\"color\":\"black\"},\"meanline\":{\"visible\":true},\"name\":\"MN, idt\",\"opacity\":0.25,\"scalegroup\":\"d_prime\",\"showlegend\":false,\"side\":\"negative\",\"spanmode\":\"hard\",\"x0\":\"idt\",\"y\":[2.7927292939909236,1.8870194739233654,2.2746278798292336,2.4921810028188527,2.1326028810407274,2.009984013122713,2.2615155454846385,2.8253393120177144,1.68877679427036,2.1314230756601105,1.2580869984359002,1.84525863115012,2.190709497116439,1.7073115964230758],\"type\":\"violin\",\"xaxis\":\"x2\",\"yaxis\":\"y2\"},{\"box\":{\"visible\":true},\"fillcolor\":\"#FB0D0D\",\"legendgroup\":\"idvt\",\"line\":{\"color\":\"black\"},\"meanline\":{\"visible\":true},\"name\":\"MN, idvt\",\"opacity\":0.25,\"scalegroup\":\"d_prime\",\"showlegend\":false,\"side\":\"negative\",\"spanmode\":\"hard\",\"x0\":\"idvt\",\"y\":[2.7927292939909236,1.8870194739233654,2.364997898546176,2.7489146501141564,2.1326028810407274,2.2639989769539666,2.190709497116439,2.8253393120177144,1.68877679427036,2.360548797936101,1.5009920018489356,1.7954595797596142,2.190709497116439,1.7073115964230758],\"type\":\"violin\",\"xaxis\":\"x2\",\"yaxis\":\"y2\"},{\"box\":{\"visible\":true},\"fillcolor\":\"#DA16FF\",\"legendgroup\":\"engbert\",\"line\":{\"color\":\"black\"},\"meanline\":{\"visible\":true},\"name\":\"MN, engbert\",\"opacity\":0.25,\"scalegroup\":\"d_prime\",\"showlegend\":false,\"side\":\"negative\",\"spanmode\":\"hard\",\"x0\":\"engbert\",\"y\":[5.050351704176499,4.858495831087648,3.5819022301875165,3.0293930129785402,3.560662946760054,5.2040916260010235,4.756823894517892,4.985511457908569,3.9992995826467257,3.396921059460248,3.283005481665862,4.280838617551851,4.929274351876277,4.326659463989936],\"type\":\"violin\",\"xaxis\":\"x2\",\"yaxis\":\"y2\"},{\"box\":{\"visible\":true},\"fillcolor\":\"#222A2A\",\"legendgroup\":\"nh\",\"line\":{\"color\":\"black\"},\"meanline\":{\"visible\":true},\"name\":\"MN, nh\",\"opacity\":0.25,\"scalegroup\":\"d_prime\",\"showlegend\":false,\"side\":\"negative\",\"spanmode\":\"hard\",\"x0\":\"nh\",\"y\":[2.0064568243884704,1.7226620203325396,1.8559027945369224,1.1573624603371955,2.0258199991612647,2.0384997883341103,1.9616249577248832,1.581100491300537,3.428854246434944,2.077273246460014,0.44805264675819245,1.7007605154547154,0.7311126229132512,2.660012809855202],\"type\":\"violin\",\"xaxis\":\"x2\",\"yaxis\":\"y2\"},{\"box\":{\"visible\":true},\"fillcolor\":\"#B68100\",\"legendgroup\":\"remodnav\",\"line\":{\"color\":\"black\"},\"meanline\":{\"visible\":true},\"name\":\"MN, remodnav\",\"opacity\":0.25,\"scalegroup\":\"d_prime\",\"showlegend\":false,\"side\":\"negative\",\"spanmode\":\"hard\",\"x0\":\"remodnav\",\"y\":[2.848599096247495,1.8870194739233654,2.2608997804194324,2.193462453056782,2.7454097843926895,2.5094591735383354,1.9366756381069257,2.848599096247495,2.4504978914561244,2.9319462228395294,1.9227376218479018,2.247014302559641,2.691984885490992,2.6840055998741437],\"type\":\"violin\",\"xaxis\":\"x2\",\"yaxis\":\"y2\"}],                        {\"template\":{\"data\":{\"histogram2dcontour\":[{\"type\":\"histogram2dcontour\",\"colorbar\":{\"outlinewidth\":0,\"ticks\":\"\"},\"colorscale\":[[0.0,\"#0d0887\"],[0.1111111111111111,\"#46039f\"],[0.2222222222222222,\"#7201a8\"],[0.3333333333333333,\"#9c179e\"],[0.4444444444444444,\"#bd3786\"],[0.5555555555555556,\"#d8576b\"],[0.6666666666666666,\"#ed7953\"],[0.7777777777777778,\"#fb9f3a\"],[0.8888888888888888,\"#fdca26\"],[1.0,\"#f0f921\"]]}],\"choropleth\":[{\"type\":\"choropleth\",\"colorbar\":{\"outlinewidth\":0,\"ticks\":\"\"}}],\"histogram2d\":[{\"type\":\"histogram2d\",\"colorbar\":{\"outlinewidth\":0,\"ticks\":\"\"},\"colorscale\":[[0.0,\"#0d0887\"],[0.1111111111111111,\"#46039f\"],[0.2222222222222222,\"#7201a8\"],[0.3333333333333333,\"#9c179e\"],[0.4444444444444444,\"#bd3786\"],[0.5555555555555556,\"#d8576b\"],[0.6666666666666666,\"#ed7953\"],[0.7777777777777778,\"#fb9f3a\"],[0.8888888888888888,\"#fdca26\"],[1.0,\"#f0f921\"]]}],\"heatmap\":[{\"type\":\"heatmap\",\"colorbar\":{\"outlinewidth\":0,\"ticks\":\"\"},\"colorscale\":[[0.0,\"#0d0887\"],[0.1111111111111111,\"#46039f\"],[0.2222222222222222,\"#7201a8\"],[0.3333333333333333,\"#9c179e\"],[0.4444444444444444,\"#bd3786\"],[0.5555555555555556,\"#d8576b\"],[0.6666666666666666,\"#ed7953\"],[0.7777777777777778,\"#fb9f3a\"],[0.8888888888888888,\"#fdca26\"],[1.0,\"#f0f921\"]]}],\"heatmapgl\":[{\"type\":\"heatmapgl\",\"colorbar\":{\"outlinewidth\":0,\"ticks\":\"\"},\"colorscale\":[[0.0,\"#0d0887\"],[0.1111111111111111,\"#46039f\"],[0.2222222222222222,\"#7201a8\"],[0.3333333333333333,\"#9c179e\"],[0.4444444444444444,\"#bd3786\"],[0.5555555555555556,\"#d8576b\"],[0.6666666666666666,\"#ed7953\"],[0.7777777777777778,\"#fb9f3a\"],[0.8888888888888888,\"#fdca26\"],[1.0,\"#f0f921\"]]}],\"contourcarpet\":[{\"type\":\"contourcarpet\",\"colorbar\":{\"outlinewidth\":0,\"ticks\":\"\"}}],\"contour\":[{\"type\":\"contour\",\"colorbar\":{\"outlinewidth\":0,\"ticks\":\"\"},\"colorscale\":[[0.0,\"#0d0887\"],[0.1111111111111111,\"#46039f\"],[0.2222222222222222,\"#7201a8\"],[0.3333333333333333,\"#9c179e\"],[0.4444444444444444,\"#bd3786\"],[0.5555555555555556,\"#d8576b\"],[0.6666666666666666,\"#ed7953\"],[0.7777777777777778,\"#fb9f3a\"],[0.8888888888888888,\"#fdca26\"],[1.0,\"#f0f921\"]]}],\"surface\":[{\"type\":\"surface\",\"colorbar\":{\"outlinewidth\":0,\"ticks\":\"\"},\"colorscale\":[[0.0,\"#0d0887\"],[0.1111111111111111,\"#46039f\"],[0.2222222222222222,\"#7201a8\"],[0.3333333333333333,\"#9c179e\"],[0.4444444444444444,\"#bd3786\"],[0.5555555555555556,\"#d8576b\"],[0.6666666666666666,\"#ed7953\"],[0.7777777777777778,\"#fb9f3a\"],[0.8888888888888888,\"#fdca26\"],[1.0,\"#f0f921\"]]}],\"mesh3d\":[{\"type\":\"mesh3d\",\"colorbar\":{\"outlinewidth\":0,\"ticks\":\"\"}}],\"scatter\":[{\"fillpattern\":{\"fillmode\":\"overlay\",\"size\":10,\"solidity\":0.2},\"type\":\"scatter\"}],\"parcoords\":[{\"type\":\"parcoords\",\"line\":{\"colorbar\":{\"outlinewidth\":0,\"ticks\":\"\"}}}],\"scatterpolargl\":[{\"type\":\"scatterpolargl\",\"marker\":{\"colorbar\":{\"outlinewidth\":0,\"ticks\":\"\"}}}],\"bar\":[{\"error_x\":{\"color\":\"#2a3f5f\"},\"error_y\":{\"color\":\"#2a3f5f\"},\"marker\":{\"line\":{\"color\":\"#E5ECF6\",\"width\":0.5},\"pattern\":{\"fillmode\":\"overlay\",\"size\":10,\"solidity\":0.2}},\"type\":\"bar\"}],\"scattergeo\":[{\"type\":\"scattergeo\",\"marker\":{\"colorbar\":{\"outlinewidth\":0,\"ticks\":\"\"}}}],\"scatterpolar\":[{\"type\":\"scatterpolar\",\"marker\":{\"colorbar\":{\"outlinewidth\":0,\"ticks\":\"\"}}}],\"histogram\":[{\"marker\":{\"pattern\":{\"fillmode\":\"overlay\",\"size\":10,\"solidity\":0.2}},\"type\":\"histogram\"}],\"scattergl\":[{\"type\":\"scattergl\",\"marker\":{\"colorbar\":{\"outlinewidth\":0,\"ticks\":\"\"}}}],\"scatter3d\":[{\"type\":\"scatter3d\",\"line\":{\"colorbar\":{\"outlinewidth\":0,\"ticks\":\"\"}},\"marker\":{\"colorbar\":{\"outlinewidth\":0,\"ticks\":\"\"}}}],\"scattermapbox\":[{\"type\":\"scattermapbox\",\"marker\":{\"colorbar\":{\"outlinewidth\":0,\"ticks\":\"\"}}}],\"scatterternary\":[{\"type\":\"scatterternary\",\"marker\":{\"colorbar\":{\"outlinewidth\":0,\"ticks\":\"\"}}}],\"scattercarpet\":[{\"type\":\"scattercarpet\",\"marker\":{\"colorbar\":{\"outlinewidth\":0,\"ticks\":\"\"}}}],\"carpet\":[{\"aaxis\":{\"endlinecolor\":\"#2a3f5f\",\"gridcolor\":\"white\",\"linecolor\":\"white\",\"minorgridcolor\":\"white\",\"startlinecolor\":\"#2a3f5f\"},\"baxis\":{\"endlinecolor\":\"#2a3f5f\",\"gridcolor\":\"white\",\"linecolor\":\"white\",\"minorgridcolor\":\"white\",\"startlinecolor\":\"#2a3f5f\"},\"type\":\"carpet\"}],\"table\":[{\"cells\":{\"fill\":{\"color\":\"#EBF0F8\"},\"line\":{\"color\":\"white\"}},\"header\":{\"fill\":{\"color\":\"#C8D4E3\"},\"line\":{\"color\":\"white\"}},\"type\":\"table\"}],\"barpolar\":[{\"marker\":{\"line\":{\"color\":\"#E5ECF6\",\"width\":0.5},\"pattern\":{\"fillmode\":\"overlay\",\"size\":10,\"solidity\":0.2}},\"type\":\"barpolar\"}],\"pie\":[{\"automargin\":true,\"type\":\"pie\"}]},\"layout\":{\"autotypenumbers\":\"strict\",\"colorway\":[\"#636efa\",\"#EF553B\",\"#00cc96\",\"#ab63fa\",\"#FFA15A\",\"#19d3f3\",\"#FF6692\",\"#B6E880\",\"#FF97FF\",\"#FECB52\"],\"font\":{\"color\":\"#2a3f5f\"},\"hovermode\":\"closest\",\"hoverlabel\":{\"align\":\"left\"},\"paper_bgcolor\":\"white\",\"plot_bgcolor\":\"#E5ECF6\",\"polar\":{\"bgcolor\":\"#E5ECF6\",\"angularaxis\":{\"gridcolor\":\"white\",\"linecolor\":\"white\",\"ticks\":\"\"},\"radialaxis\":{\"gridcolor\":\"white\",\"linecolor\":\"white\",\"ticks\":\"\"}},\"ternary\":{\"bgcolor\":\"#E5ECF6\",\"aaxis\":{\"gridcolor\":\"white\",\"linecolor\":\"white\",\"ticks\":\"\"},\"baxis\":{\"gridcolor\":\"white\",\"linecolor\":\"white\",\"ticks\":\"\"},\"caxis\":{\"gridcolor\":\"white\",\"linecolor\":\"white\",\"ticks\":\"\"}},\"coloraxis\":{\"colorbar\":{\"outlinewidth\":0,\"ticks\":\"\"}},\"colorscale\":{\"sequential\":[[0.0,\"#0d0887\"],[0.1111111111111111,\"#46039f\"],[0.2222222222222222,\"#7201a8\"],[0.3333333333333333,\"#9c179e\"],[0.4444444444444444,\"#bd3786\"],[0.5555555555555556,\"#d8576b\"],[0.6666666666666666,\"#ed7953\"],[0.7777777777777778,\"#fb9f3a\"],[0.8888888888888888,\"#fdca26\"],[1.0,\"#f0f921\"]],\"sequentialminus\":[[0.0,\"#0d0887\"],[0.1111111111111111,\"#46039f\"],[0.2222222222222222,\"#7201a8\"],[0.3333333333333333,\"#9c179e\"],[0.4444444444444444,\"#bd3786\"],[0.5555555555555556,\"#d8576b\"],[0.6666666666666666,\"#ed7953\"],[0.7777777777777778,\"#fb9f3a\"],[0.8888888888888888,\"#fdca26\"],[1.0,\"#f0f921\"]],\"diverging\":[[0,\"#8e0152\"],[0.1,\"#c51b7d\"],[0.2,\"#de77ae\"],[0.3,\"#f1b6da\"],[0.4,\"#fde0ef\"],[0.5,\"#f7f7f7\"],[0.6,\"#e6f5d0\"],[0.7,\"#b8e186\"],[0.8,\"#7fbc41\"],[0.9,\"#4d9221\"],[1,\"#276419\"]]},\"xaxis\":{\"gridcolor\":\"white\",\"linecolor\":\"white\",\"ticks\":\"\",\"title\":{\"standoff\":15},\"zerolinecolor\":\"white\",\"automargin\":true,\"zerolinewidth\":2},\"yaxis\":{\"gridcolor\":\"white\",\"linecolor\":\"white\",\"ticks\":\"\",\"title\":{\"standoff\":15},\"zerolinecolor\":\"white\",\"automargin\":true,\"zerolinewidth\":2},\"scene\":{\"xaxis\":{\"backgroundcolor\":\"#E5ECF6\",\"gridcolor\":\"white\",\"linecolor\":\"white\",\"showbackground\":true,\"ticks\":\"\",\"zerolinecolor\":\"white\",\"gridwidth\":2},\"yaxis\":{\"backgroundcolor\":\"#E5ECF6\",\"gridcolor\":\"white\",\"linecolor\":\"white\",\"showbackground\":true,\"ticks\":\"\",\"zerolinecolor\":\"white\",\"gridwidth\":2},\"zaxis\":{\"backgroundcolor\":\"#E5ECF6\",\"gridcolor\":\"white\",\"linecolor\":\"white\",\"showbackground\":true,\"ticks\":\"\",\"zerolinecolor\":\"white\",\"gridwidth\":2}},\"shapedefaults\":{\"line\":{\"color\":\"#2a3f5f\"}},\"annotationdefaults\":{\"arrowcolor\":\"#2a3f5f\",\"arrowhead\":0,\"arrowwidth\":1},\"geo\":{\"bgcolor\":\"white\",\"landcolor\":\"#E5ECF6\",\"subunitcolor\":\"white\",\"showland\":true,\"showlakes\":true,\"lakecolor\":\"white\"},\"title\":{\"x\":0.05},\"mapbox\":{\"style\":\"light\"}}},\"xaxis\":{\"anchor\":\"y\",\"domain\":[0.0,1.0],\"matches\":\"x2\",\"showticklabels\":false},\"yaxis\":{\"anchor\":\"x\",\"domain\":[0.55,1.0],\"range\":[0,1]},\"xaxis2\":{\"anchor\":\"y2\",\"domain\":[0.0,1.0]},\"yaxis2\":{\"anchor\":\"x2\",\"domain\":[0.0,0.45]},\"annotations\":[{\"font\":{\"size\":16},\"showarrow\":false,\"text\":\"f1\",\"x\":0.5,\"xanchor\":\"center\",\"xref\":\"paper\",\"y\":1.0,\"yanchor\":\"bottom\",\"yref\":\"paper\"},{\"font\":{\"size\":16},\"showarrow\":false,\"text\":\"d'\",\"x\":0.5,\"xanchor\":\"center\",\"xref\":\"paper\",\"y\":0.45,\"yanchor\":\"bottom\",\"yref\":\"paper\"}],\"title\":{\"text\":\"fixation onsets\"},\"violinmode\":\"overlay\",\"boxmode\":\"group\",\"boxgroupgap\":0,\"boxgap\":0,\"margin\":{\"l\":10,\"r\":10,\"b\":10,\"t\":10,\"pad\":0},\"width\":1000,\"height\":500,\"paper_bgcolor\":\"rgba(0, 0, 0, 0)\",\"plot_bgcolor\":\"rgba(0, 0, 0, 0)\"},                        {\"responsive\": true}                    ).then(function(){\n",
       "                            \n",
       "var gd = document.getElementById('88049a2e-9063-41b8-8cc2-07c781826498');\n",
       "var x = new MutationObserver(function (mutations, observer) {{\n",
       "        var display = window.getComputedStyle(gd).display;\n",
       "        if (!display || display === 'none') {{\n",
       "            console.log([gd, 'removed!']);\n",
       "            Plotly.purge(gd);\n",
       "            observer.disconnect();\n",
       "        }}\n",
       "}});\n",
       "\n",
       "// Listen for the removal of the full notebook cells\n",
       "var notebookContainer = gd.closest('#notebook-container');\n",
       "if (notebookContainer) {{\n",
       "    x.observe(notebookContainer, {childList: true});\n",
       "}}\n",
       "\n",
       "// Listen for the clearing of the current output cell\n",
       "var outputEl = gd.closest('.output');\n",
       "if (outputEl) {{\n",
       "    x.observe(outputEl, {childList: true});\n",
       "}}\n",
       "\n",
       "                        })                };                });            </script>        </div>"
      ]
     },
     "metadata": {},
     "output_type": "display_data"
    }
   ],
   "execution_count": 35
  },
  {
   "metadata": {},
   "cell_type": "markdown",
   "source": "### (2) Offset Distributions",
   "id": "a714ab0c98b39c5"
  },
  {
   "metadata": {
    "ExecuteTime": {
     "end_time": "2025-01-09T15:26:15.556819Z",
     "start_time": "2025-01-09T15:26:15.514906Z"
    }
   },
   "cell_type": "code",
   "source": [
    "offset_distribution_figure = ch_sdt.single_threshold_figure(\n",
    "    csdt_metrics.loc[(slice(None), [peyes.constants.D_PRIME_STR, peyes.constants.F1_STR], slice(None)), :],\n",
    "    peyes.constants.OFFSET_STR,\n",
    "    THRESHOLD,\n",
    "    GT1,\n",
    "    gt2=GT2,\n",
    "    show_other_gt=True,\n",
    "    share_x=True,\n",
    "    colors={k: v[1] for k, v in LABELER_PLOTTING_CONFIG.items()},\n",
    ")\n",
    "\n",
    "offset_distribution_figure.update_layout(\n",
    "    title=dict(text=\"fixation offsets\"),\n",
    "    width=1000, height=500,\n",
    "    paper_bgcolor='rgba(0, 0, 0, 0)',\n",
    "    plot_bgcolor='rgba(0, 0, 0, 0)',\n",
    "    margin=dict(l=10, r=10, b=10, t=10, pad=0),\n",
    ")\n",
    "# offset_distribution_figure.layout.annotations = []   # remove subtitles\n",
    "\n",
    "offset_distribution_figure.show()"
   ],
   "id": "8c7133a68f02588b",
   "outputs": [
    {
     "data": {
      "application/vnd.plotly.v1+json": {
       "data": [
        {
         "box": {
          "visible": true
         },
         "fillcolor": "#bab0ac",
         "legendgroup": "Other GT",
         "line": {
          "color": "black"
         },
         "meanline": {
          "visible": true
         },
         "name": "RA, Other GT",
         "opacity": 0.75,
         "scalegroup": "f1",
         "showlegend": true,
         "side": "positive",
         "spanmode": "hard",
         "x0": "Other GT",
         "y": [
          0.9019607843137256,
          0.7692307692307692,
          0.8571428571428571,
          0.7761194029850745,
          0.9841269841269841,
          0.9333333333333333,
          0.90625,
          0.9508196721311476,
          0.9259259259259259,
          0.9666666666666667,
          0.9302325581395349,
          0.761904761904762,
          0.9841269841269841,
          1.0
         ],
         "type": "violin",
         "xaxis": "x",
         "yaxis": "y"
        },
        {
         "box": {
          "visible": true
         },
         "fillcolor": "#2E91E5",
         "legendgroup": "ivt",
         "line": {
          "color": "black"
         },
         "meanline": {
          "visible": true
         },
         "name": "RA, ivt",
         "opacity": 0.75,
         "scalegroup": "f1",
         "showlegend": true,
         "side": "positive",
         "spanmode": "hard",
         "x0": "ivt",
         "y": [
          0.7719298245614036,
          0.5454545454545454,
          0.7500000000000001,
          0.5538461538461538,
          0.6984126984126984,
          0.358974358974359,
          0.45977011494252873,
          0.5833333333333334,
          0.9666666666666667,
          0.8253968253968255,
          0.626865671641791,
          0.5757575757575758,
          0.955223880597015,
          0.8253968253968254,
          0.7083333333333333,
          0.27499999999999997,
          0.27272727272727276,
          0.25641025641025644,
          0.6376811594202899,
          0.5454545454545454
         ],
         "type": "violin",
         "xaxis": "x",
         "yaxis": "y"
        },
        {
         "box": {
          "visible": true
         },
         "fillcolor": "#E15F99",
         "legendgroup": "ivvt",
         "line": {
          "color": "black"
         },
         "meanline": {
          "visible": true
         },
         "name": "RA, ivvt",
         "opacity": 0.75,
         "scalegroup": "f1",
         "showlegend": true,
         "side": "positive",
         "spanmode": "hard",
         "x0": "ivvt",
         "y": [
          0.7719298245614036,
          0.5454545454545454,
          0.7631578947368421,
          0.6,
          0.6865671641791046,
          0.32727272727272727,
          0.45871559633027525,
          0.463768115942029,
          0.9836065573770492,
          0.8656716417910447,
          0.6666666666666666,
          0.5675675675675677,
          0.9142857142857143,
          0.782608695652174,
          0.7450980392156864,
          0.3333333333333333,
          0.282051282051282,
          0.2105263157894737,
          0.6216216216216216,
          0.6551724137931035
         ],
         "type": "violin",
         "xaxis": "x",
         "yaxis": "y"
        },
        {
         "box": {
          "visible": true
         },
         "fillcolor": "#1CA71C",
         "legendgroup": "idt",
         "line": {
          "color": "black"
         },
         "meanline": {
          "visible": true
         },
         "name": "RA, idt",
         "opacity": 0.75,
         "scalegroup": "f1",
         "showlegend": true,
         "side": "positive",
         "spanmode": "hard",
         "x0": "idt",
         "y": [
          0.19047619047619052,
          0.23728813559322037,
          0.18604651162790697,
          0.043478260869565216,
          0.18604651162790697,
          0.10714285714285714,
          0.2222222222222222,
          0.5909090909090909,
          0.43478260869565216,
          0.08695652173913043,
          0.0425531914893617,
          0.0425531914893617,
          0.24242424242424243,
          0.1923076923076923,
          0.13043478260869565,
          0.32,
          0.03773584905660377,
          0.5454545454545455
         ],
         "type": "violin",
         "xaxis": "x",
         "yaxis": "y"
        },
        {
         "box": {
          "visible": true
         },
         "fillcolor": "#FB0D0D",
         "legendgroup": "idvt",
         "line": {
          "color": "black"
         },
         "meanline": {
          "visible": true
         },
         "name": "RA, idvt",
         "opacity": 0.75,
         "scalegroup": "f1",
         "showlegend": true,
         "side": "positive",
         "spanmode": "hard",
         "x0": "idvt",
         "y": [
          0.19047619047619052,
          0.23728813559322037,
          0.18604651162790697,
          0.08333333333333333,
          0.18181818181818182,
          0.10526315789473685,
          0.2162162162162162,
          0.5909090909090909,
          0.43478260869565216,
          0.08695652173913043,
          0.08333333333333334,
          0.0425531914893617,
          0.24242424242424243,
          0.22641509433962265,
          0.125,
          0.19230769230769232,
          0.03773584905660377,
          0.5454545454545455
         ],
         "type": "violin",
         "xaxis": "x",
         "yaxis": "y"
        },
        {
         "box": {
          "visible": true
         },
         "fillcolor": "#DA16FF",
         "legendgroup": "engbert",
         "line": {
          "color": "black"
         },
         "meanline": {
          "visible": true
         },
         "name": "RA, engbert",
         "opacity": 0.75,
         "scalegroup": "f1",
         "showlegend": true,
         "side": "positive",
         "spanmode": "hard",
         "x0": "engbert",
         "y": [
          0.46428571428571425,
          0.5454545454545455,
          0.611111111111111,
          0.17647058823529413,
          0.3278688524590164,
          0.45070422535211263,
          0.505263157894737,
          0.44,
          0.9508196721311476,
          0.88,
          0.2,
          0.31746031746031744,
          0.6933333333333334,
          0.5970149253731343,
          0.5454545454545454,
          0.19047619047619047,
          0.12121212121212122,
          0.2972972972972973,
          0.5142857142857143,
          0.47457627118644063
         ],
         "type": "violin",
         "xaxis": "x",
         "yaxis": "y"
        },
        {
         "box": {
          "visible": true
         },
         "fillcolor": "#222A2A",
         "legendgroup": "nh",
         "line": {
          "color": "black"
         },
         "meanline": {
          "visible": true
         },
         "name": "RA, nh",
         "opacity": 0.75,
         "scalegroup": "f1",
         "showlegend": true,
         "side": "positive",
         "spanmode": "hard",
         "x0": "nh",
         "y": [
          0.5882352941176471,
          0.5,
          0.05882352941176471,
          0.4918032786885246,
          0.3934426229508197,
          0.6153846153846153,
          0.24390243902439024,
          0.46511627906976744,
          0.9333333333333333,
          0.8985507246376812,
          0.5161290322580645,
          0.6333333333333333,
          0.8615384615384615,
          0.6885245901639343,
          0.6415094339622641,
          0.7924528301886793,
          0.13793103448275862,
          0.5777777777777778,
          0.1176470588235294,
          0.5818181818181818
         ],
         "type": "violin",
         "xaxis": "x",
         "yaxis": "y"
        },
        {
         "box": {
          "visible": true
         },
         "fillcolor": "#B68100",
         "legendgroup": "remodnav",
         "line": {
          "color": "black"
         },
         "meanline": {
          "visible": true
         },
         "name": "RA, remodnav",
         "opacity": 0.75,
         "scalegroup": "f1",
         "showlegend": true,
         "side": "positive",
         "spanmode": "hard",
         "x0": "remodnav",
         "y": [
          0.15789473684210525,
          0.25,
          0.3333333333333333,
          0.21276595744680848,
          0.1395348837209302,
          0.05405405405405406,
          0.186046511627907,
          0.07407407407407407,
          0.5909090909090909,
          0.47058823529411753,
          0.12765957446808507,
          0.1951219512195122,
          0.30769230769230765,
          0.21739130434782605,
          0.3,
          0.04347826086956522,
          0.07692307692307693,
          0.07692307692307691,
          0.17777777777777778,
          0.5238095238095238
         ],
         "type": "violin",
         "xaxis": "x",
         "yaxis": "y"
        },
        {
         "box": {
          "visible": true
         },
         "fillcolor": "#bab0ac",
         "legendgroup": "Other GT",
         "line": {
          "color": "black"
         },
         "meanline": {
          "visible": true
         },
         "name": "MN, Other GT",
         "opacity": 0.25,
         "scalegroup": "f1",
         "showlegend": true,
         "side": "negative",
         "spanmode": "hard",
         "x0": "Other GT",
         "y": [
          0.9019607843137256,
          0.7692307692307692,
          0.8571428571428571,
          0.7761194029850745,
          0.9841269841269841,
          0.9333333333333333,
          0.90625,
          0.9508196721311476,
          0.9259259259259259,
          0.9666666666666667,
          0.9302325581395349,
          0.761904761904762,
          0.9841269841269841,
          1.0
         ],
         "type": "violin",
         "xaxis": "x",
         "yaxis": "y"
        },
        {
         "box": {
          "visible": true
         },
         "fillcolor": "#2E91E5",
         "legendgroup": "ivt",
         "line": {
          "color": "black"
         },
         "meanline": {
          "visible": true
         },
         "name": "MN, ivt",
         "opacity": 0.25,
         "scalegroup": "f1",
         "showlegend": true,
         "side": "negative",
         "spanmode": "hard",
         "x0": "ivt",
         "y": [
          0.8620689655172413,
          0.6,
          0.30769230769230765,
          0.409090909090909,
          0.6470588235294118,
          0.5151515151515152,
          0.8955223880597014,
          0.870967741935484,
          0.6521739130434783,
          0.225,
          0.208955223880597,
          0.175,
          0.6,
          0.5454545454545454
         ],
         "type": "violin",
         "xaxis": "x",
         "yaxis": "y"
        },
        {
         "box": {
          "visible": true
         },
         "fillcolor": "#E15F99",
         "legendgroup": "ivvt",
         "line": {
          "color": "black"
         },
         "meanline": {
          "visible": true
         },
         "name": "MN, ivvt",
         "opacity": 0.25,
         "scalegroup": "f1",
         "showlegend": true,
         "side": "negative",
         "spanmode": "hard",
         "x0": "ivvt",
         "y": [
          0.8620689655172413,
          0.6,
          0.29090909090909095,
          0.4181818181818182,
          0.6835443037974684,
          0.5135135135135135,
          0.8571428571428572,
          0.8235294117647058,
          0.693877551020408,
          0.29166666666666663,
          0.2278481012658228,
          0.1443298969072165,
          0.5866666666666667,
          0.6551724137931035
         ],
         "type": "violin",
         "xaxis": "x",
         "yaxis": "y"
        },
        {
         "box": {
          "visible": true
         },
         "fillcolor": "#1CA71C",
         "legendgroup": "idt",
         "line": {
          "color": "black"
         },
         "meanline": {
          "visible": true
         },
         "name": "MN, idt",
         "opacity": 0.25,
         "scalegroup": "f1",
         "showlegend": true,
         "side": "negative",
         "spanmode": "hard",
         "x0": "idt",
         "y": [
          0.04651162790697675,
          0.32558139534883723,
          0.3859649122807018,
          0.12765957446808512,
          0.21276595744680848,
          0.03773584905660377,
          0.04347826086956522,
          0.32258064516129037,
          0.2692307692307693,
          0.21276595744680854,
          0.2692307692307693,
          0.1111111111111111,
          0.5454545454545455
         ],
         "type": "violin",
         "xaxis": "x",
         "yaxis": "y"
        },
        {
         "box": {
          "visible": true
         },
         "fillcolor": "#FB0D0D",
         "legendgroup": "idvt",
         "line": {
          "color": "black"
         },
         "meanline": {
          "visible": true
         },
         "name": "MN, idvt",
         "opacity": 0.25,
         "scalegroup": "f1",
         "showlegend": true,
         "side": "negative",
         "spanmode": "hard",
         "x0": "idvt",
         "y": [
          0.04651162790697675,
          0.3181818181818182,
          0.3793103448275862,
          0.12765957446808512,
          0.25,
          0.037037037037037035,
          0.04347826086956522,
          0.32258064516129037,
          0.30188679245283023,
          0.20408163265306123,
          0.2962962962962963,
          0.1111111111111111,
          0.5454545454545455
         ],
         "type": "violin",
         "xaxis": "x",
         "yaxis": "y"
        },
        {
         "box": {
          "visible": true
         },
         "fillcolor": "#DA16FF",
         "legendgroup": "engbert",
         "line": {
          "color": "black"
         },
         "meanline": {
          "visible": true
         },
         "name": "MN, engbert",
         "opacity": 0.25,
         "scalegroup": "f1",
         "showlegend": true,
         "side": "negative",
         "spanmode": "hard",
         "x0": "engbert",
         "y": [
          0.42105263157894735,
          0.3809523809523809,
          0.3943661971830986,
          0.4375,
          0.19718309859154928,
          0.31746031746031744,
          0.6666666666666666,
          0.5454545454545454,
          0.4528301886792453,
          0.14285714285714285,
          0.11940298507462685,
          0.21052631578947367,
          0.47887323943661975,
          0.4067796610169491
         ],
         "type": "violin",
         "xaxis": "x",
         "yaxis": "y"
        },
        {
         "box": {
          "visible": true
         },
         "fillcolor": "#222A2A",
         "legendgroup": "nh",
         "line": {
          "color": "black"
         },
         "meanline": {
          "visible": true
         },
         "name": "MN, nh",
         "opacity": 0.25,
         "scalegroup": "f1",
         "showlegend": true,
         "side": "negative",
         "spanmode": "hard",
         "x0": "nh",
         "y": [
          0.6153846153846154,
          0.4,
          0.4615384615384615,
          0.2857142857142857,
          0.5079365079365079,
          0.6,
          0.8307692307692308,
          0.6,
          0.5098039215686274,
          0.7547169811320754,
          0.06666666666666667,
          0.5531914893617023,
          0.11428571428571428,
          0.4727272727272727
         ],
         "type": "violin",
         "xaxis": "x",
         "yaxis": "y"
        },
        {
         "box": {
          "visible": true
         },
         "fillcolor": "#B68100",
         "legendgroup": "remodnav",
         "line": {
          "color": "black"
         },
         "meanline": {
          "visible": true
         },
         "name": "MN, remodnav",
         "opacity": 0.25,
         "scalegroup": "f1",
         "showlegend": true,
         "side": "negative",
         "spanmode": "hard",
         "x0": "remodnav",
         "y": [
          0.20512820512820515,
          0.2857142857142857,
          0.0909090909090909,
          0.125,
          0.1951219512195122,
          0.358974358974359,
          0.17777777777777776,
          0.2631578947368421,
          0.04347826086956522,
          0.07407407407407407,
          0.17391304347826086,
          0.5238095238095238
         ],
         "type": "violin",
         "xaxis": "x",
         "yaxis": "y"
        },
        {
         "box": {
          "visible": true
         },
         "fillcolor": "#bab0ac",
         "legendgroup": "Other GT",
         "line": {
          "color": "black"
         },
         "meanline": {
          "visible": true
         },
         "name": "RA, Other GT",
         "opacity": 0.75,
         "scalegroup": "d_prime",
         "showlegend": false,
         "side": "positive",
         "spanmode": "hard",
         "x0": "Other GT",
         "y": [
          3.862236967929786,
          3.4081913872337393,
          3.416975978003244,
          2.873443423380129,
          5.456697951706454,
          4.096557789647024,
          3.7692531423086395,
          4.342510897118669,
          3.7249392530910415,
          4.65932272109791,
          4.270938031527921,
          3.0433487225365092,
          5.456697951706454,
          5.091656382773711
         ],
         "type": "violin",
         "xaxis": "x2",
         "yaxis": "y2"
        },
        {
         "box": {
          "visible": true
         },
         "fillcolor": "#2E91E5",
         "legendgroup": "ivt",
         "line": {
          "color": "black"
         },
         "meanline": {
          "visible": true
         },
         "name": "RA, ivt",
         "opacity": 0.75,
         "scalegroup": "d_prime",
         "showlegend": false,
         "side": "positive",
         "spanmode": "hard",
         "x0": "ivt",
         "y": [
          3.164184385808966,
          2.662230195508171,
          2.8112418219990745,
          2.0023415992244424,
          2.608698335296606,
          1.374679694187976,
          1.6684604596576076,
          2.3102546496159557,
          4.312099189420545,
          2.8592051942026666,
          2.265885292168765,
          2.089689323176438,
          5.202749190303056,
          3.1808098510020364,
          2.3352617125852144,
          0.987360920820693,
          1.2033247730486702,
          1.2226113873241302,
          2.3283523309692074,
          1.5172860424548253
         ],
         "type": "violin",
         "xaxis": "x2",
         "yaxis": "y2"
        },
        {
         "box": {
          "visible": true
         },
         "fillcolor": "#E15F99",
         "legendgroup": "ivvt",
         "line": {
          "color": "black"
         },
         "meanline": {
          "visible": true
         },
         "name": "RA, ivvt",
         "opacity": 0.75,
         "scalegroup": "d_prime",
         "showlegend": false,
         "side": "positive",
         "spanmode": "hard",
         "x0": "ivvt",
         "y": [
          3.164184385808966,
          2.662230195508171,
          3.0034462075324275,
          2.221181444734744,
          2.6247715419659725,
          1.4007086109643512,
          1.8671819661487414,
          2.158657779271398,
          4.803546889825931,
          2.992385296538358,
          2.6368455796904815,
          2.128780527772439,
          4.983868524643366,
          3.073477536928277,
          2.4059991360811277,
          1.2684374847319932,
          1.3055422300067254,
          1.0366133107514188,
          2.3205109352889663,
          1.9558463295376964
         ],
         "type": "violin",
         "xaxis": "x2",
         "yaxis": "y2"
        },
        {
         "box": {
          "visible": true
         },
         "fillcolor": "#1CA71C",
         "legendgroup": "idt",
         "line": {
          "color": "black"
         },
         "meanline": {
          "visible": true
         },
         "name": "RA, idt",
         "opacity": 0.75,
         "scalegroup": "d_prime",
         "showlegend": false,
         "side": "positive",
         "spanmode": "hard",
         "x0": "idt",
         "y": [
          0.8813387052538866,
          -0.23085383339098842,
          0.8944250910185778,
          0.9177453451241466,
          -0.040566562783377114,
          0.8779746217345434,
          0.3338364429138163,
          1.0760508544189162,
          2.310290548816525,
          1.9002352353145597,
          0.3516298436219121,
          -0.05691873147623472,
          -1.220993238317687,
          -0.04320553543576011,
          1.4155019373695794,
          0.7816726372190986,
          0.5686779648875737,
          1.3842294039571703,
          -0.20091933615156288,
          1.7073115964230758
         ],
         "type": "violin",
         "xaxis": "x2",
         "yaxis": "y2"
        },
        {
         "box": {
          "visible": true
         },
         "fillcolor": "#FB0D0D",
         "legendgroup": "idvt",
         "line": {
          "color": "black"
         },
         "meanline": {
          "visible": true
         },
         "name": "RA, idvt",
         "opacity": 0.75,
         "scalegroup": "d_prime",
         "showlegend": false,
         "side": "positive",
         "spanmode": "hard",
         "x0": "idvt",
         "y": [
          0.8813387052538866,
          -0.23085383339098842,
          0.8944250910185778,
          0.9177453451241466,
          0.2665500205783795,
          0.8402821819338604,
          0.31030500805043437,
          1.0384545503054754,
          2.310290548816525,
          1.9002352353145597,
          0.3516298436219121,
          0.275909958295655,
          -1.2428685108461386,
          -0.04320553543576011,
          1.4155019373695794,
          0.9074729697478855,
          0.5259609677442094,
          0.8613383867728505,
          -0.20091933615156288,
          1.7073115964230758
         ],
         "type": "violin",
         "xaxis": "x2",
         "yaxis": "y2"
        },
        {
         "box": {
          "visible": true
         },
         "fillcolor": "#DA16FF",
         "legendgroup": "engbert",
         "line": {
          "color": "black"
         },
         "meanline": {
          "visible": true
         },
         "name": "RA, engbert",
         "opacity": 0.75,
         "scalegroup": "d_prime",
         "showlegend": false,
         "side": "positive",
         "spanmode": "hard",
         "x0": "engbert",
         "y": [
          1.7779601186966736,
          3.1180501060598114,
          2.1765176726956783,
          0.5939027906843476,
          1.2280284864168642,
          1.7063609466539742,
          1.9431339038224649,
          1.791479919446603,
          4.054035500650535,
          3.245825396379677,
          0.6815399415046546,
          1.1736527157689405,
          2.633941041850681,
          2.148199106787624,
          1.507249450696738,
          0.611044515436296,
          0.4353388939454643,
          1.4117674332680472,
          1.8512211838823325,
          1.2389024732738665
         ],
         "type": "violin",
         "xaxis": "x2",
         "yaxis": "y2"
        },
        {
         "box": {
          "visible": true
         },
         "fillcolor": "#222A2A",
         "legendgroup": "nh",
         "line": {
          "color": "black"
         },
         "meanline": {
          "visible": true
         },
         "name": "RA, nh",
         "opacity": 0.75,
         "scalegroup": "d_prime",
         "showlegend": false,
         "side": "positive",
         "spanmode": "hard",
         "x0": "nh",
         "y": [
          2.2019125897655134,
          2.4635503754145516,
          1.001546535225833,
          1.77699590433968,
          1.4556523663667582,
          2.259126761637854,
          1.420508181328983,
          1.8548802997669933,
          3.7212068108786447,
          3.2478972157384214,
          1.8458312616312953,
          2.2842126160354086,
          3.4118649258606464,
          2.4880255700602874,
          1.89668709097522,
          3.1199461244383206,
          0.8914861685189321,
          2.3012887920140135,
          1.3066525779301121,
          1.6549827083659936
         ],
         "type": "violin",
         "xaxis": "x2",
         "yaxis": "y2"
        },
        {
         "box": {
          "visible": true
         },
         "fillcolor": "#B68100",
         "legendgroup": "remodnav",
         "line": {
          "color": "black"
         },
         "meanline": {
          "visible": true
         },
         "name": "RA, remodnav",
         "opacity": 0.75,
         "scalegroup": "d_prime",
         "showlegend": false,
         "side": "positive",
         "spanmode": "hard",
         "x0": "remodnav",
         "y": [
          0.8142108016767855,
          1.787953229338177,
          1.4300413109147279,
          0.9383743787664228,
          0.682387679805244,
          0.27637130110595853,
          1.0209114415553109,
          0.6026699309392405,
          2.310290548816525,
          1.5171735091103717,
          0.5694055698527669,
          1.0205652523800457,
          1.9366756381069257,
          0.9940557560437275,
          0.9698676599585254,
          -0.027352965279486607,
          0.6869273176728163,
          0.6274120294917354,
          0.8522467751392044,
          1.710613036472672
         ],
         "type": "violin",
         "xaxis": "x2",
         "yaxis": "y2"
        },
        {
         "box": {
          "visible": true
         },
         "fillcolor": "#bab0ac",
         "legendgroup": "Other GT",
         "line": {
          "color": "black"
         },
         "meanline": {
          "visible": true
         },
         "name": "MN, Other GT",
         "opacity": 0.25,
         "scalegroup": "d_prime",
         "showlegend": false,
         "side": "negative",
         "spanmode": "hard",
         "x0": "Other GT",
         "y": [
          3.797080853873922,
          3.5817824584180404,
          3.416975978003244,
          2.8491321028805436,
          4.682849945470158,
          4.096557789647024,
          3.7692531423086395,
          4.4293864794189135,
          3.837528380969118,
          4.65932272109791,
          4.1663732265042235,
          2.9591998518190055,
          4.682849945470158,
          5.091656382773711
         ],
         "type": "violin",
         "xaxis": "x2",
         "yaxis": "y2"
        },
        {
         "box": {
          "visible": true
         },
         "fillcolor": "#2E91E5",
         "legendgroup": "ivt",
         "line": {
          "color": "black"
         },
         "meanline": {
          "visible": true
         },
         "name": "MN, ivt",
         "opacity": 0.25,
         "scalegroup": "d_prime",
         "showlegend": false,
         "side": "negative",
         "spanmode": "hard",
         "x0": "ivt",
         "y": [
          3.903935106848807,
          2.8429557363954228,
          1.1649651985975085,
          1.4408263824612089,
          2.3242430129770995,
          1.864674936814809,
          3.795636089837185,
          3.544882681803113,
          2.044192329424298,
          0.7755912931168392,
          0.8796884254254138,
          0.7112196064122493,
          2.14904454815353,
          1.5172860424548253
         ],
         "type": "violin",
         "xaxis": "x2",
         "yaxis": "y2"
        },
        {
         "box": {
          "visible": true
         },
         "fillcolor": "#E15F99",
         "legendgroup": "ivvt",
         "line": {
          "color": "black"
         },
         "meanline": {
          "visible": true
         },
         "name": "MN, ivvt",
         "opacity": 0.25,
         "scalegroup": "d_prime",
         "showlegend": false,
         "side": "negative",
         "spanmode": "hard",
         "x0": "ivvt",
         "y": [
          3.903935106848807,
          2.8429557363954228,
          1.1946965232883389,
          1.6017777850876114,
          2.6800405069696662,
          1.9035935094338454,
          3.60936632277839,
          3.4853126664359264,
          2.1632053485206386,
          1.0775834882969986,
          0.9897675141982012,
          0.5315549235760968,
          2.1353055066619526,
          1.9558463295376964
         ],
         "type": "violin",
         "xaxis": "x2",
         "yaxis": "y2"
        },
        {
         "box": {
          "visible": true
         },
         "fillcolor": "#1CA71C",
         "legendgroup": "idt",
         "line": {
          "color": "black"
         },
         "meanline": {
          "visible": true
         },
         "name": "MN, idt",
         "opacity": 0.25,
         "scalegroup": "d_prime",
         "showlegend": false,
         "side": "negative",
         "spanmode": "hard",
         "x0": "idt",
         "y": [
          0.012485333824656664,
          -0.2304693371463089,
          1.4046246416490673,
          1.443891025326622,
          0.5857169110482956,
          0.9383743787664228,
          -0.19268152970156738,
          -0.027450405739186223,
          1.68877679427036,
          1.0786483796547839,
          0.9332144094921843,
          1.1408022131414386,
          0.3765226925956342,
          1.7073115964230758
         ],
         "type": "violin",
         "xaxis": "x2",
         "yaxis": "y2"
        },
        {
         "box": {
          "visible": true
         },
         "fillcolor": "#FB0D0D",
         "legendgroup": "idvt",
         "line": {
          "color": "black"
         },
         "meanline": {
          "visible": true
         },
         "name": "MN, idvt",
         "opacity": 0.25,
         "scalegroup": "d_prime",
         "showlegend": false,
         "side": "negative",
         "spanmode": "hard",
         "x0": "idvt",
         "y": [
          0.012485333824656664,
          -0.2304693371463089,
          1.3559910356072824,
          1.408645300854484,
          0.5857169110482956,
          1.0641747112952098,
          -0.21620277187436843,
          -0.027450405739186223,
          1.68877679427036,
          1.1836359473263403,
          0.8872627675914652,
          1.2438370577803366,
          0.3765226925956342,
          1.7073115964230758
         ],
         "type": "violin",
         "xaxis": "x2",
         "yaxis": "y2"
        },
        {
         "box": {
          "visible": true
         },
         "fillcolor": "#DA16FF",
         "legendgroup": "engbert",
         "line": {
          "color": "black"
         },
         "meanline": {
          "visible": true
         },
         "name": "MN, engbert",
         "opacity": 0.25,
         "scalegroup": "d_prime",
         "showlegend": false,
         "side": "negative",
         "spanmode": "hard",
         "x0": "engbert",
         "y": [
          1.6046791918628458,
          2.397867886005459,
          1.4896176962096217,
          1.5939319193424784,
          0.656588001241802,
          1.1736527157689405,
          2.496498660578116,
          1.975647985796717,
          1.205578062704926,
          0.36739116744213296,
          0.40172225766777714,
          0.8959710927521438,
          1.702297456567238,
          0.9891047376702009
         ],
         "type": "violin",
         "xaxis": "x2",
         "yaxis": "y2"
        },
        {
         "box": {
          "visible": true
         },
         "fillcolor": "#222A2A",
         "legendgroup": "nh",
         "line": {
          "color": "black"
         },
         "meanline": {
          "visible": true
         },
         "name": "MN, nh",
         "opacity": 0.25,
         "scalegroup": "d_prime",
         "showlegend": false,
         "side": "negative",
         "spanmode": "hard",
         "x0": "nh",
         "y": [
          2.2815900460520613,
          2.2141513894908393,
          1.7278403360192967,
          1.6633836129827584,
          1.8043142731147126,
          2.1591430480039238,
          3.200699666366021,
          2.1591430480039238,
          1.4245209204529439,
          2.8837502482218706,
          0.44805264675819245,
          2.143840023052158,
          1.2897016527732554,
          1.2517256111298118
         ],
         "type": "violin",
         "xaxis": "x2",
         "yaxis": "y2"
        },
        {
         "box": {
          "visible": true
         },
         "fillcolor": "#B68100",
         "legendgroup": "remodnav",
         "line": {
          "color": "black"
         },
         "meanline": {
          "visible": true
         },
         "name": "MN, remodnav",
         "opacity": 0.25,
         "scalegroup": "d_prime",
         "showlegend": false,
         "side": "negative",
         "spanmode": "hard",
         "x0": "remodnav",
         "y": [
          1.0123577520437061,
          1.8870194739233654,
          -0.8578922679770136,
          0.5086580169211947,
          0.5504984172475571,
          1.0205652523800457,
          2.076355322529873,
          0.8327461723108276,
          0.8259431078843027,
          -0.027352965279486607,
          0.6638362258360044,
          -0.7052113991366542,
          0.8318699121565682,
          1.710613036472672
         ],
         "type": "violin",
         "xaxis": "x2",
         "yaxis": "y2"
        }
       ],
       "layout": {
        "template": {
         "data": {
          "histogram2dcontour": [
           {
            "type": "histogram2dcontour",
            "colorbar": {
             "outlinewidth": 0,
             "ticks": ""
            },
            "colorscale": [
             [
              0.0,
              "#0d0887"
             ],
             [
              0.1111111111111111,
              "#46039f"
             ],
             [
              0.2222222222222222,
              "#7201a8"
             ],
             [
              0.3333333333333333,
              "#9c179e"
             ],
             [
              0.4444444444444444,
              "#bd3786"
             ],
             [
              0.5555555555555556,
              "#d8576b"
             ],
             [
              0.6666666666666666,
              "#ed7953"
             ],
             [
              0.7777777777777778,
              "#fb9f3a"
             ],
             [
              0.8888888888888888,
              "#fdca26"
             ],
             [
              1.0,
              "#f0f921"
             ]
            ]
           }
          ],
          "choropleth": [
           {
            "type": "choropleth",
            "colorbar": {
             "outlinewidth": 0,
             "ticks": ""
            }
           }
          ],
          "histogram2d": [
           {
            "type": "histogram2d",
            "colorbar": {
             "outlinewidth": 0,
             "ticks": ""
            },
            "colorscale": [
             [
              0.0,
              "#0d0887"
             ],
             [
              0.1111111111111111,
              "#46039f"
             ],
             [
              0.2222222222222222,
              "#7201a8"
             ],
             [
              0.3333333333333333,
              "#9c179e"
             ],
             [
              0.4444444444444444,
              "#bd3786"
             ],
             [
              0.5555555555555556,
              "#d8576b"
             ],
             [
              0.6666666666666666,
              "#ed7953"
             ],
             [
              0.7777777777777778,
              "#fb9f3a"
             ],
             [
              0.8888888888888888,
              "#fdca26"
             ],
             [
              1.0,
              "#f0f921"
             ]
            ]
           }
          ],
          "heatmap": [
           {
            "type": "heatmap",
            "colorbar": {
             "outlinewidth": 0,
             "ticks": ""
            },
            "colorscale": [
             [
              0.0,
              "#0d0887"
             ],
             [
              0.1111111111111111,
              "#46039f"
             ],
             [
              0.2222222222222222,
              "#7201a8"
             ],
             [
              0.3333333333333333,
              "#9c179e"
             ],
             [
              0.4444444444444444,
              "#bd3786"
             ],
             [
              0.5555555555555556,
              "#d8576b"
             ],
             [
              0.6666666666666666,
              "#ed7953"
             ],
             [
              0.7777777777777778,
              "#fb9f3a"
             ],
             [
              0.8888888888888888,
              "#fdca26"
             ],
             [
              1.0,
              "#f0f921"
             ]
            ]
           }
          ],
          "heatmapgl": [
           {
            "type": "heatmapgl",
            "colorbar": {
             "outlinewidth": 0,
             "ticks": ""
            },
            "colorscale": [
             [
              0.0,
              "#0d0887"
             ],
             [
              0.1111111111111111,
              "#46039f"
             ],
             [
              0.2222222222222222,
              "#7201a8"
             ],
             [
              0.3333333333333333,
              "#9c179e"
             ],
             [
              0.4444444444444444,
              "#bd3786"
             ],
             [
              0.5555555555555556,
              "#d8576b"
             ],
             [
              0.6666666666666666,
              "#ed7953"
             ],
             [
              0.7777777777777778,
              "#fb9f3a"
             ],
             [
              0.8888888888888888,
              "#fdca26"
             ],
             [
              1.0,
              "#f0f921"
             ]
            ]
           }
          ],
          "contourcarpet": [
           {
            "type": "contourcarpet",
            "colorbar": {
             "outlinewidth": 0,
             "ticks": ""
            }
           }
          ],
          "contour": [
           {
            "type": "contour",
            "colorbar": {
             "outlinewidth": 0,
             "ticks": ""
            },
            "colorscale": [
             [
              0.0,
              "#0d0887"
             ],
             [
              0.1111111111111111,
              "#46039f"
             ],
             [
              0.2222222222222222,
              "#7201a8"
             ],
             [
              0.3333333333333333,
              "#9c179e"
             ],
             [
              0.4444444444444444,
              "#bd3786"
             ],
             [
              0.5555555555555556,
              "#d8576b"
             ],
             [
              0.6666666666666666,
              "#ed7953"
             ],
             [
              0.7777777777777778,
              "#fb9f3a"
             ],
             [
              0.8888888888888888,
              "#fdca26"
             ],
             [
              1.0,
              "#f0f921"
             ]
            ]
           }
          ],
          "surface": [
           {
            "type": "surface",
            "colorbar": {
             "outlinewidth": 0,
             "ticks": ""
            },
            "colorscale": [
             [
              0.0,
              "#0d0887"
             ],
             [
              0.1111111111111111,
              "#46039f"
             ],
             [
              0.2222222222222222,
              "#7201a8"
             ],
             [
              0.3333333333333333,
              "#9c179e"
             ],
             [
              0.4444444444444444,
              "#bd3786"
             ],
             [
              0.5555555555555556,
              "#d8576b"
             ],
             [
              0.6666666666666666,
              "#ed7953"
             ],
             [
              0.7777777777777778,
              "#fb9f3a"
             ],
             [
              0.8888888888888888,
              "#fdca26"
             ],
             [
              1.0,
              "#f0f921"
             ]
            ]
           }
          ],
          "mesh3d": [
           {
            "type": "mesh3d",
            "colorbar": {
             "outlinewidth": 0,
             "ticks": ""
            }
           }
          ],
          "scatter": [
           {
            "fillpattern": {
             "fillmode": "overlay",
             "size": 10,
             "solidity": 0.2
            },
            "type": "scatter"
           }
          ],
          "parcoords": [
           {
            "type": "parcoords",
            "line": {
             "colorbar": {
              "outlinewidth": 0,
              "ticks": ""
             }
            }
           }
          ],
          "scatterpolargl": [
           {
            "type": "scatterpolargl",
            "marker": {
             "colorbar": {
              "outlinewidth": 0,
              "ticks": ""
             }
            }
           }
          ],
          "bar": [
           {
            "error_x": {
             "color": "#2a3f5f"
            },
            "error_y": {
             "color": "#2a3f5f"
            },
            "marker": {
             "line": {
              "color": "#E5ECF6",
              "width": 0.5
             },
             "pattern": {
              "fillmode": "overlay",
              "size": 10,
              "solidity": 0.2
             }
            },
            "type": "bar"
           }
          ],
          "scattergeo": [
           {
            "type": "scattergeo",
            "marker": {
             "colorbar": {
              "outlinewidth": 0,
              "ticks": ""
             }
            }
           }
          ],
          "scatterpolar": [
           {
            "type": "scatterpolar",
            "marker": {
             "colorbar": {
              "outlinewidth": 0,
              "ticks": ""
             }
            }
           }
          ],
          "histogram": [
           {
            "marker": {
             "pattern": {
              "fillmode": "overlay",
              "size": 10,
              "solidity": 0.2
             }
            },
            "type": "histogram"
           }
          ],
          "scattergl": [
           {
            "type": "scattergl",
            "marker": {
             "colorbar": {
              "outlinewidth": 0,
              "ticks": ""
             }
            }
           }
          ],
          "scatter3d": [
           {
            "type": "scatter3d",
            "line": {
             "colorbar": {
              "outlinewidth": 0,
              "ticks": ""
             }
            },
            "marker": {
             "colorbar": {
              "outlinewidth": 0,
              "ticks": ""
             }
            }
           }
          ],
          "scattermapbox": [
           {
            "type": "scattermapbox",
            "marker": {
             "colorbar": {
              "outlinewidth": 0,
              "ticks": ""
             }
            }
           }
          ],
          "scatterternary": [
           {
            "type": "scatterternary",
            "marker": {
             "colorbar": {
              "outlinewidth": 0,
              "ticks": ""
             }
            }
           }
          ],
          "scattercarpet": [
           {
            "type": "scattercarpet",
            "marker": {
             "colorbar": {
              "outlinewidth": 0,
              "ticks": ""
             }
            }
           }
          ],
          "carpet": [
           {
            "aaxis": {
             "endlinecolor": "#2a3f5f",
             "gridcolor": "white",
             "linecolor": "white",
             "minorgridcolor": "white",
             "startlinecolor": "#2a3f5f"
            },
            "baxis": {
             "endlinecolor": "#2a3f5f",
             "gridcolor": "white",
             "linecolor": "white",
             "minorgridcolor": "white",
             "startlinecolor": "#2a3f5f"
            },
            "type": "carpet"
           }
          ],
          "table": [
           {
            "cells": {
             "fill": {
              "color": "#EBF0F8"
             },
             "line": {
              "color": "white"
             }
            },
            "header": {
             "fill": {
              "color": "#C8D4E3"
             },
             "line": {
              "color": "white"
             }
            },
            "type": "table"
           }
          ],
          "barpolar": [
           {
            "marker": {
             "line": {
              "color": "#E5ECF6",
              "width": 0.5
             },
             "pattern": {
              "fillmode": "overlay",
              "size": 10,
              "solidity": 0.2
             }
            },
            "type": "barpolar"
           }
          ],
          "pie": [
           {
            "automargin": true,
            "type": "pie"
           }
          ]
         },
         "layout": {
          "autotypenumbers": "strict",
          "colorway": [
           "#636efa",
           "#EF553B",
           "#00cc96",
           "#ab63fa",
           "#FFA15A",
           "#19d3f3",
           "#FF6692",
           "#B6E880",
           "#FF97FF",
           "#FECB52"
          ],
          "font": {
           "color": "#2a3f5f"
          },
          "hovermode": "closest",
          "hoverlabel": {
           "align": "left"
          },
          "paper_bgcolor": "white",
          "plot_bgcolor": "#E5ECF6",
          "polar": {
           "bgcolor": "#E5ECF6",
           "angularaxis": {
            "gridcolor": "white",
            "linecolor": "white",
            "ticks": ""
           },
           "radialaxis": {
            "gridcolor": "white",
            "linecolor": "white",
            "ticks": ""
           }
          },
          "ternary": {
           "bgcolor": "#E5ECF6",
           "aaxis": {
            "gridcolor": "white",
            "linecolor": "white",
            "ticks": ""
           },
           "baxis": {
            "gridcolor": "white",
            "linecolor": "white",
            "ticks": ""
           },
           "caxis": {
            "gridcolor": "white",
            "linecolor": "white",
            "ticks": ""
           }
          },
          "coloraxis": {
           "colorbar": {
            "outlinewidth": 0,
            "ticks": ""
           }
          },
          "colorscale": {
           "sequential": [
            [
             0.0,
             "#0d0887"
            ],
            [
             0.1111111111111111,
             "#46039f"
            ],
            [
             0.2222222222222222,
             "#7201a8"
            ],
            [
             0.3333333333333333,
             "#9c179e"
            ],
            [
             0.4444444444444444,
             "#bd3786"
            ],
            [
             0.5555555555555556,
             "#d8576b"
            ],
            [
             0.6666666666666666,
             "#ed7953"
            ],
            [
             0.7777777777777778,
             "#fb9f3a"
            ],
            [
             0.8888888888888888,
             "#fdca26"
            ],
            [
             1.0,
             "#f0f921"
            ]
           ],
           "sequentialminus": [
            [
             0.0,
             "#0d0887"
            ],
            [
             0.1111111111111111,
             "#46039f"
            ],
            [
             0.2222222222222222,
             "#7201a8"
            ],
            [
             0.3333333333333333,
             "#9c179e"
            ],
            [
             0.4444444444444444,
             "#bd3786"
            ],
            [
             0.5555555555555556,
             "#d8576b"
            ],
            [
             0.6666666666666666,
             "#ed7953"
            ],
            [
             0.7777777777777778,
             "#fb9f3a"
            ],
            [
             0.8888888888888888,
             "#fdca26"
            ],
            [
             1.0,
             "#f0f921"
            ]
           ],
           "diverging": [
            [
             0,
             "#8e0152"
            ],
            [
             0.1,
             "#c51b7d"
            ],
            [
             0.2,
             "#de77ae"
            ],
            [
             0.3,
             "#f1b6da"
            ],
            [
             0.4,
             "#fde0ef"
            ],
            [
             0.5,
             "#f7f7f7"
            ],
            [
             0.6,
             "#e6f5d0"
            ],
            [
             0.7,
             "#b8e186"
            ],
            [
             0.8,
             "#7fbc41"
            ],
            [
             0.9,
             "#4d9221"
            ],
            [
             1,
             "#276419"
            ]
           ]
          },
          "xaxis": {
           "gridcolor": "white",
           "linecolor": "white",
           "ticks": "",
           "title": {
            "standoff": 15
           },
           "zerolinecolor": "white",
           "automargin": true,
           "zerolinewidth": 2
          },
          "yaxis": {
           "gridcolor": "white",
           "linecolor": "white",
           "ticks": "",
           "title": {
            "standoff": 15
           },
           "zerolinecolor": "white",
           "automargin": true,
           "zerolinewidth": 2
          },
          "scene": {
           "xaxis": {
            "backgroundcolor": "#E5ECF6",
            "gridcolor": "white",
            "linecolor": "white",
            "showbackground": true,
            "ticks": "",
            "zerolinecolor": "white",
            "gridwidth": 2
           },
           "yaxis": {
            "backgroundcolor": "#E5ECF6",
            "gridcolor": "white",
            "linecolor": "white",
            "showbackground": true,
            "ticks": "",
            "zerolinecolor": "white",
            "gridwidth": 2
           },
           "zaxis": {
            "backgroundcolor": "#E5ECF6",
            "gridcolor": "white",
            "linecolor": "white",
            "showbackground": true,
            "ticks": "",
            "zerolinecolor": "white",
            "gridwidth": 2
           }
          },
          "shapedefaults": {
           "line": {
            "color": "#2a3f5f"
           }
          },
          "annotationdefaults": {
           "arrowcolor": "#2a3f5f",
           "arrowhead": 0,
           "arrowwidth": 1
          },
          "geo": {
           "bgcolor": "white",
           "landcolor": "#E5ECF6",
           "subunitcolor": "white",
           "showland": true,
           "showlakes": true,
           "lakecolor": "white"
          },
          "title": {
           "x": 0.05
          },
          "mapbox": {
           "style": "light"
          }
         }
        },
        "xaxis": {
         "anchor": "y",
         "domain": [
          0.0,
          1.0
         ],
         "matches": "x2",
         "showticklabels": false
        },
        "yaxis": {
         "anchor": "x",
         "domain": [
          0.55,
          1.0
         ],
         "range": [
          0,
          1
         ]
        },
        "xaxis2": {
         "anchor": "y2",
         "domain": [
          0.0,
          1.0
         ]
        },
        "yaxis2": {
         "anchor": "x2",
         "domain": [
          0.0,
          0.45
         ]
        },
        "annotations": [
         {
          "font": {
           "size": 16
          },
          "showarrow": false,
          "text": "f1",
          "x": 0.5,
          "xanchor": "center",
          "xref": "paper",
          "y": 1.0,
          "yanchor": "bottom",
          "yref": "paper"
         },
         {
          "font": {
           "size": 16
          },
          "showarrow": false,
          "text": "d'",
          "x": 0.5,
          "xanchor": "center",
          "xref": "paper",
          "y": 0.45,
          "yanchor": "bottom",
          "yref": "paper"
         }
        ],
        "title": {
         "text": "fixation offsets"
        },
        "violinmode": "overlay",
        "boxmode": "group",
        "boxgroupgap": 0,
        "boxgap": 0,
        "margin": {
         "l": 10,
         "r": 10,
         "b": 10,
         "t": 10,
         "pad": 0
        },
        "width": 1000,
        "height": 500,
        "paper_bgcolor": "rgba(0, 0, 0, 0)",
        "plot_bgcolor": "rgba(0, 0, 0, 0)"
       },
       "config": {
        "plotlyServerURL": "https://plot.ly"
       }
      },
      "text/html": [
       "<div>                            <div id=\"79400596-3d70-49c1-a14b-aad9b155a75d\" class=\"plotly-graph-div\" style=\"height:500px; width:1000px;\"></div>            <script type=\"text/javascript\">                require([\"plotly\"], function(Plotly) {                    window.PLOTLYENV=window.PLOTLYENV || {};                                    if (document.getElementById(\"79400596-3d70-49c1-a14b-aad9b155a75d\")) {                    Plotly.newPlot(                        \"79400596-3d70-49c1-a14b-aad9b155a75d\",                        [{\"box\":{\"visible\":true},\"fillcolor\":\"#bab0ac\",\"legendgroup\":\"Other GT\",\"line\":{\"color\":\"black\"},\"meanline\":{\"visible\":true},\"name\":\"RA, Other GT\",\"opacity\":0.75,\"scalegroup\":\"f1\",\"showlegend\":true,\"side\":\"positive\",\"spanmode\":\"hard\",\"x0\":\"Other GT\",\"y\":[0.9019607843137256,0.7692307692307692,0.8571428571428571,0.7761194029850745,0.9841269841269841,0.9333333333333333,0.90625,0.9508196721311476,0.9259259259259259,0.9666666666666667,0.9302325581395349,0.761904761904762,0.9841269841269841,1.0],\"type\":\"violin\",\"xaxis\":\"x\",\"yaxis\":\"y\"},{\"box\":{\"visible\":true},\"fillcolor\":\"#2E91E5\",\"legendgroup\":\"ivt\",\"line\":{\"color\":\"black\"},\"meanline\":{\"visible\":true},\"name\":\"RA, ivt\",\"opacity\":0.75,\"scalegroup\":\"f1\",\"showlegend\":true,\"side\":\"positive\",\"spanmode\":\"hard\",\"x0\":\"ivt\",\"y\":[0.7719298245614036,0.5454545454545454,0.7500000000000001,0.5538461538461538,0.6984126984126984,0.358974358974359,0.45977011494252873,0.5833333333333334,0.9666666666666667,0.8253968253968255,0.626865671641791,0.5757575757575758,0.955223880597015,0.8253968253968254,0.7083333333333333,0.27499999999999997,0.27272727272727276,0.25641025641025644,0.6376811594202899,0.5454545454545454],\"type\":\"violin\",\"xaxis\":\"x\",\"yaxis\":\"y\"},{\"box\":{\"visible\":true},\"fillcolor\":\"#E15F99\",\"legendgroup\":\"ivvt\",\"line\":{\"color\":\"black\"},\"meanline\":{\"visible\":true},\"name\":\"RA, ivvt\",\"opacity\":0.75,\"scalegroup\":\"f1\",\"showlegend\":true,\"side\":\"positive\",\"spanmode\":\"hard\",\"x0\":\"ivvt\",\"y\":[0.7719298245614036,0.5454545454545454,0.7631578947368421,0.6,0.6865671641791046,0.32727272727272727,0.45871559633027525,0.463768115942029,0.9836065573770492,0.8656716417910447,0.6666666666666666,0.5675675675675677,0.9142857142857143,0.782608695652174,0.7450980392156864,0.3333333333333333,0.282051282051282,0.2105263157894737,0.6216216216216216,0.6551724137931035],\"type\":\"violin\",\"xaxis\":\"x\",\"yaxis\":\"y\"},{\"box\":{\"visible\":true},\"fillcolor\":\"#1CA71C\",\"legendgroup\":\"idt\",\"line\":{\"color\":\"black\"},\"meanline\":{\"visible\":true},\"name\":\"RA, idt\",\"opacity\":0.75,\"scalegroup\":\"f1\",\"showlegend\":true,\"side\":\"positive\",\"spanmode\":\"hard\",\"x0\":\"idt\",\"y\":[0.19047619047619052,0.23728813559322037,0.18604651162790697,0.043478260869565216,0.18604651162790697,0.10714285714285714,0.2222222222222222,0.5909090909090909,0.43478260869565216,0.08695652173913043,0.0425531914893617,0.0425531914893617,0.24242424242424243,0.1923076923076923,0.13043478260869565,0.32,0.03773584905660377,0.5454545454545455],\"type\":\"violin\",\"xaxis\":\"x\",\"yaxis\":\"y\"},{\"box\":{\"visible\":true},\"fillcolor\":\"#FB0D0D\",\"legendgroup\":\"idvt\",\"line\":{\"color\":\"black\"},\"meanline\":{\"visible\":true},\"name\":\"RA, idvt\",\"opacity\":0.75,\"scalegroup\":\"f1\",\"showlegend\":true,\"side\":\"positive\",\"spanmode\":\"hard\",\"x0\":\"idvt\",\"y\":[0.19047619047619052,0.23728813559322037,0.18604651162790697,0.08333333333333333,0.18181818181818182,0.10526315789473685,0.2162162162162162,0.5909090909090909,0.43478260869565216,0.08695652173913043,0.08333333333333334,0.0425531914893617,0.24242424242424243,0.22641509433962265,0.125,0.19230769230769232,0.03773584905660377,0.5454545454545455],\"type\":\"violin\",\"xaxis\":\"x\",\"yaxis\":\"y\"},{\"box\":{\"visible\":true},\"fillcolor\":\"#DA16FF\",\"legendgroup\":\"engbert\",\"line\":{\"color\":\"black\"},\"meanline\":{\"visible\":true},\"name\":\"RA, engbert\",\"opacity\":0.75,\"scalegroup\":\"f1\",\"showlegend\":true,\"side\":\"positive\",\"spanmode\":\"hard\",\"x0\":\"engbert\",\"y\":[0.46428571428571425,0.5454545454545455,0.611111111111111,0.17647058823529413,0.3278688524590164,0.45070422535211263,0.505263157894737,0.44,0.9508196721311476,0.88,0.2,0.31746031746031744,0.6933333333333334,0.5970149253731343,0.5454545454545454,0.19047619047619047,0.12121212121212122,0.2972972972972973,0.5142857142857143,0.47457627118644063],\"type\":\"violin\",\"xaxis\":\"x\",\"yaxis\":\"y\"},{\"box\":{\"visible\":true},\"fillcolor\":\"#222A2A\",\"legendgroup\":\"nh\",\"line\":{\"color\":\"black\"},\"meanline\":{\"visible\":true},\"name\":\"RA, nh\",\"opacity\":0.75,\"scalegroup\":\"f1\",\"showlegend\":true,\"side\":\"positive\",\"spanmode\":\"hard\",\"x0\":\"nh\",\"y\":[0.5882352941176471,0.5,0.05882352941176471,0.4918032786885246,0.3934426229508197,0.6153846153846153,0.24390243902439024,0.46511627906976744,0.9333333333333333,0.8985507246376812,0.5161290322580645,0.6333333333333333,0.8615384615384615,0.6885245901639343,0.6415094339622641,0.7924528301886793,0.13793103448275862,0.5777777777777778,0.1176470588235294,0.5818181818181818],\"type\":\"violin\",\"xaxis\":\"x\",\"yaxis\":\"y\"},{\"box\":{\"visible\":true},\"fillcolor\":\"#B68100\",\"legendgroup\":\"remodnav\",\"line\":{\"color\":\"black\"},\"meanline\":{\"visible\":true},\"name\":\"RA, remodnav\",\"opacity\":0.75,\"scalegroup\":\"f1\",\"showlegend\":true,\"side\":\"positive\",\"spanmode\":\"hard\",\"x0\":\"remodnav\",\"y\":[0.15789473684210525,0.25,0.3333333333333333,0.21276595744680848,0.1395348837209302,0.05405405405405406,0.186046511627907,0.07407407407407407,0.5909090909090909,0.47058823529411753,0.12765957446808507,0.1951219512195122,0.30769230769230765,0.21739130434782605,0.3,0.04347826086956522,0.07692307692307693,0.07692307692307691,0.17777777777777778,0.5238095238095238],\"type\":\"violin\",\"xaxis\":\"x\",\"yaxis\":\"y\"},{\"box\":{\"visible\":true},\"fillcolor\":\"#bab0ac\",\"legendgroup\":\"Other GT\",\"line\":{\"color\":\"black\"},\"meanline\":{\"visible\":true},\"name\":\"MN, Other GT\",\"opacity\":0.25,\"scalegroup\":\"f1\",\"showlegend\":true,\"side\":\"negative\",\"spanmode\":\"hard\",\"x0\":\"Other GT\",\"y\":[0.9019607843137256,0.7692307692307692,0.8571428571428571,0.7761194029850745,0.9841269841269841,0.9333333333333333,0.90625,0.9508196721311476,0.9259259259259259,0.9666666666666667,0.9302325581395349,0.761904761904762,0.9841269841269841,1.0],\"type\":\"violin\",\"xaxis\":\"x\",\"yaxis\":\"y\"},{\"box\":{\"visible\":true},\"fillcolor\":\"#2E91E5\",\"legendgroup\":\"ivt\",\"line\":{\"color\":\"black\"},\"meanline\":{\"visible\":true},\"name\":\"MN, ivt\",\"opacity\":0.25,\"scalegroup\":\"f1\",\"showlegend\":true,\"side\":\"negative\",\"spanmode\":\"hard\",\"x0\":\"ivt\",\"y\":[0.8620689655172413,0.6,0.30769230769230765,0.409090909090909,0.6470588235294118,0.5151515151515152,0.8955223880597014,0.870967741935484,0.6521739130434783,0.225,0.208955223880597,0.175,0.6,0.5454545454545454],\"type\":\"violin\",\"xaxis\":\"x\",\"yaxis\":\"y\"},{\"box\":{\"visible\":true},\"fillcolor\":\"#E15F99\",\"legendgroup\":\"ivvt\",\"line\":{\"color\":\"black\"},\"meanline\":{\"visible\":true},\"name\":\"MN, ivvt\",\"opacity\":0.25,\"scalegroup\":\"f1\",\"showlegend\":true,\"side\":\"negative\",\"spanmode\":\"hard\",\"x0\":\"ivvt\",\"y\":[0.8620689655172413,0.6,0.29090909090909095,0.4181818181818182,0.6835443037974684,0.5135135135135135,0.8571428571428572,0.8235294117647058,0.693877551020408,0.29166666666666663,0.2278481012658228,0.1443298969072165,0.5866666666666667,0.6551724137931035],\"type\":\"violin\",\"xaxis\":\"x\",\"yaxis\":\"y\"},{\"box\":{\"visible\":true},\"fillcolor\":\"#1CA71C\",\"legendgroup\":\"idt\",\"line\":{\"color\":\"black\"},\"meanline\":{\"visible\":true},\"name\":\"MN, idt\",\"opacity\":0.25,\"scalegroup\":\"f1\",\"showlegend\":true,\"side\":\"negative\",\"spanmode\":\"hard\",\"x0\":\"idt\",\"y\":[0.04651162790697675,0.32558139534883723,0.3859649122807018,0.12765957446808512,0.21276595744680848,0.03773584905660377,0.04347826086956522,0.32258064516129037,0.2692307692307693,0.21276595744680854,0.2692307692307693,0.1111111111111111,0.5454545454545455],\"type\":\"violin\",\"xaxis\":\"x\",\"yaxis\":\"y\"},{\"box\":{\"visible\":true},\"fillcolor\":\"#FB0D0D\",\"legendgroup\":\"idvt\",\"line\":{\"color\":\"black\"},\"meanline\":{\"visible\":true},\"name\":\"MN, idvt\",\"opacity\":0.25,\"scalegroup\":\"f1\",\"showlegend\":true,\"side\":\"negative\",\"spanmode\":\"hard\",\"x0\":\"idvt\",\"y\":[0.04651162790697675,0.3181818181818182,0.3793103448275862,0.12765957446808512,0.25,0.037037037037037035,0.04347826086956522,0.32258064516129037,0.30188679245283023,0.20408163265306123,0.2962962962962963,0.1111111111111111,0.5454545454545455],\"type\":\"violin\",\"xaxis\":\"x\",\"yaxis\":\"y\"},{\"box\":{\"visible\":true},\"fillcolor\":\"#DA16FF\",\"legendgroup\":\"engbert\",\"line\":{\"color\":\"black\"},\"meanline\":{\"visible\":true},\"name\":\"MN, engbert\",\"opacity\":0.25,\"scalegroup\":\"f1\",\"showlegend\":true,\"side\":\"negative\",\"spanmode\":\"hard\",\"x0\":\"engbert\",\"y\":[0.42105263157894735,0.3809523809523809,0.3943661971830986,0.4375,0.19718309859154928,0.31746031746031744,0.6666666666666666,0.5454545454545454,0.4528301886792453,0.14285714285714285,0.11940298507462685,0.21052631578947367,0.47887323943661975,0.4067796610169491],\"type\":\"violin\",\"xaxis\":\"x\",\"yaxis\":\"y\"},{\"box\":{\"visible\":true},\"fillcolor\":\"#222A2A\",\"legendgroup\":\"nh\",\"line\":{\"color\":\"black\"},\"meanline\":{\"visible\":true},\"name\":\"MN, nh\",\"opacity\":0.25,\"scalegroup\":\"f1\",\"showlegend\":true,\"side\":\"negative\",\"spanmode\":\"hard\",\"x0\":\"nh\",\"y\":[0.6153846153846154,0.4,0.4615384615384615,0.2857142857142857,0.5079365079365079,0.6,0.8307692307692308,0.6,0.5098039215686274,0.7547169811320754,0.06666666666666667,0.5531914893617023,0.11428571428571428,0.4727272727272727],\"type\":\"violin\",\"xaxis\":\"x\",\"yaxis\":\"y\"},{\"box\":{\"visible\":true},\"fillcolor\":\"#B68100\",\"legendgroup\":\"remodnav\",\"line\":{\"color\":\"black\"},\"meanline\":{\"visible\":true},\"name\":\"MN, remodnav\",\"opacity\":0.25,\"scalegroup\":\"f1\",\"showlegend\":true,\"side\":\"negative\",\"spanmode\":\"hard\",\"x0\":\"remodnav\",\"y\":[0.20512820512820515,0.2857142857142857,0.0909090909090909,0.125,0.1951219512195122,0.358974358974359,0.17777777777777776,0.2631578947368421,0.04347826086956522,0.07407407407407407,0.17391304347826086,0.5238095238095238],\"type\":\"violin\",\"xaxis\":\"x\",\"yaxis\":\"y\"},{\"box\":{\"visible\":true},\"fillcolor\":\"#bab0ac\",\"legendgroup\":\"Other GT\",\"line\":{\"color\":\"black\"},\"meanline\":{\"visible\":true},\"name\":\"RA, Other GT\",\"opacity\":0.75,\"scalegroup\":\"d_prime\",\"showlegend\":false,\"side\":\"positive\",\"spanmode\":\"hard\",\"x0\":\"Other GT\",\"y\":[3.862236967929786,3.4081913872337393,3.416975978003244,2.873443423380129,5.456697951706454,4.096557789647024,3.7692531423086395,4.342510897118669,3.7249392530910415,4.65932272109791,4.270938031527921,3.0433487225365092,5.456697951706454,5.091656382773711],\"type\":\"violin\",\"xaxis\":\"x2\",\"yaxis\":\"y2\"},{\"box\":{\"visible\":true},\"fillcolor\":\"#2E91E5\",\"legendgroup\":\"ivt\",\"line\":{\"color\":\"black\"},\"meanline\":{\"visible\":true},\"name\":\"RA, ivt\",\"opacity\":0.75,\"scalegroup\":\"d_prime\",\"showlegend\":false,\"side\":\"positive\",\"spanmode\":\"hard\",\"x0\":\"ivt\",\"y\":[3.164184385808966,2.662230195508171,2.8112418219990745,2.0023415992244424,2.608698335296606,1.374679694187976,1.6684604596576076,2.3102546496159557,4.312099189420545,2.8592051942026666,2.265885292168765,2.089689323176438,5.202749190303056,3.1808098510020364,2.3352617125852144,0.987360920820693,1.2033247730486702,1.2226113873241302,2.3283523309692074,1.5172860424548253],\"type\":\"violin\",\"xaxis\":\"x2\",\"yaxis\":\"y2\"},{\"box\":{\"visible\":true},\"fillcolor\":\"#E15F99\",\"legendgroup\":\"ivvt\",\"line\":{\"color\":\"black\"},\"meanline\":{\"visible\":true},\"name\":\"RA, ivvt\",\"opacity\":0.75,\"scalegroup\":\"d_prime\",\"showlegend\":false,\"side\":\"positive\",\"spanmode\":\"hard\",\"x0\":\"ivvt\",\"y\":[3.164184385808966,2.662230195508171,3.0034462075324275,2.221181444734744,2.6247715419659725,1.4007086109643512,1.8671819661487414,2.158657779271398,4.803546889825931,2.992385296538358,2.6368455796904815,2.128780527772439,4.983868524643366,3.073477536928277,2.4059991360811277,1.2684374847319932,1.3055422300067254,1.0366133107514188,2.3205109352889663,1.9558463295376964],\"type\":\"violin\",\"xaxis\":\"x2\",\"yaxis\":\"y2\"},{\"box\":{\"visible\":true},\"fillcolor\":\"#1CA71C\",\"legendgroup\":\"idt\",\"line\":{\"color\":\"black\"},\"meanline\":{\"visible\":true},\"name\":\"RA, idt\",\"opacity\":0.75,\"scalegroup\":\"d_prime\",\"showlegend\":false,\"side\":\"positive\",\"spanmode\":\"hard\",\"x0\":\"idt\",\"y\":[0.8813387052538866,-0.23085383339098842,0.8944250910185778,0.9177453451241466,-0.040566562783377114,0.8779746217345434,0.3338364429138163,1.0760508544189162,2.310290548816525,1.9002352353145597,0.3516298436219121,-0.05691873147623472,-1.220993238317687,-0.04320553543576011,1.4155019373695794,0.7816726372190986,0.5686779648875737,1.3842294039571703,-0.20091933615156288,1.7073115964230758],\"type\":\"violin\",\"xaxis\":\"x2\",\"yaxis\":\"y2\"},{\"box\":{\"visible\":true},\"fillcolor\":\"#FB0D0D\",\"legendgroup\":\"idvt\",\"line\":{\"color\":\"black\"},\"meanline\":{\"visible\":true},\"name\":\"RA, idvt\",\"opacity\":0.75,\"scalegroup\":\"d_prime\",\"showlegend\":false,\"side\":\"positive\",\"spanmode\":\"hard\",\"x0\":\"idvt\",\"y\":[0.8813387052538866,-0.23085383339098842,0.8944250910185778,0.9177453451241466,0.2665500205783795,0.8402821819338604,0.31030500805043437,1.0384545503054754,2.310290548816525,1.9002352353145597,0.3516298436219121,0.275909958295655,-1.2428685108461386,-0.04320553543576011,1.4155019373695794,0.9074729697478855,0.5259609677442094,0.8613383867728505,-0.20091933615156288,1.7073115964230758],\"type\":\"violin\",\"xaxis\":\"x2\",\"yaxis\":\"y2\"},{\"box\":{\"visible\":true},\"fillcolor\":\"#DA16FF\",\"legendgroup\":\"engbert\",\"line\":{\"color\":\"black\"},\"meanline\":{\"visible\":true},\"name\":\"RA, engbert\",\"opacity\":0.75,\"scalegroup\":\"d_prime\",\"showlegend\":false,\"side\":\"positive\",\"spanmode\":\"hard\",\"x0\":\"engbert\",\"y\":[1.7779601186966736,3.1180501060598114,2.1765176726956783,0.5939027906843476,1.2280284864168642,1.7063609466539742,1.9431339038224649,1.791479919446603,4.054035500650535,3.245825396379677,0.6815399415046546,1.1736527157689405,2.633941041850681,2.148199106787624,1.507249450696738,0.611044515436296,0.4353388939454643,1.4117674332680472,1.8512211838823325,1.2389024732738665],\"type\":\"violin\",\"xaxis\":\"x2\",\"yaxis\":\"y2\"},{\"box\":{\"visible\":true},\"fillcolor\":\"#222A2A\",\"legendgroup\":\"nh\",\"line\":{\"color\":\"black\"},\"meanline\":{\"visible\":true},\"name\":\"RA, nh\",\"opacity\":0.75,\"scalegroup\":\"d_prime\",\"showlegend\":false,\"side\":\"positive\",\"spanmode\":\"hard\",\"x0\":\"nh\",\"y\":[2.2019125897655134,2.4635503754145516,1.001546535225833,1.77699590433968,1.4556523663667582,2.259126761637854,1.420508181328983,1.8548802997669933,3.7212068108786447,3.2478972157384214,1.8458312616312953,2.2842126160354086,3.4118649258606464,2.4880255700602874,1.89668709097522,3.1199461244383206,0.8914861685189321,2.3012887920140135,1.3066525779301121,1.6549827083659936],\"type\":\"violin\",\"xaxis\":\"x2\",\"yaxis\":\"y2\"},{\"box\":{\"visible\":true},\"fillcolor\":\"#B68100\",\"legendgroup\":\"remodnav\",\"line\":{\"color\":\"black\"},\"meanline\":{\"visible\":true},\"name\":\"RA, remodnav\",\"opacity\":0.75,\"scalegroup\":\"d_prime\",\"showlegend\":false,\"side\":\"positive\",\"spanmode\":\"hard\",\"x0\":\"remodnav\",\"y\":[0.8142108016767855,1.787953229338177,1.4300413109147279,0.9383743787664228,0.682387679805244,0.27637130110595853,1.0209114415553109,0.6026699309392405,2.310290548816525,1.5171735091103717,0.5694055698527669,1.0205652523800457,1.9366756381069257,0.9940557560437275,0.9698676599585254,-0.027352965279486607,0.6869273176728163,0.6274120294917354,0.8522467751392044,1.710613036472672],\"type\":\"violin\",\"xaxis\":\"x2\",\"yaxis\":\"y2\"},{\"box\":{\"visible\":true},\"fillcolor\":\"#bab0ac\",\"legendgroup\":\"Other GT\",\"line\":{\"color\":\"black\"},\"meanline\":{\"visible\":true},\"name\":\"MN, Other GT\",\"opacity\":0.25,\"scalegroup\":\"d_prime\",\"showlegend\":false,\"side\":\"negative\",\"spanmode\":\"hard\",\"x0\":\"Other GT\",\"y\":[3.797080853873922,3.5817824584180404,3.416975978003244,2.8491321028805436,4.682849945470158,4.096557789647024,3.7692531423086395,4.4293864794189135,3.837528380969118,4.65932272109791,4.1663732265042235,2.9591998518190055,4.682849945470158,5.091656382773711],\"type\":\"violin\",\"xaxis\":\"x2\",\"yaxis\":\"y2\"},{\"box\":{\"visible\":true},\"fillcolor\":\"#2E91E5\",\"legendgroup\":\"ivt\",\"line\":{\"color\":\"black\"},\"meanline\":{\"visible\":true},\"name\":\"MN, ivt\",\"opacity\":0.25,\"scalegroup\":\"d_prime\",\"showlegend\":false,\"side\":\"negative\",\"spanmode\":\"hard\",\"x0\":\"ivt\",\"y\":[3.903935106848807,2.8429557363954228,1.1649651985975085,1.4408263824612089,2.3242430129770995,1.864674936814809,3.795636089837185,3.544882681803113,2.044192329424298,0.7755912931168392,0.8796884254254138,0.7112196064122493,2.14904454815353,1.5172860424548253],\"type\":\"violin\",\"xaxis\":\"x2\",\"yaxis\":\"y2\"},{\"box\":{\"visible\":true},\"fillcolor\":\"#E15F99\",\"legendgroup\":\"ivvt\",\"line\":{\"color\":\"black\"},\"meanline\":{\"visible\":true},\"name\":\"MN, ivvt\",\"opacity\":0.25,\"scalegroup\":\"d_prime\",\"showlegend\":false,\"side\":\"negative\",\"spanmode\":\"hard\",\"x0\":\"ivvt\",\"y\":[3.903935106848807,2.8429557363954228,1.1946965232883389,1.6017777850876114,2.6800405069696662,1.9035935094338454,3.60936632277839,3.4853126664359264,2.1632053485206386,1.0775834882969986,0.9897675141982012,0.5315549235760968,2.1353055066619526,1.9558463295376964],\"type\":\"violin\",\"xaxis\":\"x2\",\"yaxis\":\"y2\"},{\"box\":{\"visible\":true},\"fillcolor\":\"#1CA71C\",\"legendgroup\":\"idt\",\"line\":{\"color\":\"black\"},\"meanline\":{\"visible\":true},\"name\":\"MN, idt\",\"opacity\":0.25,\"scalegroup\":\"d_prime\",\"showlegend\":false,\"side\":\"negative\",\"spanmode\":\"hard\",\"x0\":\"idt\",\"y\":[0.012485333824656664,-0.2304693371463089,1.4046246416490673,1.443891025326622,0.5857169110482956,0.9383743787664228,-0.19268152970156738,-0.027450405739186223,1.68877679427036,1.0786483796547839,0.9332144094921843,1.1408022131414386,0.3765226925956342,1.7073115964230758],\"type\":\"violin\",\"xaxis\":\"x2\",\"yaxis\":\"y2\"},{\"box\":{\"visible\":true},\"fillcolor\":\"#FB0D0D\",\"legendgroup\":\"idvt\",\"line\":{\"color\":\"black\"},\"meanline\":{\"visible\":true},\"name\":\"MN, idvt\",\"opacity\":0.25,\"scalegroup\":\"d_prime\",\"showlegend\":false,\"side\":\"negative\",\"spanmode\":\"hard\",\"x0\":\"idvt\",\"y\":[0.012485333824656664,-0.2304693371463089,1.3559910356072824,1.408645300854484,0.5857169110482956,1.0641747112952098,-0.21620277187436843,-0.027450405739186223,1.68877679427036,1.1836359473263403,0.8872627675914652,1.2438370577803366,0.3765226925956342,1.7073115964230758],\"type\":\"violin\",\"xaxis\":\"x2\",\"yaxis\":\"y2\"},{\"box\":{\"visible\":true},\"fillcolor\":\"#DA16FF\",\"legendgroup\":\"engbert\",\"line\":{\"color\":\"black\"},\"meanline\":{\"visible\":true},\"name\":\"MN, engbert\",\"opacity\":0.25,\"scalegroup\":\"d_prime\",\"showlegend\":false,\"side\":\"negative\",\"spanmode\":\"hard\",\"x0\":\"engbert\",\"y\":[1.6046791918628458,2.397867886005459,1.4896176962096217,1.5939319193424784,0.656588001241802,1.1736527157689405,2.496498660578116,1.975647985796717,1.205578062704926,0.36739116744213296,0.40172225766777714,0.8959710927521438,1.702297456567238,0.9891047376702009],\"type\":\"violin\",\"xaxis\":\"x2\",\"yaxis\":\"y2\"},{\"box\":{\"visible\":true},\"fillcolor\":\"#222A2A\",\"legendgroup\":\"nh\",\"line\":{\"color\":\"black\"},\"meanline\":{\"visible\":true},\"name\":\"MN, nh\",\"opacity\":0.25,\"scalegroup\":\"d_prime\",\"showlegend\":false,\"side\":\"negative\",\"spanmode\":\"hard\",\"x0\":\"nh\",\"y\":[2.2815900460520613,2.2141513894908393,1.7278403360192967,1.6633836129827584,1.8043142731147126,2.1591430480039238,3.200699666366021,2.1591430480039238,1.4245209204529439,2.8837502482218706,0.44805264675819245,2.143840023052158,1.2897016527732554,1.2517256111298118],\"type\":\"violin\",\"xaxis\":\"x2\",\"yaxis\":\"y2\"},{\"box\":{\"visible\":true},\"fillcolor\":\"#B68100\",\"legendgroup\":\"remodnav\",\"line\":{\"color\":\"black\"},\"meanline\":{\"visible\":true},\"name\":\"MN, remodnav\",\"opacity\":0.25,\"scalegroup\":\"d_prime\",\"showlegend\":false,\"side\":\"negative\",\"spanmode\":\"hard\",\"x0\":\"remodnav\",\"y\":[1.0123577520437061,1.8870194739233654,-0.8578922679770136,0.5086580169211947,0.5504984172475571,1.0205652523800457,2.076355322529873,0.8327461723108276,0.8259431078843027,-0.027352965279486607,0.6638362258360044,-0.7052113991366542,0.8318699121565682,1.710613036472672],\"type\":\"violin\",\"xaxis\":\"x2\",\"yaxis\":\"y2\"}],                        {\"template\":{\"data\":{\"histogram2dcontour\":[{\"type\":\"histogram2dcontour\",\"colorbar\":{\"outlinewidth\":0,\"ticks\":\"\"},\"colorscale\":[[0.0,\"#0d0887\"],[0.1111111111111111,\"#46039f\"],[0.2222222222222222,\"#7201a8\"],[0.3333333333333333,\"#9c179e\"],[0.4444444444444444,\"#bd3786\"],[0.5555555555555556,\"#d8576b\"],[0.6666666666666666,\"#ed7953\"],[0.7777777777777778,\"#fb9f3a\"],[0.8888888888888888,\"#fdca26\"],[1.0,\"#f0f921\"]]}],\"choropleth\":[{\"type\":\"choropleth\",\"colorbar\":{\"outlinewidth\":0,\"ticks\":\"\"}}],\"histogram2d\":[{\"type\":\"histogram2d\",\"colorbar\":{\"outlinewidth\":0,\"ticks\":\"\"},\"colorscale\":[[0.0,\"#0d0887\"],[0.1111111111111111,\"#46039f\"],[0.2222222222222222,\"#7201a8\"],[0.3333333333333333,\"#9c179e\"],[0.4444444444444444,\"#bd3786\"],[0.5555555555555556,\"#d8576b\"],[0.6666666666666666,\"#ed7953\"],[0.7777777777777778,\"#fb9f3a\"],[0.8888888888888888,\"#fdca26\"],[1.0,\"#f0f921\"]]}],\"heatmap\":[{\"type\":\"heatmap\",\"colorbar\":{\"outlinewidth\":0,\"ticks\":\"\"},\"colorscale\":[[0.0,\"#0d0887\"],[0.1111111111111111,\"#46039f\"],[0.2222222222222222,\"#7201a8\"],[0.3333333333333333,\"#9c179e\"],[0.4444444444444444,\"#bd3786\"],[0.5555555555555556,\"#d8576b\"],[0.6666666666666666,\"#ed7953\"],[0.7777777777777778,\"#fb9f3a\"],[0.8888888888888888,\"#fdca26\"],[1.0,\"#f0f921\"]]}],\"heatmapgl\":[{\"type\":\"heatmapgl\",\"colorbar\":{\"outlinewidth\":0,\"ticks\":\"\"},\"colorscale\":[[0.0,\"#0d0887\"],[0.1111111111111111,\"#46039f\"],[0.2222222222222222,\"#7201a8\"],[0.3333333333333333,\"#9c179e\"],[0.4444444444444444,\"#bd3786\"],[0.5555555555555556,\"#d8576b\"],[0.6666666666666666,\"#ed7953\"],[0.7777777777777778,\"#fb9f3a\"],[0.8888888888888888,\"#fdca26\"],[1.0,\"#f0f921\"]]}],\"contourcarpet\":[{\"type\":\"contourcarpet\",\"colorbar\":{\"outlinewidth\":0,\"ticks\":\"\"}}],\"contour\":[{\"type\":\"contour\",\"colorbar\":{\"outlinewidth\":0,\"ticks\":\"\"},\"colorscale\":[[0.0,\"#0d0887\"],[0.1111111111111111,\"#46039f\"],[0.2222222222222222,\"#7201a8\"],[0.3333333333333333,\"#9c179e\"],[0.4444444444444444,\"#bd3786\"],[0.5555555555555556,\"#d8576b\"],[0.6666666666666666,\"#ed7953\"],[0.7777777777777778,\"#fb9f3a\"],[0.8888888888888888,\"#fdca26\"],[1.0,\"#f0f921\"]]}],\"surface\":[{\"type\":\"surface\",\"colorbar\":{\"outlinewidth\":0,\"ticks\":\"\"},\"colorscale\":[[0.0,\"#0d0887\"],[0.1111111111111111,\"#46039f\"],[0.2222222222222222,\"#7201a8\"],[0.3333333333333333,\"#9c179e\"],[0.4444444444444444,\"#bd3786\"],[0.5555555555555556,\"#d8576b\"],[0.6666666666666666,\"#ed7953\"],[0.7777777777777778,\"#fb9f3a\"],[0.8888888888888888,\"#fdca26\"],[1.0,\"#f0f921\"]]}],\"mesh3d\":[{\"type\":\"mesh3d\",\"colorbar\":{\"outlinewidth\":0,\"ticks\":\"\"}}],\"scatter\":[{\"fillpattern\":{\"fillmode\":\"overlay\",\"size\":10,\"solidity\":0.2},\"type\":\"scatter\"}],\"parcoords\":[{\"type\":\"parcoords\",\"line\":{\"colorbar\":{\"outlinewidth\":0,\"ticks\":\"\"}}}],\"scatterpolargl\":[{\"type\":\"scatterpolargl\",\"marker\":{\"colorbar\":{\"outlinewidth\":0,\"ticks\":\"\"}}}],\"bar\":[{\"error_x\":{\"color\":\"#2a3f5f\"},\"error_y\":{\"color\":\"#2a3f5f\"},\"marker\":{\"line\":{\"color\":\"#E5ECF6\",\"width\":0.5},\"pattern\":{\"fillmode\":\"overlay\",\"size\":10,\"solidity\":0.2}},\"type\":\"bar\"}],\"scattergeo\":[{\"type\":\"scattergeo\",\"marker\":{\"colorbar\":{\"outlinewidth\":0,\"ticks\":\"\"}}}],\"scatterpolar\":[{\"type\":\"scatterpolar\",\"marker\":{\"colorbar\":{\"outlinewidth\":0,\"ticks\":\"\"}}}],\"histogram\":[{\"marker\":{\"pattern\":{\"fillmode\":\"overlay\",\"size\":10,\"solidity\":0.2}},\"type\":\"histogram\"}],\"scattergl\":[{\"type\":\"scattergl\",\"marker\":{\"colorbar\":{\"outlinewidth\":0,\"ticks\":\"\"}}}],\"scatter3d\":[{\"type\":\"scatter3d\",\"line\":{\"colorbar\":{\"outlinewidth\":0,\"ticks\":\"\"}},\"marker\":{\"colorbar\":{\"outlinewidth\":0,\"ticks\":\"\"}}}],\"scattermapbox\":[{\"type\":\"scattermapbox\",\"marker\":{\"colorbar\":{\"outlinewidth\":0,\"ticks\":\"\"}}}],\"scatterternary\":[{\"type\":\"scatterternary\",\"marker\":{\"colorbar\":{\"outlinewidth\":0,\"ticks\":\"\"}}}],\"scattercarpet\":[{\"type\":\"scattercarpet\",\"marker\":{\"colorbar\":{\"outlinewidth\":0,\"ticks\":\"\"}}}],\"carpet\":[{\"aaxis\":{\"endlinecolor\":\"#2a3f5f\",\"gridcolor\":\"white\",\"linecolor\":\"white\",\"minorgridcolor\":\"white\",\"startlinecolor\":\"#2a3f5f\"},\"baxis\":{\"endlinecolor\":\"#2a3f5f\",\"gridcolor\":\"white\",\"linecolor\":\"white\",\"minorgridcolor\":\"white\",\"startlinecolor\":\"#2a3f5f\"},\"type\":\"carpet\"}],\"table\":[{\"cells\":{\"fill\":{\"color\":\"#EBF0F8\"},\"line\":{\"color\":\"white\"}},\"header\":{\"fill\":{\"color\":\"#C8D4E3\"},\"line\":{\"color\":\"white\"}},\"type\":\"table\"}],\"barpolar\":[{\"marker\":{\"line\":{\"color\":\"#E5ECF6\",\"width\":0.5},\"pattern\":{\"fillmode\":\"overlay\",\"size\":10,\"solidity\":0.2}},\"type\":\"barpolar\"}],\"pie\":[{\"automargin\":true,\"type\":\"pie\"}]},\"layout\":{\"autotypenumbers\":\"strict\",\"colorway\":[\"#636efa\",\"#EF553B\",\"#00cc96\",\"#ab63fa\",\"#FFA15A\",\"#19d3f3\",\"#FF6692\",\"#B6E880\",\"#FF97FF\",\"#FECB52\"],\"font\":{\"color\":\"#2a3f5f\"},\"hovermode\":\"closest\",\"hoverlabel\":{\"align\":\"left\"},\"paper_bgcolor\":\"white\",\"plot_bgcolor\":\"#E5ECF6\",\"polar\":{\"bgcolor\":\"#E5ECF6\",\"angularaxis\":{\"gridcolor\":\"white\",\"linecolor\":\"white\",\"ticks\":\"\"},\"radialaxis\":{\"gridcolor\":\"white\",\"linecolor\":\"white\",\"ticks\":\"\"}},\"ternary\":{\"bgcolor\":\"#E5ECF6\",\"aaxis\":{\"gridcolor\":\"white\",\"linecolor\":\"white\",\"ticks\":\"\"},\"baxis\":{\"gridcolor\":\"white\",\"linecolor\":\"white\",\"ticks\":\"\"},\"caxis\":{\"gridcolor\":\"white\",\"linecolor\":\"white\",\"ticks\":\"\"}},\"coloraxis\":{\"colorbar\":{\"outlinewidth\":0,\"ticks\":\"\"}},\"colorscale\":{\"sequential\":[[0.0,\"#0d0887\"],[0.1111111111111111,\"#46039f\"],[0.2222222222222222,\"#7201a8\"],[0.3333333333333333,\"#9c179e\"],[0.4444444444444444,\"#bd3786\"],[0.5555555555555556,\"#d8576b\"],[0.6666666666666666,\"#ed7953\"],[0.7777777777777778,\"#fb9f3a\"],[0.8888888888888888,\"#fdca26\"],[1.0,\"#f0f921\"]],\"sequentialminus\":[[0.0,\"#0d0887\"],[0.1111111111111111,\"#46039f\"],[0.2222222222222222,\"#7201a8\"],[0.3333333333333333,\"#9c179e\"],[0.4444444444444444,\"#bd3786\"],[0.5555555555555556,\"#d8576b\"],[0.6666666666666666,\"#ed7953\"],[0.7777777777777778,\"#fb9f3a\"],[0.8888888888888888,\"#fdca26\"],[1.0,\"#f0f921\"]],\"diverging\":[[0,\"#8e0152\"],[0.1,\"#c51b7d\"],[0.2,\"#de77ae\"],[0.3,\"#f1b6da\"],[0.4,\"#fde0ef\"],[0.5,\"#f7f7f7\"],[0.6,\"#e6f5d0\"],[0.7,\"#b8e186\"],[0.8,\"#7fbc41\"],[0.9,\"#4d9221\"],[1,\"#276419\"]]},\"xaxis\":{\"gridcolor\":\"white\",\"linecolor\":\"white\",\"ticks\":\"\",\"title\":{\"standoff\":15},\"zerolinecolor\":\"white\",\"automargin\":true,\"zerolinewidth\":2},\"yaxis\":{\"gridcolor\":\"white\",\"linecolor\":\"white\",\"ticks\":\"\",\"title\":{\"standoff\":15},\"zerolinecolor\":\"white\",\"automargin\":true,\"zerolinewidth\":2},\"scene\":{\"xaxis\":{\"backgroundcolor\":\"#E5ECF6\",\"gridcolor\":\"white\",\"linecolor\":\"white\",\"showbackground\":true,\"ticks\":\"\",\"zerolinecolor\":\"white\",\"gridwidth\":2},\"yaxis\":{\"backgroundcolor\":\"#E5ECF6\",\"gridcolor\":\"white\",\"linecolor\":\"white\",\"showbackground\":true,\"ticks\":\"\",\"zerolinecolor\":\"white\",\"gridwidth\":2},\"zaxis\":{\"backgroundcolor\":\"#E5ECF6\",\"gridcolor\":\"white\",\"linecolor\":\"white\",\"showbackground\":true,\"ticks\":\"\",\"zerolinecolor\":\"white\",\"gridwidth\":2}},\"shapedefaults\":{\"line\":{\"color\":\"#2a3f5f\"}},\"annotationdefaults\":{\"arrowcolor\":\"#2a3f5f\",\"arrowhead\":0,\"arrowwidth\":1},\"geo\":{\"bgcolor\":\"white\",\"landcolor\":\"#E5ECF6\",\"subunitcolor\":\"white\",\"showland\":true,\"showlakes\":true,\"lakecolor\":\"white\"},\"title\":{\"x\":0.05},\"mapbox\":{\"style\":\"light\"}}},\"xaxis\":{\"anchor\":\"y\",\"domain\":[0.0,1.0],\"matches\":\"x2\",\"showticklabels\":false},\"yaxis\":{\"anchor\":\"x\",\"domain\":[0.55,1.0],\"range\":[0,1]},\"xaxis2\":{\"anchor\":\"y2\",\"domain\":[0.0,1.0]},\"yaxis2\":{\"anchor\":\"x2\",\"domain\":[0.0,0.45]},\"annotations\":[{\"font\":{\"size\":16},\"showarrow\":false,\"text\":\"f1\",\"x\":0.5,\"xanchor\":\"center\",\"xref\":\"paper\",\"y\":1.0,\"yanchor\":\"bottom\",\"yref\":\"paper\"},{\"font\":{\"size\":16},\"showarrow\":false,\"text\":\"d'\",\"x\":0.5,\"xanchor\":\"center\",\"xref\":\"paper\",\"y\":0.45,\"yanchor\":\"bottom\",\"yref\":\"paper\"}],\"title\":{\"text\":\"fixation offsets\"},\"violinmode\":\"overlay\",\"boxmode\":\"group\",\"boxgroupgap\":0,\"boxgap\":0,\"margin\":{\"l\":10,\"r\":10,\"b\":10,\"t\":10,\"pad\":0},\"width\":1000,\"height\":500,\"paper_bgcolor\":\"rgba(0, 0, 0, 0)\",\"plot_bgcolor\":\"rgba(0, 0, 0, 0)\"},                        {\"responsive\": true}                    ).then(function(){\n",
       "                            \n",
       "var gd = document.getElementById('79400596-3d70-49c1-a14b-aad9b155a75d');\n",
       "var x = new MutationObserver(function (mutations, observer) {{\n",
       "        var display = window.getComputedStyle(gd).display;\n",
       "        if (!display || display === 'none') {{\n",
       "            console.log([gd, 'removed!']);\n",
       "            Plotly.purge(gd);\n",
       "            observer.disconnect();\n",
       "        }}\n",
       "}});\n",
       "\n",
       "// Listen for the removal of the full notebook cells\n",
       "var notebookContainer = gd.closest('#notebook-container');\n",
       "if (notebookContainer) {{\n",
       "    x.observe(notebookContainer, {childList: true});\n",
       "}}\n",
       "\n",
       "// Listen for the clearing of the current output cell\n",
       "var outputEl = gd.closest('.output');\n",
       "if (outputEl) {{\n",
       "    x.observe(outputEl, {childList: true});\n",
       "}}\n",
       "\n",
       "                        })                };                });            </script>        </div>"
      ]
     },
     "metadata": {},
     "output_type": "display_data"
    }
   ],
   "execution_count": 36
  },
  {
   "metadata": {},
   "cell_type": "markdown",
   "source": [
    "### (3) Final Figure - save to file\n",
    "Displaying only the $d'$ distributions for saccade onsets & offsets in the same figure, to avoid showing too many subplots"
   ],
   "id": "726f0cd7fd6583ca"
  },
  {
   "metadata": {
    "ExecuteTime": {
     "end_time": "2025-01-09T15:26:57.218760Z",
     "start_time": "2025-01-09T15:26:53.617675Z"
    }
   },
   "cell_type": "code",
   "source": [
    "W, H = 600, 450\n",
    "\n",
    "discriminability_figure = make_subplots(\n",
    "    rows=2, cols=1, shared_xaxes=True, subplot_titles=['Saccade Onset', 'Saccade Offset'], vertical_spacing=0.1\n",
    ")\n",
    "\n",
    "# copy onset d-prime violins into new figure\n",
    "for tr in onset_distribution_figure.data:\n",
    "    if tr['scalegroup'] != 'd_prime':\n",
    "        # ignore non d-prime violins\n",
    "        continue\n",
    "    new_tr = copy.deepcopy(tr)\n",
    "    new_tr['width'] = 0.8   # make violins wider so there's less space between them\n",
    "    discriminability_figure.add_trace(trace=new_tr, row=1, col=1)\n",
    "\n",
    "# copy offset d-prime violins into new figure\n",
    "for tr in offset_distribution_figure.data:\n",
    "    if tr['scalegroup'] != 'd_prime':\n",
    "        # ignore non d-prime violins\n",
    "        continue\n",
    "    new_tr = copy.deepcopy(tr)\n",
    "    new_tr['width'] = 0.8   # make violins wider so there's less space between them\n",
    "    discriminability_figure.add_trace(trace=new_tr, row=2, col=1)\n",
    "\n",
    "discriminability_figure.update_layout(\n",
    "    title=None,\n",
    "    width=W, height=H,\n",
    "    paper_bgcolor='rgba(0, 0, 0, 0)', plot_bgcolor='rgba(0, 0, 0, 0)',\n",
    "    yaxis=dict(showgrid=False, zeroline=False, showline=False, tickfont=dict(size=14)),\n",
    "    yaxis2=dict(showgrid=False, zeroline=False, showline=False, tickfont=dict(size=14)),\n",
    "    xaxis2=dict(showgrid=False, tickfont=dict(size=14), tickangle=0),\n",
    "    margin=dict(l=10, r=10, b=10, t=20, pad=0),\n",
    ")\n",
    "# discriminability_figure.layout.annotations = []   # remove subtitles\n",
    "\n",
    "\n",
    "save_fig(discriminability_figure, FIG_ID, 'right', 'saccade-discriminability', IS_SUPP)\n",
    "discriminability_figure"
   ],
   "id": "2e884b4854a5cc95",
   "outputs": [
    {
     "data": {
      "application/vnd.plotly.v1+json": {
       "data": [
        {
         "box": {
          "visible": true
         },
         "fillcolor": "#bab0ac",
         "legendgroup": "Other GT",
         "line": {
          "color": "black"
         },
         "meanline": {
          "visible": true
         },
         "name": "RA, Other GT",
         "opacity": 0.75,
         "scalegroup": "d_prime",
         "showlegend": false,
         "side": "positive",
         "spanmode": "hard",
         "width": 0.8,
         "x0": "Other GT",
         "xaxis": "x",
         "y": [
          5.459187550419509,
          3.909244963156813,
          4.629591693091486,
          5.455990592890831,
          4.443255522619719,
          5.697198192494998,
          5.697198192495014,
          4.669486053339465,
          3.9778153925912196,
          5.697325201555923,
          5.46055068919749,
          4.106184045600919,
          5.456697951706454,
          5.091656382773711
         ],
         "yaxis": "y",
         "type": "violin"
        },
        {
         "box": {
          "visible": true
         },
         "fillcolor": "#2E91E5",
         "legendgroup": "ivt",
         "line": {
          "color": "black"
         },
         "meanline": {
          "visible": true
         },
         "name": "RA, ivt",
         "opacity": 0.75,
         "scalegroup": "d_prime",
         "showlegend": false,
         "side": "positive",
         "spanmode": "hard",
         "width": 0.8,
         "x0": "ivt",
         "xaxis": "x",
         "y": [
          4.935210117945616,
          3.027812456059501,
          4.983192405588715,
          5.0472493145762085,
          2.9298959092282577,
          3.0508759258365847,
          4.4752621512270805,
          4.992198654506082,
          4.312099189420545,
          2.8592051942026666,
          3.648316355744651,
          4.985511457908569,
          5.202749190303056,
          3.646923271358781,
          3.105093781687821,
          4.501241571988883,
          4.424817633810667,
          2.6083850889986855,
          4.930129828954507,
          2.891430690177534
         ],
         "yaxis": "y",
         "type": "violin"
        },
        {
         "box": {
          "visible": true
         },
         "fillcolor": "#E15F99",
         "legendgroup": "ivvt",
         "line": {
          "color": "black"
         },
         "meanline": {
          "visible": true
         },
         "name": "RA, ivvt",
         "opacity": 0.75,
         "scalegroup": "d_prime",
         "showlegend": false,
         "side": "positive",
         "spanmode": "hard",
         "width": 0.8,
         "x0": "ivvt",
         "xaxis": "x",
         "y": [
          4.935210117945616,
          3.027812456059501,
          4.793963005522437,
          4.796603895400534,
          2.7833173188314073,
          2.93257512158007,
          4.107777433285677,
          4.367119696372443,
          4.803546889825931,
          2.992385296538358,
          3.596492324322004,
          4.659064417763066,
          4.983868524643366,
          3.5454601905514496,
          2.8999416356744963,
          4.20927069479959,
          4.219960354617328,
          2.4008722473674293,
          4.7224382754870255,
          3.633177456566014
         ],
         "yaxis": "y",
         "type": "violin"
        },
        {
         "box": {
          "visible": true
         },
         "fillcolor": "#1CA71C",
         "legendgroup": "idt",
         "line": {
          "color": "black"
         },
         "meanline": {
          "visible": true
         },
         "name": "RA, idt",
         "opacity": 0.75,
         "scalegroup": "d_prime",
         "showlegend": false,
         "side": "positive",
         "spanmode": "hard",
         "width": 0.8,
         "x0": "idt",
         "xaxis": "x",
         "y": [
          3.1875568290930625,
          1.787953229338177,
          2.6094427534986746,
          2.6814492707351136,
          2.6395135206515428,
          2.2746278798292336,
          2.5361336419702476,
          1.83645289326642,
          2.310290548816525,
          2.067786735744974,
          2.808336266956156,
          2.595471843602999,
          2.424299027839395,
          2.248550883443325,
          1.6385111426454706,
          2.1314230756601105,
          1.301232293540237,
          1.6834816993378174,
          2.0899466875847263,
          1.7073115964230758
         ],
         "yaxis": "y",
         "type": "violin"
        },
        {
         "box": {
          "visible": true
         },
         "fillcolor": "#FB0D0D",
         "legendgroup": "idvt",
         "line": {
          "color": "black"
         },
         "meanline": {
          "visible": true
         },
         "name": "RA, idvt",
         "opacity": 0.75,
         "scalegroup": "d_prime",
         "showlegend": false,
         "side": "positive",
         "spanmode": "hard",
         "width": 0.8,
         "x0": "idvt",
         "xaxis": "x",
         "y": [
          3.1875568290930625,
          1.787953229338177,
          2.7758089351195308,
          2.6814492707351136,
          2.814080709426124,
          2.364997898546176,
          2.799220639071396,
          2.140775935854541,
          2.4630905142450756,
          2.067786735744974,
          2.808336266956156,
          2.99323331680582,
          2.339927958217751,
          2.248550883443325,
          1.6385111426454706,
          2.360548797936101,
          1.5519472230429894,
          1.63757650709297,
          2.0899466875847263,
          1.7073115964230758
         ],
         "yaxis": "y",
         "type": "violin"
        },
        {
         "box": {
          "visible": true
         },
         "fillcolor": "#DA16FF",
         "legendgroup": "engbert",
         "line": {
          "color": "black"
         },
         "meanline": {
          "visible": true
         },
         "name": "RA, engbert",
         "opacity": 0.75,
         "scalegroup": "d_prime",
         "showlegend": false,
         "side": "positive",
         "spanmode": "hard",
         "width": 0.8,
         "x0": "engbert",
         "xaxis": "x",
         "y": [
          4.989576400060516,
          4.901607521707367,
          4.983192405588715,
          4.882022601074331,
          5.20475967978861,
          4.631549353670097,
          3.3422720579072887,
          4.889240213988629,
          4.803546889825931,
          3.6417743492215378,
          3.501153542978641,
          5.2040916260010235,
          4.756823894517892,
          5.046467880803274,
          3.4673186773217353,
          3.396921059460248,
          3.2416119182383576,
          3.0449205178680936,
          4.881141236650121,
          4.326659463989936
         ],
         "yaxis": "y",
         "type": "violin"
        },
        {
         "box": {
          "visible": true
         },
         "fillcolor": "#222A2A",
         "legendgroup": "nh",
         "line": {
          "color": "black"
         },
         "meanline": {
          "visible": true
         },
         "name": "RA, nh",
         "opacity": 0.75,
         "scalegroup": "d_prime",
         "showlegend": false,
         "side": "positive",
         "spanmode": "hard",
         "width": 0.8,
         "x0": "nh",
         "xaxis": "x",
         "y": [
          1.7926947585150583,
          2.033266344834221,
          1.001546535225833,
          1.77699590433968,
          1.4556523663667582,
          1.7278403360192967,
          0.9255093218626931,
          2.1727831216833784,
          3.339283778489517,
          4.0454035765309975,
          1.7354692377567866,
          1.693344170432551,
          1.9616249577248832,
          1.7649502445000027,
          3.1462748618467935,
          2.2150748095672395,
          0.47121060532399905,
          2.3012887920140135,
          0.7460629456169006,
          2.660012809855202
         ],
         "yaxis": "y",
         "type": "violin"
        },
        {
         "box": {
          "visible": true
         },
         "fillcolor": "#B68100",
         "legendgroup": "remodnav",
         "line": {
          "color": "black"
         },
         "meanline": {
          "visible": true
         },
         "name": "RA, remodnav",
         "opacity": 0.75,
         "scalegroup": "d_prime",
         "showlegend": false,
         "side": "positive",
         "spanmode": "hard",
         "width": 0.8,
         "x0": "remodnav",
         "xaxis": "x",
         "y": [
          2.8985322608805797,
          1.787953229338177,
          2.6320779854648126,
          3.0157489217598763,
          2.8055578601907687,
          2.387078899775238,
          2.21854464502775,
          2.2851645065463746,
          2.4630905142450756,
          1.9536791047240807,
          2.4730718513678265,
          2.394612012722257,
          1.9366756381069257,
          2.808336266956156,
          2.3679712395452093,
          2.9319462228395294,
          1.9557932954870083,
          2.158319299406476,
          2.6210375059919047,
          2.6840055998741437
         ],
         "yaxis": "y",
         "type": "violin"
        },
        {
         "box": {
          "visible": true
         },
         "fillcolor": "#bab0ac",
         "legendgroup": "Other GT",
         "line": {
          "color": "black"
         },
         "meanline": {
          "visible": true
         },
         "name": "MN, Other GT",
         "opacity": 0.25,
         "scalegroup": "d_prime",
         "showlegend": false,
         "side": "negative",
         "spanmode": "hard",
         "width": 0.8,
         "x0": "Other GT",
         "xaxis": "x",
         "y": [
          4.593647127748606,
          5.466728855348689,
          4.629591693091486,
          4.708167430624197,
          4.3579427414783485,
          5.697198192494998,
          5.697198192495014,
          5.457116652251863,
          4.63919081626589,
          5.697325201555923,
          4.5185562688186645,
          3.9281338566234476,
          4.682849945470158,
          5.091656382773711
         ],
         "yaxis": "y",
         "type": "violin"
        },
        {
         "box": {
          "visible": true
         },
         "fillcolor": "#2E91E5",
         "legendgroup": "ivt",
         "line": {
          "color": "black"
         },
         "meanline": {
          "visible": true
         },
         "name": "MN, ivt",
         "opacity": 0.25,
         "scalegroup": "d_prime",
         "showlegend": false,
         "side": "negative",
         "spanmode": "hard",
         "width": 0.8,
         "x0": "ivt",
         "xaxis": "x",
         "y": [
          4.988768206332356,
          3.2773144223208646,
          3.0508759258365847,
          3.533838571914921,
          3.7248300414689854,
          4.985511457908569,
          5.202749190303056,
          3.8487366569051202,
          3.272707589200251,
          4.501241571988883,
          4.444039234857245,
          2.687887607987858,
          4.983868524643366,
          2.891430690177534
         ],
         "yaxis": "y",
         "type": "violin"
        },
        {
         "box": {
          "visible": true
         },
         "fillcolor": "#E15F99",
         "legendgroup": "ivvt",
         "line": {
          "color": "black"
         },
         "meanline": {
          "visible": true
         },
         "name": "MN, ivvt",
         "opacity": 0.25,
         "scalegroup": "d_prime",
         "showlegend": false,
         "side": "negative",
         "spanmode": "hard",
         "width": 0.8,
         "x0": "ivvt",
         "xaxis": "x",
         "y": [
          4.988768206332356,
          3.2773144223208646,
          2.93257512158007,
          4.119664406019537,
          3.637552407367872,
          4.659064417763066,
          4.983868524643366,
          3.8624315975768466,
          3.0998983174169052,
          4.20927069479959,
          4.233675602189977,
          2.8402036775137964,
          4.756823894517892,
          3.633177456566014
         ],
         "yaxis": "y",
         "type": "violin"
        },
        {
         "box": {
          "visible": true
         },
         "fillcolor": "#1CA71C",
         "legendgroup": "idt",
         "line": {
          "color": "black"
         },
         "meanline": {
          "visible": true
         },
         "name": "MN, idt",
         "opacity": 0.25,
         "scalegroup": "d_prime",
         "showlegend": false,
         "side": "negative",
         "spanmode": "hard",
         "width": 0.8,
         "x0": "idt",
         "xaxis": "x",
         "y": [
          2.7927292939909236,
          1.8870194739233654,
          2.2746278798292336,
          2.4921810028188527,
          2.1326028810407274,
          2.009984013122713,
          2.2615155454846385,
          2.8253393120177144,
          1.68877679427036,
          2.1314230756601105,
          1.2580869984359002,
          1.84525863115012,
          2.190709497116439,
          1.7073115964230758
         ],
         "yaxis": "y",
         "type": "violin"
        },
        {
         "box": {
          "visible": true
         },
         "fillcolor": "#FB0D0D",
         "legendgroup": "idvt",
         "line": {
          "color": "black"
         },
         "meanline": {
          "visible": true
         },
         "name": "MN, idvt",
         "opacity": 0.25,
         "scalegroup": "d_prime",
         "showlegend": false,
         "side": "negative",
         "spanmode": "hard",
         "width": 0.8,
         "x0": "idvt",
         "xaxis": "x",
         "y": [
          2.7927292939909236,
          1.8870194739233654,
          2.364997898546176,
          2.7489146501141564,
          2.1326028810407274,
          2.2639989769539666,
          2.190709497116439,
          2.8253393120177144,
          1.68877679427036,
          2.360548797936101,
          1.5009920018489356,
          1.7954595797596142,
          2.190709497116439,
          1.7073115964230758
         ],
         "yaxis": "y",
         "type": "violin"
        },
        {
         "box": {
          "visible": true
         },
         "fillcolor": "#DA16FF",
         "legendgroup": "engbert",
         "line": {
          "color": "black"
         },
         "meanline": {
          "visible": true
         },
         "name": "MN, engbert",
         "opacity": 0.25,
         "scalegroup": "d_prime",
         "showlegend": false,
         "side": "negative",
         "spanmode": "hard",
         "width": 0.8,
         "x0": "engbert",
         "xaxis": "x",
         "y": [
          5.050351704176499,
          4.858495831087648,
          3.5819022301875165,
          3.0293930129785402,
          3.560662946760054,
          5.2040916260010235,
          4.756823894517892,
          4.985511457908569,
          3.9992995826467257,
          3.396921059460248,
          3.283005481665862,
          4.280838617551851,
          4.929274351876277,
          4.326659463989936
         ],
         "yaxis": "y",
         "type": "violin"
        },
        {
         "box": {
          "visible": true
         },
         "fillcolor": "#222A2A",
         "legendgroup": "nh",
         "line": {
          "color": "black"
         },
         "meanline": {
          "visible": true
         },
         "name": "MN, nh",
         "opacity": 0.25,
         "scalegroup": "d_prime",
         "showlegend": false,
         "side": "negative",
         "spanmode": "hard",
         "width": 0.8,
         "x0": "nh",
         "xaxis": "x",
         "y": [
          2.0064568243884704,
          1.7226620203325396,
          1.8559027945369224,
          1.1573624603371955,
          2.0258199991612647,
          2.0384997883341103,
          1.9616249577248832,
          1.581100491300537,
          3.428854246434944,
          2.077273246460014,
          0.44805264675819245,
          1.7007605154547154,
          0.7311126229132512,
          2.660012809855202
         ],
         "yaxis": "y",
         "type": "violin"
        },
        {
         "box": {
          "visible": true
         },
         "fillcolor": "#B68100",
         "legendgroup": "remodnav",
         "line": {
          "color": "black"
         },
         "meanline": {
          "visible": true
         },
         "name": "MN, remodnav",
         "opacity": 0.25,
         "scalegroup": "d_prime",
         "showlegend": false,
         "side": "negative",
         "spanmode": "hard",
         "width": 0.8,
         "x0": "remodnav",
         "xaxis": "x",
         "y": [
          2.848599096247495,
          1.8870194739233654,
          2.2608997804194324,
          2.193462453056782,
          2.7454097843926895,
          2.5094591735383354,
          1.9366756381069257,
          2.848599096247495,
          2.4504978914561244,
          2.9319462228395294,
          1.9227376218479018,
          2.247014302559641,
          2.691984885490992,
          2.6840055998741437
         ],
         "yaxis": "y",
         "type": "violin"
        },
        {
         "box": {
          "visible": true
         },
         "fillcolor": "#bab0ac",
         "legendgroup": "Other GT",
         "line": {
          "color": "black"
         },
         "meanline": {
          "visible": true
         },
         "name": "RA, Other GT",
         "opacity": 0.75,
         "scalegroup": "d_prime",
         "showlegend": false,
         "side": "positive",
         "spanmode": "hard",
         "width": 0.8,
         "x0": "Other GT",
         "xaxis": "x2",
         "y": [
          3.862236967929786,
          3.4081913872337393,
          3.416975978003244,
          2.873443423380129,
          5.456697951706454,
          4.096557789647024,
          3.7692531423086395,
          4.342510897118669,
          3.7249392530910415,
          4.65932272109791,
          4.270938031527921,
          3.0433487225365092,
          5.456697951706454,
          5.091656382773711
         ],
         "yaxis": "y2",
         "type": "violin"
        },
        {
         "box": {
          "visible": true
         },
         "fillcolor": "#2E91E5",
         "legendgroup": "ivt",
         "line": {
          "color": "black"
         },
         "meanline": {
          "visible": true
         },
         "name": "RA, ivt",
         "opacity": 0.75,
         "scalegroup": "d_prime",
         "showlegend": false,
         "side": "positive",
         "spanmode": "hard",
         "width": 0.8,
         "x0": "ivt",
         "xaxis": "x2",
         "y": [
          3.164184385808966,
          2.662230195508171,
          2.8112418219990745,
          2.0023415992244424,
          2.608698335296606,
          1.374679694187976,
          1.6684604596576076,
          2.3102546496159557,
          4.312099189420545,
          2.8592051942026666,
          2.265885292168765,
          2.089689323176438,
          5.202749190303056,
          3.1808098510020364,
          2.3352617125852144,
          0.987360920820693,
          1.2033247730486702,
          1.2226113873241302,
          2.3283523309692074,
          1.5172860424548253
         ],
         "yaxis": "y2",
         "type": "violin"
        },
        {
         "box": {
          "visible": true
         },
         "fillcolor": "#E15F99",
         "legendgroup": "ivvt",
         "line": {
          "color": "black"
         },
         "meanline": {
          "visible": true
         },
         "name": "RA, ivvt",
         "opacity": 0.75,
         "scalegroup": "d_prime",
         "showlegend": false,
         "side": "positive",
         "spanmode": "hard",
         "width": 0.8,
         "x0": "ivvt",
         "xaxis": "x2",
         "y": [
          3.164184385808966,
          2.662230195508171,
          3.0034462075324275,
          2.221181444734744,
          2.6247715419659725,
          1.4007086109643512,
          1.8671819661487414,
          2.158657779271398,
          4.803546889825931,
          2.992385296538358,
          2.6368455796904815,
          2.128780527772439,
          4.983868524643366,
          3.073477536928277,
          2.4059991360811277,
          1.2684374847319932,
          1.3055422300067254,
          1.0366133107514188,
          2.3205109352889663,
          1.9558463295376964
         ],
         "yaxis": "y2",
         "type": "violin"
        },
        {
         "box": {
          "visible": true
         },
         "fillcolor": "#1CA71C",
         "legendgroup": "idt",
         "line": {
          "color": "black"
         },
         "meanline": {
          "visible": true
         },
         "name": "RA, idt",
         "opacity": 0.75,
         "scalegroup": "d_prime",
         "showlegend": false,
         "side": "positive",
         "spanmode": "hard",
         "width": 0.8,
         "x0": "idt",
         "xaxis": "x2",
         "y": [
          0.8813387052538866,
          -0.23085383339098842,
          0.8944250910185778,
          0.9177453451241466,
          -0.040566562783377114,
          0.8779746217345434,
          0.3338364429138163,
          1.0760508544189162,
          2.310290548816525,
          1.9002352353145597,
          0.3516298436219121,
          -0.05691873147623472,
          -1.220993238317687,
          -0.04320553543576011,
          1.4155019373695794,
          0.7816726372190986,
          0.5686779648875737,
          1.3842294039571703,
          -0.20091933615156288,
          1.7073115964230758
         ],
         "yaxis": "y2",
         "type": "violin"
        },
        {
         "box": {
          "visible": true
         },
         "fillcolor": "#FB0D0D",
         "legendgroup": "idvt",
         "line": {
          "color": "black"
         },
         "meanline": {
          "visible": true
         },
         "name": "RA, idvt",
         "opacity": 0.75,
         "scalegroup": "d_prime",
         "showlegend": false,
         "side": "positive",
         "spanmode": "hard",
         "width": 0.8,
         "x0": "idvt",
         "xaxis": "x2",
         "y": [
          0.8813387052538866,
          -0.23085383339098842,
          0.8944250910185778,
          0.9177453451241466,
          0.2665500205783795,
          0.8402821819338604,
          0.31030500805043437,
          1.0384545503054754,
          2.310290548816525,
          1.9002352353145597,
          0.3516298436219121,
          0.275909958295655,
          -1.2428685108461386,
          -0.04320553543576011,
          1.4155019373695794,
          0.9074729697478855,
          0.5259609677442094,
          0.8613383867728505,
          -0.20091933615156288,
          1.7073115964230758
         ],
         "yaxis": "y2",
         "type": "violin"
        },
        {
         "box": {
          "visible": true
         },
         "fillcolor": "#DA16FF",
         "legendgroup": "engbert",
         "line": {
          "color": "black"
         },
         "meanline": {
          "visible": true
         },
         "name": "RA, engbert",
         "opacity": 0.75,
         "scalegroup": "d_prime",
         "showlegend": false,
         "side": "positive",
         "spanmode": "hard",
         "width": 0.8,
         "x0": "engbert",
         "xaxis": "x2",
         "y": [
          1.7779601186966736,
          3.1180501060598114,
          2.1765176726956783,
          0.5939027906843476,
          1.2280284864168642,
          1.7063609466539742,
          1.9431339038224649,
          1.791479919446603,
          4.054035500650535,
          3.245825396379677,
          0.6815399415046546,
          1.1736527157689405,
          2.633941041850681,
          2.148199106787624,
          1.507249450696738,
          0.611044515436296,
          0.4353388939454643,
          1.4117674332680472,
          1.8512211838823325,
          1.2389024732738665
         ],
         "yaxis": "y2",
         "type": "violin"
        },
        {
         "box": {
          "visible": true
         },
         "fillcolor": "#222A2A",
         "legendgroup": "nh",
         "line": {
          "color": "black"
         },
         "meanline": {
          "visible": true
         },
         "name": "RA, nh",
         "opacity": 0.75,
         "scalegroup": "d_prime",
         "showlegend": false,
         "side": "positive",
         "spanmode": "hard",
         "width": 0.8,
         "x0": "nh",
         "xaxis": "x2",
         "y": [
          2.2019125897655134,
          2.4635503754145516,
          1.001546535225833,
          1.77699590433968,
          1.4556523663667582,
          2.259126761637854,
          1.420508181328983,
          1.8548802997669933,
          3.7212068108786447,
          3.2478972157384214,
          1.8458312616312953,
          2.2842126160354086,
          3.4118649258606464,
          2.4880255700602874,
          1.89668709097522,
          3.1199461244383206,
          0.8914861685189321,
          2.3012887920140135,
          1.3066525779301121,
          1.6549827083659936
         ],
         "yaxis": "y2",
         "type": "violin"
        },
        {
         "box": {
          "visible": true
         },
         "fillcolor": "#B68100",
         "legendgroup": "remodnav",
         "line": {
          "color": "black"
         },
         "meanline": {
          "visible": true
         },
         "name": "RA, remodnav",
         "opacity": 0.75,
         "scalegroup": "d_prime",
         "showlegend": false,
         "side": "positive",
         "spanmode": "hard",
         "width": 0.8,
         "x0": "remodnav",
         "xaxis": "x2",
         "y": [
          0.8142108016767855,
          1.787953229338177,
          1.4300413109147279,
          0.9383743787664228,
          0.682387679805244,
          0.27637130110595853,
          1.0209114415553109,
          0.6026699309392405,
          2.310290548816525,
          1.5171735091103717,
          0.5694055698527669,
          1.0205652523800457,
          1.9366756381069257,
          0.9940557560437275,
          0.9698676599585254,
          -0.027352965279486607,
          0.6869273176728163,
          0.6274120294917354,
          0.8522467751392044,
          1.710613036472672
         ],
         "yaxis": "y2",
         "type": "violin"
        },
        {
         "box": {
          "visible": true
         },
         "fillcolor": "#bab0ac",
         "legendgroup": "Other GT",
         "line": {
          "color": "black"
         },
         "meanline": {
          "visible": true
         },
         "name": "MN, Other GT",
         "opacity": 0.25,
         "scalegroup": "d_prime",
         "showlegend": false,
         "side": "negative",
         "spanmode": "hard",
         "width": 0.8,
         "x0": "Other GT",
         "xaxis": "x2",
         "y": [
          3.797080853873922,
          3.5817824584180404,
          3.416975978003244,
          2.8491321028805436,
          4.682849945470158,
          4.096557789647024,
          3.7692531423086395,
          4.4293864794189135,
          3.837528380969118,
          4.65932272109791,
          4.1663732265042235,
          2.9591998518190055,
          4.682849945470158,
          5.091656382773711
         ],
         "yaxis": "y2",
         "type": "violin"
        },
        {
         "box": {
          "visible": true
         },
         "fillcolor": "#2E91E5",
         "legendgroup": "ivt",
         "line": {
          "color": "black"
         },
         "meanline": {
          "visible": true
         },
         "name": "MN, ivt",
         "opacity": 0.25,
         "scalegroup": "d_prime",
         "showlegend": false,
         "side": "negative",
         "spanmode": "hard",
         "width": 0.8,
         "x0": "ivt",
         "xaxis": "x2",
         "y": [
          3.903935106848807,
          2.8429557363954228,
          1.1649651985975085,
          1.4408263824612089,
          2.3242430129770995,
          1.864674936814809,
          3.795636089837185,
          3.544882681803113,
          2.044192329424298,
          0.7755912931168392,
          0.8796884254254138,
          0.7112196064122493,
          2.14904454815353,
          1.5172860424548253
         ],
         "yaxis": "y2",
         "type": "violin"
        },
        {
         "box": {
          "visible": true
         },
         "fillcolor": "#E15F99",
         "legendgroup": "ivvt",
         "line": {
          "color": "black"
         },
         "meanline": {
          "visible": true
         },
         "name": "MN, ivvt",
         "opacity": 0.25,
         "scalegroup": "d_prime",
         "showlegend": false,
         "side": "negative",
         "spanmode": "hard",
         "width": 0.8,
         "x0": "ivvt",
         "xaxis": "x2",
         "y": [
          3.903935106848807,
          2.8429557363954228,
          1.1946965232883389,
          1.6017777850876114,
          2.6800405069696662,
          1.9035935094338454,
          3.60936632277839,
          3.4853126664359264,
          2.1632053485206386,
          1.0775834882969986,
          0.9897675141982012,
          0.5315549235760968,
          2.1353055066619526,
          1.9558463295376964
         ],
         "yaxis": "y2",
         "type": "violin"
        },
        {
         "box": {
          "visible": true
         },
         "fillcolor": "#1CA71C",
         "legendgroup": "idt",
         "line": {
          "color": "black"
         },
         "meanline": {
          "visible": true
         },
         "name": "MN, idt",
         "opacity": 0.25,
         "scalegroup": "d_prime",
         "showlegend": false,
         "side": "negative",
         "spanmode": "hard",
         "width": 0.8,
         "x0": "idt",
         "xaxis": "x2",
         "y": [
          0.012485333824656664,
          -0.2304693371463089,
          1.4046246416490673,
          1.443891025326622,
          0.5857169110482956,
          0.9383743787664228,
          -0.19268152970156738,
          -0.027450405739186223,
          1.68877679427036,
          1.0786483796547839,
          0.9332144094921843,
          1.1408022131414386,
          0.3765226925956342,
          1.7073115964230758
         ],
         "yaxis": "y2",
         "type": "violin"
        },
        {
         "box": {
          "visible": true
         },
         "fillcolor": "#FB0D0D",
         "legendgroup": "idvt",
         "line": {
          "color": "black"
         },
         "meanline": {
          "visible": true
         },
         "name": "MN, idvt",
         "opacity": 0.25,
         "scalegroup": "d_prime",
         "showlegend": false,
         "side": "negative",
         "spanmode": "hard",
         "width": 0.8,
         "x0": "idvt",
         "xaxis": "x2",
         "y": [
          0.012485333824656664,
          -0.2304693371463089,
          1.3559910356072824,
          1.408645300854484,
          0.5857169110482956,
          1.0641747112952098,
          -0.21620277187436843,
          -0.027450405739186223,
          1.68877679427036,
          1.1836359473263403,
          0.8872627675914652,
          1.2438370577803366,
          0.3765226925956342,
          1.7073115964230758
         ],
         "yaxis": "y2",
         "type": "violin"
        },
        {
         "box": {
          "visible": true
         },
         "fillcolor": "#DA16FF",
         "legendgroup": "engbert",
         "line": {
          "color": "black"
         },
         "meanline": {
          "visible": true
         },
         "name": "MN, engbert",
         "opacity": 0.25,
         "scalegroup": "d_prime",
         "showlegend": false,
         "side": "negative",
         "spanmode": "hard",
         "width": 0.8,
         "x0": "engbert",
         "xaxis": "x2",
         "y": [
          1.6046791918628458,
          2.397867886005459,
          1.4896176962096217,
          1.5939319193424784,
          0.656588001241802,
          1.1736527157689405,
          2.496498660578116,
          1.975647985796717,
          1.205578062704926,
          0.36739116744213296,
          0.40172225766777714,
          0.8959710927521438,
          1.702297456567238,
          0.9891047376702009
         ],
         "yaxis": "y2",
         "type": "violin"
        },
        {
         "box": {
          "visible": true
         },
         "fillcolor": "#222A2A",
         "legendgroup": "nh",
         "line": {
          "color": "black"
         },
         "meanline": {
          "visible": true
         },
         "name": "MN, nh",
         "opacity": 0.25,
         "scalegroup": "d_prime",
         "showlegend": false,
         "side": "negative",
         "spanmode": "hard",
         "width": 0.8,
         "x0": "nh",
         "xaxis": "x2",
         "y": [
          2.2815900460520613,
          2.2141513894908393,
          1.7278403360192967,
          1.6633836129827584,
          1.8043142731147126,
          2.1591430480039238,
          3.200699666366021,
          2.1591430480039238,
          1.4245209204529439,
          2.8837502482218706,
          0.44805264675819245,
          2.143840023052158,
          1.2897016527732554,
          1.2517256111298118
         ],
         "yaxis": "y2",
         "type": "violin"
        },
        {
         "box": {
          "visible": true
         },
         "fillcolor": "#B68100",
         "legendgroup": "remodnav",
         "line": {
          "color": "black"
         },
         "meanline": {
          "visible": true
         },
         "name": "MN, remodnav",
         "opacity": 0.25,
         "scalegroup": "d_prime",
         "showlegend": false,
         "side": "negative",
         "spanmode": "hard",
         "width": 0.8,
         "x0": "remodnav",
         "xaxis": "x2",
         "y": [
          1.0123577520437061,
          1.8870194739233654,
          -0.8578922679770136,
          0.5086580169211947,
          0.5504984172475571,
          1.0205652523800457,
          2.076355322529873,
          0.8327461723108276,
          0.8259431078843027,
          -0.027352965279486607,
          0.6638362258360044,
          -0.7052113991366542,
          0.8318699121565682,
          1.710613036472672
         ],
         "yaxis": "y2",
         "type": "violin"
        }
       ],
       "layout": {
        "template": {
         "data": {
          "histogram2dcontour": [
           {
            "type": "histogram2dcontour",
            "colorbar": {
             "outlinewidth": 0,
             "ticks": ""
            },
            "colorscale": [
             [
              0.0,
              "#0d0887"
             ],
             [
              0.1111111111111111,
              "#46039f"
             ],
             [
              0.2222222222222222,
              "#7201a8"
             ],
             [
              0.3333333333333333,
              "#9c179e"
             ],
             [
              0.4444444444444444,
              "#bd3786"
             ],
             [
              0.5555555555555556,
              "#d8576b"
             ],
             [
              0.6666666666666666,
              "#ed7953"
             ],
             [
              0.7777777777777778,
              "#fb9f3a"
             ],
             [
              0.8888888888888888,
              "#fdca26"
             ],
             [
              1.0,
              "#f0f921"
             ]
            ]
           }
          ],
          "choropleth": [
           {
            "type": "choropleth",
            "colorbar": {
             "outlinewidth": 0,
             "ticks": ""
            }
           }
          ],
          "histogram2d": [
           {
            "type": "histogram2d",
            "colorbar": {
             "outlinewidth": 0,
             "ticks": ""
            },
            "colorscale": [
             [
              0.0,
              "#0d0887"
             ],
             [
              0.1111111111111111,
              "#46039f"
             ],
             [
              0.2222222222222222,
              "#7201a8"
             ],
             [
              0.3333333333333333,
              "#9c179e"
             ],
             [
              0.4444444444444444,
              "#bd3786"
             ],
             [
              0.5555555555555556,
              "#d8576b"
             ],
             [
              0.6666666666666666,
              "#ed7953"
             ],
             [
              0.7777777777777778,
              "#fb9f3a"
             ],
             [
              0.8888888888888888,
              "#fdca26"
             ],
             [
              1.0,
              "#f0f921"
             ]
            ]
           }
          ],
          "heatmap": [
           {
            "type": "heatmap",
            "colorbar": {
             "outlinewidth": 0,
             "ticks": ""
            },
            "colorscale": [
             [
              0.0,
              "#0d0887"
             ],
             [
              0.1111111111111111,
              "#46039f"
             ],
             [
              0.2222222222222222,
              "#7201a8"
             ],
             [
              0.3333333333333333,
              "#9c179e"
             ],
             [
              0.4444444444444444,
              "#bd3786"
             ],
             [
              0.5555555555555556,
              "#d8576b"
             ],
             [
              0.6666666666666666,
              "#ed7953"
             ],
             [
              0.7777777777777778,
              "#fb9f3a"
             ],
             [
              0.8888888888888888,
              "#fdca26"
             ],
             [
              1.0,
              "#f0f921"
             ]
            ]
           }
          ],
          "heatmapgl": [
           {
            "type": "heatmapgl",
            "colorbar": {
             "outlinewidth": 0,
             "ticks": ""
            },
            "colorscale": [
             [
              0.0,
              "#0d0887"
             ],
             [
              0.1111111111111111,
              "#46039f"
             ],
             [
              0.2222222222222222,
              "#7201a8"
             ],
             [
              0.3333333333333333,
              "#9c179e"
             ],
             [
              0.4444444444444444,
              "#bd3786"
             ],
             [
              0.5555555555555556,
              "#d8576b"
             ],
             [
              0.6666666666666666,
              "#ed7953"
             ],
             [
              0.7777777777777778,
              "#fb9f3a"
             ],
             [
              0.8888888888888888,
              "#fdca26"
             ],
             [
              1.0,
              "#f0f921"
             ]
            ]
           }
          ],
          "contourcarpet": [
           {
            "type": "contourcarpet",
            "colorbar": {
             "outlinewidth": 0,
             "ticks": ""
            }
           }
          ],
          "contour": [
           {
            "type": "contour",
            "colorbar": {
             "outlinewidth": 0,
             "ticks": ""
            },
            "colorscale": [
             [
              0.0,
              "#0d0887"
             ],
             [
              0.1111111111111111,
              "#46039f"
             ],
             [
              0.2222222222222222,
              "#7201a8"
             ],
             [
              0.3333333333333333,
              "#9c179e"
             ],
             [
              0.4444444444444444,
              "#bd3786"
             ],
             [
              0.5555555555555556,
              "#d8576b"
             ],
             [
              0.6666666666666666,
              "#ed7953"
             ],
             [
              0.7777777777777778,
              "#fb9f3a"
             ],
             [
              0.8888888888888888,
              "#fdca26"
             ],
             [
              1.0,
              "#f0f921"
             ]
            ]
           }
          ],
          "surface": [
           {
            "type": "surface",
            "colorbar": {
             "outlinewidth": 0,
             "ticks": ""
            },
            "colorscale": [
             [
              0.0,
              "#0d0887"
             ],
             [
              0.1111111111111111,
              "#46039f"
             ],
             [
              0.2222222222222222,
              "#7201a8"
             ],
             [
              0.3333333333333333,
              "#9c179e"
             ],
             [
              0.4444444444444444,
              "#bd3786"
             ],
             [
              0.5555555555555556,
              "#d8576b"
             ],
             [
              0.6666666666666666,
              "#ed7953"
             ],
             [
              0.7777777777777778,
              "#fb9f3a"
             ],
             [
              0.8888888888888888,
              "#fdca26"
             ],
             [
              1.0,
              "#f0f921"
             ]
            ]
           }
          ],
          "mesh3d": [
           {
            "type": "mesh3d",
            "colorbar": {
             "outlinewidth": 0,
             "ticks": ""
            }
           }
          ],
          "scatter": [
           {
            "fillpattern": {
             "fillmode": "overlay",
             "size": 10,
             "solidity": 0.2
            },
            "type": "scatter"
           }
          ],
          "parcoords": [
           {
            "type": "parcoords",
            "line": {
             "colorbar": {
              "outlinewidth": 0,
              "ticks": ""
             }
            }
           }
          ],
          "scatterpolargl": [
           {
            "type": "scatterpolargl",
            "marker": {
             "colorbar": {
              "outlinewidth": 0,
              "ticks": ""
             }
            }
           }
          ],
          "bar": [
           {
            "error_x": {
             "color": "#2a3f5f"
            },
            "error_y": {
             "color": "#2a3f5f"
            },
            "marker": {
             "line": {
              "color": "#E5ECF6",
              "width": 0.5
             },
             "pattern": {
              "fillmode": "overlay",
              "size": 10,
              "solidity": 0.2
             }
            },
            "type": "bar"
           }
          ],
          "scattergeo": [
           {
            "type": "scattergeo",
            "marker": {
             "colorbar": {
              "outlinewidth": 0,
              "ticks": ""
             }
            }
           }
          ],
          "scatterpolar": [
           {
            "type": "scatterpolar",
            "marker": {
             "colorbar": {
              "outlinewidth": 0,
              "ticks": ""
             }
            }
           }
          ],
          "histogram": [
           {
            "marker": {
             "pattern": {
              "fillmode": "overlay",
              "size": 10,
              "solidity": 0.2
             }
            },
            "type": "histogram"
           }
          ],
          "scattergl": [
           {
            "type": "scattergl",
            "marker": {
             "colorbar": {
              "outlinewidth": 0,
              "ticks": ""
             }
            }
           }
          ],
          "scatter3d": [
           {
            "type": "scatter3d",
            "line": {
             "colorbar": {
              "outlinewidth": 0,
              "ticks": ""
             }
            },
            "marker": {
             "colorbar": {
              "outlinewidth": 0,
              "ticks": ""
             }
            }
           }
          ],
          "scattermapbox": [
           {
            "type": "scattermapbox",
            "marker": {
             "colorbar": {
              "outlinewidth": 0,
              "ticks": ""
             }
            }
           }
          ],
          "scatterternary": [
           {
            "type": "scatterternary",
            "marker": {
             "colorbar": {
              "outlinewidth": 0,
              "ticks": ""
             }
            }
           }
          ],
          "scattercarpet": [
           {
            "type": "scattercarpet",
            "marker": {
             "colorbar": {
              "outlinewidth": 0,
              "ticks": ""
             }
            }
           }
          ],
          "carpet": [
           {
            "aaxis": {
             "endlinecolor": "#2a3f5f",
             "gridcolor": "white",
             "linecolor": "white",
             "minorgridcolor": "white",
             "startlinecolor": "#2a3f5f"
            },
            "baxis": {
             "endlinecolor": "#2a3f5f",
             "gridcolor": "white",
             "linecolor": "white",
             "minorgridcolor": "white",
             "startlinecolor": "#2a3f5f"
            },
            "type": "carpet"
           }
          ],
          "table": [
           {
            "cells": {
             "fill": {
              "color": "#EBF0F8"
             },
             "line": {
              "color": "white"
             }
            },
            "header": {
             "fill": {
              "color": "#C8D4E3"
             },
             "line": {
              "color": "white"
             }
            },
            "type": "table"
           }
          ],
          "barpolar": [
           {
            "marker": {
             "line": {
              "color": "#E5ECF6",
              "width": 0.5
             },
             "pattern": {
              "fillmode": "overlay",
              "size": 10,
              "solidity": 0.2
             }
            },
            "type": "barpolar"
           }
          ],
          "pie": [
           {
            "automargin": true,
            "type": "pie"
           }
          ]
         },
         "layout": {
          "autotypenumbers": "strict",
          "colorway": [
           "#636efa",
           "#EF553B",
           "#00cc96",
           "#ab63fa",
           "#FFA15A",
           "#19d3f3",
           "#FF6692",
           "#B6E880",
           "#FF97FF",
           "#FECB52"
          ],
          "font": {
           "color": "#2a3f5f"
          },
          "hovermode": "closest",
          "hoverlabel": {
           "align": "left"
          },
          "paper_bgcolor": "white",
          "plot_bgcolor": "#E5ECF6",
          "polar": {
           "bgcolor": "#E5ECF6",
           "angularaxis": {
            "gridcolor": "white",
            "linecolor": "white",
            "ticks": ""
           },
           "radialaxis": {
            "gridcolor": "white",
            "linecolor": "white",
            "ticks": ""
           }
          },
          "ternary": {
           "bgcolor": "#E5ECF6",
           "aaxis": {
            "gridcolor": "white",
            "linecolor": "white",
            "ticks": ""
           },
           "baxis": {
            "gridcolor": "white",
            "linecolor": "white",
            "ticks": ""
           },
           "caxis": {
            "gridcolor": "white",
            "linecolor": "white",
            "ticks": ""
           }
          },
          "coloraxis": {
           "colorbar": {
            "outlinewidth": 0,
            "ticks": ""
           }
          },
          "colorscale": {
           "sequential": [
            [
             0.0,
             "#0d0887"
            ],
            [
             0.1111111111111111,
             "#46039f"
            ],
            [
             0.2222222222222222,
             "#7201a8"
            ],
            [
             0.3333333333333333,
             "#9c179e"
            ],
            [
             0.4444444444444444,
             "#bd3786"
            ],
            [
             0.5555555555555556,
             "#d8576b"
            ],
            [
             0.6666666666666666,
             "#ed7953"
            ],
            [
             0.7777777777777778,
             "#fb9f3a"
            ],
            [
             0.8888888888888888,
             "#fdca26"
            ],
            [
             1.0,
             "#f0f921"
            ]
           ],
           "sequentialminus": [
            [
             0.0,
             "#0d0887"
            ],
            [
             0.1111111111111111,
             "#46039f"
            ],
            [
             0.2222222222222222,
             "#7201a8"
            ],
            [
             0.3333333333333333,
             "#9c179e"
            ],
            [
             0.4444444444444444,
             "#bd3786"
            ],
            [
             0.5555555555555556,
             "#d8576b"
            ],
            [
             0.6666666666666666,
             "#ed7953"
            ],
            [
             0.7777777777777778,
             "#fb9f3a"
            ],
            [
             0.8888888888888888,
             "#fdca26"
            ],
            [
             1.0,
             "#f0f921"
            ]
           ],
           "diverging": [
            [
             0,
             "#8e0152"
            ],
            [
             0.1,
             "#c51b7d"
            ],
            [
             0.2,
             "#de77ae"
            ],
            [
             0.3,
             "#f1b6da"
            ],
            [
             0.4,
             "#fde0ef"
            ],
            [
             0.5,
             "#f7f7f7"
            ],
            [
             0.6,
             "#e6f5d0"
            ],
            [
             0.7,
             "#b8e186"
            ],
            [
             0.8,
             "#7fbc41"
            ],
            [
             0.9,
             "#4d9221"
            ],
            [
             1,
             "#276419"
            ]
           ]
          },
          "xaxis": {
           "gridcolor": "white",
           "linecolor": "white",
           "ticks": "",
           "title": {
            "standoff": 15
           },
           "zerolinecolor": "white",
           "automargin": true,
           "zerolinewidth": 2
          },
          "yaxis": {
           "gridcolor": "white",
           "linecolor": "white",
           "ticks": "",
           "title": {
            "standoff": 15
           },
           "zerolinecolor": "white",
           "automargin": true,
           "zerolinewidth": 2
          },
          "scene": {
           "xaxis": {
            "backgroundcolor": "#E5ECF6",
            "gridcolor": "white",
            "linecolor": "white",
            "showbackground": true,
            "ticks": "",
            "zerolinecolor": "white",
            "gridwidth": 2
           },
           "yaxis": {
            "backgroundcolor": "#E5ECF6",
            "gridcolor": "white",
            "linecolor": "white",
            "showbackground": true,
            "ticks": "",
            "zerolinecolor": "white",
            "gridwidth": 2
           },
           "zaxis": {
            "backgroundcolor": "#E5ECF6",
            "gridcolor": "white",
            "linecolor": "white",
            "showbackground": true,
            "ticks": "",
            "zerolinecolor": "white",
            "gridwidth": 2
           }
          },
          "shapedefaults": {
           "line": {
            "color": "#2a3f5f"
           }
          },
          "annotationdefaults": {
           "arrowcolor": "#2a3f5f",
           "arrowhead": 0,
           "arrowwidth": 1
          },
          "geo": {
           "bgcolor": "white",
           "landcolor": "#E5ECF6",
           "subunitcolor": "white",
           "showland": true,
           "showlakes": true,
           "lakecolor": "white"
          },
          "title": {
           "x": 0.05
          },
          "mapbox": {
           "style": "light"
          }
         }
        },
        "xaxis": {
         "anchor": "y",
         "domain": [
          0.0,
          1.0
         ],
         "matches": "x2",
         "showticklabels": false
        },
        "yaxis": {
         "anchor": "x",
         "domain": [
          0.55,
          1.0
         ],
         "tickfont": {
          "size": 14
         },
         "showgrid": false,
         "zeroline": false,
         "showline": false
        },
        "xaxis2": {
         "anchor": "y2",
         "domain": [
          0.0,
          1.0
         ],
         "tickfont": {
          "size": 14
         },
         "showgrid": false,
         "tickangle": 0
        },
        "yaxis2": {
         "anchor": "x2",
         "domain": [
          0.0,
          0.45
         ],
         "tickfont": {
          "size": 14
         },
         "showgrid": false,
         "zeroline": false,
         "showline": false
        },
        "annotations": [
         {
          "font": {
           "size": 16
          },
          "showarrow": false,
          "text": "Saccade Onset",
          "x": 0.5,
          "xanchor": "center",
          "xref": "paper",
          "y": 1.0,
          "yanchor": "bottom",
          "yref": "paper"
         },
         {
          "font": {
           "size": 16
          },
          "showarrow": false,
          "text": "Saccade Offset",
          "x": 0.5,
          "xanchor": "center",
          "xref": "paper",
          "y": 0.45,
          "yanchor": "bottom",
          "yref": "paper"
         }
        ],
        "margin": {
         "l": 10,
         "r": 10,
         "b": 10,
         "t": 20,
         "pad": 0
        },
        "title": {},
        "width": 600,
        "height": 450,
        "paper_bgcolor": "rgba(0, 0, 0, 0)",
        "plot_bgcolor": "rgba(0, 0, 0, 0)"
       },
       "config": {
        "plotlyServerURL": "https://plot.ly"
       }
      },
      "text/html": [
       "<div>                            <div id=\"b14e7b05-6a3a-4c60-acf3-5b6c63ccbefd\" class=\"plotly-graph-div\" style=\"height:450px; width:600px;\"></div>            <script type=\"text/javascript\">                require([\"plotly\"], function(Plotly) {                    window.PLOTLYENV=window.PLOTLYENV || {};                                    if (document.getElementById(\"b14e7b05-6a3a-4c60-acf3-5b6c63ccbefd\")) {                    Plotly.newPlot(                        \"b14e7b05-6a3a-4c60-acf3-5b6c63ccbefd\",                        [{\"box\":{\"visible\":true},\"fillcolor\":\"#bab0ac\",\"legendgroup\":\"Other GT\",\"line\":{\"color\":\"black\"},\"meanline\":{\"visible\":true},\"name\":\"RA, Other GT\",\"opacity\":0.75,\"scalegroup\":\"d_prime\",\"showlegend\":false,\"side\":\"positive\",\"spanmode\":\"hard\",\"width\":0.8,\"x0\":\"Other GT\",\"xaxis\":\"x\",\"y\":[5.459187550419509,3.909244963156813,4.629591693091486,5.455990592890831,4.443255522619719,5.697198192494998,5.697198192495014,4.669486053339465,3.9778153925912196,5.697325201555923,5.46055068919749,4.106184045600919,5.456697951706454,5.091656382773711],\"yaxis\":\"y\",\"type\":\"violin\"},{\"box\":{\"visible\":true},\"fillcolor\":\"#2E91E5\",\"legendgroup\":\"ivt\",\"line\":{\"color\":\"black\"},\"meanline\":{\"visible\":true},\"name\":\"RA, ivt\",\"opacity\":0.75,\"scalegroup\":\"d_prime\",\"showlegend\":false,\"side\":\"positive\",\"spanmode\":\"hard\",\"width\":0.8,\"x0\":\"ivt\",\"xaxis\":\"x\",\"y\":[4.935210117945616,3.027812456059501,4.983192405588715,5.0472493145762085,2.9298959092282577,3.0508759258365847,4.4752621512270805,4.992198654506082,4.312099189420545,2.8592051942026666,3.648316355744651,4.985511457908569,5.202749190303056,3.646923271358781,3.105093781687821,4.501241571988883,4.424817633810667,2.6083850889986855,4.930129828954507,2.891430690177534],\"yaxis\":\"y\",\"type\":\"violin\"},{\"box\":{\"visible\":true},\"fillcolor\":\"#E15F99\",\"legendgroup\":\"ivvt\",\"line\":{\"color\":\"black\"},\"meanline\":{\"visible\":true},\"name\":\"RA, ivvt\",\"opacity\":0.75,\"scalegroup\":\"d_prime\",\"showlegend\":false,\"side\":\"positive\",\"spanmode\":\"hard\",\"width\":0.8,\"x0\":\"ivvt\",\"xaxis\":\"x\",\"y\":[4.935210117945616,3.027812456059501,4.793963005522437,4.796603895400534,2.7833173188314073,2.93257512158007,4.107777433285677,4.367119696372443,4.803546889825931,2.992385296538358,3.596492324322004,4.659064417763066,4.983868524643366,3.5454601905514496,2.8999416356744963,4.20927069479959,4.219960354617328,2.4008722473674293,4.7224382754870255,3.633177456566014],\"yaxis\":\"y\",\"type\":\"violin\"},{\"box\":{\"visible\":true},\"fillcolor\":\"#1CA71C\",\"legendgroup\":\"idt\",\"line\":{\"color\":\"black\"},\"meanline\":{\"visible\":true},\"name\":\"RA, idt\",\"opacity\":0.75,\"scalegroup\":\"d_prime\",\"showlegend\":false,\"side\":\"positive\",\"spanmode\":\"hard\",\"width\":0.8,\"x0\":\"idt\",\"xaxis\":\"x\",\"y\":[3.1875568290930625,1.787953229338177,2.6094427534986746,2.6814492707351136,2.6395135206515428,2.2746278798292336,2.5361336419702476,1.83645289326642,2.310290548816525,2.067786735744974,2.808336266956156,2.595471843602999,2.424299027839395,2.248550883443325,1.6385111426454706,2.1314230756601105,1.301232293540237,1.6834816993378174,2.0899466875847263,1.7073115964230758],\"yaxis\":\"y\",\"type\":\"violin\"},{\"box\":{\"visible\":true},\"fillcolor\":\"#FB0D0D\",\"legendgroup\":\"idvt\",\"line\":{\"color\":\"black\"},\"meanline\":{\"visible\":true},\"name\":\"RA, idvt\",\"opacity\":0.75,\"scalegroup\":\"d_prime\",\"showlegend\":false,\"side\":\"positive\",\"spanmode\":\"hard\",\"width\":0.8,\"x0\":\"idvt\",\"xaxis\":\"x\",\"y\":[3.1875568290930625,1.787953229338177,2.7758089351195308,2.6814492707351136,2.814080709426124,2.364997898546176,2.799220639071396,2.140775935854541,2.4630905142450756,2.067786735744974,2.808336266956156,2.99323331680582,2.339927958217751,2.248550883443325,1.6385111426454706,2.360548797936101,1.5519472230429894,1.63757650709297,2.0899466875847263,1.7073115964230758],\"yaxis\":\"y\",\"type\":\"violin\"},{\"box\":{\"visible\":true},\"fillcolor\":\"#DA16FF\",\"legendgroup\":\"engbert\",\"line\":{\"color\":\"black\"},\"meanline\":{\"visible\":true},\"name\":\"RA, engbert\",\"opacity\":0.75,\"scalegroup\":\"d_prime\",\"showlegend\":false,\"side\":\"positive\",\"spanmode\":\"hard\",\"width\":0.8,\"x0\":\"engbert\",\"xaxis\":\"x\",\"y\":[4.989576400060516,4.901607521707367,4.983192405588715,4.882022601074331,5.20475967978861,4.631549353670097,3.3422720579072887,4.889240213988629,4.803546889825931,3.6417743492215378,3.501153542978641,5.2040916260010235,4.756823894517892,5.046467880803274,3.4673186773217353,3.396921059460248,3.2416119182383576,3.0449205178680936,4.881141236650121,4.326659463989936],\"yaxis\":\"y\",\"type\":\"violin\"},{\"box\":{\"visible\":true},\"fillcolor\":\"#222A2A\",\"legendgroup\":\"nh\",\"line\":{\"color\":\"black\"},\"meanline\":{\"visible\":true},\"name\":\"RA, nh\",\"opacity\":0.75,\"scalegroup\":\"d_prime\",\"showlegend\":false,\"side\":\"positive\",\"spanmode\":\"hard\",\"width\":0.8,\"x0\":\"nh\",\"xaxis\":\"x\",\"y\":[1.7926947585150583,2.033266344834221,1.001546535225833,1.77699590433968,1.4556523663667582,1.7278403360192967,0.9255093218626931,2.1727831216833784,3.339283778489517,4.0454035765309975,1.7354692377567866,1.693344170432551,1.9616249577248832,1.7649502445000027,3.1462748618467935,2.2150748095672395,0.47121060532399905,2.3012887920140135,0.7460629456169006,2.660012809855202],\"yaxis\":\"y\",\"type\":\"violin\"},{\"box\":{\"visible\":true},\"fillcolor\":\"#B68100\",\"legendgroup\":\"remodnav\",\"line\":{\"color\":\"black\"},\"meanline\":{\"visible\":true},\"name\":\"RA, remodnav\",\"opacity\":0.75,\"scalegroup\":\"d_prime\",\"showlegend\":false,\"side\":\"positive\",\"spanmode\":\"hard\",\"width\":0.8,\"x0\":\"remodnav\",\"xaxis\":\"x\",\"y\":[2.8985322608805797,1.787953229338177,2.6320779854648126,3.0157489217598763,2.8055578601907687,2.387078899775238,2.21854464502775,2.2851645065463746,2.4630905142450756,1.9536791047240807,2.4730718513678265,2.394612012722257,1.9366756381069257,2.808336266956156,2.3679712395452093,2.9319462228395294,1.9557932954870083,2.158319299406476,2.6210375059919047,2.6840055998741437],\"yaxis\":\"y\",\"type\":\"violin\"},{\"box\":{\"visible\":true},\"fillcolor\":\"#bab0ac\",\"legendgroup\":\"Other GT\",\"line\":{\"color\":\"black\"},\"meanline\":{\"visible\":true},\"name\":\"MN, Other GT\",\"opacity\":0.25,\"scalegroup\":\"d_prime\",\"showlegend\":false,\"side\":\"negative\",\"spanmode\":\"hard\",\"width\":0.8,\"x0\":\"Other GT\",\"xaxis\":\"x\",\"y\":[4.593647127748606,5.466728855348689,4.629591693091486,4.708167430624197,4.3579427414783485,5.697198192494998,5.697198192495014,5.457116652251863,4.63919081626589,5.697325201555923,4.5185562688186645,3.9281338566234476,4.682849945470158,5.091656382773711],\"yaxis\":\"y\",\"type\":\"violin\"},{\"box\":{\"visible\":true},\"fillcolor\":\"#2E91E5\",\"legendgroup\":\"ivt\",\"line\":{\"color\":\"black\"},\"meanline\":{\"visible\":true},\"name\":\"MN, ivt\",\"opacity\":0.25,\"scalegroup\":\"d_prime\",\"showlegend\":false,\"side\":\"negative\",\"spanmode\":\"hard\",\"width\":0.8,\"x0\":\"ivt\",\"xaxis\":\"x\",\"y\":[4.988768206332356,3.2773144223208646,3.0508759258365847,3.533838571914921,3.7248300414689854,4.985511457908569,5.202749190303056,3.8487366569051202,3.272707589200251,4.501241571988883,4.444039234857245,2.687887607987858,4.983868524643366,2.891430690177534],\"yaxis\":\"y\",\"type\":\"violin\"},{\"box\":{\"visible\":true},\"fillcolor\":\"#E15F99\",\"legendgroup\":\"ivvt\",\"line\":{\"color\":\"black\"},\"meanline\":{\"visible\":true},\"name\":\"MN, ivvt\",\"opacity\":0.25,\"scalegroup\":\"d_prime\",\"showlegend\":false,\"side\":\"negative\",\"spanmode\":\"hard\",\"width\":0.8,\"x0\":\"ivvt\",\"xaxis\":\"x\",\"y\":[4.988768206332356,3.2773144223208646,2.93257512158007,4.119664406019537,3.637552407367872,4.659064417763066,4.983868524643366,3.8624315975768466,3.0998983174169052,4.20927069479959,4.233675602189977,2.8402036775137964,4.756823894517892,3.633177456566014],\"yaxis\":\"y\",\"type\":\"violin\"},{\"box\":{\"visible\":true},\"fillcolor\":\"#1CA71C\",\"legendgroup\":\"idt\",\"line\":{\"color\":\"black\"},\"meanline\":{\"visible\":true},\"name\":\"MN, idt\",\"opacity\":0.25,\"scalegroup\":\"d_prime\",\"showlegend\":false,\"side\":\"negative\",\"spanmode\":\"hard\",\"width\":0.8,\"x0\":\"idt\",\"xaxis\":\"x\",\"y\":[2.7927292939909236,1.8870194739233654,2.2746278798292336,2.4921810028188527,2.1326028810407274,2.009984013122713,2.2615155454846385,2.8253393120177144,1.68877679427036,2.1314230756601105,1.2580869984359002,1.84525863115012,2.190709497116439,1.7073115964230758],\"yaxis\":\"y\",\"type\":\"violin\"},{\"box\":{\"visible\":true},\"fillcolor\":\"#FB0D0D\",\"legendgroup\":\"idvt\",\"line\":{\"color\":\"black\"},\"meanline\":{\"visible\":true},\"name\":\"MN, idvt\",\"opacity\":0.25,\"scalegroup\":\"d_prime\",\"showlegend\":false,\"side\":\"negative\",\"spanmode\":\"hard\",\"width\":0.8,\"x0\":\"idvt\",\"xaxis\":\"x\",\"y\":[2.7927292939909236,1.8870194739233654,2.364997898546176,2.7489146501141564,2.1326028810407274,2.2639989769539666,2.190709497116439,2.8253393120177144,1.68877679427036,2.360548797936101,1.5009920018489356,1.7954595797596142,2.190709497116439,1.7073115964230758],\"yaxis\":\"y\",\"type\":\"violin\"},{\"box\":{\"visible\":true},\"fillcolor\":\"#DA16FF\",\"legendgroup\":\"engbert\",\"line\":{\"color\":\"black\"},\"meanline\":{\"visible\":true},\"name\":\"MN, engbert\",\"opacity\":0.25,\"scalegroup\":\"d_prime\",\"showlegend\":false,\"side\":\"negative\",\"spanmode\":\"hard\",\"width\":0.8,\"x0\":\"engbert\",\"xaxis\":\"x\",\"y\":[5.050351704176499,4.858495831087648,3.5819022301875165,3.0293930129785402,3.560662946760054,5.2040916260010235,4.756823894517892,4.985511457908569,3.9992995826467257,3.396921059460248,3.283005481665862,4.280838617551851,4.929274351876277,4.326659463989936],\"yaxis\":\"y\",\"type\":\"violin\"},{\"box\":{\"visible\":true},\"fillcolor\":\"#222A2A\",\"legendgroup\":\"nh\",\"line\":{\"color\":\"black\"},\"meanline\":{\"visible\":true},\"name\":\"MN, nh\",\"opacity\":0.25,\"scalegroup\":\"d_prime\",\"showlegend\":false,\"side\":\"negative\",\"spanmode\":\"hard\",\"width\":0.8,\"x0\":\"nh\",\"xaxis\":\"x\",\"y\":[2.0064568243884704,1.7226620203325396,1.8559027945369224,1.1573624603371955,2.0258199991612647,2.0384997883341103,1.9616249577248832,1.581100491300537,3.428854246434944,2.077273246460014,0.44805264675819245,1.7007605154547154,0.7311126229132512,2.660012809855202],\"yaxis\":\"y\",\"type\":\"violin\"},{\"box\":{\"visible\":true},\"fillcolor\":\"#B68100\",\"legendgroup\":\"remodnav\",\"line\":{\"color\":\"black\"},\"meanline\":{\"visible\":true},\"name\":\"MN, remodnav\",\"opacity\":0.25,\"scalegroup\":\"d_prime\",\"showlegend\":false,\"side\":\"negative\",\"spanmode\":\"hard\",\"width\":0.8,\"x0\":\"remodnav\",\"xaxis\":\"x\",\"y\":[2.848599096247495,1.8870194739233654,2.2608997804194324,2.193462453056782,2.7454097843926895,2.5094591735383354,1.9366756381069257,2.848599096247495,2.4504978914561244,2.9319462228395294,1.9227376218479018,2.247014302559641,2.691984885490992,2.6840055998741437],\"yaxis\":\"y\",\"type\":\"violin\"},{\"box\":{\"visible\":true},\"fillcolor\":\"#bab0ac\",\"legendgroup\":\"Other GT\",\"line\":{\"color\":\"black\"},\"meanline\":{\"visible\":true},\"name\":\"RA, Other GT\",\"opacity\":0.75,\"scalegroup\":\"d_prime\",\"showlegend\":false,\"side\":\"positive\",\"spanmode\":\"hard\",\"width\":0.8,\"x0\":\"Other GT\",\"xaxis\":\"x2\",\"y\":[3.862236967929786,3.4081913872337393,3.416975978003244,2.873443423380129,5.456697951706454,4.096557789647024,3.7692531423086395,4.342510897118669,3.7249392530910415,4.65932272109791,4.270938031527921,3.0433487225365092,5.456697951706454,5.091656382773711],\"yaxis\":\"y2\",\"type\":\"violin\"},{\"box\":{\"visible\":true},\"fillcolor\":\"#2E91E5\",\"legendgroup\":\"ivt\",\"line\":{\"color\":\"black\"},\"meanline\":{\"visible\":true},\"name\":\"RA, ivt\",\"opacity\":0.75,\"scalegroup\":\"d_prime\",\"showlegend\":false,\"side\":\"positive\",\"spanmode\":\"hard\",\"width\":0.8,\"x0\":\"ivt\",\"xaxis\":\"x2\",\"y\":[3.164184385808966,2.662230195508171,2.8112418219990745,2.0023415992244424,2.608698335296606,1.374679694187976,1.6684604596576076,2.3102546496159557,4.312099189420545,2.8592051942026666,2.265885292168765,2.089689323176438,5.202749190303056,3.1808098510020364,2.3352617125852144,0.987360920820693,1.2033247730486702,1.2226113873241302,2.3283523309692074,1.5172860424548253],\"yaxis\":\"y2\",\"type\":\"violin\"},{\"box\":{\"visible\":true},\"fillcolor\":\"#E15F99\",\"legendgroup\":\"ivvt\",\"line\":{\"color\":\"black\"},\"meanline\":{\"visible\":true},\"name\":\"RA, ivvt\",\"opacity\":0.75,\"scalegroup\":\"d_prime\",\"showlegend\":false,\"side\":\"positive\",\"spanmode\":\"hard\",\"width\":0.8,\"x0\":\"ivvt\",\"xaxis\":\"x2\",\"y\":[3.164184385808966,2.662230195508171,3.0034462075324275,2.221181444734744,2.6247715419659725,1.4007086109643512,1.8671819661487414,2.158657779271398,4.803546889825931,2.992385296538358,2.6368455796904815,2.128780527772439,4.983868524643366,3.073477536928277,2.4059991360811277,1.2684374847319932,1.3055422300067254,1.0366133107514188,2.3205109352889663,1.9558463295376964],\"yaxis\":\"y2\",\"type\":\"violin\"},{\"box\":{\"visible\":true},\"fillcolor\":\"#1CA71C\",\"legendgroup\":\"idt\",\"line\":{\"color\":\"black\"},\"meanline\":{\"visible\":true},\"name\":\"RA, idt\",\"opacity\":0.75,\"scalegroup\":\"d_prime\",\"showlegend\":false,\"side\":\"positive\",\"spanmode\":\"hard\",\"width\":0.8,\"x0\":\"idt\",\"xaxis\":\"x2\",\"y\":[0.8813387052538866,-0.23085383339098842,0.8944250910185778,0.9177453451241466,-0.040566562783377114,0.8779746217345434,0.3338364429138163,1.0760508544189162,2.310290548816525,1.9002352353145597,0.3516298436219121,-0.05691873147623472,-1.220993238317687,-0.04320553543576011,1.4155019373695794,0.7816726372190986,0.5686779648875737,1.3842294039571703,-0.20091933615156288,1.7073115964230758],\"yaxis\":\"y2\",\"type\":\"violin\"},{\"box\":{\"visible\":true},\"fillcolor\":\"#FB0D0D\",\"legendgroup\":\"idvt\",\"line\":{\"color\":\"black\"},\"meanline\":{\"visible\":true},\"name\":\"RA, idvt\",\"opacity\":0.75,\"scalegroup\":\"d_prime\",\"showlegend\":false,\"side\":\"positive\",\"spanmode\":\"hard\",\"width\":0.8,\"x0\":\"idvt\",\"xaxis\":\"x2\",\"y\":[0.8813387052538866,-0.23085383339098842,0.8944250910185778,0.9177453451241466,0.2665500205783795,0.8402821819338604,0.31030500805043437,1.0384545503054754,2.310290548816525,1.9002352353145597,0.3516298436219121,0.275909958295655,-1.2428685108461386,-0.04320553543576011,1.4155019373695794,0.9074729697478855,0.5259609677442094,0.8613383867728505,-0.20091933615156288,1.7073115964230758],\"yaxis\":\"y2\",\"type\":\"violin\"},{\"box\":{\"visible\":true},\"fillcolor\":\"#DA16FF\",\"legendgroup\":\"engbert\",\"line\":{\"color\":\"black\"},\"meanline\":{\"visible\":true},\"name\":\"RA, engbert\",\"opacity\":0.75,\"scalegroup\":\"d_prime\",\"showlegend\":false,\"side\":\"positive\",\"spanmode\":\"hard\",\"width\":0.8,\"x0\":\"engbert\",\"xaxis\":\"x2\",\"y\":[1.7779601186966736,3.1180501060598114,2.1765176726956783,0.5939027906843476,1.2280284864168642,1.7063609466539742,1.9431339038224649,1.791479919446603,4.054035500650535,3.245825396379677,0.6815399415046546,1.1736527157689405,2.633941041850681,2.148199106787624,1.507249450696738,0.611044515436296,0.4353388939454643,1.4117674332680472,1.8512211838823325,1.2389024732738665],\"yaxis\":\"y2\",\"type\":\"violin\"},{\"box\":{\"visible\":true},\"fillcolor\":\"#222A2A\",\"legendgroup\":\"nh\",\"line\":{\"color\":\"black\"},\"meanline\":{\"visible\":true},\"name\":\"RA, nh\",\"opacity\":0.75,\"scalegroup\":\"d_prime\",\"showlegend\":false,\"side\":\"positive\",\"spanmode\":\"hard\",\"width\":0.8,\"x0\":\"nh\",\"xaxis\":\"x2\",\"y\":[2.2019125897655134,2.4635503754145516,1.001546535225833,1.77699590433968,1.4556523663667582,2.259126761637854,1.420508181328983,1.8548802997669933,3.7212068108786447,3.2478972157384214,1.8458312616312953,2.2842126160354086,3.4118649258606464,2.4880255700602874,1.89668709097522,3.1199461244383206,0.8914861685189321,2.3012887920140135,1.3066525779301121,1.6549827083659936],\"yaxis\":\"y2\",\"type\":\"violin\"},{\"box\":{\"visible\":true},\"fillcolor\":\"#B68100\",\"legendgroup\":\"remodnav\",\"line\":{\"color\":\"black\"},\"meanline\":{\"visible\":true},\"name\":\"RA, remodnav\",\"opacity\":0.75,\"scalegroup\":\"d_prime\",\"showlegend\":false,\"side\":\"positive\",\"spanmode\":\"hard\",\"width\":0.8,\"x0\":\"remodnav\",\"xaxis\":\"x2\",\"y\":[0.8142108016767855,1.787953229338177,1.4300413109147279,0.9383743787664228,0.682387679805244,0.27637130110595853,1.0209114415553109,0.6026699309392405,2.310290548816525,1.5171735091103717,0.5694055698527669,1.0205652523800457,1.9366756381069257,0.9940557560437275,0.9698676599585254,-0.027352965279486607,0.6869273176728163,0.6274120294917354,0.8522467751392044,1.710613036472672],\"yaxis\":\"y2\",\"type\":\"violin\"},{\"box\":{\"visible\":true},\"fillcolor\":\"#bab0ac\",\"legendgroup\":\"Other GT\",\"line\":{\"color\":\"black\"},\"meanline\":{\"visible\":true},\"name\":\"MN, Other GT\",\"opacity\":0.25,\"scalegroup\":\"d_prime\",\"showlegend\":false,\"side\":\"negative\",\"spanmode\":\"hard\",\"width\":0.8,\"x0\":\"Other GT\",\"xaxis\":\"x2\",\"y\":[3.797080853873922,3.5817824584180404,3.416975978003244,2.8491321028805436,4.682849945470158,4.096557789647024,3.7692531423086395,4.4293864794189135,3.837528380969118,4.65932272109791,4.1663732265042235,2.9591998518190055,4.682849945470158,5.091656382773711],\"yaxis\":\"y2\",\"type\":\"violin\"},{\"box\":{\"visible\":true},\"fillcolor\":\"#2E91E5\",\"legendgroup\":\"ivt\",\"line\":{\"color\":\"black\"},\"meanline\":{\"visible\":true},\"name\":\"MN, ivt\",\"opacity\":0.25,\"scalegroup\":\"d_prime\",\"showlegend\":false,\"side\":\"negative\",\"spanmode\":\"hard\",\"width\":0.8,\"x0\":\"ivt\",\"xaxis\":\"x2\",\"y\":[3.903935106848807,2.8429557363954228,1.1649651985975085,1.4408263824612089,2.3242430129770995,1.864674936814809,3.795636089837185,3.544882681803113,2.044192329424298,0.7755912931168392,0.8796884254254138,0.7112196064122493,2.14904454815353,1.5172860424548253],\"yaxis\":\"y2\",\"type\":\"violin\"},{\"box\":{\"visible\":true},\"fillcolor\":\"#E15F99\",\"legendgroup\":\"ivvt\",\"line\":{\"color\":\"black\"},\"meanline\":{\"visible\":true},\"name\":\"MN, ivvt\",\"opacity\":0.25,\"scalegroup\":\"d_prime\",\"showlegend\":false,\"side\":\"negative\",\"spanmode\":\"hard\",\"width\":0.8,\"x0\":\"ivvt\",\"xaxis\":\"x2\",\"y\":[3.903935106848807,2.8429557363954228,1.1946965232883389,1.6017777850876114,2.6800405069696662,1.9035935094338454,3.60936632277839,3.4853126664359264,2.1632053485206386,1.0775834882969986,0.9897675141982012,0.5315549235760968,2.1353055066619526,1.9558463295376964],\"yaxis\":\"y2\",\"type\":\"violin\"},{\"box\":{\"visible\":true},\"fillcolor\":\"#1CA71C\",\"legendgroup\":\"idt\",\"line\":{\"color\":\"black\"},\"meanline\":{\"visible\":true},\"name\":\"MN, idt\",\"opacity\":0.25,\"scalegroup\":\"d_prime\",\"showlegend\":false,\"side\":\"negative\",\"spanmode\":\"hard\",\"width\":0.8,\"x0\":\"idt\",\"xaxis\":\"x2\",\"y\":[0.012485333824656664,-0.2304693371463089,1.4046246416490673,1.443891025326622,0.5857169110482956,0.9383743787664228,-0.19268152970156738,-0.027450405739186223,1.68877679427036,1.0786483796547839,0.9332144094921843,1.1408022131414386,0.3765226925956342,1.7073115964230758],\"yaxis\":\"y2\",\"type\":\"violin\"},{\"box\":{\"visible\":true},\"fillcolor\":\"#FB0D0D\",\"legendgroup\":\"idvt\",\"line\":{\"color\":\"black\"},\"meanline\":{\"visible\":true},\"name\":\"MN, idvt\",\"opacity\":0.25,\"scalegroup\":\"d_prime\",\"showlegend\":false,\"side\":\"negative\",\"spanmode\":\"hard\",\"width\":0.8,\"x0\":\"idvt\",\"xaxis\":\"x2\",\"y\":[0.012485333824656664,-0.2304693371463089,1.3559910356072824,1.408645300854484,0.5857169110482956,1.0641747112952098,-0.21620277187436843,-0.027450405739186223,1.68877679427036,1.1836359473263403,0.8872627675914652,1.2438370577803366,0.3765226925956342,1.7073115964230758],\"yaxis\":\"y2\",\"type\":\"violin\"},{\"box\":{\"visible\":true},\"fillcolor\":\"#DA16FF\",\"legendgroup\":\"engbert\",\"line\":{\"color\":\"black\"},\"meanline\":{\"visible\":true},\"name\":\"MN, engbert\",\"opacity\":0.25,\"scalegroup\":\"d_prime\",\"showlegend\":false,\"side\":\"negative\",\"spanmode\":\"hard\",\"width\":0.8,\"x0\":\"engbert\",\"xaxis\":\"x2\",\"y\":[1.6046791918628458,2.397867886005459,1.4896176962096217,1.5939319193424784,0.656588001241802,1.1736527157689405,2.496498660578116,1.975647985796717,1.205578062704926,0.36739116744213296,0.40172225766777714,0.8959710927521438,1.702297456567238,0.9891047376702009],\"yaxis\":\"y2\",\"type\":\"violin\"},{\"box\":{\"visible\":true},\"fillcolor\":\"#222A2A\",\"legendgroup\":\"nh\",\"line\":{\"color\":\"black\"},\"meanline\":{\"visible\":true},\"name\":\"MN, nh\",\"opacity\":0.25,\"scalegroup\":\"d_prime\",\"showlegend\":false,\"side\":\"negative\",\"spanmode\":\"hard\",\"width\":0.8,\"x0\":\"nh\",\"xaxis\":\"x2\",\"y\":[2.2815900460520613,2.2141513894908393,1.7278403360192967,1.6633836129827584,1.8043142731147126,2.1591430480039238,3.200699666366021,2.1591430480039238,1.4245209204529439,2.8837502482218706,0.44805264675819245,2.143840023052158,1.2897016527732554,1.2517256111298118],\"yaxis\":\"y2\",\"type\":\"violin\"},{\"box\":{\"visible\":true},\"fillcolor\":\"#B68100\",\"legendgroup\":\"remodnav\",\"line\":{\"color\":\"black\"},\"meanline\":{\"visible\":true},\"name\":\"MN, remodnav\",\"opacity\":0.25,\"scalegroup\":\"d_prime\",\"showlegend\":false,\"side\":\"negative\",\"spanmode\":\"hard\",\"width\":0.8,\"x0\":\"remodnav\",\"xaxis\":\"x2\",\"y\":[1.0123577520437061,1.8870194739233654,-0.8578922679770136,0.5086580169211947,0.5504984172475571,1.0205652523800457,2.076355322529873,0.8327461723108276,0.8259431078843027,-0.027352965279486607,0.6638362258360044,-0.7052113991366542,0.8318699121565682,1.710613036472672],\"yaxis\":\"y2\",\"type\":\"violin\"}],                        {\"template\":{\"data\":{\"histogram2dcontour\":[{\"type\":\"histogram2dcontour\",\"colorbar\":{\"outlinewidth\":0,\"ticks\":\"\"},\"colorscale\":[[0.0,\"#0d0887\"],[0.1111111111111111,\"#46039f\"],[0.2222222222222222,\"#7201a8\"],[0.3333333333333333,\"#9c179e\"],[0.4444444444444444,\"#bd3786\"],[0.5555555555555556,\"#d8576b\"],[0.6666666666666666,\"#ed7953\"],[0.7777777777777778,\"#fb9f3a\"],[0.8888888888888888,\"#fdca26\"],[1.0,\"#f0f921\"]]}],\"choropleth\":[{\"type\":\"choropleth\",\"colorbar\":{\"outlinewidth\":0,\"ticks\":\"\"}}],\"histogram2d\":[{\"type\":\"histogram2d\",\"colorbar\":{\"outlinewidth\":0,\"ticks\":\"\"},\"colorscale\":[[0.0,\"#0d0887\"],[0.1111111111111111,\"#46039f\"],[0.2222222222222222,\"#7201a8\"],[0.3333333333333333,\"#9c179e\"],[0.4444444444444444,\"#bd3786\"],[0.5555555555555556,\"#d8576b\"],[0.6666666666666666,\"#ed7953\"],[0.7777777777777778,\"#fb9f3a\"],[0.8888888888888888,\"#fdca26\"],[1.0,\"#f0f921\"]]}],\"heatmap\":[{\"type\":\"heatmap\",\"colorbar\":{\"outlinewidth\":0,\"ticks\":\"\"},\"colorscale\":[[0.0,\"#0d0887\"],[0.1111111111111111,\"#46039f\"],[0.2222222222222222,\"#7201a8\"],[0.3333333333333333,\"#9c179e\"],[0.4444444444444444,\"#bd3786\"],[0.5555555555555556,\"#d8576b\"],[0.6666666666666666,\"#ed7953\"],[0.7777777777777778,\"#fb9f3a\"],[0.8888888888888888,\"#fdca26\"],[1.0,\"#f0f921\"]]}],\"heatmapgl\":[{\"type\":\"heatmapgl\",\"colorbar\":{\"outlinewidth\":0,\"ticks\":\"\"},\"colorscale\":[[0.0,\"#0d0887\"],[0.1111111111111111,\"#46039f\"],[0.2222222222222222,\"#7201a8\"],[0.3333333333333333,\"#9c179e\"],[0.4444444444444444,\"#bd3786\"],[0.5555555555555556,\"#d8576b\"],[0.6666666666666666,\"#ed7953\"],[0.7777777777777778,\"#fb9f3a\"],[0.8888888888888888,\"#fdca26\"],[1.0,\"#f0f921\"]]}],\"contourcarpet\":[{\"type\":\"contourcarpet\",\"colorbar\":{\"outlinewidth\":0,\"ticks\":\"\"}}],\"contour\":[{\"type\":\"contour\",\"colorbar\":{\"outlinewidth\":0,\"ticks\":\"\"},\"colorscale\":[[0.0,\"#0d0887\"],[0.1111111111111111,\"#46039f\"],[0.2222222222222222,\"#7201a8\"],[0.3333333333333333,\"#9c179e\"],[0.4444444444444444,\"#bd3786\"],[0.5555555555555556,\"#d8576b\"],[0.6666666666666666,\"#ed7953\"],[0.7777777777777778,\"#fb9f3a\"],[0.8888888888888888,\"#fdca26\"],[1.0,\"#f0f921\"]]}],\"surface\":[{\"type\":\"surface\",\"colorbar\":{\"outlinewidth\":0,\"ticks\":\"\"},\"colorscale\":[[0.0,\"#0d0887\"],[0.1111111111111111,\"#46039f\"],[0.2222222222222222,\"#7201a8\"],[0.3333333333333333,\"#9c179e\"],[0.4444444444444444,\"#bd3786\"],[0.5555555555555556,\"#d8576b\"],[0.6666666666666666,\"#ed7953\"],[0.7777777777777778,\"#fb9f3a\"],[0.8888888888888888,\"#fdca26\"],[1.0,\"#f0f921\"]]}],\"mesh3d\":[{\"type\":\"mesh3d\",\"colorbar\":{\"outlinewidth\":0,\"ticks\":\"\"}}],\"scatter\":[{\"fillpattern\":{\"fillmode\":\"overlay\",\"size\":10,\"solidity\":0.2},\"type\":\"scatter\"}],\"parcoords\":[{\"type\":\"parcoords\",\"line\":{\"colorbar\":{\"outlinewidth\":0,\"ticks\":\"\"}}}],\"scatterpolargl\":[{\"type\":\"scatterpolargl\",\"marker\":{\"colorbar\":{\"outlinewidth\":0,\"ticks\":\"\"}}}],\"bar\":[{\"error_x\":{\"color\":\"#2a3f5f\"},\"error_y\":{\"color\":\"#2a3f5f\"},\"marker\":{\"line\":{\"color\":\"#E5ECF6\",\"width\":0.5},\"pattern\":{\"fillmode\":\"overlay\",\"size\":10,\"solidity\":0.2}},\"type\":\"bar\"}],\"scattergeo\":[{\"type\":\"scattergeo\",\"marker\":{\"colorbar\":{\"outlinewidth\":0,\"ticks\":\"\"}}}],\"scatterpolar\":[{\"type\":\"scatterpolar\",\"marker\":{\"colorbar\":{\"outlinewidth\":0,\"ticks\":\"\"}}}],\"histogram\":[{\"marker\":{\"pattern\":{\"fillmode\":\"overlay\",\"size\":10,\"solidity\":0.2}},\"type\":\"histogram\"}],\"scattergl\":[{\"type\":\"scattergl\",\"marker\":{\"colorbar\":{\"outlinewidth\":0,\"ticks\":\"\"}}}],\"scatter3d\":[{\"type\":\"scatter3d\",\"line\":{\"colorbar\":{\"outlinewidth\":0,\"ticks\":\"\"}},\"marker\":{\"colorbar\":{\"outlinewidth\":0,\"ticks\":\"\"}}}],\"scattermapbox\":[{\"type\":\"scattermapbox\",\"marker\":{\"colorbar\":{\"outlinewidth\":0,\"ticks\":\"\"}}}],\"scatterternary\":[{\"type\":\"scatterternary\",\"marker\":{\"colorbar\":{\"outlinewidth\":0,\"ticks\":\"\"}}}],\"scattercarpet\":[{\"type\":\"scattercarpet\",\"marker\":{\"colorbar\":{\"outlinewidth\":0,\"ticks\":\"\"}}}],\"carpet\":[{\"aaxis\":{\"endlinecolor\":\"#2a3f5f\",\"gridcolor\":\"white\",\"linecolor\":\"white\",\"minorgridcolor\":\"white\",\"startlinecolor\":\"#2a3f5f\"},\"baxis\":{\"endlinecolor\":\"#2a3f5f\",\"gridcolor\":\"white\",\"linecolor\":\"white\",\"minorgridcolor\":\"white\",\"startlinecolor\":\"#2a3f5f\"},\"type\":\"carpet\"}],\"table\":[{\"cells\":{\"fill\":{\"color\":\"#EBF0F8\"},\"line\":{\"color\":\"white\"}},\"header\":{\"fill\":{\"color\":\"#C8D4E3\"},\"line\":{\"color\":\"white\"}},\"type\":\"table\"}],\"barpolar\":[{\"marker\":{\"line\":{\"color\":\"#E5ECF6\",\"width\":0.5},\"pattern\":{\"fillmode\":\"overlay\",\"size\":10,\"solidity\":0.2}},\"type\":\"barpolar\"}],\"pie\":[{\"automargin\":true,\"type\":\"pie\"}]},\"layout\":{\"autotypenumbers\":\"strict\",\"colorway\":[\"#636efa\",\"#EF553B\",\"#00cc96\",\"#ab63fa\",\"#FFA15A\",\"#19d3f3\",\"#FF6692\",\"#B6E880\",\"#FF97FF\",\"#FECB52\"],\"font\":{\"color\":\"#2a3f5f\"},\"hovermode\":\"closest\",\"hoverlabel\":{\"align\":\"left\"},\"paper_bgcolor\":\"white\",\"plot_bgcolor\":\"#E5ECF6\",\"polar\":{\"bgcolor\":\"#E5ECF6\",\"angularaxis\":{\"gridcolor\":\"white\",\"linecolor\":\"white\",\"ticks\":\"\"},\"radialaxis\":{\"gridcolor\":\"white\",\"linecolor\":\"white\",\"ticks\":\"\"}},\"ternary\":{\"bgcolor\":\"#E5ECF6\",\"aaxis\":{\"gridcolor\":\"white\",\"linecolor\":\"white\",\"ticks\":\"\"},\"baxis\":{\"gridcolor\":\"white\",\"linecolor\":\"white\",\"ticks\":\"\"},\"caxis\":{\"gridcolor\":\"white\",\"linecolor\":\"white\",\"ticks\":\"\"}},\"coloraxis\":{\"colorbar\":{\"outlinewidth\":0,\"ticks\":\"\"}},\"colorscale\":{\"sequential\":[[0.0,\"#0d0887\"],[0.1111111111111111,\"#46039f\"],[0.2222222222222222,\"#7201a8\"],[0.3333333333333333,\"#9c179e\"],[0.4444444444444444,\"#bd3786\"],[0.5555555555555556,\"#d8576b\"],[0.6666666666666666,\"#ed7953\"],[0.7777777777777778,\"#fb9f3a\"],[0.8888888888888888,\"#fdca26\"],[1.0,\"#f0f921\"]],\"sequentialminus\":[[0.0,\"#0d0887\"],[0.1111111111111111,\"#46039f\"],[0.2222222222222222,\"#7201a8\"],[0.3333333333333333,\"#9c179e\"],[0.4444444444444444,\"#bd3786\"],[0.5555555555555556,\"#d8576b\"],[0.6666666666666666,\"#ed7953\"],[0.7777777777777778,\"#fb9f3a\"],[0.8888888888888888,\"#fdca26\"],[1.0,\"#f0f921\"]],\"diverging\":[[0,\"#8e0152\"],[0.1,\"#c51b7d\"],[0.2,\"#de77ae\"],[0.3,\"#f1b6da\"],[0.4,\"#fde0ef\"],[0.5,\"#f7f7f7\"],[0.6,\"#e6f5d0\"],[0.7,\"#b8e186\"],[0.8,\"#7fbc41\"],[0.9,\"#4d9221\"],[1,\"#276419\"]]},\"xaxis\":{\"gridcolor\":\"white\",\"linecolor\":\"white\",\"ticks\":\"\",\"title\":{\"standoff\":15},\"zerolinecolor\":\"white\",\"automargin\":true,\"zerolinewidth\":2},\"yaxis\":{\"gridcolor\":\"white\",\"linecolor\":\"white\",\"ticks\":\"\",\"title\":{\"standoff\":15},\"zerolinecolor\":\"white\",\"automargin\":true,\"zerolinewidth\":2},\"scene\":{\"xaxis\":{\"backgroundcolor\":\"#E5ECF6\",\"gridcolor\":\"white\",\"linecolor\":\"white\",\"showbackground\":true,\"ticks\":\"\",\"zerolinecolor\":\"white\",\"gridwidth\":2},\"yaxis\":{\"backgroundcolor\":\"#E5ECF6\",\"gridcolor\":\"white\",\"linecolor\":\"white\",\"showbackground\":true,\"ticks\":\"\",\"zerolinecolor\":\"white\",\"gridwidth\":2},\"zaxis\":{\"backgroundcolor\":\"#E5ECF6\",\"gridcolor\":\"white\",\"linecolor\":\"white\",\"showbackground\":true,\"ticks\":\"\",\"zerolinecolor\":\"white\",\"gridwidth\":2}},\"shapedefaults\":{\"line\":{\"color\":\"#2a3f5f\"}},\"annotationdefaults\":{\"arrowcolor\":\"#2a3f5f\",\"arrowhead\":0,\"arrowwidth\":1},\"geo\":{\"bgcolor\":\"white\",\"landcolor\":\"#E5ECF6\",\"subunitcolor\":\"white\",\"showland\":true,\"showlakes\":true,\"lakecolor\":\"white\"},\"title\":{\"x\":0.05},\"mapbox\":{\"style\":\"light\"}}},\"xaxis\":{\"anchor\":\"y\",\"domain\":[0.0,1.0],\"matches\":\"x2\",\"showticklabels\":false},\"yaxis\":{\"anchor\":\"x\",\"domain\":[0.55,1.0],\"tickfont\":{\"size\":14},\"showgrid\":false,\"zeroline\":false,\"showline\":false},\"xaxis2\":{\"anchor\":\"y2\",\"domain\":[0.0,1.0],\"tickfont\":{\"size\":14},\"showgrid\":false,\"tickangle\":0},\"yaxis2\":{\"anchor\":\"x2\",\"domain\":[0.0,0.45],\"tickfont\":{\"size\":14},\"showgrid\":false,\"zeroline\":false,\"showline\":false},\"annotations\":[{\"font\":{\"size\":16},\"showarrow\":false,\"text\":\"Saccade Onset\",\"x\":0.5,\"xanchor\":\"center\",\"xref\":\"paper\",\"y\":1.0,\"yanchor\":\"bottom\",\"yref\":\"paper\"},{\"font\":{\"size\":16},\"showarrow\":false,\"text\":\"Saccade Offset\",\"x\":0.5,\"xanchor\":\"center\",\"xref\":\"paper\",\"y\":0.45,\"yanchor\":\"bottom\",\"yref\":\"paper\"}],\"margin\":{\"l\":10,\"r\":10,\"b\":10,\"t\":20,\"pad\":0},\"title\":{},\"width\":600,\"height\":450,\"paper_bgcolor\":\"rgba(0, 0, 0, 0)\",\"plot_bgcolor\":\"rgba(0, 0, 0, 0)\"},                        {\"responsive\": true}                    ).then(function(){\n",
       "                            \n",
       "var gd = document.getElementById('b14e7b05-6a3a-4c60-acf3-5b6c63ccbefd');\n",
       "var x = new MutationObserver(function (mutations, observer) {{\n",
       "        var display = window.getComputedStyle(gd).display;\n",
       "        if (!display || display === 'none') {{\n",
       "            console.log([gd, 'removed!']);\n",
       "            Plotly.purge(gd);\n",
       "            observer.disconnect();\n",
       "        }}\n",
       "}});\n",
       "\n",
       "// Listen for the removal of the full notebook cells\n",
       "var notebookContainer = gd.closest('#notebook-container');\n",
       "if (notebookContainer) {{\n",
       "    x.observe(notebookContainer, {childList: true});\n",
       "}}\n",
       "\n",
       "// Listen for the clearing of the current output cell\n",
       "var outputEl = gd.closest('.output');\n",
       "if (outputEl) {{\n",
       "    x.observe(outputEl, {childList: true});\n",
       "}}\n",
       "\n",
       "                        })                };                });            </script>        </div>"
      ]
     },
     "metadata": {},
     "output_type": "display_data"
    }
   ],
   "execution_count": 39
  }
 ],
 "metadata": {
  "kernelspec": {
   "display_name": "Python 3",
   "language": "python",
   "name": "python3"
  },
  "language_info": {
   "codemirror_mode": {
    "name": "ipython",
    "version": 2
   },
   "file_extension": ".py",
   "mimetype": "text/x-python",
   "name": "python",
   "nbconvert_exporter": "python",
   "pygments_lexer": "ipython2",
   "version": "2.7.6"
  }
 },
 "nbformat": 4,
 "nbformat_minor": 5
}
