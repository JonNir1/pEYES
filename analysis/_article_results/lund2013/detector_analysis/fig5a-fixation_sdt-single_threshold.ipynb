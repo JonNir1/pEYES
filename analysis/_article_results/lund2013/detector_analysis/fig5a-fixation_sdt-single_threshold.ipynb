{
 "cells": [
  {
   "metadata": {},
   "cell_type": "markdown",
   "source": [
    "# Results p. 3\n",
    "## Fixation Discriminability\n",
    "### How sensitive are detectors to fixation onsets/offsets?"
   ],
   "id": "3c4d6ac30d9b49b5"
  },
  {
   "metadata": {
    "collapsed": true,
    "ExecuteTime": {
     "end_time": "2025-01-09T15:26:09.757137Z",
     "start_time": "2025-01-09T15:26:09.751895Z"
    }
   },
   "cell_type": "code",
   "source": [
    "import os\n",
    "import copy\n",
    "\n",
    "import numpy as np\n",
    "import pandas as pd\n",
    "import plotly.graph_objects as go\n",
    "from plotly.subplots import make_subplots\n",
    "import plotly.io as pio\n",
    "\n",
    "import peyes\n",
    "\n",
    "from analysis._article_results.lund2013._helpers import *\n",
    "import analysis.statistics.channel_sdt as ch_sdt\n",
    "\n",
    "# pio.renderers.default = \"browser\"\n",
    "FIG_ID, IS_SUPP = 5, False"
   ],
   "id": "initial_id",
   "outputs": [],
   "execution_count": 28
  },
  {
   "metadata": {},
   "cell_type": "markdown",
   "source": "## Load Data",
   "id": "9a08d486add6f3cd"
  },
  {
   "metadata": {
    "ExecuteTime": {
     "end_time": "2025-01-09T15:26:10.249742Z",
     "start_time": "2025-01-09T15:26:09.761816Z"
    }
   },
   "cell_type": "code",
   "source": [
    "LABEL = 1       # EventLabelEnum.FIXATION.value\n",
    "THRESHOLD = 5   # samples\n",
    "\n",
    "csdt_metrics = ch_sdt.load(\n",
    "    dataset_name=DATASET_NAME,\n",
    "    output_dir=PROCESSED_DATA_DIR,\n",
    "    label=LABEL,\n",
    "    stimulus_type=STIMULUS_TYPE,\n",
    "    channel_type=None,\n",
    ")\n",
    "csdt_metrics.drop(index=['P', 'PP', 'N', 'TP'], level=peyes.constants.METRIC_STR, inplace=True)    # Remove unused metrics\n",
    "\n",
    "csdt_metrics"
   ],
   "id": "df7eab491a81d621",
   "outputs": [
    {
     "data": {
      "text/plain": [
       "trial_id                                       25                      \\\n",
       "gt                                             RA                       \n",
       "pred                                           MN   engbert  remodnav   \n",
       "channel_type metric           threshold                                 \n",
       "onset        recall           0          0.285714  0.107143  0.071429   \n",
       "             precision        0          0.296296  0.090909  0.166667   \n",
       "             f1               0          0.290909  0.098361  0.100000   \n",
       "             false_alarm_rate 0          0.003831  0.006048  0.002016   \n",
       "             d_prime          0          2.100695  1.267442  1.410393   \n",
       "...                                           ...       ...       ...   \n",
       "offset       precision        20         0.962963  0.848485  0.333333   \n",
       "             f1               20         0.945455  0.918033  0.200000   \n",
       "             false_alarm_rate 20         0.010677  0.053385  0.085417   \n",
       "             d_prime          20         3.766897  3.954658  0.301961   \n",
       "             criterion        20         0.418215 -0.427646  1.218551   \n",
       "\n",
       "trial_id                                                               \\\n",
       "gt                                                                      \n",
       "pred                                         idvt        nh       idt   \n",
       "channel_type metric           threshold                                 \n",
       "onset        recall           0          0.035714  0.071429  0.035714   \n",
       "             precision        0          0.055556  0.074074  0.055556   \n",
       "             f1               0          0.043478  0.072727  0.043478   \n",
       "             false_alarm_rate 0          0.003427  0.005040  0.003427   \n",
       "             d_prime          0          0.901072  1.107817  0.901072   \n",
       "...                                           ...       ...       ...   \n",
       "offset       precision        20         0.944444  0.962963  0.944444   \n",
       "             f1               20         0.739130  0.945455  0.739130   \n",
       "             false_alarm_rate 20         0.010677  0.010677  0.010677   \n",
       "             d_prime          20         2.573543  3.766897  2.573543   \n",
       "             criterion        20         1.014892  0.418215  1.014892   \n",
       "\n",
       "trial_id                                                               \\\n",
       "gt                                                                 MN   \n",
       "pred                                         ivvt       ivt        RA   \n",
       "channel_type metric           threshold                                 \n",
       "onset        recall           0          0.178571  0.035714  0.296296   \n",
       "             precision        0          0.147059  0.030303  0.285714   \n",
       "             f1               0          0.161290  0.032787  0.290909   \n",
       "             false_alarm_rate 0          0.005847  0.006452  0.004031   \n",
       "             d_prime          0          1.600437  0.683686  2.114342   \n",
       "...                                           ...       ...       ...   \n",
       "offset       precision        20         0.794118  0.787879  0.928571   \n",
       "             f1               20         0.870968  0.852459  0.945455   \n",
       "             false_alarm_rate 20         0.074740  0.074740  0.021129   \n",
       "             d_prime          20         3.244117  2.906607  3.817134   \n",
       "             criterion        20        -0.180685 -0.011930  0.122412   \n",
       "\n",
       "trial_id                                           ...        44            \\\n",
       "gt                                                 ...        RA             \n",
       "pred                                      engbert  ...      ivvt       ivt   \n",
       "channel_type metric           threshold            ...                       \n",
       "onset        recall           0          0.148148  ...  0.000000  0.000000   \n",
       "             precision        0          0.121212  ...  0.000000  0.000000   \n",
       "             f1               0          0.133333  ...       NaN       NaN   \n",
       "             false_alarm_rate 0          0.005846  ...  0.015244  0.013211   \n",
       "             d_prime          0          1.476922  ... -1.139018 -1.084435   \n",
       "...                                           ...  ...       ...       ...   \n",
       "offset       precision        20         0.818182  ...  0.900000  0.923077   \n",
       "             f1               20         0.900000  ...  0.931034  0.888889   \n",
       "             false_alarm_rate 20         0.063386  ...  0.145047  0.096698   \n",
       "             d_prime          20         3.877443  ...  2.860658  2.368168   \n",
       "             criterion        20        -0.466254  ... -0.372414  0.116514   \n",
       "\n",
       "trial_id                                                                   \\\n",
       "gt                                             MN                           \n",
       "pred                                           RA       engbert  remodnav   \n",
       "channel_type metric           threshold                                     \n",
       "onset        recall           0          0.366667  1.000000e-01  0.033333   \n",
       "             precision        0          0.392857  1.000000e-01  0.100000   \n",
       "             f1               0          0.379310  1.000000e-01  0.050000   \n",
       "             false_alarm_rate 0          0.008647  1.373347e-02  0.004578   \n",
       "             d_prime          0          2.039702  9.232654e-01  0.772272   \n",
       "...                                           ...           ...       ...   \n",
       "offset       precision        20         1.000000  1.000000e+00  0.600000   \n",
       "             f1               20         0.965517  1.000000e+00  0.300000   \n",
       "             false_alarm_rate 20         0.000000  0.000000e+00  0.214099   \n",
       "             d_prime          20         3.439522  4.118694e+00 -0.049343   \n",
       "             criterion        20         0.339586  8.881784e-16  0.816950   \n",
       "\n",
       "trial_id                                                                   \\\n",
       "gt                                                                          \n",
       "pred                                         idvt            nh       idt   \n",
       "channel_type metric           threshold                                     \n",
       "onset        recall           0          0.000000  2.333333e-01  0.000000   \n",
       "             precision        0          0.000000  2.333333e-01  0.000000   \n",
       "             f1               0               NaN  2.333333e-01       NaN   \n",
       "             false_alarm_rate 0          0.007630  1.169888e-02  0.008647   \n",
       "             d_prime          0         -0.886884  1.538963e+00 -0.930301   \n",
       "...                                           ...           ...       ...   \n",
       "offset       precision        20         1.000000  1.000000e+00  0.882353   \n",
       "             f1               20         0.666667  1.000000e+00  0.638298   \n",
       "             false_alarm_rate 20         0.000000  0.000000e+00  0.107050   \n",
       "             d_prime          20         2.059347  4.118694e+00  1.242372   \n",
       "             criterion        20         1.029673  8.881784e-16  0.621186   \n",
       "\n",
       "trial_id                                                     \n",
       "gt                                                           \n",
       "pred                                         ivvt       ivt  \n",
       "channel_type metric           threshold                      \n",
       "onset        recall           0          0.200000  0.066667  \n",
       "             precision        0          0.200000  0.076923  \n",
       "             f1               0          0.200000  0.071429  \n",
       "             false_alarm_rate 0          0.012208  0.012208  \n",
       "             d_prime          0          1.408913  0.749448  \n",
       "...                                           ...       ...  \n",
       "offset       precision        20         0.966667  1.000000  \n",
       "             f1               20         0.966667  0.928571  \n",
       "             false_alarm_rate 20         0.053525  0.000000  \n",
       "             d_prime          20         3.445512  3.105252  \n",
       "             criterion        20        -0.111159  0.506721  \n",
       "\n",
       "[252 rows x 266 columns]"
      ],
      "text/html": [
       "<div>\n",
       "<style scoped>\n",
       "    .dataframe tbody tr th:only-of-type {\n",
       "        vertical-align: middle;\n",
       "    }\n",
       "\n",
       "    .dataframe tbody tr th {\n",
       "        vertical-align: top;\n",
       "    }\n",
       "\n",
       "    .dataframe thead tr th {\n",
       "        text-align: left;\n",
       "    }\n",
       "\n",
       "    .dataframe thead tr:last-of-type th {\n",
       "        text-align: right;\n",
       "    }\n",
       "</style>\n",
       "<table border=\"1\" class=\"dataframe\">\n",
       "  <thead>\n",
       "    <tr>\n",
       "      <th></th>\n",
       "      <th></th>\n",
       "      <th>trial_id</th>\n",
       "      <th colspan=\"10\" halign=\"left\">25</th>\n",
       "      <th>...</th>\n",
       "      <th colspan=\"10\" halign=\"left\">44</th>\n",
       "    </tr>\n",
       "    <tr>\n",
       "      <th></th>\n",
       "      <th></th>\n",
       "      <th>gt</th>\n",
       "      <th colspan=\"8\" halign=\"left\">RA</th>\n",
       "      <th colspan=\"2\" halign=\"left\">MN</th>\n",
       "      <th>...</th>\n",
       "      <th colspan=\"2\" halign=\"left\">RA</th>\n",
       "      <th colspan=\"8\" halign=\"left\">MN</th>\n",
       "    </tr>\n",
       "    <tr>\n",
       "      <th></th>\n",
       "      <th></th>\n",
       "      <th>pred</th>\n",
       "      <th>MN</th>\n",
       "      <th>engbert</th>\n",
       "      <th>remodnav</th>\n",
       "      <th>idvt</th>\n",
       "      <th>nh</th>\n",
       "      <th>idt</th>\n",
       "      <th>ivvt</th>\n",
       "      <th>ivt</th>\n",
       "      <th>RA</th>\n",
       "      <th>engbert</th>\n",
       "      <th>...</th>\n",
       "      <th>ivvt</th>\n",
       "      <th>ivt</th>\n",
       "      <th>RA</th>\n",
       "      <th>engbert</th>\n",
       "      <th>remodnav</th>\n",
       "      <th>idvt</th>\n",
       "      <th>nh</th>\n",
       "      <th>idt</th>\n",
       "      <th>ivvt</th>\n",
       "      <th>ivt</th>\n",
       "    </tr>\n",
       "    <tr>\n",
       "      <th>channel_type</th>\n",
       "      <th>metric</th>\n",
       "      <th>threshold</th>\n",
       "      <th></th>\n",
       "      <th></th>\n",
       "      <th></th>\n",
       "      <th></th>\n",
       "      <th></th>\n",
       "      <th></th>\n",
       "      <th></th>\n",
       "      <th></th>\n",
       "      <th></th>\n",
       "      <th></th>\n",
       "      <th></th>\n",
       "      <th></th>\n",
       "      <th></th>\n",
       "      <th></th>\n",
       "      <th></th>\n",
       "      <th></th>\n",
       "      <th></th>\n",
       "      <th></th>\n",
       "      <th></th>\n",
       "      <th></th>\n",
       "      <th></th>\n",
       "    </tr>\n",
       "  </thead>\n",
       "  <tbody>\n",
       "    <tr>\n",
       "      <th rowspan=\"5\" valign=\"top\">onset</th>\n",
       "      <th>recall</th>\n",
       "      <th>0</th>\n",
       "      <td>0.285714</td>\n",
       "      <td>0.107143</td>\n",
       "      <td>0.071429</td>\n",
       "      <td>0.035714</td>\n",
       "      <td>0.071429</td>\n",
       "      <td>0.035714</td>\n",
       "      <td>0.178571</td>\n",
       "      <td>0.035714</td>\n",
       "      <td>0.296296</td>\n",
       "      <td>0.148148</td>\n",
       "      <td>...</td>\n",
       "      <td>0.000000</td>\n",
       "      <td>0.000000</td>\n",
       "      <td>0.366667</td>\n",
       "      <td>1.000000e-01</td>\n",
       "      <td>0.033333</td>\n",
       "      <td>0.000000</td>\n",
       "      <td>2.333333e-01</td>\n",
       "      <td>0.000000</td>\n",
       "      <td>0.200000</td>\n",
       "      <td>0.066667</td>\n",
       "    </tr>\n",
       "    <tr>\n",
       "      <th>precision</th>\n",
       "      <th>0</th>\n",
       "      <td>0.296296</td>\n",
       "      <td>0.090909</td>\n",
       "      <td>0.166667</td>\n",
       "      <td>0.055556</td>\n",
       "      <td>0.074074</td>\n",
       "      <td>0.055556</td>\n",
       "      <td>0.147059</td>\n",
       "      <td>0.030303</td>\n",
       "      <td>0.285714</td>\n",
       "      <td>0.121212</td>\n",
       "      <td>...</td>\n",
       "      <td>0.000000</td>\n",
       "      <td>0.000000</td>\n",
       "      <td>0.392857</td>\n",
       "      <td>1.000000e-01</td>\n",
       "      <td>0.100000</td>\n",
       "      <td>0.000000</td>\n",
       "      <td>2.333333e-01</td>\n",
       "      <td>0.000000</td>\n",
       "      <td>0.200000</td>\n",
       "      <td>0.076923</td>\n",
       "    </tr>\n",
       "    <tr>\n",
       "      <th>f1</th>\n",
       "      <th>0</th>\n",
       "      <td>0.290909</td>\n",
       "      <td>0.098361</td>\n",
       "      <td>0.100000</td>\n",
       "      <td>0.043478</td>\n",
       "      <td>0.072727</td>\n",
       "      <td>0.043478</td>\n",
       "      <td>0.161290</td>\n",
       "      <td>0.032787</td>\n",
       "      <td>0.290909</td>\n",
       "      <td>0.133333</td>\n",
       "      <td>...</td>\n",
       "      <td>NaN</td>\n",
       "      <td>NaN</td>\n",
       "      <td>0.379310</td>\n",
       "      <td>1.000000e-01</td>\n",
       "      <td>0.050000</td>\n",
       "      <td>NaN</td>\n",
       "      <td>2.333333e-01</td>\n",
       "      <td>NaN</td>\n",
       "      <td>0.200000</td>\n",
       "      <td>0.071429</td>\n",
       "    </tr>\n",
       "    <tr>\n",
       "      <th>false_alarm_rate</th>\n",
       "      <th>0</th>\n",
       "      <td>0.003831</td>\n",
       "      <td>0.006048</td>\n",
       "      <td>0.002016</td>\n",
       "      <td>0.003427</td>\n",
       "      <td>0.005040</td>\n",
       "      <td>0.003427</td>\n",
       "      <td>0.005847</td>\n",
       "      <td>0.006452</td>\n",
       "      <td>0.004031</td>\n",
       "      <td>0.005846</td>\n",
       "      <td>...</td>\n",
       "      <td>0.015244</td>\n",
       "      <td>0.013211</td>\n",
       "      <td>0.008647</td>\n",
       "      <td>1.373347e-02</td>\n",
       "      <td>0.004578</td>\n",
       "      <td>0.007630</td>\n",
       "      <td>1.169888e-02</td>\n",
       "      <td>0.008647</td>\n",
       "      <td>0.012208</td>\n",
       "      <td>0.012208</td>\n",
       "    </tr>\n",
       "    <tr>\n",
       "      <th>d_prime</th>\n",
       "      <th>0</th>\n",
       "      <td>2.100695</td>\n",
       "      <td>1.267442</td>\n",
       "      <td>1.410393</td>\n",
       "      <td>0.901072</td>\n",
       "      <td>1.107817</td>\n",
       "      <td>0.901072</td>\n",
       "      <td>1.600437</td>\n",
       "      <td>0.683686</td>\n",
       "      <td>2.114342</td>\n",
       "      <td>1.476922</td>\n",
       "      <td>...</td>\n",
       "      <td>-1.139018</td>\n",
       "      <td>-1.084435</td>\n",
       "      <td>2.039702</td>\n",
       "      <td>9.232654e-01</td>\n",
       "      <td>0.772272</td>\n",
       "      <td>-0.886884</td>\n",
       "      <td>1.538963e+00</td>\n",
       "      <td>-0.930301</td>\n",
       "      <td>1.408913</td>\n",
       "      <td>0.749448</td>\n",
       "    </tr>\n",
       "    <tr>\n",
       "      <th>...</th>\n",
       "      <th>...</th>\n",
       "      <th>...</th>\n",
       "      <td>...</td>\n",
       "      <td>...</td>\n",
       "      <td>...</td>\n",
       "      <td>...</td>\n",
       "      <td>...</td>\n",
       "      <td>...</td>\n",
       "      <td>...</td>\n",
       "      <td>...</td>\n",
       "      <td>...</td>\n",
       "      <td>...</td>\n",
       "      <td>...</td>\n",
       "      <td>...</td>\n",
       "      <td>...</td>\n",
       "      <td>...</td>\n",
       "      <td>...</td>\n",
       "      <td>...</td>\n",
       "      <td>...</td>\n",
       "      <td>...</td>\n",
       "      <td>...</td>\n",
       "      <td>...</td>\n",
       "      <td>...</td>\n",
       "    </tr>\n",
       "    <tr>\n",
       "      <th rowspan=\"5\" valign=\"top\">offset</th>\n",
       "      <th>precision</th>\n",
       "      <th>20</th>\n",
       "      <td>0.962963</td>\n",
       "      <td>0.848485</td>\n",
       "      <td>0.333333</td>\n",
       "      <td>0.944444</td>\n",
       "      <td>0.962963</td>\n",
       "      <td>0.944444</td>\n",
       "      <td>0.794118</td>\n",
       "      <td>0.787879</td>\n",
       "      <td>0.928571</td>\n",
       "      <td>0.818182</td>\n",
       "      <td>...</td>\n",
       "      <td>0.900000</td>\n",
       "      <td>0.923077</td>\n",
       "      <td>1.000000</td>\n",
       "      <td>1.000000e+00</td>\n",
       "      <td>0.600000</td>\n",
       "      <td>1.000000</td>\n",
       "      <td>1.000000e+00</td>\n",
       "      <td>0.882353</td>\n",
       "      <td>0.966667</td>\n",
       "      <td>1.000000</td>\n",
       "    </tr>\n",
       "    <tr>\n",
       "      <th>f1</th>\n",
       "      <th>20</th>\n",
       "      <td>0.945455</td>\n",
       "      <td>0.918033</td>\n",
       "      <td>0.200000</td>\n",
       "      <td>0.739130</td>\n",
       "      <td>0.945455</td>\n",
       "      <td>0.739130</td>\n",
       "      <td>0.870968</td>\n",
       "      <td>0.852459</td>\n",
       "      <td>0.945455</td>\n",
       "      <td>0.900000</td>\n",
       "      <td>...</td>\n",
       "      <td>0.931034</td>\n",
       "      <td>0.888889</td>\n",
       "      <td>0.965517</td>\n",
       "      <td>1.000000e+00</td>\n",
       "      <td>0.300000</td>\n",
       "      <td>0.666667</td>\n",
       "      <td>1.000000e+00</td>\n",
       "      <td>0.638298</td>\n",
       "      <td>0.966667</td>\n",
       "      <td>0.928571</td>\n",
       "    </tr>\n",
       "    <tr>\n",
       "      <th>false_alarm_rate</th>\n",
       "      <th>20</th>\n",
       "      <td>0.010677</td>\n",
       "      <td>0.053385</td>\n",
       "      <td>0.085417</td>\n",
       "      <td>0.010677</td>\n",
       "      <td>0.010677</td>\n",
       "      <td>0.010677</td>\n",
       "      <td>0.074740</td>\n",
       "      <td>0.074740</td>\n",
       "      <td>0.021129</td>\n",
       "      <td>0.063386</td>\n",
       "      <td>...</td>\n",
       "      <td>0.145047</td>\n",
       "      <td>0.096698</td>\n",
       "      <td>0.000000</td>\n",
       "      <td>0.000000e+00</td>\n",
       "      <td>0.214099</td>\n",
       "      <td>0.000000</td>\n",
       "      <td>0.000000e+00</td>\n",
       "      <td>0.107050</td>\n",
       "      <td>0.053525</td>\n",
       "      <td>0.000000</td>\n",
       "    </tr>\n",
       "    <tr>\n",
       "      <th>d_prime</th>\n",
       "      <th>20</th>\n",
       "      <td>3.766897</td>\n",
       "      <td>3.954658</td>\n",
       "      <td>0.301961</td>\n",
       "      <td>2.573543</td>\n",
       "      <td>3.766897</td>\n",
       "      <td>2.573543</td>\n",
       "      <td>3.244117</td>\n",
       "      <td>2.906607</td>\n",
       "      <td>3.817134</td>\n",
       "      <td>3.877443</td>\n",
       "      <td>...</td>\n",
       "      <td>2.860658</td>\n",
       "      <td>2.368168</td>\n",
       "      <td>3.439522</td>\n",
       "      <td>4.118694e+00</td>\n",
       "      <td>-0.049343</td>\n",
       "      <td>2.059347</td>\n",
       "      <td>4.118694e+00</td>\n",
       "      <td>1.242372</td>\n",
       "      <td>3.445512</td>\n",
       "      <td>3.105252</td>\n",
       "    </tr>\n",
       "    <tr>\n",
       "      <th>criterion</th>\n",
       "      <th>20</th>\n",
       "      <td>0.418215</td>\n",
       "      <td>-0.427646</td>\n",
       "      <td>1.218551</td>\n",
       "      <td>1.014892</td>\n",
       "      <td>0.418215</td>\n",
       "      <td>1.014892</td>\n",
       "      <td>-0.180685</td>\n",
       "      <td>-0.011930</td>\n",
       "      <td>0.122412</td>\n",
       "      <td>-0.466254</td>\n",
       "      <td>...</td>\n",
       "      <td>-0.372414</td>\n",
       "      <td>0.116514</td>\n",
       "      <td>0.339586</td>\n",
       "      <td>8.881784e-16</td>\n",
       "      <td>0.816950</td>\n",
       "      <td>1.029673</td>\n",
       "      <td>8.881784e-16</td>\n",
       "      <td>0.621186</td>\n",
       "      <td>-0.111159</td>\n",
       "      <td>0.506721</td>\n",
       "    </tr>\n",
       "  </tbody>\n",
       "</table>\n",
       "<p>252 rows × 266 columns</p>\n",
       "</div>"
      ]
     },
     "execution_count": 29,
     "metadata": {},
     "output_type": "execute_result"
    }
   ],
   "execution_count": 29
  },
  {
   "metadata": {},
   "cell_type": "markdown",
   "source": "## Onset Detection",
   "id": "868ee0f0eb29ae3d"
  },
  {
   "metadata": {
    "ExecuteTime": {
     "end_time": "2025-01-09T15:26:10.777203Z",
     "start_time": "2025-01-09T15:26:10.724779Z"
    }
   },
   "cell_type": "code",
   "source": [
    "onset_statistics, onset_pvalues, onset_nemenyi, onset_Ns = ch_sdt.friedman_nemenyi(\n",
    "    csdt_metrics, \"onset\", THRESHOLD, [GT1, GT2]\n",
    ")\n",
    "\n",
    "onset_pvalues <= ALPHA"
   ],
   "id": "56f6f09328bd51b7",
   "outputs": [
    {
     "data": {
      "text/plain": [
       "gt                  MN    RA\n",
       "metric                      \n",
       "criterion         True  True\n",
       "d_prime           True  True\n",
       "f1                True  True\n",
       "false_alarm_rate  True  True\n",
       "precision         True  True\n",
       "recall            True  True"
      ],
      "text/html": [
       "<div>\n",
       "<style scoped>\n",
       "    .dataframe tbody tr th:only-of-type {\n",
       "        vertical-align: middle;\n",
       "    }\n",
       "\n",
       "    .dataframe tbody tr th {\n",
       "        vertical-align: top;\n",
       "    }\n",
       "\n",
       "    .dataframe thead th {\n",
       "        text-align: right;\n",
       "    }\n",
       "</style>\n",
       "<table border=\"1\" class=\"dataframe\">\n",
       "  <thead>\n",
       "    <tr style=\"text-align: right;\">\n",
       "      <th>gt</th>\n",
       "      <th>MN</th>\n",
       "      <th>RA</th>\n",
       "    </tr>\n",
       "    <tr>\n",
       "      <th>metric</th>\n",
       "      <th></th>\n",
       "      <th></th>\n",
       "    </tr>\n",
       "  </thead>\n",
       "  <tbody>\n",
       "    <tr>\n",
       "      <th>criterion</th>\n",
       "      <td>True</td>\n",
       "      <td>True</td>\n",
       "    </tr>\n",
       "    <tr>\n",
       "      <th>d_prime</th>\n",
       "      <td>True</td>\n",
       "      <td>True</td>\n",
       "    </tr>\n",
       "    <tr>\n",
       "      <th>f1</th>\n",
       "      <td>True</td>\n",
       "      <td>True</td>\n",
       "    </tr>\n",
       "    <tr>\n",
       "      <th>false_alarm_rate</th>\n",
       "      <td>True</td>\n",
       "      <td>True</td>\n",
       "    </tr>\n",
       "    <tr>\n",
       "      <th>precision</th>\n",
       "      <td>True</td>\n",
       "      <td>True</td>\n",
       "    </tr>\n",
       "    <tr>\n",
       "      <th>recall</th>\n",
       "      <td>True</td>\n",
       "      <td>True</td>\n",
       "    </tr>\n",
       "  </tbody>\n",
       "</table>\n",
       "</div>"
      ]
     },
     "execution_count": 30,
     "metadata": {},
     "output_type": "execute_result"
    }
   ],
   "execution_count": 30
  },
  {
   "metadata": {
    "ExecuteTime": {
     "end_time": "2025-01-09T15:26:10.877435Z",
     "start_time": "2025-01-09T15:26:10.870106Z"
    }
   },
   "cell_type": "code",
   "source": "pd.concat([onset_statistics, onset_pvalues], axis=1, keys=['Q', 'p']).stack(1, future_stack=True)",
   "id": "66a4ccb96adea9c7",
   "outputs": [
    {
     "data": {
      "text/plain": [
       "                             Q             p\n",
       "metric           gt                         \n",
       "criterion        MN  65.783226  2.984602e-12\n",
       "                 RA  93.570652  5.484541e-18\n",
       "d_prime          MN  69.530323  5.104016e-13\n",
       "                 RA  90.157609  2.809965e-17\n",
       "f1               MN  69.158710  6.082556e-13\n",
       "                 RA  71.474359  2.037246e-13\n",
       "false_alarm_rate MN  44.961039  4.764385e-08\n",
       "                 RA  55.673507  3.388724e-10\n",
       "precision        MN  49.616580  5.610951e-09\n",
       "                 RA  68.967213  6.657793e-13\n",
       "recall           MN  73.873016  6.547338e-14\n",
       "                 RA  93.607843  5.387685e-18"
      ],
      "text/html": [
       "<div>\n",
       "<style scoped>\n",
       "    .dataframe tbody tr th:only-of-type {\n",
       "        vertical-align: middle;\n",
       "    }\n",
       "\n",
       "    .dataframe tbody tr th {\n",
       "        vertical-align: top;\n",
       "    }\n",
       "\n",
       "    .dataframe thead th {\n",
       "        text-align: right;\n",
       "    }\n",
       "</style>\n",
       "<table border=\"1\" class=\"dataframe\">\n",
       "  <thead>\n",
       "    <tr style=\"text-align: right;\">\n",
       "      <th></th>\n",
       "      <th></th>\n",
       "      <th>Q</th>\n",
       "      <th>p</th>\n",
       "    </tr>\n",
       "    <tr>\n",
       "      <th>metric</th>\n",
       "      <th>gt</th>\n",
       "      <th></th>\n",
       "      <th></th>\n",
       "    </tr>\n",
       "  </thead>\n",
       "  <tbody>\n",
       "    <tr>\n",
       "      <th rowspan=\"2\" valign=\"top\">criterion</th>\n",
       "      <th>MN</th>\n",
       "      <td>65.783226</td>\n",
       "      <td>2.984602e-12</td>\n",
       "    </tr>\n",
       "    <tr>\n",
       "      <th>RA</th>\n",
       "      <td>93.570652</td>\n",
       "      <td>5.484541e-18</td>\n",
       "    </tr>\n",
       "    <tr>\n",
       "      <th rowspan=\"2\" valign=\"top\">d_prime</th>\n",
       "      <th>MN</th>\n",
       "      <td>69.530323</td>\n",
       "      <td>5.104016e-13</td>\n",
       "    </tr>\n",
       "    <tr>\n",
       "      <th>RA</th>\n",
       "      <td>90.157609</td>\n",
       "      <td>2.809965e-17</td>\n",
       "    </tr>\n",
       "    <tr>\n",
       "      <th rowspan=\"2\" valign=\"top\">f1</th>\n",
       "      <th>MN</th>\n",
       "      <td>69.158710</td>\n",
       "      <td>6.082556e-13</td>\n",
       "    </tr>\n",
       "    <tr>\n",
       "      <th>RA</th>\n",
       "      <td>71.474359</td>\n",
       "      <td>2.037246e-13</td>\n",
       "    </tr>\n",
       "    <tr>\n",
       "      <th rowspan=\"2\" valign=\"top\">false_alarm_rate</th>\n",
       "      <th>MN</th>\n",
       "      <td>44.961039</td>\n",
       "      <td>4.764385e-08</td>\n",
       "    </tr>\n",
       "    <tr>\n",
       "      <th>RA</th>\n",
       "      <td>55.673507</td>\n",
       "      <td>3.388724e-10</td>\n",
       "    </tr>\n",
       "    <tr>\n",
       "      <th rowspan=\"2\" valign=\"top\">precision</th>\n",
       "      <th>MN</th>\n",
       "      <td>49.616580</td>\n",
       "      <td>5.610951e-09</td>\n",
       "    </tr>\n",
       "    <tr>\n",
       "      <th>RA</th>\n",
       "      <td>68.967213</td>\n",
       "      <td>6.657793e-13</td>\n",
       "    </tr>\n",
       "    <tr>\n",
       "      <th rowspan=\"2\" valign=\"top\">recall</th>\n",
       "      <th>MN</th>\n",
       "      <td>73.873016</td>\n",
       "      <td>6.547338e-14</td>\n",
       "    </tr>\n",
       "    <tr>\n",
       "      <th>RA</th>\n",
       "      <td>93.607843</td>\n",
       "      <td>5.387685e-18</td>\n",
       "    </tr>\n",
       "  </tbody>\n",
       "</table>\n",
       "</div>"
      ]
     },
     "execution_count": 31,
     "metadata": {},
     "output_type": "execute_result"
    }
   ],
   "execution_count": 31
  },
  {
   "metadata": {},
   "cell_type": "markdown",
   "source": [
    "### Post Hoc Analysis\n",
    "#### $d'$"
   ],
   "id": "f6cf9657861db72d"
  },
  {
   "metadata": {
    "ExecuteTime": {
     "end_time": "2025-01-09T15:26:10.927225Z",
     "start_time": "2025-01-09T15:26:10.913584Z"
    }
   },
   "cell_type": "code",
   "source": [
    "post_hoc_onset_dprime = ch_sdt.post_hoc_table(\n",
    "    onset_nemenyi, peyes.constants.D_PRIME_STR, [GT1, GT2], ALPHA, marginal_alpha=MARGINAL_ALPHA\n",
    ")\n",
    "post_hoc_onset_dprime"
   ],
   "id": "d5c454d4668bdb86",
   "outputs": [
    {
     "data": {
      "text/plain": [
       "pred            ivt    ivvt     idt    idvt engbert      nh remodnav\n",
       "pred     gt                                                         \n",
       "ivt      MN      --    n.s.       *       *    n.s.    n.s.     n.s.\n",
       "         RA      --    n.s.     ***      **    n.s.    n.s.     n.s.\n",
       "ivvt     MN  0.9467      --     ***     ***    n.s.    n.s.     n.s.\n",
       "         RA  0.9590      --     ***     ***    n.s.    n.s.     n.s.\n",
       "idt      MN  0.0262  0.0002      --    n.s.     ***      **     n.s.\n",
       "         RA  0.0010  0.0000      --    n.s.     ***     ***     n.s.\n",
       "idvt     MN  0.0322  0.0003  1.0000      --     ***      **     n.s.\n",
       "         RA  0.0012  0.0000  1.0000      --     ***     ***     n.s.\n",
       "engbert  MN  0.5759  0.9926  0.0000  0.0000      --    n.s.        *\n",
       "         RA  0.5373  0.9841  0.0000  0.0000      --    n.s.        *\n",
       "nh       MN  0.9986  0.9987  0.0032  0.0041  0.8863      --     n.s.\n",
       "         RA  1.0000  0.9919  0.0002  0.0003  0.7200      --     n.s.\n",
       "remodnav MN  0.9046  0.2653  0.4979  0.5397  0.0383  0.6100       --\n",
       "         RA  0.8462  0.2215  0.1394  0.1546  0.0193  0.6924       --"
      ],
      "text/html": [
       "<div>\n",
       "<style scoped>\n",
       "    .dataframe tbody tr th:only-of-type {\n",
       "        vertical-align: middle;\n",
       "    }\n",
       "\n",
       "    .dataframe tbody tr th {\n",
       "        vertical-align: top;\n",
       "    }\n",
       "\n",
       "    .dataframe thead th {\n",
       "        text-align: right;\n",
       "    }\n",
       "</style>\n",
       "<table border=\"1\" class=\"dataframe\">\n",
       "  <thead>\n",
       "    <tr style=\"text-align: right;\">\n",
       "      <th></th>\n",
       "      <th>pred</th>\n",
       "      <th>ivt</th>\n",
       "      <th>ivvt</th>\n",
       "      <th>idt</th>\n",
       "      <th>idvt</th>\n",
       "      <th>engbert</th>\n",
       "      <th>nh</th>\n",
       "      <th>remodnav</th>\n",
       "    </tr>\n",
       "    <tr>\n",
       "      <th>pred</th>\n",
       "      <th>gt</th>\n",
       "      <th></th>\n",
       "      <th></th>\n",
       "      <th></th>\n",
       "      <th></th>\n",
       "      <th></th>\n",
       "      <th></th>\n",
       "      <th></th>\n",
       "    </tr>\n",
       "  </thead>\n",
       "  <tbody>\n",
       "    <tr>\n",
       "      <th rowspan=\"2\" valign=\"top\">ivt</th>\n",
       "      <th>MN</th>\n",
       "      <td>--</td>\n",
       "      <td>n.s.</td>\n",
       "      <td>*</td>\n",
       "      <td>*</td>\n",
       "      <td>n.s.</td>\n",
       "      <td>n.s.</td>\n",
       "      <td>n.s.</td>\n",
       "    </tr>\n",
       "    <tr>\n",
       "      <th>RA</th>\n",
       "      <td>--</td>\n",
       "      <td>n.s.</td>\n",
       "      <td>***</td>\n",
       "      <td>**</td>\n",
       "      <td>n.s.</td>\n",
       "      <td>n.s.</td>\n",
       "      <td>n.s.</td>\n",
       "    </tr>\n",
       "    <tr>\n",
       "      <th rowspan=\"2\" valign=\"top\">ivvt</th>\n",
       "      <th>MN</th>\n",
       "      <td>0.9467</td>\n",
       "      <td>--</td>\n",
       "      <td>***</td>\n",
       "      <td>***</td>\n",
       "      <td>n.s.</td>\n",
       "      <td>n.s.</td>\n",
       "      <td>n.s.</td>\n",
       "    </tr>\n",
       "    <tr>\n",
       "      <th>RA</th>\n",
       "      <td>0.9590</td>\n",
       "      <td>--</td>\n",
       "      <td>***</td>\n",
       "      <td>***</td>\n",
       "      <td>n.s.</td>\n",
       "      <td>n.s.</td>\n",
       "      <td>n.s.</td>\n",
       "    </tr>\n",
       "    <tr>\n",
       "      <th rowspan=\"2\" valign=\"top\">idt</th>\n",
       "      <th>MN</th>\n",
       "      <td>0.0262</td>\n",
       "      <td>0.0002</td>\n",
       "      <td>--</td>\n",
       "      <td>n.s.</td>\n",
       "      <td>***</td>\n",
       "      <td>**</td>\n",
       "      <td>n.s.</td>\n",
       "    </tr>\n",
       "    <tr>\n",
       "      <th>RA</th>\n",
       "      <td>0.0010</td>\n",
       "      <td>0.0000</td>\n",
       "      <td>--</td>\n",
       "      <td>n.s.</td>\n",
       "      <td>***</td>\n",
       "      <td>***</td>\n",
       "      <td>n.s.</td>\n",
       "    </tr>\n",
       "    <tr>\n",
       "      <th rowspan=\"2\" valign=\"top\">idvt</th>\n",
       "      <th>MN</th>\n",
       "      <td>0.0322</td>\n",
       "      <td>0.0003</td>\n",
       "      <td>1.0000</td>\n",
       "      <td>--</td>\n",
       "      <td>***</td>\n",
       "      <td>**</td>\n",
       "      <td>n.s.</td>\n",
       "    </tr>\n",
       "    <tr>\n",
       "      <th>RA</th>\n",
       "      <td>0.0012</td>\n",
       "      <td>0.0000</td>\n",
       "      <td>1.0000</td>\n",
       "      <td>--</td>\n",
       "      <td>***</td>\n",
       "      <td>***</td>\n",
       "      <td>n.s.</td>\n",
       "    </tr>\n",
       "    <tr>\n",
       "      <th rowspan=\"2\" valign=\"top\">engbert</th>\n",
       "      <th>MN</th>\n",
       "      <td>0.5759</td>\n",
       "      <td>0.9926</td>\n",
       "      <td>0.0000</td>\n",
       "      <td>0.0000</td>\n",
       "      <td>--</td>\n",
       "      <td>n.s.</td>\n",
       "      <td>*</td>\n",
       "    </tr>\n",
       "    <tr>\n",
       "      <th>RA</th>\n",
       "      <td>0.5373</td>\n",
       "      <td>0.9841</td>\n",
       "      <td>0.0000</td>\n",
       "      <td>0.0000</td>\n",
       "      <td>--</td>\n",
       "      <td>n.s.</td>\n",
       "      <td>*</td>\n",
       "    </tr>\n",
       "    <tr>\n",
       "      <th rowspan=\"2\" valign=\"top\">nh</th>\n",
       "      <th>MN</th>\n",
       "      <td>0.9986</td>\n",
       "      <td>0.9987</td>\n",
       "      <td>0.0032</td>\n",
       "      <td>0.0041</td>\n",
       "      <td>0.8863</td>\n",
       "      <td>--</td>\n",
       "      <td>n.s.</td>\n",
       "    </tr>\n",
       "    <tr>\n",
       "      <th>RA</th>\n",
       "      <td>1.0000</td>\n",
       "      <td>0.9919</td>\n",
       "      <td>0.0002</td>\n",
       "      <td>0.0003</td>\n",
       "      <td>0.7200</td>\n",
       "      <td>--</td>\n",
       "      <td>n.s.</td>\n",
       "    </tr>\n",
       "    <tr>\n",
       "      <th rowspan=\"2\" valign=\"top\">remodnav</th>\n",
       "      <th>MN</th>\n",
       "      <td>0.9046</td>\n",
       "      <td>0.2653</td>\n",
       "      <td>0.4979</td>\n",
       "      <td>0.5397</td>\n",
       "      <td>0.0383</td>\n",
       "      <td>0.6100</td>\n",
       "      <td>--</td>\n",
       "    </tr>\n",
       "    <tr>\n",
       "      <th>RA</th>\n",
       "      <td>0.8462</td>\n",
       "      <td>0.2215</td>\n",
       "      <td>0.1394</td>\n",
       "      <td>0.1546</td>\n",
       "      <td>0.0193</td>\n",
       "      <td>0.6924</td>\n",
       "      <td>--</td>\n",
       "    </tr>\n",
       "  </tbody>\n",
       "</table>\n",
       "</div>"
      ]
     },
     "execution_count": 32,
     "metadata": {},
     "output_type": "execute_result"
    }
   ],
   "execution_count": 32
  },
  {
   "metadata": {},
   "cell_type": "markdown",
   "source": "#### $f1$",
   "id": "74de59c0fab80c89"
  },
  {
   "metadata": {
    "ExecuteTime": {
     "end_time": "2025-01-09T15:26:10.970728Z",
     "start_time": "2025-01-09T15:26:10.957470Z"
    }
   },
   "cell_type": "code",
   "source": [
    "post_hoc_onset_f1 = ch_sdt.post_hoc_table(\n",
    "    onset_nemenyi, peyes.constants.F1_STR, [GT1, GT2], ALPHA, marginal_alpha=MARGINAL_ALPHA\n",
    ")\n",
    "post_hoc_onset_f1"
   ],
   "id": "3ef3b95a1ec4f610",
   "outputs": [
    {
     "data": {
      "text/plain": [
       "pred            ivt    ivvt     idt    idvt engbert      nh remodnav\n",
       "pred     gt                                                         \n",
       "ivt      MN      --    n.s.      **      **    n.s.    n.s.     n.s.\n",
       "         RA      --    n.s.      **      **    n.s.    n.s.     n.s.\n",
       "ivvt     MN  0.9970      --     ***     ***    n.s.    n.s.     n.s.\n",
       "         RA  0.9944      --     ***     ***    n.s.    n.s.     n.s.\n",
       "idt      MN  0.0061  0.0003      --    n.s.     ***      **     n.s.\n",
       "         RA  0.0016  0.0001      --    n.s.     ***     ***     n.s.\n",
       "idvt     MN  0.0078  0.0005  1.0000      --     ***      **     n.s.\n",
       "         RA  0.0018  0.0001  1.0000      --     ***      **     n.s.\n",
       "engbert  MN  0.8120  0.9873  0.0000  0.0000      --    n.s.        *\n",
       "         RA  0.7876  0.9897  0.0000  0.0000      --    n.s.        *\n",
       "nh       MN  1.0000  0.9999  0.0018  0.0024  0.9269      --     n.s.\n",
       "         RA  1.0000  0.9978  0.0010  0.0011  0.8424      --     n.s.\n",
       "remodnav MN  0.7271  0.3178  0.4827  0.5244  0.0404  0.5397       --\n",
       "         RA  0.6217  0.1948  0.3419  0.3576  0.0199  0.5484       --"
      ],
      "text/html": [
       "<div>\n",
       "<style scoped>\n",
       "    .dataframe tbody tr th:only-of-type {\n",
       "        vertical-align: middle;\n",
       "    }\n",
       "\n",
       "    .dataframe tbody tr th {\n",
       "        vertical-align: top;\n",
       "    }\n",
       "\n",
       "    .dataframe thead th {\n",
       "        text-align: right;\n",
       "    }\n",
       "</style>\n",
       "<table border=\"1\" class=\"dataframe\">\n",
       "  <thead>\n",
       "    <tr style=\"text-align: right;\">\n",
       "      <th></th>\n",
       "      <th>pred</th>\n",
       "      <th>ivt</th>\n",
       "      <th>ivvt</th>\n",
       "      <th>idt</th>\n",
       "      <th>idvt</th>\n",
       "      <th>engbert</th>\n",
       "      <th>nh</th>\n",
       "      <th>remodnav</th>\n",
       "    </tr>\n",
       "    <tr>\n",
       "      <th>pred</th>\n",
       "      <th>gt</th>\n",
       "      <th></th>\n",
       "      <th></th>\n",
       "      <th></th>\n",
       "      <th></th>\n",
       "      <th></th>\n",
       "      <th></th>\n",
       "      <th></th>\n",
       "    </tr>\n",
       "  </thead>\n",
       "  <tbody>\n",
       "    <tr>\n",
       "      <th rowspan=\"2\" valign=\"top\">ivt</th>\n",
       "      <th>MN</th>\n",
       "      <td>--</td>\n",
       "      <td>n.s.</td>\n",
       "      <td>**</td>\n",
       "      <td>**</td>\n",
       "      <td>n.s.</td>\n",
       "      <td>n.s.</td>\n",
       "      <td>n.s.</td>\n",
       "    </tr>\n",
       "    <tr>\n",
       "      <th>RA</th>\n",
       "      <td>--</td>\n",
       "      <td>n.s.</td>\n",
       "      <td>**</td>\n",
       "      <td>**</td>\n",
       "      <td>n.s.</td>\n",
       "      <td>n.s.</td>\n",
       "      <td>n.s.</td>\n",
       "    </tr>\n",
       "    <tr>\n",
       "      <th rowspan=\"2\" valign=\"top\">ivvt</th>\n",
       "      <th>MN</th>\n",
       "      <td>0.9970</td>\n",
       "      <td>--</td>\n",
       "      <td>***</td>\n",
       "      <td>***</td>\n",
       "      <td>n.s.</td>\n",
       "      <td>n.s.</td>\n",
       "      <td>n.s.</td>\n",
       "    </tr>\n",
       "    <tr>\n",
       "      <th>RA</th>\n",
       "      <td>0.9944</td>\n",
       "      <td>--</td>\n",
       "      <td>***</td>\n",
       "      <td>***</td>\n",
       "      <td>n.s.</td>\n",
       "      <td>n.s.</td>\n",
       "      <td>n.s.</td>\n",
       "    </tr>\n",
       "    <tr>\n",
       "      <th rowspan=\"2\" valign=\"top\">idt</th>\n",
       "      <th>MN</th>\n",
       "      <td>0.0061</td>\n",
       "      <td>0.0003</td>\n",
       "      <td>--</td>\n",
       "      <td>n.s.</td>\n",
       "      <td>***</td>\n",
       "      <td>**</td>\n",
       "      <td>n.s.</td>\n",
       "    </tr>\n",
       "    <tr>\n",
       "      <th>RA</th>\n",
       "      <td>0.0016</td>\n",
       "      <td>0.0001</td>\n",
       "      <td>--</td>\n",
       "      <td>n.s.</td>\n",
       "      <td>***</td>\n",
       "      <td>***</td>\n",
       "      <td>n.s.</td>\n",
       "    </tr>\n",
       "    <tr>\n",
       "      <th rowspan=\"2\" valign=\"top\">idvt</th>\n",
       "      <th>MN</th>\n",
       "      <td>0.0078</td>\n",
       "      <td>0.0005</td>\n",
       "      <td>1.0000</td>\n",
       "      <td>--</td>\n",
       "      <td>***</td>\n",
       "      <td>**</td>\n",
       "      <td>n.s.</td>\n",
       "    </tr>\n",
       "    <tr>\n",
       "      <th>RA</th>\n",
       "      <td>0.0018</td>\n",
       "      <td>0.0001</td>\n",
       "      <td>1.0000</td>\n",
       "      <td>--</td>\n",
       "      <td>***</td>\n",
       "      <td>**</td>\n",
       "      <td>n.s.</td>\n",
       "    </tr>\n",
       "    <tr>\n",
       "      <th rowspan=\"2\" valign=\"top\">engbert</th>\n",
       "      <th>MN</th>\n",
       "      <td>0.8120</td>\n",
       "      <td>0.9873</td>\n",
       "      <td>0.0000</td>\n",
       "      <td>0.0000</td>\n",
       "      <td>--</td>\n",
       "      <td>n.s.</td>\n",
       "      <td>*</td>\n",
       "    </tr>\n",
       "    <tr>\n",
       "      <th>RA</th>\n",
       "      <td>0.7876</td>\n",
       "      <td>0.9897</td>\n",
       "      <td>0.0000</td>\n",
       "      <td>0.0000</td>\n",
       "      <td>--</td>\n",
       "      <td>n.s.</td>\n",
       "      <td>*</td>\n",
       "    </tr>\n",
       "    <tr>\n",
       "      <th rowspan=\"2\" valign=\"top\">nh</th>\n",
       "      <th>MN</th>\n",
       "      <td>1.0000</td>\n",
       "      <td>0.9999</td>\n",
       "      <td>0.0018</td>\n",
       "      <td>0.0024</td>\n",
       "      <td>0.9269</td>\n",
       "      <td>--</td>\n",
       "      <td>n.s.</td>\n",
       "    </tr>\n",
       "    <tr>\n",
       "      <th>RA</th>\n",
       "      <td>1.0000</td>\n",
       "      <td>0.9978</td>\n",
       "      <td>0.0010</td>\n",
       "      <td>0.0011</td>\n",
       "      <td>0.8424</td>\n",
       "      <td>--</td>\n",
       "      <td>n.s.</td>\n",
       "    </tr>\n",
       "    <tr>\n",
       "      <th rowspan=\"2\" valign=\"top\">remodnav</th>\n",
       "      <th>MN</th>\n",
       "      <td>0.7271</td>\n",
       "      <td>0.3178</td>\n",
       "      <td>0.4827</td>\n",
       "      <td>0.5244</td>\n",
       "      <td>0.0404</td>\n",
       "      <td>0.5397</td>\n",
       "      <td>--</td>\n",
       "    </tr>\n",
       "    <tr>\n",
       "      <th>RA</th>\n",
       "      <td>0.6217</td>\n",
       "      <td>0.1948</td>\n",
       "      <td>0.3419</td>\n",
       "      <td>0.3576</td>\n",
       "      <td>0.0199</td>\n",
       "      <td>0.5484</td>\n",
       "      <td>--</td>\n",
       "    </tr>\n",
       "  </tbody>\n",
       "</table>\n",
       "</div>"
      ]
     },
     "execution_count": 33,
     "metadata": {},
     "output_type": "execute_result"
    }
   ],
   "execution_count": 33
  },
  {
   "metadata": {},
   "cell_type": "markdown",
   "source": "#### Criterion",
   "id": "ec803102f35ba403"
  },
  {
   "metadata": {
    "ExecuteTime": {
     "end_time": "2025-01-09T15:26:11.014937Z",
     "start_time": "2025-01-09T15:26:11.000753Z"
    }
   },
   "cell_type": "code",
   "source": [
    "post_hoc_onset_crit = ch_sdt.post_hoc_table(\n",
    "    onset_nemenyi, peyes.constants.CRITERION_STR, [GT1, GT2], ALPHA, marginal_alpha=MARGINAL_ALPHA\n",
    ")\n",
    "post_hoc_onset_crit"
   ],
   "id": "1483b47cd9ced1b7",
   "outputs": [
    {
     "data": {
      "text/plain": [
       "pred            ivt    ivvt     idt    idvt engbert      nh remodnav\n",
       "pred     gt                                                         \n",
       "ivt      MN      --    n.s.       *       *    n.s.    n.s.     n.s.\n",
       "         RA      --    n.s.     ***     ***    n.s.    n.s.     n.s.\n",
       "ivvt     MN  0.5873      --     ***     ***    n.s.       †      ***\n",
       "         RA  0.6119      --     ***     ***    n.s.       *      ***\n",
       "idt      MN  0.0247  0.0000      --    n.s.     ***    n.s.     n.s.\n",
       "         RA  0.0008  0.0000      --    n.s.     ***    n.s.     n.s.\n",
       "idvt     MN  0.0181  0.0000  1.0000      --     ***    n.s.     n.s.\n",
       "         RA  0.0006  0.0000  1.0000      --     ***       †     n.s.\n",
       "engbert  MN  0.7807  1.0000  0.0000  0.0000      --    n.s.       **\n",
       "         RA  0.7840  1.0000  0.0000  0.0000      --    n.s.      ***\n",
       "nh       MN  0.9369  0.0562  0.4161  0.3595  0.1315      --     n.s.\n",
       "         RA  0.9116  0.0484  0.0805  0.0699  0.1071      --     n.s.\n",
       "remodnav MN  0.3114  0.0007  0.9717  0.9559  0.0029  0.9412       --\n",
       "         RA  0.0906  0.0001  0.8968  0.8780  0.0002  0.7486       --"
      ],
      "text/html": [
       "<div>\n",
       "<style scoped>\n",
       "    .dataframe tbody tr th:only-of-type {\n",
       "        vertical-align: middle;\n",
       "    }\n",
       "\n",
       "    .dataframe tbody tr th {\n",
       "        vertical-align: top;\n",
       "    }\n",
       "\n",
       "    .dataframe thead th {\n",
       "        text-align: right;\n",
       "    }\n",
       "</style>\n",
       "<table border=\"1\" class=\"dataframe\">\n",
       "  <thead>\n",
       "    <tr style=\"text-align: right;\">\n",
       "      <th></th>\n",
       "      <th>pred</th>\n",
       "      <th>ivt</th>\n",
       "      <th>ivvt</th>\n",
       "      <th>idt</th>\n",
       "      <th>idvt</th>\n",
       "      <th>engbert</th>\n",
       "      <th>nh</th>\n",
       "      <th>remodnav</th>\n",
       "    </tr>\n",
       "    <tr>\n",
       "      <th>pred</th>\n",
       "      <th>gt</th>\n",
       "      <th></th>\n",
       "      <th></th>\n",
       "      <th></th>\n",
       "      <th></th>\n",
       "      <th></th>\n",
       "      <th></th>\n",
       "      <th></th>\n",
       "    </tr>\n",
       "  </thead>\n",
       "  <tbody>\n",
       "    <tr>\n",
       "      <th rowspan=\"2\" valign=\"top\">ivt</th>\n",
       "      <th>MN</th>\n",
       "      <td>--</td>\n",
       "      <td>n.s.</td>\n",
       "      <td>*</td>\n",
       "      <td>*</td>\n",
       "      <td>n.s.</td>\n",
       "      <td>n.s.</td>\n",
       "      <td>n.s.</td>\n",
       "    </tr>\n",
       "    <tr>\n",
       "      <th>RA</th>\n",
       "      <td>--</td>\n",
       "      <td>n.s.</td>\n",
       "      <td>***</td>\n",
       "      <td>***</td>\n",
       "      <td>n.s.</td>\n",
       "      <td>n.s.</td>\n",
       "      <td>n.s.</td>\n",
       "    </tr>\n",
       "    <tr>\n",
       "      <th rowspan=\"2\" valign=\"top\">ivvt</th>\n",
       "      <th>MN</th>\n",
       "      <td>0.5873</td>\n",
       "      <td>--</td>\n",
       "      <td>***</td>\n",
       "      <td>***</td>\n",
       "      <td>n.s.</td>\n",
       "      <td>†</td>\n",
       "      <td>***</td>\n",
       "    </tr>\n",
       "    <tr>\n",
       "      <th>RA</th>\n",
       "      <td>0.6119</td>\n",
       "      <td>--</td>\n",
       "      <td>***</td>\n",
       "      <td>***</td>\n",
       "      <td>n.s.</td>\n",
       "      <td>*</td>\n",
       "      <td>***</td>\n",
       "    </tr>\n",
       "    <tr>\n",
       "      <th rowspan=\"2\" valign=\"top\">idt</th>\n",
       "      <th>MN</th>\n",
       "      <td>0.0247</td>\n",
       "      <td>0.0000</td>\n",
       "      <td>--</td>\n",
       "      <td>n.s.</td>\n",
       "      <td>***</td>\n",
       "      <td>n.s.</td>\n",
       "      <td>n.s.</td>\n",
       "    </tr>\n",
       "    <tr>\n",
       "      <th>RA</th>\n",
       "      <td>0.0008</td>\n",
       "      <td>0.0000</td>\n",
       "      <td>--</td>\n",
       "      <td>n.s.</td>\n",
       "      <td>***</td>\n",
       "      <td>n.s.</td>\n",
       "      <td>n.s.</td>\n",
       "    </tr>\n",
       "    <tr>\n",
       "      <th rowspan=\"2\" valign=\"top\">idvt</th>\n",
       "      <th>MN</th>\n",
       "      <td>0.0181</td>\n",
       "      <td>0.0000</td>\n",
       "      <td>1.0000</td>\n",
       "      <td>--</td>\n",
       "      <td>***</td>\n",
       "      <td>n.s.</td>\n",
       "      <td>n.s.</td>\n",
       "    </tr>\n",
       "    <tr>\n",
       "      <th>RA</th>\n",
       "      <td>0.0006</td>\n",
       "      <td>0.0000</td>\n",
       "      <td>1.0000</td>\n",
       "      <td>--</td>\n",
       "      <td>***</td>\n",
       "      <td>†</td>\n",
       "      <td>n.s.</td>\n",
       "    </tr>\n",
       "    <tr>\n",
       "      <th rowspan=\"2\" valign=\"top\">engbert</th>\n",
       "      <th>MN</th>\n",
       "      <td>0.7807</td>\n",
       "      <td>1.0000</td>\n",
       "      <td>0.0000</td>\n",
       "      <td>0.0000</td>\n",
       "      <td>--</td>\n",
       "      <td>n.s.</td>\n",
       "      <td>**</td>\n",
       "    </tr>\n",
       "    <tr>\n",
       "      <th>RA</th>\n",
       "      <td>0.7840</td>\n",
       "      <td>1.0000</td>\n",
       "      <td>0.0000</td>\n",
       "      <td>0.0000</td>\n",
       "      <td>--</td>\n",
       "      <td>n.s.</td>\n",
       "      <td>***</td>\n",
       "    </tr>\n",
       "    <tr>\n",
       "      <th rowspan=\"2\" valign=\"top\">nh</th>\n",
       "      <th>MN</th>\n",
       "      <td>0.9369</td>\n",
       "      <td>0.0562</td>\n",
       "      <td>0.4161</td>\n",
       "      <td>0.3595</td>\n",
       "      <td>0.1315</td>\n",
       "      <td>--</td>\n",
       "      <td>n.s.</td>\n",
       "    </tr>\n",
       "    <tr>\n",
       "      <th>RA</th>\n",
       "      <td>0.9116</td>\n",
       "      <td>0.0484</td>\n",
       "      <td>0.0805</td>\n",
       "      <td>0.0699</td>\n",
       "      <td>0.1071</td>\n",
       "      <td>--</td>\n",
       "      <td>n.s.</td>\n",
       "    </tr>\n",
       "    <tr>\n",
       "      <th rowspan=\"2\" valign=\"top\">remodnav</th>\n",
       "      <th>MN</th>\n",
       "      <td>0.3114</td>\n",
       "      <td>0.0007</td>\n",
       "      <td>0.9717</td>\n",
       "      <td>0.9559</td>\n",
       "      <td>0.0029</td>\n",
       "      <td>0.9412</td>\n",
       "      <td>--</td>\n",
       "    </tr>\n",
       "    <tr>\n",
       "      <th>RA</th>\n",
       "      <td>0.0906</td>\n",
       "      <td>0.0001</td>\n",
       "      <td>0.8968</td>\n",
       "      <td>0.8780</td>\n",
       "      <td>0.0002</td>\n",
       "      <td>0.7486</td>\n",
       "      <td>--</td>\n",
       "    </tr>\n",
       "  </tbody>\n",
       "</table>\n",
       "</div>"
      ]
     },
     "execution_count": 34,
     "metadata": {},
     "output_type": "execute_result"
    }
   ],
   "execution_count": 34
  },
  {
   "metadata": {},
   "cell_type": "markdown",
   "source": "## Offset Detection",
   "id": "33b7d591ad73ef29"
  },
  {
   "metadata": {
    "ExecuteTime": {
     "end_time": "2025-01-09T15:26:11.097458Z",
     "start_time": "2025-01-09T15:26:11.046265Z"
    }
   },
   "cell_type": "code",
   "source": [
    "offset_statistics, offset_pvalues, offset_nemenyi, offset_Ns = ch_sdt.friedman_nemenyi(\n",
    "    csdt_metrics, \"offset\", THRESHOLD, [GT1, GT2]\n",
    ")\n",
    "\n",
    "offset_pvalues <= ALPHA"
   ],
   "id": "f95fc40e661b29aa",
   "outputs": [
    {
     "data": {
      "text/plain": [
       "gt                  MN    RA\n",
       "metric                      \n",
       "criterion         True  True\n",
       "d_prime           True  True\n",
       "f1                True  True\n",
       "false_alarm_rate  True  True\n",
       "precision         True  True\n",
       "recall            True  True"
      ],
      "text/html": [
       "<div>\n",
       "<style scoped>\n",
       "    .dataframe tbody tr th:only-of-type {\n",
       "        vertical-align: middle;\n",
       "    }\n",
       "\n",
       "    .dataframe tbody tr th {\n",
       "        vertical-align: top;\n",
       "    }\n",
       "\n",
       "    .dataframe thead th {\n",
       "        text-align: right;\n",
       "    }\n",
       "</style>\n",
       "<table border=\"1\" class=\"dataframe\">\n",
       "  <thead>\n",
       "    <tr style=\"text-align: right;\">\n",
       "      <th>gt</th>\n",
       "      <th>MN</th>\n",
       "      <th>RA</th>\n",
       "    </tr>\n",
       "    <tr>\n",
       "      <th>metric</th>\n",
       "      <th></th>\n",
       "      <th></th>\n",
       "    </tr>\n",
       "  </thead>\n",
       "  <tbody>\n",
       "    <tr>\n",
       "      <th>criterion</th>\n",
       "      <td>True</td>\n",
       "      <td>True</td>\n",
       "    </tr>\n",
       "    <tr>\n",
       "      <th>d_prime</th>\n",
       "      <td>True</td>\n",
       "      <td>True</td>\n",
       "    </tr>\n",
       "    <tr>\n",
       "      <th>f1</th>\n",
       "      <td>True</td>\n",
       "      <td>True</td>\n",
       "    </tr>\n",
       "    <tr>\n",
       "      <th>false_alarm_rate</th>\n",
       "      <td>True</td>\n",
       "      <td>True</td>\n",
       "    </tr>\n",
       "    <tr>\n",
       "      <th>precision</th>\n",
       "      <td>True</td>\n",
       "      <td>True</td>\n",
       "    </tr>\n",
       "    <tr>\n",
       "      <th>recall</th>\n",
       "      <td>True</td>\n",
       "      <td>True</td>\n",
       "    </tr>\n",
       "  </tbody>\n",
       "</table>\n",
       "</div>"
      ]
     },
     "execution_count": 35,
     "metadata": {},
     "output_type": "execute_result"
    }
   ],
   "execution_count": 35
  },
  {
   "metadata": {
    "ExecuteTime": {
     "end_time": "2025-01-09T15:26:11.197812Z",
     "start_time": "2025-01-09T15:26:11.191710Z"
    }
   },
   "cell_type": "code",
   "source": "pd.concat([offset_statistics, offset_pvalues], axis=1, keys=['Q', 'p']).stack(1, future_stack=True)",
   "id": "96f2c9e58c03a12f",
   "outputs": [
    {
     "data": {
      "text/plain": [
       "                              Q             p\n",
       "metric           gt                          \n",
       "criterion        MN   68.945736  6.725602e-13\n",
       "                 RA   98.235721  5.854802e-19\n",
       "d_prime          MN   72.000000  1.588873e-13\n",
       "                 RA   94.242974  3.974055e-18\n",
       "f1               MN   58.977376  7.260057e-11\n",
       "                 RA   79.778226  3.970301e-15\n",
       "false_alarm_rate MN   33.683089  7.744746e-06\n",
       "                 RA   53.316033  1.013328e-09\n",
       "precision        MN   57.643979  1.353008e-10\n",
       "                 RA   68.360476  8.863997e-13\n",
       "recall           MN   73.435484  8.054783e-14\n",
       "                 RA  102.486334  7.595625e-20"
      ],
      "text/html": [
       "<div>\n",
       "<style scoped>\n",
       "    .dataframe tbody tr th:only-of-type {\n",
       "        vertical-align: middle;\n",
       "    }\n",
       "\n",
       "    .dataframe tbody tr th {\n",
       "        vertical-align: top;\n",
       "    }\n",
       "\n",
       "    .dataframe thead th {\n",
       "        text-align: right;\n",
       "    }\n",
       "</style>\n",
       "<table border=\"1\" class=\"dataframe\">\n",
       "  <thead>\n",
       "    <tr style=\"text-align: right;\">\n",
       "      <th></th>\n",
       "      <th></th>\n",
       "      <th>Q</th>\n",
       "      <th>p</th>\n",
       "    </tr>\n",
       "    <tr>\n",
       "      <th>metric</th>\n",
       "      <th>gt</th>\n",
       "      <th></th>\n",
       "      <th></th>\n",
       "    </tr>\n",
       "  </thead>\n",
       "  <tbody>\n",
       "    <tr>\n",
       "      <th rowspan=\"2\" valign=\"top\">criterion</th>\n",
       "      <th>MN</th>\n",
       "      <td>68.945736</td>\n",
       "      <td>6.725602e-13</td>\n",
       "    </tr>\n",
       "    <tr>\n",
       "      <th>RA</th>\n",
       "      <td>98.235721</td>\n",
       "      <td>5.854802e-19</td>\n",
       "    </tr>\n",
       "    <tr>\n",
       "      <th rowspan=\"2\" valign=\"top\">d_prime</th>\n",
       "      <th>MN</th>\n",
       "      <td>72.000000</td>\n",
       "      <td>1.588873e-13</td>\n",
       "    </tr>\n",
       "    <tr>\n",
       "      <th>RA</th>\n",
       "      <td>94.242974</td>\n",
       "      <td>3.974055e-18</td>\n",
       "    </tr>\n",
       "    <tr>\n",
       "      <th rowspan=\"2\" valign=\"top\">f1</th>\n",
       "      <th>MN</th>\n",
       "      <td>58.977376</td>\n",
       "      <td>7.260057e-11</td>\n",
       "    </tr>\n",
       "    <tr>\n",
       "      <th>RA</th>\n",
       "      <td>79.778226</td>\n",
       "      <td>3.970301e-15</td>\n",
       "    </tr>\n",
       "    <tr>\n",
       "      <th rowspan=\"2\" valign=\"top\">false_alarm_rate</th>\n",
       "      <th>MN</th>\n",
       "      <td>33.683089</td>\n",
       "      <td>7.744746e-06</td>\n",
       "    </tr>\n",
       "    <tr>\n",
       "      <th>RA</th>\n",
       "      <td>53.316033</td>\n",
       "      <td>1.013328e-09</td>\n",
       "    </tr>\n",
       "    <tr>\n",
       "      <th rowspan=\"2\" valign=\"top\">precision</th>\n",
       "      <th>MN</th>\n",
       "      <td>57.643979</td>\n",
       "      <td>1.353008e-10</td>\n",
       "    </tr>\n",
       "    <tr>\n",
       "      <th>RA</th>\n",
       "      <td>68.360476</td>\n",
       "      <td>8.863997e-13</td>\n",
       "    </tr>\n",
       "    <tr>\n",
       "      <th rowspan=\"2\" valign=\"top\">recall</th>\n",
       "      <th>MN</th>\n",
       "      <td>73.435484</td>\n",
       "      <td>8.054783e-14</td>\n",
       "    </tr>\n",
       "    <tr>\n",
       "      <th>RA</th>\n",
       "      <td>102.486334</td>\n",
       "      <td>7.595625e-20</td>\n",
       "    </tr>\n",
       "  </tbody>\n",
       "</table>\n",
       "</div>"
      ]
     },
     "execution_count": 36,
     "metadata": {},
     "output_type": "execute_result"
    }
   ],
   "execution_count": 36
  },
  {
   "metadata": {},
   "cell_type": "markdown",
   "source": [
    "### Post Hoc Analysis\n",
    "#### $d'$"
   ],
   "id": "3307da51ab71c91e"
  },
  {
   "metadata": {
    "ExecuteTime": {
     "end_time": "2025-01-09T15:26:11.242758Z",
     "start_time": "2025-01-09T15:26:11.228609Z"
    }
   },
   "cell_type": "code",
   "source": [
    "post_hoc_offset_dprime = ch_sdt.post_hoc_table(\n",
    "    offset_nemenyi, peyes.constants.D_PRIME_STR, [GT1, GT2], ALPHA, marginal_alpha=MARGINAL_ALPHA\n",
    ")\n",
    "post_hoc_offset_dprime"
   ],
   "id": "3173819db7a14c90",
   "outputs": [
    {
     "data": {
      "text/plain": [
       "pred            ivt    ivvt     idt    idvt engbert      nh remodnav\n",
       "pred     gt                                                         \n",
       "ivt      MN      --    n.s.    n.s.    n.s.    n.s.      **      ***\n",
       "         RA      --    n.s.       *       *    n.s.     ***      ***\n",
       "ivvt     MN  1.0000      --    n.s.    n.s.    n.s.      **      ***\n",
       "         RA  0.9999      --    n.s.    n.s.    n.s.      **      ***\n",
       "idt      MN  0.0925  0.1755      --    n.s.       *    n.s.     n.s.\n",
       "         RA  0.0275  0.0850      --    n.s.      **    n.s.     n.s.\n",
       "idvt     MN  0.1333  0.2382  1.0000      --       *    n.s.     n.s.\n",
       "         RA  0.0393  0.1138  1.0000      --      **    n.s.        †\n",
       "engbert  MN  0.9998  0.9967  0.0285  0.0450      --     ***      ***\n",
       "         RA  0.9907  0.9338  0.0012  0.0020      --     ***      ***\n",
       "nh       MN  0.0023  0.0067  0.9592  0.9252  0.0004      --     n.s.\n",
       "         RA  0.0004  0.0024  0.9670  0.9451  0.0000      --     n.s.\n",
       "remodnav MN  0.0000  0.0000  0.2410  0.1778  0.0000  0.8634       --\n",
       "         RA  0.0000  0.0000  0.0846  0.0620  0.0000  0.5875       --"
      ],
      "text/html": [
       "<div>\n",
       "<style scoped>\n",
       "    .dataframe tbody tr th:only-of-type {\n",
       "        vertical-align: middle;\n",
       "    }\n",
       "\n",
       "    .dataframe tbody tr th {\n",
       "        vertical-align: top;\n",
       "    }\n",
       "\n",
       "    .dataframe thead th {\n",
       "        text-align: right;\n",
       "    }\n",
       "</style>\n",
       "<table border=\"1\" class=\"dataframe\">\n",
       "  <thead>\n",
       "    <tr style=\"text-align: right;\">\n",
       "      <th></th>\n",
       "      <th>pred</th>\n",
       "      <th>ivt</th>\n",
       "      <th>ivvt</th>\n",
       "      <th>idt</th>\n",
       "      <th>idvt</th>\n",
       "      <th>engbert</th>\n",
       "      <th>nh</th>\n",
       "      <th>remodnav</th>\n",
       "    </tr>\n",
       "    <tr>\n",
       "      <th>pred</th>\n",
       "      <th>gt</th>\n",
       "      <th></th>\n",
       "      <th></th>\n",
       "      <th></th>\n",
       "      <th></th>\n",
       "      <th></th>\n",
       "      <th></th>\n",
       "      <th></th>\n",
       "    </tr>\n",
       "  </thead>\n",
       "  <tbody>\n",
       "    <tr>\n",
       "      <th rowspan=\"2\" valign=\"top\">ivt</th>\n",
       "      <th>MN</th>\n",
       "      <td>--</td>\n",
       "      <td>n.s.</td>\n",
       "      <td>n.s.</td>\n",
       "      <td>n.s.</td>\n",
       "      <td>n.s.</td>\n",
       "      <td>**</td>\n",
       "      <td>***</td>\n",
       "    </tr>\n",
       "    <tr>\n",
       "      <th>RA</th>\n",
       "      <td>--</td>\n",
       "      <td>n.s.</td>\n",
       "      <td>*</td>\n",
       "      <td>*</td>\n",
       "      <td>n.s.</td>\n",
       "      <td>***</td>\n",
       "      <td>***</td>\n",
       "    </tr>\n",
       "    <tr>\n",
       "      <th rowspan=\"2\" valign=\"top\">ivvt</th>\n",
       "      <th>MN</th>\n",
       "      <td>1.0000</td>\n",
       "      <td>--</td>\n",
       "      <td>n.s.</td>\n",
       "      <td>n.s.</td>\n",
       "      <td>n.s.</td>\n",
       "      <td>**</td>\n",
       "      <td>***</td>\n",
       "    </tr>\n",
       "    <tr>\n",
       "      <th>RA</th>\n",
       "      <td>0.9999</td>\n",
       "      <td>--</td>\n",
       "      <td>n.s.</td>\n",
       "      <td>n.s.</td>\n",
       "      <td>n.s.</td>\n",
       "      <td>**</td>\n",
       "      <td>***</td>\n",
       "    </tr>\n",
       "    <tr>\n",
       "      <th rowspan=\"2\" valign=\"top\">idt</th>\n",
       "      <th>MN</th>\n",
       "      <td>0.0925</td>\n",
       "      <td>0.1755</td>\n",
       "      <td>--</td>\n",
       "      <td>n.s.</td>\n",
       "      <td>*</td>\n",
       "      <td>n.s.</td>\n",
       "      <td>n.s.</td>\n",
       "    </tr>\n",
       "    <tr>\n",
       "      <th>RA</th>\n",
       "      <td>0.0275</td>\n",
       "      <td>0.0850</td>\n",
       "      <td>--</td>\n",
       "      <td>n.s.</td>\n",
       "      <td>**</td>\n",
       "      <td>n.s.</td>\n",
       "      <td>n.s.</td>\n",
       "    </tr>\n",
       "    <tr>\n",
       "      <th rowspan=\"2\" valign=\"top\">idvt</th>\n",
       "      <th>MN</th>\n",
       "      <td>0.1333</td>\n",
       "      <td>0.2382</td>\n",
       "      <td>1.0000</td>\n",
       "      <td>--</td>\n",
       "      <td>*</td>\n",
       "      <td>n.s.</td>\n",
       "      <td>n.s.</td>\n",
       "    </tr>\n",
       "    <tr>\n",
       "      <th>RA</th>\n",
       "      <td>0.0393</td>\n",
       "      <td>0.1138</td>\n",
       "      <td>1.0000</td>\n",
       "      <td>--</td>\n",
       "      <td>**</td>\n",
       "      <td>n.s.</td>\n",
       "      <td>†</td>\n",
       "    </tr>\n",
       "    <tr>\n",
       "      <th rowspan=\"2\" valign=\"top\">engbert</th>\n",
       "      <th>MN</th>\n",
       "      <td>0.9998</td>\n",
       "      <td>0.9967</td>\n",
       "      <td>0.0285</td>\n",
       "      <td>0.0450</td>\n",
       "      <td>--</td>\n",
       "      <td>***</td>\n",
       "      <td>***</td>\n",
       "    </tr>\n",
       "    <tr>\n",
       "      <th>RA</th>\n",
       "      <td>0.9907</td>\n",
       "      <td>0.9338</td>\n",
       "      <td>0.0012</td>\n",
       "      <td>0.0020</td>\n",
       "      <td>--</td>\n",
       "      <td>***</td>\n",
       "      <td>***</td>\n",
       "    </tr>\n",
       "    <tr>\n",
       "      <th rowspan=\"2\" valign=\"top\">nh</th>\n",
       "      <th>MN</th>\n",
       "      <td>0.0023</td>\n",
       "      <td>0.0067</td>\n",
       "      <td>0.9592</td>\n",
       "      <td>0.9252</td>\n",
       "      <td>0.0004</td>\n",
       "      <td>--</td>\n",
       "      <td>n.s.</td>\n",
       "    </tr>\n",
       "    <tr>\n",
       "      <th>RA</th>\n",
       "      <td>0.0004</td>\n",
       "      <td>0.0024</td>\n",
       "      <td>0.9670</td>\n",
       "      <td>0.9451</td>\n",
       "      <td>0.0000</td>\n",
       "      <td>--</td>\n",
       "      <td>n.s.</td>\n",
       "    </tr>\n",
       "    <tr>\n",
       "      <th rowspan=\"2\" valign=\"top\">remodnav</th>\n",
       "      <th>MN</th>\n",
       "      <td>0.0000</td>\n",
       "      <td>0.0000</td>\n",
       "      <td>0.2410</td>\n",
       "      <td>0.1778</td>\n",
       "      <td>0.0000</td>\n",
       "      <td>0.8634</td>\n",
       "      <td>--</td>\n",
       "    </tr>\n",
       "    <tr>\n",
       "      <th>RA</th>\n",
       "      <td>0.0000</td>\n",
       "      <td>0.0000</td>\n",
       "      <td>0.0846</td>\n",
       "      <td>0.0620</td>\n",
       "      <td>0.0000</td>\n",
       "      <td>0.5875</td>\n",
       "      <td>--</td>\n",
       "    </tr>\n",
       "  </tbody>\n",
       "</table>\n",
       "</div>"
      ]
     },
     "execution_count": 37,
     "metadata": {},
     "output_type": "execute_result"
    }
   ],
   "execution_count": 37
  },
  {
   "metadata": {},
   "cell_type": "markdown",
   "source": "#### $f1$",
   "id": "a84dd0e6c6265453"
  },
  {
   "metadata": {
    "ExecuteTime": {
     "end_time": "2025-01-09T15:26:11.286723Z",
     "start_time": "2025-01-09T15:26:11.273266Z"
    }
   },
   "cell_type": "code",
   "source": [
    "post_hoc_offset_f1 = ch_sdt.post_hoc_table(\n",
    "    offset_nemenyi, peyes.constants.F1_STR, [GT1, GT2], ALPHA, marginal_alpha=MARGINAL_ALPHA\n",
    ")\n",
    "post_hoc_offset_f1"
   ],
   "id": "d9082eb5f8acdd40",
   "outputs": [
    {
     "data": {
      "text/plain": [
       "pred            ivt    ivvt     idt    idvt engbert      nh remodnav\n",
       "pred     gt                                                         \n",
       "ivt      MN      --    n.s.    n.s.    n.s.    n.s.       *      ***\n",
       "         RA      --    n.s.       *       †    n.s.      **      ***\n",
       "ivvt     MN  0.9541      --    n.s.    n.s.    n.s.    n.s.       **\n",
       "         RA  0.9220      --    n.s.    n.s.    n.s.    n.s.      ***\n",
       "idt      MN  0.0837  0.6304      --    n.s.    n.s.    n.s.     n.s.\n",
       "         RA  0.0430  0.5640      --    n.s.       *    n.s.     n.s.\n",
       "idvt     MN  0.1107  0.6976  1.0000      --    n.s.    n.s.     n.s.\n",
       "         RA  0.0527  0.6085  1.0000      --       *    n.s.     n.s.\n",
       "engbert  MN  1.0000  0.9629  0.0946  0.1242      --       *      ***\n",
       "         RA  1.0000  0.8608  0.0249  0.0310      --     ***      ***\n",
       "nh       MN  0.0113  0.2479  0.9976  0.9942  0.0134      --     n.s.\n",
       "         RA  0.0014  0.1025  0.9814  0.9731  0.0006      --     n.s.\n",
       "remodnav MN  0.0000  0.0012  0.3035  0.2501  0.0000  0.6827       --\n",
       "         RA  0.0000  0.0001  0.1071  0.0902  0.0000  0.5593       --"
      ],
      "text/html": [
       "<div>\n",
       "<style scoped>\n",
       "    .dataframe tbody tr th:only-of-type {\n",
       "        vertical-align: middle;\n",
       "    }\n",
       "\n",
       "    .dataframe tbody tr th {\n",
       "        vertical-align: top;\n",
       "    }\n",
       "\n",
       "    .dataframe thead th {\n",
       "        text-align: right;\n",
       "    }\n",
       "</style>\n",
       "<table border=\"1\" class=\"dataframe\">\n",
       "  <thead>\n",
       "    <tr style=\"text-align: right;\">\n",
       "      <th></th>\n",
       "      <th>pred</th>\n",
       "      <th>ivt</th>\n",
       "      <th>ivvt</th>\n",
       "      <th>idt</th>\n",
       "      <th>idvt</th>\n",
       "      <th>engbert</th>\n",
       "      <th>nh</th>\n",
       "      <th>remodnav</th>\n",
       "    </tr>\n",
       "    <tr>\n",
       "      <th>pred</th>\n",
       "      <th>gt</th>\n",
       "      <th></th>\n",
       "      <th></th>\n",
       "      <th></th>\n",
       "      <th></th>\n",
       "      <th></th>\n",
       "      <th></th>\n",
       "      <th></th>\n",
       "    </tr>\n",
       "  </thead>\n",
       "  <tbody>\n",
       "    <tr>\n",
       "      <th rowspan=\"2\" valign=\"top\">ivt</th>\n",
       "      <th>MN</th>\n",
       "      <td>--</td>\n",
       "      <td>n.s.</td>\n",
       "      <td>n.s.</td>\n",
       "      <td>n.s.</td>\n",
       "      <td>n.s.</td>\n",
       "      <td>*</td>\n",
       "      <td>***</td>\n",
       "    </tr>\n",
       "    <tr>\n",
       "      <th>RA</th>\n",
       "      <td>--</td>\n",
       "      <td>n.s.</td>\n",
       "      <td>*</td>\n",
       "      <td>†</td>\n",
       "      <td>n.s.</td>\n",
       "      <td>**</td>\n",
       "      <td>***</td>\n",
       "    </tr>\n",
       "    <tr>\n",
       "      <th rowspan=\"2\" valign=\"top\">ivvt</th>\n",
       "      <th>MN</th>\n",
       "      <td>0.9541</td>\n",
       "      <td>--</td>\n",
       "      <td>n.s.</td>\n",
       "      <td>n.s.</td>\n",
       "      <td>n.s.</td>\n",
       "      <td>n.s.</td>\n",
       "      <td>**</td>\n",
       "    </tr>\n",
       "    <tr>\n",
       "      <th>RA</th>\n",
       "      <td>0.9220</td>\n",
       "      <td>--</td>\n",
       "      <td>n.s.</td>\n",
       "      <td>n.s.</td>\n",
       "      <td>n.s.</td>\n",
       "      <td>n.s.</td>\n",
       "      <td>***</td>\n",
       "    </tr>\n",
       "    <tr>\n",
       "      <th rowspan=\"2\" valign=\"top\">idt</th>\n",
       "      <th>MN</th>\n",
       "      <td>0.0837</td>\n",
       "      <td>0.6304</td>\n",
       "      <td>--</td>\n",
       "      <td>n.s.</td>\n",
       "      <td>n.s.</td>\n",
       "      <td>n.s.</td>\n",
       "      <td>n.s.</td>\n",
       "    </tr>\n",
       "    <tr>\n",
       "      <th>RA</th>\n",
       "      <td>0.0430</td>\n",
       "      <td>0.5640</td>\n",
       "      <td>--</td>\n",
       "      <td>n.s.</td>\n",
       "      <td>*</td>\n",
       "      <td>n.s.</td>\n",
       "      <td>n.s.</td>\n",
       "    </tr>\n",
       "    <tr>\n",
       "      <th rowspan=\"2\" valign=\"top\">idvt</th>\n",
       "      <th>MN</th>\n",
       "      <td>0.1107</td>\n",
       "      <td>0.6976</td>\n",
       "      <td>1.0000</td>\n",
       "      <td>--</td>\n",
       "      <td>n.s.</td>\n",
       "      <td>n.s.</td>\n",
       "      <td>n.s.</td>\n",
       "    </tr>\n",
       "    <tr>\n",
       "      <th>RA</th>\n",
       "      <td>0.0527</td>\n",
       "      <td>0.6085</td>\n",
       "      <td>1.0000</td>\n",
       "      <td>--</td>\n",
       "      <td>*</td>\n",
       "      <td>n.s.</td>\n",
       "      <td>n.s.</td>\n",
       "    </tr>\n",
       "    <tr>\n",
       "      <th rowspan=\"2\" valign=\"top\">engbert</th>\n",
       "      <th>MN</th>\n",
       "      <td>1.0000</td>\n",
       "      <td>0.9629</td>\n",
       "      <td>0.0946</td>\n",
       "      <td>0.1242</td>\n",
       "      <td>--</td>\n",
       "      <td>*</td>\n",
       "      <td>***</td>\n",
       "    </tr>\n",
       "    <tr>\n",
       "      <th>RA</th>\n",
       "      <td>1.0000</td>\n",
       "      <td>0.8608</td>\n",
       "      <td>0.0249</td>\n",
       "      <td>0.0310</td>\n",
       "      <td>--</td>\n",
       "      <td>***</td>\n",
       "      <td>***</td>\n",
       "    </tr>\n",
       "    <tr>\n",
       "      <th rowspan=\"2\" valign=\"top\">nh</th>\n",
       "      <th>MN</th>\n",
       "      <td>0.0113</td>\n",
       "      <td>0.2479</td>\n",
       "      <td>0.9976</td>\n",
       "      <td>0.9942</td>\n",
       "      <td>0.0134</td>\n",
       "      <td>--</td>\n",
       "      <td>n.s.</td>\n",
       "    </tr>\n",
       "    <tr>\n",
       "      <th>RA</th>\n",
       "      <td>0.0014</td>\n",
       "      <td>0.1025</td>\n",
       "      <td>0.9814</td>\n",
       "      <td>0.9731</td>\n",
       "      <td>0.0006</td>\n",
       "      <td>--</td>\n",
       "      <td>n.s.</td>\n",
       "    </tr>\n",
       "    <tr>\n",
       "      <th rowspan=\"2\" valign=\"top\">remodnav</th>\n",
       "      <th>MN</th>\n",
       "      <td>0.0000</td>\n",
       "      <td>0.0012</td>\n",
       "      <td>0.3035</td>\n",
       "      <td>0.2501</td>\n",
       "      <td>0.0000</td>\n",
       "      <td>0.6827</td>\n",
       "      <td>--</td>\n",
       "    </tr>\n",
       "    <tr>\n",
       "      <th>RA</th>\n",
       "      <td>0.0000</td>\n",
       "      <td>0.0001</td>\n",
       "      <td>0.1071</td>\n",
       "      <td>0.0902</td>\n",
       "      <td>0.0000</td>\n",
       "      <td>0.5593</td>\n",
       "      <td>--</td>\n",
       "    </tr>\n",
       "  </tbody>\n",
       "</table>\n",
       "</div>"
      ]
     },
     "execution_count": 38,
     "metadata": {},
     "output_type": "execute_result"
    }
   ],
   "execution_count": 38
  },
  {
   "metadata": {},
   "cell_type": "markdown",
   "source": "#### Criterion",
   "id": "357ce8a4eca5c0de"
  },
  {
   "metadata": {
    "ExecuteTime": {
     "end_time": "2025-01-09T15:26:11.330652Z",
     "start_time": "2025-01-09T15:26:11.317041Z"
    }
   },
   "cell_type": "code",
   "source": [
    "post_hoc_offset_crit = ch_sdt.post_hoc_table(\n",
    "    offset_nemenyi, peyes.constants.CRITERION_STR, [GT1, GT2], ALPHA, marginal_alpha=MARGINAL_ALPHA\n",
    ")\n",
    "post_hoc_offset_crit"
   ],
   "id": "54582390bbc80bcb",
   "outputs": [
    {
     "data": {
      "text/plain": [
       "pred            ivt    ivvt     idt    idvt engbert      nh remodnav\n",
       "pred     gt                                                         \n",
       "ivt      MN      --    n.s.       *       *    n.s.    n.s.      ***\n",
       "         RA      --    n.s.      **      **    n.s.    n.s.      ***\n",
       "ivvt     MN  0.9709      --      **     ***    n.s.       *      ***\n",
       "         RA  0.9909      --     ***     ***    n.s.       *      ***\n",
       "idt      MN  0.0490  0.0012      --    n.s.      **    n.s.     n.s.\n",
       "         RA  0.0017  0.0000      --    n.s.     ***    n.s.     n.s.\n",
       "idvt     MN  0.0254  0.0004  1.0000      --      **    n.s.     n.s.\n",
       "         RA  0.0010  0.0000  1.0000      --     ***    n.s.     n.s.\n",
       "engbert  MN  0.9961  1.0000  0.0044  0.0019      --       †      ***\n",
       "         RA  0.9762  1.0000  0.0000  0.0000      --      **      ***\n",
       "nh       MN  0.3098  0.0240  0.9924  0.9733  0.0637      --     n.s.\n",
       "         RA  0.1469  0.0137  0.8895  0.8409  0.0076      --     n.s.\n",
       "remodnav MN  0.0002  0.0000  0.8646  0.9347  0.0000  0.4070       --\n",
       "         RA  0.0000  0.0000  0.8858  0.9249  0.0000  0.1577       --"
      ],
      "text/html": [
       "<div>\n",
       "<style scoped>\n",
       "    .dataframe tbody tr th:only-of-type {\n",
       "        vertical-align: middle;\n",
       "    }\n",
       "\n",
       "    .dataframe tbody tr th {\n",
       "        vertical-align: top;\n",
       "    }\n",
       "\n",
       "    .dataframe thead th {\n",
       "        text-align: right;\n",
       "    }\n",
       "</style>\n",
       "<table border=\"1\" class=\"dataframe\">\n",
       "  <thead>\n",
       "    <tr style=\"text-align: right;\">\n",
       "      <th></th>\n",
       "      <th>pred</th>\n",
       "      <th>ivt</th>\n",
       "      <th>ivvt</th>\n",
       "      <th>idt</th>\n",
       "      <th>idvt</th>\n",
       "      <th>engbert</th>\n",
       "      <th>nh</th>\n",
       "      <th>remodnav</th>\n",
       "    </tr>\n",
       "    <tr>\n",
       "      <th>pred</th>\n",
       "      <th>gt</th>\n",
       "      <th></th>\n",
       "      <th></th>\n",
       "      <th></th>\n",
       "      <th></th>\n",
       "      <th></th>\n",
       "      <th></th>\n",
       "      <th></th>\n",
       "    </tr>\n",
       "  </thead>\n",
       "  <tbody>\n",
       "    <tr>\n",
       "      <th rowspan=\"2\" valign=\"top\">ivt</th>\n",
       "      <th>MN</th>\n",
       "      <td>--</td>\n",
       "      <td>n.s.</td>\n",
       "      <td>*</td>\n",
       "      <td>*</td>\n",
       "      <td>n.s.</td>\n",
       "      <td>n.s.</td>\n",
       "      <td>***</td>\n",
       "    </tr>\n",
       "    <tr>\n",
       "      <th>RA</th>\n",
       "      <td>--</td>\n",
       "      <td>n.s.</td>\n",
       "      <td>**</td>\n",
       "      <td>**</td>\n",
       "      <td>n.s.</td>\n",
       "      <td>n.s.</td>\n",
       "      <td>***</td>\n",
       "    </tr>\n",
       "    <tr>\n",
       "      <th rowspan=\"2\" valign=\"top\">ivvt</th>\n",
       "      <th>MN</th>\n",
       "      <td>0.9709</td>\n",
       "      <td>--</td>\n",
       "      <td>**</td>\n",
       "      <td>***</td>\n",
       "      <td>n.s.</td>\n",
       "      <td>*</td>\n",
       "      <td>***</td>\n",
       "    </tr>\n",
       "    <tr>\n",
       "      <th>RA</th>\n",
       "      <td>0.9909</td>\n",
       "      <td>--</td>\n",
       "      <td>***</td>\n",
       "      <td>***</td>\n",
       "      <td>n.s.</td>\n",
       "      <td>*</td>\n",
       "      <td>***</td>\n",
       "    </tr>\n",
       "    <tr>\n",
       "      <th rowspan=\"2\" valign=\"top\">idt</th>\n",
       "      <th>MN</th>\n",
       "      <td>0.0490</td>\n",
       "      <td>0.0012</td>\n",
       "      <td>--</td>\n",
       "      <td>n.s.</td>\n",
       "      <td>**</td>\n",
       "      <td>n.s.</td>\n",
       "      <td>n.s.</td>\n",
       "    </tr>\n",
       "    <tr>\n",
       "      <th>RA</th>\n",
       "      <td>0.0017</td>\n",
       "      <td>0.0000</td>\n",
       "      <td>--</td>\n",
       "      <td>n.s.</td>\n",
       "      <td>***</td>\n",
       "      <td>n.s.</td>\n",
       "      <td>n.s.</td>\n",
       "    </tr>\n",
       "    <tr>\n",
       "      <th rowspan=\"2\" valign=\"top\">idvt</th>\n",
       "      <th>MN</th>\n",
       "      <td>0.0254</td>\n",
       "      <td>0.0004</td>\n",
       "      <td>1.0000</td>\n",
       "      <td>--</td>\n",
       "      <td>**</td>\n",
       "      <td>n.s.</td>\n",
       "      <td>n.s.</td>\n",
       "    </tr>\n",
       "    <tr>\n",
       "      <th>RA</th>\n",
       "      <td>0.0010</td>\n",
       "      <td>0.0000</td>\n",
       "      <td>1.0000</td>\n",
       "      <td>--</td>\n",
       "      <td>***</td>\n",
       "      <td>n.s.</td>\n",
       "      <td>n.s.</td>\n",
       "    </tr>\n",
       "    <tr>\n",
       "      <th rowspan=\"2\" valign=\"top\">engbert</th>\n",
       "      <th>MN</th>\n",
       "      <td>0.9961</td>\n",
       "      <td>1.0000</td>\n",
       "      <td>0.0044</td>\n",
       "      <td>0.0019</td>\n",
       "      <td>--</td>\n",
       "      <td>†</td>\n",
       "      <td>***</td>\n",
       "    </tr>\n",
       "    <tr>\n",
       "      <th>RA</th>\n",
       "      <td>0.9762</td>\n",
       "      <td>1.0000</td>\n",
       "      <td>0.0000</td>\n",
       "      <td>0.0000</td>\n",
       "      <td>--</td>\n",
       "      <td>**</td>\n",
       "      <td>***</td>\n",
       "    </tr>\n",
       "    <tr>\n",
       "      <th rowspan=\"2\" valign=\"top\">nh</th>\n",
       "      <th>MN</th>\n",
       "      <td>0.3098</td>\n",
       "      <td>0.0240</td>\n",
       "      <td>0.9924</td>\n",
       "      <td>0.9733</td>\n",
       "      <td>0.0637</td>\n",
       "      <td>--</td>\n",
       "      <td>n.s.</td>\n",
       "    </tr>\n",
       "    <tr>\n",
       "      <th>RA</th>\n",
       "      <td>0.1469</td>\n",
       "      <td>0.0137</td>\n",
       "      <td>0.8895</td>\n",
       "      <td>0.8409</td>\n",
       "      <td>0.0076</td>\n",
       "      <td>--</td>\n",
       "      <td>n.s.</td>\n",
       "    </tr>\n",
       "    <tr>\n",
       "      <th rowspan=\"2\" valign=\"top\">remodnav</th>\n",
       "      <th>MN</th>\n",
       "      <td>0.0002</td>\n",
       "      <td>0.0000</td>\n",
       "      <td>0.8646</td>\n",
       "      <td>0.9347</td>\n",
       "      <td>0.0000</td>\n",
       "      <td>0.4070</td>\n",
       "      <td>--</td>\n",
       "    </tr>\n",
       "    <tr>\n",
       "      <th>RA</th>\n",
       "      <td>0.0000</td>\n",
       "      <td>0.0000</td>\n",
       "      <td>0.8858</td>\n",
       "      <td>0.9249</td>\n",
       "      <td>0.0000</td>\n",
       "      <td>0.1577</td>\n",
       "      <td>--</td>\n",
       "    </tr>\n",
       "  </tbody>\n",
       "</table>\n",
       "</div>"
      ]
     },
     "execution_count": 39,
     "metadata": {},
     "output_type": "execute_result"
    }
   ],
   "execution_count": 39
  },
  {
   "metadata": {},
   "cell_type": "markdown",
   "source": [
    "## Figures\n",
    "### (1) Onset Distributions"
   ],
   "id": "6e0cdbfa98d03a1f"
  },
  {
   "metadata": {
    "ExecuteTime": {
     "end_time": "2025-01-09T15:26:11.402638Z",
     "start_time": "2025-01-09T15:26:11.359852Z"
    }
   },
   "cell_type": "code",
   "source": [
    "onset_distribution_figure = ch_sdt.single_threshold_figure(\n",
    "    csdt_metrics.loc[(slice(None), [peyes.constants.D_PRIME_STR, peyes.constants.F1_STR], slice(None)), :],\n",
    "    peyes.constants.ONSET_STR,\n",
    "    THRESHOLD,\n",
    "    GT1,\n",
    "    gt2=GT2,\n",
    "    show_other_gt=True,\n",
    "    share_x=True,\n",
    "    colors={k: v[1] for k, v in LABELER_PLOTTING_CONFIG.items()},\n",
    ")\n",
    "\n",
    "onset_distribution_figure.update_layout(\n",
    "    title=dict(text=\"fixation onsets\"),\n",
    "    width=1000, height=500,\n",
    "    paper_bgcolor='rgba(0, 0, 0, 0)',\n",
    "    plot_bgcolor='rgba(0, 0, 0, 0)',\n",
    "    margin=dict(l=10, r=10, b=10, t=10, pad=0),\n",
    ")\n",
    "# onset_distribution_figure.layout.annotations = []   # remove subtitles\n",
    "\n",
    "onset_distribution_figure.show()"
   ],
   "id": "b81d287b47f9fdcb",
   "outputs": [
    {
     "data": {
      "application/vnd.plotly.v1+json": {
       "data": [
        {
         "box": {
          "visible": true
         },
         "fillcolor": "#bab0ac",
         "legendgroup": "Other GT",
         "line": {
          "color": "black"
         },
         "meanline": {
          "visible": true
         },
         "name": "RA, Other GT",
         "opacity": 0.75,
         "scalegroup": "f1",
         "showlegend": true,
         "side": "positive",
         "spanmode": "hard",
         "x0": "Other GT",
         "y": [
          0.7999999999999999,
          0.7692307692307692,
          0.8421052631578948,
          0.6567164179104478,
          0.8307692307692308,
          0.847457627118644,
          0.8235294117647058,
          0.7419354838709677,
          0.8571428571428572,
          0.7500000000000001,
          0.689655172413793,
          0.6956521739130435,
          0.8358208955223881,
          0.9310344827586207
         ],
         "type": "violin",
         "xaxis": "x",
         "yaxis": "y"
        },
        {
         "box": {
          "visible": true
         },
         "fillcolor": "#2E91E5",
         "legendgroup": "ivt",
         "line": {
          "color": "black"
         },
         "meanline": {
          "visible": true
         },
         "name": "RA, ivt",
         "opacity": 0.75,
         "scalegroup": "f1",
         "showlegend": true,
         "side": "positive",
         "spanmode": "hard",
         "x0": "ivt",
         "y": [
          0.5901639344262296,
          0.5454545454545454,
          0.9041095890410958,
          0.5970149253731343,
          0.34375,
          0.6753246753246753,
          0.48275862068965525,
          0.6341463414634146,
          0.9152542372881356,
          0.7741935483870968,
          0.2898550724637681,
          0.43076923076923074,
          0.40579710144927533,
          0.37500000000000006,
          0.56,
          0.46153846153846156,
          0.4242424242424242,
          0.3714285714285714,
          0.6111111111111113,
          0.4074074074074074
         ],
         "type": "violin",
         "xaxis": "x",
         "yaxis": "y"
        },
        {
         "box": {
          "visible": true
         },
         "fillcolor": "#E15F99",
         "legendgroup": "ivvt",
         "line": {
          "color": "black"
         },
         "meanline": {
          "visible": true
         },
         "name": "RA, ivvt",
         "opacity": 0.75,
         "scalegroup": "f1",
         "showlegend": true,
         "side": "positive",
         "spanmode": "hard",
         "x0": "ivvt",
         "y": [
          0.7741935483870968,
          0.5555555555555556,
          0.6578947368421053,
          0.8,
          0.8181818181818182,
          0.33070866141732286,
          0.3697478991596639,
          0.15037593984962405,
          0.8307692307692307,
          0.8,
          0.65,
          0.8000000000000002,
          0.7317073170731708,
          0.6376811594202899,
          0.75,
          0.5227272727272727,
          0.6493506493506493,
          0.2956521739130435,
          0.5858585858585859,
          0.6551724137931035
         ],
         "type": "violin",
         "xaxis": "x",
         "yaxis": "y"
        },
        {
         "box": {
          "visible": true
         },
         "fillcolor": "#1CA71C",
         "legendgroup": "idt",
         "line": {
          "color": "black"
         },
         "meanline": {
          "visible": true
         },
         "name": "RA, idt",
         "opacity": 0.75,
         "scalegroup": "f1",
         "showlegend": true,
         "side": "positive",
         "spanmode": "hard",
         "x0": "idt",
         "y": [
          0.043478260869565216,
          0.25,
          0.13333333333333333,
          0.044444444444444446,
          0.04081632653061224,
          0.046511627906976744,
          0.14285714285714288,
          0.32558139534883723,
          0.08333333333333333,
          0.0425531914893617,
          0.03571428571428571,
          0.041666666666666664,
          0.05714285714285715,
          0.037037037037037035,
          0.03703703703703704,
          0.11538461538461538,
          0.03571428571428571
         ],
         "type": "violin",
         "xaxis": "x",
         "yaxis": "y"
        },
        {
         "box": {
          "visible": true
         },
         "fillcolor": "#FB0D0D",
         "legendgroup": "idvt",
         "line": {
          "color": "black"
         },
         "meanline": {
          "visible": true
         },
         "name": "RA, idvt",
         "opacity": 0.75,
         "scalegroup": "f1",
         "showlegend": true,
         "side": "positive",
         "spanmode": "hard",
         "x0": "idvt",
         "y": [
          0.043478260869565216,
          0.25,
          0.13333333333333333,
          0.044444444444444446,
          0.04081632653061224,
          0.046511627906976744,
          0.14285714285714288,
          0.32558139534883723,
          0.08333333333333333,
          0.0425531914893617,
          0.03571428571428571,
          0.041666666666666664,
          0.05714285714285715,
          0.03846153846153846,
          0.03846153846153846,
          0.12244897959183673,
          0.036363636363636355
         ],
         "type": "violin",
         "xaxis": "x",
         "yaxis": "y"
        },
        {
         "box": {
          "visible": true
         },
         "fillcolor": "#DA16FF",
         "legendgroup": "engbert",
         "line": {
          "color": "black"
         },
         "meanline": {
          "visible": true
         },
         "name": "RA, engbert",
         "opacity": 0.75,
         "scalegroup": "f1",
         "showlegend": true,
         "side": "positive",
         "spanmode": "hard",
         "x0": "engbert",
         "y": [
          0.8852459016393442,
          0.5454545454545454,
          0.7945205479452054,
          0.8285714285714285,
          0.9032258064516129,
          0.7428571428571429,
          0.5263157894736843,
          0.6046511627906976,
          0.8999999999999999,
          0.8918918918918919,
          0.75,
          0.8064516129032258,
          0.7272727272727273,
          0.6176470588235294,
          0.8771929824561403,
          0.5365853658536586,
          0.4242424242424242,
          0.3283582089552239,
          0.8219178082191781,
          0.7586206896551724
         ],
         "type": "violin",
         "xaxis": "x",
         "yaxis": "y"
        },
        {
         "box": {
          "visible": true
         },
         "fillcolor": "#222A2A",
         "legendgroup": "nh",
         "line": {
          "color": "black"
         },
         "meanline": {
          "visible": true
         },
         "name": "RA, nh",
         "opacity": 0.75,
         "scalegroup": "f1",
         "showlegend": true,
         "side": "positive",
         "spanmode": "hard",
         "x0": "nh",
         "y": [
          0.6909090909090909,
          0.625,
          0.05555555555555555,
          0.6666666666666667,
          0.7540983606557377,
          0.6666666666666667,
          0.0975609756097561,
          0.4102564102564102,
          0.9152542372881356,
          0.9117647058823529,
          0.71875,
          0.6779661016949153,
          0.5294117647058824,
          0.6774193548387096,
          0.9090909090909091,
          0.24137931034482757,
          0.047619047619047616,
          0.4583333333333333,
          0.04878048780487805,
          0.7241379310344827
         ],
         "type": "violin",
         "xaxis": "x",
         "yaxis": "y"
        },
        {
         "box": {
          "visible": true
         },
         "fillcolor": "#B68100",
         "legendgroup": "remodnav",
         "line": {
          "color": "black"
         },
         "meanline": {
          "visible": true
         },
         "name": "RA, remodnav",
         "opacity": 0.75,
         "scalegroup": "f1",
         "showlegend": true,
         "side": "positive",
         "spanmode": "hard",
         "x0": "remodnav",
         "y": [
          0.4,
          0.21052631578947367,
          0.2978723404255319,
          0.509090909090909,
          0.5882352941176471,
          0.2564102564102564,
          0.18604651162790697,
          0.16,
          0.2926829268292683,
          0.3555555555555555,
          0.5454545454545454,
          0.3076923076923077,
          0.2,
          0.44000000000000006,
          0.380952380952381,
          0.4347826086956521,
          0.29411764705882354,
          0.19999999999999998,
          0.3404255319148936,
          0.3157894736842105
         ],
         "type": "violin",
         "xaxis": "x",
         "yaxis": "y"
        },
        {
         "box": {
          "visible": true
         },
         "fillcolor": "#bab0ac",
         "legendgroup": "Other GT",
         "line": {
          "color": "black"
         },
         "meanline": {
          "visible": true
         },
         "name": "MN, Other GT",
         "opacity": 0.25,
         "scalegroup": "f1",
         "showlegend": true,
         "side": "negative",
         "spanmode": "hard",
         "x0": "Other GT",
         "y": [
          0.7999999999999999,
          0.7692307692307692,
          0.8421052631578948,
          0.6567164179104478,
          0.8307692307692308,
          0.847457627118644,
          0.8235294117647058,
          0.7419354838709677,
          0.8571428571428572,
          0.7500000000000001,
          0.689655172413793,
          0.6956521739130435,
          0.8358208955223881,
          0.9310344827586207
         ],
         "type": "violin",
         "xaxis": "x",
         "yaxis": "y"
        },
        {
         "box": {
          "visible": true
         },
         "fillcolor": "#2E91E5",
         "legendgroup": "ivt",
         "line": {
          "color": "black"
         },
         "meanline": {
          "visible": true
         },
         "name": "MN, ivt",
         "opacity": 0.25,
         "scalegroup": "f1",
         "showlegend": true,
         "side": "negative",
         "spanmode": "hard",
         "x0": "ivt",
         "y": [
          0.4666666666666667,
          0.5,
          0.6,
          0.4666666666666667,
          0.4000000000000001,
          0.5454545454545454,
          0.5797101449275363,
          0.46874999999999994,
          0.5833333333333334,
          0.625,
          0.5882352941176471,
          0.47222222222222227,
          0.5915492957746479,
          0.6428571428571429
         ],
         "type": "violin",
         "xaxis": "x",
         "yaxis": "y"
        },
        {
         "box": {
          "visible": true
         },
         "fillcolor": "#E15F99",
         "legendgroup": "ivvt",
         "line": {
          "color": "black"
         },
         "meanline": {
          "visible": true
         },
         "name": "MN, ivvt",
         "opacity": 0.25,
         "scalegroup": "f1",
         "showlegend": true,
         "side": "negative",
         "spanmode": "hard",
         "x0": "ivvt",
         "y": [
          0.819672131147541,
          0.631578947368421,
          0.3846153846153846,
          0.3770491803278689,
          0.7160493827160493,
          0.8169014084507042,
          0.7073170731707317,
          0.6666666666666666,
          0.7037037037037037,
          0.5555555555555555,
          0.6329113924050633,
          0.23931623931623933,
          0.5306122448979592,
          0.7333333333333333
         ],
         "type": "violin",
         "xaxis": "x",
         "yaxis": "y"
        },
        {
         "box": {
          "visible": true
         },
         "fillcolor": "#1CA71C",
         "legendgroup": "idt",
         "line": {
          "color": "black"
         },
         "meanline": {
          "visible": true
         },
         "name": "MN, idt",
         "opacity": 0.25,
         "scalegroup": "f1",
         "showlegend": true,
         "side": "negative",
         "spanmode": "hard",
         "x0": "idt",
         "y": [
          0.04444444444444444,
          0.22222222222222224,
          0.04347826086956522,
          0.06779661016949153,
          0.12244897959183672,
          0.04166666666666667,
          0.07142857142857142,
          0.041666666666666664,
          0.06060606060606061,
          0.07142857142857144,
          0.03571428571428572,
          0.07407407407407407,
          0.03636363636363636,
          0.0425531914893617
         ],
         "type": "violin",
         "xaxis": "x",
         "yaxis": "y"
        },
        {
         "box": {
          "visible": true
         },
         "fillcolor": "#FB0D0D",
         "legendgroup": "idvt",
         "line": {
          "color": "black"
         },
         "meanline": {
          "visible": true
         },
         "name": "MN, idvt",
         "opacity": 0.25,
         "scalegroup": "f1",
         "showlegend": true,
         "side": "negative",
         "spanmode": "hard",
         "x0": "idvt",
         "y": [
          0.04444444444444444,
          0.22222222222222224,
          0.04347826086956522,
          0.06779661016949153,
          0.12244897959183672,
          0.04166666666666667,
          0.07142857142857142,
          0.041666666666666664,
          0.06060606060606061,
          0.07407407407407407,
          0.037037037037037035,
          0.07843137254901962,
          0.037037037037037035,
          0.04444444444444444
         ],
         "type": "violin",
         "xaxis": "x",
         "yaxis": "y"
        },
        {
         "box": {
          "visible": true
         },
         "fillcolor": "#DA16FF",
         "legendgroup": "engbert",
         "line": {
          "color": "black"
         },
         "meanline": {
          "visible": true
         },
         "name": "MN, engbert",
         "opacity": 0.25,
         "scalegroup": "f1",
         "showlegend": true,
         "side": "negative",
         "spanmode": "hard",
         "x0": "engbert",
         "y": [
          0.8333333333333334,
          0.5217391304347825,
          0.7397260273972602,
          0.46938775510204084,
          0.821917808219178,
          0.9206349206349207,
          0.7792207792207793,
          0.7352941176470588,
          0.8727272727272727,
          0.6190476190476191,
          0.6470588235294117,
          0.46376811594202905,
          0.7222222222222221,
          0.8000000000000002
         ],
         "type": "violin",
         "xaxis": "x",
         "yaxis": "y"
        },
        {
         "box": {
          "visible": true
         },
         "fillcolor": "#222A2A",
         "legendgroup": "nh",
         "line": {
          "color": "black"
         },
         "meanline": {
          "visible": true
         },
         "name": "MN, nh",
         "opacity": 0.25,
         "scalegroup": "f1",
         "showlegend": true,
         "side": "negative",
         "spanmode": "hard",
         "x0": "nh",
         "y": [
          0.7407407407407407,
          0.47058823529411764,
          0.7407407407407408,
          0.13636363636363638,
          0.7692307692307692,
          0.9,
          0.5882352941176471,
          0.6774193548387096,
          0.9056603773584906,
          0.5333333333333333,
          0.045454545454545456,
          0.43999999999999995,
          0.05,
          0.7666666666666667
         ],
         "type": "violin",
         "xaxis": "x",
         "yaxis": "y"
        },
        {
         "box": {
          "visible": true
         },
         "fillcolor": "#B68100",
         "legendgroup": "remodnav",
         "line": {
          "color": "black"
         },
         "meanline": {
          "visible": true
         },
         "name": "MN, remodnav",
         "opacity": 0.25,
         "scalegroup": "f1",
         "showlegend": true,
         "side": "negative",
         "spanmode": "hard",
         "x0": "remodnav",
         "y": [
          0.41025641025641024,
          0.2,
          0.28571428571428575,
          0.26086956521739124,
          0.5357142857142857,
          0.35,
          0.2,
          0.28,
          0.45,
          0.3333333333333333,
          0.2777777777777778,
          0.1875,
          0.391304347826087,
          0.35
         ],
         "type": "violin",
         "xaxis": "x",
         "yaxis": "y"
        },
        {
         "box": {
          "visible": true
         },
         "fillcolor": "#bab0ac",
         "legendgroup": "Other GT",
         "line": {
          "color": "black"
         },
         "meanline": {
          "visible": true
         },
         "name": "RA, Other GT",
         "opacity": 0.75,
         "scalegroup": "d_prime",
         "showlegend": false,
         "side": "positive",
         "spanmode": "hard",
         "x0": "Other GT",
         "y": [
          3.0567756111928372,
          3.5817824584180404,
          3.4159835304233654,
          2.357381272489394,
          3.200699666366021,
          3.353897246083096,
          3.1177379610495146,
          2.725540789220216,
          3.0053604873627897,
          2.780349566555217,
          2.5519909644300327,
          2.6894249764554257,
          3.18858968320364,
          3.8658810131945223
         ],
         "type": "violin",
         "xaxis": "x2",
         "yaxis": "y2"
        },
        {
         "box": {
          "visible": true
         },
         "fillcolor": "#2E91E5",
         "legendgroup": "ivt",
         "line": {
          "color": "black"
         },
         "meanline": {
          "visible": true
         },
         "name": "RA, ivt",
         "opacity": 0.75,
         "scalegroup": "d_prime",
         "showlegend": false,
         "side": "positive",
         "spanmode": "hard",
         "x0": "ivt",
         "y": [
          2.1747085951129668,
          2.6143608923163395,
          4.078433696648515,
          2.148199106787624,
          1.2527544830947697,
          3.372964347755288,
          1.8029253638129163,
          2.9963750637684674,
          3.744779428486695,
          2.433845226377266,
          1.0327503684867034,
          1.5841203626135982,
          1.4212156954767394,
          1.360783035426807,
          1.642872009094081,
          1.6896038997297582,
          1.5854296573565831,
          1.6274552641258877,
          2.1500248610437454,
          1.0226059125590385
         ],
         "type": "violin",
         "xaxis": "x2",
         "yaxis": "y2"
        },
        {
         "box": {
          "visible": true
         },
         "fillcolor": "#E15F99",
         "legendgroup": "ivvt",
         "line": {
          "color": "black"
         },
         "meanline": {
          "visible": true
         },
         "name": "RA, ivvt",
         "opacity": 0.75,
         "scalegroup": "d_prime",
         "showlegend": false,
         "side": "positive",
         "spanmode": "hard",
         "x0": "ivvt",
         "y": [
          3.0537937137582674,
          3.120810885729698,
          2.3735870879117784,
          3.242653362046542,
          3.2071944842789084,
          1.6602530377557696,
          1.5073845377400499,
          1.116195769440203,
          3.315538034573608,
          2.7346692343092434,
          2.5110316028530018,
          3.690295263600527,
          2.904671737268374,
          2.3283523309692074,
          2.3536632047841772,
          2.0512764113876902,
          2.8272964491999035,
          1.6780023262729227,
          2.4160478472285334,
          1.9270822639168963
         ],
         "type": "violin",
         "xaxis": "x2",
         "yaxis": "y2"
        },
        {
         "box": {
          "visible": true
         },
         "fillcolor": "#1CA71C",
         "legendgroup": "idt",
         "line": {
          "color": "black"
         },
         "meanline": {
          "visible": true
         },
         "name": "RA, idt",
         "opacity": 0.75,
         "scalegroup": "d_prime",
         "showlegend": false,
         "side": "positive",
         "spanmode": "hard",
         "x0": "idt",
         "y": [
          -0.05156088702800665,
          1.8755341702937218,
          0.4348321224989218,
          0.020962714714781505,
          -0.10070025268081428,
          0.023511239490168423,
          0.5198044258228336,
          -1.0806858734715203,
          0.9500277766588175,
          -1.176206641842659,
          0.3013460575098834,
          -0.06855571287038442,
          -0.24528643391632365,
          -0.07268654217897619,
          0.022814037857845637,
          -0.22344726352875321,
          -0.23769490688804895,
          0.43667482528690926,
          -0.24528643391632365,
          -1.3455991502689377
         ],
         "type": "violin",
         "xaxis": "x2",
         "yaxis": "y2"
        },
        {
         "box": {
          "visible": true
         },
         "fillcolor": "#FB0D0D",
         "legendgroup": "idvt",
         "line": {
          "color": "black"
         },
         "meanline": {
          "visible": true
         },
         "name": "RA, idvt",
         "opacity": 0.75,
         "scalegroup": "d_prime",
         "showlegend": false,
         "side": "positive",
         "spanmode": "hard",
         "x0": "idvt",
         "y": [
          -0.05156088702800665,
          1.8755341702937218,
          0.4348321224989218,
          0.020962714714781505,
          -0.10070025268081428,
          0.023511239490168423,
          0.5198044258228336,
          -1.0528364266488046,
          0.9500277766588175,
          -1.176206641842659,
          0.3013460575098834,
          -0.06855571287038442,
          -0.24528643391632365,
          -0.07268654217897619,
          0.022814037857845637,
          -0.1773060914114366,
          -0.19625123451310644,
          0.4957891912038679,
          -0.22174272234724857,
          -1.276343426996191
         ],
         "type": "violin",
         "xaxis": "x2",
         "yaxis": "y2"
        },
        {
         "box": {
          "visible": true
         },
         "fillcolor": "#DA16FF",
         "legendgroup": "engbert",
         "line": {
          "color": "black"
         },
         "meanline": {
          "visible": true
         },
         "name": "RA, engbert",
         "opacity": 0.75,
         "scalegroup": "d_prime",
         "showlegend": false,
         "side": "positive",
         "spanmode": "hard",
         "x0": "engbert",
         "y": [
          3.997164499610903,
          4.8181294575005,
          3.029424181497933,
          3.501153542978641,
          3.7522485483392343,
          3.5384270446367676,
          2.116287557103349,
          2.932613783759587,
          3.646861560454929,
          4.11116478502508,
          2.878499483800676,
          3.1678131511463814,
          2.7310517322715686,
          2.236404285425549,
          3.150352877914421,
          2.0385022528440464,
          1.5854296573565831,
          1.4131677538669707,
          3.2113884285133825,
          2.416156134598274
         ],
         "type": "violin",
         "xaxis": "x2",
         "yaxis": "y2"
        },
        {
         "box": {
          "visible": true
         },
         "fillcolor": "#222A2A",
         "legendgroup": "nh",
         "line": {
          "color": "black"
         },
         "meanline": {
          "visible": true
         },
         "name": "RA, nh",
         "opacity": 0.75,
         "scalegroup": "d_prime",
         "showlegend": false,
         "side": "positive",
         "spanmode": "hard",
         "x0": "nh",
         "y": [
          2.542822143302328,
          3.2518112592933517,
          0.9328567103555421,
          2.4029944677862347,
          2.7797111093368385,
          2.465043137998208,
          0.5954010782267636,
          1.8762061544309125,
          3.744779428486695,
          3.4774372656380104,
          2.605674564663064,
          2.480099481402406,
          1.8464241910234642,
          2.443718922487479,
          3.570406074860073,
          0.9185614028318028,
          0.06975852818063721,
          1.8149458097761437,
          0.2993285090688138,
          2.2407035282980354
         ],
         "type": "violin",
         "xaxis": "x2",
         "yaxis": "y2"
        },
        {
         "box": {
          "visible": true
         },
         "fillcolor": "#B68100",
         "legendgroup": "remodnav",
         "line": {
          "color": "black"
         },
         "meanline": {
          "visible": true
         },
         "name": "RA, remodnav",
         "opacity": 0.75,
         "scalegroup": "d_prime",
         "showlegend": false,
         "side": "positive",
         "spanmode": "hard",
         "x0": "remodnav",
         "y": [
          1.7834566321922396,
          1.536413287414544,
          1.3681316479827053,
          1.8616370006338798,
          2.2219840389418604,
          1.2383907473881992,
          0.979172242203302,
          0.9802949188871031,
          0.8972946159770097,
          1.229205654556361,
          1.9968333656927313,
          1.531292423596961,
          1.4053771238766313,
          1.703927515568559,
          1.2462810973746286,
          1.8020125241068292,
          1.9058887390566865,
          1.1736939750442725,
          1.5381679075740258,
          1.1503977300041295
         ],
         "type": "violin",
         "xaxis": "x2",
         "yaxis": "y2"
        },
        {
         "box": {
          "visible": true
         },
         "fillcolor": "#bab0ac",
         "legendgroup": "Other GT",
         "line": {
          "color": "black"
         },
         "meanline": {
          "visible": true
         },
         "name": "MN, Other GT",
         "opacity": 0.25,
         "scalegroup": "d_prime",
         "showlegend": false,
         "side": "negative",
         "spanmode": "hard",
         "x0": "Other GT",
         "y": [
          3.091123000459605,
          3.4081913872337393,
          3.2945669650718723,
          2.3073517068189,
          3.1690619662342248,
          3.3150722769627965,
          3.1177379610495146,
          2.725540789220216,
          3.0679250961990348,
          2.733152367843025,
          2.507736746565172,
          2.6288211074897583,
          3.2197320122635427,
          3.7597361191492307
         ],
         "type": "violin",
         "xaxis": "x2",
         "yaxis": "y2"
        },
        {
         "box": {
          "visible": true
         },
         "fillcolor": "#2E91E5",
         "legendgroup": "ivt",
         "line": {
          "color": "black"
         },
         "meanline": {
          "visible": true
         },
         "name": "MN, ivt",
         "opacity": 0.25,
         "scalegroup": "d_prime",
         "showlegend": false,
         "side": "negative",
         "spanmode": "hard",
         "x0": "ivt",
         "y": [
          1.7465639976496237,
          2.4335840960494877,
          2.3847502127579583,
          1.650168056621698,
          1.409819393344206,
          1.975647985796717,
          2.025160071564665,
          1.6807499505522447,
          1.7387386242120977,
          2.32135441927185,
          2.152826519283019,
          2.008234514881136,
          2.0944455161680517,
          1.8714414951623688
         ],
         "type": "violin",
         "xaxis": "x2",
         "yaxis": "y2"
        },
        {
         "box": {
          "visible": true
         },
         "fillcolor": "#E15F99",
         "legendgroup": "ivvt",
         "line": {
          "color": "black"
         },
         "meanline": {
          "visible": true
         },
         "name": "MN, ivvt",
         "opacity": 0.25,
         "scalegroup": "d_prime",
         "showlegend": false,
         "side": "negative",
         "spanmode": "hard",
         "x0": "ivvt",
         "y": [
          3.4775622995334645,
          3.280849238505067,
          1.8938386235183784,
          1.4287080740322238,
          2.862353978254591,
          3.7397105806840383,
          2.741404862618098,
          2.454714666252115,
          2.1630614703901045,
          2.1303877367746216,
          2.5505066984345097,
          1.110826267730398,
          2.123051241012207,
          2.241020115236657
         ],
         "type": "violin",
         "xaxis": "x2",
         "yaxis": "y2"
        },
        {
         "box": {
          "visible": true
         },
         "fillcolor": "#1CA71C",
         "legendgroup": "idt",
         "line": {
          "color": "black"
         },
         "meanline": {
          "visible": true
         },
         "name": "MN, idt",
         "opacity": 0.25,
         "scalegroup": "d_prime",
         "showlegend": false,
         "side": "negative",
         "spanmode": "hard",
         "x0": "idt",
         "y": [
          -0.0338840778853855,
          1.7746720414227346,
          -0.027450405739186223,
          0.041275527818388724,
          0.5322789661042571,
          -0.08492013972727208,
          0.10304076662438266,
          -0.07268654217897619,
          0.061129186090608245,
          0.09577684343278214,
          -0.271231520439132,
          0.12954027461191808,
          -0.23098060243157792,
          -0.5838734806279315
         ],
         "type": "violin",
         "xaxis": "x2",
         "yaxis": "y2"
        },
        {
         "box": {
          "visible": true
         },
         "fillcolor": "#FB0D0D",
         "legendgroup": "idvt",
         "line": {
          "color": "black"
         },
         "meanline": {
          "visible": true
         },
         "name": "MN, idvt",
         "opacity": 0.25,
         "scalegroup": "d_prime",
         "showlegend": false,
         "side": "negative",
         "spanmode": "hard",
         "x0": "idvt",
         "y": [
          -0.0338840778853855,
          1.7746720414227346,
          -0.027450405739186223,
          0.041275527818388724,
          0.5322789661042571,
          -0.08492013972727208,
          0.10304076662438266,
          -0.07268654217897619,
          0.061129186090608245,
          0.1438019524171672,
          -0.22974640753840947,
          0.1869558170283443,
          -0.20744814640829579,
          -0.5080180364977112
         ],
         "type": "violin",
         "xaxis": "x2",
         "yaxis": "y2"
        },
        {
         "box": {
          "visible": true
         },
         "fillcolor": "#DA16FF",
         "legendgroup": "engbert",
         "line": {
          "color": "black"
         },
         "meanline": {
          "visible": true
         },
         "name": "MN, engbert",
         "opacity": 0.25,
         "scalegroup": "d_prime",
         "showlegend": false,
         "side": "negative",
         "spanmode": "hard",
         "x0": "engbert",
         "y": [
          3.5261786093366183,
          3.074122458384413,
          3.0585474698842803,
          1.7118975044914326,
          3.3163891695673327,
          4.18156534667701,
          3.0532325835419942,
          2.769657664682239,
          3.1657257065085505,
          2.358518800115836,
          2.3997243702853313,
          1.9251887970880794,
          2.6665394643583724,
          2.5967827016697838
         ],
         "type": "violin",
         "xaxis": "x2",
         "yaxis": "y2"
        },
        {
         "box": {
          "visible": true
         },
         "fillcolor": "#222A2A",
         "legendgroup": "nh",
         "line": {
          "color": "black"
         },
         "meanline": {
          "visible": true
         },
         "name": "MN, nh",
         "opacity": 0.25,
         "scalegroup": "d_prime",
         "showlegend": false,
         "side": "negative",
         "spanmode": "hard",
         "x0": "nh",
         "y": [
          2.7798013155477705,
          2.393291084419631,
          2.778378010156553,
          0.8203567177435744,
          2.8270058208918334,
          3.7344972970435584,
          2.0563388485330085,
          2.443718922487479,
          3.448612787952462,
          1.9025605815882747,
          0.0365010396690153,
          1.7082094505249226,
          0.3134166881435796,
          2.4105937074558472
         ],
         "type": "violin",
         "xaxis": "x2",
         "yaxis": "y2"
        },
        {
         "box": {
          "visible": true
         },
         "fillcolor": "#B68100",
         "legendgroup": "remodnav",
         "line": {
          "color": "black"
         },
         "meanline": {
          "visible": true
         },
         "name": "MN, remodnav",
         "opacity": 0.25,
         "scalegroup": "d_prime",
         "showlegend": false,
         "side": "negative",
         "spanmode": "hard",
         "x0": "remodnav",
         "y": [
          1.8151965330169004,
          1.4002371442333947,
          1.3509492090262274,
          1.310322183013565,
          1.9600867342503607,
          1.7250324406173139,
          1.4053771238766313,
          1.1520345117387865,
          1.5143580583657432,
          1.4300413109147279,
          1.8577801508813967,
          1.1183707375963778,
          1.7404156835979647,
          1.3298189220632723
         ],
         "type": "violin",
         "xaxis": "x2",
         "yaxis": "y2"
        }
       ],
       "layout": {
        "template": {
         "data": {
          "histogram2dcontour": [
           {
            "type": "histogram2dcontour",
            "colorbar": {
             "outlinewidth": 0,
             "ticks": ""
            },
            "colorscale": [
             [
              0.0,
              "#0d0887"
             ],
             [
              0.1111111111111111,
              "#46039f"
             ],
             [
              0.2222222222222222,
              "#7201a8"
             ],
             [
              0.3333333333333333,
              "#9c179e"
             ],
             [
              0.4444444444444444,
              "#bd3786"
             ],
             [
              0.5555555555555556,
              "#d8576b"
             ],
             [
              0.6666666666666666,
              "#ed7953"
             ],
             [
              0.7777777777777778,
              "#fb9f3a"
             ],
             [
              0.8888888888888888,
              "#fdca26"
             ],
             [
              1.0,
              "#f0f921"
             ]
            ]
           }
          ],
          "choropleth": [
           {
            "type": "choropleth",
            "colorbar": {
             "outlinewidth": 0,
             "ticks": ""
            }
           }
          ],
          "histogram2d": [
           {
            "type": "histogram2d",
            "colorbar": {
             "outlinewidth": 0,
             "ticks": ""
            },
            "colorscale": [
             [
              0.0,
              "#0d0887"
             ],
             [
              0.1111111111111111,
              "#46039f"
             ],
             [
              0.2222222222222222,
              "#7201a8"
             ],
             [
              0.3333333333333333,
              "#9c179e"
             ],
             [
              0.4444444444444444,
              "#bd3786"
             ],
             [
              0.5555555555555556,
              "#d8576b"
             ],
             [
              0.6666666666666666,
              "#ed7953"
             ],
             [
              0.7777777777777778,
              "#fb9f3a"
             ],
             [
              0.8888888888888888,
              "#fdca26"
             ],
             [
              1.0,
              "#f0f921"
             ]
            ]
           }
          ],
          "heatmap": [
           {
            "type": "heatmap",
            "colorbar": {
             "outlinewidth": 0,
             "ticks": ""
            },
            "colorscale": [
             [
              0.0,
              "#0d0887"
             ],
             [
              0.1111111111111111,
              "#46039f"
             ],
             [
              0.2222222222222222,
              "#7201a8"
             ],
             [
              0.3333333333333333,
              "#9c179e"
             ],
             [
              0.4444444444444444,
              "#bd3786"
             ],
             [
              0.5555555555555556,
              "#d8576b"
             ],
             [
              0.6666666666666666,
              "#ed7953"
             ],
             [
              0.7777777777777778,
              "#fb9f3a"
             ],
             [
              0.8888888888888888,
              "#fdca26"
             ],
             [
              1.0,
              "#f0f921"
             ]
            ]
           }
          ],
          "heatmapgl": [
           {
            "type": "heatmapgl",
            "colorbar": {
             "outlinewidth": 0,
             "ticks": ""
            },
            "colorscale": [
             [
              0.0,
              "#0d0887"
             ],
             [
              0.1111111111111111,
              "#46039f"
             ],
             [
              0.2222222222222222,
              "#7201a8"
             ],
             [
              0.3333333333333333,
              "#9c179e"
             ],
             [
              0.4444444444444444,
              "#bd3786"
             ],
             [
              0.5555555555555556,
              "#d8576b"
             ],
             [
              0.6666666666666666,
              "#ed7953"
             ],
             [
              0.7777777777777778,
              "#fb9f3a"
             ],
             [
              0.8888888888888888,
              "#fdca26"
             ],
             [
              1.0,
              "#f0f921"
             ]
            ]
           }
          ],
          "contourcarpet": [
           {
            "type": "contourcarpet",
            "colorbar": {
             "outlinewidth": 0,
             "ticks": ""
            }
           }
          ],
          "contour": [
           {
            "type": "contour",
            "colorbar": {
             "outlinewidth": 0,
             "ticks": ""
            },
            "colorscale": [
             [
              0.0,
              "#0d0887"
             ],
             [
              0.1111111111111111,
              "#46039f"
             ],
             [
              0.2222222222222222,
              "#7201a8"
             ],
             [
              0.3333333333333333,
              "#9c179e"
             ],
             [
              0.4444444444444444,
              "#bd3786"
             ],
             [
              0.5555555555555556,
              "#d8576b"
             ],
             [
              0.6666666666666666,
              "#ed7953"
             ],
             [
              0.7777777777777778,
              "#fb9f3a"
             ],
             [
              0.8888888888888888,
              "#fdca26"
             ],
             [
              1.0,
              "#f0f921"
             ]
            ]
           }
          ],
          "surface": [
           {
            "type": "surface",
            "colorbar": {
             "outlinewidth": 0,
             "ticks": ""
            },
            "colorscale": [
             [
              0.0,
              "#0d0887"
             ],
             [
              0.1111111111111111,
              "#46039f"
             ],
             [
              0.2222222222222222,
              "#7201a8"
             ],
             [
              0.3333333333333333,
              "#9c179e"
             ],
             [
              0.4444444444444444,
              "#bd3786"
             ],
             [
              0.5555555555555556,
              "#d8576b"
             ],
             [
              0.6666666666666666,
              "#ed7953"
             ],
             [
              0.7777777777777778,
              "#fb9f3a"
             ],
             [
              0.8888888888888888,
              "#fdca26"
             ],
             [
              1.0,
              "#f0f921"
             ]
            ]
           }
          ],
          "mesh3d": [
           {
            "type": "mesh3d",
            "colorbar": {
             "outlinewidth": 0,
             "ticks": ""
            }
           }
          ],
          "scatter": [
           {
            "fillpattern": {
             "fillmode": "overlay",
             "size": 10,
             "solidity": 0.2
            },
            "type": "scatter"
           }
          ],
          "parcoords": [
           {
            "type": "parcoords",
            "line": {
             "colorbar": {
              "outlinewidth": 0,
              "ticks": ""
             }
            }
           }
          ],
          "scatterpolargl": [
           {
            "type": "scatterpolargl",
            "marker": {
             "colorbar": {
              "outlinewidth": 0,
              "ticks": ""
             }
            }
           }
          ],
          "bar": [
           {
            "error_x": {
             "color": "#2a3f5f"
            },
            "error_y": {
             "color": "#2a3f5f"
            },
            "marker": {
             "line": {
              "color": "#E5ECF6",
              "width": 0.5
             },
             "pattern": {
              "fillmode": "overlay",
              "size": 10,
              "solidity": 0.2
             }
            },
            "type": "bar"
           }
          ],
          "scattergeo": [
           {
            "type": "scattergeo",
            "marker": {
             "colorbar": {
              "outlinewidth": 0,
              "ticks": ""
             }
            }
           }
          ],
          "scatterpolar": [
           {
            "type": "scatterpolar",
            "marker": {
             "colorbar": {
              "outlinewidth": 0,
              "ticks": ""
             }
            }
           }
          ],
          "histogram": [
           {
            "marker": {
             "pattern": {
              "fillmode": "overlay",
              "size": 10,
              "solidity": 0.2
             }
            },
            "type": "histogram"
           }
          ],
          "scattergl": [
           {
            "type": "scattergl",
            "marker": {
             "colorbar": {
              "outlinewidth": 0,
              "ticks": ""
             }
            }
           }
          ],
          "scatter3d": [
           {
            "type": "scatter3d",
            "line": {
             "colorbar": {
              "outlinewidth": 0,
              "ticks": ""
             }
            },
            "marker": {
             "colorbar": {
              "outlinewidth": 0,
              "ticks": ""
             }
            }
           }
          ],
          "scattermapbox": [
           {
            "type": "scattermapbox",
            "marker": {
             "colorbar": {
              "outlinewidth": 0,
              "ticks": ""
             }
            }
           }
          ],
          "scatterternary": [
           {
            "type": "scatterternary",
            "marker": {
             "colorbar": {
              "outlinewidth": 0,
              "ticks": ""
             }
            }
           }
          ],
          "scattercarpet": [
           {
            "type": "scattercarpet",
            "marker": {
             "colorbar": {
              "outlinewidth": 0,
              "ticks": ""
             }
            }
           }
          ],
          "carpet": [
           {
            "aaxis": {
             "endlinecolor": "#2a3f5f",
             "gridcolor": "white",
             "linecolor": "white",
             "minorgridcolor": "white",
             "startlinecolor": "#2a3f5f"
            },
            "baxis": {
             "endlinecolor": "#2a3f5f",
             "gridcolor": "white",
             "linecolor": "white",
             "minorgridcolor": "white",
             "startlinecolor": "#2a3f5f"
            },
            "type": "carpet"
           }
          ],
          "table": [
           {
            "cells": {
             "fill": {
              "color": "#EBF0F8"
             },
             "line": {
              "color": "white"
             }
            },
            "header": {
             "fill": {
              "color": "#C8D4E3"
             },
             "line": {
              "color": "white"
             }
            },
            "type": "table"
           }
          ],
          "barpolar": [
           {
            "marker": {
             "line": {
              "color": "#E5ECF6",
              "width": 0.5
             },
             "pattern": {
              "fillmode": "overlay",
              "size": 10,
              "solidity": 0.2
             }
            },
            "type": "barpolar"
           }
          ],
          "pie": [
           {
            "automargin": true,
            "type": "pie"
           }
          ]
         },
         "layout": {
          "autotypenumbers": "strict",
          "colorway": [
           "#636efa",
           "#EF553B",
           "#00cc96",
           "#ab63fa",
           "#FFA15A",
           "#19d3f3",
           "#FF6692",
           "#B6E880",
           "#FF97FF",
           "#FECB52"
          ],
          "font": {
           "color": "#2a3f5f"
          },
          "hovermode": "closest",
          "hoverlabel": {
           "align": "left"
          },
          "paper_bgcolor": "white",
          "plot_bgcolor": "#E5ECF6",
          "polar": {
           "bgcolor": "#E5ECF6",
           "angularaxis": {
            "gridcolor": "white",
            "linecolor": "white",
            "ticks": ""
           },
           "radialaxis": {
            "gridcolor": "white",
            "linecolor": "white",
            "ticks": ""
           }
          },
          "ternary": {
           "bgcolor": "#E5ECF6",
           "aaxis": {
            "gridcolor": "white",
            "linecolor": "white",
            "ticks": ""
           },
           "baxis": {
            "gridcolor": "white",
            "linecolor": "white",
            "ticks": ""
           },
           "caxis": {
            "gridcolor": "white",
            "linecolor": "white",
            "ticks": ""
           }
          },
          "coloraxis": {
           "colorbar": {
            "outlinewidth": 0,
            "ticks": ""
           }
          },
          "colorscale": {
           "sequential": [
            [
             0.0,
             "#0d0887"
            ],
            [
             0.1111111111111111,
             "#46039f"
            ],
            [
             0.2222222222222222,
             "#7201a8"
            ],
            [
             0.3333333333333333,
             "#9c179e"
            ],
            [
             0.4444444444444444,
             "#bd3786"
            ],
            [
             0.5555555555555556,
             "#d8576b"
            ],
            [
             0.6666666666666666,
             "#ed7953"
            ],
            [
             0.7777777777777778,
             "#fb9f3a"
            ],
            [
             0.8888888888888888,
             "#fdca26"
            ],
            [
             1.0,
             "#f0f921"
            ]
           ],
           "sequentialminus": [
            [
             0.0,
             "#0d0887"
            ],
            [
             0.1111111111111111,
             "#46039f"
            ],
            [
             0.2222222222222222,
             "#7201a8"
            ],
            [
             0.3333333333333333,
             "#9c179e"
            ],
            [
             0.4444444444444444,
             "#bd3786"
            ],
            [
             0.5555555555555556,
             "#d8576b"
            ],
            [
             0.6666666666666666,
             "#ed7953"
            ],
            [
             0.7777777777777778,
             "#fb9f3a"
            ],
            [
             0.8888888888888888,
             "#fdca26"
            ],
            [
             1.0,
             "#f0f921"
            ]
           ],
           "diverging": [
            [
             0,
             "#8e0152"
            ],
            [
             0.1,
             "#c51b7d"
            ],
            [
             0.2,
             "#de77ae"
            ],
            [
             0.3,
             "#f1b6da"
            ],
            [
             0.4,
             "#fde0ef"
            ],
            [
             0.5,
             "#f7f7f7"
            ],
            [
             0.6,
             "#e6f5d0"
            ],
            [
             0.7,
             "#b8e186"
            ],
            [
             0.8,
             "#7fbc41"
            ],
            [
             0.9,
             "#4d9221"
            ],
            [
             1,
             "#276419"
            ]
           ]
          },
          "xaxis": {
           "gridcolor": "white",
           "linecolor": "white",
           "ticks": "",
           "title": {
            "standoff": 15
           },
           "zerolinecolor": "white",
           "automargin": true,
           "zerolinewidth": 2
          },
          "yaxis": {
           "gridcolor": "white",
           "linecolor": "white",
           "ticks": "",
           "title": {
            "standoff": 15
           },
           "zerolinecolor": "white",
           "automargin": true,
           "zerolinewidth": 2
          },
          "scene": {
           "xaxis": {
            "backgroundcolor": "#E5ECF6",
            "gridcolor": "white",
            "linecolor": "white",
            "showbackground": true,
            "ticks": "",
            "zerolinecolor": "white",
            "gridwidth": 2
           },
           "yaxis": {
            "backgroundcolor": "#E5ECF6",
            "gridcolor": "white",
            "linecolor": "white",
            "showbackground": true,
            "ticks": "",
            "zerolinecolor": "white",
            "gridwidth": 2
           },
           "zaxis": {
            "backgroundcolor": "#E5ECF6",
            "gridcolor": "white",
            "linecolor": "white",
            "showbackground": true,
            "ticks": "",
            "zerolinecolor": "white",
            "gridwidth": 2
           }
          },
          "shapedefaults": {
           "line": {
            "color": "#2a3f5f"
           }
          },
          "annotationdefaults": {
           "arrowcolor": "#2a3f5f",
           "arrowhead": 0,
           "arrowwidth": 1
          },
          "geo": {
           "bgcolor": "white",
           "landcolor": "#E5ECF6",
           "subunitcolor": "white",
           "showland": true,
           "showlakes": true,
           "lakecolor": "white"
          },
          "title": {
           "x": 0.05
          },
          "mapbox": {
           "style": "light"
          }
         }
        },
        "xaxis": {
         "anchor": "y",
         "domain": [
          0.0,
          1.0
         ],
         "matches": "x2",
         "showticklabels": false
        },
        "yaxis": {
         "anchor": "x",
         "domain": [
          0.55,
          1.0
         ],
         "range": [
          0,
          1
         ]
        },
        "xaxis2": {
         "anchor": "y2",
         "domain": [
          0.0,
          1.0
         ]
        },
        "yaxis2": {
         "anchor": "x2",
         "domain": [
          0.0,
          0.45
         ]
        },
        "annotations": [
         {
          "font": {
           "size": 16
          },
          "showarrow": false,
          "text": "f1",
          "x": 0.5,
          "xanchor": "center",
          "xref": "paper",
          "y": 1.0,
          "yanchor": "bottom",
          "yref": "paper"
         },
         {
          "font": {
           "size": 16
          },
          "showarrow": false,
          "text": "d'",
          "x": 0.5,
          "xanchor": "center",
          "xref": "paper",
          "y": 0.45,
          "yanchor": "bottom",
          "yref": "paper"
         }
        ],
        "title": {
         "text": "fixation onsets"
        },
        "violinmode": "overlay",
        "boxmode": "group",
        "boxgroupgap": 0,
        "boxgap": 0,
        "margin": {
         "l": 10,
         "r": 10,
         "b": 10,
         "t": 10,
         "pad": 0
        },
        "width": 1000,
        "height": 500,
        "paper_bgcolor": "rgba(0, 0, 0, 0)",
        "plot_bgcolor": "rgba(0, 0, 0, 0)"
       },
       "config": {
        "plotlyServerURL": "https://plot.ly"
       }
      },
      "text/html": [
       "<div>                            <div id=\"c40f765d-a6ae-4fcb-b379-f3d017f44641\" class=\"plotly-graph-div\" style=\"height:500px; width:1000px;\"></div>            <script type=\"text/javascript\">                require([\"plotly\"], function(Plotly) {                    window.PLOTLYENV=window.PLOTLYENV || {};                                    if (document.getElementById(\"c40f765d-a6ae-4fcb-b379-f3d017f44641\")) {                    Plotly.newPlot(                        \"c40f765d-a6ae-4fcb-b379-f3d017f44641\",                        [{\"box\":{\"visible\":true},\"fillcolor\":\"#bab0ac\",\"legendgroup\":\"Other GT\",\"line\":{\"color\":\"black\"},\"meanline\":{\"visible\":true},\"name\":\"RA, Other GT\",\"opacity\":0.75,\"scalegroup\":\"f1\",\"showlegend\":true,\"side\":\"positive\",\"spanmode\":\"hard\",\"x0\":\"Other GT\",\"y\":[0.7999999999999999,0.7692307692307692,0.8421052631578948,0.6567164179104478,0.8307692307692308,0.847457627118644,0.8235294117647058,0.7419354838709677,0.8571428571428572,0.7500000000000001,0.689655172413793,0.6956521739130435,0.8358208955223881,0.9310344827586207],\"type\":\"violin\",\"xaxis\":\"x\",\"yaxis\":\"y\"},{\"box\":{\"visible\":true},\"fillcolor\":\"#2E91E5\",\"legendgroup\":\"ivt\",\"line\":{\"color\":\"black\"},\"meanline\":{\"visible\":true},\"name\":\"RA, ivt\",\"opacity\":0.75,\"scalegroup\":\"f1\",\"showlegend\":true,\"side\":\"positive\",\"spanmode\":\"hard\",\"x0\":\"ivt\",\"y\":[0.5901639344262296,0.5454545454545454,0.9041095890410958,0.5970149253731343,0.34375,0.6753246753246753,0.48275862068965525,0.6341463414634146,0.9152542372881356,0.7741935483870968,0.2898550724637681,0.43076923076923074,0.40579710144927533,0.37500000000000006,0.56,0.46153846153846156,0.4242424242424242,0.3714285714285714,0.6111111111111113,0.4074074074074074],\"type\":\"violin\",\"xaxis\":\"x\",\"yaxis\":\"y\"},{\"box\":{\"visible\":true},\"fillcolor\":\"#E15F99\",\"legendgroup\":\"ivvt\",\"line\":{\"color\":\"black\"},\"meanline\":{\"visible\":true},\"name\":\"RA, ivvt\",\"opacity\":0.75,\"scalegroup\":\"f1\",\"showlegend\":true,\"side\":\"positive\",\"spanmode\":\"hard\",\"x0\":\"ivvt\",\"y\":[0.7741935483870968,0.5555555555555556,0.6578947368421053,0.8,0.8181818181818182,0.33070866141732286,0.3697478991596639,0.15037593984962405,0.8307692307692307,0.8,0.65,0.8000000000000002,0.7317073170731708,0.6376811594202899,0.75,0.5227272727272727,0.6493506493506493,0.2956521739130435,0.5858585858585859,0.6551724137931035],\"type\":\"violin\",\"xaxis\":\"x\",\"yaxis\":\"y\"},{\"box\":{\"visible\":true},\"fillcolor\":\"#1CA71C\",\"legendgroup\":\"idt\",\"line\":{\"color\":\"black\"},\"meanline\":{\"visible\":true},\"name\":\"RA, idt\",\"opacity\":0.75,\"scalegroup\":\"f1\",\"showlegend\":true,\"side\":\"positive\",\"spanmode\":\"hard\",\"x0\":\"idt\",\"y\":[0.043478260869565216,0.25,0.13333333333333333,0.044444444444444446,0.04081632653061224,0.046511627906976744,0.14285714285714288,0.32558139534883723,0.08333333333333333,0.0425531914893617,0.03571428571428571,0.041666666666666664,0.05714285714285715,0.037037037037037035,0.03703703703703704,0.11538461538461538,0.03571428571428571],\"type\":\"violin\",\"xaxis\":\"x\",\"yaxis\":\"y\"},{\"box\":{\"visible\":true},\"fillcolor\":\"#FB0D0D\",\"legendgroup\":\"idvt\",\"line\":{\"color\":\"black\"},\"meanline\":{\"visible\":true},\"name\":\"RA, idvt\",\"opacity\":0.75,\"scalegroup\":\"f1\",\"showlegend\":true,\"side\":\"positive\",\"spanmode\":\"hard\",\"x0\":\"idvt\",\"y\":[0.043478260869565216,0.25,0.13333333333333333,0.044444444444444446,0.04081632653061224,0.046511627906976744,0.14285714285714288,0.32558139534883723,0.08333333333333333,0.0425531914893617,0.03571428571428571,0.041666666666666664,0.05714285714285715,0.03846153846153846,0.03846153846153846,0.12244897959183673,0.036363636363636355],\"type\":\"violin\",\"xaxis\":\"x\",\"yaxis\":\"y\"},{\"box\":{\"visible\":true},\"fillcolor\":\"#DA16FF\",\"legendgroup\":\"engbert\",\"line\":{\"color\":\"black\"},\"meanline\":{\"visible\":true},\"name\":\"RA, engbert\",\"opacity\":0.75,\"scalegroup\":\"f1\",\"showlegend\":true,\"side\":\"positive\",\"spanmode\":\"hard\",\"x0\":\"engbert\",\"y\":[0.8852459016393442,0.5454545454545454,0.7945205479452054,0.8285714285714285,0.9032258064516129,0.7428571428571429,0.5263157894736843,0.6046511627906976,0.8999999999999999,0.8918918918918919,0.75,0.8064516129032258,0.7272727272727273,0.6176470588235294,0.8771929824561403,0.5365853658536586,0.4242424242424242,0.3283582089552239,0.8219178082191781,0.7586206896551724],\"type\":\"violin\",\"xaxis\":\"x\",\"yaxis\":\"y\"},{\"box\":{\"visible\":true},\"fillcolor\":\"#222A2A\",\"legendgroup\":\"nh\",\"line\":{\"color\":\"black\"},\"meanline\":{\"visible\":true},\"name\":\"RA, nh\",\"opacity\":0.75,\"scalegroup\":\"f1\",\"showlegend\":true,\"side\":\"positive\",\"spanmode\":\"hard\",\"x0\":\"nh\",\"y\":[0.6909090909090909,0.625,0.05555555555555555,0.6666666666666667,0.7540983606557377,0.6666666666666667,0.0975609756097561,0.4102564102564102,0.9152542372881356,0.9117647058823529,0.71875,0.6779661016949153,0.5294117647058824,0.6774193548387096,0.9090909090909091,0.24137931034482757,0.047619047619047616,0.4583333333333333,0.04878048780487805,0.7241379310344827],\"type\":\"violin\",\"xaxis\":\"x\",\"yaxis\":\"y\"},{\"box\":{\"visible\":true},\"fillcolor\":\"#B68100\",\"legendgroup\":\"remodnav\",\"line\":{\"color\":\"black\"},\"meanline\":{\"visible\":true},\"name\":\"RA, remodnav\",\"opacity\":0.75,\"scalegroup\":\"f1\",\"showlegend\":true,\"side\":\"positive\",\"spanmode\":\"hard\",\"x0\":\"remodnav\",\"y\":[0.4,0.21052631578947367,0.2978723404255319,0.509090909090909,0.5882352941176471,0.2564102564102564,0.18604651162790697,0.16,0.2926829268292683,0.3555555555555555,0.5454545454545454,0.3076923076923077,0.2,0.44000000000000006,0.380952380952381,0.4347826086956521,0.29411764705882354,0.19999999999999998,0.3404255319148936,0.3157894736842105],\"type\":\"violin\",\"xaxis\":\"x\",\"yaxis\":\"y\"},{\"box\":{\"visible\":true},\"fillcolor\":\"#bab0ac\",\"legendgroup\":\"Other GT\",\"line\":{\"color\":\"black\"},\"meanline\":{\"visible\":true},\"name\":\"MN, Other GT\",\"opacity\":0.25,\"scalegroup\":\"f1\",\"showlegend\":true,\"side\":\"negative\",\"spanmode\":\"hard\",\"x0\":\"Other GT\",\"y\":[0.7999999999999999,0.7692307692307692,0.8421052631578948,0.6567164179104478,0.8307692307692308,0.847457627118644,0.8235294117647058,0.7419354838709677,0.8571428571428572,0.7500000000000001,0.689655172413793,0.6956521739130435,0.8358208955223881,0.9310344827586207],\"type\":\"violin\",\"xaxis\":\"x\",\"yaxis\":\"y\"},{\"box\":{\"visible\":true},\"fillcolor\":\"#2E91E5\",\"legendgroup\":\"ivt\",\"line\":{\"color\":\"black\"},\"meanline\":{\"visible\":true},\"name\":\"MN, ivt\",\"opacity\":0.25,\"scalegroup\":\"f1\",\"showlegend\":true,\"side\":\"negative\",\"spanmode\":\"hard\",\"x0\":\"ivt\",\"y\":[0.4666666666666667,0.5,0.6,0.4666666666666667,0.4000000000000001,0.5454545454545454,0.5797101449275363,0.46874999999999994,0.5833333333333334,0.625,0.5882352941176471,0.47222222222222227,0.5915492957746479,0.6428571428571429],\"type\":\"violin\",\"xaxis\":\"x\",\"yaxis\":\"y\"},{\"box\":{\"visible\":true},\"fillcolor\":\"#E15F99\",\"legendgroup\":\"ivvt\",\"line\":{\"color\":\"black\"},\"meanline\":{\"visible\":true},\"name\":\"MN, ivvt\",\"opacity\":0.25,\"scalegroup\":\"f1\",\"showlegend\":true,\"side\":\"negative\",\"spanmode\":\"hard\",\"x0\":\"ivvt\",\"y\":[0.819672131147541,0.631578947368421,0.3846153846153846,0.3770491803278689,0.7160493827160493,0.8169014084507042,0.7073170731707317,0.6666666666666666,0.7037037037037037,0.5555555555555555,0.6329113924050633,0.23931623931623933,0.5306122448979592,0.7333333333333333],\"type\":\"violin\",\"xaxis\":\"x\",\"yaxis\":\"y\"},{\"box\":{\"visible\":true},\"fillcolor\":\"#1CA71C\",\"legendgroup\":\"idt\",\"line\":{\"color\":\"black\"},\"meanline\":{\"visible\":true},\"name\":\"MN, idt\",\"opacity\":0.25,\"scalegroup\":\"f1\",\"showlegend\":true,\"side\":\"negative\",\"spanmode\":\"hard\",\"x0\":\"idt\",\"y\":[0.04444444444444444,0.22222222222222224,0.04347826086956522,0.06779661016949153,0.12244897959183672,0.04166666666666667,0.07142857142857142,0.041666666666666664,0.06060606060606061,0.07142857142857144,0.03571428571428572,0.07407407407407407,0.03636363636363636,0.0425531914893617],\"type\":\"violin\",\"xaxis\":\"x\",\"yaxis\":\"y\"},{\"box\":{\"visible\":true},\"fillcolor\":\"#FB0D0D\",\"legendgroup\":\"idvt\",\"line\":{\"color\":\"black\"},\"meanline\":{\"visible\":true},\"name\":\"MN, idvt\",\"opacity\":0.25,\"scalegroup\":\"f1\",\"showlegend\":true,\"side\":\"negative\",\"spanmode\":\"hard\",\"x0\":\"idvt\",\"y\":[0.04444444444444444,0.22222222222222224,0.04347826086956522,0.06779661016949153,0.12244897959183672,0.04166666666666667,0.07142857142857142,0.041666666666666664,0.06060606060606061,0.07407407407407407,0.037037037037037035,0.07843137254901962,0.037037037037037035,0.04444444444444444],\"type\":\"violin\",\"xaxis\":\"x\",\"yaxis\":\"y\"},{\"box\":{\"visible\":true},\"fillcolor\":\"#DA16FF\",\"legendgroup\":\"engbert\",\"line\":{\"color\":\"black\"},\"meanline\":{\"visible\":true},\"name\":\"MN, engbert\",\"opacity\":0.25,\"scalegroup\":\"f1\",\"showlegend\":true,\"side\":\"negative\",\"spanmode\":\"hard\",\"x0\":\"engbert\",\"y\":[0.8333333333333334,0.5217391304347825,0.7397260273972602,0.46938775510204084,0.821917808219178,0.9206349206349207,0.7792207792207793,0.7352941176470588,0.8727272727272727,0.6190476190476191,0.6470588235294117,0.46376811594202905,0.7222222222222221,0.8000000000000002],\"type\":\"violin\",\"xaxis\":\"x\",\"yaxis\":\"y\"},{\"box\":{\"visible\":true},\"fillcolor\":\"#222A2A\",\"legendgroup\":\"nh\",\"line\":{\"color\":\"black\"},\"meanline\":{\"visible\":true},\"name\":\"MN, nh\",\"opacity\":0.25,\"scalegroup\":\"f1\",\"showlegend\":true,\"side\":\"negative\",\"spanmode\":\"hard\",\"x0\":\"nh\",\"y\":[0.7407407407407407,0.47058823529411764,0.7407407407407408,0.13636363636363638,0.7692307692307692,0.9,0.5882352941176471,0.6774193548387096,0.9056603773584906,0.5333333333333333,0.045454545454545456,0.43999999999999995,0.05,0.7666666666666667],\"type\":\"violin\",\"xaxis\":\"x\",\"yaxis\":\"y\"},{\"box\":{\"visible\":true},\"fillcolor\":\"#B68100\",\"legendgroup\":\"remodnav\",\"line\":{\"color\":\"black\"},\"meanline\":{\"visible\":true},\"name\":\"MN, remodnav\",\"opacity\":0.25,\"scalegroup\":\"f1\",\"showlegend\":true,\"side\":\"negative\",\"spanmode\":\"hard\",\"x0\":\"remodnav\",\"y\":[0.41025641025641024,0.2,0.28571428571428575,0.26086956521739124,0.5357142857142857,0.35,0.2,0.28,0.45,0.3333333333333333,0.2777777777777778,0.1875,0.391304347826087,0.35],\"type\":\"violin\",\"xaxis\":\"x\",\"yaxis\":\"y\"},{\"box\":{\"visible\":true},\"fillcolor\":\"#bab0ac\",\"legendgroup\":\"Other GT\",\"line\":{\"color\":\"black\"},\"meanline\":{\"visible\":true},\"name\":\"RA, Other GT\",\"opacity\":0.75,\"scalegroup\":\"d_prime\",\"showlegend\":false,\"side\":\"positive\",\"spanmode\":\"hard\",\"x0\":\"Other GT\",\"y\":[3.0567756111928372,3.5817824584180404,3.4159835304233654,2.357381272489394,3.200699666366021,3.353897246083096,3.1177379610495146,2.725540789220216,3.0053604873627897,2.780349566555217,2.5519909644300327,2.6894249764554257,3.18858968320364,3.8658810131945223],\"type\":\"violin\",\"xaxis\":\"x2\",\"yaxis\":\"y2\"},{\"box\":{\"visible\":true},\"fillcolor\":\"#2E91E5\",\"legendgroup\":\"ivt\",\"line\":{\"color\":\"black\"},\"meanline\":{\"visible\":true},\"name\":\"RA, ivt\",\"opacity\":0.75,\"scalegroup\":\"d_prime\",\"showlegend\":false,\"side\":\"positive\",\"spanmode\":\"hard\",\"x0\":\"ivt\",\"y\":[2.1747085951129668,2.6143608923163395,4.078433696648515,2.148199106787624,1.2527544830947697,3.372964347755288,1.8029253638129163,2.9963750637684674,3.744779428486695,2.433845226377266,1.0327503684867034,1.5841203626135982,1.4212156954767394,1.360783035426807,1.642872009094081,1.6896038997297582,1.5854296573565831,1.6274552641258877,2.1500248610437454,1.0226059125590385],\"type\":\"violin\",\"xaxis\":\"x2\",\"yaxis\":\"y2\"},{\"box\":{\"visible\":true},\"fillcolor\":\"#E15F99\",\"legendgroup\":\"ivvt\",\"line\":{\"color\":\"black\"},\"meanline\":{\"visible\":true},\"name\":\"RA, ivvt\",\"opacity\":0.75,\"scalegroup\":\"d_prime\",\"showlegend\":false,\"side\":\"positive\",\"spanmode\":\"hard\",\"x0\":\"ivvt\",\"y\":[3.0537937137582674,3.120810885729698,2.3735870879117784,3.242653362046542,3.2071944842789084,1.6602530377557696,1.5073845377400499,1.116195769440203,3.315538034573608,2.7346692343092434,2.5110316028530018,3.690295263600527,2.904671737268374,2.3283523309692074,2.3536632047841772,2.0512764113876902,2.8272964491999035,1.6780023262729227,2.4160478472285334,1.9270822639168963],\"type\":\"violin\",\"xaxis\":\"x2\",\"yaxis\":\"y2\"},{\"box\":{\"visible\":true},\"fillcolor\":\"#1CA71C\",\"legendgroup\":\"idt\",\"line\":{\"color\":\"black\"},\"meanline\":{\"visible\":true},\"name\":\"RA, idt\",\"opacity\":0.75,\"scalegroup\":\"d_prime\",\"showlegend\":false,\"side\":\"positive\",\"spanmode\":\"hard\",\"x0\":\"idt\",\"y\":[-0.05156088702800665,1.8755341702937218,0.4348321224989218,0.020962714714781505,-0.10070025268081428,0.023511239490168423,0.5198044258228336,-1.0806858734715203,0.9500277766588175,-1.176206641842659,0.3013460575098834,-0.06855571287038442,-0.24528643391632365,-0.07268654217897619,0.022814037857845637,-0.22344726352875321,-0.23769490688804895,0.43667482528690926,-0.24528643391632365,-1.3455991502689377],\"type\":\"violin\",\"xaxis\":\"x2\",\"yaxis\":\"y2\"},{\"box\":{\"visible\":true},\"fillcolor\":\"#FB0D0D\",\"legendgroup\":\"idvt\",\"line\":{\"color\":\"black\"},\"meanline\":{\"visible\":true},\"name\":\"RA, idvt\",\"opacity\":0.75,\"scalegroup\":\"d_prime\",\"showlegend\":false,\"side\":\"positive\",\"spanmode\":\"hard\",\"x0\":\"idvt\",\"y\":[-0.05156088702800665,1.8755341702937218,0.4348321224989218,0.020962714714781505,-0.10070025268081428,0.023511239490168423,0.5198044258228336,-1.0528364266488046,0.9500277766588175,-1.176206641842659,0.3013460575098834,-0.06855571287038442,-0.24528643391632365,-0.07268654217897619,0.022814037857845637,-0.1773060914114366,-0.19625123451310644,0.4957891912038679,-0.22174272234724857,-1.276343426996191],\"type\":\"violin\",\"xaxis\":\"x2\",\"yaxis\":\"y2\"},{\"box\":{\"visible\":true},\"fillcolor\":\"#DA16FF\",\"legendgroup\":\"engbert\",\"line\":{\"color\":\"black\"},\"meanline\":{\"visible\":true},\"name\":\"RA, engbert\",\"opacity\":0.75,\"scalegroup\":\"d_prime\",\"showlegend\":false,\"side\":\"positive\",\"spanmode\":\"hard\",\"x0\":\"engbert\",\"y\":[3.997164499610903,4.8181294575005,3.029424181497933,3.501153542978641,3.7522485483392343,3.5384270446367676,2.116287557103349,2.932613783759587,3.646861560454929,4.11116478502508,2.878499483800676,3.1678131511463814,2.7310517322715686,2.236404285425549,3.150352877914421,2.0385022528440464,1.5854296573565831,1.4131677538669707,3.2113884285133825,2.416156134598274],\"type\":\"violin\",\"xaxis\":\"x2\",\"yaxis\":\"y2\"},{\"box\":{\"visible\":true},\"fillcolor\":\"#222A2A\",\"legendgroup\":\"nh\",\"line\":{\"color\":\"black\"},\"meanline\":{\"visible\":true},\"name\":\"RA, nh\",\"opacity\":0.75,\"scalegroup\":\"d_prime\",\"showlegend\":false,\"side\":\"positive\",\"spanmode\":\"hard\",\"x0\":\"nh\",\"y\":[2.542822143302328,3.2518112592933517,0.9328567103555421,2.4029944677862347,2.7797111093368385,2.465043137998208,0.5954010782267636,1.8762061544309125,3.744779428486695,3.4774372656380104,2.605674564663064,2.480099481402406,1.8464241910234642,2.443718922487479,3.570406074860073,0.9185614028318028,0.06975852818063721,1.8149458097761437,0.2993285090688138,2.2407035282980354],\"type\":\"violin\",\"xaxis\":\"x2\",\"yaxis\":\"y2\"},{\"box\":{\"visible\":true},\"fillcolor\":\"#B68100\",\"legendgroup\":\"remodnav\",\"line\":{\"color\":\"black\"},\"meanline\":{\"visible\":true},\"name\":\"RA, remodnav\",\"opacity\":0.75,\"scalegroup\":\"d_prime\",\"showlegend\":false,\"side\":\"positive\",\"spanmode\":\"hard\",\"x0\":\"remodnav\",\"y\":[1.7834566321922396,1.536413287414544,1.3681316479827053,1.8616370006338798,2.2219840389418604,1.2383907473881992,0.979172242203302,0.9802949188871031,0.8972946159770097,1.229205654556361,1.9968333656927313,1.531292423596961,1.4053771238766313,1.703927515568559,1.2462810973746286,1.8020125241068292,1.9058887390566865,1.1736939750442725,1.5381679075740258,1.1503977300041295],\"type\":\"violin\",\"xaxis\":\"x2\",\"yaxis\":\"y2\"},{\"box\":{\"visible\":true},\"fillcolor\":\"#bab0ac\",\"legendgroup\":\"Other GT\",\"line\":{\"color\":\"black\"},\"meanline\":{\"visible\":true},\"name\":\"MN, Other GT\",\"opacity\":0.25,\"scalegroup\":\"d_prime\",\"showlegend\":false,\"side\":\"negative\",\"spanmode\":\"hard\",\"x0\":\"Other GT\",\"y\":[3.091123000459605,3.4081913872337393,3.2945669650718723,2.3073517068189,3.1690619662342248,3.3150722769627965,3.1177379610495146,2.725540789220216,3.0679250961990348,2.733152367843025,2.507736746565172,2.6288211074897583,3.2197320122635427,3.7597361191492307],\"type\":\"violin\",\"xaxis\":\"x2\",\"yaxis\":\"y2\"},{\"box\":{\"visible\":true},\"fillcolor\":\"#2E91E5\",\"legendgroup\":\"ivt\",\"line\":{\"color\":\"black\"},\"meanline\":{\"visible\":true},\"name\":\"MN, ivt\",\"opacity\":0.25,\"scalegroup\":\"d_prime\",\"showlegend\":false,\"side\":\"negative\",\"spanmode\":\"hard\",\"x0\":\"ivt\",\"y\":[1.7465639976496237,2.4335840960494877,2.3847502127579583,1.650168056621698,1.409819393344206,1.975647985796717,2.025160071564665,1.6807499505522447,1.7387386242120977,2.32135441927185,2.152826519283019,2.008234514881136,2.0944455161680517,1.8714414951623688],\"type\":\"violin\",\"xaxis\":\"x2\",\"yaxis\":\"y2\"},{\"box\":{\"visible\":true},\"fillcolor\":\"#E15F99\",\"legendgroup\":\"ivvt\",\"line\":{\"color\":\"black\"},\"meanline\":{\"visible\":true},\"name\":\"MN, ivvt\",\"opacity\":0.25,\"scalegroup\":\"d_prime\",\"showlegend\":false,\"side\":\"negative\",\"spanmode\":\"hard\",\"x0\":\"ivvt\",\"y\":[3.4775622995334645,3.280849238505067,1.8938386235183784,1.4287080740322238,2.862353978254591,3.7397105806840383,2.741404862618098,2.454714666252115,2.1630614703901045,2.1303877367746216,2.5505066984345097,1.110826267730398,2.123051241012207,2.241020115236657],\"type\":\"violin\",\"xaxis\":\"x2\",\"yaxis\":\"y2\"},{\"box\":{\"visible\":true},\"fillcolor\":\"#1CA71C\",\"legendgroup\":\"idt\",\"line\":{\"color\":\"black\"},\"meanline\":{\"visible\":true},\"name\":\"MN, idt\",\"opacity\":0.25,\"scalegroup\":\"d_prime\",\"showlegend\":false,\"side\":\"negative\",\"spanmode\":\"hard\",\"x0\":\"idt\",\"y\":[-0.0338840778853855,1.7746720414227346,-0.027450405739186223,0.041275527818388724,0.5322789661042571,-0.08492013972727208,0.10304076662438266,-0.07268654217897619,0.061129186090608245,0.09577684343278214,-0.271231520439132,0.12954027461191808,-0.23098060243157792,-0.5838734806279315],\"type\":\"violin\",\"xaxis\":\"x2\",\"yaxis\":\"y2\"},{\"box\":{\"visible\":true},\"fillcolor\":\"#FB0D0D\",\"legendgroup\":\"idvt\",\"line\":{\"color\":\"black\"},\"meanline\":{\"visible\":true},\"name\":\"MN, idvt\",\"opacity\":0.25,\"scalegroup\":\"d_prime\",\"showlegend\":false,\"side\":\"negative\",\"spanmode\":\"hard\",\"x0\":\"idvt\",\"y\":[-0.0338840778853855,1.7746720414227346,-0.027450405739186223,0.041275527818388724,0.5322789661042571,-0.08492013972727208,0.10304076662438266,-0.07268654217897619,0.061129186090608245,0.1438019524171672,-0.22974640753840947,0.1869558170283443,-0.20744814640829579,-0.5080180364977112],\"type\":\"violin\",\"xaxis\":\"x2\",\"yaxis\":\"y2\"},{\"box\":{\"visible\":true},\"fillcolor\":\"#DA16FF\",\"legendgroup\":\"engbert\",\"line\":{\"color\":\"black\"},\"meanline\":{\"visible\":true},\"name\":\"MN, engbert\",\"opacity\":0.25,\"scalegroup\":\"d_prime\",\"showlegend\":false,\"side\":\"negative\",\"spanmode\":\"hard\",\"x0\":\"engbert\",\"y\":[3.5261786093366183,3.074122458384413,3.0585474698842803,1.7118975044914326,3.3163891695673327,4.18156534667701,3.0532325835419942,2.769657664682239,3.1657257065085505,2.358518800115836,2.3997243702853313,1.9251887970880794,2.6665394643583724,2.5967827016697838],\"type\":\"violin\",\"xaxis\":\"x2\",\"yaxis\":\"y2\"},{\"box\":{\"visible\":true},\"fillcolor\":\"#222A2A\",\"legendgroup\":\"nh\",\"line\":{\"color\":\"black\"},\"meanline\":{\"visible\":true},\"name\":\"MN, nh\",\"opacity\":0.25,\"scalegroup\":\"d_prime\",\"showlegend\":false,\"side\":\"negative\",\"spanmode\":\"hard\",\"x0\":\"nh\",\"y\":[2.7798013155477705,2.393291084419631,2.778378010156553,0.8203567177435744,2.8270058208918334,3.7344972970435584,2.0563388485330085,2.443718922487479,3.448612787952462,1.9025605815882747,0.0365010396690153,1.7082094505249226,0.3134166881435796,2.4105937074558472],\"type\":\"violin\",\"xaxis\":\"x2\",\"yaxis\":\"y2\"},{\"box\":{\"visible\":true},\"fillcolor\":\"#B68100\",\"legendgroup\":\"remodnav\",\"line\":{\"color\":\"black\"},\"meanline\":{\"visible\":true},\"name\":\"MN, remodnav\",\"opacity\":0.25,\"scalegroup\":\"d_prime\",\"showlegend\":false,\"side\":\"negative\",\"spanmode\":\"hard\",\"x0\":\"remodnav\",\"y\":[1.8151965330169004,1.4002371442333947,1.3509492090262274,1.310322183013565,1.9600867342503607,1.7250324406173139,1.4053771238766313,1.1520345117387865,1.5143580583657432,1.4300413109147279,1.8577801508813967,1.1183707375963778,1.7404156835979647,1.3298189220632723],\"type\":\"violin\",\"xaxis\":\"x2\",\"yaxis\":\"y2\"}],                        {\"template\":{\"data\":{\"histogram2dcontour\":[{\"type\":\"histogram2dcontour\",\"colorbar\":{\"outlinewidth\":0,\"ticks\":\"\"},\"colorscale\":[[0.0,\"#0d0887\"],[0.1111111111111111,\"#46039f\"],[0.2222222222222222,\"#7201a8\"],[0.3333333333333333,\"#9c179e\"],[0.4444444444444444,\"#bd3786\"],[0.5555555555555556,\"#d8576b\"],[0.6666666666666666,\"#ed7953\"],[0.7777777777777778,\"#fb9f3a\"],[0.8888888888888888,\"#fdca26\"],[1.0,\"#f0f921\"]]}],\"choropleth\":[{\"type\":\"choropleth\",\"colorbar\":{\"outlinewidth\":0,\"ticks\":\"\"}}],\"histogram2d\":[{\"type\":\"histogram2d\",\"colorbar\":{\"outlinewidth\":0,\"ticks\":\"\"},\"colorscale\":[[0.0,\"#0d0887\"],[0.1111111111111111,\"#46039f\"],[0.2222222222222222,\"#7201a8\"],[0.3333333333333333,\"#9c179e\"],[0.4444444444444444,\"#bd3786\"],[0.5555555555555556,\"#d8576b\"],[0.6666666666666666,\"#ed7953\"],[0.7777777777777778,\"#fb9f3a\"],[0.8888888888888888,\"#fdca26\"],[1.0,\"#f0f921\"]]}],\"heatmap\":[{\"type\":\"heatmap\",\"colorbar\":{\"outlinewidth\":0,\"ticks\":\"\"},\"colorscale\":[[0.0,\"#0d0887\"],[0.1111111111111111,\"#46039f\"],[0.2222222222222222,\"#7201a8\"],[0.3333333333333333,\"#9c179e\"],[0.4444444444444444,\"#bd3786\"],[0.5555555555555556,\"#d8576b\"],[0.6666666666666666,\"#ed7953\"],[0.7777777777777778,\"#fb9f3a\"],[0.8888888888888888,\"#fdca26\"],[1.0,\"#f0f921\"]]}],\"heatmapgl\":[{\"type\":\"heatmapgl\",\"colorbar\":{\"outlinewidth\":0,\"ticks\":\"\"},\"colorscale\":[[0.0,\"#0d0887\"],[0.1111111111111111,\"#46039f\"],[0.2222222222222222,\"#7201a8\"],[0.3333333333333333,\"#9c179e\"],[0.4444444444444444,\"#bd3786\"],[0.5555555555555556,\"#d8576b\"],[0.6666666666666666,\"#ed7953\"],[0.7777777777777778,\"#fb9f3a\"],[0.8888888888888888,\"#fdca26\"],[1.0,\"#f0f921\"]]}],\"contourcarpet\":[{\"type\":\"contourcarpet\",\"colorbar\":{\"outlinewidth\":0,\"ticks\":\"\"}}],\"contour\":[{\"type\":\"contour\",\"colorbar\":{\"outlinewidth\":0,\"ticks\":\"\"},\"colorscale\":[[0.0,\"#0d0887\"],[0.1111111111111111,\"#46039f\"],[0.2222222222222222,\"#7201a8\"],[0.3333333333333333,\"#9c179e\"],[0.4444444444444444,\"#bd3786\"],[0.5555555555555556,\"#d8576b\"],[0.6666666666666666,\"#ed7953\"],[0.7777777777777778,\"#fb9f3a\"],[0.8888888888888888,\"#fdca26\"],[1.0,\"#f0f921\"]]}],\"surface\":[{\"type\":\"surface\",\"colorbar\":{\"outlinewidth\":0,\"ticks\":\"\"},\"colorscale\":[[0.0,\"#0d0887\"],[0.1111111111111111,\"#46039f\"],[0.2222222222222222,\"#7201a8\"],[0.3333333333333333,\"#9c179e\"],[0.4444444444444444,\"#bd3786\"],[0.5555555555555556,\"#d8576b\"],[0.6666666666666666,\"#ed7953\"],[0.7777777777777778,\"#fb9f3a\"],[0.8888888888888888,\"#fdca26\"],[1.0,\"#f0f921\"]]}],\"mesh3d\":[{\"type\":\"mesh3d\",\"colorbar\":{\"outlinewidth\":0,\"ticks\":\"\"}}],\"scatter\":[{\"fillpattern\":{\"fillmode\":\"overlay\",\"size\":10,\"solidity\":0.2},\"type\":\"scatter\"}],\"parcoords\":[{\"type\":\"parcoords\",\"line\":{\"colorbar\":{\"outlinewidth\":0,\"ticks\":\"\"}}}],\"scatterpolargl\":[{\"type\":\"scatterpolargl\",\"marker\":{\"colorbar\":{\"outlinewidth\":0,\"ticks\":\"\"}}}],\"bar\":[{\"error_x\":{\"color\":\"#2a3f5f\"},\"error_y\":{\"color\":\"#2a3f5f\"},\"marker\":{\"line\":{\"color\":\"#E5ECF6\",\"width\":0.5},\"pattern\":{\"fillmode\":\"overlay\",\"size\":10,\"solidity\":0.2}},\"type\":\"bar\"}],\"scattergeo\":[{\"type\":\"scattergeo\",\"marker\":{\"colorbar\":{\"outlinewidth\":0,\"ticks\":\"\"}}}],\"scatterpolar\":[{\"type\":\"scatterpolar\",\"marker\":{\"colorbar\":{\"outlinewidth\":0,\"ticks\":\"\"}}}],\"histogram\":[{\"marker\":{\"pattern\":{\"fillmode\":\"overlay\",\"size\":10,\"solidity\":0.2}},\"type\":\"histogram\"}],\"scattergl\":[{\"type\":\"scattergl\",\"marker\":{\"colorbar\":{\"outlinewidth\":0,\"ticks\":\"\"}}}],\"scatter3d\":[{\"type\":\"scatter3d\",\"line\":{\"colorbar\":{\"outlinewidth\":0,\"ticks\":\"\"}},\"marker\":{\"colorbar\":{\"outlinewidth\":0,\"ticks\":\"\"}}}],\"scattermapbox\":[{\"type\":\"scattermapbox\",\"marker\":{\"colorbar\":{\"outlinewidth\":0,\"ticks\":\"\"}}}],\"scatterternary\":[{\"type\":\"scatterternary\",\"marker\":{\"colorbar\":{\"outlinewidth\":0,\"ticks\":\"\"}}}],\"scattercarpet\":[{\"type\":\"scattercarpet\",\"marker\":{\"colorbar\":{\"outlinewidth\":0,\"ticks\":\"\"}}}],\"carpet\":[{\"aaxis\":{\"endlinecolor\":\"#2a3f5f\",\"gridcolor\":\"white\",\"linecolor\":\"white\",\"minorgridcolor\":\"white\",\"startlinecolor\":\"#2a3f5f\"},\"baxis\":{\"endlinecolor\":\"#2a3f5f\",\"gridcolor\":\"white\",\"linecolor\":\"white\",\"minorgridcolor\":\"white\",\"startlinecolor\":\"#2a3f5f\"},\"type\":\"carpet\"}],\"table\":[{\"cells\":{\"fill\":{\"color\":\"#EBF0F8\"},\"line\":{\"color\":\"white\"}},\"header\":{\"fill\":{\"color\":\"#C8D4E3\"},\"line\":{\"color\":\"white\"}},\"type\":\"table\"}],\"barpolar\":[{\"marker\":{\"line\":{\"color\":\"#E5ECF6\",\"width\":0.5},\"pattern\":{\"fillmode\":\"overlay\",\"size\":10,\"solidity\":0.2}},\"type\":\"barpolar\"}],\"pie\":[{\"automargin\":true,\"type\":\"pie\"}]},\"layout\":{\"autotypenumbers\":\"strict\",\"colorway\":[\"#636efa\",\"#EF553B\",\"#00cc96\",\"#ab63fa\",\"#FFA15A\",\"#19d3f3\",\"#FF6692\",\"#B6E880\",\"#FF97FF\",\"#FECB52\"],\"font\":{\"color\":\"#2a3f5f\"},\"hovermode\":\"closest\",\"hoverlabel\":{\"align\":\"left\"},\"paper_bgcolor\":\"white\",\"plot_bgcolor\":\"#E5ECF6\",\"polar\":{\"bgcolor\":\"#E5ECF6\",\"angularaxis\":{\"gridcolor\":\"white\",\"linecolor\":\"white\",\"ticks\":\"\"},\"radialaxis\":{\"gridcolor\":\"white\",\"linecolor\":\"white\",\"ticks\":\"\"}},\"ternary\":{\"bgcolor\":\"#E5ECF6\",\"aaxis\":{\"gridcolor\":\"white\",\"linecolor\":\"white\",\"ticks\":\"\"},\"baxis\":{\"gridcolor\":\"white\",\"linecolor\":\"white\",\"ticks\":\"\"},\"caxis\":{\"gridcolor\":\"white\",\"linecolor\":\"white\",\"ticks\":\"\"}},\"coloraxis\":{\"colorbar\":{\"outlinewidth\":0,\"ticks\":\"\"}},\"colorscale\":{\"sequential\":[[0.0,\"#0d0887\"],[0.1111111111111111,\"#46039f\"],[0.2222222222222222,\"#7201a8\"],[0.3333333333333333,\"#9c179e\"],[0.4444444444444444,\"#bd3786\"],[0.5555555555555556,\"#d8576b\"],[0.6666666666666666,\"#ed7953\"],[0.7777777777777778,\"#fb9f3a\"],[0.8888888888888888,\"#fdca26\"],[1.0,\"#f0f921\"]],\"sequentialminus\":[[0.0,\"#0d0887\"],[0.1111111111111111,\"#46039f\"],[0.2222222222222222,\"#7201a8\"],[0.3333333333333333,\"#9c179e\"],[0.4444444444444444,\"#bd3786\"],[0.5555555555555556,\"#d8576b\"],[0.6666666666666666,\"#ed7953\"],[0.7777777777777778,\"#fb9f3a\"],[0.8888888888888888,\"#fdca26\"],[1.0,\"#f0f921\"]],\"diverging\":[[0,\"#8e0152\"],[0.1,\"#c51b7d\"],[0.2,\"#de77ae\"],[0.3,\"#f1b6da\"],[0.4,\"#fde0ef\"],[0.5,\"#f7f7f7\"],[0.6,\"#e6f5d0\"],[0.7,\"#b8e186\"],[0.8,\"#7fbc41\"],[0.9,\"#4d9221\"],[1,\"#276419\"]]},\"xaxis\":{\"gridcolor\":\"white\",\"linecolor\":\"white\",\"ticks\":\"\",\"title\":{\"standoff\":15},\"zerolinecolor\":\"white\",\"automargin\":true,\"zerolinewidth\":2},\"yaxis\":{\"gridcolor\":\"white\",\"linecolor\":\"white\",\"ticks\":\"\",\"title\":{\"standoff\":15},\"zerolinecolor\":\"white\",\"automargin\":true,\"zerolinewidth\":2},\"scene\":{\"xaxis\":{\"backgroundcolor\":\"#E5ECF6\",\"gridcolor\":\"white\",\"linecolor\":\"white\",\"showbackground\":true,\"ticks\":\"\",\"zerolinecolor\":\"white\",\"gridwidth\":2},\"yaxis\":{\"backgroundcolor\":\"#E5ECF6\",\"gridcolor\":\"white\",\"linecolor\":\"white\",\"showbackground\":true,\"ticks\":\"\",\"zerolinecolor\":\"white\",\"gridwidth\":2},\"zaxis\":{\"backgroundcolor\":\"#E5ECF6\",\"gridcolor\":\"white\",\"linecolor\":\"white\",\"showbackground\":true,\"ticks\":\"\",\"zerolinecolor\":\"white\",\"gridwidth\":2}},\"shapedefaults\":{\"line\":{\"color\":\"#2a3f5f\"}},\"annotationdefaults\":{\"arrowcolor\":\"#2a3f5f\",\"arrowhead\":0,\"arrowwidth\":1},\"geo\":{\"bgcolor\":\"white\",\"landcolor\":\"#E5ECF6\",\"subunitcolor\":\"white\",\"showland\":true,\"showlakes\":true,\"lakecolor\":\"white\"},\"title\":{\"x\":0.05},\"mapbox\":{\"style\":\"light\"}}},\"xaxis\":{\"anchor\":\"y\",\"domain\":[0.0,1.0],\"matches\":\"x2\",\"showticklabels\":false},\"yaxis\":{\"anchor\":\"x\",\"domain\":[0.55,1.0],\"range\":[0,1]},\"xaxis2\":{\"anchor\":\"y2\",\"domain\":[0.0,1.0]},\"yaxis2\":{\"anchor\":\"x2\",\"domain\":[0.0,0.45]},\"annotations\":[{\"font\":{\"size\":16},\"showarrow\":false,\"text\":\"f1\",\"x\":0.5,\"xanchor\":\"center\",\"xref\":\"paper\",\"y\":1.0,\"yanchor\":\"bottom\",\"yref\":\"paper\"},{\"font\":{\"size\":16},\"showarrow\":false,\"text\":\"d'\",\"x\":0.5,\"xanchor\":\"center\",\"xref\":\"paper\",\"y\":0.45,\"yanchor\":\"bottom\",\"yref\":\"paper\"}],\"title\":{\"text\":\"fixation onsets\"},\"violinmode\":\"overlay\",\"boxmode\":\"group\",\"boxgroupgap\":0,\"boxgap\":0,\"margin\":{\"l\":10,\"r\":10,\"b\":10,\"t\":10,\"pad\":0},\"width\":1000,\"height\":500,\"paper_bgcolor\":\"rgba(0, 0, 0, 0)\",\"plot_bgcolor\":\"rgba(0, 0, 0, 0)\"},                        {\"responsive\": true}                    ).then(function(){\n",
       "                            \n",
       "var gd = document.getElementById('c40f765d-a6ae-4fcb-b379-f3d017f44641');\n",
       "var x = new MutationObserver(function (mutations, observer) {{\n",
       "        var display = window.getComputedStyle(gd).display;\n",
       "        if (!display || display === 'none') {{\n",
       "            console.log([gd, 'removed!']);\n",
       "            Plotly.purge(gd);\n",
       "            observer.disconnect();\n",
       "        }}\n",
       "}});\n",
       "\n",
       "// Listen for the removal of the full notebook cells\n",
       "var notebookContainer = gd.closest('#notebook-container');\n",
       "if (notebookContainer) {{\n",
       "    x.observe(notebookContainer, {childList: true});\n",
       "}}\n",
       "\n",
       "// Listen for the clearing of the current output cell\n",
       "var outputEl = gd.closest('.output');\n",
       "if (outputEl) {{\n",
       "    x.observe(outputEl, {childList: true});\n",
       "}}\n",
       "\n",
       "                        })                };                });            </script>        </div>"
      ]
     },
     "metadata": {},
     "output_type": "display_data"
    }
   ],
   "execution_count": 40
  },
  {
   "metadata": {},
   "cell_type": "markdown",
   "source": "### (2) Offset Distributions",
   "id": "a714ab0c98b39c5"
  },
  {
   "metadata": {
    "ExecuteTime": {
     "end_time": "2025-01-09T15:26:11.478059Z",
     "start_time": "2025-01-09T15:26:11.438020Z"
    }
   },
   "cell_type": "code",
   "source": [
    "offset_distribution_figure = ch_sdt.single_threshold_figure(\n",
    "    csdt_metrics.loc[(slice(None), [peyes.constants.D_PRIME_STR, peyes.constants.F1_STR], slice(None)), :],\n",
    "    peyes.constants.OFFSET_STR,\n",
    "    THRESHOLD,\n",
    "    GT1,\n",
    "    gt2=GT2,\n",
    "    show_other_gt=True,\n",
    "    share_x=True,\n",
    "    colors={k: v[1] for k, v in LABELER_PLOTTING_CONFIG.items()},\n",
    ")\n",
    "\n",
    "offset_distribution_figure.update_layout(\n",
    "    title=dict(text=\"fixation offsets\"),\n",
    "    width=1000, height=500,\n",
    "    paper_bgcolor='rgba(0, 0, 0, 0)',\n",
    "    plot_bgcolor='rgba(0, 0, 0, 0)',\n",
    "    margin=dict(l=10, r=10, b=10, t=10, pad=0),\n",
    ")\n",
    "# offset_distribution_figure.layout.annotations = []   # remove subtitles\n",
    "\n",
    "offset_distribution_figure.show()"
   ],
   "id": "8c7133a68f02588b",
   "outputs": [
    {
     "data": {
      "application/vnd.plotly.v1+json": {
       "data": [
        {
         "box": {
          "visible": true
         },
         "fillcolor": "#bab0ac",
         "legendgroup": "Other GT",
         "line": {
          "color": "black"
         },
         "meanline": {
          "visible": true
         },
         "name": "RA, Other GT",
         "opacity": 0.75,
         "scalegroup": "f1",
         "showlegend": true,
         "side": "positive",
         "spanmode": "hard",
         "x0": "Other GT",
         "y": [
          0.9454545454545454,
          0.7692307692307692,
          0.9473684210526316,
          0.955223880597015,
          0.9538461538461539,
          0.983050847457627,
          1.0,
          0.967741935483871,
          0.9642857142857143,
          0.96875,
          0.9310344827586207,
          0.8260869565217391,
          0.9850746268656716,
          0.9655172413793104
         ],
         "type": "violin",
         "xaxis": "x",
         "yaxis": "y"
        },
        {
         "box": {
          "visible": true
         },
         "fillcolor": "#2E91E5",
         "legendgroup": "ivt",
         "line": {
          "color": "black"
         },
         "meanline": {
          "visible": true
         },
         "name": "RA, ivt",
         "opacity": 0.75,
         "scalegroup": "f1",
         "showlegend": true,
         "side": "positive",
         "spanmode": "hard",
         "x0": "ivt",
         "y": [
          0.8524590163934426,
          0.9090909090909091,
          0.9315068493150686,
          0.9253731343283582,
          0.7812499999999999,
          0.6493506493506493,
          0.735632183908046,
          0.7317073170731707,
          0.9152542372881356,
          0.8064516129032258,
          0.8695652173913043,
          0.8615384615384615,
          0.9565217391304348,
          0.875,
          0.8400000000000001,
          0.7948717948717948,
          0.8484848484848484,
          0.4857142857142857,
          0.9444444444444444,
          0.888888888888889
         ],
         "type": "violin",
         "xaxis": "x",
         "yaxis": "y"
        },
        {
         "box": {
          "visible": true
         },
         "fillcolor": "#E15F99",
         "legendgroup": "ivvt",
         "line": {
          "color": "black"
         },
         "meanline": {
          "visible": true
         },
         "name": "RA, ivvt",
         "opacity": 0.75,
         "scalegroup": "f1",
         "showlegend": true,
         "side": "positive",
         "spanmode": "hard",
         "x0": "ivvt",
         "y": [
          0.8709677419354839,
          0.6666666666666666,
          0.8947368421052632,
          0.8857142857142858,
          0.8787878787878788,
          0.40944881889763773,
          0.5042016806722689,
          0.19548872180451127,
          0.8615384615384616,
          0.8266666666666667,
          0.8,
          0.8000000000000002,
          0.8292682926829268,
          0.898550724637681,
          0.9285714285714286,
          0.6818181818181819,
          0.7012987012987012,
          0.3304347826086957,
          0.6666666666666666,
          0.9310344827586207
         ],
         "type": "violin",
         "xaxis": "x",
         "yaxis": "y"
        },
        {
         "box": {
          "visible": true
         },
         "fillcolor": "#1CA71C",
         "legendgroup": "idt",
         "line": {
          "color": "black"
         },
         "meanline": {
          "visible": true
         },
         "name": "RA, idt",
         "opacity": 0.75,
         "scalegroup": "f1",
         "showlegend": true,
         "side": "positive",
         "spanmode": "hard",
         "x0": "idt",
         "y": [
          0.6956521739130435,
          0.5,
          0.7333333333333334,
          0.6222222222222222,
          0.6938775510204082,
          0.6046511627906976,
          0.7142857142857143,
          0.5161290322580646,
          0.6046511627906976,
          0.5333333333333333,
          0.6666666666666666,
          0.5957446808510638,
          0.6785714285714287,
          0.5833333333333333,
          0.34285714285714286,
          0.6296296296296297,
          0.4074074074074074,
          0.34615384615384615,
          0.5714285714285714,
          0.5777777777777777
         ],
         "type": "violin",
         "xaxis": "x",
         "yaxis": "y"
        },
        {
         "box": {
          "visible": true
         },
         "fillcolor": "#FB0D0D",
         "legendgroup": "idvt",
         "line": {
          "color": "black"
         },
         "meanline": {
          "visible": true
         },
         "name": "RA, idvt",
         "opacity": 0.75,
         "scalegroup": "f1",
         "showlegend": true,
         "side": "positive",
         "spanmode": "hard",
         "x0": "idvt",
         "y": [
          0.6956521739130435,
          0.5,
          0.7333333333333334,
          0.6222222222222222,
          0.6938775510204082,
          0.6046511627906976,
          0.7142857142857143,
          0.5333333333333333,
          0.6046511627906976,
          0.5333333333333333,
          0.6666666666666666,
          0.5957446808510638,
          0.6785714285714287,
          0.5833333333333333,
          0.34285714285714286,
          0.6538461538461537,
          0.4230769230769231,
          0.36734693877551017,
          0.5818181818181817,
          0.6046511627906976
         ],
         "type": "violin",
         "xaxis": "x",
         "yaxis": "y"
        },
        {
         "box": {
          "visible": true
         },
         "fillcolor": "#DA16FF",
         "legendgroup": "engbert",
         "line": {
          "color": "black"
         },
         "meanline": {
          "visible": true
         },
         "name": "RA, engbert",
         "opacity": 0.75,
         "scalegroup": "f1",
         "showlegend": true,
         "side": "positive",
         "spanmode": "hard",
         "x0": "engbert",
         "y": [
          0.9180327868852458,
          0.5454545454545454,
          0.9315068493150686,
          0.8857142857142858,
          0.9354838709677419,
          0.7714285714285715,
          0.6526315789473683,
          0.6976744186046512,
          0.9333333333333333,
          0.8918918918918919,
          0.8333333333333334,
          0.9032258064516129,
          0.8831168831168831,
          0.911764705882353,
          0.912280701754386,
          0.7560975609756097,
          0.8484848484848484,
          0.5970149253731343,
          0.9041095890410958,
          0.9655172413793104
         ],
         "type": "violin",
         "xaxis": "x",
         "yaxis": "y"
        },
        {
         "box": {
          "visible": true
         },
         "fillcolor": "#222A2A",
         "legendgroup": "nh",
         "line": {
          "color": "black"
         },
         "meanline": {
          "visible": true
         },
         "name": "RA, nh",
         "opacity": 0.75,
         "scalegroup": "f1",
         "showlegend": true,
         "side": "positive",
         "spanmode": "hard",
         "x0": "nh",
         "y": [
          0.509090909090909,
          0.37499999999999994,
          0.1111111111111111,
          0.5079365079365079,
          0.39344262295081966,
          0.5098039215686274,
          0.1951219512195122,
          0.3076923076923077,
          0.8474576271186439,
          0.9411764705882354,
          0.5,
          0.47457627118644075,
          0.5588235294117647,
          0.4838709677419355,
          0.8727272727272727,
          0.5172413793103449,
          0.14285714285714285,
          0.4999999999999999,
          0.0975609756097561,
          0.8275862068965518
         ],
         "type": "violin",
         "xaxis": "x",
         "yaxis": "y"
        },
        {
         "box": {
          "visible": true
         },
         "fillcolor": "#B68100",
         "legendgroup": "remodnav",
         "line": {
          "color": "black"
         },
         "meanline": {
          "visible": true
         },
         "name": "RA, remodnav",
         "opacity": 0.75,
         "scalegroup": "f1",
         "showlegend": true,
         "side": "positive",
         "spanmode": "hard",
         "x0": "remodnav",
         "y": [
          0.2,
          0.2978723404255319,
          0.509090909090909,
          0.43137254901960786,
          0.30769230769230765,
          0.2325581395348837,
          0.16,
          0.2926829268292683,
          0.2222222222222222,
          0.4,
          0.20512820512820515,
          0.15,
          0.31999999999999995,
          0.23809523809523808,
          0.26086956521739135,
          0.11764705882352941,
          0.2978723404255319,
          0.3157894736842105
         ],
         "type": "violin",
         "xaxis": "x",
         "yaxis": "y"
        },
        {
         "box": {
          "visible": true
         },
         "fillcolor": "#bab0ac",
         "legendgroup": "Other GT",
         "line": {
          "color": "black"
         },
         "meanline": {
          "visible": true
         },
         "name": "MN, Other GT",
         "opacity": 0.25,
         "scalegroup": "f1",
         "showlegend": true,
         "side": "negative",
         "spanmode": "hard",
         "x0": "Other GT",
         "y": [
          0.9454545454545454,
          0.7692307692307692,
          0.9473684210526316,
          0.955223880597015,
          0.9538461538461539,
          0.983050847457627,
          1.0,
          0.967741935483871,
          0.9642857142857143,
          0.96875,
          0.9310344827586207,
          0.8260869565217391,
          0.9850746268656716,
          0.9655172413793104
         ],
         "type": "violin",
         "xaxis": "x",
         "yaxis": "y"
        },
        {
         "box": {
          "visible": true
         },
         "fillcolor": "#2E91E5",
         "legendgroup": "ivt",
         "line": {
          "color": "black"
         },
         "meanline": {
          "visible": true
         },
         "name": "MN, ivt",
         "opacity": 0.25,
         "scalegroup": "f1",
         "showlegend": true,
         "side": "negative",
         "spanmode": "hard",
         "x0": "ivt",
         "y": [
          0.9,
          0.8333333333333333,
          0.7000000000000001,
          0.7777777777777778,
          0.8857142857142858,
          0.9090909090909091,
          0.9855072463768115,
          0.90625,
          0.8750000000000001,
          0.825,
          0.8529411764705883,
          0.5555555555555556,
          0.9295774647887324,
          0.9285714285714286
         ],
         "type": "violin",
         "xaxis": "x",
         "yaxis": "y"
        },
        {
         "box": {
          "visible": true
         },
         "fillcolor": "#E15F99",
         "legendgroup": "ivvt",
         "line": {
          "color": "black"
         },
         "meanline": {
          "visible": true
         },
         "name": "MN, ivvt",
         "opacity": 0.25,
         "scalegroup": "f1",
         "showlegend": true,
         "side": "negative",
         "spanmode": "hard",
         "x0": "ivvt",
         "y": [
          0.8852459016393442,
          0.7368421052631579,
          0.4461538461538462,
          0.5409836065573771,
          0.7901234567901234,
          0.8450704225352113,
          0.8292682926829268,
          0.898550724637681,
          0.9629629629629629,
          0.711111111111111,
          0.759493670886076,
          0.3418803418803419,
          0.673469387755102,
          0.9666666666666667
         ],
         "type": "violin",
         "xaxis": "x",
         "yaxis": "y"
        },
        {
         "box": {
          "visible": true
         },
         "fillcolor": "#1CA71C",
         "legendgroup": "idt",
         "line": {
          "color": "black"
         },
         "meanline": {
          "visible": true
         },
         "name": "MN, idt",
         "opacity": 0.25,
         "scalegroup": "f1",
         "showlegend": true,
         "side": "negative",
         "spanmode": "hard",
         "x0": "idt",
         "y": [
          0.711111111111111,
          0.4444444444444445,
          0.5652173913043479,
          0.6779661016949152,
          0.5306122448979591,
          0.5416666666666666,
          0.6428571428571428,
          0.6666666666666666,
          0.3636363636363636,
          0.6785714285714286,
          0.42857142857142855,
          0.5555555555555556,
          0.6181818181818182,
          0.6382978723404256
         ],
         "type": "violin",
         "xaxis": "x",
         "yaxis": "y"
        },
        {
         "box": {
          "visible": true
         },
         "fillcolor": "#FB0D0D",
         "legendgroup": "idvt",
         "line": {
          "color": "black"
         },
         "meanline": {
          "visible": true
         },
         "name": "MN, idvt",
         "opacity": 0.25,
         "scalegroup": "f1",
         "showlegend": true,
         "side": "negative",
         "spanmode": "hard",
         "x0": "idvt",
         "y": [
          0.711111111111111,
          0.4444444444444445,
          0.5652173913043479,
          0.6779661016949152,
          0.5306122448979591,
          0.5416666666666666,
          0.6428571428571428,
          0.6666666666666666,
          0.3636363636363636,
          0.7037037037037038,
          0.4444444444444445,
          0.5882352941176471,
          0.6296296296296297,
          0.6666666666666666
         ],
         "type": "violin",
         "xaxis": "x",
         "yaxis": "y"
        },
        {
         "box": {
          "visible": true
         },
         "fillcolor": "#DA16FF",
         "legendgroup": "engbert",
         "line": {
          "color": "black"
         },
         "meanline": {
          "visible": true
         },
         "name": "MN, engbert",
         "opacity": 0.25,
         "scalegroup": "f1",
         "showlegend": true,
         "side": "negative",
         "spanmode": "hard",
         "x0": "engbert",
         "y": [
          0.9,
          0.6086956521739131,
          0.7945205479452055,
          0.6938775510204082,
          0.8493150684931509,
          0.9523809523809523,
          0.8831168831168831,
          0.911764705882353,
          0.9454545454545454,
          0.761904761904762,
          0.8823529411764706,
          0.6666666666666666,
          0.9166666666666666,
          1.0
         ],
         "type": "violin",
         "xaxis": "x",
         "yaxis": "y"
        },
        {
         "box": {
          "visible": true
         },
         "fillcolor": "#222A2A",
         "legendgroup": "nh",
         "line": {
          "color": "black"
         },
         "meanline": {
          "visible": true
         },
         "name": "MN, nh",
         "opacity": 0.25,
         "scalegroup": "f1",
         "showlegend": true,
         "side": "negative",
         "spanmode": "hard",
         "x0": "nh",
         "y": [
          0.5555555555555556,
          0.3529411764705882,
          0.5555555555555556,
          0.22727272727272727,
          0.5846153846153846,
          0.5666666666666667,
          0.5588235294117647,
          0.45161290322580644,
          0.9056603773584906,
          0.5333333333333333,
          0.13636363636363638,
          0.35999999999999993,
          0.1,
          0.8666666666666667
         ],
         "type": "violin",
         "xaxis": "x",
         "yaxis": "y"
        },
        {
         "box": {
          "visible": true
         },
         "fillcolor": "#B68100",
         "legendgroup": "remodnav",
         "line": {
          "color": "black"
         },
         "meanline": {
          "visible": true
         },
         "name": "MN, remodnav",
         "opacity": 0.25,
         "scalegroup": "f1",
         "showlegend": true,
         "side": "negative",
         "spanmode": "hard",
         "x0": "remodnav",
         "y": [
          0.20512820512820512,
          0.28571428571428575,
          0.21739130434782608,
          0.42857142857142855,
          0.25,
          0.15,
          0.31999999999999995,
          0.25,
          0.25000000000000006,
          0.1111111111111111,
          0.30434782608695654,
          0.3
         ],
         "type": "violin",
         "xaxis": "x",
         "yaxis": "y"
        },
        {
         "box": {
          "visible": true
         },
         "fillcolor": "#bab0ac",
         "legendgroup": "Other GT",
         "line": {
          "color": "black"
         },
         "meanline": {
          "visible": true
         },
         "name": "RA, Other GT",
         "opacity": 0.75,
         "scalegroup": "d_prime",
         "showlegend": false,
         "side": "positive",
         "spanmode": "hard",
         "x0": "Other GT",
         "y": [
          4.292082395037818,
          3.5817824584180404,
          5.206089514385839,
          5.202891196821563,
          4.456576357756554,
          5.457533834477091,
          5.697198192494998,
          4.6731780260258,
          3.995047787142853,
          5.310695028299185,
          4.257229661476684,
          3.3673010992312995,
          4.70809810195306,
          4.635091120582167
         ],
         "type": "violin",
         "xaxis": "x2",
         "yaxis": "y2"
        },
        {
         "box": {
          "visible": true
         },
         "fillcolor": "#2E91E5",
         "legendgroup": "ivt",
         "line": {
          "color": "black"
         },
         "meanline": {
          "visible": true
         },
         "name": "RA, ivt",
         "opacity": 0.75,
         "scalegroup": "d_prime",
         "showlegend": false,
         "side": "positive",
         "spanmode": "hard",
         "x0": "ivt",
         "y": [
          3.598462333687599,
          3.8101787185716245,
          5.044256606536676,
          5.046467880803274,
          2.941111234719033,
          3.0125429729519704,
          4.433366900334038,
          4.772047156523903,
          3.744779428486695,
          2.6262570752464813,
          3.66355549212124,
          3.8967967620503354,
          4.48171851696588,
          3.5625779808709295,
          3.1338872029643987,
          4.600572212447136,
          4.798145766061109,
          2.210009148989086,
          5.115768896075884,
          3.2927923443287783
         ],
         "type": "violin",
         "xaxis": "x2",
         "yaxis": "y2"
        },
        {
         "box": {
          "visible": true
         },
         "fillcolor": "#E15F99",
         "legendgroup": "ivvt",
         "line": {
          "color": "black"
         },
         "meanline": {
          "visible": true
         },
         "name": "RA, ivvt",
         "opacity": 0.75,
         "scalegroup": "d_prime",
         "showlegend": false,
         "side": "positive",
         "spanmode": "hard",
         "x0": "ivvt",
         "y": [
          3.9359716317412667,
          5.004494687671157,
          4.878634258227564,
          4.881141236650121,
          3.709570383255679,
          2.7264870785474384,
          2.6361854160352554,
          1.8181158832428599,
          4.072182356836911,
          2.995647763538704,
          4.599370309861141,
          3.690295263600527,
          4.655027498845756,
          4.930129828954507,
          3.742889269536774,
          3.3714436331725497,
          3.431034933183425,
          2.045007376162844,
          3.319990639923943,
          3.8658810131945223
         ],
         "type": "violin",
         "xaxis": "x2",
         "yaxis": "y2"
        },
        {
         "box": {
          "visible": true
         },
         "fillcolor": "#1CA71C",
         "legendgroup": "idt",
         "line": {
          "color": "black"
         },
         "meanline": {
          "visible": true
         },
         "name": "RA, idt",
         "opacity": 0.75,
         "scalegroup": "d_prime",
         "showlegend": false,
         "side": "positive",
         "spanmode": "hard",
         "x0": "idt",
         "y": [
          2.7771030722287975,
          2.419883770174126,
          2.7215858369215677,
          2.7275482515187717,
          2.9461691202748734,
          2.4090484489505277,
          2.664606369484214,
          2.1747182694310174,
          2.1355794693748744,
          2.20102983406775,
          2.848599096247495,
          2.305298054473544,
          2.597516808515491,
          2.330507732225328,
          1.739893339576734,
          2.3133131842874386,
          1.5365283589800232,
          1.4279788280931272,
          2.115047195593971,
          1.8523939866717416
         ],
         "type": "violin",
         "xaxis": "x2",
         "yaxis": "y2"
        },
        {
         "box": {
          "visible": true
         },
         "fillcolor": "#FB0D0D",
         "legendgroup": "idvt",
         "line": {
          "color": "black"
         },
         "meanline": {
          "visible": true
         },
         "name": "RA, idvt",
         "opacity": 0.75,
         "scalegroup": "d_prime",
         "showlegend": false,
         "side": "positive",
         "spanmode": "hard",
         "x0": "idvt",
         "y": [
          2.7771030722287975,
          2.419883770174126,
          2.7215858369215677,
          2.7275482515187717,
          2.9461691202748734,
          2.4090484489505277,
          2.664606369484214,
          2.2286018262706864,
          2.1355794693748744,
          2.20102983406775,
          2.848599096247495,
          2.305298054473544,
          2.597516808515491,
          2.330507732225328,
          1.739893339576734,
          2.4684373970258755,
          1.6006216135205666,
          1.5011892192494596,
          2.185898917748096,
          2.1355794693748744
         ],
         "type": "violin",
         "xaxis": "x2",
         "yaxis": "y2"
        },
        {
         "box": {
          "visible": true
         },
         "fillcolor": "#DA16FF",
         "legendgroup": "engbert",
         "line": {
          "color": "black"
         },
         "meanline": {
          "visible": true
         },
         "name": "RA, engbert",
         "opacity": 0.75,
         "scalegroup": "d_prime",
         "showlegend": false,
         "side": "positive",
         "spanmode": "hard",
         "x0": "engbert",
         "y": [
          5.04880515428356,
          4.8181294575005,
          5.044256606536676,
          4.881141236650121,
          4.1125883937125876,
          4.604536965543675,
          3.2958562347369083,
          4.704143198451235,
          4.408799948834797,
          4.11116478502508,
          3.5163398368851224,
          4.08288085698705,
          4.833858199058817,
          4.984691215062179,
          3.4850577987413622,
          4.50014993881449,
          4.798145766061109,
          2.907451552081244,
          4.078348429735674,
          4.635091120582167
         ],
         "type": "violin",
         "xaxis": "x2",
         "yaxis": "y2"
        },
        {
         "box": {
          "visible": true
         },
         "fillcolor": "#222A2A",
         "legendgroup": "nh",
         "line": {
          "color": "black"
         },
         "meanline": {
          "visible": true
         },
         "name": "RA, nh",
         "opacity": 0.75,
         "scalegroup": "d_prime",
         "showlegend": false,
         "side": "positive",
         "spanmode": "hard",
         "x0": "nh",
         "y": [
          1.872690679923099,
          2.153389319627997,
          1.3002412720694625,
          1.8163502548880792,
          1.434296542194852,
          1.9001189461091592,
          1.11124890253243,
          1.4848577456263052,
          3.0030993347168877,
          3.925826176223258,
          1.7748205399462205,
          1.7348478389138664,
          1.950139350350137,
          1.7354692377567866,
          3.16758221351303,
          1.8644167915986278,
          0.7034945071908316,
          1.9601539608017602,
          0.6949637201945702,
          2.828803066751708
         ],
         "type": "violin",
         "xaxis": "x2",
         "yaxis": "y2"
        },
        {
         "box": {
          "visible": true
         },
         "fillcolor": "#B68100",
         "legendgroup": "remodnav",
         "line": {
          "color": "black"
         },
         "meanline": {
          "visible": true
         },
         "name": "RA, remodnav",
         "opacity": 0.75,
         "scalegroup": "d_prime",
         "showlegend": false,
         "side": "positive",
         "spanmode": "hard",
         "x0": "remodnav",
         "y": [
          1.0115438679670075,
          -0.9840349347112989,
          1.3681316479827053,
          1.8616370006338798,
          1.6552416704919801,
          1.4306335077896288,
          1.1808041342393714,
          0.9802949188871031,
          0.8972946159770097,
          0.6431567083371401,
          1.5014777430301072,
          1.1038351848123282,
          1.0978274588589914,
          1.2931760154966527,
          0.6769409227633206,
          1.1627264136117643,
          0.8840125233008753,
          -0.8082165041488065,
          1.3680463810698633,
          1.1503977300041295
         ],
         "type": "violin",
         "xaxis": "x2",
         "yaxis": "y2"
        },
        {
         "box": {
          "visible": true
         },
         "fillcolor": "#bab0ac",
         "legendgroup": "Other GT",
         "line": {
          "color": "black"
         },
         "meanline": {
          "visible": true
         },
         "name": "MN, Other GT",
         "opacity": 0.25,
         "scalegroup": "d_prime",
         "showlegend": false,
         "side": "negative",
         "spanmode": "hard",
         "x0": "Other GT",
         "y": [
          4.384052534228393,
          3.4081913872337393,
          4.120205573960279,
          4.204765964622515,
          4.372766581702104,
          4.65558077174744,
          5.697198192494998,
          4.6731780260258,
          4.637349918731111,
          4.382497398569187,
          4.1067532825276984,
          3.2702205409246483,
          5.455855961072322,
          4.01133890333611
         ],
         "type": "violin",
         "xaxis": "x2",
         "yaxis": "y2"
        },
        {
         "box": {
          "visible": true
         },
         "fillcolor": "#2E91E5",
         "legendgroup": "ivt",
         "line": {
          "color": "black"
         },
         "meanline": {
          "visible": true
         },
         "name": "MN, ivt",
         "opacity": 0.25,
         "scalegroup": "d_prime",
         "showlegend": false,
         "side": "negative",
         "spanmode": "hard",
         "x0": "ivt",
         "y": [
          4.9879576276319,
          3.4117817377007684,
          3.1272852870273686,
          4.495751226011275,
          3.739481150774764,
          4.985511457908569,
          5.455432653522195,
          3.8646989975896355,
          3.300586102137085,
          4.656201916707713,
          3.862252537459476,
          2.479955967814257,
          5.044897924138058,
          3.6382189552977313
         ],
         "type": "violin",
         "xaxis": "x2",
         "yaxis": "y2"
        },
        {
         "box": {
          "visible": true
         },
         "fillcolor": "#E15F99",
         "legendgroup": "ivvt",
         "line": {
          "color": "black"
         },
         "meanline": {
          "visible": true
         },
         "name": "MN, ivvt",
         "opacity": 0.25,
         "scalegroup": "d_prime",
         "showlegend": false,
         "side": "negative",
         "spanmode": "hard",
         "x0": "ivvt",
         "y": [
          4.933526615950846,
          5.064598297933814,
          2.7973341154539773,
          2.710263715312095,
          3.6500868309118095,
          4.758727318467859,
          4.655027498845756,
          4.930129828954507,
          4.271539536413053,
          3.435794599875253,
          4.524283052923979,
          1.9216537431954492,
          4.2674618970530975,
          4.312099189420545
         ],
         "type": "violin",
         "xaxis": "x2",
         "yaxis": "y2"
        },
        {
         "box": {
          "visible": true
         },
         "fillcolor": "#1CA71C",
         "legendgroup": "idt",
         "line": {
          "color": "black"
         },
         "meanline": {
          "visible": true
         },
         "name": "MN, idt",
         "opacity": 0.25,
         "scalegroup": "d_prime",
         "showlegend": false,
         "side": "negative",
         "spanmode": "hard",
         "x0": "idt",
         "y": [
          2.832116166881936,
          2.2854164547942215,
          2.2850517267108525,
          2.5233161349327586,
          2.1813209722712257,
          2.095437111470407,
          2.4179043449250215,
          2.865022246090037,
          1.7914161677481388,
          2.5361336419702476,
          1.5840506197378494,
          2.131482270103373,
          2.2985924489271214,
          2.22012086483462
         ],
         "type": "violin",
         "xaxis": "x2",
         "yaxis": "y2"
        },
        {
         "box": {
          "visible": true
         },
         "fillcolor": "#FB0D0D",
         "legendgroup": "idvt",
         "line": {
          "color": "black"
         },
         "meanline": {
          "visible": true
         },
         "name": "MN, idvt",
         "opacity": 0.25,
         "scalegroup": "d_prime",
         "showlegend": false,
         "side": "negative",
         "spanmode": "hard",
         "x0": "idvt",
         "y": [
          2.832116166881936,
          2.2854164547942215,
          2.2850517267108525,
          2.5233161349327586,
          2.1813209722712257,
          2.095437111470407,
          2.4179043449250215,
          2.865022246090037,
          1.7914161677481388,
          2.784153959159256,
          1.6522613011727554,
          2.230571934823293,
          2.382989381411484,
          2.5458281913868537
         ],
         "type": "violin",
         "xaxis": "x2",
         "yaxis": "y2"
        },
        {
         "box": {
          "visible": true
         },
         "fillcolor": "#DA16FF",
         "legendgroup": "engbert",
         "line": {
          "color": "black"
         },
         "meanline": {
          "visible": true
         },
         "name": "MN, engbert",
         "opacity": 0.25,
         "scalegroup": "d_prime",
         "showlegend": false,
         "side": "negative",
         "spanmode": "hard",
         "x0": "engbert",
         "y": [
          4.9879576276319,
          4.857649126569571,
          3.671504934048097,
          3.3833344209089278,
          3.5752569627972504,
          5.2040916260010235,
          4.833858199058817,
          4.984691215062179,
          4.014128000366189,
          3.5698664150483514,
          4.881718784250532,
          3.364728352799519,
          4.983043373845592,
          5.091656382773704
         ],
         "type": "violin",
         "xaxis": "x2",
         "yaxis": "y2"
        },
        {
         "box": {
          "visible": true
         },
         "fillcolor": "#222A2A",
         "legendgroup": "nh",
         "line": {
          "color": "black"
         },
         "meanline": {
          "visible": true
         },
         "name": "MN, nh",
         "opacity": 0.25,
         "scalegroup": "d_prime",
         "showlegend": false,
         "side": "negative",
         "spanmode": "hard",
         "x0": "nh",
         "y": [
          2.0485871562448477,
          1.972485339265414,
          2.028516961760932,
          1.2757332412619122,
          2.0585087083693683,
          2.0384997883341103,
          1.950139350350137,
          1.6263086530701119,
          3.448612787952462,
          1.9025605815882747,
          0.6617813660544114,
          1.436881853080141,
          0.7108981969602501,
          3.047152014673917
         ],
         "type": "violin",
         "xaxis": "x2",
         "yaxis": "y2"
        },
        {
         "box": {
          "visible": true
         },
         "fillcolor": "#B68100",
         "legendgroup": "remodnav",
         "line": {
          "color": "black"
         },
         "meanline": {
          "visible": true
         },
         "name": "MN, remodnav",
         "opacity": 0.25,
         "scalegroup": "d_prime",
         "showlegend": false,
         "side": "negative",
         "spanmode": "hard",
         "x0": "remodnav",
         "y": [
          1.035666221545847,
          -0.9849578379344663,
          1.3509492090262274,
          1.1204141171811213,
          1.5917000757748703,
          1.2959095501568116,
          1.0978274588589914,
          1.2931760154966527,
          0.7321988364201927,
          1.1171834278022734,
          0.8464047803706747,
          -0.8099411550362183,
          1.390692487902996,
          1.0947591644642172
         ],
         "type": "violin",
         "xaxis": "x2",
         "yaxis": "y2"
        }
       ],
       "layout": {
        "template": {
         "data": {
          "histogram2dcontour": [
           {
            "type": "histogram2dcontour",
            "colorbar": {
             "outlinewidth": 0,
             "ticks": ""
            },
            "colorscale": [
             [
              0.0,
              "#0d0887"
             ],
             [
              0.1111111111111111,
              "#46039f"
             ],
             [
              0.2222222222222222,
              "#7201a8"
             ],
             [
              0.3333333333333333,
              "#9c179e"
             ],
             [
              0.4444444444444444,
              "#bd3786"
             ],
             [
              0.5555555555555556,
              "#d8576b"
             ],
             [
              0.6666666666666666,
              "#ed7953"
             ],
             [
              0.7777777777777778,
              "#fb9f3a"
             ],
             [
              0.8888888888888888,
              "#fdca26"
             ],
             [
              1.0,
              "#f0f921"
             ]
            ]
           }
          ],
          "choropleth": [
           {
            "type": "choropleth",
            "colorbar": {
             "outlinewidth": 0,
             "ticks": ""
            }
           }
          ],
          "histogram2d": [
           {
            "type": "histogram2d",
            "colorbar": {
             "outlinewidth": 0,
             "ticks": ""
            },
            "colorscale": [
             [
              0.0,
              "#0d0887"
             ],
             [
              0.1111111111111111,
              "#46039f"
             ],
             [
              0.2222222222222222,
              "#7201a8"
             ],
             [
              0.3333333333333333,
              "#9c179e"
             ],
             [
              0.4444444444444444,
              "#bd3786"
             ],
             [
              0.5555555555555556,
              "#d8576b"
             ],
             [
              0.6666666666666666,
              "#ed7953"
             ],
             [
              0.7777777777777778,
              "#fb9f3a"
             ],
             [
              0.8888888888888888,
              "#fdca26"
             ],
             [
              1.0,
              "#f0f921"
             ]
            ]
           }
          ],
          "heatmap": [
           {
            "type": "heatmap",
            "colorbar": {
             "outlinewidth": 0,
             "ticks": ""
            },
            "colorscale": [
             [
              0.0,
              "#0d0887"
             ],
             [
              0.1111111111111111,
              "#46039f"
             ],
             [
              0.2222222222222222,
              "#7201a8"
             ],
             [
              0.3333333333333333,
              "#9c179e"
             ],
             [
              0.4444444444444444,
              "#bd3786"
             ],
             [
              0.5555555555555556,
              "#d8576b"
             ],
             [
              0.6666666666666666,
              "#ed7953"
             ],
             [
              0.7777777777777778,
              "#fb9f3a"
             ],
             [
              0.8888888888888888,
              "#fdca26"
             ],
             [
              1.0,
              "#f0f921"
             ]
            ]
           }
          ],
          "heatmapgl": [
           {
            "type": "heatmapgl",
            "colorbar": {
             "outlinewidth": 0,
             "ticks": ""
            },
            "colorscale": [
             [
              0.0,
              "#0d0887"
             ],
             [
              0.1111111111111111,
              "#46039f"
             ],
             [
              0.2222222222222222,
              "#7201a8"
             ],
             [
              0.3333333333333333,
              "#9c179e"
             ],
             [
              0.4444444444444444,
              "#bd3786"
             ],
             [
              0.5555555555555556,
              "#d8576b"
             ],
             [
              0.6666666666666666,
              "#ed7953"
             ],
             [
              0.7777777777777778,
              "#fb9f3a"
             ],
             [
              0.8888888888888888,
              "#fdca26"
             ],
             [
              1.0,
              "#f0f921"
             ]
            ]
           }
          ],
          "contourcarpet": [
           {
            "type": "contourcarpet",
            "colorbar": {
             "outlinewidth": 0,
             "ticks": ""
            }
           }
          ],
          "contour": [
           {
            "type": "contour",
            "colorbar": {
             "outlinewidth": 0,
             "ticks": ""
            },
            "colorscale": [
             [
              0.0,
              "#0d0887"
             ],
             [
              0.1111111111111111,
              "#46039f"
             ],
             [
              0.2222222222222222,
              "#7201a8"
             ],
             [
              0.3333333333333333,
              "#9c179e"
             ],
             [
              0.4444444444444444,
              "#bd3786"
             ],
             [
              0.5555555555555556,
              "#d8576b"
             ],
             [
              0.6666666666666666,
              "#ed7953"
             ],
             [
              0.7777777777777778,
              "#fb9f3a"
             ],
             [
              0.8888888888888888,
              "#fdca26"
             ],
             [
              1.0,
              "#f0f921"
             ]
            ]
           }
          ],
          "surface": [
           {
            "type": "surface",
            "colorbar": {
             "outlinewidth": 0,
             "ticks": ""
            },
            "colorscale": [
             [
              0.0,
              "#0d0887"
             ],
             [
              0.1111111111111111,
              "#46039f"
             ],
             [
              0.2222222222222222,
              "#7201a8"
             ],
             [
              0.3333333333333333,
              "#9c179e"
             ],
             [
              0.4444444444444444,
              "#bd3786"
             ],
             [
              0.5555555555555556,
              "#d8576b"
             ],
             [
              0.6666666666666666,
              "#ed7953"
             ],
             [
              0.7777777777777778,
              "#fb9f3a"
             ],
             [
              0.8888888888888888,
              "#fdca26"
             ],
             [
              1.0,
              "#f0f921"
             ]
            ]
           }
          ],
          "mesh3d": [
           {
            "type": "mesh3d",
            "colorbar": {
             "outlinewidth": 0,
             "ticks": ""
            }
           }
          ],
          "scatter": [
           {
            "fillpattern": {
             "fillmode": "overlay",
             "size": 10,
             "solidity": 0.2
            },
            "type": "scatter"
           }
          ],
          "parcoords": [
           {
            "type": "parcoords",
            "line": {
             "colorbar": {
              "outlinewidth": 0,
              "ticks": ""
             }
            }
           }
          ],
          "scatterpolargl": [
           {
            "type": "scatterpolargl",
            "marker": {
             "colorbar": {
              "outlinewidth": 0,
              "ticks": ""
             }
            }
           }
          ],
          "bar": [
           {
            "error_x": {
             "color": "#2a3f5f"
            },
            "error_y": {
             "color": "#2a3f5f"
            },
            "marker": {
             "line": {
              "color": "#E5ECF6",
              "width": 0.5
             },
             "pattern": {
              "fillmode": "overlay",
              "size": 10,
              "solidity": 0.2
             }
            },
            "type": "bar"
           }
          ],
          "scattergeo": [
           {
            "type": "scattergeo",
            "marker": {
             "colorbar": {
              "outlinewidth": 0,
              "ticks": ""
             }
            }
           }
          ],
          "scatterpolar": [
           {
            "type": "scatterpolar",
            "marker": {
             "colorbar": {
              "outlinewidth": 0,
              "ticks": ""
             }
            }
           }
          ],
          "histogram": [
           {
            "marker": {
             "pattern": {
              "fillmode": "overlay",
              "size": 10,
              "solidity": 0.2
             }
            },
            "type": "histogram"
           }
          ],
          "scattergl": [
           {
            "type": "scattergl",
            "marker": {
             "colorbar": {
              "outlinewidth": 0,
              "ticks": ""
             }
            }
           }
          ],
          "scatter3d": [
           {
            "type": "scatter3d",
            "line": {
             "colorbar": {
              "outlinewidth": 0,
              "ticks": ""
             }
            },
            "marker": {
             "colorbar": {
              "outlinewidth": 0,
              "ticks": ""
             }
            }
           }
          ],
          "scattermapbox": [
           {
            "type": "scattermapbox",
            "marker": {
             "colorbar": {
              "outlinewidth": 0,
              "ticks": ""
             }
            }
           }
          ],
          "scatterternary": [
           {
            "type": "scatterternary",
            "marker": {
             "colorbar": {
              "outlinewidth": 0,
              "ticks": ""
             }
            }
           }
          ],
          "scattercarpet": [
           {
            "type": "scattercarpet",
            "marker": {
             "colorbar": {
              "outlinewidth": 0,
              "ticks": ""
             }
            }
           }
          ],
          "carpet": [
           {
            "aaxis": {
             "endlinecolor": "#2a3f5f",
             "gridcolor": "white",
             "linecolor": "white",
             "minorgridcolor": "white",
             "startlinecolor": "#2a3f5f"
            },
            "baxis": {
             "endlinecolor": "#2a3f5f",
             "gridcolor": "white",
             "linecolor": "white",
             "minorgridcolor": "white",
             "startlinecolor": "#2a3f5f"
            },
            "type": "carpet"
           }
          ],
          "table": [
           {
            "cells": {
             "fill": {
              "color": "#EBF0F8"
             },
             "line": {
              "color": "white"
             }
            },
            "header": {
             "fill": {
              "color": "#C8D4E3"
             },
             "line": {
              "color": "white"
             }
            },
            "type": "table"
           }
          ],
          "barpolar": [
           {
            "marker": {
             "line": {
              "color": "#E5ECF6",
              "width": 0.5
             },
             "pattern": {
              "fillmode": "overlay",
              "size": 10,
              "solidity": 0.2
             }
            },
            "type": "barpolar"
           }
          ],
          "pie": [
           {
            "automargin": true,
            "type": "pie"
           }
          ]
         },
         "layout": {
          "autotypenumbers": "strict",
          "colorway": [
           "#636efa",
           "#EF553B",
           "#00cc96",
           "#ab63fa",
           "#FFA15A",
           "#19d3f3",
           "#FF6692",
           "#B6E880",
           "#FF97FF",
           "#FECB52"
          ],
          "font": {
           "color": "#2a3f5f"
          },
          "hovermode": "closest",
          "hoverlabel": {
           "align": "left"
          },
          "paper_bgcolor": "white",
          "plot_bgcolor": "#E5ECF6",
          "polar": {
           "bgcolor": "#E5ECF6",
           "angularaxis": {
            "gridcolor": "white",
            "linecolor": "white",
            "ticks": ""
           },
           "radialaxis": {
            "gridcolor": "white",
            "linecolor": "white",
            "ticks": ""
           }
          },
          "ternary": {
           "bgcolor": "#E5ECF6",
           "aaxis": {
            "gridcolor": "white",
            "linecolor": "white",
            "ticks": ""
           },
           "baxis": {
            "gridcolor": "white",
            "linecolor": "white",
            "ticks": ""
           },
           "caxis": {
            "gridcolor": "white",
            "linecolor": "white",
            "ticks": ""
           }
          },
          "coloraxis": {
           "colorbar": {
            "outlinewidth": 0,
            "ticks": ""
           }
          },
          "colorscale": {
           "sequential": [
            [
             0.0,
             "#0d0887"
            ],
            [
             0.1111111111111111,
             "#46039f"
            ],
            [
             0.2222222222222222,
             "#7201a8"
            ],
            [
             0.3333333333333333,
             "#9c179e"
            ],
            [
             0.4444444444444444,
             "#bd3786"
            ],
            [
             0.5555555555555556,
             "#d8576b"
            ],
            [
             0.6666666666666666,
             "#ed7953"
            ],
            [
             0.7777777777777778,
             "#fb9f3a"
            ],
            [
             0.8888888888888888,
             "#fdca26"
            ],
            [
             1.0,
             "#f0f921"
            ]
           ],
           "sequentialminus": [
            [
             0.0,
             "#0d0887"
            ],
            [
             0.1111111111111111,
             "#46039f"
            ],
            [
             0.2222222222222222,
             "#7201a8"
            ],
            [
             0.3333333333333333,
             "#9c179e"
            ],
            [
             0.4444444444444444,
             "#bd3786"
            ],
            [
             0.5555555555555556,
             "#d8576b"
            ],
            [
             0.6666666666666666,
             "#ed7953"
            ],
            [
             0.7777777777777778,
             "#fb9f3a"
            ],
            [
             0.8888888888888888,
             "#fdca26"
            ],
            [
             1.0,
             "#f0f921"
            ]
           ],
           "diverging": [
            [
             0,
             "#8e0152"
            ],
            [
             0.1,
             "#c51b7d"
            ],
            [
             0.2,
             "#de77ae"
            ],
            [
             0.3,
             "#f1b6da"
            ],
            [
             0.4,
             "#fde0ef"
            ],
            [
             0.5,
             "#f7f7f7"
            ],
            [
             0.6,
             "#e6f5d0"
            ],
            [
             0.7,
             "#b8e186"
            ],
            [
             0.8,
             "#7fbc41"
            ],
            [
             0.9,
             "#4d9221"
            ],
            [
             1,
             "#276419"
            ]
           ]
          },
          "xaxis": {
           "gridcolor": "white",
           "linecolor": "white",
           "ticks": "",
           "title": {
            "standoff": 15
           },
           "zerolinecolor": "white",
           "automargin": true,
           "zerolinewidth": 2
          },
          "yaxis": {
           "gridcolor": "white",
           "linecolor": "white",
           "ticks": "",
           "title": {
            "standoff": 15
           },
           "zerolinecolor": "white",
           "automargin": true,
           "zerolinewidth": 2
          },
          "scene": {
           "xaxis": {
            "backgroundcolor": "#E5ECF6",
            "gridcolor": "white",
            "linecolor": "white",
            "showbackground": true,
            "ticks": "",
            "zerolinecolor": "white",
            "gridwidth": 2
           },
           "yaxis": {
            "backgroundcolor": "#E5ECF6",
            "gridcolor": "white",
            "linecolor": "white",
            "showbackground": true,
            "ticks": "",
            "zerolinecolor": "white",
            "gridwidth": 2
           },
           "zaxis": {
            "backgroundcolor": "#E5ECF6",
            "gridcolor": "white",
            "linecolor": "white",
            "showbackground": true,
            "ticks": "",
            "zerolinecolor": "white",
            "gridwidth": 2
           }
          },
          "shapedefaults": {
           "line": {
            "color": "#2a3f5f"
           }
          },
          "annotationdefaults": {
           "arrowcolor": "#2a3f5f",
           "arrowhead": 0,
           "arrowwidth": 1
          },
          "geo": {
           "bgcolor": "white",
           "landcolor": "#E5ECF6",
           "subunitcolor": "white",
           "showland": true,
           "showlakes": true,
           "lakecolor": "white"
          },
          "title": {
           "x": 0.05
          },
          "mapbox": {
           "style": "light"
          }
         }
        },
        "xaxis": {
         "anchor": "y",
         "domain": [
          0.0,
          1.0
         ],
         "matches": "x2",
         "showticklabels": false
        },
        "yaxis": {
         "anchor": "x",
         "domain": [
          0.55,
          1.0
         ],
         "range": [
          0,
          1
         ]
        },
        "xaxis2": {
         "anchor": "y2",
         "domain": [
          0.0,
          1.0
         ]
        },
        "yaxis2": {
         "anchor": "x2",
         "domain": [
          0.0,
          0.45
         ]
        },
        "annotations": [
         {
          "font": {
           "size": 16
          },
          "showarrow": false,
          "text": "f1",
          "x": 0.5,
          "xanchor": "center",
          "xref": "paper",
          "y": 1.0,
          "yanchor": "bottom",
          "yref": "paper"
         },
         {
          "font": {
           "size": 16
          },
          "showarrow": false,
          "text": "d'",
          "x": 0.5,
          "xanchor": "center",
          "xref": "paper",
          "y": 0.45,
          "yanchor": "bottom",
          "yref": "paper"
         }
        ],
        "title": {
         "text": "fixation offsets"
        },
        "violinmode": "overlay",
        "boxmode": "group",
        "boxgroupgap": 0,
        "boxgap": 0,
        "margin": {
         "l": 10,
         "r": 10,
         "b": 10,
         "t": 10,
         "pad": 0
        },
        "width": 1000,
        "height": 500,
        "paper_bgcolor": "rgba(0, 0, 0, 0)",
        "plot_bgcolor": "rgba(0, 0, 0, 0)"
       },
       "config": {
        "plotlyServerURL": "https://plot.ly"
       }
      },
      "text/html": [
       "<div>                            <div id=\"ccb886aa-57be-4dcd-8e0c-f2756d1476ff\" class=\"plotly-graph-div\" style=\"height:500px; width:1000px;\"></div>            <script type=\"text/javascript\">                require([\"plotly\"], function(Plotly) {                    window.PLOTLYENV=window.PLOTLYENV || {};                                    if (document.getElementById(\"ccb886aa-57be-4dcd-8e0c-f2756d1476ff\")) {                    Plotly.newPlot(                        \"ccb886aa-57be-4dcd-8e0c-f2756d1476ff\",                        [{\"box\":{\"visible\":true},\"fillcolor\":\"#bab0ac\",\"legendgroup\":\"Other GT\",\"line\":{\"color\":\"black\"},\"meanline\":{\"visible\":true},\"name\":\"RA, Other GT\",\"opacity\":0.75,\"scalegroup\":\"f1\",\"showlegend\":true,\"side\":\"positive\",\"spanmode\":\"hard\",\"x0\":\"Other GT\",\"y\":[0.9454545454545454,0.7692307692307692,0.9473684210526316,0.955223880597015,0.9538461538461539,0.983050847457627,1.0,0.967741935483871,0.9642857142857143,0.96875,0.9310344827586207,0.8260869565217391,0.9850746268656716,0.9655172413793104],\"type\":\"violin\",\"xaxis\":\"x\",\"yaxis\":\"y\"},{\"box\":{\"visible\":true},\"fillcolor\":\"#2E91E5\",\"legendgroup\":\"ivt\",\"line\":{\"color\":\"black\"},\"meanline\":{\"visible\":true},\"name\":\"RA, ivt\",\"opacity\":0.75,\"scalegroup\":\"f1\",\"showlegend\":true,\"side\":\"positive\",\"spanmode\":\"hard\",\"x0\":\"ivt\",\"y\":[0.8524590163934426,0.9090909090909091,0.9315068493150686,0.9253731343283582,0.7812499999999999,0.6493506493506493,0.735632183908046,0.7317073170731707,0.9152542372881356,0.8064516129032258,0.8695652173913043,0.8615384615384615,0.9565217391304348,0.875,0.8400000000000001,0.7948717948717948,0.8484848484848484,0.4857142857142857,0.9444444444444444,0.888888888888889],\"type\":\"violin\",\"xaxis\":\"x\",\"yaxis\":\"y\"},{\"box\":{\"visible\":true},\"fillcolor\":\"#E15F99\",\"legendgroup\":\"ivvt\",\"line\":{\"color\":\"black\"},\"meanline\":{\"visible\":true},\"name\":\"RA, ivvt\",\"opacity\":0.75,\"scalegroup\":\"f1\",\"showlegend\":true,\"side\":\"positive\",\"spanmode\":\"hard\",\"x0\":\"ivvt\",\"y\":[0.8709677419354839,0.6666666666666666,0.8947368421052632,0.8857142857142858,0.8787878787878788,0.40944881889763773,0.5042016806722689,0.19548872180451127,0.8615384615384616,0.8266666666666667,0.8,0.8000000000000002,0.8292682926829268,0.898550724637681,0.9285714285714286,0.6818181818181819,0.7012987012987012,0.3304347826086957,0.6666666666666666,0.9310344827586207],\"type\":\"violin\",\"xaxis\":\"x\",\"yaxis\":\"y\"},{\"box\":{\"visible\":true},\"fillcolor\":\"#1CA71C\",\"legendgroup\":\"idt\",\"line\":{\"color\":\"black\"},\"meanline\":{\"visible\":true},\"name\":\"RA, idt\",\"opacity\":0.75,\"scalegroup\":\"f1\",\"showlegend\":true,\"side\":\"positive\",\"spanmode\":\"hard\",\"x0\":\"idt\",\"y\":[0.6956521739130435,0.5,0.7333333333333334,0.6222222222222222,0.6938775510204082,0.6046511627906976,0.7142857142857143,0.5161290322580646,0.6046511627906976,0.5333333333333333,0.6666666666666666,0.5957446808510638,0.6785714285714287,0.5833333333333333,0.34285714285714286,0.6296296296296297,0.4074074074074074,0.34615384615384615,0.5714285714285714,0.5777777777777777],\"type\":\"violin\",\"xaxis\":\"x\",\"yaxis\":\"y\"},{\"box\":{\"visible\":true},\"fillcolor\":\"#FB0D0D\",\"legendgroup\":\"idvt\",\"line\":{\"color\":\"black\"},\"meanline\":{\"visible\":true},\"name\":\"RA, idvt\",\"opacity\":0.75,\"scalegroup\":\"f1\",\"showlegend\":true,\"side\":\"positive\",\"spanmode\":\"hard\",\"x0\":\"idvt\",\"y\":[0.6956521739130435,0.5,0.7333333333333334,0.6222222222222222,0.6938775510204082,0.6046511627906976,0.7142857142857143,0.5333333333333333,0.6046511627906976,0.5333333333333333,0.6666666666666666,0.5957446808510638,0.6785714285714287,0.5833333333333333,0.34285714285714286,0.6538461538461537,0.4230769230769231,0.36734693877551017,0.5818181818181817,0.6046511627906976],\"type\":\"violin\",\"xaxis\":\"x\",\"yaxis\":\"y\"},{\"box\":{\"visible\":true},\"fillcolor\":\"#DA16FF\",\"legendgroup\":\"engbert\",\"line\":{\"color\":\"black\"},\"meanline\":{\"visible\":true},\"name\":\"RA, engbert\",\"opacity\":0.75,\"scalegroup\":\"f1\",\"showlegend\":true,\"side\":\"positive\",\"spanmode\":\"hard\",\"x0\":\"engbert\",\"y\":[0.9180327868852458,0.5454545454545454,0.9315068493150686,0.8857142857142858,0.9354838709677419,0.7714285714285715,0.6526315789473683,0.6976744186046512,0.9333333333333333,0.8918918918918919,0.8333333333333334,0.9032258064516129,0.8831168831168831,0.911764705882353,0.912280701754386,0.7560975609756097,0.8484848484848484,0.5970149253731343,0.9041095890410958,0.9655172413793104],\"type\":\"violin\",\"xaxis\":\"x\",\"yaxis\":\"y\"},{\"box\":{\"visible\":true},\"fillcolor\":\"#222A2A\",\"legendgroup\":\"nh\",\"line\":{\"color\":\"black\"},\"meanline\":{\"visible\":true},\"name\":\"RA, nh\",\"opacity\":0.75,\"scalegroup\":\"f1\",\"showlegend\":true,\"side\":\"positive\",\"spanmode\":\"hard\",\"x0\":\"nh\",\"y\":[0.509090909090909,0.37499999999999994,0.1111111111111111,0.5079365079365079,0.39344262295081966,0.5098039215686274,0.1951219512195122,0.3076923076923077,0.8474576271186439,0.9411764705882354,0.5,0.47457627118644075,0.5588235294117647,0.4838709677419355,0.8727272727272727,0.5172413793103449,0.14285714285714285,0.4999999999999999,0.0975609756097561,0.8275862068965518],\"type\":\"violin\",\"xaxis\":\"x\",\"yaxis\":\"y\"},{\"box\":{\"visible\":true},\"fillcolor\":\"#B68100\",\"legendgroup\":\"remodnav\",\"line\":{\"color\":\"black\"},\"meanline\":{\"visible\":true},\"name\":\"RA, remodnav\",\"opacity\":0.75,\"scalegroup\":\"f1\",\"showlegend\":true,\"side\":\"positive\",\"spanmode\":\"hard\",\"x0\":\"remodnav\",\"y\":[0.2,0.2978723404255319,0.509090909090909,0.43137254901960786,0.30769230769230765,0.2325581395348837,0.16,0.2926829268292683,0.2222222222222222,0.4,0.20512820512820515,0.15,0.31999999999999995,0.23809523809523808,0.26086956521739135,0.11764705882352941,0.2978723404255319,0.3157894736842105],\"type\":\"violin\",\"xaxis\":\"x\",\"yaxis\":\"y\"},{\"box\":{\"visible\":true},\"fillcolor\":\"#bab0ac\",\"legendgroup\":\"Other GT\",\"line\":{\"color\":\"black\"},\"meanline\":{\"visible\":true},\"name\":\"MN, Other GT\",\"opacity\":0.25,\"scalegroup\":\"f1\",\"showlegend\":true,\"side\":\"negative\",\"spanmode\":\"hard\",\"x0\":\"Other GT\",\"y\":[0.9454545454545454,0.7692307692307692,0.9473684210526316,0.955223880597015,0.9538461538461539,0.983050847457627,1.0,0.967741935483871,0.9642857142857143,0.96875,0.9310344827586207,0.8260869565217391,0.9850746268656716,0.9655172413793104],\"type\":\"violin\",\"xaxis\":\"x\",\"yaxis\":\"y\"},{\"box\":{\"visible\":true},\"fillcolor\":\"#2E91E5\",\"legendgroup\":\"ivt\",\"line\":{\"color\":\"black\"},\"meanline\":{\"visible\":true},\"name\":\"MN, ivt\",\"opacity\":0.25,\"scalegroup\":\"f1\",\"showlegend\":true,\"side\":\"negative\",\"spanmode\":\"hard\",\"x0\":\"ivt\",\"y\":[0.9,0.8333333333333333,0.7000000000000001,0.7777777777777778,0.8857142857142858,0.9090909090909091,0.9855072463768115,0.90625,0.8750000000000001,0.825,0.8529411764705883,0.5555555555555556,0.9295774647887324,0.9285714285714286],\"type\":\"violin\",\"xaxis\":\"x\",\"yaxis\":\"y\"},{\"box\":{\"visible\":true},\"fillcolor\":\"#E15F99\",\"legendgroup\":\"ivvt\",\"line\":{\"color\":\"black\"},\"meanline\":{\"visible\":true},\"name\":\"MN, ivvt\",\"opacity\":0.25,\"scalegroup\":\"f1\",\"showlegend\":true,\"side\":\"negative\",\"spanmode\":\"hard\",\"x0\":\"ivvt\",\"y\":[0.8852459016393442,0.7368421052631579,0.4461538461538462,0.5409836065573771,0.7901234567901234,0.8450704225352113,0.8292682926829268,0.898550724637681,0.9629629629629629,0.711111111111111,0.759493670886076,0.3418803418803419,0.673469387755102,0.9666666666666667],\"type\":\"violin\",\"xaxis\":\"x\",\"yaxis\":\"y\"},{\"box\":{\"visible\":true},\"fillcolor\":\"#1CA71C\",\"legendgroup\":\"idt\",\"line\":{\"color\":\"black\"},\"meanline\":{\"visible\":true},\"name\":\"MN, idt\",\"opacity\":0.25,\"scalegroup\":\"f1\",\"showlegend\":true,\"side\":\"negative\",\"spanmode\":\"hard\",\"x0\":\"idt\",\"y\":[0.711111111111111,0.4444444444444445,0.5652173913043479,0.6779661016949152,0.5306122448979591,0.5416666666666666,0.6428571428571428,0.6666666666666666,0.3636363636363636,0.6785714285714286,0.42857142857142855,0.5555555555555556,0.6181818181818182,0.6382978723404256],\"type\":\"violin\",\"xaxis\":\"x\",\"yaxis\":\"y\"},{\"box\":{\"visible\":true},\"fillcolor\":\"#FB0D0D\",\"legendgroup\":\"idvt\",\"line\":{\"color\":\"black\"},\"meanline\":{\"visible\":true},\"name\":\"MN, idvt\",\"opacity\":0.25,\"scalegroup\":\"f1\",\"showlegend\":true,\"side\":\"negative\",\"spanmode\":\"hard\",\"x0\":\"idvt\",\"y\":[0.711111111111111,0.4444444444444445,0.5652173913043479,0.6779661016949152,0.5306122448979591,0.5416666666666666,0.6428571428571428,0.6666666666666666,0.3636363636363636,0.7037037037037038,0.4444444444444445,0.5882352941176471,0.6296296296296297,0.6666666666666666],\"type\":\"violin\",\"xaxis\":\"x\",\"yaxis\":\"y\"},{\"box\":{\"visible\":true},\"fillcolor\":\"#DA16FF\",\"legendgroup\":\"engbert\",\"line\":{\"color\":\"black\"},\"meanline\":{\"visible\":true},\"name\":\"MN, engbert\",\"opacity\":0.25,\"scalegroup\":\"f1\",\"showlegend\":true,\"side\":\"negative\",\"spanmode\":\"hard\",\"x0\":\"engbert\",\"y\":[0.9,0.6086956521739131,0.7945205479452055,0.6938775510204082,0.8493150684931509,0.9523809523809523,0.8831168831168831,0.911764705882353,0.9454545454545454,0.761904761904762,0.8823529411764706,0.6666666666666666,0.9166666666666666,1.0],\"type\":\"violin\",\"xaxis\":\"x\",\"yaxis\":\"y\"},{\"box\":{\"visible\":true},\"fillcolor\":\"#222A2A\",\"legendgroup\":\"nh\",\"line\":{\"color\":\"black\"},\"meanline\":{\"visible\":true},\"name\":\"MN, nh\",\"opacity\":0.25,\"scalegroup\":\"f1\",\"showlegend\":true,\"side\":\"negative\",\"spanmode\":\"hard\",\"x0\":\"nh\",\"y\":[0.5555555555555556,0.3529411764705882,0.5555555555555556,0.22727272727272727,0.5846153846153846,0.5666666666666667,0.5588235294117647,0.45161290322580644,0.9056603773584906,0.5333333333333333,0.13636363636363638,0.35999999999999993,0.1,0.8666666666666667],\"type\":\"violin\",\"xaxis\":\"x\",\"yaxis\":\"y\"},{\"box\":{\"visible\":true},\"fillcolor\":\"#B68100\",\"legendgroup\":\"remodnav\",\"line\":{\"color\":\"black\"},\"meanline\":{\"visible\":true},\"name\":\"MN, remodnav\",\"opacity\":0.25,\"scalegroup\":\"f1\",\"showlegend\":true,\"side\":\"negative\",\"spanmode\":\"hard\",\"x0\":\"remodnav\",\"y\":[0.20512820512820512,0.28571428571428575,0.21739130434782608,0.42857142857142855,0.25,0.15,0.31999999999999995,0.25,0.25000000000000006,0.1111111111111111,0.30434782608695654,0.3],\"type\":\"violin\",\"xaxis\":\"x\",\"yaxis\":\"y\"},{\"box\":{\"visible\":true},\"fillcolor\":\"#bab0ac\",\"legendgroup\":\"Other GT\",\"line\":{\"color\":\"black\"},\"meanline\":{\"visible\":true},\"name\":\"RA, Other GT\",\"opacity\":0.75,\"scalegroup\":\"d_prime\",\"showlegend\":false,\"side\":\"positive\",\"spanmode\":\"hard\",\"x0\":\"Other GT\",\"y\":[4.292082395037818,3.5817824584180404,5.206089514385839,5.202891196821563,4.456576357756554,5.457533834477091,5.697198192494998,4.6731780260258,3.995047787142853,5.310695028299185,4.257229661476684,3.3673010992312995,4.70809810195306,4.635091120582167],\"type\":\"violin\",\"xaxis\":\"x2\",\"yaxis\":\"y2\"},{\"box\":{\"visible\":true},\"fillcolor\":\"#2E91E5\",\"legendgroup\":\"ivt\",\"line\":{\"color\":\"black\"},\"meanline\":{\"visible\":true},\"name\":\"RA, ivt\",\"opacity\":0.75,\"scalegroup\":\"d_prime\",\"showlegend\":false,\"side\":\"positive\",\"spanmode\":\"hard\",\"x0\":\"ivt\",\"y\":[3.598462333687599,3.8101787185716245,5.044256606536676,5.046467880803274,2.941111234719033,3.0125429729519704,4.433366900334038,4.772047156523903,3.744779428486695,2.6262570752464813,3.66355549212124,3.8967967620503354,4.48171851696588,3.5625779808709295,3.1338872029643987,4.600572212447136,4.798145766061109,2.210009148989086,5.115768896075884,3.2927923443287783],\"type\":\"violin\",\"xaxis\":\"x2\",\"yaxis\":\"y2\"},{\"box\":{\"visible\":true},\"fillcolor\":\"#E15F99\",\"legendgroup\":\"ivvt\",\"line\":{\"color\":\"black\"},\"meanline\":{\"visible\":true},\"name\":\"RA, ivvt\",\"opacity\":0.75,\"scalegroup\":\"d_prime\",\"showlegend\":false,\"side\":\"positive\",\"spanmode\":\"hard\",\"x0\":\"ivvt\",\"y\":[3.9359716317412667,5.004494687671157,4.878634258227564,4.881141236650121,3.709570383255679,2.7264870785474384,2.6361854160352554,1.8181158832428599,4.072182356836911,2.995647763538704,4.599370309861141,3.690295263600527,4.655027498845756,4.930129828954507,3.742889269536774,3.3714436331725497,3.431034933183425,2.045007376162844,3.319990639923943,3.8658810131945223],\"type\":\"violin\",\"xaxis\":\"x2\",\"yaxis\":\"y2\"},{\"box\":{\"visible\":true},\"fillcolor\":\"#1CA71C\",\"legendgroup\":\"idt\",\"line\":{\"color\":\"black\"},\"meanline\":{\"visible\":true},\"name\":\"RA, idt\",\"opacity\":0.75,\"scalegroup\":\"d_prime\",\"showlegend\":false,\"side\":\"positive\",\"spanmode\":\"hard\",\"x0\":\"idt\",\"y\":[2.7771030722287975,2.419883770174126,2.7215858369215677,2.7275482515187717,2.9461691202748734,2.4090484489505277,2.664606369484214,2.1747182694310174,2.1355794693748744,2.20102983406775,2.848599096247495,2.305298054473544,2.597516808515491,2.330507732225328,1.739893339576734,2.3133131842874386,1.5365283589800232,1.4279788280931272,2.115047195593971,1.8523939866717416],\"type\":\"violin\",\"xaxis\":\"x2\",\"yaxis\":\"y2\"},{\"box\":{\"visible\":true},\"fillcolor\":\"#FB0D0D\",\"legendgroup\":\"idvt\",\"line\":{\"color\":\"black\"},\"meanline\":{\"visible\":true},\"name\":\"RA, idvt\",\"opacity\":0.75,\"scalegroup\":\"d_prime\",\"showlegend\":false,\"side\":\"positive\",\"spanmode\":\"hard\",\"x0\":\"idvt\",\"y\":[2.7771030722287975,2.419883770174126,2.7215858369215677,2.7275482515187717,2.9461691202748734,2.4090484489505277,2.664606369484214,2.2286018262706864,2.1355794693748744,2.20102983406775,2.848599096247495,2.305298054473544,2.597516808515491,2.330507732225328,1.739893339576734,2.4684373970258755,1.6006216135205666,1.5011892192494596,2.185898917748096,2.1355794693748744],\"type\":\"violin\",\"xaxis\":\"x2\",\"yaxis\":\"y2\"},{\"box\":{\"visible\":true},\"fillcolor\":\"#DA16FF\",\"legendgroup\":\"engbert\",\"line\":{\"color\":\"black\"},\"meanline\":{\"visible\":true},\"name\":\"RA, engbert\",\"opacity\":0.75,\"scalegroup\":\"d_prime\",\"showlegend\":false,\"side\":\"positive\",\"spanmode\":\"hard\",\"x0\":\"engbert\",\"y\":[5.04880515428356,4.8181294575005,5.044256606536676,4.881141236650121,4.1125883937125876,4.604536965543675,3.2958562347369083,4.704143198451235,4.408799948834797,4.11116478502508,3.5163398368851224,4.08288085698705,4.833858199058817,4.984691215062179,3.4850577987413622,4.50014993881449,4.798145766061109,2.907451552081244,4.078348429735674,4.635091120582167],\"type\":\"violin\",\"xaxis\":\"x2\",\"yaxis\":\"y2\"},{\"box\":{\"visible\":true},\"fillcolor\":\"#222A2A\",\"legendgroup\":\"nh\",\"line\":{\"color\":\"black\"},\"meanline\":{\"visible\":true},\"name\":\"RA, nh\",\"opacity\":0.75,\"scalegroup\":\"d_prime\",\"showlegend\":false,\"side\":\"positive\",\"spanmode\":\"hard\",\"x0\":\"nh\",\"y\":[1.872690679923099,2.153389319627997,1.3002412720694625,1.8163502548880792,1.434296542194852,1.9001189461091592,1.11124890253243,1.4848577456263052,3.0030993347168877,3.925826176223258,1.7748205399462205,1.7348478389138664,1.950139350350137,1.7354692377567866,3.16758221351303,1.8644167915986278,0.7034945071908316,1.9601539608017602,0.6949637201945702,2.828803066751708],\"type\":\"violin\",\"xaxis\":\"x2\",\"yaxis\":\"y2\"},{\"box\":{\"visible\":true},\"fillcolor\":\"#B68100\",\"legendgroup\":\"remodnav\",\"line\":{\"color\":\"black\"},\"meanline\":{\"visible\":true},\"name\":\"RA, remodnav\",\"opacity\":0.75,\"scalegroup\":\"d_prime\",\"showlegend\":false,\"side\":\"positive\",\"spanmode\":\"hard\",\"x0\":\"remodnav\",\"y\":[1.0115438679670075,-0.9840349347112989,1.3681316479827053,1.8616370006338798,1.6552416704919801,1.4306335077896288,1.1808041342393714,0.9802949188871031,0.8972946159770097,0.6431567083371401,1.5014777430301072,1.1038351848123282,1.0978274588589914,1.2931760154966527,0.6769409227633206,1.1627264136117643,0.8840125233008753,-0.8082165041488065,1.3680463810698633,1.1503977300041295],\"type\":\"violin\",\"xaxis\":\"x2\",\"yaxis\":\"y2\"},{\"box\":{\"visible\":true},\"fillcolor\":\"#bab0ac\",\"legendgroup\":\"Other GT\",\"line\":{\"color\":\"black\"},\"meanline\":{\"visible\":true},\"name\":\"MN, Other GT\",\"opacity\":0.25,\"scalegroup\":\"d_prime\",\"showlegend\":false,\"side\":\"negative\",\"spanmode\":\"hard\",\"x0\":\"Other GT\",\"y\":[4.384052534228393,3.4081913872337393,4.120205573960279,4.204765964622515,4.372766581702104,4.65558077174744,5.697198192494998,4.6731780260258,4.637349918731111,4.382497398569187,4.1067532825276984,3.2702205409246483,5.455855961072322,4.01133890333611],\"type\":\"violin\",\"xaxis\":\"x2\",\"yaxis\":\"y2\"},{\"box\":{\"visible\":true},\"fillcolor\":\"#2E91E5\",\"legendgroup\":\"ivt\",\"line\":{\"color\":\"black\"},\"meanline\":{\"visible\":true},\"name\":\"MN, ivt\",\"opacity\":0.25,\"scalegroup\":\"d_prime\",\"showlegend\":false,\"side\":\"negative\",\"spanmode\":\"hard\",\"x0\":\"ivt\",\"y\":[4.9879576276319,3.4117817377007684,3.1272852870273686,4.495751226011275,3.739481150774764,4.985511457908569,5.455432653522195,3.8646989975896355,3.300586102137085,4.656201916707713,3.862252537459476,2.479955967814257,5.044897924138058,3.6382189552977313],\"type\":\"violin\",\"xaxis\":\"x2\",\"yaxis\":\"y2\"},{\"box\":{\"visible\":true},\"fillcolor\":\"#E15F99\",\"legendgroup\":\"ivvt\",\"line\":{\"color\":\"black\"},\"meanline\":{\"visible\":true},\"name\":\"MN, ivvt\",\"opacity\":0.25,\"scalegroup\":\"d_prime\",\"showlegend\":false,\"side\":\"negative\",\"spanmode\":\"hard\",\"x0\":\"ivvt\",\"y\":[4.933526615950846,5.064598297933814,2.7973341154539773,2.710263715312095,3.6500868309118095,4.758727318467859,4.655027498845756,4.930129828954507,4.271539536413053,3.435794599875253,4.524283052923979,1.9216537431954492,4.2674618970530975,4.312099189420545],\"type\":\"violin\",\"xaxis\":\"x2\",\"yaxis\":\"y2\"},{\"box\":{\"visible\":true},\"fillcolor\":\"#1CA71C\",\"legendgroup\":\"idt\",\"line\":{\"color\":\"black\"},\"meanline\":{\"visible\":true},\"name\":\"MN, idt\",\"opacity\":0.25,\"scalegroup\":\"d_prime\",\"showlegend\":false,\"side\":\"negative\",\"spanmode\":\"hard\",\"x0\":\"idt\",\"y\":[2.832116166881936,2.2854164547942215,2.2850517267108525,2.5233161349327586,2.1813209722712257,2.095437111470407,2.4179043449250215,2.865022246090037,1.7914161677481388,2.5361336419702476,1.5840506197378494,2.131482270103373,2.2985924489271214,2.22012086483462],\"type\":\"violin\",\"xaxis\":\"x2\",\"yaxis\":\"y2\"},{\"box\":{\"visible\":true},\"fillcolor\":\"#FB0D0D\",\"legendgroup\":\"idvt\",\"line\":{\"color\":\"black\"},\"meanline\":{\"visible\":true},\"name\":\"MN, idvt\",\"opacity\":0.25,\"scalegroup\":\"d_prime\",\"showlegend\":false,\"side\":\"negative\",\"spanmode\":\"hard\",\"x0\":\"idvt\",\"y\":[2.832116166881936,2.2854164547942215,2.2850517267108525,2.5233161349327586,2.1813209722712257,2.095437111470407,2.4179043449250215,2.865022246090037,1.7914161677481388,2.784153959159256,1.6522613011727554,2.230571934823293,2.382989381411484,2.5458281913868537],\"type\":\"violin\",\"xaxis\":\"x2\",\"yaxis\":\"y2\"},{\"box\":{\"visible\":true},\"fillcolor\":\"#DA16FF\",\"legendgroup\":\"engbert\",\"line\":{\"color\":\"black\"},\"meanline\":{\"visible\":true},\"name\":\"MN, engbert\",\"opacity\":0.25,\"scalegroup\":\"d_prime\",\"showlegend\":false,\"side\":\"negative\",\"spanmode\":\"hard\",\"x0\":\"engbert\",\"y\":[4.9879576276319,4.857649126569571,3.671504934048097,3.3833344209089278,3.5752569627972504,5.2040916260010235,4.833858199058817,4.984691215062179,4.014128000366189,3.5698664150483514,4.881718784250532,3.364728352799519,4.983043373845592,5.091656382773704],\"type\":\"violin\",\"xaxis\":\"x2\",\"yaxis\":\"y2\"},{\"box\":{\"visible\":true},\"fillcolor\":\"#222A2A\",\"legendgroup\":\"nh\",\"line\":{\"color\":\"black\"},\"meanline\":{\"visible\":true},\"name\":\"MN, nh\",\"opacity\":0.25,\"scalegroup\":\"d_prime\",\"showlegend\":false,\"side\":\"negative\",\"spanmode\":\"hard\",\"x0\":\"nh\",\"y\":[2.0485871562448477,1.972485339265414,2.028516961760932,1.2757332412619122,2.0585087083693683,2.0384997883341103,1.950139350350137,1.6263086530701119,3.448612787952462,1.9025605815882747,0.6617813660544114,1.436881853080141,0.7108981969602501,3.047152014673917],\"type\":\"violin\",\"xaxis\":\"x2\",\"yaxis\":\"y2\"},{\"box\":{\"visible\":true},\"fillcolor\":\"#B68100\",\"legendgroup\":\"remodnav\",\"line\":{\"color\":\"black\"},\"meanline\":{\"visible\":true},\"name\":\"MN, remodnav\",\"opacity\":0.25,\"scalegroup\":\"d_prime\",\"showlegend\":false,\"side\":\"negative\",\"spanmode\":\"hard\",\"x0\":\"remodnav\",\"y\":[1.035666221545847,-0.9849578379344663,1.3509492090262274,1.1204141171811213,1.5917000757748703,1.2959095501568116,1.0978274588589914,1.2931760154966527,0.7321988364201927,1.1171834278022734,0.8464047803706747,-0.8099411550362183,1.390692487902996,1.0947591644642172],\"type\":\"violin\",\"xaxis\":\"x2\",\"yaxis\":\"y2\"}],                        {\"template\":{\"data\":{\"histogram2dcontour\":[{\"type\":\"histogram2dcontour\",\"colorbar\":{\"outlinewidth\":0,\"ticks\":\"\"},\"colorscale\":[[0.0,\"#0d0887\"],[0.1111111111111111,\"#46039f\"],[0.2222222222222222,\"#7201a8\"],[0.3333333333333333,\"#9c179e\"],[0.4444444444444444,\"#bd3786\"],[0.5555555555555556,\"#d8576b\"],[0.6666666666666666,\"#ed7953\"],[0.7777777777777778,\"#fb9f3a\"],[0.8888888888888888,\"#fdca26\"],[1.0,\"#f0f921\"]]}],\"choropleth\":[{\"type\":\"choropleth\",\"colorbar\":{\"outlinewidth\":0,\"ticks\":\"\"}}],\"histogram2d\":[{\"type\":\"histogram2d\",\"colorbar\":{\"outlinewidth\":0,\"ticks\":\"\"},\"colorscale\":[[0.0,\"#0d0887\"],[0.1111111111111111,\"#46039f\"],[0.2222222222222222,\"#7201a8\"],[0.3333333333333333,\"#9c179e\"],[0.4444444444444444,\"#bd3786\"],[0.5555555555555556,\"#d8576b\"],[0.6666666666666666,\"#ed7953\"],[0.7777777777777778,\"#fb9f3a\"],[0.8888888888888888,\"#fdca26\"],[1.0,\"#f0f921\"]]}],\"heatmap\":[{\"type\":\"heatmap\",\"colorbar\":{\"outlinewidth\":0,\"ticks\":\"\"},\"colorscale\":[[0.0,\"#0d0887\"],[0.1111111111111111,\"#46039f\"],[0.2222222222222222,\"#7201a8\"],[0.3333333333333333,\"#9c179e\"],[0.4444444444444444,\"#bd3786\"],[0.5555555555555556,\"#d8576b\"],[0.6666666666666666,\"#ed7953\"],[0.7777777777777778,\"#fb9f3a\"],[0.8888888888888888,\"#fdca26\"],[1.0,\"#f0f921\"]]}],\"heatmapgl\":[{\"type\":\"heatmapgl\",\"colorbar\":{\"outlinewidth\":0,\"ticks\":\"\"},\"colorscale\":[[0.0,\"#0d0887\"],[0.1111111111111111,\"#46039f\"],[0.2222222222222222,\"#7201a8\"],[0.3333333333333333,\"#9c179e\"],[0.4444444444444444,\"#bd3786\"],[0.5555555555555556,\"#d8576b\"],[0.6666666666666666,\"#ed7953\"],[0.7777777777777778,\"#fb9f3a\"],[0.8888888888888888,\"#fdca26\"],[1.0,\"#f0f921\"]]}],\"contourcarpet\":[{\"type\":\"contourcarpet\",\"colorbar\":{\"outlinewidth\":0,\"ticks\":\"\"}}],\"contour\":[{\"type\":\"contour\",\"colorbar\":{\"outlinewidth\":0,\"ticks\":\"\"},\"colorscale\":[[0.0,\"#0d0887\"],[0.1111111111111111,\"#46039f\"],[0.2222222222222222,\"#7201a8\"],[0.3333333333333333,\"#9c179e\"],[0.4444444444444444,\"#bd3786\"],[0.5555555555555556,\"#d8576b\"],[0.6666666666666666,\"#ed7953\"],[0.7777777777777778,\"#fb9f3a\"],[0.8888888888888888,\"#fdca26\"],[1.0,\"#f0f921\"]]}],\"surface\":[{\"type\":\"surface\",\"colorbar\":{\"outlinewidth\":0,\"ticks\":\"\"},\"colorscale\":[[0.0,\"#0d0887\"],[0.1111111111111111,\"#46039f\"],[0.2222222222222222,\"#7201a8\"],[0.3333333333333333,\"#9c179e\"],[0.4444444444444444,\"#bd3786\"],[0.5555555555555556,\"#d8576b\"],[0.6666666666666666,\"#ed7953\"],[0.7777777777777778,\"#fb9f3a\"],[0.8888888888888888,\"#fdca26\"],[1.0,\"#f0f921\"]]}],\"mesh3d\":[{\"type\":\"mesh3d\",\"colorbar\":{\"outlinewidth\":0,\"ticks\":\"\"}}],\"scatter\":[{\"fillpattern\":{\"fillmode\":\"overlay\",\"size\":10,\"solidity\":0.2},\"type\":\"scatter\"}],\"parcoords\":[{\"type\":\"parcoords\",\"line\":{\"colorbar\":{\"outlinewidth\":0,\"ticks\":\"\"}}}],\"scatterpolargl\":[{\"type\":\"scatterpolargl\",\"marker\":{\"colorbar\":{\"outlinewidth\":0,\"ticks\":\"\"}}}],\"bar\":[{\"error_x\":{\"color\":\"#2a3f5f\"},\"error_y\":{\"color\":\"#2a3f5f\"},\"marker\":{\"line\":{\"color\":\"#E5ECF6\",\"width\":0.5},\"pattern\":{\"fillmode\":\"overlay\",\"size\":10,\"solidity\":0.2}},\"type\":\"bar\"}],\"scattergeo\":[{\"type\":\"scattergeo\",\"marker\":{\"colorbar\":{\"outlinewidth\":0,\"ticks\":\"\"}}}],\"scatterpolar\":[{\"type\":\"scatterpolar\",\"marker\":{\"colorbar\":{\"outlinewidth\":0,\"ticks\":\"\"}}}],\"histogram\":[{\"marker\":{\"pattern\":{\"fillmode\":\"overlay\",\"size\":10,\"solidity\":0.2}},\"type\":\"histogram\"}],\"scattergl\":[{\"type\":\"scattergl\",\"marker\":{\"colorbar\":{\"outlinewidth\":0,\"ticks\":\"\"}}}],\"scatter3d\":[{\"type\":\"scatter3d\",\"line\":{\"colorbar\":{\"outlinewidth\":0,\"ticks\":\"\"}},\"marker\":{\"colorbar\":{\"outlinewidth\":0,\"ticks\":\"\"}}}],\"scattermapbox\":[{\"type\":\"scattermapbox\",\"marker\":{\"colorbar\":{\"outlinewidth\":0,\"ticks\":\"\"}}}],\"scatterternary\":[{\"type\":\"scatterternary\",\"marker\":{\"colorbar\":{\"outlinewidth\":0,\"ticks\":\"\"}}}],\"scattercarpet\":[{\"type\":\"scattercarpet\",\"marker\":{\"colorbar\":{\"outlinewidth\":0,\"ticks\":\"\"}}}],\"carpet\":[{\"aaxis\":{\"endlinecolor\":\"#2a3f5f\",\"gridcolor\":\"white\",\"linecolor\":\"white\",\"minorgridcolor\":\"white\",\"startlinecolor\":\"#2a3f5f\"},\"baxis\":{\"endlinecolor\":\"#2a3f5f\",\"gridcolor\":\"white\",\"linecolor\":\"white\",\"minorgridcolor\":\"white\",\"startlinecolor\":\"#2a3f5f\"},\"type\":\"carpet\"}],\"table\":[{\"cells\":{\"fill\":{\"color\":\"#EBF0F8\"},\"line\":{\"color\":\"white\"}},\"header\":{\"fill\":{\"color\":\"#C8D4E3\"},\"line\":{\"color\":\"white\"}},\"type\":\"table\"}],\"barpolar\":[{\"marker\":{\"line\":{\"color\":\"#E5ECF6\",\"width\":0.5},\"pattern\":{\"fillmode\":\"overlay\",\"size\":10,\"solidity\":0.2}},\"type\":\"barpolar\"}],\"pie\":[{\"automargin\":true,\"type\":\"pie\"}]},\"layout\":{\"autotypenumbers\":\"strict\",\"colorway\":[\"#636efa\",\"#EF553B\",\"#00cc96\",\"#ab63fa\",\"#FFA15A\",\"#19d3f3\",\"#FF6692\",\"#B6E880\",\"#FF97FF\",\"#FECB52\"],\"font\":{\"color\":\"#2a3f5f\"},\"hovermode\":\"closest\",\"hoverlabel\":{\"align\":\"left\"},\"paper_bgcolor\":\"white\",\"plot_bgcolor\":\"#E5ECF6\",\"polar\":{\"bgcolor\":\"#E5ECF6\",\"angularaxis\":{\"gridcolor\":\"white\",\"linecolor\":\"white\",\"ticks\":\"\"},\"radialaxis\":{\"gridcolor\":\"white\",\"linecolor\":\"white\",\"ticks\":\"\"}},\"ternary\":{\"bgcolor\":\"#E5ECF6\",\"aaxis\":{\"gridcolor\":\"white\",\"linecolor\":\"white\",\"ticks\":\"\"},\"baxis\":{\"gridcolor\":\"white\",\"linecolor\":\"white\",\"ticks\":\"\"},\"caxis\":{\"gridcolor\":\"white\",\"linecolor\":\"white\",\"ticks\":\"\"}},\"coloraxis\":{\"colorbar\":{\"outlinewidth\":0,\"ticks\":\"\"}},\"colorscale\":{\"sequential\":[[0.0,\"#0d0887\"],[0.1111111111111111,\"#46039f\"],[0.2222222222222222,\"#7201a8\"],[0.3333333333333333,\"#9c179e\"],[0.4444444444444444,\"#bd3786\"],[0.5555555555555556,\"#d8576b\"],[0.6666666666666666,\"#ed7953\"],[0.7777777777777778,\"#fb9f3a\"],[0.8888888888888888,\"#fdca26\"],[1.0,\"#f0f921\"]],\"sequentialminus\":[[0.0,\"#0d0887\"],[0.1111111111111111,\"#46039f\"],[0.2222222222222222,\"#7201a8\"],[0.3333333333333333,\"#9c179e\"],[0.4444444444444444,\"#bd3786\"],[0.5555555555555556,\"#d8576b\"],[0.6666666666666666,\"#ed7953\"],[0.7777777777777778,\"#fb9f3a\"],[0.8888888888888888,\"#fdca26\"],[1.0,\"#f0f921\"]],\"diverging\":[[0,\"#8e0152\"],[0.1,\"#c51b7d\"],[0.2,\"#de77ae\"],[0.3,\"#f1b6da\"],[0.4,\"#fde0ef\"],[0.5,\"#f7f7f7\"],[0.6,\"#e6f5d0\"],[0.7,\"#b8e186\"],[0.8,\"#7fbc41\"],[0.9,\"#4d9221\"],[1,\"#276419\"]]},\"xaxis\":{\"gridcolor\":\"white\",\"linecolor\":\"white\",\"ticks\":\"\",\"title\":{\"standoff\":15},\"zerolinecolor\":\"white\",\"automargin\":true,\"zerolinewidth\":2},\"yaxis\":{\"gridcolor\":\"white\",\"linecolor\":\"white\",\"ticks\":\"\",\"title\":{\"standoff\":15},\"zerolinecolor\":\"white\",\"automargin\":true,\"zerolinewidth\":2},\"scene\":{\"xaxis\":{\"backgroundcolor\":\"#E5ECF6\",\"gridcolor\":\"white\",\"linecolor\":\"white\",\"showbackground\":true,\"ticks\":\"\",\"zerolinecolor\":\"white\",\"gridwidth\":2},\"yaxis\":{\"backgroundcolor\":\"#E5ECF6\",\"gridcolor\":\"white\",\"linecolor\":\"white\",\"showbackground\":true,\"ticks\":\"\",\"zerolinecolor\":\"white\",\"gridwidth\":2},\"zaxis\":{\"backgroundcolor\":\"#E5ECF6\",\"gridcolor\":\"white\",\"linecolor\":\"white\",\"showbackground\":true,\"ticks\":\"\",\"zerolinecolor\":\"white\",\"gridwidth\":2}},\"shapedefaults\":{\"line\":{\"color\":\"#2a3f5f\"}},\"annotationdefaults\":{\"arrowcolor\":\"#2a3f5f\",\"arrowhead\":0,\"arrowwidth\":1},\"geo\":{\"bgcolor\":\"white\",\"landcolor\":\"#E5ECF6\",\"subunitcolor\":\"white\",\"showland\":true,\"showlakes\":true,\"lakecolor\":\"white\"},\"title\":{\"x\":0.05},\"mapbox\":{\"style\":\"light\"}}},\"xaxis\":{\"anchor\":\"y\",\"domain\":[0.0,1.0],\"matches\":\"x2\",\"showticklabels\":false},\"yaxis\":{\"anchor\":\"x\",\"domain\":[0.55,1.0],\"range\":[0,1]},\"xaxis2\":{\"anchor\":\"y2\",\"domain\":[0.0,1.0]},\"yaxis2\":{\"anchor\":\"x2\",\"domain\":[0.0,0.45]},\"annotations\":[{\"font\":{\"size\":16},\"showarrow\":false,\"text\":\"f1\",\"x\":0.5,\"xanchor\":\"center\",\"xref\":\"paper\",\"y\":1.0,\"yanchor\":\"bottom\",\"yref\":\"paper\"},{\"font\":{\"size\":16},\"showarrow\":false,\"text\":\"d'\",\"x\":0.5,\"xanchor\":\"center\",\"xref\":\"paper\",\"y\":0.45,\"yanchor\":\"bottom\",\"yref\":\"paper\"}],\"title\":{\"text\":\"fixation offsets\"},\"violinmode\":\"overlay\",\"boxmode\":\"group\",\"boxgroupgap\":0,\"boxgap\":0,\"margin\":{\"l\":10,\"r\":10,\"b\":10,\"t\":10,\"pad\":0},\"width\":1000,\"height\":500,\"paper_bgcolor\":\"rgba(0, 0, 0, 0)\",\"plot_bgcolor\":\"rgba(0, 0, 0, 0)\"},                        {\"responsive\": true}                    ).then(function(){\n",
       "                            \n",
       "var gd = document.getElementById('ccb886aa-57be-4dcd-8e0c-f2756d1476ff');\n",
       "var x = new MutationObserver(function (mutations, observer) {{\n",
       "        var display = window.getComputedStyle(gd).display;\n",
       "        if (!display || display === 'none') {{\n",
       "            console.log([gd, 'removed!']);\n",
       "            Plotly.purge(gd);\n",
       "            observer.disconnect();\n",
       "        }}\n",
       "}});\n",
       "\n",
       "// Listen for the removal of the full notebook cells\n",
       "var notebookContainer = gd.closest('#notebook-container');\n",
       "if (notebookContainer) {{\n",
       "    x.observe(notebookContainer, {childList: true});\n",
       "}}\n",
       "\n",
       "// Listen for the clearing of the current output cell\n",
       "var outputEl = gd.closest('.output');\n",
       "if (outputEl) {{\n",
       "    x.observe(outputEl, {childList: true});\n",
       "}}\n",
       "\n",
       "                        })                };                });            </script>        </div>"
      ]
     },
     "metadata": {},
     "output_type": "display_data"
    }
   ],
   "execution_count": 41
  },
  {
   "metadata": {},
   "cell_type": "markdown",
   "source": [
    "### (3) Final Figure - save to file\n",
    "Displaying only the $d'$ distributions for fixation onsets & offsets in the same figure, to avoid showing too many subplots"
   ],
   "id": "726f0cd7fd6583ca"
  },
  {
   "metadata": {
    "ExecuteTime": {
     "end_time": "2025-01-09T15:26:11.850609Z",
     "start_time": "2025-01-09T15:26:11.483067Z"
    }
   },
   "cell_type": "code",
   "source": [
    "W, H = 600, 450\n",
    "\n",
    "discriminability_figure = make_subplots(\n",
    "    rows=2, cols=1, shared_xaxes=True, subplot_titles=['Fixation Onset', 'Fixation Offset'], vertical_spacing=0.1\n",
    ")\n",
    "\n",
    "# copy onset d-prime violins into new figure\n",
    "for tr in onset_distribution_figure.data:\n",
    "    if tr['scalegroup'] != 'd_prime':\n",
    "        # ignore non d-prime violins\n",
    "        continue\n",
    "    new_tr = copy.deepcopy(tr)\n",
    "    new_tr['width'] = 0.8   # make violins wider so there's less space between them\n",
    "    discriminability_figure.add_trace(trace=new_tr, row=1, col=1)\n",
    "\n",
    "# copy offset d-prime violins into new figure\n",
    "for tr in offset_distribution_figure.data:\n",
    "    if tr['scalegroup'] != 'd_prime':\n",
    "        # ignore non d-prime violins\n",
    "        continue\n",
    "    new_tr = copy.deepcopy(tr)\n",
    "    new_tr['width'] = 0.8   # make violins wider so there's less space between them\n",
    "    discriminability_figure.add_trace(trace=new_tr, row=2, col=1)\n",
    "\n",
    "discriminability_figure.update_layout(\n",
    "    title=None,\n",
    "    width=W, height=H,\n",
    "    paper_bgcolor='rgba(0, 0, 0, 0)', plot_bgcolor='rgba(0, 0, 0, 0)',\n",
    "    yaxis=dict(showgrid=False, zeroline=False, showline=False, tickfont=dict(size=14)),\n",
    "    yaxis2=dict(showgrid=False, zeroline=False, showline=False, tickfont=dict(size=14)),\n",
    "    xaxis2=dict(showgrid=False, tickfont=dict(size=14), tickangle=0),\n",
    "    margin=dict(l=10, r=10, b=10, t=20, pad=0),\n",
    ")\n",
    "# discriminability_figure.layout.annotations = []   # remove subtitles\n",
    "\n",
    "\n",
    "save_fig(discriminability_figure, FIG_ID, 'left', 'fixation-discriminability', IS_SUPP)\n",
    "discriminability_figure"
   ],
   "id": "2e884b4854a5cc95",
   "outputs": [
    {
     "data": {
      "application/vnd.plotly.v1+json": {
       "data": [
        {
         "box": {
          "visible": true
         },
         "fillcolor": "#bab0ac",
         "legendgroup": "Other GT",
         "line": {
          "color": "black"
         },
         "meanline": {
          "visible": true
         },
         "name": "RA, Other GT",
         "opacity": 0.75,
         "scalegroup": "d_prime",
         "showlegend": false,
         "side": "positive",
         "spanmode": "hard",
         "width": 0.8,
         "x0": "Other GT",
         "xaxis": "x",
         "y": [
          3.0567756111928372,
          3.5817824584180404,
          3.4159835304233654,
          2.357381272489394,
          3.200699666366021,
          3.353897246083096,
          3.1177379610495146,
          2.725540789220216,
          3.0053604873627897,
          2.780349566555217,
          2.5519909644300327,
          2.6894249764554257,
          3.18858968320364,
          3.8658810131945223
         ],
         "yaxis": "y",
         "type": "violin"
        },
        {
         "box": {
          "visible": true
         },
         "fillcolor": "#2E91E5",
         "legendgroup": "ivt",
         "line": {
          "color": "black"
         },
         "meanline": {
          "visible": true
         },
         "name": "RA, ivt",
         "opacity": 0.75,
         "scalegroup": "d_prime",
         "showlegend": false,
         "side": "positive",
         "spanmode": "hard",
         "width": 0.8,
         "x0": "ivt",
         "xaxis": "x",
         "y": [
          2.1747085951129668,
          2.6143608923163395,
          4.078433696648515,
          2.148199106787624,
          1.2527544830947697,
          3.372964347755288,
          1.8029253638129163,
          2.9963750637684674,
          3.744779428486695,
          2.433845226377266,
          1.0327503684867034,
          1.5841203626135982,
          1.4212156954767394,
          1.360783035426807,
          1.642872009094081,
          1.6896038997297582,
          1.5854296573565831,
          1.6274552641258877,
          2.1500248610437454,
          1.0226059125590385
         ],
         "yaxis": "y",
         "type": "violin"
        },
        {
         "box": {
          "visible": true
         },
         "fillcolor": "#E15F99",
         "legendgroup": "ivvt",
         "line": {
          "color": "black"
         },
         "meanline": {
          "visible": true
         },
         "name": "RA, ivvt",
         "opacity": 0.75,
         "scalegroup": "d_prime",
         "showlegend": false,
         "side": "positive",
         "spanmode": "hard",
         "width": 0.8,
         "x0": "ivvt",
         "xaxis": "x",
         "y": [
          3.0537937137582674,
          3.120810885729698,
          2.3735870879117784,
          3.242653362046542,
          3.2071944842789084,
          1.6602530377557696,
          1.5073845377400499,
          1.116195769440203,
          3.315538034573608,
          2.7346692343092434,
          2.5110316028530018,
          3.690295263600527,
          2.904671737268374,
          2.3283523309692074,
          2.3536632047841772,
          2.0512764113876902,
          2.8272964491999035,
          1.6780023262729227,
          2.4160478472285334,
          1.9270822639168963
         ],
         "yaxis": "y",
         "type": "violin"
        },
        {
         "box": {
          "visible": true
         },
         "fillcolor": "#1CA71C",
         "legendgroup": "idt",
         "line": {
          "color": "black"
         },
         "meanline": {
          "visible": true
         },
         "name": "RA, idt",
         "opacity": 0.75,
         "scalegroup": "d_prime",
         "showlegend": false,
         "side": "positive",
         "spanmode": "hard",
         "width": 0.8,
         "x0": "idt",
         "xaxis": "x",
         "y": [
          -0.05156088702800665,
          1.8755341702937218,
          0.4348321224989218,
          0.020962714714781505,
          -0.10070025268081428,
          0.023511239490168423,
          0.5198044258228336,
          -1.0806858734715203,
          0.9500277766588175,
          -1.176206641842659,
          0.3013460575098834,
          -0.06855571287038442,
          -0.24528643391632365,
          -0.07268654217897619,
          0.022814037857845637,
          -0.22344726352875321,
          -0.23769490688804895,
          0.43667482528690926,
          -0.24528643391632365,
          -1.3455991502689377
         ],
         "yaxis": "y",
         "type": "violin"
        },
        {
         "box": {
          "visible": true
         },
         "fillcolor": "#FB0D0D",
         "legendgroup": "idvt",
         "line": {
          "color": "black"
         },
         "meanline": {
          "visible": true
         },
         "name": "RA, idvt",
         "opacity": 0.75,
         "scalegroup": "d_prime",
         "showlegend": false,
         "side": "positive",
         "spanmode": "hard",
         "width": 0.8,
         "x0": "idvt",
         "xaxis": "x",
         "y": [
          -0.05156088702800665,
          1.8755341702937218,
          0.4348321224989218,
          0.020962714714781505,
          -0.10070025268081428,
          0.023511239490168423,
          0.5198044258228336,
          -1.0528364266488046,
          0.9500277766588175,
          -1.176206641842659,
          0.3013460575098834,
          -0.06855571287038442,
          -0.24528643391632365,
          -0.07268654217897619,
          0.022814037857845637,
          -0.1773060914114366,
          -0.19625123451310644,
          0.4957891912038679,
          -0.22174272234724857,
          -1.276343426996191
         ],
         "yaxis": "y",
         "type": "violin"
        },
        {
         "box": {
          "visible": true
         },
         "fillcolor": "#DA16FF",
         "legendgroup": "engbert",
         "line": {
          "color": "black"
         },
         "meanline": {
          "visible": true
         },
         "name": "RA, engbert",
         "opacity": 0.75,
         "scalegroup": "d_prime",
         "showlegend": false,
         "side": "positive",
         "spanmode": "hard",
         "width": 0.8,
         "x0": "engbert",
         "xaxis": "x",
         "y": [
          3.997164499610903,
          4.8181294575005,
          3.029424181497933,
          3.501153542978641,
          3.7522485483392343,
          3.5384270446367676,
          2.116287557103349,
          2.932613783759587,
          3.646861560454929,
          4.11116478502508,
          2.878499483800676,
          3.1678131511463814,
          2.7310517322715686,
          2.236404285425549,
          3.150352877914421,
          2.0385022528440464,
          1.5854296573565831,
          1.4131677538669707,
          3.2113884285133825,
          2.416156134598274
         ],
         "yaxis": "y",
         "type": "violin"
        },
        {
         "box": {
          "visible": true
         },
         "fillcolor": "#222A2A",
         "legendgroup": "nh",
         "line": {
          "color": "black"
         },
         "meanline": {
          "visible": true
         },
         "name": "RA, nh",
         "opacity": 0.75,
         "scalegroup": "d_prime",
         "showlegend": false,
         "side": "positive",
         "spanmode": "hard",
         "width": 0.8,
         "x0": "nh",
         "xaxis": "x",
         "y": [
          2.542822143302328,
          3.2518112592933517,
          0.9328567103555421,
          2.4029944677862347,
          2.7797111093368385,
          2.465043137998208,
          0.5954010782267636,
          1.8762061544309125,
          3.744779428486695,
          3.4774372656380104,
          2.605674564663064,
          2.480099481402406,
          1.8464241910234642,
          2.443718922487479,
          3.570406074860073,
          0.9185614028318028,
          0.06975852818063721,
          1.8149458097761437,
          0.2993285090688138,
          2.2407035282980354
         ],
         "yaxis": "y",
         "type": "violin"
        },
        {
         "box": {
          "visible": true
         },
         "fillcolor": "#B68100",
         "legendgroup": "remodnav",
         "line": {
          "color": "black"
         },
         "meanline": {
          "visible": true
         },
         "name": "RA, remodnav",
         "opacity": 0.75,
         "scalegroup": "d_prime",
         "showlegend": false,
         "side": "positive",
         "spanmode": "hard",
         "width": 0.8,
         "x0": "remodnav",
         "xaxis": "x",
         "y": [
          1.7834566321922396,
          1.536413287414544,
          1.3681316479827053,
          1.8616370006338798,
          2.2219840389418604,
          1.2383907473881992,
          0.979172242203302,
          0.9802949188871031,
          0.8972946159770097,
          1.229205654556361,
          1.9968333656927313,
          1.531292423596961,
          1.4053771238766313,
          1.703927515568559,
          1.2462810973746286,
          1.8020125241068292,
          1.9058887390566865,
          1.1736939750442725,
          1.5381679075740258,
          1.1503977300041295
         ],
         "yaxis": "y",
         "type": "violin"
        },
        {
         "box": {
          "visible": true
         },
         "fillcolor": "#bab0ac",
         "legendgroup": "Other GT",
         "line": {
          "color": "black"
         },
         "meanline": {
          "visible": true
         },
         "name": "MN, Other GT",
         "opacity": 0.25,
         "scalegroup": "d_prime",
         "showlegend": false,
         "side": "negative",
         "spanmode": "hard",
         "width": 0.8,
         "x0": "Other GT",
         "xaxis": "x",
         "y": [
          3.091123000459605,
          3.4081913872337393,
          3.2945669650718723,
          2.3073517068189,
          3.1690619662342248,
          3.3150722769627965,
          3.1177379610495146,
          2.725540789220216,
          3.0679250961990348,
          2.733152367843025,
          2.507736746565172,
          2.6288211074897583,
          3.2197320122635427,
          3.7597361191492307
         ],
         "yaxis": "y",
         "type": "violin"
        },
        {
         "box": {
          "visible": true
         },
         "fillcolor": "#2E91E5",
         "legendgroup": "ivt",
         "line": {
          "color": "black"
         },
         "meanline": {
          "visible": true
         },
         "name": "MN, ivt",
         "opacity": 0.25,
         "scalegroup": "d_prime",
         "showlegend": false,
         "side": "negative",
         "spanmode": "hard",
         "width": 0.8,
         "x0": "ivt",
         "xaxis": "x",
         "y": [
          1.7465639976496237,
          2.4335840960494877,
          2.3847502127579583,
          1.650168056621698,
          1.409819393344206,
          1.975647985796717,
          2.025160071564665,
          1.6807499505522447,
          1.7387386242120977,
          2.32135441927185,
          2.152826519283019,
          2.008234514881136,
          2.0944455161680517,
          1.8714414951623688
         ],
         "yaxis": "y",
         "type": "violin"
        },
        {
         "box": {
          "visible": true
         },
         "fillcolor": "#E15F99",
         "legendgroup": "ivvt",
         "line": {
          "color": "black"
         },
         "meanline": {
          "visible": true
         },
         "name": "MN, ivvt",
         "opacity": 0.25,
         "scalegroup": "d_prime",
         "showlegend": false,
         "side": "negative",
         "spanmode": "hard",
         "width": 0.8,
         "x0": "ivvt",
         "xaxis": "x",
         "y": [
          3.4775622995334645,
          3.280849238505067,
          1.8938386235183784,
          1.4287080740322238,
          2.862353978254591,
          3.7397105806840383,
          2.741404862618098,
          2.454714666252115,
          2.1630614703901045,
          2.1303877367746216,
          2.5505066984345097,
          1.110826267730398,
          2.123051241012207,
          2.241020115236657
         ],
         "yaxis": "y",
         "type": "violin"
        },
        {
         "box": {
          "visible": true
         },
         "fillcolor": "#1CA71C",
         "legendgroup": "idt",
         "line": {
          "color": "black"
         },
         "meanline": {
          "visible": true
         },
         "name": "MN, idt",
         "opacity": 0.25,
         "scalegroup": "d_prime",
         "showlegend": false,
         "side": "negative",
         "spanmode": "hard",
         "width": 0.8,
         "x0": "idt",
         "xaxis": "x",
         "y": [
          -0.0338840778853855,
          1.7746720414227346,
          -0.027450405739186223,
          0.041275527818388724,
          0.5322789661042571,
          -0.08492013972727208,
          0.10304076662438266,
          -0.07268654217897619,
          0.061129186090608245,
          0.09577684343278214,
          -0.271231520439132,
          0.12954027461191808,
          -0.23098060243157792,
          -0.5838734806279315
         ],
         "yaxis": "y",
         "type": "violin"
        },
        {
         "box": {
          "visible": true
         },
         "fillcolor": "#FB0D0D",
         "legendgroup": "idvt",
         "line": {
          "color": "black"
         },
         "meanline": {
          "visible": true
         },
         "name": "MN, idvt",
         "opacity": 0.25,
         "scalegroup": "d_prime",
         "showlegend": false,
         "side": "negative",
         "spanmode": "hard",
         "width": 0.8,
         "x0": "idvt",
         "xaxis": "x",
         "y": [
          -0.0338840778853855,
          1.7746720414227346,
          -0.027450405739186223,
          0.041275527818388724,
          0.5322789661042571,
          -0.08492013972727208,
          0.10304076662438266,
          -0.07268654217897619,
          0.061129186090608245,
          0.1438019524171672,
          -0.22974640753840947,
          0.1869558170283443,
          -0.20744814640829579,
          -0.5080180364977112
         ],
         "yaxis": "y",
         "type": "violin"
        },
        {
         "box": {
          "visible": true
         },
         "fillcolor": "#DA16FF",
         "legendgroup": "engbert",
         "line": {
          "color": "black"
         },
         "meanline": {
          "visible": true
         },
         "name": "MN, engbert",
         "opacity": 0.25,
         "scalegroup": "d_prime",
         "showlegend": false,
         "side": "negative",
         "spanmode": "hard",
         "width": 0.8,
         "x0": "engbert",
         "xaxis": "x",
         "y": [
          3.5261786093366183,
          3.074122458384413,
          3.0585474698842803,
          1.7118975044914326,
          3.3163891695673327,
          4.18156534667701,
          3.0532325835419942,
          2.769657664682239,
          3.1657257065085505,
          2.358518800115836,
          2.3997243702853313,
          1.9251887970880794,
          2.6665394643583724,
          2.5967827016697838
         ],
         "yaxis": "y",
         "type": "violin"
        },
        {
         "box": {
          "visible": true
         },
         "fillcolor": "#222A2A",
         "legendgroup": "nh",
         "line": {
          "color": "black"
         },
         "meanline": {
          "visible": true
         },
         "name": "MN, nh",
         "opacity": 0.25,
         "scalegroup": "d_prime",
         "showlegend": false,
         "side": "negative",
         "spanmode": "hard",
         "width": 0.8,
         "x0": "nh",
         "xaxis": "x",
         "y": [
          2.7798013155477705,
          2.393291084419631,
          2.778378010156553,
          0.8203567177435744,
          2.8270058208918334,
          3.7344972970435584,
          2.0563388485330085,
          2.443718922487479,
          3.448612787952462,
          1.9025605815882747,
          0.0365010396690153,
          1.7082094505249226,
          0.3134166881435796,
          2.4105937074558472
         ],
         "yaxis": "y",
         "type": "violin"
        },
        {
         "box": {
          "visible": true
         },
         "fillcolor": "#B68100",
         "legendgroup": "remodnav",
         "line": {
          "color": "black"
         },
         "meanline": {
          "visible": true
         },
         "name": "MN, remodnav",
         "opacity": 0.25,
         "scalegroup": "d_prime",
         "showlegend": false,
         "side": "negative",
         "spanmode": "hard",
         "width": 0.8,
         "x0": "remodnav",
         "xaxis": "x",
         "y": [
          1.8151965330169004,
          1.4002371442333947,
          1.3509492090262274,
          1.310322183013565,
          1.9600867342503607,
          1.7250324406173139,
          1.4053771238766313,
          1.1520345117387865,
          1.5143580583657432,
          1.4300413109147279,
          1.8577801508813967,
          1.1183707375963778,
          1.7404156835979647,
          1.3298189220632723
         ],
         "yaxis": "y",
         "type": "violin"
        },
        {
         "box": {
          "visible": true
         },
         "fillcolor": "#bab0ac",
         "legendgroup": "Other GT",
         "line": {
          "color": "black"
         },
         "meanline": {
          "visible": true
         },
         "name": "RA, Other GT",
         "opacity": 0.75,
         "scalegroup": "d_prime",
         "showlegend": false,
         "side": "positive",
         "spanmode": "hard",
         "width": 0.8,
         "x0": "Other GT",
         "xaxis": "x2",
         "y": [
          4.292082395037818,
          3.5817824584180404,
          5.206089514385839,
          5.202891196821563,
          4.456576357756554,
          5.457533834477091,
          5.697198192494998,
          4.6731780260258,
          3.995047787142853,
          5.310695028299185,
          4.257229661476684,
          3.3673010992312995,
          4.70809810195306,
          4.635091120582167
         ],
         "yaxis": "y2",
         "type": "violin"
        },
        {
         "box": {
          "visible": true
         },
         "fillcolor": "#2E91E5",
         "legendgroup": "ivt",
         "line": {
          "color": "black"
         },
         "meanline": {
          "visible": true
         },
         "name": "RA, ivt",
         "opacity": 0.75,
         "scalegroup": "d_prime",
         "showlegend": false,
         "side": "positive",
         "spanmode": "hard",
         "width": 0.8,
         "x0": "ivt",
         "xaxis": "x2",
         "y": [
          3.598462333687599,
          3.8101787185716245,
          5.044256606536676,
          5.046467880803274,
          2.941111234719033,
          3.0125429729519704,
          4.433366900334038,
          4.772047156523903,
          3.744779428486695,
          2.6262570752464813,
          3.66355549212124,
          3.8967967620503354,
          4.48171851696588,
          3.5625779808709295,
          3.1338872029643987,
          4.600572212447136,
          4.798145766061109,
          2.210009148989086,
          5.115768896075884,
          3.2927923443287783
         ],
         "yaxis": "y2",
         "type": "violin"
        },
        {
         "box": {
          "visible": true
         },
         "fillcolor": "#E15F99",
         "legendgroup": "ivvt",
         "line": {
          "color": "black"
         },
         "meanline": {
          "visible": true
         },
         "name": "RA, ivvt",
         "opacity": 0.75,
         "scalegroup": "d_prime",
         "showlegend": false,
         "side": "positive",
         "spanmode": "hard",
         "width": 0.8,
         "x0": "ivvt",
         "xaxis": "x2",
         "y": [
          3.9359716317412667,
          5.004494687671157,
          4.878634258227564,
          4.881141236650121,
          3.709570383255679,
          2.7264870785474384,
          2.6361854160352554,
          1.8181158832428599,
          4.072182356836911,
          2.995647763538704,
          4.599370309861141,
          3.690295263600527,
          4.655027498845756,
          4.930129828954507,
          3.742889269536774,
          3.3714436331725497,
          3.431034933183425,
          2.045007376162844,
          3.319990639923943,
          3.8658810131945223
         ],
         "yaxis": "y2",
         "type": "violin"
        },
        {
         "box": {
          "visible": true
         },
         "fillcolor": "#1CA71C",
         "legendgroup": "idt",
         "line": {
          "color": "black"
         },
         "meanline": {
          "visible": true
         },
         "name": "RA, idt",
         "opacity": 0.75,
         "scalegroup": "d_prime",
         "showlegend": false,
         "side": "positive",
         "spanmode": "hard",
         "width": 0.8,
         "x0": "idt",
         "xaxis": "x2",
         "y": [
          2.7771030722287975,
          2.419883770174126,
          2.7215858369215677,
          2.7275482515187717,
          2.9461691202748734,
          2.4090484489505277,
          2.664606369484214,
          2.1747182694310174,
          2.1355794693748744,
          2.20102983406775,
          2.848599096247495,
          2.305298054473544,
          2.597516808515491,
          2.330507732225328,
          1.739893339576734,
          2.3133131842874386,
          1.5365283589800232,
          1.4279788280931272,
          2.115047195593971,
          1.8523939866717416
         ],
         "yaxis": "y2",
         "type": "violin"
        },
        {
         "box": {
          "visible": true
         },
         "fillcolor": "#FB0D0D",
         "legendgroup": "idvt",
         "line": {
          "color": "black"
         },
         "meanline": {
          "visible": true
         },
         "name": "RA, idvt",
         "opacity": 0.75,
         "scalegroup": "d_prime",
         "showlegend": false,
         "side": "positive",
         "spanmode": "hard",
         "width": 0.8,
         "x0": "idvt",
         "xaxis": "x2",
         "y": [
          2.7771030722287975,
          2.419883770174126,
          2.7215858369215677,
          2.7275482515187717,
          2.9461691202748734,
          2.4090484489505277,
          2.664606369484214,
          2.2286018262706864,
          2.1355794693748744,
          2.20102983406775,
          2.848599096247495,
          2.305298054473544,
          2.597516808515491,
          2.330507732225328,
          1.739893339576734,
          2.4684373970258755,
          1.6006216135205666,
          1.5011892192494596,
          2.185898917748096,
          2.1355794693748744
         ],
         "yaxis": "y2",
         "type": "violin"
        },
        {
         "box": {
          "visible": true
         },
         "fillcolor": "#DA16FF",
         "legendgroup": "engbert",
         "line": {
          "color": "black"
         },
         "meanline": {
          "visible": true
         },
         "name": "RA, engbert",
         "opacity": 0.75,
         "scalegroup": "d_prime",
         "showlegend": false,
         "side": "positive",
         "spanmode": "hard",
         "width": 0.8,
         "x0": "engbert",
         "xaxis": "x2",
         "y": [
          5.04880515428356,
          4.8181294575005,
          5.044256606536676,
          4.881141236650121,
          4.1125883937125876,
          4.604536965543675,
          3.2958562347369083,
          4.704143198451235,
          4.408799948834797,
          4.11116478502508,
          3.5163398368851224,
          4.08288085698705,
          4.833858199058817,
          4.984691215062179,
          3.4850577987413622,
          4.50014993881449,
          4.798145766061109,
          2.907451552081244,
          4.078348429735674,
          4.635091120582167
         ],
         "yaxis": "y2",
         "type": "violin"
        },
        {
         "box": {
          "visible": true
         },
         "fillcolor": "#222A2A",
         "legendgroup": "nh",
         "line": {
          "color": "black"
         },
         "meanline": {
          "visible": true
         },
         "name": "RA, nh",
         "opacity": 0.75,
         "scalegroup": "d_prime",
         "showlegend": false,
         "side": "positive",
         "spanmode": "hard",
         "width": 0.8,
         "x0": "nh",
         "xaxis": "x2",
         "y": [
          1.872690679923099,
          2.153389319627997,
          1.3002412720694625,
          1.8163502548880792,
          1.434296542194852,
          1.9001189461091592,
          1.11124890253243,
          1.4848577456263052,
          3.0030993347168877,
          3.925826176223258,
          1.7748205399462205,
          1.7348478389138664,
          1.950139350350137,
          1.7354692377567866,
          3.16758221351303,
          1.8644167915986278,
          0.7034945071908316,
          1.9601539608017602,
          0.6949637201945702,
          2.828803066751708
         ],
         "yaxis": "y2",
         "type": "violin"
        },
        {
         "box": {
          "visible": true
         },
         "fillcolor": "#B68100",
         "legendgroup": "remodnav",
         "line": {
          "color": "black"
         },
         "meanline": {
          "visible": true
         },
         "name": "RA, remodnav",
         "opacity": 0.75,
         "scalegroup": "d_prime",
         "showlegend": false,
         "side": "positive",
         "spanmode": "hard",
         "width": 0.8,
         "x0": "remodnav",
         "xaxis": "x2",
         "y": [
          1.0115438679670075,
          -0.9840349347112989,
          1.3681316479827053,
          1.8616370006338798,
          1.6552416704919801,
          1.4306335077896288,
          1.1808041342393714,
          0.9802949188871031,
          0.8972946159770097,
          0.6431567083371401,
          1.5014777430301072,
          1.1038351848123282,
          1.0978274588589914,
          1.2931760154966527,
          0.6769409227633206,
          1.1627264136117643,
          0.8840125233008753,
          -0.8082165041488065,
          1.3680463810698633,
          1.1503977300041295
         ],
         "yaxis": "y2",
         "type": "violin"
        },
        {
         "box": {
          "visible": true
         },
         "fillcolor": "#bab0ac",
         "legendgroup": "Other GT",
         "line": {
          "color": "black"
         },
         "meanline": {
          "visible": true
         },
         "name": "MN, Other GT",
         "opacity": 0.25,
         "scalegroup": "d_prime",
         "showlegend": false,
         "side": "negative",
         "spanmode": "hard",
         "width": 0.8,
         "x0": "Other GT",
         "xaxis": "x2",
         "y": [
          4.384052534228393,
          3.4081913872337393,
          4.120205573960279,
          4.204765964622515,
          4.372766581702104,
          4.65558077174744,
          5.697198192494998,
          4.6731780260258,
          4.637349918731111,
          4.382497398569187,
          4.1067532825276984,
          3.2702205409246483,
          5.455855961072322,
          4.01133890333611
         ],
         "yaxis": "y2",
         "type": "violin"
        },
        {
         "box": {
          "visible": true
         },
         "fillcolor": "#2E91E5",
         "legendgroup": "ivt",
         "line": {
          "color": "black"
         },
         "meanline": {
          "visible": true
         },
         "name": "MN, ivt",
         "opacity": 0.25,
         "scalegroup": "d_prime",
         "showlegend": false,
         "side": "negative",
         "spanmode": "hard",
         "width": 0.8,
         "x0": "ivt",
         "xaxis": "x2",
         "y": [
          4.9879576276319,
          3.4117817377007684,
          3.1272852870273686,
          4.495751226011275,
          3.739481150774764,
          4.985511457908569,
          5.455432653522195,
          3.8646989975896355,
          3.300586102137085,
          4.656201916707713,
          3.862252537459476,
          2.479955967814257,
          5.044897924138058,
          3.6382189552977313
         ],
         "yaxis": "y2",
         "type": "violin"
        },
        {
         "box": {
          "visible": true
         },
         "fillcolor": "#E15F99",
         "legendgroup": "ivvt",
         "line": {
          "color": "black"
         },
         "meanline": {
          "visible": true
         },
         "name": "MN, ivvt",
         "opacity": 0.25,
         "scalegroup": "d_prime",
         "showlegend": false,
         "side": "negative",
         "spanmode": "hard",
         "width": 0.8,
         "x0": "ivvt",
         "xaxis": "x2",
         "y": [
          4.933526615950846,
          5.064598297933814,
          2.7973341154539773,
          2.710263715312095,
          3.6500868309118095,
          4.758727318467859,
          4.655027498845756,
          4.930129828954507,
          4.271539536413053,
          3.435794599875253,
          4.524283052923979,
          1.9216537431954492,
          4.2674618970530975,
          4.312099189420545
         ],
         "yaxis": "y2",
         "type": "violin"
        },
        {
         "box": {
          "visible": true
         },
         "fillcolor": "#1CA71C",
         "legendgroup": "idt",
         "line": {
          "color": "black"
         },
         "meanline": {
          "visible": true
         },
         "name": "MN, idt",
         "opacity": 0.25,
         "scalegroup": "d_prime",
         "showlegend": false,
         "side": "negative",
         "spanmode": "hard",
         "width": 0.8,
         "x0": "idt",
         "xaxis": "x2",
         "y": [
          2.832116166881936,
          2.2854164547942215,
          2.2850517267108525,
          2.5233161349327586,
          2.1813209722712257,
          2.095437111470407,
          2.4179043449250215,
          2.865022246090037,
          1.7914161677481388,
          2.5361336419702476,
          1.5840506197378494,
          2.131482270103373,
          2.2985924489271214,
          2.22012086483462
         ],
         "yaxis": "y2",
         "type": "violin"
        },
        {
         "box": {
          "visible": true
         },
         "fillcolor": "#FB0D0D",
         "legendgroup": "idvt",
         "line": {
          "color": "black"
         },
         "meanline": {
          "visible": true
         },
         "name": "MN, idvt",
         "opacity": 0.25,
         "scalegroup": "d_prime",
         "showlegend": false,
         "side": "negative",
         "spanmode": "hard",
         "width": 0.8,
         "x0": "idvt",
         "xaxis": "x2",
         "y": [
          2.832116166881936,
          2.2854164547942215,
          2.2850517267108525,
          2.5233161349327586,
          2.1813209722712257,
          2.095437111470407,
          2.4179043449250215,
          2.865022246090037,
          1.7914161677481388,
          2.784153959159256,
          1.6522613011727554,
          2.230571934823293,
          2.382989381411484,
          2.5458281913868537
         ],
         "yaxis": "y2",
         "type": "violin"
        },
        {
         "box": {
          "visible": true
         },
         "fillcolor": "#DA16FF",
         "legendgroup": "engbert",
         "line": {
          "color": "black"
         },
         "meanline": {
          "visible": true
         },
         "name": "MN, engbert",
         "opacity": 0.25,
         "scalegroup": "d_prime",
         "showlegend": false,
         "side": "negative",
         "spanmode": "hard",
         "width": 0.8,
         "x0": "engbert",
         "xaxis": "x2",
         "y": [
          4.9879576276319,
          4.857649126569571,
          3.671504934048097,
          3.3833344209089278,
          3.5752569627972504,
          5.2040916260010235,
          4.833858199058817,
          4.984691215062179,
          4.014128000366189,
          3.5698664150483514,
          4.881718784250532,
          3.364728352799519,
          4.983043373845592,
          5.091656382773704
         ],
         "yaxis": "y2",
         "type": "violin"
        },
        {
         "box": {
          "visible": true
         },
         "fillcolor": "#222A2A",
         "legendgroup": "nh",
         "line": {
          "color": "black"
         },
         "meanline": {
          "visible": true
         },
         "name": "MN, nh",
         "opacity": 0.25,
         "scalegroup": "d_prime",
         "showlegend": false,
         "side": "negative",
         "spanmode": "hard",
         "width": 0.8,
         "x0": "nh",
         "xaxis": "x2",
         "y": [
          2.0485871562448477,
          1.972485339265414,
          2.028516961760932,
          1.2757332412619122,
          2.0585087083693683,
          2.0384997883341103,
          1.950139350350137,
          1.6263086530701119,
          3.448612787952462,
          1.9025605815882747,
          0.6617813660544114,
          1.436881853080141,
          0.7108981969602501,
          3.047152014673917
         ],
         "yaxis": "y2",
         "type": "violin"
        },
        {
         "box": {
          "visible": true
         },
         "fillcolor": "#B68100",
         "legendgroup": "remodnav",
         "line": {
          "color": "black"
         },
         "meanline": {
          "visible": true
         },
         "name": "MN, remodnav",
         "opacity": 0.25,
         "scalegroup": "d_prime",
         "showlegend": false,
         "side": "negative",
         "spanmode": "hard",
         "width": 0.8,
         "x0": "remodnav",
         "xaxis": "x2",
         "y": [
          1.035666221545847,
          -0.9849578379344663,
          1.3509492090262274,
          1.1204141171811213,
          1.5917000757748703,
          1.2959095501568116,
          1.0978274588589914,
          1.2931760154966527,
          0.7321988364201927,
          1.1171834278022734,
          0.8464047803706747,
          -0.8099411550362183,
          1.390692487902996,
          1.0947591644642172
         ],
         "yaxis": "y2",
         "type": "violin"
        }
       ],
       "layout": {
        "template": {
         "data": {
          "histogram2dcontour": [
           {
            "type": "histogram2dcontour",
            "colorbar": {
             "outlinewidth": 0,
             "ticks": ""
            },
            "colorscale": [
             [
              0.0,
              "#0d0887"
             ],
             [
              0.1111111111111111,
              "#46039f"
             ],
             [
              0.2222222222222222,
              "#7201a8"
             ],
             [
              0.3333333333333333,
              "#9c179e"
             ],
             [
              0.4444444444444444,
              "#bd3786"
             ],
             [
              0.5555555555555556,
              "#d8576b"
             ],
             [
              0.6666666666666666,
              "#ed7953"
             ],
             [
              0.7777777777777778,
              "#fb9f3a"
             ],
             [
              0.8888888888888888,
              "#fdca26"
             ],
             [
              1.0,
              "#f0f921"
             ]
            ]
           }
          ],
          "choropleth": [
           {
            "type": "choropleth",
            "colorbar": {
             "outlinewidth": 0,
             "ticks": ""
            }
           }
          ],
          "histogram2d": [
           {
            "type": "histogram2d",
            "colorbar": {
             "outlinewidth": 0,
             "ticks": ""
            },
            "colorscale": [
             [
              0.0,
              "#0d0887"
             ],
             [
              0.1111111111111111,
              "#46039f"
             ],
             [
              0.2222222222222222,
              "#7201a8"
             ],
             [
              0.3333333333333333,
              "#9c179e"
             ],
             [
              0.4444444444444444,
              "#bd3786"
             ],
             [
              0.5555555555555556,
              "#d8576b"
             ],
             [
              0.6666666666666666,
              "#ed7953"
             ],
             [
              0.7777777777777778,
              "#fb9f3a"
             ],
             [
              0.8888888888888888,
              "#fdca26"
             ],
             [
              1.0,
              "#f0f921"
             ]
            ]
           }
          ],
          "heatmap": [
           {
            "type": "heatmap",
            "colorbar": {
             "outlinewidth": 0,
             "ticks": ""
            },
            "colorscale": [
             [
              0.0,
              "#0d0887"
             ],
             [
              0.1111111111111111,
              "#46039f"
             ],
             [
              0.2222222222222222,
              "#7201a8"
             ],
             [
              0.3333333333333333,
              "#9c179e"
             ],
             [
              0.4444444444444444,
              "#bd3786"
             ],
             [
              0.5555555555555556,
              "#d8576b"
             ],
             [
              0.6666666666666666,
              "#ed7953"
             ],
             [
              0.7777777777777778,
              "#fb9f3a"
             ],
             [
              0.8888888888888888,
              "#fdca26"
             ],
             [
              1.0,
              "#f0f921"
             ]
            ]
           }
          ],
          "heatmapgl": [
           {
            "type": "heatmapgl",
            "colorbar": {
             "outlinewidth": 0,
             "ticks": ""
            },
            "colorscale": [
             [
              0.0,
              "#0d0887"
             ],
             [
              0.1111111111111111,
              "#46039f"
             ],
             [
              0.2222222222222222,
              "#7201a8"
             ],
             [
              0.3333333333333333,
              "#9c179e"
             ],
             [
              0.4444444444444444,
              "#bd3786"
             ],
             [
              0.5555555555555556,
              "#d8576b"
             ],
             [
              0.6666666666666666,
              "#ed7953"
             ],
             [
              0.7777777777777778,
              "#fb9f3a"
             ],
             [
              0.8888888888888888,
              "#fdca26"
             ],
             [
              1.0,
              "#f0f921"
             ]
            ]
           }
          ],
          "contourcarpet": [
           {
            "type": "contourcarpet",
            "colorbar": {
             "outlinewidth": 0,
             "ticks": ""
            }
           }
          ],
          "contour": [
           {
            "type": "contour",
            "colorbar": {
             "outlinewidth": 0,
             "ticks": ""
            },
            "colorscale": [
             [
              0.0,
              "#0d0887"
             ],
             [
              0.1111111111111111,
              "#46039f"
             ],
             [
              0.2222222222222222,
              "#7201a8"
             ],
             [
              0.3333333333333333,
              "#9c179e"
             ],
             [
              0.4444444444444444,
              "#bd3786"
             ],
             [
              0.5555555555555556,
              "#d8576b"
             ],
             [
              0.6666666666666666,
              "#ed7953"
             ],
             [
              0.7777777777777778,
              "#fb9f3a"
             ],
             [
              0.8888888888888888,
              "#fdca26"
             ],
             [
              1.0,
              "#f0f921"
             ]
            ]
           }
          ],
          "surface": [
           {
            "type": "surface",
            "colorbar": {
             "outlinewidth": 0,
             "ticks": ""
            },
            "colorscale": [
             [
              0.0,
              "#0d0887"
             ],
             [
              0.1111111111111111,
              "#46039f"
             ],
             [
              0.2222222222222222,
              "#7201a8"
             ],
             [
              0.3333333333333333,
              "#9c179e"
             ],
             [
              0.4444444444444444,
              "#bd3786"
             ],
             [
              0.5555555555555556,
              "#d8576b"
             ],
             [
              0.6666666666666666,
              "#ed7953"
             ],
             [
              0.7777777777777778,
              "#fb9f3a"
             ],
             [
              0.8888888888888888,
              "#fdca26"
             ],
             [
              1.0,
              "#f0f921"
             ]
            ]
           }
          ],
          "mesh3d": [
           {
            "type": "mesh3d",
            "colorbar": {
             "outlinewidth": 0,
             "ticks": ""
            }
           }
          ],
          "scatter": [
           {
            "fillpattern": {
             "fillmode": "overlay",
             "size": 10,
             "solidity": 0.2
            },
            "type": "scatter"
           }
          ],
          "parcoords": [
           {
            "type": "parcoords",
            "line": {
             "colorbar": {
              "outlinewidth": 0,
              "ticks": ""
             }
            }
           }
          ],
          "scatterpolargl": [
           {
            "type": "scatterpolargl",
            "marker": {
             "colorbar": {
              "outlinewidth": 0,
              "ticks": ""
             }
            }
           }
          ],
          "bar": [
           {
            "error_x": {
             "color": "#2a3f5f"
            },
            "error_y": {
             "color": "#2a3f5f"
            },
            "marker": {
             "line": {
              "color": "#E5ECF6",
              "width": 0.5
             },
             "pattern": {
              "fillmode": "overlay",
              "size": 10,
              "solidity": 0.2
             }
            },
            "type": "bar"
           }
          ],
          "scattergeo": [
           {
            "type": "scattergeo",
            "marker": {
             "colorbar": {
              "outlinewidth": 0,
              "ticks": ""
             }
            }
           }
          ],
          "scatterpolar": [
           {
            "type": "scatterpolar",
            "marker": {
             "colorbar": {
              "outlinewidth": 0,
              "ticks": ""
             }
            }
           }
          ],
          "histogram": [
           {
            "marker": {
             "pattern": {
              "fillmode": "overlay",
              "size": 10,
              "solidity": 0.2
             }
            },
            "type": "histogram"
           }
          ],
          "scattergl": [
           {
            "type": "scattergl",
            "marker": {
             "colorbar": {
              "outlinewidth": 0,
              "ticks": ""
             }
            }
           }
          ],
          "scatter3d": [
           {
            "type": "scatter3d",
            "line": {
             "colorbar": {
              "outlinewidth": 0,
              "ticks": ""
             }
            },
            "marker": {
             "colorbar": {
              "outlinewidth": 0,
              "ticks": ""
             }
            }
           }
          ],
          "scattermapbox": [
           {
            "type": "scattermapbox",
            "marker": {
             "colorbar": {
              "outlinewidth": 0,
              "ticks": ""
             }
            }
           }
          ],
          "scatterternary": [
           {
            "type": "scatterternary",
            "marker": {
             "colorbar": {
              "outlinewidth": 0,
              "ticks": ""
             }
            }
           }
          ],
          "scattercarpet": [
           {
            "type": "scattercarpet",
            "marker": {
             "colorbar": {
              "outlinewidth": 0,
              "ticks": ""
             }
            }
           }
          ],
          "carpet": [
           {
            "aaxis": {
             "endlinecolor": "#2a3f5f",
             "gridcolor": "white",
             "linecolor": "white",
             "minorgridcolor": "white",
             "startlinecolor": "#2a3f5f"
            },
            "baxis": {
             "endlinecolor": "#2a3f5f",
             "gridcolor": "white",
             "linecolor": "white",
             "minorgridcolor": "white",
             "startlinecolor": "#2a3f5f"
            },
            "type": "carpet"
           }
          ],
          "table": [
           {
            "cells": {
             "fill": {
              "color": "#EBF0F8"
             },
             "line": {
              "color": "white"
             }
            },
            "header": {
             "fill": {
              "color": "#C8D4E3"
             },
             "line": {
              "color": "white"
             }
            },
            "type": "table"
           }
          ],
          "barpolar": [
           {
            "marker": {
             "line": {
              "color": "#E5ECF6",
              "width": 0.5
             },
             "pattern": {
              "fillmode": "overlay",
              "size": 10,
              "solidity": 0.2
             }
            },
            "type": "barpolar"
           }
          ],
          "pie": [
           {
            "automargin": true,
            "type": "pie"
           }
          ]
         },
         "layout": {
          "autotypenumbers": "strict",
          "colorway": [
           "#636efa",
           "#EF553B",
           "#00cc96",
           "#ab63fa",
           "#FFA15A",
           "#19d3f3",
           "#FF6692",
           "#B6E880",
           "#FF97FF",
           "#FECB52"
          ],
          "font": {
           "color": "#2a3f5f"
          },
          "hovermode": "closest",
          "hoverlabel": {
           "align": "left"
          },
          "paper_bgcolor": "white",
          "plot_bgcolor": "#E5ECF6",
          "polar": {
           "bgcolor": "#E5ECF6",
           "angularaxis": {
            "gridcolor": "white",
            "linecolor": "white",
            "ticks": ""
           },
           "radialaxis": {
            "gridcolor": "white",
            "linecolor": "white",
            "ticks": ""
           }
          },
          "ternary": {
           "bgcolor": "#E5ECF6",
           "aaxis": {
            "gridcolor": "white",
            "linecolor": "white",
            "ticks": ""
           },
           "baxis": {
            "gridcolor": "white",
            "linecolor": "white",
            "ticks": ""
           },
           "caxis": {
            "gridcolor": "white",
            "linecolor": "white",
            "ticks": ""
           }
          },
          "coloraxis": {
           "colorbar": {
            "outlinewidth": 0,
            "ticks": ""
           }
          },
          "colorscale": {
           "sequential": [
            [
             0.0,
             "#0d0887"
            ],
            [
             0.1111111111111111,
             "#46039f"
            ],
            [
             0.2222222222222222,
             "#7201a8"
            ],
            [
             0.3333333333333333,
             "#9c179e"
            ],
            [
             0.4444444444444444,
             "#bd3786"
            ],
            [
             0.5555555555555556,
             "#d8576b"
            ],
            [
             0.6666666666666666,
             "#ed7953"
            ],
            [
             0.7777777777777778,
             "#fb9f3a"
            ],
            [
             0.8888888888888888,
             "#fdca26"
            ],
            [
             1.0,
             "#f0f921"
            ]
           ],
           "sequentialminus": [
            [
             0.0,
             "#0d0887"
            ],
            [
             0.1111111111111111,
             "#46039f"
            ],
            [
             0.2222222222222222,
             "#7201a8"
            ],
            [
             0.3333333333333333,
             "#9c179e"
            ],
            [
             0.4444444444444444,
             "#bd3786"
            ],
            [
             0.5555555555555556,
             "#d8576b"
            ],
            [
             0.6666666666666666,
             "#ed7953"
            ],
            [
             0.7777777777777778,
             "#fb9f3a"
            ],
            [
             0.8888888888888888,
             "#fdca26"
            ],
            [
             1.0,
             "#f0f921"
            ]
           ],
           "diverging": [
            [
             0,
             "#8e0152"
            ],
            [
             0.1,
             "#c51b7d"
            ],
            [
             0.2,
             "#de77ae"
            ],
            [
             0.3,
             "#f1b6da"
            ],
            [
             0.4,
             "#fde0ef"
            ],
            [
             0.5,
             "#f7f7f7"
            ],
            [
             0.6,
             "#e6f5d0"
            ],
            [
             0.7,
             "#b8e186"
            ],
            [
             0.8,
             "#7fbc41"
            ],
            [
             0.9,
             "#4d9221"
            ],
            [
             1,
             "#276419"
            ]
           ]
          },
          "xaxis": {
           "gridcolor": "white",
           "linecolor": "white",
           "ticks": "",
           "title": {
            "standoff": 15
           },
           "zerolinecolor": "white",
           "automargin": true,
           "zerolinewidth": 2
          },
          "yaxis": {
           "gridcolor": "white",
           "linecolor": "white",
           "ticks": "",
           "title": {
            "standoff": 15
           },
           "zerolinecolor": "white",
           "automargin": true,
           "zerolinewidth": 2
          },
          "scene": {
           "xaxis": {
            "backgroundcolor": "#E5ECF6",
            "gridcolor": "white",
            "linecolor": "white",
            "showbackground": true,
            "ticks": "",
            "zerolinecolor": "white",
            "gridwidth": 2
           },
           "yaxis": {
            "backgroundcolor": "#E5ECF6",
            "gridcolor": "white",
            "linecolor": "white",
            "showbackground": true,
            "ticks": "",
            "zerolinecolor": "white",
            "gridwidth": 2
           },
           "zaxis": {
            "backgroundcolor": "#E5ECF6",
            "gridcolor": "white",
            "linecolor": "white",
            "showbackground": true,
            "ticks": "",
            "zerolinecolor": "white",
            "gridwidth": 2
           }
          },
          "shapedefaults": {
           "line": {
            "color": "#2a3f5f"
           }
          },
          "annotationdefaults": {
           "arrowcolor": "#2a3f5f",
           "arrowhead": 0,
           "arrowwidth": 1
          },
          "geo": {
           "bgcolor": "white",
           "landcolor": "#E5ECF6",
           "subunitcolor": "white",
           "showland": true,
           "showlakes": true,
           "lakecolor": "white"
          },
          "title": {
           "x": 0.05
          },
          "mapbox": {
           "style": "light"
          }
         }
        },
        "xaxis": {
         "anchor": "y",
         "domain": [
          0.0,
          1.0
         ],
         "matches": "x2",
         "showticklabels": false
        },
        "yaxis": {
         "anchor": "x",
         "domain": [
          0.55,
          1.0
         ],
         "tickfont": {
          "size": 14
         },
         "showgrid": false,
         "zeroline": false,
         "showline": false
        },
        "xaxis2": {
         "anchor": "y2",
         "domain": [
          0.0,
          1.0
         ],
         "tickfont": {
          "size": 14
         },
         "showgrid": false,
         "tickangle": 0
        },
        "yaxis2": {
         "anchor": "x2",
         "domain": [
          0.0,
          0.45
         ],
         "tickfont": {
          "size": 14
         },
         "showgrid": false,
         "zeroline": false,
         "showline": false
        },
        "annotations": [
         {
          "font": {
           "size": 16
          },
          "showarrow": false,
          "text": "Fixation Onset",
          "x": 0.5,
          "xanchor": "center",
          "xref": "paper",
          "y": 1.0,
          "yanchor": "bottom",
          "yref": "paper"
         },
         {
          "font": {
           "size": 16
          },
          "showarrow": false,
          "text": "Fixation Offset",
          "x": 0.5,
          "xanchor": "center",
          "xref": "paper",
          "y": 0.45,
          "yanchor": "bottom",
          "yref": "paper"
         }
        ],
        "margin": {
         "l": 10,
         "r": 10,
         "b": 10,
         "t": 20,
         "pad": 0
        },
        "title": {},
        "width": 600,
        "height": 450,
        "paper_bgcolor": "rgba(0, 0, 0, 0)",
        "plot_bgcolor": "rgba(0, 0, 0, 0)"
       },
       "config": {
        "plotlyServerURL": "https://plot.ly"
       }
      },
      "text/html": [
       "<div>                            <div id=\"d3296559-0481-4261-b9a8-614068bc973a\" class=\"plotly-graph-div\" style=\"height:450px; width:600px;\"></div>            <script type=\"text/javascript\">                require([\"plotly\"], function(Plotly) {                    window.PLOTLYENV=window.PLOTLYENV || {};                                    if (document.getElementById(\"d3296559-0481-4261-b9a8-614068bc973a\")) {                    Plotly.newPlot(                        \"d3296559-0481-4261-b9a8-614068bc973a\",                        [{\"box\":{\"visible\":true},\"fillcolor\":\"#bab0ac\",\"legendgroup\":\"Other GT\",\"line\":{\"color\":\"black\"},\"meanline\":{\"visible\":true},\"name\":\"RA, Other GT\",\"opacity\":0.75,\"scalegroup\":\"d_prime\",\"showlegend\":false,\"side\":\"positive\",\"spanmode\":\"hard\",\"width\":0.8,\"x0\":\"Other GT\",\"xaxis\":\"x\",\"y\":[3.0567756111928372,3.5817824584180404,3.4159835304233654,2.357381272489394,3.200699666366021,3.353897246083096,3.1177379610495146,2.725540789220216,3.0053604873627897,2.780349566555217,2.5519909644300327,2.6894249764554257,3.18858968320364,3.8658810131945223],\"yaxis\":\"y\",\"type\":\"violin\"},{\"box\":{\"visible\":true},\"fillcolor\":\"#2E91E5\",\"legendgroup\":\"ivt\",\"line\":{\"color\":\"black\"},\"meanline\":{\"visible\":true},\"name\":\"RA, ivt\",\"opacity\":0.75,\"scalegroup\":\"d_prime\",\"showlegend\":false,\"side\":\"positive\",\"spanmode\":\"hard\",\"width\":0.8,\"x0\":\"ivt\",\"xaxis\":\"x\",\"y\":[2.1747085951129668,2.6143608923163395,4.078433696648515,2.148199106787624,1.2527544830947697,3.372964347755288,1.8029253638129163,2.9963750637684674,3.744779428486695,2.433845226377266,1.0327503684867034,1.5841203626135982,1.4212156954767394,1.360783035426807,1.642872009094081,1.6896038997297582,1.5854296573565831,1.6274552641258877,2.1500248610437454,1.0226059125590385],\"yaxis\":\"y\",\"type\":\"violin\"},{\"box\":{\"visible\":true},\"fillcolor\":\"#E15F99\",\"legendgroup\":\"ivvt\",\"line\":{\"color\":\"black\"},\"meanline\":{\"visible\":true},\"name\":\"RA, ivvt\",\"opacity\":0.75,\"scalegroup\":\"d_prime\",\"showlegend\":false,\"side\":\"positive\",\"spanmode\":\"hard\",\"width\":0.8,\"x0\":\"ivvt\",\"xaxis\":\"x\",\"y\":[3.0537937137582674,3.120810885729698,2.3735870879117784,3.242653362046542,3.2071944842789084,1.6602530377557696,1.5073845377400499,1.116195769440203,3.315538034573608,2.7346692343092434,2.5110316028530018,3.690295263600527,2.904671737268374,2.3283523309692074,2.3536632047841772,2.0512764113876902,2.8272964491999035,1.6780023262729227,2.4160478472285334,1.9270822639168963],\"yaxis\":\"y\",\"type\":\"violin\"},{\"box\":{\"visible\":true},\"fillcolor\":\"#1CA71C\",\"legendgroup\":\"idt\",\"line\":{\"color\":\"black\"},\"meanline\":{\"visible\":true},\"name\":\"RA, idt\",\"opacity\":0.75,\"scalegroup\":\"d_prime\",\"showlegend\":false,\"side\":\"positive\",\"spanmode\":\"hard\",\"width\":0.8,\"x0\":\"idt\",\"xaxis\":\"x\",\"y\":[-0.05156088702800665,1.8755341702937218,0.4348321224989218,0.020962714714781505,-0.10070025268081428,0.023511239490168423,0.5198044258228336,-1.0806858734715203,0.9500277766588175,-1.176206641842659,0.3013460575098834,-0.06855571287038442,-0.24528643391632365,-0.07268654217897619,0.022814037857845637,-0.22344726352875321,-0.23769490688804895,0.43667482528690926,-0.24528643391632365,-1.3455991502689377],\"yaxis\":\"y\",\"type\":\"violin\"},{\"box\":{\"visible\":true},\"fillcolor\":\"#FB0D0D\",\"legendgroup\":\"idvt\",\"line\":{\"color\":\"black\"},\"meanline\":{\"visible\":true},\"name\":\"RA, idvt\",\"opacity\":0.75,\"scalegroup\":\"d_prime\",\"showlegend\":false,\"side\":\"positive\",\"spanmode\":\"hard\",\"width\":0.8,\"x0\":\"idvt\",\"xaxis\":\"x\",\"y\":[-0.05156088702800665,1.8755341702937218,0.4348321224989218,0.020962714714781505,-0.10070025268081428,0.023511239490168423,0.5198044258228336,-1.0528364266488046,0.9500277766588175,-1.176206641842659,0.3013460575098834,-0.06855571287038442,-0.24528643391632365,-0.07268654217897619,0.022814037857845637,-0.1773060914114366,-0.19625123451310644,0.4957891912038679,-0.22174272234724857,-1.276343426996191],\"yaxis\":\"y\",\"type\":\"violin\"},{\"box\":{\"visible\":true},\"fillcolor\":\"#DA16FF\",\"legendgroup\":\"engbert\",\"line\":{\"color\":\"black\"},\"meanline\":{\"visible\":true},\"name\":\"RA, engbert\",\"opacity\":0.75,\"scalegroup\":\"d_prime\",\"showlegend\":false,\"side\":\"positive\",\"spanmode\":\"hard\",\"width\":0.8,\"x0\":\"engbert\",\"xaxis\":\"x\",\"y\":[3.997164499610903,4.8181294575005,3.029424181497933,3.501153542978641,3.7522485483392343,3.5384270446367676,2.116287557103349,2.932613783759587,3.646861560454929,4.11116478502508,2.878499483800676,3.1678131511463814,2.7310517322715686,2.236404285425549,3.150352877914421,2.0385022528440464,1.5854296573565831,1.4131677538669707,3.2113884285133825,2.416156134598274],\"yaxis\":\"y\",\"type\":\"violin\"},{\"box\":{\"visible\":true},\"fillcolor\":\"#222A2A\",\"legendgroup\":\"nh\",\"line\":{\"color\":\"black\"},\"meanline\":{\"visible\":true},\"name\":\"RA, nh\",\"opacity\":0.75,\"scalegroup\":\"d_prime\",\"showlegend\":false,\"side\":\"positive\",\"spanmode\":\"hard\",\"width\":0.8,\"x0\":\"nh\",\"xaxis\":\"x\",\"y\":[2.542822143302328,3.2518112592933517,0.9328567103555421,2.4029944677862347,2.7797111093368385,2.465043137998208,0.5954010782267636,1.8762061544309125,3.744779428486695,3.4774372656380104,2.605674564663064,2.480099481402406,1.8464241910234642,2.443718922487479,3.570406074860073,0.9185614028318028,0.06975852818063721,1.8149458097761437,0.2993285090688138,2.2407035282980354],\"yaxis\":\"y\",\"type\":\"violin\"},{\"box\":{\"visible\":true},\"fillcolor\":\"#B68100\",\"legendgroup\":\"remodnav\",\"line\":{\"color\":\"black\"},\"meanline\":{\"visible\":true},\"name\":\"RA, remodnav\",\"opacity\":0.75,\"scalegroup\":\"d_prime\",\"showlegend\":false,\"side\":\"positive\",\"spanmode\":\"hard\",\"width\":0.8,\"x0\":\"remodnav\",\"xaxis\":\"x\",\"y\":[1.7834566321922396,1.536413287414544,1.3681316479827053,1.8616370006338798,2.2219840389418604,1.2383907473881992,0.979172242203302,0.9802949188871031,0.8972946159770097,1.229205654556361,1.9968333656927313,1.531292423596961,1.4053771238766313,1.703927515568559,1.2462810973746286,1.8020125241068292,1.9058887390566865,1.1736939750442725,1.5381679075740258,1.1503977300041295],\"yaxis\":\"y\",\"type\":\"violin\"},{\"box\":{\"visible\":true},\"fillcolor\":\"#bab0ac\",\"legendgroup\":\"Other GT\",\"line\":{\"color\":\"black\"},\"meanline\":{\"visible\":true},\"name\":\"MN, Other GT\",\"opacity\":0.25,\"scalegroup\":\"d_prime\",\"showlegend\":false,\"side\":\"negative\",\"spanmode\":\"hard\",\"width\":0.8,\"x0\":\"Other GT\",\"xaxis\":\"x\",\"y\":[3.091123000459605,3.4081913872337393,3.2945669650718723,2.3073517068189,3.1690619662342248,3.3150722769627965,3.1177379610495146,2.725540789220216,3.0679250961990348,2.733152367843025,2.507736746565172,2.6288211074897583,3.2197320122635427,3.7597361191492307],\"yaxis\":\"y\",\"type\":\"violin\"},{\"box\":{\"visible\":true},\"fillcolor\":\"#2E91E5\",\"legendgroup\":\"ivt\",\"line\":{\"color\":\"black\"},\"meanline\":{\"visible\":true},\"name\":\"MN, ivt\",\"opacity\":0.25,\"scalegroup\":\"d_prime\",\"showlegend\":false,\"side\":\"negative\",\"spanmode\":\"hard\",\"width\":0.8,\"x0\":\"ivt\",\"xaxis\":\"x\",\"y\":[1.7465639976496237,2.4335840960494877,2.3847502127579583,1.650168056621698,1.409819393344206,1.975647985796717,2.025160071564665,1.6807499505522447,1.7387386242120977,2.32135441927185,2.152826519283019,2.008234514881136,2.0944455161680517,1.8714414951623688],\"yaxis\":\"y\",\"type\":\"violin\"},{\"box\":{\"visible\":true},\"fillcolor\":\"#E15F99\",\"legendgroup\":\"ivvt\",\"line\":{\"color\":\"black\"},\"meanline\":{\"visible\":true},\"name\":\"MN, ivvt\",\"opacity\":0.25,\"scalegroup\":\"d_prime\",\"showlegend\":false,\"side\":\"negative\",\"spanmode\":\"hard\",\"width\":0.8,\"x0\":\"ivvt\",\"xaxis\":\"x\",\"y\":[3.4775622995334645,3.280849238505067,1.8938386235183784,1.4287080740322238,2.862353978254591,3.7397105806840383,2.741404862618098,2.454714666252115,2.1630614703901045,2.1303877367746216,2.5505066984345097,1.110826267730398,2.123051241012207,2.241020115236657],\"yaxis\":\"y\",\"type\":\"violin\"},{\"box\":{\"visible\":true},\"fillcolor\":\"#1CA71C\",\"legendgroup\":\"idt\",\"line\":{\"color\":\"black\"},\"meanline\":{\"visible\":true},\"name\":\"MN, idt\",\"opacity\":0.25,\"scalegroup\":\"d_prime\",\"showlegend\":false,\"side\":\"negative\",\"spanmode\":\"hard\",\"width\":0.8,\"x0\":\"idt\",\"xaxis\":\"x\",\"y\":[-0.0338840778853855,1.7746720414227346,-0.027450405739186223,0.041275527818388724,0.5322789661042571,-0.08492013972727208,0.10304076662438266,-0.07268654217897619,0.061129186090608245,0.09577684343278214,-0.271231520439132,0.12954027461191808,-0.23098060243157792,-0.5838734806279315],\"yaxis\":\"y\",\"type\":\"violin\"},{\"box\":{\"visible\":true},\"fillcolor\":\"#FB0D0D\",\"legendgroup\":\"idvt\",\"line\":{\"color\":\"black\"},\"meanline\":{\"visible\":true},\"name\":\"MN, idvt\",\"opacity\":0.25,\"scalegroup\":\"d_prime\",\"showlegend\":false,\"side\":\"negative\",\"spanmode\":\"hard\",\"width\":0.8,\"x0\":\"idvt\",\"xaxis\":\"x\",\"y\":[-0.0338840778853855,1.7746720414227346,-0.027450405739186223,0.041275527818388724,0.5322789661042571,-0.08492013972727208,0.10304076662438266,-0.07268654217897619,0.061129186090608245,0.1438019524171672,-0.22974640753840947,0.1869558170283443,-0.20744814640829579,-0.5080180364977112],\"yaxis\":\"y\",\"type\":\"violin\"},{\"box\":{\"visible\":true},\"fillcolor\":\"#DA16FF\",\"legendgroup\":\"engbert\",\"line\":{\"color\":\"black\"},\"meanline\":{\"visible\":true},\"name\":\"MN, engbert\",\"opacity\":0.25,\"scalegroup\":\"d_prime\",\"showlegend\":false,\"side\":\"negative\",\"spanmode\":\"hard\",\"width\":0.8,\"x0\":\"engbert\",\"xaxis\":\"x\",\"y\":[3.5261786093366183,3.074122458384413,3.0585474698842803,1.7118975044914326,3.3163891695673327,4.18156534667701,3.0532325835419942,2.769657664682239,3.1657257065085505,2.358518800115836,2.3997243702853313,1.9251887970880794,2.6665394643583724,2.5967827016697838],\"yaxis\":\"y\",\"type\":\"violin\"},{\"box\":{\"visible\":true},\"fillcolor\":\"#222A2A\",\"legendgroup\":\"nh\",\"line\":{\"color\":\"black\"},\"meanline\":{\"visible\":true},\"name\":\"MN, nh\",\"opacity\":0.25,\"scalegroup\":\"d_prime\",\"showlegend\":false,\"side\":\"negative\",\"spanmode\":\"hard\",\"width\":0.8,\"x0\":\"nh\",\"xaxis\":\"x\",\"y\":[2.7798013155477705,2.393291084419631,2.778378010156553,0.8203567177435744,2.8270058208918334,3.7344972970435584,2.0563388485330085,2.443718922487479,3.448612787952462,1.9025605815882747,0.0365010396690153,1.7082094505249226,0.3134166881435796,2.4105937074558472],\"yaxis\":\"y\",\"type\":\"violin\"},{\"box\":{\"visible\":true},\"fillcolor\":\"#B68100\",\"legendgroup\":\"remodnav\",\"line\":{\"color\":\"black\"},\"meanline\":{\"visible\":true},\"name\":\"MN, remodnav\",\"opacity\":0.25,\"scalegroup\":\"d_prime\",\"showlegend\":false,\"side\":\"negative\",\"spanmode\":\"hard\",\"width\":0.8,\"x0\":\"remodnav\",\"xaxis\":\"x\",\"y\":[1.8151965330169004,1.4002371442333947,1.3509492090262274,1.310322183013565,1.9600867342503607,1.7250324406173139,1.4053771238766313,1.1520345117387865,1.5143580583657432,1.4300413109147279,1.8577801508813967,1.1183707375963778,1.7404156835979647,1.3298189220632723],\"yaxis\":\"y\",\"type\":\"violin\"},{\"box\":{\"visible\":true},\"fillcolor\":\"#bab0ac\",\"legendgroup\":\"Other GT\",\"line\":{\"color\":\"black\"},\"meanline\":{\"visible\":true},\"name\":\"RA, Other GT\",\"opacity\":0.75,\"scalegroup\":\"d_prime\",\"showlegend\":false,\"side\":\"positive\",\"spanmode\":\"hard\",\"width\":0.8,\"x0\":\"Other GT\",\"xaxis\":\"x2\",\"y\":[4.292082395037818,3.5817824584180404,5.206089514385839,5.202891196821563,4.456576357756554,5.457533834477091,5.697198192494998,4.6731780260258,3.995047787142853,5.310695028299185,4.257229661476684,3.3673010992312995,4.70809810195306,4.635091120582167],\"yaxis\":\"y2\",\"type\":\"violin\"},{\"box\":{\"visible\":true},\"fillcolor\":\"#2E91E5\",\"legendgroup\":\"ivt\",\"line\":{\"color\":\"black\"},\"meanline\":{\"visible\":true},\"name\":\"RA, ivt\",\"opacity\":0.75,\"scalegroup\":\"d_prime\",\"showlegend\":false,\"side\":\"positive\",\"spanmode\":\"hard\",\"width\":0.8,\"x0\":\"ivt\",\"xaxis\":\"x2\",\"y\":[3.598462333687599,3.8101787185716245,5.044256606536676,5.046467880803274,2.941111234719033,3.0125429729519704,4.433366900334038,4.772047156523903,3.744779428486695,2.6262570752464813,3.66355549212124,3.8967967620503354,4.48171851696588,3.5625779808709295,3.1338872029643987,4.600572212447136,4.798145766061109,2.210009148989086,5.115768896075884,3.2927923443287783],\"yaxis\":\"y2\",\"type\":\"violin\"},{\"box\":{\"visible\":true},\"fillcolor\":\"#E15F99\",\"legendgroup\":\"ivvt\",\"line\":{\"color\":\"black\"},\"meanline\":{\"visible\":true},\"name\":\"RA, ivvt\",\"opacity\":0.75,\"scalegroup\":\"d_prime\",\"showlegend\":false,\"side\":\"positive\",\"spanmode\":\"hard\",\"width\":0.8,\"x0\":\"ivvt\",\"xaxis\":\"x2\",\"y\":[3.9359716317412667,5.004494687671157,4.878634258227564,4.881141236650121,3.709570383255679,2.7264870785474384,2.6361854160352554,1.8181158832428599,4.072182356836911,2.995647763538704,4.599370309861141,3.690295263600527,4.655027498845756,4.930129828954507,3.742889269536774,3.3714436331725497,3.431034933183425,2.045007376162844,3.319990639923943,3.8658810131945223],\"yaxis\":\"y2\",\"type\":\"violin\"},{\"box\":{\"visible\":true},\"fillcolor\":\"#1CA71C\",\"legendgroup\":\"idt\",\"line\":{\"color\":\"black\"},\"meanline\":{\"visible\":true},\"name\":\"RA, idt\",\"opacity\":0.75,\"scalegroup\":\"d_prime\",\"showlegend\":false,\"side\":\"positive\",\"spanmode\":\"hard\",\"width\":0.8,\"x0\":\"idt\",\"xaxis\":\"x2\",\"y\":[2.7771030722287975,2.419883770174126,2.7215858369215677,2.7275482515187717,2.9461691202748734,2.4090484489505277,2.664606369484214,2.1747182694310174,2.1355794693748744,2.20102983406775,2.848599096247495,2.305298054473544,2.597516808515491,2.330507732225328,1.739893339576734,2.3133131842874386,1.5365283589800232,1.4279788280931272,2.115047195593971,1.8523939866717416],\"yaxis\":\"y2\",\"type\":\"violin\"},{\"box\":{\"visible\":true},\"fillcolor\":\"#FB0D0D\",\"legendgroup\":\"idvt\",\"line\":{\"color\":\"black\"},\"meanline\":{\"visible\":true},\"name\":\"RA, idvt\",\"opacity\":0.75,\"scalegroup\":\"d_prime\",\"showlegend\":false,\"side\":\"positive\",\"spanmode\":\"hard\",\"width\":0.8,\"x0\":\"idvt\",\"xaxis\":\"x2\",\"y\":[2.7771030722287975,2.419883770174126,2.7215858369215677,2.7275482515187717,2.9461691202748734,2.4090484489505277,2.664606369484214,2.2286018262706864,2.1355794693748744,2.20102983406775,2.848599096247495,2.305298054473544,2.597516808515491,2.330507732225328,1.739893339576734,2.4684373970258755,1.6006216135205666,1.5011892192494596,2.185898917748096,2.1355794693748744],\"yaxis\":\"y2\",\"type\":\"violin\"},{\"box\":{\"visible\":true},\"fillcolor\":\"#DA16FF\",\"legendgroup\":\"engbert\",\"line\":{\"color\":\"black\"},\"meanline\":{\"visible\":true},\"name\":\"RA, engbert\",\"opacity\":0.75,\"scalegroup\":\"d_prime\",\"showlegend\":false,\"side\":\"positive\",\"spanmode\":\"hard\",\"width\":0.8,\"x0\":\"engbert\",\"xaxis\":\"x2\",\"y\":[5.04880515428356,4.8181294575005,5.044256606536676,4.881141236650121,4.1125883937125876,4.604536965543675,3.2958562347369083,4.704143198451235,4.408799948834797,4.11116478502508,3.5163398368851224,4.08288085698705,4.833858199058817,4.984691215062179,3.4850577987413622,4.50014993881449,4.798145766061109,2.907451552081244,4.078348429735674,4.635091120582167],\"yaxis\":\"y2\",\"type\":\"violin\"},{\"box\":{\"visible\":true},\"fillcolor\":\"#222A2A\",\"legendgroup\":\"nh\",\"line\":{\"color\":\"black\"},\"meanline\":{\"visible\":true},\"name\":\"RA, nh\",\"opacity\":0.75,\"scalegroup\":\"d_prime\",\"showlegend\":false,\"side\":\"positive\",\"spanmode\":\"hard\",\"width\":0.8,\"x0\":\"nh\",\"xaxis\":\"x2\",\"y\":[1.872690679923099,2.153389319627997,1.3002412720694625,1.8163502548880792,1.434296542194852,1.9001189461091592,1.11124890253243,1.4848577456263052,3.0030993347168877,3.925826176223258,1.7748205399462205,1.7348478389138664,1.950139350350137,1.7354692377567866,3.16758221351303,1.8644167915986278,0.7034945071908316,1.9601539608017602,0.6949637201945702,2.828803066751708],\"yaxis\":\"y2\",\"type\":\"violin\"},{\"box\":{\"visible\":true},\"fillcolor\":\"#B68100\",\"legendgroup\":\"remodnav\",\"line\":{\"color\":\"black\"},\"meanline\":{\"visible\":true},\"name\":\"RA, remodnav\",\"opacity\":0.75,\"scalegroup\":\"d_prime\",\"showlegend\":false,\"side\":\"positive\",\"spanmode\":\"hard\",\"width\":0.8,\"x0\":\"remodnav\",\"xaxis\":\"x2\",\"y\":[1.0115438679670075,-0.9840349347112989,1.3681316479827053,1.8616370006338798,1.6552416704919801,1.4306335077896288,1.1808041342393714,0.9802949188871031,0.8972946159770097,0.6431567083371401,1.5014777430301072,1.1038351848123282,1.0978274588589914,1.2931760154966527,0.6769409227633206,1.1627264136117643,0.8840125233008753,-0.8082165041488065,1.3680463810698633,1.1503977300041295],\"yaxis\":\"y2\",\"type\":\"violin\"},{\"box\":{\"visible\":true},\"fillcolor\":\"#bab0ac\",\"legendgroup\":\"Other GT\",\"line\":{\"color\":\"black\"},\"meanline\":{\"visible\":true},\"name\":\"MN, Other GT\",\"opacity\":0.25,\"scalegroup\":\"d_prime\",\"showlegend\":false,\"side\":\"negative\",\"spanmode\":\"hard\",\"width\":0.8,\"x0\":\"Other GT\",\"xaxis\":\"x2\",\"y\":[4.384052534228393,3.4081913872337393,4.120205573960279,4.204765964622515,4.372766581702104,4.65558077174744,5.697198192494998,4.6731780260258,4.637349918731111,4.382497398569187,4.1067532825276984,3.2702205409246483,5.455855961072322,4.01133890333611],\"yaxis\":\"y2\",\"type\":\"violin\"},{\"box\":{\"visible\":true},\"fillcolor\":\"#2E91E5\",\"legendgroup\":\"ivt\",\"line\":{\"color\":\"black\"},\"meanline\":{\"visible\":true},\"name\":\"MN, ivt\",\"opacity\":0.25,\"scalegroup\":\"d_prime\",\"showlegend\":false,\"side\":\"negative\",\"spanmode\":\"hard\",\"width\":0.8,\"x0\":\"ivt\",\"xaxis\":\"x2\",\"y\":[4.9879576276319,3.4117817377007684,3.1272852870273686,4.495751226011275,3.739481150774764,4.985511457908569,5.455432653522195,3.8646989975896355,3.300586102137085,4.656201916707713,3.862252537459476,2.479955967814257,5.044897924138058,3.6382189552977313],\"yaxis\":\"y2\",\"type\":\"violin\"},{\"box\":{\"visible\":true},\"fillcolor\":\"#E15F99\",\"legendgroup\":\"ivvt\",\"line\":{\"color\":\"black\"},\"meanline\":{\"visible\":true},\"name\":\"MN, ivvt\",\"opacity\":0.25,\"scalegroup\":\"d_prime\",\"showlegend\":false,\"side\":\"negative\",\"spanmode\":\"hard\",\"width\":0.8,\"x0\":\"ivvt\",\"xaxis\":\"x2\",\"y\":[4.933526615950846,5.064598297933814,2.7973341154539773,2.710263715312095,3.6500868309118095,4.758727318467859,4.655027498845756,4.930129828954507,4.271539536413053,3.435794599875253,4.524283052923979,1.9216537431954492,4.2674618970530975,4.312099189420545],\"yaxis\":\"y2\",\"type\":\"violin\"},{\"box\":{\"visible\":true},\"fillcolor\":\"#1CA71C\",\"legendgroup\":\"idt\",\"line\":{\"color\":\"black\"},\"meanline\":{\"visible\":true},\"name\":\"MN, idt\",\"opacity\":0.25,\"scalegroup\":\"d_prime\",\"showlegend\":false,\"side\":\"negative\",\"spanmode\":\"hard\",\"width\":0.8,\"x0\":\"idt\",\"xaxis\":\"x2\",\"y\":[2.832116166881936,2.2854164547942215,2.2850517267108525,2.5233161349327586,2.1813209722712257,2.095437111470407,2.4179043449250215,2.865022246090037,1.7914161677481388,2.5361336419702476,1.5840506197378494,2.131482270103373,2.2985924489271214,2.22012086483462],\"yaxis\":\"y2\",\"type\":\"violin\"},{\"box\":{\"visible\":true},\"fillcolor\":\"#FB0D0D\",\"legendgroup\":\"idvt\",\"line\":{\"color\":\"black\"},\"meanline\":{\"visible\":true},\"name\":\"MN, idvt\",\"opacity\":0.25,\"scalegroup\":\"d_prime\",\"showlegend\":false,\"side\":\"negative\",\"spanmode\":\"hard\",\"width\":0.8,\"x0\":\"idvt\",\"xaxis\":\"x2\",\"y\":[2.832116166881936,2.2854164547942215,2.2850517267108525,2.5233161349327586,2.1813209722712257,2.095437111470407,2.4179043449250215,2.865022246090037,1.7914161677481388,2.784153959159256,1.6522613011727554,2.230571934823293,2.382989381411484,2.5458281913868537],\"yaxis\":\"y2\",\"type\":\"violin\"},{\"box\":{\"visible\":true},\"fillcolor\":\"#DA16FF\",\"legendgroup\":\"engbert\",\"line\":{\"color\":\"black\"},\"meanline\":{\"visible\":true},\"name\":\"MN, engbert\",\"opacity\":0.25,\"scalegroup\":\"d_prime\",\"showlegend\":false,\"side\":\"negative\",\"spanmode\":\"hard\",\"width\":0.8,\"x0\":\"engbert\",\"xaxis\":\"x2\",\"y\":[4.9879576276319,4.857649126569571,3.671504934048097,3.3833344209089278,3.5752569627972504,5.2040916260010235,4.833858199058817,4.984691215062179,4.014128000366189,3.5698664150483514,4.881718784250532,3.364728352799519,4.983043373845592,5.091656382773704],\"yaxis\":\"y2\",\"type\":\"violin\"},{\"box\":{\"visible\":true},\"fillcolor\":\"#222A2A\",\"legendgroup\":\"nh\",\"line\":{\"color\":\"black\"},\"meanline\":{\"visible\":true},\"name\":\"MN, nh\",\"opacity\":0.25,\"scalegroup\":\"d_prime\",\"showlegend\":false,\"side\":\"negative\",\"spanmode\":\"hard\",\"width\":0.8,\"x0\":\"nh\",\"xaxis\":\"x2\",\"y\":[2.0485871562448477,1.972485339265414,2.028516961760932,1.2757332412619122,2.0585087083693683,2.0384997883341103,1.950139350350137,1.6263086530701119,3.448612787952462,1.9025605815882747,0.6617813660544114,1.436881853080141,0.7108981969602501,3.047152014673917],\"yaxis\":\"y2\",\"type\":\"violin\"},{\"box\":{\"visible\":true},\"fillcolor\":\"#B68100\",\"legendgroup\":\"remodnav\",\"line\":{\"color\":\"black\"},\"meanline\":{\"visible\":true},\"name\":\"MN, remodnav\",\"opacity\":0.25,\"scalegroup\":\"d_prime\",\"showlegend\":false,\"side\":\"negative\",\"spanmode\":\"hard\",\"width\":0.8,\"x0\":\"remodnav\",\"xaxis\":\"x2\",\"y\":[1.035666221545847,-0.9849578379344663,1.3509492090262274,1.1204141171811213,1.5917000757748703,1.2959095501568116,1.0978274588589914,1.2931760154966527,0.7321988364201927,1.1171834278022734,0.8464047803706747,-0.8099411550362183,1.390692487902996,1.0947591644642172],\"yaxis\":\"y2\",\"type\":\"violin\"}],                        {\"template\":{\"data\":{\"histogram2dcontour\":[{\"type\":\"histogram2dcontour\",\"colorbar\":{\"outlinewidth\":0,\"ticks\":\"\"},\"colorscale\":[[0.0,\"#0d0887\"],[0.1111111111111111,\"#46039f\"],[0.2222222222222222,\"#7201a8\"],[0.3333333333333333,\"#9c179e\"],[0.4444444444444444,\"#bd3786\"],[0.5555555555555556,\"#d8576b\"],[0.6666666666666666,\"#ed7953\"],[0.7777777777777778,\"#fb9f3a\"],[0.8888888888888888,\"#fdca26\"],[1.0,\"#f0f921\"]]}],\"choropleth\":[{\"type\":\"choropleth\",\"colorbar\":{\"outlinewidth\":0,\"ticks\":\"\"}}],\"histogram2d\":[{\"type\":\"histogram2d\",\"colorbar\":{\"outlinewidth\":0,\"ticks\":\"\"},\"colorscale\":[[0.0,\"#0d0887\"],[0.1111111111111111,\"#46039f\"],[0.2222222222222222,\"#7201a8\"],[0.3333333333333333,\"#9c179e\"],[0.4444444444444444,\"#bd3786\"],[0.5555555555555556,\"#d8576b\"],[0.6666666666666666,\"#ed7953\"],[0.7777777777777778,\"#fb9f3a\"],[0.8888888888888888,\"#fdca26\"],[1.0,\"#f0f921\"]]}],\"heatmap\":[{\"type\":\"heatmap\",\"colorbar\":{\"outlinewidth\":0,\"ticks\":\"\"},\"colorscale\":[[0.0,\"#0d0887\"],[0.1111111111111111,\"#46039f\"],[0.2222222222222222,\"#7201a8\"],[0.3333333333333333,\"#9c179e\"],[0.4444444444444444,\"#bd3786\"],[0.5555555555555556,\"#d8576b\"],[0.6666666666666666,\"#ed7953\"],[0.7777777777777778,\"#fb9f3a\"],[0.8888888888888888,\"#fdca26\"],[1.0,\"#f0f921\"]]}],\"heatmapgl\":[{\"type\":\"heatmapgl\",\"colorbar\":{\"outlinewidth\":0,\"ticks\":\"\"},\"colorscale\":[[0.0,\"#0d0887\"],[0.1111111111111111,\"#46039f\"],[0.2222222222222222,\"#7201a8\"],[0.3333333333333333,\"#9c179e\"],[0.4444444444444444,\"#bd3786\"],[0.5555555555555556,\"#d8576b\"],[0.6666666666666666,\"#ed7953\"],[0.7777777777777778,\"#fb9f3a\"],[0.8888888888888888,\"#fdca26\"],[1.0,\"#f0f921\"]]}],\"contourcarpet\":[{\"type\":\"contourcarpet\",\"colorbar\":{\"outlinewidth\":0,\"ticks\":\"\"}}],\"contour\":[{\"type\":\"contour\",\"colorbar\":{\"outlinewidth\":0,\"ticks\":\"\"},\"colorscale\":[[0.0,\"#0d0887\"],[0.1111111111111111,\"#46039f\"],[0.2222222222222222,\"#7201a8\"],[0.3333333333333333,\"#9c179e\"],[0.4444444444444444,\"#bd3786\"],[0.5555555555555556,\"#d8576b\"],[0.6666666666666666,\"#ed7953\"],[0.7777777777777778,\"#fb9f3a\"],[0.8888888888888888,\"#fdca26\"],[1.0,\"#f0f921\"]]}],\"surface\":[{\"type\":\"surface\",\"colorbar\":{\"outlinewidth\":0,\"ticks\":\"\"},\"colorscale\":[[0.0,\"#0d0887\"],[0.1111111111111111,\"#46039f\"],[0.2222222222222222,\"#7201a8\"],[0.3333333333333333,\"#9c179e\"],[0.4444444444444444,\"#bd3786\"],[0.5555555555555556,\"#d8576b\"],[0.6666666666666666,\"#ed7953\"],[0.7777777777777778,\"#fb9f3a\"],[0.8888888888888888,\"#fdca26\"],[1.0,\"#f0f921\"]]}],\"mesh3d\":[{\"type\":\"mesh3d\",\"colorbar\":{\"outlinewidth\":0,\"ticks\":\"\"}}],\"scatter\":[{\"fillpattern\":{\"fillmode\":\"overlay\",\"size\":10,\"solidity\":0.2},\"type\":\"scatter\"}],\"parcoords\":[{\"type\":\"parcoords\",\"line\":{\"colorbar\":{\"outlinewidth\":0,\"ticks\":\"\"}}}],\"scatterpolargl\":[{\"type\":\"scatterpolargl\",\"marker\":{\"colorbar\":{\"outlinewidth\":0,\"ticks\":\"\"}}}],\"bar\":[{\"error_x\":{\"color\":\"#2a3f5f\"},\"error_y\":{\"color\":\"#2a3f5f\"},\"marker\":{\"line\":{\"color\":\"#E5ECF6\",\"width\":0.5},\"pattern\":{\"fillmode\":\"overlay\",\"size\":10,\"solidity\":0.2}},\"type\":\"bar\"}],\"scattergeo\":[{\"type\":\"scattergeo\",\"marker\":{\"colorbar\":{\"outlinewidth\":0,\"ticks\":\"\"}}}],\"scatterpolar\":[{\"type\":\"scatterpolar\",\"marker\":{\"colorbar\":{\"outlinewidth\":0,\"ticks\":\"\"}}}],\"histogram\":[{\"marker\":{\"pattern\":{\"fillmode\":\"overlay\",\"size\":10,\"solidity\":0.2}},\"type\":\"histogram\"}],\"scattergl\":[{\"type\":\"scattergl\",\"marker\":{\"colorbar\":{\"outlinewidth\":0,\"ticks\":\"\"}}}],\"scatter3d\":[{\"type\":\"scatter3d\",\"line\":{\"colorbar\":{\"outlinewidth\":0,\"ticks\":\"\"}},\"marker\":{\"colorbar\":{\"outlinewidth\":0,\"ticks\":\"\"}}}],\"scattermapbox\":[{\"type\":\"scattermapbox\",\"marker\":{\"colorbar\":{\"outlinewidth\":0,\"ticks\":\"\"}}}],\"scatterternary\":[{\"type\":\"scatterternary\",\"marker\":{\"colorbar\":{\"outlinewidth\":0,\"ticks\":\"\"}}}],\"scattercarpet\":[{\"type\":\"scattercarpet\",\"marker\":{\"colorbar\":{\"outlinewidth\":0,\"ticks\":\"\"}}}],\"carpet\":[{\"aaxis\":{\"endlinecolor\":\"#2a3f5f\",\"gridcolor\":\"white\",\"linecolor\":\"white\",\"minorgridcolor\":\"white\",\"startlinecolor\":\"#2a3f5f\"},\"baxis\":{\"endlinecolor\":\"#2a3f5f\",\"gridcolor\":\"white\",\"linecolor\":\"white\",\"minorgridcolor\":\"white\",\"startlinecolor\":\"#2a3f5f\"},\"type\":\"carpet\"}],\"table\":[{\"cells\":{\"fill\":{\"color\":\"#EBF0F8\"},\"line\":{\"color\":\"white\"}},\"header\":{\"fill\":{\"color\":\"#C8D4E3\"},\"line\":{\"color\":\"white\"}},\"type\":\"table\"}],\"barpolar\":[{\"marker\":{\"line\":{\"color\":\"#E5ECF6\",\"width\":0.5},\"pattern\":{\"fillmode\":\"overlay\",\"size\":10,\"solidity\":0.2}},\"type\":\"barpolar\"}],\"pie\":[{\"automargin\":true,\"type\":\"pie\"}]},\"layout\":{\"autotypenumbers\":\"strict\",\"colorway\":[\"#636efa\",\"#EF553B\",\"#00cc96\",\"#ab63fa\",\"#FFA15A\",\"#19d3f3\",\"#FF6692\",\"#B6E880\",\"#FF97FF\",\"#FECB52\"],\"font\":{\"color\":\"#2a3f5f\"},\"hovermode\":\"closest\",\"hoverlabel\":{\"align\":\"left\"},\"paper_bgcolor\":\"white\",\"plot_bgcolor\":\"#E5ECF6\",\"polar\":{\"bgcolor\":\"#E5ECF6\",\"angularaxis\":{\"gridcolor\":\"white\",\"linecolor\":\"white\",\"ticks\":\"\"},\"radialaxis\":{\"gridcolor\":\"white\",\"linecolor\":\"white\",\"ticks\":\"\"}},\"ternary\":{\"bgcolor\":\"#E5ECF6\",\"aaxis\":{\"gridcolor\":\"white\",\"linecolor\":\"white\",\"ticks\":\"\"},\"baxis\":{\"gridcolor\":\"white\",\"linecolor\":\"white\",\"ticks\":\"\"},\"caxis\":{\"gridcolor\":\"white\",\"linecolor\":\"white\",\"ticks\":\"\"}},\"coloraxis\":{\"colorbar\":{\"outlinewidth\":0,\"ticks\":\"\"}},\"colorscale\":{\"sequential\":[[0.0,\"#0d0887\"],[0.1111111111111111,\"#46039f\"],[0.2222222222222222,\"#7201a8\"],[0.3333333333333333,\"#9c179e\"],[0.4444444444444444,\"#bd3786\"],[0.5555555555555556,\"#d8576b\"],[0.6666666666666666,\"#ed7953\"],[0.7777777777777778,\"#fb9f3a\"],[0.8888888888888888,\"#fdca26\"],[1.0,\"#f0f921\"]],\"sequentialminus\":[[0.0,\"#0d0887\"],[0.1111111111111111,\"#46039f\"],[0.2222222222222222,\"#7201a8\"],[0.3333333333333333,\"#9c179e\"],[0.4444444444444444,\"#bd3786\"],[0.5555555555555556,\"#d8576b\"],[0.6666666666666666,\"#ed7953\"],[0.7777777777777778,\"#fb9f3a\"],[0.8888888888888888,\"#fdca26\"],[1.0,\"#f0f921\"]],\"diverging\":[[0,\"#8e0152\"],[0.1,\"#c51b7d\"],[0.2,\"#de77ae\"],[0.3,\"#f1b6da\"],[0.4,\"#fde0ef\"],[0.5,\"#f7f7f7\"],[0.6,\"#e6f5d0\"],[0.7,\"#b8e186\"],[0.8,\"#7fbc41\"],[0.9,\"#4d9221\"],[1,\"#276419\"]]},\"xaxis\":{\"gridcolor\":\"white\",\"linecolor\":\"white\",\"ticks\":\"\",\"title\":{\"standoff\":15},\"zerolinecolor\":\"white\",\"automargin\":true,\"zerolinewidth\":2},\"yaxis\":{\"gridcolor\":\"white\",\"linecolor\":\"white\",\"ticks\":\"\",\"title\":{\"standoff\":15},\"zerolinecolor\":\"white\",\"automargin\":true,\"zerolinewidth\":2},\"scene\":{\"xaxis\":{\"backgroundcolor\":\"#E5ECF6\",\"gridcolor\":\"white\",\"linecolor\":\"white\",\"showbackground\":true,\"ticks\":\"\",\"zerolinecolor\":\"white\",\"gridwidth\":2},\"yaxis\":{\"backgroundcolor\":\"#E5ECF6\",\"gridcolor\":\"white\",\"linecolor\":\"white\",\"showbackground\":true,\"ticks\":\"\",\"zerolinecolor\":\"white\",\"gridwidth\":2},\"zaxis\":{\"backgroundcolor\":\"#E5ECF6\",\"gridcolor\":\"white\",\"linecolor\":\"white\",\"showbackground\":true,\"ticks\":\"\",\"zerolinecolor\":\"white\",\"gridwidth\":2}},\"shapedefaults\":{\"line\":{\"color\":\"#2a3f5f\"}},\"annotationdefaults\":{\"arrowcolor\":\"#2a3f5f\",\"arrowhead\":0,\"arrowwidth\":1},\"geo\":{\"bgcolor\":\"white\",\"landcolor\":\"#E5ECF6\",\"subunitcolor\":\"white\",\"showland\":true,\"showlakes\":true,\"lakecolor\":\"white\"},\"title\":{\"x\":0.05},\"mapbox\":{\"style\":\"light\"}}},\"xaxis\":{\"anchor\":\"y\",\"domain\":[0.0,1.0],\"matches\":\"x2\",\"showticklabels\":false},\"yaxis\":{\"anchor\":\"x\",\"domain\":[0.55,1.0],\"tickfont\":{\"size\":14},\"showgrid\":false,\"zeroline\":false,\"showline\":false},\"xaxis2\":{\"anchor\":\"y2\",\"domain\":[0.0,1.0],\"tickfont\":{\"size\":14},\"showgrid\":false,\"tickangle\":0},\"yaxis2\":{\"anchor\":\"x2\",\"domain\":[0.0,0.45],\"tickfont\":{\"size\":14},\"showgrid\":false,\"zeroline\":false,\"showline\":false},\"annotations\":[{\"font\":{\"size\":16},\"showarrow\":false,\"text\":\"Fixation Onset\",\"x\":0.5,\"xanchor\":\"center\",\"xref\":\"paper\",\"y\":1.0,\"yanchor\":\"bottom\",\"yref\":\"paper\"},{\"font\":{\"size\":16},\"showarrow\":false,\"text\":\"Fixation Offset\",\"x\":0.5,\"xanchor\":\"center\",\"xref\":\"paper\",\"y\":0.45,\"yanchor\":\"bottom\",\"yref\":\"paper\"}],\"margin\":{\"l\":10,\"r\":10,\"b\":10,\"t\":20,\"pad\":0},\"title\":{},\"width\":600,\"height\":450,\"paper_bgcolor\":\"rgba(0, 0, 0, 0)\",\"plot_bgcolor\":\"rgba(0, 0, 0, 0)\"},                        {\"responsive\": true}                    ).then(function(){\n",
       "                            \n",
       "var gd = document.getElementById('d3296559-0481-4261-b9a8-614068bc973a');\n",
       "var x = new MutationObserver(function (mutations, observer) {{\n",
       "        var display = window.getComputedStyle(gd).display;\n",
       "        if (!display || display === 'none') {{\n",
       "            console.log([gd, 'removed!']);\n",
       "            Plotly.purge(gd);\n",
       "            observer.disconnect();\n",
       "        }}\n",
       "}});\n",
       "\n",
       "// Listen for the removal of the full notebook cells\n",
       "var notebookContainer = gd.closest('#notebook-container');\n",
       "if (notebookContainer) {{\n",
       "    x.observe(notebookContainer, {childList: true});\n",
       "}}\n",
       "\n",
       "// Listen for the clearing of the current output cell\n",
       "var outputEl = gd.closest('.output');\n",
       "if (outputEl) {{\n",
       "    x.observe(outputEl, {childList: true});\n",
       "}}\n",
       "\n",
       "                        })                };                });            </script>        </div>"
      ]
     },
     "metadata": {},
     "output_type": "display_data"
    }
   ],
   "execution_count": 42
  }
 ],
 "metadata": {
  "kernelspec": {
   "display_name": "Python 3",
   "language": "python",
   "name": "python3"
  },
  "language_info": {
   "codemirror_mode": {
    "name": "ipython",
    "version": 2
   },
   "file_extension": ".py",
   "mimetype": "text/x-python",
   "name": "python",
   "nbconvert_exporter": "python",
   "pygments_lexer": "ipython2",
   "version": "2.7.6"
  }
 },
 "nbformat": 4,
 "nbformat_minor": 5
}
