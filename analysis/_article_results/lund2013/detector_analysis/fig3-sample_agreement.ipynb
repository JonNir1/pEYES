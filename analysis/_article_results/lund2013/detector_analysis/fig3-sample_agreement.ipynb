{
 "cells": [
  {
   "metadata": {},
   "cell_type": "markdown",
   "source": [
    "# Results p. 1\n",
    "## Sample-by-Sample Evaluation "
   ],
   "id": "8c084c6c2d5df24e"
  },
  {
   "metadata": {
    "ExecuteTime": {
     "end_time": "2025-01-08T09:50:23.195359Z",
     "start_time": "2025-01-08T09:50:23.182823Z"
    }
   },
   "cell_type": "code",
   "source": [
    "import pandas as pd\n",
    "\n",
    "from analysis._article_results.lund2013._helpers import *\n",
    "import analysis.statistics.sample_metrics as sm\n",
    "\n",
    "# pio.renderers.default = \"browser\"\n",
    "FIG_ID, IS_SUPP = 3, False"
   ],
   "id": "e1229dea71974bf3",
   "outputs": [],
   "execution_count": 12
  },
  {
   "metadata": {},
   "cell_type": "markdown",
   "source": "### Load Data",
   "id": "ab95707485440674"
  },
  {
   "metadata": {
    "ExecuteTime": {
     "end_time": "2025-01-08T09:45:52.550884Z",
     "start_time": "2025-01-08T09:45:52.180579Z"
    }
   },
   "cell_type": "code",
   "source": [
    "global_measures = sm.load_global_metrics(DATASET_NAME, PROCESSED_DATA_DIR, stimulus_type=STIMULUS_TYPE, metric=None, iteration=1)\n",
    "global_measures.drop(index=[peyes.constants.ACCURACY_STR, peyes.constants.BALANCED_ACCURACY_STR], inplace=True)    # Drop Acc+Balanced-Acc metrics"
   ],
   "id": "4b609a1984f38374",
   "outputs": [],
   "execution_count": 2
  },
  {
   "metadata": {},
   "cell_type": "markdown",
   "source": [
    "### Sample-by-Sample Comparison\n",
    "Evaluate performance on the sample-by-sample level using metrics for all labels together:\n",
    "- Cohen's $\\kappa$\n",
    "- MCC\n",
    "- $1-NLD$ "
   ],
   "id": "bc7e04e116c7dec1"
  },
  {
   "metadata": {
    "ExecuteTime": {
     "end_time": "2025-01-08T09:45:52.662916Z",
     "start_time": "2025-01-08T09:45:52.630746Z"
    }
   },
   "cell_type": "code",
   "source": [
    "global_stats, global_pvalues, global_nemenyi, sm_global_Ns = sm.friedman_nemenyi(global_measures, [GT1, GT2])\n",
    "\n",
    "global_pvalues <= ALPHA"
   ],
   "id": "3e9623017e533e7c",
   "outputs": [
    {
     "data": {
      "text/plain": [
       "gt                MN    RA\n",
       "metric                    \n",
       "cohen's_kappa   True  True\n",
       "complement_nld  True  True\n",
       "mcc             True  True"
      ],
      "text/html": [
       "<div>\n",
       "<style scoped>\n",
       "    .dataframe tbody tr th:only-of-type {\n",
       "        vertical-align: middle;\n",
       "    }\n",
       "\n",
       "    .dataframe tbody tr th {\n",
       "        vertical-align: top;\n",
       "    }\n",
       "\n",
       "    .dataframe thead th {\n",
       "        text-align: right;\n",
       "    }\n",
       "</style>\n",
       "<table border=\"1\" class=\"dataframe\">\n",
       "  <thead>\n",
       "    <tr style=\"text-align: right;\">\n",
       "      <th>gt</th>\n",
       "      <th>MN</th>\n",
       "      <th>RA</th>\n",
       "    </tr>\n",
       "    <tr>\n",
       "      <th>metric</th>\n",
       "      <th></th>\n",
       "      <th></th>\n",
       "    </tr>\n",
       "  </thead>\n",
       "  <tbody>\n",
       "    <tr>\n",
       "      <th>cohen's_kappa</th>\n",
       "      <td>True</td>\n",
       "      <td>True</td>\n",
       "    </tr>\n",
       "    <tr>\n",
       "      <th>complement_nld</th>\n",
       "      <td>True</td>\n",
       "      <td>True</td>\n",
       "    </tr>\n",
       "    <tr>\n",
       "      <th>mcc</th>\n",
       "      <td>True</td>\n",
       "      <td>True</td>\n",
       "    </tr>\n",
       "  </tbody>\n",
       "</table>\n",
       "</div>"
      ]
     },
     "execution_count": 3,
     "metadata": {},
     "output_type": "execute_result"
    }
   ],
   "execution_count": 3
  },
  {
   "metadata": {
    "ExecuteTime": {
     "end_time": "2025-01-09T14:01:14.595209Z",
     "start_time": "2025-01-09T14:01:14.587021Z"
    }
   },
   "cell_type": "code",
   "source": "pd.concat([global_stats, global_pvalues], axis=1, keys=['Q', 'p']).stack(1, future_stack=True)",
   "id": "aeac7258e5a6467",
   "outputs": [
    {
     "data": {
      "text/plain": [
       "                           Q             p\n",
       "metric         gt                         \n",
       "cohen's_kappa  MN  69.569231  5.011125e-13\n",
       "               RA  95.596413  2.077126e-18\n",
       "complement_nld MN  60.562259  3.459800e-11\n",
       "               RA  95.929919  1.770128e-18\n",
       "mcc            MN  70.184615  3.747460e-13\n",
       "               RA  99.384753  3.372091e-19"
      ],
      "text/html": [
       "<div>\n",
       "<style scoped>\n",
       "    .dataframe tbody tr th:only-of-type {\n",
       "        vertical-align: middle;\n",
       "    }\n",
       "\n",
       "    .dataframe tbody tr th {\n",
       "        vertical-align: top;\n",
       "    }\n",
       "\n",
       "    .dataframe thead th {\n",
       "        text-align: right;\n",
       "    }\n",
       "</style>\n",
       "<table border=\"1\" class=\"dataframe\">\n",
       "  <thead>\n",
       "    <tr style=\"text-align: right;\">\n",
       "      <th></th>\n",
       "      <th></th>\n",
       "      <th>Q</th>\n",
       "      <th>p</th>\n",
       "    </tr>\n",
       "    <tr>\n",
       "      <th>metric</th>\n",
       "      <th>gt</th>\n",
       "      <th></th>\n",
       "      <th></th>\n",
       "    </tr>\n",
       "  </thead>\n",
       "  <tbody>\n",
       "    <tr>\n",
       "      <th rowspan=\"2\" valign=\"top\">cohen's_kappa</th>\n",
       "      <th>MN</th>\n",
       "      <td>69.569231</td>\n",
       "      <td>5.011125e-13</td>\n",
       "    </tr>\n",
       "    <tr>\n",
       "      <th>RA</th>\n",
       "      <td>95.596413</td>\n",
       "      <td>2.077126e-18</td>\n",
       "    </tr>\n",
       "    <tr>\n",
       "      <th rowspan=\"2\" valign=\"top\">complement_nld</th>\n",
       "      <th>MN</th>\n",
       "      <td>60.562259</td>\n",
       "      <td>3.459800e-11</td>\n",
       "    </tr>\n",
       "    <tr>\n",
       "      <th>RA</th>\n",
       "      <td>95.929919</td>\n",
       "      <td>1.770128e-18</td>\n",
       "    </tr>\n",
       "    <tr>\n",
       "      <th rowspan=\"2\" valign=\"top\">mcc</th>\n",
       "      <th>MN</th>\n",
       "      <td>70.184615</td>\n",
       "      <td>3.747460e-13</td>\n",
       "    </tr>\n",
       "    <tr>\n",
       "      <th>RA</th>\n",
       "      <td>99.384753</td>\n",
       "      <td>3.372091e-19</td>\n",
       "    </tr>\n",
       "  </tbody>\n",
       "</table>\n",
       "</div>"
      ]
     },
     "execution_count": 105,
     "metadata": {},
     "output_type": "execute_result"
    }
   ],
   "execution_count": 105
  },
  {
   "metadata": {},
   "cell_type": "markdown",
   "source": [
    "#### Post-Hoc Analysis\n",
    "**Cohen's Kappa**"
   ],
   "id": "c981938bf09eb51f"
  },
  {
   "metadata": {
    "ExecuteTime": {
     "end_time": "2025-01-08T09:45:52.733559Z",
     "start_time": "2025-01-08T09:45:52.720495Z"
    }
   },
   "cell_type": "code",
   "source": [
    "post_hoc_kappa = sm.post_hoc_table(global_nemenyi, peyes.constants.COHENS_KAPPA_STR, [GT1, GT2], alpha=ALPHA, marginal_alpha=MARGINAL_ALPHA)\n",
    "post_hoc_kappa"
   ],
   "id": "ab6b31f0a5d34e56",
   "outputs": [
    {
     "data": {
      "text/plain": [
       "pred            ivt    ivvt     idt    idvt engbert      nh remodnav\n",
       "pred     gt                                                         \n",
       "ivt      MN      --    n.s.       *    n.s.    n.s.    n.s.      ***\n",
       "         RA      --    n.s.      **       *    n.s.    n.s.      ***\n",
       "ivvt     MN  1.0000      --       *    n.s.    n.s.    n.s.      ***\n",
       "         RA  1.0000      --      **       *    n.s.    n.s.      ***\n",
       "idt      MN  0.0123  0.0210      --    n.s.      **    n.s.     n.s.\n",
       "         RA  0.0060  0.0049      --    n.s.     ***    n.s.     n.s.\n",
       "idvt     MN  0.0818  0.1208  0.9982      --       *    n.s.     n.s.\n",
       "         RA  0.0479  0.0410  0.9981      --      **    n.s.     n.s.\n",
       "engbert  MN  0.9980  0.9932  0.0010  0.0118      --    n.s.      ***\n",
       "         RA  0.9920  0.9944  0.0002  0.0029      --    n.s.      ***\n",
       "nh       MN  0.9863  0.9951  0.1591  0.4734  0.8274      --       **\n",
       "         RA  0.9906  0.9869  0.0854  0.3231  0.7685      --      ***\n",
       "remodnav MN  0.0000  0.0000  0.8408  0.4847  0.0000  0.0012       --\n",
       "         RA  0.0000  0.0000  0.7694  0.3912  0.0000  0.0002       --"
      ],
      "text/html": [
       "<div>\n",
       "<style scoped>\n",
       "    .dataframe tbody tr th:only-of-type {\n",
       "        vertical-align: middle;\n",
       "    }\n",
       "\n",
       "    .dataframe tbody tr th {\n",
       "        vertical-align: top;\n",
       "    }\n",
       "\n",
       "    .dataframe thead th {\n",
       "        text-align: right;\n",
       "    }\n",
       "</style>\n",
       "<table border=\"1\" class=\"dataframe\">\n",
       "  <thead>\n",
       "    <tr style=\"text-align: right;\">\n",
       "      <th></th>\n",
       "      <th>pred</th>\n",
       "      <th>ivt</th>\n",
       "      <th>ivvt</th>\n",
       "      <th>idt</th>\n",
       "      <th>idvt</th>\n",
       "      <th>engbert</th>\n",
       "      <th>nh</th>\n",
       "      <th>remodnav</th>\n",
       "    </tr>\n",
       "    <tr>\n",
       "      <th>pred</th>\n",
       "      <th>gt</th>\n",
       "      <th></th>\n",
       "      <th></th>\n",
       "      <th></th>\n",
       "      <th></th>\n",
       "      <th></th>\n",
       "      <th></th>\n",
       "      <th></th>\n",
       "    </tr>\n",
       "  </thead>\n",
       "  <tbody>\n",
       "    <tr>\n",
       "      <th rowspan=\"2\" valign=\"top\">ivt</th>\n",
       "      <th>MN</th>\n",
       "      <td>--</td>\n",
       "      <td>n.s.</td>\n",
       "      <td>*</td>\n",
       "      <td>n.s.</td>\n",
       "      <td>n.s.</td>\n",
       "      <td>n.s.</td>\n",
       "      <td>***</td>\n",
       "    </tr>\n",
       "    <tr>\n",
       "      <th>RA</th>\n",
       "      <td>--</td>\n",
       "      <td>n.s.</td>\n",
       "      <td>**</td>\n",
       "      <td>*</td>\n",
       "      <td>n.s.</td>\n",
       "      <td>n.s.</td>\n",
       "      <td>***</td>\n",
       "    </tr>\n",
       "    <tr>\n",
       "      <th rowspan=\"2\" valign=\"top\">ivvt</th>\n",
       "      <th>MN</th>\n",
       "      <td>1.0000</td>\n",
       "      <td>--</td>\n",
       "      <td>*</td>\n",
       "      <td>n.s.</td>\n",
       "      <td>n.s.</td>\n",
       "      <td>n.s.</td>\n",
       "      <td>***</td>\n",
       "    </tr>\n",
       "    <tr>\n",
       "      <th>RA</th>\n",
       "      <td>1.0000</td>\n",
       "      <td>--</td>\n",
       "      <td>**</td>\n",
       "      <td>*</td>\n",
       "      <td>n.s.</td>\n",
       "      <td>n.s.</td>\n",
       "      <td>***</td>\n",
       "    </tr>\n",
       "    <tr>\n",
       "      <th rowspan=\"2\" valign=\"top\">idt</th>\n",
       "      <th>MN</th>\n",
       "      <td>0.0123</td>\n",
       "      <td>0.0210</td>\n",
       "      <td>--</td>\n",
       "      <td>n.s.</td>\n",
       "      <td>**</td>\n",
       "      <td>n.s.</td>\n",
       "      <td>n.s.</td>\n",
       "    </tr>\n",
       "    <tr>\n",
       "      <th>RA</th>\n",
       "      <td>0.0060</td>\n",
       "      <td>0.0049</td>\n",
       "      <td>--</td>\n",
       "      <td>n.s.</td>\n",
       "      <td>***</td>\n",
       "      <td>n.s.</td>\n",
       "      <td>n.s.</td>\n",
       "    </tr>\n",
       "    <tr>\n",
       "      <th rowspan=\"2\" valign=\"top\">idvt</th>\n",
       "      <th>MN</th>\n",
       "      <td>0.0818</td>\n",
       "      <td>0.1208</td>\n",
       "      <td>0.9982</td>\n",
       "      <td>--</td>\n",
       "      <td>*</td>\n",
       "      <td>n.s.</td>\n",
       "      <td>n.s.</td>\n",
       "    </tr>\n",
       "    <tr>\n",
       "      <th>RA</th>\n",
       "      <td>0.0479</td>\n",
       "      <td>0.0410</td>\n",
       "      <td>0.9981</td>\n",
       "      <td>--</td>\n",
       "      <td>**</td>\n",
       "      <td>n.s.</td>\n",
       "      <td>n.s.</td>\n",
       "    </tr>\n",
       "    <tr>\n",
       "      <th rowspan=\"2\" valign=\"top\">engbert</th>\n",
       "      <th>MN</th>\n",
       "      <td>0.9980</td>\n",
       "      <td>0.9932</td>\n",
       "      <td>0.0010</td>\n",
       "      <td>0.0118</td>\n",
       "      <td>--</td>\n",
       "      <td>n.s.</td>\n",
       "      <td>***</td>\n",
       "    </tr>\n",
       "    <tr>\n",
       "      <th>RA</th>\n",
       "      <td>0.9920</td>\n",
       "      <td>0.9944</td>\n",
       "      <td>0.0002</td>\n",
       "      <td>0.0029</td>\n",
       "      <td>--</td>\n",
       "      <td>n.s.</td>\n",
       "      <td>***</td>\n",
       "    </tr>\n",
       "    <tr>\n",
       "      <th rowspan=\"2\" valign=\"top\">nh</th>\n",
       "      <th>MN</th>\n",
       "      <td>0.9863</td>\n",
       "      <td>0.9951</td>\n",
       "      <td>0.1591</td>\n",
       "      <td>0.4734</td>\n",
       "      <td>0.8274</td>\n",
       "      <td>--</td>\n",
       "      <td>**</td>\n",
       "    </tr>\n",
       "    <tr>\n",
       "      <th>RA</th>\n",
       "      <td>0.9906</td>\n",
       "      <td>0.9869</td>\n",
       "      <td>0.0854</td>\n",
       "      <td>0.3231</td>\n",
       "      <td>0.7685</td>\n",
       "      <td>--</td>\n",
       "      <td>***</td>\n",
       "    </tr>\n",
       "    <tr>\n",
       "      <th rowspan=\"2\" valign=\"top\">remodnav</th>\n",
       "      <th>MN</th>\n",
       "      <td>0.0000</td>\n",
       "      <td>0.0000</td>\n",
       "      <td>0.8408</td>\n",
       "      <td>0.4847</td>\n",
       "      <td>0.0000</td>\n",
       "      <td>0.0012</td>\n",
       "      <td>--</td>\n",
       "    </tr>\n",
       "    <tr>\n",
       "      <th>RA</th>\n",
       "      <td>0.0000</td>\n",
       "      <td>0.0000</td>\n",
       "      <td>0.7694</td>\n",
       "      <td>0.3912</td>\n",
       "      <td>0.0000</td>\n",
       "      <td>0.0002</td>\n",
       "      <td>--</td>\n",
       "    </tr>\n",
       "  </tbody>\n",
       "</table>\n",
       "</div>"
      ]
     },
     "execution_count": 5,
     "metadata": {},
     "output_type": "execute_result"
    }
   ],
   "execution_count": 5
  },
  {
   "metadata": {
    "ExecuteTime": {
     "end_time": "2025-01-08T09:45:52.820262Z",
     "start_time": "2025-01-08T09:45:52.807999Z"
    }
   },
   "cell_type": "code",
   "source": [
    "post_hoc_mcc = sm.post_hoc_table(global_nemenyi, peyes.constants.MCC_STR, [GT1, GT2], alpha=ALPHA, marginal_alpha=MARGINAL_ALPHA)\n",
    "post_hoc_mcc"
   ],
   "id": "42220211eb9225d",
   "outputs": [
    {
     "data": {
      "text/plain": [
       "pred            ivt    ivvt     idt    idvt engbert      nh remodnav\n",
       "pred     gt                                                         \n",
       "ivt      MN      --    n.s.      **    n.s.    n.s.    n.s.      ***\n",
       "         RA      --    n.s.      **       †    n.s.    n.s.      ***\n",
       "ivvt     MN  0.9999      --       *    n.s.    n.s.    n.s.      ***\n",
       "         RA  1.0000      --      **    n.s.    n.s.    n.s.      ***\n",
       "idt      MN  0.0067  0.0236      --    n.s.     ***    n.s.     n.s.\n",
       "         RA  0.0039  0.0094      --    n.s.     ***    n.s.     n.s.\n",
       "idvt     MN  0.0831  0.1931  0.9929      --       *    n.s.     n.s.\n",
       "         RA  0.0596  0.1104  0.9918      --      **    n.s.     n.s.\n",
       "engbert  MN  0.9991  0.9853  0.0007  0.0162      --    n.s.      ***\n",
       "         RA  0.9966  0.9833  0.0002  0.0061      --    n.s.      ***\n",
       "nh       MN  0.9598  0.9949  0.1744  0.6100  0.7650      --       **\n",
       "         RA  0.9195  0.9699  0.1858  0.6414  0.5742      --       **\n",
       "remodnav MN  0.0000  0.0001  0.9140  0.4998  0.0000  0.0032       --\n",
       "         RA  0.0000  0.0000  0.8658  0.4016  0.0000  0.0020       --"
      ],
      "text/html": [
       "<div>\n",
       "<style scoped>\n",
       "    .dataframe tbody tr th:only-of-type {\n",
       "        vertical-align: middle;\n",
       "    }\n",
       "\n",
       "    .dataframe tbody tr th {\n",
       "        vertical-align: top;\n",
       "    }\n",
       "\n",
       "    .dataframe thead th {\n",
       "        text-align: right;\n",
       "    }\n",
       "</style>\n",
       "<table border=\"1\" class=\"dataframe\">\n",
       "  <thead>\n",
       "    <tr style=\"text-align: right;\">\n",
       "      <th></th>\n",
       "      <th>pred</th>\n",
       "      <th>ivt</th>\n",
       "      <th>ivvt</th>\n",
       "      <th>idt</th>\n",
       "      <th>idvt</th>\n",
       "      <th>engbert</th>\n",
       "      <th>nh</th>\n",
       "      <th>remodnav</th>\n",
       "    </tr>\n",
       "    <tr>\n",
       "      <th>pred</th>\n",
       "      <th>gt</th>\n",
       "      <th></th>\n",
       "      <th></th>\n",
       "      <th></th>\n",
       "      <th></th>\n",
       "      <th></th>\n",
       "      <th></th>\n",
       "      <th></th>\n",
       "    </tr>\n",
       "  </thead>\n",
       "  <tbody>\n",
       "    <tr>\n",
       "      <th rowspan=\"2\" valign=\"top\">ivt</th>\n",
       "      <th>MN</th>\n",
       "      <td>--</td>\n",
       "      <td>n.s.</td>\n",
       "      <td>**</td>\n",
       "      <td>n.s.</td>\n",
       "      <td>n.s.</td>\n",
       "      <td>n.s.</td>\n",
       "      <td>***</td>\n",
       "    </tr>\n",
       "    <tr>\n",
       "      <th>RA</th>\n",
       "      <td>--</td>\n",
       "      <td>n.s.</td>\n",
       "      <td>**</td>\n",
       "      <td>†</td>\n",
       "      <td>n.s.</td>\n",
       "      <td>n.s.</td>\n",
       "      <td>***</td>\n",
       "    </tr>\n",
       "    <tr>\n",
       "      <th rowspan=\"2\" valign=\"top\">ivvt</th>\n",
       "      <th>MN</th>\n",
       "      <td>0.9999</td>\n",
       "      <td>--</td>\n",
       "      <td>*</td>\n",
       "      <td>n.s.</td>\n",
       "      <td>n.s.</td>\n",
       "      <td>n.s.</td>\n",
       "      <td>***</td>\n",
       "    </tr>\n",
       "    <tr>\n",
       "      <th>RA</th>\n",
       "      <td>1.0000</td>\n",
       "      <td>--</td>\n",
       "      <td>**</td>\n",
       "      <td>n.s.</td>\n",
       "      <td>n.s.</td>\n",
       "      <td>n.s.</td>\n",
       "      <td>***</td>\n",
       "    </tr>\n",
       "    <tr>\n",
       "      <th rowspan=\"2\" valign=\"top\">idt</th>\n",
       "      <th>MN</th>\n",
       "      <td>0.0067</td>\n",
       "      <td>0.0236</td>\n",
       "      <td>--</td>\n",
       "      <td>n.s.</td>\n",
       "      <td>***</td>\n",
       "      <td>n.s.</td>\n",
       "      <td>n.s.</td>\n",
       "    </tr>\n",
       "    <tr>\n",
       "      <th>RA</th>\n",
       "      <td>0.0039</td>\n",
       "      <td>0.0094</td>\n",
       "      <td>--</td>\n",
       "      <td>n.s.</td>\n",
       "      <td>***</td>\n",
       "      <td>n.s.</td>\n",
       "      <td>n.s.</td>\n",
       "    </tr>\n",
       "    <tr>\n",
       "      <th rowspan=\"2\" valign=\"top\">idvt</th>\n",
       "      <th>MN</th>\n",
       "      <td>0.0831</td>\n",
       "      <td>0.1931</td>\n",
       "      <td>0.9929</td>\n",
       "      <td>--</td>\n",
       "      <td>*</td>\n",
       "      <td>n.s.</td>\n",
       "      <td>n.s.</td>\n",
       "    </tr>\n",
       "    <tr>\n",
       "      <th>RA</th>\n",
       "      <td>0.0596</td>\n",
       "      <td>0.1104</td>\n",
       "      <td>0.9918</td>\n",
       "      <td>--</td>\n",
       "      <td>**</td>\n",
       "      <td>n.s.</td>\n",
       "      <td>n.s.</td>\n",
       "    </tr>\n",
       "    <tr>\n",
       "      <th rowspan=\"2\" valign=\"top\">engbert</th>\n",
       "      <th>MN</th>\n",
       "      <td>0.9991</td>\n",
       "      <td>0.9853</td>\n",
       "      <td>0.0007</td>\n",
       "      <td>0.0162</td>\n",
       "      <td>--</td>\n",
       "      <td>n.s.</td>\n",
       "      <td>***</td>\n",
       "    </tr>\n",
       "    <tr>\n",
       "      <th>RA</th>\n",
       "      <td>0.9966</td>\n",
       "      <td>0.9833</td>\n",
       "      <td>0.0002</td>\n",
       "      <td>0.0061</td>\n",
       "      <td>--</td>\n",
       "      <td>n.s.</td>\n",
       "      <td>***</td>\n",
       "    </tr>\n",
       "    <tr>\n",
       "      <th rowspan=\"2\" valign=\"top\">nh</th>\n",
       "      <th>MN</th>\n",
       "      <td>0.9598</td>\n",
       "      <td>0.9949</td>\n",
       "      <td>0.1744</td>\n",
       "      <td>0.6100</td>\n",
       "      <td>0.7650</td>\n",
       "      <td>--</td>\n",
       "      <td>**</td>\n",
       "    </tr>\n",
       "    <tr>\n",
       "      <th>RA</th>\n",
       "      <td>0.9195</td>\n",
       "      <td>0.9699</td>\n",
       "      <td>0.1858</td>\n",
       "      <td>0.6414</td>\n",
       "      <td>0.5742</td>\n",
       "      <td>--</td>\n",
       "      <td>**</td>\n",
       "    </tr>\n",
       "    <tr>\n",
       "      <th rowspan=\"2\" valign=\"top\">remodnav</th>\n",
       "      <th>MN</th>\n",
       "      <td>0.0000</td>\n",
       "      <td>0.0001</td>\n",
       "      <td>0.9140</td>\n",
       "      <td>0.4998</td>\n",
       "      <td>0.0000</td>\n",
       "      <td>0.0032</td>\n",
       "      <td>--</td>\n",
       "    </tr>\n",
       "    <tr>\n",
       "      <th>RA</th>\n",
       "      <td>0.0000</td>\n",
       "      <td>0.0000</td>\n",
       "      <td>0.8658</td>\n",
       "      <td>0.4016</td>\n",
       "      <td>0.0000</td>\n",
       "      <td>0.0020</td>\n",
       "      <td>--</td>\n",
       "    </tr>\n",
       "  </tbody>\n",
       "</table>\n",
       "</div>"
      ]
     },
     "execution_count": 6,
     "metadata": {},
     "output_type": "execute_result"
    }
   ],
   "execution_count": 6
  },
  {
   "metadata": {
    "ExecuteTime": {
     "end_time": "2025-01-08T09:45:52.885834Z",
     "start_time": "2025-01-08T09:45:52.872155Z"
    }
   },
   "cell_type": "code",
   "source": [
    "post_hoc_nld = sm.post_hoc_table(global_nemenyi, peyes.constants.COMPLEMENT_NLD_STR, [GT1, GT2], alpha=ALPHA, marginal_alpha=MARGINAL_ALPHA)\n",
    "post_hoc_nld"
   ],
   "id": "99f7350ffdc29f5c",
   "outputs": [
    {
     "data": {
      "text/plain": [
       "pred            ivt    ivvt     idt    idvt engbert      nh remodnav\n",
       "pred     gt                                                         \n",
       "ivt      MN      --    n.s.    n.s.    n.s.    n.s.    n.s.      ***\n",
       "         RA      --    n.s.    n.s.    n.s.    n.s.    n.s.      ***\n",
       "ivvt     MN  0.9989      --    n.s.    n.s.    n.s.    n.s.       **\n",
       "         RA  0.9995      --    n.s.    n.s.    n.s.    n.s.      ***\n",
       "idt      MN  0.8947  0.9930      --    n.s.    n.s.    n.s.        *\n",
       "         RA  0.6207  0.8787      --    n.s.    n.s.    n.s.       **\n",
       "idvt     MN  0.9377  0.9978  1.0000      --    n.s.    n.s.        *\n",
       "         RA  0.6809  0.9121  1.0000      --    n.s.    n.s.       **\n",
       "engbert  MN  1.0000  0.9951  0.8260  0.8863      --    n.s.      ***\n",
       "         RA  1.0000  0.9959  0.4827  0.5451      --    n.s.      ***\n",
       "nh       MN  0.9978  1.0000  0.9959  0.9989  0.9919      --       **\n",
       "         RA  0.9815  0.9997  0.9812  0.9894  0.9478      --      ***\n",
       "remodnav MN  0.0001  0.0017  0.0313  0.0196  0.0001  0.0024       --\n",
       "         RA  0.0000  0.0000  0.0058  0.0039  0.0000  0.0001       --"
      ],
      "text/html": [
       "<div>\n",
       "<style scoped>\n",
       "    .dataframe tbody tr th:only-of-type {\n",
       "        vertical-align: middle;\n",
       "    }\n",
       "\n",
       "    .dataframe tbody tr th {\n",
       "        vertical-align: top;\n",
       "    }\n",
       "\n",
       "    .dataframe thead th {\n",
       "        text-align: right;\n",
       "    }\n",
       "</style>\n",
       "<table border=\"1\" class=\"dataframe\">\n",
       "  <thead>\n",
       "    <tr style=\"text-align: right;\">\n",
       "      <th></th>\n",
       "      <th>pred</th>\n",
       "      <th>ivt</th>\n",
       "      <th>ivvt</th>\n",
       "      <th>idt</th>\n",
       "      <th>idvt</th>\n",
       "      <th>engbert</th>\n",
       "      <th>nh</th>\n",
       "      <th>remodnav</th>\n",
       "    </tr>\n",
       "    <tr>\n",
       "      <th>pred</th>\n",
       "      <th>gt</th>\n",
       "      <th></th>\n",
       "      <th></th>\n",
       "      <th></th>\n",
       "      <th></th>\n",
       "      <th></th>\n",
       "      <th></th>\n",
       "      <th></th>\n",
       "    </tr>\n",
       "  </thead>\n",
       "  <tbody>\n",
       "    <tr>\n",
       "      <th rowspan=\"2\" valign=\"top\">ivt</th>\n",
       "      <th>MN</th>\n",
       "      <td>--</td>\n",
       "      <td>n.s.</td>\n",
       "      <td>n.s.</td>\n",
       "      <td>n.s.</td>\n",
       "      <td>n.s.</td>\n",
       "      <td>n.s.</td>\n",
       "      <td>***</td>\n",
       "    </tr>\n",
       "    <tr>\n",
       "      <th>RA</th>\n",
       "      <td>--</td>\n",
       "      <td>n.s.</td>\n",
       "      <td>n.s.</td>\n",
       "      <td>n.s.</td>\n",
       "      <td>n.s.</td>\n",
       "      <td>n.s.</td>\n",
       "      <td>***</td>\n",
       "    </tr>\n",
       "    <tr>\n",
       "      <th rowspan=\"2\" valign=\"top\">ivvt</th>\n",
       "      <th>MN</th>\n",
       "      <td>0.9989</td>\n",
       "      <td>--</td>\n",
       "      <td>n.s.</td>\n",
       "      <td>n.s.</td>\n",
       "      <td>n.s.</td>\n",
       "      <td>n.s.</td>\n",
       "      <td>**</td>\n",
       "    </tr>\n",
       "    <tr>\n",
       "      <th>RA</th>\n",
       "      <td>0.9995</td>\n",
       "      <td>--</td>\n",
       "      <td>n.s.</td>\n",
       "      <td>n.s.</td>\n",
       "      <td>n.s.</td>\n",
       "      <td>n.s.</td>\n",
       "      <td>***</td>\n",
       "    </tr>\n",
       "    <tr>\n",
       "      <th rowspan=\"2\" valign=\"top\">idt</th>\n",
       "      <th>MN</th>\n",
       "      <td>0.8947</td>\n",
       "      <td>0.9930</td>\n",
       "      <td>--</td>\n",
       "      <td>n.s.</td>\n",
       "      <td>n.s.</td>\n",
       "      <td>n.s.</td>\n",
       "      <td>*</td>\n",
       "    </tr>\n",
       "    <tr>\n",
       "      <th>RA</th>\n",
       "      <td>0.6207</td>\n",
       "      <td>0.8787</td>\n",
       "      <td>--</td>\n",
       "      <td>n.s.</td>\n",
       "      <td>n.s.</td>\n",
       "      <td>n.s.</td>\n",
       "      <td>**</td>\n",
       "    </tr>\n",
       "    <tr>\n",
       "      <th rowspan=\"2\" valign=\"top\">idvt</th>\n",
       "      <th>MN</th>\n",
       "      <td>0.9377</td>\n",
       "      <td>0.9978</td>\n",
       "      <td>1.0000</td>\n",
       "      <td>--</td>\n",
       "      <td>n.s.</td>\n",
       "      <td>n.s.</td>\n",
       "      <td>*</td>\n",
       "    </tr>\n",
       "    <tr>\n",
       "      <th>RA</th>\n",
       "      <td>0.6809</td>\n",
       "      <td>0.9121</td>\n",
       "      <td>1.0000</td>\n",
       "      <td>--</td>\n",
       "      <td>n.s.</td>\n",
       "      <td>n.s.</td>\n",
       "      <td>**</td>\n",
       "    </tr>\n",
       "    <tr>\n",
       "      <th rowspan=\"2\" valign=\"top\">engbert</th>\n",
       "      <th>MN</th>\n",
       "      <td>1.0000</td>\n",
       "      <td>0.9951</td>\n",
       "      <td>0.8260</td>\n",
       "      <td>0.8863</td>\n",
       "      <td>--</td>\n",
       "      <td>n.s.</td>\n",
       "      <td>***</td>\n",
       "    </tr>\n",
       "    <tr>\n",
       "      <th>RA</th>\n",
       "      <td>1.0000</td>\n",
       "      <td>0.9959</td>\n",
       "      <td>0.4827</td>\n",
       "      <td>0.5451</td>\n",
       "      <td>--</td>\n",
       "      <td>n.s.</td>\n",
       "      <td>***</td>\n",
       "    </tr>\n",
       "    <tr>\n",
       "      <th rowspan=\"2\" valign=\"top\">nh</th>\n",
       "      <th>MN</th>\n",
       "      <td>0.9978</td>\n",
       "      <td>1.0000</td>\n",
       "      <td>0.9959</td>\n",
       "      <td>0.9989</td>\n",
       "      <td>0.9919</td>\n",
       "      <td>--</td>\n",
       "      <td>**</td>\n",
       "    </tr>\n",
       "    <tr>\n",
       "      <th>RA</th>\n",
       "      <td>0.9815</td>\n",
       "      <td>0.9997</td>\n",
       "      <td>0.9812</td>\n",
       "      <td>0.9894</td>\n",
       "      <td>0.9478</td>\n",
       "      <td>--</td>\n",
       "      <td>***</td>\n",
       "    </tr>\n",
       "    <tr>\n",
       "      <th rowspan=\"2\" valign=\"top\">remodnav</th>\n",
       "      <th>MN</th>\n",
       "      <td>0.0001</td>\n",
       "      <td>0.0017</td>\n",
       "      <td>0.0313</td>\n",
       "      <td>0.0196</td>\n",
       "      <td>0.0001</td>\n",
       "      <td>0.0024</td>\n",
       "      <td>--</td>\n",
       "    </tr>\n",
       "    <tr>\n",
       "      <th>RA</th>\n",
       "      <td>0.0000</td>\n",
       "      <td>0.0000</td>\n",
       "      <td>0.0058</td>\n",
       "      <td>0.0039</td>\n",
       "      <td>0.0000</td>\n",
       "      <td>0.0001</td>\n",
       "      <td>--</td>\n",
       "    </tr>\n",
       "  </tbody>\n",
       "</table>\n",
       "</div>"
      ]
     },
     "execution_count": 7,
     "metadata": {},
     "output_type": "execute_result"
    }
   ],
   "execution_count": 7
  },
  {
   "metadata": {},
   "cell_type": "markdown",
   "source": "#### Global Metrics Figure",
   "id": "e9c968dc34be949b"
  },
  {
   "metadata": {
    "ExecuteTime": {
     "end_time": "2025-01-08T11:22:47.664962Z",
     "start_time": "2025-01-08T11:22:46.868551Z"
    }
   },
   "cell_type": "code",
   "source": [
    "W, H = 600, 450\n",
    "\n",
    "global_metrics_fig = sm.global_metrics_distributions_figure(\n",
    "    global_measures,\n",
    "    gt1=GT1, gt2=GT2,\n",
    "    colors={k: v[1] for k, v in LABELER_PLOTTING_CONFIG.items()},\n",
    "    only_box=False,\n",
    "    show_other_gt=True,\n",
    "    share_x=True,\n",
    ")\n",
    "\n",
    "global_metrics_fig.update_traces(width=0.9)     # make violins wider so there's less space between them\n",
    "# Make \"Other GT\" violins double-sided\n",
    "for t in global_metrics_fig.data:\n",
    "    if t[\"legendgroup\"] != \"Other GT\":\n",
    "        continue\n",
    "    t[\"visible\"] = t[\"name\"].split(',')[0] == GT1\n",
    "    t[\"side\"] = None\n",
    "\n",
    "global_metrics_fig.update_layout(\n",
    "    title=None,\n",
    "    width=W, height=H,\n",
    "    paper_bgcolor='rgba(0, 0, 0, 0)',\n",
    "    plot_bgcolor='rgba(0, 0, 0, 0)',\n",
    "    yaxis=dict(showgrid=False, zeroline=False, showline=False, range=[0, 1], tickfont=dict(size=14)),\n",
    "    yaxis2=dict(showgrid=False, zeroline=False, showline=False, range=[0, 1], tickfont=dict(size=14)),\n",
    "    yaxis3=dict(showgrid=False, zeroline=False, showline=False, range=[0, 1], tickfont=dict(size=14)),\n",
    "    xaxis3=dict(showgrid=False, tickfont=dict(size=14), tickangle=0),\n",
    "    margin=dict(l=10, r=10, b=10, t=10, pad=0),\n",
    "    showlegend=False,\n",
    ")\n",
    "# global_metrics_fig.layout.annotations = []    # remove subtitles\n",
    "\n",
    "\n",
    "save_fig(global_metrics_fig, FIG_ID, '', 'sample-global-metrics', IS_SUPP)\n",
    "global_metrics_fig.show()"
   ],
   "id": "3b12a7505fbebf62",
   "outputs": [
    {
     "data": {
      "application/vnd.plotly.v1+json": {
       "data": [
        {
         "box": {
          "visible": true
         },
         "fillcolor": "#bab0ac",
         "legendgroup": "Other GT",
         "line": {
          "color": "black"
         },
         "meanline": {
          "visible": true
         },
         "name": "RA, Other GT",
         "opacity": 0.75,
         "scalegroup": "cohen's_kappa",
         "showlegend": true,
         "spanmode": "hard",
         "x0": "Other GT",
         "y": [
          0.789937464299844,
          0.22120621559937914,
          0.7200549475263476,
          0.677382293683207,
          0.9054133078487512,
          0.8955694420828169,
          0.9064000004383075,
          0.7924612058168573,
          0.8364267811215045,
          0.8405848106589864,
          0.8546864376292359,
          0.8962768567029877,
          0.8357095131889745,
          0.9002713399903137
         ],
         "type": "violin",
         "xaxis": "x",
         "yaxis": "y",
         "width": 0.8,
         "visible": true
        },
        {
         "box": {
          "visible": true
         },
         "fillcolor": "#2E91E5",
         "legendgroup": "ivt",
         "line": {
          "color": "black"
         },
         "meanline": {
          "visible": true
         },
         "name": "RA, ivt",
         "opacity": 0.75,
         "scalegroup": "cohen's_kappa",
         "showlegend": true,
         "side": "positive",
         "spanmode": "hard",
         "x0": "ivt",
         "y": [
          0.6536065235854455,
          0.1284439429685097,
          0.8129401969823401,
          0.6847358616082337,
          0.5964570831424268,
          0.49171947442989805,
          0.45728263639640543,
          0.2866022000147126,
          0.47487541987298065,
          0.523708384412632,
          0.6393518046039333,
          0.660573776564775,
          0.7379551885270832,
          0.5896864060543465,
          0.49634192931170806,
          0.5578334634782739,
          0.5055609128599556,
          0.47199018856919583,
          0.6826975164027549,
          0.5182620597771499
         ],
         "type": "violin",
         "xaxis": "x",
         "yaxis": "y",
         "width": 0.8
        },
        {
         "box": {
          "visible": true
         },
         "fillcolor": "#E15F99",
         "legendgroup": "ivvt",
         "line": {
          "color": "black"
         },
         "meanline": {
          "visible": true
         },
         "name": "RA, ivvt",
         "opacity": 0.75,
         "scalegroup": "cohen's_kappa",
         "showlegend": true,
         "side": "positive",
         "spanmode": "hard",
         "x0": "ivvt",
         "y": [
          0.6682856703798767,
          0.14679378355452333,
          0.740826680981489,
          0.6839424477180036,
          0.630478476327947,
          0.3851036033083248,
          0.4350623220492852,
          0.27137643781841037,
          0.47883203936175867,
          0.5558804308681725,
          0.6461935718308836,
          0.6816581781633395,
          0.7247529566810373,
          0.6153954798511663,
          0.5435437488766812,
          0.565838398633786,
          0.5103221953179453,
          0.4657080243248377,
          0.6342167921735578,
          0.55168522272162
         ],
         "type": "violin",
         "xaxis": "x",
         "yaxis": "y",
         "width": 0.8
        },
        {
         "box": {
          "visible": true
         },
         "fillcolor": "#1CA71C",
         "legendgroup": "idt",
         "line": {
          "color": "black"
         },
         "meanline": {
          "visible": true
         },
         "name": "RA, idt",
         "opacity": 0.75,
         "scalegroup": "cohen's_kappa",
         "showlegend": true,
         "side": "positive",
         "spanmode": "hard",
         "x0": "idt",
         "y": [
          0.29813491798774217,
          0.03157125343055156,
          0.4641164365273309,
          0.25782175320374023,
          0.280402034048726,
          0.29842216259011967,
          0.26238078933565834,
          0.12137942880197816,
          0.20417913689082523,
          0.18308107640118698,
          0.25706140032325664,
          0.2668129906005402,
          0.33435631276091626,
          0.2555563956437229,
          0.08008182022582822,
          0.1816056032866531,
          0.14827335785215967,
          0.13643180152384926,
          0.3032712523663531,
          0.20535087077999903
         ],
         "type": "violin",
         "xaxis": "x",
         "yaxis": "y",
         "width": 0.8
        },
        {
         "box": {
          "visible": true
         },
         "fillcolor": "#FB0D0D",
         "legendgroup": "idvt",
         "line": {
          "color": "black"
         },
         "meanline": {
          "visible": true
         },
         "name": "RA, idvt",
         "opacity": 0.75,
         "scalegroup": "cohen's_kappa",
         "showlegend": true,
         "side": "positive",
         "spanmode": "hard",
         "x0": "idvt",
         "y": [
          0.29813491798774217,
          0.030356205195047004,
          0.46460006941123144,
          0.2566653288228885,
          0.2975413992673279,
          0.31734340304384556,
          0.2628824836940056,
          0.13200723472017473,
          0.202572489091859,
          0.18308107640118698,
          0.25706140032325664,
          0.27539668615315016,
          0.34514417599815417,
          0.2555563956437229,
          0.08008182022582822,
          0.35366407631978414,
          0.3961283377211089,
          0.3917537683641975,
          0.37906375171110795,
          0.307916211703231
         ],
         "type": "violin",
         "xaxis": "x",
         "yaxis": "y",
         "width": 0.8
        },
        {
         "box": {
          "visible": true
         },
         "fillcolor": "#DA16FF",
         "legendgroup": "engbert",
         "line": {
          "color": "black"
         },
         "meanline": {
          "visible": true
         },
         "name": "RA, engbert",
         "opacity": 0.75,
         "scalegroup": "cohen's_kappa",
         "showlegend": true,
         "side": "positive",
         "spanmode": "hard",
         "x0": "engbert",
         "y": [
          0.6937968678533493,
          0.1920328763835979,
          0.7982411721962202,
          0.6989076504408793,
          0.6800258395824476,
          0.5842096898379873,
          0.5416641101188808,
          0.31236458660143773,
          0.5394742199481548,
          0.6376155011351057,
          0.6720344485365275,
          0.7087048509349968,
          0.769742562379541,
          0.6754856043748134,
          0.6251295374537886,
          0.5803008021231223,
          0.5090566970587233,
          0.4850723747070278,
          0.7087040378128789,
          0.5983868589715793
         ],
         "type": "violin",
         "xaxis": "x",
         "yaxis": "y",
         "width": 0.8
        },
        {
         "box": {
          "visible": true
         },
         "fillcolor": "#222A2A",
         "legendgroup": "nh",
         "line": {
          "color": "black"
         },
         "meanline": {
          "visible": true
         },
         "name": "RA, nh",
         "opacity": 0.75,
         "scalegroup": "cohen's_kappa",
         "showlegend": true,
         "side": "positive",
         "spanmode": "hard",
         "x0": "nh",
         "y": [
          0.6390075723526634,
          0.20219983762000282,
          0.06223208027844496,
          0.6628574023339942,
          0.6083513854651277,
          0.5696470603897497,
          0.1960010140931433,
          0.2908664541548427,
          0.4816187994232646,
          0.5851673120079831,
          0.7010074399964086,
          0.6990120054398241,
          0.6986995936130083,
          0.6359971868922706,
          0.6082360392576691,
          0.4969982577968137,
          0.22030011424681073,
          0.30095077662660497,
          0.20358278276010433,
          0.523844962108586
         ],
         "type": "violin",
         "xaxis": "x",
         "yaxis": "y",
         "width": 0.8
        },
        {
         "box": {
          "visible": true
         },
         "fillcolor": "#B68100",
         "legendgroup": "remodnav",
         "line": {
          "color": "black"
         },
         "meanline": {
          "visible": true
         },
         "name": "RA, remodnav",
         "opacity": 0.75,
         "scalegroup": "cohen's_kappa",
         "showlegend": true,
         "side": "positive",
         "spanmode": "hard",
         "x0": "remodnav",
         "y": [
          0.1570825701899946,
          0.012168313505231287,
          0.0884392162313794,
          0.17615299547950403,
          0.16476549327132006,
          0.11191344866259323,
          0.11492846700505266,
          0.08660574938402155,
          0.07757349090803567,
          0.0772865595483988,
          0.17907665587826482,
          0.06782533170885152,
          0.05180176689249749,
          0.1769573433444761,
          0.08435109377302974,
          0.21288879995658216,
          0.1390126797357133,
          0.18996283835022465,
          0.12163829536890114,
          0.14073571333170154
         ],
         "type": "violin",
         "xaxis": "x",
         "yaxis": "y",
         "width": 0.8
        },
        {
         "box": {
          "visible": true
         },
         "fillcolor": "#bab0ac",
         "legendgroup": "Other GT",
         "line": {
          "color": "black"
         },
         "meanline": {
          "visible": true
         },
         "name": "MN, Other GT",
         "opacity": 0.25,
         "scalegroup": "cohen's_kappa",
         "showlegend": true,
         "spanmode": "hard",
         "x0": "Other GT",
         "y": [
          0.7899374642998439,
          0.22120621559937914,
          0.7200549475263476,
          0.677382293683207,
          0.9054133078487512,
          0.8955694420828169,
          0.9064000004383075,
          0.7924612058168573,
          0.8364267811215045,
          0.8405848106589864,
          0.8546864376292359,
          0.8962768567029877,
          0.8357095131889745,
          0.9002713399903137
         ],
         "type": "violin",
         "xaxis": "x",
         "yaxis": "y",
         "width": 0.8,
         "visible": false
        },
        {
         "box": {
          "visible": true
         },
         "fillcolor": "#2E91E5",
         "legendgroup": "ivt",
         "line": {
          "color": "black"
         },
         "meanline": {
          "visible": true
         },
         "name": "MN, ivt",
         "opacity": 0.25,
         "scalegroup": "cohen's_kappa",
         "showlegend": true,
         "side": "negative",
         "spanmode": "hard",
         "x0": "ivt",
         "y": [
          0.7506602030476285,
          0.684138155633153,
          0.5647189110908415,
          0.49444726380338877,
          0.6384871043558389,
          0.6857366204249262,
          0.7757741046021062,
          0.7112922484260156,
          0.4643121072391516,
          0.6406305039184776,
          0.5750971509178611,
          0.502207054984706,
          0.7110817046515223,
          0.5405471655450436
         ],
         "type": "violin",
         "xaxis": "x",
         "yaxis": "y",
         "width": 0.8
        },
        {
         "box": {
          "visible": true
         },
         "fillcolor": "#E15F99",
         "legendgroup": "ivvt",
         "line": {
          "color": "black"
         },
         "meanline": {
          "visible": true
         },
         "name": "MN, ivvt",
         "opacity": 0.25,
         "scalegroup": "cohen's_kappa",
         "showlegend": true,
         "side": "negative",
         "spanmode": "hard",
         "x0": "ivvt",
         "y": [
          0.7658078918434361,
          0.6507791482665854,
          0.445788503637794,
          0.44019818373277986,
          0.6600699736960194,
          0.6894465987469147,
          0.7389551731394991,
          0.7198578952658965,
          0.5120591470596824,
          0.591073953402594,
          0.5666634371630923,
          0.47747166489327586,
          0.6538232923423022,
          0.5658753027950953
         ],
         "type": "violin",
         "xaxis": "x",
         "yaxis": "y",
         "width": 0.8
        },
        {
         "box": {
          "visible": true
         },
         "fillcolor": "#1CA71C",
         "legendgroup": "idt",
         "line": {
          "color": "black"
         },
         "meanline": {
          "visible": true
         },
         "name": "MN, idt",
         "opacity": 0.25,
         "scalegroup": "cohen's_kappa",
         "showlegend": true,
         "side": "negative",
         "spanmode": "hard",
         "x0": "idt",
         "y": [
          0.34176879267457916,
          0.21520500959753286,
          0.36770637363259706,
          0.29077510548467356,
          0.2567373179608875,
          0.2894125063327655,
          0.3551513048854279,
          0.32435240027519696,
          0.08151287813691155,
          0.23271479019697205,
          0.1807032445038843,
          0.1465510604205853,
          0.3679234027911894,
          0.22268089415063475
         ],
         "type": "violin",
         "xaxis": "x",
         "yaxis": "y",
         "width": 0.8
        },
        {
         "box": {
          "visible": true
         },
         "fillcolor": "#FB0D0D",
         "legendgroup": "idvt",
         "line": {
          "color": "black"
         },
         "meanline": {
          "visible": true
         },
         "name": "MN, idvt",
         "opacity": 0.25,
         "scalegroup": "cohen's_kappa",
         "showlegend": true,
         "side": "negative",
         "spanmode": "hard",
         "x0": "idvt",
         "y": [
          0.34176879267457916,
          0.2074717778980354,
          0.39057426923438265,
          0.2939508511287837,
          0.2567373179608875,
          0.29756137931770954,
          0.3665461268814937,
          0.32435240027519696,
          0.08151287813691155,
          0.44181004193495965,
          0.46852734738135027,
          0.42658120068419947,
          0.41838572364112625,
          0.3319714801161635
         ],
         "type": "violin",
         "xaxis": "x",
         "yaxis": "y",
         "width": 0.8
        },
        {
         "box": {
          "visible": true
         },
         "fillcolor": "#DA16FF",
         "legendgroup": "engbert",
         "line": {
          "color": "black"
         },
         "meanline": {
          "visible": true
         },
         "name": "MN, engbert",
         "opacity": 0.25,
         "scalegroup": "cohen's_kappa",
         "showlegend": true,
         "side": "negative",
         "spanmode": "hard",
         "x0": "engbert",
         "y": [
          0.7840235037955441,
          0.6499330016698937,
          0.6792964752287858,
          0.5697851618501875,
          0.6994066063481951,
          0.7509254375420857,
          0.7986214329297886,
          0.7663827830769273,
          0.6064065217188155,
          0.6425242020112782,
          0.5823131165327498,
          0.5125507413780749,
          0.7384541824580239,
          0.5790634569957547
         ],
         "type": "violin",
         "xaxis": "x",
         "yaxis": "y",
         "width": 0.8
        },
        {
         "box": {
          "visible": true
         },
         "fillcolor": "#222A2A",
         "legendgroup": "nh",
         "line": {
          "color": "black"
         },
         "meanline": {
          "visible": true
         },
         "name": "MN, nh",
         "opacity": 0.25,
         "scalegroup": "cohen's_kappa",
         "showlegend": true,
         "side": "negative",
         "spanmode": "hard",
         "x0": "nh",
         "y": [
          0.7323430111354763,
          0.5321020011301505,
          0.6574229344268723,
          0.21555847253068228,
          0.7095046806105376,
          0.737689474375111,
          0.698090481786134,
          0.7000632347941698,
          0.5970806421761099,
          0.5651736858813465,
          0.24928504886123926,
          0.3186082908116935,
          0.22236219183622818,
          0.5084698771645073
         ],
         "type": "violin",
         "xaxis": "x",
         "yaxis": "y",
         "width": 0.8
        },
        {
         "box": {
          "visible": true
         },
         "fillcolor": "#B68100",
         "legendgroup": "remodnav",
         "line": {
          "color": "black"
         },
         "meanline": {
          "visible": true
         },
         "name": "MN, remodnav",
         "opacity": 0.25,
         "scalegroup": "cohen's_kappa",
         "showlegend": true,
         "side": "negative",
         "spanmode": "hard",
         "x0": "remodnav",
         "y": [
          0.12865836048335688,
          0.033662948378007984,
          0.08506549117494788,
          0.08128401561794496,
          0.18036012790540235,
          0.08113502376411874,
          0.05254895673237692,
          0.14053196080548225,
          0.09095716332395232,
          0.17379859544530418,
          0.13870032821287115,
          0.17541649740481935,
          0.13275293223371376,
          0.13351155598140008
         ],
         "type": "violin",
         "xaxis": "x",
         "yaxis": "y",
         "width": 0.8
        },
        {
         "box": {
          "visible": true
         },
         "fillcolor": "#bab0ac",
         "legendgroup": "Other GT",
         "line": {
          "color": "black"
         },
         "meanline": {
          "visible": true
         },
         "name": "RA, Other GT",
         "opacity": 0.75,
         "scalegroup": "mcc",
         "showlegend": false,
         "spanmode": "hard",
         "x0": "Other GT",
         "y": [
          0.7945975446459747,
          0.35487110066591093,
          0.7342234368469134,
          0.6856392754447994,
          0.9054786972422211,
          0.8966383239071852,
          0.9073933411344481,
          0.8016147300141158,
          0.8376990757927559,
          0.850161233294591,
          0.8603775850984822,
          0.898086299754557,
          0.8380007079230686,
          0.9012921888468564
         ],
         "type": "violin",
         "xaxis": "x2",
         "yaxis": "y2",
         "width": 0.8,
         "visible": true
        },
        {
         "box": {
          "visible": true
         },
         "fillcolor": "#2E91E5",
         "legendgroup": "ivt",
         "line": {
          "color": "black"
         },
         "meanline": {
          "visible": true
         },
         "name": "RA, ivt",
         "opacity": 0.75,
         "scalegroup": "mcc",
         "showlegend": false,
         "side": "positive",
         "spanmode": "hard",
         "x0": "ivt",
         "y": [
          0.6824169931047432,
          0.2579274658517672,
          0.8156276834049715,
          0.7006033892755738,
          0.6259608871807224,
          0.5020342394428605,
          0.4679103806647108,
          0.3907576924012183,
          0.5397141393925198,
          0.5657111043377078,
          0.6677190035834557,
          0.6823438328797372,
          0.7552960362574821,
          0.6380168390461077,
          0.5456654644995943,
          0.5851950313371453,
          0.55448912665828,
          0.511254358579363,
          0.694333125272164,
          0.5543401908151505
         ],
         "type": "violin",
         "xaxis": "x2",
         "yaxis": "y2",
         "width": 0.8
        },
        {
         "box": {
          "visible": true
         },
         "fillcolor": "#E15F99",
         "legendgroup": "ivvt",
         "line": {
          "color": "black"
         },
         "meanline": {
          "visible": true
         },
         "name": "RA, ivvt",
         "opacity": 0.75,
         "scalegroup": "mcc",
         "showlegend": false,
         "side": "positive",
         "spanmode": "hard",
         "x0": "ivvt",
         "y": [
          0.6768717698424375,
          0.2299100983698366,
          0.7461531090430993,
          0.6908064639391817,
          0.6376366852479652,
          0.39408559336684423,
          0.4438784016113445,
          0.28940290041548106,
          0.5062397732668507,
          0.5705044852170731,
          0.6554799792625087,
          0.6898887768997957,
          0.7292570478076659,
          0.6320488403718003,
          0.5695354612320578,
          0.5805707251849437,
          0.5537770096076978,
          0.4810647422937975,
          0.6384751772982303,
          0.5750363730823765
         ],
         "type": "violin",
         "xaxis": "x2",
         "yaxis": "y2",
         "width": 0.8
        },
        {
         "box": {
          "visible": true
         },
         "fillcolor": "#1CA71C",
         "legendgroup": "idt",
         "line": {
          "color": "black"
         },
         "meanline": {
          "visible": true
         },
         "name": "RA, idt",
         "opacity": 0.75,
         "scalegroup": "mcc",
         "showlegend": false,
         "side": "positive",
         "spanmode": "hard",
         "x0": "idt",
         "y": [
          0.4157528236838912,
          0.13006525408951997,
          0.5239700047089811,
          0.3846474815352358,
          0.36243282843442415,
          0.3810253440147152,
          0.34314562764082696,
          0.2296045430176088,
          0.32188768960245,
          0.31502317550720216,
          0.3835635379492509,
          0.37168136596297485,
          0.42875844062529567,
          0.38091917085517313,
          0.20370937732334055,
          0.2657277351284395,
          0.20958293782840892,
          0.21218271533920247,
          0.3658979405948108,
          0.29539334828809366
         ],
         "type": "violin",
         "xaxis": "x2",
         "yaxis": "y2",
         "width": 0.8
        },
        {
         "box": {
          "visible": true
         },
         "fillcolor": "#FB0D0D",
         "legendgroup": "idvt",
         "line": {
          "color": "black"
         },
         "meanline": {
          "visible": true
         },
         "name": "RA, idvt",
         "opacity": 0.75,
         "scalegroup": "mcc",
         "showlegend": false,
         "side": "positive",
         "spanmode": "hard",
         "x0": "idvt",
         "y": [
          0.4157528236838912,
          0.12505091493490478,
          0.5247789203524269,
          0.38292259048794325,
          0.3843979613963464,
          0.4044708583002914,
          0.3431251663716156,
          0.23297068976520546,
          0.3187866601738887,
          0.31502317550720216,
          0.3835635379492509,
          0.383612431814382,
          0.44266798245732836,
          0.38091917085517313,
          0.20370937732334055,
          0.42907565604448794,
          0.4431151181047123,
          0.45004561119259906,
          0.43538966099690196,
          0.39525330952137744
         ],
         "type": "violin",
         "xaxis": "x2",
         "yaxis": "y2",
         "width": 0.8
        },
        {
         "box": {
          "visible": true
         },
         "fillcolor": "#DA16FF",
         "legendgroup": "engbert",
         "line": {
          "color": "black"
         },
         "meanline": {
          "visible": true
         },
         "name": "RA, engbert",
         "opacity": 0.75,
         "scalegroup": "mcc",
         "showlegend": false,
         "side": "positive",
         "spanmode": "hard",
         "x0": "engbert",
         "y": [
          0.7031758032857677,
          0.26713599603448374,
          0.8038353351859011,
          0.7111846732394038,
          0.6896598673769502,
          0.598992783703376,
          0.5546642220438748,
          0.40580590583632914,
          0.5750284184511739,
          0.6461420099072979,
          0.6853930043982658,
          0.7204886604249263,
          0.7752814719898774,
          0.6890557744778408,
          0.635878947290035,
          0.603860980172574,
          0.5567287730501961,
          0.5247601173655974,
          0.718334547046693,
          0.6220670111797029
         ],
         "type": "violin",
         "xaxis": "x2",
         "yaxis": "y2",
         "width": 0.8
        },
        {
         "box": {
          "visible": true
         },
         "fillcolor": "#222A2A",
         "legendgroup": "nh",
         "line": {
          "color": "black"
         },
         "meanline": {
          "visible": true
         },
         "name": "RA, nh",
         "opacity": 0.75,
         "scalegroup": "mcc",
         "showlegend": false,
         "side": "positive",
         "spanmode": "hard",
         "x0": "nh",
         "y": [
          0.6461458719082374,
          0.24911712118839252,
          0.16851498932807163,
          0.681658394622969,
          0.6216096269452077,
          0.577242980822918,
          0.2809261899046507,
          0.3445833606134415,
          0.5021428368113601,
          0.590600711468736,
          0.7117324030122887,
          0.7069536878710666,
          0.7071337151516656,
          0.6413230490847932,
          0.6157237586598235,
          0.5162834157675338,
          0.2724944370967377,
          0.3476620882799662,
          0.2624902296021192,
          0.5464489754985659
         ],
         "type": "violin",
         "xaxis": "x2",
         "yaxis": "y2",
         "width": 0.8
        },
        {
         "box": {
          "visible": true
         },
         "fillcolor": "#B68100",
         "legendgroup": "remodnav",
         "line": {
          "color": "black"
         },
         "meanline": {
          "visible": true
         },
         "name": "RA, remodnav",
         "opacity": 0.75,
         "scalegroup": "mcc",
         "showlegend": false,
         "side": "positive",
         "spanmode": "hard",
         "x0": "remodnav",
         "y": [
          0.2868364291034319,
          0.017211980153194077,
          0.2365307045775709,
          0.2915872216643501,
          0.28712297385318475,
          0.22271861613143287,
          0.24585340079054496,
          0.12233554889986761,
          0.1444713197504425,
          0.16360648759934965,
          0.3006923597818916,
          0.1776566110885564,
          0.1882378523226258,
          0.3137116097014414,
          0.19479772996322262,
          0.3196385917526098,
          0.26726929370776387,
          0.30040451827315673,
          0.23750281969580816,
          0.26282374658581587
         ],
         "type": "violin",
         "xaxis": "x2",
         "yaxis": "y2",
         "width": 0.8
        },
        {
         "box": {
          "visible": true
         },
         "fillcolor": "#bab0ac",
         "legendgroup": "Other GT",
         "line": {
          "color": "black"
         },
         "meanline": {
          "visible": true
         },
         "name": "MN, Other GT",
         "opacity": 0.25,
         "scalegroup": "mcc",
         "showlegend": false,
         "spanmode": "hard",
         "x0": "Other GT",
         "y": [
          0.7945975446459747,
          0.35487110066591093,
          0.7342234368469134,
          0.6856392754447994,
          0.9054786972422211,
          0.8966383239071852,
          0.9073933411344481,
          0.8016147300141158,
          0.8376990757927559,
          0.850161233294591,
          0.8603775850984822,
          0.898086299754557,
          0.8380007079230686,
          0.9012921888468564
         ],
         "type": "violin",
         "xaxis": "x2",
         "yaxis": "y2",
         "width": 0.8,
         "visible": false
        },
        {
         "box": {
          "visible": true
         },
         "fillcolor": "#2E91E5",
         "legendgroup": "ivt",
         "line": {
          "color": "black"
         },
         "meanline": {
          "visible": true
         },
         "name": "MN, ivt",
         "opacity": 0.25,
         "scalegroup": "mcc",
         "showlegend": false,
         "side": "negative",
         "spanmode": "hard",
         "x0": "ivt",
         "y": [
          0.7680997880853535,
          0.7106571946106077,
          0.5746577745933947,
          0.5092188652203127,
          0.6653348142145934,
          0.7010817292412698,
          0.7871517024793294,
          0.7359315912692438,
          0.5133149327464559,
          0.6579014196210405,
          0.6137529852271325,
          0.5357568699184115,
          0.7194878493910657,
          0.5709967893879104
         ],
         "type": "violin",
         "xaxis": "x2",
         "yaxis": "y2",
         "width": 0.8
        },
        {
         "box": {
          "visible": true
         },
         "fillcolor": "#E15F99",
         "legendgroup": "ivvt",
         "line": {
          "color": "black"
         },
         "meanline": {
          "visible": true
         },
         "name": "MN, ivvt",
         "opacity": 0.25,
         "scalegroup": "mcc",
         "showlegend": false,
         "side": "negative",
         "spanmode": "hard",
         "x0": "ivvt",
         "y": [
          0.7709106634764518,
          0.651963139203665,
          0.4796730282717089,
          0.4653314659639713,
          0.6685499493600184,
          0.6954665294600703,
          0.7421474465832018,
          0.7257150479887239,
          0.5394217826926122,
          0.606840577600554,
          0.6028693210246494,
          0.49161256296245043,
          0.6609678137043133,
          0.5851008437050376
         ],
         "type": "violin",
         "xaxis": "x2",
         "yaxis": "y2",
         "width": 0.8
        },
        {
         "box": {
          "visible": true
         },
         "fillcolor": "#1CA71C",
         "legendgroup": "idt",
         "line": {
          "color": "black"
         },
         "meanline": {
          "visible": true
         },
         "name": "MN, idt",
         "opacity": 0.25,
         "scalegroup": "mcc",
         "showlegend": false,
         "side": "negative",
         "spanmode": "hard",
         "x0": "idt",
         "y": [
          0.452852033441316,
          0.3470491205663485,
          0.4262822043713813,
          0.36151501250244894,
          0.38218465113733596,
          0.39127608597688557,
          0.44503382983010303,
          0.43875777042216596,
          0.20683254592369607,
          0.30797976396604787,
          0.23685528570365058,
          0.21888962606932805,
          0.4373183444956027,
          0.30992792692363874
         ],
         "type": "violin",
         "xaxis": "x2",
         "yaxis": "y2",
         "width": 0.8
        },
        {
         "box": {
          "visible": true
         },
         "fillcolor": "#FB0D0D",
         "legendgroup": "idvt",
         "line": {
          "color": "black"
         },
         "meanline": {
          "visible": true
         },
         "name": "MN, idvt",
         "opacity": 0.25,
         "scalegroup": "mcc",
         "showlegend": false,
         "side": "negative",
         "spanmode": "hard",
         "x0": "idvt",
         "y": [
          0.452852033441316,
          0.3345953685218822,
          0.45244731866956284,
          0.3654119417308777,
          0.38218465113733596,
          0.40232819282484455,
          0.45945901967636094,
          0.43875777042216596,
          0.20683254592369607,
          0.49816614763436473,
          0.5019431516920128,
          0.4770403064727679,
          0.4744233485915404,
          0.4141599293754702
         ],
         "type": "violin",
         "xaxis": "x2",
         "yaxis": "y2",
         "width": 0.8
        },
        {
         "box": {
          "visible": true
         },
         "fillcolor": "#DA16FF",
         "legendgroup": "engbert",
         "line": {
          "color": "black"
         },
         "meanline": {
          "visible": true
         },
         "name": "MN, engbert",
         "opacity": 0.25,
         "scalegroup": "mcc",
         "showlegend": false,
         "side": "negative",
         "spanmode": "hard",
         "x0": "engbert",
         "y": [
          0.788710035978035,
          0.6641746224285623,
          0.6870139611968531,
          0.5857585468996163,
          0.7117810448234411,
          0.7602286164746429,
          0.8017221110597873,
          0.7711507050077328,
          0.6235592605540812,
          0.6618774149967595,
          0.6212670856419956,
          0.5457823811361245,
          0.7460299619133446,
          0.6005448473507735
         ],
         "type": "violin",
         "xaxis": "x2",
         "yaxis": "y2",
         "width": 0.8
        },
        {
         "box": {
          "visible": true
         },
         "fillcolor": "#222A2A",
         "legendgroup": "nh",
         "line": {
          "color": "black"
         },
         "meanline": {
          "visible": true
         },
         "name": "MN, nh",
         "opacity": 0.25,
         "scalegroup": "mcc",
         "showlegend": false,
         "side": "negative",
         "spanmode": "hard",
         "x0": "nh",
         "y": [
          0.744198189348327,
          0.5781079728584605,
          0.6635402623893722,
          0.2914809304705758,
          0.7195450540987204,
          0.7481132445378125,
          0.708692799984204,
          0.7145404627520203,
          0.6104540501077993,
          0.5739641976329108,
          0.2907890911103188,
          0.36389940641522944,
          0.28192806231546647,
          0.5320396768864258
         ],
         "type": "violin",
         "xaxis": "x2",
         "yaxis": "y2",
         "width": 0.8
        },
        {
         "box": {
          "visible": true
         },
         "fillcolor": "#B68100",
         "legendgroup": "remodnav",
         "line": {
          "color": "black"
         },
         "meanline": {
          "visible": true
         },
         "name": "MN, remodnav",
         "opacity": 0.25,
         "scalegroup": "mcc",
         "showlegend": false,
         "side": "negative",
         "spanmode": "hard",
         "x0": "remodnav",
         "y": [
          0.25699136271624506,
          0.11856791910635793,
          0.20137773712267446,
          0.19569502928954247,
          0.30332208821612916,
          0.22148219541708888,
          0.19699327062606553,
          0.2830385497503976,
          0.21074942153654505,
          0.2886917645359853,
          0.2749646469713485,
          0.2891533680869757,
          0.2718290155157352,
          0.2563982612217266
         ],
         "type": "violin",
         "xaxis": "x2",
         "yaxis": "y2",
         "width": 0.8
        },
        {
         "box": {
          "visible": true
         },
         "fillcolor": "#bab0ac",
         "legendgroup": "Other GT",
         "line": {
          "color": "black"
         },
         "meanline": {
          "visible": true
         },
         "name": "RA, Other GT",
         "opacity": 0.75,
         "scalegroup": "complement_nld",
         "showlegend": false,
         "spanmode": "hard",
         "x0": "Other GT",
         "y": [
          0.9442662389735365,
          0.8610665597433841,
          0.9168003207698476,
          0.8833433553818401,
          0.9741379310344828,
          0.9743384121892542,
          0.9727345629510826,
          0.9410585404971933,
          0.9534301452178268,
          0.9290438965724594,
          0.9201764941837144,
          0.9332397754611067,
          0.9432638331996792,
          0.9564128256513026
         ],
         "type": "violin",
         "xaxis": "x3",
         "yaxis": "y3",
         "width": 0.8,
         "visible": true
        },
        {
         "box": {
          "visible": true
         },
         "fillcolor": "#2E91E5",
         "legendgroup": "ivt",
         "line": {
          "color": "black"
         },
         "meanline": {
          "visible": true
         },
         "name": "RA, ivt",
         "opacity": 0.75,
         "scalegroup": "complement_nld",
         "showlegend": false,
         "side": "positive",
         "spanmode": "hard",
         "x0": "ivt",
         "y": [
          0.9198075380914195,
          0.8520449077786688,
          0.9557025456003208,
          0.9314354450681636,
          0.9037690457097033,
          0.8448275862068966,
          0.8041691721787934,
          0.6930176565008026,
          0.8321643286573146,
          0.87625250501002,
          0.9161988773055333,
          0.9178027265437049,
          0.9330392943063353,
          0.8999599037690457,
          0.8883324987481221,
          0.8123872519542994,
          0.7027677496991576,
          0.6832397754611066,
          0.8995589414595028,
          0.8221442885771543
         ],
         "type": "violin",
         "xaxis": "x3",
         "yaxis": "y3",
         "width": 0.8
        },
        {
         "box": {
          "visible": true
         },
         "fillcolor": "#E15F99",
         "legendgroup": "ivvt",
         "line": {
          "color": "black"
         },
         "meanline": {
          "visible": true
         },
         "name": "RA, ivvt",
         "opacity": 0.75,
         "scalegroup": "complement_nld",
         "showlegend": false,
         "side": "positive",
         "spanmode": "hard",
         "x0": "ivvt",
         "y": [
          0.9161988773055333,
          0.8498396150761829,
          0.9284425736620565,
          0.9220128307939054,
          0.8991579791499599,
          0.7658380112269447,
          0.7556624574062938,
          0.6472712680577849,
          0.8171342685370742,
          0.8722444889779559,
          0.9047714514835605,
          0.9125902165196471,
          0.9186046511627907,
          0.8959502806736167,
          0.8883324987481221,
          0.7983563840448988,
          0.6923385479342158,
          0.6561748195669608,
          0.8670809943865276,
          0.8246492985971944
         ],
         "type": "violin",
         "xaxis": "x3",
         "yaxis": "y3",
         "width": 0.8
        },
        {
         "box": {
          "visible": true
         },
         "fillcolor": "#1CA71C",
         "legendgroup": "idt",
         "line": {
          "color": "black"
         },
         "meanline": {
          "visible": true
         },
         "name": "RA, idt",
         "opacity": 0.75,
         "scalegroup": "complement_nld",
         "showlegend": false,
         "side": "positive",
         "spanmode": "hard",
         "x0": "idt",
         "y": [
          0.8684843624699279,
          0.843223736968725,
          0.895570254560032,
          0.8793103448275862,
          0.8562550120288692,
          0.8402165196471532,
          0.8015634395670475,
          0.6514847512038524,
          0.7660320641282565,
          0.8176352705410822,
          0.8622694466720129,
          0.8600641539695268,
          0.8624699278267842,
          0.8480352846832397,
          0.8317476214321482,
          0.7229905792744037,
          0.5403128760529483,
          0.5352846832397755,
          0.8237770649558942,
          0.7494989979959921
         ],
         "type": "violin",
         "xaxis": "x3",
         "yaxis": "y3",
         "width": 0.8
        },
        {
         "box": {
          "visible": true
         },
         "fillcolor": "#FB0D0D",
         "legendgroup": "idvt",
         "line": {
          "color": "black"
         },
         "meanline": {
          "visible": true
         },
         "name": "RA, idvt",
         "opacity": 0.75,
         "scalegroup": "complement_nld",
         "showlegend": false,
         "side": "positive",
         "spanmode": "hard",
         "x0": "idvt",
         "y": [
          0.8684843624699279,
          0.8430232558139534,
          0.8937662858288234,
          0.8791098636728147,
          0.8578588612670409,
          0.8430232558139534,
          0.7989577069553017,
          0.6506821829855538,
          0.7640280561122245,
          0.8176352705410822,
          0.8622694466720129,
          0.8600641539695268,
          0.8644747393744988,
          0.8480352846832397,
          0.8317476214321482,
          0.7640809781519342,
          0.6606498194945849,
          0.6529671210906175,
          0.8372093023255813,
          0.7720440881763527
         ],
         "type": "violin",
         "xaxis": "x3",
         "yaxis": "y3",
         "width": 0.8
        },
        {
         "box": {
          "visible": true
         },
         "fillcolor": "#DA16FF",
         "legendgroup": "engbert",
         "line": {
          "color": "black"
         },
         "meanline": {
          "visible": true
         },
         "name": "RA, engbert",
         "opacity": 0.75,
         "scalegroup": "complement_nld",
         "showlegend": false,
         "side": "positive",
         "spanmode": "hard",
         "x0": "engbert",
         "y": [
          0.9200080192461908,
          0.8490376904570971,
          0.9446782922429344,
          0.9208099438652767,
          0.9103849238171612,
          0.8771050521251003,
          0.8366406093405492,
          0.6954253611556982,
          0.8306613226452906,
          0.8907815631262526,
          0.9079791499599038,
          0.9208099438652767,
          0.936046511627907,
          0.9105854049719326,
          0.8968452679018528,
          0.8099819603126879,
          0.7001604492579222,
          0.6874498797113071,
          0.903167602245389,
          0.8341683366733467
         ],
         "type": "violin",
         "xaxis": "x3",
         "yaxis": "y3",
         "width": 0.8
        },
        {
         "box": {
          "visible": true
         },
         "fillcolor": "#222A2A",
         "legendgroup": "nh",
         "line": {
          "color": "black"
         },
         "meanline": {
          "visible": true
         },
         "name": "RA, nh",
         "opacity": 0.75,
         "scalegroup": "complement_nld",
         "showlegend": false,
         "side": "positive",
         "spanmode": "hard",
         "x0": "nh",
         "y": [
          0.8935445068163592,
          0.8400160384923817,
          0.8518741230707556,
          0.8973536487570168,
          0.8718925421010425,
          0.8666800320769847,
          0.797153738224093,
          0.6649277688603532,
          0.8091182364729459,
          0.8767535070140281,
          0.9133921411387329,
          0.9109863672814755,
          0.9109863672814755,
          0.8895348837209303,
          0.8973460190285428,
          0.8063740228502706,
          0.5575611712795828,
          0.5675621491579792,
          0.805934242181235,
          0.7975951903807615
         ],
         "type": "violin",
         "xaxis": "x3",
         "yaxis": "y3",
         "width": 0.8
        },
        {
         "box": {
          "visible": true
         },
         "fillcolor": "#B68100",
         "legendgroup": "remodnav",
         "line": {
          "color": "black"
         },
         "meanline": {
          "visible": true
         },
         "name": "RA, remodnav",
         "opacity": 0.75,
         "scalegroup": "complement_nld",
         "showlegend": false,
         "side": "positive",
         "spanmode": "hard",
         "x0": "remodnav",
         "y": [
          0.39574979951884526,
          0.48616680032076987,
          0.19983964722389258,
          0.46451483560545304,
          0.404971932638332,
          0.31275060144346434,
          0.26297855281619564,
          0.3938603531300161,
          0.282565130260521,
          0.23446893787575152,
          0.4320368885324779,
          0.19286287089013632,
          0.10765838011226947,
          0.3905372894947875,
          0.23685528292438662,
          0.36981358989777513,
          0.20697954271961494,
          0.3205693664795509,
          0.2896952686447474,
          0.251002004008016
         ],
         "type": "violin",
         "xaxis": "x3",
         "yaxis": "y3",
         "width": 0.8
        },
        {
         "box": {
          "visible": true
         },
         "fillcolor": "#bab0ac",
         "legendgroup": "Other GT",
         "line": {
          "color": "black"
         },
         "meanline": {
          "visible": true
         },
         "name": "MN, Other GT",
         "opacity": 0.25,
         "scalegroup": "complement_nld",
         "showlegend": false,
         "spanmode": "hard",
         "x0": "Other GT",
         "y": [
          0.9442662389735365,
          0.8610665597433841,
          0.9168003207698476,
          0.8833433553818401,
          0.9741379310344828,
          0.9743384121892542,
          0.9727345629510826,
          0.9410585404971933,
          0.9534301452178268,
          0.9290438965724594,
          0.9201764941837144,
          0.9332397754611067,
          0.9432638331996792,
          0.9564128256513026
         ],
         "type": "violin",
         "xaxis": "x3",
         "yaxis": "y3",
         "width": 0.8,
         "visible": false
        },
        {
         "box": {
          "visible": true
         },
         "fillcolor": "#2E91E5",
         "legendgroup": "ivt",
         "line": {
          "color": "black"
         },
         "meanline": {
          "visible": true
         },
         "name": "MN, ivt",
         "opacity": 0.25,
         "scalegroup": "complement_nld",
         "showlegend": false,
         "side": "negative",
         "spanmode": "hard",
         "x0": "ivt",
         "y": [
          0.9474739374498797,
          0.9889735364875701,
          0.8849238171611868,
          0.8276207656845059,
          0.917401764234162,
          0.9292301523656776,
          0.9458700882117081,
          0.940056134723336,
          0.8828242363545318,
          0.8659049909801564,
          0.759927797833935,
          0.71271050521251,
          0.9113873295910184,
          0.8371743486973948
         ],
         "type": "violin",
         "xaxis": "x3",
         "yaxis": "y3",
         "width": 0.8
        },
        {
         "box": {
          "visible": true
         },
         "fillcolor": "#E15F99",
         "legendgroup": "ivvt",
         "line": {
          "color": "black"
         },
         "meanline": {
          "visible": true
         },
         "name": "MN, ivvt",
         "opacity": 0.25,
         "scalegroup": "complement_nld",
         "showlegend": false,
         "side": "negative",
         "spanmode": "hard",
         "x0": "ivvt",
         "y": [
          0.9450681635926222,
          0.9843624699278268,
          0.8079390537289495,
          0.7658849468831429,
          0.9099839615076183,
          0.9218123496391339,
          0.9266238973536487,
          0.9342421812349639,
          0.8833249874812218,
          0.8282220885949088,
          0.7400722021660651,
          0.6718123496391339,
          0.8759021651964716,
          0.8366733466933868
         ],
         "type": "violin",
         "xaxis": "x3",
         "yaxis": "y3",
         "width": 0.8
        },
        {
         "box": {
          "visible": true
         },
         "fillcolor": "#1CA71C",
         "legendgroup": "idt",
         "line": {
          "color": "black"
         },
         "meanline": {
          "visible": true
         },
         "name": "MN, idt",
         "opacity": 0.25,
         "scalegroup": "complement_nld",
         "showlegend": false,
         "side": "negative",
         "spanmode": "hard",
         "x0": "idt",
         "y": [
          0.890737770649559,
          0.9799518845228549,
          0.8861267040898155,
          0.8314291441170576,
          0.8628708901363271,
          0.8732959101844426,
          0.873897353648757,
          0.888532477947073,
          0.8327491236855282,
          0.7881338945680497,
          0.600882470918572,
          0.572373696872494,
          0.8458299919807538,
          0.7700400801603207
         ],
         "type": "violin",
         "xaxis": "x3",
         "yaxis": "y3",
         "width": 0.8
        },
        {
         "box": {
          "visible": true
         },
         "fillcolor": "#FB0D0D",
         "legendgroup": "idvt",
         "line": {
          "color": "black"
         },
         "meanline": {
          "visible": true
         },
         "name": "MN, idvt",
         "opacity": 0.25,
         "scalegroup": "complement_nld",
         "showlegend": false,
         "side": "negative",
         "spanmode": "hard",
         "x0": "idvt",
         "y": [
          0.890737770649559,
          0.9797514033680834,
          0.8889334402566159,
          0.8294247344157146,
          0.8628708901363271,
          0.8730954290296712,
          0.8759021651964716,
          0.888532477947073,
          0.8327491236855282,
          0.8292242934455802,
          0.721620537505014,
          0.6908580593424218,
          0.8526463512429832,
          0.7925851703406813
         ],
         "type": "violin",
         "xaxis": "x3",
         "yaxis": "y3",
         "width": 0.8
        },
        {
         "box": {
          "visible": true
         },
         "fillcolor": "#DA16FF",
         "legendgroup": "engbert",
         "line": {
          "color": "black"
         },
         "meanline": {
          "visible": true
         },
         "name": "MN, engbert",
         "opacity": 0.25,
         "scalegroup": "complement_nld",
         "showlegend": false,
         "side": "negative",
         "spanmode": "hard",
         "x0": "engbert",
         "y": [
          0.9496792301523657,
          0.9809542902967121,
          0.9180032076984763,
          0.856885147324113,
          0.9143945469125903,
          0.9334402566158782,
          0.946271050521251,
          0.9450681635926222,
          0.885828743114672,
          0.8552816195630387,
          0.7569193742478941,
          0.7169206094627105,
          0.9145950280673617,
          0.8306613226452906
         ],
         "type": "violin",
         "xaxis": "x3",
         "yaxis": "y3",
         "width": 0.8
        },
        {
         "box": {
          "visible": true
         },
         "fillcolor": "#222A2A",
         "legendgroup": "nh",
         "line": {
          "color": "black"
         },
         "meanline": {
          "visible": true
         },
         "name": "MN, nh",
         "opacity": 0.25,
         "scalegroup": "complement_nld",
         "showlegend": false,
         "side": "negative",
         "spanmode": "hard",
         "x0": "nh",
         "y": [
          0.9258219727345629,
          0.9665196471531676,
          0.9101844426623897,
          0.8226097414311485,
          0.915196471531676,
          0.9242181234963913,
          0.9127906976744186,
          0.9176022453889334,
          0.8833249874812218,
          0.8514732411304871,
          0.609707180104292,
          0.5922213311948676,
          0.8177626303127505,
          0.7920841683366733
         ],
         "type": "violin",
         "xaxis": "x3",
         "yaxis": "y3",
         "width": 0.8
        },
        {
         "box": {
          "visible": true
         },
         "fillcolor": "#B68100",
         "legendgroup": "remodnav",
         "line": {
          "color": "black"
         },
         "meanline": {
          "visible": true
         },
         "name": "MN, remodnav",
         "opacity": 0.25,
         "scalegroup": "complement_nld",
         "showlegend": false,
         "side": "negative",
         "spanmode": "hard",
         "x0": "remodnav",
         "y": [
          0.3610665597433841,
          0.48696872493985566,
          0.2644346431435445,
          0.19823611946281816,
          0.43384121892542105,
          0.20128307939053725,
          0.10926222935044105,
          0.3586607858861267,
          0.23485227841762646,
          0.33934656243736216,
          0.20437224227837947,
          0.29791499599037685,
          0.28007217321571776,
          0.2464929859719439
         ],
         "type": "violin",
         "xaxis": "x3",
         "yaxis": "y3",
         "width": 0.8
        }
       ],
       "layout": {
        "template": {
         "data": {
          "histogram2dcontour": [
           {
            "type": "histogram2dcontour",
            "colorbar": {
             "outlinewidth": 0,
             "ticks": ""
            },
            "colorscale": [
             [
              0.0,
              "#0d0887"
             ],
             [
              0.1111111111111111,
              "#46039f"
             ],
             [
              0.2222222222222222,
              "#7201a8"
             ],
             [
              0.3333333333333333,
              "#9c179e"
             ],
             [
              0.4444444444444444,
              "#bd3786"
             ],
             [
              0.5555555555555556,
              "#d8576b"
             ],
             [
              0.6666666666666666,
              "#ed7953"
             ],
             [
              0.7777777777777778,
              "#fb9f3a"
             ],
             [
              0.8888888888888888,
              "#fdca26"
             ],
             [
              1.0,
              "#f0f921"
             ]
            ]
           }
          ],
          "choropleth": [
           {
            "type": "choropleth",
            "colorbar": {
             "outlinewidth": 0,
             "ticks": ""
            }
           }
          ],
          "histogram2d": [
           {
            "type": "histogram2d",
            "colorbar": {
             "outlinewidth": 0,
             "ticks": ""
            },
            "colorscale": [
             [
              0.0,
              "#0d0887"
             ],
             [
              0.1111111111111111,
              "#46039f"
             ],
             [
              0.2222222222222222,
              "#7201a8"
             ],
             [
              0.3333333333333333,
              "#9c179e"
             ],
             [
              0.4444444444444444,
              "#bd3786"
             ],
             [
              0.5555555555555556,
              "#d8576b"
             ],
             [
              0.6666666666666666,
              "#ed7953"
             ],
             [
              0.7777777777777778,
              "#fb9f3a"
             ],
             [
              0.8888888888888888,
              "#fdca26"
             ],
             [
              1.0,
              "#f0f921"
             ]
            ]
           }
          ],
          "heatmap": [
           {
            "type": "heatmap",
            "colorbar": {
             "outlinewidth": 0,
             "ticks": ""
            },
            "colorscale": [
             [
              0.0,
              "#0d0887"
             ],
             [
              0.1111111111111111,
              "#46039f"
             ],
             [
              0.2222222222222222,
              "#7201a8"
             ],
             [
              0.3333333333333333,
              "#9c179e"
             ],
             [
              0.4444444444444444,
              "#bd3786"
             ],
             [
              0.5555555555555556,
              "#d8576b"
             ],
             [
              0.6666666666666666,
              "#ed7953"
             ],
             [
              0.7777777777777778,
              "#fb9f3a"
             ],
             [
              0.8888888888888888,
              "#fdca26"
             ],
             [
              1.0,
              "#f0f921"
             ]
            ]
           }
          ],
          "heatmapgl": [
           {
            "type": "heatmapgl",
            "colorbar": {
             "outlinewidth": 0,
             "ticks": ""
            },
            "colorscale": [
             [
              0.0,
              "#0d0887"
             ],
             [
              0.1111111111111111,
              "#46039f"
             ],
             [
              0.2222222222222222,
              "#7201a8"
             ],
             [
              0.3333333333333333,
              "#9c179e"
             ],
             [
              0.4444444444444444,
              "#bd3786"
             ],
             [
              0.5555555555555556,
              "#d8576b"
             ],
             [
              0.6666666666666666,
              "#ed7953"
             ],
             [
              0.7777777777777778,
              "#fb9f3a"
             ],
             [
              0.8888888888888888,
              "#fdca26"
             ],
             [
              1.0,
              "#f0f921"
             ]
            ]
           }
          ],
          "contourcarpet": [
           {
            "type": "contourcarpet",
            "colorbar": {
             "outlinewidth": 0,
             "ticks": ""
            }
           }
          ],
          "contour": [
           {
            "type": "contour",
            "colorbar": {
             "outlinewidth": 0,
             "ticks": ""
            },
            "colorscale": [
             [
              0.0,
              "#0d0887"
             ],
             [
              0.1111111111111111,
              "#46039f"
             ],
             [
              0.2222222222222222,
              "#7201a8"
             ],
             [
              0.3333333333333333,
              "#9c179e"
             ],
             [
              0.4444444444444444,
              "#bd3786"
             ],
             [
              0.5555555555555556,
              "#d8576b"
             ],
             [
              0.6666666666666666,
              "#ed7953"
             ],
             [
              0.7777777777777778,
              "#fb9f3a"
             ],
             [
              0.8888888888888888,
              "#fdca26"
             ],
             [
              1.0,
              "#f0f921"
             ]
            ]
           }
          ],
          "surface": [
           {
            "type": "surface",
            "colorbar": {
             "outlinewidth": 0,
             "ticks": ""
            },
            "colorscale": [
             [
              0.0,
              "#0d0887"
             ],
             [
              0.1111111111111111,
              "#46039f"
             ],
             [
              0.2222222222222222,
              "#7201a8"
             ],
             [
              0.3333333333333333,
              "#9c179e"
             ],
             [
              0.4444444444444444,
              "#bd3786"
             ],
             [
              0.5555555555555556,
              "#d8576b"
             ],
             [
              0.6666666666666666,
              "#ed7953"
             ],
             [
              0.7777777777777778,
              "#fb9f3a"
             ],
             [
              0.8888888888888888,
              "#fdca26"
             ],
             [
              1.0,
              "#f0f921"
             ]
            ]
           }
          ],
          "mesh3d": [
           {
            "type": "mesh3d",
            "colorbar": {
             "outlinewidth": 0,
             "ticks": ""
            }
           }
          ],
          "scatter": [
           {
            "fillpattern": {
             "fillmode": "overlay",
             "size": 10,
             "solidity": 0.2
            },
            "type": "scatter"
           }
          ],
          "parcoords": [
           {
            "type": "parcoords",
            "line": {
             "colorbar": {
              "outlinewidth": 0,
              "ticks": ""
             }
            }
           }
          ],
          "scatterpolargl": [
           {
            "type": "scatterpolargl",
            "marker": {
             "colorbar": {
              "outlinewidth": 0,
              "ticks": ""
             }
            }
           }
          ],
          "bar": [
           {
            "error_x": {
             "color": "#2a3f5f"
            },
            "error_y": {
             "color": "#2a3f5f"
            },
            "marker": {
             "line": {
              "color": "#E5ECF6",
              "width": 0.5
             },
             "pattern": {
              "fillmode": "overlay",
              "size": 10,
              "solidity": 0.2
             }
            },
            "type": "bar"
           }
          ],
          "scattergeo": [
           {
            "type": "scattergeo",
            "marker": {
             "colorbar": {
              "outlinewidth": 0,
              "ticks": ""
             }
            }
           }
          ],
          "scatterpolar": [
           {
            "type": "scatterpolar",
            "marker": {
             "colorbar": {
              "outlinewidth": 0,
              "ticks": ""
             }
            }
           }
          ],
          "histogram": [
           {
            "marker": {
             "pattern": {
              "fillmode": "overlay",
              "size": 10,
              "solidity": 0.2
             }
            },
            "type": "histogram"
           }
          ],
          "scattergl": [
           {
            "type": "scattergl",
            "marker": {
             "colorbar": {
              "outlinewidth": 0,
              "ticks": ""
             }
            }
           }
          ],
          "scatter3d": [
           {
            "type": "scatter3d",
            "line": {
             "colorbar": {
              "outlinewidth": 0,
              "ticks": ""
             }
            },
            "marker": {
             "colorbar": {
              "outlinewidth": 0,
              "ticks": ""
             }
            }
           }
          ],
          "scattermapbox": [
           {
            "type": "scattermapbox",
            "marker": {
             "colorbar": {
              "outlinewidth": 0,
              "ticks": ""
             }
            }
           }
          ],
          "scatterternary": [
           {
            "type": "scatterternary",
            "marker": {
             "colorbar": {
              "outlinewidth": 0,
              "ticks": ""
             }
            }
           }
          ],
          "scattercarpet": [
           {
            "type": "scattercarpet",
            "marker": {
             "colorbar": {
              "outlinewidth": 0,
              "ticks": ""
             }
            }
           }
          ],
          "carpet": [
           {
            "aaxis": {
             "endlinecolor": "#2a3f5f",
             "gridcolor": "white",
             "linecolor": "white",
             "minorgridcolor": "white",
             "startlinecolor": "#2a3f5f"
            },
            "baxis": {
             "endlinecolor": "#2a3f5f",
             "gridcolor": "white",
             "linecolor": "white",
             "minorgridcolor": "white",
             "startlinecolor": "#2a3f5f"
            },
            "type": "carpet"
           }
          ],
          "table": [
           {
            "cells": {
             "fill": {
              "color": "#EBF0F8"
             },
             "line": {
              "color": "white"
             }
            },
            "header": {
             "fill": {
              "color": "#C8D4E3"
             },
             "line": {
              "color": "white"
             }
            },
            "type": "table"
           }
          ],
          "barpolar": [
           {
            "marker": {
             "line": {
              "color": "#E5ECF6",
              "width": 0.5
             },
             "pattern": {
              "fillmode": "overlay",
              "size": 10,
              "solidity": 0.2
             }
            },
            "type": "barpolar"
           }
          ],
          "pie": [
           {
            "automargin": true,
            "type": "pie"
           }
          ]
         },
         "layout": {
          "autotypenumbers": "strict",
          "colorway": [
           "#636efa",
           "#EF553B",
           "#00cc96",
           "#ab63fa",
           "#FFA15A",
           "#19d3f3",
           "#FF6692",
           "#B6E880",
           "#FF97FF",
           "#FECB52"
          ],
          "font": {
           "color": "#2a3f5f"
          },
          "hovermode": "closest",
          "hoverlabel": {
           "align": "left"
          },
          "paper_bgcolor": "white",
          "plot_bgcolor": "#E5ECF6",
          "polar": {
           "bgcolor": "#E5ECF6",
           "angularaxis": {
            "gridcolor": "white",
            "linecolor": "white",
            "ticks": ""
           },
           "radialaxis": {
            "gridcolor": "white",
            "linecolor": "white",
            "ticks": ""
           }
          },
          "ternary": {
           "bgcolor": "#E5ECF6",
           "aaxis": {
            "gridcolor": "white",
            "linecolor": "white",
            "ticks": ""
           },
           "baxis": {
            "gridcolor": "white",
            "linecolor": "white",
            "ticks": ""
           },
           "caxis": {
            "gridcolor": "white",
            "linecolor": "white",
            "ticks": ""
           }
          },
          "coloraxis": {
           "colorbar": {
            "outlinewidth": 0,
            "ticks": ""
           }
          },
          "colorscale": {
           "sequential": [
            [
             0.0,
             "#0d0887"
            ],
            [
             0.1111111111111111,
             "#46039f"
            ],
            [
             0.2222222222222222,
             "#7201a8"
            ],
            [
             0.3333333333333333,
             "#9c179e"
            ],
            [
             0.4444444444444444,
             "#bd3786"
            ],
            [
             0.5555555555555556,
             "#d8576b"
            ],
            [
             0.6666666666666666,
             "#ed7953"
            ],
            [
             0.7777777777777778,
             "#fb9f3a"
            ],
            [
             0.8888888888888888,
             "#fdca26"
            ],
            [
             1.0,
             "#f0f921"
            ]
           ],
           "sequentialminus": [
            [
             0.0,
             "#0d0887"
            ],
            [
             0.1111111111111111,
             "#46039f"
            ],
            [
             0.2222222222222222,
             "#7201a8"
            ],
            [
             0.3333333333333333,
             "#9c179e"
            ],
            [
             0.4444444444444444,
             "#bd3786"
            ],
            [
             0.5555555555555556,
             "#d8576b"
            ],
            [
             0.6666666666666666,
             "#ed7953"
            ],
            [
             0.7777777777777778,
             "#fb9f3a"
            ],
            [
             0.8888888888888888,
             "#fdca26"
            ],
            [
             1.0,
             "#f0f921"
            ]
           ],
           "diverging": [
            [
             0,
             "#8e0152"
            ],
            [
             0.1,
             "#c51b7d"
            ],
            [
             0.2,
             "#de77ae"
            ],
            [
             0.3,
             "#f1b6da"
            ],
            [
             0.4,
             "#fde0ef"
            ],
            [
             0.5,
             "#f7f7f7"
            ],
            [
             0.6,
             "#e6f5d0"
            ],
            [
             0.7,
             "#b8e186"
            ],
            [
             0.8,
             "#7fbc41"
            ],
            [
             0.9,
             "#4d9221"
            ],
            [
             1,
             "#276419"
            ]
           ]
          },
          "xaxis": {
           "gridcolor": "white",
           "linecolor": "white",
           "ticks": "",
           "title": {
            "standoff": 15
           },
           "zerolinecolor": "white",
           "automargin": true,
           "zerolinewidth": 2
          },
          "yaxis": {
           "gridcolor": "white",
           "linecolor": "white",
           "ticks": "",
           "title": {
            "standoff": 15
           },
           "zerolinecolor": "white",
           "automargin": true,
           "zerolinewidth": 2
          },
          "scene": {
           "xaxis": {
            "backgroundcolor": "#E5ECF6",
            "gridcolor": "white",
            "linecolor": "white",
            "showbackground": true,
            "ticks": "",
            "zerolinecolor": "white",
            "gridwidth": 2
           },
           "yaxis": {
            "backgroundcolor": "#E5ECF6",
            "gridcolor": "white",
            "linecolor": "white",
            "showbackground": true,
            "ticks": "",
            "zerolinecolor": "white",
            "gridwidth": 2
           },
           "zaxis": {
            "backgroundcolor": "#E5ECF6",
            "gridcolor": "white",
            "linecolor": "white",
            "showbackground": true,
            "ticks": "",
            "zerolinecolor": "white",
            "gridwidth": 2
           }
          },
          "shapedefaults": {
           "line": {
            "color": "#2a3f5f"
           }
          },
          "annotationdefaults": {
           "arrowcolor": "#2a3f5f",
           "arrowhead": 0,
           "arrowwidth": 1
          },
          "geo": {
           "bgcolor": "white",
           "landcolor": "#E5ECF6",
           "subunitcolor": "white",
           "showland": true,
           "showlakes": true,
           "lakecolor": "white"
          },
          "title": {
           "x": 0.05
          },
          "mapbox": {
           "style": "light"
          }
         }
        },
        "xaxis": {
         "anchor": "y",
         "domain": [
          0.0,
          1.0
         ],
         "matches": "x3",
         "showticklabels": false
        },
        "yaxis": {
         "anchor": "x",
         "domain": [
          0.7777777777777778,
          1.0
         ],
         "range": [
          0,
          1
         ],
         "tickfont": {
          "size": 14
         },
         "showgrid": false,
         "zeroline": false,
         "showline": false
        },
        "xaxis2": {
         "anchor": "y2",
         "domain": [
          0.0,
          1.0
         ],
         "matches": "x3",
         "showticklabels": false
        },
        "yaxis2": {
         "anchor": "x2",
         "domain": [
          0.3888888888888889,
          0.6111111111111112
         ],
         "range": [
          0,
          1
         ],
         "tickfont": {
          "size": 14
         },
         "showgrid": false,
         "zeroline": false,
         "showline": false
        },
        "xaxis3": {
         "anchor": "y3",
         "domain": [
          0.0,
          1.0
         ],
         "tickfont": {
          "size": 14
         },
         "showgrid": false,
         "tickangle": 0
        },
        "yaxis3": {
         "anchor": "x3",
         "domain": [
          0.0,
          0.22222222222222224
         ],
         "range": [
          0,
          1
         ],
         "tickfont": {
          "size": 14
         },
         "showgrid": false,
         "zeroline": false,
         "showline": false
        },
        "annotations": [
         {
          "font": {
           "size": 16
          },
          "showarrow": false,
          "text": "Cohen's Kappa",
          "x": 0.5,
          "xanchor": "center",
          "xref": "paper",
          "y": 1.0,
          "yanchor": "bottom",
          "yref": "paper"
         },
         {
          "font": {
           "size": 16
          },
          "showarrow": false,
          "text": "MCC",
          "x": 0.5,
          "xanchor": "center",
          "xref": "paper",
          "y": 0.6111111111111112,
          "yanchor": "bottom",
          "yref": "paper"
         },
         {
          "font": {
           "size": 16
          },
          "showarrow": false,
          "text": "1 - NLD",
          "x": 0.5,
          "xanchor": "center",
          "xref": "paper",
          "y": 0.22222222222222224,
          "yanchor": "bottom",
          "yref": "paper"
         }
        ],
        "title": {},
        "violinmode": "overlay",
        "boxmode": "group",
        "boxgroupgap": 0,
        "boxgap": 0,
        "margin": {
         "l": 10,
         "r": 10,
         "b": 10,
         "t": 10,
         "pad": 0
        },
        "width": 600,
        "height": 450,
        "paper_bgcolor": "rgba(0, 0, 0, 0)",
        "plot_bgcolor": "rgba(0, 0, 0, 0)",
        "showlegend": false
       },
       "config": {
        "plotlyServerURL": "https://plot.ly"
       }
      },
      "text/html": [
       "<div>                            <div id=\"ae096c53-437f-4c69-9160-b940331e3688\" class=\"plotly-graph-div\" style=\"height:450px; width:600px;\"></div>            <script type=\"text/javascript\">                require([\"plotly\"], function(Plotly) {                    window.PLOTLYENV=window.PLOTLYENV || {};                                    if (document.getElementById(\"ae096c53-437f-4c69-9160-b940331e3688\")) {                    Plotly.newPlot(                        \"ae096c53-437f-4c69-9160-b940331e3688\",                        [{\"box\":{\"visible\":true},\"fillcolor\":\"#bab0ac\",\"legendgroup\":\"Other GT\",\"line\":{\"color\":\"black\"},\"meanline\":{\"visible\":true},\"name\":\"RA, Other GT\",\"opacity\":0.75,\"scalegroup\":\"cohen's_kappa\",\"showlegend\":true,\"spanmode\":\"hard\",\"x0\":\"Other GT\",\"y\":[0.789937464299844,0.22120621559937914,0.7200549475263476,0.677382293683207,0.9054133078487512,0.8955694420828169,0.9064000004383075,0.7924612058168573,0.8364267811215045,0.8405848106589864,0.8546864376292359,0.8962768567029877,0.8357095131889745,0.9002713399903137],\"type\":\"violin\",\"xaxis\":\"x\",\"yaxis\":\"y\",\"width\":0.8,\"visible\":true},{\"box\":{\"visible\":true},\"fillcolor\":\"#2E91E5\",\"legendgroup\":\"ivt\",\"line\":{\"color\":\"black\"},\"meanline\":{\"visible\":true},\"name\":\"RA, ivt\",\"opacity\":0.75,\"scalegroup\":\"cohen's_kappa\",\"showlegend\":true,\"side\":\"positive\",\"spanmode\":\"hard\",\"x0\":\"ivt\",\"y\":[0.6536065235854455,0.1284439429685097,0.8129401969823401,0.6847358616082337,0.5964570831424268,0.49171947442989805,0.45728263639640543,0.2866022000147126,0.47487541987298065,0.523708384412632,0.6393518046039333,0.660573776564775,0.7379551885270832,0.5896864060543465,0.49634192931170806,0.5578334634782739,0.5055609128599556,0.47199018856919583,0.6826975164027549,0.5182620597771499],\"type\":\"violin\",\"xaxis\":\"x\",\"yaxis\":\"y\",\"width\":0.8},{\"box\":{\"visible\":true},\"fillcolor\":\"#E15F99\",\"legendgroup\":\"ivvt\",\"line\":{\"color\":\"black\"},\"meanline\":{\"visible\":true},\"name\":\"RA, ivvt\",\"opacity\":0.75,\"scalegroup\":\"cohen's_kappa\",\"showlegend\":true,\"side\":\"positive\",\"spanmode\":\"hard\",\"x0\":\"ivvt\",\"y\":[0.6682856703798767,0.14679378355452333,0.740826680981489,0.6839424477180036,0.630478476327947,0.3851036033083248,0.4350623220492852,0.27137643781841037,0.47883203936175867,0.5558804308681725,0.6461935718308836,0.6816581781633395,0.7247529566810373,0.6153954798511663,0.5435437488766812,0.565838398633786,0.5103221953179453,0.4657080243248377,0.6342167921735578,0.55168522272162],\"type\":\"violin\",\"xaxis\":\"x\",\"yaxis\":\"y\",\"width\":0.8},{\"box\":{\"visible\":true},\"fillcolor\":\"#1CA71C\",\"legendgroup\":\"idt\",\"line\":{\"color\":\"black\"},\"meanline\":{\"visible\":true},\"name\":\"RA, idt\",\"opacity\":0.75,\"scalegroup\":\"cohen's_kappa\",\"showlegend\":true,\"side\":\"positive\",\"spanmode\":\"hard\",\"x0\":\"idt\",\"y\":[0.29813491798774217,0.03157125343055156,0.4641164365273309,0.25782175320374023,0.280402034048726,0.29842216259011967,0.26238078933565834,0.12137942880197816,0.20417913689082523,0.18308107640118698,0.25706140032325664,0.2668129906005402,0.33435631276091626,0.2555563956437229,0.08008182022582822,0.1816056032866531,0.14827335785215967,0.13643180152384926,0.3032712523663531,0.20535087077999903],\"type\":\"violin\",\"xaxis\":\"x\",\"yaxis\":\"y\",\"width\":0.8},{\"box\":{\"visible\":true},\"fillcolor\":\"#FB0D0D\",\"legendgroup\":\"idvt\",\"line\":{\"color\":\"black\"},\"meanline\":{\"visible\":true},\"name\":\"RA, idvt\",\"opacity\":0.75,\"scalegroup\":\"cohen's_kappa\",\"showlegend\":true,\"side\":\"positive\",\"spanmode\":\"hard\",\"x0\":\"idvt\",\"y\":[0.29813491798774217,0.030356205195047004,0.46460006941123144,0.2566653288228885,0.2975413992673279,0.31734340304384556,0.2628824836940056,0.13200723472017473,0.202572489091859,0.18308107640118698,0.25706140032325664,0.27539668615315016,0.34514417599815417,0.2555563956437229,0.08008182022582822,0.35366407631978414,0.3961283377211089,0.3917537683641975,0.37906375171110795,0.307916211703231],\"type\":\"violin\",\"xaxis\":\"x\",\"yaxis\":\"y\",\"width\":0.8},{\"box\":{\"visible\":true},\"fillcolor\":\"#DA16FF\",\"legendgroup\":\"engbert\",\"line\":{\"color\":\"black\"},\"meanline\":{\"visible\":true},\"name\":\"RA, engbert\",\"opacity\":0.75,\"scalegroup\":\"cohen's_kappa\",\"showlegend\":true,\"side\":\"positive\",\"spanmode\":\"hard\",\"x0\":\"engbert\",\"y\":[0.6937968678533493,0.1920328763835979,0.7982411721962202,0.6989076504408793,0.6800258395824476,0.5842096898379873,0.5416641101188808,0.31236458660143773,0.5394742199481548,0.6376155011351057,0.6720344485365275,0.7087048509349968,0.769742562379541,0.6754856043748134,0.6251295374537886,0.5803008021231223,0.5090566970587233,0.4850723747070278,0.7087040378128789,0.5983868589715793],\"type\":\"violin\",\"xaxis\":\"x\",\"yaxis\":\"y\",\"width\":0.8},{\"box\":{\"visible\":true},\"fillcolor\":\"#222A2A\",\"legendgroup\":\"nh\",\"line\":{\"color\":\"black\"},\"meanline\":{\"visible\":true},\"name\":\"RA, nh\",\"opacity\":0.75,\"scalegroup\":\"cohen's_kappa\",\"showlegend\":true,\"side\":\"positive\",\"spanmode\":\"hard\",\"x0\":\"nh\",\"y\":[0.6390075723526634,0.20219983762000282,0.06223208027844496,0.6628574023339942,0.6083513854651277,0.5696470603897497,0.1960010140931433,0.2908664541548427,0.4816187994232646,0.5851673120079831,0.7010074399964086,0.6990120054398241,0.6986995936130083,0.6359971868922706,0.6082360392576691,0.4969982577968137,0.22030011424681073,0.30095077662660497,0.20358278276010433,0.523844962108586],\"type\":\"violin\",\"xaxis\":\"x\",\"yaxis\":\"y\",\"width\":0.8},{\"box\":{\"visible\":true},\"fillcolor\":\"#B68100\",\"legendgroup\":\"remodnav\",\"line\":{\"color\":\"black\"},\"meanline\":{\"visible\":true},\"name\":\"RA, remodnav\",\"opacity\":0.75,\"scalegroup\":\"cohen's_kappa\",\"showlegend\":true,\"side\":\"positive\",\"spanmode\":\"hard\",\"x0\":\"remodnav\",\"y\":[0.1570825701899946,0.012168313505231287,0.0884392162313794,0.17615299547950403,0.16476549327132006,0.11191344866259323,0.11492846700505266,0.08660574938402155,0.07757349090803567,0.0772865595483988,0.17907665587826482,0.06782533170885152,0.05180176689249749,0.1769573433444761,0.08435109377302974,0.21288879995658216,0.1390126797357133,0.18996283835022465,0.12163829536890114,0.14073571333170154],\"type\":\"violin\",\"xaxis\":\"x\",\"yaxis\":\"y\",\"width\":0.8},{\"box\":{\"visible\":true},\"fillcolor\":\"#bab0ac\",\"legendgroup\":\"Other GT\",\"line\":{\"color\":\"black\"},\"meanline\":{\"visible\":true},\"name\":\"MN, Other GT\",\"opacity\":0.25,\"scalegroup\":\"cohen's_kappa\",\"showlegend\":true,\"spanmode\":\"hard\",\"x0\":\"Other GT\",\"y\":[0.7899374642998439,0.22120621559937914,0.7200549475263476,0.677382293683207,0.9054133078487512,0.8955694420828169,0.9064000004383075,0.7924612058168573,0.8364267811215045,0.8405848106589864,0.8546864376292359,0.8962768567029877,0.8357095131889745,0.9002713399903137],\"type\":\"violin\",\"xaxis\":\"x\",\"yaxis\":\"y\",\"width\":0.8,\"visible\":false},{\"box\":{\"visible\":true},\"fillcolor\":\"#2E91E5\",\"legendgroup\":\"ivt\",\"line\":{\"color\":\"black\"},\"meanline\":{\"visible\":true},\"name\":\"MN, ivt\",\"opacity\":0.25,\"scalegroup\":\"cohen's_kappa\",\"showlegend\":true,\"side\":\"negative\",\"spanmode\":\"hard\",\"x0\":\"ivt\",\"y\":[0.7506602030476285,0.684138155633153,0.5647189110908415,0.49444726380338877,0.6384871043558389,0.6857366204249262,0.7757741046021062,0.7112922484260156,0.4643121072391516,0.6406305039184776,0.5750971509178611,0.502207054984706,0.7110817046515223,0.5405471655450436],\"type\":\"violin\",\"xaxis\":\"x\",\"yaxis\":\"y\",\"width\":0.8},{\"box\":{\"visible\":true},\"fillcolor\":\"#E15F99\",\"legendgroup\":\"ivvt\",\"line\":{\"color\":\"black\"},\"meanline\":{\"visible\":true},\"name\":\"MN, ivvt\",\"opacity\":0.25,\"scalegroup\":\"cohen's_kappa\",\"showlegend\":true,\"side\":\"negative\",\"spanmode\":\"hard\",\"x0\":\"ivvt\",\"y\":[0.7658078918434361,0.6507791482665854,0.445788503637794,0.44019818373277986,0.6600699736960194,0.6894465987469147,0.7389551731394991,0.7198578952658965,0.5120591470596824,0.591073953402594,0.5666634371630923,0.47747166489327586,0.6538232923423022,0.5658753027950953],\"type\":\"violin\",\"xaxis\":\"x\",\"yaxis\":\"y\",\"width\":0.8},{\"box\":{\"visible\":true},\"fillcolor\":\"#1CA71C\",\"legendgroup\":\"idt\",\"line\":{\"color\":\"black\"},\"meanline\":{\"visible\":true},\"name\":\"MN, idt\",\"opacity\":0.25,\"scalegroup\":\"cohen's_kappa\",\"showlegend\":true,\"side\":\"negative\",\"spanmode\":\"hard\",\"x0\":\"idt\",\"y\":[0.34176879267457916,0.21520500959753286,0.36770637363259706,0.29077510548467356,0.2567373179608875,0.2894125063327655,0.3551513048854279,0.32435240027519696,0.08151287813691155,0.23271479019697205,0.1807032445038843,0.1465510604205853,0.3679234027911894,0.22268089415063475],\"type\":\"violin\",\"xaxis\":\"x\",\"yaxis\":\"y\",\"width\":0.8},{\"box\":{\"visible\":true},\"fillcolor\":\"#FB0D0D\",\"legendgroup\":\"idvt\",\"line\":{\"color\":\"black\"},\"meanline\":{\"visible\":true},\"name\":\"MN, idvt\",\"opacity\":0.25,\"scalegroup\":\"cohen's_kappa\",\"showlegend\":true,\"side\":\"negative\",\"spanmode\":\"hard\",\"x0\":\"idvt\",\"y\":[0.34176879267457916,0.2074717778980354,0.39057426923438265,0.2939508511287837,0.2567373179608875,0.29756137931770954,0.3665461268814937,0.32435240027519696,0.08151287813691155,0.44181004193495965,0.46852734738135027,0.42658120068419947,0.41838572364112625,0.3319714801161635],\"type\":\"violin\",\"xaxis\":\"x\",\"yaxis\":\"y\",\"width\":0.8},{\"box\":{\"visible\":true},\"fillcolor\":\"#DA16FF\",\"legendgroup\":\"engbert\",\"line\":{\"color\":\"black\"},\"meanline\":{\"visible\":true},\"name\":\"MN, engbert\",\"opacity\":0.25,\"scalegroup\":\"cohen's_kappa\",\"showlegend\":true,\"side\":\"negative\",\"spanmode\":\"hard\",\"x0\":\"engbert\",\"y\":[0.7840235037955441,0.6499330016698937,0.6792964752287858,0.5697851618501875,0.6994066063481951,0.7509254375420857,0.7986214329297886,0.7663827830769273,0.6064065217188155,0.6425242020112782,0.5823131165327498,0.5125507413780749,0.7384541824580239,0.5790634569957547],\"type\":\"violin\",\"xaxis\":\"x\",\"yaxis\":\"y\",\"width\":0.8},{\"box\":{\"visible\":true},\"fillcolor\":\"#222A2A\",\"legendgroup\":\"nh\",\"line\":{\"color\":\"black\"},\"meanline\":{\"visible\":true},\"name\":\"MN, nh\",\"opacity\":0.25,\"scalegroup\":\"cohen's_kappa\",\"showlegend\":true,\"side\":\"negative\",\"spanmode\":\"hard\",\"x0\":\"nh\",\"y\":[0.7323430111354763,0.5321020011301505,0.6574229344268723,0.21555847253068228,0.7095046806105376,0.737689474375111,0.698090481786134,0.7000632347941698,0.5970806421761099,0.5651736858813465,0.24928504886123926,0.3186082908116935,0.22236219183622818,0.5084698771645073],\"type\":\"violin\",\"xaxis\":\"x\",\"yaxis\":\"y\",\"width\":0.8},{\"box\":{\"visible\":true},\"fillcolor\":\"#B68100\",\"legendgroup\":\"remodnav\",\"line\":{\"color\":\"black\"},\"meanline\":{\"visible\":true},\"name\":\"MN, remodnav\",\"opacity\":0.25,\"scalegroup\":\"cohen's_kappa\",\"showlegend\":true,\"side\":\"negative\",\"spanmode\":\"hard\",\"x0\":\"remodnav\",\"y\":[0.12865836048335688,0.033662948378007984,0.08506549117494788,0.08128401561794496,0.18036012790540235,0.08113502376411874,0.05254895673237692,0.14053196080548225,0.09095716332395232,0.17379859544530418,0.13870032821287115,0.17541649740481935,0.13275293223371376,0.13351155598140008],\"type\":\"violin\",\"xaxis\":\"x\",\"yaxis\":\"y\",\"width\":0.8},{\"box\":{\"visible\":true},\"fillcolor\":\"#bab0ac\",\"legendgroup\":\"Other GT\",\"line\":{\"color\":\"black\"},\"meanline\":{\"visible\":true},\"name\":\"RA, Other GT\",\"opacity\":0.75,\"scalegroup\":\"mcc\",\"showlegend\":false,\"spanmode\":\"hard\",\"x0\":\"Other GT\",\"y\":[0.7945975446459747,0.35487110066591093,0.7342234368469134,0.6856392754447994,0.9054786972422211,0.8966383239071852,0.9073933411344481,0.8016147300141158,0.8376990757927559,0.850161233294591,0.8603775850984822,0.898086299754557,0.8380007079230686,0.9012921888468564],\"type\":\"violin\",\"xaxis\":\"x2\",\"yaxis\":\"y2\",\"width\":0.8,\"visible\":true},{\"box\":{\"visible\":true},\"fillcolor\":\"#2E91E5\",\"legendgroup\":\"ivt\",\"line\":{\"color\":\"black\"},\"meanline\":{\"visible\":true},\"name\":\"RA, ivt\",\"opacity\":0.75,\"scalegroup\":\"mcc\",\"showlegend\":false,\"side\":\"positive\",\"spanmode\":\"hard\",\"x0\":\"ivt\",\"y\":[0.6824169931047432,0.2579274658517672,0.8156276834049715,0.7006033892755738,0.6259608871807224,0.5020342394428605,0.4679103806647108,0.3907576924012183,0.5397141393925198,0.5657111043377078,0.6677190035834557,0.6823438328797372,0.7552960362574821,0.6380168390461077,0.5456654644995943,0.5851950313371453,0.55448912665828,0.511254358579363,0.694333125272164,0.5543401908151505],\"type\":\"violin\",\"xaxis\":\"x2\",\"yaxis\":\"y2\",\"width\":0.8},{\"box\":{\"visible\":true},\"fillcolor\":\"#E15F99\",\"legendgroup\":\"ivvt\",\"line\":{\"color\":\"black\"},\"meanline\":{\"visible\":true},\"name\":\"RA, ivvt\",\"opacity\":0.75,\"scalegroup\":\"mcc\",\"showlegend\":false,\"side\":\"positive\",\"spanmode\":\"hard\",\"x0\":\"ivvt\",\"y\":[0.6768717698424375,0.2299100983698366,0.7461531090430993,0.6908064639391817,0.6376366852479652,0.39408559336684423,0.4438784016113445,0.28940290041548106,0.5062397732668507,0.5705044852170731,0.6554799792625087,0.6898887768997957,0.7292570478076659,0.6320488403718003,0.5695354612320578,0.5805707251849437,0.5537770096076978,0.4810647422937975,0.6384751772982303,0.5750363730823765],\"type\":\"violin\",\"xaxis\":\"x2\",\"yaxis\":\"y2\",\"width\":0.8},{\"box\":{\"visible\":true},\"fillcolor\":\"#1CA71C\",\"legendgroup\":\"idt\",\"line\":{\"color\":\"black\"},\"meanline\":{\"visible\":true},\"name\":\"RA, idt\",\"opacity\":0.75,\"scalegroup\":\"mcc\",\"showlegend\":false,\"side\":\"positive\",\"spanmode\":\"hard\",\"x0\":\"idt\",\"y\":[0.4157528236838912,0.13006525408951997,0.5239700047089811,0.3846474815352358,0.36243282843442415,0.3810253440147152,0.34314562764082696,0.2296045430176088,0.32188768960245,0.31502317550720216,0.3835635379492509,0.37168136596297485,0.42875844062529567,0.38091917085517313,0.20370937732334055,0.2657277351284395,0.20958293782840892,0.21218271533920247,0.3658979405948108,0.29539334828809366],\"type\":\"violin\",\"xaxis\":\"x2\",\"yaxis\":\"y2\",\"width\":0.8},{\"box\":{\"visible\":true},\"fillcolor\":\"#FB0D0D\",\"legendgroup\":\"idvt\",\"line\":{\"color\":\"black\"},\"meanline\":{\"visible\":true},\"name\":\"RA, idvt\",\"opacity\":0.75,\"scalegroup\":\"mcc\",\"showlegend\":false,\"side\":\"positive\",\"spanmode\":\"hard\",\"x0\":\"idvt\",\"y\":[0.4157528236838912,0.12505091493490478,0.5247789203524269,0.38292259048794325,0.3843979613963464,0.4044708583002914,0.3431251663716156,0.23297068976520546,0.3187866601738887,0.31502317550720216,0.3835635379492509,0.383612431814382,0.44266798245732836,0.38091917085517313,0.20370937732334055,0.42907565604448794,0.4431151181047123,0.45004561119259906,0.43538966099690196,0.39525330952137744],\"type\":\"violin\",\"xaxis\":\"x2\",\"yaxis\":\"y2\",\"width\":0.8},{\"box\":{\"visible\":true},\"fillcolor\":\"#DA16FF\",\"legendgroup\":\"engbert\",\"line\":{\"color\":\"black\"},\"meanline\":{\"visible\":true},\"name\":\"RA, engbert\",\"opacity\":0.75,\"scalegroup\":\"mcc\",\"showlegend\":false,\"side\":\"positive\",\"spanmode\":\"hard\",\"x0\":\"engbert\",\"y\":[0.7031758032857677,0.26713599603448374,0.8038353351859011,0.7111846732394038,0.6896598673769502,0.598992783703376,0.5546642220438748,0.40580590583632914,0.5750284184511739,0.6461420099072979,0.6853930043982658,0.7204886604249263,0.7752814719898774,0.6890557744778408,0.635878947290035,0.603860980172574,0.5567287730501961,0.5247601173655974,0.718334547046693,0.6220670111797029],\"type\":\"violin\",\"xaxis\":\"x2\",\"yaxis\":\"y2\",\"width\":0.8},{\"box\":{\"visible\":true},\"fillcolor\":\"#222A2A\",\"legendgroup\":\"nh\",\"line\":{\"color\":\"black\"},\"meanline\":{\"visible\":true},\"name\":\"RA, nh\",\"opacity\":0.75,\"scalegroup\":\"mcc\",\"showlegend\":false,\"side\":\"positive\",\"spanmode\":\"hard\",\"x0\":\"nh\",\"y\":[0.6461458719082374,0.24911712118839252,0.16851498932807163,0.681658394622969,0.6216096269452077,0.577242980822918,0.2809261899046507,0.3445833606134415,0.5021428368113601,0.590600711468736,0.7117324030122887,0.7069536878710666,0.7071337151516656,0.6413230490847932,0.6157237586598235,0.5162834157675338,0.2724944370967377,0.3476620882799662,0.2624902296021192,0.5464489754985659],\"type\":\"violin\",\"xaxis\":\"x2\",\"yaxis\":\"y2\",\"width\":0.8},{\"box\":{\"visible\":true},\"fillcolor\":\"#B68100\",\"legendgroup\":\"remodnav\",\"line\":{\"color\":\"black\"},\"meanline\":{\"visible\":true},\"name\":\"RA, remodnav\",\"opacity\":0.75,\"scalegroup\":\"mcc\",\"showlegend\":false,\"side\":\"positive\",\"spanmode\":\"hard\",\"x0\":\"remodnav\",\"y\":[0.2868364291034319,0.017211980153194077,0.2365307045775709,0.2915872216643501,0.28712297385318475,0.22271861613143287,0.24585340079054496,0.12233554889986761,0.1444713197504425,0.16360648759934965,0.3006923597818916,0.1776566110885564,0.1882378523226258,0.3137116097014414,0.19479772996322262,0.3196385917526098,0.26726929370776387,0.30040451827315673,0.23750281969580816,0.26282374658581587],\"type\":\"violin\",\"xaxis\":\"x2\",\"yaxis\":\"y2\",\"width\":0.8},{\"box\":{\"visible\":true},\"fillcolor\":\"#bab0ac\",\"legendgroup\":\"Other GT\",\"line\":{\"color\":\"black\"},\"meanline\":{\"visible\":true},\"name\":\"MN, Other GT\",\"opacity\":0.25,\"scalegroup\":\"mcc\",\"showlegend\":false,\"spanmode\":\"hard\",\"x0\":\"Other GT\",\"y\":[0.7945975446459747,0.35487110066591093,0.7342234368469134,0.6856392754447994,0.9054786972422211,0.8966383239071852,0.9073933411344481,0.8016147300141158,0.8376990757927559,0.850161233294591,0.8603775850984822,0.898086299754557,0.8380007079230686,0.9012921888468564],\"type\":\"violin\",\"xaxis\":\"x2\",\"yaxis\":\"y2\",\"width\":0.8,\"visible\":false},{\"box\":{\"visible\":true},\"fillcolor\":\"#2E91E5\",\"legendgroup\":\"ivt\",\"line\":{\"color\":\"black\"},\"meanline\":{\"visible\":true},\"name\":\"MN, ivt\",\"opacity\":0.25,\"scalegroup\":\"mcc\",\"showlegend\":false,\"side\":\"negative\",\"spanmode\":\"hard\",\"x0\":\"ivt\",\"y\":[0.7680997880853535,0.7106571946106077,0.5746577745933947,0.5092188652203127,0.6653348142145934,0.7010817292412698,0.7871517024793294,0.7359315912692438,0.5133149327464559,0.6579014196210405,0.6137529852271325,0.5357568699184115,0.7194878493910657,0.5709967893879104],\"type\":\"violin\",\"xaxis\":\"x2\",\"yaxis\":\"y2\",\"width\":0.8},{\"box\":{\"visible\":true},\"fillcolor\":\"#E15F99\",\"legendgroup\":\"ivvt\",\"line\":{\"color\":\"black\"},\"meanline\":{\"visible\":true},\"name\":\"MN, ivvt\",\"opacity\":0.25,\"scalegroup\":\"mcc\",\"showlegend\":false,\"side\":\"negative\",\"spanmode\":\"hard\",\"x0\":\"ivvt\",\"y\":[0.7709106634764518,0.651963139203665,0.4796730282717089,0.4653314659639713,0.6685499493600184,0.6954665294600703,0.7421474465832018,0.7257150479887239,0.5394217826926122,0.606840577600554,0.6028693210246494,0.49161256296245043,0.6609678137043133,0.5851008437050376],\"type\":\"violin\",\"xaxis\":\"x2\",\"yaxis\":\"y2\",\"width\":0.8},{\"box\":{\"visible\":true},\"fillcolor\":\"#1CA71C\",\"legendgroup\":\"idt\",\"line\":{\"color\":\"black\"},\"meanline\":{\"visible\":true},\"name\":\"MN, idt\",\"opacity\":0.25,\"scalegroup\":\"mcc\",\"showlegend\":false,\"side\":\"negative\",\"spanmode\":\"hard\",\"x0\":\"idt\",\"y\":[0.452852033441316,0.3470491205663485,0.4262822043713813,0.36151501250244894,0.38218465113733596,0.39127608597688557,0.44503382983010303,0.43875777042216596,0.20683254592369607,0.30797976396604787,0.23685528570365058,0.21888962606932805,0.4373183444956027,0.30992792692363874],\"type\":\"violin\",\"xaxis\":\"x2\",\"yaxis\":\"y2\",\"width\":0.8},{\"box\":{\"visible\":true},\"fillcolor\":\"#FB0D0D\",\"legendgroup\":\"idvt\",\"line\":{\"color\":\"black\"},\"meanline\":{\"visible\":true},\"name\":\"MN, idvt\",\"opacity\":0.25,\"scalegroup\":\"mcc\",\"showlegend\":false,\"side\":\"negative\",\"spanmode\":\"hard\",\"x0\":\"idvt\",\"y\":[0.452852033441316,0.3345953685218822,0.45244731866956284,0.3654119417308777,0.38218465113733596,0.40232819282484455,0.45945901967636094,0.43875777042216596,0.20683254592369607,0.49816614763436473,0.5019431516920128,0.4770403064727679,0.4744233485915404,0.4141599293754702],\"type\":\"violin\",\"xaxis\":\"x2\",\"yaxis\":\"y2\",\"width\":0.8},{\"box\":{\"visible\":true},\"fillcolor\":\"#DA16FF\",\"legendgroup\":\"engbert\",\"line\":{\"color\":\"black\"},\"meanline\":{\"visible\":true},\"name\":\"MN, engbert\",\"opacity\":0.25,\"scalegroup\":\"mcc\",\"showlegend\":false,\"side\":\"negative\",\"spanmode\":\"hard\",\"x0\":\"engbert\",\"y\":[0.788710035978035,0.6641746224285623,0.6870139611968531,0.5857585468996163,0.7117810448234411,0.7602286164746429,0.8017221110597873,0.7711507050077328,0.6235592605540812,0.6618774149967595,0.6212670856419956,0.5457823811361245,0.7460299619133446,0.6005448473507735],\"type\":\"violin\",\"xaxis\":\"x2\",\"yaxis\":\"y2\",\"width\":0.8},{\"box\":{\"visible\":true},\"fillcolor\":\"#222A2A\",\"legendgroup\":\"nh\",\"line\":{\"color\":\"black\"},\"meanline\":{\"visible\":true},\"name\":\"MN, nh\",\"opacity\":0.25,\"scalegroup\":\"mcc\",\"showlegend\":false,\"side\":\"negative\",\"spanmode\":\"hard\",\"x0\":\"nh\",\"y\":[0.744198189348327,0.5781079728584605,0.6635402623893722,0.2914809304705758,0.7195450540987204,0.7481132445378125,0.708692799984204,0.7145404627520203,0.6104540501077993,0.5739641976329108,0.2907890911103188,0.36389940641522944,0.28192806231546647,0.5320396768864258],\"type\":\"violin\",\"xaxis\":\"x2\",\"yaxis\":\"y2\",\"width\":0.8},{\"box\":{\"visible\":true},\"fillcolor\":\"#B68100\",\"legendgroup\":\"remodnav\",\"line\":{\"color\":\"black\"},\"meanline\":{\"visible\":true},\"name\":\"MN, remodnav\",\"opacity\":0.25,\"scalegroup\":\"mcc\",\"showlegend\":false,\"side\":\"negative\",\"spanmode\":\"hard\",\"x0\":\"remodnav\",\"y\":[0.25699136271624506,0.11856791910635793,0.20137773712267446,0.19569502928954247,0.30332208821612916,0.22148219541708888,0.19699327062606553,0.2830385497503976,0.21074942153654505,0.2886917645359853,0.2749646469713485,0.2891533680869757,0.2718290155157352,0.2563982612217266],\"type\":\"violin\",\"xaxis\":\"x2\",\"yaxis\":\"y2\",\"width\":0.8},{\"box\":{\"visible\":true},\"fillcolor\":\"#bab0ac\",\"legendgroup\":\"Other GT\",\"line\":{\"color\":\"black\"},\"meanline\":{\"visible\":true},\"name\":\"RA, Other GT\",\"opacity\":0.75,\"scalegroup\":\"complement_nld\",\"showlegend\":false,\"spanmode\":\"hard\",\"x0\":\"Other GT\",\"y\":[0.9442662389735365,0.8610665597433841,0.9168003207698476,0.8833433553818401,0.9741379310344828,0.9743384121892542,0.9727345629510826,0.9410585404971933,0.9534301452178268,0.9290438965724594,0.9201764941837144,0.9332397754611067,0.9432638331996792,0.9564128256513026],\"type\":\"violin\",\"xaxis\":\"x3\",\"yaxis\":\"y3\",\"width\":0.8,\"visible\":true},{\"box\":{\"visible\":true},\"fillcolor\":\"#2E91E5\",\"legendgroup\":\"ivt\",\"line\":{\"color\":\"black\"},\"meanline\":{\"visible\":true},\"name\":\"RA, ivt\",\"opacity\":0.75,\"scalegroup\":\"complement_nld\",\"showlegend\":false,\"side\":\"positive\",\"spanmode\":\"hard\",\"x0\":\"ivt\",\"y\":[0.9198075380914195,0.8520449077786688,0.9557025456003208,0.9314354450681636,0.9037690457097033,0.8448275862068966,0.8041691721787934,0.6930176565008026,0.8321643286573146,0.87625250501002,0.9161988773055333,0.9178027265437049,0.9330392943063353,0.8999599037690457,0.8883324987481221,0.8123872519542994,0.7027677496991576,0.6832397754611066,0.8995589414595028,0.8221442885771543],\"type\":\"violin\",\"xaxis\":\"x3\",\"yaxis\":\"y3\",\"width\":0.8},{\"box\":{\"visible\":true},\"fillcolor\":\"#E15F99\",\"legendgroup\":\"ivvt\",\"line\":{\"color\":\"black\"},\"meanline\":{\"visible\":true},\"name\":\"RA, ivvt\",\"opacity\":0.75,\"scalegroup\":\"complement_nld\",\"showlegend\":false,\"side\":\"positive\",\"spanmode\":\"hard\",\"x0\":\"ivvt\",\"y\":[0.9161988773055333,0.8498396150761829,0.9284425736620565,0.9220128307939054,0.8991579791499599,0.7658380112269447,0.7556624574062938,0.6472712680577849,0.8171342685370742,0.8722444889779559,0.9047714514835605,0.9125902165196471,0.9186046511627907,0.8959502806736167,0.8883324987481221,0.7983563840448988,0.6923385479342158,0.6561748195669608,0.8670809943865276,0.8246492985971944],\"type\":\"violin\",\"xaxis\":\"x3\",\"yaxis\":\"y3\",\"width\":0.8},{\"box\":{\"visible\":true},\"fillcolor\":\"#1CA71C\",\"legendgroup\":\"idt\",\"line\":{\"color\":\"black\"},\"meanline\":{\"visible\":true},\"name\":\"RA, idt\",\"opacity\":0.75,\"scalegroup\":\"complement_nld\",\"showlegend\":false,\"side\":\"positive\",\"spanmode\":\"hard\",\"x0\":\"idt\",\"y\":[0.8684843624699279,0.843223736968725,0.895570254560032,0.8793103448275862,0.8562550120288692,0.8402165196471532,0.8015634395670475,0.6514847512038524,0.7660320641282565,0.8176352705410822,0.8622694466720129,0.8600641539695268,0.8624699278267842,0.8480352846832397,0.8317476214321482,0.7229905792744037,0.5403128760529483,0.5352846832397755,0.8237770649558942,0.7494989979959921],\"type\":\"violin\",\"xaxis\":\"x3\",\"yaxis\":\"y3\",\"width\":0.8},{\"box\":{\"visible\":true},\"fillcolor\":\"#FB0D0D\",\"legendgroup\":\"idvt\",\"line\":{\"color\":\"black\"},\"meanline\":{\"visible\":true},\"name\":\"RA, idvt\",\"opacity\":0.75,\"scalegroup\":\"complement_nld\",\"showlegend\":false,\"side\":\"positive\",\"spanmode\":\"hard\",\"x0\":\"idvt\",\"y\":[0.8684843624699279,0.8430232558139534,0.8937662858288234,0.8791098636728147,0.8578588612670409,0.8430232558139534,0.7989577069553017,0.6506821829855538,0.7640280561122245,0.8176352705410822,0.8622694466720129,0.8600641539695268,0.8644747393744988,0.8480352846832397,0.8317476214321482,0.7640809781519342,0.6606498194945849,0.6529671210906175,0.8372093023255813,0.7720440881763527],\"type\":\"violin\",\"xaxis\":\"x3\",\"yaxis\":\"y3\",\"width\":0.8},{\"box\":{\"visible\":true},\"fillcolor\":\"#DA16FF\",\"legendgroup\":\"engbert\",\"line\":{\"color\":\"black\"},\"meanline\":{\"visible\":true},\"name\":\"RA, engbert\",\"opacity\":0.75,\"scalegroup\":\"complement_nld\",\"showlegend\":false,\"side\":\"positive\",\"spanmode\":\"hard\",\"x0\":\"engbert\",\"y\":[0.9200080192461908,0.8490376904570971,0.9446782922429344,0.9208099438652767,0.9103849238171612,0.8771050521251003,0.8366406093405492,0.6954253611556982,0.8306613226452906,0.8907815631262526,0.9079791499599038,0.9208099438652767,0.936046511627907,0.9105854049719326,0.8968452679018528,0.8099819603126879,0.7001604492579222,0.6874498797113071,0.903167602245389,0.8341683366733467],\"type\":\"violin\",\"xaxis\":\"x3\",\"yaxis\":\"y3\",\"width\":0.8},{\"box\":{\"visible\":true},\"fillcolor\":\"#222A2A\",\"legendgroup\":\"nh\",\"line\":{\"color\":\"black\"},\"meanline\":{\"visible\":true},\"name\":\"RA, nh\",\"opacity\":0.75,\"scalegroup\":\"complement_nld\",\"showlegend\":false,\"side\":\"positive\",\"spanmode\":\"hard\",\"x0\":\"nh\",\"y\":[0.8935445068163592,0.8400160384923817,0.8518741230707556,0.8973536487570168,0.8718925421010425,0.8666800320769847,0.797153738224093,0.6649277688603532,0.8091182364729459,0.8767535070140281,0.9133921411387329,0.9109863672814755,0.9109863672814755,0.8895348837209303,0.8973460190285428,0.8063740228502706,0.5575611712795828,0.5675621491579792,0.805934242181235,0.7975951903807615],\"type\":\"violin\",\"xaxis\":\"x3\",\"yaxis\":\"y3\",\"width\":0.8},{\"box\":{\"visible\":true},\"fillcolor\":\"#B68100\",\"legendgroup\":\"remodnav\",\"line\":{\"color\":\"black\"},\"meanline\":{\"visible\":true},\"name\":\"RA, remodnav\",\"opacity\":0.75,\"scalegroup\":\"complement_nld\",\"showlegend\":false,\"side\":\"positive\",\"spanmode\":\"hard\",\"x0\":\"remodnav\",\"y\":[0.39574979951884526,0.48616680032076987,0.19983964722389258,0.46451483560545304,0.404971932638332,0.31275060144346434,0.26297855281619564,0.3938603531300161,0.282565130260521,0.23446893787575152,0.4320368885324779,0.19286287089013632,0.10765838011226947,0.3905372894947875,0.23685528292438662,0.36981358989777513,0.20697954271961494,0.3205693664795509,0.2896952686447474,0.251002004008016],\"type\":\"violin\",\"xaxis\":\"x3\",\"yaxis\":\"y3\",\"width\":0.8},{\"box\":{\"visible\":true},\"fillcolor\":\"#bab0ac\",\"legendgroup\":\"Other GT\",\"line\":{\"color\":\"black\"},\"meanline\":{\"visible\":true},\"name\":\"MN, Other GT\",\"opacity\":0.25,\"scalegroup\":\"complement_nld\",\"showlegend\":false,\"spanmode\":\"hard\",\"x0\":\"Other GT\",\"y\":[0.9442662389735365,0.8610665597433841,0.9168003207698476,0.8833433553818401,0.9741379310344828,0.9743384121892542,0.9727345629510826,0.9410585404971933,0.9534301452178268,0.9290438965724594,0.9201764941837144,0.9332397754611067,0.9432638331996792,0.9564128256513026],\"type\":\"violin\",\"xaxis\":\"x3\",\"yaxis\":\"y3\",\"width\":0.8,\"visible\":false},{\"box\":{\"visible\":true},\"fillcolor\":\"#2E91E5\",\"legendgroup\":\"ivt\",\"line\":{\"color\":\"black\"},\"meanline\":{\"visible\":true},\"name\":\"MN, ivt\",\"opacity\":0.25,\"scalegroup\":\"complement_nld\",\"showlegend\":false,\"side\":\"negative\",\"spanmode\":\"hard\",\"x0\":\"ivt\",\"y\":[0.9474739374498797,0.9889735364875701,0.8849238171611868,0.8276207656845059,0.917401764234162,0.9292301523656776,0.9458700882117081,0.940056134723336,0.8828242363545318,0.8659049909801564,0.759927797833935,0.71271050521251,0.9113873295910184,0.8371743486973948],\"type\":\"violin\",\"xaxis\":\"x3\",\"yaxis\":\"y3\",\"width\":0.8},{\"box\":{\"visible\":true},\"fillcolor\":\"#E15F99\",\"legendgroup\":\"ivvt\",\"line\":{\"color\":\"black\"},\"meanline\":{\"visible\":true},\"name\":\"MN, ivvt\",\"opacity\":0.25,\"scalegroup\":\"complement_nld\",\"showlegend\":false,\"side\":\"negative\",\"spanmode\":\"hard\",\"x0\":\"ivvt\",\"y\":[0.9450681635926222,0.9843624699278268,0.8079390537289495,0.7658849468831429,0.9099839615076183,0.9218123496391339,0.9266238973536487,0.9342421812349639,0.8833249874812218,0.8282220885949088,0.7400722021660651,0.6718123496391339,0.8759021651964716,0.8366733466933868],\"type\":\"violin\",\"xaxis\":\"x3\",\"yaxis\":\"y3\",\"width\":0.8},{\"box\":{\"visible\":true},\"fillcolor\":\"#1CA71C\",\"legendgroup\":\"idt\",\"line\":{\"color\":\"black\"},\"meanline\":{\"visible\":true},\"name\":\"MN, idt\",\"opacity\":0.25,\"scalegroup\":\"complement_nld\",\"showlegend\":false,\"side\":\"negative\",\"spanmode\":\"hard\",\"x0\":\"idt\",\"y\":[0.890737770649559,0.9799518845228549,0.8861267040898155,0.8314291441170576,0.8628708901363271,0.8732959101844426,0.873897353648757,0.888532477947073,0.8327491236855282,0.7881338945680497,0.600882470918572,0.572373696872494,0.8458299919807538,0.7700400801603207],\"type\":\"violin\",\"xaxis\":\"x3\",\"yaxis\":\"y3\",\"width\":0.8},{\"box\":{\"visible\":true},\"fillcolor\":\"#FB0D0D\",\"legendgroup\":\"idvt\",\"line\":{\"color\":\"black\"},\"meanline\":{\"visible\":true},\"name\":\"MN, idvt\",\"opacity\":0.25,\"scalegroup\":\"complement_nld\",\"showlegend\":false,\"side\":\"negative\",\"spanmode\":\"hard\",\"x0\":\"idvt\",\"y\":[0.890737770649559,0.9797514033680834,0.8889334402566159,0.8294247344157146,0.8628708901363271,0.8730954290296712,0.8759021651964716,0.888532477947073,0.8327491236855282,0.8292242934455802,0.721620537505014,0.6908580593424218,0.8526463512429832,0.7925851703406813],\"type\":\"violin\",\"xaxis\":\"x3\",\"yaxis\":\"y3\",\"width\":0.8},{\"box\":{\"visible\":true},\"fillcolor\":\"#DA16FF\",\"legendgroup\":\"engbert\",\"line\":{\"color\":\"black\"},\"meanline\":{\"visible\":true},\"name\":\"MN, engbert\",\"opacity\":0.25,\"scalegroup\":\"complement_nld\",\"showlegend\":false,\"side\":\"negative\",\"spanmode\":\"hard\",\"x0\":\"engbert\",\"y\":[0.9496792301523657,0.9809542902967121,0.9180032076984763,0.856885147324113,0.9143945469125903,0.9334402566158782,0.946271050521251,0.9450681635926222,0.885828743114672,0.8552816195630387,0.7569193742478941,0.7169206094627105,0.9145950280673617,0.8306613226452906],\"type\":\"violin\",\"xaxis\":\"x3\",\"yaxis\":\"y3\",\"width\":0.8},{\"box\":{\"visible\":true},\"fillcolor\":\"#222A2A\",\"legendgroup\":\"nh\",\"line\":{\"color\":\"black\"},\"meanline\":{\"visible\":true},\"name\":\"MN, nh\",\"opacity\":0.25,\"scalegroup\":\"complement_nld\",\"showlegend\":false,\"side\":\"negative\",\"spanmode\":\"hard\",\"x0\":\"nh\",\"y\":[0.9258219727345629,0.9665196471531676,0.9101844426623897,0.8226097414311485,0.915196471531676,0.9242181234963913,0.9127906976744186,0.9176022453889334,0.8833249874812218,0.8514732411304871,0.609707180104292,0.5922213311948676,0.8177626303127505,0.7920841683366733],\"type\":\"violin\",\"xaxis\":\"x3\",\"yaxis\":\"y3\",\"width\":0.8},{\"box\":{\"visible\":true},\"fillcolor\":\"#B68100\",\"legendgroup\":\"remodnav\",\"line\":{\"color\":\"black\"},\"meanline\":{\"visible\":true},\"name\":\"MN, remodnav\",\"opacity\":0.25,\"scalegroup\":\"complement_nld\",\"showlegend\":false,\"side\":\"negative\",\"spanmode\":\"hard\",\"x0\":\"remodnav\",\"y\":[0.3610665597433841,0.48696872493985566,0.2644346431435445,0.19823611946281816,0.43384121892542105,0.20128307939053725,0.10926222935044105,0.3586607858861267,0.23485227841762646,0.33934656243736216,0.20437224227837947,0.29791499599037685,0.28007217321571776,0.2464929859719439],\"type\":\"violin\",\"xaxis\":\"x3\",\"yaxis\":\"y3\",\"width\":0.8}],                        {\"template\":{\"data\":{\"histogram2dcontour\":[{\"type\":\"histogram2dcontour\",\"colorbar\":{\"outlinewidth\":0,\"ticks\":\"\"},\"colorscale\":[[0.0,\"#0d0887\"],[0.1111111111111111,\"#46039f\"],[0.2222222222222222,\"#7201a8\"],[0.3333333333333333,\"#9c179e\"],[0.4444444444444444,\"#bd3786\"],[0.5555555555555556,\"#d8576b\"],[0.6666666666666666,\"#ed7953\"],[0.7777777777777778,\"#fb9f3a\"],[0.8888888888888888,\"#fdca26\"],[1.0,\"#f0f921\"]]}],\"choropleth\":[{\"type\":\"choropleth\",\"colorbar\":{\"outlinewidth\":0,\"ticks\":\"\"}}],\"histogram2d\":[{\"type\":\"histogram2d\",\"colorbar\":{\"outlinewidth\":0,\"ticks\":\"\"},\"colorscale\":[[0.0,\"#0d0887\"],[0.1111111111111111,\"#46039f\"],[0.2222222222222222,\"#7201a8\"],[0.3333333333333333,\"#9c179e\"],[0.4444444444444444,\"#bd3786\"],[0.5555555555555556,\"#d8576b\"],[0.6666666666666666,\"#ed7953\"],[0.7777777777777778,\"#fb9f3a\"],[0.8888888888888888,\"#fdca26\"],[1.0,\"#f0f921\"]]}],\"heatmap\":[{\"type\":\"heatmap\",\"colorbar\":{\"outlinewidth\":0,\"ticks\":\"\"},\"colorscale\":[[0.0,\"#0d0887\"],[0.1111111111111111,\"#46039f\"],[0.2222222222222222,\"#7201a8\"],[0.3333333333333333,\"#9c179e\"],[0.4444444444444444,\"#bd3786\"],[0.5555555555555556,\"#d8576b\"],[0.6666666666666666,\"#ed7953\"],[0.7777777777777778,\"#fb9f3a\"],[0.8888888888888888,\"#fdca26\"],[1.0,\"#f0f921\"]]}],\"heatmapgl\":[{\"type\":\"heatmapgl\",\"colorbar\":{\"outlinewidth\":0,\"ticks\":\"\"},\"colorscale\":[[0.0,\"#0d0887\"],[0.1111111111111111,\"#46039f\"],[0.2222222222222222,\"#7201a8\"],[0.3333333333333333,\"#9c179e\"],[0.4444444444444444,\"#bd3786\"],[0.5555555555555556,\"#d8576b\"],[0.6666666666666666,\"#ed7953\"],[0.7777777777777778,\"#fb9f3a\"],[0.8888888888888888,\"#fdca26\"],[1.0,\"#f0f921\"]]}],\"contourcarpet\":[{\"type\":\"contourcarpet\",\"colorbar\":{\"outlinewidth\":0,\"ticks\":\"\"}}],\"contour\":[{\"type\":\"contour\",\"colorbar\":{\"outlinewidth\":0,\"ticks\":\"\"},\"colorscale\":[[0.0,\"#0d0887\"],[0.1111111111111111,\"#46039f\"],[0.2222222222222222,\"#7201a8\"],[0.3333333333333333,\"#9c179e\"],[0.4444444444444444,\"#bd3786\"],[0.5555555555555556,\"#d8576b\"],[0.6666666666666666,\"#ed7953\"],[0.7777777777777778,\"#fb9f3a\"],[0.8888888888888888,\"#fdca26\"],[1.0,\"#f0f921\"]]}],\"surface\":[{\"type\":\"surface\",\"colorbar\":{\"outlinewidth\":0,\"ticks\":\"\"},\"colorscale\":[[0.0,\"#0d0887\"],[0.1111111111111111,\"#46039f\"],[0.2222222222222222,\"#7201a8\"],[0.3333333333333333,\"#9c179e\"],[0.4444444444444444,\"#bd3786\"],[0.5555555555555556,\"#d8576b\"],[0.6666666666666666,\"#ed7953\"],[0.7777777777777778,\"#fb9f3a\"],[0.8888888888888888,\"#fdca26\"],[1.0,\"#f0f921\"]]}],\"mesh3d\":[{\"type\":\"mesh3d\",\"colorbar\":{\"outlinewidth\":0,\"ticks\":\"\"}}],\"scatter\":[{\"fillpattern\":{\"fillmode\":\"overlay\",\"size\":10,\"solidity\":0.2},\"type\":\"scatter\"}],\"parcoords\":[{\"type\":\"parcoords\",\"line\":{\"colorbar\":{\"outlinewidth\":0,\"ticks\":\"\"}}}],\"scatterpolargl\":[{\"type\":\"scatterpolargl\",\"marker\":{\"colorbar\":{\"outlinewidth\":0,\"ticks\":\"\"}}}],\"bar\":[{\"error_x\":{\"color\":\"#2a3f5f\"},\"error_y\":{\"color\":\"#2a3f5f\"},\"marker\":{\"line\":{\"color\":\"#E5ECF6\",\"width\":0.5},\"pattern\":{\"fillmode\":\"overlay\",\"size\":10,\"solidity\":0.2}},\"type\":\"bar\"}],\"scattergeo\":[{\"type\":\"scattergeo\",\"marker\":{\"colorbar\":{\"outlinewidth\":0,\"ticks\":\"\"}}}],\"scatterpolar\":[{\"type\":\"scatterpolar\",\"marker\":{\"colorbar\":{\"outlinewidth\":0,\"ticks\":\"\"}}}],\"histogram\":[{\"marker\":{\"pattern\":{\"fillmode\":\"overlay\",\"size\":10,\"solidity\":0.2}},\"type\":\"histogram\"}],\"scattergl\":[{\"type\":\"scattergl\",\"marker\":{\"colorbar\":{\"outlinewidth\":0,\"ticks\":\"\"}}}],\"scatter3d\":[{\"type\":\"scatter3d\",\"line\":{\"colorbar\":{\"outlinewidth\":0,\"ticks\":\"\"}},\"marker\":{\"colorbar\":{\"outlinewidth\":0,\"ticks\":\"\"}}}],\"scattermapbox\":[{\"type\":\"scattermapbox\",\"marker\":{\"colorbar\":{\"outlinewidth\":0,\"ticks\":\"\"}}}],\"scatterternary\":[{\"type\":\"scatterternary\",\"marker\":{\"colorbar\":{\"outlinewidth\":0,\"ticks\":\"\"}}}],\"scattercarpet\":[{\"type\":\"scattercarpet\",\"marker\":{\"colorbar\":{\"outlinewidth\":0,\"ticks\":\"\"}}}],\"carpet\":[{\"aaxis\":{\"endlinecolor\":\"#2a3f5f\",\"gridcolor\":\"white\",\"linecolor\":\"white\",\"minorgridcolor\":\"white\",\"startlinecolor\":\"#2a3f5f\"},\"baxis\":{\"endlinecolor\":\"#2a3f5f\",\"gridcolor\":\"white\",\"linecolor\":\"white\",\"minorgridcolor\":\"white\",\"startlinecolor\":\"#2a3f5f\"},\"type\":\"carpet\"}],\"table\":[{\"cells\":{\"fill\":{\"color\":\"#EBF0F8\"},\"line\":{\"color\":\"white\"}},\"header\":{\"fill\":{\"color\":\"#C8D4E3\"},\"line\":{\"color\":\"white\"}},\"type\":\"table\"}],\"barpolar\":[{\"marker\":{\"line\":{\"color\":\"#E5ECF6\",\"width\":0.5},\"pattern\":{\"fillmode\":\"overlay\",\"size\":10,\"solidity\":0.2}},\"type\":\"barpolar\"}],\"pie\":[{\"automargin\":true,\"type\":\"pie\"}]},\"layout\":{\"autotypenumbers\":\"strict\",\"colorway\":[\"#636efa\",\"#EF553B\",\"#00cc96\",\"#ab63fa\",\"#FFA15A\",\"#19d3f3\",\"#FF6692\",\"#B6E880\",\"#FF97FF\",\"#FECB52\"],\"font\":{\"color\":\"#2a3f5f\"},\"hovermode\":\"closest\",\"hoverlabel\":{\"align\":\"left\"},\"paper_bgcolor\":\"white\",\"plot_bgcolor\":\"#E5ECF6\",\"polar\":{\"bgcolor\":\"#E5ECF6\",\"angularaxis\":{\"gridcolor\":\"white\",\"linecolor\":\"white\",\"ticks\":\"\"},\"radialaxis\":{\"gridcolor\":\"white\",\"linecolor\":\"white\",\"ticks\":\"\"}},\"ternary\":{\"bgcolor\":\"#E5ECF6\",\"aaxis\":{\"gridcolor\":\"white\",\"linecolor\":\"white\",\"ticks\":\"\"},\"baxis\":{\"gridcolor\":\"white\",\"linecolor\":\"white\",\"ticks\":\"\"},\"caxis\":{\"gridcolor\":\"white\",\"linecolor\":\"white\",\"ticks\":\"\"}},\"coloraxis\":{\"colorbar\":{\"outlinewidth\":0,\"ticks\":\"\"}},\"colorscale\":{\"sequential\":[[0.0,\"#0d0887\"],[0.1111111111111111,\"#46039f\"],[0.2222222222222222,\"#7201a8\"],[0.3333333333333333,\"#9c179e\"],[0.4444444444444444,\"#bd3786\"],[0.5555555555555556,\"#d8576b\"],[0.6666666666666666,\"#ed7953\"],[0.7777777777777778,\"#fb9f3a\"],[0.8888888888888888,\"#fdca26\"],[1.0,\"#f0f921\"]],\"sequentialminus\":[[0.0,\"#0d0887\"],[0.1111111111111111,\"#46039f\"],[0.2222222222222222,\"#7201a8\"],[0.3333333333333333,\"#9c179e\"],[0.4444444444444444,\"#bd3786\"],[0.5555555555555556,\"#d8576b\"],[0.6666666666666666,\"#ed7953\"],[0.7777777777777778,\"#fb9f3a\"],[0.8888888888888888,\"#fdca26\"],[1.0,\"#f0f921\"]],\"diverging\":[[0,\"#8e0152\"],[0.1,\"#c51b7d\"],[0.2,\"#de77ae\"],[0.3,\"#f1b6da\"],[0.4,\"#fde0ef\"],[0.5,\"#f7f7f7\"],[0.6,\"#e6f5d0\"],[0.7,\"#b8e186\"],[0.8,\"#7fbc41\"],[0.9,\"#4d9221\"],[1,\"#276419\"]]},\"xaxis\":{\"gridcolor\":\"white\",\"linecolor\":\"white\",\"ticks\":\"\",\"title\":{\"standoff\":15},\"zerolinecolor\":\"white\",\"automargin\":true,\"zerolinewidth\":2},\"yaxis\":{\"gridcolor\":\"white\",\"linecolor\":\"white\",\"ticks\":\"\",\"title\":{\"standoff\":15},\"zerolinecolor\":\"white\",\"automargin\":true,\"zerolinewidth\":2},\"scene\":{\"xaxis\":{\"backgroundcolor\":\"#E5ECF6\",\"gridcolor\":\"white\",\"linecolor\":\"white\",\"showbackground\":true,\"ticks\":\"\",\"zerolinecolor\":\"white\",\"gridwidth\":2},\"yaxis\":{\"backgroundcolor\":\"#E5ECF6\",\"gridcolor\":\"white\",\"linecolor\":\"white\",\"showbackground\":true,\"ticks\":\"\",\"zerolinecolor\":\"white\",\"gridwidth\":2},\"zaxis\":{\"backgroundcolor\":\"#E5ECF6\",\"gridcolor\":\"white\",\"linecolor\":\"white\",\"showbackground\":true,\"ticks\":\"\",\"zerolinecolor\":\"white\",\"gridwidth\":2}},\"shapedefaults\":{\"line\":{\"color\":\"#2a3f5f\"}},\"annotationdefaults\":{\"arrowcolor\":\"#2a3f5f\",\"arrowhead\":0,\"arrowwidth\":1},\"geo\":{\"bgcolor\":\"white\",\"landcolor\":\"#E5ECF6\",\"subunitcolor\":\"white\",\"showland\":true,\"showlakes\":true,\"lakecolor\":\"white\"},\"title\":{\"x\":0.05},\"mapbox\":{\"style\":\"light\"}}},\"xaxis\":{\"anchor\":\"y\",\"domain\":[0.0,1.0],\"matches\":\"x3\",\"showticklabels\":false},\"yaxis\":{\"anchor\":\"x\",\"domain\":[0.7777777777777778,1.0],\"range\":[0,1],\"tickfont\":{\"size\":14},\"showgrid\":false,\"zeroline\":false,\"showline\":false},\"xaxis2\":{\"anchor\":\"y2\",\"domain\":[0.0,1.0],\"matches\":\"x3\",\"showticklabels\":false},\"yaxis2\":{\"anchor\":\"x2\",\"domain\":[0.3888888888888889,0.6111111111111112],\"range\":[0,1],\"tickfont\":{\"size\":14},\"showgrid\":false,\"zeroline\":false,\"showline\":false},\"xaxis3\":{\"anchor\":\"y3\",\"domain\":[0.0,1.0],\"tickfont\":{\"size\":14},\"showgrid\":false,\"tickangle\":0},\"yaxis3\":{\"anchor\":\"x3\",\"domain\":[0.0,0.22222222222222224],\"range\":[0,1],\"tickfont\":{\"size\":14},\"showgrid\":false,\"zeroline\":false,\"showline\":false},\"annotations\":[{\"font\":{\"size\":16},\"showarrow\":false,\"text\":\"Cohen's Kappa\",\"x\":0.5,\"xanchor\":\"center\",\"xref\":\"paper\",\"y\":1.0,\"yanchor\":\"bottom\",\"yref\":\"paper\"},{\"font\":{\"size\":16},\"showarrow\":false,\"text\":\"MCC\",\"x\":0.5,\"xanchor\":\"center\",\"xref\":\"paper\",\"y\":0.6111111111111112,\"yanchor\":\"bottom\",\"yref\":\"paper\"},{\"font\":{\"size\":16},\"showarrow\":false,\"text\":\"1 - NLD\",\"x\":0.5,\"xanchor\":\"center\",\"xref\":\"paper\",\"y\":0.22222222222222224,\"yanchor\":\"bottom\",\"yref\":\"paper\"}],\"title\":{},\"violinmode\":\"overlay\",\"boxmode\":\"group\",\"boxgroupgap\":0,\"boxgap\":0,\"margin\":{\"l\":10,\"r\":10,\"b\":10,\"t\":10,\"pad\":0},\"width\":600,\"height\":450,\"paper_bgcolor\":\"rgba(0, 0, 0, 0)\",\"plot_bgcolor\":\"rgba(0, 0, 0, 0)\",\"showlegend\":false},                        {\"responsive\": true}                    ).then(function(){\n",
       "                            \n",
       "var gd = document.getElementById('ae096c53-437f-4c69-9160-b940331e3688');\n",
       "var x = new MutationObserver(function (mutations, observer) {{\n",
       "        var display = window.getComputedStyle(gd).display;\n",
       "        if (!display || display === 'none') {{\n",
       "            console.log([gd, 'removed!']);\n",
       "            Plotly.purge(gd);\n",
       "            observer.disconnect();\n",
       "        }}\n",
       "}});\n",
       "\n",
       "// Listen for the removal of the full notebook cells\n",
       "var notebookContainer = gd.closest('#notebook-container');\n",
       "if (notebookContainer) {{\n",
       "    x.observe(notebookContainer, {childList: true});\n",
       "}}\n",
       "\n",
       "// Listen for the clearing of the current output cell\n",
       "var outputEl = gd.closest('.output');\n",
       "if (outputEl) {{\n",
       "    x.observe(outputEl, {childList: true});\n",
       "}}\n",
       "\n",
       "                        })                };                });            </script>        </div>"
      ]
     },
     "metadata": {},
     "output_type": "display_data"
    }
   ],
   "execution_count": 74
  }
 ],
 "metadata": {
  "kernelspec": {
   "display_name": "Python 3",
   "language": "python",
   "name": "python3"
  },
  "language_info": {
   "codemirror_mode": {
    "name": "ipython",
    "version": 2
   },
   "file_extension": ".py",
   "mimetype": "text/x-python",
   "name": "python",
   "nbconvert_exporter": "python",
   "pygments_lexer": "ipython2",
   "version": "2.7.6"
  }
 },
 "nbformat": 4,
 "nbformat_minor": 5
}
