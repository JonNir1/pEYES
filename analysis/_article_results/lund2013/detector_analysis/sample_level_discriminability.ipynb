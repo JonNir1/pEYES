{
 "cells": [
  {
   "metadata": {},
   "cell_type": "markdown",
   "source": [
    "# Supplementary Results #x?\n",
    "## Sample-by-Sample Detection Evaluation "
   ],
   "id": "c87c8eb54b7845fe"
  },
  {
   "metadata": {
    "ExecuteTime": {
     "end_time": "2025-01-08T09:08:25.123687Z",
     "start_time": "2025-01-08T09:08:23.777295Z"
    }
   },
   "cell_type": "code",
   "source": [
    "import pandas as pd\n",
    "\n",
    "from analysis._article_results.lund2013._helpers import *\n",
    "import analysis.statistics.sample_metrics as sm\n",
    "\n",
    "# pio.renderers.default = \"browser\"\n",
    "FIG_ID = 100\n",
    "IS_SUPP = True\n",
    "W, H = 1200, 500"
   ],
   "id": "532e03642b046aff",
   "outputs": [],
   "execution_count": 1
  },
  {
   "metadata": {},
   "cell_type": "markdown",
   "source": "### Load Data",
   "id": "bd2bd01076b83cf6"
  },
  {
   "metadata": {
    "ExecuteTime": {
     "end_time": "2025-01-08T09:08:25.897176Z",
     "start_time": "2025-01-08T09:08:25.123687Z"
    }
   },
   "cell_type": "code",
   "source": [
    "global_measures = sm.load_global_metrics(DATASET_NAME, PROCESSED_DATA_DIR, stimulus_type=STIMULUS_TYPE, metric=None, iteration=1)\n",
    "global_measures.drop(index=[peyes.constants.ACCURACY_STR, peyes.constants.BALANCED_ACCURACY_STR], inplace=True)    # Drop Acc+Balanced-Acc metrics\n",
    "\n",
    "fixation_sdt = sm.load_sdt(DATASET_NAME, PROCESSED_DATA_DIR, label=1, stimulus_type=STIMULUS_TYPE, metric=None, iteration=1)\n",
    "fixation_sdt = fixation_sdt.loc[[peyes.constants.D_PRIME_STR, peyes.constants.F1_STR]]      # Keep only d' and f1 metrics\n",
    "fixation_sdt = fixation_sdt.rename(index=lambda idx: f\"fixation_{idx}\")     # Rename index\n",
    "\n",
    "saccade_sdt = sm.load_sdt(DATASET_NAME, PROCESSED_DATA_DIR, label=2, stimulus_type=STIMULUS_TYPE, metric=None)\n",
    "saccade_sdt = saccade_sdt.loc[[peyes.constants.D_PRIME_STR, peyes.constants.F1_STR]]        # Keep only d' and f1 metrics\n",
    "saccade_sdt = saccade_sdt.rename(index=lambda idx: f\"saccade_{idx}\")        # Rename index\n",
    "\n",
    "fixation_saccade_sdt = pd.concat([fixation_sdt, saccade_sdt], axis=0)"
   ],
   "id": "317f318a41e035fc",
   "outputs": [],
   "execution_count": 2
  },
  {
   "metadata": {},
   "cell_type": "markdown",
   "source": [
    "### Fixation & Saccade Detection\n",
    "Evaluate performance by measuring how well the detector detects _fixation-samples_ or _saccade-samples_ out of all samples.  \n",
    "Evaluation is based on _Discriminability Index_ ($d'$) and _f1-score_"
   ],
   "id": "49d091dbd8318a3d"
  },
  {
   "metadata": {
    "ExecuteTime": {
     "end_time": "2025-01-08T09:08:31.736153Z",
     "start_time": "2025-01-08T09:08:31.700311Z"
    }
   },
   "cell_type": "code",
   "source": [
    "sdt_statistics, sdt_pvalues, sdt_nemenyi, sdt_Ns = sm.friedman_nemenyi(fixation_saccade_sdt, [GT1, GT2])\n",
    "\n",
    "sdt_pvalues <= ALPHA"
   ],
   "id": "7c8a561b0e4035f3",
   "outputs": [
    {
     "data": {
      "text/plain": [
       "gt                  MN    RA\n",
       "metric                      \n",
       "fixation_d_prime  True  True\n",
       "fixation_f1       True  True\n",
       "saccade_d_prime   True  True\n",
       "saccade_f1        True  True"
      ],
      "text/html": [
       "<div>\n",
       "<style scoped>\n",
       "    .dataframe tbody tr th:only-of-type {\n",
       "        vertical-align: middle;\n",
       "    }\n",
       "\n",
       "    .dataframe tbody tr th {\n",
       "        vertical-align: top;\n",
       "    }\n",
       "\n",
       "    .dataframe thead th {\n",
       "        text-align: right;\n",
       "    }\n",
       "</style>\n",
       "<table border=\"1\" class=\"dataframe\">\n",
       "  <thead>\n",
       "    <tr style=\"text-align: right;\">\n",
       "      <th>gt</th>\n",
       "      <th>MN</th>\n",
       "      <th>RA</th>\n",
       "    </tr>\n",
       "    <tr>\n",
       "      <th>metric</th>\n",
       "      <th></th>\n",
       "      <th></th>\n",
       "    </tr>\n",
       "  </thead>\n",
       "  <tbody>\n",
       "    <tr>\n",
       "      <th>fixation_d_prime</th>\n",
       "      <td>True</td>\n",
       "      <td>True</td>\n",
       "    </tr>\n",
       "    <tr>\n",
       "      <th>fixation_f1</th>\n",
       "      <td>True</td>\n",
       "      <td>True</td>\n",
       "    </tr>\n",
       "    <tr>\n",
       "      <th>saccade_d_prime</th>\n",
       "      <td>True</td>\n",
       "      <td>True</td>\n",
       "    </tr>\n",
       "    <tr>\n",
       "      <th>saccade_f1</th>\n",
       "      <td>True</td>\n",
       "      <td>True</td>\n",
       "    </tr>\n",
       "  </tbody>\n",
       "</table>\n",
       "</div>"
      ]
     },
     "execution_count": 9,
     "metadata": {},
     "output_type": "execute_result"
    }
   ],
   "execution_count": 9
  },
  {
   "metadata": {
    "ExecuteTime": {
     "end_time": "2025-01-08T09:08:31.839092Z",
     "start_time": "2025-01-08T09:08:31.832818Z"
    }
   },
   "cell_type": "code",
   "source": "pd.concat([sdt_statistics, sdt_pvalues], axis=1, keys=['Fr', 'p']).stack(1, future_stack=True)",
   "id": "90589e08758338d8",
   "outputs": [
    {
     "data": {
      "text/plain": [
       "                            Fr             p\n",
       "metric           gt                         \n",
       "fixation_d_prime MN  55.517419  3.644007e-10\n",
       "                 RA  79.855335  3.827345e-15\n",
       "fixation_f1      MN  67.749677  1.182213e-12\n",
       "                 RA  98.343580  5.559357e-19\n",
       "saccade_d_prime  MN  55.403599  3.842169e-10\n",
       "                 RA  71.509434  2.003739e-13\n",
       "saccade_f1       MN  51.455013  2.399829e-09\n",
       "                 RA  87.121294  1.199342e-16"
      ],
      "text/html": [
       "<div>\n",
       "<style scoped>\n",
       "    .dataframe tbody tr th:only-of-type {\n",
       "        vertical-align: middle;\n",
       "    }\n",
       "\n",
       "    .dataframe tbody tr th {\n",
       "        vertical-align: top;\n",
       "    }\n",
       "\n",
       "    .dataframe thead th {\n",
       "        text-align: right;\n",
       "    }\n",
       "</style>\n",
       "<table border=\"1\" class=\"dataframe\">\n",
       "  <thead>\n",
       "    <tr style=\"text-align: right;\">\n",
       "      <th></th>\n",
       "      <th></th>\n",
       "      <th>Fr</th>\n",
       "      <th>p</th>\n",
       "    </tr>\n",
       "    <tr>\n",
       "      <th>metric</th>\n",
       "      <th>gt</th>\n",
       "      <th></th>\n",
       "      <th></th>\n",
       "    </tr>\n",
       "  </thead>\n",
       "  <tbody>\n",
       "    <tr>\n",
       "      <th rowspan=\"2\" valign=\"top\">fixation_d_prime</th>\n",
       "      <th>MN</th>\n",
       "      <td>55.517419</td>\n",
       "      <td>3.644007e-10</td>\n",
       "    </tr>\n",
       "    <tr>\n",
       "      <th>RA</th>\n",
       "      <td>79.855335</td>\n",
       "      <td>3.827345e-15</td>\n",
       "    </tr>\n",
       "    <tr>\n",
       "      <th rowspan=\"2\" valign=\"top\">fixation_f1</th>\n",
       "      <th>MN</th>\n",
       "      <td>67.749677</td>\n",
       "      <td>1.182213e-12</td>\n",
       "    </tr>\n",
       "    <tr>\n",
       "      <th>RA</th>\n",
       "      <td>98.343580</td>\n",
       "      <td>5.559357e-19</td>\n",
       "    </tr>\n",
       "    <tr>\n",
       "      <th rowspan=\"2\" valign=\"top\">saccade_d_prime</th>\n",
       "      <th>MN</th>\n",
       "      <td>55.403599</td>\n",
       "      <td>3.842169e-10</td>\n",
       "    </tr>\n",
       "    <tr>\n",
       "      <th>RA</th>\n",
       "      <td>71.509434</td>\n",
       "      <td>2.003739e-13</td>\n",
       "    </tr>\n",
       "    <tr>\n",
       "      <th rowspan=\"2\" valign=\"top\">saccade_f1</th>\n",
       "      <th>MN</th>\n",
       "      <td>51.455013</td>\n",
       "      <td>2.399829e-09</td>\n",
       "    </tr>\n",
       "    <tr>\n",
       "      <th>RA</th>\n",
       "      <td>87.121294</td>\n",
       "      <td>1.199342e-16</td>\n",
       "    </tr>\n",
       "  </tbody>\n",
       "</table>\n",
       "</div>"
      ]
     },
     "execution_count": 10,
     "metadata": {},
     "output_type": "execute_result"
    }
   ],
   "execution_count": 10
  },
  {
   "metadata": {},
   "cell_type": "markdown",
   "source": "#### Post Hoc Analysis",
   "id": "b55d5236ba218ad"
  },
  {
   "metadata": {
    "ExecuteTime": {
     "end_time": "2025-01-08T09:08:32.065057Z",
     "start_time": "2025-01-08T09:08:32.050575Z"
    }
   },
   "cell_type": "code",
   "source": [
    "post_hoc_fix_dprime = sm.post_hoc_table(sdt_nemenyi, f\"fixation_{peyes.constants.D_PRIME_STR}\", [GT1, GT2], alpha=ALPHA, marginal_alpha=MARGINAL_ALPHA)\n",
    "post_hoc_fix_dprime"
   ],
   "id": "319df3e8f1a9a6ed",
   "outputs": [
    {
     "data": {
      "text/plain": [
       "pred            ivt    ivvt     idt    idvt engbert      nh remodnav\n",
       "pred     gt                                                         \n",
       "ivt      MN      --    n.s.       *    n.s.    n.s.    n.s.       **\n",
       "         RA      --    n.s.       *    n.s.    n.s.    n.s.      ***\n",
       "ivvt     MN  0.9974      --    n.s.    n.s.    n.s.    n.s.        *\n",
       "         RA  0.9747      --    n.s.    n.s.    n.s.    n.s.       **\n",
       "idt      MN  0.0184  0.1216      --    n.s.    n.s.    n.s.     n.s.\n",
       "         RA  0.0439  0.4048      --    n.s.    n.s.    n.s.     n.s.\n",
       "idvt     MN  0.0786  0.3260  0.9995      --    n.s.    n.s.     n.s.\n",
       "         RA  0.1540  0.7058  0.9995      --    n.s.    n.s.     n.s.\n",
       "engbert  MN  0.9996  1.0000  0.0774  0.2355      --    n.s.        *\n",
       "         RA  0.9968  1.0000  0.2325  0.5049      --    n.s.       **\n",
       "nh       MN  0.2508  0.6398  0.9756  0.9994  0.5264      --     n.s.\n",
       "         RA  0.0768  0.5295  1.0000  1.0000  0.3337      --     n.s.\n",
       "remodnav MN  0.0026  0.0285  0.9993  0.9741  0.0158  0.8274       --\n",
       "         RA  0.0001  0.0060  0.7920  0.5027  0.0016  0.6809       --"
      ],
      "text/html": [
       "<div>\n",
       "<style scoped>\n",
       "    .dataframe tbody tr th:only-of-type {\n",
       "        vertical-align: middle;\n",
       "    }\n",
       "\n",
       "    .dataframe tbody tr th {\n",
       "        vertical-align: top;\n",
       "    }\n",
       "\n",
       "    .dataframe thead th {\n",
       "        text-align: right;\n",
       "    }\n",
       "</style>\n",
       "<table border=\"1\" class=\"dataframe\">\n",
       "  <thead>\n",
       "    <tr style=\"text-align: right;\">\n",
       "      <th></th>\n",
       "      <th>pred</th>\n",
       "      <th>ivt</th>\n",
       "      <th>ivvt</th>\n",
       "      <th>idt</th>\n",
       "      <th>idvt</th>\n",
       "      <th>engbert</th>\n",
       "      <th>nh</th>\n",
       "      <th>remodnav</th>\n",
       "    </tr>\n",
       "    <tr>\n",
       "      <th>pred</th>\n",
       "      <th>gt</th>\n",
       "      <th></th>\n",
       "      <th></th>\n",
       "      <th></th>\n",
       "      <th></th>\n",
       "      <th></th>\n",
       "      <th></th>\n",
       "      <th></th>\n",
       "    </tr>\n",
       "  </thead>\n",
       "  <tbody>\n",
       "    <tr>\n",
       "      <th rowspan=\"2\" valign=\"top\">ivt</th>\n",
       "      <th>MN</th>\n",
       "      <td>--</td>\n",
       "      <td>n.s.</td>\n",
       "      <td>*</td>\n",
       "      <td>n.s.</td>\n",
       "      <td>n.s.</td>\n",
       "      <td>n.s.</td>\n",
       "      <td>**</td>\n",
       "    </tr>\n",
       "    <tr>\n",
       "      <th>RA</th>\n",
       "      <td>--</td>\n",
       "      <td>n.s.</td>\n",
       "      <td>*</td>\n",
       "      <td>n.s.</td>\n",
       "      <td>n.s.</td>\n",
       "      <td>n.s.</td>\n",
       "      <td>***</td>\n",
       "    </tr>\n",
       "    <tr>\n",
       "      <th rowspan=\"2\" valign=\"top\">ivvt</th>\n",
       "      <th>MN</th>\n",
       "      <td>0.9974</td>\n",
       "      <td>--</td>\n",
       "      <td>n.s.</td>\n",
       "      <td>n.s.</td>\n",
       "      <td>n.s.</td>\n",
       "      <td>n.s.</td>\n",
       "      <td>*</td>\n",
       "    </tr>\n",
       "    <tr>\n",
       "      <th>RA</th>\n",
       "      <td>0.9747</td>\n",
       "      <td>--</td>\n",
       "      <td>n.s.</td>\n",
       "      <td>n.s.</td>\n",
       "      <td>n.s.</td>\n",
       "      <td>n.s.</td>\n",
       "      <td>**</td>\n",
       "    </tr>\n",
       "    <tr>\n",
       "      <th rowspan=\"2\" valign=\"top\">idt</th>\n",
       "      <th>MN</th>\n",
       "      <td>0.0184</td>\n",
       "      <td>0.1216</td>\n",
       "      <td>--</td>\n",
       "      <td>n.s.</td>\n",
       "      <td>n.s.</td>\n",
       "      <td>n.s.</td>\n",
       "      <td>n.s.</td>\n",
       "    </tr>\n",
       "    <tr>\n",
       "      <th>RA</th>\n",
       "      <td>0.0439</td>\n",
       "      <td>0.4048</td>\n",
       "      <td>--</td>\n",
       "      <td>n.s.</td>\n",
       "      <td>n.s.</td>\n",
       "      <td>n.s.</td>\n",
       "      <td>n.s.</td>\n",
       "    </tr>\n",
       "    <tr>\n",
       "      <th rowspan=\"2\" valign=\"top\">idvt</th>\n",
       "      <th>MN</th>\n",
       "      <td>0.0786</td>\n",
       "      <td>0.3260</td>\n",
       "      <td>0.9995</td>\n",
       "      <td>--</td>\n",
       "      <td>n.s.</td>\n",
       "      <td>n.s.</td>\n",
       "      <td>n.s.</td>\n",
       "    </tr>\n",
       "    <tr>\n",
       "      <th>RA</th>\n",
       "      <td>0.1540</td>\n",
       "      <td>0.7058</td>\n",
       "      <td>0.9995</td>\n",
       "      <td>--</td>\n",
       "      <td>n.s.</td>\n",
       "      <td>n.s.</td>\n",
       "      <td>n.s.</td>\n",
       "    </tr>\n",
       "    <tr>\n",
       "      <th rowspan=\"2\" valign=\"top\">engbert</th>\n",
       "      <th>MN</th>\n",
       "      <td>0.9996</td>\n",
       "      <td>1.0000</td>\n",
       "      <td>0.0774</td>\n",
       "      <td>0.2355</td>\n",
       "      <td>--</td>\n",
       "      <td>n.s.</td>\n",
       "      <td>*</td>\n",
       "    </tr>\n",
       "    <tr>\n",
       "      <th>RA</th>\n",
       "      <td>0.9968</td>\n",
       "      <td>1.0000</td>\n",
       "      <td>0.2325</td>\n",
       "      <td>0.5049</td>\n",
       "      <td>--</td>\n",
       "      <td>n.s.</td>\n",
       "      <td>**</td>\n",
       "    </tr>\n",
       "    <tr>\n",
       "      <th rowspan=\"2\" valign=\"top\">nh</th>\n",
       "      <th>MN</th>\n",
       "      <td>0.2508</td>\n",
       "      <td>0.6398</td>\n",
       "      <td>0.9756</td>\n",
       "      <td>0.9994</td>\n",
       "      <td>0.5264</td>\n",
       "      <td>--</td>\n",
       "      <td>n.s.</td>\n",
       "    </tr>\n",
       "    <tr>\n",
       "      <th>RA</th>\n",
       "      <td>0.0768</td>\n",
       "      <td>0.5295</td>\n",
       "      <td>1.0000</td>\n",
       "      <td>1.0000</td>\n",
       "      <td>0.3337</td>\n",
       "      <td>--</td>\n",
       "      <td>n.s.</td>\n",
       "    </tr>\n",
       "    <tr>\n",
       "      <th rowspan=\"2\" valign=\"top\">remodnav</th>\n",
       "      <th>MN</th>\n",
       "      <td>0.0026</td>\n",
       "      <td>0.0285</td>\n",
       "      <td>0.9993</td>\n",
       "      <td>0.9741</td>\n",
       "      <td>0.0158</td>\n",
       "      <td>0.8274</td>\n",
       "      <td>--</td>\n",
       "    </tr>\n",
       "    <tr>\n",
       "      <th>RA</th>\n",
       "      <td>0.0001</td>\n",
       "      <td>0.0060</td>\n",
       "      <td>0.7920</td>\n",
       "      <td>0.5027</td>\n",
       "      <td>0.0016</td>\n",
       "      <td>0.6809</td>\n",
       "      <td>--</td>\n",
       "    </tr>\n",
       "  </tbody>\n",
       "</table>\n",
       "</div>"
      ]
     },
     "execution_count": 11,
     "metadata": {},
     "output_type": "execute_result"
    }
   ],
   "execution_count": 11
  },
  {
   "metadata": {
    "ExecuteTime": {
     "end_time": "2025-01-08T09:08:32.200154Z",
     "start_time": "2025-01-08T09:08:32.186775Z"
    }
   },
   "cell_type": "code",
   "source": [
    "post_hoc_fix_f1 = sm.post_hoc_table(sdt_nemenyi, f\"fixation_{peyes.constants.F1_STR}\", [GT1, GT2], alpha=ALPHA, marginal_alpha=MARGINAL_ALPHA)\n",
    "post_hoc_fix_f1"
   ],
   "id": "7edf123eeb64762e",
   "outputs": [
    {
     "data": {
      "text/plain": [
       "pred            ivt    ivvt     idt    idvt engbert      nh remodnav\n",
       "pred     gt                                                         \n",
       "ivt      MN      --    n.s.    n.s.    n.s.    n.s.    n.s.      ***\n",
       "         RA      --    n.s.    n.s.    n.s.    n.s.    n.s.      ***\n",
       "ivvt     MN  1.0000      --    n.s.    n.s.    n.s.    n.s.      ***\n",
       "         RA  0.9999      --    n.s.    n.s.    n.s.    n.s.      ***\n",
       "idt      MN  0.4603  0.3699      --    n.s.    n.s.    n.s.     n.s.\n",
       "         RA  0.3985  0.2200      --    n.s.    n.s.    n.s.        *\n",
       "idvt     MN  0.5512  0.4565  1.0000      --    n.s.    n.s.     n.s.\n",
       "         RA  0.4673  0.2726  1.0000      --    n.s.    n.s.        *\n",
       "engbert  MN  0.9882  0.9958  0.0824  0.1182      --    n.s.      ***\n",
       "         RA  0.9951  0.9999  0.0890  0.1177      --    n.s.      ***\n",
       "nh       MN  0.9649  0.9339  0.9644  0.9829  0.5911      --       **\n",
       "         RA  0.9808  0.9143  0.9132  0.9431  0.7418      --      ***\n",
       "remodnav MN  0.0001  0.0000  0.1894  0.1380  0.0000  0.0086       --\n",
       "         RA  0.0000  0.0000  0.0289  0.0201  0.0000  0.0001       --"
      ],
      "text/html": [
       "<div>\n",
       "<style scoped>\n",
       "    .dataframe tbody tr th:only-of-type {\n",
       "        vertical-align: middle;\n",
       "    }\n",
       "\n",
       "    .dataframe tbody tr th {\n",
       "        vertical-align: top;\n",
       "    }\n",
       "\n",
       "    .dataframe thead th {\n",
       "        text-align: right;\n",
       "    }\n",
       "</style>\n",
       "<table border=\"1\" class=\"dataframe\">\n",
       "  <thead>\n",
       "    <tr style=\"text-align: right;\">\n",
       "      <th></th>\n",
       "      <th>pred</th>\n",
       "      <th>ivt</th>\n",
       "      <th>ivvt</th>\n",
       "      <th>idt</th>\n",
       "      <th>idvt</th>\n",
       "      <th>engbert</th>\n",
       "      <th>nh</th>\n",
       "      <th>remodnav</th>\n",
       "    </tr>\n",
       "    <tr>\n",
       "      <th>pred</th>\n",
       "      <th>gt</th>\n",
       "      <th></th>\n",
       "      <th></th>\n",
       "      <th></th>\n",
       "      <th></th>\n",
       "      <th></th>\n",
       "      <th></th>\n",
       "      <th></th>\n",
       "    </tr>\n",
       "  </thead>\n",
       "  <tbody>\n",
       "    <tr>\n",
       "      <th rowspan=\"2\" valign=\"top\">ivt</th>\n",
       "      <th>MN</th>\n",
       "      <td>--</td>\n",
       "      <td>n.s.</td>\n",
       "      <td>n.s.</td>\n",
       "      <td>n.s.</td>\n",
       "      <td>n.s.</td>\n",
       "      <td>n.s.</td>\n",
       "      <td>***</td>\n",
       "    </tr>\n",
       "    <tr>\n",
       "      <th>RA</th>\n",
       "      <td>--</td>\n",
       "      <td>n.s.</td>\n",
       "      <td>n.s.</td>\n",
       "      <td>n.s.</td>\n",
       "      <td>n.s.</td>\n",
       "      <td>n.s.</td>\n",
       "      <td>***</td>\n",
       "    </tr>\n",
       "    <tr>\n",
       "      <th rowspan=\"2\" valign=\"top\">ivvt</th>\n",
       "      <th>MN</th>\n",
       "      <td>1.0000</td>\n",
       "      <td>--</td>\n",
       "      <td>n.s.</td>\n",
       "      <td>n.s.</td>\n",
       "      <td>n.s.</td>\n",
       "      <td>n.s.</td>\n",
       "      <td>***</td>\n",
       "    </tr>\n",
       "    <tr>\n",
       "      <th>RA</th>\n",
       "      <td>0.9999</td>\n",
       "      <td>--</td>\n",
       "      <td>n.s.</td>\n",
       "      <td>n.s.</td>\n",
       "      <td>n.s.</td>\n",
       "      <td>n.s.</td>\n",
       "      <td>***</td>\n",
       "    </tr>\n",
       "    <tr>\n",
       "      <th rowspan=\"2\" valign=\"top\">idt</th>\n",
       "      <th>MN</th>\n",
       "      <td>0.4603</td>\n",
       "      <td>0.3699</td>\n",
       "      <td>--</td>\n",
       "      <td>n.s.</td>\n",
       "      <td>n.s.</td>\n",
       "      <td>n.s.</td>\n",
       "      <td>n.s.</td>\n",
       "    </tr>\n",
       "    <tr>\n",
       "      <th>RA</th>\n",
       "      <td>0.3985</td>\n",
       "      <td>0.2200</td>\n",
       "      <td>--</td>\n",
       "      <td>n.s.</td>\n",
       "      <td>n.s.</td>\n",
       "      <td>n.s.</td>\n",
       "      <td>*</td>\n",
       "    </tr>\n",
       "    <tr>\n",
       "      <th rowspan=\"2\" valign=\"top\">idvt</th>\n",
       "      <th>MN</th>\n",
       "      <td>0.5512</td>\n",
       "      <td>0.4565</td>\n",
       "      <td>1.0000</td>\n",
       "      <td>--</td>\n",
       "      <td>n.s.</td>\n",
       "      <td>n.s.</td>\n",
       "      <td>n.s.</td>\n",
       "    </tr>\n",
       "    <tr>\n",
       "      <th>RA</th>\n",
       "      <td>0.4673</td>\n",
       "      <td>0.2726</td>\n",
       "      <td>1.0000</td>\n",
       "      <td>--</td>\n",
       "      <td>n.s.</td>\n",
       "      <td>n.s.</td>\n",
       "      <td>*</td>\n",
       "    </tr>\n",
       "    <tr>\n",
       "      <th rowspan=\"2\" valign=\"top\">engbert</th>\n",
       "      <th>MN</th>\n",
       "      <td>0.9882</td>\n",
       "      <td>0.9958</td>\n",
       "      <td>0.0824</td>\n",
       "      <td>0.1182</td>\n",
       "      <td>--</td>\n",
       "      <td>n.s.</td>\n",
       "      <td>***</td>\n",
       "    </tr>\n",
       "    <tr>\n",
       "      <th>RA</th>\n",
       "      <td>0.9951</td>\n",
       "      <td>0.9999</td>\n",
       "      <td>0.0890</td>\n",
       "      <td>0.1177</td>\n",
       "      <td>--</td>\n",
       "      <td>n.s.</td>\n",
       "      <td>***</td>\n",
       "    </tr>\n",
       "    <tr>\n",
       "      <th rowspan=\"2\" valign=\"top\">nh</th>\n",
       "      <th>MN</th>\n",
       "      <td>0.9649</td>\n",
       "      <td>0.9339</td>\n",
       "      <td>0.9644</td>\n",
       "      <td>0.9829</td>\n",
       "      <td>0.5911</td>\n",
       "      <td>--</td>\n",
       "      <td>**</td>\n",
       "    </tr>\n",
       "    <tr>\n",
       "      <th>RA</th>\n",
       "      <td>0.9808</td>\n",
       "      <td>0.9143</td>\n",
       "      <td>0.9132</td>\n",
       "      <td>0.9431</td>\n",
       "      <td>0.7418</td>\n",
       "      <td>--</td>\n",
       "      <td>***</td>\n",
       "    </tr>\n",
       "    <tr>\n",
       "      <th rowspan=\"2\" valign=\"top\">remodnav</th>\n",
       "      <th>MN</th>\n",
       "      <td>0.0001</td>\n",
       "      <td>0.0000</td>\n",
       "      <td>0.1894</td>\n",
       "      <td>0.1380</td>\n",
       "      <td>0.0000</td>\n",
       "      <td>0.0086</td>\n",
       "      <td>--</td>\n",
       "    </tr>\n",
       "    <tr>\n",
       "      <th>RA</th>\n",
       "      <td>0.0000</td>\n",
       "      <td>0.0000</td>\n",
       "      <td>0.0289</td>\n",
       "      <td>0.0201</td>\n",
       "      <td>0.0000</td>\n",
       "      <td>0.0001</td>\n",
       "      <td>--</td>\n",
       "    </tr>\n",
       "  </tbody>\n",
       "</table>\n",
       "</div>"
      ]
     },
     "execution_count": 12,
     "metadata": {},
     "output_type": "execute_result"
    }
   ],
   "execution_count": 12
  },
  {
   "metadata": {
    "ExecuteTime": {
     "end_time": "2025-01-08T09:08:32.315575Z",
     "start_time": "2025-01-08T09:08:32.302327Z"
    }
   },
   "cell_type": "code",
   "source": [
    "post_hoc_sac_dprime = sm.post_hoc_table(sdt_nemenyi, f\"saccade_{peyes.constants.D_PRIME_STR}\", [GT1, GT2], alpha=ALPHA, marginal_alpha=MARGINAL_ALPHA)\n",
    "post_hoc_sac_dprime"
   ],
   "id": "dc94a5d01ab06390",
   "outputs": [
    {
     "data": {
      "text/plain": [
       "pred            ivt    ivvt     idt    idvt engbert      nh remodnav\n",
       "pred     gt                                                         \n",
       "ivt      MN      --    n.s.    n.s.    n.s.    n.s.    n.s.     n.s.\n",
       "         RA      --    n.s.    n.s.    n.s.    n.s.    n.s.        †\n",
       "ivvt     MN  1.0000      --    n.s.    n.s.    n.s.    n.s.     n.s.\n",
       "         RA  1.0000      --    n.s.    n.s.    n.s.    n.s.        †\n",
       "idt      MN  0.4143  0.3963      --    n.s.      **    n.s.     n.s.\n",
       "         RA  0.1776  0.1803      --    n.s.     ***    n.s.     n.s.\n",
       "idvt     MN  0.6619  0.6435  0.9999      --      **    n.s.     n.s.\n",
       "         RA  0.5328  0.5373  0.9974      --     ***    n.s.     n.s.\n",
       "engbert  MN  0.5949  0.6137  0.0016  0.0079      --    n.s.       **\n",
       "         RA  0.3655  0.3614  0.0000  0.0007      --    n.s.      ***\n",
       "nh       MN  1.0000  1.0000  0.3927  0.6398  0.6175      --     n.s.\n",
       "         RA  1.0000  1.0000  0.1383  0.4618  0.4325      --        *\n",
       "remodnav MN  0.3856  0.3681  1.0000  0.9997  0.0013  0.3647       --\n",
       "         RA  0.0623  0.0635  0.9998  0.9624  0.0000  0.0453       --"
      ],
      "text/html": [
       "<div>\n",
       "<style scoped>\n",
       "    .dataframe tbody tr th:only-of-type {\n",
       "        vertical-align: middle;\n",
       "    }\n",
       "\n",
       "    .dataframe tbody tr th {\n",
       "        vertical-align: top;\n",
       "    }\n",
       "\n",
       "    .dataframe thead th {\n",
       "        text-align: right;\n",
       "    }\n",
       "</style>\n",
       "<table border=\"1\" class=\"dataframe\">\n",
       "  <thead>\n",
       "    <tr style=\"text-align: right;\">\n",
       "      <th></th>\n",
       "      <th>pred</th>\n",
       "      <th>ivt</th>\n",
       "      <th>ivvt</th>\n",
       "      <th>idt</th>\n",
       "      <th>idvt</th>\n",
       "      <th>engbert</th>\n",
       "      <th>nh</th>\n",
       "      <th>remodnav</th>\n",
       "    </tr>\n",
       "    <tr>\n",
       "      <th>pred</th>\n",
       "      <th>gt</th>\n",
       "      <th></th>\n",
       "      <th></th>\n",
       "      <th></th>\n",
       "      <th></th>\n",
       "      <th></th>\n",
       "      <th></th>\n",
       "      <th></th>\n",
       "    </tr>\n",
       "  </thead>\n",
       "  <tbody>\n",
       "    <tr>\n",
       "      <th rowspan=\"2\" valign=\"top\">ivt</th>\n",
       "      <th>MN</th>\n",
       "      <td>--</td>\n",
       "      <td>n.s.</td>\n",
       "      <td>n.s.</td>\n",
       "      <td>n.s.</td>\n",
       "      <td>n.s.</td>\n",
       "      <td>n.s.</td>\n",
       "      <td>n.s.</td>\n",
       "    </tr>\n",
       "    <tr>\n",
       "      <th>RA</th>\n",
       "      <td>--</td>\n",
       "      <td>n.s.</td>\n",
       "      <td>n.s.</td>\n",
       "      <td>n.s.</td>\n",
       "      <td>n.s.</td>\n",
       "      <td>n.s.</td>\n",
       "      <td>†</td>\n",
       "    </tr>\n",
       "    <tr>\n",
       "      <th rowspan=\"2\" valign=\"top\">ivvt</th>\n",
       "      <th>MN</th>\n",
       "      <td>1.0000</td>\n",
       "      <td>--</td>\n",
       "      <td>n.s.</td>\n",
       "      <td>n.s.</td>\n",
       "      <td>n.s.</td>\n",
       "      <td>n.s.</td>\n",
       "      <td>n.s.</td>\n",
       "    </tr>\n",
       "    <tr>\n",
       "      <th>RA</th>\n",
       "      <td>1.0000</td>\n",
       "      <td>--</td>\n",
       "      <td>n.s.</td>\n",
       "      <td>n.s.</td>\n",
       "      <td>n.s.</td>\n",
       "      <td>n.s.</td>\n",
       "      <td>†</td>\n",
       "    </tr>\n",
       "    <tr>\n",
       "      <th rowspan=\"2\" valign=\"top\">idt</th>\n",
       "      <th>MN</th>\n",
       "      <td>0.4143</td>\n",
       "      <td>0.3963</td>\n",
       "      <td>--</td>\n",
       "      <td>n.s.</td>\n",
       "      <td>**</td>\n",
       "      <td>n.s.</td>\n",
       "      <td>n.s.</td>\n",
       "    </tr>\n",
       "    <tr>\n",
       "      <th>RA</th>\n",
       "      <td>0.1776</td>\n",
       "      <td>0.1803</td>\n",
       "      <td>--</td>\n",
       "      <td>n.s.</td>\n",
       "      <td>***</td>\n",
       "      <td>n.s.</td>\n",
       "      <td>n.s.</td>\n",
       "    </tr>\n",
       "    <tr>\n",
       "      <th rowspan=\"2\" valign=\"top\">idvt</th>\n",
       "      <th>MN</th>\n",
       "      <td>0.6619</td>\n",
       "      <td>0.6435</td>\n",
       "      <td>0.9999</td>\n",
       "      <td>--</td>\n",
       "      <td>**</td>\n",
       "      <td>n.s.</td>\n",
       "      <td>n.s.</td>\n",
       "    </tr>\n",
       "    <tr>\n",
       "      <th>RA</th>\n",
       "      <td>0.5328</td>\n",
       "      <td>0.5373</td>\n",
       "      <td>0.9974</td>\n",
       "      <td>--</td>\n",
       "      <td>***</td>\n",
       "      <td>n.s.</td>\n",
       "      <td>n.s.</td>\n",
       "    </tr>\n",
       "    <tr>\n",
       "      <th rowspan=\"2\" valign=\"top\">engbert</th>\n",
       "      <th>MN</th>\n",
       "      <td>0.5949</td>\n",
       "      <td>0.6137</td>\n",
       "      <td>0.0016</td>\n",
       "      <td>0.0079</td>\n",
       "      <td>--</td>\n",
       "      <td>n.s.</td>\n",
       "      <td>**</td>\n",
       "    </tr>\n",
       "    <tr>\n",
       "      <th>RA</th>\n",
       "      <td>0.3655</td>\n",
       "      <td>0.3614</td>\n",
       "      <td>0.0000</td>\n",
       "      <td>0.0007</td>\n",
       "      <td>--</td>\n",
       "      <td>n.s.</td>\n",
       "      <td>***</td>\n",
       "    </tr>\n",
       "    <tr>\n",
       "      <th rowspan=\"2\" valign=\"top\">nh</th>\n",
       "      <th>MN</th>\n",
       "      <td>1.0000</td>\n",
       "      <td>1.0000</td>\n",
       "      <td>0.3927</td>\n",
       "      <td>0.6398</td>\n",
       "      <td>0.6175</td>\n",
       "      <td>--</td>\n",
       "      <td>n.s.</td>\n",
       "    </tr>\n",
       "    <tr>\n",
       "      <th>RA</th>\n",
       "      <td>1.0000</td>\n",
       "      <td>1.0000</td>\n",
       "      <td>0.1383</td>\n",
       "      <td>0.4618</td>\n",
       "      <td>0.4325</td>\n",
       "      <td>--</td>\n",
       "      <td>*</td>\n",
       "    </tr>\n",
       "    <tr>\n",
       "      <th rowspan=\"2\" valign=\"top\">remodnav</th>\n",
       "      <th>MN</th>\n",
       "      <td>0.3856</td>\n",
       "      <td>0.3681</td>\n",
       "      <td>1.0000</td>\n",
       "      <td>0.9997</td>\n",
       "      <td>0.0013</td>\n",
       "      <td>0.3647</td>\n",
       "      <td>--</td>\n",
       "    </tr>\n",
       "    <tr>\n",
       "      <th>RA</th>\n",
       "      <td>0.0623</td>\n",
       "      <td>0.0635</td>\n",
       "      <td>0.9998</td>\n",
       "      <td>0.9624</td>\n",
       "      <td>0.0000</td>\n",
       "      <td>0.0453</td>\n",
       "      <td>--</td>\n",
       "    </tr>\n",
       "  </tbody>\n",
       "</table>\n",
       "</div>"
      ]
     },
     "execution_count": 13,
     "metadata": {},
     "output_type": "execute_result"
    }
   ],
   "execution_count": 13
  },
  {
   "metadata": {
    "ExecuteTime": {
     "end_time": "2025-01-08T09:08:32.566596Z",
     "start_time": "2025-01-08T09:08:32.553611Z"
    }
   },
   "cell_type": "code",
   "source": [
    "post_hoc_sac_f1 = sm.post_hoc_table(sdt_nemenyi, f\"saccade_{peyes.constants.F1_STR}\", [GT1, GT2], alpha=ALPHA, marginal_alpha=MARGINAL_ALPHA)\n",
    "post_hoc_sac_f1"
   ],
   "id": "9a49da6332d8cf00",
   "outputs": [
    {
     "data": {
      "text/plain": [
       "pred            ivt    ivvt     idt    idvt engbert      nh remodnav\n",
       "pred     gt                                                         \n",
       "ivt      MN      --    n.s.      **       *    n.s.    n.s.     n.s.\n",
       "         RA      --    n.s.     ***     ***    n.s.    n.s.     n.s.\n",
       "ivvt     MN  1.0000      --       *       *    n.s.    n.s.     n.s.\n",
       "         RA  1.0000      --     ***     ***    n.s.    n.s.     n.s.\n",
       "idt      MN  0.0080  0.0113      --    n.s.      **    n.s.     n.s.\n",
       "         RA  0.0000  0.0001      --    n.s.     ***    n.s.     n.s.\n",
       "idvt     MN  0.0146  0.0201  1.0000      --       *    n.s.     n.s.\n",
       "         RA  0.0001  0.0001  1.0000      --     ***    n.s.     n.s.\n",
       "engbert  MN  1.0000  1.0000  0.0063  0.0116      --    n.s.     n.s.\n",
       "         RA  1.0000  1.0000  0.0000  0.0000      --    n.s.     n.s.\n",
       "nh       MN  0.8752  0.9085  0.3409  0.4399  0.8486      --     n.s.\n",
       "         RA  0.5831  0.6163  0.0952  0.1440  0.4498      --     n.s.\n",
       "remodnav MN  0.7356  0.7869  0.5188  0.6250  0.6977  1.0000       --\n",
       "         RA  0.1977  0.2200  0.3849  0.4905  0.1238  0.9967       --"
      ],
      "text/html": [
       "<div>\n",
       "<style scoped>\n",
       "    .dataframe tbody tr th:only-of-type {\n",
       "        vertical-align: middle;\n",
       "    }\n",
       "\n",
       "    .dataframe tbody tr th {\n",
       "        vertical-align: top;\n",
       "    }\n",
       "\n",
       "    .dataframe thead th {\n",
       "        text-align: right;\n",
       "    }\n",
       "</style>\n",
       "<table border=\"1\" class=\"dataframe\">\n",
       "  <thead>\n",
       "    <tr style=\"text-align: right;\">\n",
       "      <th></th>\n",
       "      <th>pred</th>\n",
       "      <th>ivt</th>\n",
       "      <th>ivvt</th>\n",
       "      <th>idt</th>\n",
       "      <th>idvt</th>\n",
       "      <th>engbert</th>\n",
       "      <th>nh</th>\n",
       "      <th>remodnav</th>\n",
       "    </tr>\n",
       "    <tr>\n",
       "      <th>pred</th>\n",
       "      <th>gt</th>\n",
       "      <th></th>\n",
       "      <th></th>\n",
       "      <th></th>\n",
       "      <th></th>\n",
       "      <th></th>\n",
       "      <th></th>\n",
       "      <th></th>\n",
       "    </tr>\n",
       "  </thead>\n",
       "  <tbody>\n",
       "    <tr>\n",
       "      <th rowspan=\"2\" valign=\"top\">ivt</th>\n",
       "      <th>MN</th>\n",
       "      <td>--</td>\n",
       "      <td>n.s.</td>\n",
       "      <td>**</td>\n",
       "      <td>*</td>\n",
       "      <td>n.s.</td>\n",
       "      <td>n.s.</td>\n",
       "      <td>n.s.</td>\n",
       "    </tr>\n",
       "    <tr>\n",
       "      <th>RA</th>\n",
       "      <td>--</td>\n",
       "      <td>n.s.</td>\n",
       "      <td>***</td>\n",
       "      <td>***</td>\n",
       "      <td>n.s.</td>\n",
       "      <td>n.s.</td>\n",
       "      <td>n.s.</td>\n",
       "    </tr>\n",
       "    <tr>\n",
       "      <th rowspan=\"2\" valign=\"top\">ivvt</th>\n",
       "      <th>MN</th>\n",
       "      <td>1.0000</td>\n",
       "      <td>--</td>\n",
       "      <td>*</td>\n",
       "      <td>*</td>\n",
       "      <td>n.s.</td>\n",
       "      <td>n.s.</td>\n",
       "      <td>n.s.</td>\n",
       "    </tr>\n",
       "    <tr>\n",
       "      <th>RA</th>\n",
       "      <td>1.0000</td>\n",
       "      <td>--</td>\n",
       "      <td>***</td>\n",
       "      <td>***</td>\n",
       "      <td>n.s.</td>\n",
       "      <td>n.s.</td>\n",
       "      <td>n.s.</td>\n",
       "    </tr>\n",
       "    <tr>\n",
       "      <th rowspan=\"2\" valign=\"top\">idt</th>\n",
       "      <th>MN</th>\n",
       "      <td>0.0080</td>\n",
       "      <td>0.0113</td>\n",
       "      <td>--</td>\n",
       "      <td>n.s.</td>\n",
       "      <td>**</td>\n",
       "      <td>n.s.</td>\n",
       "      <td>n.s.</td>\n",
       "    </tr>\n",
       "    <tr>\n",
       "      <th>RA</th>\n",
       "      <td>0.0000</td>\n",
       "      <td>0.0001</td>\n",
       "      <td>--</td>\n",
       "      <td>n.s.</td>\n",
       "      <td>***</td>\n",
       "      <td>n.s.</td>\n",
       "      <td>n.s.</td>\n",
       "    </tr>\n",
       "    <tr>\n",
       "      <th rowspan=\"2\" valign=\"top\">idvt</th>\n",
       "      <th>MN</th>\n",
       "      <td>0.0146</td>\n",
       "      <td>0.0201</td>\n",
       "      <td>1.0000</td>\n",
       "      <td>--</td>\n",
       "      <td>*</td>\n",
       "      <td>n.s.</td>\n",
       "      <td>n.s.</td>\n",
       "    </tr>\n",
       "    <tr>\n",
       "      <th>RA</th>\n",
       "      <td>0.0001</td>\n",
       "      <td>0.0001</td>\n",
       "      <td>1.0000</td>\n",
       "      <td>--</td>\n",
       "      <td>***</td>\n",
       "      <td>n.s.</td>\n",
       "      <td>n.s.</td>\n",
       "    </tr>\n",
       "    <tr>\n",
       "      <th rowspan=\"2\" valign=\"top\">engbert</th>\n",
       "      <th>MN</th>\n",
       "      <td>1.0000</td>\n",
       "      <td>1.0000</td>\n",
       "      <td>0.0063</td>\n",
       "      <td>0.0116</td>\n",
       "      <td>--</td>\n",
       "      <td>n.s.</td>\n",
       "      <td>n.s.</td>\n",
       "    </tr>\n",
       "    <tr>\n",
       "      <th>RA</th>\n",
       "      <td>1.0000</td>\n",
       "      <td>1.0000</td>\n",
       "      <td>0.0000</td>\n",
       "      <td>0.0000</td>\n",
       "      <td>--</td>\n",
       "      <td>n.s.</td>\n",
       "      <td>n.s.</td>\n",
       "    </tr>\n",
       "    <tr>\n",
       "      <th rowspan=\"2\" valign=\"top\">nh</th>\n",
       "      <th>MN</th>\n",
       "      <td>0.8752</td>\n",
       "      <td>0.9085</td>\n",
       "      <td>0.3409</td>\n",
       "      <td>0.4399</td>\n",
       "      <td>0.8486</td>\n",
       "      <td>--</td>\n",
       "      <td>n.s.</td>\n",
       "    </tr>\n",
       "    <tr>\n",
       "      <th>RA</th>\n",
       "      <td>0.5831</td>\n",
       "      <td>0.6163</td>\n",
       "      <td>0.0952</td>\n",
       "      <td>0.1440</td>\n",
       "      <td>0.4498</td>\n",
       "      <td>--</td>\n",
       "      <td>n.s.</td>\n",
       "    </tr>\n",
       "    <tr>\n",
       "      <th rowspan=\"2\" valign=\"top\">remodnav</th>\n",
       "      <th>MN</th>\n",
       "      <td>0.7356</td>\n",
       "      <td>0.7869</td>\n",
       "      <td>0.5188</td>\n",
       "      <td>0.6250</td>\n",
       "      <td>0.6977</td>\n",
       "      <td>1.0000</td>\n",
       "      <td>--</td>\n",
       "    </tr>\n",
       "    <tr>\n",
       "      <th>RA</th>\n",
       "      <td>0.1977</td>\n",
       "      <td>0.2200</td>\n",
       "      <td>0.3849</td>\n",
       "      <td>0.4905</td>\n",
       "      <td>0.1238</td>\n",
       "      <td>0.9967</td>\n",
       "      <td>--</td>\n",
       "    </tr>\n",
       "  </tbody>\n",
       "</table>\n",
       "</div>"
      ]
     },
     "execution_count": 14,
     "metadata": {},
     "output_type": "execute_result"
    }
   ],
   "execution_count": 14
  },
  {
   "metadata": {
    "ExecuteTime": {
     "end_time": "2025-01-08T09:08:33.285678Z",
     "start_time": "2025-01-08T09:08:32.696746Z"
    }
   },
   "cell_type": "code",
   "source": [
    "sdt_metrics_fig = sm.sdt_distributions_figure(\n",
    "    fixation_saccade_sdt,\n",
    "    GT1, GT2,\n",
    "    colors={k: v[1] for k, v in LABELER_PLOTTING_CONFIG.items()},\n",
    "    only_box=False,\n",
    "    show_other_gt=True,\n",
    "    share_x=True,\n",
    ")\n",
    "\n",
    "sdt_metrics_fig.update_layout(\n",
    "    title=None,\n",
    "    width=W, height=H,\n",
    "    paper_bgcolor='rgba(0, 0, 0, 0)',\n",
    "    plot_bgcolor='rgba(0, 0, 0, 0)',\n",
    "    margin=dict(l=10, r=10, b=10, t=20, pad=0),\n",
    ")\n",
    "# sdt_metrics_fig.layout.annotations = []    # remove subtitles\n",
    "\n",
    "\n",
    "save_fig(sdt_metrics_fig, FIG_ID, '', 'sample-detection-metrics', IS_SUPP)\n",
    "sdt_metrics_fig.show()"
   ],
   "id": "dd89e99f704d409b",
   "outputs": [
    {
     "data": {
      "application/vnd.plotly.v1+json": {
       "data": [
        {
         "box": {
          "visible": true
         },
         "fillcolor": "#bab0ac",
         "legendgroup": "Other GT",
         "line": {
          "color": "black"
         },
         "meanline": {
          "visible": true
         },
         "name": "RA, Other GT",
         "opacity": 0.75,
         "scalegroup": "fixation_d_prime",
         "showlegend": true,
         "side": "positive",
         "spanmode": "hard",
         "x0": "Other GT",
         "y": [
          3.1169963630558257,
          2.4742067165162993,
          2.7034388255403297,
          2.441785383429772,
          3.6995238126556584,
          3.6981303153821155,
          3.8903160788601303,
          3.0113700030130395,
          3.3102105695848376,
          4.322011376868552,
          3.336314583074406,
          3.8019015366170725,
          3.8788081164878543,
          3.783236613861342
         ],
         "type": "violin",
         "xaxis": "x",
         "yaxis": "y"
        },
        {
         "box": {
          "visible": true
         },
         "fillcolor": "#2E91E5",
         "legendgroup": "ivt",
         "line": {
          "color": "black"
         },
         "meanline": {
          "visible": true
         },
         "name": "RA, ivt",
         "opacity": 0.75,
         "scalegroup": "fixation_d_prime",
         "showlegend": true,
         "side": "positive",
         "spanmode": "hard",
         "x0": "ivt",
         "y": [
          3.7517858737809053,
          2.0992915627073825,
          3.556060161549413,
          3.8462496810932922,
          3.2396811213213645,
          1.8325161994031305,
          1.4991818017184855,
          2.147859390147275,
          2.163810776600023,
          2.4734010956485957,
          3.812211900971969,
          3.9655240444914623,
          3.7003944023585116,
          3.461132720428329,
          3.131826283296572,
          3.198892960690011,
          3.698791139613784,
          2.204186574801329,
          3.5488342815056786,
          3.5313678543651967
         ],
         "type": "violin",
         "xaxis": "x",
         "yaxis": "y"
        },
        {
         "box": {
          "visible": true
         },
         "fillcolor": "#E15F99",
         "legendgroup": "ivvt",
         "line": {
          "color": "black"
         },
         "meanline": {
          "visible": true
         },
         "name": "RA, ivvt",
         "opacity": 0.75,
         "scalegroup": "fixation_d_prime",
         "showlegend": true,
         "side": "positive",
         "spanmode": "hard",
         "x0": "ivvt",
         "y": [
          3.026133558181761,
          1.4867992658638998,
          3.4989749103187133,
          3.622658219160959,
          3.278656218645536,
          1.481896168224083,
          1.629491594401311,
          0.9330458157434194,
          1.8158684478992264,
          2.3556660507857736,
          3.1275874411554065,
          3.637746120026881,
          3.2829146726395275,
          2.9928984818952213,
          3.497128426653924,
          2.8952775463091442,
          3.1066237882654075,
          1.7374531825141708,
          3.077899433864902,
          3.8623093976500673
         ],
         "type": "violin",
         "xaxis": "x",
         "yaxis": "y"
        },
        {
         "box": {
          "visible": true
         },
         "fillcolor": "#1CA71C",
         "legendgroup": "idt",
         "line": {
          "color": "black"
         },
         "meanline": {
          "visible": true
         },
         "name": "RA, idt",
         "opacity": 0.75,
         "scalegroup": "fixation_d_prime",
         "showlegend": true,
         "side": "positive",
         "spanmode": "hard",
         "x0": "idt",
         "y": [
          2.689572304421439,
          1.4376616520742553,
          2.263323763618178,
          2.5615005893901555,
          1.9217454481106797,
          2.1036448349292507,
          1.3858155658183544,
          1.398386562015835,
          1.5206187106302682,
          2.1103744520788874,
          2.5718583368233956,
          1.8369688302465423,
          2.885953161667344,
          2.574132133064883,
          1.6319099599374949,
          1.7737596461466636,
          2.1005898862558205,
          1.354656693077145,
          3.0606861034984982,
          2.448424498872339
         ],
         "type": "violin",
         "xaxis": "x",
         "yaxis": "y"
        },
        {
         "box": {
          "visible": true
         },
         "fillcolor": "#FB0D0D",
         "legendgroup": "idvt",
         "line": {
          "color": "black"
         },
         "meanline": {
          "visible": true
         },
         "name": "RA, idvt",
         "opacity": 0.75,
         "scalegroup": "fixation_d_prime",
         "showlegend": true,
         "side": "positive",
         "spanmode": "hard",
         "x0": "idvt",
         "y": [
          2.689572304421439,
          1.4376616520742553,
          2.263323763618178,
          2.5615005893901555,
          1.9217454481106797,
          2.1036448349292507,
          1.3858155658183544,
          1.4909100233093662,
          1.5206187106302682,
          2.1103744520788874,
          2.5718583368233956,
          1.8369688302465423,
          2.885953161667344,
          2.574132133064883,
          1.6319099599374949,
          2.2057928277690713,
          2.772177191757627,
          2.070186352262784,
          3.22581992249444,
          2.6916922879161627
         ],
         "type": "violin",
         "xaxis": "x",
         "yaxis": "y"
        },
        {
         "box": {
          "visible": true
         },
         "fillcolor": "#DA16FF",
         "legendgroup": "engbert",
         "line": {
          "color": "black"
         },
         "meanline": {
          "visible": true
         },
         "name": "RA, engbert",
         "opacity": 0.75,
         "scalegroup": "fixation_d_prime",
         "showlegend": true,
         "side": "positive",
         "spanmode": "hard",
         "x0": "engbert",
         "y": [
          2.9260195312604744,
          1.213254083111218,
          3.861151331768916,
          3.729905097480382,
          3.232248200519754,
          2.3503483026818275,
          1.9167888226723482,
          1.894943175137048,
          1.8305981177246495,
          2.400960118362709,
          3.2147658185025314,
          3.5094134565814095,
          3.294197547943723,
          2.728174660903573,
          2.7485808325069203,
          2.9887608412998032,
          3.1227937947527256,
          2.3350799378340943,
          3.5570785200741897,
          2.9723874846477045
         ],
         "type": "violin",
         "xaxis": "x",
         "yaxis": "y"
        },
        {
         "box": {
          "visible": true
         },
         "fillcolor": "#222A2A",
         "legendgroup": "nh",
         "line": {
          "color": "black"
         },
         "meanline": {
          "visible": true
         },
         "name": "RA, nh",
         "opacity": 0.75,
         "scalegroup": "fixation_d_prime",
         "showlegend": true,
         "side": "positive",
         "spanmode": "hard",
         "x0": "nh",
         "y": [
          2.477192329277583,
          1.0573916964303929,
          1.4136355061069714,
          3.409357652143349,
          2.6339952132077635,
          2.0499192359925886,
          1.140627523551301,
          1.191312906730096,
          1.5143877046168228,
          2.1551737189313562,
          2.9166495330334388,
          2.8459318231280655,
          2.7178204143849296,
          2.266625384460856,
          2.479121216053286,
          2.0701057063291115,
          2.2287076547252913,
          1.8287562867018943,
          1.4370441348315008,
          2.5063875633954433
         ],
         "type": "violin",
         "xaxis": "x",
         "yaxis": "y"
        },
        {
         "box": {
          "visible": true
         },
         "fillcolor": "#B68100",
         "legendgroup": "remodnav",
         "line": {
          "color": "black"
         },
         "meanline": {
          "visible": true
         },
         "name": "RA, remodnav",
         "opacity": 0.75,
         "scalegroup": "fixation_d_prime",
         "showlegend": true,
         "side": "positive",
         "spanmode": "hard",
         "x0": "remodnav",
         "y": [
          2.4530928277650963,
          0.10929052743267137,
          2.5145743449224844,
          2.6770434859476095,
          1.648315011479618,
          1.0226835220014383,
          1.7515331127960734,
          0.34023093839949115,
          0.08448530966824119,
          0.6864643861041156,
          1.8670384138226073,
          0.7198259193698322,
          2.1204456638864073,
          2.3039002741631873,
          0.7849154700049406,
          1.6768438047281609,
          2.152020437395713,
          0.2999988631964974,
          1.6541517499966363,
          0.7814791078322763
         ],
         "type": "violin",
         "xaxis": "x",
         "yaxis": "y"
        },
        {
         "box": {
          "visible": true
         },
         "fillcolor": "#bab0ac",
         "legendgroup": "Other GT",
         "line": {
          "color": "black"
         },
         "meanline": {
          "visible": true
         },
         "name": "MN, Other GT",
         "opacity": 0.25,
         "scalegroup": "fixation_d_prime",
         "showlegend": true,
         "side": "negative",
         "spanmode": "hard",
         "x0": "Other GT",
         "y": [
          3.254681088463787,
          4.619558265586959,
          2.916581317927262,
          2.52659355086971,
          3.706528893895525,
          3.8142027611723313,
          4.003708644340369,
          3.2294475847222994,
          3.316168080110867,
          4.900829846133315,
          3.374347296069507,
          3.8155252651911904,
          3.950664420813653,
          3.8783559585302037
         ],
         "type": "violin",
         "xaxis": "x",
         "yaxis": "y"
        },
        {
         "box": {
          "visible": true
         },
         "fillcolor": "#2E91E5",
         "legendgroup": "ivt",
         "line": {
          "color": "black"
         },
         "meanline": {
          "visible": true
         },
         "name": "MN, ivt",
         "opacity": 0.25,
         "scalegroup": "fixation_d_prime",
         "showlegend": true,
         "side": "negative",
         "spanmode": "hard",
         "x0": "ivt",
         "y": [
          4.010371299688721,
          3.7101632833197833,
          2.534758950156851,
          1.9299820203417917,
          3.8205437490353327,
          4.135013533912502,
          3.8498460795837777,
          3.8305421054807356,
          3.1387608847802593,
          3.3145832765080474,
          3.7718902883812095,
          2.2538937517547573,
          3.3051650830847645,
          3.6578113064070337
         ],
         "type": "violin",
         "xaxis": "x",
         "yaxis": "y"
        },
        {
         "box": {
          "visible": true
         },
         "fillcolor": "#E15F99",
         "legendgroup": "ivvt",
         "line": {
          "color": "black"
         },
         "meanline": {
          "visible": true
         },
         "name": "MN, ivvt",
         "opacity": 0.25,
         "scalegroup": "fixation_d_prime",
         "showlegend": true,
         "side": "negative",
         "spanmode": "hard",
         "x0": "ivvt",
         "y": [
          3.908435228415665,
          3.499880610266203,
          2.7459404044145552,
          2.1446736914755578,
          3.3260467266434017,
          3.6452624009270354,
          3.3202120669667723,
          3.3681248316703813,
          3.506405633501052,
          3.1986302742162684,
          3.5219351119328515,
          1.7605906034824514,
          3.2053086385666116,
          3.3040668548265755
         ],
         "type": "violin",
         "xaxis": "x",
         "yaxis": "y"
        },
        {
         "box": {
          "visible": true
         },
         "fillcolor": "#1CA71C",
         "legendgroup": "idt",
         "line": {
          "color": "black"
         },
         "meanline": {
          "visible": true
         },
         "name": "MN, idt",
         "opacity": 0.25,
         "scalegroup": "fixation_d_prime",
         "showlegend": true,
         "side": "negative",
         "spanmode": "hard",
         "x0": "idt",
         "y": [
          2.794616511363251,
          2.3792301379754335,
          2.4184508501520425,
          1.4218235300481479,
          2.5751067815940747,
          1.9287306554871995,
          2.9405966252818656,
          2.7496914891897246,
          1.634622326886157,
          1.9281641054008989,
          2.2120518189380687,
          1.3563815914255408,
          3.101587829266826,
          2.5047584243266074
         ],
         "type": "violin",
         "xaxis": "x",
         "yaxis": "y"
        },
        {
         "box": {
          "visible": true
         },
         "fillcolor": "#FB0D0D",
         "legendgroup": "idvt",
         "line": {
          "color": "black"
         },
         "meanline": {
          "visible": true
         },
         "name": "MN, idvt",
         "opacity": 0.25,
         "scalegroup": "fixation_d_prime",
         "showlegend": true,
         "side": "negative",
         "spanmode": "hard",
         "x0": "idvt",
         "y": [
          2.794616511363251,
          2.3792301379754335,
          2.4184508501520425,
          1.4218235300481479,
          2.5751067815940747,
          1.9287306554871995,
          2.9405966252818656,
          2.7496914891897246,
          1.634622326886157,
          2.420239125114943,
          2.979140566483748,
          2.111560942628883,
          3.2716344218646216,
          2.7569885394314286
         ],
         "type": "violin",
         "xaxis": "x",
         "yaxis": "y"
        },
        {
         "box": {
          "visible": true
         },
         "fillcolor": "#DA16FF",
         "legendgroup": "engbert",
         "line": {
          "color": "black"
         },
         "meanline": {
          "visible": true
         },
         "name": "MN, engbert",
         "opacity": 0.25,
         "scalegroup": "fixation_d_prime",
         "showlegend": true,
         "side": "negative",
         "spanmode": "hard",
         "x0": "engbert",
         "y": [
          3.5459302606115832,
          3.348324521879218,
          3.2997879100320437,
          2.3675952252629036,
          3.5150419730334423,
          4.046513052698289,
          3.4211316631922433,
          3.264813672262407,
          2.8477089894203687,
          3.366396668131874,
          3.5803760356289116,
          2.379385790137434,
          3.6232239075258454,
          2.731332999869408
         ],
         "type": "violin",
         "xaxis": "x",
         "yaxis": "y"
        },
        {
         "box": {
          "visible": true
         },
         "fillcolor": "#222A2A",
         "legendgroup": "nh",
         "line": {
          "color": "black"
         },
         "meanline": {
          "visible": true
         },
         "name": "MN, nh",
         "opacity": 0.25,
         "scalegroup": "fixation_d_prime",
         "showlegend": true,
         "side": "negative",
         "spanmode": "hard",
         "x0": "nh",
         "y": [
          3.3955734872899885,
          3.50434138749323,
          2.936602781079581,
          1.2973105697068759,
          3.030085872531,
          3.3958521587449346,
          2.8320892211344644,
          3.0932260158014477,
          2.562735144965263,
          2.244610514268118,
          1.9968772490918105,
          1.8198455367222666,
          1.635077368875519,
          2.467946158443478
         ],
         "type": "violin",
         "xaxis": "x",
         "yaxis": "y"
        },
        {
         "box": {
          "visible": true
         },
         "fillcolor": "#B68100",
         "legendgroup": "remodnav",
         "line": {
          "color": "black"
         },
         "meanline": {
          "visible": true
         },
         "name": "MN, remodnav",
         "opacity": 0.25,
         "scalegroup": "fixation_d_prime",
         "showlegend": true,
         "side": "negative",
         "spanmode": "hard",
         "x0": "remodnav",
         "y": [
          2.2464607492493194,
          3.517448201380137,
          1.3437824640547382,
          1.545060145736356,
          2.4901897107119977,
          1.8483982827387426,
          2.1131209196213714,
          3.08469002078243,
          0.9741142412995093,
          1.8279840747623946,
          2.046783344711506,
          0.28281692688444404,
          2.853735248005257,
          0.6839761300635592
         ],
         "type": "violin",
         "xaxis": "x",
         "yaxis": "y"
        },
        {
         "box": {
          "visible": true
         },
         "fillcolor": "#bab0ac",
         "legendgroup": "Other GT",
         "line": {
          "color": "black"
         },
         "meanline": {
          "visible": true
         },
         "name": "RA, Other GT",
         "opacity": 0.75,
         "scalegroup": "fixation_f1",
         "showlegend": false,
         "side": "positive",
         "spanmode": "hard",
         "x0": "Other GT",
         "y": [
          0.9752808988764045,
          0.9247738804323847,
          0.9568778607564442,
          0.9428828135027596,
          0.9865610751139909,
          0.9856527977044476,
          0.9878122360323398,
          0.9672170375687964,
          0.9787234042553191,
          0.9547641963426372,
          0.9333093654502967,
          0.9547892720306513,
          0.9866700201207244,
          0.9787087912087911
         ],
         "type": "violin",
         "xaxis": "x2",
         "yaxis": "y2"
        },
        {
         "box": {
          "visible": true
         },
         "fillcolor": "#2E91E5",
         "legendgroup": "ivt",
         "line": {
          "color": "black"
         },
         "meanline": {
          "visible": true
         },
         "name": "RA, ivt",
         "opacity": 0.75,
         "scalegroup": "fixation_f1",
         "showlegend": false,
         "side": "positive",
         "spanmode": "hard",
         "x0": "ivt",
         "y": [
          0.9625100934363825,
          0.9196840026333114,
          0.9847166705854692,
          0.978435420968112,
          0.9581449275362319,
          0.9246734220485899,
          0.8892604501607717,
          0.8182658044080772,
          0.8968944099378882,
          0.933293803735547,
          0.9642236887808266,
          0.9688266199649738,
          0.968554940525262,
          0.9460494256874348,
          0.9447958596894767,
          0.9366368805848904,
          0.9052304505437597,
          0.8245021937225785,
          0.9724793286437122,
          0.926703261220536
         ],
         "type": "violin",
         "xaxis": "x2",
         "yaxis": "y2"
        },
        {
         "box": {
          "visible": true
         },
         "fillcolor": "#E15F99",
         "legendgroup": "ivvt",
         "line": {
          "color": "black"
         },
         "meanline": {
          "visible": true
         },
         "name": "RA, ivvt",
         "opacity": 0.75,
         "scalegroup": "fixation_f1",
         "showlegend": false,
         "side": "positive",
         "spanmode": "hard",
         "x0": "ivvt",
         "y": [
          0.9703504043126685,
          0.9213111135636243,
          0.976044299987962,
          0.9867820797754124,
          0.9755460588793922,
          0.8773841961852861,
          0.8724629731212288,
          0.7857862178103869,
          0.8975422917331632,
          0.9420685471640886,
          0.9755634638196916,
          0.9832122871770449,
          0.9786051009307385,
          0.9603690997279073,
          0.9588561423985994,
          0.9512813292030414,
          0.9285456513893903,
          0.8138288038454428,
          0.9655260797129309,
          0.9475074281941235
         ],
         "type": "violin",
         "xaxis": "x2",
         "yaxis": "y2"
        },
        {
         "box": {
          "visible": true
         },
         "fillcolor": "#1CA71C",
         "legendgroup": "idt",
         "line": {
          "color": "black"
         },
         "meanline": {
          "visible": true
         },
         "name": "RA, idt",
         "opacity": 0.75,
         "scalegroup": "fixation_f1",
         "showlegend": false,
         "side": "positive",
         "spanmode": "hard",
         "x0": "idt",
         "y": [
          0.9273333333333333,
          0.914684704342134,
          0.9435275625912204,
          0.9341212519150799,
          0.9246129683643707,
          0.9162100456621004,
          0.8835568101623148,
          0.785986290936786,
          0.8604513064133017,
          0.8968838526912181,
          0.9239130434782609,
          0.9224080267558529,
          0.9269061831287307,
          0.9149652232443347,
          0.9072847682119205,
          0.8468600807932428,
          0.7602152101206922,
          0.7084048027444254,
          0.9178082191780822,
          0.864718288641157
         ],
         "type": "violin",
         "xaxis": "x2",
         "yaxis": "y2"
        },
        {
         "box": {
          "visible": true
         },
         "fillcolor": "#FB0D0D",
         "legendgroup": "idvt",
         "line": {
          "color": "black"
         },
         "meanline": {
          "visible": true
         },
         "name": "RA, idvt",
         "opacity": 0.75,
         "scalegroup": "fixation_f1",
         "showlegend": false,
         "side": "positive",
         "spanmode": "hard",
         "x0": "idvt",
         "y": [
          0.9273333333333333,
          0.914684704342134,
          0.9435275625912204,
          0.9341212519150799,
          0.9246129683643707,
          0.9162100456621004,
          0.8835568101623148,
          0.7893931667516573,
          0.8604513064133017,
          0.8968838526912181,
          0.9239130434782609,
          0.9224080267558529,
          0.9269061831287307,
          0.9149652232443347,
          0.9072847682119205,
          0.8687680522416175,
          0.8344772545889865,
          0.775829680651221,
          0.9245702257045959,
          0.8758010375343301
         ],
         "type": "violin",
         "xaxis": "x2",
         "yaxis": "y2"
        },
        {
         "box": {
          "visible": true
         },
         "fillcolor": "#DA16FF",
         "legendgroup": "engbert",
         "line": {
          "color": "black"
         },
         "meanline": {
          "visible": true
         },
         "name": "RA, engbert",
         "opacity": 0.75,
         "scalegroup": "fixation_f1",
         "showlegend": false,
         "side": "positive",
         "spanmode": "hard",
         "x0": "engbert",
         "y": [
          0.9707409155261916,
          0.9192008879023308,
          0.9830955520920752,
          0.9852472559896142,
          0.9776074721590229,
          0.9474447263501269,
          0.9166027116909694,
          0.8235608387872311,
          0.8988476312419974,
          0.9472377405338299,
          0.976491862567812,
          0.9824603269299607,
          0.9787593531257542,
          0.9609178917174614,
          0.9647696476964771,
          0.9477033757609297,
          0.9099824868651488,
          0.8279226240538268,
          0.9815210559396605,
          0.9558423913043478
         ],
         "type": "violin",
         "xaxis": "x2",
         "yaxis": "y2"
        },
        {
         "box": {
          "visible": true
         },
         "fillcolor": "#222A2A",
         "legendgroup": "nh",
         "line": {
          "color": "black"
         },
         "meanline": {
          "visible": true
         },
         "name": "RA, nh",
         "opacity": 0.75,
         "scalegroup": "fixation_f1",
         "showlegend": false,
         "side": "positive",
         "spanmode": "hard",
         "x0": "nh",
         "y": [
          0.951397326852977,
          0.9154251148202084,
          0.9192722518792897,
          0.9560131594979895,
          0.9475124378109453,
          0.9351252290775809,
          0.8760793465577597,
          0.8080276816608996,
          0.8810226155358899,
          0.9329962073324906,
          0.9604907975460123,
          0.9616844166972701,
          0.9529967669733898,
          0.9416707859614434,
          0.9519142419601838,
          0.9033391915641477,
          0.7983425414364641,
          0.80550833049983,
          0.9000576368876081,
          0.9338494018296976
         ],
         "type": "violin",
         "xaxis": "x2",
         "yaxis": "y2"
        },
        {
         "box": {
          "visible": true
         },
         "fillcolor": "#B68100",
         "legendgroup": "remodnav",
         "line": {
          "color": "black"
         },
         "meanline": {
          "visible": true
         },
         "name": "RA, remodnav",
         "opacity": 0.75,
         "scalegroup": "fixation_f1",
         "showlegend": false,
         "side": "positive",
         "spanmode": "hard",
         "x0": "remodnav",
         "y": [
          0.5286343612334802,
          0.6197995748557547,
          0.26469379367036583,
          0.6316295465470277,
          0.5518802228412256,
          0.4125560538116592,
          0.31767041694242226,
          0.3738049713193116,
          0.24510932105868816,
          0.31286089238845144,
          0.5913072776280324,
          0.28184615384615386,
          0.14430665163472378,
          0.5070422535211268,
          0.337,
          0.49957118353344776,
          0.2110997616615594,
          0.14316087880935507,
          0.39489671931956255,
          0.3193566915565767
         ],
         "type": "violin",
         "xaxis": "x2",
         "yaxis": "y2"
        },
        {
         "box": {
          "visible": true
         },
         "fillcolor": "#bab0ac",
         "legendgroup": "Other GT",
         "line": {
          "color": "black"
         },
         "meanline": {
          "visible": true
         },
         "name": "MN, Other GT",
         "opacity": 0.25,
         "scalegroup": "fixation_f1",
         "showlegend": false,
         "side": "negative",
         "spanmode": "hard",
         "x0": "Other GT",
         "y": [
          0.9752808988764046,
          0.9247738804323846,
          0.9568778607564442,
          0.9428828135027596,
          0.9865610751139908,
          0.9856527977044475,
          0.9878122360323399,
          0.9672170375687964,
          0.9787234042553191,
          0.9547641963426372,
          0.9333093654502966,
          0.9547892720306513,
          0.9866700201207244,
          0.9787087912087912
         ],
         "type": "violin",
         "xaxis": "x2",
         "yaxis": "y2"
        },
        {
         "box": {
          "visible": true
         },
         "fillcolor": "#2E91E5",
         "legendgroup": "ivt",
         "line": {
          "color": "black"
         },
         "meanline": {
          "visible": true
         },
         "name": "MN, ivt",
         "opacity": 0.25,
         "scalegroup": "fixation_f1",
         "showlegend": false,
         "side": "negative",
         "spanmode": "hard",
         "x0": "ivt",
         "y": [
          0.9753930280246069,
          0.9948958758677011,
          0.9574896388395501,
          0.9220125786163522,
          0.9647031593565559,
          0.9764746784100128,
          0.9754328497894245,
          0.9701847863054076,
          0.9454022988505748,
          0.9723914452365522,
          0.957732634338139,
          0.8570029382957883,
          0.9736163946496502,
          0.9410640331315706
         ],
         "type": "violin",
         "xaxis": "x2",
         "yaxis": "y2"
        },
        {
         "box": {
          "visible": true
         },
         "fillcolor": "#E15F99",
         "legendgroup": "ivvt",
         "line": {
          "color": "black"
         },
         "meanline": {
          "visible": true
         },
         "name": "MN, ivvt",
         "opacity": 0.25,
         "scalegroup": "fixation_f1",
         "showlegend": false,
         "side": "negative",
         "spanmode": "hard",
         "x0": "ivvt",
         "y": [
          0.9881971765794956,
          0.995381299394437,
          0.9172214545911318,
          0.8988884424802465,
          0.9793692198245199,
          0.9864114380243412,
          0.9795918367346939,
          0.9818601964182554,
          0.9594634004082823,
          0.9611088682546091,
          0.9670254570305826,
          0.8315207701907649,
          0.9664925468212511,
          0.9573428850537284
         ],
         "type": "violin",
         "xaxis": "x2",
         "yaxis": "y2"
        },
        {
         "box": {
          "visible": true
         },
         "fillcolor": "#1CA71C",
         "legendgroup": "idt",
         "line": {
          "color": "black"
         },
         "meanline": {
          "visible": true
         },
         "name": "MN, idt",
         "opacity": 0.25,
         "scalegroup": "fixation_f1",
         "showlegend": false,
         "side": "negative",
         "spanmode": "hard",
         "x0": "idt",
         "y": [
          0.9401690635635086,
          0.9898456539398863,
          0.9469713778566674,
          0.9037685836118474,
          0.9243902439024391,
          0.9302634491919416,
          0.9337511190689346,
          0.9390083369899078,
          0.9078874793160507,
          0.8910331842786539,
          0.8132999443516973,
          0.7423568649249583,
          0.9235565819861432,
          0.8789050877714965
         ],
         "type": "violin",
         "xaxis": "x2",
         "yaxis": "y2"
        },
        {
         "box": {
          "visible": true
         },
         "fillcolor": "#FB0D0D",
         "legendgroup": "idvt",
         "line": {
          "color": "black"
         },
         "meanline": {
          "visible": true
         },
         "name": "MN, idvt",
         "opacity": 0.25,
         "scalegroup": "fixation_f1",
         "showlegend": false,
         "side": "negative",
         "spanmode": "hard",
         "x0": "idvt",
         "y": [
          0.9401690635635086,
          0.9898456539398863,
          0.9469713778566674,
          0.9037685836118474,
          0.9243902439024391,
          0.9302634491919416,
          0.9337511190689346,
          0.9390083369899078,
          0.9078874793160507,
          0.9131693198263386,
          0.8889902676399026,
          0.8108682452944749,
          0.9303245318134233,
          0.8900271166013859
         ],
         "type": "violin",
         "xaxis": "x2",
         "yaxis": "y2"
        },
        {
         "box": {
          "visible": true
         },
         "fillcolor": "#DA16FF",
         "legendgroup": "engbert",
         "line": {
          "color": "black"
         },
         "meanline": {
          "visible": true
         },
         "name": "MN, engbert",
         "opacity": 0.25,
         "scalegroup": "fixation_f1",
         "showlegend": false,
         "side": "negative",
         "spanmode": "hard",
         "x0": "engbert",
         "y": [
          0.9859056493884683,
          0.9913330581923234,
          0.9806587738834838,
          0.9453271612661078,
          0.9822870225328353,
          0.9913558318531676,
          0.9819009948459787,
          0.9809779437507293,
          0.9678001805597352,
          0.9736667989943099,
          0.9632951336987211,
          0.8611879576891782,
          0.9833770778652668,
          0.9517749497655726
         ],
         "type": "violin",
         "xaxis": "x2",
         "yaxis": "y2"
        },
        {
         "box": {
          "visible": true
         },
         "fillcolor": "#222A2A",
         "legendgroup": "nh",
         "line": {
          "color": "black"
         },
         "meanline": {
          "visible": true
         },
         "name": "MN, nh",
         "opacity": 0.25,
         "scalegroup": "fixation_f1",
         "showlegend": false,
         "side": "negative",
         "spanmode": "hard",
         "x0": "nh",
         "y": [
          0.9672622616620697,
          0.9842855656155688,
          0.9681241853300154,
          0.8992567181246427,
          0.9629629629629629,
          0.9692700109316167,
          0.953204099271515,
          0.9590065107306488,
          0.9550045913682277,
          0.9332125291224437,
          0.840486304379669,
          0.8306478132193359,
          0.9088407292741658,
          0.9299583911234397
         ],
         "type": "violin",
         "xaxis": "x2",
         "yaxis": "y2"
        },
        {
         "box": {
          "visible": true
         },
         "fillcolor": "#B68100",
         "legendgroup": "remodnav",
         "line": {
          "color": "black"
         },
         "meanline": {
          "visible": true
         },
         "name": "MN, remodnav",
         "opacity": 0.25,
         "scalegroup": "fixation_f1",
         "showlegend": false,
         "side": "negative",
         "spanmode": "hard",
         "x0": "remodnav",
         "y": [
          0.5183264177040111,
          0.658778205833792,
          0.40460709641463866,
          0.30501274426508074,
          0.5952861952861953,
          0.29277181615711684,
          0.14247551202137132,
          0.49003351561121883,
          0.34265734265734266,
          0.4726617264169838,
          0.19088669950738918,
          0.13964262078093978,
          0.3952648475120385,
          0.3095905776780707
         ],
         "type": "violin",
         "xaxis": "x2",
         "yaxis": "y2"
        },
        {
         "box": {
          "visible": true
         },
         "fillcolor": "#bab0ac",
         "legendgroup": "Other GT",
         "line": {
          "color": "black"
         },
         "meanline": {
          "visible": true
         },
         "name": "RA, Other GT",
         "opacity": 0.75,
         "scalegroup": "saccade_d_prime",
         "showlegend": false,
         "side": "positive",
         "spanmode": "hard",
         "x0": "Other GT",
         "y": [
          4.161028988238074,
          3.965410808636437,
          3.6888571137286568,
          3.435621201445736,
          4.1541055257695705,
          4.197895409319255,
          4.205566771605053,
          4.457214843433495,
          3.277798104688242,
          4.94549717600651,
          3.8164160708863557,
          3.401859801308232,
          3.8951208339168573,
          3.6927188480565856
         ],
         "type": "violin",
         "xaxis": "x3",
         "yaxis": "y3"
        },
        {
         "box": {
          "visible": true
         },
         "fillcolor": "#2E91E5",
         "legendgroup": "ivt",
         "line": {
          "color": "black"
         },
         "meanline": {
          "visible": true
         },
         "name": "RA, ivt",
         "opacity": 0.75,
         "scalegroup": "saccade_d_prime",
         "showlegend": false,
         "side": "positive",
         "spanmode": "hard",
         "x0": "ivt",
         "y": [
          3.226658931470993,
          3.0993855902289567,
          3.2562895272052863,
          2.941101172571436,
          2.6566917252263718,
          2.4445535812148336,
          2.3047658562836433,
          2.91391496800219,
          2.771533502451723,
          2.2640619553487853,
          2.9162209065588014,
          2.9606980781471535,
          3.1985575280223033,
          3.122779557624305,
          2.136295281569164,
          2.41122011037523,
          2.131108556334749,
          2.1492362858008063,
          2.6509491250253183,
          2.0164988192176505
         ],
         "type": "violin",
         "xaxis": "x3",
         "yaxis": "y3"
        },
        {
         "box": {
          "visible": true
         },
         "fillcolor": "#E15F99",
         "legendgroup": "ivvt",
         "line": {
          "color": "black"
         },
         "meanline": {
          "visible": true
         },
         "name": "RA, ivvt",
         "opacity": 0.75,
         "scalegroup": "saccade_d_prime",
         "showlegend": false,
         "side": "positive",
         "spanmode": "hard",
         "x0": "ivvt",
         "y": [
          3.226658931470993,
          3.0993855902289567,
          3.2599208678963016,
          2.9826324199632297,
          2.7002789264499816,
          2.411138138235634,
          2.2573780335989744,
          2.730647896474565,
          2.815084971205085,
          2.3276080088658193,
          2.9142484563374604,
          2.9522947988417947,
          3.203816757561755,
          3.126078025175997,
          2.2132503776173227,
          2.3129773530271756,
          2.102046842827381,
          2.1192810548703958,
          2.665224287604775,
          2.078631461568235
         ],
         "type": "violin",
         "xaxis": "x3",
         "yaxis": "y3"
        },
        {
         "box": {
          "visible": true
         },
         "fillcolor": "#1CA71C",
         "legendgroup": "idt",
         "line": {
          "color": "black"
         },
         "meanline": {
          "visible": true
         },
         "name": "RA, idt",
         "opacity": 0.75,
         "scalegroup": "saccade_d_prime",
         "showlegend": false,
         "side": "positive",
         "spanmode": "hard",
         "x0": "idt",
         "y": [
          2.91569487723039,
          2.479116361501456,
          2.115325875069002,
          2.9677903097976293,
          1.720419781767414,
          1.8057352321539781,
          1.7667159472665592,
          1.6963152420812393,
          2.1351591736097575,
          2.418651970710077,
          2.973056027617519,
          2.2633006517979313,
          1.8892760818969403,
          2.9818121341532238,
          1.9074621907599116,
          1.4739428715103267,
          0.361065547609445,
          1.4296268793718772,
          1.2886951214906857,
          1.3858310912272267
         ],
         "type": "violin",
         "xaxis": "x3",
         "yaxis": "y3"
        },
        {
         "box": {
          "visible": true
         },
         "fillcolor": "#FB0D0D",
         "legendgroup": "idvt",
         "line": {
          "color": "black"
         },
         "meanline": {
          "visible": true
         },
         "name": "RA, idvt",
         "opacity": 0.75,
         "scalegroup": "saccade_d_prime",
         "showlegend": false,
         "side": "positive",
         "spanmode": "hard",
         "x0": "idvt",
         "y": [
          2.91569487723039,
          2.432649504559933,
          2.3287454681488473,
          2.9606831344858797,
          1.9774453440051356,
          2.06199912633105,
          2.2150304069369935,
          1.826418910668694,
          2.764157392406208,
          2.418651970710077,
          2.973056027617519,
          3.0893902167571086,
          2.0348932205446335,
          2.9818121341532238,
          1.9074621907599116,
          1.584235767762265,
          0.3788951666606325,
          1.4175429495167466,
          1.2244944177469679,
          1.448549203506307
         ],
         "type": "violin",
         "xaxis": "x3",
         "yaxis": "y3"
        },
        {
         "box": {
          "visible": true
         },
         "fillcolor": "#DA16FF",
         "legendgroup": "engbert",
         "line": {
          "color": "black"
         },
         "meanline": {
          "visible": true
         },
         "name": "RA, engbert",
         "opacity": 0.75,
         "scalegroup": "saccade_d_prime",
         "showlegend": false,
         "side": "positive",
         "spanmode": "hard",
         "x0": "engbert",
         "y": [
          3.9218306194049513,
          3.711446063524846,
          3.9595983493369635,
          4.230269243867565,
          3.417356747232927,
          3.1234669952104657,
          2.7863760762417247,
          3.5443392458451677,
          4.163261642864484,
          2.867289762416123,
          3.844652021965695,
          3.82819662462994,
          3.5358264421778136,
          3.6170206850296487,
          2.499249873321038,
          3.2044452593171413,
          2.4800897105633184,
          2.5759157821017706,
          3.17250830842637,
          3.3060492564218524
         ],
         "type": "violin",
         "xaxis": "x3",
         "yaxis": "y3"
        },
        {
         "box": {
          "visible": true
         },
         "fillcolor": "#222A2A",
         "legendgroup": "nh",
         "line": {
          "color": "black"
         },
         "meanline": {
          "visible": true
         },
         "name": "RA, nh",
         "opacity": 0.75,
         "scalegroup": "saccade_d_prime",
         "showlegend": false,
         "side": "positive",
         "spanmode": "hard",
         "x0": "nh",
         "y": [
          3.6108544321499805,
          4.24192081137096,
          1.5325356614716599,
          4.934391627541485,
          4.096500850464601,
          2.80719202226621,
          1.6074092829482924,
          3.92300820072169,
          3.108484659740976,
          2.460394486251061,
          3.7836336598784492,
          4.079242711415877,
          3.510282512357989,
          3.5039857666418954,
          2.2987603563956966,
          1.937372743681443,
          -0.14292426763089672,
          1.6292781508393184,
          0.6946747154719222,
          2.472772526051251
         ],
         "type": "violin",
         "xaxis": "x3",
         "yaxis": "y3"
        },
        {
         "box": {
          "visible": true
         },
         "fillcolor": "#B68100",
         "legendgroup": "remodnav",
         "line": {
          "color": "black"
         },
         "meanline": {
          "visible": true
         },
         "name": "RA, remodnav",
         "opacity": 0.75,
         "scalegroup": "saccade_d_prime",
         "showlegend": false,
         "side": "positive",
         "spanmode": "hard",
         "x0": "remodnav",
         "y": [
          2.088166257587637,
          2.7589405108497664,
          1.9442797110232368,
          2.1469078446071137,
          2.1932104328170676,
          1.9477041075505928,
          1.7910234862869099,
          1.9061828367402067,
          2.0857095394375227,
          1.5871069430210623,
          2.2297939066666737,
          1.9632266498199304,
          1.6409619540699696,
          2.1840519160738685,
          1.7253002726174786,
          1.9536105039776646,
          1.770182110889383,
          1.9997880332519993,
          1.8093572628670067,
          2.0078890773923157
         ],
         "type": "violin",
         "xaxis": "x3",
         "yaxis": "y3"
        },
        {
         "box": {
          "visible": true
         },
         "fillcolor": "#bab0ac",
         "legendgroup": "Other GT",
         "line": {
          "color": "black"
         },
         "meanline": {
          "visible": true
         },
         "name": "MN, Other GT",
         "opacity": 0.25,
         "scalegroup": "saccade_d_prime",
         "showlegend": false,
         "side": "negative",
         "spanmode": "hard",
         "x0": "Other GT",
         "y": [
          4.008397805891969,
          4.0575129561579395,
          3.8963229312126177,
          3.681191970885198,
          4.065449518067042,
          4.137443954154824,
          4.148311677009568,
          4.558734401592106,
          3.5539133322808354,
          5.978855459574282,
          3.8641988236830995,
          3.6095788357498995,
          3.82148737211236,
          3.833337685315457
         ],
         "type": "violin",
         "xaxis": "x3",
         "yaxis": "y3"
        },
        {
         "box": {
          "visible": true
         },
         "fillcolor": "#2E91E5",
         "legendgroup": "ivt",
         "line": {
          "color": "black"
         },
         "meanline": {
          "visible": true
         },
         "name": "MN, ivt",
         "opacity": 0.25,
         "scalegroup": "saccade_d_prime",
         "showlegend": false,
         "side": "negative",
         "spanmode": "hard",
         "x0": "ivt",
         "y": [
          3.3930858324456463,
          3.3912759171477362,
          2.3183302875791023,
          2.3650409201964635,
          2.7459330231985586,
          2.693713745190362,
          3.1502928792694633,
          3.2180538757076516,
          2.1129957076410713,
          2.4740838327228323,
          1.853642322392243,
          2.4725534000277625,
          2.7949614934598577,
          2.0241160422410105
         ],
         "type": "violin",
         "xaxis": "x3",
         "yaxis": "y3"
        },
        {
         "box": {
          "visible": true
         },
         "fillcolor": "#E15F99",
         "legendgroup": "ivvt",
         "line": {
          "color": "black"
         },
         "meanline": {
          "visible": true
         },
         "name": "MN, ivvt",
         "opacity": 0.25,
         "scalegroup": "saccade_d_prime",
         "showlegend": false,
         "side": "negative",
         "spanmode": "hard",
         "x0": "ivvt",
         "y": [
          3.3930858324456463,
          3.3912759171477362,
          2.2941478474704264,
          2.353091813490252,
          2.8115382211177695,
          2.68585471059865,
          3.1340603481756757,
          3.2206286291023654,
          2.167579255500181,
          2.4162062869461485,
          1.9293286560166907,
          2.3709145688930464,
          2.7872454114052223,
          2.094073619907963
         ],
         "type": "violin",
         "xaxis": "x3",
         "yaxis": "y3"
        },
        {
         "box": {
          "visible": true
         },
         "fillcolor": "#1CA71C",
         "legendgroup": "idt",
         "line": {
          "color": "black"
         },
         "meanline": {
          "visible": true
         },
         "name": "MN, idt",
         "opacity": 0.25,
         "scalegroup": "saccade_d_prime",
         "showlegend": false,
         "side": "negative",
         "spanmode": "hard",
         "x0": "idt",
         "y": [
          3.0722806035334793,
          2.5129931870388815,
          1.674381463248769,
          1.836049739586896,
          2.741297124840282,
          2.2705465103175624,
          1.86525707400628,
          3.011428046719983,
          2.042217472283582,
          1.5156281166038201,
          0.3209283359681142,
          1.484340165087153,
          1.5658653448258617,
          1.4468507437644533
         ],
         "type": "violin",
         "xaxis": "x3",
         "yaxis": "y3"
        },
        {
         "box": {
          "visible": true
         },
         "fillcolor": "#FB0D0D",
         "legendgroup": "idvt",
         "line": {
          "color": "black"
         },
         "meanline": {
          "visible": true
         },
         "name": "MN, idvt",
         "opacity": 0.25,
         "scalegroup": "saccade_d_prime",
         "showlegend": false,
         "side": "negative",
         "spanmode": "hard",
         "x0": "idvt",
         "y": [
          3.0722806035334793,
          2.465719500648764,
          1.843285839946897,
          2.204355566667264,
          2.741297124840282,
          3.0648558489837865,
          2.011074738066079,
          3.011428046719983,
          2.042217472283582,
          1.6174249184712635,
          0.3503213995761689,
          1.5250838247481775,
          1.487099762931362,
          1.5060544892747099
         ],
         "type": "violin",
         "xaxis": "x3",
         "yaxis": "y3"
        },
        {
         "box": {
          "visible": true
         },
         "fillcolor": "#DA16FF",
         "legendgroup": "engbert",
         "line": {
          "color": "black"
         },
         "meanline": {
          "visible": true
         },
         "name": "MN, engbert",
         "opacity": 0.25,
         "scalegroup": "saccade_d_prime",
         "showlegend": false,
         "side": "negative",
         "spanmode": "hard",
         "x0": "engbert",
         "y": [
          3.7447415193002613,
          3.755361676631681,
          3.0340185608153862,
          2.8336970247544913,
          3.5636925638234875,
          3.4266524636875313,
          3.466305859711316,
          3.6570281606152752,
          3.331548792090155,
          3.5268873504282854,
          2.333174001295408,
          2.857863482934775,
          3.365557717025896,
          3.0129136851139284
         ],
         "type": "violin",
         "xaxis": "x3",
         "yaxis": "y3"
        },
        {
         "box": {
          "visible": true
         },
         "fillcolor": "#222A2A",
         "legendgroup": "nh",
         "line": {
          "color": "black"
         },
         "meanline": {
          "visible": true
         },
         "name": "MN, nh",
         "opacity": 0.25,
         "scalegroup": "saccade_d_prime",
         "showlegend": false,
         "side": "negative",
         "spanmode": "hard",
         "x0": "nh",
         "y": [
          3.8296774665176807,
          5.451104232626235,
          2.555918575783478,
          1.5040504414513394,
          3.4195695618238764,
          5.0098227345400215,
          3.352158973538354,
          3.8675646922231084,
          3.072983220237508,
          2.018098062426238,
          -0.3149011149278391,
          1.9037983046240214,
          0.6695616534774742,
          2.397476795303957
         ],
         "type": "violin",
         "xaxis": "x3",
         "yaxis": "y3"
        },
        {
         "box": {
          "visible": true
         },
         "fillcolor": "#B68100",
         "legendgroup": "remodnav",
         "line": {
          "color": "black"
         },
         "meanline": {
          "visible": true
         },
         "name": "MN, remodnav",
         "opacity": 0.25,
         "scalegroup": "saccade_d_prime",
         "showlegend": false,
         "side": "negative",
         "spanmode": "hard",
         "x0": "remodnav",
         "y": [
          2.09033465820228,
          2.803720702960341,
          1.8766050997298327,
          1.5437444909609344,
          2.1699673028600537,
          1.9199121201913925,
          1.718302710062534,
          2.2137838721396843,
          1.8520558515403145,
          1.9558541288574576,
          1.5357174932192885,
          2.0481989996101375,
          2.049445216895915,
          2.0167981530596673
         ],
         "type": "violin",
         "xaxis": "x3",
         "yaxis": "y3"
        },
        {
         "box": {
          "visible": true
         },
         "fillcolor": "#bab0ac",
         "legendgroup": "Other GT",
         "line": {
          "color": "black"
         },
         "meanline": {
          "visible": true
         },
         "name": "RA, Other GT",
         "opacity": 0.75,
         "scalegroup": "saccade_f1",
         "showlegend": false,
         "side": "positive",
         "spanmode": "hard",
         "x0": "Other GT",
         "y": [
          0.932920536635707,
          0.8783068783068783,
          0.8957345971563981,
          0.8689533861037819,
          0.940677966101695,
          0.9463722397476341,
          0.9527687296416939,
          0.9633204633204633,
          0.8360655737704918,
          0.9584905660377359,
          0.903914590747331,
          0.8559322033898306,
          0.9276672694394213,
          0.9071618037135278
         ],
         "type": "violin",
         "xaxis": "x4",
         "yaxis": "y4"
        },
        {
         "box": {
          "visible": true
         },
         "fillcolor": "#2E91E5",
         "legendgroup": "ivt",
         "line": {
          "color": "black"
         },
         "meanline": {
          "visible": true
         },
         "name": "RA, ivt",
         "opacity": 0.75,
         "scalegroup": "saccade_f1",
         "showlegend": false,
         "side": "positive",
         "spanmode": "hard",
         "x0": "ivt",
         "y": [
          0.8505747126436781,
          0.691358024691358,
          0.8545316070068546,
          0.7660020986358866,
          0.75,
          0.6248995983935743,
          0.652887537993921,
          0.7390243902439025,
          0.8041237113402062,
          0.6941431670281996,
          0.7963152507676561,
          0.7896253602305475,
          0.867109634551495,
          0.8365878725590956,
          0.6376021798365122,
          0.5698672911787666,
          0.3461279461279461,
          0.49170437405731515,
          0.7209125475285171,
          0.5945945945945946
         ],
         "type": "violin",
         "xaxis": "x4",
         "yaxis": "y4"
        },
        {
         "box": {
          "visible": true
         },
         "fillcolor": "#E15F99",
         "legendgroup": "ivvt",
         "line": {
          "color": "black"
         },
         "meanline": {
          "visible": true
         },
         "name": "RA, ivvt",
         "opacity": 0.75,
         "scalegroup": "saccade_f1",
         "showlegend": false,
         "side": "positive",
         "spanmode": "hard",
         "x0": "ivvt",
         "y": [
          0.8505747126436781,
          0.691358024691358,
          0.8580199539524175,
          0.7782515991471215,
          0.7585470085470085,
          0.6013771996939556,
          0.6388557806912991,
          0.6931155192532089,
          0.8130081300813008,
          0.7121535181236673,
          0.7967145790554415,
          0.7873563218390804,
          0.8678929765886286,
          0.8362512873326468,
          0.6557377049180327,
          0.5586854460093896,
          0.3422459893048128,
          0.47772096420745064,
          0.7235338918507236,
          0.6061855670103092
         ],
         "type": "violin",
         "xaxis": "x4",
         "yaxis": "y4"
        },
        {
         "box": {
          "visible": true
         },
         "fillcolor": "#1CA71C",
         "legendgroup": "idt",
         "line": {
          "color": "black"
         },
         "meanline": {
          "visible": true
         },
         "name": "RA, idt",
         "opacity": 0.75,
         "scalegroup": "saccade_f1",
         "showlegend": false,
         "side": "positive",
         "spanmode": "hard",
         "x0": "idt",
         "y": [
          0.507177033492823,
          0.25225225225225223,
          0.5651697699890471,
          0.4419475655430712,
          0.433587786259542,
          0.4900284900284901,
          0.485310119695321,
          0.4314442413162705,
          0.4556213017751479,
          0.32131147540983607,
          0.4540901502504174,
          0.4625199362041467,
          0.45060240963855414,
          0.4477172312223859,
          0.15315315315315314,
          0.4081041968162084,
          0.13333333333333333,
          0.4149184149184149,
          0.37098692033293695,
          0.38834951456310685
         ],
         "type": "violin",
         "xaxis": "x4",
         "yaxis": "y4"
        },
        {
         "box": {
          "visible": true
         },
         "fillcolor": "#FB0D0D",
         "legendgroup": "idvt",
         "line": {
          "color": "black"
         },
         "meanline": {
          "visible": true
         },
         "name": "RA, idvt",
         "opacity": 0.75,
         "scalegroup": "saccade_f1",
         "showlegend": false,
         "side": "positive",
         "spanmode": "hard",
         "x0": "idvt",
         "y": [
          0.507177033492823,
          0.23636363636363636,
          0.5752808988764045,
          0.43902439024390244,
          0.4634920634920635,
          0.5151515151515151,
          0.5103926096997691,
          0.4418604651162791,
          0.46060606060606063,
          0.32131147540983607,
          0.4540901502504174,
          0.4919614147909968,
          0.45398773006134974,
          0.4477172312223859,
          0.15315315315315314,
          0.436950146627566,
          0.13524590163934427,
          0.41075794621026895,
          0.36046511627906974,
          0.39057239057239057
         ],
         "type": "violin",
         "xaxis": "x4",
         "yaxis": "y4"
        },
        {
         "box": {
          "visible": true
         },
         "fillcolor": "#DA16FF",
         "legendgroup": "engbert",
         "line": {
          "color": "black"
         },
         "meanline": {
          "visible": true
         },
         "name": "RA, engbert",
         "opacity": 0.75,
         "scalegroup": "saccade_f1",
         "showlegend": false,
         "side": "positive",
         "spanmode": "hard",
         "x0": "engbert",
         "y": [
          0.8134394341290893,
          0.6973180076628352,
          0.8200950441276307,
          0.6957250628667226,
          0.73,
          0.7380330722367275,
          0.7238572323105823,
          0.7511111111111112,
          0.875,
          0.7722772277227723,
          0.6986301369863015,
          0.760655737704918,
          0.8391708363116511,
          0.8377049180327869,
          0.678227360308285,
          0.5779359430604982,
          0.3575197889182058,
          0.5586592178770949,
          0.7209944751381215,
          0.6268174474959612
         ],
         "type": "violin",
         "xaxis": "x4",
         "yaxis": "y4"
        },
        {
         "box": {
          "visible": true
         },
         "fillcolor": "#222A2A",
         "legendgroup": "nh",
         "line": {
          "color": "black"
         },
         "meanline": {
          "visible": true
         },
         "name": "RA, nh",
         "opacity": 0.75,
         "scalegroup": "saccade_f1",
         "showlegend": false,
         "side": "positive",
         "spanmode": "hard",
         "x0": "nh",
         "y": [
          0.7268408551068885,
          0.5907692307692308,
          0.0904836193447738,
          0.6910299003322259,
          0.6521423384168482,
          0.7178571428571429,
          0.3971797884841363,
          0.6461824953445066,
          0.7605633802816901,
          0.6979655712050078,
          0.7139516757599377,
          0.7360126083530338,
          0.7707253886010362,
          0.7588235294117647,
          0.6321626617375231,
          0.5365853658536586,
          0.06871609403254973,
          0.3432271991365353,
          0.125,
          0.5278174037089871
         ],
         "type": "violin",
         "xaxis": "x4",
         "yaxis": "y4"
        },
        {
         "box": {
          "visible": true
         },
         "fillcolor": "#B68100",
         "legendgroup": "remodnav",
         "line": {
          "color": "black"
         },
         "meanline": {
          "visible": true
         },
         "name": "RA, remodnav",
         "opacity": 0.75,
         "scalegroup": "saccade_f1",
         "showlegend": false,
         "side": "positive",
         "spanmode": "hard",
         "x0": "remodnav",
         "y": [
          0.6193247962747379,
          0.42857142857142855,
          0.6102941176470589,
          0.6131386861313869,
          0.6478555304740407,
          0.5527369826435247,
          0.5156576200417536,
          0.49458483754512633,
          0.6441441441441441,
          0.5198237885462555,
          0.6565349544072948,
          0.568922305764411,
          0.4,
          0.6640394088669951,
          0.5248618784530387,
          0.5674814027630181,
          0.41839080459770117,
          0.5311475409836065,
          0.5663366336633663,
          0.6118251928020566
         ],
         "type": "violin",
         "xaxis": "x4",
         "yaxis": "y4"
        },
        {
         "box": {
          "visible": true
         },
         "fillcolor": "#bab0ac",
         "legendgroup": "Other GT",
         "line": {
          "color": "black"
         },
         "meanline": {
          "visible": true
         },
         "name": "MN, Other GT",
         "opacity": 0.25,
         "scalegroup": "saccade_f1",
         "showlegend": false,
         "side": "negative",
         "spanmode": "hard",
         "x0": "Other GT",
         "y": [
          0.932920536635707,
          0.8783068783068783,
          0.8957345971563981,
          0.8689533861037819,
          0.940677966101695,
          0.9463722397476341,
          0.9527687296416938,
          0.9633204633204633,
          0.836065573770492,
          0.9584905660377359,
          0.9039145907473309,
          0.8559322033898306,
          0.9276672694394213,
          0.907161803713528
         ],
         "type": "violin",
         "xaxis": "x4",
         "yaxis": "y4"
        },
        {
         "box": {
          "visible": true
         },
         "fillcolor": "#2E91E5",
         "legendgroup": "ivt",
         "line": {
          "color": "black"
         },
         "meanline": {
          "visible": true
         },
         "name": "MN, ivt",
         "opacity": 0.25,
         "scalegroup": "saccade_f1",
         "showlegend": false,
         "side": "negative",
         "spanmode": "hard",
         "x0": "ivt",
         "y": [
          0.8812877263581489,
          0.7515923566878981,
          0.5634987384356602,
          0.5945241199478487,
          0.7743229689067201,
          0.7533206831119544,
          0.8622950819672132,
          0.8523560209424084,
          0.6130030959752322,
          0.5480769230769231,
          0.3182125930941097,
          0.47003154574132494,
          0.7542942494398805,
          0.5732758620689655
         ],
         "type": "violin",
         "xaxis": "x4",
         "yaxis": "y4"
        },
        {
         "box": {
          "visible": true
         },
         "fillcolor": "#E15F99",
         "legendgroup": "ivvt",
         "line": {
          "color": "black"
         },
         "meanline": {
          "visible": true
         },
         "name": "MN, ivvt",
         "opacity": 0.25,
         "scalegroup": "saccade_f1",
         "showlegend": false,
         "side": "negative",
         "spanmode": "hard",
         "x0": "ivvt",
         "y": [
          0.8812877263581489,
          0.7515923566878981,
          0.5419664268585132,
          0.5845564773452457,
          0.7867203219315896,
          0.7511825922421949,
          0.8597359735973598,
          0.8520461699895068,
          0.6273291925465838,
          0.5429718875502008,
          0.3225806451612903,
          0.4500381388253242,
          0.7539267015706806,
          0.5854700854700855
         ],
         "type": "violin",
         "xaxis": "x4",
         "yaxis": "y4"
        },
        {
         "box": {
          "visible": true
         },
         "fillcolor": "#1CA71C",
         "legendgroup": "idt",
         "line": {
          "color": "black"
         },
         "meanline": {
          "visible": true
         },
         "name": "MN, idt",
         "opacity": 0.25,
         "scalegroup": "saccade_f1",
         "showlegend": false,
         "side": "negative",
         "spanmode": "hard",
         "x0": "idt",
         "y": [
          0.48493975903614456,
          0.2641509433962264,
          0.4551083591331269,
          0.5173267326732673,
          0.43618739903069464,
          0.45625,
          0.44208037825059104,
          0.4599092284417549,
          0.19101123595505617,
          0.41641337386018235,
          0.12450592885375493,
          0.4025,
          0.446242774566474,
          0.40410958904109595
         ],
         "type": "violin",
         "xaxis": "x4",
         "yaxis": "y4"
        },
        {
         "box": {
          "visible": true
         },
         "fillcolor": "#FB0D0D",
         "legendgroup": "idvt",
         "line": {
          "color": "black"
         },
         "meanline": {
          "visible": true
         },
         "name": "MN, idvt",
         "opacity": 0.25,
         "scalegroup": "saccade_f1",
         "showlegend": false,
         "side": "negative",
         "spanmode": "hard",
         "x0": "idvt",
         "y": [
          0.48493975903614456,
          0.24761904761904763,
          0.4768211920529801,
          0.5536423841059602,
          0.43618739903069464,
          0.4818897637795276,
          0.44524669073405543,
          0.4599092284417549,
          0.19101123595505617,
          0.44375963020030823,
          0.128099173553719,
          0.4157894736842106,
          0.4343891402714932,
          0.4071428571428572
         ],
         "type": "violin",
         "xaxis": "x4",
         "yaxis": "y4"
        },
        {
         "box": {
          "visible": true
         },
         "fillcolor": "#DA16FF",
         "legendgroup": "engbert",
         "line": {
          "color": "black"
         },
         "meanline": {
          "visible": true
         },
         "name": "MN, engbert",
         "opacity": 0.25,
         "scalegroup": "saccade_f1",
         "showlegend": false,
         "side": "negative",
         "spanmode": "hard",
         "x0": "engbert",
         "y": [
          0.8407534246575342,
          0.6796875,
          0.6788655077767612,
          0.6527590847913862,
          0.712143928035982,
          0.7591240875912408,
          0.8452296819787987,
          0.8252911813643927,
          0.6610526315789473,
          0.5510204081632653,
          0.34350132625994695,
          0.5188284518828452,
          0.748641304347826,
          0.5813953488372093
         ],
         "type": "violin",
         "xaxis": "x4",
         "yaxis": "y4"
        },
        {
         "box": {
          "visible": true
         },
         "fillcolor": "#222A2A",
         "legendgroup": "nh",
         "line": {
          "color": "black"
         },
         "meanline": {
          "visible": true
         },
         "name": "MN, nh",
         "opacity": 0.25,
         "scalegroup": "saccade_f1",
         "showlegend": false,
         "side": "negative",
         "spanmode": "hard",
         "x0": "nh",
         "y": [
          0.7661538461538462,
          0.575,
          0.6390977443609023,
          0.3891891891891892,
          0.7229470452801228,
          0.7519500780031201,
          0.7756410256410257,
          0.7526080476900149,
          0.6237424547283702,
          0.5307262569832403,
          0.051001821493624776,
          0.3231197771587744,
          0.12058823529411766,
          0.49122807017543857
         ],
         "type": "violin",
         "xaxis": "x4",
         "yaxis": "y4"
        },
        {
         "box": {
          "visible": true
         },
         "fillcolor": "#B68100",
         "legendgroup": "remodnav",
         "line": {
          "color": "black"
         },
         "meanline": {
          "visible": true
         },
         "name": "MN, remodnav",
         "opacity": 0.25,
         "scalegroup": "saccade_f1",
         "showlegend": false,
         "side": "negative",
         "spanmode": "hard",
         "x0": "remodnav",
         "y": [
          0.6227678571428571,
          0.4462809917355372,
          0.5310245310245311,
          0.4557260920897285,
          0.6494538232373386,
          0.5573366214549939,
          0.4114149821640904,
          0.6680040120361084,
          0.5408805031446541,
          0.5506607929515418,
          0.351288056206089,
          0.5471014492753623,
          0.632495164410058,
          0.6021505376344086
         ],
         "type": "violin",
         "xaxis": "x4",
         "yaxis": "y4"
        }
       ],
       "layout": {
        "template": {
         "data": {
          "histogram2dcontour": [
           {
            "type": "histogram2dcontour",
            "colorbar": {
             "outlinewidth": 0,
             "ticks": ""
            },
            "colorscale": [
             [
              0.0,
              "#0d0887"
             ],
             [
              0.1111111111111111,
              "#46039f"
             ],
             [
              0.2222222222222222,
              "#7201a8"
             ],
             [
              0.3333333333333333,
              "#9c179e"
             ],
             [
              0.4444444444444444,
              "#bd3786"
             ],
             [
              0.5555555555555556,
              "#d8576b"
             ],
             [
              0.6666666666666666,
              "#ed7953"
             ],
             [
              0.7777777777777778,
              "#fb9f3a"
             ],
             [
              0.8888888888888888,
              "#fdca26"
             ],
             [
              1.0,
              "#f0f921"
             ]
            ]
           }
          ],
          "choropleth": [
           {
            "type": "choropleth",
            "colorbar": {
             "outlinewidth": 0,
             "ticks": ""
            }
           }
          ],
          "histogram2d": [
           {
            "type": "histogram2d",
            "colorbar": {
             "outlinewidth": 0,
             "ticks": ""
            },
            "colorscale": [
             [
              0.0,
              "#0d0887"
             ],
             [
              0.1111111111111111,
              "#46039f"
             ],
             [
              0.2222222222222222,
              "#7201a8"
             ],
             [
              0.3333333333333333,
              "#9c179e"
             ],
             [
              0.4444444444444444,
              "#bd3786"
             ],
             [
              0.5555555555555556,
              "#d8576b"
             ],
             [
              0.6666666666666666,
              "#ed7953"
             ],
             [
              0.7777777777777778,
              "#fb9f3a"
             ],
             [
              0.8888888888888888,
              "#fdca26"
             ],
             [
              1.0,
              "#f0f921"
             ]
            ]
           }
          ],
          "heatmap": [
           {
            "type": "heatmap",
            "colorbar": {
             "outlinewidth": 0,
             "ticks": ""
            },
            "colorscale": [
             [
              0.0,
              "#0d0887"
             ],
             [
              0.1111111111111111,
              "#46039f"
             ],
             [
              0.2222222222222222,
              "#7201a8"
             ],
             [
              0.3333333333333333,
              "#9c179e"
             ],
             [
              0.4444444444444444,
              "#bd3786"
             ],
             [
              0.5555555555555556,
              "#d8576b"
             ],
             [
              0.6666666666666666,
              "#ed7953"
             ],
             [
              0.7777777777777778,
              "#fb9f3a"
             ],
             [
              0.8888888888888888,
              "#fdca26"
             ],
             [
              1.0,
              "#f0f921"
             ]
            ]
           }
          ],
          "heatmapgl": [
           {
            "type": "heatmapgl",
            "colorbar": {
             "outlinewidth": 0,
             "ticks": ""
            },
            "colorscale": [
             [
              0.0,
              "#0d0887"
             ],
             [
              0.1111111111111111,
              "#46039f"
             ],
             [
              0.2222222222222222,
              "#7201a8"
             ],
             [
              0.3333333333333333,
              "#9c179e"
             ],
             [
              0.4444444444444444,
              "#bd3786"
             ],
             [
              0.5555555555555556,
              "#d8576b"
             ],
             [
              0.6666666666666666,
              "#ed7953"
             ],
             [
              0.7777777777777778,
              "#fb9f3a"
             ],
             [
              0.8888888888888888,
              "#fdca26"
             ],
             [
              1.0,
              "#f0f921"
             ]
            ]
           }
          ],
          "contourcarpet": [
           {
            "type": "contourcarpet",
            "colorbar": {
             "outlinewidth": 0,
             "ticks": ""
            }
           }
          ],
          "contour": [
           {
            "type": "contour",
            "colorbar": {
             "outlinewidth": 0,
             "ticks": ""
            },
            "colorscale": [
             [
              0.0,
              "#0d0887"
             ],
             [
              0.1111111111111111,
              "#46039f"
             ],
             [
              0.2222222222222222,
              "#7201a8"
             ],
             [
              0.3333333333333333,
              "#9c179e"
             ],
             [
              0.4444444444444444,
              "#bd3786"
             ],
             [
              0.5555555555555556,
              "#d8576b"
             ],
             [
              0.6666666666666666,
              "#ed7953"
             ],
             [
              0.7777777777777778,
              "#fb9f3a"
             ],
             [
              0.8888888888888888,
              "#fdca26"
             ],
             [
              1.0,
              "#f0f921"
             ]
            ]
           }
          ],
          "surface": [
           {
            "type": "surface",
            "colorbar": {
             "outlinewidth": 0,
             "ticks": ""
            },
            "colorscale": [
             [
              0.0,
              "#0d0887"
             ],
             [
              0.1111111111111111,
              "#46039f"
             ],
             [
              0.2222222222222222,
              "#7201a8"
             ],
             [
              0.3333333333333333,
              "#9c179e"
             ],
             [
              0.4444444444444444,
              "#bd3786"
             ],
             [
              0.5555555555555556,
              "#d8576b"
             ],
             [
              0.6666666666666666,
              "#ed7953"
             ],
             [
              0.7777777777777778,
              "#fb9f3a"
             ],
             [
              0.8888888888888888,
              "#fdca26"
             ],
             [
              1.0,
              "#f0f921"
             ]
            ]
           }
          ],
          "mesh3d": [
           {
            "type": "mesh3d",
            "colorbar": {
             "outlinewidth": 0,
             "ticks": ""
            }
           }
          ],
          "scatter": [
           {
            "fillpattern": {
             "fillmode": "overlay",
             "size": 10,
             "solidity": 0.2
            },
            "type": "scatter"
           }
          ],
          "parcoords": [
           {
            "type": "parcoords",
            "line": {
             "colorbar": {
              "outlinewidth": 0,
              "ticks": ""
             }
            }
           }
          ],
          "scatterpolargl": [
           {
            "type": "scatterpolargl",
            "marker": {
             "colorbar": {
              "outlinewidth": 0,
              "ticks": ""
             }
            }
           }
          ],
          "bar": [
           {
            "error_x": {
             "color": "#2a3f5f"
            },
            "error_y": {
             "color": "#2a3f5f"
            },
            "marker": {
             "line": {
              "color": "#E5ECF6",
              "width": 0.5
             },
             "pattern": {
              "fillmode": "overlay",
              "size": 10,
              "solidity": 0.2
             }
            },
            "type": "bar"
           }
          ],
          "scattergeo": [
           {
            "type": "scattergeo",
            "marker": {
             "colorbar": {
              "outlinewidth": 0,
              "ticks": ""
             }
            }
           }
          ],
          "scatterpolar": [
           {
            "type": "scatterpolar",
            "marker": {
             "colorbar": {
              "outlinewidth": 0,
              "ticks": ""
             }
            }
           }
          ],
          "histogram": [
           {
            "marker": {
             "pattern": {
              "fillmode": "overlay",
              "size": 10,
              "solidity": 0.2
             }
            },
            "type": "histogram"
           }
          ],
          "scattergl": [
           {
            "type": "scattergl",
            "marker": {
             "colorbar": {
              "outlinewidth": 0,
              "ticks": ""
             }
            }
           }
          ],
          "scatter3d": [
           {
            "type": "scatter3d",
            "line": {
             "colorbar": {
              "outlinewidth": 0,
              "ticks": ""
             }
            },
            "marker": {
             "colorbar": {
              "outlinewidth": 0,
              "ticks": ""
             }
            }
           }
          ],
          "scattermapbox": [
           {
            "type": "scattermapbox",
            "marker": {
             "colorbar": {
              "outlinewidth": 0,
              "ticks": ""
             }
            }
           }
          ],
          "scatterternary": [
           {
            "type": "scatterternary",
            "marker": {
             "colorbar": {
              "outlinewidth": 0,
              "ticks": ""
             }
            }
           }
          ],
          "scattercarpet": [
           {
            "type": "scattercarpet",
            "marker": {
             "colorbar": {
              "outlinewidth": 0,
              "ticks": ""
             }
            }
           }
          ],
          "carpet": [
           {
            "aaxis": {
             "endlinecolor": "#2a3f5f",
             "gridcolor": "white",
             "linecolor": "white",
             "minorgridcolor": "white",
             "startlinecolor": "#2a3f5f"
            },
            "baxis": {
             "endlinecolor": "#2a3f5f",
             "gridcolor": "white",
             "linecolor": "white",
             "minorgridcolor": "white",
             "startlinecolor": "#2a3f5f"
            },
            "type": "carpet"
           }
          ],
          "table": [
           {
            "cells": {
             "fill": {
              "color": "#EBF0F8"
             },
             "line": {
              "color": "white"
             }
            },
            "header": {
             "fill": {
              "color": "#C8D4E3"
             },
             "line": {
              "color": "white"
             }
            },
            "type": "table"
           }
          ],
          "barpolar": [
           {
            "marker": {
             "line": {
              "color": "#E5ECF6",
              "width": 0.5
             },
             "pattern": {
              "fillmode": "overlay",
              "size": 10,
              "solidity": 0.2
             }
            },
            "type": "barpolar"
           }
          ],
          "pie": [
           {
            "automargin": true,
            "type": "pie"
           }
          ]
         },
         "layout": {
          "autotypenumbers": "strict",
          "colorway": [
           "#636efa",
           "#EF553B",
           "#00cc96",
           "#ab63fa",
           "#FFA15A",
           "#19d3f3",
           "#FF6692",
           "#B6E880",
           "#FF97FF",
           "#FECB52"
          ],
          "font": {
           "color": "#2a3f5f"
          },
          "hovermode": "closest",
          "hoverlabel": {
           "align": "left"
          },
          "paper_bgcolor": "white",
          "plot_bgcolor": "#E5ECF6",
          "polar": {
           "bgcolor": "#E5ECF6",
           "angularaxis": {
            "gridcolor": "white",
            "linecolor": "white",
            "ticks": ""
           },
           "radialaxis": {
            "gridcolor": "white",
            "linecolor": "white",
            "ticks": ""
           }
          },
          "ternary": {
           "bgcolor": "#E5ECF6",
           "aaxis": {
            "gridcolor": "white",
            "linecolor": "white",
            "ticks": ""
           },
           "baxis": {
            "gridcolor": "white",
            "linecolor": "white",
            "ticks": ""
           },
           "caxis": {
            "gridcolor": "white",
            "linecolor": "white",
            "ticks": ""
           }
          },
          "coloraxis": {
           "colorbar": {
            "outlinewidth": 0,
            "ticks": ""
           }
          },
          "colorscale": {
           "sequential": [
            [
             0.0,
             "#0d0887"
            ],
            [
             0.1111111111111111,
             "#46039f"
            ],
            [
             0.2222222222222222,
             "#7201a8"
            ],
            [
             0.3333333333333333,
             "#9c179e"
            ],
            [
             0.4444444444444444,
             "#bd3786"
            ],
            [
             0.5555555555555556,
             "#d8576b"
            ],
            [
             0.6666666666666666,
             "#ed7953"
            ],
            [
             0.7777777777777778,
             "#fb9f3a"
            ],
            [
             0.8888888888888888,
             "#fdca26"
            ],
            [
             1.0,
             "#f0f921"
            ]
           ],
           "sequentialminus": [
            [
             0.0,
             "#0d0887"
            ],
            [
             0.1111111111111111,
             "#46039f"
            ],
            [
             0.2222222222222222,
             "#7201a8"
            ],
            [
             0.3333333333333333,
             "#9c179e"
            ],
            [
             0.4444444444444444,
             "#bd3786"
            ],
            [
             0.5555555555555556,
             "#d8576b"
            ],
            [
             0.6666666666666666,
             "#ed7953"
            ],
            [
             0.7777777777777778,
             "#fb9f3a"
            ],
            [
             0.8888888888888888,
             "#fdca26"
            ],
            [
             1.0,
             "#f0f921"
            ]
           ],
           "diverging": [
            [
             0,
             "#8e0152"
            ],
            [
             0.1,
             "#c51b7d"
            ],
            [
             0.2,
             "#de77ae"
            ],
            [
             0.3,
             "#f1b6da"
            ],
            [
             0.4,
             "#fde0ef"
            ],
            [
             0.5,
             "#f7f7f7"
            ],
            [
             0.6,
             "#e6f5d0"
            ],
            [
             0.7,
             "#b8e186"
            ],
            [
             0.8,
             "#7fbc41"
            ],
            [
             0.9,
             "#4d9221"
            ],
            [
             1,
             "#276419"
            ]
           ]
          },
          "xaxis": {
           "gridcolor": "white",
           "linecolor": "white",
           "ticks": "",
           "title": {
            "standoff": 15
           },
           "zerolinecolor": "white",
           "automargin": true,
           "zerolinewidth": 2
          },
          "yaxis": {
           "gridcolor": "white",
           "linecolor": "white",
           "ticks": "",
           "title": {
            "standoff": 15
           },
           "zerolinecolor": "white",
           "automargin": true,
           "zerolinewidth": 2
          },
          "scene": {
           "xaxis": {
            "backgroundcolor": "#E5ECF6",
            "gridcolor": "white",
            "linecolor": "white",
            "showbackground": true,
            "ticks": "",
            "zerolinecolor": "white",
            "gridwidth": 2
           },
           "yaxis": {
            "backgroundcolor": "#E5ECF6",
            "gridcolor": "white",
            "linecolor": "white",
            "showbackground": true,
            "ticks": "",
            "zerolinecolor": "white",
            "gridwidth": 2
           },
           "zaxis": {
            "backgroundcolor": "#E5ECF6",
            "gridcolor": "white",
            "linecolor": "white",
            "showbackground": true,
            "ticks": "",
            "zerolinecolor": "white",
            "gridwidth": 2
           }
          },
          "shapedefaults": {
           "line": {
            "color": "#2a3f5f"
           }
          },
          "annotationdefaults": {
           "arrowcolor": "#2a3f5f",
           "arrowhead": 0,
           "arrowwidth": 1
          },
          "geo": {
           "bgcolor": "white",
           "landcolor": "#E5ECF6",
           "subunitcolor": "white",
           "showland": true,
           "showlakes": true,
           "lakecolor": "white"
          },
          "title": {
           "x": 0.05
          },
          "mapbox": {
           "style": "light"
          }
         }
        },
        "xaxis": {
         "anchor": "y",
         "domain": [
          0.0,
          0.45
         ],
         "matches": "x3",
         "showticklabels": false
        },
        "yaxis": {
         "anchor": "x",
         "domain": [
          0.625,
          1.0
         ]
        },
        "xaxis2": {
         "anchor": "y2",
         "domain": [
          0.55,
          1.0
         ],
         "matches": "x4",
         "showticklabels": false
        },
        "yaxis2": {
         "anchor": "x2",
         "domain": [
          0.625,
          1.0
         ]
        },
        "xaxis3": {
         "anchor": "y3",
         "domain": [
          0.0,
          0.45
         ]
        },
        "yaxis3": {
         "anchor": "x3",
         "domain": [
          0.0,
          0.375
         ]
        },
        "xaxis4": {
         "anchor": "y4",
         "domain": [
          0.55,
          1.0
         ]
        },
        "yaxis4": {
         "anchor": "x4",
         "domain": [
          0.0,
          0.375
         ]
        },
        "annotations": [
         {
          "font": {
           "size": 16
          },
          "showarrow": false,
          "text": "fixation_d_prime",
          "x": 0.225,
          "xanchor": "center",
          "xref": "paper",
          "y": 1.0,
          "yanchor": "bottom",
          "yref": "paper"
         },
         {
          "font": {
           "size": 16
          },
          "showarrow": false,
          "text": "fixation_f1",
          "x": 0.775,
          "xanchor": "center",
          "xref": "paper",
          "y": 1.0,
          "yanchor": "bottom",
          "yref": "paper"
         },
         {
          "font": {
           "size": 16
          },
          "showarrow": false,
          "text": "saccade_d_prime",
          "x": 0.225,
          "xanchor": "center",
          "xref": "paper",
          "y": 0.375,
          "yanchor": "bottom",
          "yref": "paper"
         },
         {
          "font": {
           "size": 16
          },
          "showarrow": false,
          "text": "saccade_f1",
          "x": 0.775,
          "xanchor": "center",
          "xref": "paper",
          "y": 0.375,
          "yanchor": "bottom",
          "yref": "paper"
         }
        ],
        "title": {},
        "violinmode": "overlay",
        "boxmode": "group",
        "boxgroupgap": 0,
        "boxgap": 0,
        "margin": {
         "l": 10,
         "r": 10,
         "b": 10,
         "t": 20,
         "pad": 0
        },
        "width": 1200,
        "height": 500,
        "paper_bgcolor": "rgba(0, 0, 0, 0)",
        "plot_bgcolor": "rgba(0, 0, 0, 0)"
       },
       "config": {
        "plotlyServerURL": "https://plot.ly"
       }
      },
      "text/html": [
       "<div>                            <div id=\"c6074dad-52c1-4373-837c-1b06aa8f7892\" class=\"plotly-graph-div\" style=\"height:500px; width:1200px;\"></div>            <script type=\"text/javascript\">                require([\"plotly\"], function(Plotly) {                    window.PLOTLYENV=window.PLOTLYENV || {};                                    if (document.getElementById(\"c6074dad-52c1-4373-837c-1b06aa8f7892\")) {                    Plotly.newPlot(                        \"c6074dad-52c1-4373-837c-1b06aa8f7892\",                        [{\"box\":{\"visible\":true},\"fillcolor\":\"#bab0ac\",\"legendgroup\":\"Other GT\",\"line\":{\"color\":\"black\"},\"meanline\":{\"visible\":true},\"name\":\"RA, Other GT\",\"opacity\":0.75,\"scalegroup\":\"fixation_d_prime\",\"showlegend\":true,\"side\":\"positive\",\"spanmode\":\"hard\",\"x0\":\"Other GT\",\"y\":[3.1169963630558257,2.4742067165162993,2.7034388255403297,2.441785383429772,3.6995238126556584,3.6981303153821155,3.8903160788601303,3.0113700030130395,3.3102105695848376,4.322011376868552,3.336314583074406,3.8019015366170725,3.8788081164878543,3.783236613861342],\"type\":\"violin\",\"xaxis\":\"x\",\"yaxis\":\"y\"},{\"box\":{\"visible\":true},\"fillcolor\":\"#2E91E5\",\"legendgroup\":\"ivt\",\"line\":{\"color\":\"black\"},\"meanline\":{\"visible\":true},\"name\":\"RA, ivt\",\"opacity\":0.75,\"scalegroup\":\"fixation_d_prime\",\"showlegend\":true,\"side\":\"positive\",\"spanmode\":\"hard\",\"x0\":\"ivt\",\"y\":[3.7517858737809053,2.0992915627073825,3.556060161549413,3.8462496810932922,3.2396811213213645,1.8325161994031305,1.4991818017184855,2.147859390147275,2.163810776600023,2.4734010956485957,3.812211900971969,3.9655240444914623,3.7003944023585116,3.461132720428329,3.131826283296572,3.198892960690011,3.698791139613784,2.204186574801329,3.5488342815056786,3.5313678543651967],\"type\":\"violin\",\"xaxis\":\"x\",\"yaxis\":\"y\"},{\"box\":{\"visible\":true},\"fillcolor\":\"#E15F99\",\"legendgroup\":\"ivvt\",\"line\":{\"color\":\"black\"},\"meanline\":{\"visible\":true},\"name\":\"RA, ivvt\",\"opacity\":0.75,\"scalegroup\":\"fixation_d_prime\",\"showlegend\":true,\"side\":\"positive\",\"spanmode\":\"hard\",\"x0\":\"ivvt\",\"y\":[3.026133558181761,1.4867992658638998,3.4989749103187133,3.622658219160959,3.278656218645536,1.481896168224083,1.629491594401311,0.9330458157434194,1.8158684478992264,2.3556660507857736,3.1275874411554065,3.637746120026881,3.2829146726395275,2.9928984818952213,3.497128426653924,2.8952775463091442,3.1066237882654075,1.7374531825141708,3.077899433864902,3.8623093976500673],\"type\":\"violin\",\"xaxis\":\"x\",\"yaxis\":\"y\"},{\"box\":{\"visible\":true},\"fillcolor\":\"#1CA71C\",\"legendgroup\":\"idt\",\"line\":{\"color\":\"black\"},\"meanline\":{\"visible\":true},\"name\":\"RA, idt\",\"opacity\":0.75,\"scalegroup\":\"fixation_d_prime\",\"showlegend\":true,\"side\":\"positive\",\"spanmode\":\"hard\",\"x0\":\"idt\",\"y\":[2.689572304421439,1.4376616520742553,2.263323763618178,2.5615005893901555,1.9217454481106797,2.1036448349292507,1.3858155658183544,1.398386562015835,1.5206187106302682,2.1103744520788874,2.5718583368233956,1.8369688302465423,2.885953161667344,2.574132133064883,1.6319099599374949,1.7737596461466636,2.1005898862558205,1.354656693077145,3.0606861034984982,2.448424498872339],\"type\":\"violin\",\"xaxis\":\"x\",\"yaxis\":\"y\"},{\"box\":{\"visible\":true},\"fillcolor\":\"#FB0D0D\",\"legendgroup\":\"idvt\",\"line\":{\"color\":\"black\"},\"meanline\":{\"visible\":true},\"name\":\"RA, idvt\",\"opacity\":0.75,\"scalegroup\":\"fixation_d_prime\",\"showlegend\":true,\"side\":\"positive\",\"spanmode\":\"hard\",\"x0\":\"idvt\",\"y\":[2.689572304421439,1.4376616520742553,2.263323763618178,2.5615005893901555,1.9217454481106797,2.1036448349292507,1.3858155658183544,1.4909100233093662,1.5206187106302682,2.1103744520788874,2.5718583368233956,1.8369688302465423,2.885953161667344,2.574132133064883,1.6319099599374949,2.2057928277690713,2.772177191757627,2.070186352262784,3.22581992249444,2.6916922879161627],\"type\":\"violin\",\"xaxis\":\"x\",\"yaxis\":\"y\"},{\"box\":{\"visible\":true},\"fillcolor\":\"#DA16FF\",\"legendgroup\":\"engbert\",\"line\":{\"color\":\"black\"},\"meanline\":{\"visible\":true},\"name\":\"RA, engbert\",\"opacity\":0.75,\"scalegroup\":\"fixation_d_prime\",\"showlegend\":true,\"side\":\"positive\",\"spanmode\":\"hard\",\"x0\":\"engbert\",\"y\":[2.9260195312604744,1.213254083111218,3.861151331768916,3.729905097480382,3.232248200519754,2.3503483026818275,1.9167888226723482,1.894943175137048,1.8305981177246495,2.400960118362709,3.2147658185025314,3.5094134565814095,3.294197547943723,2.728174660903573,2.7485808325069203,2.9887608412998032,3.1227937947527256,2.3350799378340943,3.5570785200741897,2.9723874846477045],\"type\":\"violin\",\"xaxis\":\"x\",\"yaxis\":\"y\"},{\"box\":{\"visible\":true},\"fillcolor\":\"#222A2A\",\"legendgroup\":\"nh\",\"line\":{\"color\":\"black\"},\"meanline\":{\"visible\":true},\"name\":\"RA, nh\",\"opacity\":0.75,\"scalegroup\":\"fixation_d_prime\",\"showlegend\":true,\"side\":\"positive\",\"spanmode\":\"hard\",\"x0\":\"nh\",\"y\":[2.477192329277583,1.0573916964303929,1.4136355061069714,3.409357652143349,2.6339952132077635,2.0499192359925886,1.140627523551301,1.191312906730096,1.5143877046168228,2.1551737189313562,2.9166495330334388,2.8459318231280655,2.7178204143849296,2.266625384460856,2.479121216053286,2.0701057063291115,2.2287076547252913,1.8287562867018943,1.4370441348315008,2.5063875633954433],\"type\":\"violin\",\"xaxis\":\"x\",\"yaxis\":\"y\"},{\"box\":{\"visible\":true},\"fillcolor\":\"#B68100\",\"legendgroup\":\"remodnav\",\"line\":{\"color\":\"black\"},\"meanline\":{\"visible\":true},\"name\":\"RA, remodnav\",\"opacity\":0.75,\"scalegroup\":\"fixation_d_prime\",\"showlegend\":true,\"side\":\"positive\",\"spanmode\":\"hard\",\"x0\":\"remodnav\",\"y\":[2.4530928277650963,0.10929052743267137,2.5145743449224844,2.6770434859476095,1.648315011479618,1.0226835220014383,1.7515331127960734,0.34023093839949115,0.08448530966824119,0.6864643861041156,1.8670384138226073,0.7198259193698322,2.1204456638864073,2.3039002741631873,0.7849154700049406,1.6768438047281609,2.152020437395713,0.2999988631964974,1.6541517499966363,0.7814791078322763],\"type\":\"violin\",\"xaxis\":\"x\",\"yaxis\":\"y\"},{\"box\":{\"visible\":true},\"fillcolor\":\"#bab0ac\",\"legendgroup\":\"Other GT\",\"line\":{\"color\":\"black\"},\"meanline\":{\"visible\":true},\"name\":\"MN, Other GT\",\"opacity\":0.25,\"scalegroup\":\"fixation_d_prime\",\"showlegend\":true,\"side\":\"negative\",\"spanmode\":\"hard\",\"x0\":\"Other GT\",\"y\":[3.254681088463787,4.619558265586959,2.916581317927262,2.52659355086971,3.706528893895525,3.8142027611723313,4.003708644340369,3.2294475847222994,3.316168080110867,4.900829846133315,3.374347296069507,3.8155252651911904,3.950664420813653,3.8783559585302037],\"type\":\"violin\",\"xaxis\":\"x\",\"yaxis\":\"y\"},{\"box\":{\"visible\":true},\"fillcolor\":\"#2E91E5\",\"legendgroup\":\"ivt\",\"line\":{\"color\":\"black\"},\"meanline\":{\"visible\":true},\"name\":\"MN, ivt\",\"opacity\":0.25,\"scalegroup\":\"fixation_d_prime\",\"showlegend\":true,\"side\":\"negative\",\"spanmode\":\"hard\",\"x0\":\"ivt\",\"y\":[4.010371299688721,3.7101632833197833,2.534758950156851,1.9299820203417917,3.8205437490353327,4.135013533912502,3.8498460795837777,3.8305421054807356,3.1387608847802593,3.3145832765080474,3.7718902883812095,2.2538937517547573,3.3051650830847645,3.6578113064070337],\"type\":\"violin\",\"xaxis\":\"x\",\"yaxis\":\"y\"},{\"box\":{\"visible\":true},\"fillcolor\":\"#E15F99\",\"legendgroup\":\"ivvt\",\"line\":{\"color\":\"black\"},\"meanline\":{\"visible\":true},\"name\":\"MN, ivvt\",\"opacity\":0.25,\"scalegroup\":\"fixation_d_prime\",\"showlegend\":true,\"side\":\"negative\",\"spanmode\":\"hard\",\"x0\":\"ivvt\",\"y\":[3.908435228415665,3.499880610266203,2.7459404044145552,2.1446736914755578,3.3260467266434017,3.6452624009270354,3.3202120669667723,3.3681248316703813,3.506405633501052,3.1986302742162684,3.5219351119328515,1.7605906034824514,3.2053086385666116,3.3040668548265755],\"type\":\"violin\",\"xaxis\":\"x\",\"yaxis\":\"y\"},{\"box\":{\"visible\":true},\"fillcolor\":\"#1CA71C\",\"legendgroup\":\"idt\",\"line\":{\"color\":\"black\"},\"meanline\":{\"visible\":true},\"name\":\"MN, idt\",\"opacity\":0.25,\"scalegroup\":\"fixation_d_prime\",\"showlegend\":true,\"side\":\"negative\",\"spanmode\":\"hard\",\"x0\":\"idt\",\"y\":[2.794616511363251,2.3792301379754335,2.4184508501520425,1.4218235300481479,2.5751067815940747,1.9287306554871995,2.9405966252818656,2.7496914891897246,1.634622326886157,1.9281641054008989,2.2120518189380687,1.3563815914255408,3.101587829266826,2.5047584243266074],\"type\":\"violin\",\"xaxis\":\"x\",\"yaxis\":\"y\"},{\"box\":{\"visible\":true},\"fillcolor\":\"#FB0D0D\",\"legendgroup\":\"idvt\",\"line\":{\"color\":\"black\"},\"meanline\":{\"visible\":true},\"name\":\"MN, idvt\",\"opacity\":0.25,\"scalegroup\":\"fixation_d_prime\",\"showlegend\":true,\"side\":\"negative\",\"spanmode\":\"hard\",\"x0\":\"idvt\",\"y\":[2.794616511363251,2.3792301379754335,2.4184508501520425,1.4218235300481479,2.5751067815940747,1.9287306554871995,2.9405966252818656,2.7496914891897246,1.634622326886157,2.420239125114943,2.979140566483748,2.111560942628883,3.2716344218646216,2.7569885394314286],\"type\":\"violin\",\"xaxis\":\"x\",\"yaxis\":\"y\"},{\"box\":{\"visible\":true},\"fillcolor\":\"#DA16FF\",\"legendgroup\":\"engbert\",\"line\":{\"color\":\"black\"},\"meanline\":{\"visible\":true},\"name\":\"MN, engbert\",\"opacity\":0.25,\"scalegroup\":\"fixation_d_prime\",\"showlegend\":true,\"side\":\"negative\",\"spanmode\":\"hard\",\"x0\":\"engbert\",\"y\":[3.5459302606115832,3.348324521879218,3.2997879100320437,2.3675952252629036,3.5150419730334423,4.046513052698289,3.4211316631922433,3.264813672262407,2.8477089894203687,3.366396668131874,3.5803760356289116,2.379385790137434,3.6232239075258454,2.731332999869408],\"type\":\"violin\",\"xaxis\":\"x\",\"yaxis\":\"y\"},{\"box\":{\"visible\":true},\"fillcolor\":\"#222A2A\",\"legendgroup\":\"nh\",\"line\":{\"color\":\"black\"},\"meanline\":{\"visible\":true},\"name\":\"MN, nh\",\"opacity\":0.25,\"scalegroup\":\"fixation_d_prime\",\"showlegend\":true,\"side\":\"negative\",\"spanmode\":\"hard\",\"x0\":\"nh\",\"y\":[3.3955734872899885,3.50434138749323,2.936602781079581,1.2973105697068759,3.030085872531,3.3958521587449346,2.8320892211344644,3.0932260158014477,2.562735144965263,2.244610514268118,1.9968772490918105,1.8198455367222666,1.635077368875519,2.467946158443478],\"type\":\"violin\",\"xaxis\":\"x\",\"yaxis\":\"y\"},{\"box\":{\"visible\":true},\"fillcolor\":\"#B68100\",\"legendgroup\":\"remodnav\",\"line\":{\"color\":\"black\"},\"meanline\":{\"visible\":true},\"name\":\"MN, remodnav\",\"opacity\":0.25,\"scalegroup\":\"fixation_d_prime\",\"showlegend\":true,\"side\":\"negative\",\"spanmode\":\"hard\",\"x0\":\"remodnav\",\"y\":[2.2464607492493194,3.517448201380137,1.3437824640547382,1.545060145736356,2.4901897107119977,1.8483982827387426,2.1131209196213714,3.08469002078243,0.9741142412995093,1.8279840747623946,2.046783344711506,0.28281692688444404,2.853735248005257,0.6839761300635592],\"type\":\"violin\",\"xaxis\":\"x\",\"yaxis\":\"y\"},{\"box\":{\"visible\":true},\"fillcolor\":\"#bab0ac\",\"legendgroup\":\"Other GT\",\"line\":{\"color\":\"black\"},\"meanline\":{\"visible\":true},\"name\":\"RA, Other GT\",\"opacity\":0.75,\"scalegroup\":\"fixation_f1\",\"showlegend\":false,\"side\":\"positive\",\"spanmode\":\"hard\",\"x0\":\"Other GT\",\"y\":[0.9752808988764045,0.9247738804323847,0.9568778607564442,0.9428828135027596,0.9865610751139909,0.9856527977044476,0.9878122360323398,0.9672170375687964,0.9787234042553191,0.9547641963426372,0.9333093654502967,0.9547892720306513,0.9866700201207244,0.9787087912087911],\"type\":\"violin\",\"xaxis\":\"x2\",\"yaxis\":\"y2\"},{\"box\":{\"visible\":true},\"fillcolor\":\"#2E91E5\",\"legendgroup\":\"ivt\",\"line\":{\"color\":\"black\"},\"meanline\":{\"visible\":true},\"name\":\"RA, ivt\",\"opacity\":0.75,\"scalegroup\":\"fixation_f1\",\"showlegend\":false,\"side\":\"positive\",\"spanmode\":\"hard\",\"x0\":\"ivt\",\"y\":[0.9625100934363825,0.9196840026333114,0.9847166705854692,0.978435420968112,0.9581449275362319,0.9246734220485899,0.8892604501607717,0.8182658044080772,0.8968944099378882,0.933293803735547,0.9642236887808266,0.9688266199649738,0.968554940525262,0.9460494256874348,0.9447958596894767,0.9366368805848904,0.9052304505437597,0.8245021937225785,0.9724793286437122,0.926703261220536],\"type\":\"violin\",\"xaxis\":\"x2\",\"yaxis\":\"y2\"},{\"box\":{\"visible\":true},\"fillcolor\":\"#E15F99\",\"legendgroup\":\"ivvt\",\"line\":{\"color\":\"black\"},\"meanline\":{\"visible\":true},\"name\":\"RA, ivvt\",\"opacity\":0.75,\"scalegroup\":\"fixation_f1\",\"showlegend\":false,\"side\":\"positive\",\"spanmode\":\"hard\",\"x0\":\"ivvt\",\"y\":[0.9703504043126685,0.9213111135636243,0.976044299987962,0.9867820797754124,0.9755460588793922,0.8773841961852861,0.8724629731212288,0.7857862178103869,0.8975422917331632,0.9420685471640886,0.9755634638196916,0.9832122871770449,0.9786051009307385,0.9603690997279073,0.9588561423985994,0.9512813292030414,0.9285456513893903,0.8138288038454428,0.9655260797129309,0.9475074281941235],\"type\":\"violin\",\"xaxis\":\"x2\",\"yaxis\":\"y2\"},{\"box\":{\"visible\":true},\"fillcolor\":\"#1CA71C\",\"legendgroup\":\"idt\",\"line\":{\"color\":\"black\"},\"meanline\":{\"visible\":true},\"name\":\"RA, idt\",\"opacity\":0.75,\"scalegroup\":\"fixation_f1\",\"showlegend\":false,\"side\":\"positive\",\"spanmode\":\"hard\",\"x0\":\"idt\",\"y\":[0.9273333333333333,0.914684704342134,0.9435275625912204,0.9341212519150799,0.9246129683643707,0.9162100456621004,0.8835568101623148,0.785986290936786,0.8604513064133017,0.8968838526912181,0.9239130434782609,0.9224080267558529,0.9269061831287307,0.9149652232443347,0.9072847682119205,0.8468600807932428,0.7602152101206922,0.7084048027444254,0.9178082191780822,0.864718288641157],\"type\":\"violin\",\"xaxis\":\"x2\",\"yaxis\":\"y2\"},{\"box\":{\"visible\":true},\"fillcolor\":\"#FB0D0D\",\"legendgroup\":\"idvt\",\"line\":{\"color\":\"black\"},\"meanline\":{\"visible\":true},\"name\":\"RA, idvt\",\"opacity\":0.75,\"scalegroup\":\"fixation_f1\",\"showlegend\":false,\"side\":\"positive\",\"spanmode\":\"hard\",\"x0\":\"idvt\",\"y\":[0.9273333333333333,0.914684704342134,0.9435275625912204,0.9341212519150799,0.9246129683643707,0.9162100456621004,0.8835568101623148,0.7893931667516573,0.8604513064133017,0.8968838526912181,0.9239130434782609,0.9224080267558529,0.9269061831287307,0.9149652232443347,0.9072847682119205,0.8687680522416175,0.8344772545889865,0.775829680651221,0.9245702257045959,0.8758010375343301],\"type\":\"violin\",\"xaxis\":\"x2\",\"yaxis\":\"y2\"},{\"box\":{\"visible\":true},\"fillcolor\":\"#DA16FF\",\"legendgroup\":\"engbert\",\"line\":{\"color\":\"black\"},\"meanline\":{\"visible\":true},\"name\":\"RA, engbert\",\"opacity\":0.75,\"scalegroup\":\"fixation_f1\",\"showlegend\":false,\"side\":\"positive\",\"spanmode\":\"hard\",\"x0\":\"engbert\",\"y\":[0.9707409155261916,0.9192008879023308,0.9830955520920752,0.9852472559896142,0.9776074721590229,0.9474447263501269,0.9166027116909694,0.8235608387872311,0.8988476312419974,0.9472377405338299,0.976491862567812,0.9824603269299607,0.9787593531257542,0.9609178917174614,0.9647696476964771,0.9477033757609297,0.9099824868651488,0.8279226240538268,0.9815210559396605,0.9558423913043478],\"type\":\"violin\",\"xaxis\":\"x2\",\"yaxis\":\"y2\"},{\"box\":{\"visible\":true},\"fillcolor\":\"#222A2A\",\"legendgroup\":\"nh\",\"line\":{\"color\":\"black\"},\"meanline\":{\"visible\":true},\"name\":\"RA, nh\",\"opacity\":0.75,\"scalegroup\":\"fixation_f1\",\"showlegend\":false,\"side\":\"positive\",\"spanmode\":\"hard\",\"x0\":\"nh\",\"y\":[0.951397326852977,0.9154251148202084,0.9192722518792897,0.9560131594979895,0.9475124378109453,0.9351252290775809,0.8760793465577597,0.8080276816608996,0.8810226155358899,0.9329962073324906,0.9604907975460123,0.9616844166972701,0.9529967669733898,0.9416707859614434,0.9519142419601838,0.9033391915641477,0.7983425414364641,0.80550833049983,0.9000576368876081,0.9338494018296976],\"type\":\"violin\",\"xaxis\":\"x2\",\"yaxis\":\"y2\"},{\"box\":{\"visible\":true},\"fillcolor\":\"#B68100\",\"legendgroup\":\"remodnav\",\"line\":{\"color\":\"black\"},\"meanline\":{\"visible\":true},\"name\":\"RA, remodnav\",\"opacity\":0.75,\"scalegroup\":\"fixation_f1\",\"showlegend\":false,\"side\":\"positive\",\"spanmode\":\"hard\",\"x0\":\"remodnav\",\"y\":[0.5286343612334802,0.6197995748557547,0.26469379367036583,0.6316295465470277,0.5518802228412256,0.4125560538116592,0.31767041694242226,0.3738049713193116,0.24510932105868816,0.31286089238845144,0.5913072776280324,0.28184615384615386,0.14430665163472378,0.5070422535211268,0.337,0.49957118353344776,0.2110997616615594,0.14316087880935507,0.39489671931956255,0.3193566915565767],\"type\":\"violin\",\"xaxis\":\"x2\",\"yaxis\":\"y2\"},{\"box\":{\"visible\":true},\"fillcolor\":\"#bab0ac\",\"legendgroup\":\"Other GT\",\"line\":{\"color\":\"black\"},\"meanline\":{\"visible\":true},\"name\":\"MN, Other GT\",\"opacity\":0.25,\"scalegroup\":\"fixation_f1\",\"showlegend\":false,\"side\":\"negative\",\"spanmode\":\"hard\",\"x0\":\"Other GT\",\"y\":[0.9752808988764046,0.9247738804323846,0.9568778607564442,0.9428828135027596,0.9865610751139908,0.9856527977044475,0.9878122360323399,0.9672170375687964,0.9787234042553191,0.9547641963426372,0.9333093654502966,0.9547892720306513,0.9866700201207244,0.9787087912087912],\"type\":\"violin\",\"xaxis\":\"x2\",\"yaxis\":\"y2\"},{\"box\":{\"visible\":true},\"fillcolor\":\"#2E91E5\",\"legendgroup\":\"ivt\",\"line\":{\"color\":\"black\"},\"meanline\":{\"visible\":true},\"name\":\"MN, ivt\",\"opacity\":0.25,\"scalegroup\":\"fixation_f1\",\"showlegend\":false,\"side\":\"negative\",\"spanmode\":\"hard\",\"x0\":\"ivt\",\"y\":[0.9753930280246069,0.9948958758677011,0.9574896388395501,0.9220125786163522,0.9647031593565559,0.9764746784100128,0.9754328497894245,0.9701847863054076,0.9454022988505748,0.9723914452365522,0.957732634338139,0.8570029382957883,0.9736163946496502,0.9410640331315706],\"type\":\"violin\",\"xaxis\":\"x2\",\"yaxis\":\"y2\"},{\"box\":{\"visible\":true},\"fillcolor\":\"#E15F99\",\"legendgroup\":\"ivvt\",\"line\":{\"color\":\"black\"},\"meanline\":{\"visible\":true},\"name\":\"MN, ivvt\",\"opacity\":0.25,\"scalegroup\":\"fixation_f1\",\"showlegend\":false,\"side\":\"negative\",\"spanmode\":\"hard\",\"x0\":\"ivvt\",\"y\":[0.9881971765794956,0.995381299394437,0.9172214545911318,0.8988884424802465,0.9793692198245199,0.9864114380243412,0.9795918367346939,0.9818601964182554,0.9594634004082823,0.9611088682546091,0.9670254570305826,0.8315207701907649,0.9664925468212511,0.9573428850537284],\"type\":\"violin\",\"xaxis\":\"x2\",\"yaxis\":\"y2\"},{\"box\":{\"visible\":true},\"fillcolor\":\"#1CA71C\",\"legendgroup\":\"idt\",\"line\":{\"color\":\"black\"},\"meanline\":{\"visible\":true},\"name\":\"MN, idt\",\"opacity\":0.25,\"scalegroup\":\"fixation_f1\",\"showlegend\":false,\"side\":\"negative\",\"spanmode\":\"hard\",\"x0\":\"idt\",\"y\":[0.9401690635635086,0.9898456539398863,0.9469713778566674,0.9037685836118474,0.9243902439024391,0.9302634491919416,0.9337511190689346,0.9390083369899078,0.9078874793160507,0.8910331842786539,0.8132999443516973,0.7423568649249583,0.9235565819861432,0.8789050877714965],\"type\":\"violin\",\"xaxis\":\"x2\",\"yaxis\":\"y2\"},{\"box\":{\"visible\":true},\"fillcolor\":\"#FB0D0D\",\"legendgroup\":\"idvt\",\"line\":{\"color\":\"black\"},\"meanline\":{\"visible\":true},\"name\":\"MN, idvt\",\"opacity\":0.25,\"scalegroup\":\"fixation_f1\",\"showlegend\":false,\"side\":\"negative\",\"spanmode\":\"hard\",\"x0\":\"idvt\",\"y\":[0.9401690635635086,0.9898456539398863,0.9469713778566674,0.9037685836118474,0.9243902439024391,0.9302634491919416,0.9337511190689346,0.9390083369899078,0.9078874793160507,0.9131693198263386,0.8889902676399026,0.8108682452944749,0.9303245318134233,0.8900271166013859],\"type\":\"violin\",\"xaxis\":\"x2\",\"yaxis\":\"y2\"},{\"box\":{\"visible\":true},\"fillcolor\":\"#DA16FF\",\"legendgroup\":\"engbert\",\"line\":{\"color\":\"black\"},\"meanline\":{\"visible\":true},\"name\":\"MN, engbert\",\"opacity\":0.25,\"scalegroup\":\"fixation_f1\",\"showlegend\":false,\"side\":\"negative\",\"spanmode\":\"hard\",\"x0\":\"engbert\",\"y\":[0.9859056493884683,0.9913330581923234,0.9806587738834838,0.9453271612661078,0.9822870225328353,0.9913558318531676,0.9819009948459787,0.9809779437507293,0.9678001805597352,0.9736667989943099,0.9632951336987211,0.8611879576891782,0.9833770778652668,0.9517749497655726],\"type\":\"violin\",\"xaxis\":\"x2\",\"yaxis\":\"y2\"},{\"box\":{\"visible\":true},\"fillcolor\":\"#222A2A\",\"legendgroup\":\"nh\",\"line\":{\"color\":\"black\"},\"meanline\":{\"visible\":true},\"name\":\"MN, nh\",\"opacity\":0.25,\"scalegroup\":\"fixation_f1\",\"showlegend\":false,\"side\":\"negative\",\"spanmode\":\"hard\",\"x0\":\"nh\",\"y\":[0.9672622616620697,0.9842855656155688,0.9681241853300154,0.8992567181246427,0.9629629629629629,0.9692700109316167,0.953204099271515,0.9590065107306488,0.9550045913682277,0.9332125291224437,0.840486304379669,0.8306478132193359,0.9088407292741658,0.9299583911234397],\"type\":\"violin\",\"xaxis\":\"x2\",\"yaxis\":\"y2\"},{\"box\":{\"visible\":true},\"fillcolor\":\"#B68100\",\"legendgroup\":\"remodnav\",\"line\":{\"color\":\"black\"},\"meanline\":{\"visible\":true},\"name\":\"MN, remodnav\",\"opacity\":0.25,\"scalegroup\":\"fixation_f1\",\"showlegend\":false,\"side\":\"negative\",\"spanmode\":\"hard\",\"x0\":\"remodnav\",\"y\":[0.5183264177040111,0.658778205833792,0.40460709641463866,0.30501274426508074,0.5952861952861953,0.29277181615711684,0.14247551202137132,0.49003351561121883,0.34265734265734266,0.4726617264169838,0.19088669950738918,0.13964262078093978,0.3952648475120385,0.3095905776780707],\"type\":\"violin\",\"xaxis\":\"x2\",\"yaxis\":\"y2\"},{\"box\":{\"visible\":true},\"fillcolor\":\"#bab0ac\",\"legendgroup\":\"Other GT\",\"line\":{\"color\":\"black\"},\"meanline\":{\"visible\":true},\"name\":\"RA, Other GT\",\"opacity\":0.75,\"scalegroup\":\"saccade_d_prime\",\"showlegend\":false,\"side\":\"positive\",\"spanmode\":\"hard\",\"x0\":\"Other GT\",\"y\":[4.161028988238074,3.965410808636437,3.6888571137286568,3.435621201445736,4.1541055257695705,4.197895409319255,4.205566771605053,4.457214843433495,3.277798104688242,4.94549717600651,3.8164160708863557,3.401859801308232,3.8951208339168573,3.6927188480565856],\"type\":\"violin\",\"xaxis\":\"x3\",\"yaxis\":\"y3\"},{\"box\":{\"visible\":true},\"fillcolor\":\"#2E91E5\",\"legendgroup\":\"ivt\",\"line\":{\"color\":\"black\"},\"meanline\":{\"visible\":true},\"name\":\"RA, ivt\",\"opacity\":0.75,\"scalegroup\":\"saccade_d_prime\",\"showlegend\":false,\"side\":\"positive\",\"spanmode\":\"hard\",\"x0\":\"ivt\",\"y\":[3.226658931470993,3.0993855902289567,3.2562895272052863,2.941101172571436,2.6566917252263718,2.4445535812148336,2.3047658562836433,2.91391496800219,2.771533502451723,2.2640619553487853,2.9162209065588014,2.9606980781471535,3.1985575280223033,3.122779557624305,2.136295281569164,2.41122011037523,2.131108556334749,2.1492362858008063,2.6509491250253183,2.0164988192176505],\"type\":\"violin\",\"xaxis\":\"x3\",\"yaxis\":\"y3\"},{\"box\":{\"visible\":true},\"fillcolor\":\"#E15F99\",\"legendgroup\":\"ivvt\",\"line\":{\"color\":\"black\"},\"meanline\":{\"visible\":true},\"name\":\"RA, ivvt\",\"opacity\":0.75,\"scalegroup\":\"saccade_d_prime\",\"showlegend\":false,\"side\":\"positive\",\"spanmode\":\"hard\",\"x0\":\"ivvt\",\"y\":[3.226658931470993,3.0993855902289567,3.2599208678963016,2.9826324199632297,2.7002789264499816,2.411138138235634,2.2573780335989744,2.730647896474565,2.815084971205085,2.3276080088658193,2.9142484563374604,2.9522947988417947,3.203816757561755,3.126078025175997,2.2132503776173227,2.3129773530271756,2.102046842827381,2.1192810548703958,2.665224287604775,2.078631461568235],\"type\":\"violin\",\"xaxis\":\"x3\",\"yaxis\":\"y3\"},{\"box\":{\"visible\":true},\"fillcolor\":\"#1CA71C\",\"legendgroup\":\"idt\",\"line\":{\"color\":\"black\"},\"meanline\":{\"visible\":true},\"name\":\"RA, idt\",\"opacity\":0.75,\"scalegroup\":\"saccade_d_prime\",\"showlegend\":false,\"side\":\"positive\",\"spanmode\":\"hard\",\"x0\":\"idt\",\"y\":[2.91569487723039,2.479116361501456,2.115325875069002,2.9677903097976293,1.720419781767414,1.8057352321539781,1.7667159472665592,1.6963152420812393,2.1351591736097575,2.418651970710077,2.973056027617519,2.2633006517979313,1.8892760818969403,2.9818121341532238,1.9074621907599116,1.4739428715103267,0.361065547609445,1.4296268793718772,1.2886951214906857,1.3858310912272267],\"type\":\"violin\",\"xaxis\":\"x3\",\"yaxis\":\"y3\"},{\"box\":{\"visible\":true},\"fillcolor\":\"#FB0D0D\",\"legendgroup\":\"idvt\",\"line\":{\"color\":\"black\"},\"meanline\":{\"visible\":true},\"name\":\"RA, idvt\",\"opacity\":0.75,\"scalegroup\":\"saccade_d_prime\",\"showlegend\":false,\"side\":\"positive\",\"spanmode\":\"hard\",\"x0\":\"idvt\",\"y\":[2.91569487723039,2.432649504559933,2.3287454681488473,2.9606831344858797,1.9774453440051356,2.06199912633105,2.2150304069369935,1.826418910668694,2.764157392406208,2.418651970710077,2.973056027617519,3.0893902167571086,2.0348932205446335,2.9818121341532238,1.9074621907599116,1.584235767762265,0.3788951666606325,1.4175429495167466,1.2244944177469679,1.448549203506307],\"type\":\"violin\",\"xaxis\":\"x3\",\"yaxis\":\"y3\"},{\"box\":{\"visible\":true},\"fillcolor\":\"#DA16FF\",\"legendgroup\":\"engbert\",\"line\":{\"color\":\"black\"},\"meanline\":{\"visible\":true},\"name\":\"RA, engbert\",\"opacity\":0.75,\"scalegroup\":\"saccade_d_prime\",\"showlegend\":false,\"side\":\"positive\",\"spanmode\":\"hard\",\"x0\":\"engbert\",\"y\":[3.9218306194049513,3.711446063524846,3.9595983493369635,4.230269243867565,3.417356747232927,3.1234669952104657,2.7863760762417247,3.5443392458451677,4.163261642864484,2.867289762416123,3.844652021965695,3.82819662462994,3.5358264421778136,3.6170206850296487,2.499249873321038,3.2044452593171413,2.4800897105633184,2.5759157821017706,3.17250830842637,3.3060492564218524],\"type\":\"violin\",\"xaxis\":\"x3\",\"yaxis\":\"y3\"},{\"box\":{\"visible\":true},\"fillcolor\":\"#222A2A\",\"legendgroup\":\"nh\",\"line\":{\"color\":\"black\"},\"meanline\":{\"visible\":true},\"name\":\"RA, nh\",\"opacity\":0.75,\"scalegroup\":\"saccade_d_prime\",\"showlegend\":false,\"side\":\"positive\",\"spanmode\":\"hard\",\"x0\":\"nh\",\"y\":[3.6108544321499805,4.24192081137096,1.5325356614716599,4.934391627541485,4.096500850464601,2.80719202226621,1.6074092829482924,3.92300820072169,3.108484659740976,2.460394486251061,3.7836336598784492,4.079242711415877,3.510282512357989,3.5039857666418954,2.2987603563956966,1.937372743681443,-0.14292426763089672,1.6292781508393184,0.6946747154719222,2.472772526051251],\"type\":\"violin\",\"xaxis\":\"x3\",\"yaxis\":\"y3\"},{\"box\":{\"visible\":true},\"fillcolor\":\"#B68100\",\"legendgroup\":\"remodnav\",\"line\":{\"color\":\"black\"},\"meanline\":{\"visible\":true},\"name\":\"RA, remodnav\",\"opacity\":0.75,\"scalegroup\":\"saccade_d_prime\",\"showlegend\":false,\"side\":\"positive\",\"spanmode\":\"hard\",\"x0\":\"remodnav\",\"y\":[2.088166257587637,2.7589405108497664,1.9442797110232368,2.1469078446071137,2.1932104328170676,1.9477041075505928,1.7910234862869099,1.9061828367402067,2.0857095394375227,1.5871069430210623,2.2297939066666737,1.9632266498199304,1.6409619540699696,2.1840519160738685,1.7253002726174786,1.9536105039776646,1.770182110889383,1.9997880332519993,1.8093572628670067,2.0078890773923157],\"type\":\"violin\",\"xaxis\":\"x3\",\"yaxis\":\"y3\"},{\"box\":{\"visible\":true},\"fillcolor\":\"#bab0ac\",\"legendgroup\":\"Other GT\",\"line\":{\"color\":\"black\"},\"meanline\":{\"visible\":true},\"name\":\"MN, Other GT\",\"opacity\":0.25,\"scalegroup\":\"saccade_d_prime\",\"showlegend\":false,\"side\":\"negative\",\"spanmode\":\"hard\",\"x0\":\"Other GT\",\"y\":[4.008397805891969,4.0575129561579395,3.8963229312126177,3.681191970885198,4.065449518067042,4.137443954154824,4.148311677009568,4.558734401592106,3.5539133322808354,5.978855459574282,3.8641988236830995,3.6095788357498995,3.82148737211236,3.833337685315457],\"type\":\"violin\",\"xaxis\":\"x3\",\"yaxis\":\"y3\"},{\"box\":{\"visible\":true},\"fillcolor\":\"#2E91E5\",\"legendgroup\":\"ivt\",\"line\":{\"color\":\"black\"},\"meanline\":{\"visible\":true},\"name\":\"MN, ivt\",\"opacity\":0.25,\"scalegroup\":\"saccade_d_prime\",\"showlegend\":false,\"side\":\"negative\",\"spanmode\":\"hard\",\"x0\":\"ivt\",\"y\":[3.3930858324456463,3.3912759171477362,2.3183302875791023,2.3650409201964635,2.7459330231985586,2.693713745190362,3.1502928792694633,3.2180538757076516,2.1129957076410713,2.4740838327228323,1.853642322392243,2.4725534000277625,2.7949614934598577,2.0241160422410105],\"type\":\"violin\",\"xaxis\":\"x3\",\"yaxis\":\"y3\"},{\"box\":{\"visible\":true},\"fillcolor\":\"#E15F99\",\"legendgroup\":\"ivvt\",\"line\":{\"color\":\"black\"},\"meanline\":{\"visible\":true},\"name\":\"MN, ivvt\",\"opacity\":0.25,\"scalegroup\":\"saccade_d_prime\",\"showlegend\":false,\"side\":\"negative\",\"spanmode\":\"hard\",\"x0\":\"ivvt\",\"y\":[3.3930858324456463,3.3912759171477362,2.2941478474704264,2.353091813490252,2.8115382211177695,2.68585471059865,3.1340603481756757,3.2206286291023654,2.167579255500181,2.4162062869461485,1.9293286560166907,2.3709145688930464,2.7872454114052223,2.094073619907963],\"type\":\"violin\",\"xaxis\":\"x3\",\"yaxis\":\"y3\"},{\"box\":{\"visible\":true},\"fillcolor\":\"#1CA71C\",\"legendgroup\":\"idt\",\"line\":{\"color\":\"black\"},\"meanline\":{\"visible\":true},\"name\":\"MN, idt\",\"opacity\":0.25,\"scalegroup\":\"saccade_d_prime\",\"showlegend\":false,\"side\":\"negative\",\"spanmode\":\"hard\",\"x0\":\"idt\",\"y\":[3.0722806035334793,2.5129931870388815,1.674381463248769,1.836049739586896,2.741297124840282,2.2705465103175624,1.86525707400628,3.011428046719983,2.042217472283582,1.5156281166038201,0.3209283359681142,1.484340165087153,1.5658653448258617,1.4468507437644533],\"type\":\"violin\",\"xaxis\":\"x3\",\"yaxis\":\"y3\"},{\"box\":{\"visible\":true},\"fillcolor\":\"#FB0D0D\",\"legendgroup\":\"idvt\",\"line\":{\"color\":\"black\"},\"meanline\":{\"visible\":true},\"name\":\"MN, idvt\",\"opacity\":0.25,\"scalegroup\":\"saccade_d_prime\",\"showlegend\":false,\"side\":\"negative\",\"spanmode\":\"hard\",\"x0\":\"idvt\",\"y\":[3.0722806035334793,2.465719500648764,1.843285839946897,2.204355566667264,2.741297124840282,3.0648558489837865,2.011074738066079,3.011428046719983,2.042217472283582,1.6174249184712635,0.3503213995761689,1.5250838247481775,1.487099762931362,1.5060544892747099],\"type\":\"violin\",\"xaxis\":\"x3\",\"yaxis\":\"y3\"},{\"box\":{\"visible\":true},\"fillcolor\":\"#DA16FF\",\"legendgroup\":\"engbert\",\"line\":{\"color\":\"black\"},\"meanline\":{\"visible\":true},\"name\":\"MN, engbert\",\"opacity\":0.25,\"scalegroup\":\"saccade_d_prime\",\"showlegend\":false,\"side\":\"negative\",\"spanmode\":\"hard\",\"x0\":\"engbert\",\"y\":[3.7447415193002613,3.755361676631681,3.0340185608153862,2.8336970247544913,3.5636925638234875,3.4266524636875313,3.466305859711316,3.6570281606152752,3.331548792090155,3.5268873504282854,2.333174001295408,2.857863482934775,3.365557717025896,3.0129136851139284],\"type\":\"violin\",\"xaxis\":\"x3\",\"yaxis\":\"y3\"},{\"box\":{\"visible\":true},\"fillcolor\":\"#222A2A\",\"legendgroup\":\"nh\",\"line\":{\"color\":\"black\"},\"meanline\":{\"visible\":true},\"name\":\"MN, nh\",\"opacity\":0.25,\"scalegroup\":\"saccade_d_prime\",\"showlegend\":false,\"side\":\"negative\",\"spanmode\":\"hard\",\"x0\":\"nh\",\"y\":[3.8296774665176807,5.451104232626235,2.555918575783478,1.5040504414513394,3.4195695618238764,5.0098227345400215,3.352158973538354,3.8675646922231084,3.072983220237508,2.018098062426238,-0.3149011149278391,1.9037983046240214,0.6695616534774742,2.397476795303957],\"type\":\"violin\",\"xaxis\":\"x3\",\"yaxis\":\"y3\"},{\"box\":{\"visible\":true},\"fillcolor\":\"#B68100\",\"legendgroup\":\"remodnav\",\"line\":{\"color\":\"black\"},\"meanline\":{\"visible\":true},\"name\":\"MN, remodnav\",\"opacity\":0.25,\"scalegroup\":\"saccade_d_prime\",\"showlegend\":false,\"side\":\"negative\",\"spanmode\":\"hard\",\"x0\":\"remodnav\",\"y\":[2.09033465820228,2.803720702960341,1.8766050997298327,1.5437444909609344,2.1699673028600537,1.9199121201913925,1.718302710062534,2.2137838721396843,1.8520558515403145,1.9558541288574576,1.5357174932192885,2.0481989996101375,2.049445216895915,2.0167981530596673],\"type\":\"violin\",\"xaxis\":\"x3\",\"yaxis\":\"y3\"},{\"box\":{\"visible\":true},\"fillcolor\":\"#bab0ac\",\"legendgroup\":\"Other GT\",\"line\":{\"color\":\"black\"},\"meanline\":{\"visible\":true},\"name\":\"RA, Other GT\",\"opacity\":0.75,\"scalegroup\":\"saccade_f1\",\"showlegend\":false,\"side\":\"positive\",\"spanmode\":\"hard\",\"x0\":\"Other GT\",\"y\":[0.932920536635707,0.8783068783068783,0.8957345971563981,0.8689533861037819,0.940677966101695,0.9463722397476341,0.9527687296416939,0.9633204633204633,0.8360655737704918,0.9584905660377359,0.903914590747331,0.8559322033898306,0.9276672694394213,0.9071618037135278],\"type\":\"violin\",\"xaxis\":\"x4\",\"yaxis\":\"y4\"},{\"box\":{\"visible\":true},\"fillcolor\":\"#2E91E5\",\"legendgroup\":\"ivt\",\"line\":{\"color\":\"black\"},\"meanline\":{\"visible\":true},\"name\":\"RA, ivt\",\"opacity\":0.75,\"scalegroup\":\"saccade_f1\",\"showlegend\":false,\"side\":\"positive\",\"spanmode\":\"hard\",\"x0\":\"ivt\",\"y\":[0.8505747126436781,0.691358024691358,0.8545316070068546,0.7660020986358866,0.75,0.6248995983935743,0.652887537993921,0.7390243902439025,0.8041237113402062,0.6941431670281996,0.7963152507676561,0.7896253602305475,0.867109634551495,0.8365878725590956,0.6376021798365122,0.5698672911787666,0.3461279461279461,0.49170437405731515,0.7209125475285171,0.5945945945945946],\"type\":\"violin\",\"xaxis\":\"x4\",\"yaxis\":\"y4\"},{\"box\":{\"visible\":true},\"fillcolor\":\"#E15F99\",\"legendgroup\":\"ivvt\",\"line\":{\"color\":\"black\"},\"meanline\":{\"visible\":true},\"name\":\"RA, ivvt\",\"opacity\":0.75,\"scalegroup\":\"saccade_f1\",\"showlegend\":false,\"side\":\"positive\",\"spanmode\":\"hard\",\"x0\":\"ivvt\",\"y\":[0.8505747126436781,0.691358024691358,0.8580199539524175,0.7782515991471215,0.7585470085470085,0.6013771996939556,0.6388557806912991,0.6931155192532089,0.8130081300813008,0.7121535181236673,0.7967145790554415,0.7873563218390804,0.8678929765886286,0.8362512873326468,0.6557377049180327,0.5586854460093896,0.3422459893048128,0.47772096420745064,0.7235338918507236,0.6061855670103092],\"type\":\"violin\",\"xaxis\":\"x4\",\"yaxis\":\"y4\"},{\"box\":{\"visible\":true},\"fillcolor\":\"#1CA71C\",\"legendgroup\":\"idt\",\"line\":{\"color\":\"black\"},\"meanline\":{\"visible\":true},\"name\":\"RA, idt\",\"opacity\":0.75,\"scalegroup\":\"saccade_f1\",\"showlegend\":false,\"side\":\"positive\",\"spanmode\":\"hard\",\"x0\":\"idt\",\"y\":[0.507177033492823,0.25225225225225223,0.5651697699890471,0.4419475655430712,0.433587786259542,0.4900284900284901,0.485310119695321,0.4314442413162705,0.4556213017751479,0.32131147540983607,0.4540901502504174,0.4625199362041467,0.45060240963855414,0.4477172312223859,0.15315315315315314,0.4081041968162084,0.13333333333333333,0.4149184149184149,0.37098692033293695,0.38834951456310685],\"type\":\"violin\",\"xaxis\":\"x4\",\"yaxis\":\"y4\"},{\"box\":{\"visible\":true},\"fillcolor\":\"#FB0D0D\",\"legendgroup\":\"idvt\",\"line\":{\"color\":\"black\"},\"meanline\":{\"visible\":true},\"name\":\"RA, idvt\",\"opacity\":0.75,\"scalegroup\":\"saccade_f1\",\"showlegend\":false,\"side\":\"positive\",\"spanmode\":\"hard\",\"x0\":\"idvt\",\"y\":[0.507177033492823,0.23636363636363636,0.5752808988764045,0.43902439024390244,0.4634920634920635,0.5151515151515151,0.5103926096997691,0.4418604651162791,0.46060606060606063,0.32131147540983607,0.4540901502504174,0.4919614147909968,0.45398773006134974,0.4477172312223859,0.15315315315315314,0.436950146627566,0.13524590163934427,0.41075794621026895,0.36046511627906974,0.39057239057239057],\"type\":\"violin\",\"xaxis\":\"x4\",\"yaxis\":\"y4\"},{\"box\":{\"visible\":true},\"fillcolor\":\"#DA16FF\",\"legendgroup\":\"engbert\",\"line\":{\"color\":\"black\"},\"meanline\":{\"visible\":true},\"name\":\"RA, engbert\",\"opacity\":0.75,\"scalegroup\":\"saccade_f1\",\"showlegend\":false,\"side\":\"positive\",\"spanmode\":\"hard\",\"x0\":\"engbert\",\"y\":[0.8134394341290893,0.6973180076628352,0.8200950441276307,0.6957250628667226,0.73,0.7380330722367275,0.7238572323105823,0.7511111111111112,0.875,0.7722772277227723,0.6986301369863015,0.760655737704918,0.8391708363116511,0.8377049180327869,0.678227360308285,0.5779359430604982,0.3575197889182058,0.5586592178770949,0.7209944751381215,0.6268174474959612],\"type\":\"violin\",\"xaxis\":\"x4\",\"yaxis\":\"y4\"},{\"box\":{\"visible\":true},\"fillcolor\":\"#222A2A\",\"legendgroup\":\"nh\",\"line\":{\"color\":\"black\"},\"meanline\":{\"visible\":true},\"name\":\"RA, nh\",\"opacity\":0.75,\"scalegroup\":\"saccade_f1\",\"showlegend\":false,\"side\":\"positive\",\"spanmode\":\"hard\",\"x0\":\"nh\",\"y\":[0.7268408551068885,0.5907692307692308,0.0904836193447738,0.6910299003322259,0.6521423384168482,0.7178571428571429,0.3971797884841363,0.6461824953445066,0.7605633802816901,0.6979655712050078,0.7139516757599377,0.7360126083530338,0.7707253886010362,0.7588235294117647,0.6321626617375231,0.5365853658536586,0.06871609403254973,0.3432271991365353,0.125,0.5278174037089871],\"type\":\"violin\",\"xaxis\":\"x4\",\"yaxis\":\"y4\"},{\"box\":{\"visible\":true},\"fillcolor\":\"#B68100\",\"legendgroup\":\"remodnav\",\"line\":{\"color\":\"black\"},\"meanline\":{\"visible\":true},\"name\":\"RA, remodnav\",\"opacity\":0.75,\"scalegroup\":\"saccade_f1\",\"showlegend\":false,\"side\":\"positive\",\"spanmode\":\"hard\",\"x0\":\"remodnav\",\"y\":[0.6193247962747379,0.42857142857142855,0.6102941176470589,0.6131386861313869,0.6478555304740407,0.5527369826435247,0.5156576200417536,0.49458483754512633,0.6441441441441441,0.5198237885462555,0.6565349544072948,0.568922305764411,0.4,0.6640394088669951,0.5248618784530387,0.5674814027630181,0.41839080459770117,0.5311475409836065,0.5663366336633663,0.6118251928020566],\"type\":\"violin\",\"xaxis\":\"x4\",\"yaxis\":\"y4\"},{\"box\":{\"visible\":true},\"fillcolor\":\"#bab0ac\",\"legendgroup\":\"Other GT\",\"line\":{\"color\":\"black\"},\"meanline\":{\"visible\":true},\"name\":\"MN, Other GT\",\"opacity\":0.25,\"scalegroup\":\"saccade_f1\",\"showlegend\":false,\"side\":\"negative\",\"spanmode\":\"hard\",\"x0\":\"Other GT\",\"y\":[0.932920536635707,0.8783068783068783,0.8957345971563981,0.8689533861037819,0.940677966101695,0.9463722397476341,0.9527687296416938,0.9633204633204633,0.836065573770492,0.9584905660377359,0.9039145907473309,0.8559322033898306,0.9276672694394213,0.907161803713528],\"type\":\"violin\",\"xaxis\":\"x4\",\"yaxis\":\"y4\"},{\"box\":{\"visible\":true},\"fillcolor\":\"#2E91E5\",\"legendgroup\":\"ivt\",\"line\":{\"color\":\"black\"},\"meanline\":{\"visible\":true},\"name\":\"MN, ivt\",\"opacity\":0.25,\"scalegroup\":\"saccade_f1\",\"showlegend\":false,\"side\":\"negative\",\"spanmode\":\"hard\",\"x0\":\"ivt\",\"y\":[0.8812877263581489,0.7515923566878981,0.5634987384356602,0.5945241199478487,0.7743229689067201,0.7533206831119544,0.8622950819672132,0.8523560209424084,0.6130030959752322,0.5480769230769231,0.3182125930941097,0.47003154574132494,0.7542942494398805,0.5732758620689655],\"type\":\"violin\",\"xaxis\":\"x4\",\"yaxis\":\"y4\"},{\"box\":{\"visible\":true},\"fillcolor\":\"#E15F99\",\"legendgroup\":\"ivvt\",\"line\":{\"color\":\"black\"},\"meanline\":{\"visible\":true},\"name\":\"MN, ivvt\",\"opacity\":0.25,\"scalegroup\":\"saccade_f1\",\"showlegend\":false,\"side\":\"negative\",\"spanmode\":\"hard\",\"x0\":\"ivvt\",\"y\":[0.8812877263581489,0.7515923566878981,0.5419664268585132,0.5845564773452457,0.7867203219315896,0.7511825922421949,0.8597359735973598,0.8520461699895068,0.6273291925465838,0.5429718875502008,0.3225806451612903,0.4500381388253242,0.7539267015706806,0.5854700854700855],\"type\":\"violin\",\"xaxis\":\"x4\",\"yaxis\":\"y4\"},{\"box\":{\"visible\":true},\"fillcolor\":\"#1CA71C\",\"legendgroup\":\"idt\",\"line\":{\"color\":\"black\"},\"meanline\":{\"visible\":true},\"name\":\"MN, idt\",\"opacity\":0.25,\"scalegroup\":\"saccade_f1\",\"showlegend\":false,\"side\":\"negative\",\"spanmode\":\"hard\",\"x0\":\"idt\",\"y\":[0.48493975903614456,0.2641509433962264,0.4551083591331269,0.5173267326732673,0.43618739903069464,0.45625,0.44208037825059104,0.4599092284417549,0.19101123595505617,0.41641337386018235,0.12450592885375493,0.4025,0.446242774566474,0.40410958904109595],\"type\":\"violin\",\"xaxis\":\"x4\",\"yaxis\":\"y4\"},{\"box\":{\"visible\":true},\"fillcolor\":\"#FB0D0D\",\"legendgroup\":\"idvt\",\"line\":{\"color\":\"black\"},\"meanline\":{\"visible\":true},\"name\":\"MN, idvt\",\"opacity\":0.25,\"scalegroup\":\"saccade_f1\",\"showlegend\":false,\"side\":\"negative\",\"spanmode\":\"hard\",\"x0\":\"idvt\",\"y\":[0.48493975903614456,0.24761904761904763,0.4768211920529801,0.5536423841059602,0.43618739903069464,0.4818897637795276,0.44524669073405543,0.4599092284417549,0.19101123595505617,0.44375963020030823,0.128099173553719,0.4157894736842106,0.4343891402714932,0.4071428571428572],\"type\":\"violin\",\"xaxis\":\"x4\",\"yaxis\":\"y4\"},{\"box\":{\"visible\":true},\"fillcolor\":\"#DA16FF\",\"legendgroup\":\"engbert\",\"line\":{\"color\":\"black\"},\"meanline\":{\"visible\":true},\"name\":\"MN, engbert\",\"opacity\":0.25,\"scalegroup\":\"saccade_f1\",\"showlegend\":false,\"side\":\"negative\",\"spanmode\":\"hard\",\"x0\":\"engbert\",\"y\":[0.8407534246575342,0.6796875,0.6788655077767612,0.6527590847913862,0.712143928035982,0.7591240875912408,0.8452296819787987,0.8252911813643927,0.6610526315789473,0.5510204081632653,0.34350132625994695,0.5188284518828452,0.748641304347826,0.5813953488372093],\"type\":\"violin\",\"xaxis\":\"x4\",\"yaxis\":\"y4\"},{\"box\":{\"visible\":true},\"fillcolor\":\"#222A2A\",\"legendgroup\":\"nh\",\"line\":{\"color\":\"black\"},\"meanline\":{\"visible\":true},\"name\":\"MN, nh\",\"opacity\":0.25,\"scalegroup\":\"saccade_f1\",\"showlegend\":false,\"side\":\"negative\",\"spanmode\":\"hard\",\"x0\":\"nh\",\"y\":[0.7661538461538462,0.575,0.6390977443609023,0.3891891891891892,0.7229470452801228,0.7519500780031201,0.7756410256410257,0.7526080476900149,0.6237424547283702,0.5307262569832403,0.051001821493624776,0.3231197771587744,0.12058823529411766,0.49122807017543857],\"type\":\"violin\",\"xaxis\":\"x4\",\"yaxis\":\"y4\"},{\"box\":{\"visible\":true},\"fillcolor\":\"#B68100\",\"legendgroup\":\"remodnav\",\"line\":{\"color\":\"black\"},\"meanline\":{\"visible\":true},\"name\":\"MN, remodnav\",\"opacity\":0.25,\"scalegroup\":\"saccade_f1\",\"showlegend\":false,\"side\":\"negative\",\"spanmode\":\"hard\",\"x0\":\"remodnav\",\"y\":[0.6227678571428571,0.4462809917355372,0.5310245310245311,0.4557260920897285,0.6494538232373386,0.5573366214549939,0.4114149821640904,0.6680040120361084,0.5408805031446541,0.5506607929515418,0.351288056206089,0.5471014492753623,0.632495164410058,0.6021505376344086],\"type\":\"violin\",\"xaxis\":\"x4\",\"yaxis\":\"y4\"}],                        {\"template\":{\"data\":{\"histogram2dcontour\":[{\"type\":\"histogram2dcontour\",\"colorbar\":{\"outlinewidth\":0,\"ticks\":\"\"},\"colorscale\":[[0.0,\"#0d0887\"],[0.1111111111111111,\"#46039f\"],[0.2222222222222222,\"#7201a8\"],[0.3333333333333333,\"#9c179e\"],[0.4444444444444444,\"#bd3786\"],[0.5555555555555556,\"#d8576b\"],[0.6666666666666666,\"#ed7953\"],[0.7777777777777778,\"#fb9f3a\"],[0.8888888888888888,\"#fdca26\"],[1.0,\"#f0f921\"]]}],\"choropleth\":[{\"type\":\"choropleth\",\"colorbar\":{\"outlinewidth\":0,\"ticks\":\"\"}}],\"histogram2d\":[{\"type\":\"histogram2d\",\"colorbar\":{\"outlinewidth\":0,\"ticks\":\"\"},\"colorscale\":[[0.0,\"#0d0887\"],[0.1111111111111111,\"#46039f\"],[0.2222222222222222,\"#7201a8\"],[0.3333333333333333,\"#9c179e\"],[0.4444444444444444,\"#bd3786\"],[0.5555555555555556,\"#d8576b\"],[0.6666666666666666,\"#ed7953\"],[0.7777777777777778,\"#fb9f3a\"],[0.8888888888888888,\"#fdca26\"],[1.0,\"#f0f921\"]]}],\"heatmap\":[{\"type\":\"heatmap\",\"colorbar\":{\"outlinewidth\":0,\"ticks\":\"\"},\"colorscale\":[[0.0,\"#0d0887\"],[0.1111111111111111,\"#46039f\"],[0.2222222222222222,\"#7201a8\"],[0.3333333333333333,\"#9c179e\"],[0.4444444444444444,\"#bd3786\"],[0.5555555555555556,\"#d8576b\"],[0.6666666666666666,\"#ed7953\"],[0.7777777777777778,\"#fb9f3a\"],[0.8888888888888888,\"#fdca26\"],[1.0,\"#f0f921\"]]}],\"heatmapgl\":[{\"type\":\"heatmapgl\",\"colorbar\":{\"outlinewidth\":0,\"ticks\":\"\"},\"colorscale\":[[0.0,\"#0d0887\"],[0.1111111111111111,\"#46039f\"],[0.2222222222222222,\"#7201a8\"],[0.3333333333333333,\"#9c179e\"],[0.4444444444444444,\"#bd3786\"],[0.5555555555555556,\"#d8576b\"],[0.6666666666666666,\"#ed7953\"],[0.7777777777777778,\"#fb9f3a\"],[0.8888888888888888,\"#fdca26\"],[1.0,\"#f0f921\"]]}],\"contourcarpet\":[{\"type\":\"contourcarpet\",\"colorbar\":{\"outlinewidth\":0,\"ticks\":\"\"}}],\"contour\":[{\"type\":\"contour\",\"colorbar\":{\"outlinewidth\":0,\"ticks\":\"\"},\"colorscale\":[[0.0,\"#0d0887\"],[0.1111111111111111,\"#46039f\"],[0.2222222222222222,\"#7201a8\"],[0.3333333333333333,\"#9c179e\"],[0.4444444444444444,\"#bd3786\"],[0.5555555555555556,\"#d8576b\"],[0.6666666666666666,\"#ed7953\"],[0.7777777777777778,\"#fb9f3a\"],[0.8888888888888888,\"#fdca26\"],[1.0,\"#f0f921\"]]}],\"surface\":[{\"type\":\"surface\",\"colorbar\":{\"outlinewidth\":0,\"ticks\":\"\"},\"colorscale\":[[0.0,\"#0d0887\"],[0.1111111111111111,\"#46039f\"],[0.2222222222222222,\"#7201a8\"],[0.3333333333333333,\"#9c179e\"],[0.4444444444444444,\"#bd3786\"],[0.5555555555555556,\"#d8576b\"],[0.6666666666666666,\"#ed7953\"],[0.7777777777777778,\"#fb9f3a\"],[0.8888888888888888,\"#fdca26\"],[1.0,\"#f0f921\"]]}],\"mesh3d\":[{\"type\":\"mesh3d\",\"colorbar\":{\"outlinewidth\":0,\"ticks\":\"\"}}],\"scatter\":[{\"fillpattern\":{\"fillmode\":\"overlay\",\"size\":10,\"solidity\":0.2},\"type\":\"scatter\"}],\"parcoords\":[{\"type\":\"parcoords\",\"line\":{\"colorbar\":{\"outlinewidth\":0,\"ticks\":\"\"}}}],\"scatterpolargl\":[{\"type\":\"scatterpolargl\",\"marker\":{\"colorbar\":{\"outlinewidth\":0,\"ticks\":\"\"}}}],\"bar\":[{\"error_x\":{\"color\":\"#2a3f5f\"},\"error_y\":{\"color\":\"#2a3f5f\"},\"marker\":{\"line\":{\"color\":\"#E5ECF6\",\"width\":0.5},\"pattern\":{\"fillmode\":\"overlay\",\"size\":10,\"solidity\":0.2}},\"type\":\"bar\"}],\"scattergeo\":[{\"type\":\"scattergeo\",\"marker\":{\"colorbar\":{\"outlinewidth\":0,\"ticks\":\"\"}}}],\"scatterpolar\":[{\"type\":\"scatterpolar\",\"marker\":{\"colorbar\":{\"outlinewidth\":0,\"ticks\":\"\"}}}],\"histogram\":[{\"marker\":{\"pattern\":{\"fillmode\":\"overlay\",\"size\":10,\"solidity\":0.2}},\"type\":\"histogram\"}],\"scattergl\":[{\"type\":\"scattergl\",\"marker\":{\"colorbar\":{\"outlinewidth\":0,\"ticks\":\"\"}}}],\"scatter3d\":[{\"type\":\"scatter3d\",\"line\":{\"colorbar\":{\"outlinewidth\":0,\"ticks\":\"\"}},\"marker\":{\"colorbar\":{\"outlinewidth\":0,\"ticks\":\"\"}}}],\"scattermapbox\":[{\"type\":\"scattermapbox\",\"marker\":{\"colorbar\":{\"outlinewidth\":0,\"ticks\":\"\"}}}],\"scatterternary\":[{\"type\":\"scatterternary\",\"marker\":{\"colorbar\":{\"outlinewidth\":0,\"ticks\":\"\"}}}],\"scattercarpet\":[{\"type\":\"scattercarpet\",\"marker\":{\"colorbar\":{\"outlinewidth\":0,\"ticks\":\"\"}}}],\"carpet\":[{\"aaxis\":{\"endlinecolor\":\"#2a3f5f\",\"gridcolor\":\"white\",\"linecolor\":\"white\",\"minorgridcolor\":\"white\",\"startlinecolor\":\"#2a3f5f\"},\"baxis\":{\"endlinecolor\":\"#2a3f5f\",\"gridcolor\":\"white\",\"linecolor\":\"white\",\"minorgridcolor\":\"white\",\"startlinecolor\":\"#2a3f5f\"},\"type\":\"carpet\"}],\"table\":[{\"cells\":{\"fill\":{\"color\":\"#EBF0F8\"},\"line\":{\"color\":\"white\"}},\"header\":{\"fill\":{\"color\":\"#C8D4E3\"},\"line\":{\"color\":\"white\"}},\"type\":\"table\"}],\"barpolar\":[{\"marker\":{\"line\":{\"color\":\"#E5ECF6\",\"width\":0.5},\"pattern\":{\"fillmode\":\"overlay\",\"size\":10,\"solidity\":0.2}},\"type\":\"barpolar\"}],\"pie\":[{\"automargin\":true,\"type\":\"pie\"}]},\"layout\":{\"autotypenumbers\":\"strict\",\"colorway\":[\"#636efa\",\"#EF553B\",\"#00cc96\",\"#ab63fa\",\"#FFA15A\",\"#19d3f3\",\"#FF6692\",\"#B6E880\",\"#FF97FF\",\"#FECB52\"],\"font\":{\"color\":\"#2a3f5f\"},\"hovermode\":\"closest\",\"hoverlabel\":{\"align\":\"left\"},\"paper_bgcolor\":\"white\",\"plot_bgcolor\":\"#E5ECF6\",\"polar\":{\"bgcolor\":\"#E5ECF6\",\"angularaxis\":{\"gridcolor\":\"white\",\"linecolor\":\"white\",\"ticks\":\"\"},\"radialaxis\":{\"gridcolor\":\"white\",\"linecolor\":\"white\",\"ticks\":\"\"}},\"ternary\":{\"bgcolor\":\"#E5ECF6\",\"aaxis\":{\"gridcolor\":\"white\",\"linecolor\":\"white\",\"ticks\":\"\"},\"baxis\":{\"gridcolor\":\"white\",\"linecolor\":\"white\",\"ticks\":\"\"},\"caxis\":{\"gridcolor\":\"white\",\"linecolor\":\"white\",\"ticks\":\"\"}},\"coloraxis\":{\"colorbar\":{\"outlinewidth\":0,\"ticks\":\"\"}},\"colorscale\":{\"sequential\":[[0.0,\"#0d0887\"],[0.1111111111111111,\"#46039f\"],[0.2222222222222222,\"#7201a8\"],[0.3333333333333333,\"#9c179e\"],[0.4444444444444444,\"#bd3786\"],[0.5555555555555556,\"#d8576b\"],[0.6666666666666666,\"#ed7953\"],[0.7777777777777778,\"#fb9f3a\"],[0.8888888888888888,\"#fdca26\"],[1.0,\"#f0f921\"]],\"sequentialminus\":[[0.0,\"#0d0887\"],[0.1111111111111111,\"#46039f\"],[0.2222222222222222,\"#7201a8\"],[0.3333333333333333,\"#9c179e\"],[0.4444444444444444,\"#bd3786\"],[0.5555555555555556,\"#d8576b\"],[0.6666666666666666,\"#ed7953\"],[0.7777777777777778,\"#fb9f3a\"],[0.8888888888888888,\"#fdca26\"],[1.0,\"#f0f921\"]],\"diverging\":[[0,\"#8e0152\"],[0.1,\"#c51b7d\"],[0.2,\"#de77ae\"],[0.3,\"#f1b6da\"],[0.4,\"#fde0ef\"],[0.5,\"#f7f7f7\"],[0.6,\"#e6f5d0\"],[0.7,\"#b8e186\"],[0.8,\"#7fbc41\"],[0.9,\"#4d9221\"],[1,\"#276419\"]]},\"xaxis\":{\"gridcolor\":\"white\",\"linecolor\":\"white\",\"ticks\":\"\",\"title\":{\"standoff\":15},\"zerolinecolor\":\"white\",\"automargin\":true,\"zerolinewidth\":2},\"yaxis\":{\"gridcolor\":\"white\",\"linecolor\":\"white\",\"ticks\":\"\",\"title\":{\"standoff\":15},\"zerolinecolor\":\"white\",\"automargin\":true,\"zerolinewidth\":2},\"scene\":{\"xaxis\":{\"backgroundcolor\":\"#E5ECF6\",\"gridcolor\":\"white\",\"linecolor\":\"white\",\"showbackground\":true,\"ticks\":\"\",\"zerolinecolor\":\"white\",\"gridwidth\":2},\"yaxis\":{\"backgroundcolor\":\"#E5ECF6\",\"gridcolor\":\"white\",\"linecolor\":\"white\",\"showbackground\":true,\"ticks\":\"\",\"zerolinecolor\":\"white\",\"gridwidth\":2},\"zaxis\":{\"backgroundcolor\":\"#E5ECF6\",\"gridcolor\":\"white\",\"linecolor\":\"white\",\"showbackground\":true,\"ticks\":\"\",\"zerolinecolor\":\"white\",\"gridwidth\":2}},\"shapedefaults\":{\"line\":{\"color\":\"#2a3f5f\"}},\"annotationdefaults\":{\"arrowcolor\":\"#2a3f5f\",\"arrowhead\":0,\"arrowwidth\":1},\"geo\":{\"bgcolor\":\"white\",\"landcolor\":\"#E5ECF6\",\"subunitcolor\":\"white\",\"showland\":true,\"showlakes\":true,\"lakecolor\":\"white\"},\"title\":{\"x\":0.05},\"mapbox\":{\"style\":\"light\"}}},\"xaxis\":{\"anchor\":\"y\",\"domain\":[0.0,0.45],\"matches\":\"x3\",\"showticklabels\":false},\"yaxis\":{\"anchor\":\"x\",\"domain\":[0.625,1.0]},\"xaxis2\":{\"anchor\":\"y2\",\"domain\":[0.55,1.0],\"matches\":\"x4\",\"showticklabels\":false},\"yaxis2\":{\"anchor\":\"x2\",\"domain\":[0.625,1.0]},\"xaxis3\":{\"anchor\":\"y3\",\"domain\":[0.0,0.45]},\"yaxis3\":{\"anchor\":\"x3\",\"domain\":[0.0,0.375]},\"xaxis4\":{\"anchor\":\"y4\",\"domain\":[0.55,1.0]},\"yaxis4\":{\"anchor\":\"x4\",\"domain\":[0.0,0.375]},\"annotations\":[{\"font\":{\"size\":16},\"showarrow\":false,\"text\":\"fixation_d_prime\",\"x\":0.225,\"xanchor\":\"center\",\"xref\":\"paper\",\"y\":1.0,\"yanchor\":\"bottom\",\"yref\":\"paper\"},{\"font\":{\"size\":16},\"showarrow\":false,\"text\":\"fixation_f1\",\"x\":0.775,\"xanchor\":\"center\",\"xref\":\"paper\",\"y\":1.0,\"yanchor\":\"bottom\",\"yref\":\"paper\"},{\"font\":{\"size\":16},\"showarrow\":false,\"text\":\"saccade_d_prime\",\"x\":0.225,\"xanchor\":\"center\",\"xref\":\"paper\",\"y\":0.375,\"yanchor\":\"bottom\",\"yref\":\"paper\"},{\"font\":{\"size\":16},\"showarrow\":false,\"text\":\"saccade_f1\",\"x\":0.775,\"xanchor\":\"center\",\"xref\":\"paper\",\"y\":0.375,\"yanchor\":\"bottom\",\"yref\":\"paper\"}],\"title\":{},\"violinmode\":\"overlay\",\"boxmode\":\"group\",\"boxgroupgap\":0,\"boxgap\":0,\"margin\":{\"l\":10,\"r\":10,\"b\":10,\"t\":20,\"pad\":0},\"width\":1200,\"height\":500,\"paper_bgcolor\":\"rgba(0, 0, 0, 0)\",\"plot_bgcolor\":\"rgba(0, 0, 0, 0)\"},                        {\"responsive\": true}                    ).then(function(){\n",
       "                            \n",
       "var gd = document.getElementById('c6074dad-52c1-4373-837c-1b06aa8f7892');\n",
       "var x = new MutationObserver(function (mutations, observer) {{\n",
       "        var display = window.getComputedStyle(gd).display;\n",
       "        if (!display || display === 'none') {{\n",
       "            console.log([gd, 'removed!']);\n",
       "            Plotly.purge(gd);\n",
       "            observer.disconnect();\n",
       "        }}\n",
       "}});\n",
       "\n",
       "// Listen for the removal of the full notebook cells\n",
       "var notebookContainer = gd.closest('#notebook-container');\n",
       "if (notebookContainer) {{\n",
       "    x.observe(notebookContainer, {childList: true});\n",
       "}}\n",
       "\n",
       "// Listen for the clearing of the current output cell\n",
       "var outputEl = gd.closest('.output');\n",
       "if (outputEl) {{\n",
       "    x.observe(outputEl, {childList: true});\n",
       "}}\n",
       "\n",
       "                        })                };                });            </script>        </div>"
      ]
     },
     "metadata": {},
     "output_type": "display_data"
    }
   ],
   "execution_count": 15
  },
  {
   "metadata": {
    "ExecuteTime": {
     "end_time": "2025-01-08T09:08:33.310602Z",
     "start_time": "2025-01-08T09:08:33.308669Z"
    }
   },
   "cell_type": "code",
   "source": "",
   "id": "3793073c182886d7",
   "outputs": [],
   "execution_count": null
  }
 ],
 "metadata": {
  "kernelspec": {
   "display_name": "Python 3",
   "language": "python",
   "name": "python3"
  },
  "language_info": {
   "codemirror_mode": {
    "name": "ipython",
    "version": 2
   },
   "file_extension": ".py",
   "mimetype": "text/x-python",
   "name": "python",
   "nbconvert_exporter": "python",
   "pygments_lexer": "ipython2",
   "version": "2.7.6"
  }
 },
 "nbformat": 4,
 "nbformat_minor": 5
}
