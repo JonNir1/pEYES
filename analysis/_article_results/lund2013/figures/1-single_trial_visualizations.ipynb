{
 "cells": [
  {
   "metadata": {},
   "cell_type": "markdown",
   "source": [
    "# Figure 1\n",
    "## Demonstrating pEYE's Visualizations - Single Trial Level"
   ],
   "id": "6ccc4bf85374d17c"
  },
  {
   "metadata": {
    "ExecuteTime": {
     "end_time": "2024-11-27T13:48:07.196579Z",
     "start_time": "2024-11-27T13:48:07.192423Z"
    }
   },
   "cell_type": "code",
   "source": [
    "import os\n",
    "\n",
    "import cv2\n",
    "import numpy as np\n",
    "import pandas as pd\n",
    "import plotly.graph_objects as go\n",
    "from plotly.subplots import make_subplots\n",
    "import plotly.io as pio\n",
    "\n",
    "import peyes\n",
    "\n",
    "import analysis.utils as u\n",
    "from analysis._article_results.lund2013._helpers import *\n",
    "\n",
    "pio.renderers.default = \"browser\""
   ],
   "id": "5845ba4c4f88c485",
   "outputs": [],
   "execution_count": 8
  },
  {
   "metadata": {},
   "cell_type": "markdown",
   "source": [
    "### Load Data\n",
    "**(1)** Stimulus"
   ],
   "id": "45b614f3b0fe7d5a"
  },
  {
   "metadata": {
    "ExecuteTime": {
     "end_time": "2024-11-27T13:48:07.263894Z",
     "start_time": "2024-11-27T13:48:07.201137Z"
    }
   },
   "cell_type": "code",
   "source": [
    "STIMULUS_TO_SHOW = 'konijntjes'\n",
    "PATH_TO_STIMULI = os.path.join(u.BASE_DIR, \"stimuli\", DATASET_NAME.capitalize(), STIMULUS_TYPE)\n",
    "\n",
    "img = cv2.imread(os.path.join(PATH_TO_STIMULI, f\"{STIMULUS_TO_SHOW}.png\"))\n",
    "resolution = (img.shape[1], img.shape[0])"
   ],
   "id": "ea99d8c7d387ac85",
   "outputs": [],
   "execution_count": 9
  },
  {
   "metadata": {},
   "cell_type": "markdown",
   "source": "**(2)** Gaze Data",
   "id": "aadee066691ca02d"
  },
  {
   "metadata": {
    "ExecuteTime": {
     "end_time": "2024-11-27T13:48:07.690633Z",
     "start_time": "2024-11-27T13:48:07.343719Z"
    }
   },
   "cell_type": "code",
   "source": [
    "dataset = u.load_dataset(DATASET_NAME, verbose=False)\n",
    "image_dataset = dataset[dataset[peyes.constants.STIMULUS_TYPE_STR] == peyes.constants.IMAGE_STR]\n",
    "\n",
    "# extract single-trial data\n",
    "relevant_trial_ids = (\n",
    "        ~image_dataset.groupby(peyes.constants.TRIAL_ID_STR)['RA'].apply(lambda trl: trl.isnull().all()) &\n",
    "        ~image_dataset.groupby(peyes.constants.TRIAL_ID_STR)['MN'].apply(lambda trl: trl.isnull().all()) &\n",
    "        image_dataset.groupby(peyes.constants.TRIAL_ID_STR)[peyes.constants.STIMULUS_NAME_STR].apply(lambda trl: trl.iloc[0] == STIMULUS_TO_SHOW)\n",
    ")\n",
    "trial_id = relevant_trial_ids[relevant_trial_ids].index[0]\n",
    "trial_data = image_dataset[image_dataset[peyes.constants.TRIAL_ID_STR] == trial_id]\n",
    "\n",
    "# extract gaze data from single-trial\n",
    "pixel_size = trial_data[peyes.constants.PIXEL_SIZE_STR].values[0]\n",
    "viewer_distance = trial_data[peyes.constants.VIEWER_DISTANCE_STR].values[0]\n",
    "t = trial_data[peyes.constants.T].values\n",
    "x = trial_data[peyes.constants.X].values\n",
    "y = trial_data[peyes.constants.Y].values\n",
    "\n",
    "x[(x < 0) | (x >= resolution[0])] = np.nan\n",
    "y[(y < 0) | (y >= resolution[1])] = np.nan\n"
   ],
   "id": "c008c481b8380242",
   "outputs": [],
   "execution_count": 10
  },
  {
   "metadata": {},
   "cell_type": "markdown",
   "source": "**(3)** Labels",
   "id": "b140aea5601df03d"
  },
  {
   "metadata": {
    "ExecuteTime": {
     "end_time": "2024-11-27T13:48:09.699199Z",
     "start_time": "2024-11-27T13:48:07.770807Z"
    }
   },
   "cell_type": "code",
   "source": [
    "labels_df = pd.read_pickle(os.path.join(PROCESSED_DATA_DIR, DATASET_NAME, peyes.constants.LABELS_STR + \".pkl\"))\n",
    "labels_df = labels_df.xs(1, level=peyes.constants.ITERATION_STR, axis=1)            # Only use first iteration\n",
    "labels_df = labels_df.xs(trial_id, level=peyes.constants.TRIAL_ID_STR, axis=1)      # Only use the relevant trial\n",
    "labels_df = labels_df.dropna(how=\"all\", axis=0)                                     # Drop rows with all NaNs\n",
    "\n",
    "labeler_names = u.sort_labelers(labels_df.columns.get_level_values(peyes.constants.LABELER_STR).unique())"
   ],
   "id": "d876fc2784d8ebf",
   "outputs": [],
   "execution_count": 11
  },
  {
   "metadata": {},
   "cell_type": "markdown",
   "source": [
    "### Sub-Plots\n",
    "**Generate the figure's subplots separately**"
   ],
   "id": "6f12ae8665182c27"
  },
  {
   "metadata": {},
   "cell_type": "markdown",
   "source": "#### TOP: Gaze Trajectory",
   "id": "270989a9308f0e17"
  },
  {
   "metadata": {
    "ExecuteTime": {
     "end_time": "2024-11-27T13:48:19.998616Z",
     "start_time": "2024-11-27T13:48:09.783030Z"
    }
   },
   "cell_type": "code",
   "source": [
    "top_fig = peyes.visualize.gaze_trajectory(\n",
    "    x=x, y=y, resolution=resolution, title=\"Gaze Trajectory\",\n",
    "    bg_image=img, bg_image_format='rgb', bg_alpha=0.5, marker_alpha=1,\n",
    "    t=t, colorscale='Jet'\n",
    ")\n",
    "top_fig.update_layout(\n",
    "    title=None,\n",
    ")\n",
    "\n",
    "# change colorbar title size\n",
    "top_fig.data[-1]['marker']['colorbar']['title']['font']['size'] = 12\n",
    "\n",
    "top_fig.show()"
   ],
   "id": "5b9c94aa588342ff",
   "outputs": [],
   "execution_count": 12
  },
  {
   "metadata": {},
   "cell_type": "markdown",
   "source": "#### MIDDLE: Gaze Pixels vs. Time",
   "id": "2d45223db4c08837"
  },
  {
   "metadata": {
    "ExecuteTime": {
     "end_time": "2024-11-27T13:48:20.428490Z",
     "start_time": "2024-11-27T13:48:20.082762Z"
    }
   },
   "cell_type": "code",
   "source": [
    "middle_fig = peyes.visualize.gaze_over_time(\n",
    "    x=x, y=y, t=t, resolution=resolution, title=\"Gaze Over Time\",\n",
    "    v=peyes._utils.pixel_utils.calculate_velocities(x, y, t), v_measure='px/s'\n",
    ")\n",
    "\n",
    "middle_fig.update_layout(\n",
    "    paper_bgcolor='rgba(0, 0, 0, 0)',\n",
    "    plot_bgcolor='rgba(0, 0, 0, 0)',\n",
    "    height=top_fig.layout.height // 2,\n",
    "    width=top_fig.layout.width,\n",
    "    title=None,\n",
    "    legend=dict(\n",
    "        font=dict(size=10),\n",
    "        orientation='v',\n",
    "        yanchor='top', y=1,\n",
    "        xanchor='left', x=0,\n",
    "    ),\n",
    "    yaxis=dict(\n",
    "        title=dict(text='gaze position (px)', standoff=0),\n",
    "        showgrid=True, zeroline=True, showline=True, rangemode='tozero',\n",
    "    ),\n",
    "    yaxis2=dict(\n",
    "        title=dict(text='gaze velocity (px/s)', standoff=0),\n",
    "        showgrid=False, zeroline=False, showline=True, rangemode='tozero',\n",
    "    ),\n",
    "    xaxis=dict(\n",
    "        showgrid=False, showline=True, zeroline=False,\n",
    "        range=[-(t.max() - t.min()) / 200, t.max() + (t.max() - t.min()) / 200]\n",
    "    ),\n",
    ")\n",
    "\n",
    "middle_fig.show()"
   ],
   "id": "8b1ad532eb9ed79",
   "outputs": [],
   "execution_count": 13
  },
  {
   "metadata": {},
   "cell_type": "markdown",
   "source": "#### BOTTOM: Detector Scarfplots",
   "id": "154244bdf7c7e1e4"
  },
  {
   "metadata": {
    "ExecuteTime": {
     "end_time": "2024-11-27T13:48:20.937173Z",
     "start_time": "2024-11-27T13:48:20.508966Z"
    }
   },
   "cell_type": "code",
   "source": [
    "bottom_fig = peyes.visualize.scarfplot_comparison_figure(\n",
    "    t,\n",
    "    *[labels_df[labeler_name] for labeler_name in labeler_names],\n",
    "    names=labeler_names,\n",
    ")\n",
    "bottom_fig.update_layout(\n",
    "    paper_bgcolor='rgba(0, 0, 0, 0)',\n",
    "    plot_bgcolor='rgba(0, 0, 0, 0)',\n",
    "    height=top_fig.layout.height // 2,\n",
    "    width=top_fig.layout.width,\n",
    "    title=None,\n",
    ")\n",
    "\n",
    "bottom_fig.show()"
   ],
   "id": "409c6f97bf52f6c0",
   "outputs": [],
   "execution_count": 14
  },
  {
   "metadata": {
    "ExecuteTime": {
     "end_time": "2024-11-27T13:48:21.024013Z",
     "start_time": "2024-11-27T13:48:21.022012Z"
    }
   },
   "cell_type": "code",
   "source": "",
   "id": "6785105163b2c4dd",
   "outputs": [],
   "execution_count": null
  }
 ],
 "metadata": {
  "kernelspec": {
   "display_name": "Python 3",
   "language": "python",
   "name": "python3"
  },
  "language_info": {
   "codemirror_mode": {
    "name": "ipython",
    "version": 2
   },
   "file_extension": ".py",
   "mimetype": "text/x-python",
   "name": "python",
   "nbconvert_exporter": "python",
   "pygments_lexer": "ipython2",
   "version": "2.7.6"
  }
 },
 "nbformat": 4,
 "nbformat_minor": 5
}
